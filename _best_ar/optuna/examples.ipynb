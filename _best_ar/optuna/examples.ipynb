{
 "cells": [
  {
   "cell_type": "code",
   "execution_count": 27,
   "metadata": {},
   "outputs": [
    {
     "name": "stdout",
     "output_type": "stream",
     "text": [
      "device: cuda\n"
     ]
    },
    {
     "data": {
      "text/plain": [
       "('2.0.0+cu117', '3.1.1')"
      ]
     },
     "execution_count": 27,
     "metadata": {},
     "output_type": "execute_result"
    }
   ],
   "source": [
    "import pandas as pd\n",
    "import torch\n",
    "import numpy as np\n",
    "device = 'cpu'\n",
    "if torch.cuda.is_available():\n",
    "    torch.cuda.init()\n",
    "    if torch.cuda.is_initialized():\n",
    "        device = 'cuda'\n",
    "device = torch.device(device)\n",
    "print(f'device: {device}')\n",
    "\n",
    "import optuna \n",
    "\n",
    "torch.__version__, optuna.__version__, "
   ]
  },
  {
   "attachments": {},
   "cell_type": "markdown",
   "metadata": {},
   "source": [
    "### Example 1"
   ]
  },
  {
   "cell_type": "code",
   "execution_count": 28,
   "metadata": {},
   "outputs": [
    {
     "name": "stderr",
     "output_type": "stream",
     "text": [
      "\u001b[32m[I 2023-04-21 09:59:38,748]\u001b[0m A new study created in memory with name: no-name-bee14072-593f-4072-a1d2-41282f128ffe\u001b[0m\n",
      "\u001b[32m[I 2023-04-21 09:59:38,750]\u001b[0m Trial 0 finished with value: 52.76917558541202 and parameters: {'x': -5.264239504959347}. Best is trial 0 with value: 52.76917558541202.\u001b[0m\n",
      "\u001b[32m[I 2023-04-21 09:59:38,750]\u001b[0m Trial 1 finished with value: 0.09069408736362942 and parameters: {'x': 1.6988454095258891}. Best is trial 1 with value: 0.09069408736362942.\u001b[0m\n",
      "\u001b[32m[I 2023-04-21 09:59:38,751]\u001b[0m Trial 2 finished with value: 91.12293333897577 and parameters: {'x': -7.54583329725466}. Best is trial 1 with value: 0.09069408736362942.\u001b[0m\n",
      "\u001b[32m[I 2023-04-21 09:59:38,751]\u001b[0m Trial 3 finished with value: 96.34381382715746 and parameters: {'x': -7.815488466049841}. Best is trial 1 with value: 0.09069408736362942.\u001b[0m\n",
      "\u001b[32m[I 2023-04-21 09:59:38,751]\u001b[0m Trial 4 finished with value: 102.58353226376367 and parameters: {'x': -8.128352889970001}. Best is trial 1 with value: 0.09069408736362942.\u001b[0m\n",
      "\u001b[32m[I 2023-04-21 09:59:38,752]\u001b[0m Trial 5 finished with value: 13.190599164627947 and parameters: {'x': -1.6318864470999017}. Best is trial 1 with value: 0.09069408736362942.\u001b[0m\n",
      "\u001b[32m[I 2023-04-21 09:59:38,752]\u001b[0m Trial 6 finished with value: 136.1554200342181 and parameters: {'x': -9.6685654659953}. Best is trial 1 with value: 0.09069408736362942.\u001b[0m\n",
      "\u001b[32m[I 2023-04-21 09:59:38,753]\u001b[0m Trial 7 finished with value: 6.6905744793208735 and parameters: {'x': 4.586614482160199}. Best is trial 1 with value: 0.09069408736362942.\u001b[0m\n",
      "\u001b[32m[I 2023-04-21 09:59:38,753]\u001b[0m Trial 8 finished with value: 82.14076707538278 and parameters: {'x': -7.063154366741349}. Best is trial 1 with value: 0.09069408736362942.\u001b[0m\n",
      "\u001b[32m[I 2023-04-21 09:59:38,754]\u001b[0m Trial 9 finished with value: 114.82928171265759 and parameters: {'x': -8.715842557291404}. Best is trial 1 with value: 0.09069408736362942.\u001b[0m\n"
     ]
    }
   ],
   "source": [
    "\n",
    "def objective(trial):\n",
    "    x=trial.suggest_float(\"x\", -10, 10)\n",
    "    return(x-2)**2\n",
    "\n",
    "study = optuna.create_study()\n",
    "study.optimize(objective, n_trials=10)"
   ]
  },
  {
   "cell_type": "code",
   "execution_count": 29,
   "metadata": {},
   "outputs": [
    {
     "data": {
      "text/plain": [
       "{'x': 1.6988454095258891}"
      ]
     },
     "execution_count": 29,
     "metadata": {},
     "output_type": "execute_result"
    }
   ],
   "source": [
    "study.best_params"
   ]
  },
  {
   "attachments": {},
   "cell_type": "markdown",
   "metadata": {},
   "source": [
    "## Example 2: Pytorch"
   ]
  },
  {
   "cell_type": "code",
   "execution_count": 30,
   "metadata": {},
   "outputs": [],
   "source": [
    "import os\n",
    "\n",
    "import optuna\n",
    "from optuna.trial import TrialState\n",
    "import torch\n",
    "import torch.nn as nn\n",
    "import torch.nn.functional as F\n",
    "import torch.optim as optim\n",
    "import torch.utils.data\n",
    "from torchvision import datasets\n",
    "from torchvision import transforms\n",
    "\n",
    "\n",
    "DEVICE = torch.device(\"cpu\")\n",
    "BATCHSIZE = 128\n",
    "CLASSES = 10\n",
    "DIR = os.getcwd()\n",
    "EPOCHS = 10\n",
    "N_TRAIN_EXAMPLES = BATCHSIZE * 30\n",
    "N_VALID_EXAMPLES = BATCHSIZE * 10\n",
    "\n",
    "\n",
    "def define_model(trial):\n",
    "    # We optimize the number of layers, hidden units and dropout ratio in each layer.\n",
    "    n_layers = trial.suggest_int(\"n_layers\", 1, 3)\n",
    "    layers = []\n",
    "\n",
    "    in_features = 28 * 28\n",
    "    for i in range(n_layers):\n",
    "        out_features = trial.suggest_int(\"n_units_l{}\".format(i), 4, 128)\n",
    "        layers.append(nn.Linear(in_features, out_features))\n",
    "        layers.append(nn.ReLU())\n",
    "        p = trial.suggest_float(\"dropout_l{}\".format(i), 0.2, 0.5)\n",
    "        layers.append(nn.Dropout(p))\n",
    "\n",
    "        in_features = out_features\n",
    "    layers.append(nn.Linear(in_features, CLASSES))\n",
    "    layers.append(nn.LogSoftmax(dim=1))\n",
    "\n",
    "    return nn.Sequential(*layers)\n",
    "\n",
    "\n",
    "def get_mnist():\n",
    "    # Load FashionMNIST dataset.\n",
    "    train_loader = torch.utils.data.DataLoader(\n",
    "        datasets.FashionMNIST(DIR, train=True, download=True, transform=transforms.ToTensor()),\n",
    "        batch_size=BATCHSIZE,\n",
    "        shuffle=True,\n",
    "    )\n",
    "    valid_loader = torch.utils.data.DataLoader(\n",
    "        datasets.FashionMNIST(DIR, train=False, transform=transforms.ToTensor()),\n",
    "        batch_size=BATCHSIZE,\n",
    "        shuffle=True,\n",
    "    )\n",
    "\n",
    "    return train_loader, valid_loader\n",
    "\n",
    "\n",
    "def objective(trial):\n",
    "    # Generate the model.\n",
    "    model = define_model(trial).to(DEVICE)\n",
    "\n",
    "    # Generate the optimizers.\n",
    "    optimizer_name = trial.suggest_categorical(\"optimizer\", [\"Adam\", \"RMSprop\", \"SGD\"])\n",
    "    lr = trial.suggest_float(\"lr\", 1e-5, 1e-1, log=True)\n",
    "    optimizer = getattr(optim, optimizer_name)(model.parameters(), lr=lr)\n",
    "\n",
    "    # Get the FashionMNIST dataset.\n",
    "    train_loader, valid_loader = get_mnist()\n",
    "\n",
    "    # Training of the model.\n",
    "    for epoch in range(EPOCHS):\n",
    "        model.train()\n",
    "        for batch_idx, (data, target) in enumerate(train_loader):\n",
    "            # Limiting training data for faster epochs.\n",
    "            if batch_idx * BATCHSIZE >= N_TRAIN_EXAMPLES:\n",
    "                break\n",
    "\n",
    "            data, target = data.view(data.size(0), -1).to(DEVICE), target.to(DEVICE)\n",
    "\n",
    "            optimizer.zero_grad()\n",
    "            output = model(data)\n",
    "            loss = F.nll_loss(output, target)\n",
    "            loss.backward()\n",
    "            optimizer.step()\n",
    "\n",
    "        # Validation of the model.\n",
    "        model.eval()\n",
    "        correct = 0\n",
    "        with torch.no_grad():\n",
    "            for batch_idx, (data, target) in enumerate(valid_loader):\n",
    "                # Limiting validation data.\n",
    "                if batch_idx * BATCHSIZE >= N_VALID_EXAMPLES:\n",
    "                    break\n",
    "                data, target = data.view(data.size(0), -1).to(DEVICE), target.to(DEVICE)\n",
    "                output = model(data)\n",
    "                # Get the index of the max log-probability.\n",
    "                pred = output.argmax(dim=1, keepdim=True)\n",
    "                correct += pred.eq(target.view_as(pred)).sum().item()\n",
    "\n",
    "        accuracy = correct / min(len(valid_loader.dataset), N_VALID_EXAMPLES)\n",
    "\n",
    "        trial.report(accuracy, epoch)\n",
    "\n",
    "        # Handle pruning based on the intermediate value.\n",
    "        if trial.should_prune():\n",
    "            raise optuna.exceptions.TrialPruned()\n",
    "\n",
    "    return accuracy"
   ]
  },
  {
   "cell_type": "code",
   "execution_count": 31,
   "metadata": {},
   "outputs": [
    {
     "name": "stderr",
     "output_type": "stream",
     "text": [
      "\u001b[32m[I 2023-04-21 09:59:38,938]\u001b[0m A new study created in memory with name: no-name-97431e82-07b6-4f77-835c-bf590b7bc79f\u001b[0m\n",
      "\u001b[32m[I 2023-04-21 09:59:40,325]\u001b[0m Trial 0 finished with value: 0.1046875 and parameters: {'n_layers': 1, 'n_units_l0': 6, 'dropout_l0': 0.48239474600407456, 'optimizer': 'RMSprop', 'lr': 0.08176711629463074}. Best is trial 0 with value: 0.1046875.\u001b[0m\n",
      "\u001b[32m[I 2023-04-21 09:59:41,829]\u001b[0m Trial 1 finished with value: 0.0890625 and parameters: {'n_layers': 3, 'n_units_l0': 55, 'dropout_l0': 0.20138097895267937, 'n_units_l1': 22, 'dropout_l1': 0.31840509909574577, 'n_units_l2': 99, 'dropout_l2': 0.44775201306546475, 'optimizer': 'RMSprop', 'lr': 0.02257857188110478}. Best is trial 0 with value: 0.1046875.\u001b[0m\n",
      "\u001b[32m[I 2023-04-21 09:59:43,263]\u001b[0m Trial 2 finished with value: 0.7640625 and parameters: {'n_layers': 2, 'n_units_l0': 26, 'dropout_l0': 0.4182474431181499, 'n_units_l1': 39, 'dropout_l1': 0.21643871827422392, 'optimizer': 'RMSprop', 'lr': 0.0031521974811311733}. Best is trial 2 with value: 0.7640625.\u001b[0m\n",
      "\u001b[32m[I 2023-04-21 09:59:44,690]\u001b[0m Trial 3 finished with value: 0.5234375 and parameters: {'n_layers': 2, 'n_units_l0': 9, 'dropout_l0': 0.26718268443741877, 'n_units_l1': 107, 'dropout_l1': 0.3956793551406479, 'optimizer': 'SGD', 'lr': 0.01212904372177145}. Best is trial 2 with value: 0.7640625.\u001b[0m\n"
     ]
    }
   ],
   "source": [
    "study = optuna.create_study(direction=\"maximize\")\n",
    "study.optimize(objective, n_trials=100, timeout=600)"
   ]
  },
  {
   "cell_type": "code",
   "execution_count": null,
   "metadata": {},
   "outputs": [
    {
     "name": "stdout",
     "output_type": "stream",
     "text": [
      "Study statistics: \n",
      "  Number of finished trials:  100\n",
      "  Number of pruned trials:  55\n",
      "  Number of complete trials:  45\n",
      "Best trial:\n",
      "  Value:  0.8484375\n",
      "  Params: \n",
      "    n_layers: 1\n",
      "    n_units_l0: 110\n",
      "    dropout_l0: 0.2377032125548892\n",
      "    optimizer: Adam\n",
      "    lr: 0.0036065782838494835\n"
     ]
    }
   ],
   "source": [
    "pruned_trials = study.get_trials(deepcopy=False, states=[TrialState.PRUNED])\n",
    "complete_trials = study.get_trials(deepcopy=False, states=[TrialState.COMPLETE])\n",
    "\n",
    "print(\"Study statistics: \")\n",
    "print(\"  Number of finished trials: \", len(study.trials))\n",
    "print(\"  Number of pruned trials: \", len(pruned_trials))\n",
    "print(\"  Number of complete trials: \", len(complete_trials))\n",
    "\n",
    "print(\"Best trial:\")\n",
    "trial = study.best_trial\n",
    "\n",
    "print(\"  Value: \", trial.value)\n",
    "\n",
    "print(\"  Params: \")\n",
    "for key, value in trial.params.items():\n",
    "    print(\"    {}: {}\".format(key, value))"
   ]
  },
  {
   "attachments": {},
   "cell_type": "markdown",
   "metadata": {},
   "source": [
    "## Multi-objective example"
   ]
  },
  {
   "cell_type": "code",
   "execution_count": 1,
   "metadata": {},
   "outputs": [
    {
     "name": "stdout",
     "output_type": "stream",
     "text": [
      "device: cuda\n",
      "optuna version: 3.1.1 torch version: 2.0.0+cu117\n"
     ]
    }
   ],
   "source": [
    "import pandas as pd\n",
    "import torch\n",
    "import numpy as np\n",
    "\n",
    "import torchvision\n",
    "device = 'cpu'\n",
    "if torch.cuda.is_available():\n",
    "    torch.cuda.init()\n",
    "    if torch.cuda.is_initialized():\n",
    "        device = 'cuda'\n",
    "device = torch.device(device)\n",
    "print(f'device: {device}')\n",
    "\n",
    "import optuna \n",
    "print(\n",
    "    f'optuna version: {optuna.__version__}',\n",
    "    f'torch version: {torch.__version__}')\n",
    "\n",
    "DEVICE = device\n",
    "DIR = \"..\"\n",
    "BATCHSIZE = 128\n",
    "N_TRAIN_EXAMPLES = BATCHSIZE * 30\n",
    "N_VALID_EXAMPLES = BATCHSIZE * 10\n"
   ]
  },
  {
   "cell_type": "code",
   "execution_count": 3,
   "metadata": {},
   "outputs": [],
   "source": [
    "\n",
    "\n",
    "def define_model(trial):\n",
    "    n_layers = trial.suggest_int(\"n_layers\", 1, 3)\n",
    "    layers = []\n",
    "\n",
    "    in_features = 28 * 28\n",
    "    for i in range(n_layers):\n",
    "        out_features = trial.suggest_int(\"n_units_l{}\".format(i), 4, 128)\n",
    "        layers.append(nn.Linear(in_features, out_features))\n",
    "        layers.append(nn.ReLU())\n",
    "        p = trial.suggest_float(\"dropout_{}\".format(i), 0.2, 0.5)\n",
    "        layers.append(nn.Dropout(p))\n",
    "\n",
    "        in_features = out_features\n",
    "\n",
    "    layers.append(nn.Linear(in_features, 10))\n",
    "    layers.append(nn.LogSoftmax(dim=1))\n",
    "\n",
    "    return nn.Sequential(*layers)\n",
    "\n",
    "\n",
    "# Defines training and evaluation.\n",
    "def train_model(model, optimizer, train_loader):\n",
    "    model.train()\n",
    "    for batch_idx, (data, target) in enumerate(train_loader):\n",
    "        data, target = data.view(-1, 28 * 28).to(DEVICE), target.to(DEVICE)\n",
    "        optimizer.zero_grad()\n",
    "        F.nll_loss(model(data), target).backward()\n",
    "        optimizer.step()\n",
    "\n",
    "\n",
    "def eval_model(model, valid_loader):\n",
    "    model.eval()\n",
    "    correct = 0\n",
    "    with torch.no_grad():\n",
    "        for batch_idx, (data, target) in enumerate(valid_loader):\n",
    "            data, target = data.view(-1, 28 * 28).to(DEVICE), target.to(DEVICE)\n",
    "            pred = model(data).argmax(dim=1, keepdim=True)\n",
    "            correct += pred.eq(target.view_as(pred)).sum().item()\n",
    "\n",
    "    accuracy = correct / N_VALID_EXAMPLES\n",
    "\n",
    "    flops = FlopCountAnalysis(model, inputs=(torch.randn(1, 28 * 28).to(DEVICE),)).total()\n",
    "    return flops, accuracy\n",
    "\n",
    "\n",
    "def objective(trial):\n",
    "    train_dataset = torchvision.datasets.FashionMNIST(\n",
    "        DIR, train=True, download=True, transform=torchvision.transforms.ToTensor()\n",
    "    )\n",
    "    train_loader = torch.utils.data.DataLoader(\n",
    "        torch.utils.data.Subset(train_dataset, list(range(N_TRAIN_EXAMPLES))),\n",
    "        batch_size=BATCHSIZE,\n",
    "        shuffle=True,\n",
    "    )\n",
    "\n",
    "    val_dataset = torchvision.datasets.FashionMNIST(\n",
    "        DIR, train=False, transform=torchvision.transforms.ToTensor()\n",
    "    )\n",
    "    val_loader = torch.utils.data.DataLoader(\n",
    "        torch.utils.data.Subset(val_dataset, list(range(N_VALID_EXAMPLES))),\n",
    "        batch_size=BATCHSIZE,\n",
    "        shuffle=True,\n",
    "    )\n",
    "    model = define_model(trial).to(DEVICE)\n",
    "\n",
    "    optimizer = torch.optim.Adam(\n",
    "        model.parameters(), trial.suggest_float(\"lr\", 1e-5, 1e-1, log=True)\n",
    "    )\n",
    "\n",
    "    for epoch in range(10):\n",
    "        train_model(model, optimizer, train_loader)\n",
    "    flops, accuracy = eval_model(model, val_loader)\n",
    "    return flops, accuracy"
   ]
  },
  {
   "cell_type": "code",
   "execution_count": 4,
   "metadata": {},
   "outputs": [
    {
     "name": "stderr",
     "output_type": "stream",
     "text": [
      "\u001b[32m[I 2023-04-21 10:05:16,338]\u001b[0m A new study created in memory with name: no-name-6730eaf6-8b97-449d-a393-2003b4d39910\u001b[0m\n",
      "Unsupported operator aten::log_softmax encountered 1 time(s)\n",
      "\u001b[32m[I 2023-04-21 10:05:18,378]\u001b[0m Trial 0 finished with values: [61932.0, 0.57578125] and parameters: {'n_layers': 1, 'n_units_l0': 78, 'dropout_0': 0.2526197351991986, 'lr': 2.0120591778279165e-05}. \u001b[0m\n",
      "Unsupported operator aten::log_softmax encountered 1 time(s)\n",
      "\u001b[32m[I 2023-04-21 10:05:19,512]\u001b[0m Trial 1 finished with values: [8084.0, 0.33828125] and parameters: {'n_layers': 3, 'n_units_l0': 7, 'dropout_0': 0.3785759591533602, 'n_units_l1': 33, 'dropout_1': 0.4955383842440339, 'n_units_l2': 55, 'dropout_2': 0.48568359261706273, 'lr': 0.00019063266471821508}. \u001b[0m\n",
      "Unsupported operator aten::log_softmax encountered 1 time(s)\n",
      "\u001b[32m[I 2023-04-21 10:05:20,623]\u001b[0m Trial 2 finished with values: [64056.0, 0.68828125] and parameters: {'n_layers': 2, 'n_units_l0': 76, 'dropout_0': 0.30471176138592204, 'n_units_l1': 52, 'dropout_1': 0.2535140122516502, 'lr': 0.0002065860553635585}. \u001b[0m\n",
      "Unsupported operator aten::log_softmax encountered 1 time(s)\n",
      "\u001b[32m[I 2023-04-21 10:05:21,693]\u001b[0m Trial 3 finished with values: [34936.0, 0.48203125] and parameters: {'n_layers': 1, 'n_units_l0': 44, 'dropout_0': 0.41456719546566945, 'lr': 1.4075038546067156e-05}. \u001b[0m\n",
      "Unsupported operator aten::log_softmax encountered 1 time(s)\n",
      "\u001b[32m[I 2023-04-21 10:05:22,825]\u001b[0m Trial 4 finished with values: [36204.0, 0.18828125] and parameters: {'n_layers': 2, 'n_units_l0': 42, 'dropout_0': 0.3159476670563844, 'n_units_l1': 63, 'dropout_1': 0.25762630052447405, 'lr': 1.0811554383047617e-05}. \u001b[0m\n",
      "Unsupported operator aten::log_softmax encountered 1 time(s)\n",
      "\u001b[32m[I 2023-04-21 10:05:23,912]\u001b[0m Trial 5 finished with values: [51610.0, 0.82890625] and parameters: {'n_layers': 1, 'n_units_l0': 65, 'dropout_0': 0.3114324540253726, 'lr': 0.001957666258462278}. \u001b[0m\n",
      "Unsupported operator aten::log_softmax encountered 1 time(s)\n",
      "\u001b[32m[I 2023-04-21 10:05:25,033]\u001b[0m Trial 6 finished with values: [24450.0, 0.09296875] and parameters: {'n_layers': 3, 'n_units_l0': 12, 'dropout_0': 0.27980672919734717, 'n_units_l1': 123, 'dropout_1': 0.31716551113952124, 'n_units_l2': 102, 'dropout_2': 0.358156216119918, 'lr': 0.048747887019437615}. \u001b[0m\n",
      "Unsupported operator aten::log_softmax encountered 1 time(s)\n",
      "\u001b[32m[I 2023-04-21 10:05:26,106]\u001b[0m Trial 7 finished with values: [34936.0, 0.79765625] and parameters: {'n_layers': 1, 'n_units_l0': 44, 'dropout_0': 0.40946051958438, 'lr': 0.0010847562297571385}. \u001b[0m\n",
      "Unsupported operator aten::log_softmax encountered 1 time(s)\n",
      "\u001b[32m[I 2023-04-21 10:05:27,201]\u001b[0m Trial 8 finished with values: [40166.0, 0.434375] and parameters: {'n_layers': 2, 'n_units_l0': 44, 'dropout_0': 0.29321881070273326, 'n_units_l1': 105, 'dropout_1': 0.2792416603620471, 'lr': 1.7202020678000144e-05}. \u001b[0m\n",
      "Unsupported operator aten::log_softmax encountered 1 time(s)\n",
      "\u001b[32m[I 2023-04-21 10:05:28,325]\u001b[0m Trial 9 finished with values: [18714.0, 0.1015625] and parameters: {'n_layers': 3, 'n_units_l0': 6, 'dropout_0': 0.28168238963214276, 'n_units_l1': 124, 'dropout_1': 0.36199030725879966, 'n_units_l2': 99, 'dropout_2': 0.4110218973388759, 'lr': 0.03288993134458624}. \u001b[0m\n",
      "Unsupported operator aten::log_softmax encountered 1 time(s)\n",
      "\u001b[32m[I 2023-04-21 10:05:29,402]\u001b[0m Trial 10 finished with values: [13498.0, 0.6734375] and parameters: {'n_layers': 1, 'n_units_l0': 17, 'dropout_0': 0.2553509884286787, 'lr': 0.0003174405125426778}. \u001b[0m\n",
      "Unsupported operator aten::log_softmax encountered 1 time(s)\n",
      "\u001b[32m[I 2023-04-21 10:05:30,497]\u001b[0m Trial 11 finished with values: [97662.0, 0.53515625] and parameters: {'n_layers': 1, 'n_units_l0': 123, 'dropout_0': 0.30170609260285475, 'lr': 1.5015231080941611e-05}. \u001b[0m\n",
      "Unsupported operator aten::log_softmax encountered 1 time(s)\n",
      "\u001b[32m[I 2023-04-21 10:05:31,602]\u001b[0m Trial 12 finished with values: [100329.0, 0.54921875] and parameters: {'n_layers': 3, 'n_units_l0': 126, 'dropout_0': 0.3454673023061299, 'n_units_l1': 5, 'dropout_1': 0.2948174304613119, 'n_units_l2': 61, 'dropout_2': 0.4482055646109892, 'lr': 0.004015996500234502}. \u001b[0m\n",
      "Unsupported operator aten::log_softmax encountered 1 time(s)\n",
      "\u001b[32m[I 2023-04-21 10:05:32,703]\u001b[0m Trial 13 finished with values: [67360.0, 0.64375] and parameters: {'n_layers': 2, 'n_units_l0': 84, 'dropout_0': 0.3999068676376186, 'n_units_l1': 16, 'dropout_1': 0.2714680747718995, 'lr': 0.00016852941088863816}. \u001b[0m\n",
      "Unsupported operator aten::log_softmax encountered 1 time(s)\n",
      "\u001b[32m[I 2023-04-21 10:05:33,842]\u001b[0m Trial 14 finished with values: [113417.0, 0.6234375] and parameters: {'n_layers': 3, 'n_units_l0': 106, 'dropout_0': 0.4322023738766375, 'n_units_l1': 127, 'dropout_1': 0.4112139904861182, 'n_units_l2': 123, 'dropout_2': 0.25830166467246546, 'lr': 0.030990203773709268}. \u001b[0m\n",
      "Unsupported operator aten::log_softmax encountered 1 time(s)\n",
      "\u001b[32m[I 2023-04-21 10:05:34,983]\u001b[0m Trial 15 finished with values: [28286.0, 0.1015625] and parameters: {'n_layers': 3, 'n_units_l0': 26, 'dropout_0': 0.3746813727451017, 'n_units_l1': 67, 'dropout_1': 0.3315043381647772, 'n_units_l2': 80, 'dropout_2': 0.35570048931576037, 'lr': 0.051405179623126504}. \u001b[0m\n",
      "Unsupported operator aten::log_softmax encountered 1 time(s)\n",
      "\u001b[32m[I 2023-04-21 10:05:36,077]\u001b[0m Trial 16 finished with values: [7940.0, 0.35] and parameters: {'n_layers': 1, 'n_units_l0': 10, 'dropout_0': 0.35166566575652447, 'lr': 0.03887464752690558}. \u001b[0m\n",
      "Unsupported operator aten::log_softmax encountered 1 time(s)\n",
      "\u001b[32m[I 2023-04-21 10:05:37,204]\u001b[0m Trial 17 finished with values: [55008.0, 0.71171875] and parameters: {'n_layers': 3, 'n_units_l0': 64, 'dropout_0': 0.34980368184887467, 'n_units_l1': 22, 'dropout_1': 0.47730296005507766, 'n_units_l2': 107, 'dropout_2': 0.23951273464958733, 'lr': 0.006656827287898548}. \u001b[0m\n",
      "Unsupported operator aten::log_softmax encountered 1 time(s)\n",
      "\u001b[32m[I 2023-04-21 10:05:38,275]\u001b[0m Trial 18 finished with values: [61496.0, 0.82734375] and parameters: {'n_layers': 2, 'n_units_l0': 71, 'dropout_0': 0.3439228254989145, 'n_units_l1': 72, 'dropout_1': 0.2059074964399074, 'lr': 0.0054599805418260984}. \u001b[0m\n",
      "Unsupported operator aten::log_softmax encountered 1 time(s)\n",
      "\u001b[32m[I 2023-04-21 10:05:39,373]\u001b[0m Trial 19 finished with values: [34936.0, 0.58828125] and parameters: {'n_layers': 1, 'n_units_l0': 44, 'dropout_0': 0.4363347439254337, 'lr': 4.3469296412542345e-05}. \u001b[0m\n",
      "Unsupported operator aten::log_softmax encountered 1 time(s)\n",
      "\u001b[32m[I 2023-04-21 10:05:40,513]\u001b[0m Trial 20 finished with values: [14278.0, 0.625] and parameters: {'n_layers': 3, 'n_units_l0': 15, 'dropout_0': 0.36570878801850126, 'n_units_l1': 36, 'dropout_1': 0.34631974828001455, 'n_units_l2': 43, 'dropout_2': 0.2114655339415243, 'lr': 0.009804733458540039}. \u001b[0m\n",
      "Unsupported operator aten::log_softmax encountered 1 time(s)\n",
      "\u001b[32m[I 2023-04-21 10:05:41,587]\u001b[0m Trial 21 finished with values: [14292.0, 0.76328125] and parameters: {'n_layers': 1, 'n_units_l0': 18, 'dropout_0': 0.3339418249555709, 'lr': 0.01520395994916035}. \u001b[0m\n",
      "Unsupported operator aten::log_softmax encountered 1 time(s)\n",
      "\u001b[32m[I 2023-04-21 10:05:42,663]\u001b[0m Trial 22 finished with values: [83109.0, 0.81875] and parameters: {'n_layers': 2, 'n_units_l0': 93, 'dropout_0': 0.38716411161723013, 'n_units_l1': 99, 'dropout_1': 0.499225431326488, 'lr': 0.0017887270410724243}. \u001b[0m\n",
      "Unsupported operator aten::log_softmax encountered 1 time(s)\n",
      "\u001b[32m[I 2023-04-21 10:05:43,773]\u001b[0m Trial 23 finished with values: [124280.0, 0.59453125] and parameters: {'n_layers': 3, 'n_units_l0': 123, 'dropout_0': 0.2476670703169607, 'n_units_l1': 124, 'dropout_1': 0.20654984963643747, 'n_units_l2': 94, 'dropout_2': 0.3531529090441199, 'lr': 5.0851750175744174e-05}. \u001b[0m\n",
      "Unsupported operator aten::log_softmax encountered 1 time(s)\n",
      "\u001b[32m[I 2023-04-21 10:05:44,856]\u001b[0m Trial 24 finished with values: [5558.0, 0.43359375] and parameters: {'n_layers': 1, 'n_units_l0': 7, 'dropout_0': 0.45296564502365405, 'lr': 8.56229528142881e-05}. \u001b[0m\n",
      "Unsupported operator aten::log_softmax encountered 1 time(s)\n",
      "\u001b[32m[I 2023-04-21 10:05:46,023]\u001b[0m Trial 25 finished with values: [93609.0, 0.6984375] and parameters: {'n_layers': 3, 'n_units_l0': 104, 'dropout_0': 0.40905254333779656, 'n_units_l1': 83, 'dropout_1': 0.20891987188063516, 'n_units_l2': 37, 'dropout_2': 0.36011755453243055, 'lr': 0.00028597064297257603}. \u001b[0m\n",
      "Unsupported operator aten::log_softmax encountered 1 time(s)\n",
      "\u001b[32m[I 2023-04-21 10:05:47,152]\u001b[0m Trial 26 finished with values: [55874.0, 0.8203125] and parameters: {'n_layers': 2, 'n_units_l0': 64, 'dropout_0': 0.40704328895505115, 'n_units_l1': 77, 'dropout_1': 0.34390512853424565, 'lr': 0.003004459823128333}. \u001b[0m\n",
      "Unsupported operator aten::log_softmax encountered 1 time(s)\n",
      "\u001b[32m[I 2023-04-21 10:05:48,273]\u001b[0m Trial 27 finished with values: [76929.0, 0.6765625] and parameters: {'n_layers': 2, 'n_units_l0': 93, 'dropout_0': 0.38809105416191436, 'n_units_l1': 39, 'dropout_1': 0.42734072589490524, 'lr': 0.00022353649639624936}. \u001b[0m\n",
      "Unsupported operator aten::log_softmax encountered 1 time(s)\n",
      "\u001b[32m[I 2023-04-21 10:05:49,420]\u001b[0m Trial 28 finished with values: [40835.0, 0.49453125] and parameters: {'n_layers': 2, 'n_units_l0': 49, 'dropout_0': 0.3624367665951278, 'n_units_l1': 41, 'dropout_1': 0.44272618213106507, 'lr': 0.06615931445225966}. \u001b[0m\n",
      "Unsupported operator aten::log_softmax encountered 1 time(s)\n",
      "\u001b[32m[I 2023-04-21 10:05:50,533]\u001b[0m Trial 29 finished with values: [16172.0, 0.646875] and parameters: {'n_layers': 2, 'n_units_l0': 19, 'dropout_0': 0.33843026304030854, 'n_units_l1': 44, 'dropout_1': 0.30813206620872907, 'lr': 0.00015771825306103355}. \u001b[0m\n"
     ]
    }
   ],
   "source": [
    "import torch\n",
    "import torch.nn as nn\n",
    "import torch.nn.functional as F\n",
    "import torchvision\n",
    "from fvcore.nn import FlopCountAnalysis\n",
    "\n",
    "import optuna\n",
    "\n",
    "study = optuna.create_study(directions=[\"minimize\", \"maximize\"])\n",
    "study.optimize(objective, n_trials=30, timeout=300)\n",
    "\n"
   ]
  },
  {
   "cell_type": "code",
   "execution_count": 6,
   "metadata": {},
   "outputs": [
    {
     "data": {
      "application/vnd.plotly.v1+json": {
       "config": {
        "plotlyServerURL": "https://plot.ly"
       },
       "data": [
        {
         "hovertemplate": "%{text}<extra>Trial</extra>",
         "marker": {
          "color": [
           0,
           1,
           2,
           3,
           4,
           6,
           8,
           9,
           11,
           12,
           13,
           14,
           15,
           16,
           17,
           18,
           19,
           20,
           22,
           23,
           25,
           26,
           27,
           28,
           29
          ],
          "colorbar": {
           "title": {
            "text": "Trial"
           }
          },
          "colorscale": [
           [
            0,
            "rgb(247,251,255)"
           ],
           [
            0.125,
            "rgb(222,235,247)"
           ],
           [
            0.25,
            "rgb(198,219,239)"
           ],
           [
            0.375,
            "rgb(158,202,225)"
           ],
           [
            0.5,
            "rgb(107,174,214)"
           ],
           [
            0.625,
            "rgb(66,146,198)"
           ],
           [
            0.75,
            "rgb(33,113,181)"
           ],
           [
            0.875,
            "rgb(8,81,156)"
           ],
           [
            1,
            "rgb(8,48,107)"
           ]
          ],
          "line": {
           "color": "Grey",
           "width": 0.5
          }
         },
         "mode": "markers",
         "showlegend": false,
         "text": [
          "{<br>  \"number\": 0,<br>  \"values\": [<br>    61932.0,<br>    0.57578125<br>  ],<br>  \"params\": {<br>    \"n_layers\": 1,<br>    \"n_units_l0\": 78,<br>    \"dropout_0\": 0.2526197351991986,<br>    \"lr\": 2.0120591778279165e-05<br>  }<br>}",
          "{<br>  \"number\": 1,<br>  \"values\": [<br>    8084.0,<br>    0.33828125<br>  ],<br>  \"params\": {<br>    \"n_layers\": 3,<br>    \"n_units_l0\": 7,<br>    \"dropout_0\": 0.3785759591533602,<br>    \"n_units_l1\": 33,<br>    \"dropout_1\": 0.4955383842440339,<br>    \"n_units_l2\": 55,<br>    \"dropout_2\": 0.48568359261706273,<br>    \"lr\": 0.00019063266471821508<br>  }<br>}",
          "{<br>  \"number\": 2,<br>  \"values\": [<br>    64056.0,<br>    0.68828125<br>  ],<br>  \"params\": {<br>    \"n_layers\": 2,<br>    \"n_units_l0\": 76,<br>    \"dropout_0\": 0.30471176138592204,<br>    \"n_units_l1\": 52,<br>    \"dropout_1\": 0.2535140122516502,<br>    \"lr\": 0.0002065860553635585<br>  }<br>}",
          "{<br>  \"number\": 3,<br>  \"values\": [<br>    34936.0,<br>    0.48203125<br>  ],<br>  \"params\": {<br>    \"n_layers\": 1,<br>    \"n_units_l0\": 44,<br>    \"dropout_0\": 0.41456719546566945,<br>    \"lr\": 1.4075038546067156e-05<br>  }<br>}",
          "{<br>  \"number\": 4,<br>  \"values\": [<br>    36204.0,<br>    0.18828125<br>  ],<br>  \"params\": {<br>    \"n_layers\": 2,<br>    \"n_units_l0\": 42,<br>    \"dropout_0\": 0.3159476670563844,<br>    \"n_units_l1\": 63,<br>    \"dropout_1\": 0.25762630052447405,<br>    \"lr\": 1.0811554383047617e-05<br>  }<br>}",
          "{<br>  \"number\": 6,<br>  \"values\": [<br>    24450.0,<br>    0.09296875<br>  ],<br>  \"params\": {<br>    \"n_layers\": 3,<br>    \"n_units_l0\": 12,<br>    \"dropout_0\": 0.27980672919734717,<br>    \"n_units_l1\": 123,<br>    \"dropout_1\": 0.31716551113952124,<br>    \"n_units_l2\": 102,<br>    \"dropout_2\": 0.358156216119918,<br>    \"lr\": 0.048747887019437615<br>  }<br>}",
          "{<br>  \"number\": 8,<br>  \"values\": [<br>    40166.0,<br>    0.434375<br>  ],<br>  \"params\": {<br>    \"n_layers\": 2,<br>    \"n_units_l0\": 44,<br>    \"dropout_0\": 0.29321881070273326,<br>    \"n_units_l1\": 105,<br>    \"dropout_1\": 0.2792416603620471,<br>    \"lr\": 1.7202020678000144e-05<br>  }<br>}",
          "{<br>  \"number\": 9,<br>  \"values\": [<br>    18714.0,<br>    0.1015625<br>  ],<br>  \"params\": {<br>    \"n_layers\": 3,<br>    \"n_units_l0\": 6,<br>    \"dropout_0\": 0.28168238963214276,<br>    \"n_units_l1\": 124,<br>    \"dropout_1\": 0.36199030725879966,<br>    \"n_units_l2\": 99,<br>    \"dropout_2\": 0.4110218973388759,<br>    \"lr\": 0.03288993134458624<br>  }<br>}",
          "{<br>  \"number\": 11,<br>  \"values\": [<br>    97662.0,<br>    0.53515625<br>  ],<br>  \"params\": {<br>    \"n_layers\": 1,<br>    \"n_units_l0\": 123,<br>    \"dropout_0\": 0.30170609260285475,<br>    \"lr\": 1.5015231080941611e-05<br>  }<br>}",
          "{<br>  \"number\": 12,<br>  \"values\": [<br>    100329.0,<br>    0.54921875<br>  ],<br>  \"params\": {<br>    \"n_layers\": 3,<br>    \"n_units_l0\": 126,<br>    \"dropout_0\": 0.3454673023061299,<br>    \"n_units_l1\": 5,<br>    \"dropout_1\": 0.2948174304613119,<br>    \"n_units_l2\": 61,<br>    \"dropout_2\": 0.4482055646109892,<br>    \"lr\": 0.004015996500234502<br>  }<br>}",
          "{<br>  \"number\": 13,<br>  \"values\": [<br>    67360.0,<br>    0.64375<br>  ],<br>  \"params\": {<br>    \"n_layers\": 2,<br>    \"n_units_l0\": 84,<br>    \"dropout_0\": 0.3999068676376186,<br>    \"n_units_l1\": 16,<br>    \"dropout_1\": 0.2714680747718995,<br>    \"lr\": 0.00016852941088863816<br>  }<br>}",
          "{<br>  \"number\": 14,<br>  \"values\": [<br>    113417.0,<br>    0.6234375<br>  ],<br>  \"params\": {<br>    \"n_layers\": 3,<br>    \"n_units_l0\": 106,<br>    \"dropout_0\": 0.4322023738766375,<br>    \"n_units_l1\": 127,<br>    \"dropout_1\": 0.4112139904861182,<br>    \"n_units_l2\": 123,<br>    \"dropout_2\": 0.25830166467246546,<br>    \"lr\": 0.030990203773709268<br>  }<br>}",
          "{<br>  \"number\": 15,<br>  \"values\": [<br>    28286.0,<br>    0.1015625<br>  ],<br>  \"params\": {<br>    \"n_layers\": 3,<br>    \"n_units_l0\": 26,<br>    \"dropout_0\": 0.3746813727451017,<br>    \"n_units_l1\": 67,<br>    \"dropout_1\": 0.3315043381647772,<br>    \"n_units_l2\": 80,<br>    \"dropout_2\": 0.35570048931576037,<br>    \"lr\": 0.051405179623126504<br>  }<br>}",
          "{<br>  \"number\": 16,<br>  \"values\": [<br>    7940.0,<br>    0.35<br>  ],<br>  \"params\": {<br>    \"n_layers\": 1,<br>    \"n_units_l0\": 10,<br>    \"dropout_0\": 0.35166566575652447,<br>    \"lr\": 0.03887464752690558<br>  }<br>}",
          "{<br>  \"number\": 17,<br>  \"values\": [<br>    55008.0,<br>    0.71171875<br>  ],<br>  \"params\": {<br>    \"n_layers\": 3,<br>    \"n_units_l0\": 64,<br>    \"dropout_0\": 0.34980368184887467,<br>    \"n_units_l1\": 22,<br>    \"dropout_1\": 0.47730296005507766,<br>    \"n_units_l2\": 107,<br>    \"dropout_2\": 0.23951273464958733,<br>    \"lr\": 0.006656827287898548<br>  }<br>}",
          "{<br>  \"number\": 18,<br>  \"values\": [<br>    61496.0,<br>    0.82734375<br>  ],<br>  \"params\": {<br>    \"n_layers\": 2,<br>    \"n_units_l0\": 71,<br>    \"dropout_0\": 0.3439228254989145,<br>    \"n_units_l1\": 72,<br>    \"dropout_1\": 0.2059074964399074,<br>    \"lr\": 0.0054599805418260984<br>  }<br>}",
          "{<br>  \"number\": 19,<br>  \"values\": [<br>    34936.0,<br>    0.58828125<br>  ],<br>  \"params\": {<br>    \"n_layers\": 1,<br>    \"n_units_l0\": 44,<br>    \"dropout_0\": 0.4363347439254337,<br>    \"lr\": 4.3469296412542345e-05<br>  }<br>}",
          "{<br>  \"number\": 20,<br>  \"values\": [<br>    14278.0,<br>    0.625<br>  ],<br>  \"params\": {<br>    \"n_layers\": 3,<br>    \"n_units_l0\": 15,<br>    \"dropout_0\": 0.36570878801850126,<br>    \"n_units_l1\": 36,<br>    \"dropout_1\": 0.34631974828001455,<br>    \"n_units_l2\": 43,<br>    \"dropout_2\": 0.2114655339415243,<br>    \"lr\": 0.009804733458540039<br>  }<br>}",
          "{<br>  \"number\": 22,<br>  \"values\": [<br>    83109.0,<br>    0.81875<br>  ],<br>  \"params\": {<br>    \"n_layers\": 2,<br>    \"n_units_l0\": 93,<br>    \"dropout_0\": 0.38716411161723013,<br>    \"n_units_l1\": 99,<br>    \"dropout_1\": 0.499225431326488,<br>    \"lr\": 0.0017887270410724243<br>  }<br>}",
          "{<br>  \"number\": 23,<br>  \"values\": [<br>    124280.0,<br>    0.59453125<br>  ],<br>  \"params\": {<br>    \"n_layers\": 3,<br>    \"n_units_l0\": 123,<br>    \"dropout_0\": 0.2476670703169607,<br>    \"n_units_l1\": 124,<br>    \"dropout_1\": 0.20654984963643747,<br>    \"n_units_l2\": 94,<br>    \"dropout_2\": 0.3531529090441199,<br>    \"lr\": 5.0851750175744174e-05<br>  }<br>}",
          "{<br>  \"number\": 25,<br>  \"values\": [<br>    93609.0,<br>    0.6984375<br>  ],<br>  \"params\": {<br>    \"n_layers\": 3,<br>    \"n_units_l0\": 104,<br>    \"dropout_0\": 0.40905254333779656,<br>    \"n_units_l1\": 83,<br>    \"dropout_1\": 0.20891987188063516,<br>    \"n_units_l2\": 37,<br>    \"dropout_2\": 0.36011755453243055,<br>    \"lr\": 0.00028597064297257603<br>  }<br>}",
          "{<br>  \"number\": 26,<br>  \"values\": [<br>    55874.0,<br>    0.8203125<br>  ],<br>  \"params\": {<br>    \"n_layers\": 2,<br>    \"n_units_l0\": 64,<br>    \"dropout_0\": 0.40704328895505115,<br>    \"n_units_l1\": 77,<br>    \"dropout_1\": 0.34390512853424565,<br>    \"lr\": 0.003004459823128333<br>  }<br>}",
          "{<br>  \"number\": 27,<br>  \"values\": [<br>    76929.0,<br>    0.6765625<br>  ],<br>  \"params\": {<br>    \"n_layers\": 2,<br>    \"n_units_l0\": 93,<br>    \"dropout_0\": 0.38809105416191436,<br>    \"n_units_l1\": 39,<br>    \"dropout_1\": 0.42734072589490524,<br>    \"lr\": 0.00022353649639624936<br>  }<br>}",
          "{<br>  \"number\": 28,<br>  \"values\": [<br>    40835.0,<br>    0.49453125<br>  ],<br>  \"params\": {<br>    \"n_layers\": 2,<br>    \"n_units_l0\": 49,<br>    \"dropout_0\": 0.3624367665951278,<br>    \"n_units_l1\": 41,<br>    \"dropout_1\": 0.44272618213106507,<br>    \"lr\": 0.06615931445225966<br>  }<br>}",
          "{<br>  \"number\": 29,<br>  \"values\": [<br>    16172.0,<br>    0.646875<br>  ],<br>  \"params\": {<br>    \"n_layers\": 2,<br>    \"n_units_l0\": 19,<br>    \"dropout_0\": 0.33843026304030854,<br>    \"n_units_l1\": 44,<br>    \"dropout_1\": 0.30813206620872907,<br>    \"lr\": 0.00015771825306103355<br>  }<br>}"
         ],
         "type": "scatter",
         "x": [
          61932,
          8084,
          64056,
          34936,
          36204,
          24450,
          40166,
          18714,
          97662,
          100329,
          67360,
          113417,
          28286,
          7940,
          55008,
          61496,
          34936,
          14278,
          83109,
          124280,
          93609,
          55874,
          76929,
          40835,
          16172
         ],
         "y": [
          0.57578125,
          0.33828125,
          0.68828125,
          0.48203125,
          0.18828125,
          0.09296875,
          0.434375,
          0.1015625,
          0.53515625,
          0.54921875,
          0.64375,
          0.6234375,
          0.1015625,
          0.35,
          0.71171875,
          0.82734375,
          0.58828125,
          0.625,
          0.81875,
          0.59453125,
          0.6984375,
          0.8203125,
          0.6765625,
          0.49453125,
          0.646875
         ]
        },
        {
         "hovertemplate": "%{text}<extra>Best Trial</extra>",
         "marker": {
          "color": [
           5,
           7,
           10,
           21,
           24
          ],
          "colorbar": {
           "title": {
            "text": "Best Trial"
           },
           "x": 1.1,
           "xpad": 40
          },
          "colorscale": [
           [
            0,
            "rgb(255,245,240)"
           ],
           [
            0.125,
            "rgb(254,224,210)"
           ],
           [
            0.25,
            "rgb(252,187,161)"
           ],
           [
            0.375,
            "rgb(252,146,114)"
           ],
           [
            0.5,
            "rgb(251,106,74)"
           ],
           [
            0.625,
            "rgb(239,59,44)"
           ],
           [
            0.75,
            "rgb(203,24,29)"
           ],
           [
            0.875,
            "rgb(165,15,21)"
           ],
           [
            1,
            "rgb(103,0,13)"
           ]
          ],
          "line": {
           "color": "Grey",
           "width": 0.5
          }
         },
         "mode": "markers",
         "showlegend": false,
         "text": [
          "{<br>  \"number\": 5,<br>  \"values\": [<br>    51610.0,<br>    0.82890625<br>  ],<br>  \"params\": {<br>    \"n_layers\": 1,<br>    \"n_units_l0\": 65,<br>    \"dropout_0\": 0.3114324540253726,<br>    \"lr\": 0.001957666258462278<br>  }<br>}",
          "{<br>  \"number\": 7,<br>  \"values\": [<br>    34936.0,<br>    0.79765625<br>  ],<br>  \"params\": {<br>    \"n_layers\": 1,<br>    \"n_units_l0\": 44,<br>    \"dropout_0\": 0.40946051958438,<br>    \"lr\": 0.0010847562297571385<br>  }<br>}",
          "{<br>  \"number\": 10,<br>  \"values\": [<br>    13498.0,<br>    0.6734375<br>  ],<br>  \"params\": {<br>    \"n_layers\": 1,<br>    \"n_units_l0\": 17,<br>    \"dropout_0\": 0.2553509884286787,<br>    \"lr\": 0.0003174405125426778<br>  }<br>}",
          "{<br>  \"number\": 21,<br>  \"values\": [<br>    14292.0,<br>    0.76328125<br>  ],<br>  \"params\": {<br>    \"n_layers\": 1,<br>    \"n_units_l0\": 18,<br>    \"dropout_0\": 0.3339418249555709,<br>    \"lr\": 0.01520395994916035<br>  }<br>}",
          "{<br>  \"number\": 24,<br>  \"values\": [<br>    5558.0,<br>    0.43359375<br>  ],<br>  \"params\": {<br>    \"n_layers\": 1,<br>    \"n_units_l0\": 7,<br>    \"dropout_0\": 0.45296564502365405,<br>    \"lr\": 8.56229528142881e-05<br>  }<br>}"
         ],
         "type": "scatter",
         "x": [
          51610,
          34936,
          13498,
          14292,
          5558
         ],
         "y": [
          0.82890625,
          0.79765625,
          0.6734375,
          0.76328125,
          0.43359375
         ]
        }
       ],
       "layout": {
        "template": {
         "data": {
          "bar": [
           {
            "error_x": {
             "color": "#2a3f5f"
            },
            "error_y": {
             "color": "#2a3f5f"
            },
            "marker": {
             "line": {
              "color": "#E5ECF6",
              "width": 0.5
             },
             "pattern": {
              "fillmode": "overlay",
              "size": 10,
              "solidity": 0.2
             }
            },
            "type": "bar"
           }
          ],
          "barpolar": [
           {
            "marker": {
             "line": {
              "color": "#E5ECF6",
              "width": 0.5
             },
             "pattern": {
              "fillmode": "overlay",
              "size": 10,
              "solidity": 0.2
             }
            },
            "type": "barpolar"
           }
          ],
          "carpet": [
           {
            "aaxis": {
             "endlinecolor": "#2a3f5f",
             "gridcolor": "white",
             "linecolor": "white",
             "minorgridcolor": "white",
             "startlinecolor": "#2a3f5f"
            },
            "baxis": {
             "endlinecolor": "#2a3f5f",
             "gridcolor": "white",
             "linecolor": "white",
             "minorgridcolor": "white",
             "startlinecolor": "#2a3f5f"
            },
            "type": "carpet"
           }
          ],
          "choropleth": [
           {
            "colorbar": {
             "outlinewidth": 0,
             "ticks": ""
            },
            "type": "choropleth"
           }
          ],
          "contour": [
           {
            "colorbar": {
             "outlinewidth": 0,
             "ticks": ""
            },
            "colorscale": [
             [
              0,
              "#0d0887"
             ],
             [
              0.1111111111111111,
              "#46039f"
             ],
             [
              0.2222222222222222,
              "#7201a8"
             ],
             [
              0.3333333333333333,
              "#9c179e"
             ],
             [
              0.4444444444444444,
              "#bd3786"
             ],
             [
              0.5555555555555556,
              "#d8576b"
             ],
             [
              0.6666666666666666,
              "#ed7953"
             ],
             [
              0.7777777777777778,
              "#fb9f3a"
             ],
             [
              0.8888888888888888,
              "#fdca26"
             ],
             [
              1,
              "#f0f921"
             ]
            ],
            "type": "contour"
           }
          ],
          "contourcarpet": [
           {
            "colorbar": {
             "outlinewidth": 0,
             "ticks": ""
            },
            "type": "contourcarpet"
           }
          ],
          "heatmap": [
           {
            "colorbar": {
             "outlinewidth": 0,
             "ticks": ""
            },
            "colorscale": [
             [
              0,
              "#0d0887"
             ],
             [
              0.1111111111111111,
              "#46039f"
             ],
             [
              0.2222222222222222,
              "#7201a8"
             ],
             [
              0.3333333333333333,
              "#9c179e"
             ],
             [
              0.4444444444444444,
              "#bd3786"
             ],
             [
              0.5555555555555556,
              "#d8576b"
             ],
             [
              0.6666666666666666,
              "#ed7953"
             ],
             [
              0.7777777777777778,
              "#fb9f3a"
             ],
             [
              0.8888888888888888,
              "#fdca26"
             ],
             [
              1,
              "#f0f921"
             ]
            ],
            "type": "heatmap"
           }
          ],
          "heatmapgl": [
           {
            "colorbar": {
             "outlinewidth": 0,
             "ticks": ""
            },
            "colorscale": [
             [
              0,
              "#0d0887"
             ],
             [
              0.1111111111111111,
              "#46039f"
             ],
             [
              0.2222222222222222,
              "#7201a8"
             ],
             [
              0.3333333333333333,
              "#9c179e"
             ],
             [
              0.4444444444444444,
              "#bd3786"
             ],
             [
              0.5555555555555556,
              "#d8576b"
             ],
             [
              0.6666666666666666,
              "#ed7953"
             ],
             [
              0.7777777777777778,
              "#fb9f3a"
             ],
             [
              0.8888888888888888,
              "#fdca26"
             ],
             [
              1,
              "#f0f921"
             ]
            ],
            "type": "heatmapgl"
           }
          ],
          "histogram": [
           {
            "marker": {
             "pattern": {
              "fillmode": "overlay",
              "size": 10,
              "solidity": 0.2
             }
            },
            "type": "histogram"
           }
          ],
          "histogram2d": [
           {
            "colorbar": {
             "outlinewidth": 0,
             "ticks": ""
            },
            "colorscale": [
             [
              0,
              "#0d0887"
             ],
             [
              0.1111111111111111,
              "#46039f"
             ],
             [
              0.2222222222222222,
              "#7201a8"
             ],
             [
              0.3333333333333333,
              "#9c179e"
             ],
             [
              0.4444444444444444,
              "#bd3786"
             ],
             [
              0.5555555555555556,
              "#d8576b"
             ],
             [
              0.6666666666666666,
              "#ed7953"
             ],
             [
              0.7777777777777778,
              "#fb9f3a"
             ],
             [
              0.8888888888888888,
              "#fdca26"
             ],
             [
              1,
              "#f0f921"
             ]
            ],
            "type": "histogram2d"
           }
          ],
          "histogram2dcontour": [
           {
            "colorbar": {
             "outlinewidth": 0,
             "ticks": ""
            },
            "colorscale": [
             [
              0,
              "#0d0887"
             ],
             [
              0.1111111111111111,
              "#46039f"
             ],
             [
              0.2222222222222222,
              "#7201a8"
             ],
             [
              0.3333333333333333,
              "#9c179e"
             ],
             [
              0.4444444444444444,
              "#bd3786"
             ],
             [
              0.5555555555555556,
              "#d8576b"
             ],
             [
              0.6666666666666666,
              "#ed7953"
             ],
             [
              0.7777777777777778,
              "#fb9f3a"
             ],
             [
              0.8888888888888888,
              "#fdca26"
             ],
             [
              1,
              "#f0f921"
             ]
            ],
            "type": "histogram2dcontour"
           }
          ],
          "mesh3d": [
           {
            "colorbar": {
             "outlinewidth": 0,
             "ticks": ""
            },
            "type": "mesh3d"
           }
          ],
          "parcoords": [
           {
            "line": {
             "colorbar": {
              "outlinewidth": 0,
              "ticks": ""
             }
            },
            "type": "parcoords"
           }
          ],
          "pie": [
           {
            "automargin": true,
            "type": "pie"
           }
          ],
          "scatter": [
           {
            "fillpattern": {
             "fillmode": "overlay",
             "size": 10,
             "solidity": 0.2
            },
            "type": "scatter"
           }
          ],
          "scatter3d": [
           {
            "line": {
             "colorbar": {
              "outlinewidth": 0,
              "ticks": ""
             }
            },
            "marker": {
             "colorbar": {
              "outlinewidth": 0,
              "ticks": ""
             }
            },
            "type": "scatter3d"
           }
          ],
          "scattercarpet": [
           {
            "marker": {
             "colorbar": {
              "outlinewidth": 0,
              "ticks": ""
             }
            },
            "type": "scattercarpet"
           }
          ],
          "scattergeo": [
           {
            "marker": {
             "colorbar": {
              "outlinewidth": 0,
              "ticks": ""
             }
            },
            "type": "scattergeo"
           }
          ],
          "scattergl": [
           {
            "marker": {
             "colorbar": {
              "outlinewidth": 0,
              "ticks": ""
             }
            },
            "type": "scattergl"
           }
          ],
          "scattermapbox": [
           {
            "marker": {
             "colorbar": {
              "outlinewidth": 0,
              "ticks": ""
             }
            },
            "type": "scattermapbox"
           }
          ],
          "scatterpolar": [
           {
            "marker": {
             "colorbar": {
              "outlinewidth": 0,
              "ticks": ""
             }
            },
            "type": "scatterpolar"
           }
          ],
          "scatterpolargl": [
           {
            "marker": {
             "colorbar": {
              "outlinewidth": 0,
              "ticks": ""
             }
            },
            "type": "scatterpolargl"
           }
          ],
          "scatterternary": [
           {
            "marker": {
             "colorbar": {
              "outlinewidth": 0,
              "ticks": ""
             }
            },
            "type": "scatterternary"
           }
          ],
          "surface": [
           {
            "colorbar": {
             "outlinewidth": 0,
             "ticks": ""
            },
            "colorscale": [
             [
              0,
              "#0d0887"
             ],
             [
              0.1111111111111111,
              "#46039f"
             ],
             [
              0.2222222222222222,
              "#7201a8"
             ],
             [
              0.3333333333333333,
              "#9c179e"
             ],
             [
              0.4444444444444444,
              "#bd3786"
             ],
             [
              0.5555555555555556,
              "#d8576b"
             ],
             [
              0.6666666666666666,
              "#ed7953"
             ],
             [
              0.7777777777777778,
              "#fb9f3a"
             ],
             [
              0.8888888888888888,
              "#fdca26"
             ],
             [
              1,
              "#f0f921"
             ]
            ],
            "type": "surface"
           }
          ],
          "table": [
           {
            "cells": {
             "fill": {
              "color": "#EBF0F8"
             },
             "line": {
              "color": "white"
             }
            },
            "header": {
             "fill": {
              "color": "#C8D4E3"
             },
             "line": {
              "color": "white"
             }
            },
            "type": "table"
           }
          ]
         },
         "layout": {
          "annotationdefaults": {
           "arrowcolor": "#2a3f5f",
           "arrowhead": 0,
           "arrowwidth": 1
          },
          "autotypenumbers": "strict",
          "coloraxis": {
           "colorbar": {
            "outlinewidth": 0,
            "ticks": ""
           }
          },
          "colorscale": {
           "diverging": [
            [
             0,
             "#8e0152"
            ],
            [
             0.1,
             "#c51b7d"
            ],
            [
             0.2,
             "#de77ae"
            ],
            [
             0.3,
             "#f1b6da"
            ],
            [
             0.4,
             "#fde0ef"
            ],
            [
             0.5,
             "#f7f7f7"
            ],
            [
             0.6,
             "#e6f5d0"
            ],
            [
             0.7,
             "#b8e186"
            ],
            [
             0.8,
             "#7fbc41"
            ],
            [
             0.9,
             "#4d9221"
            ],
            [
             1,
             "#276419"
            ]
           ],
           "sequential": [
            [
             0,
             "#0d0887"
            ],
            [
             0.1111111111111111,
             "#46039f"
            ],
            [
             0.2222222222222222,
             "#7201a8"
            ],
            [
             0.3333333333333333,
             "#9c179e"
            ],
            [
             0.4444444444444444,
             "#bd3786"
            ],
            [
             0.5555555555555556,
             "#d8576b"
            ],
            [
             0.6666666666666666,
             "#ed7953"
            ],
            [
             0.7777777777777778,
             "#fb9f3a"
            ],
            [
             0.8888888888888888,
             "#fdca26"
            ],
            [
             1,
             "#f0f921"
            ]
           ],
           "sequentialminus": [
            [
             0,
             "#0d0887"
            ],
            [
             0.1111111111111111,
             "#46039f"
            ],
            [
             0.2222222222222222,
             "#7201a8"
            ],
            [
             0.3333333333333333,
             "#9c179e"
            ],
            [
             0.4444444444444444,
             "#bd3786"
            ],
            [
             0.5555555555555556,
             "#d8576b"
            ],
            [
             0.6666666666666666,
             "#ed7953"
            ],
            [
             0.7777777777777778,
             "#fb9f3a"
            ],
            [
             0.8888888888888888,
             "#fdca26"
            ],
            [
             1,
             "#f0f921"
            ]
           ]
          },
          "colorway": [
           "#636efa",
           "#EF553B",
           "#00cc96",
           "#ab63fa",
           "#FFA15A",
           "#19d3f3",
           "#FF6692",
           "#B6E880",
           "#FF97FF",
           "#FECB52"
          ],
          "font": {
           "color": "#2a3f5f"
          },
          "geo": {
           "bgcolor": "white",
           "lakecolor": "white",
           "landcolor": "#E5ECF6",
           "showlakes": true,
           "showland": true,
           "subunitcolor": "white"
          },
          "hoverlabel": {
           "align": "left"
          },
          "hovermode": "closest",
          "mapbox": {
           "style": "light"
          },
          "paper_bgcolor": "white",
          "plot_bgcolor": "#E5ECF6",
          "polar": {
           "angularaxis": {
            "gridcolor": "white",
            "linecolor": "white",
            "ticks": ""
           },
           "bgcolor": "#E5ECF6",
           "radialaxis": {
            "gridcolor": "white",
            "linecolor": "white",
            "ticks": ""
           }
          },
          "scene": {
           "xaxis": {
            "backgroundcolor": "#E5ECF6",
            "gridcolor": "white",
            "gridwidth": 2,
            "linecolor": "white",
            "showbackground": true,
            "ticks": "",
            "zerolinecolor": "white"
           },
           "yaxis": {
            "backgroundcolor": "#E5ECF6",
            "gridcolor": "white",
            "gridwidth": 2,
            "linecolor": "white",
            "showbackground": true,
            "ticks": "",
            "zerolinecolor": "white"
           },
           "zaxis": {
            "backgroundcolor": "#E5ECF6",
            "gridcolor": "white",
            "gridwidth": 2,
            "linecolor": "white",
            "showbackground": true,
            "ticks": "",
            "zerolinecolor": "white"
           }
          },
          "shapedefaults": {
           "line": {
            "color": "#2a3f5f"
           }
          },
          "ternary": {
           "aaxis": {
            "gridcolor": "white",
            "linecolor": "white",
            "ticks": ""
           },
           "baxis": {
            "gridcolor": "white",
            "linecolor": "white",
            "ticks": ""
           },
           "bgcolor": "#E5ECF6",
           "caxis": {
            "gridcolor": "white",
            "linecolor": "white",
            "ticks": ""
           }
          },
          "title": {
           "x": 0.05
          },
          "xaxis": {
           "automargin": true,
           "gridcolor": "white",
           "linecolor": "white",
           "ticks": "",
           "title": {
            "standoff": 15
           },
           "zerolinecolor": "white",
           "zerolinewidth": 2
          },
          "yaxis": {
           "automargin": true,
           "gridcolor": "white",
           "linecolor": "white",
           "ticks": "",
           "title": {
            "standoff": 15
           },
           "zerolinecolor": "white",
           "zerolinewidth": 2
          }
         }
        },
        "title": {
         "text": "Pareto-front Plot"
        },
        "xaxis": {
         "title": {
          "text": "FLOPS"
         }
        },
        "yaxis": {
         "title": {
          "text": "accuracy"
         }
        }
       }
      }
     },
     "metadata": {},
     "output_type": "display_data"
    }
   ],
   "source": [
    "optuna.visualization.plot_pareto_front(study, target_names=[\"FLOPS\", \"accuracy\"])"
   ]
  },
  {
   "cell_type": "code",
   "execution_count": 19,
   "metadata": {},
   "outputs": [
    {
     "name": "stderr",
     "output_type": "stream",
     "text": [
      "\u001b[32m[I 2023-04-24 09:00:01,430]\u001b[0m A new study created in memory with name: no-name-516861e4-98ad-46b6-862c-0186668f541a\u001b[0m\n",
      "\u001b[32m[I 2023-04-24 09:00:01,431]\u001b[0m Trial 0 finished with value: 3.9258965928585887 and parameters: {'x': 0.01861245768058062}. Best is trial 0 with value: 3.9258965928585887.\u001b[0m\n",
      "\u001b[32m[I 2023-04-24 09:00:01,432]\u001b[0m Trial 1 finished with value: 6.969680477213171 and parameters: {'x': -0.640015241852435}. Best is trial 0 with value: 3.9258965928585887.\u001b[0m\n",
      "\u001b[32m[I 2023-04-24 09:00:01,432]\u001b[0m Trial 2 finished with value: 23.77498854674955 and parameters: {'x': 6.87596026919309}. Best is trial 0 with value: 3.9258965928585887.\u001b[0m\n",
      "\u001b[32m[I 2023-04-24 09:00:01,433]\u001b[0m Trial 3 finished with value: 31.31738504910754 and parameters: {'x': 7.596193800174145}. Best is trial 0 with value: 3.9258965928585887.\u001b[0m\n",
      "\u001b[32m[I 2023-04-24 09:00:01,433]\u001b[0m Trial 4 finished with value: 110.54534575711025 and parameters: {'x': -8.514054677293164}. Best is trial 0 with value: 3.9258965928585887.\u001b[0m\n",
      "\u001b[32m[I 2023-04-24 09:00:01,434]\u001b[0m Trial 5 finished with value: 113.64752662254114 and parameters: {'x': -8.660559395385457}. Best is trial 0 with value: 3.9258965928585887.\u001b[0m\n",
      "\u001b[32m[I 2023-04-24 09:00:01,434]\u001b[0m Trial 6 finished with value: 0.10255110467064539 and parameters: {'x': 2.320236014012549}. Best is trial 6 with value: 0.10255110467064539.\u001b[0m\n",
      "\u001b[32m[I 2023-04-24 09:00:01,434]\u001b[0m Trial 7 finished with value: 56.69415357961621 and parameters: {'x': -5.529552017193069}. Best is trial 6 with value: 0.10255110467064539.\u001b[0m\n",
      "\u001b[32m[I 2023-04-24 09:00:01,435]\u001b[0m Trial 8 finished with value: 15.978248889640723 and parameters: {'x': 5.997280186531928}. Best is trial 6 with value: 0.10255110467064539.\u001b[0m\n",
      "\u001b[32m[I 2023-04-24 09:00:01,435]\u001b[0m Trial 9 finished with value: 37.48944860664559 and parameters: {'x': -4.122862778688217}. Best is trial 6 with value: 0.10255110467064539.\u001b[0m\n",
      "\u001b[32m[I 2023-04-24 09:00:01,437]\u001b[0m Trial 10 finished with value: 1.3120642396548325 and parameters: {'x': 3.1454537265445657}. Best is trial 6 with value: 0.10255110467064539.\u001b[0m\n",
      "\u001b[32m[I 2023-04-24 09:00:01,439]\u001b[0m Trial 11 finished with value: 1.353372631444102 and parameters: {'x': 3.1633454480265533}. Best is trial 6 with value: 0.10255110467064539.\u001b[0m\n",
      "\u001b[32m[I 2023-04-24 09:00:01,441]\u001b[0m Trial 12 finished with value: 1.3078391216531102 and parameters: {'x': 3.143607940534303}. Best is trial 6 with value: 0.10255110467064539.\u001b[0m\n",
      "\u001b[32m[I 2023-04-24 09:00:01,443]\u001b[0m Trial 13 finished with value: 63.318617645787356 and parameters: {'x': 9.957299645343724}. Best is trial 6 with value: 0.10255110467064539.\u001b[0m\n",
      "\u001b[32m[I 2023-04-24 09:00:01,445]\u001b[0m Trial 14 finished with value: 0.24555647774296355 and parameters: {'x': 2.4955365554053137}. Best is trial 6 with value: 0.10255110467064539.\u001b[0m\n",
      "\u001b[32m[I 2023-04-24 09:00:01,447]\u001b[0m Trial 15 finished with value: 2.8556562728293464 and parameters: {'x': 0.310131285327364}. Best is trial 6 with value: 0.10255110467064539.\u001b[0m\n",
      "\u001b[32m[I 2023-04-24 09:00:01,449]\u001b[0m Trial 16 finished with value: 13.059577872217465 and parameters: {'x': -1.613803795478867}. Best is trial 6 with value: 0.10255110467064539.\u001b[0m\n",
      "\u001b[32m[I 2023-04-24 09:00:01,451]\u001b[0m Trial 17 finished with value: 0.18500914548482558 and parameters: {'x': 1.569873105369095}. Best is trial 6 with value: 0.10255110467064539.\u001b[0m\n",
      "\u001b[32m[I 2023-04-24 09:00:01,454]\u001b[0m Trial 18 finished with value: 25.135404489642024 and parameters: {'x': -3.013522164072083}. Best is trial 6 with value: 0.10255110467064539.\u001b[0m\n",
      "\u001b[32m[I 2023-04-24 09:00:01,459]\u001b[0m Trial 19 finished with value: 1.1402047577314143 and parameters: {'x': 0.9321962925090519}. Best is trial 6 with value: 0.10255110467064539.\u001b[0m\n",
      "\u001b[32m[I 2023-04-24 09:00:01,464]\u001b[0m Trial 20 finished with value: 6.565352138405461 and parameters: {'x': 4.562294311433693}. Best is trial 6 with value: 0.10255110467064539.\u001b[0m\n",
      "\u001b[32m[I 2023-04-24 09:00:01,469]\u001b[0m Trial 21 finished with value: 0.01456814388267526 and parameters: {'x': 1.8793014338002507}. Best is trial 21 with value: 0.01456814388267526.\u001b[0m\n",
      "\u001b[32m[I 2023-04-24 09:00:01,473]\u001b[0m Trial 22 finished with value: 0.027342704275213188 and parameters: {'x': 2.1653562949367613}. Best is trial 21 with value: 0.01456814388267526.\u001b[0m\n",
      "\u001b[32m[I 2023-04-24 09:00:01,478]\u001b[0m Trial 23 finished with value: 8.905415055598104 and parameters: {'x': 4.984194205409243}. Best is trial 21 with value: 0.01456814388267526.\u001b[0m\n",
      "\u001b[32m[I 2023-04-24 09:00:01,482]\u001b[0m Trial 24 finished with value: 0.7254481740905889 and parameters: {'x': 1.1482675454753477}. Best is trial 21 with value: 0.01456814388267526.\u001b[0m\n",
      "\u001b[32m[I 2023-04-24 09:00:01,487]\u001b[0m Trial 25 finished with value: 10.860185487309812 and parameters: {'x': -1.2954795534655972}. Best is trial 21 with value: 0.01456814388267526.\u001b[0m\n",
      "\u001b[32m[I 2023-04-24 09:00:01,489]\u001b[0m Trial 26 finished with value: 0.09822467184031639 and parameters: {'x': 1.6865918446493193}. Best is trial 21 with value: 0.01456814388267526.\u001b[0m\n",
      "\u001b[32m[I 2023-04-24 09:00:01,493]\u001b[0m Trial 27 finished with value: 7.206545161966971 and parameters: {'x': 4.684500914875421}. Best is trial 21 with value: 0.01456814388267526.\u001b[0m\n",
      "\u001b[32m[I 2023-04-24 09:00:01,497]\u001b[0m Trial 28 finished with value: 0.5345074210712727 and parameters: {'x': 1.2688998556481659}. Best is trial 21 with value: 0.01456814388267526.\u001b[0m\n",
      "\u001b[32m[I 2023-04-24 09:00:01,501]\u001b[0m Trial 29 finished with value: 5.102296764730534 and parameters: {'x': -0.2588264131469984}. Best is trial 21 with value: 0.01456814388267526.\u001b[0m\n",
      "\u001b[32m[I 2023-04-24 09:00:01,505]\u001b[0m Trial 30 finished with value: 3.5720514028216397 and parameters: {'x': 0.1100128564401186}. Best is trial 21 with value: 0.01456814388267526.\u001b[0m\n",
      "\u001b[32m[I 2023-04-24 09:00:01,508]\u001b[0m Trial 31 finished with value: 0.12929899803791509 and parameters: {'x': 2.359581698697132}. Best is trial 21 with value: 0.01456814388267526.\u001b[0m\n",
      "\u001b[32m[I 2023-04-24 09:00:01,510]\u001b[0m Trial 32 finished with value: 2.370349290100343 and parameters: {'x': 3.53959387180527}. Best is trial 21 with value: 0.01456814388267526.\u001b[0m\n",
      "\u001b[32m[I 2023-04-24 09:00:01,512]\u001b[0m Trial 33 finished with value: 0.04645910492799811 and parameters: {'x': 2.215543742493254}. Best is trial 21 with value: 0.01456814388267526.\u001b[0m\n",
      "\u001b[32m[I 2023-04-24 09:00:01,514]\u001b[0m Trial 34 finished with value: 8.26267071003781 and parameters: {'x': -0.874486164523637}. Best is trial 21 with value: 0.01456814388267526.\u001b[0m\n",
      "\u001b[32m[I 2023-04-24 09:00:01,515]\u001b[0m Trial 35 finished with value: 0.0050139692997247 and parameters: {'x': 1.929190612912378}. Best is trial 35 with value: 0.0050139692997247.\u001b[0m\n",
      "\u001b[32m[I 2023-04-24 09:00:01,517]\u001b[0m Trial 36 finished with value: 3.249787020687986 and parameters: {'x': 3.8027165669311374}. Best is trial 35 with value: 0.0050139692997247.\u001b[0m\n",
      "\u001b[32m[I 2023-04-24 09:00:01,520]\u001b[0m Trial 37 finished with value: 2.770694681380591 and parameters: {'x': 0.3354596185791734}. Best is trial 35 with value: 0.0050139692997247.\u001b[0m\n",
      "\u001b[32m[I 2023-04-24 09:00:01,522]\u001b[0m Trial 38 finished with value: 16.73683753118857 and parameters: {'x': 6.0910680184016215}. Best is trial 35 with value: 0.0050139692997247.\u001b[0m\n",
      "\u001b[32m[I 2023-04-24 09:00:01,524]\u001b[0m Trial 39 finished with value: 0.004750422367153231 and parameters: {'x': 2.068923307865723}. Best is trial 39 with value: 0.004750422367153231.\u001b[0m\n",
      "\u001b[32m[I 2023-04-24 09:00:01,525]\u001b[0m Trial 40 finished with value: 15.53537600089726 and parameters: {'x': -1.9414941330537663}. Best is trial 39 with value: 0.004750422367153231.\u001b[0m\n",
      "\u001b[32m[I 2023-04-24 09:00:01,527]\u001b[0m Trial 41 finished with value: 0.02165984136576867 and parameters: {'x': 2.1471728282182845}. Best is trial 39 with value: 0.004750422367153231.\u001b[0m\n",
      "\u001b[32m[I 2023-04-24 09:00:01,529]\u001b[0m Trial 42 finished with value: 1.1918835419291445 and parameters: {'x': 0.9082658098561058}. Best is trial 39 with value: 0.004750422367153231.\u001b[0m\n",
      "\u001b[32m[I 2023-04-24 09:00:01,531]\u001b[0m Trial 43 finished with value: 6.502990745648143 and parameters: {'x': -0.5500962228214337}. Best is trial 39 with value: 0.004750422367153231.\u001b[0m\n",
      "\u001b[32m[I 2023-04-24 09:00:01,533]\u001b[0m Trial 44 finished with value: 0.06800506271401434 and parameters: {'x': 2.260777803338425}. Best is trial 39 with value: 0.004750422367153231.\u001b[0m\n",
      "\u001b[32m[I 2023-04-24 09:00:01,535]\u001b[0m Trial 45 finished with value: 2.380570770043605 and parameters: {'x': 3.542909838598356}. Best is trial 39 with value: 0.004750422367153231.\u001b[0m\n",
      "\u001b[32m[I 2023-04-24 09:00:01,537]\u001b[0m Trial 46 finished with value: 0.024819272151550848 and parameters: {'x': 1.8424586652603487}. Best is trial 39 with value: 0.004750422367153231.\u001b[0m\n",
      "\u001b[32m[I 2023-04-24 09:00:01,539]\u001b[0m Trial 47 finished with value: 2.3293503847637718 and parameters: {'x': 0.47377905113192353}. Best is trial 39 with value: 0.004750422367153231.\u001b[0m\n",
      "\u001b[32m[I 2023-04-24 09:00:01,541]\u001b[0m Trial 48 finished with value: 5.036538397912249 and parameters: {'x': 4.244223339579252}. Best is trial 39 with value: 0.004750422367153231.\u001b[0m\n",
      "\u001b[32m[I 2023-04-24 09:00:01,543]\u001b[0m Trial 49 finished with value: 0.8904293881554334 and parameters: {'x': 2.943625661030598}. Best is trial 39 with value: 0.004750422367153231.\u001b[0m\n",
      "\u001b[32m[I 2023-04-24 09:00:01,545]\u001b[0m Trial 50 finished with value: 13.161209129122268 and parameters: {'x': 5.627838079231523}. Best is trial 39 with value: 0.004750422367153231.\u001b[0m\n",
      "\u001b[32m[I 2023-04-24 09:00:01,547]\u001b[0m Trial 51 finished with value: 0.30129091291452464 and parameters: {'x': 1.4511002706190095}. Best is trial 39 with value: 0.004750422367153231.\u001b[0m\n",
      "\u001b[32m[I 2023-04-24 09:00:01,549]\u001b[0m Trial 52 finished with value: 0.5612650549838951 and parameters: {'x': 2.749176250947596}. Best is trial 39 with value: 0.004750422367153231.\u001b[0m\n",
      "\u001b[32m[I 2023-04-24 09:00:01,551]\u001b[0m Trial 53 finished with value: 0.05612811123198848 and parameters: {'x': 1.7630862789284072}. Best is trial 39 with value: 0.004750422367153231.\u001b[0m\n",
      "\u001b[32m[I 2023-04-24 09:00:01,553]\u001b[0m Trial 54 finished with value: 2.9360753178326067 and parameters: {'x': 3.7134979771895287}. Best is trial 39 with value: 0.004750422367153231.\u001b[0m\n",
      "\u001b[32m[I 2023-04-24 09:00:01,555]\u001b[0m Trial 55 finished with value: 0.7514146218052846 and parameters: {'x': 2.8668417513048645}. Best is trial 39 with value: 0.004750422367153231.\u001b[0m\n",
      "\u001b[32m[I 2023-04-24 09:00:01,559]\u001b[0m Trial 56 finished with value: 0.0010102971505429883 and parameters: {'x': 1.9682148281341285}. Best is trial 56 with value: 0.0010102971505429883.\u001b[0m\n",
      "\u001b[32m[I 2023-04-24 09:00:01,561]\u001b[0m Trial 57 finished with value: 1.2966209961246478 and parameters: {'x': 0.8613073302577873}. Best is trial 56 with value: 0.0010102971505429883.\u001b[0m\n",
      "\u001b[32m[I 2023-04-24 09:00:01,564]\u001b[0m Trial 58 finished with value: 4.530087439142802 and parameters: {'x': -0.12840020652667716}. Best is trial 56 with value: 0.0010102971505429883.\u001b[0m\n",
      "\u001b[32m[I 2023-04-24 09:00:01,566]\u001b[0m Trial 59 finished with value: 0.010789342607884013 and parameters: {'x': 1.8961282396034225}. Best is trial 56 with value: 0.0010102971505429883.\u001b[0m\n",
      "\u001b[32m[I 2023-04-24 09:00:01,568]\u001b[0m Trial 60 finished with value: 4.46300900012746 and parameters: {'x': 4.1125834895046065}. Best is trial 56 with value: 0.0010102971505429883.\u001b[0m\n",
      "\u001b[32m[I 2023-04-24 09:00:01,570]\u001b[0m Trial 61 finished with value: 0.061859247927712226 and parameters: {'x': 1.7512848055954116}. Best is trial 56 with value: 0.0010102971505429883.\u001b[0m\n",
      "\u001b[32m[I 2023-04-24 09:00:01,573]\u001b[0m Trial 62 finished with value: 1.0731178288829317 and parameters: {'x': 3.0359140065096772}. Best is trial 56 with value: 0.0010102971505429883.\u001b[0m\n",
      "\u001b[32m[I 2023-04-24 09:00:01,575]\u001b[0m Trial 63 finished with value: 1.552064077742404 and parameters: {'x': 0.7541813624197125}. Best is trial 56 with value: 0.0010102971505429883.\u001b[0m\n",
      "\u001b[32m[I 2023-04-24 09:00:01,577]\u001b[0m Trial 64 finished with value: 0.04391835772530313 and parameters: {'x': 1.7904329278600688}. Best is trial 56 with value: 0.0010102971505429883.\u001b[0m\n",
      "\u001b[32m[I 2023-04-24 09:00:01,579]\u001b[0m Trial 65 finished with value: 0.5876762800165186 and parameters: {'x': 1.2333995303833172}. Best is trial 56 with value: 0.0010102971505429883.\u001b[0m\n",
      "\u001b[32m[I 2023-04-24 09:00:01,581]\u001b[0m Trial 66 finished with value: 0.12086526743117718 and parameters: {'x': 2.3476568242263873}. Best is trial 56 with value: 0.0010102971505429883.\u001b[0m\n",
      "\u001b[32m[I 2023-04-24 09:00:01,583]\u001b[0m Trial 67 finished with value: 3.3575020483299545 and parameters: {'x': 0.1676512208834382}. Best is trial 56 with value: 0.0010102971505429883.\u001b[0m\n",
      "\u001b[32m[I 2023-04-24 09:00:01,585]\u001b[0m Trial 68 finished with value: 1.6967027909296446 and parameters: {'x': 3.3025754453887286}. Best is trial 56 with value: 0.0010102971505429883.\u001b[0m\n",
      "\u001b[32m[I 2023-04-24 09:00:01,587]\u001b[0m Trial 69 finished with value: 0.3553874556449957 and parameters: {'x': 2.596143821275534}. Best is trial 56 with value: 0.0010102971505429883.\u001b[0m\n",
      "\u001b[32m[I 2023-04-24 09:00:01,590]\u001b[0m Trial 70 finished with value: 0.009576883437391912 and parameters: {'x': 1.9021384476038117}. Best is trial 56 with value: 0.0010102971505429883.\u001b[0m\n",
      "\u001b[32m[I 2023-04-24 09:00:01,592]\u001b[0m Trial 71 finished with value: 0.1737166465219527 and parameters: {'x': 1.5832067100804612}. Best is trial 56 with value: 0.0010102971505429883.\u001b[0m\n",
      "\u001b[32m[I 2023-04-24 09:00:01,594]\u001b[0m Trial 72 finished with value: 0.0023308091869663292 and parameters: {'x': 2.0482784546870167}. Best is trial 56 with value: 0.0010102971505429883.\u001b[0m\n",
      "\u001b[32m[I 2023-04-24 09:00:01,596]\u001b[0m Trial 73 finished with value: 1.684482402561187 and parameters: {'x': 0.7021238878224212}. Best is trial 56 with value: 0.0010102971505429883.\u001b[0m\n",
      "\u001b[32m[I 2023-04-24 09:00:01,598]\u001b[0m Trial 74 finished with value: 0.38262453565809107 and parameters: {'x': 2.6185665167612058}. Best is trial 56 with value: 0.0010102971505429883.\u001b[0m\n",
      "\u001b[32m[I 2023-04-24 09:00:01,600]\u001b[0m Trial 75 finished with value: 0.5424964526145898 and parameters: {'x': 1.263456414993254}. Best is trial 56 with value: 0.0010102971505429883.\u001b[0m\n",
      "\u001b[32m[I 2023-04-24 09:00:01,602]\u001b[0m Trial 76 finished with value: 1.536202227285193 and parameters: {'x': 3.2394362538207413}. Best is trial 56 with value: 0.0010102971505429883.\u001b[0m\n",
      "\u001b[32m[I 2023-04-24 09:00:01,604]\u001b[0m Trial 77 finished with value: 0.020176294413700984 and parameters: {'x': 2.142043283592365}. Best is trial 56 with value: 0.0010102971505429883.\u001b[0m\n",
      "\u001b[32m[I 2023-04-24 09:00:01,606]\u001b[0m Trial 78 finished with value: 3.1454927606410625 and parameters: {'x': 0.22644629045493447}. Best is trial 56 with value: 0.0010102971505429883.\u001b[0m\n",
      "\u001b[32m[I 2023-04-24 09:00:01,608]\u001b[0m Trial 79 finished with value: 6.142953295506459 and parameters: {'x': 4.478498193565301}. Best is trial 56 with value: 0.0010102971505429883.\u001b[0m\n",
      "\u001b[32m[I 2023-04-24 09:00:01,610]\u001b[0m Trial 80 finished with value: 6.089590248804078 and parameters: {'x': -0.4677095146722756}. Best is trial 56 with value: 0.0010102971505429883.\u001b[0m\n",
      "\u001b[32m[I 2023-04-24 09:00:01,612]\u001b[0m Trial 81 finished with value: 0.012094773456869434 and parameters: {'x': 1.8900237595802192}. Best is trial 56 with value: 0.0010102971505429883.\u001b[0m\n",
      "\u001b[32m[I 2023-04-24 09:00:01,614]\u001b[0m Trial 82 finished with value: 0.0007066142237756439 and parameters: {'x': 2.0265822163066898}. Best is trial 82 with value: 0.0007066142237756439.\u001b[0m\n",
      "\u001b[32m[I 2023-04-24 09:00:01,616]\u001b[0m Trial 83 finished with value: 0.7632505758577823 and parameters: {'x': 1.1263578673977643}. Best is trial 82 with value: 0.0007066142237756439.\u001b[0m\n",
      "\u001b[32m[I 2023-04-24 09:00:01,618]\u001b[0m Trial 84 finished with value: 2.578540727666193 and parameters: {'x': 3.6057835245344227}. Best is trial 82 with value: 0.0007066142237756439.\u001b[0m\n",
      "\u001b[32m[I 2023-04-24 09:00:01,620]\u001b[0m Trial 85 finished with value: 2.010309521690337 and parameters: {'x': 0.5821461564426547}. Best is trial 82 with value: 0.0007066142237756439.\u001b[0m\n",
      "\u001b[32m[I 2023-04-24 09:00:01,625]\u001b[0m Trial 86 finished with value: 0.7686655632203314 and parameters: {'x': 2.876735743094994}. Best is trial 82 with value: 0.0007066142237756439.\u001b[0m\n",
      "\u001b[32m[I 2023-04-24 09:00:01,628]\u001b[0m Trial 87 finished with value: 0.006278979552610938 and parameters: {'x': 2.0792400123208656}. Best is trial 82 with value: 0.0007066142237756439.\u001b[0m\n",
      "\u001b[32m[I 2023-04-24 09:00:01,630]\u001b[0m Trial 88 finished with value: 0.017746321622903082 and parameters: {'x': 2.1332153205262183}. Best is trial 82 with value: 0.0007066142237756439.\u001b[0m\n",
      "\u001b[32m[I 2023-04-24 09:00:01,632]\u001b[0m Trial 89 finished with value: 0.2539844273282694 and parameters: {'x': 1.4960313230683187}. Best is trial 82 with value: 0.0007066142237756439.\u001b[0m\n",
      "\u001b[32m[I 2023-04-24 09:00:01,635]\u001b[0m Trial 90 finished with value: 4.19406065441761 and parameters: {'x': 4.047940588595678}. Best is trial 82 with value: 0.0007066142237756439.\u001b[0m\n",
      "\u001b[32m[I 2023-04-24 09:00:01,637]\u001b[0m Trial 91 finished with value: 0.0005744636644334113 and parameters: {'x': 1.9760320283621369}. Best is trial 91 with value: 0.0005744636644334113.\u001b[0m\n",
      "\u001b[32m[I 2023-04-24 09:00:01,639]\u001b[0m Trial 92 finished with value: 0.3776207659980625 and parameters: {'x': 2.6145085564888926}. Best is trial 91 with value: 0.0005744636644334113.\u001b[0m\n",
      "\u001b[32m[I 2023-04-24 09:00:01,642]\u001b[0m Trial 93 finished with value: 0.5746993420577444 and parameters: {'x': 1.24191072949306}. Best is trial 91 with value: 0.0005744636644334113.\u001b[0m\n",
      "\u001b[32m[I 2023-04-24 09:00:01,644]\u001b[0m Trial 94 finished with value: 1.6628954486108982 and parameters: {'x': 3.289533035098713}. Best is trial 91 with value: 0.0005744636644334113.\u001b[0m\n",
      "\u001b[32m[I 2023-04-24 09:00:01,647]\u001b[0m Trial 95 finished with value: 0.0044751451519159675 and parameters: {'x': 1.9331034742911415}. Best is trial 91 with value: 0.0005744636644334113.\u001b[0m\n",
      "\u001b[32m[I 2023-04-24 09:00:01,649]\u001b[0m Trial 96 finished with value: 1.2988559838290725 and parameters: {'x': 0.860326369600019}. Best is trial 91 with value: 0.0005744636644334113.\u001b[0m\n",
      "\u001b[32m[I 2023-04-24 09:00:01,651]\u001b[0m Trial 97 finished with value: 0.4124346570104102 and parameters: {'x': 2.6422107574701705}. Best is trial 91 with value: 0.0005744636644334113.\u001b[0m\n",
      "\u001b[32m[I 2023-04-24 09:00:01,653]\u001b[0m Trial 98 finished with value: 0.06098204217587663 and parameters: {'x': 2.2469454234762747}. Best is trial 91 with value: 0.0005744636644334113.\u001b[0m\n",
      "\u001b[32m[I 2023-04-24 09:00:01,655]\u001b[0m Trial 99 finished with value: 2.4302981080545742 and parameters: {'x': 0.44105865791731147}. Best is trial 91 with value: 0.0005744636644334113.\u001b[0m\n"
     ]
    },
    {
     "name": "stdout",
     "output_type": "stream",
     "text": [
      "Best trial: FrozenTrial(number=91, state=TrialState.COMPLETE, values=[0.0005744636644334113], datetime_start=datetime.datetime(2023, 4, 24, 9, 0, 1, 635493), datetime_complete=datetime.datetime(2023, 4, 24, 9, 0, 1, 637366), params={'x': 1.9760320283621369}, user_attrs={}, system_attrs={}, intermediate_values={}, distributions={'x': FloatDistribution(high=10.0, log=False, low=-10.0, step=None)}, trial_id=91, value=None)\n"
     ]
    }
   ],
   "source": [
    "import optuna\n",
    "from optuna.study._study_direction import StudyDirection\n",
    "\n",
    "def objective(trial):\n",
    "    x = trial.suggest_float(\"x\", -10, 10)\n",
    "    return (x - 2) ** 2\n",
    "\n",
    "study = optuna.create_study(direction=StudyDirection.MINIMIZE)\n",
    "study.optimize(objective, n_trials=100)\n",
    "\n",
    "print(\"Best trial:\", study.best_trial)\n"
   ]
  },
  {
   "cell_type": "code",
   "execution_count": 2,
   "metadata": {},
   "outputs": [],
   "source": [
    "from optuna.study._multi_objective import _get_pareto_front_trials_2d"
   ]
  },
  {
   "cell_type": "code",
   "execution_count": 3,
   "metadata": {},
   "outputs": [],
   "source": [
    "from collections import namedtuple\n",
    "from optuna.trial import TrialState\n",
    "from optuna.study import StudyDirection\n",
    "from typing import Sequence, List\n",
    "\n",
    "# Create a simple Trial object with just 'number', 'state', and 'values' attributes\n",
    "SimpleTrial = namedtuple(\"SimpleTrial\", [\"number\", \"state\", \"values\"])\n",
    "\n",
    "# Create some dummy SimpleTrial objects\n",
    "trial1 = SimpleTrial(number=1, state=TrialState.COMPLETE, values=[3, 7])\n",
    "trial2 = SimpleTrial(number=2, state=TrialState.COMPLETE, values=[5, 6])\n",
    "trial3 = SimpleTrial(number=3, state=TrialState.COMPLETE, values=[2, 8])\n",
    "trial4 = SimpleTrial(number=4, state=TrialState.COMPLETE, values=[4, 9])\n",
    "\n",
    "trials: Sequence[SimpleTrial] = [trial1, trial2, trial3, trial4]\n",
    "\n",
    "# Define optimization directions for the two objectives\n",
    "directions: Sequence[StudyDirection] = [StudyDirection.MINIMIZE, StudyDirection.MAXIMIZE]\n"
   ]
  },
  {
   "cell_type": "code",
   "execution_count": 5,
   "metadata": {},
   "outputs": [
    {
     "data": {
      "text/plain": [
       "[SimpleTrial(number=3, state=TrialState.COMPLETE, values=[2, 8]),\n",
       " SimpleTrial(number=4, state=TrialState.COMPLETE, values=[4, 9])]"
      ]
     },
     "execution_count": 5,
     "metadata": {},
     "output_type": "execute_result"
    }
   ],
   "source": [
    "pareto_front_trials = _get_pareto_front_trials_2d(trials, directions)\n",
    "\n",
    "\n",
    "pareto_front_trials"
   ]
  },
  {
   "cell_type": "code",
   "execution_count": 12,
   "metadata": {},
   "outputs": [
    {
     "name": "stdout",
     "output_type": "stream",
     "text": [
      "def plot_pareto_front(\n",
      "    study: Study,\n",
      "    *,\n",
      "    target_names: Optional[List[str]] = None,\n",
      "    include_dominated_trials: bool = True,\n",
      "    axis_order: Optional[List[int]] = None,\n",
      "    constraints_func: Optional[Callable[[FrozenTrial], Sequence[float]]] = None,\n",
      "    targets: Optional[Callable[[FrozenTrial], Sequence[float]]] = None,\n",
      ") -> \"go.Figure\":\n",
      "    \"\"\"Plot the Pareto front of a study.\n",
      "\n",
      "    .. seealso::\n",
      "        Please refer to :ref:`multi_objective` for the tutorial of the Pareto front visualization.\n",
      "\n",
      "    Example:\n",
      "\n",
      "        The following code snippet shows how to plot the Pareto front of a study.\n",
      "\n",
      "        .. plotly::\n",
      "\n",
      "            import optuna\n",
      "\n",
      "\n",
      "            def objective(trial):\n",
      "                x = trial.suggest_float(\"x\", 0, 5)\n",
      "                y = trial.suggest_float(\"y\", 0, 3)\n",
      "\n",
      "                v0 = 4 * x ** 2 + 4 * y ** 2\n",
      "                v1 = (x - 5) ** 2 + (y - 5) ** 2\n",
      "                return v0, v1\n",
      "\n",
      "\n",
      "            study = optuna.create_study(directions=[\"minimize\", \"minimize\"])\n",
      "            study.optimize(objective, n_trials=50)\n",
      "\n",
      "            fig = optuna.visualization.plot_pareto_front(study)\n",
      "            fig.show()\n",
      "\n",
      "    Args:\n",
      "        study:\n",
      "            A :class:`~optuna.study.Study` object whose trials are plotted for their objective\n",
      "            values. ``study.n_objectives`` must be either 2 or 3 when ``targets`` is :obj:`None`.\n",
      "        target_names:\n",
      "            Objective name list used as the axis titles. If :obj:`None` is specified,\n",
      "            \"Objective {objective_index}\" is used instead. If ``targets`` is specified\n",
      "            for a study that does not contain any completed trial,\n",
      "            ``target_name`` must be specified.\n",
      "        include_dominated_trials:\n",
      "            A flag to include all dominated trial's objective values.\n",
      "        axis_order:\n",
      "            A list of indices indicating the axis order. If :obj:`None` is specified,\n",
      "            default order is used. ``axis_order`` and ``targets`` cannot be used at the same time.\n",
      "\n",
      "            .. warning::\n",
      "                Deprecated in v3.0.0. This feature will be removed in the future. The removal of\n",
      "                this feature is currently scheduled for v5.0.0, but this schedule is subject to\n",
      "                change. See https://github.com/optuna/optuna/releases/tag/v3.0.0.\n",
      "        constraints_func:\n",
      "            An optional function that computes the objective constraints. It must take a\n",
      "            :class:`~optuna.trial.FrozenTrial` and return the constraints. The return value must\n",
      "            be a sequence of :obj:`float` s. A value strictly larger than 0 means that a\n",
      "            constraint is violated. A value equal to or smaller than 0 is considered feasible.\n",
      "            This specification is the same as in, for example,\n",
      "            :class:`~optuna.samplers.NSGAIISampler`.\n",
      "\n",
      "            If given, trials are classified into three categories: feasible and best, feasible but\n",
      "            non-best, and infeasible. Categories are shown in different colors. Here, whether a\n",
      "            trial is best (on Pareto front) or not is determined ignoring all infeasible trials.\n",
      "\n",
      "            .. note::\n",
      "                Added in v3.0.0 as an experimental feature. The interface may change in newer\n",
      "                versions without prior notice.\n",
      "                See https://github.com/optuna/optuna/releases/tag/v3.0.0.\n",
      "        targets:\n",
      "            A function that returns targets values to display.\n",
      "            The argument to this function is :class:`~optuna.trial.FrozenTrial`.\n",
      "            ``axis_order`` and ``targets`` cannot be used at the same time.\n",
      "            If ``study.n_objectives`` is neither 2 nor 3, ``targets`` must be specified.\n",
      "\n",
      "            .. note::\n",
      "                Added in v3.0.0 as an experimental feature. The interface may change in newer\n",
      "                versions without prior notice.\n",
      "                See https://github.com/optuna/optuna/releases/tag/v3.0.0.\n",
      "\n",
      "    Returns:\n",
      "        A :class:`plotly.graph_objs.Figure` object.\n",
      "    \"\"\"\n",
      "\n",
      "    _imports.check()\n",
      "\n",
      "    info = _get_pareto_front_info(\n",
      "        study, target_names, include_dominated_trials, axis_order, constraints_func, targets\n",
      "    )\n",
      "    return _get_pareto_front_plot(info)\n",
      "\n"
     ]
    }
   ],
   "source": [
    "import optuna\n",
    "import inspect\n",
    "print(inspect.getsource(optuna.visualization.plot_pareto_front))\n",
    "#inspect.getsource(optuna.visualization.plot_pareto_front)\n"
   ]
  }
 ],
 "metadata": {
  "kernelspec": {
   "display_name": "Python 3.9.13 ('geo')",
   "language": "python",
   "name": "python3"
  },
  "language_info": {
   "codemirror_mode": {
    "name": "ipython",
    "version": 3
   },
   "file_extension": ".py",
   "mimetype": "text/x-python",
   "name": "python",
   "nbconvert_exporter": "python",
   "pygments_lexer": "ipython3",
   "version": "3.10.9"
  },
  "orig_nbformat": 4,
  "vscode": {
   "interpreter": {
    "hash": "9ccb92c3caf64d15d8cccade25008a463e602c087926676408820d80b4769698"
   }
  }
 },
 "nbformat": 4,
 "nbformat_minor": 2
}
