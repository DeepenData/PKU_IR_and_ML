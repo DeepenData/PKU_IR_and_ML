{
 "cells": [
  {
   "attachments": {},
   "cell_type": "markdown",
   "metadata": {},
   "source": [
    "This is the ensemble of models we took from multiple runs, managed by Optuna. \n",
    "We first read the optuna SQLite file, for the run information of several (5,000) models. "
   ]
  },
  {
   "cell_type": "code",
   "execution_count": 4,
   "metadata": {},
   "outputs": [
    {
     "name": "stderr",
     "output_type": "stream",
     "text": [
      "\u001b[32m[I 2023-04-27 12:05:21,557]\u001b[0m Using an existing study with name 'oversample_ADASYNT_3' instead of creating a new one.\u001b[0m\n"
     ]
    }
   ],
   "source": [
    "import optuna\n",
    "\n",
    "study_name: str = \"oversample_ADASYNT_3\" #\"TRIALS_5\"\n",
    "#study_name: str = \"SIN_IMC_CircCint\"\n",
    "\n",
    "study = optuna.create_study(\n",
    "    study_name=study_name,\n",
    "    storage=\"sqlite:///homa_studies.db\",\n",
    "    directions=[\"maximize\", \"maximize\"],\n",
    "    sampler=optuna.samplers.TPESampler(),\n",
    "    load_if_exists=True,\n",
    ")"
   ]
  },
  {
   "cell_type": "code",
   "execution_count": 5,
   "metadata": {},
   "outputs": [],
   "source": [
    "import pandas as pd\n",
    "\n",
    "df = pd.DataFrame()\n",
    "\n",
    "# for n, trial in enumerate(study.best_trials):\n",
    "for n, trial in enumerate(study.trials):\n",
    "    srs = pd.concat([\n",
    "        pd.Series(\n",
    "            trial.user_attrs[\"shap_abnormal\"], \n",
    "        ),\n",
    "        pd.Series(\n",
    "            trial.user_attrs[\"shap_healty\"], \n",
    "        ),\n",
    "        pd.Series(trial.values[0], index=[\"AUC\"]) # ,\"PheScore\"])\n",
    "        ], \n",
    "        keys = [\"SHAP_Abnormal\",\"SHAP_Healty\", \"StudyValues\"]\n",
    "    )\n",
    "    df[f\"Trial_{n}\"] = srs \n"
   ]
  },
  {
   "cell_type": "code",
   "execution_count": 6,
   "metadata": {},
   "outputs": [],
   "source": [
    "lst_seeds = [ trial.params[\"seed\"] for trial in study.trials ]\n",
    "lst_values = [ {\"AUC\" : trial.values[0] , \"Phe\" : trial.values[1]} for trial in study.trials ]\n",
    "\n",
    "df3 = pd.DataFrame(lst_values)\n",
    "df3[\"seeds\"] = pd.Series(lst_seeds)\n",
    "\n",
    "df = df.T # Ease of use\n",
    "\n",
    "lim_AUC : float = 0.90 # THIS IS THE LIMIT WE USE\n",
    "df2 = df.where( df[\"StudyValues\"][\"AUC\"] > lim_AUC ).dropna()"
   ]
  },
  {
   "attachments": {},
   "cell_type": "markdown",
   "metadata": {},
   "source": [
    "We package this info into DataFrames, for ease of use. "
   ]
  },
  {
   "cell_type": "code",
   "execution_count": 7,
   "metadata": {},
   "outputs": [],
   "source": [
    "# This exists for the plots below\n",
    "names_rename = {\n",
    "    'gender' : 'Sex',\n",
    "    'BMI' : 'BMI',\n",
    "    'Waist circumference' : 'Waist Circumference',\n",
    "    'ATPII/AHA/IDF' : 'ATPII/AHA/IDF',\n",
    "    'Phenylalax' : 'PheC',\n",
    "    'Glupromx' : 'Glucose',\n",
    "    'Insuprom' : 'Insulin',\n",
    "    'Tyrosinax' : 'Tyrosine',\n",
    "    'Alanine' : 'Alanine',\n",
    "    'Aspartate' : 'Aspartate',\n",
    "    'Glutamate' : 'Glutamate',\n",
    "    'Leucine' : 'Leucine',\n",
    "    'Ornithine' : 'Ornithine',\n",
    "    'Proline' : 'Proline',\n",
    "    'Tyrosine' : 'Tyrosine',\n",
    "    'Free Carnitine' : 'Free Carnitine',\n",
    "    'Propionylcarnitine' : 'Propionylcarnitine',\n",
    "    'Isovalerylcarnitine' : 'Isovalerylcarnitine',\n",
    "    'Tiglilcarnitine' : 'Tiglilcarnitine',\n",
    "    'Me-Glutarylcarnitine' : 'Me-Glutarylcarnitine',\n",
    "    'Decanoylcarnitine' : 'Decanoylcarnitine',\n",
    "    'Tetradecanoylcarnitine' : 'Tetradecanoylcarnitine',\n",
    "    '3-OH-Isovalerylcarnitine' : '3-OH-Isovalerylcarnitine',\n",
    "    '3-OH-Palmitoylcarnitine' : '3-OH-Palmitoylcarnitine',\n",
    "    'Linoleoilcarnitine' : 'Linoleoilcarnitine',\n",
    "    'Arginine' : 'Arginine',\n",
    "    'Citrulline' : 'Citrulline',\n",
    "    'Glycine' : 'Glycine',\n",
    "    'Methionine' : 'Methionine',\n",
    "    'Phenylalanine' : 'Phenylalanine',\n",
    "    'Succinylacetone' : 'Succinylacetone',\n",
    "    'Valine' : 'Valine',\n",
    "    'Acetylcarnitine' : 'Acetylcarnitine',\n",
    "    'Butyrylcarnitine' : 'Butyrylcarnitine',\n",
    "    'Glutarylcarnitine' : 'Glutarylcarnitine',\n",
    "    'Hexanoylcarnitine' : 'Hexanoylcarnitine',\n",
    "    'Octanoylcarnitine' : 'Octanoylcarnitine',\n",
    "    'Dodecanoylcarnitine' : 'Dodecanoylcarnitine',\n",
    "    'Tetradecenoylcarnitine' : 'Tetradecenoylcarnitine',\n",
    "    'Palmitoylcarnitine' : 'Palmitoylcarnitine',\n",
    "    'Stearoylcarnitine' : 'Stearoylcarnitine',\n",
    "    '3-OH-Linoleoylcarnitine' : '3-OH-Linoleoylcarnitine',\n",
    "    'PROTEIN_Avg_(G)' : 'Protein consumption',\n",
    "    'Protein_natural' : 'Natural protein',\n",
    "    'SP_Protein' : 'Supplemented protein',\n",
    "    'FAT_avg(G)' : 'Fat consumption average',\n",
    "}"
   ]
  },
  {
   "cell_type": "code",
   "execution_count": 8,
   "metadata": {},
   "outputs": [
    {
     "data": {
      "application/vnd.plotly.v1+json": {
       "config": {
        "plotlyServerURL": "https://plot.ly"
       },
       "data": [
        {
         "hovertemplate": "%{text}<extra>Trial</extra>",
         "marker": {
          "color": [],
          "colorbar": {
           "title": {
            "text": "Trial"
           }
          },
          "colorscale": [
           [
            0,
            "rgb(247,251,255)"
           ],
           [
            0.125,
            "rgb(222,235,247)"
           ],
           [
            0.25,
            "rgb(198,219,239)"
           ],
           [
            0.375,
            "rgb(158,202,225)"
           ],
           [
            0.5,
            "rgb(107,174,214)"
           ],
           [
            0.625,
            "rgb(66,146,198)"
           ],
           [
            0.75,
            "rgb(33,113,181)"
           ],
           [
            0.875,
            "rgb(8,81,156)"
           ],
           [
            1,
            "rgb(8,48,107)"
           ]
          ],
          "line": {
           "color": "Grey",
           "width": 0.5
          }
         },
         "mode": "markers",
         "showlegend": false,
         "text": [],
         "type": "scatter",
         "x": [],
         "y": []
        },
        {
         "hovertemplate": "%{text}<extra>Best Trial</extra>",
         "marker": {
          "color": [
           0,
           1,
           2,
           3,
           4,
           5,
           6,
           7,
           8,
           9
          ],
          "colorbar": {
           "title": {
            "text": "Best Trial"
           },
           "x": 1.1,
           "xpad": 40
          },
          "colorscale": [
           [
            0,
            "rgb(255,245,240)"
           ],
           [
            0.125,
            "rgb(254,224,210)"
           ],
           [
            0.25,
            "rgb(252,187,161)"
           ],
           [
            0.375,
            "rgb(252,146,114)"
           ],
           [
            0.5,
            "rgb(251,106,74)"
           ],
           [
            0.625,
            "rgb(239,59,44)"
           ],
           [
            0.75,
            "rgb(203,24,29)"
           ],
           [
            0.875,
            "rgb(165,15,21)"
           ],
           [
            1,
            "rgb(103,0,13)"
           ]
          ],
          "line": {
           "color": "Grey",
           "width": 0.5
          }
         },
         "mode": "markers",
         "showlegend": false,
         "text": [
          "{<br>  \"number\": 0,<br>  \"values\": [<br>    0.7924242424242424,<br>    0.2228657603263855<br>  ],<br>  \"params\": {<br>    \"seed\": 545<br>  },<br>  \"user_attrs\": {<br>    \"shap_abnormal\": {<br>      \"gender\": 0.0,<br>      \"ATPII/AHA/IDF\": 0.0,<br>      \"Phenylalax\": 0.2228657603263855,<br>      \"Glupromx\": 0.005242076236754656,<br>      \"Insuprom\": 0.0,<br>      \"Tyrosinax\": 0.0,<br>      \"Alanine\": 9.236247569788247e-05,<br>      \"Aspartate\": 0.0,<br>      \"Glutamate\": 0.0,<br>      \"Leucine\": 0.0,<br>      \"Ornithine\": 0.0,<br>      \"Proline\": 0.0,<br>      \"Tyrosine\": 0.0,<br>      \"Free Carnitine\": 0.0,<br>      \"Propionylcarnitine\": 0.012950950302183628,<br>      \"Isovalerylcarnitine\": 0.0,<br>      \"Tiglilcarnitine\": 0.0,<br>      \"Me-Glutarylcarnitine\": 0.013994738459587097,<br>      \"Decanoylcarnitine\": 0.0,<br>      \"Tetradecanoylcarnitine\": 0.0,<br>      \"3-OH-Isovalerylcarnitine\": 0.0,<br>      \"3-OH-Palmitoylcarnitine\": 0.0,<br>      \"Linoleoilcarnitine\": 0.0,<br>      \"Arginine\": 0.033682335168123245,<br>      \"Citrulline\": 0.0,<br>      \"Glycine\": 0.0,<br>      \"Methionine\": 0.22553354501724243,<br>      \"Phenylalanine\": 0.0,<br>      \"Succinylacetone\": 0.0,<br>      \"Valine\": 0.0,<br>      \"Acetylcarnitine\": 0.0,<br>      \"Butyrylcarnitine\": 0.02293095365166664,<br>      \"Glutarylcarnitine\": 0.0,<br>      \"Hexanoylcarnitine\": 0.0,<br>      \"Octanoylcarnitine\": 0.0,<br>      \"Dodecanoylcarnitine\": 0.0,<br>      \"Tetradecenoylcarnitine\": 0.0,<br>      \"Palmitoylcarnitine\": 0.0,<br>      \"Stearoylcarnitine\": 0.0,<br>      \"3-OH-Linoleoylcarnitine\": 0.0,<br>      \"PROTEIN_Avg_(G)\": 0.0,<br>      \"Protein_natural\": 0.0,<br>      \"SP_Protein\": 0.0,<br>      \"FAT_avg(G)\": 0.0<br>    },<br>    \"shap_healty\": {<br>      \"gender\": 0.0,<br>      \"ATPII/AHA/IDF\": 0.0,<br>      \"Phenylalax\": 0.06060058996081352,<br>      \"Glupromx\": 0.003604372264817357,<br>      \"Insuprom\": 0.0,<br>      \"Tyrosinax\": 0.0,<br>      \"Alanine\": 0.00012091855751350522,<br>      \"Aspartate\": 0.0,<br>      \"Glutamate\": 0.0,<br>      \"Leucine\": 0.0,<br>      \"Ornithine\": 0.0,<br>      \"Proline\": 0.0,<br>      \"Tyrosine\": 0.0,<br>      \"Free Carnitine\": 0.0,<br>      \"Propionylcarnitine\": 0.007120200432837009,<br>      \"Isovalerylcarnitine\": 0.0,<br>      \"Tiglilcarnitine\": 0.0,<br>      \"Me-Glutarylcarnitine\": 0.007242639549076557,<br>      \"Decanoylcarnitine\": 0.0,<br>      \"Tetradecanoylcarnitine\": 0.0,<br>      \"3-OH-Isovalerylcarnitine\": 0.0,<br>      \"3-OH-Palmitoylcarnitine\": 0.0,<br>      \"Linoleoilcarnitine\": 0.0,<br>      \"Arginine\": 0.011522677727043629,<br>      \"Citrulline\": 0.0,<br>      \"Glycine\": 0.0,<br>      \"Methionine\": 0.08341588079929352,<br>      \"Phenylalanine\": 0.0,<br>      \"Succinylacetone\": 0.0,<br>      \"Valine\": 0.0,<br>      \"Acetylcarnitine\": 0.0,<br>      \"Butyrylcarnitine\": 0.012068918906152248,<br>      \"Glutarylcarnitine\": 0.0,<br>      \"Hexanoylcarnitine\": 0.0,<br>      \"Octanoylcarnitine\": 0.0,<br>      \"Dodecanoylcarnitine\": 0.0,<br>      \"Tetradecenoylcarnitine\": 0.0,<br>      \"Palmitoylcarnitine\": 0.0,<br>      \"Stearoylcarnitine\": 0.0,<br>      \"3-OH-Linoleoylcarnitine\": 0.0,<br>      \"PROTEIN_Avg_(G)\": 0.0,<br>      \"Protein_natural\": 0.0,<br>      \"SP_Protein\": 0.0,<br>      \"FAT_avg(G)\": 0.0<br>    }<br>  }<br>}",
          "{<br>  \"number\": 1,<br>  \"values\": [<br>    0.7924242424242424,<br>    0.2228657603263855<br>  ],<br>  \"params\": {<br>    \"seed\": 8929<br>  },<br>  \"user_attrs\": {<br>    \"shap_abnormal\": {<br>      \"gender\": 0.0,<br>      \"ATPII/AHA/IDF\": 0.0,<br>      \"Phenylalax\": 0.2228657603263855,<br>      \"Glupromx\": 0.005242076236754656,<br>      \"Insuprom\": 0.0,<br>      \"Tyrosinax\": 0.0,<br>      \"Alanine\": 9.236247569788247e-05,<br>      \"Aspartate\": 0.0,<br>      \"Glutamate\": 0.0,<br>      \"Leucine\": 0.0,<br>      \"Ornithine\": 0.0,<br>      \"Proline\": 0.0,<br>      \"Tyrosine\": 0.0,<br>      \"Free Carnitine\": 0.0,<br>      \"Propionylcarnitine\": 0.012950950302183628,<br>      \"Isovalerylcarnitine\": 0.0,<br>      \"Tiglilcarnitine\": 0.0,<br>      \"Me-Glutarylcarnitine\": 0.013994738459587097,<br>      \"Decanoylcarnitine\": 0.0,<br>      \"Tetradecanoylcarnitine\": 0.0,<br>      \"3-OH-Isovalerylcarnitine\": 0.0,<br>      \"3-OH-Palmitoylcarnitine\": 0.0,<br>      \"Linoleoilcarnitine\": 0.0,<br>      \"Arginine\": 0.033682335168123245,<br>      \"Citrulline\": 0.0,<br>      \"Glycine\": 0.0,<br>      \"Methionine\": 0.22553354501724243,<br>      \"Phenylalanine\": 0.0,<br>      \"Succinylacetone\": 0.0,<br>      \"Valine\": 0.0,<br>      \"Acetylcarnitine\": 0.0,<br>      \"Butyrylcarnitine\": 0.02293095365166664,<br>      \"Glutarylcarnitine\": 0.0,<br>      \"Hexanoylcarnitine\": 0.0,<br>      \"Octanoylcarnitine\": 0.0,<br>      \"Dodecanoylcarnitine\": 0.0,<br>      \"Tetradecenoylcarnitine\": 0.0,<br>      \"Palmitoylcarnitine\": 0.0,<br>      \"Stearoylcarnitine\": 0.0,<br>      \"3-OH-Linoleoylcarnitine\": 0.0,<br>      \"PROTEIN_Avg_(G)\": 0.0,<br>      \"Protein_natural\": 0.0,<br>      \"SP_Protein\": 0.0,<br>      \"FAT_avg(G)\": 0.0<br>    },<br>    \"shap_healty\": {<br>      \"gender\": 0.0,<br>      \"ATPII/AHA/IDF\": 0.0,<br>      \"Phenylalax\": 0.06060058996081352,<br>      \"Glupromx\": 0.003604372264817357,<br>      \"Insuprom\": 0.0,<br>      \"Tyrosinax\": 0.0,<br>      \"Alanine\": 0.00012091855751350522,<br>      \"Aspartate\": 0.0,<br>      \"Glutamate\": 0.0,<br>      \"Leucine\": 0.0,<br>      \"Ornithine\": 0.0,<br>      \"Proline\": 0.0,<br>      \"Tyrosine\": 0.0,<br>      \"Free Carnitine\": 0.0,<br>      \"Propionylcarnitine\": 0.007120200432837009,<br>      \"Isovalerylcarnitine\": 0.0,<br>      \"Tiglilcarnitine\": 0.0,<br>      \"Me-Glutarylcarnitine\": 0.007242639549076557,<br>      \"Decanoylcarnitine\": 0.0,<br>      \"Tetradecanoylcarnitine\": 0.0,<br>      \"3-OH-Isovalerylcarnitine\": 0.0,<br>      \"3-OH-Palmitoylcarnitine\": 0.0,<br>      \"Linoleoilcarnitine\": 0.0,<br>      \"Arginine\": 0.011522677727043629,<br>      \"Citrulline\": 0.0,<br>      \"Glycine\": 0.0,<br>      \"Methionine\": 0.08341588079929352,<br>      \"Phenylalanine\": 0.0,<br>      \"Succinylacetone\": 0.0,<br>      \"Valine\": 0.0,<br>      \"Acetylcarnitine\": 0.0,<br>      \"Butyrylcarnitine\": 0.012068918906152248,<br>      \"Glutarylcarnitine\": 0.0,<br>      \"Hexanoylcarnitine\": 0.0,<br>      \"Octanoylcarnitine\": 0.0,<br>      \"Dodecanoylcarnitine\": 0.0,<br>      \"Tetradecenoylcarnitine\": 0.0,<br>      \"Palmitoylcarnitine\": 0.0,<br>      \"Stearoylcarnitine\": 0.0,<br>      \"3-OH-Linoleoylcarnitine\": 0.0,<br>      \"PROTEIN_Avg_(G)\": 0.0,<br>      \"Protein_natural\": 0.0,<br>      \"SP_Protein\": 0.0,<br>      \"FAT_avg(G)\": 0.0<br>    }<br>  }<br>}",
          "{<br>  \"number\": 2,<br>  \"values\": [<br>    0.7924242424242424,<br>    0.2228657603263855<br>  ],<br>  \"params\": {<br>    \"seed\": 3330<br>  },<br>  \"user_attrs\": {<br>    \"shap_abnormal\": {<br>      \"gender\": 0.0,<br>      \"ATPII/AHA/IDF\": 0.0,<br>      \"Phenylalax\": 0.2228657603263855,<br>      \"Glupromx\": 0.005242076236754656,<br>      \"Insuprom\": 0.0,<br>      \"Tyrosinax\": 0.0,<br>      \"Alanine\": 9.236247569788247e-05,<br>      \"Aspartate\": 0.0,<br>      \"Glutamate\": 0.0,<br>      \"Leucine\": 0.0,<br>      \"Ornithine\": 0.0,<br>      \"Proline\": 0.0,<br>      \"Tyrosine\": 0.0,<br>      \"Free Carnitine\": 0.0,<br>      \"Propionylcarnitine\": 0.012950950302183628,<br>      \"Isovalerylcarnitine\": 0.0,<br>      \"Tiglilcarnitine\": 0.0,<br>      \"Me-Glutarylcarnitine\": 0.013994738459587097,<br>      \"Decanoylcarnitine\": 0.0,<br>      \"Tetradecanoylcarnitine\": 0.0,<br>      \"3-OH-Isovalerylcarnitine\": 0.0,<br>      \"3-OH-Palmitoylcarnitine\": 0.0,<br>      \"Linoleoilcarnitine\": 0.0,<br>      \"Arginine\": 0.033682335168123245,<br>      \"Citrulline\": 0.0,<br>      \"Glycine\": 0.0,<br>      \"Methionine\": 0.22553354501724243,<br>      \"Phenylalanine\": 0.0,<br>      \"Succinylacetone\": 0.0,<br>      \"Valine\": 0.0,<br>      \"Acetylcarnitine\": 0.0,<br>      \"Butyrylcarnitine\": 0.02293095365166664,<br>      \"Glutarylcarnitine\": 0.0,<br>      \"Hexanoylcarnitine\": 0.0,<br>      \"Octanoylcarnitine\": 0.0,<br>      \"Dodecanoylcarnitine\": 0.0,<br>      \"Tetradecenoylcarnitine\": 0.0,<br>      \"Palmitoylcarnitine\": 0.0,<br>      \"Stearoylcarnitine\": 0.0,<br>      \"3-OH-Linoleoylcarnitine\": 0.0,<br>      \"PROTEIN_Avg_(G)\": 0.0,<br>      \"Protein_natural\": 0.0,<br>      \"SP_Protein\": 0.0,<br>      \"FAT_avg(G)\": 0.0<br>    },<br>    \"shap_healty\": {<br>      \"gender\": 0.0,<br>      \"ATPII/AHA/IDF\": 0.0,<br>      \"Phenylalax\": 0.06060058996081352,<br>      \"Glupromx\": 0.003604372264817357,<br>      \"Insuprom\": 0.0,<br>      \"Tyrosinax\": 0.0,<br>      \"Alanine\": 0.00012091855751350522,<br>      \"Aspartate\": 0.0,<br>      \"Glutamate\": 0.0,<br>      \"Leucine\": 0.0,<br>      \"Ornithine\": 0.0,<br>      \"Proline\": 0.0,<br>      \"Tyrosine\": 0.0,<br>      \"Free Carnitine\": 0.0,<br>      \"Propionylcarnitine\": 0.007120200432837009,<br>      \"Isovalerylcarnitine\": 0.0,<br>      \"Tiglilcarnitine\": 0.0,<br>      \"Me-Glutarylcarnitine\": 0.007242639549076557,<br>      \"Decanoylcarnitine\": 0.0,<br>      \"Tetradecanoylcarnitine\": 0.0,<br>      \"3-OH-Isovalerylcarnitine\": 0.0,<br>      \"3-OH-Palmitoylcarnitine\": 0.0,<br>      \"Linoleoilcarnitine\": 0.0,<br>      \"Arginine\": 0.011522677727043629,<br>      \"Citrulline\": 0.0,<br>      \"Glycine\": 0.0,<br>      \"Methionine\": 0.08341588079929352,<br>      \"Phenylalanine\": 0.0,<br>      \"Succinylacetone\": 0.0,<br>      \"Valine\": 0.0,<br>      \"Acetylcarnitine\": 0.0,<br>      \"Butyrylcarnitine\": 0.012068918906152248,<br>      \"Glutarylcarnitine\": 0.0,<br>      \"Hexanoylcarnitine\": 0.0,<br>      \"Octanoylcarnitine\": 0.0,<br>      \"Dodecanoylcarnitine\": 0.0,<br>      \"Tetradecenoylcarnitine\": 0.0,<br>      \"Palmitoylcarnitine\": 0.0,<br>      \"Stearoylcarnitine\": 0.0,<br>      \"3-OH-Linoleoylcarnitine\": 0.0,<br>      \"PROTEIN_Avg_(G)\": 0.0,<br>      \"Protein_natural\": 0.0,<br>      \"SP_Protein\": 0.0,<br>      \"FAT_avg(G)\": 0.0<br>    }<br>  }<br>}",
          "{<br>  \"number\": 3,<br>  \"values\": [<br>    0.7924242424242424,<br>    0.2228657603263855<br>  ],<br>  \"params\": {<br>    \"seed\": 670<br>  },<br>  \"user_attrs\": {<br>    \"shap_abnormal\": {<br>      \"gender\": 0.0,<br>      \"ATPII/AHA/IDF\": 0.0,<br>      \"Phenylalax\": 0.2228657603263855,<br>      \"Glupromx\": 0.005242076236754656,<br>      \"Insuprom\": 0.0,<br>      \"Tyrosinax\": 0.0,<br>      \"Alanine\": 9.236247569788247e-05,<br>      \"Aspartate\": 0.0,<br>      \"Glutamate\": 0.0,<br>      \"Leucine\": 0.0,<br>      \"Ornithine\": 0.0,<br>      \"Proline\": 0.0,<br>      \"Tyrosine\": 0.0,<br>      \"Free Carnitine\": 0.0,<br>      \"Propionylcarnitine\": 0.012950950302183628,<br>      \"Isovalerylcarnitine\": 0.0,<br>      \"Tiglilcarnitine\": 0.0,<br>      \"Me-Glutarylcarnitine\": 0.013994738459587097,<br>      \"Decanoylcarnitine\": 0.0,<br>      \"Tetradecanoylcarnitine\": 0.0,<br>      \"3-OH-Isovalerylcarnitine\": 0.0,<br>      \"3-OH-Palmitoylcarnitine\": 0.0,<br>      \"Linoleoilcarnitine\": 0.0,<br>      \"Arginine\": 0.033682335168123245,<br>      \"Citrulline\": 0.0,<br>      \"Glycine\": 0.0,<br>      \"Methionine\": 0.22553354501724243,<br>      \"Phenylalanine\": 0.0,<br>      \"Succinylacetone\": 0.0,<br>      \"Valine\": 0.0,<br>      \"Acetylcarnitine\": 0.0,<br>      \"Butyrylcarnitine\": 0.02293095365166664,<br>      \"Glutarylcarnitine\": 0.0,<br>      \"Hexanoylcarnitine\": 0.0,<br>      \"Octanoylcarnitine\": 0.0,<br>      \"Dodecanoylcarnitine\": 0.0,<br>      \"Tetradecenoylcarnitine\": 0.0,<br>      \"Palmitoylcarnitine\": 0.0,<br>      \"Stearoylcarnitine\": 0.0,<br>      \"3-OH-Linoleoylcarnitine\": 0.0,<br>      \"PROTEIN_Avg_(G)\": 0.0,<br>      \"Protein_natural\": 0.0,<br>      \"SP_Protein\": 0.0,<br>      \"FAT_avg(G)\": 0.0<br>    },<br>    \"shap_healty\": {<br>      \"gender\": 0.0,<br>      \"ATPII/AHA/IDF\": 0.0,<br>      \"Phenylalax\": 0.06060058996081352,<br>      \"Glupromx\": 0.003604372264817357,<br>      \"Insuprom\": 0.0,<br>      \"Tyrosinax\": 0.0,<br>      \"Alanine\": 0.00012091855751350522,<br>      \"Aspartate\": 0.0,<br>      \"Glutamate\": 0.0,<br>      \"Leucine\": 0.0,<br>      \"Ornithine\": 0.0,<br>      \"Proline\": 0.0,<br>      \"Tyrosine\": 0.0,<br>      \"Free Carnitine\": 0.0,<br>      \"Propionylcarnitine\": 0.007120200432837009,<br>      \"Isovalerylcarnitine\": 0.0,<br>      \"Tiglilcarnitine\": 0.0,<br>      \"Me-Glutarylcarnitine\": 0.007242639549076557,<br>      \"Decanoylcarnitine\": 0.0,<br>      \"Tetradecanoylcarnitine\": 0.0,<br>      \"3-OH-Isovalerylcarnitine\": 0.0,<br>      \"3-OH-Palmitoylcarnitine\": 0.0,<br>      \"Linoleoilcarnitine\": 0.0,<br>      \"Arginine\": 0.011522677727043629,<br>      \"Citrulline\": 0.0,<br>      \"Glycine\": 0.0,<br>      \"Methionine\": 0.08341588079929352,<br>      \"Phenylalanine\": 0.0,<br>      \"Succinylacetone\": 0.0,<br>      \"Valine\": 0.0,<br>      \"Acetylcarnitine\": 0.0,<br>      \"Butyrylcarnitine\": 0.012068918906152248,<br>      \"Glutarylcarnitine\": 0.0,<br>      \"Hexanoylcarnitine\": 0.0,<br>      \"Octanoylcarnitine\": 0.0,<br>      \"Dodecanoylcarnitine\": 0.0,<br>      \"Tetradecenoylcarnitine\": 0.0,<br>      \"Palmitoylcarnitine\": 0.0,<br>      \"Stearoylcarnitine\": 0.0,<br>      \"3-OH-Linoleoylcarnitine\": 0.0,<br>      \"PROTEIN_Avg_(G)\": 0.0,<br>      \"Protein_natural\": 0.0,<br>      \"SP_Protein\": 0.0,<br>      \"FAT_avg(G)\": 0.0<br>    }<br>  }<br>}",
          "{<br>  \"number\": 4,<br>  \"values\": [<br>    0.7924242424242424,<br>    0.2228657603263855<br>  ],<br>  \"params\": {<br>    \"seed\": 8569<br>  },<br>  \"user_attrs\": {<br>    \"shap_abnormal\": {<br>      \"gender\": 0.0,<br>      \"ATPII/AHA/IDF\": 0.0,<br>      \"Phenylalax\": 0.2228657603263855,<br>      \"Glupromx\": 0.005242076236754656,<br>      \"Insuprom\": 0.0,<br>      \"Tyrosinax\": 0.0,<br>      \"Alanine\": 9.236247569788247e-05,<br>      \"Aspartate\": 0.0,<br>      \"Glutamate\": 0.0,<br>      \"Leucine\": 0.0,<br>      \"Ornithine\": 0.0,<br>      \"Proline\": 0.0,<br>      \"Tyrosine\": 0.0,<br>      \"Free Carnitine\": 0.0,<br>      \"Propionylcarnitine\": 0.012950950302183628,<br>      \"Isovalerylcarnitine\": 0.0,<br>      \"Tiglilcarnitine\": 0.0,<br>      \"Me-Glutarylcarnitine\": 0.013994738459587097,<br>      \"Decanoylcarnitine\": 0.0,<br>      \"Tetradecanoylcarnitine\": 0.0,<br>      \"3-OH-Isovalerylcarnitine\": 0.0,<br>      \"3-OH-Palmitoylcarnitine\": 0.0,<br>      \"Linoleoilcarnitine\": 0.0,<br>      \"Arginine\": 0.033682335168123245,<br>      \"Citrulline\": 0.0,<br>      \"Glycine\": 0.0,<br>      \"Methionine\": 0.22553354501724243,<br>      \"Phenylalanine\": 0.0,<br>      \"Succinylacetone\": 0.0,<br>      \"Valine\": 0.0,<br>      \"Acetylcarnitine\": 0.0,<br>      \"Butyrylcarnitine\": 0.02293095365166664,<br>      \"Glutarylcarnitine\": 0.0,<br>      \"Hexanoylcarnitine\": 0.0,<br>      \"Octanoylcarnitine\": 0.0,<br>      \"Dodecanoylcarnitine\": 0.0,<br>      \"Tetradecenoylcarnitine\": 0.0,<br>      \"Palmitoylcarnitine\": 0.0,<br>      \"Stearoylcarnitine\": 0.0,<br>      \"3-OH-Linoleoylcarnitine\": 0.0,<br>      \"PROTEIN_Avg_(G)\": 0.0,<br>      \"Protein_natural\": 0.0,<br>      \"SP_Protein\": 0.0,<br>      \"FAT_avg(G)\": 0.0<br>    },<br>    \"shap_healty\": {<br>      \"gender\": 0.0,<br>      \"ATPII/AHA/IDF\": 0.0,<br>      \"Phenylalax\": 0.06060058996081352,<br>      \"Glupromx\": 0.003604372264817357,<br>      \"Insuprom\": 0.0,<br>      \"Tyrosinax\": 0.0,<br>      \"Alanine\": 0.00012091855751350522,<br>      \"Aspartate\": 0.0,<br>      \"Glutamate\": 0.0,<br>      \"Leucine\": 0.0,<br>      \"Ornithine\": 0.0,<br>      \"Proline\": 0.0,<br>      \"Tyrosine\": 0.0,<br>      \"Free Carnitine\": 0.0,<br>      \"Propionylcarnitine\": 0.007120200432837009,<br>      \"Isovalerylcarnitine\": 0.0,<br>      \"Tiglilcarnitine\": 0.0,<br>      \"Me-Glutarylcarnitine\": 0.007242639549076557,<br>      \"Decanoylcarnitine\": 0.0,<br>      \"Tetradecanoylcarnitine\": 0.0,<br>      \"3-OH-Isovalerylcarnitine\": 0.0,<br>      \"3-OH-Palmitoylcarnitine\": 0.0,<br>      \"Linoleoilcarnitine\": 0.0,<br>      \"Arginine\": 0.011522677727043629,<br>      \"Citrulline\": 0.0,<br>      \"Glycine\": 0.0,<br>      \"Methionine\": 0.08341588079929352,<br>      \"Phenylalanine\": 0.0,<br>      \"Succinylacetone\": 0.0,<br>      \"Valine\": 0.0,<br>      \"Acetylcarnitine\": 0.0,<br>      \"Butyrylcarnitine\": 0.012068918906152248,<br>      \"Glutarylcarnitine\": 0.0,<br>      \"Hexanoylcarnitine\": 0.0,<br>      \"Octanoylcarnitine\": 0.0,<br>      \"Dodecanoylcarnitine\": 0.0,<br>      \"Tetradecenoylcarnitine\": 0.0,<br>      \"Palmitoylcarnitine\": 0.0,<br>      \"Stearoylcarnitine\": 0.0,<br>      \"3-OH-Linoleoylcarnitine\": 0.0,<br>      \"PROTEIN_Avg_(G)\": 0.0,<br>      \"Protein_natural\": 0.0,<br>      \"SP_Protein\": 0.0,<br>      \"FAT_avg(G)\": 0.0<br>    }<br>  }<br>}",
          "{<br>  \"number\": 5,<br>  \"values\": [<br>    0.7924242424242424,<br>    0.2228657603263855<br>  ],<br>  \"params\": {<br>    \"seed\": 6967<br>  },<br>  \"user_attrs\": {<br>    \"shap_abnormal\": {<br>      \"gender\": 0.0,<br>      \"ATPII/AHA/IDF\": 0.0,<br>      \"Phenylalax\": 0.2228657603263855,<br>      \"Glupromx\": 0.005242076236754656,<br>      \"Insuprom\": 0.0,<br>      \"Tyrosinax\": 0.0,<br>      \"Alanine\": 9.236247569788247e-05,<br>      \"Aspartate\": 0.0,<br>      \"Glutamate\": 0.0,<br>      \"Leucine\": 0.0,<br>      \"Ornithine\": 0.0,<br>      \"Proline\": 0.0,<br>      \"Tyrosine\": 0.0,<br>      \"Free Carnitine\": 0.0,<br>      \"Propionylcarnitine\": 0.012950950302183628,<br>      \"Isovalerylcarnitine\": 0.0,<br>      \"Tiglilcarnitine\": 0.0,<br>      \"Me-Glutarylcarnitine\": 0.013994738459587097,<br>      \"Decanoylcarnitine\": 0.0,<br>      \"Tetradecanoylcarnitine\": 0.0,<br>      \"3-OH-Isovalerylcarnitine\": 0.0,<br>      \"3-OH-Palmitoylcarnitine\": 0.0,<br>      \"Linoleoilcarnitine\": 0.0,<br>      \"Arginine\": 0.033682335168123245,<br>      \"Citrulline\": 0.0,<br>      \"Glycine\": 0.0,<br>      \"Methionine\": 0.22553354501724243,<br>      \"Phenylalanine\": 0.0,<br>      \"Succinylacetone\": 0.0,<br>      \"Valine\": 0.0,<br>      \"Acetylcarnitine\": 0.0,<br>      \"Butyrylcarnitine\": 0.02293095365166664,<br>      \"Glutarylcarnitine\": 0.0,<br>      \"Hexanoylcarnitine\": 0.0,<br>      \"Octanoylcarnitine\": 0.0,<br>      \"Dodecanoylcarnitine\": 0.0,<br>      \"Tetradecenoylcarnitine\": 0.0,<br>      \"Palmitoylcarnitine\": 0.0,<br>      \"Stearoylcarnitine\": 0.0,<br>      \"3-OH-Linoleoylcarnitine\": 0.0,<br>      \"PROTEIN_Avg_(G)\": 0.0,<br>      \"Protein_natural\": 0.0,<br>      \"SP_Protein\": 0.0,<br>      \"FAT_avg(G)\": 0.0<br>    },<br>    \"shap_healty\": {<br>      \"gender\": 0.0,<br>      \"ATPII/AHA/IDF\": 0.0,<br>      \"Phenylalax\": 0.06060058996081352,<br>      \"Glupromx\": 0.003604372264817357,<br>      \"Insuprom\": 0.0,<br>      \"Tyrosinax\": 0.0,<br>      \"Alanine\": 0.00012091855751350522,<br>      \"Aspartate\": 0.0,<br>      \"Glutamate\": 0.0,<br>      \"Leucine\": 0.0,<br>      \"Ornithine\": 0.0,<br>      \"Proline\": 0.0,<br>      \"Tyrosine\": 0.0,<br>      \"Free Carnitine\": 0.0,<br>      \"Propionylcarnitine\": 0.007120200432837009,<br>      \"Isovalerylcarnitine\": 0.0,<br>      \"Tiglilcarnitine\": 0.0,<br>      \"Me-Glutarylcarnitine\": 0.007242639549076557,<br>      \"Decanoylcarnitine\": 0.0,<br>      \"Tetradecanoylcarnitine\": 0.0,<br>      \"3-OH-Isovalerylcarnitine\": 0.0,<br>      \"3-OH-Palmitoylcarnitine\": 0.0,<br>      \"Linoleoilcarnitine\": 0.0,<br>      \"Arginine\": 0.011522677727043629,<br>      \"Citrulline\": 0.0,<br>      \"Glycine\": 0.0,<br>      \"Methionine\": 0.08341588079929352,<br>      \"Phenylalanine\": 0.0,<br>      \"Succinylacetone\": 0.0,<br>      \"Valine\": 0.0,<br>      \"Acetylcarnitine\": 0.0,<br>      \"Butyrylcarnitine\": 0.012068918906152248,<br>      \"Glutarylcarnitine\": 0.0,<br>      \"Hexanoylcarnitine\": 0.0,<br>      \"Octanoylcarnitine\": 0.0,<br>      \"Dodecanoylcarnitine\": 0.0,<br>      \"Tetradecenoylcarnitine\": 0.0,<br>      \"Palmitoylcarnitine\": 0.0,<br>      \"Stearoylcarnitine\": 0.0,<br>      \"3-OH-Linoleoylcarnitine\": 0.0,<br>      \"PROTEIN_Avg_(G)\": 0.0,<br>      \"Protein_natural\": 0.0,<br>      \"SP_Protein\": 0.0,<br>      \"FAT_avg(G)\": 0.0<br>    }<br>  }<br>}",
          "{<br>  \"number\": 6,<br>  \"values\": [<br>    0.7924242424242424,<br>    0.2228657603263855<br>  ],<br>  \"params\": {<br>    \"seed\": 1545<br>  },<br>  \"user_attrs\": {<br>    \"shap_abnormal\": {<br>      \"gender\": 0.0,<br>      \"ATPII/AHA/IDF\": 0.0,<br>      \"Phenylalax\": 0.2228657603263855,<br>      \"Glupromx\": 0.005242076236754656,<br>      \"Insuprom\": 0.0,<br>      \"Tyrosinax\": 0.0,<br>      \"Alanine\": 9.236247569788247e-05,<br>      \"Aspartate\": 0.0,<br>      \"Glutamate\": 0.0,<br>      \"Leucine\": 0.0,<br>      \"Ornithine\": 0.0,<br>      \"Proline\": 0.0,<br>      \"Tyrosine\": 0.0,<br>      \"Free Carnitine\": 0.0,<br>      \"Propionylcarnitine\": 0.012950950302183628,<br>      \"Isovalerylcarnitine\": 0.0,<br>      \"Tiglilcarnitine\": 0.0,<br>      \"Me-Glutarylcarnitine\": 0.013994738459587097,<br>      \"Decanoylcarnitine\": 0.0,<br>      \"Tetradecanoylcarnitine\": 0.0,<br>      \"3-OH-Isovalerylcarnitine\": 0.0,<br>      \"3-OH-Palmitoylcarnitine\": 0.0,<br>      \"Linoleoilcarnitine\": 0.0,<br>      \"Arginine\": 0.033682335168123245,<br>      \"Citrulline\": 0.0,<br>      \"Glycine\": 0.0,<br>      \"Methionine\": 0.22553354501724243,<br>      \"Phenylalanine\": 0.0,<br>      \"Succinylacetone\": 0.0,<br>      \"Valine\": 0.0,<br>      \"Acetylcarnitine\": 0.0,<br>      \"Butyrylcarnitine\": 0.02293095365166664,<br>      \"Glutarylcarnitine\": 0.0,<br>      \"Hexanoylcarnitine\": 0.0,<br>      \"Octanoylcarnitine\": 0.0,<br>      \"Dodecanoylcarnitine\": 0.0,<br>      \"Tetradecenoylcarnitine\": 0.0,<br>      \"Palmitoylcarnitine\": 0.0,<br>      \"Stearoylcarnitine\": 0.0,<br>      \"3-OH-Linoleoylcarnitine\": 0.0,<br>      \"PROTEIN_Avg_(G)\": 0.0,<br>      \"Protein_natural\": 0.0,<br>      \"SP_Protein\": 0.0,<br>      \"FAT_avg(G)\": 0.0<br>    },<br>    \"shap_healty\": {<br>      \"gender\": 0.0,<br>      \"ATPII/AHA/IDF\": 0.0,<br>      \"Phenylalax\": 0.06060058996081352,<br>      \"Glupromx\": 0.003604372264817357,<br>      \"Insuprom\": 0.0,<br>      \"Tyrosinax\": 0.0,<br>      \"Alanine\": 0.00012091855751350522,<br>      \"Aspartate\": 0.0,<br>      \"Glutamate\": 0.0,<br>      \"Leucine\": 0.0,<br>      \"Ornithine\": 0.0,<br>      \"Proline\": 0.0,<br>      \"Tyrosine\": 0.0,<br>      \"Free Carnitine\": 0.0,<br>      \"Propionylcarnitine\": 0.007120200432837009,<br>      \"Isovalerylcarnitine\": 0.0,<br>      \"Tiglilcarnitine\": 0.0,<br>      \"Me-Glutarylcarnitine\": 0.007242639549076557,<br>      \"Decanoylcarnitine\": 0.0,<br>      \"Tetradecanoylcarnitine\": 0.0,<br>      \"3-OH-Isovalerylcarnitine\": 0.0,<br>      \"3-OH-Palmitoylcarnitine\": 0.0,<br>      \"Linoleoilcarnitine\": 0.0,<br>      \"Arginine\": 0.011522677727043629,<br>      \"Citrulline\": 0.0,<br>      \"Glycine\": 0.0,<br>      \"Methionine\": 0.08341588079929352,<br>      \"Phenylalanine\": 0.0,<br>      \"Succinylacetone\": 0.0,<br>      \"Valine\": 0.0,<br>      \"Acetylcarnitine\": 0.0,<br>      \"Butyrylcarnitine\": 0.012068918906152248,<br>      \"Glutarylcarnitine\": 0.0,<br>      \"Hexanoylcarnitine\": 0.0,<br>      \"Octanoylcarnitine\": 0.0,<br>      \"Dodecanoylcarnitine\": 0.0,<br>      \"Tetradecenoylcarnitine\": 0.0,<br>      \"Palmitoylcarnitine\": 0.0,<br>      \"Stearoylcarnitine\": 0.0,<br>      \"3-OH-Linoleoylcarnitine\": 0.0,<br>      \"PROTEIN_Avg_(G)\": 0.0,<br>      \"Protein_natural\": 0.0,<br>      \"SP_Protein\": 0.0,<br>      \"FAT_avg(G)\": 0.0<br>    }<br>  }<br>}",
          "{<br>  \"number\": 7,<br>  \"values\": [<br>    0.7924242424242424,<br>    0.2228657603263855<br>  ],<br>  \"params\": {<br>    \"seed\": 5436<br>  },<br>  \"user_attrs\": {<br>    \"shap_abnormal\": {<br>      \"gender\": 0.0,<br>      \"ATPII/AHA/IDF\": 0.0,<br>      \"Phenylalax\": 0.2228657603263855,<br>      \"Glupromx\": 0.005242076236754656,<br>      \"Insuprom\": 0.0,<br>      \"Tyrosinax\": 0.0,<br>      \"Alanine\": 9.236247569788247e-05,<br>      \"Aspartate\": 0.0,<br>      \"Glutamate\": 0.0,<br>      \"Leucine\": 0.0,<br>      \"Ornithine\": 0.0,<br>      \"Proline\": 0.0,<br>      \"Tyrosine\": 0.0,<br>      \"Free Carnitine\": 0.0,<br>      \"Propionylcarnitine\": 0.012950950302183628,<br>      \"Isovalerylcarnitine\": 0.0,<br>      \"Tiglilcarnitine\": 0.0,<br>      \"Me-Glutarylcarnitine\": 0.013994738459587097,<br>      \"Decanoylcarnitine\": 0.0,<br>      \"Tetradecanoylcarnitine\": 0.0,<br>      \"3-OH-Isovalerylcarnitine\": 0.0,<br>      \"3-OH-Palmitoylcarnitine\": 0.0,<br>      \"Linoleoilcarnitine\": 0.0,<br>      \"Arginine\": 0.033682335168123245,<br>      \"Citrulline\": 0.0,<br>      \"Glycine\": 0.0,<br>      \"Methionine\": 0.22553354501724243,<br>      \"Phenylalanine\": 0.0,<br>      \"Succinylacetone\": 0.0,<br>      \"Valine\": 0.0,<br>      \"Acetylcarnitine\": 0.0,<br>      \"Butyrylcarnitine\": 0.02293095365166664,<br>      \"Glutarylcarnitine\": 0.0,<br>      \"Hexanoylcarnitine\": 0.0,<br>      \"Octanoylcarnitine\": 0.0,<br>      \"Dodecanoylcarnitine\": 0.0,<br>      \"Tetradecenoylcarnitine\": 0.0,<br>      \"Palmitoylcarnitine\": 0.0,<br>      \"Stearoylcarnitine\": 0.0,<br>      \"3-OH-Linoleoylcarnitine\": 0.0,<br>      \"PROTEIN_Avg_(G)\": 0.0,<br>      \"Protein_natural\": 0.0,<br>      \"SP_Protein\": 0.0,<br>      \"FAT_avg(G)\": 0.0<br>    },<br>    \"shap_healty\": {<br>      \"gender\": 0.0,<br>      \"ATPII/AHA/IDF\": 0.0,<br>      \"Phenylalax\": 0.06060058996081352,<br>      \"Glupromx\": 0.003604372264817357,<br>      \"Insuprom\": 0.0,<br>      \"Tyrosinax\": 0.0,<br>      \"Alanine\": 0.00012091855751350522,<br>      \"Aspartate\": 0.0,<br>      \"Glutamate\": 0.0,<br>      \"Leucine\": 0.0,<br>      \"Ornithine\": 0.0,<br>      \"Proline\": 0.0,<br>      \"Tyrosine\": 0.0,<br>      \"Free Carnitine\": 0.0,<br>      \"Propionylcarnitine\": 0.007120200432837009,<br>      \"Isovalerylcarnitine\": 0.0,<br>      \"Tiglilcarnitine\": 0.0,<br>      \"Me-Glutarylcarnitine\": 0.007242639549076557,<br>      \"Decanoylcarnitine\": 0.0,<br>      \"Tetradecanoylcarnitine\": 0.0,<br>      \"3-OH-Isovalerylcarnitine\": 0.0,<br>      \"3-OH-Palmitoylcarnitine\": 0.0,<br>      \"Linoleoilcarnitine\": 0.0,<br>      \"Arginine\": 0.011522677727043629,<br>      \"Citrulline\": 0.0,<br>      \"Glycine\": 0.0,<br>      \"Methionine\": 0.08341588079929352,<br>      \"Phenylalanine\": 0.0,<br>      \"Succinylacetone\": 0.0,<br>      \"Valine\": 0.0,<br>      \"Acetylcarnitine\": 0.0,<br>      \"Butyrylcarnitine\": 0.012068918906152248,<br>      \"Glutarylcarnitine\": 0.0,<br>      \"Hexanoylcarnitine\": 0.0,<br>      \"Octanoylcarnitine\": 0.0,<br>      \"Dodecanoylcarnitine\": 0.0,<br>      \"Tetradecenoylcarnitine\": 0.0,<br>      \"Palmitoylcarnitine\": 0.0,<br>      \"Stearoylcarnitine\": 0.0,<br>      \"3-OH-Linoleoylcarnitine\": 0.0,<br>      \"PROTEIN_Avg_(G)\": 0.0,<br>      \"Protein_natural\": 0.0,<br>      \"SP_Protein\": 0.0,<br>      \"FAT_avg(G)\": 0.0<br>    }<br>  }<br>}",
          "{<br>  \"number\": 8,<br>  \"values\": [<br>    0.7924242424242424,<br>    0.2228657603263855<br>  ],<br>  \"params\": {<br>    \"seed\": 5676<br>  },<br>  \"user_attrs\": {<br>    \"shap_abnormal\": {<br>      \"gender\": 0.0,<br>      \"ATPII/AHA/IDF\": 0.0,<br>      \"Phenylalax\": 0.2228657603263855,<br>      \"Glupromx\": 0.005242076236754656,<br>      \"Insuprom\": 0.0,<br>      \"Tyrosinax\": 0.0,<br>      \"Alanine\": 9.236247569788247e-05,<br>      \"Aspartate\": 0.0,<br>      \"Glutamate\": 0.0,<br>      \"Leucine\": 0.0,<br>      \"Ornithine\": 0.0,<br>      \"Proline\": 0.0,<br>      \"Tyrosine\": 0.0,<br>      \"Free Carnitine\": 0.0,<br>      \"Propionylcarnitine\": 0.012950950302183628,<br>      \"Isovalerylcarnitine\": 0.0,<br>      \"Tiglilcarnitine\": 0.0,<br>      \"Me-Glutarylcarnitine\": 0.013994738459587097,<br>      \"Decanoylcarnitine\": 0.0,<br>      \"Tetradecanoylcarnitine\": 0.0,<br>      \"3-OH-Isovalerylcarnitine\": 0.0,<br>      \"3-OH-Palmitoylcarnitine\": 0.0,<br>      \"Linoleoilcarnitine\": 0.0,<br>      \"Arginine\": 0.033682335168123245,<br>      \"Citrulline\": 0.0,<br>      \"Glycine\": 0.0,<br>      \"Methionine\": 0.22553354501724243,<br>      \"Phenylalanine\": 0.0,<br>      \"Succinylacetone\": 0.0,<br>      \"Valine\": 0.0,<br>      \"Acetylcarnitine\": 0.0,<br>      \"Butyrylcarnitine\": 0.02293095365166664,<br>      \"Glutarylcarnitine\": 0.0,<br>      \"Hexanoylcarnitine\": 0.0,<br>      \"Octanoylcarnitine\": 0.0,<br>      \"Dodecanoylcarnitine\": 0.0,<br>      \"Tetradecenoylcarnitine\": 0.0,<br>      \"Palmitoylcarnitine\": 0.0,<br>      \"Stearoylcarnitine\": 0.0,<br>      \"3-OH-Linoleoylcarnitine\": 0.0,<br>      \"PROTEIN_Avg_(G)\": 0.0,<br>      \"Protein_natural\": 0.0,<br>      \"SP_Protein\": 0.0,<br>      \"FAT_avg(G)\": 0.0<br>    },<br>    \"shap_healty\": {<br>      \"gender\": 0.0,<br>      \"ATPII/AHA/IDF\": 0.0,<br>      \"Phenylalax\": 0.06060058996081352,<br>      \"Glupromx\": 0.003604372264817357,<br>      \"Insuprom\": 0.0,<br>      \"Tyrosinax\": 0.0,<br>      \"Alanine\": 0.00012091855751350522,<br>      \"Aspartate\": 0.0,<br>      \"Glutamate\": 0.0,<br>      \"Leucine\": 0.0,<br>      \"Ornithine\": 0.0,<br>      \"Proline\": 0.0,<br>      \"Tyrosine\": 0.0,<br>      \"Free Carnitine\": 0.0,<br>      \"Propionylcarnitine\": 0.007120200432837009,<br>      \"Isovalerylcarnitine\": 0.0,<br>      \"Tiglilcarnitine\": 0.0,<br>      \"Me-Glutarylcarnitine\": 0.007242639549076557,<br>      \"Decanoylcarnitine\": 0.0,<br>      \"Tetradecanoylcarnitine\": 0.0,<br>      \"3-OH-Isovalerylcarnitine\": 0.0,<br>      \"3-OH-Palmitoylcarnitine\": 0.0,<br>      \"Linoleoilcarnitine\": 0.0,<br>      \"Arginine\": 0.011522677727043629,<br>      \"Citrulline\": 0.0,<br>      \"Glycine\": 0.0,<br>      \"Methionine\": 0.08341588079929352,<br>      \"Phenylalanine\": 0.0,<br>      \"Succinylacetone\": 0.0,<br>      \"Valine\": 0.0,<br>      \"Acetylcarnitine\": 0.0,<br>      \"Butyrylcarnitine\": 0.012068918906152248,<br>      \"Glutarylcarnitine\": 0.0,<br>      \"Hexanoylcarnitine\": 0.0,<br>      \"Octanoylcarnitine\": 0.0,<br>      \"Dodecanoylcarnitine\": 0.0,<br>      \"Tetradecenoylcarnitine\": 0.0,<br>      \"Palmitoylcarnitine\": 0.0,<br>      \"Stearoylcarnitine\": 0.0,<br>      \"3-OH-Linoleoylcarnitine\": 0.0,<br>      \"PROTEIN_Avg_(G)\": 0.0,<br>      \"Protein_natural\": 0.0,<br>      \"SP_Protein\": 0.0,<br>      \"FAT_avg(G)\": 0.0<br>    }<br>  }<br>}",
          "{<br>  \"number\": 9,<br>  \"values\": [<br>    0.7924242424242424,<br>    0.2228657603263855<br>  ],<br>  \"params\": {<br>    \"seed\": 4722<br>  },<br>  \"user_attrs\": {<br>    \"shap_abnormal\": {<br>      \"gender\": 0.0,<br>      \"ATPII/AHA/IDF\": 0.0,<br>      \"Phenylalax\": 0.2228657603263855,<br>      \"Glupromx\": 0.005242076236754656,<br>      \"Insuprom\": 0.0,<br>      \"Tyrosinax\": 0.0,<br>      \"Alanine\": 9.236247569788247e-05,<br>      \"Aspartate\": 0.0,<br>      \"Glutamate\": 0.0,<br>      \"Leucine\": 0.0,<br>      \"Ornithine\": 0.0,<br>      \"Proline\": 0.0,<br>      \"Tyrosine\": 0.0,<br>      \"Free Carnitine\": 0.0,<br>      \"Propionylcarnitine\": 0.012950950302183628,<br>      \"Isovalerylcarnitine\": 0.0,<br>      \"Tiglilcarnitine\": 0.0,<br>      \"Me-Glutarylcarnitine\": 0.013994738459587097,<br>      \"Decanoylcarnitine\": 0.0,<br>      \"Tetradecanoylcarnitine\": 0.0,<br>      \"3-OH-Isovalerylcarnitine\": 0.0,<br>      \"3-OH-Palmitoylcarnitine\": 0.0,<br>      \"Linoleoilcarnitine\": 0.0,<br>      \"Arginine\": 0.033682335168123245,<br>      \"Citrulline\": 0.0,<br>      \"Glycine\": 0.0,<br>      \"Methionine\": 0.22553354501724243,<br>      \"Phenylalanine\": 0.0,<br>      \"Succinylacetone\": 0.0,<br>      \"Valine\": 0.0,<br>      \"Acetylcarnitine\": 0.0,<br>      \"Butyrylcarnitine\": 0.02293095365166664,<br>      \"Glutarylcarnitine\": 0.0,<br>      \"Hexanoylcarnitine\": 0.0,<br>      \"Octanoylcarnitine\": 0.0,<br>      \"Dodecanoylcarnitine\": 0.0,<br>      \"Tetradecenoylcarnitine\": 0.0,<br>      \"Palmitoylcarnitine\": 0.0,<br>      \"Stearoylcarnitine\": 0.0,<br>      \"3-OH-Linoleoylcarnitine\": 0.0,<br>      \"PROTEIN_Avg_(G)\": 0.0,<br>      \"Protein_natural\": 0.0,<br>      \"SP_Protein\": 0.0,<br>      \"FAT_avg(G)\": 0.0<br>    },<br>    \"shap_healty\": {<br>      \"gender\": 0.0,<br>      \"ATPII/AHA/IDF\": 0.0,<br>      \"Phenylalax\": 0.06060058996081352,<br>      \"Glupromx\": 0.003604372264817357,<br>      \"Insuprom\": 0.0,<br>      \"Tyrosinax\": 0.0,<br>      \"Alanine\": 0.00012091855751350522,<br>      \"Aspartate\": 0.0,<br>      \"Glutamate\": 0.0,<br>      \"Leucine\": 0.0,<br>      \"Ornithine\": 0.0,<br>      \"Proline\": 0.0,<br>      \"Tyrosine\": 0.0,<br>      \"Free Carnitine\": 0.0,<br>      \"Propionylcarnitine\": 0.007120200432837009,<br>      \"Isovalerylcarnitine\": 0.0,<br>      \"Tiglilcarnitine\": 0.0,<br>      \"Me-Glutarylcarnitine\": 0.007242639549076557,<br>      \"Decanoylcarnitine\": 0.0,<br>      \"Tetradecanoylcarnitine\": 0.0,<br>      \"3-OH-Isovalerylcarnitine\": 0.0,<br>      \"3-OH-Palmitoylcarnitine\": 0.0,<br>      \"Linoleoilcarnitine\": 0.0,<br>      \"Arginine\": 0.011522677727043629,<br>      \"Citrulline\": 0.0,<br>      \"Glycine\": 0.0,<br>      \"Methionine\": 0.08341588079929352,<br>      \"Phenylalanine\": 0.0,<br>      \"Succinylacetone\": 0.0,<br>      \"Valine\": 0.0,<br>      \"Acetylcarnitine\": 0.0,<br>      \"Butyrylcarnitine\": 0.012068918906152248,<br>      \"Glutarylcarnitine\": 0.0,<br>      \"Hexanoylcarnitine\": 0.0,<br>      \"Octanoylcarnitine\": 0.0,<br>      \"Dodecanoylcarnitine\": 0.0,<br>      \"Tetradecenoylcarnitine\": 0.0,<br>      \"Palmitoylcarnitine\": 0.0,<br>      \"Stearoylcarnitine\": 0.0,<br>      \"3-OH-Linoleoylcarnitine\": 0.0,<br>      \"PROTEIN_Avg_(G)\": 0.0,<br>      \"Protein_natural\": 0.0,<br>      \"SP_Protein\": 0.0,<br>      \"FAT_avg(G)\": 0.0<br>    }<br>  }<br>}"
         ],
         "type": "scatter",
         "x": [
          0.7924242424242424,
          0.7924242424242424,
          0.7924242424242424,
          0.7924242424242424,
          0.7924242424242424,
          0.7924242424242424,
          0.7924242424242424,
          0.7924242424242424,
          0.7924242424242424,
          0.7924242424242424
         ],
         "y": [
          0.2228657603263855,
          0.2228657603263855,
          0.2228657603263855,
          0.2228657603263855,
          0.2228657603263855,
          0.2228657603263855,
          0.2228657603263855,
          0.2228657603263855,
          0.2228657603263855,
          0.2228657603263855
         ]
        }
       ],
       "layout": {
        "shapes": [
         {
          "fillcolor": "teal",
          "line": {
           "width": 1
          },
          "opacity": 0.2,
          "type": "rect",
          "x0": 0.9,
          "x1": 1,
          "xref": "x",
          "y0": 0,
          "y1": 1,
          "yref": "y domain"
         }
        ],
        "template": {
         "data": {
          "bar": [
           {
            "error_x": {
             "color": "#2a3f5f"
            },
            "error_y": {
             "color": "#2a3f5f"
            },
            "marker": {
             "line": {
              "color": "white",
              "width": 0.5
             },
             "pattern": {
              "fillmode": "overlay",
              "size": 10,
              "solidity": 0.2
             }
            },
            "type": "bar"
           }
          ],
          "barpolar": [
           {
            "marker": {
             "line": {
              "color": "white",
              "width": 0.5
             },
             "pattern": {
              "fillmode": "overlay",
              "size": 10,
              "solidity": 0.2
             }
            },
            "type": "barpolar"
           }
          ],
          "carpet": [
           {
            "aaxis": {
             "endlinecolor": "#2a3f5f",
             "gridcolor": "#C8D4E3",
             "linecolor": "#C8D4E3",
             "minorgridcolor": "#C8D4E3",
             "startlinecolor": "#2a3f5f"
            },
            "baxis": {
             "endlinecolor": "#2a3f5f",
             "gridcolor": "#C8D4E3",
             "linecolor": "#C8D4E3",
             "minorgridcolor": "#C8D4E3",
             "startlinecolor": "#2a3f5f"
            },
            "type": "carpet"
           }
          ],
          "choropleth": [
           {
            "colorbar": {
             "outlinewidth": 0,
             "ticks": ""
            },
            "type": "choropleth"
           }
          ],
          "contour": [
           {
            "colorbar": {
             "outlinewidth": 0,
             "ticks": ""
            },
            "colorscale": [
             [
              0,
              "#0d0887"
             ],
             [
              0.1111111111111111,
              "#46039f"
             ],
             [
              0.2222222222222222,
              "#7201a8"
             ],
             [
              0.3333333333333333,
              "#9c179e"
             ],
             [
              0.4444444444444444,
              "#bd3786"
             ],
             [
              0.5555555555555556,
              "#d8576b"
             ],
             [
              0.6666666666666666,
              "#ed7953"
             ],
             [
              0.7777777777777778,
              "#fb9f3a"
             ],
             [
              0.8888888888888888,
              "#fdca26"
             ],
             [
              1,
              "#f0f921"
             ]
            ],
            "type": "contour"
           }
          ],
          "contourcarpet": [
           {
            "colorbar": {
             "outlinewidth": 0,
             "ticks": ""
            },
            "type": "contourcarpet"
           }
          ],
          "heatmap": [
           {
            "colorbar": {
             "outlinewidth": 0,
             "ticks": ""
            },
            "colorscale": [
             [
              0,
              "#0d0887"
             ],
             [
              0.1111111111111111,
              "#46039f"
             ],
             [
              0.2222222222222222,
              "#7201a8"
             ],
             [
              0.3333333333333333,
              "#9c179e"
             ],
             [
              0.4444444444444444,
              "#bd3786"
             ],
             [
              0.5555555555555556,
              "#d8576b"
             ],
             [
              0.6666666666666666,
              "#ed7953"
             ],
             [
              0.7777777777777778,
              "#fb9f3a"
             ],
             [
              0.8888888888888888,
              "#fdca26"
             ],
             [
              1,
              "#f0f921"
             ]
            ],
            "type": "heatmap"
           }
          ],
          "heatmapgl": [
           {
            "colorbar": {
             "outlinewidth": 0,
             "ticks": ""
            },
            "colorscale": [
             [
              0,
              "#0d0887"
             ],
             [
              0.1111111111111111,
              "#46039f"
             ],
             [
              0.2222222222222222,
              "#7201a8"
             ],
             [
              0.3333333333333333,
              "#9c179e"
             ],
             [
              0.4444444444444444,
              "#bd3786"
             ],
             [
              0.5555555555555556,
              "#d8576b"
             ],
             [
              0.6666666666666666,
              "#ed7953"
             ],
             [
              0.7777777777777778,
              "#fb9f3a"
             ],
             [
              0.8888888888888888,
              "#fdca26"
             ],
             [
              1,
              "#f0f921"
             ]
            ],
            "type": "heatmapgl"
           }
          ],
          "histogram": [
           {
            "marker": {
             "pattern": {
              "fillmode": "overlay",
              "size": 10,
              "solidity": 0.2
             }
            },
            "type": "histogram"
           }
          ],
          "histogram2d": [
           {
            "colorbar": {
             "outlinewidth": 0,
             "ticks": ""
            },
            "colorscale": [
             [
              0,
              "#0d0887"
             ],
             [
              0.1111111111111111,
              "#46039f"
             ],
             [
              0.2222222222222222,
              "#7201a8"
             ],
             [
              0.3333333333333333,
              "#9c179e"
             ],
             [
              0.4444444444444444,
              "#bd3786"
             ],
             [
              0.5555555555555556,
              "#d8576b"
             ],
             [
              0.6666666666666666,
              "#ed7953"
             ],
             [
              0.7777777777777778,
              "#fb9f3a"
             ],
             [
              0.8888888888888888,
              "#fdca26"
             ],
             [
              1,
              "#f0f921"
             ]
            ],
            "type": "histogram2d"
           }
          ],
          "histogram2dcontour": [
           {
            "colorbar": {
             "outlinewidth": 0,
             "ticks": ""
            },
            "colorscale": [
             [
              0,
              "#0d0887"
             ],
             [
              0.1111111111111111,
              "#46039f"
             ],
             [
              0.2222222222222222,
              "#7201a8"
             ],
             [
              0.3333333333333333,
              "#9c179e"
             ],
             [
              0.4444444444444444,
              "#bd3786"
             ],
             [
              0.5555555555555556,
              "#d8576b"
             ],
             [
              0.6666666666666666,
              "#ed7953"
             ],
             [
              0.7777777777777778,
              "#fb9f3a"
             ],
             [
              0.8888888888888888,
              "#fdca26"
             ],
             [
              1,
              "#f0f921"
             ]
            ],
            "type": "histogram2dcontour"
           }
          ],
          "mesh3d": [
           {
            "colorbar": {
             "outlinewidth": 0,
             "ticks": ""
            },
            "type": "mesh3d"
           }
          ],
          "parcoords": [
           {
            "line": {
             "colorbar": {
              "outlinewidth": 0,
              "ticks": ""
             }
            },
            "type": "parcoords"
           }
          ],
          "pie": [
           {
            "automargin": true,
            "type": "pie"
           }
          ],
          "scatter": [
           {
            "fillpattern": {
             "fillmode": "overlay",
             "size": 10,
             "solidity": 0.2
            },
            "type": "scatter"
           }
          ],
          "scatter3d": [
           {
            "line": {
             "colorbar": {
              "outlinewidth": 0,
              "ticks": ""
             }
            },
            "marker": {
             "colorbar": {
              "outlinewidth": 0,
              "ticks": ""
             }
            },
            "type": "scatter3d"
           }
          ],
          "scattercarpet": [
           {
            "marker": {
             "colorbar": {
              "outlinewidth": 0,
              "ticks": ""
             }
            },
            "type": "scattercarpet"
           }
          ],
          "scattergeo": [
           {
            "marker": {
             "colorbar": {
              "outlinewidth": 0,
              "ticks": ""
             }
            },
            "type": "scattergeo"
           }
          ],
          "scattergl": [
           {
            "marker": {
             "colorbar": {
              "outlinewidth": 0,
              "ticks": ""
             }
            },
            "type": "scattergl"
           }
          ],
          "scattermapbox": [
           {
            "marker": {
             "colorbar": {
              "outlinewidth": 0,
              "ticks": ""
             }
            },
            "type": "scattermapbox"
           }
          ],
          "scatterpolar": [
           {
            "marker": {
             "colorbar": {
              "outlinewidth": 0,
              "ticks": ""
             }
            },
            "type": "scatterpolar"
           }
          ],
          "scatterpolargl": [
           {
            "marker": {
             "colorbar": {
              "outlinewidth": 0,
              "ticks": ""
             }
            },
            "type": "scatterpolargl"
           }
          ],
          "scatterternary": [
           {
            "marker": {
             "colorbar": {
              "outlinewidth": 0,
              "ticks": ""
             }
            },
            "type": "scatterternary"
           }
          ],
          "surface": [
           {
            "colorbar": {
             "outlinewidth": 0,
             "ticks": ""
            },
            "colorscale": [
             [
              0,
              "#0d0887"
             ],
             [
              0.1111111111111111,
              "#46039f"
             ],
             [
              0.2222222222222222,
              "#7201a8"
             ],
             [
              0.3333333333333333,
              "#9c179e"
             ],
             [
              0.4444444444444444,
              "#bd3786"
             ],
             [
              0.5555555555555556,
              "#d8576b"
             ],
             [
              0.6666666666666666,
              "#ed7953"
             ],
             [
              0.7777777777777778,
              "#fb9f3a"
             ],
             [
              0.8888888888888888,
              "#fdca26"
             ],
             [
              1,
              "#f0f921"
             ]
            ],
            "type": "surface"
           }
          ],
          "table": [
           {
            "cells": {
             "fill": {
              "color": "#EBF0F8"
             },
             "line": {
              "color": "white"
             }
            },
            "header": {
             "fill": {
              "color": "#C8D4E3"
             },
             "line": {
              "color": "white"
             }
            },
            "type": "table"
           }
          ]
         },
         "layout": {
          "annotationdefaults": {
           "arrowcolor": "#2a3f5f",
           "arrowhead": 0,
           "arrowwidth": 1
          },
          "autotypenumbers": "strict",
          "coloraxis": {
           "colorbar": {
            "outlinewidth": 0,
            "ticks": ""
           }
          },
          "colorscale": {
           "diverging": [
            [
             0,
             "#8e0152"
            ],
            [
             0.1,
             "#c51b7d"
            ],
            [
             0.2,
             "#de77ae"
            ],
            [
             0.3,
             "#f1b6da"
            ],
            [
             0.4,
             "#fde0ef"
            ],
            [
             0.5,
             "#f7f7f7"
            ],
            [
             0.6,
             "#e6f5d0"
            ],
            [
             0.7,
             "#b8e186"
            ],
            [
             0.8,
             "#7fbc41"
            ],
            [
             0.9,
             "#4d9221"
            ],
            [
             1,
             "#276419"
            ]
           ],
           "sequential": [
            [
             0,
             "#0d0887"
            ],
            [
             0.1111111111111111,
             "#46039f"
            ],
            [
             0.2222222222222222,
             "#7201a8"
            ],
            [
             0.3333333333333333,
             "#9c179e"
            ],
            [
             0.4444444444444444,
             "#bd3786"
            ],
            [
             0.5555555555555556,
             "#d8576b"
            ],
            [
             0.6666666666666666,
             "#ed7953"
            ],
            [
             0.7777777777777778,
             "#fb9f3a"
            ],
            [
             0.8888888888888888,
             "#fdca26"
            ],
            [
             1,
             "#f0f921"
            ]
           ],
           "sequentialminus": [
            [
             0,
             "#0d0887"
            ],
            [
             0.1111111111111111,
             "#46039f"
            ],
            [
             0.2222222222222222,
             "#7201a8"
            ],
            [
             0.3333333333333333,
             "#9c179e"
            ],
            [
             0.4444444444444444,
             "#bd3786"
            ],
            [
             0.5555555555555556,
             "#d8576b"
            ],
            [
             0.6666666666666666,
             "#ed7953"
            ],
            [
             0.7777777777777778,
             "#fb9f3a"
            ],
            [
             0.8888888888888888,
             "#fdca26"
            ],
            [
             1,
             "#f0f921"
            ]
           ]
          },
          "colorway": [
           "#636efa",
           "#EF553B",
           "#00cc96",
           "#ab63fa",
           "#FFA15A",
           "#19d3f3",
           "#FF6692",
           "#B6E880",
           "#FF97FF",
           "#FECB52"
          ],
          "font": {
           "color": "#2a3f5f"
          },
          "geo": {
           "bgcolor": "white",
           "lakecolor": "white",
           "landcolor": "white",
           "showlakes": true,
           "showland": true,
           "subunitcolor": "#C8D4E3"
          },
          "hoverlabel": {
           "align": "left"
          },
          "hovermode": "closest",
          "mapbox": {
           "style": "light"
          },
          "paper_bgcolor": "white",
          "plot_bgcolor": "white",
          "polar": {
           "angularaxis": {
            "gridcolor": "#EBF0F8",
            "linecolor": "#EBF0F8",
            "ticks": ""
           },
           "bgcolor": "white",
           "radialaxis": {
            "gridcolor": "#EBF0F8",
            "linecolor": "#EBF0F8",
            "ticks": ""
           }
          },
          "scene": {
           "xaxis": {
            "backgroundcolor": "white",
            "gridcolor": "#DFE8F3",
            "gridwidth": 2,
            "linecolor": "#EBF0F8",
            "showbackground": true,
            "ticks": "",
            "zerolinecolor": "#EBF0F8"
           },
           "yaxis": {
            "backgroundcolor": "white",
            "gridcolor": "#DFE8F3",
            "gridwidth": 2,
            "linecolor": "#EBF0F8",
            "showbackground": true,
            "ticks": "",
            "zerolinecolor": "#EBF0F8"
           },
           "zaxis": {
            "backgroundcolor": "white",
            "gridcolor": "#DFE8F3",
            "gridwidth": 2,
            "linecolor": "#EBF0F8",
            "showbackground": true,
            "ticks": "",
            "zerolinecolor": "#EBF0F8"
           }
          },
          "shapedefaults": {
           "line": {
            "color": "#2a3f5f"
           }
          },
          "ternary": {
           "aaxis": {
            "gridcolor": "#DFE8F3",
            "linecolor": "#A2B1C6",
            "ticks": ""
           },
           "baxis": {
            "gridcolor": "#DFE8F3",
            "linecolor": "#A2B1C6",
            "ticks": ""
           },
           "bgcolor": "white",
           "caxis": {
            "gridcolor": "#DFE8F3",
            "linecolor": "#A2B1C6",
            "ticks": ""
           }
          },
          "title": {
           "x": 0.05
          },
          "xaxis": {
           "automargin": true,
           "gridcolor": "#EBF0F8",
           "linecolor": "#EBF0F8",
           "ticks": "",
           "title": {
            "standoff": 15
           },
           "zerolinecolor": "#EBF0F8",
           "zerolinewidth": 2
          },
          "yaxis": {
           "automargin": true,
           "gridcolor": "#EBF0F8",
           "linecolor": "#EBF0F8",
           "ticks": "",
           "title": {
            "standoff": 15
           },
           "zerolinecolor": "#EBF0F8",
           "zerolinewidth": 2
          }
         }
        },
        "title": {
         "text": "Pareto-front Plot"
        },
        "xaxis": {
         "title": {
          "text": "AUC"
         }
        },
        "yaxis": {
         "tickformat": ".2f",
         "title": {
          "text": "Phenylalanine Contribution"
         }
        }
       }
      }
     },
     "metadata": {},
     "output_type": "display_data"
    }
   ],
   "source": [
    "fig = optuna.visualization.plot_pareto_front(study, target_names=[\"AUC\",\"Phenylalanine Contribution\"])\n",
    "\n",
    "fig.add_vrect(x0=lim_AUC, x1=1.0, line_width=1, fillcolor=\"teal\", opacity=0.2)\n",
    "\n",
    "fig.update_layout(\n",
    "    title_text=\"Pareto-front Plot\", \n",
    "    yaxis_tickformat=\".2f\",\n",
    "    template='plotly_white',\n",
    ")\n",
    "\n",
    "DPI = 320\n",
    "\n",
    "# fig.write_image(\"fig/pareto_plots.svg\", width=3*DPI, height=2*DPI)\n",
    "\n",
    "fig.show()"
   ]
  },
  {
   "cell_type": "code",
   "execution_count": 9,
   "metadata": {},
   "outputs": [
    {
     "data": {
      "application/vnd.plotly.v1+json": {
       "config": {
        "plotlyServerURL": "https://plot.ly"
       },
       "data": [
        {
         "marker": {
          "line": {
           "color": "black",
           "width": 1
          },
          "opacity": 0.5,
          "size": 8,
          "symbol": "circle"
         },
         "mode": "markers",
         "name": "Suboptimal",
         "type": "scatter",
         "x": [],
         "y": []
        },
        {
         "marker": {
          "line": {
           "color": "black",
           "width": 1
          },
          "opacity": 0.5,
          "size": 8,
          "symbol": "square"
         },
         "mode": "markers",
         "name": "Pareto frontier",
         "type": "scatter",
         "x": [
          0.7924242424242424,
          0.7924242424242424,
          0.7924242424242424,
          0.7924242424242424,
          0.7924242424242424,
          0.7924242424242424,
          0.7924242424242424,
          0.7924242424242424,
          0.7924242424242424,
          0.7924242424242424
         ],
         "y": [
          0.2228657603263855,
          0.2228657603263855,
          0.2228657603263855,
          0.2228657603263855,
          0.2228657603263855,
          0.2228657603263855,
          0.2228657603263855,
          0.2228657603263855,
          0.2228657603263855,
          0.2228657603263855
         ]
        }
       ],
       "layout": {
        "font": {
         "size": 14
        },
        "height": 400,
        "legend": {
         "bgcolor": "rgba(255, 255, 255, 0)",
         "orientation": "h",
         "x": 0.3,
         "y": 1.1
        },
        "margin": {
         "b": 0,
         "l": 0,
         "r": 0,
         "t": 0
        },
        "template": {
         "data": {
          "bar": [
           {
            "error_x": {
             "color": "#2a3f5f"
            },
            "error_y": {
             "color": "#2a3f5f"
            },
            "marker": {
             "line": {
              "color": "#E5ECF6",
              "width": 0.5
             },
             "pattern": {
              "fillmode": "overlay",
              "size": 10,
              "solidity": 0.2
             }
            },
            "type": "bar"
           }
          ],
          "barpolar": [
           {
            "marker": {
             "line": {
              "color": "#E5ECF6",
              "width": 0.5
             },
             "pattern": {
              "fillmode": "overlay",
              "size": 10,
              "solidity": 0.2
             }
            },
            "type": "barpolar"
           }
          ],
          "carpet": [
           {
            "aaxis": {
             "endlinecolor": "#2a3f5f",
             "gridcolor": "white",
             "linecolor": "white",
             "minorgridcolor": "white",
             "startlinecolor": "#2a3f5f"
            },
            "baxis": {
             "endlinecolor": "#2a3f5f",
             "gridcolor": "white",
             "linecolor": "white",
             "minorgridcolor": "white",
             "startlinecolor": "#2a3f5f"
            },
            "type": "carpet"
           }
          ],
          "choropleth": [
           {
            "colorbar": {
             "outlinewidth": 0,
             "ticks": ""
            },
            "type": "choropleth"
           }
          ],
          "contour": [
           {
            "colorbar": {
             "outlinewidth": 0,
             "ticks": ""
            },
            "colorscale": [
             [
              0,
              "#0d0887"
             ],
             [
              0.1111111111111111,
              "#46039f"
             ],
             [
              0.2222222222222222,
              "#7201a8"
             ],
             [
              0.3333333333333333,
              "#9c179e"
             ],
             [
              0.4444444444444444,
              "#bd3786"
             ],
             [
              0.5555555555555556,
              "#d8576b"
             ],
             [
              0.6666666666666666,
              "#ed7953"
             ],
             [
              0.7777777777777778,
              "#fb9f3a"
             ],
             [
              0.8888888888888888,
              "#fdca26"
             ],
             [
              1,
              "#f0f921"
             ]
            ],
            "type": "contour"
           }
          ],
          "contourcarpet": [
           {
            "colorbar": {
             "outlinewidth": 0,
             "ticks": ""
            },
            "type": "contourcarpet"
           }
          ],
          "heatmap": [
           {
            "colorbar": {
             "outlinewidth": 0,
             "ticks": ""
            },
            "colorscale": [
             [
              0,
              "#0d0887"
             ],
             [
              0.1111111111111111,
              "#46039f"
             ],
             [
              0.2222222222222222,
              "#7201a8"
             ],
             [
              0.3333333333333333,
              "#9c179e"
             ],
             [
              0.4444444444444444,
              "#bd3786"
             ],
             [
              0.5555555555555556,
              "#d8576b"
             ],
             [
              0.6666666666666666,
              "#ed7953"
             ],
             [
              0.7777777777777778,
              "#fb9f3a"
             ],
             [
              0.8888888888888888,
              "#fdca26"
             ],
             [
              1,
              "#f0f921"
             ]
            ],
            "type": "heatmap"
           }
          ],
          "heatmapgl": [
           {
            "colorbar": {
             "outlinewidth": 0,
             "ticks": ""
            },
            "colorscale": [
             [
              0,
              "#0d0887"
             ],
             [
              0.1111111111111111,
              "#46039f"
             ],
             [
              0.2222222222222222,
              "#7201a8"
             ],
             [
              0.3333333333333333,
              "#9c179e"
             ],
             [
              0.4444444444444444,
              "#bd3786"
             ],
             [
              0.5555555555555556,
              "#d8576b"
             ],
             [
              0.6666666666666666,
              "#ed7953"
             ],
             [
              0.7777777777777778,
              "#fb9f3a"
             ],
             [
              0.8888888888888888,
              "#fdca26"
             ],
             [
              1,
              "#f0f921"
             ]
            ],
            "type": "heatmapgl"
           }
          ],
          "histogram": [
           {
            "marker": {
             "pattern": {
              "fillmode": "overlay",
              "size": 10,
              "solidity": 0.2
             }
            },
            "type": "histogram"
           }
          ],
          "histogram2d": [
           {
            "colorbar": {
             "outlinewidth": 0,
             "ticks": ""
            },
            "colorscale": [
             [
              0,
              "#0d0887"
             ],
             [
              0.1111111111111111,
              "#46039f"
             ],
             [
              0.2222222222222222,
              "#7201a8"
             ],
             [
              0.3333333333333333,
              "#9c179e"
             ],
             [
              0.4444444444444444,
              "#bd3786"
             ],
             [
              0.5555555555555556,
              "#d8576b"
             ],
             [
              0.6666666666666666,
              "#ed7953"
             ],
             [
              0.7777777777777778,
              "#fb9f3a"
             ],
             [
              0.8888888888888888,
              "#fdca26"
             ],
             [
              1,
              "#f0f921"
             ]
            ],
            "type": "histogram2d"
           }
          ],
          "histogram2dcontour": [
           {
            "colorbar": {
             "outlinewidth": 0,
             "ticks": ""
            },
            "colorscale": [
             [
              0,
              "#0d0887"
             ],
             [
              0.1111111111111111,
              "#46039f"
             ],
             [
              0.2222222222222222,
              "#7201a8"
             ],
             [
              0.3333333333333333,
              "#9c179e"
             ],
             [
              0.4444444444444444,
              "#bd3786"
             ],
             [
              0.5555555555555556,
              "#d8576b"
             ],
             [
              0.6666666666666666,
              "#ed7953"
             ],
             [
              0.7777777777777778,
              "#fb9f3a"
             ],
             [
              0.8888888888888888,
              "#fdca26"
             ],
             [
              1,
              "#f0f921"
             ]
            ],
            "type": "histogram2dcontour"
           }
          ],
          "mesh3d": [
           {
            "colorbar": {
             "outlinewidth": 0,
             "ticks": ""
            },
            "type": "mesh3d"
           }
          ],
          "parcoords": [
           {
            "line": {
             "colorbar": {
              "outlinewidth": 0,
              "ticks": ""
             }
            },
            "type": "parcoords"
           }
          ],
          "pie": [
           {
            "automargin": true,
            "type": "pie"
           }
          ],
          "scatter": [
           {
            "fillpattern": {
             "fillmode": "overlay",
             "size": 10,
             "solidity": 0.2
            },
            "type": "scatter"
           }
          ],
          "scatter3d": [
           {
            "line": {
             "colorbar": {
              "outlinewidth": 0,
              "ticks": ""
             }
            },
            "marker": {
             "colorbar": {
              "outlinewidth": 0,
              "ticks": ""
             }
            },
            "type": "scatter3d"
           }
          ],
          "scattercarpet": [
           {
            "marker": {
             "colorbar": {
              "outlinewidth": 0,
              "ticks": ""
             }
            },
            "type": "scattercarpet"
           }
          ],
          "scattergeo": [
           {
            "marker": {
             "colorbar": {
              "outlinewidth": 0,
              "ticks": ""
             }
            },
            "type": "scattergeo"
           }
          ],
          "scattergl": [
           {
            "marker": {
             "colorbar": {
              "outlinewidth": 0,
              "ticks": ""
             }
            },
            "type": "scattergl"
           }
          ],
          "scattermapbox": [
           {
            "marker": {
             "colorbar": {
              "outlinewidth": 0,
              "ticks": ""
             }
            },
            "type": "scattermapbox"
           }
          ],
          "scatterpolar": [
           {
            "marker": {
             "colorbar": {
              "outlinewidth": 0,
              "ticks": ""
             }
            },
            "type": "scatterpolar"
           }
          ],
          "scatterpolargl": [
           {
            "marker": {
             "colorbar": {
              "outlinewidth": 0,
              "ticks": ""
             }
            },
            "type": "scatterpolargl"
           }
          ],
          "scatterternary": [
           {
            "marker": {
             "colorbar": {
              "outlinewidth": 0,
              "ticks": ""
             }
            },
            "type": "scatterternary"
           }
          ],
          "surface": [
           {
            "colorbar": {
             "outlinewidth": 0,
             "ticks": ""
            },
            "colorscale": [
             [
              0,
              "#0d0887"
             ],
             [
              0.1111111111111111,
              "#46039f"
             ],
             [
              0.2222222222222222,
              "#7201a8"
             ],
             [
              0.3333333333333333,
              "#9c179e"
             ],
             [
              0.4444444444444444,
              "#bd3786"
             ],
             [
              0.5555555555555556,
              "#d8576b"
             ],
             [
              0.6666666666666666,
              "#ed7953"
             ],
             [
              0.7777777777777778,
              "#fb9f3a"
             ],
             [
              0.8888888888888888,
              "#fdca26"
             ],
             [
              1,
              "#f0f921"
             ]
            ],
            "type": "surface"
           }
          ],
          "table": [
           {
            "cells": {
             "fill": {
              "color": "#EBF0F8"
             },
             "line": {
              "color": "white"
             }
            },
            "header": {
             "fill": {
              "color": "#C8D4E3"
             },
             "line": {
              "color": "white"
             }
            },
            "type": "table"
           }
          ]
         },
         "layout": {
          "annotationdefaults": {
           "arrowcolor": "#2a3f5f",
           "arrowhead": 0,
           "arrowwidth": 1
          },
          "autotypenumbers": "strict",
          "coloraxis": {
           "colorbar": {
            "outlinewidth": 0,
            "ticks": ""
           }
          },
          "colorscale": {
           "diverging": [
            [
             0,
             "#8e0152"
            ],
            [
             0.1,
             "#c51b7d"
            ],
            [
             0.2,
             "#de77ae"
            ],
            [
             0.3,
             "#f1b6da"
            ],
            [
             0.4,
             "#fde0ef"
            ],
            [
             0.5,
             "#f7f7f7"
            ],
            [
             0.6,
             "#e6f5d0"
            ],
            [
             0.7,
             "#b8e186"
            ],
            [
             0.8,
             "#7fbc41"
            ],
            [
             0.9,
             "#4d9221"
            ],
            [
             1,
             "#276419"
            ]
           ],
           "sequential": [
            [
             0,
             "#0d0887"
            ],
            [
             0.1111111111111111,
             "#46039f"
            ],
            [
             0.2222222222222222,
             "#7201a8"
            ],
            [
             0.3333333333333333,
             "#9c179e"
            ],
            [
             0.4444444444444444,
             "#bd3786"
            ],
            [
             0.5555555555555556,
             "#d8576b"
            ],
            [
             0.6666666666666666,
             "#ed7953"
            ],
            [
             0.7777777777777778,
             "#fb9f3a"
            ],
            [
             0.8888888888888888,
             "#fdca26"
            ],
            [
             1,
             "#f0f921"
            ]
           ],
           "sequentialminus": [
            [
             0,
             "#0d0887"
            ],
            [
             0.1111111111111111,
             "#46039f"
            ],
            [
             0.2222222222222222,
             "#7201a8"
            ],
            [
             0.3333333333333333,
             "#9c179e"
            ],
            [
             0.4444444444444444,
             "#bd3786"
            ],
            [
             0.5555555555555556,
             "#d8576b"
            ],
            [
             0.6666666666666666,
             "#ed7953"
            ],
            [
             0.7777777777777778,
             "#fb9f3a"
            ],
            [
             0.8888888888888888,
             "#fdca26"
            ],
            [
             1,
             "#f0f921"
            ]
           ]
          },
          "colorway": [
           "#636efa",
           "#EF553B",
           "#00cc96",
           "#ab63fa",
           "#FFA15A",
           "#19d3f3",
           "#FF6692",
           "#B6E880",
           "#FF97FF",
           "#FECB52"
          ],
          "font": {
           "color": "#2a3f5f"
          },
          "geo": {
           "bgcolor": "white",
           "lakecolor": "white",
           "landcolor": "#E5ECF6",
           "showlakes": true,
           "showland": true,
           "subunitcolor": "white"
          },
          "hoverlabel": {
           "align": "left"
          },
          "hovermode": "closest",
          "mapbox": {
           "style": "light"
          },
          "paper_bgcolor": "white",
          "plot_bgcolor": "#E5ECF6",
          "polar": {
           "angularaxis": {
            "gridcolor": "white",
            "linecolor": "white",
            "ticks": ""
           },
           "bgcolor": "#E5ECF6",
           "radialaxis": {
            "gridcolor": "white",
            "linecolor": "white",
            "ticks": ""
           }
          },
          "scene": {
           "xaxis": {
            "backgroundcolor": "#E5ECF6",
            "gridcolor": "white",
            "gridwidth": 2,
            "linecolor": "white",
            "showbackground": true,
            "ticks": "",
            "zerolinecolor": "white"
           },
           "yaxis": {
            "backgroundcolor": "#E5ECF6",
            "gridcolor": "white",
            "gridwidth": 2,
            "linecolor": "white",
            "showbackground": true,
            "ticks": "",
            "zerolinecolor": "white"
           },
           "zaxis": {
            "backgroundcolor": "#E5ECF6",
            "gridcolor": "white",
            "gridwidth": 2,
            "linecolor": "white",
            "showbackground": true,
            "ticks": "",
            "zerolinecolor": "white"
           }
          },
          "shapedefaults": {
           "line": {
            "color": "#2a3f5f"
           }
          },
          "ternary": {
           "aaxis": {
            "gridcolor": "white",
            "linecolor": "white",
            "ticks": ""
           },
           "baxis": {
            "gridcolor": "white",
            "linecolor": "white",
            "ticks": ""
           },
           "bgcolor": "#E5ECF6",
           "caxis": {
            "gridcolor": "white",
            "linecolor": "white",
            "ticks": ""
           }
          },
          "title": {
           "x": 0.05
          },
          "xaxis": {
           "automargin": true,
           "gridcolor": "white",
           "linecolor": "white",
           "ticks": "",
           "title": {
            "standoff": 15
           },
           "zerolinecolor": "white",
           "zerolinewidth": 2
          },
          "yaxis": {
           "automargin": true,
           "gridcolor": "white",
           "linecolor": "white",
           "ticks": "",
           "title": {
            "standoff": 15
           },
           "zerolinecolor": "white",
           "zerolinewidth": 2
          }
         }
        },
        "width": 800,
        "xaxis": {
         "title": {
          "text": "AUC"
         }
        },
        "yaxis": {
         "title": {
          "text": "Phe importance"
         }
        }
       }
      }
     },
     "metadata": {},
     "output_type": "display_data"
    }
   ],
   "source": [
    "# BETTER PARETO\n",
    "import pandas as pd\n",
    "from optuna.visualization._pareto_front import _get_pareto_front_info, _make_scatter_object, _make_marker, _make_hovertext\n",
    "from typing import Sequence\n",
    "from optuna.trial import FrozenTrial\n",
    "from optuna.visualization._plotly_imports import go\n",
    "\n",
    "\n",
    "info = _get_pareto_front_info(study)\n",
    "\n",
    "\n",
    "n_targets: int = info.n_targets  \n",
    "axis_order: Sequence[int]  = info.axis_order \n",
    "include_dominated_trials: bool = True\n",
    "trials_with_values: Sequence[tuple[FrozenTrial, Sequence[float]]] = info.non_best_trials_with_values\n",
    "hovertemplate: str = \"%{text}<extra>Trial</extra>\"\n",
    "infeasible: bool = False\n",
    "dominated_trials: bool = False\n",
    "\n",
    "def trials_df(trials_with_values, class_name):\n",
    "    x  =[values[axis_order[0]] for _, values in trials_with_values]\n",
    "    y  =[values[axis_order[1]] for _, values in trials_with_values]\n",
    "\n",
    "    df = pd.DataFrame({'x':x, 'y':y})\n",
    "    df['class'] = class_name\n",
    "    return df\n",
    "\n",
    "df_best    = trials_df(info.best_trials_with_values, 'best')\n",
    "df_nonbest = trials_df(info.non_best_trials_with_values, 'nonbest')\n",
    "#df         = pd.concat([df_best, df_nonbest])\n",
    "\n",
    "fig = go.Figure()\n",
    "\n",
    "fig.add_trace(go.Scatter(x=df_nonbest ['x'], y=df_nonbest['y'], mode='markers', marker=dict(size=8,opacity=0.5, symbol='circle', line=dict(width=1, color='black')), name='Suboptimal'))\n",
    "fig.add_trace(go.Scatter(x=df_best['x'], y=df_best['y'], mode='markers', marker=dict(size=8,opacity=0.5, symbol='square', line=dict(width=1, color='black')), name='Pareto frontier'))\n",
    "# Define the width and height of the plot\n",
    "plot_width = 800\n",
    "plot_height = 400\n",
    "\n",
    "# Customize the plot\n",
    "fig.update_layout(\n",
    "    #title='Two-objective optimization',\n",
    "    \n",
    "    xaxis_title='AUC',\n",
    "    yaxis_title='Phe importance',\n",
    "    font=dict(size=14),\n",
    "    #plot_bgcolor='white',\n",
    "    # xaxis=dict(range=[min(df['x']) - 1, max(df['x']) + 1]),\n",
    "    # yaxis=dict(range=[min(df['y']) - 1, max(df['y']) + 1]),\n",
    "    legend=dict(x=0.3, y=1.1, bgcolor='rgba(255, 255, 255, 0)', orientation='h'),\n",
    "    width=plot_width,\n",
    "    height=plot_height,\n",
    "    margin=dict(l=0, r=0, t=0, b=0)\n",
    ")\n",
    "\n",
    "# Show the plot\n",
    "fig.show()"
   ]
  },
  {
   "cell_type": "code",
   "execution_count": 10,
   "metadata": {},
   "outputs": [],
   "source": [
    "# TODO: Re-do this in a less chaotic graph"
   ]
  },
  {
   "attachments": {},
   "cell_type": "markdown",
   "metadata": {},
   "source": [
    "- Y ~ _Mean SHAP (Shaply values takne from the combinatiorial approach to modeling feature importance on a system, based on the linear sum of ... ) value assigned to each feature by model_  \n",
    "- X ~ _AUC_  is a measure of the fitting of the model, representing ... "
   ]
  },
  {
   "attachments": {},
   "cell_type": "markdown",
   "metadata": {},
   "source": [
    "So, we take these models with AUC > 0.9. "
   ]
  },
  {
   "cell_type": "code",
   "execution_count": 11,
   "metadata": {},
   "outputs": [
    {
     "data": {
      "application/vnd.plotly.v1+json": {
       "config": {
        "plotlyServerURL": "https://plot.ly"
       },
       "data": [
        {
         "dimensions": [
          {
           "label": "Sex",
           "values": []
          },
          {
           "label": "PheC",
           "values": []
          },
          {
           "label": "Glucose",
           "values": []
          },
          {
           "label": "Insulin",
           "values": []
          },
          {
           "label": "Tyrosine",
           "values": []
          },
          {
           "label": "Alanine",
           "values": []
          },
          {
           "label": "Aspartate",
           "values": []
          },
          {
           "label": "Glutamate",
           "values": []
          },
          {
           "label": "Leucine",
           "values": []
          },
          {
           "label": "Ornithine",
           "values": []
          },
          {
           "label": "Proline",
           "values": []
          },
          {
           "label": "Tyrosine",
           "values": []
          },
          {
           "label": "Free Carnitine",
           "values": []
          }
         ],
         "domain": {
          "x": [
           0,
           1
          ],
          "y": [
           0,
           1
          ]
         },
         "line": {
          "color": [],
          "coloraxis": "coloraxis"
         },
         "name": "",
         "type": "parcoords"
        }
       ],
       "layout": {
        "coloraxis": {
         "colorbar": {
          "title": {
           "text": "Phe. weight"
          }
         },
         "colorscale": [
          [
           0,
           "rgb(30, 144, 255)"
          ],
          [
           0.5,
           "rgb(148, 0, 211)"
          ],
          [
           1,
           "rgb(255, 20, 147)"
          ]
         ]
        },
        "legend": {
         "tracegroupgap": 0
        },
        "template": {
         "data": {
          "bar": [
           {
            "error_x": {
             "color": "#2a3f5f"
            },
            "error_y": {
             "color": "#2a3f5f"
            },
            "marker": {
             "line": {
              "color": "#E5ECF6",
              "width": 0.5
             },
             "pattern": {
              "fillmode": "overlay",
              "size": 10,
              "solidity": 0.2
             }
            },
            "type": "bar"
           }
          ],
          "barpolar": [
           {
            "marker": {
             "line": {
              "color": "#E5ECF6",
              "width": 0.5
             },
             "pattern": {
              "fillmode": "overlay",
              "size": 10,
              "solidity": 0.2
             }
            },
            "type": "barpolar"
           }
          ],
          "carpet": [
           {
            "aaxis": {
             "endlinecolor": "#2a3f5f",
             "gridcolor": "white",
             "linecolor": "white",
             "minorgridcolor": "white",
             "startlinecolor": "#2a3f5f"
            },
            "baxis": {
             "endlinecolor": "#2a3f5f",
             "gridcolor": "white",
             "linecolor": "white",
             "minorgridcolor": "white",
             "startlinecolor": "#2a3f5f"
            },
            "type": "carpet"
           }
          ],
          "choropleth": [
           {
            "colorbar": {
             "outlinewidth": 0,
             "ticks": ""
            },
            "type": "choropleth"
           }
          ],
          "contour": [
           {
            "colorbar": {
             "outlinewidth": 0,
             "ticks": ""
            },
            "colorscale": [
             [
              0,
              "#0d0887"
             ],
             [
              0.1111111111111111,
              "#46039f"
             ],
             [
              0.2222222222222222,
              "#7201a8"
             ],
             [
              0.3333333333333333,
              "#9c179e"
             ],
             [
              0.4444444444444444,
              "#bd3786"
             ],
             [
              0.5555555555555556,
              "#d8576b"
             ],
             [
              0.6666666666666666,
              "#ed7953"
             ],
             [
              0.7777777777777778,
              "#fb9f3a"
             ],
             [
              0.8888888888888888,
              "#fdca26"
             ],
             [
              1,
              "#f0f921"
             ]
            ],
            "type": "contour"
           }
          ],
          "contourcarpet": [
           {
            "colorbar": {
             "outlinewidth": 0,
             "ticks": ""
            },
            "type": "contourcarpet"
           }
          ],
          "heatmap": [
           {
            "colorbar": {
             "outlinewidth": 0,
             "ticks": ""
            },
            "colorscale": [
             [
              0,
              "#0d0887"
             ],
             [
              0.1111111111111111,
              "#46039f"
             ],
             [
              0.2222222222222222,
              "#7201a8"
             ],
             [
              0.3333333333333333,
              "#9c179e"
             ],
             [
              0.4444444444444444,
              "#bd3786"
             ],
             [
              0.5555555555555556,
              "#d8576b"
             ],
             [
              0.6666666666666666,
              "#ed7953"
             ],
             [
              0.7777777777777778,
              "#fb9f3a"
             ],
             [
              0.8888888888888888,
              "#fdca26"
             ],
             [
              1,
              "#f0f921"
             ]
            ],
            "type": "heatmap"
           }
          ],
          "heatmapgl": [
           {
            "colorbar": {
             "outlinewidth": 0,
             "ticks": ""
            },
            "colorscale": [
             [
              0,
              "#0d0887"
             ],
             [
              0.1111111111111111,
              "#46039f"
             ],
             [
              0.2222222222222222,
              "#7201a8"
             ],
             [
              0.3333333333333333,
              "#9c179e"
             ],
             [
              0.4444444444444444,
              "#bd3786"
             ],
             [
              0.5555555555555556,
              "#d8576b"
             ],
             [
              0.6666666666666666,
              "#ed7953"
             ],
             [
              0.7777777777777778,
              "#fb9f3a"
             ],
             [
              0.8888888888888888,
              "#fdca26"
             ],
             [
              1,
              "#f0f921"
             ]
            ],
            "type": "heatmapgl"
           }
          ],
          "histogram": [
           {
            "marker": {
             "pattern": {
              "fillmode": "overlay",
              "size": 10,
              "solidity": 0.2
             }
            },
            "type": "histogram"
           }
          ],
          "histogram2d": [
           {
            "colorbar": {
             "outlinewidth": 0,
             "ticks": ""
            },
            "colorscale": [
             [
              0,
              "#0d0887"
             ],
             [
              0.1111111111111111,
              "#46039f"
             ],
             [
              0.2222222222222222,
              "#7201a8"
             ],
             [
              0.3333333333333333,
              "#9c179e"
             ],
             [
              0.4444444444444444,
              "#bd3786"
             ],
             [
              0.5555555555555556,
              "#d8576b"
             ],
             [
              0.6666666666666666,
              "#ed7953"
             ],
             [
              0.7777777777777778,
              "#fb9f3a"
             ],
             [
              0.8888888888888888,
              "#fdca26"
             ],
             [
              1,
              "#f0f921"
             ]
            ],
            "type": "histogram2d"
           }
          ],
          "histogram2dcontour": [
           {
            "colorbar": {
             "outlinewidth": 0,
             "ticks": ""
            },
            "colorscale": [
             [
              0,
              "#0d0887"
             ],
             [
              0.1111111111111111,
              "#46039f"
             ],
             [
              0.2222222222222222,
              "#7201a8"
             ],
             [
              0.3333333333333333,
              "#9c179e"
             ],
             [
              0.4444444444444444,
              "#bd3786"
             ],
             [
              0.5555555555555556,
              "#d8576b"
             ],
             [
              0.6666666666666666,
              "#ed7953"
             ],
             [
              0.7777777777777778,
              "#fb9f3a"
             ],
             [
              0.8888888888888888,
              "#fdca26"
             ],
             [
              1,
              "#f0f921"
             ]
            ],
            "type": "histogram2dcontour"
           }
          ],
          "mesh3d": [
           {
            "colorbar": {
             "outlinewidth": 0,
             "ticks": ""
            },
            "type": "mesh3d"
           }
          ],
          "parcoords": [
           {
            "line": {
             "colorbar": {
              "outlinewidth": 0,
              "ticks": ""
             }
            },
            "type": "parcoords"
           }
          ],
          "pie": [
           {
            "automargin": true,
            "type": "pie"
           }
          ],
          "scatter": [
           {
            "fillpattern": {
             "fillmode": "overlay",
             "size": 10,
             "solidity": 0.2
            },
            "type": "scatter"
           }
          ],
          "scatter3d": [
           {
            "line": {
             "colorbar": {
              "outlinewidth": 0,
              "ticks": ""
             }
            },
            "marker": {
             "colorbar": {
              "outlinewidth": 0,
              "ticks": ""
             }
            },
            "type": "scatter3d"
           }
          ],
          "scattercarpet": [
           {
            "marker": {
             "colorbar": {
              "outlinewidth": 0,
              "ticks": ""
             }
            },
            "type": "scattercarpet"
           }
          ],
          "scattergeo": [
           {
            "marker": {
             "colorbar": {
              "outlinewidth": 0,
              "ticks": ""
             }
            },
            "type": "scattergeo"
           }
          ],
          "scattergl": [
           {
            "marker": {
             "colorbar": {
              "outlinewidth": 0,
              "ticks": ""
             }
            },
            "type": "scattergl"
           }
          ],
          "scattermapbox": [
           {
            "marker": {
             "colorbar": {
              "outlinewidth": 0,
              "ticks": ""
             }
            },
            "type": "scattermapbox"
           }
          ],
          "scatterpolar": [
           {
            "marker": {
             "colorbar": {
              "outlinewidth": 0,
              "ticks": ""
             }
            },
            "type": "scatterpolar"
           }
          ],
          "scatterpolargl": [
           {
            "marker": {
             "colorbar": {
              "outlinewidth": 0,
              "ticks": ""
             }
            },
            "type": "scatterpolargl"
           }
          ],
          "scatterternary": [
           {
            "marker": {
             "colorbar": {
              "outlinewidth": 0,
              "ticks": ""
             }
            },
            "type": "scatterternary"
           }
          ],
          "surface": [
           {
            "colorbar": {
             "outlinewidth": 0,
             "ticks": ""
            },
            "colorscale": [
             [
              0,
              "#0d0887"
             ],
             [
              0.1111111111111111,
              "#46039f"
             ],
             [
              0.2222222222222222,
              "#7201a8"
             ],
             [
              0.3333333333333333,
              "#9c179e"
             ],
             [
              0.4444444444444444,
              "#bd3786"
             ],
             [
              0.5555555555555556,
              "#d8576b"
             ],
             [
              0.6666666666666666,
              "#ed7953"
             ],
             [
              0.7777777777777778,
              "#fb9f3a"
             ],
             [
              0.8888888888888888,
              "#fdca26"
             ],
             [
              1,
              "#f0f921"
             ]
            ],
            "type": "surface"
           }
          ],
          "table": [
           {
            "cells": {
             "fill": {
              "color": "#EBF0F8"
             },
             "line": {
              "color": "white"
             }
            },
            "header": {
             "fill": {
              "color": "#C8D4E3"
             },
             "line": {
              "color": "white"
             }
            },
            "type": "table"
           }
          ]
         },
         "layout": {
          "annotationdefaults": {
           "arrowcolor": "#2a3f5f",
           "arrowhead": 0,
           "arrowwidth": 1
          },
          "autotypenumbers": "strict",
          "coloraxis": {
           "colorbar": {
            "outlinewidth": 0,
            "ticks": ""
           }
          },
          "colorscale": {
           "diverging": [
            [
             0,
             "#8e0152"
            ],
            [
             0.1,
             "#c51b7d"
            ],
            [
             0.2,
             "#de77ae"
            ],
            [
             0.3,
             "#f1b6da"
            ],
            [
             0.4,
             "#fde0ef"
            ],
            [
             0.5,
             "#f7f7f7"
            ],
            [
             0.6,
             "#e6f5d0"
            ],
            [
             0.7,
             "#b8e186"
            ],
            [
             0.8,
             "#7fbc41"
            ],
            [
             0.9,
             "#4d9221"
            ],
            [
             1,
             "#276419"
            ]
           ],
           "sequential": [
            [
             0,
             "#0d0887"
            ],
            [
             0.1111111111111111,
             "#46039f"
            ],
            [
             0.2222222222222222,
             "#7201a8"
            ],
            [
             0.3333333333333333,
             "#9c179e"
            ],
            [
             0.4444444444444444,
             "#bd3786"
            ],
            [
             0.5555555555555556,
             "#d8576b"
            ],
            [
             0.6666666666666666,
             "#ed7953"
            ],
            [
             0.7777777777777778,
             "#fb9f3a"
            ],
            [
             0.8888888888888888,
             "#fdca26"
            ],
            [
             1,
             "#f0f921"
            ]
           ],
           "sequentialminus": [
            [
             0,
             "#0d0887"
            ],
            [
             0.1111111111111111,
             "#46039f"
            ],
            [
             0.2222222222222222,
             "#7201a8"
            ],
            [
             0.3333333333333333,
             "#9c179e"
            ],
            [
             0.4444444444444444,
             "#bd3786"
            ],
            [
             0.5555555555555556,
             "#d8576b"
            ],
            [
             0.6666666666666666,
             "#ed7953"
            ],
            [
             0.7777777777777778,
             "#fb9f3a"
            ],
            [
             0.8888888888888888,
             "#fdca26"
            ],
            [
             1,
             "#f0f921"
            ]
           ]
          },
          "colorway": [
           "#636efa",
           "#EF553B",
           "#00cc96",
           "#ab63fa",
           "#FFA15A",
           "#19d3f3",
           "#FF6692",
           "#B6E880",
           "#FF97FF",
           "#FECB52"
          ],
          "font": {
           "color": "#2a3f5f"
          },
          "geo": {
           "bgcolor": "white",
           "lakecolor": "white",
           "landcolor": "#E5ECF6",
           "showlakes": true,
           "showland": true,
           "subunitcolor": "white"
          },
          "hoverlabel": {
           "align": "left"
          },
          "hovermode": "closest",
          "mapbox": {
           "style": "light"
          },
          "paper_bgcolor": "white",
          "plot_bgcolor": "#E5ECF6",
          "polar": {
           "angularaxis": {
            "gridcolor": "white",
            "linecolor": "white",
            "ticks": ""
           },
           "bgcolor": "#E5ECF6",
           "radialaxis": {
            "gridcolor": "white",
            "linecolor": "white",
            "ticks": ""
           }
          },
          "scene": {
           "xaxis": {
            "backgroundcolor": "#E5ECF6",
            "gridcolor": "white",
            "gridwidth": 2,
            "linecolor": "white",
            "showbackground": true,
            "ticks": "",
            "zerolinecolor": "white"
           },
           "yaxis": {
            "backgroundcolor": "#E5ECF6",
            "gridcolor": "white",
            "gridwidth": 2,
            "linecolor": "white",
            "showbackground": true,
            "ticks": "",
            "zerolinecolor": "white"
           },
           "zaxis": {
            "backgroundcolor": "#E5ECF6",
            "gridcolor": "white",
            "gridwidth": 2,
            "linecolor": "white",
            "showbackground": true,
            "ticks": "",
            "zerolinecolor": "white"
           }
          },
          "shapedefaults": {
           "line": {
            "color": "#2a3f5f"
           }
          },
          "ternary": {
           "aaxis": {
            "gridcolor": "white",
            "linecolor": "white",
            "ticks": ""
           },
           "baxis": {
            "gridcolor": "white",
            "linecolor": "white",
            "ticks": ""
           },
           "bgcolor": "#E5ECF6",
           "caxis": {
            "gridcolor": "white",
            "linecolor": "white",
            "ticks": ""
           }
          },
          "title": {
           "x": 0.05
          },
          "xaxis": {
           "automargin": true,
           "gridcolor": "white",
           "linecolor": "white",
           "ticks": "",
           "title": {
            "standoff": 15
           },
           "zerolinecolor": "white",
           "zerolinewidth": 2
          },
          "yaxis": {
           "automargin": true,
           "gridcolor": "white",
           "linecolor": "white",
           "ticks": "",
           "title": {
            "standoff": 15
           },
           "zerolinecolor": "white",
           "zerolinewidth": 2
          }
         }
        },
        "title": {
         "text": "Model contributions -  'HOMA Abnormal' - 0.9 < AUC (0 models)"
        },
        "yaxis": {
         "tickformat": ".2f"
        }
       }
      }
     },
     "metadata": {},
     "output_type": "display_data"
    }
   ],
   "source": [
    "import plotly.express as px\n",
    "\n",
    "# Just because we liked this palette\n",
    "custom_colorscale = [\"rgb(30, 144, 255)\", \"rgb(148, 0, 211)\", \"rgb(255, 20, 147)\"]\n",
    "\n",
    "SORTED_MEANS = df2[\"SHAP_Abnormal\"].drop([\"ATPII/AHA/IDF\"], axis='columns').mean().sort_values(ascending=False)\n",
    "\n",
    "relabels = { idx : f\"{names_rename[idx]}\"  for idx in SORTED_MEANS.index }\n",
    "\n",
    "fig_abnormal = px.parallel_coordinates(df2[\"SHAP_Abnormal\"],\n",
    "    dimensions=df2[\"SHAP_Abnormal\"].drop([\"ATPII/AHA/IDF\"], axis='columns').mean().sort_values(ascending=False).index[:13], \n",
    "    color=\"Phenylalax\", \n",
    "    labels= relabels,\n",
    "    color_continuous_scale=custom_colorscale,\n",
    "    title = f\"Model contributions -  'HOMA Abnormal' - {lim_AUC} < AUC ({df2.shape[0]} models)\"\n",
    "    )\n",
    "\n",
    "fig_abnormal.update_layout(\n",
    "    yaxis_tickformat=\".2f\",\n",
    "    coloraxis_colorbar=dict(title=\"Phe. weight\"),\n",
    ")\n",
    "\n",
    "# Save as SVG, we can save as PNG later\n",
    "# fig_abnormal.write_image(\"fig/abnormal_ranks.svg\", width=4.5*DPI, height=1.5*DPI, scale = 1.0)\n",
    "\n",
    "fig_abnormal.show()"
   ]
  },
  {
   "attachments": {},
   "cell_type": "markdown",
   "metadata": {},
   "source": [
    "The base observation is that the IMC variable takes a high weight in most models, and there is a sort of bi-modal weight to the PheC.\n",
    "Some models do not even utilise it, while others count for ~20% of the final weight. "
   ]
  },
  {
   "cell_type": "code",
   "execution_count": 12,
   "metadata": {},
   "outputs": [
    {
     "data": {
      "application/vnd.plotly.v1+json": {
       "config": {
        "plotlyServerURL": "https://plot.ly"
       },
       "data": [
        {
         "dimensions": [
          {
           "label": "Sex",
           "values": []
          },
          {
           "label": "PheC",
           "values": []
          },
          {
           "label": "Glucose",
           "values": []
          },
          {
           "label": "Insulin",
           "values": []
          },
          {
           "label": "Tyrosine",
           "values": []
          },
          {
           "label": "Alanine",
           "values": []
          },
          {
           "label": "Aspartate",
           "values": []
          },
          {
           "label": "Glutamate",
           "values": []
          },
          {
           "label": "Leucine",
           "values": []
          },
          {
           "label": "Ornithine",
           "values": []
          },
          {
           "label": "Proline",
           "values": []
          },
          {
           "label": "Tyrosine",
           "values": []
          },
          {
           "label": "Free Carnitine",
           "values": []
          }
         ],
         "domain": {
          "x": [
           0,
           1
          ],
          "y": [
           0,
           1
          ]
         },
         "line": {
          "color": [],
          "coloraxis": "coloraxis"
         },
         "name": "",
         "type": "parcoords"
        }
       ],
       "layout": {
        "coloraxis": {
         "colorbar": {
          "title": {
           "text": "PheC"
          }
         },
         "colorscale": [
          [
           0,
           "rgb(30, 144, 255)"
          ],
          [
           0.5,
           "rgb(148, 0, 211)"
          ],
          [
           1,
           "rgb(255, 20, 147)"
          ]
         ]
        },
        "legend": {
         "tracegroupgap": 0
        },
        "template": {
         "data": {
          "bar": [
           {
            "error_x": {
             "color": "#2a3f5f"
            },
            "error_y": {
             "color": "#2a3f5f"
            },
            "marker": {
             "line": {
              "color": "#E5ECF6",
              "width": 0.5
             },
             "pattern": {
              "fillmode": "overlay",
              "size": 10,
              "solidity": 0.2
             }
            },
            "type": "bar"
           }
          ],
          "barpolar": [
           {
            "marker": {
             "line": {
              "color": "#E5ECF6",
              "width": 0.5
             },
             "pattern": {
              "fillmode": "overlay",
              "size": 10,
              "solidity": 0.2
             }
            },
            "type": "barpolar"
           }
          ],
          "carpet": [
           {
            "aaxis": {
             "endlinecolor": "#2a3f5f",
             "gridcolor": "white",
             "linecolor": "white",
             "minorgridcolor": "white",
             "startlinecolor": "#2a3f5f"
            },
            "baxis": {
             "endlinecolor": "#2a3f5f",
             "gridcolor": "white",
             "linecolor": "white",
             "minorgridcolor": "white",
             "startlinecolor": "#2a3f5f"
            },
            "type": "carpet"
           }
          ],
          "choropleth": [
           {
            "colorbar": {
             "outlinewidth": 0,
             "ticks": ""
            },
            "type": "choropleth"
           }
          ],
          "contour": [
           {
            "colorbar": {
             "outlinewidth": 0,
             "ticks": ""
            },
            "colorscale": [
             [
              0,
              "#0d0887"
             ],
             [
              0.1111111111111111,
              "#46039f"
             ],
             [
              0.2222222222222222,
              "#7201a8"
             ],
             [
              0.3333333333333333,
              "#9c179e"
             ],
             [
              0.4444444444444444,
              "#bd3786"
             ],
             [
              0.5555555555555556,
              "#d8576b"
             ],
             [
              0.6666666666666666,
              "#ed7953"
             ],
             [
              0.7777777777777778,
              "#fb9f3a"
             ],
             [
              0.8888888888888888,
              "#fdca26"
             ],
             [
              1,
              "#f0f921"
             ]
            ],
            "type": "contour"
           }
          ],
          "contourcarpet": [
           {
            "colorbar": {
             "outlinewidth": 0,
             "ticks": ""
            },
            "type": "contourcarpet"
           }
          ],
          "heatmap": [
           {
            "colorbar": {
             "outlinewidth": 0,
             "ticks": ""
            },
            "colorscale": [
             [
              0,
              "#0d0887"
             ],
             [
              0.1111111111111111,
              "#46039f"
             ],
             [
              0.2222222222222222,
              "#7201a8"
             ],
             [
              0.3333333333333333,
              "#9c179e"
             ],
             [
              0.4444444444444444,
              "#bd3786"
             ],
             [
              0.5555555555555556,
              "#d8576b"
             ],
             [
              0.6666666666666666,
              "#ed7953"
             ],
             [
              0.7777777777777778,
              "#fb9f3a"
             ],
             [
              0.8888888888888888,
              "#fdca26"
             ],
             [
              1,
              "#f0f921"
             ]
            ],
            "type": "heatmap"
           }
          ],
          "heatmapgl": [
           {
            "colorbar": {
             "outlinewidth": 0,
             "ticks": ""
            },
            "colorscale": [
             [
              0,
              "#0d0887"
             ],
             [
              0.1111111111111111,
              "#46039f"
             ],
             [
              0.2222222222222222,
              "#7201a8"
             ],
             [
              0.3333333333333333,
              "#9c179e"
             ],
             [
              0.4444444444444444,
              "#bd3786"
             ],
             [
              0.5555555555555556,
              "#d8576b"
             ],
             [
              0.6666666666666666,
              "#ed7953"
             ],
             [
              0.7777777777777778,
              "#fb9f3a"
             ],
             [
              0.8888888888888888,
              "#fdca26"
             ],
             [
              1,
              "#f0f921"
             ]
            ],
            "type": "heatmapgl"
           }
          ],
          "histogram": [
           {
            "marker": {
             "pattern": {
              "fillmode": "overlay",
              "size": 10,
              "solidity": 0.2
             }
            },
            "type": "histogram"
           }
          ],
          "histogram2d": [
           {
            "colorbar": {
             "outlinewidth": 0,
             "ticks": ""
            },
            "colorscale": [
             [
              0,
              "#0d0887"
             ],
             [
              0.1111111111111111,
              "#46039f"
             ],
             [
              0.2222222222222222,
              "#7201a8"
             ],
             [
              0.3333333333333333,
              "#9c179e"
             ],
             [
              0.4444444444444444,
              "#bd3786"
             ],
             [
              0.5555555555555556,
              "#d8576b"
             ],
             [
              0.6666666666666666,
              "#ed7953"
             ],
             [
              0.7777777777777778,
              "#fb9f3a"
             ],
             [
              0.8888888888888888,
              "#fdca26"
             ],
             [
              1,
              "#f0f921"
             ]
            ],
            "type": "histogram2d"
           }
          ],
          "histogram2dcontour": [
           {
            "colorbar": {
             "outlinewidth": 0,
             "ticks": ""
            },
            "colorscale": [
             [
              0,
              "#0d0887"
             ],
             [
              0.1111111111111111,
              "#46039f"
             ],
             [
              0.2222222222222222,
              "#7201a8"
             ],
             [
              0.3333333333333333,
              "#9c179e"
             ],
             [
              0.4444444444444444,
              "#bd3786"
             ],
             [
              0.5555555555555556,
              "#d8576b"
             ],
             [
              0.6666666666666666,
              "#ed7953"
             ],
             [
              0.7777777777777778,
              "#fb9f3a"
             ],
             [
              0.8888888888888888,
              "#fdca26"
             ],
             [
              1,
              "#f0f921"
             ]
            ],
            "type": "histogram2dcontour"
           }
          ],
          "mesh3d": [
           {
            "colorbar": {
             "outlinewidth": 0,
             "ticks": ""
            },
            "type": "mesh3d"
           }
          ],
          "parcoords": [
           {
            "line": {
             "colorbar": {
              "outlinewidth": 0,
              "ticks": ""
             }
            },
            "type": "parcoords"
           }
          ],
          "pie": [
           {
            "automargin": true,
            "type": "pie"
           }
          ],
          "scatter": [
           {
            "fillpattern": {
             "fillmode": "overlay",
             "size": 10,
             "solidity": 0.2
            },
            "type": "scatter"
           }
          ],
          "scatter3d": [
           {
            "line": {
             "colorbar": {
              "outlinewidth": 0,
              "ticks": ""
             }
            },
            "marker": {
             "colorbar": {
              "outlinewidth": 0,
              "ticks": ""
             }
            },
            "type": "scatter3d"
           }
          ],
          "scattercarpet": [
           {
            "marker": {
             "colorbar": {
              "outlinewidth": 0,
              "ticks": ""
             }
            },
            "type": "scattercarpet"
           }
          ],
          "scattergeo": [
           {
            "marker": {
             "colorbar": {
              "outlinewidth": 0,
              "ticks": ""
             }
            },
            "type": "scattergeo"
           }
          ],
          "scattergl": [
           {
            "marker": {
             "colorbar": {
              "outlinewidth": 0,
              "ticks": ""
             }
            },
            "type": "scattergl"
           }
          ],
          "scattermapbox": [
           {
            "marker": {
             "colorbar": {
              "outlinewidth": 0,
              "ticks": ""
             }
            },
            "type": "scattermapbox"
           }
          ],
          "scatterpolar": [
           {
            "marker": {
             "colorbar": {
              "outlinewidth": 0,
              "ticks": ""
             }
            },
            "type": "scatterpolar"
           }
          ],
          "scatterpolargl": [
           {
            "marker": {
             "colorbar": {
              "outlinewidth": 0,
              "ticks": ""
             }
            },
            "type": "scatterpolargl"
           }
          ],
          "scatterternary": [
           {
            "marker": {
             "colorbar": {
              "outlinewidth": 0,
              "ticks": ""
             }
            },
            "type": "scatterternary"
           }
          ],
          "surface": [
           {
            "colorbar": {
             "outlinewidth": 0,
             "ticks": ""
            },
            "colorscale": [
             [
              0,
              "#0d0887"
             ],
             [
              0.1111111111111111,
              "#46039f"
             ],
             [
              0.2222222222222222,
              "#7201a8"
             ],
             [
              0.3333333333333333,
              "#9c179e"
             ],
             [
              0.4444444444444444,
              "#bd3786"
             ],
             [
              0.5555555555555556,
              "#d8576b"
             ],
             [
              0.6666666666666666,
              "#ed7953"
             ],
             [
              0.7777777777777778,
              "#fb9f3a"
             ],
             [
              0.8888888888888888,
              "#fdca26"
             ],
             [
              1,
              "#f0f921"
             ]
            ],
            "type": "surface"
           }
          ],
          "table": [
           {
            "cells": {
             "fill": {
              "color": "#EBF0F8"
             },
             "line": {
              "color": "white"
             }
            },
            "header": {
             "fill": {
              "color": "#C8D4E3"
             },
             "line": {
              "color": "white"
             }
            },
            "type": "table"
           }
          ]
         },
         "layout": {
          "annotationdefaults": {
           "arrowcolor": "#2a3f5f",
           "arrowhead": 0,
           "arrowwidth": 1
          },
          "autotypenumbers": "strict",
          "coloraxis": {
           "colorbar": {
            "outlinewidth": 0,
            "ticks": ""
           }
          },
          "colorscale": {
           "diverging": [
            [
             0,
             "#8e0152"
            ],
            [
             0.1,
             "#c51b7d"
            ],
            [
             0.2,
             "#de77ae"
            ],
            [
             0.3,
             "#f1b6da"
            ],
            [
             0.4,
             "#fde0ef"
            ],
            [
             0.5,
             "#f7f7f7"
            ],
            [
             0.6,
             "#e6f5d0"
            ],
            [
             0.7,
             "#b8e186"
            ],
            [
             0.8,
             "#7fbc41"
            ],
            [
             0.9,
             "#4d9221"
            ],
            [
             1,
             "#276419"
            ]
           ],
           "sequential": [
            [
             0,
             "#0d0887"
            ],
            [
             0.1111111111111111,
             "#46039f"
            ],
            [
             0.2222222222222222,
             "#7201a8"
            ],
            [
             0.3333333333333333,
             "#9c179e"
            ],
            [
             0.4444444444444444,
             "#bd3786"
            ],
            [
             0.5555555555555556,
             "#d8576b"
            ],
            [
             0.6666666666666666,
             "#ed7953"
            ],
            [
             0.7777777777777778,
             "#fb9f3a"
            ],
            [
             0.8888888888888888,
             "#fdca26"
            ],
            [
             1,
             "#f0f921"
            ]
           ],
           "sequentialminus": [
            [
             0,
             "#0d0887"
            ],
            [
             0.1111111111111111,
             "#46039f"
            ],
            [
             0.2222222222222222,
             "#7201a8"
            ],
            [
             0.3333333333333333,
             "#9c179e"
            ],
            [
             0.4444444444444444,
             "#bd3786"
            ],
            [
             0.5555555555555556,
             "#d8576b"
            ],
            [
             0.6666666666666666,
             "#ed7953"
            ],
            [
             0.7777777777777778,
             "#fb9f3a"
            ],
            [
             0.8888888888888888,
             "#fdca26"
            ],
            [
             1,
             "#f0f921"
            ]
           ]
          },
          "colorway": [
           "#636efa",
           "#EF553B",
           "#00cc96",
           "#ab63fa",
           "#FFA15A",
           "#19d3f3",
           "#FF6692",
           "#B6E880",
           "#FF97FF",
           "#FECB52"
          ],
          "font": {
           "color": "#2a3f5f"
          },
          "geo": {
           "bgcolor": "white",
           "lakecolor": "white",
           "landcolor": "#E5ECF6",
           "showlakes": true,
           "showland": true,
           "subunitcolor": "white"
          },
          "hoverlabel": {
           "align": "left"
          },
          "hovermode": "closest",
          "mapbox": {
           "style": "light"
          },
          "paper_bgcolor": "white",
          "plot_bgcolor": "#E5ECF6",
          "polar": {
           "angularaxis": {
            "gridcolor": "white",
            "linecolor": "white",
            "ticks": ""
           },
           "bgcolor": "#E5ECF6",
           "radialaxis": {
            "gridcolor": "white",
            "linecolor": "white",
            "ticks": ""
           }
          },
          "scene": {
           "xaxis": {
            "backgroundcolor": "#E5ECF6",
            "gridcolor": "white",
            "gridwidth": 2,
            "linecolor": "white",
            "showbackground": true,
            "ticks": "",
            "zerolinecolor": "white"
           },
           "yaxis": {
            "backgroundcolor": "#E5ECF6",
            "gridcolor": "white",
            "gridwidth": 2,
            "linecolor": "white",
            "showbackground": true,
            "ticks": "",
            "zerolinecolor": "white"
           },
           "zaxis": {
            "backgroundcolor": "#E5ECF6",
            "gridcolor": "white",
            "gridwidth": 2,
            "linecolor": "white",
            "showbackground": true,
            "ticks": "",
            "zerolinecolor": "white"
           }
          },
          "shapedefaults": {
           "line": {
            "color": "#2a3f5f"
           }
          },
          "ternary": {
           "aaxis": {
            "gridcolor": "white",
            "linecolor": "white",
            "ticks": ""
           },
           "baxis": {
            "gridcolor": "white",
            "linecolor": "white",
            "ticks": ""
           },
           "bgcolor": "#E5ECF6",
           "caxis": {
            "gridcolor": "white",
            "linecolor": "white",
            "ticks": ""
           }
          },
          "title": {
           "x": 0.05
          },
          "xaxis": {
           "automargin": true,
           "gridcolor": "white",
           "linecolor": "white",
           "ticks": "",
           "title": {
            "standoff": 15
           },
           "zerolinecolor": "white",
           "zerolinewidth": 2
          },
          "yaxis": {
           "automargin": true,
           "gridcolor": "white",
           "linecolor": "white",
           "ticks": "",
           "title": {
            "standoff": 15
           },
           "zerolinecolor": "white",
           "zerolinewidth": 2
          }
         }
        },
        "title": {
         "text": "Model contributions -  'HOMA Healty' - 0.9 < AUC (0 models)"
        }
       }
      }
     },
     "metadata": {},
     "output_type": "display_data"
    }
   ],
   "source": [
    "fig_healty = px.parallel_coordinates(df2[\"SHAP_Healty\"],\n",
    "    dimensions=df2[\"SHAP_Healty\"].drop([\"ATPII/AHA/IDF\"], axis='columns').mean().sort_values(ascending=False).index[:13], \n",
    "    color=\"Phenylalax\", \n",
    "    labels= relabels,\n",
    "    color_continuous_scale=custom_colorscale,\n",
    "    title = f\"Model contributions -  'HOMA Healty' - {lim_AUC} < AUC ({df2.shape[0]} models)\"\n",
    "    )\n",
    "\n",
    "# fig_healty.write_image(\"fig/healty_ranks.svg\", width=4.5*DPI, height=1.5*DPI, scale = 1.0)\n",
    "\n",
    "fig_healty.show()"
   ]
  },
  {
   "attachments": {},
   "cell_type": "markdown",
   "metadata": {},
   "source": [
    "Y ~ _Mean SHAP (Shaply values takne from the combinatiorial approach to modeling feature importance on a system, based on the linear sum of ... ) value assigned to each feature by model_  \n",
    "X ~ _Ranking of the_  "
   ]
  },
  {
   "attachments": {},
   "cell_type": "markdown",
   "metadata": {},
   "source": [
    "For \"healty\" samples, the first variables remain the same in the first places, althought the weight assigned to BMI varies greatly. "
   ]
  },
  {
   "attachments": {},
   "cell_type": "markdown",
   "metadata": {},
   "source": [
    "![](fig/panel_2302.svg)"
   ]
  }
 ],
 "metadata": {
  "kernelspec": {
   "display_name": "Python 3.10.9 ('PKU-multilabeling')",
   "language": "python",
   "name": "python3"
  },
  "language_info": {
   "codemirror_mode": {
    "name": "ipython",
    "version": 3
   },
   "file_extension": ".py",
   "mimetype": "text/x-python",
   "name": "python",
   "nbconvert_exporter": "python",
   "pygments_lexer": "ipython3",
   "version": "3.10.9"
  },
  "orig_nbformat": 4,
  "vscode": {
   "interpreter": {
    "hash": "dda88d59524934c2e852704925e1efb36e77d9b89f6028eafc6f63f86ca7330a"
   }
  }
 },
 "nbformat": 4,
 "nbformat_minor": 2
}
