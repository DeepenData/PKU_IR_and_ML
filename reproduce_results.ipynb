{
 "cells": [
  {
   "cell_type": "code",
   "execution_count": null,
   "metadata": {},
   "outputs": [],
   "source": [
    "from utils_aa import *\n",
    "\n",
    "with open(\"params.yml\", \"r\") as f:\n",
    "    ext_params = yaml.load(f, Loader=yaml.FullLoader)\n",
    "    \n",
    "def objective(trial, data ,tuned_params = None, finetunning: bool = False) -> float:\n",
    "    \"\"\"\n",
    "    \"\"\"\n",
    "\n",
    "    if  finetunning:\n",
    "        seed = random.randint(1, 10_000)\n",
    "\n",
    "        params={\n",
    "                \"objective\":   \"binary:logistic\",\n",
    "                \"eval_metric\": \"logloss\",\n",
    "                'max_depth':   trial.suggest_int(\"max_depth\", 2, 6, ),\n",
    "                \"eta\":         trial.suggest_float(\"eta\", 0.01, 0.3),\n",
    "                \"subsample\":   trial.suggest_float(\"subsample\", 0.5, 0.9),\n",
    "                \"lambda\": trial.suggest_float(\"lambda\", 0, 1),\n",
    "                \"alpha\": trial.suggest_float(\"alpha\",0,1),\n",
    "                \"scale_pos_weight\": trial.suggest_float(\"scale_pos_weight\",0,2)\n",
    "            }\n",
    "    else:\n",
    "        seed = trial.suggest_int(\"seed\", 1, 10_000)\n",
    "        params = tuned_params\n",
    "\n",
    "    model_instance = generate_model(\n",
    "        \"HOMA-IR alterado\",\n",
    "        data, #\n",
    "        removed_features=ext_params[\"feature_engineering\"][\"removed_features\"],\n",
    "        xg_params=params,\n",
    "        kfold_splits=5,\n",
    "        seed=seed,\n",
    "    )\n",
    "\n",
    "    return (\n",
    "        model_instance.get_AUC_on_test_data(),\n",
    "        model_instance.get_feature_metrics()[ext_params['metrics'][0]][ext_params['metrics'][1]],\n",
    "    )\n",
    "    \n",
    "    \n",
    "    \n",
    "hyperparameters_fine_tuning = optuna.create_study(\n",
    "    directions=ext_params[\"directions\"],\n",
    "    sampler=optuna.samplers.NSGAIISampler()\n",
    "    )\n",
    "\n",
    "hyperparameters_fine_tuning.optimize(lambda trial: objective(trial, \"data/data.csv\", \n",
    "                                                             finetunning = True), n_trials=5000, n_jobs=-1)\n"
   ]
  },
  {
   "cell_type": "code",
   "execution_count": null,
   "metadata": {},
   "outputs": [],
   "source": [
    "models_sampling = optuna.create_study(\n",
    "    directions=ext_params[\"directions\"],\n",
    "    sampler=optuna.samplers.NSGAIISampler()\n",
    "    )\n",
    "\n",
    "\n",
    "\n",
    "models_sampling.optimize(lambda trial: objective(trial, \"data/data.csv\",  tuned_params = get_median_dict(hyperparameters_fine_tuning),\n",
    "                                                 finetunning = False), n_trials=5000, n_jobs=-1)\n",
    "\n",
    "make_pareto_plot(models_sampling)\n",
    "make_ranking_plots(\n",
    "    models_sampling, get_median_dict(hyperparameters_fine_tuning), data =\"data/data.csv\", CUTOFF_AUC =.9, CUTOFF_PHE=.0)\n"
   ]
  }
 ],
 "metadata": {
  "kernelspec": {
   "display_name": "playground",
   "language": "python",
   "name": "python3"
  },
  "language_info": {
   "codemirror_mode": {
    "name": "ipython",
    "version": 3
   },
   "file_extension": ".py",
   "mimetype": "text/x-python",
   "name": "python",
   "nbconvert_exporter": "python",
   "pygments_lexer": "ipython3",
   "version": "3.10.10"
  },
  "orig_nbformat": 4
 },
 "nbformat": 4,
 "nbformat_minor": 2
}
