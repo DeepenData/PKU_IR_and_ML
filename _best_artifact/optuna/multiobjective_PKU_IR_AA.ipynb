{
 "cells": [
  {
   "cell_type": "code",
   "execution_count": 37,
   "metadata": {},
   "outputs": [],
   "source": [
    "import numpy as np\n",
    "import pandas as pd\n",
    "import xgboost\n",
    "import yaml\n",
    "from sklearn.metrics import roc_auc_score\n",
    "from sklearn.model_selection import train_test_split\n",
    "import shap\n",
    "from sklearn.model_selection import StratifiedKFold\n",
    "\n",
    "class generate_model():\n",
    "    \n",
    "    def __init__(self, predictor_col: str, data_path: str,xg_params: dict, kfold_splits : int , test_size=0.3, removed_features: list[str] = None, seed: float = None) -> None:\n",
    "        if removed_features is None:\n",
    "            removed_features = []\n",
    "        dataset = pd.read_csv(data_path)\n",
    "\n",
    "        # Variable encoding\n",
    "        dataset[\"Género\"] = dataset[\"Género\"].replace({\"M\": 0, \"F\": 1}).astype(\"category\")\n",
    "        dataset[\"ATPII/AHA/IDF\"] = (\n",
    "            dataset[\"ATPII/AHA/IDF\"].replace({\"no\": 0, \"si\": 1}).astype(\"category\")\n",
    "        )\n",
    "        dataset[\"aleator\"] = (\n",
    "            dataset[\"aleator\"]\n",
    "            .replace({\"Control\": 0, \"PKU 1\": 1, \"PKU 2\": 2})\n",
    "            .astype(\"category\")\n",
    "        )\n",
    "\n",
    "        y_df = dataset[predictor_col].replace({\"No\": 0, \"Si\": 1}).astype(\"category\")\n",
    "        X_df = dataset.drop(predictor_col, axis=\"columns\")\n",
    "\n",
    "        X_df = X_df.drop(removed_features, axis=\"columns\")\n",
    "\n",
    "        self.X_train, self.X_test, self.y_train, self.y_test = train_test_split(\n",
    "                                                                X_df, y_df, stratify=y_df, test_size=test_size, random_state=seed\n",
    "                                                            )\n",
    "    #def xg_train(self, xg_params: dict, kfold_splits=5, seed=None):\n",
    "\n",
    "        cv = StratifiedKFold(n_splits=kfold_splits, shuffle=True, random_state=seed)\n",
    "        folds = list(cv.split(self.X_train, self.y_train))\n",
    "\n",
    "        for train_idx, val_idx in folds:\n",
    "            # Sub-empaquetado del train-set en formato de XGBoost\n",
    "            dtrain = xgboost.DMatrix(\n",
    "                self.X_train.iloc[train_idx, :],\n",
    "                label=self.y_train.iloc[train_idx],\n",
    "                enable_categorical=True,\n",
    "            )\n",
    "            dval = xgboost.DMatrix(\n",
    "                self.X_train.iloc[val_idx, :],\n",
    "                label=self.y_train.iloc[val_idx],\n",
    "                enable_categorical=True,\n",
    "            )\n",
    "\n",
    "            self.model = xgboost.train(\n",
    "                dtrain=dtrain,\n",
    "                params=xg_params,\n",
    "                evals=[(dtrain, \"train\"), (dval, \"val\")],\n",
    "                num_boost_round=1000,\n",
    "                verbose_eval=False,\n",
    "                early_stopping_rounds=10,\n",
    "            )\n",
    "    def get_AUC_on_test_data(self):\n",
    "        #def xg_test(model, X_test, y_test) -> float:\n",
    "        testset = xgboost.DMatrix(self.X_test, label=self.y_test, enable_categorical=True)\n",
    "        y_preds = self.model.predict(testset)\n",
    "\n",
    "        return roc_auc_score(testset.get_label(), y_preds)\n",
    "    \n",
    "    \n",
    "    def get_feature_metrics(self):\n",
    "        # internal_feature_metrics = pd.DataFrame(\n",
    "        #     {\n",
    "        #         \"Weight\": self.model.get_score(importance_type=\"weight\"),\n",
    "        #         \"Coverage\": self.model.get_score(importance_type=\"cover\"),\n",
    "        #         \"Gain\": self.model.get_score(importance_type=\"gain\"),\n",
    "        #     }\n",
    "        # ).sort_values(by=\"Gain\", ascending=False)\n",
    "\n",
    "        explainer = shap.TreeExplainer(self.model)\n",
    "\n",
    "        # Extrae la explicacion SHAP en un DF\n",
    "        EXPLAINATION = explainer(self.X_test).cohorts(\n",
    "            self.y_test.replace({0: \"Healty\", 1: \"Abnormal\"}).tolist()\n",
    "        )\n",
    "        cohort_exps = list(EXPLAINATION.cohorts.values())\n",
    "\n",
    "        exp_shap_abnormal = pd.DataFrame(\n",
    "            cohort_exps[0].values, columns=cohort_exps[0].feature_names\n",
    "        )  # .abs().mean()\n",
    "\n",
    "        exp_shap_healty = pd.DataFrame(\n",
    "            cohort_exps[1].values, columns=cohort_exps[1].feature_names\n",
    "        )  # .abs().mean()\n",
    "\n",
    "\n",
    "        feature_metrics = pd.concat(\n",
    "            {\n",
    "                \"SHAP_healty\": exp_shap_healty.abs().mean(),\n",
    "                \"SHAP_abnormal\": exp_shap_abnormal.abs().mean(),\n",
    "            },\n",
    "            axis=\"columns\",\n",
    "        )\n",
    "\n",
    "        # feature_metrics = (\n",
    "        #     feature_metrics.join(internal_feature_metrics)\n",
    "        #     .fillna(0)\n",
    "        #     .sort_values(by=\"Gain\", ascending=False)\n",
    "        # )\n",
    "\n",
    "        return feature_metrics\n",
    "    \n",
    "      \n",
    "    \n",
    "with open(\"params.yml\", \"r\") as f:\n",
    "        ext_params = yaml.load(f, Loader=yaml.FullLoader)\n",
    "   \n",
    "   \n",
    "def objective(trial) -> float:\n",
    "    \"\"\"\n",
    "    The function that runs a single model and evaluates it.\n",
    "    \"\"\"\n",
    "\n",
    "    seed = trial.suggest_int(\"seed\", 1, 10_000)\n",
    "\n",
    "    # params={\n",
    "    #         \"objective\":   \"binary:logistic\",\n",
    "    #         \"eval_metric\": \"logloss\",\n",
    "    #         'max_depth':   trial.suggest_int(\"max_depth\", 2, 6, ),\n",
    "    #         \"eta\":         trial.suggest_float(\"eta\", 0.01, 0.3),\n",
    "    #         \"subsample\":   trial.suggest_float(\"subsample\", 0.5, 0.9),\n",
    "    #         \"lambda\": trial.suggest_float(\"lambda\", 0, 1),\n",
    "    #         \"alpha\": trial.suggest_float(\"alpha\",0,1),\n",
    "    #         \"scale_pos_weight\": trial.suggest_float(\"scale_pos_weight\",0,2)\n",
    "    #     }\n",
    "    \n",
    "    params = {\n",
    "            \"objective\": \"binary:logistic\",\n",
    "            \"eval_metric\":       \"logloss\",\n",
    "            \"max_depth\":                 5,\n",
    "            \"eta\":                0.226908,\n",
    "            \"subsample\":          0.749761,\n",
    "            \"lambda\":             0.418621,\n",
    "            \"alpha\":              0.466643,\n",
    "            \"scale_pos_weight\":   1.640296,\n",
    "    }\n",
    "                \n",
    "    model_instance = generate_model(\n",
    "         \"HOMA-IR alterado\", \n",
    "         \"data.csv\", \n",
    "         removed_features = ext_params[\"feature_engineering\"][\"removed_features\"], \n",
    "         xg_params = params, kfold_splits = 5, \n",
    "         seed=seed\n",
    "    )   \n",
    "    \n",
    "    return model_instance.get_AUC_on_test_data(), model_instance.get_feature_metrics()[\"SHAP_abnormal\"][\"fenilalax\"]\n",
    "\n"
   ]
  },
  {
   "cell_type": "code",
   "execution_count": 38,
   "metadata": {},
   "outputs": [
    {
     "name": "stderr",
     "output_type": "stream",
     "text": [
      "\u001b[32m[I 2023-05-03 12:03:56,932]\u001b[0m A new study created in RDB with name: alejandro_6\u001b[0m\n",
      "\u001b[32m[I 2023-05-03 12:03:58,501]\u001b[0m Trial 6 finished with values: [0.8846153846153846, 0.11561426520347595] and parameters: {'seed': 7948}. \u001b[0m\n",
      "\u001b[32m[I 2023-05-03 12:03:58,932]\u001b[0m Trial 3 finished with values: [0.6666666666666666, 0.03147122263908386] and parameters: {'seed': 2161}. \u001b[0m\n",
      "\u001b[32m[I 2023-05-03 12:03:58,935]\u001b[0m Trial 13 finished with values: [0.8076923076923077, 0.0] and parameters: {'seed': 3431}. \u001b[0m\n",
      "\u001b[32m[I 2023-05-03 12:03:59,163]\u001b[0m Trial 8 finished with values: [0.6923076923076923, 0.0] and parameters: {'seed': 8507}. \u001b[0m\n",
      "\u001b[32m[I 2023-05-03 12:03:59,164]\u001b[0m Trial 2 finished with values: [0.6666666666666666, 0.07193134725093842] and parameters: {'seed': 8991}. \u001b[0m\n",
      "\u001b[32m[I 2023-05-03 12:03:59,310]\u001b[0m Trial 0 finished with values: [0.875, 0.09411654621362686] and parameters: {'seed': 3420}. \u001b[0m\n",
      "\u001b[32m[I 2023-05-03 12:03:59,586]\u001b[0m Trial 9 finished with values: [1.0, 0.0] and parameters: {'seed': 4602}. \u001b[0m\n",
      "\u001b[32m[I 2023-05-03 12:03:59,667]\u001b[0m Trial 1 finished with values: [0.6153846153846154, 0.0] and parameters: {'seed': 3728}. \u001b[0m\n",
      "\u001b[32m[I 2023-05-03 12:03:59,712]\u001b[0m Trial 11 finished with values: [0.8611111111111112, 0.0] and parameters: {'seed': 2939}. \u001b[0m\n",
      "\u001b[32m[I 2023-05-03 12:03:59,713]\u001b[0m Trial 12 finished with values: [0.6153846153846154, 0.0] and parameters: {'seed': 4971}. \u001b[0m\n",
      "\u001b[32m[I 2023-05-03 12:03:59,772]\u001b[0m Trial 5 finished with values: [1.0, 0.0] and parameters: {'seed': 5362}. \u001b[0m\n",
      "\u001b[32m[I 2023-05-03 12:03:59,773]\u001b[0m Trial 7 finished with values: [0.6666666666666666, 0.0] and parameters: {'seed': 1981}. \u001b[0m\n",
      "\u001b[32m[I 2023-05-03 12:03:59,899]\u001b[0m Trial 4 finished with values: [0.8846153846153846, 0.0] and parameters: {'seed': 9281}. \u001b[0m\n",
      "\u001b[32m[I 2023-05-03 12:03:59,899]\u001b[0m Trial 14 finished with values: [0.9615384615384616, 0.23130348324775696] and parameters: {'seed': 3406}. \u001b[0m\n",
      "\u001b[32m[I 2023-05-03 12:04:00,029]\u001b[0m Trial 10 finished with values: [0.5555555555555556, 0.0] and parameters: {'seed': 7735}. \u001b[0m\n",
      "\u001b[32m[I 2023-05-03 12:04:00,312]\u001b[0m Trial 16 finished with values: [0.6666666666666666, 0.0] and parameters: {'seed': 7047}. \u001b[0m\n",
      "\u001b[32m[I 2023-05-03 12:04:00,356]\u001b[0m Trial 15 finished with values: [0.7777777777777779, 0.037219565361738205] and parameters: {'seed': 233}. \u001b[0m\n",
      "\u001b[32m[I 2023-05-03 12:04:00,759]\u001b[0m Trial 17 finished with values: [0.8846153846153846, 0.0] and parameters: {'seed': 7007}. \u001b[0m\n",
      "\u001b[32m[I 2023-05-03 12:04:00,833]\u001b[0m Trial 19 finished with values: [0.8055555555555555, 0.0] and parameters: {'seed': 6538}. \u001b[0m\n",
      "\u001b[32m[I 2023-05-03 12:04:01,144]\u001b[0m Trial 18 finished with values: [0.9230769230769231, 0.0] and parameters: {'seed': 272}. \u001b[0m\n",
      "\u001b[32m[I 2023-05-03 12:04:01,470]\u001b[0m Trial 20 finished with values: [1.0, 0.14888665080070496] and parameters: {'seed': 7121}. \u001b[0m\n",
      "\u001b[32m[I 2023-05-03 12:04:01,551]\u001b[0m Trial 21 finished with values: [0.8055555555555555, 0.0989348515868187] and parameters: {'seed': 5935}. \u001b[0m\n",
      "\u001b[32m[I 2023-05-03 12:04:01,654]\u001b[0m Trial 25 finished with values: [0.75, 0.08222087472677231] and parameters: {'seed': 380}. \u001b[0m\n",
      "\u001b[32m[I 2023-05-03 12:04:01,735]\u001b[0m Trial 24 finished with values: [0.7222222222222222, 0.0] and parameters: {'seed': 6357}. \u001b[0m\n",
      "\u001b[32m[I 2023-05-03 12:04:01,812]\u001b[0m Trial 22 finished with values: [0.8076923076923077, 0.0] and parameters: {'seed': 6088}. \u001b[0m\n",
      "\u001b[32m[I 2023-05-03 12:04:02,073]\u001b[0m Trial 23 finished with values: [0.3888888888888889, 0.5312948822975159] and parameters: {'seed': 347}. \u001b[0m\n",
      "\u001b[32m[I 2023-05-03 12:04:02,107]\u001b[0m Trial 26 finished with values: [0.6538461538461539, 0.0] and parameters: {'seed': 40}. \u001b[0m\n",
      "\u001b[32m[I 2023-05-03 12:04:02,267]\u001b[0m Trial 27 finished with values: [0.6923076923076923, 0.0] and parameters: {'seed': 5792}. \u001b[0m\n",
      "\u001b[32m[I 2023-05-03 12:04:02,584]\u001b[0m Trial 28 finished with values: [0.5769230769230769, 0.07402998954057693] and parameters: {'seed': 5843}. \u001b[0m\n",
      "\u001b[32m[I 2023-05-03 12:04:02,962]\u001b[0m Trial 30 finished with values: [0.638888888888889, 0.4335141181945801] and parameters: {'seed': 1418}. \u001b[0m\n",
      "\u001b[32m[I 2023-05-03 12:04:02,963]\u001b[0m Trial 31 finished with values: [0.6153846153846154, 0.09948281943798065] and parameters: {'seed': 1632}. \u001b[0m\n",
      "\u001b[32m[I 2023-05-03 12:04:02,985]\u001b[0m Trial 29 finished with values: [0.9615384615384616, 0.0] and parameters: {'seed': 1658}. \u001b[0m\n",
      "\u001b[32m[I 2023-05-03 12:04:03,149]\u001b[0m Trial 35 finished with values: [1.0, 0.06335218995809555] and parameters: {'seed': 1275}. \u001b[0m\n",
      "\u001b[32m[I 2023-05-03 12:04:03,237]\u001b[0m Trial 34 finished with values: [0.7307692307692307, 0.0] and parameters: {'seed': 1307}. \u001b[0m\n",
      "\u001b[32m[I 2023-05-03 12:04:03,612]\u001b[0m Trial 33 finished with values: [0.9444444444444444, 0.0] and parameters: {'seed': 1870}. \u001b[0m\n",
      "\u001b[32m[I 2023-05-03 12:04:03,692]\u001b[0m Trial 37 finished with values: [0.6111111111111112, 0.0] and parameters: {'seed': 1265}. \u001b[0m\n",
      "\u001b[32m[I 2023-05-03 12:04:03,824]\u001b[0m Trial 39 finished with values: [1.0, 0.0] and parameters: {'seed': 1517}. \u001b[0m\n",
      "\u001b[32m[I 2023-05-03 12:04:03,824]\u001b[0m Trial 32 finished with values: [0.33333333333333337, 0.0] and parameters: {'seed': 1149}. \u001b[0m\n",
      "\u001b[32m[I 2023-05-03 12:04:03,858]\u001b[0m Trial 38 finished with values: [0.6153846153846154, 0.04387957975268364] and parameters: {'seed': 1161}. \u001b[0m\n",
      "\u001b[32m[I 2023-05-03 12:04:03,904]\u001b[0m Trial 41 finished with values: [0.9230769230769231, 0.23277316987514496] and parameters: {'seed': 2739}. \u001b[0m\n",
      "\u001b[32m[I 2023-05-03 12:04:04,121]\u001b[0m Trial 36 finished with values: [0.9722222222222222, 0.0] and parameters: {'seed': 1130}. \u001b[0m\n",
      "\u001b[32m[I 2023-05-03 12:04:04,289]\u001b[0m Trial 42 finished with values: [0.8461538461538461, 0.0] and parameters: {'seed': 4100}. \u001b[0m\n",
      "\u001b[32m[I 2023-05-03 12:04:04,475]\u001b[0m Trial 40 finished with values: [0.8333333333333334, 0.0] and parameters: {'seed': 2808}. \u001b[0m\n",
      "\u001b[32m[I 2023-05-03 12:04:05,033]\u001b[0m Trial 45 finished with values: [0.5769230769230769, 0.0] and parameters: {'seed': 4373}. \u001b[0m\n",
      "\u001b[32m[I 2023-05-03 12:04:05,421]\u001b[0m Trial 44 finished with values: [0.7638888888888888, 0.0] and parameters: {'seed': 4206}. \u001b[0m\n",
      "\u001b[32m[I 2023-05-03 12:04:05,519]\u001b[0m Trial 46 finished with values: [0.5, 0.0] and parameters: {'seed': 2411}. \u001b[0m\n",
      "\u001b[32m[I 2023-05-03 12:04:05,520]\u001b[0m Trial 43 finished with values: [0.9230769230769231, 0.0] and parameters: {'seed': 2552}. \u001b[0m\n",
      "\u001b[32m[I 2023-05-03 12:04:05,584]\u001b[0m Trial 49 finished with values: [0.8055555555555556, 0.13962604105472565] and parameters: {'seed': 2658}. \u001b[0m\n",
      "\u001b[32m[I 2023-05-03 12:04:05,730]\u001b[0m Trial 47 finished with values: [0.8611111111111112, 0.07263388484716415] and parameters: {'seed': 9905}. \u001b[0m\n",
      "\u001b[32m[I 2023-05-03 12:04:06,038]\u001b[0m Trial 48 finished with values: [0.846153846153846, 0.0] and parameters: {'seed': 9697}. \u001b[0m\n",
      "\u001b[32m[I 2023-05-03 12:04:06,196]\u001b[0m Trial 50 finished with values: [0.7222222222222222, 0.0] and parameters: {'seed': 9807}. \u001b[0m\n",
      "\u001b[32m[I 2023-05-03 12:04:06,201]\u001b[0m Trial 51 finished with values: [0.7692307692307692, 0.10126087069511414] and parameters: {'seed': 2434}. \u001b[0m\n",
      "\u001b[32m[I 2023-05-03 12:04:06,339]\u001b[0m Trial 53 finished with values: [0.9615384615384616, 0.0] and parameters: {'seed': 676}. \u001b[0m\n",
      "\u001b[32m[I 2023-05-03 12:04:06,339]\u001b[0m Trial 52 finished with values: [0.8846153846153846, 0.0] and parameters: {'seed': 2467}. \u001b[0m\n",
      "\u001b[32m[I 2023-05-03 12:04:06,382]\u001b[0m Trial 54 finished with values: [0.6923076923076923, 0.08545444160699844] and parameters: {'seed': 2312}. \u001b[0m\n",
      "\u001b[32m[I 2023-05-03 12:04:06,548]\u001b[0m Trial 55 finished with values: [0.7222222222222222, 0.12550918757915497] and parameters: {'seed': 3289}. \u001b[0m\n",
      "\u001b[32m[I 2023-05-03 12:04:06,750]\u001b[0m Trial 56 finished with values: [0.7692307692307692, 0.04238264262676239] and parameters: {'seed': 9762}. \u001b[0m\n",
      "\u001b[32m[I 2023-05-03 12:04:07,085]\u001b[0m Trial 57 finished with values: [0.9230769230769231, 0.0] and parameters: {'seed': 9350}. \u001b[0m\n",
      "\u001b[32m[I 2023-05-03 12:04:07,263]\u001b[0m Trial 58 finished with values: [0.6538461538461539, 0.11787150800228119] and parameters: {'seed': 8475}. \u001b[0m\n",
      "\u001b[32m[I 2023-05-03 12:04:07,344]\u001b[0m Trial 59 finished with values: [0.9166666666666667, 0.0] and parameters: {'seed': 8373}. \u001b[0m\n",
      "\u001b[32m[I 2023-05-03 12:04:07,411]\u001b[0m Trial 60 finished with values: [0.8611111111111112, 0.12004730105400085] and parameters: {'seed': 8096}. \u001b[0m\n",
      "\u001b[32m[I 2023-05-03 12:04:07,913]\u001b[0m Trial 64 finished with values: [0.6538461538461539, 0.02992820180952549] and parameters: {'seed': 8299}. \u001b[0m\n",
      "\u001b[32m[I 2023-05-03 12:04:07,913]\u001b[0m Trial 62 finished with values: [0.888888888888889, 0.09897718578577042] and parameters: {'seed': 8642}. \u001b[0m\n",
      "\u001b[32m[I 2023-05-03 12:04:08,409]\u001b[0m Trial 63 finished with values: [0.46153846153846156, 0.0] and parameters: {'seed': 7938}. \u001b[0m\n",
      "\u001b[32m[I 2023-05-03 12:04:08,458]\u001b[0m Trial 61 finished with values: [1.0, 0.0] and parameters: {'seed': 8175}. \u001b[0m\n",
      "\u001b[32m[I 2023-05-03 12:04:08,459]\u001b[0m Trial 67 finished with values: [0.6666666666666666, 0.0] and parameters: {'seed': 754}. \u001b[0m\n",
      "\u001b[32m[I 2023-05-03 12:04:08,606]\u001b[0m Trial 66 finished with values: [0.7222222222222223, 0.0] and parameters: {'seed': 783}. \u001b[0m\n",
      "\u001b[32m[I 2023-05-03 12:04:08,629]\u001b[0m Trial 68 finished with values: [0.9444444444444445, 0.1644585281610489] and parameters: {'seed': 784}. \u001b[0m\n",
      "\u001b[32m[I 2023-05-03 12:04:08,667]\u001b[0m Trial 72 finished with values: [0.6923076923076923, 0.0] and parameters: {'seed': 769}. \u001b[0m\n",
      "\u001b[32m[I 2023-05-03 12:04:08,713]\u001b[0m Trial 65 finished with values: [0.6923076923076923, 0.0] and parameters: {'seed': 661}. \u001b[0m\n",
      "\u001b[32m[I 2023-05-03 12:04:08,962]\u001b[0m Trial 69 finished with values: [0.7307692307692307, 0.0] and parameters: {'seed': 3587}. \u001b[0m\n",
      "\u001b[32m[I 2023-05-03 12:04:08,963]\u001b[0m Trial 71 finished with values: [1.0, 0.0] and parameters: {'seed': 771}. \u001b[0m\n",
      "\u001b[32m[I 2023-05-03 12:04:09,163]\u001b[0m Trial 70 finished with values: [0.75, 0.25284674763679504] and parameters: {'seed': 1963}. \u001b[0m\n",
      "\u001b[32m[I 2023-05-03 12:04:09,278]\u001b[0m Trial 74 finished with values: [0.5576923076923077, 0.0] and parameters: {'seed': 3106}. \u001b[0m\n",
      "\u001b[32m[I 2023-05-03 12:04:09,633]\u001b[0m Trial 73 finished with values: [0.8461538461538461, 0.0] and parameters: {'seed': 5222}. \u001b[0m\n",
      "\u001b[32m[I 2023-05-03 12:04:09,736]\u001b[0m Trial 75 finished with values: [0.6538461538461539, 0.0] and parameters: {'seed': 3297}. \u001b[0m\n",
      "\u001b[32m[I 2023-05-03 12:04:10,194]\u001b[0m Trial 77 finished with values: [0.9166666666666667, 0.17966656386852264] and parameters: {'seed': 1943}. \u001b[0m\n",
      "\u001b[32m[I 2023-05-03 12:04:10,347]\u001b[0m Trial 78 finished with values: [1.0, 0.0] and parameters: {'seed': 1907}. \u001b[0m\n",
      "\u001b[32m[I 2023-05-03 12:04:10,431]\u001b[0m Trial 79 finished with values: [0.611111111111111, 0.0] and parameters: {'seed': 1949}. \u001b[0m\n",
      "\u001b[32m[I 2023-05-03 12:04:10,459]\u001b[0m Trial 76 finished with values: [0.5, 0.0] and parameters: {'seed': 2043}. \u001b[0m\n",
      "\u001b[32m[I 2023-05-03 12:04:10,779]\u001b[0m Trial 80 finished with values: [0.3888888888888889, 0.05120783671736717] and parameters: {'seed': 2063}. \u001b[0m\n",
      "\u001b[32m[I 2023-05-03 12:04:11,129]\u001b[0m Trial 84 finished with values: [0.3333333333333333, 0.23075097799301147] and parameters: {'seed': 2088}. \u001b[0m\n",
      "\u001b[32m[I 2023-05-03 12:04:11,290]\u001b[0m Trial 83 finished with values: [0.7307692307692307, 0.0] and parameters: {'seed': 2056}. \u001b[0m\n",
      "\u001b[32m[I 2023-05-03 12:04:11,349]\u001b[0m Trial 81 finished with values: [0.8076923076923077, 0.04372785612940788] and parameters: {'seed': 1966}. \u001b[0m\n",
      "\u001b[32m[I 2023-05-03 12:04:11,415]\u001b[0m Trial 82 finished with values: [0.8846153846153846, 0.10271520167589188] and parameters: {'seed': 7401}. \u001b[0m\n",
      "\u001b[32m[I 2023-05-03 12:04:11,554]\u001b[0m Trial 85 finished with values: [0.7777777777777778, 0.047174613922834396] and parameters: {'seed': 2055}. \u001b[0m\n",
      "\u001b[32m[I 2023-05-03 12:04:11,614]\u001b[0m Trial 87 finished with values: [0.36111111111111116, 0.0] and parameters: {'seed': 7373}. \u001b[0m\n",
      "\u001b[32m[I 2023-05-03 12:04:11,614]\u001b[0m Trial 86 finished with values: [0.7361111111111112, 0.0] and parameters: {'seed': 7002}. \u001b[0m\n",
      "\u001b[32m[I 2023-05-03 12:04:11,737]\u001b[0m Trial 88 finished with values: [0.9230769230769231, 0.0] and parameters: {'seed': 7379}. \u001b[0m\n",
      "\u001b[32m[I 2023-05-03 12:04:11,774]\u001b[0m Trial 89 finished with values: [0.5555555555555556, 0.16552765667438507] and parameters: {'seed': 7243}. \u001b[0m\n",
      "\u001b[32m[I 2023-05-03 12:04:11,792]\u001b[0m Trial 91 finished with values: [0.6527777777777777, 0.35339251160621643] and parameters: {'seed': 7259}. \u001b[0m\n",
      "\u001b[32m[I 2023-05-03 12:04:12,379]\u001b[0m Trial 90 finished with values: [1.0, 0.16831347346305847] and parameters: {'seed': 7179}. \u001b[0m\n",
      "\u001b[32m[I 2023-05-03 12:04:12,686]\u001b[0m Trial 92 finished with values: [0.9230769230769231, 0.02564261481165886] and parameters: {'seed': 1542}. \u001b[0m\n",
      "\u001b[32m[I 2023-05-03 12:04:12,745]\u001b[0m Trial 95 finished with values: [1.0, 0.0] and parameters: {'seed': 411}. \u001b[0m\n",
      "\u001b[32m[I 2023-05-03 12:04:12,995]\u001b[0m Trial 93 finished with values: [0.6666666666666666, 0.0] and parameters: {'seed': 39}. \u001b[0m\n",
      "\u001b[32m[I 2023-05-03 12:04:13,174]\u001b[0m Trial 94 finished with values: [0.8055555555555556, 0.0] and parameters: {'seed': 409}. \u001b[0m\n",
      "\u001b[32m[I 2023-05-03 12:04:13,570]\u001b[0m Trial 97 finished with values: [0.7499999999999999, 0.049271438270807266] and parameters: {'seed': 372}. \u001b[0m\n",
      "\u001b[32m[I 2023-05-03 12:04:13,638]\u001b[0m Trial 96 finished with values: [0.9230769230769231, 0.0] and parameters: {'seed': 140}. \u001b[0m\n",
      "\u001b[32m[I 2023-05-03 12:04:13,638]\u001b[0m Trial 98 finished with values: [0.8611111111111112, 0.0] and parameters: {'seed': 14}. \u001b[0m\n",
      "\u001b[32m[I 2023-05-03 12:04:13,640]\u001b[0m Trial 100 finished with values: [0.625, 0.0] and parameters: {'seed': 52}. \u001b[0m\n",
      "\u001b[32m[I 2023-05-03 12:04:13,991]\u001b[0m Trial 102 finished with values: [0.7307692307692308, 0.0] and parameters: {'seed': 88}. \u001b[0m\n",
      "\u001b[32m[I 2023-05-03 12:04:13,998]\u001b[0m Trial 101 finished with values: [0.6111111111111112, 0.0] and parameters: {'seed': 1037}. \u001b[0m\n",
      "\u001b[32m[I 2023-05-03 12:04:13,999]\u001b[0m Trial 99 finished with values: [0.8055555555555556, 0.07619120925664902] and parameters: {'seed': 3832}. \u001b[0m\n",
      "\u001b[32m[I 2023-05-03 12:04:14,465]\u001b[0m Trial 104 finished with values: [1.0, 0.0] and parameters: {'seed': 988}. \u001b[0m\n",
      "\u001b[32m[I 2023-05-03 12:04:14,487]\u001b[0m Trial 103 finished with values: [0.9230769230769231, 0.0] and parameters: {'seed': 1027}. \u001b[0m\n",
      "\u001b[32m[I 2023-05-03 12:04:14,492]\u001b[0m Trial 106 finished with values: [0.3333333333333333, 0.04759606719017029] and parameters: {'seed': 1120}. \u001b[0m\n",
      "\u001b[32m[I 2023-05-03 12:04:14,671]\u001b[0m Trial 108 finished with values: [0.8055555555555557, 0.11332819610834122] and parameters: {'seed': 1071}. \u001b[0m\n",
      "\u001b[32m[I 2023-05-03 12:04:14,672]\u001b[0m Trial 105 finished with values: [0.6923076923076923, 0.03785984218120575] and parameters: {'seed': 1022}. \u001b[0m\n",
      "\u001b[32m[I 2023-05-03 12:04:14,861]\u001b[0m Trial 107 finished with values: [0.8846153846153846, 0.0] and parameters: {'seed': 1432}. \u001b[0m\n",
      "\u001b[32m[I 2023-05-03 12:04:15,444]\u001b[0m Trial 109 finished with values: [0.7777777777777778, 0.12136906385421753] and parameters: {'seed': 1455}. \u001b[0m\n",
      "\u001b[32m[I 2023-05-03 12:04:15,669]\u001b[0m Trial 111 finished with values: [0.6538461538461539, 0.3807412385940552] and parameters: {'seed': 1691}. \u001b[0m\n",
      "\u001b[32m[I 2023-05-03 12:04:15,767]\u001b[0m Trial 112 finished with values: [0.6923076923076923, 0.0] and parameters: {'seed': 1683}. \u001b[0m\n",
      "\u001b[32m[I 2023-05-03 12:04:15,800]\u001b[0m Trial 110 finished with values: [0.7692307692307692, 0.10242868214845657] and parameters: {'seed': 1461}. \u001b[0m\n",
      "\u001b[32m[I 2023-05-03 12:04:16,086]\u001b[0m Trial 118 finished with values: [1.0, 0.0] and parameters: {'seed': 1359}. \u001b[0m\n",
      "\u001b[32m[I 2023-05-03 12:04:16,227]\u001b[0m Trial 115 finished with values: [0.75, 0.10920548439025879] and parameters: {'seed': 1743}. \u001b[0m\n",
      "\u001b[32m[I 2023-05-03 12:04:16,398]\u001b[0m Trial 113 finished with values: [0.7692307692307692, 0.0] and parameters: {'seed': 1744}. \u001b[0m\n",
      "\u001b[32m[I 2023-05-03 12:04:16,412]\u001b[0m Trial 116 finished with values: [0.8461538461538461, 0.0] and parameters: {'seed': 1731}. \u001b[0m\n",
      "\u001b[32m[I 2023-05-03 12:04:16,598]\u001b[0m Trial 114 finished with values: [0.46153846153846156, 0.06028856337070465] and parameters: {'seed': 1692}. \u001b[0m\n",
      "\u001b[32m[I 2023-05-03 12:04:16,707]\u001b[0m Trial 117 finished with values: [0.9615384615384616, 0.0] and parameters: {'seed': 1793}. \u001b[0m\n",
      "\u001b[32m[I 2023-05-03 12:04:16,774]\u001b[0m Trial 121 finished with values: [0.8333333333333333, 0.173087015748024] and parameters: {'seed': 2840}. \u001b[0m\n",
      "\u001b[32m[I 2023-05-03 12:04:16,899]\u001b[0m Trial 120 finished with values: [0.5694444444444444, 0.0] and parameters: {'seed': 4746}. \u001b[0m\n",
      "\u001b[32m[I 2023-05-03 12:04:17,197]\u001b[0m Trial 119 finished with values: [0.3846153846153846, 0.19721344113349915] and parameters: {'seed': 4871}. \u001b[0m\n",
      "\u001b[32m[I 2023-05-03 12:04:17,200]\u001b[0m Trial 122 finished with values: [0.7499999999999999, 0.0] and parameters: {'seed': 4603}. \u001b[0m\n",
      "\u001b[32m[I 2023-05-03 12:04:17,682]\u001b[0m Trial 125 finished with values: [0.6153846153846154, 0.0] and parameters: {'seed': 4774}. \u001b[0m\n",
      "\u001b[32m[I 2023-05-03 12:04:17,683]\u001b[0m Trial 124 finished with values: [0.7222222222222222, 0.0] and parameters: {'seed': 4686}. \u001b[0m\n",
      "\u001b[32m[I 2023-05-03 12:04:17,714]\u001b[0m Trial 126 finished with values: [1.0, 0.0] and parameters: {'seed': 2701}. \u001b[0m\n",
      "\u001b[32m[I 2023-05-03 12:04:17,715]\u001b[0m Trial 123 finished with values: [0.6538461538461539, 0.03258848935365677] and parameters: {'seed': 2680}. \u001b[0m\n",
      "\u001b[32m[I 2023-05-03 12:04:18,019]\u001b[0m Trial 127 finished with values: [0.9230769230769231, 0.0] and parameters: {'seed': 6315}. \u001b[0m\n",
      "\u001b[32m[I 2023-05-03 12:04:18,258]\u001b[0m Trial 128 finished with values: [0.8055555555555555, 0.0] and parameters: {'seed': 2720}. \u001b[0m\n",
      "\u001b[32m[I 2023-05-03 12:04:18,683]\u001b[0m Trial 129 finished with values: [0.7777777777777779, 0.07392586022615433] and parameters: {'seed': 8849}. \u001b[0m\n",
      "\u001b[32m[I 2023-05-03 12:04:18,777]\u001b[0m Trial 131 finished with values: [0.5384615384615384, 0.0] and parameters: {'seed': 2256}. \u001b[0m\n",
      "\u001b[32m[I 2023-05-03 12:04:18,780]\u001b[0m Trial 130 finished with values: [0.6666666666666666, 0.0] and parameters: {'seed': 2949}. \u001b[0m\n",
      "\u001b[32m[I 2023-05-03 12:04:18,849]\u001b[0m Trial 132 finished with values: [1.0, 0.0] and parameters: {'seed': 2212}. \u001b[0m\n",
      "\u001b[32m[I 2023-05-03 12:04:18,978]\u001b[0m Trial 133 finished with values: [0.5, 0.045572277158498764] and parameters: {'seed': 6620}. \u001b[0m\n",
      "\u001b[32m[I 2023-05-03 12:04:19,045]\u001b[0m Trial 136 finished with values: [0.7307692307692308, 0.0] and parameters: {'seed': 8930}. \u001b[0m\n",
      "\u001b[32m[I 2023-05-03 12:04:19,067]\u001b[0m Trial 137 finished with values: [0.8076923076923077, 0.0] and parameters: {'seed': 2275}. \u001b[0m\n",
      "\u001b[32m[I 2023-05-03 12:04:19,097]\u001b[0m Trial 135 finished with values: [0.6538461538461539, 0.0] and parameters: {'seed': 5450}. \u001b[0m\n",
      "\u001b[32m[I 2023-05-03 12:04:19,140]\u001b[0m Trial 134 finished with values: [0.9615384615384616, 0.0] and parameters: {'seed': 6750}. \u001b[0m\n",
      "\u001b[32m[I 2023-05-03 12:04:19,660]\u001b[0m Trial 138 finished with values: [0.5384615384615384, 0.0] and parameters: {'seed': 9018}. \u001b[0m\n",
      "\u001b[32m[I 2023-05-03 12:04:19,791]\u001b[0m Trial 139 finished with values: [0.7222222222222222, 0.07035301625728607] and parameters: {'seed': 5452}. \u001b[0m\n",
      "\u001b[32m[I 2023-05-03 12:04:20,139]\u001b[0m Trial 141 finished with values: [0.9230769230769231, 0.02798948995769024] and parameters: {'seed': 616}. \u001b[0m\n",
      "\u001b[32m[I 2023-05-03 12:04:20,433]\u001b[0m Trial 140 finished with values: [0.6923076923076923, 0.07057183980941772] and parameters: {'seed': 533}. \u001b[0m\n",
      "\u001b[32m[I 2023-05-03 12:04:20,568]\u001b[0m Trial 142 finished with values: [0.611111111111111, 0.0] and parameters: {'seed': 558}. \u001b[0m\n",
      "\u001b[32m[I 2023-05-03 12:04:20,635]\u001b[0m Trial 143 finished with values: [0.888888888888889, 0.08630544692277908] and parameters: {'seed': 640}. \u001b[0m\n",
      "\u001b[32m[I 2023-05-03 12:04:20,763]\u001b[0m Trial 144 finished with values: [0.6538461538461539, 0.0] and parameters: {'seed': 597}. \u001b[0m\n",
      "\u001b[32m[I 2023-05-03 12:04:21,020]\u001b[0m Trial 148 finished with values: [1.0, 0.06313106417655945] and parameters: {'seed': 7753}. \u001b[0m\n",
      "\u001b[32m[I 2023-05-03 12:04:21,043]\u001b[0m Trial 145 finished with values: [0.8846153846153846, 0.0] and parameters: {'seed': 560}. \u001b[0m\n",
      "\u001b[32m[I 2023-05-03 12:04:21,384]\u001b[0m Trial 147 finished with values: [0.7777777777777778, 0.0] and parameters: {'seed': 505}. \u001b[0m\n",
      "\u001b[32m[I 2023-05-03 12:04:21,385]\u001b[0m Trial 146 finished with values: [0.6923076923076923, 0.0] and parameters: {'seed': 866}. \u001b[0m\n",
      "\u001b[32m[I 2023-05-03 12:04:21,446]\u001b[0m Trial 151 finished with values: [0.8461538461538461, 0.020222214981913567] and parameters: {'seed': 7810}. \u001b[0m\n",
      "\u001b[32m[I 2023-05-03 12:04:21,714]\u001b[0m Trial 152 finished with values: [0.5833333333333333, 0.1375890076160431] and parameters: {'seed': 826}. \u001b[0m\n",
      "\u001b[32m[I 2023-05-03 12:04:21,756]\u001b[0m Trial 150 finished with values: [0.9230769230769231, 0.1395425647497177] and parameters: {'seed': 939}. \u001b[0m\n",
      "\u001b[32m[I 2023-05-03 12:04:21,847]\u001b[0m Trial 149 finished with values: [0.7692307692307692, 0.0] and parameters: {'seed': 841}. \u001b[0m\n",
      "\u001b[32m[I 2023-05-03 12:04:21,937]\u001b[0m Trial 153 finished with values: [0.8076923076923077, 0.0] and parameters: {'seed': 886}. \u001b[0m\n",
      "\u001b[32m[I 2023-05-03 12:04:22,287]\u001b[0m Trial 154 finished with values: [0.4722222222222222, 0.0] and parameters: {'seed': 847}. \u001b[0m\n",
      "\u001b[32m[I 2023-05-03 12:04:22,684]\u001b[0m Trial 155 finished with values: [0.8055555555555555, 0.28994297981262207] and parameters: {'seed': 1230}. \u001b[0m\n",
      "\u001b[32m[I 2023-05-03 12:04:22,690]\u001b[0m Trial 156 finished with values: [0.5555555555555556, 0.13885991275310516] and parameters: {'seed': 1298}. \u001b[0m\n",
      "\u001b[32m[I 2023-05-03 12:04:22,772]\u001b[0m Trial 157 finished with values: [0.6923076923076923, 0.4925512373447418] and parameters: {'seed': 281}. \u001b[0m\n",
      "\u001b[32m[I 2023-05-03 12:04:22,813]\u001b[0m Trial 159 finished with values: [0.8333333333333334, 0.0] and parameters: {'seed': 1234}. \u001b[0m\n",
      "\u001b[32m[I 2023-05-03 12:04:22,848]\u001b[0m Trial 160 finished with values: [0.7638888888888888, 0.0] and parameters: {'seed': 268}. \u001b[0m\n",
      "\u001b[32m[I 2023-05-03 12:04:23,730]\u001b[0m Trial 158 finished with values: [0.8461538461538461, 0.0] and parameters: {'seed': 1271}. \u001b[0m\n",
      "\u001b[32m[I 2023-05-03 12:04:23,731]\u001b[0m Trial 163 finished with values: [0.8055555555555556, 0.22776377201080322] and parameters: {'seed': 4311}. \u001b[0m\n",
      "\u001b[32m[I 2023-05-03 12:04:23,738]\u001b[0m Trial 161 finished with values: [1.0, 0.16085363924503326] and parameters: {'seed': 1267}. \u001b[0m\n",
      "\u001b[32m[I 2023-05-03 12:04:24,129]\u001b[0m Trial 162 finished with values: [1.0, 0.12827099859714508] and parameters: {'seed': 1309}. \u001b[0m\n",
      "\u001b[32m[I 2023-05-03 12:04:24,129]\u001b[0m Trial 164 finished with values: [0.7222222222222222, 0.11097067594528198] and parameters: {'seed': 238}. \u001b[0m\n",
      "\u001b[32m[I 2023-05-03 12:04:24,290]\u001b[0m Trial 166 finished with values: [0.7777777777777779, 0.037219565361738205] and parameters: {'seed': 233}. \u001b[0m\n",
      "\u001b[32m[I 2023-05-03 12:04:24,673]\u001b[0m Trial 167 finished with values: [0.9722222222222222, 0.0] and parameters: {'seed': 247}. \u001b[0m\n",
      "\u001b[32m[I 2023-05-03 12:04:24,673]\u001b[0m Trial 168 finished with values: [0.8846153846153846, 0.4293670654296875] and parameters: {'seed': 203}. \u001b[0m\n",
      "\u001b[32m[I 2023-05-03 12:04:24,777]\u001b[0m Trial 165 finished with values: [0.8461538461538461, 0.0] and parameters: {'seed': 299}. \u001b[0m\n",
      "\u001b[32m[I 2023-05-03 12:04:24,842]\u001b[0m Trial 171 finished with values: [0.8333333333333334, 0.0] and parameters: {'seed': 204}. \u001b[0m\n",
      "\u001b[32m[I 2023-05-03 12:04:24,843]\u001b[0m Trial 170 finished with values: [0.9166666666666666, 0.1298547387123108] and parameters: {'seed': 255}. \u001b[0m\n",
      "\u001b[32m[I 2023-05-03 12:04:24,888]\u001b[0m Trial 174 finished with values: [0.7916666666666667, 0.0] and parameters: {'seed': 320}. \u001b[0m\n",
      "\u001b[32m[I 2023-05-03 12:04:24,930]\u001b[0m Trial 169 finished with values: [0.6923076923076923, 0.0] and parameters: {'seed': 260}. \u001b[0m\n",
      "\u001b[32m[I 2023-05-03 12:04:25,323]\u001b[0m Trial 173 finished with values: [0.9230769230769231, 0.0] and parameters: {'seed': 3770}. \u001b[0m\n",
      "\u001b[32m[I 2023-05-03 12:04:25,323]\u001b[0m Trial 175 finished with values: [1.0, 0.0] and parameters: {'seed': 4313}. \u001b[0m\n",
      "\u001b[32m[I 2023-05-03 12:04:25,418]\u001b[0m Trial 172 finished with values: [0.5, 0.0] and parameters: {'seed': 35}. \u001b[0m\n",
      "\u001b[32m[I 2023-05-03 12:04:25,865]\u001b[0m Trial 177 finished with values: [0.6666666666666666, 0.0] and parameters: {'seed': 23}. \u001b[0m\n",
      "\u001b[32m[I 2023-05-03 12:04:26,360]\u001b[0m Trial 176 finished with values: [0.8076923076923077, 0.0] and parameters: {'seed': 9}. \u001b[0m\n",
      "\u001b[32m[I 2023-05-03 12:04:26,538]\u001b[0m Trial 179 finished with values: [0.5277777777777778, 0.09958397597074509] and parameters: {'seed': 103}. \u001b[0m\n",
      "\u001b[32m[I 2023-05-03 12:04:26,786]\u001b[0m Trial 180 finished with values: [0.7692307692307693, 0.0] and parameters: {'seed': 436}. \u001b[0m\n",
      "\u001b[32m[I 2023-05-03 12:04:26,831]\u001b[0m Trial 181 finished with values: [0.5384615384615384, 0.0] and parameters: {'seed': 459}. \u001b[0m\n",
      "\u001b[32m[I 2023-05-03 12:04:27,172]\u001b[0m Trial 178 finished with values: [0.7361111111111112, 0.0] and parameters: {'seed': 413}. \u001b[0m\n",
      "\u001b[32m[I 2023-05-03 12:04:27,227]\u001b[0m Trial 183 finished with values: [0.9444444444444445, 0.0] and parameters: {'seed': 449}. \u001b[0m\n",
      "\u001b[32m[I 2023-05-03 12:04:27,228]\u001b[0m Trial 182 finished with values: [0.6388888888888888, 0.0957682654261589] and parameters: {'seed': 431}. \u001b[0m\n",
      "\u001b[32m[I 2023-05-03 12:04:27,454]\u001b[0m Trial 188 finished with values: [0.9230769230769231, 0.0] and parameters: {'seed': 426}. \u001b[0m\n",
      "\u001b[32m[I 2023-05-03 12:04:27,455]\u001b[0m Trial 186 finished with values: [0.8333333333333333, 0.0] and parameters: {'seed': 441}. \u001b[0m\n",
      "\u001b[32m[I 2023-05-03 12:04:27,457]\u001b[0m Trial 185 finished with values: [0.38888888888888884, 0.0] and parameters: {'seed': 467}. \u001b[0m\n",
      "\u001b[32m[I 2023-05-03 12:04:27,457]\u001b[0m Trial 187 finished with values: [1.0, 0.0] and parameters: {'seed': 411}. \u001b[0m\n",
      "\u001b[32m[I 2023-05-03 12:04:27,458]\u001b[0m Trial 184 finished with values: [0.6666666666666667, 0.0] and parameters: {'seed': 5120}. \u001b[0m\n",
      "\u001b[32m[I 2023-05-03 12:04:27,597]\u001b[0m Trial 190 finished with values: [0.8461538461538461, 0.0640929564833641] and parameters: {'seed': 462}. \u001b[0m\n",
      "\u001b[32m[I 2023-05-03 12:04:27,892]\u001b[0m Trial 189 finished with values: [0.8333333333333333, 0.0] and parameters: {'seed': 437}. \u001b[0m\n",
      "\u001b[32m[I 2023-05-03 12:04:28,693]\u001b[0m Trial 191 finished with values: [0.6153846153846154, 0.0] and parameters: {'seed': 2}. \u001b[0m\n",
      "\u001b[32m[I 2023-05-03 12:04:28,957]\u001b[0m Trial 195 finished with values: [0.7083333333333333, 0.050236403942108154] and parameters: {'seed': 3933}. \u001b[0m\n",
      "\u001b[32m[I 2023-05-03 12:04:29,088]\u001b[0m Trial 193 finished with values: [0.7115384615384616, 0.11787150800228119] and parameters: {'seed': 3973}. \u001b[0m\n",
      "\u001b[32m[I 2023-05-03 12:04:29,312]\u001b[0m Trial 192 finished with values: [0.5384615384615384, 0.0] and parameters: {'seed': 5893}. \u001b[0m\n",
      "\u001b[32m[I 2023-05-03 12:04:29,450]\u001b[0m Trial 194 finished with values: [0.8461538461538461, 0.12680156528949738] and parameters: {'seed': 4041}. \u001b[0m\n",
      "\u001b[32m[I 2023-05-03 12:04:29,614]\u001b[0m Trial 197 finished with values: [0.7307692307692307, 0.06170620024204254] and parameters: {'seed': 5825}. \u001b[0m\n",
      "\u001b[32m[I 2023-05-03 12:04:29,695]\u001b[0m Trial 199 finished with values: [0.6388888888888888, 0.0] and parameters: {'seed': 5655}. \u001b[0m\n",
      "\u001b[32m[I 2023-05-03 12:04:29,831]\u001b[0m Trial 196 finished with values: [0.7692307692307692, 0.0] and parameters: {'seed': 9438}. \u001b[0m\n",
      "\u001b[32m[I 2023-05-03 12:04:29,832]\u001b[0m Trial 198 finished with values: [0.888888888888889, 0.0] and parameters: {'seed': 9526}. \u001b[0m\n",
      "\u001b[32m[I 2023-05-03 12:04:29,931]\u001b[0m Trial 201 finished with values: [0.9615384615384616, 0.0] and parameters: {'seed': 6065}. \u001b[0m\n",
      "\u001b[32m[I 2023-05-03 12:04:30,093]\u001b[0m Trial 202 finished with values: [0.7307692307692307, 0.28074049949645996] and parameters: {'seed': 6269}. \u001b[0m\n",
      "\u001b[32m[I 2023-05-03 12:04:30,448]\u001b[0m Trial 200 finished with values: [0.6538461538461539, 0.0] and parameters: {'seed': 6123}. \u001b[0m\n",
      "\u001b[32m[I 2023-05-03 12:04:30,520]\u001b[0m Trial 204 finished with values: [0.8055555555555556, 0.0] and parameters: {'seed': 9497}. \u001b[0m\n",
      "\u001b[32m[I 2023-05-03 12:04:30,600]\u001b[0m Trial 206 finished with values: [1.0, 0.0] and parameters: {'seed': 736}. \u001b[0m\n",
      "\u001b[32m[I 2023-05-03 12:04:30,601]\u001b[0m Trial 203 finished with values: [0.5833333333333333, 0.0] and parameters: {'seed': 3483}. \u001b[0m\n",
      "\u001b[32m[I 2023-05-03 12:04:31,026]\u001b[0m Trial 205 finished with values: [0.5555555555555556, 0.0] and parameters: {'seed': 712}. \u001b[0m\n",
      "\u001b[32m[I 2023-05-03 12:04:31,282]\u001b[0m Trial 209 finished with values: [0.7307692307692307, 0.0] and parameters: {'seed': 695}. \u001b[0m\n",
      "\u001b[32m[I 2023-05-03 12:04:31,637]\u001b[0m Trial 208 finished with values: [1.0, 0.24859605729579926] and parameters: {'seed': 3586}. \u001b[0m\n",
      "\u001b[32m[I 2023-05-03 12:04:31,637]\u001b[0m Trial 207 finished with values: [0.7307692307692307, 0.0] and parameters: {'seed': 259}. \u001b[0m\n",
      "\u001b[32m[I 2023-05-03 12:04:31,819]\u001b[0m Trial 210 finished with values: [0.4230769230769231, 0.0] and parameters: {'seed': 9975}. \u001b[0m\n",
      "\u001b[32m[I 2023-05-03 12:04:31,974]\u001b[0m Trial 212 finished with values: [0.6538461538461539, 0.06515209376811981] and parameters: {'seed': 221}. \u001b[0m\n",
      "\u001b[32m[I 2023-05-03 12:04:32,245]\u001b[0m Trial 213 finished with values: [0.9444444444444444, 0.0] and parameters: {'seed': 183}. \u001b[0m\n",
      "\u001b[32m[I 2023-05-03 12:04:32,591]\u001b[0m Trial 211 finished with values: [1.0, 0.0] and parameters: {'seed': 156}. \u001b[0m\n",
      "\u001b[32m[I 2023-05-03 12:04:32,592]\u001b[0m Trial 215 finished with values: [0.8076923076923076, 0.0] and parameters: {'seed': 208}. \u001b[0m\n",
      "\u001b[32m[I 2023-05-03 12:04:32,592]\u001b[0m Trial 216 finished with values: [0.8611111111111112, 0.0] and parameters: {'seed': 173}. \u001b[0m\n",
      "\u001b[32m[I 2023-05-03 12:04:32,593]\u001b[0m Trial 214 finished with values: [0.8888888888888888, 0.0] and parameters: {'seed': 168}. \u001b[0m\n",
      "\u001b[32m[I 2023-05-03 12:04:32,638]\u001b[0m Trial 218 finished with values: [0.7692307692307692, 0.0] and parameters: {'seed': 172}. \u001b[0m\n",
      "\u001b[32m[I 2023-05-03 12:04:32,665]\u001b[0m Trial 217 finished with values: [1.0, 0.0] and parameters: {'seed': 9980}. \u001b[0m\n",
      "\u001b[32m[I 2023-05-03 12:04:33,060]\u001b[0m Trial 221 finished with values: [0.9722222222222222, 0.0] and parameters: {'seed': 3164}. \u001b[0m\n",
      "\u001b[32m[I 2023-05-03 12:04:33,155]\u001b[0m Trial 219 finished with values: [0.7777777777777778, 0.24045753479003906] and parameters: {'seed': 7}. \u001b[0m\n",
      "\u001b[32m[I 2023-05-03 12:04:33,346]\u001b[0m Trial 220 finished with values: [0.8461538461538461, 0.0] and parameters: {'seed': 150}. \u001b[0m\n",
      "\u001b[32m[I 2023-05-03 12:04:33,754]\u001b[0m Trial 222 finished with values: [0.8333333333333334, 0.0] and parameters: {'seed': 618}. \u001b[0m\n",
      "\u001b[32m[I 2023-05-03 12:04:34,151]\u001b[0m Trial 227 finished with values: [0.46153846153846156, 0.04852542281150818] and parameters: {'seed': 13}. \u001b[0m\n",
      "\u001b[32m[I 2023-05-03 12:04:34,396]\u001b[0m Trial 224 finished with values: [0.7692307692307692, 0.09191456437110901] and parameters: {'seed': 589}. \u001b[0m\n",
      "\u001b[32m[I 2023-05-03 12:04:34,575]\u001b[0m Trial 225 finished with values: [0.8461538461538461, 0.16251051425933838] and parameters: {'seed': 9155}. \u001b[0m\n",
      "\u001b[32m[I 2023-05-03 12:04:34,575]\u001b[0m Trial 226 finished with values: [0.9230769230769231, 0.0] and parameters: {'seed': 649}. \u001b[0m\n",
      "\u001b[32m[I 2023-05-03 12:04:34,576]\u001b[0m Trial 223 finished with values: [0.6666666666666667, 0.0] and parameters: {'seed': 10}. \u001b[0m\n",
      "\u001b[32m[I 2023-05-03 12:04:34,897]\u001b[0m Trial 230 finished with values: [0.8461538461538461, 0.0] and parameters: {'seed': 340}. \u001b[0m\n",
      "\u001b[32m[I 2023-05-03 12:04:34,964]\u001b[0m Trial 232 finished with values: [0.9615384615384616, 0.0] and parameters: {'seed': 9181}. \u001b[0m\n",
      "\u001b[32m[I 2023-05-03 12:04:35,036]\u001b[0m Trial 228 finished with values: [0.7307692307692308, 0.0] and parameters: {'seed': 3597}. \u001b[0m\n",
      "\u001b[32m[I 2023-05-03 12:04:35,348]\u001b[0m Trial 229 finished with values: [0.23076923076923073, 0.027138113975524902] and parameters: {'seed': 8616}. \u001b[0m\n",
      "\u001b[32m[I 2023-05-03 12:04:35,508]\u001b[0m Trial 233 finished with values: [0.6666666666666666, 0.0] and parameters: {'seed': 3681}. \u001b[0m\n",
      "\u001b[32m[I 2023-05-03 12:04:35,528]\u001b[0m Trial 231 finished with values: [0.8055555555555556, 0.0] and parameters: {'seed': 591}. \u001b[0m\n",
      "\u001b[32m[I 2023-05-03 12:04:35,559]\u001b[0m Trial 234 finished with values: [0.7692307692307692, 0.0] and parameters: {'seed': 3676}. \u001b[0m\n",
      "\u001b[32m[I 2023-05-03 12:04:35,763]\u001b[0m Trial 235 finished with values: [0.5416666666666667, 0.0] and parameters: {'seed': 343}. \u001b[0m\n",
      "\u001b[32m[I 2023-05-03 12:04:36,755]\u001b[0m Trial 238 finished with values: [1.0, 0.0] and parameters: {'seed': 4352}. \u001b[0m\n",
      "\u001b[32m[I 2023-05-03 12:04:36,825]\u001b[0m Trial 236 finished with values: [0.6944444444444444, 0.0] and parameters: {'seed': 4443}. \u001b[0m\n",
      "\u001b[32m[I 2023-05-03 12:04:37,029]\u001b[0m Trial 237 finished with values: [0.6923076923076923, 0.0] and parameters: {'seed': 4454}. \u001b[0m\n",
      "\u001b[32m[I 2023-05-03 12:04:37,157]\u001b[0m Trial 240 finished with values: [0.5, 0.07387682795524597] and parameters: {'seed': 4428}. \u001b[0m\n",
      "\u001b[32m[I 2023-05-03 12:04:37,409]\u001b[0m Trial 239 finished with values: [0.6538461538461539, 0.0] and parameters: {'seed': 6847}. \u001b[0m\n",
      "\u001b[32m[I 2023-05-03 12:04:37,454]\u001b[0m Trial 243 finished with values: [0.8333333333333333, 0.0] and parameters: {'seed': 4494}. \u001b[0m\n",
      "\u001b[32m[I 2023-05-03 12:04:37,455]\u001b[0m Trial 241 finished with values: [0.8055555555555555, 0.12520422041416168] and parameters: {'seed': 349}. \u001b[0m\n",
      "\u001b[32m[I 2023-05-03 12:04:37,721]\u001b[0m Trial 246 finished with values: [0.6153846153846154, 0.0] and parameters: {'seed': 4971}. \u001b[0m\n",
      "\u001b[32m[I 2023-05-03 12:04:37,739]\u001b[0m Trial 247 finished with values: [0.6538461538461539, 0.0] and parameters: {'seed': 3019}. \u001b[0m\n",
      "\u001b[32m[I 2023-05-03 12:04:37,943]\u001b[0m Trial 244 finished with values: [0.888888888888889, 0.0] and parameters: {'seed': 387}. \u001b[0m\n",
      "\u001b[32m[I 2023-05-03 12:04:37,944]\u001b[0m Trial 242 finished with values: [0.5769230769230769, 0.4464379549026489] and parameters: {'seed': 337}. \u001b[0m\n",
      "\u001b[32m[I 2023-05-03 12:04:37,944]\u001b[0m Trial 245 finished with values: [0.3055555555555555, 0.0] and parameters: {'seed': 6765}. \u001b[0m\n",
      "\u001b[32m[I 2023-05-03 12:04:38,203]\u001b[0m Trial 249 finished with values: [0.6666666666666667, 0.0] and parameters: {'seed': 10}. \u001b[0m\n",
      "\u001b[32m[I 2023-05-03 12:04:38,392]\u001b[0m Trial 248 finished with values: [0.888888888888889, 0.0] and parameters: {'seed': 2944}. \u001b[0m\n",
      "\u001b[32m[I 2023-05-03 12:04:38,898]\u001b[0m Trial 250 finished with values: [0.8333333333333334, 0.0] and parameters: {'seed': 2906}. \u001b[0m\n",
      "\u001b[32m[I 2023-05-03 12:04:38,976]\u001b[0m Trial 256 finished with values: [0.923076923076923, 0.0] and parameters: {'seed': 8150}. \u001b[0m\n",
      "\u001b[32m[I 2023-05-03 12:04:39,042]\u001b[0m Trial 251 finished with values: [0.23076923076923078, 0.0] and parameters: {'seed': 7213}. \u001b[0m\n",
      "\u001b[32m[I 2023-05-03 12:04:39,408]\u001b[0m Trial 255 finished with values: [0.7692307692307692, 0.0] and parameters: {'seed': 8125}. \u001b[0m\n",
      "\u001b[32m[I 2023-05-03 12:04:39,733]\u001b[0m Trial 254 finished with values: [0.9166666666666666, 0.0] and parameters: {'seed': 338}. \u001b[0m\n",
      "\u001b[32m[I 2023-05-03 12:04:39,823]\u001b[0m Trial 252 finished with values: [0.6153846153846154, 0.0] and parameters: {'seed': 293}. \u001b[0m\n",
      "\u001b[32m[I 2023-05-03 12:04:39,852]\u001b[0m Trial 258 finished with values: [0.4230769230769231, 0.0693369209766388] and parameters: {'seed': 3347}. \u001b[0m\n",
      "\u001b[32m[I 2023-05-03 12:04:40,138]\u001b[0m Trial 253 finished with values: [0.8194444444444444, 0.0] and parameters: {'seed': 237}. \u001b[0m\n",
      "\u001b[32m[I 2023-05-03 12:04:40,227]\u001b[0m Trial 260 finished with values: [0.4423076923076923, 0.0] and parameters: {'seed': 7232}. \u001b[0m\n",
      "\u001b[32m[I 2023-05-03 12:04:40,279]\u001b[0m Trial 259 finished with values: [0.6538461538461539, 0.027119824662804604] and parameters: {'seed': 242}. \u001b[0m\n",
      "\u001b[32m[I 2023-05-03 12:04:40,380]\u001b[0m Trial 257 finished with values: [0.8055555555555555, 0.07355497032403946] and parameters: {'seed': 300}. \u001b[0m\n",
      "\u001b[32m[I 2023-05-03 12:04:40,533]\u001b[0m Trial 261 finished with values: [0.6538461538461539, 0.0] and parameters: {'seed': 313}. \u001b[0m\n",
      "\u001b[32m[I 2023-05-03 12:04:40,584]\u001b[0m Trial 262 finished with values: [0.7777777777777778, 0.05609004199504852] and parameters: {'seed': 6358}. \u001b[0m\n",
      "\u001b[32m[I 2023-05-03 12:04:40,850]\u001b[0m Trial 264 finished with values: [0.8846153846153846, 0.4293670654296875] and parameters: {'seed': 203}. \u001b[0m\n",
      "\u001b[32m[I 2023-05-03 12:04:41,264]\u001b[0m Trial 263 finished with values: [0.6153846153846154, 0.0] and parameters: {'seed': 244}. \u001b[0m\n",
      "\u001b[32m[I 2023-05-03 12:04:41,335]\u001b[0m Trial 265 finished with values: [0.7777777777777778, 0.12155894190073013] and parameters: {'seed': 7591}. \u001b[0m\n",
      "\u001b[32m[I 2023-05-03 12:04:41,833]\u001b[0m Trial 266 finished with values: [0.7307692307692307, 0.0] and parameters: {'seed': 553}. \u001b[0m\n",
      "\u001b[32m[I 2023-05-03 12:04:41,834]\u001b[0m Trial 267 finished with values: [0.7692307692307692, 0.09191456437110901] and parameters: {'seed': 589}. \u001b[0m\n",
      "\u001b[32m[I 2023-05-03 12:04:41,870]\u001b[0m Trial 268 finished with values: [0.6153846153846154, 0.0] and parameters: {'seed': 2}. \u001b[0m\n",
      "\u001b[32m[I 2023-05-03 12:04:41,975]\u001b[0m Trial 270 finished with values: [0.8846153846153847, 0.0] and parameters: {'seed': 7582}. \u001b[0m\n",
      "\u001b[32m[I 2023-05-03 12:04:42,397]\u001b[0m Trial 269 finished with values: [0.6538461538461539, 0.11787150800228119] and parameters: {'seed': 4094}. \u001b[0m\n",
      "\u001b[32m[I 2023-05-03 12:04:42,601]\u001b[0m Trial 273 finished with values: [0.9166666666666666, 0.0] and parameters: {'seed': 4950}. \u001b[0m\n",
      "\u001b[32m[I 2023-05-03 12:04:43,030]\u001b[0m Trial 272 finished with values: [0.75, 0.0] and parameters: {'seed': 626}. \u001b[0m\n",
      "\u001b[32m[I 2023-05-03 12:04:43,085]\u001b[0m Trial 271 finished with values: [0.6666666666666667, 0.0037549042608588934] and parameters: {'seed': 655}. \u001b[0m\n",
      "\u001b[32m[I 2023-05-03 12:04:43,085]\u001b[0m Trial 274 finished with values: [0.8076923076923077, 0.0] and parameters: {'seed': 3296}. \u001b[0m\n",
      "\u001b[32m[I 2023-05-03 12:04:43,162]\u001b[0m Trial 276 finished with values: [0.6923076923076923, 0.0] and parameters: {'seed': 769}. \u001b[0m\n",
      "\u001b[32m[I 2023-05-03 12:04:43,238]\u001b[0m Trial 280 finished with values: [0.8461538461538461, 0.06141094118356705] and parameters: {'seed': 3252}. \u001b[0m\n",
      "\u001b[32m[I 2023-05-03 12:04:43,253]\u001b[0m Trial 278 finished with values: [1.0, 0.0] and parameters: {'seed': 3255}. \u001b[0m\n",
      "\u001b[32m[I 2023-05-03 12:04:43,590]\u001b[0m Trial 275 finished with values: [1.0, 0.0] and parameters: {'seed': 4147}. \u001b[0m\n",
      "\u001b[32m[I 2023-05-03 12:04:43,650]\u001b[0m Trial 277 finished with values: [0.7307692307692308, 0.0] and parameters: {'seed': 3442}. \u001b[0m\n",
      "\u001b[32m[I 2023-05-03 12:04:43,771]\u001b[0m Trial 281 finished with values: [0.9230769230769231, 0.0] and parameters: {'seed': 883}. \u001b[0m\n",
      "\u001b[32m[I 2023-05-03 12:04:44,056]\u001b[0m Trial 279 finished with values: [0.8076923076923077, 0.0] and parameters: {'seed': 822}. \u001b[0m\n",
      "\u001b[32m[I 2023-05-03 12:04:44,189]\u001b[0m Trial 282 finished with values: [0.9230769230769231, 0.0] and parameters: {'seed': 5563}. \u001b[0m\n",
      "\u001b[32m[I 2023-05-03 12:04:44,806]\u001b[0m Trial 283 finished with values: [0.8076923076923077, 0.39802655577659607] and parameters: {'seed': 2458}. \u001b[0m\n",
      "\u001b[32m[I 2023-05-03 12:04:44,809]\u001b[0m Trial 284 finished with values: [0.75, 0.0] and parameters: {'seed': 801}. \u001b[0m\n",
      "\u001b[32m[I 2023-05-03 12:04:44,955]\u001b[0m Trial 287 finished with values: [0.8333333333333334, 0.0] and parameters: {'seed': 504}. \u001b[0m\n",
      "\u001b[32m[I 2023-05-03 12:04:45,183]\u001b[0m Trial 285 finished with values: [0.6153846153846154, 0.06099406257271767] and parameters: {'seed': 5269}. \u001b[0m\n",
      "\u001b[32m[I 2023-05-03 12:04:45,206]\u001b[0m Trial 288 finished with values: [0.7692307692307693, 0.0] and parameters: {'seed': 5228}. \u001b[0m\n",
      "\u001b[32m[I 2023-05-03 12:04:45,426]\u001b[0m Trial 290 finished with values: [0.7777777777777778, 0.0] and parameters: {'seed': 2450}. \u001b[0m\n",
      "\u001b[32m[I 2023-05-03 12:04:45,531]\u001b[0m Trial 286 finished with values: [0.6666666666666666, 0.07455845177173615] and parameters: {'seed': 8520}. \u001b[0m\n",
      "\u001b[32m[I 2023-05-03 12:04:45,532]\u001b[0m Trial 291 finished with values: [0.8846153846153846, 0.10914622992277145] and parameters: {'seed': 5560}. \u001b[0m\n",
      "\u001b[32m[I 2023-05-03 12:04:45,593]\u001b[0m Trial 293 finished with values: [0.9444444444444444, 0.0] and parameters: {'seed': 3859}. \u001b[0m\n",
      "\u001b[32m[I 2023-05-03 12:04:45,893]\u001b[0m Trial 292 finished with values: [0.8055555555555556, 0.2271338254213333] and parameters: {'seed': 5187}. \u001b[0m\n",
      "\u001b[32m[I 2023-05-03 12:04:46,219]\u001b[0m Trial 289 finished with values: [0.46153846153846156, 0.061062127351760864] and parameters: {'seed': 9692}. \u001b[0m\n",
      "\u001b[32m[I 2023-05-03 12:04:46,521]\u001b[0m Trial 295 finished with values: [0.846153846153846, 0.0] and parameters: {'seed': 3883}. \u001b[0m\n",
      "\u001b[32m[I 2023-05-03 12:04:46,573]\u001b[0m Trial 296 finished with values: [0.75, 0.015911737456917763] and parameters: {'seed': 2506}. \u001b[0m\n",
      "\u001b[32m[I 2023-05-03 12:04:46,885]\u001b[0m Trial 294 finished with values: [0.6527777777777777, 0.0] and parameters: {'seed': 3942}. \u001b[0m\n",
      "\u001b[32m[I 2023-05-03 12:04:47,042]\u001b[0m Trial 298 finished with values: [1.0, 0.1423315405845642] and parameters: {'seed': 8797}. \u001b[0m\n",
      "\u001b[32m[I 2023-05-03 12:04:47,265]\u001b[0m Trial 297 finished with values: [0.5, 0.0] and parameters: {'seed': 9084}. \u001b[0m\n",
      "\u001b[32m[I 2023-05-03 12:04:47,805]\u001b[0m Trial 299 finished with values: [0.9230769230769231, 0.0] and parameters: {'seed': 2669}. \u001b[0m\n",
      "\u001b[32m[I 2023-05-03 12:04:47,806]\u001b[0m Trial 300 finished with values: [0.6944444444444445, 0.0] and parameters: {'seed': 2684}. \u001b[0m\n",
      "\u001b[32m[I 2023-05-03 12:04:47,806]\u001b[0m Trial 301 finished with values: [0.7222222222222223, 0.0] and parameters: {'seed': 2612}. \u001b[0m\n",
      "\u001b[32m[I 2023-05-03 12:04:47,807]\u001b[0m Trial 302 finished with values: [0.6923076923076923, 0.0] and parameters: {'seed': 6539}. \u001b[0m\n",
      "\u001b[32m[I 2023-05-03 12:04:48,169]\u001b[0m Trial 303 finished with values: [0.8611111111111112, 0.0] and parameters: {'seed': 2800}. \u001b[0m\n",
      "\u001b[32m[I 2023-05-03 12:04:48,226]\u001b[0m Trial 307 finished with values: [1.0, 0.24859605729579926] and parameters: {'seed': 3586}. \u001b[0m\n",
      "\u001b[32m[I 2023-05-03 12:04:48,227]\u001b[0m Trial 305 finished with values: [1.0, 0.022571425884962082] and parameters: {'seed': 514}. \u001b[0m\n",
      "\u001b[32m[I 2023-05-03 12:04:48,292]\u001b[0m Trial 304 finished with values: [0.34615384615384615, 0.0] and parameters: {'seed': 7914}. \u001b[0m\n",
      "\u001b[32m[I 2023-05-03 12:04:48,340]\u001b[0m Trial 306 finished with values: [0.75, 0.0] and parameters: {'seed': 456}. \u001b[0m\n",
      "\u001b[32m[I 2023-05-03 12:04:48,907]\u001b[0m Trial 308 finished with values: [0.6111111111111112, 0.0] and parameters: {'seed': 517}. \u001b[0m\n",
      "\u001b[32m[I 2023-05-03 12:04:48,980]\u001b[0m Trial 309 finished with values: [1.0, 0.022571425884962082] and parameters: {'seed': 514}. \u001b[0m\n",
      "\u001b[32m[I 2023-05-03 12:04:49,179]\u001b[0m Trial 310 finished with values: [0.75, 0.0] and parameters: {'seed': 456}. \u001b[0m\n",
      "\u001b[32m[I 2023-05-03 12:04:49,330]\u001b[0m Trial 313 finished with values: [0.875, 0.0] and parameters: {'seed': 455}. \u001b[0m\n",
      "\u001b[32m[I 2023-05-03 12:04:49,743]\u001b[0m Trial 311 finished with values: [0.8888888888888888, 0.0] and parameters: {'seed': 446}. \u001b[0m\n",
      "\u001b[32m[I 2023-05-03 12:04:50,173]\u001b[0m Trial 312 finished with values: [0.46153846153846156, 0.04852542281150818] and parameters: {'seed': 13}. \u001b[0m\n",
      "\u001b[32m[I 2023-05-03 12:04:50,338]\u001b[0m Trial 314 finished with values: [0.6923076923076923, 0.0604931116104126] and parameters: {'seed': 1057}. \u001b[0m\n",
      "\u001b[32m[I 2023-05-03 12:04:50,650]\u001b[0m Trial 320 finished with values: [0.5, 0.0] and parameters: {'seed': 7019}. \u001b[0m\n",
      "\u001b[32m[I 2023-05-03 12:04:50,650]\u001b[0m Trial 315 finished with values: [0.8846153846153846, 0.020300712436437607] and parameters: {'seed': 8342}. \u001b[0m\n",
      "\u001b[32m[I 2023-05-03 12:04:50,669]\u001b[0m Trial 318 finished with values: [0.6944444444444444, 0.0] and parameters: {'seed': 1045}. \u001b[0m\n",
      "\u001b[32m[I 2023-05-03 12:04:50,686]\u001b[0m Trial 316 finished with values: [0.8333333333333333, 0.0] and parameters: {'seed': 6298}. \u001b[0m\n",
      "\u001b[32m[I 2023-05-03 12:04:50,761]\u001b[0m Trial 317 finished with values: [0.6111111111111112, 0.0] and parameters: {'seed': 6235}. \u001b[0m\n",
      "\u001b[32m[I 2023-05-03 12:04:50,990]\u001b[0m Trial 322 finished with values: [0.8611111111111112, 0.0] and parameters: {'seed': 8308}. \u001b[0m\n",
      "\u001b[32m[I 2023-05-03 12:04:50,991]\u001b[0m Trial 319 finished with values: [0.6944444444444444, 0.04032867029309273] and parameters: {'seed': 5}. \u001b[0m\n",
      "\u001b[32m[I 2023-05-03 12:04:51,440]\u001b[0m Trial 321 finished with values: [0.6805555555555556, 0.12704385817050934] and parameters: {'seed': 987}. \u001b[0m\n",
      "\u001b[32m[I 2023-05-03 12:04:51,808]\u001b[0m Trial 323 finished with values: [0.5555555555555556, 0.0] and parameters: {'seed': 177}. \u001b[0m\n",
      "\u001b[32m[I 2023-05-03 12:04:51,857]\u001b[0m Trial 326 finished with values: [0.75, 0.0] and parameters: {'seed': 187}. \u001b[0m\n",
      "\u001b[32m[I 2023-05-03 12:04:51,971]\u001b[0m Trial 325 finished with values: [0.8846153846153846, 0.0] and parameters: {'seed': 85}. \u001b[0m\n",
      "\u001b[32m[I 2023-05-03 12:04:52,494]\u001b[0m Trial 327 finished with values: [0.8846153846153846, 0.0] and parameters: {'seed': 192}. \u001b[0m\n",
      "\u001b[32m[I 2023-05-03 12:04:52,637]\u001b[0m Trial 324 finished with values: [0.6153846153846154, 0.2040276974439621] and parameters: {'seed': 117}. \u001b[0m\n",
      "\u001b[32m[I 2023-05-03 12:04:52,779]\u001b[0m Trial 328 finished with values: [0.9230769230769231, 0.0] and parameters: {'seed': 178}. \u001b[0m\n",
      "\u001b[32m[I 2023-05-03 12:04:53,095]\u001b[0m Trial 331 finished with values: [0.6923076923076923, 0.0] and parameters: {'seed': 201}. \u001b[0m\n",
      "\u001b[32m[I 2023-05-03 12:04:53,174]\u001b[0m Trial 329 finished with values: [1.0, 0.0] and parameters: {'seed': 156}. \u001b[0m\n",
      "\u001b[32m[I 2023-05-03 12:04:53,344]\u001b[0m Trial 333 finished with values: [0.8846153846153847, 0.0] and parameters: {'seed': 292}. \u001b[0m\n",
      "\u001b[32m[I 2023-05-03 12:04:53,346]\u001b[0m Trial 330 finished with values: [0.6805555555555556, 0.0] and parameters: {'seed': 709}. \u001b[0m\n",
      "\u001b[32m[I 2023-05-03 12:04:53,557]\u001b[0m Trial 332 finished with values: [1.0, 0.0] and parameters: {'seed': 276}. \u001b[0m\n",
      "\u001b[32m[I 2023-05-03 12:04:53,626]\u001b[0m Trial 335 finished with values: [0.4722222222222222, 0.09800771623849869] and parameters: {'seed': 694}. \u001b[0m\n",
      "\u001b[32m[I 2023-05-03 12:04:53,675]\u001b[0m Trial 334 finished with values: [0.8611111111111112, 0.12663079798221588] and parameters: {'seed': 733}. \u001b[0m\n",
      "\u001b[32m[I 2023-05-03 12:04:53,943]\u001b[0m Trial 336 finished with values: [0.9166666666666666, 0.0] and parameters: {'seed': 338}. \u001b[0m\n",
      "\u001b[32m[I 2023-05-03 12:04:53,963]\u001b[0m Trial 337 finished with values: [0.8055555555555556, 0.0] and parameters: {'seed': 669}. \u001b[0m\n",
      "\u001b[32m[I 2023-05-03 12:04:53,971]\u001b[0m Trial 338 finished with values: [0.5416666666666666, 0.09678228944540024] and parameters: {'seed': 606}. \u001b[0m\n",
      "\u001b[32m[I 2023-05-03 12:04:54,621]\u001b[0m Trial 340 finished with values: [0.6388888888888888, 0.0] and parameters: {'seed': 700}. \u001b[0m\n",
      "\u001b[32m[I 2023-05-03 12:04:54,851]\u001b[0m Trial 339 finished with values: [0.8888888888888888, 0.16776205599308014] and parameters: {'seed': 696}. \u001b[0m\n",
      "\u001b[32m[I 2023-05-03 12:04:54,969]\u001b[0m Trial 341 finished with values: [0.8055555555555556, 0.0] and parameters: {'seed': 591}. \u001b[0m\n",
      "\u001b[32m[I 2023-05-03 12:04:55,340]\u001b[0m Trial 342 finished with values: [0.5555555555555556, 0.0] and parameters: {'seed': 7497}. \u001b[0m\n",
      "\u001b[32m[I 2023-05-03 12:04:55,408]\u001b[0m Trial 345 finished with values: [0.9615384615384616, 0.06110905483365059] and parameters: {'seed': 385}. \u001b[0m\n",
      "\u001b[32m[I 2023-05-03 12:04:55,436]\u001b[0m Trial 347 finished with values: [0.846153846153846, 0.0] and parameters: {'seed': 9646}. \u001b[0m\n",
      "\u001b[32m[I 2023-05-03 12:04:55,856]\u001b[0m Trial 344 finished with values: [1.0, 0.08274675160646439] and parameters: {'seed': 8777}. \u001b[0m\n",
      "\u001b[32m[I 2023-05-03 12:04:56,156]\u001b[0m Trial 346 finished with values: [0.7307692307692307, 0.47379589080810547] and parameters: {'seed': 7520}. \u001b[0m\n",
      "\u001b[32m[I 2023-05-03 12:04:56,233]\u001b[0m Trial 343 finished with values: [0.8461538461538461, 0.13058990240097046] and parameters: {'seed': 5803}. \u001b[0m\n",
      "\u001b[32m[I 2023-05-03 12:04:56,341]\u001b[0m Trial 348 finished with values: [0.6388888888888888, 0.0] and parameters: {'seed': 5769}. \u001b[0m\n",
      "\u001b[32m[I 2023-05-03 12:04:56,342]\u001b[0m Trial 351 finished with values: [0.8461538461538461, 0.0] and parameters: {'seed': 7640}. \u001b[0m\n",
      "\u001b[32m[I 2023-05-03 12:04:56,736]\u001b[0m Trial 350 finished with values: [0.9615384615384616, 0.10195407271385193] and parameters: {'seed': 7576}. \u001b[0m\n",
      "\u001b[32m[I 2023-05-03 12:04:56,833]\u001b[0m Trial 352 finished with values: [1.0, 0.0] and parameters: {'seed': 355}. \u001b[0m\n",
      "\u001b[32m[I 2023-05-03 12:04:57,159]\u001b[0m Trial 349 finished with values: [0.8055555555555555, 0.12520422041416168] and parameters: {'seed': 349}. \u001b[0m\n",
      "\u001b[32m[I 2023-05-03 12:04:57,165]\u001b[0m Trial 353 finished with values: [0.5833333333333333, 0.0] and parameters: {'seed': 12}. \u001b[0m\n",
      "\u001b[32m[I 2023-05-03 12:04:57,460]\u001b[0m Trial 354 finished with values: [0.7692307692307692, 0.4351816475391388] and parameters: {'seed': 7226}. \u001b[0m\n",
      "\u001b[32m[I 2023-05-03 12:04:57,552]\u001b[0m Trial 357 finished with values: [0.6805555555555556, 0.0] and parameters: {'seed': 7767}. \u001b[0m\n",
      "\u001b[32m[I 2023-05-03 12:04:57,731]\u001b[0m Trial 358 finished with values: [0.8461538461538461, 0.0] and parameters: {'seed': 7640}. \u001b[0m\n",
      "\u001b[32m[I 2023-05-03 12:04:57,970]\u001b[0m Trial 360 finished with values: [0.6388888888888888, 0.0] and parameters: {'seed': 7298}. \u001b[0m\n",
      "\u001b[32m[I 2023-05-03 12:04:58,049]\u001b[0m Trial 359 finished with values: [0.8055555555555556, 0.0] and parameters: {'seed': 7797}. \u001b[0m\n",
      "\u001b[32m[I 2023-05-03 12:04:58,380]\u001b[0m Trial 356 finished with values: [0.625, 0.0] and parameters: {'seed': 7306}. \u001b[0m\n",
      "\u001b[32m[I 2023-05-03 12:04:58,382]\u001b[0m Trial 355 finished with values: [0.8461538461538461, 0.01436762697994709] and parameters: {'seed': 7284}. \u001b[0m\n",
      "\u001b[32m[I 2023-05-03 12:04:58,818]\u001b[0m Trial 361 finished with values: [0.8333333333333333, 0.0] and parameters: {'seed': 7809}. \u001b[0m\n",
      "\u001b[32m[I 2023-05-03 12:04:58,903]\u001b[0m Trial 363 finished with values: [0.5, 0.0] and parameters: {'seed': 7353}. \u001b[0m\n",
      "\u001b[32m[I 2023-05-03 12:04:59,239]\u001b[0m Trial 365 finished with values: [0.9444444444444444, 0.0388348251581192] and parameters: {'seed': 7141}. \u001b[0m\n",
      "\u001b[32m[I 2023-05-03 12:04:59,315]\u001b[0m Trial 367 finished with values: [0.8846153846153846, 0.05222897231578827] and parameters: {'seed': 7365}. \u001b[0m\n",
      "\u001b[32m[I 2023-05-03 12:04:59,331]\u001b[0m Trial 362 finished with values: [0.5384615384615384, 0.17748381197452545] and parameters: {'seed': 7209}. \u001b[0m\n",
      "\u001b[32m[I 2023-05-03 12:04:59,889]\u001b[0m Trial 364 finished with values: [0.7222222222222222, 0.0] and parameters: {'seed': 7433}. \u001b[0m\n",
      "\u001b[32m[I 2023-05-03 12:04:59,892]\u001b[0m Trial 366 finished with values: [0.8846153846153846, 0.11561426520347595] and parameters: {'seed': 7948}. \u001b[0m\n",
      "\u001b[32m[I 2023-05-03 12:05:00,318]\u001b[0m Trial 368 finished with values: [0.7692307692307692, 0.02046641707420349] and parameters: {'seed': 8019}. \u001b[0m\n",
      "\u001b[32m[I 2023-05-03 12:05:00,331]\u001b[0m Trial 369 finished with values: [0.7307692307692308, 0.0] and parameters: {'seed': 8106}. \u001b[0m\n",
      "\u001b[32m[I 2023-05-03 12:05:00,424]\u001b[0m Trial 370 finished with values: [0.6153846153846154, 0.0] and parameters: {'seed': 8123}. \u001b[0m\n",
      "\u001b[32m[I 2023-05-03 12:05:00,425]\u001b[0m Trial 372 finished with values: [0.6944444444444444, 0.18946532905101776] and parameters: {'seed': 7965}. \u001b[0m\n",
      "\u001b[32m[I 2023-05-03 12:05:00,535]\u001b[0m Trial 375 finished with values: [0.8461538461538461, 0.06308960914611816] and parameters: {'seed': 6991}. \u001b[0m\n",
      "\u001b[32m[I 2023-05-03 12:05:00,729]\u001b[0m Trial 374 finished with values: [0.9230769230769231, 0.0] and parameters: {'seed': 448}. \u001b[0m\n",
      "\u001b[32m[I 2023-05-03 12:05:01,111]\u001b[0m Trial 371 finished with values: [0.8055555555555556, 0.0] and parameters: {'seed': 7006}. \u001b[0m\n",
      "\u001b[32m[I 2023-05-03 12:05:01,248]\u001b[0m Trial 376 finished with values: [0.8653846153846154, 0.0] and parameters: {'seed': 6727}. \u001b[0m\n",
      "\u001b[32m[I 2023-05-03 12:05:01,350]\u001b[0m Trial 373 finished with values: [0.9166666666666666, 0.0] and parameters: {'seed': 430}. \u001b[0m\n",
      "\u001b[32m[I 2023-05-03 12:05:01,351]\u001b[0m Trial 377 finished with values: [0.8461538461538461, 0.052743151783943176] and parameters: {'seed': 6891}. \u001b[0m\n",
      "\u001b[32m[I 2023-05-03 12:05:01,436]\u001b[0m Trial 378 finished with values: [0.6538461538461539, 0.0] and parameters: {'seed': 6959}. \u001b[0m\n",
      "\u001b[32m[I 2023-05-03 12:05:01,538]\u001b[0m Trial 379 finished with values: [0.5769230769230769, 0.0] and parameters: {'seed': 480}. \u001b[0m\n",
      "\u001b[32m[I 2023-05-03 12:05:02,450]\u001b[0m Trial 380 finished with values: [0.6388888888888888, 0.023631051182746887] and parameters: {'seed': 7061}. \u001b[0m\n",
      "\u001b[32m[I 2023-05-03 12:05:02,659]\u001b[0m Trial 382 finished with values: [0.7777777777777778, 0.41848018765449524] and parameters: {'seed': 899}. \u001b[0m\n",
      "\u001b[32m[I 2023-05-03 12:05:02,787]\u001b[0m Trial 383 finished with values: [0.9615384615384616, 0.0] and parameters: {'seed': 863}. \u001b[0m\n",
      "\u001b[32m[I 2023-05-03 12:05:03,037]\u001b[0m Trial 389 finished with values: [0.6805555555555556, 0.08541429787874222] and parameters: {'seed': 9372}. \u001b[0m\n",
      "\u001b[32m[I 2023-05-03 12:05:03,231]\u001b[0m Trial 381 finished with values: [0.8076923076923077, 0.05566522851586342] and parameters: {'seed': 7529}. \u001b[0m\n",
      "\u001b[32m[I 2023-05-03 12:05:03,359]\u001b[0m Trial 388 finished with values: [0.6944444444444444, 0.03657247871160507] and parameters: {'seed': 9313}. \u001b[0m\n",
      "\u001b[32m[I 2023-05-03 12:05:03,503]\u001b[0m Trial 385 finished with values: [0.7222222222222222, 0.0] and parameters: {'seed': 7515}. \u001b[0m\n",
      "\u001b[32m[I 2023-05-03 12:05:03,579]\u001b[0m Trial 384 finished with values: [0.8846153846153846, 0.0] and parameters: {'seed': 7517}. \u001b[0m\n",
      "\u001b[32m[I 2023-05-03 12:05:03,881]\u001b[0m Trial 387 finished with values: [0.7777777777777779, 0.0] and parameters: {'seed': 7505}. \u001b[0m\n",
      "\u001b[32m[I 2023-05-03 12:05:03,882]\u001b[0m Trial 390 finished with values: [0.861111111111111, 0.0] and parameters: {'seed': 897}. \u001b[0m\n",
      "\u001b[32m[I 2023-05-03 12:05:03,882]\u001b[0m Trial 386 finished with values: [0.6153846153846154, 0.0] and parameters: {'seed': 908}. \u001b[0m\n",
      "\u001b[32m[I 2023-05-03 12:05:04,278]\u001b[0m Trial 393 finished with values: [0.5277777777777777, 0.0] and parameters: {'seed': 6475}. \u001b[0m\n",
      "\u001b[32m[I 2023-05-03 12:05:04,374]\u001b[0m Trial 392 finished with values: [0.7692307692307693, 0.0] and parameters: {'seed': 951}. \u001b[0m\n",
      "\u001b[32m[I 2023-05-03 12:05:04,578]\u001b[0m Trial 391 finished with values: [0.7361111111111112, 0.17501820623874664] and parameters: {'seed': 7445}. \u001b[0m\n",
      "\u001b[32m[I 2023-05-03 12:05:04,637]\u001b[0m Trial 395 finished with values: [0.4230769230769231, 0.0] and parameters: {'seed': 4692}. \u001b[0m\n",
      "\u001b[32m[I 2023-05-03 12:05:05,161]\u001b[0m Trial 394 finished with values: [0.8076923076923077, 0.0] and parameters: {'seed': 932}. \u001b[0m\n",
      "\u001b[32m[I 2023-05-03 12:05:05,577]\u001b[0m Trial 397 finished with values: [0.7692307692307692, 0.0] and parameters: {'seed': 172}. \u001b[0m\n",
      "\u001b[32m[I 2023-05-03 12:05:05,608]\u001b[0m Trial 396 finished with values: [0.6944444444444444, 0.24046576023101807] and parameters: {'seed': 1529}. \u001b[0m\n",
      "\u001b[32m[I 2023-05-03 12:05:05,848]\u001b[0m Trial 402 finished with values: [0.6388888888888888, 0.0] and parameters: {'seed': 213}. \u001b[0m\n",
      "\u001b[32m[I 2023-05-03 12:05:05,866]\u001b[0m Trial 400 finished with values: [0.9230769230769231, 0.0] and parameters: {'seed': 272}. \u001b[0m\n",
      "\u001b[32m[I 2023-05-03 12:05:05,867]\u001b[0m Trial 398 finished with values: [0.9166666666666667, 0.08165209740400314] and parameters: {'seed': 1484}. \u001b[0m\n",
      "\u001b[32m[I 2023-05-03 12:05:06,194]\u001b[0m Trial 403 finished with values: [0.9615384615384616, 0.10461261868476868] and parameters: {'seed': 210}. \u001b[0m\n",
      "\u001b[32m[I 2023-05-03 12:05:06,251]\u001b[0m Trial 404 finished with values: [0.5277777777777778, 0.0589241124689579] and parameters: {'seed': 258}. \u001b[0m\n",
      "\u001b[32m[I 2023-05-03 12:05:06,523]\u001b[0m Trial 401 finished with values: [0.5, 0.0] and parameters: {'seed': 6066}. \u001b[0m\n",
      "\u001b[32m[I 2023-05-03 12:05:06,813]\u001b[0m Trial 406 finished with values: [0.6666666666666667, 0.0] and parameters: {'seed': 10}. \u001b[0m\n",
      "\u001b[32m[I 2023-05-03 12:05:06,813]\u001b[0m Trial 405 finished with values: [0.5972222222222222, 0.0] and parameters: {'seed': 304}. \u001b[0m\n",
      "\u001b[32m[I 2023-05-03 12:05:07,128]\u001b[0m Trial 407 finished with values: [0.8611111111111112, 0.0] and parameters: {'seed': 14}. \u001b[0m\n",
      "\u001b[32m[I 2023-05-03 12:05:07,410]\u001b[0m Trial 399 finished with values: [0.6153846153846154, 0.0] and parameters: {'seed': 244}. \u001b[0m\n",
      "\u001b[32m[I 2023-05-03 12:05:07,798]\u001b[0m Trial 409 finished with values: [0.9230769230769231, 0.0] and parameters: {'seed': 6042}. \u001b[0m\n",
      "\u001b[32m[I 2023-05-03 12:05:07,800]\u001b[0m Trial 408 finished with values: [0.5384615384615384, 0.11787150800228119] and parameters: {'seed': 565}. \u001b[0m\n",
      "\u001b[32m[I 2023-05-03 12:05:07,891]\u001b[0m Trial 411 finished with values: [0.7692307692307692, 0.0] and parameters: {'seed': 465}. \u001b[0m\n",
      "\u001b[32m[I 2023-05-03 12:05:08,424]\u001b[0m Trial 410 finished with values: [0.6944444444444444, 0.04032867029309273] and parameters: {'seed': 5}. \u001b[0m\n",
      "\u001b[32m[I 2023-05-03 12:05:08,425]\u001b[0m Trial 415 finished with values: [0.9230769230769231, 0.0] and parameters: {'seed': 1194}. \u001b[0m\n",
      "\u001b[32m[I 2023-05-03 12:05:08,771]\u001b[0m Trial 412 finished with values: [0.7307692307692307, 0.0] and parameters: {'seed': 1213}. \u001b[0m\n",
      "\u001b[32m[I 2023-05-03 12:05:08,798]\u001b[0m Trial 417 finished with values: [0.9166666666666667, 0.15239615738391876] and parameters: {'seed': 559}. \u001b[0m\n",
      "\u001b[32m[I 2023-05-03 12:05:08,798]\u001b[0m Trial 413 finished with values: [0.6944444444444444, 0.17781023681163788] and parameters: {'seed': 598}. \u001b[0m\n",
      "\u001b[32m[I 2023-05-03 12:05:09,016]\u001b[0m Trial 416 finished with values: [0.34615384615384615, 0.0] and parameters: {'seed': 609}. \u001b[0m\n",
      "\u001b[32m[I 2023-05-03 12:05:09,178]\u001b[0m Trial 418 finished with values: [0.7222222222222222, 0.0] and parameters: {'seed': 488}. \u001b[0m\n",
      "\u001b[32m[I 2023-05-03 12:05:09,548]\u001b[0m Trial 419 finished with values: [0.5833333333333334, 0.07866083830595016] and parameters: {'seed': 571}. \u001b[0m\n",
      "\u001b[32m[I 2023-05-03 12:05:09,548]\u001b[0m Trial 414 finished with values: [0.7307692307692307, 0.0] and parameters: {'seed': 553}. \u001b[0m\n",
      "\u001b[32m[I 2023-05-03 12:05:09,754]\u001b[0m Trial 420 finished with values: [1.0, 0.0] and parameters: {'seed': 5070}. \u001b[0m\n",
      "\u001b[32m[I 2023-05-03 12:05:09,846]\u001b[0m Trial 421 finished with values: [0.4615384615384615, 0.0] and parameters: {'seed': 7755}. \u001b[0m\n",
      "\u001b[32m[I 2023-05-03 12:05:10,496]\u001b[0m Trial 424 finished with values: [0.7777777777777778, 0.13478179275989532] and parameters: {'seed': 8465}. \u001b[0m\n",
      "\u001b[32m[I 2023-05-03 12:05:10,536]\u001b[0m Trial 423 finished with values: [0.75, 0.0] and parameters: {'seed': 5030}. \u001b[0m\n",
      "\u001b[32m[I 2023-05-03 12:05:10,592]\u001b[0m Trial 422 finished with values: [0.5769230769230769, 0.0] and parameters: {'seed': 359}. \u001b[0m\n",
      "\u001b[32m[I 2023-05-03 12:05:10,720]\u001b[0m Trial 425 finished with values: [0.4615384615384615, 0.0] and parameters: {'seed': 7755}. \u001b[0m\n",
      "\u001b[32m[I 2023-05-03 12:05:11,086]\u001b[0m Trial 426 finished with values: [0.75, 0.17242856323719025] and parameters: {'seed': 7683}. \u001b[0m\n",
      "\u001b[32m[I 2023-05-03 12:05:11,278]\u001b[0m Trial 427 finished with values: [0.5972222222222221, 0.0] and parameters: {'seed': 5389}. \u001b[0m\n",
      "\u001b[32m[I 2023-05-03 12:05:11,346]\u001b[0m Trial 429 finished with values: [0.7692307692307693, 0.0] and parameters: {'seed': 2269}. \u001b[0m\n",
      "\u001b[32m[I 2023-05-03 12:05:11,478]\u001b[0m Trial 431 finished with values: [0.9230769230769231, 0.0] and parameters: {'seed': 2342}. \u001b[0m\n",
      "\u001b[32m[I 2023-05-03 12:05:11,913]\u001b[0m Trial 430 finished with values: [0.75, 0.0] and parameters: {'seed': 326}. \u001b[0m\n",
      "\u001b[32m[I 2023-05-03 12:05:11,915]\u001b[0m Trial 428 finished with values: [0.5833333333333333, 0.0] and parameters: {'seed': 308}. \u001b[0m\n",
      "\u001b[32m[I 2023-05-03 12:05:12,020]\u001b[0m Trial 432 finished with values: [0.9166666666666667, 0.12712517380714417] and parameters: {'seed': 2290}. \u001b[0m\n",
      "\u001b[32m[I 2023-05-03 12:05:12,504]\u001b[0m Trial 433 finished with values: [0.638888888888889, 0.0] and parameters: {'seed': 780}. \u001b[0m\n",
      "\u001b[32m[I 2023-05-03 12:05:12,568]\u001b[0m Trial 435 finished with values: [0.4861111111111111, 0.0] and parameters: {'seed': 303}. \u001b[0m\n",
      "\u001b[32m[I 2023-05-03 12:05:12,747]\u001b[0m Trial 436 finished with values: [0.888888888888889, 0.0] and parameters: {'seed': 799}. \u001b[0m\n",
      "\u001b[32m[I 2023-05-03 12:05:12,920]\u001b[0m Trial 434 finished with values: [0.5555555555555556, 0.06402730941772461] and parameters: {'seed': 2150}. \u001b[0m\n",
      "\u001b[32m[I 2023-05-03 12:05:12,920]\u001b[0m Trial 437 finished with values: [0.9166666666666666, 0.12244419008493423] and parameters: {'seed': 9834}. \u001b[0m\n",
      "\u001b[32m[I 2023-05-03 12:05:13,416]\u001b[0m Trial 438 finished with values: [0.5555555555555556, 0.0] and parameters: {'seed': 800}. \u001b[0m\n",
      "\u001b[32m[I 2023-05-03 12:05:13,416]\u001b[0m Trial 439 finished with values: [0.7692307692307693, 0.0] and parameters: {'seed': 796}. \u001b[0m\n",
      "\u001b[32m[I 2023-05-03 12:05:13,577]\u001b[0m Trial 440 finished with values: [0.7307692307692307, 0.04356381297111511] and parameters: {'seed': 147}. \u001b[0m\n",
      "\u001b[32m[I 2023-05-03 12:05:13,829]\u001b[0m Trial 441 finished with values: [0.7638888888888888, 0.09528887271881104] and parameters: {'seed': 133}. \u001b[0m\n",
      "\u001b[32m[I 2023-05-03 12:05:14,072]\u001b[0m Trial 445 finished with values: [0.6944444444444445, 0.0] and parameters: {'seed': 16}. \u001b[0m\n",
      "\u001b[32m[I 2023-05-03 12:05:14,133]\u001b[0m Trial 442 finished with values: [0.6538461538461539, 0.0] and parameters: {'seed': 143}. \u001b[0m\n",
      "\u001b[32m[I 2023-05-03 12:05:14,315]\u001b[0m Trial 443 finished with values: [0.6153846153846154, 0.0] and parameters: {'seed': 139}. \u001b[0m\n",
      "\u001b[32m[I 2023-05-03 12:05:14,329]\u001b[0m Trial 447 finished with values: [0.8076923076923077, 0.0] and parameters: {'seed': 9}. \u001b[0m\n",
      "\u001b[32m[I 2023-05-03 12:05:14,407]\u001b[0m Trial 444 finished with values: [0.861111111111111, 0.0] and parameters: {'seed': 1903}. \u001b[0m\n",
      "\u001b[32m[I 2023-05-03 12:05:15,043]\u001b[0m Trial 446 finished with values: [0.8846153846153846, 0.0] and parameters: {'seed': 1886}. \u001b[0m\n",
      "\u001b[32m[I 2023-05-03 12:05:15,551]\u001b[0m Trial 449 finished with values: [0.4444444444444444, 0.0] and parameters: {'seed': 8961}. \u001b[0m\n",
      "\u001b[32m[I 2023-05-03 12:05:15,688]\u001b[0m Trial 448 finished with values: [0.6923076923076923, 0.0] and parameters: {'seed': 4196}. \u001b[0m\n",
      "\u001b[32m[I 2023-05-03 12:05:15,818]\u001b[0m Trial 450 finished with values: [0.9230769230769231, 0.0] and parameters: {'seed': 448}. \u001b[0m\n",
      "\u001b[32m[I 2023-05-03 12:05:15,895]\u001b[0m Trial 454 finished with values: [0.6153846153846154, 0.0] and parameters: {'seed': 7155}. \u001b[0m\n",
      "\u001b[32m[I 2023-05-03 12:05:15,898]\u001b[0m Trial 452 finished with values: [0.6111111111111112, 0.20348238945007324] and parameters: {'seed': 1789}. \u001b[0m\n",
      "\u001b[32m[I 2023-05-03 12:05:15,953]\u001b[0m Trial 453 finished with values: [0.4722222222222222, 0.07973458617925644] and parameters: {'seed': 7185}. \u001b[0m\n",
      "\u001b[32m[I 2023-05-03 12:05:16,165]\u001b[0m Trial 451 finished with values: [0.8333333333333334, 0.0] and parameters: {'seed': 8692}. \u001b[0m\n",
      "\u001b[32m[I 2023-05-03 12:05:16,166]\u001b[0m Trial 455 finished with values: [0.8333333333333334, 0.0] and parameters: {'seed': 425}. \u001b[0m\n",
      "\u001b[32m[I 2023-05-03 12:05:16,484]\u001b[0m Trial 457 finished with values: [0.6388888888888888, 0.11787150055170059] and parameters: {'seed': 394}. \u001b[0m\n",
      "\u001b[32m[I 2023-05-03 12:05:16,485]\u001b[0m Trial 456 finished with values: [0.6111111111111112, 0.13121244311332703] and parameters: {'seed': 8666}. \u001b[0m\n",
      "\u001b[32m[I 2023-05-03 12:05:16,775]\u001b[0m Trial 458 finished with values: [0.5192307692307692, 0.0] and parameters: {'seed': 492}. \u001b[0m\n",
      "\u001b[32m[I 2023-05-03 12:05:17,248]\u001b[0m Trial 461 finished with values: [0.7692307692307693, 0.0] and parameters: {'seed': 436}. \u001b[0m\n",
      "\u001b[32m[I 2023-05-03 12:05:17,442]\u001b[0m Trial 459 finished with values: [0.7222222222222223, 0.0] and parameters: {'seed': 6713}. \u001b[0m\n",
      "\u001b[32m[I 2023-05-03 12:05:17,673]\u001b[0m Trial 462 finished with values: [0.6388888888888888, 0.11787150055170059] and parameters: {'seed': 394}. \u001b[0m\n",
      "\u001b[32m[I 2023-05-03 12:05:17,862]\u001b[0m Trial 460 finished with values: [0.9166666666666667, 0.0] and parameters: {'seed': 6702}. \u001b[0m\n",
      "\u001b[32m[I 2023-05-03 12:05:18,133]\u001b[0m Trial 463 finished with values: [0.888888888888889, 0.0] and parameters: {'seed': 6508}. \u001b[0m\n",
      "\u001b[32m[I 2023-05-03 12:05:18,364]\u001b[0m Trial 467 finished with values: [0.7692307692307693, 0.7627907395362854] and parameters: {'seed': 6730}. \u001b[0m\n",
      "\u001b[32m[I 2023-05-03 12:05:18,716]\u001b[0m Trial 464 finished with values: [0.6153846153846154, 0.2765052914619446] and parameters: {'seed': 6639}. \u001b[0m\n",
      "\u001b[32m[I 2023-05-03 12:05:18,850]\u001b[0m Trial 465 finished with values: [0.888888888888889, 0.0] and parameters: {'seed': 6613}. \u001b[0m\n",
      "\u001b[32m[I 2023-05-03 12:05:19,116]\u001b[0m Trial 469 finished with values: [0.5, 0.12491896748542786] and parameters: {'seed': 6710}. \u001b[0m\n",
      "\u001b[32m[I 2023-05-03 12:05:19,245]\u001b[0m Trial 468 finished with values: [0.8846153846153846, 0.0] and parameters: {'seed': 643}. \u001b[0m\n",
      "\u001b[32m[I 2023-05-03 12:05:19,279]\u001b[0m Trial 466 finished with values: [0.9615384615384616, 0.37896794080734253] and parameters: {'seed': 697}. \u001b[0m\n",
      "\u001b[32m[I 2023-05-03 12:05:19,531]\u001b[0m Trial 471 finished with values: [0.5833333333333333, 0.0] and parameters: {'seed': 612}. \u001b[0m\n",
      "\u001b[32m[I 2023-05-03 12:05:19,559]\u001b[0m Trial 472 finished with values: [0.6538461538461539, 0.32448089122772217] and parameters: {'seed': 1111}. \u001b[0m\n",
      "\u001b[32m[I 2023-05-03 12:05:19,849]\u001b[0m Trial 470 finished with values: [1.0, 0.08764495700597763] and parameters: {'seed': 1113}. \u001b[0m\n",
      "\u001b[32m[I 2023-05-03 12:05:20,082]\u001b[0m Trial 474 finished with values: [0.34615384615384615, 0.0] and parameters: {'seed': 6518}. \u001b[0m\n",
      "\u001b[32m[I 2023-05-03 12:05:20,133]\u001b[0m Trial 476 finished with values: [0.7777777777777778, 0.0] and parameters: {'seed': 6391}. \u001b[0m\n",
      "\u001b[32m[I 2023-05-03 12:05:20,321]\u001b[0m Trial 473 finished with values: [0.46153846153846145, 0.0] and parameters: {'seed': 6381}. \u001b[0m\n",
      "\u001b[32m[I 2023-05-03 12:05:20,484]\u001b[0m Trial 475 finished with values: [0.9038461538461539, 0.2369413673877716] and parameters: {'seed': 6489}. \u001b[0m\n",
      "\u001b[32m[I 2023-05-03 12:05:20,745]\u001b[0m Trial 477 finished with values: [0.7307692307692307, 0.28074049949645996] and parameters: {'seed': 6269}. \u001b[0m\n",
      "\u001b[32m[I 2023-05-03 12:05:20,777]\u001b[0m Trial 479 finished with values: [0.5277777777777777, 0.0] and parameters: {'seed': 6475}. \u001b[0m\n",
      "\u001b[32m[I 2023-05-03 12:05:21,001]\u001b[0m Trial 478 finished with values: [0.8076923076923077, 0.0] and parameters: {'seed': 6256}. \u001b[0m\n",
      "\u001b[32m[I 2023-05-03 12:05:21,170]\u001b[0m Trial 480 finished with values: [0.41666666666666663, 0.0] and parameters: {'seed': 6362}. \u001b[0m\n",
      "\u001b[32m[I 2023-05-03 12:05:21,369]\u001b[0m Trial 481 finished with values: [0.5833333333333333, 0.0] and parameters: {'seed': 6884}. \u001b[0m\n",
      "\u001b[32m[I 2023-05-03 12:05:21,891]\u001b[0m Trial 482 finished with values: [0.7307692307692307, 0.0] and parameters: {'seed': 6177}. \u001b[0m\n",
      "\u001b[32m[I 2023-05-03 12:05:22,107]\u001b[0m Trial 484 finished with values: [0.5, 0.013622701168060303] and parameters: {'seed': 6811}. \u001b[0m\n",
      "\u001b[32m[I 2023-05-03 12:05:22,358]\u001b[0m Trial 485 finished with values: [0.9166666666666666, 0.0] and parameters: {'seed': 6862}. \u001b[0m\n",
      "\u001b[32m[I 2023-05-03 12:05:22,457]\u001b[0m Trial 483 finished with values: [0.8076923076923077, 0.0] and parameters: {'seed': 6818}. \u001b[0m\n",
      "\u001b[32m[I 2023-05-03 12:05:22,708]\u001b[0m Trial 486 finished with values: [0.6666666666666667, 0.0] and parameters: {'seed': 6864}. \u001b[0m\n",
      "\u001b[32m[I 2023-05-03 12:05:23,038]\u001b[0m Trial 490 finished with values: [0.888888888888889, 0.15260013937950134] and parameters: {'seed': 6760}. \u001b[0m\n",
      "\u001b[32m[I 2023-05-03 12:05:23,165]\u001b[0m Trial 487 finished with values: [0.7777777777777778, 0.07235987484455109] and parameters: {'seed': 6876}. \u001b[0m\n",
      "\u001b[32m[I 2023-05-03 12:05:23,167]\u001b[0m Trial 489 finished with values: [0.7777777777777778, 0.0] and parameters: {'seed': 6849}. \u001b[0m\n",
      "\u001b[32m[I 2023-05-03 12:05:23,436]\u001b[0m Trial 488 finished with values: [0.9230769230769231, 0.0] and parameters: {'seed': 6873}. \u001b[0m\n",
      "\u001b[32m[I 2023-05-03 12:05:23,628]\u001b[0m Trial 492 finished with values: [0.6666666666666666, 0.06965240091085434] and parameters: {'seed': 6851}. \u001b[0m\n",
      "\u001b[32m[I 2023-05-03 12:05:23,698]\u001b[0m Trial 491 finished with values: [0.8461538461538461, 0.11787150800228119] and parameters: {'seed': 6810}. \u001b[0m\n",
      "\u001b[32m[I 2023-05-03 12:05:24,171]\u001b[0m Trial 493 finished with values: [0.8333333333333333, 0.09273292869329453] and parameters: {'seed': 6573}. \u001b[0m\n",
      "\u001b[32m[I 2023-05-03 12:05:24,173]\u001b[0m Trial 494 finished with values: [0.4722222222222222, 0.0] and parameters: {'seed': 5948}. \u001b[0m\n",
      "\u001b[32m[I 2023-05-03 12:05:24,173]\u001b[0m Trial 496 finished with values: [0.846153846153846, 0.0] and parameters: {'seed': 6610}. \u001b[0m\n",
      "\u001b[32m[I 2023-05-03 12:05:24,552]\u001b[0m Trial 495 finished with values: [0.8333333333333334, 0.11959166079759598] and parameters: {'seed': 6449}. \u001b[0m\n",
      "\u001b[32m[I 2023-05-03 12:05:24,572]\u001b[0m Trial 497 finished with values: [0.923076923076923, 0.059406258165836334] and parameters: {'seed': 5964}. \u001b[0m\n",
      "\u001b[32m[I 2023-05-03 12:05:24,781]\u001b[0m Trial 498 finished with values: [0.6923076923076923, 0.0] and parameters: {'seed': 6539}. \u001b[0m\n",
      "\u001b[32m[I 2023-05-03 12:05:24,947]\u001b[0m Trial 499 finished with values: [0.8055555555555556, 0.0] and parameters: {'seed': 5962}. \u001b[0m\n",
      "\u001b[32m[I 2023-05-03 12:05:25,025]\u001b[0m Trial 500 finished with values: [0.7499999999999999, 0.0] and parameters: {'seed': 6522}. \u001b[0m\n",
      "\u001b[32m[I 2023-05-03 12:05:25,237]\u001b[0m Trial 501 finished with values: [0.7692307692307692, 0.17213517427444458] and parameters: {'seed': 6051}. \u001b[0m\n",
      "\u001b[32m[I 2023-05-03 12:05:25,567]\u001b[0m Trial 503 finished with values: [0.46153846153846156, 0.0] and parameters: {'seed': 7095}. \u001b[0m\n",
      "\u001b[32m[I 2023-05-03 12:05:26,282]\u001b[0m Trial 505 finished with values: [0.8461538461538461, 0.0] and parameters: {'seed': 7079}. \u001b[0m\n",
      "\u001b[32m[I 2023-05-03 12:05:26,721]\u001b[0m Trial 502 finished with values: [0.8611111111111112, 0.0] and parameters: {'seed': 7059}. \u001b[0m\n",
      "\u001b[32m[I 2023-05-03 12:05:26,722]\u001b[0m Trial 507 finished with values: [0.8055555555555556, 0.1083119735121727] and parameters: {'seed': 6197}. \u001b[0m\n",
      "\u001b[32m[I 2023-05-03 12:05:26,722]\u001b[0m Trial 504 finished with values: [1.0, 0.0] and parameters: {'seed': 6226}. \u001b[0m\n",
      "\u001b[32m[I 2023-05-03 12:05:27,019]\u001b[0m Trial 506 finished with values: [0.7777777777777779, 0.0] and parameters: {'seed': 7091}. \u001b[0m\n",
      "\u001b[32m[I 2023-05-03 12:05:27,019]\u001b[0m Trial 508 finished with values: [0.6346153846153846, 0.0] and parameters: {'seed': 7089}. \u001b[0m\n",
      "\u001b[32m[I 2023-05-03 12:05:27,183]\u001b[0m Trial 511 finished with values: [0.6388888888888888, 0.0] and parameters: {'seed': 7094}. \u001b[0m\n",
      "\u001b[32m[I 2023-05-03 12:05:27,253]\u001b[0m Trial 510 finished with values: [0.75, 0.3302956819534302] and parameters: {'seed': 7028}. \u001b[0m\n",
      "\u001b[32m[I 2023-05-03 12:05:27,280]\u001b[0m Trial 512 finished with values: [0.8846153846153846, 0.0] and parameters: {'seed': 7093}. \u001b[0m\n",
      "\u001b[32m[I 2023-05-03 12:05:27,558]\u001b[0m Trial 514 finished with values: [0.8461538461538461, 0.10937099158763885] and parameters: {'seed': 6219}. \u001b[0m\n",
      "\u001b[32m[I 2023-05-03 12:05:27,558]\u001b[0m Trial 513 finished with values: [0.6527777777777778, 0.0] and parameters: {'seed': 7066}. \u001b[0m\n",
      "\u001b[32m[I 2023-05-03 12:05:27,852]\u001b[0m Trial 515 finished with values: [0.7222222222222222, 0.0] and parameters: {'seed': 6616}. \u001b[0m\n",
      "\u001b[32m[I 2023-05-03 12:05:28,005]\u001b[0m Trial 509 finished with values: [0.7307692307692307, 0.28074049949645996] and parameters: {'seed': 6269}. \u001b[0m\n",
      "\u001b[32m[I 2023-05-03 12:05:28,183]\u001b[0m Trial 516 finished with values: [0.7222222222222222, 0.05941401422023773] and parameters: {'seed': 6619}. \u001b[0m\n",
      "\u001b[32m[I 2023-05-03 12:05:28,595]\u001b[0m Trial 517 finished with values: [0.6153846153846154, 0.2765052914619446] and parameters: {'seed': 6639}. \u001b[0m\n",
      "\u001b[32m[I 2023-05-03 12:05:29,449]\u001b[0m Trial 518 finished with values: [0.7222222222222222, 0.0] and parameters: {'seed': 6616}. \u001b[0m\n",
      "\u001b[32m[I 2023-05-03 12:05:29,475]\u001b[0m Trial 519 finished with values: [0.7222222222222222, 0.07804173231124878] and parameters: {'seed': 6607}. \u001b[0m\n",
      "\u001b[32m[I 2023-05-03 12:05:29,671]\u001b[0m Trial 520 finished with values: [0.8076923076923076, 0.05556393414735794] and parameters: {'seed': 6663}. \u001b[0m\n",
      "\u001b[32m[I 2023-05-03 12:05:29,759]\u001b[0m Trial 521 finished with values: [0.9230769230769231, 0.15911002457141876] and parameters: {'seed': 6621}. \u001b[0m\n",
      "\u001b[32m[I 2023-05-03 12:05:29,940]\u001b[0m Trial 526 finished with values: [0.9615384615384616, 0.1366722583770752] and parameters: {'seed': 6720}. \u001b[0m\n",
      "\u001b[32m[I 2023-05-03 12:05:29,941]\u001b[0m Trial 523 finished with values: [0.9166666666666667, 0.0] and parameters: {'seed': 6555}. \u001b[0m\n",
      "\u001b[32m[I 2023-05-03 12:05:30,144]\u001b[0m Trial 525 finished with values: [0.5833333333333333, 0.0] and parameters: {'seed': 6673}. \u001b[0m\n",
      "\u001b[32m[I 2023-05-03 12:05:30,276]\u001b[0m Trial 524 finished with values: [0.6923076923076923, 0.0] and parameters: {'seed': 6695}. \u001b[0m\n",
      "\u001b[32m[I 2023-05-03 12:05:30,279]\u001b[0m Trial 528 finished with values: [0.7692307692307693, 0.0] and parameters: {'seed': 6729}. \u001b[0m\n",
      "\u001b[32m[I 2023-05-03 12:05:30,682]\u001b[0m Trial 522 finished with values: [0.6538461538461539, 0.0] and parameters: {'seed': 6774}. \u001b[0m\n",
      "\u001b[32m[I 2023-05-03 12:05:30,855]\u001b[0m Trial 529 finished with values: [0.8846153846153846, 0.0] and parameters: {'seed': 6747}. \u001b[0m\n",
      "\u001b[32m[I 2023-05-03 12:05:31,035]\u001b[0m Trial 527 finished with values: [0.7307692307692307, 0.0] and parameters: {'seed': 6799}. \u001b[0m\n",
      "\u001b[32m[I 2023-05-03 12:05:31,083]\u001b[0m Trial 530 finished with values: [0.7638888888888888, 0.0] and parameters: {'seed': 6426}. \u001b[0m\n",
      "\u001b[32m[I 2023-05-03 12:05:31,548]\u001b[0m Trial 533 finished with values: [0.8611111111111112, 0.0] and parameters: {'seed': 6965}. \u001b[0m\n",
      "\u001b[32m[I 2023-05-03 12:05:31,656]\u001b[0m Trial 532 finished with values: [0.8846153846153846, 0.12377714365720749] and parameters: {'seed': 6936}. \u001b[0m\n",
      "\u001b[32m[I 2023-05-03 12:05:31,700]\u001b[0m Trial 531 finished with values: [0.9230769230769231, 0.2326921969652176] and parameters: {'seed': 6926}. \u001b[0m\n",
      "\u001b[32m[I 2023-05-03 12:05:32,186]\u001b[0m Trial 535 finished with values: [0.2692307692307692, 0.0] and parameters: {'seed': 6353}. \u001b[0m\n",
      "\u001b[32m[I 2023-05-03 12:05:32,555]\u001b[0m Trial 534 finished with values: [0.7307692307692308, 0.0] and parameters: {'seed': 6390}. \u001b[0m\n",
      "\u001b[32m[I 2023-05-03 12:05:32,763]\u001b[0m Trial 537 finished with values: [0.9230769230769231, 0.16502314805984497] and parameters: {'seed': 6892}. \u001b[0m\n",
      "\u001b[32m[I 2023-05-03 12:05:32,819]\u001b[0m Trial 536 finished with values: [0.7777777777777777, 0.0] and parameters: {'seed': 6963}. \u001b[0m\n",
      "\u001b[32m[I 2023-05-03 12:05:32,953]\u001b[0m Trial 539 finished with values: [0.5555555555555556, 0.0] and parameters: {'seed': 6882}. \u001b[0m\n",
      "\u001b[32m[I 2023-05-03 12:05:33,259]\u001b[0m Trial 540 finished with values: [0.8076923076923077, 0.0] and parameters: {'seed': 6477}. \u001b[0m\n",
      "\u001b[32m[I 2023-05-03 12:05:33,296]\u001b[0m Trial 538 finished with values: [0.5277777777777778, 0.1843896508216858] and parameters: {'seed': 6394}. \u001b[0m\n",
      "\u001b[32m[I 2023-05-03 12:05:33,297]\u001b[0m Trial 542 finished with values: [0.6923076923076923, 0.18031977117061615] and parameters: {'seed': 6342}. \u001b[0m\n",
      "\u001b[32m[I 2023-05-03 12:05:33,708]\u001b[0m Trial 541 finished with values: [0.6944444444444444, 0.0] and parameters: {'seed': 6413}. \u001b[0m\n",
      "\u001b[32m[I 2023-05-03 12:05:34,173]\u001b[0m Trial 544 finished with values: [0.6923076923076923, 0.11015937477350235] and parameters: {'seed': 4837}. \u001b[0m\n",
      "\u001b[32m[I 2023-05-03 12:05:34,174]\u001b[0m Trial 543 finished with values: [0.75, 0.0] and parameters: {'seed': 6937}. \u001b[0m\n",
      "\u001b[32m[I 2023-05-03 12:05:34,470]\u001b[0m Trial 545 finished with values: [1.0, 0.0] and parameters: {'seed': 5612}. \u001b[0m\n",
      "\u001b[32m[I 2023-05-03 12:05:34,477]\u001b[0m Trial 547 finished with values: [0.7307692307692308, 0.0] and parameters: {'seed': 6390}. \u001b[0m\n",
      "\u001b[32m[I 2023-05-03 12:05:35,227]\u001b[0m Trial 550 finished with values: [0.9615384615384616, 0.0] and parameters: {'seed': 5558}. \u001b[0m\n",
      "\u001b[32m[I 2023-05-03 12:05:35,361]\u001b[0m Trial 546 finished with values: [0.6730769230769231, 0.0] and parameters: {'seed': 3694}. \u001b[0m\n",
      "\u001b[32m[I 2023-05-03 12:05:35,424]\u001b[0m Trial 549 finished with values: [0.6666666666666666, 0.0] and parameters: {'seed': 5677}. \u001b[0m\n",
      "\u001b[32m[I 2023-05-03 12:05:35,545]\u001b[0m Trial 548 finished with values: [0.8846153846153846, 0.0] and parameters: {'seed': 3601}. \u001b[0m\n",
      "\u001b[32m[I 2023-05-03 12:05:35,873]\u001b[0m Trial 554 finished with values: [0.9722222222222222, 0.11716236919164658] and parameters: {'seed': 7251}. \u001b[0m\n",
      "\u001b[32m[I 2023-05-03 12:05:35,920]\u001b[0m Trial 553 finished with values: [0.8846153846153846, 0.0] and parameters: {'seed': 3147}. \u001b[0m\n",
      "\u001b[32m[I 2023-05-03 12:05:35,944]\u001b[0m Trial 555 finished with values: [0.5, 0.0] and parameters: {'seed': 3459}. \u001b[0m\n",
      "\u001b[32m[I 2023-05-03 12:05:35,945]\u001b[0m Trial 551 finished with values: [0.6923076923076923, 0.11787150800228119] and parameters: {'seed': 3524}. \u001b[0m\n",
      "\u001b[32m[I 2023-05-03 12:05:36,025]\u001b[0m Trial 552 finished with values: [0.6538461538461539, 0.0] and parameters: {'seed': 3117}. \u001b[0m\n",
      "\u001b[32m[I 2023-05-03 12:05:36,241]\u001b[0m Trial 558 finished with values: [0.8846153846153846, 0.3797609508037567] and parameters: {'seed': 7215}. \u001b[0m\n",
      "\u001b[32m[I 2023-05-03 12:05:36,257]\u001b[0m Trial 557 finished with values: [0.6944444444444444, 0.26610350608825684] and parameters: {'seed': 9157}. \u001b[0m\n",
      "\u001b[32m[I 2023-05-03 12:05:36,880]\u001b[0m Trial 556 finished with values: [0.7222222222222223, 0.08448000997304916] and parameters: {'seed': 7258}. \u001b[0m\n",
      "\u001b[32m[I 2023-05-03 12:05:36,969]\u001b[0m Trial 559 finished with values: [0.6153846153846154, 0.0] and parameters: {'seed': 7273}. \u001b[0m\n",
      "\u001b[32m[I 2023-05-03 12:05:37,185]\u001b[0m Trial 560 finished with values: [0.9230769230769231, 0.0] and parameters: {'seed': 7268}. \u001b[0m\n",
      "\u001b[32m[I 2023-05-03 12:05:38,538]\u001b[0m Trial 562 finished with values: [0.38888888888888884, 0.0] and parameters: {'seed': 4566}. \u001b[0m\n",
      "\u001b[32m[I 2023-05-03 12:05:38,568]\u001b[0m Trial 564 finished with values: [0.5833333333333334, 0.14618541300296783] and parameters: {'seed': 7000}. \u001b[0m\n",
      "\u001b[32m[I 2023-05-03 12:05:38,770]\u001b[0m Trial 561 finished with values: [0.8846153846153846, 0.0] and parameters: {'seed': 6928}. \u001b[0m\n",
      "\u001b[32m[I 2023-05-03 12:05:39,098]\u001b[0m Trial 563 finished with values: [0.8055555555555556, 0.0] and parameters: {'seed': 6981}. \u001b[0m\n",
      "\u001b[32m[I 2023-05-03 12:05:39,099]\u001b[0m Trial 566 finished with values: [0.923076923076923, 0.0] and parameters: {'seed': 6552}. \u001b[0m\n",
      "\u001b[32m[I 2023-05-03 12:05:39,303]\u001b[0m Trial 571 finished with values: [0.7222222222222222, 0.1275799721479416] and parameters: {'seed': 6978}. \u001b[0m\n",
      "\u001b[32m[I 2023-05-03 12:05:39,340]\u001b[0m Trial 568 finished with values: [0.3611111111111111, 0.0] and parameters: {'seed': 4632}. \u001b[0m\n",
      "\u001b[32m[I 2023-05-03 12:05:39,413]\u001b[0m Trial 565 finished with values: [0.6538461538461539, 0.11055747419595718] and parameters: {'seed': 7252}. \u001b[0m\n",
      "\u001b[32m[I 2023-05-03 12:05:39,579]\u001b[0m Trial 570 finished with values: [0.9230769230769231, 0.0] and parameters: {'seed': 6987}. \u001b[0m\n",
      "\u001b[32m[I 2023-05-03 12:05:39,598]\u001b[0m Trial 567 finished with values: [0.6944444444444445, 0.0] and parameters: {'seed': 6897}. \u001b[0m\n",
      "\u001b[32m[I 2023-05-03 12:05:39,622]\u001b[0m Trial 572 finished with values: [0.9230769230769231, 0.2326921969652176] and parameters: {'seed': 6926}. \u001b[0m\n",
      "\u001b[32m[I 2023-05-03 12:05:39,724]\u001b[0m Trial 574 finished with values: [0.6153846153846154, 0.0] and parameters: {'seed': 6910}. \u001b[0m\n",
      "\u001b[32m[I 2023-05-03 12:05:39,789]\u001b[0m Trial 569 finished with values: [0.6111111111111112, 0.238874152302742] and parameters: {'seed': 6929}. \u001b[0m\n",
      "\u001b[32m[I 2023-05-03 12:05:40,129]\u001b[0m Trial 573 finished with values: [0.1923076923076923, 0.0] and parameters: {'seed': 9644}. \u001b[0m\n",
      "\u001b[32m[I 2023-05-03 12:05:40,157]\u001b[0m Trial 575 finished with values: [0.5, 0.12491896748542786] and parameters: {'seed': 6710}. \u001b[0m\n",
      "\u001b[32m[I 2023-05-03 12:05:40,788]\u001b[0m Trial 576 finished with values: [0.8333333333333334, 0.0] and parameters: {'seed': 6721}. \u001b[0m\n",
      "\u001b[32m[I 2023-05-03 12:05:41,384]\u001b[0m Trial 577 finished with values: [0.923076923076923, 0.0] and parameters: {'seed': 6690}. \u001b[0m\n",
      "\u001b[32m[I 2023-05-03 12:05:41,817]\u001b[0m Trial 578 finished with values: [0.9166666666666667, 0.0] and parameters: {'seed': 6702}. \u001b[0m\n",
      "\u001b[32m[I 2023-05-03 12:05:41,817]\u001b[0m Trial 583 finished with values: [0.9444444444444444, 0.05813536047935486] and parameters: {'seed': 6135}. \u001b[0m\n",
      "\u001b[32m[I 2023-05-03 12:05:41,892]\u001b[0m Trial 580 finished with values: [0.8333333333333333, 0.0] and parameters: {'seed': 6529}. \u001b[0m\n",
      "\u001b[32m[I 2023-05-03 12:05:41,992]\u001b[0m Trial 582 finished with values: [0.3888888888888889, 0.0] and parameters: {'seed': 9993}. \u001b[0m\n",
      "\u001b[32m[I 2023-05-03 12:05:42,381]\u001b[0m Trial 581 finished with values: [0.6923076923076923, 0.0] and parameters: {'seed': 6566}. \u001b[0m\n",
      "\u001b[32m[I 2023-05-03 12:05:42,382]\u001b[0m Trial 585 finished with values: [0.8333333333333334, 0.09783320873975754] and parameters: {'seed': 6157}. \u001b[0m\n",
      "\u001b[32m[I 2023-05-03 12:05:42,385]\u001b[0m Trial 579 finished with values: [0.8461538461538461, 0.13180115818977356] and parameters: {'seed': 6474}. \u001b[0m\n",
      "\u001b[32m[I 2023-05-03 12:05:42,636]\u001b[0m Trial 588 finished with values: [0.8076923076923077, 0.0] and parameters: {'seed': 6568}. \u001b[0m\n",
      "\u001b[32m[I 2023-05-03 12:05:42,859]\u001b[0m Trial 584 finished with values: [0.7692307692307692, 0.0] and parameters: {'seed': 6116}. \u001b[0m\n",
      "\u001b[32m[I 2023-05-03 12:05:42,917]\u001b[0m Trial 586 finished with values: [0.7499999999999999, 0.0] and parameters: {'seed': 6522}. \u001b[0m\n",
      "\u001b[32m[I 2023-05-03 12:05:43,117]\u001b[0m Trial 590 finished with values: [0.8076923076923077, 0.0] and parameters: {'seed': 6499}. \u001b[0m\n",
      "\u001b[32m[I 2023-05-03 12:05:43,351]\u001b[0m Trial 589 finished with values: [0.5769230769230769, 0.0] and parameters: {'seed': 8287}. \u001b[0m\n",
      "\u001b[32m[I 2023-05-03 12:05:43,532]\u001b[0m Trial 591 finished with values: [0.7692307692307693, 0.0] and parameters: {'seed': 6470}. \u001b[0m\n",
      "\u001b[32m[I 2023-05-03 12:05:43,612]\u001b[0m Trial 592 finished with values: [0.9230769230769231, 0.0] and parameters: {'seed': 5221}. \u001b[0m\n",
      "\u001b[32m[I 2023-05-03 12:05:44,696]\u001b[0m Trial 593 finished with values: [0.5, 0.0] and parameters: {'seed': 8901}. \u001b[0m\n",
      "\u001b[32m[I 2023-05-03 12:05:44,698]\u001b[0m Trial 587 finished with values: [0.75, 0.0] and parameters: {'seed': 4192}. \u001b[0m\n",
      "\u001b[32m[I 2023-05-03 12:05:45,199]\u001b[0m Trial 600 finished with values: [0.6153846153846154, 0.0] and parameters: {'seed': 1522}. \u001b[0m\n",
      "\u001b[32m[I 2023-05-03 12:05:45,285]\u001b[0m Trial 594 finished with values: [0.6923076923076923, 0.0] and parameters: {'seed': 9462}. \u001b[0m\n",
      "\u001b[32m[I 2023-05-03 12:05:45,495]\u001b[0m Trial 596 finished with values: [0.8461538461538461, 0.0] and parameters: {'seed': 8996}. \u001b[0m\n",
      "\u001b[32m[I 2023-05-03 12:05:45,517]\u001b[0m Trial 598 finished with values: [0.5384615384615384, 0.0] and parameters: {'seed': 4298}. \u001b[0m\n",
      "\u001b[32m[I 2023-05-03 12:05:45,558]\u001b[0m Trial 597 finished with values: [0.6111111111111112, 0.0] and parameters: {'seed': 1608}. \u001b[0m\n",
      "\u001b[32m[I 2023-05-03 12:05:45,579]\u001b[0m Trial 595 finished with values: [0.6388888888888888, 0.03533366695046425] and parameters: {'seed': 9469}. \u001b[0m\n",
      "\u001b[32m[I 2023-05-03 12:05:45,580]\u001b[0m Trial 599 finished with values: [0.5, 0.19718976318836212] and parameters: {'seed': 1344}. \u001b[0m\n",
      "\u001b[32m[I 2023-05-03 12:05:45,650]\u001b[0m Trial 601 finished with values: [0.846153846153846, 0.04326735809445381] and parameters: {'seed': 2828}. \u001b[0m\n",
      "\u001b[32m[I 2023-05-03 12:05:45,888]\u001b[0m Trial 602 finished with values: [0.8611111111111112, 0.0] and parameters: {'seed': 2939}. \u001b[0m\n",
      "\u001b[32m[I 2023-05-03 12:05:46,186]\u001b[0m Trial 603 finished with values: [0.7307692307692308, 0.1336606740951538] and parameters: {'seed': 2864}. \u001b[0m\n",
      "\u001b[32m[I 2023-05-03 12:05:46,721]\u001b[0m Trial 605 finished with values: [0.6666666666666667, 0.06433109194040298] and parameters: {'seed': 6772}. \u001b[0m\n",
      "\u001b[32m[I 2023-05-03 12:05:47,410]\u001b[0m Trial 608 finished with values: [1.0, 0.0] and parameters: {'seed': 6800}. \u001b[0m\n",
      "\u001b[32m[I 2023-05-03 12:05:47,488]\u001b[0m Trial 607 finished with values: [0.8611111111111112, 0.057510316371917725] and parameters: {'seed': 6740}. \u001b[0m\n",
      "\u001b[32m[I 2023-05-03 12:05:47,554]\u001b[0m Trial 604 finished with values: [0.5384615384615384, 0.0] and parameters: {'seed': 6786}. \u001b[0m\n",
      "\u001b[32m[I 2023-05-03 12:05:48,408]\u001b[0m Trial 609 finished with values: [0.888888888888889, 0.15260013937950134] and parameters: {'seed': 6760}. \u001b[0m\n",
      "\u001b[32m[I 2023-05-03 12:05:48,490]\u001b[0m Trial 612 finished with values: [0.5384615384615384, 0.0] and parameters: {'seed': 6792}. \u001b[0m\n",
      "\u001b[32m[I 2023-05-03 12:05:48,547]\u001b[0m Trial 606 finished with values: [0.8611111111111112, 0.057510316371917725] and parameters: {'seed': 6740}. \u001b[0m\n",
      "\u001b[32m[I 2023-05-03 12:05:48,611]\u001b[0m Trial 611 finished with values: [0.6923076923076923, 0.0] and parameters: {'seed': 5866}. \u001b[0m\n",
      "\u001b[32m[I 2023-05-03 12:05:48,612]\u001b[0m Trial 610 finished with values: [0.8846153846153846, 0.0] and parameters: {'seed': 2467}. \u001b[0m\n",
      "\u001b[32m[I 2023-05-03 12:05:48,670]\u001b[0m Trial 613 finished with values: [0.6388888888888888, 0.06094381585717201] and parameters: {'seed': 5365}. \u001b[0m\n",
      "\u001b[32m[I 2023-05-03 12:05:48,747]\u001b[0m Trial 614 finished with values: [0.5769230769230769, 0.0] and parameters: {'seed': 7109}. \u001b[0m\n",
      "\u001b[32m[I 2023-05-03 12:05:48,860]\u001b[0m Trial 616 finished with values: [0.8846153846153846, 0.17726653814315796] and parameters: {'seed': 7123}. \u001b[0m\n",
      "\u001b[32m[I 2023-05-03 12:05:49,279]\u001b[0m Trial 618 finished with values: [0.6153846153846154, 0.0] and parameters: {'seed': 7145}. \u001b[0m\n",
      "\u001b[32m[I 2023-05-03 12:05:49,280]\u001b[0m Trial 615 finished with values: [0.8611111111111112, 0.05107744410634041] and parameters: {'seed': 7134}. \u001b[0m\n",
      "\u001b[32m[I 2023-05-03 12:05:49,871]\u001b[0m Trial 617 finished with values: [0.6153846153846154, 0.0] and parameters: {'seed': 7150}. \u001b[0m\n",
      "\u001b[32m[I 2023-05-03 12:05:50,677]\u001b[0m Trial 622 finished with values: [0.4444444444444444, 0.0] and parameters: {'seed': 2111}. \u001b[0m\n",
      "\u001b[32m[I 2023-05-03 12:05:50,864]\u001b[0m Trial 620 finished with values: [0.7777777777777778, 0.0] and parameters: {'seed': 6239}. \u001b[0m\n",
      "\u001b[32m[I 2023-05-03 12:05:50,865]\u001b[0m Trial 624 finished with values: [0.7692307692307693, 0.0] and parameters: {'seed': 6307}. \u001b[0m\n",
      "\u001b[32m[I 2023-05-03 12:05:50,866]\u001b[0m Trial 619 finished with values: [0.625, 0.09528594464063644] and parameters: {'seed': 2073}. \u001b[0m\n",
      "\u001b[32m[I 2023-05-03 12:05:50,996]\u001b[0m Trial 623 finished with values: [0.8076923076923077, 0.0] and parameters: {'seed': 8557}. \u001b[0m\n",
      "\u001b[32m[I 2023-05-03 12:05:51,373]\u001b[0m Trial 626 finished with values: [0.8076923076923077, 0.0] and parameters: {'seed': 6302}. \u001b[0m\n",
      "\u001b[32m[I 2023-05-03 12:05:51,697]\u001b[0m Trial 621 finished with values: [0.8333333333333334, 0.0] and parameters: {'seed': 6337}. \u001b[0m\n",
      "\u001b[32m[I 2023-05-03 12:05:51,698]\u001b[0m Trial 628 finished with values: [1.0, 0.0] and parameters: {'seed': 6311}. \u001b[0m\n",
      "\u001b[32m[I 2023-05-03 12:05:51,750]\u001b[0m Trial 631 finished with values: [0.8461538461538461, 0.10889208316802979] and parameters: {'seed': 6504}. \u001b[0m\n",
      "\u001b[32m[I 2023-05-03 12:05:51,750]\u001b[0m Trial 625 finished with values: [0.3846153846153846, 0.0] and parameters: {'seed': 8553}. \u001b[0m\n",
      "\u001b[32m[I 2023-05-03 12:05:51,765]\u001b[0m Trial 629 finished with values: [0.9722222222222222, 0.0] and parameters: {'seed': 6266}. \u001b[0m\n",
      "\u001b[32m[I 2023-05-03 12:05:52,044]\u001b[0m Trial 630 finished with values: [0.6111111111111112, 0.0] and parameters: {'seed': 6329}. \u001b[0m\n",
      "\u001b[32m[I 2023-05-03 12:05:52,251]\u001b[0m Trial 627 finished with values: [0.2692307692307692, 0.0] and parameters: {'seed': 6285}. \u001b[0m\n",
      "\u001b[32m[I 2023-05-03 12:05:52,828]\u001b[0m Trial 632 finished with values: [0.5277777777777777, 0.0] and parameters: {'seed': 6475}. \u001b[0m\n",
      "\u001b[32m[I 2023-05-03 12:05:53,246]\u001b[0m Trial 638 finished with values: [0.7777777777777778, 0.0] and parameters: {'seed': 4738}. \u001b[0m\n",
      "\u001b[32m[I 2023-05-03 12:05:53,502]\u001b[0m Trial 633 finished with values: [0.6923076923076923, 0.028247730806469917] and parameters: {'seed': 4981}. \u001b[0m\n",
      "\u001b[32m[I 2023-05-03 12:05:53,569]\u001b[0m Trial 634 finished with values: [0.9615384615384616, 0.0] and parameters: {'seed': 4801}. \u001b[0m\n",
      "\u001b[32m[I 2023-05-03 12:05:54,288]\u001b[0m Trial 636 finished with values: [0.6153846153846154, 0.0] and parameters: {'seed': 9761}. \u001b[0m\n",
      "\u001b[32m[I 2023-05-03 12:05:54,381]\u001b[0m Trial 639 finished with values: [0.7692307692307692, 0.0] and parameters: {'seed': 4983}. \u001b[0m\n",
      "\u001b[32m[I 2023-05-03 12:05:54,743]\u001b[0m Trial 635 finished with values: [0.8846153846153846, 0.10818247497081757] and parameters: {'seed': 6681}. \u001b[0m\n",
      "\u001b[32m[I 2023-05-03 12:05:54,847]\u001b[0m Trial 637 finished with values: [0.9615384615384616, 0.0] and parameters: {'seed': 4753}. \u001b[0m\n",
      "\u001b[32m[I 2023-05-03 12:05:54,985]\u001b[0m Trial 641 finished with values: [0.6388888888888888, 0.0] and parameters: {'seed': 6638}. \u001b[0m\n",
      "\u001b[32m[I 2023-05-03 12:05:55,009]\u001b[0m Trial 640 finished with values: [0.7692307692307693, 0.0] and parameters: {'seed': 7388}. \u001b[0m\n",
      "\u001b[32m[I 2023-05-03 12:05:55,055]\u001b[0m Trial 644 finished with values: [0.6538461538461539, 0.09269227087497711] and parameters: {'seed': 3907}. \u001b[0m\n",
      "\u001b[32m[I 2023-05-03 12:05:55,057]\u001b[0m Trial 643 finished with values: [0.6153846153846154, 0.0] and parameters: {'seed': 4781}. \u001b[0m\n",
      "\u001b[32m[I 2023-05-03 12:05:55,137]\u001b[0m Trial 642 finished with values: [0.75, 0.0] and parameters: {'seed': 4076}. \u001b[0m\n",
      "\u001b[32m[I 2023-05-03 12:05:55,240]\u001b[0m Trial 645 finished with values: [0.75, 0.1512508988380432] and parameters: {'seed': 6618}. \u001b[0m\n",
      "\u001b[32m[I 2023-05-03 12:05:55,510]\u001b[0m Trial 646 finished with values: [0.7222222222222222, 0.0] and parameters: {'seed': 6592}. \u001b[0m\n",
      "\u001b[32m[I 2023-05-03 12:05:55,579]\u001b[0m Trial 647 finished with values: [0.5769230769230769, 0.0] and parameters: {'seed': 9268}. \u001b[0m\n",
      "\u001b[32m[I 2023-05-03 12:05:56,106]\u001b[0m Trial 648 finished with values: [0.45833333333333337, 0.0] and parameters: {'seed': 3868}. \u001b[0m\n",
      "\u001b[32m[I 2023-05-03 12:05:56,867]\u001b[0m Trial 651 finished with values: [0.5192307692307692, 0.0] and parameters: {'seed': 6924}. \u001b[0m\n",
      "\u001b[32m[I 2023-05-03 12:05:56,899]\u001b[0m Trial 649 finished with values: [0.75, 0.0576254166662693] and parameters: {'seed': 9287}. \u001b[0m\n",
      "\u001b[32m[I 2023-05-03 12:05:56,900]\u001b[0m Trial 650 finished with values: [0.8076923076923077, 0.0] and parameters: {'seed': 6812}. \u001b[0m\n",
      "\u001b[32m[I 2023-05-03 12:05:56,918]\u001b[0m Trial 654 finished with values: [0.5555555555555556, 0.0] and parameters: {'seed': 6966}. \u001b[0m\n",
      "\u001b[32m[I 2023-05-03 12:05:57,160]\u001b[0m Trial 653 finished with values: [0.8194444444444444, 0.0] and parameters: {'seed': 6973}. \u001b[0m\n",
      "\u001b[32m[I 2023-05-03 12:05:57,357]\u001b[0m Trial 652 finished with values: [0.888888888888889, 0.0] and parameters: {'seed': 6948}. \u001b[0m\n",
      "\u001b[32m[I 2023-05-03 12:05:58,107]\u001b[0m Trial 656 finished with values: [0.7222222222222222, 0.0] and parameters: {'seed': 6919}. \u001b[0m\n",
      "\u001b[32m[I 2023-05-03 12:05:58,108]\u001b[0m Trial 659 finished with values: [0.5277777777777778, 0.0] and parameters: {'seed': 6970}. \u001b[0m\n",
      "\u001b[32m[I 2023-05-03 12:05:58,198]\u001b[0m Trial 662 finished with values: [0.5555555555555556, 0.0] and parameters: {'seed': 6997}. \u001b[0m\n",
      "\u001b[32m[I 2023-05-03 12:05:58,226]\u001b[0m Trial 658 finished with values: [0.9230769230769231, 0.0] and parameters: {'seed': 5906}. \u001b[0m\n",
      "\u001b[32m[I 2023-05-03 12:05:58,309]\u001b[0m Trial 661 finished with values: [0.75, 0.0049202111549675465] and parameters: {'seed': 6006}. \u001b[0m\n",
      "\u001b[32m[I 2023-05-03 12:05:58,612]\u001b[0m Trial 655 finished with values: [0.5384615384615384, 0.0] and parameters: {'seed': 7404}. \u001b[0m\n",
      "\u001b[32m[I 2023-05-03 12:05:59,298]\u001b[0m Trial 660 finished with values: [0.6923076923076923, 0.07318784296512604] and parameters: {'seed': 2553}. \u001b[0m\n",
      "\u001b[32m[I 2023-05-03 12:05:59,632]\u001b[0m Trial 664 finished with values: [0.3846153846153846, 0.0] and parameters: {'seed': 5847}. \u001b[0m\n",
      "\u001b[32m[I 2023-05-03 12:05:59,680]\u001b[0m Trial 663 finished with values: [0.625, 0.0] and parameters: {'seed': 7387}. \u001b[0m\n",
      "\u001b[32m[I 2023-05-03 12:05:59,891]\u001b[0m Trial 666 finished with values: [0.7115384615384616, 0.13199293613433838] and parameters: {'seed': 6588}. \u001b[0m\n",
      "\u001b[32m[I 2023-05-03 12:06:00,209]\u001b[0m Trial 667 finished with values: [0.6538461538461539, 0.0] and parameters: {'seed': 3346}. \u001b[0m\n",
      "\u001b[32m[I 2023-05-03 12:06:00,339]\u001b[0m Trial 665 finished with values: [0.8846153846153846, 0.06070457026362419] and parameters: {'seed': 2601}. \u001b[0m\n",
      "\u001b[32m[I 2023-05-03 12:06:00,399]\u001b[0m Trial 668 finished with values: [0.6923076923076923, 0.0] and parameters: {'seed': 6566}. \u001b[0m\n",
      "\u001b[32m[I 2023-05-03 12:06:00,609]\u001b[0m Trial 657 finished with values: [0.6153846153846154, 0.055464599281549454] and parameters: {'seed': 5992}. \u001b[0m\n",
      "\u001b[32m[I 2023-05-03 12:06:00,631]\u001b[0m Trial 669 finished with values: [0.7361111111111112, 0.0] and parameters: {'seed': 6563}. \u001b[0m\n",
      "\u001b[32m[I 2023-05-03 12:06:00,632]\u001b[0m Trial 670 finished with values: [0.5833333333333334, 0.0] and parameters: {'seed': 6576}. \u001b[0m\n",
      "\u001b[32m[I 2023-05-03 12:06:00,895]\u001b[0m Trial 672 finished with values: [0.875, 0.24052785336971283] and parameters: {'seed': 6582}. \u001b[0m\n",
      "\u001b[32m[I 2023-05-03 12:06:01,301]\u001b[0m Trial 671 finished with values: [0.846153846153846, 0.1500694453716278] and parameters: {'seed': 6490}. \u001b[0m\n",
      "\u001b[32m[I 2023-05-03 12:06:01,400]\u001b[0m Trial 674 finished with values: [0.7638888888888888, 0.08107782900333405] and parameters: {'seed': 6514}. \u001b[0m\n",
      "\u001b[32m[I 2023-05-03 12:06:01,459]\u001b[0m Trial 673 finished with values: [0.9615384615384615, 0.0303263571113348] and parameters: {'seed': 6736}. \u001b[0m\n",
      "\u001b[32m[I 2023-05-03 12:06:02,518]\u001b[0m Trial 675 finished with values: [0.6923076923076923, 0.0] and parameters: {'seed': 7206}. \u001b[0m\n",
      "\u001b[32m[I 2023-05-03 12:06:03,042]\u001b[0m Trial 677 finished with values: [0.611111111111111, 0.0] and parameters: {'seed': 5403}. \u001b[0m\n",
      "\u001b[32m[I 2023-05-03 12:06:03,074]\u001b[0m Trial 676 finished with values: [0.34615384615384615, 0.0] and parameters: {'seed': 1800}. \u001b[0m\n",
      "\u001b[32m[I 2023-05-03 12:06:03,266]\u001b[0m Trial 679 finished with values: [0.6538461538461539, 0.02992820180952549] and parameters: {'seed': 8299}. \u001b[0m\n",
      "\u001b[32m[I 2023-05-03 12:06:03,370]\u001b[0m Trial 678 finished with values: [0.6944444444444444, 0.0] and parameters: {'seed': 8237}. \u001b[0m\n",
      "\u001b[32m[I 2023-05-03 12:06:03,480]\u001b[0m Trial 682 finished with values: [0.8076923076923077, 0.07461079955101013] and parameters: {'seed': 4487}. \u001b[0m\n",
      "\u001b[32m[I 2023-05-03 12:06:03,696]\u001b[0m Trial 683 finished with values: [0.8846153846153846, 0.07391877472400665] and parameters: {'seed': 1779}. \u001b[0m\n",
      "\u001b[32m[I 2023-05-03 12:06:03,763]\u001b[0m Trial 681 finished with values: [0.7307692307692308, 0.0] and parameters: {'seed': 1305}. \u001b[0m\n",
      "\u001b[32m[I 2023-05-03 12:06:03,796]\u001b[0m Trial 684 finished with values: [0.8461538461538461, 0.0] and parameters: {'seed': 8316}. \u001b[0m\n",
      "\u001b[32m[I 2023-05-03 12:06:03,796]\u001b[0m Trial 680 finished with values: [0.8076923076923076, 0.0] and parameters: {'seed': 8389}. \u001b[0m\n",
      "\u001b[32m[I 2023-05-03 12:06:03,883]\u001b[0m Trial 686 finished with values: [0.8076923076923077, 0.0] and parameters: {'seed': 4466}. \u001b[0m\n",
      "\u001b[32m[I 2023-05-03 12:06:04,153]\u001b[0m Trial 687 finished with values: [0.9166666666666666, 0.0] and parameters: {'seed': 4398}. \u001b[0m\n",
      "\u001b[32m[I 2023-05-03 12:06:04,254]\u001b[0m Trial 685 finished with values: [0.4305555555555556, 0.6936567425727844] and parameters: {'seed': 8178}. \u001b[0m\n",
      "\u001b[32m[I 2023-05-03 12:06:04,419]\u001b[0m Trial 688 finished with values: [0.7222222222222222, 0.0] and parameters: {'seed': 6752}. \u001b[0m\n",
      "\u001b[32m[I 2023-05-03 12:06:05,325]\u001b[0m Trial 689 finished with values: [0.8333333333333334, 0.0] and parameters: {'seed': 6793}. \u001b[0m\n",
      "\u001b[32m[I 2023-05-03 12:06:06,057]\u001b[0m Trial 690 finished with values: [0.5, 0.0] and parameters: {'seed': 7178}. \u001b[0m\n",
      "\u001b[32m[I 2023-05-03 12:06:06,058]\u001b[0m Trial 691 finished with values: [0.9230769230769231, 0.06119471415877342] and parameters: {'seed': 6805}. \u001b[0m\n",
      "\u001b[32m[I 2023-05-03 12:06:06,631]\u001b[0m Trial 692 finished with values: [0.9615384615384615, 0.0] and parameters: {'seed': 7156}. \u001b[0m\n",
      "\u001b[32m[I 2023-05-03 12:06:06,679]\u001b[0m Trial 696 finished with values: [0.5138888888888888, 0.0] and parameters: {'seed': 7138}. \u001b[0m\n",
      "\u001b[32m[I 2023-05-03 12:06:06,738]\u001b[0m Trial 693 finished with values: [0.7692307692307692, 0.14887011051177979] and parameters: {'seed': 6824}. \u001b[0m\n",
      "\u001b[32m[I 2023-05-03 12:06:06,814]\u001b[0m Trial 694 finished with values: [0.5138888888888888, 0.0] and parameters: {'seed': 7138}. \u001b[0m\n",
      "\u001b[32m[I 2023-05-03 12:06:06,999]\u001b[0m Trial 698 finished with values: [0.5, 0.0] and parameters: {'seed': 7178}. \u001b[0m\n",
      "\u001b[32m[I 2023-05-03 12:06:07,136]\u001b[0m Trial 699 finished with values: [0.6944444444444444, 0.06814011186361313] and parameters: {'seed': 6115}. \u001b[0m\n",
      "\u001b[32m[I 2023-05-03 12:06:07,154]\u001b[0m Trial 703 finished with values: [0.7222222222222222, 0.0] and parameters: {'seed': 6427}. \u001b[0m\n",
      "\u001b[32m[I 2023-05-03 12:06:07,171]\u001b[0m Trial 701 finished with values: [0.6666666666666666, 0.04672633484005928] and parameters: {'seed': 7077}. \u001b[0m\n",
      "\u001b[32m[I 2023-05-03 12:06:07,181]\u001b[0m Trial 700 finished with values: [0.7222222222222222, 0.0] and parameters: {'seed': 7118}. \u001b[0m\n",
      "\u001b[32m[I 2023-05-03 12:06:07,230]\u001b[0m Trial 702 finished with values: [0.38888888888888884, 0.0] and parameters: {'seed': 5688}. \u001b[0m\n",
      "\u001b[32m[I 2023-05-03 12:06:07,266]\u001b[0m Trial 695 finished with values: [0.9615384615384616, 0.22047948837280273] and parameters: {'seed': 7205}. \u001b[0m\n",
      "\u001b[32m[I 2023-05-03 12:06:07,513]\u001b[0m Trial 697 finished with values: [0.5769230769230769, 0.0] and parameters: {'seed': 7198}. \u001b[0m\n",
      "\u001b[32m[I 2023-05-03 12:06:09,044]\u001b[0m Trial 704 finished with values: [0.8333333333333334, 0.057612042874097824] and parameters: {'seed': 7939}. \u001b[0m\n",
      "\u001b[32m[I 2023-05-03 12:06:09,379]\u001b[0m Trial 706 finished with values: [0.9444444444444444, 0.0] and parameters: {'seed': 3032}. \u001b[0m\n",
      "\u001b[32m[I 2023-05-03 12:06:09,723]\u001b[0m Trial 707 finished with values: [0.7307692307692307, 0.8382703065872192] and parameters: {'seed': 8829}. \u001b[0m\n",
      "\u001b[32m[I 2023-05-03 12:06:09,869]\u001b[0m Trial 705 finished with values: [1.0, 0.0] and parameters: {'seed': 6395}. \u001b[0m\n",
      "\u001b[32m[I 2023-05-03 12:06:09,920]\u001b[0m Trial 711 finished with values: [0.9444444444444444, 0.0] and parameters: {'seed': 8874}. \u001b[0m\n",
      "\u001b[32m[I 2023-05-03 12:06:09,970]\u001b[0m Trial 713 finished with values: [0.38461538461538464, 0.06498464196920395] and parameters: {'seed': 6707}. \u001b[0m\n",
      "\u001b[32m[I 2023-05-03 12:06:10,257]\u001b[0m Trial 710 finished with values: [0.9444444444444444, 0.0] and parameters: {'seed': 8744}. \u001b[0m\n",
      "\u001b[32m[I 2023-05-03 12:06:10,296]\u001b[0m Trial 708 finished with values: [0.7692307692307693, 0.0] and parameters: {'seed': 9677}. \u001b[0m\n",
      "\u001b[32m[I 2023-05-03 12:06:10,296]\u001b[0m Trial 715 finished with values: [0.7222222222222222, 0.3471705913543701] and parameters: {'seed': 6734}. \u001b[0m\n",
      "\u001b[32m[I 2023-05-03 12:06:10,900]\u001b[0m Trial 718 finished with values: [0.8333333333333333, 0.13660822808742523] and parameters: {'seed': 9601}. \u001b[0m\n",
      "\u001b[32m[I 2023-05-03 12:06:10,947]\u001b[0m Trial 716 finished with values: [0.6388888888888888, 0.0] and parameters: {'seed': 6412}. \u001b[0m\n",
      "\u001b[32m[I 2023-05-03 12:06:10,948]\u001b[0m Trial 717 finished with values: [0.888888888888889, 0.15260013937950134] and parameters: {'seed': 6760}. \u001b[0m\n",
      "\u001b[32m[I 2023-05-03 12:06:11,026]\u001b[0m Trial 719 finished with values: [0.7222222222222222, 0.23513920605182648] and parameters: {'seed': 8736}. \u001b[0m\n",
      "\u001b[32m[I 2023-05-03 12:06:11,337]\u001b[0m Trial 709 finished with values: [0.6538461538461539, 0.0] and parameters: {'seed': 8812}. \u001b[0m\n",
      "\u001b[32m[I 2023-05-03 12:06:11,338]\u001b[0m Trial 712 finished with values: [0.5833333333333333, 0.0] and parameters: {'seed': 8724}. \u001b[0m\n",
      "\u001b[32m[I 2023-05-03 12:06:11,356]\u001b[0m Trial 714 finished with values: [0.75, 0.14154651761054993] and parameters: {'seed': 8821}. \u001b[0m\n",
      "\u001b[32m[I 2023-05-03 12:06:12,490]\u001b[0m Trial 720 finished with values: [0.3611111111111111, 0.07568924874067307] and parameters: {'seed': 9093}. \u001b[0m\n",
      "\u001b[32m[I 2023-05-03 12:06:12,672]\u001b[0m Trial 724 finished with values: [0.5416666666666667, 0.0] and parameters: {'seed': 9099}. \u001b[0m\n",
      "\u001b[32m[I 2023-05-03 12:06:12,719]\u001b[0m Trial 722 finished with values: [0.8076923076923077, 0.0] and parameters: {'seed': 9114}. \u001b[0m\n",
      "\u001b[32m[I 2023-05-03 12:06:12,720]\u001b[0m Trial 723 finished with values: [0.5769230769230769, 0.0] and parameters: {'seed': 9065}. \u001b[0m\n",
      "\u001b[32m[I 2023-05-03 12:06:13,081]\u001b[0m Trial 721 finished with values: [0.7307692307692307, 0.0] and parameters: {'seed': 8965}. \u001b[0m\n",
      "\u001b[32m[I 2023-05-03 12:06:13,171]\u001b[0m Trial 727 finished with values: [0.6923076923076923, 0.12944895029067993] and parameters: {'seed': 9112}. \u001b[0m\n",
      "\u001b[32m[I 2023-05-03 12:06:13,196]\u001b[0m Trial 728 finished with values: [0.3055555555555555, 0.0] and parameters: {'seed': 8985}. \u001b[0m\n",
      "\u001b[32m[I 2023-05-03 12:06:13,729]\u001b[0m Trial 726 finished with values: [0.3611111111111111, 0.07568924874067307] and parameters: {'seed': 9093}. \u001b[0m\n",
      "\u001b[32m[I 2023-05-03 12:06:13,959]\u001b[0m Trial 725 finished with values: [0.9615384615384616, 0.11643215268850327] and parameters: {'seed': 9166}. \u001b[0m\n",
      "\u001b[32m[I 2023-05-03 12:06:14,219]\u001b[0m Trial 731 finished with values: [0.6388888888888888, 0.0] and parameters: {'seed': 8563}. \u001b[0m\n",
      "\u001b[32m[I 2023-05-03 12:06:14,222]\u001b[0m Trial 729 finished with values: [0.5, 0.0] and parameters: {'seed': 8047}. \u001b[0m\n",
      "\u001b[32m[I 2023-05-03 12:06:14,255]\u001b[0m Trial 732 finished with values: [0.7692307692307693, 0.0] and parameters: {'seed': 8613}. \u001b[0m\n",
      "\u001b[32m[I 2023-05-03 12:06:14,322]\u001b[0m Trial 733 finished with values: [0.8055555555555555, 0.0] and parameters: {'seed': 9298}. \u001b[0m\n",
      "\u001b[32m[I 2023-05-03 12:06:14,692]\u001b[0m Trial 734 finished with values: [0.41666666666666663, 0.08024907857179642] and parameters: {'seed': 8527}. \u001b[0m\n",
      "\u001b[32m[I 2023-05-03 12:06:14,925]\u001b[0m Trial 730 finished with values: [0.5769230769230769, 0.27246010303497314] and parameters: {'seed': 9337}. \u001b[0m\n",
      "\u001b[32m[I 2023-05-03 12:06:16,585]\u001b[0m Trial 738 finished with values: [0.9615384615384616, 0.0] and parameters: {'seed': 8454}. \u001b[0m\n",
      "\u001b[32m[I 2023-05-03 12:06:16,586]\u001b[0m Trial 735 finished with values: [0.8846153846153846, 0.115596704185009] and parameters: {'seed': 8425}. \u001b[0m\n",
      "\u001b[32m[I 2023-05-03 12:06:16,680]\u001b[0m Trial 741 finished with values: [0.6923076923076923, 0.0] and parameters: {'seed': 8464}. \u001b[0m\n",
      "\u001b[32m[I 2023-05-03 12:06:16,681]\u001b[0m Trial 740 finished with values: [0.7692307692307693, 0.0] and parameters: {'seed': 8517}. \u001b[0m\n",
      "\u001b[32m[I 2023-05-03 12:06:16,681]\u001b[0m Trial 739 finished with values: [0.5833333333333334, 0.0] and parameters: {'seed': 9307}. \u001b[0m\n",
      "\u001b[32m[I 2023-05-03 12:06:16,722]\u001b[0m Trial 737 finished with values: [0.6730769230769231, 0.0] and parameters: {'seed': 9445}. \u001b[0m\n",
      "\u001b[32m[I 2023-05-03 12:06:17,086]\u001b[0m Trial 742 finished with values: [0.5138888888888888, 0.0] and parameters: {'seed': 9446}. \u001b[0m\n",
      "\u001b[32m[I 2023-05-03 12:06:17,087]\u001b[0m Trial 744 finished with values: [0.8055555555555556, 0.0] and parameters: {'seed': 8155}. \u001b[0m\n",
      "\u001b[32m[I 2023-05-03 12:06:17,088]\u001b[0m Trial 736 finished with values: [0.6538461538461539, 0.0] and parameters: {'seed': 8428}. \u001b[0m\n",
      "\u001b[32m[I 2023-05-03 12:06:17,601]\u001b[0m Trial 748 finished with values: [0.8333333333333333, 0.14423149824142456] and parameters: {'seed': 8463}. \u001b[0m\n",
      "\u001b[32m[I 2023-05-03 12:06:17,856]\u001b[0m Trial 747 finished with values: [0.8888888888888888, 0.08944829553365707] and parameters: {'seed': 8364}. \u001b[0m\n",
      "\u001b[32m[I 2023-05-03 12:06:17,857]\u001b[0m Trial 743 finished with values: [0.9722222222222222, 0.0] and parameters: {'seed': 8440}. \u001b[0m\n",
      "\u001b[32m[I 2023-05-03 12:06:18,183]\u001b[0m Trial 746 finished with values: [0.6111111111111112, 0.0] and parameters: {'seed': 8540}. \u001b[0m\n",
      "\u001b[32m[I 2023-05-03 12:06:18,244]\u001b[0m Trial 745 finished with values: [0.4722222222222222, 0.5106325149536133] and parameters: {'seed': 8082}. \u001b[0m\n",
      "\u001b[32m[I 2023-05-03 12:06:18,969]\u001b[0m Trial 749 finished with values: [0.8333333333333334, 0.0] and parameters: {'seed': 8884}. \u001b[0m\n",
      "\u001b[32m[I 2023-05-03 12:06:19,211]\u001b[0m Trial 750 finished with values: [0.8461538461538461, 0.0] and parameters: {'seed': 8735}. \u001b[0m\n",
      "\u001b[32m[I 2023-05-03 12:06:19,589]\u001b[0m Trial 751 finished with values: [0.8076923076923077, 0.0] and parameters: {'seed': 8672}. \u001b[0m\n",
      "\u001b[32m[I 2023-05-03 12:06:19,771]\u001b[0m Trial 758 finished with values: [0.8055555555555556, 0.0] and parameters: {'seed': 9822}. \u001b[0m\n",
      "\u001b[32m[I 2023-05-03 12:06:19,982]\u001b[0m Trial 752 finished with values: [0.6923076923076923, 0.0] and parameters: {'seed': 9851}. \u001b[0m\n",
      "\u001b[32m[I 2023-05-03 12:06:20,082]\u001b[0m Trial 756 finished with values: [0.8611111111111112, 0.3039713501930237] and parameters: {'seed': 8858}. \u001b[0m\n",
      "\u001b[32m[I 2023-05-03 12:06:20,082]\u001b[0m Trial 755 finished with values: [0.6923076923076923, 0.12215232849121094] and parameters: {'seed': 8844}. \u001b[0m\n",
      "\u001b[32m[I 2023-05-03 12:06:20,201]\u001b[0m Trial 757 finished with values: [0.7307692307692308, 0.0] and parameters: {'seed': 8855}. \u001b[0m\n",
      "\u001b[32m[I 2023-05-03 12:06:20,607]\u001b[0m Trial 754 finished with values: [0.75, 0.05999646708369255] and parameters: {'seed': 8759}. \u001b[0m\n",
      "\u001b[32m[I 2023-05-03 12:06:20,888]\u001b[0m Trial 753 finished with values: [0.7777777777777777, 0.24062396585941315] and parameters: {'seed': 9890}. \u001b[0m\n",
      "\u001b[32m[I 2023-05-03 12:06:20,888]\u001b[0m Trial 759 finished with values: [0.5769230769230769, 0.0] and parameters: {'seed': 9821}. \u001b[0m\n",
      "\u001b[32m[I 2023-05-03 12:06:21,219]\u001b[0m Trial 760 finished with values: [0.8472222222222222, 0.0] and parameters: {'seed': 8061}. \u001b[0m\n",
      "\u001b[32m[I 2023-05-03 12:06:21,356]\u001b[0m Trial 763 finished with values: [0.9615384615384616, 0.0] and parameters: {'seed': 8100}. \u001b[0m\n",
      "\u001b[32m[I 2023-05-03 12:06:21,661]\u001b[0m Trial 761 finished with values: [0.6923076923076923, 0.0] and parameters: {'seed': 8000}. \u001b[0m\n",
      "\u001b[32m[I 2023-05-03 12:06:21,680]\u001b[0m Trial 762 finished with values: [0.6153846153846154, 0.0] and parameters: {'seed': 8079}. \u001b[0m\n",
      "\u001b[32m[I 2023-05-03 12:06:22,308]\u001b[0m Trial 764 finished with values: [0.75, 0.0] and parameters: {'seed': 9519}. \u001b[0m\n",
      "\u001b[32m[I 2023-05-03 12:06:22,745]\u001b[0m Trial 765 finished with values: [0.5833333333333334, 0.0] and parameters: {'seed': 7922}. \u001b[0m\n",
      "\u001b[32m[I 2023-05-03 12:06:22,872]\u001b[0m Trial 766 finished with values: [0.9230769230769231, 0.0] and parameters: {'seed': 9548}. \u001b[0m\n",
      "\u001b[32m[I 2023-05-03 12:06:23,123]\u001b[0m Trial 768 finished with values: [0.8611111111111112, 0.12004730105400085] and parameters: {'seed': 8096}. \u001b[0m\n",
      "\u001b[32m[I 2023-05-03 12:06:23,145]\u001b[0m Trial 769 finished with values: [0.8846153846153846, 0.0] and parameters: {'seed': 9460}. \u001b[0m\n",
      "\u001b[32m[I 2023-05-03 12:06:23,614]\u001b[0m Trial 767 finished with values: [0.8333333333333334, 0.0] and parameters: {'seed': 9502}. \u001b[0m\n",
      "\u001b[32m[I 2023-05-03 12:06:23,615]\u001b[0m Trial 770 finished with values: [0.7692307692307692, 0.0] and parameters: {'seed': 9238}. \u001b[0m\n",
      "\u001b[32m[I 2023-05-03 12:06:23,825]\u001b[0m Trial 771 finished with values: [0.861111111111111, 0.0] and parameters: {'seed': 8953}. \u001b[0m\n",
      "\u001b[32m[I 2023-05-03 12:06:24,221]\u001b[0m Trial 775 finished with values: [0.7692307692307693, 0.0] and parameters: {'seed': 9280}. \u001b[0m\n",
      "\u001b[32m[I 2023-05-03 12:06:24,222]\u001b[0m Trial 772 finished with values: [0.9230769230769231, 0.0] and parameters: {'seed': 9622}. \u001b[0m\n",
      "\u001b[32m[I 2023-05-03 12:06:24,332]\u001b[0m Trial 773 finished with values: [0.611111111111111, 0.0] and parameters: {'seed': 9338}. \u001b[0m\n",
      "\u001b[32m[I 2023-05-03 12:06:24,522]\u001b[0m Trial 774 finished with values: [0.5384615384615384, 0.0] and parameters: {'seed': 9267}. \u001b[0m\n",
      "\u001b[32m[I 2023-05-03 12:06:24,823]\u001b[0m Trial 777 finished with values: [0.8461538461538461, 0.09293638169765472] and parameters: {'seed': 9236}. \u001b[0m\n",
      "\u001b[32m[I 2023-05-03 12:06:25,104]\u001b[0m Trial 778 finished with values: [0.5384615384615384, 0.0] and parameters: {'seed': 1054}. \u001b[0m\n",
      "\u001b[32m[I 2023-05-03 12:06:25,329]\u001b[0m Trial 776 finished with values: [0.6666666666666666, 0.0] and parameters: {'seed': 9231}. \u001b[0m\n",
      "\u001b[32m[I 2023-05-03 12:06:25,642]\u001b[0m Trial 779 finished with values: [0.7777777777777779, 0.0] and parameters: {'seed': 9178}. \u001b[0m\n",
      "\u001b[32m[I 2023-05-03 12:06:25,930]\u001b[0m Trial 780 finished with values: [0.8333333333333333, 0.11787150055170059] and parameters: {'seed': 8957}. \u001b[0m\n",
      "\u001b[32m[I 2023-05-03 12:06:26,489]\u001b[0m Trial 786 finished with values: [0.9615384615384616, 0.0] and parameters: {'seed': 9019}. \u001b[0m\n",
      "\u001b[32m[I 2023-05-03 12:06:26,583]\u001b[0m Trial 781 finished with values: [0.6111111111111112, 0.0] and parameters: {'seed': 1037}. \u001b[0m\n",
      "\u001b[32m[I 2023-05-03 12:06:26,627]\u001b[0m Trial 783 finished with values: [0.7692307692307692, 0.0] and parameters: {'seed': 991}. \u001b[0m\n",
      "\u001b[32m[I 2023-05-03 12:06:26,717]\u001b[0m Trial 784 finished with values: [0.8333333333333334, 0.11909254640340805] and parameters: {'seed': 8998}. \u001b[0m\n",
      "\u001b[32m[I 2023-05-03 12:06:26,813]\u001b[0m Trial 787 finished with values: [0.8055555555555556, 0.08173862099647522] and parameters: {'seed': 8693}. \u001b[0m\n",
      "\u001b[32m[I 2023-05-03 12:06:26,906]\u001b[0m Trial 785 finished with values: [0.8076923076923077, 0.0] and parameters: {'seed': 8228}. \u001b[0m\n",
      "\u001b[32m[I 2023-05-03 12:06:27,868]\u001b[0m Trial 782 finished with values: [0.5138888888888888, 0.0] and parameters: {'seed': 8876}. \u001b[0m\n",
      "\u001b[32m[I 2023-05-03 12:06:28,053]\u001b[0m Trial 791 finished with values: [0.5833333333333334, 0.0] and parameters: {'seed': 954}. \u001b[0m\n",
      "\u001b[32m[I 2023-05-03 12:06:28,067]\u001b[0m Trial 794 finished with values: [0.8333333333333334, 0.0] and parameters: {'seed': 8692}. \u001b[0m\n",
      "\u001b[32m[I 2023-05-03 12:06:28,068]\u001b[0m Trial 788 finished with values: [0.8611111111111112, 0.0] and parameters: {'seed': 8950}. \u001b[0m\n",
      "\u001b[32m[I 2023-05-03 12:06:28,068]\u001b[0m Trial 789 finished with values: [0.7222222222222221, 0.0] and parameters: {'seed': 8657}. \u001b[0m\n",
      "\u001b[32m[I 2023-05-03 12:06:28,157]\u001b[0m Trial 793 finished with values: [0.6666666666666666, 0.0] and parameters: {'seed': 8664}. \u001b[0m\n",
      "\u001b[32m[I 2023-05-03 12:06:28,860]\u001b[0m Trial 795 finished with values: [0.75, 0.0] and parameters: {'seed': 9997}. \u001b[0m\n",
      "\u001b[32m[I 2023-05-03 12:06:29,133]\u001b[0m Trial 792 finished with values: [0.5555555555555555, 0.0] and parameters: {'seed': 955}. \u001b[0m\n",
      "\u001b[32m[I 2023-05-03 12:06:29,499]\u001b[0m Trial 790 finished with values: [0.9166666666666667, 0.0] and parameters: {'seed': 8278}. \u001b[0m\n",
      "\u001b[32m[I 2023-05-03 12:06:30,461]\u001b[0m Trial 797 finished with values: [0.9615384615384616, 0.0] and parameters: {'seed': 8336}. \u001b[0m\n",
      "\u001b[32m[I 2023-05-03 12:06:30,462]\u001b[0m Trial 800 finished with values: [0.5769230769230769, 0.0] and parameters: {'seed': 8351}. \u001b[0m\n",
      "\u001b[32m[I 2023-05-03 12:06:30,463]\u001b[0m Trial 796 finished with values: [1.0, 0.0] and parameters: {'seed': 8264}. \u001b[0m\n",
      "\u001b[32m[I 2023-05-03 12:06:30,463]\u001b[0m Trial 798 finished with values: [0.7692307692307692, 0.01734800450503826] and parameters: {'seed': 7719}. \u001b[0m\n",
      "\u001b[32m[I 2023-05-03 12:06:30,463]\u001b[0m Trial 799 finished with values: [0.75, 0.0] and parameters: {'seed': 7786}. \u001b[0m\n",
      "\u001b[32m[I 2023-05-03 12:06:30,571]\u001b[0m Trial 802 finished with values: [0.861111111111111, 0.46756628155708313] and parameters: {'seed': 7759}. \u001b[0m\n",
      "\u001b[32m[I 2023-05-03 12:06:31,012]\u001b[0m Trial 803 finished with values: [0.9444444444444444, 0.18946479260921478] and parameters: {'seed': 7831}. \u001b[0m\n",
      "\u001b[32m[I 2023-05-03 12:06:31,075]\u001b[0m Trial 805 finished with values: [0.5555555555555556, 0.0] and parameters: {'seed': 7700}. \u001b[0m\n",
      "\u001b[32m[I 2023-05-03 12:06:31,143]\u001b[0m Trial 804 finished with values: [0.8333333333333333, 0.0] and parameters: {'seed': 8219}. \u001b[0m\n",
      "\u001b[32m[I 2023-05-03 12:06:31,143]\u001b[0m Trial 801 finished with values: [0.7777777777777779, 0.0] and parameters: {'seed': 7817}. \u001b[0m\n",
      "\u001b[32m[I 2023-05-03 12:06:31,184]\u001b[0m Trial 808 finished with values: [0.8461538461538461, 0.0] and parameters: {'seed': 8277}. \u001b[0m\n",
      "\u001b[32m[I 2023-05-03 12:06:31,351]\u001b[0m Trial 807 finished with values: [0.8055555555555555, 0.0] and parameters: {'seed': 7738}. \u001b[0m\n",
      "\u001b[32m[I 2023-05-03 12:06:32,275]\u001b[0m Trial 806 finished with values: [1.0, 0.0] and parameters: {'seed': 7562}. \u001b[0m\n",
      "\u001b[32m[I 2023-05-03 12:06:32,434]\u001b[0m Trial 810 finished with values: [0.8055555555555556, 0.240810826420784] and parameters: {'seed': 7983}. \u001b[0m\n",
      "\u001b[32m[I 2023-05-03 12:06:33,025]\u001b[0m Trial 809 finished with values: [0.6923076923076923, 0.0] and parameters: {'seed': 8000}. \u001b[0m\n",
      "\u001b[32m[I 2023-05-03 12:06:33,273]\u001b[0m Trial 811 finished with values: [0.6388888888888888, 0.10211760550737381] and parameters: {'seed': 7545}. \u001b[0m\n",
      "\u001b[32m[I 2023-05-03 12:06:33,310]\u001b[0m Trial 817 finished with values: [0.7777777777777779, 0.06996526569128036] and parameters: {'seed': 9604}. \u001b[0m\n",
      "\u001b[32m[I 2023-05-03 12:06:33,658]\u001b[0m Trial 814 finished with values: [0.4444444444444445, 0.0] and parameters: {'seed': 7634}. \u001b[0m\n",
      "\u001b[32m[I 2023-05-03 12:06:33,662]\u001b[0m Trial 815 finished with values: [0.861111111111111, 0.0] and parameters: {'seed': 7557}. \u001b[0m\n",
      "\u001b[32m[I 2023-05-03 12:06:33,831]\u001b[0m Trial 813 finished with values: [0.75, 0.056652456521987915] and parameters: {'seed': 7903}. \u001b[0m\n",
      "\u001b[32m[I 2023-05-03 12:06:34,050]\u001b[0m Trial 816 finished with values: [0.8055555555555555, 0.0] and parameters: {'seed': 7632}. \u001b[0m\n",
      "\u001b[32m[I 2023-05-03 12:06:34,659]\u001b[0m Trial 812 finished with values: [0.9230769230769231, 0.4521581530570984] and parameters: {'seed': 9685}. \u001b[0m\n",
      "\u001b[32m[I 2023-05-03 12:06:34,660]\u001b[0m Trial 818 finished with values: [0.7307692307692308, 0.0] and parameters: {'seed': 8575}. \u001b[0m\n",
      "\u001b[32m[I 2023-05-03 12:06:34,994]\u001b[0m Trial 820 finished with values: [0.5277777777777777, 0.07280422002077103] and parameters: {'seed': 8604}. \u001b[0m\n",
      "\u001b[32m[I 2023-05-03 12:06:34,995]\u001b[0m Trial 819 finished with values: [0.7222222222222222, 0.0] and parameters: {'seed': 8809}. \u001b[0m\n",
      "\u001b[32m[I 2023-05-03 12:06:34,996]\u001b[0m Trial 821 finished with values: [0.3846153846153846, 0.0] and parameters: {'seed': 8553}. \u001b[0m\n",
      "\u001b[32m[I 2023-05-03 12:06:35,443]\u001b[0m Trial 823 finished with values: [0.8055555555555556, 0.0] and parameters: {'seed': 8537}. \u001b[0m\n",
      "\u001b[32m[I 2023-05-03 12:06:35,512]\u001b[0m Trial 822 finished with values: [0.7692307692307693, 0.0873468890786171] and parameters: {'seed': 8589}. \u001b[0m\n",
      "\u001b[32m[I 2023-05-03 12:06:36,164]\u001b[0m Trial 824 finished with values: [0.9444444444444444, 0.0] and parameters: {'seed': 8574}. \u001b[0m\n",
      "\u001b[32m[I 2023-05-03 12:06:36,382]\u001b[0m Trial 825 finished with values: [0.8333333333333334, 0.14047838747501373] and parameters: {'seed': 9883}. \u001b[0m\n",
      "\u001b[32m[I 2023-05-03 12:06:36,480]\u001b[0m Trial 826 finished with values: [0.8888888888888888, 0.0] and parameters: {'seed': 9728}. \u001b[0m\n",
      "\u001b[32m[I 2023-05-03 12:06:36,916]\u001b[0m Trial 828 finished with values: [0.3888888888888889, 0.0] and parameters: {'seed': 9993}. \u001b[0m\n",
      "\u001b[32m[I 2023-05-03 12:06:36,966]\u001b[0m Trial 827 finished with values: [0.5555555555555556, 0.0] and parameters: {'seed': 9966}. \u001b[0m\n",
      "\u001b[32m[I 2023-05-03 12:06:37,092]\u001b[0m Trial 831 finished with values: [0.5, 0.0976727306842804] and parameters: {'seed': 9771}. \u001b[0m\n",
      "\u001b[32m[I 2023-05-03 12:06:37,131]\u001b[0m Trial 829 finished with values: [0.7307692307692307, 0.0] and parameters: {'seed': 9777}. \u001b[0m\n",
      "\u001b[32m[I 2023-05-03 12:06:37,311]\u001b[0m Trial 832 finished with values: [0.846153846153846, 0.0] and parameters: {'seed': 9735}. \u001b[0m\n",
      "\u001b[32m[I 2023-05-03 12:06:37,596]\u001b[0m Trial 830 finished with values: [0.7222222222222222, 0.0] and parameters: {'seed': 9992}. \u001b[0m\n",
      "\u001b[32m[I 2023-05-03 12:06:37,645]\u001b[0m Trial 833 finished with values: [1.0, 0.0] and parameters: {'seed': 9578}. \u001b[0m\n",
      "\u001b[32m[I 2023-05-03 12:06:38,454]\u001b[0m Trial 838 finished with values: [0.3846153846153846, 0.0] and parameters: {'seed': 9641}. \u001b[0m\n",
      "\u001b[32m[I 2023-05-03 12:06:38,524]\u001b[0m Trial 836 finished with values: [0.846153846153846, 0.0] and parameters: {'seed': 9697}. \u001b[0m\n",
      "\u001b[32m[I 2023-05-03 12:06:39,074]\u001b[0m Trial 834 finished with values: [0.5833333333333333, 0.06422384828329086] and parameters: {'seed': 9990}. \u001b[0m\n",
      "\u001b[32m[I 2023-05-03 12:06:39,568]\u001b[0m Trial 837 finished with values: [0.9166666666666666, 0.0] and parameters: {'seed': 9414}. \u001b[0m\n",
      "\u001b[32m[I 2023-05-03 12:06:39,769]\u001b[0m Trial 835 finished with values: [0.6153846153846154, 0.0] and parameters: {'seed': 9508}. \u001b[0m\n",
      "\u001b[32m[I 2023-05-03 12:06:39,904]\u001b[0m Trial 839 finished with values: [0.8333333333333333, 0.0536939799785614] and parameters: {'seed': 9455}. \u001b[0m\n",
      "\u001b[32m[I 2023-05-03 12:06:39,905]\u001b[0m Trial 841 finished with values: [0.9444444444444444, 0.0] and parameters: {'seed': 9431}. \u001b[0m\n",
      "\u001b[32m[I 2023-05-03 12:06:40,126]\u001b[0m Trial 842 finished with values: [0.8888888888888888, 0.05400124192237854] and parameters: {'seed': 9395}. \u001b[0m\n",
      "\u001b[32m[I 2023-05-03 12:06:40,220]\u001b[0m Trial 846 finished with values: [0.5555555555555555, 0.0] and parameters: {'seed': 9145}. \u001b[0m\n",
      "\u001b[32m[I 2023-05-03 12:06:40,318]\u001b[0m Trial 840 finished with values: [0.9615384615384616, 0.0] and parameters: {'seed': 9371}. \u001b[0m\n",
      "\u001b[32m[I 2023-05-03 12:06:40,386]\u001b[0m Trial 845 finished with values: [0.8461538461538461, 0.06041857227683067] and parameters: {'seed': 9399}. \u001b[0m\n",
      "\u001b[32m[I 2023-05-03 12:06:40,747]\u001b[0m Trial 844 finished with values: [0.8461538461538461, 0.16251051425933838] and parameters: {'seed': 9155}. \u001b[0m\n",
      "\u001b[32m[I 2023-05-03 12:06:40,977]\u001b[0m Trial 843 finished with values: [0.5769230769230769, 0.0] and parameters: {'seed': 9499}. \u001b[0m\n",
      "\u001b[32m[I 2023-05-03 12:06:41,032]\u001b[0m Trial 848 finished with values: [0.8461538461538461, 0.06692316383123398] and parameters: {'seed': 9520}. \u001b[0m\n",
      "\u001b[32m[I 2023-05-03 12:06:41,228]\u001b[0m Trial 850 finished with values: [0.9166666666666666, 0.3740358054637909] and parameters: {'seed': 9040}. \u001b[0m\n",
      "\u001b[32m[I 2023-05-03 12:06:41,229]\u001b[0m Trial 849 finished with values: [0.9615384615384616, 0.0] and parameters: {'seed': 9133}. \u001b[0m\n",
      "\u001b[32m[I 2023-05-03 12:06:41,672]\u001b[0m Trial 847 finished with values: [0.4861111111111111, 0.061845388263463974] and parameters: {'seed': 9132}. \u001b[0m\n",
      "\u001b[32m[I 2023-05-03 12:06:42,457]\u001b[0m Trial 851 finished with values: [0.7777777777777778, 0.11493441462516785] and parameters: {'seed': 8172}. \u001b[0m\n",
      "\u001b[32m[I 2023-05-03 12:06:43,019]\u001b[0m Trial 852 finished with values: [0.9230769230769231, 0.0] and parameters: {'seed': 8074}. \u001b[0m\n",
      "\u001b[32m[I 2023-05-03 12:06:43,495]\u001b[0m Trial 856 finished with values: [0.7777777777777778, 0.11493441462516785] and parameters: {'seed': 8172}. \u001b[0m\n",
      "\u001b[32m[I 2023-05-03 12:06:43,495]\u001b[0m Trial 853 finished with values: [0.5833333333333333, 0.0] and parameters: {'seed': 5392}. \u001b[0m\n",
      "\u001b[32m[I 2023-05-03 12:06:43,497]\u001b[0m Trial 858 finished with values: [0.6538461538461539, 0.0] and parameters: {'seed': 5450}. \u001b[0m\n",
      "\u001b[32m[I 2023-05-03 12:06:43,498]\u001b[0m Trial 857 finished with values: [0.9615384615384616, 0.0] and parameters: {'seed': 8109}. \u001b[0m\n",
      "\u001b[32m[I 2023-05-03 12:06:43,686]\u001b[0m Trial 855 finished with values: [0.7307692307692308, 0.10778934508562088] and parameters: {'seed': 7869}. \u001b[0m\n",
      "\u001b[32m[I 2023-05-03 12:06:44,175]\u001b[0m Trial 854 finished with values: [0.6346153846153846, 0.0] and parameters: {'seed': 8964}. \u001b[0m\n",
      "\u001b[32m[I 2023-05-03 12:06:44,178]\u001b[0m Trial 859 finished with values: [0.6923076923076923, 0.14263620972633362] and parameters: {'seed': 5200}. \u001b[0m\n",
      "\u001b[32m[I 2023-05-03 12:06:44,571]\u001b[0m Trial 861 finished with values: [0.5555555555555556, 0.2220790535211563] and parameters: {'seed': 9045}. \u001b[0m\n",
      "\u001b[32m[I 2023-05-03 12:06:44,594]\u001b[0m Trial 860 finished with values: [0.9230769230769231, 0.0732451006770134] and parameters: {'seed': 5596}. \u001b[0m\n",
      "\u001b[32m[I 2023-05-03 12:06:44,608]\u001b[0m Trial 862 finished with values: [0.7222222222222222, 0.22345055639743805] and parameters: {'seed': 5179}. \u001b[0m\n",
      "\u001b[32m[I 2023-05-03 12:06:44,840]\u001b[0m Trial 863 finished with values: [0.8611111111111112, 0.0] and parameters: {'seed': 5436}. \u001b[0m\n",
      "\u001b[32m[I 2023-05-03 12:06:45,012]\u001b[0m Trial 864 finished with values: [0.9166666666666666, 0.0] and parameters: {'seed': 8704}. \u001b[0m\n",
      "\u001b[32m[I 2023-05-03 12:06:45,056]\u001b[0m Trial 866 finished with values: [0.9230769230769231, 0.3194751739501953] and parameters: {'seed': 5268}. \u001b[0m\n",
      "\u001b[32m[I 2023-05-03 12:06:45,213]\u001b[0m Trial 867 finished with values: [0.8055555555555556, 0.08548427373170853] and parameters: {'seed': 8804}. \u001b[0m\n",
      "\u001b[32m[I 2023-05-03 12:06:46,512]\u001b[0m Trial 865 finished with values: [0.611111111111111, 0.16503910720348358] and parameters: {'seed': 8807}. \u001b[0m\n",
      "\u001b[32m[I 2023-05-03 12:06:47,217]\u001b[0m Trial 874 finished with values: [0.6153846153846154, 0.0] and parameters: {'seed': 8895}. \u001b[0m\n",
      "\u001b[32m[I 2023-05-03 12:06:47,217]\u001b[0m Trial 869 finished with values: [0.9230769230769231, 0.0744248777627945] and parameters: {'seed': 8823}. \u001b[0m\n",
      "\u001b[32m[I 2023-05-03 12:06:47,277]\u001b[0m Trial 872 finished with values: [0.5138888888888888, 0.0] and parameters: {'seed': 8876}. \u001b[0m\n",
      "\u001b[32m[I 2023-05-03 12:06:47,278]\u001b[0m Trial 871 finished with values: [0.6111111111111112, 0.07533526420593262] and parameters: {'seed': 8830}. \u001b[0m\n",
      "\u001b[32m[I 2023-05-03 12:06:48,096]\u001b[0m Trial 868 finished with values: [0.4615384615384615, 0.05040402710437775] and parameters: {'seed': 8993}. \u001b[0m\n",
      "\u001b[32m[I 2023-05-03 12:06:48,096]\u001b[0m Trial 873 finished with values: [0.7307692307692307, 0.0] and parameters: {'seed': 8843}. \u001b[0m\n",
      "\u001b[32m[I 2023-05-03 12:06:48,188]\u001b[0m Trial 870 finished with values: [0.8611111111111112, 0.3039713501930237] and parameters: {'seed': 8858}. \u001b[0m\n",
      "\u001b[32m[I 2023-05-03 12:06:48,188]\u001b[0m Trial 876 finished with values: [0.8461538461538461, 0.070646271109581] and parameters: {'seed': 8837}. \u001b[0m\n",
      "\u001b[32m[I 2023-05-03 12:06:48,238]\u001b[0m Trial 878 finished with values: [0.6346153846153846, 0.0] and parameters: {'seed': 8964}. \u001b[0m\n",
      "\u001b[32m[I 2023-05-03 12:06:48,392]\u001b[0m Trial 877 finished with values: [0.6923076923076923, 0.4572257697582245] and parameters: {'seed': 8872}. \u001b[0m\n",
      "\u001b[32m[I 2023-05-03 12:06:48,632]\u001b[0m Trial 879 finished with values: [0.7777777777777777, 0.0] and parameters: {'seed': 8933}. \u001b[0m\n",
      "\u001b[32m[I 2023-05-03 12:06:48,694]\u001b[0m Trial 882 finished with values: [0.888888888888889, 0.0] and parameters: {'seed': 8407}. \u001b[0m\n",
      "\u001b[32m[I 2023-05-03 12:06:49,074]\u001b[0m Trial 875 finished with values: [0.7692307692307692, 0.0] and parameters: {'seed': 8372}. \u001b[0m\n",
      "\u001b[32m[I 2023-05-03 12:06:49,273]\u001b[0m Trial 881 finished with values: [0.6944444444444444, 0.02276509441435337] and parameters: {'seed': 8384}. \u001b[0m\n",
      "\u001b[32m[I 2023-05-03 12:06:49,473]\u001b[0m Trial 880 finished with values: [0.6538461538461539, 0.11787150800228119] and parameters: {'seed': 8475}. \u001b[0m\n",
      "\u001b[32m[I 2023-05-03 12:06:50,306]\u001b[0m Trial 885 finished with values: [0.9444444444444444, 0.0] and parameters: {'seed': 8439}. \u001b[0m\n",
      "\u001b[32m[I 2023-05-03 12:06:50,307]\u001b[0m Trial 883 finished with values: [0.6944444444444444, 0.0] and parameters: {'seed': 7883}. \u001b[0m\n",
      "\u001b[32m[I 2023-05-03 12:06:50,379]\u001b[0m Trial 884 finished with values: [0.8055555555555555, 0.0] and parameters: {'seed': 8468}. \u001b[0m\n",
      "\u001b[32m[I 2023-05-03 12:06:51,014]\u001b[0m Trial 886 finished with values: [0.9722222222222222, 0.0] and parameters: {'seed': 3752}. \u001b[0m\n",
      "\u001b[32m[I 2023-05-03 12:06:51,244]\u001b[0m Trial 888 finished with values: [0.5, 0.0] and parameters: {'seed': 4176}. \u001b[0m\n",
      "\u001b[32m[I 2023-05-03 12:06:51,353]\u001b[0m Trial 891 finished with values: [0.6538461538461539, 0.11787150800228119] and parameters: {'seed': 4094}. \u001b[0m\n",
      "\u001b[32m[I 2023-05-03 12:06:51,826]\u001b[0m Trial 892 finished with values: [0.6944444444444444, 0.0] and parameters: {'seed': 4045}. \u001b[0m\n",
      "\u001b[32m[I 2023-05-03 12:06:51,863]\u001b[0m Trial 887 finished with values: [0.7307692307692307, 0.0] and parameters: {'seed': 5716}. \u001b[0m\n",
      "\u001b[32m[I 2023-05-03 12:06:51,949]\u001b[0m Trial 889 finished with values: [0.8055555555555556, 0.0] and parameters: {'seed': 9292}. \u001b[0m\n",
      "\u001b[32m[I 2023-05-03 12:06:52,287]\u001b[0m Trial 894 finished with values: [0.6923076923076923, 0.08201934397220612] and parameters: {'seed': 9198}. \u001b[0m\n",
      "\u001b[32m[I 2023-05-03 12:06:52,289]\u001b[0m Trial 895 finished with values: [0.5769230769230769, 0.04985107108950615] and parameters: {'seed': 5703}. \u001b[0m\n",
      "\u001b[32m[I 2023-05-03 12:06:52,295]\u001b[0m Trial 890 finished with values: [0.8461538461538461, 0.05996748059988022] and parameters: {'seed': 4057}. \u001b[0m\n",
      "\u001b[32m[I 2023-05-03 12:06:52,779]\u001b[0m Trial 893 finished with values: [1.0, 0.0] and parameters: {'seed': 9249}. \u001b[0m\n",
      "\u001b[32m[I 2023-05-03 12:06:53,273]\u001b[0m Trial 898 finished with values: [0.8076923076923077, 0.0] and parameters: {'seed': 5697}. \u001b[0m\n",
      "\u001b[32m[I 2023-05-03 12:06:53,312]\u001b[0m Trial 897 finished with values: [0.38888888888888884, 0.0] and parameters: {'seed': 5688}. \u001b[0m\n",
      "\u001b[32m[I 2023-05-03 12:06:53,605]\u001b[0m Trial 896 finished with values: [0.7692307692307692, 0.0] and parameters: {'seed': 9238}. \u001b[0m\n",
      "\u001b[32m[I 2023-05-03 12:06:53,896]\u001b[0m Trial 900 finished with values: [0.6805555555555555, 0.18435083329677582] and parameters: {'seed': 5016}. \u001b[0m\n",
      "\u001b[32m[I 2023-05-03 12:06:53,920]\u001b[0m Trial 899 finished with values: [0.6388888888888888, 0.0] and parameters: {'seed': 9210}. \u001b[0m\n",
      "\u001b[32m[I 2023-05-03 12:06:54,084]\u001b[0m Trial 901 finished with values: [1.0, 0.17926083505153656] and parameters: {'seed': 1386}. \u001b[0m\n",
      "\u001b[32m[I 2023-05-03 12:06:54,930]\u001b[0m Trial 902 finished with values: [0.6538461538461539, 0.0] and parameters: {'seed': 5071}. \u001b[0m\n",
      "\u001b[32m[I 2023-05-03 12:06:55,127]\u001b[0m Trial 906 finished with values: [0.30769230769230765, 0.13737060129642487] and parameters: {'seed': 1445}. \u001b[0m\n",
      "\u001b[32m[I 2023-05-03 12:06:55,208]\u001b[0m Trial 903 finished with values: [0.4444444444444444, 0.0] and parameters: {'seed': 5010}. \u001b[0m\n",
      "\u001b[32m[I 2023-05-03 12:06:55,209]\u001b[0m Trial 905 finished with values: [0.9230769230769231, 0.0] and parameters: {'seed': 3384}. \u001b[0m\n",
      "\u001b[32m[I 2023-05-03 12:06:55,368]\u001b[0m Trial 907 finished with values: [0.5769230769230769, 0.0] and parameters: {'seed': 1292}. \u001b[0m\n",
      "\u001b[32m[I 2023-05-03 12:06:55,603]\u001b[0m Trial 904 finished with values: [0.7777777777777777, 0.0555034764111042] and parameters: {'seed': 3257}. \u001b[0m\n",
      "\u001b[32m[I 2023-05-03 12:06:55,607]\u001b[0m Trial 908 finished with values: [0.5277777777777777, 0.46049484610557556] and parameters: {'seed': 3241}. \u001b[0m\n",
      "\u001b[32m[I 2023-05-03 12:06:56,167]\u001b[0m Trial 909 finished with values: [1.0, 0.15779289603233337] and parameters: {'seed': 8222}. \u001b[0m\n",
      "\u001b[32m[I 2023-05-03 12:06:56,688]\u001b[0m Trial 910 finished with values: [0.7307692307692308, 0.10160347819328308] and parameters: {'seed': 8255}. \u001b[0m\n",
      "\u001b[32m[I 2023-05-03 12:06:56,739]\u001b[0m Trial 912 finished with values: [1.0, 0.0] and parameters: {'seed': 8264}. \u001b[0m\n",
      "\u001b[32m[I 2023-05-03 12:06:56,969]\u001b[0m Trial 913 finished with values: [0.75, 0.0] and parameters: {'seed': 8192}. \u001b[0m\n",
      "\u001b[32m[I 2023-05-03 12:06:56,986]\u001b[0m Trial 914 finished with values: [0.6666666666666667, 0.07576077431440353] and parameters: {'seed': 8624}. \u001b[0m\n",
      "\u001b[32m[I 2023-05-03 12:06:57,117]\u001b[0m Trial 911 finished with values: [0.7777777777777778, 0.0] and parameters: {'seed': 9645}. \u001b[0m\n",
      "\u001b[32m[I 2023-05-03 12:06:57,403]\u001b[0m Trial 917 finished with values: [0.6666666666666667, 0.18186211585998535] and parameters: {'seed': 8210}. \u001b[0m\n",
      "\u001b[32m[I 2023-05-03 12:06:58,015]\u001b[0m Trial 915 finished with values: [0.7307692307692307, 0.0] and parameters: {'seed': 8655}. \u001b[0m\n",
      "\u001b[32m[I 2023-05-03 12:06:58,288]\u001b[0m Trial 916 finished with values: [0.6923076923076923, 0.0] and parameters: {'seed': 7962}. \u001b[0m\n",
      "\u001b[32m[I 2023-05-03 12:06:58,833]\u001b[0m Trial 919 finished with values: [0.6666666666666666, 0.0] and parameters: {'seed': 7900}. \u001b[0m\n",
      "\u001b[32m[I 2023-05-03 12:06:58,834]\u001b[0m Trial 921 finished with values: [1.0, 0.0] and parameters: {'seed': 9650}. \u001b[0m\n",
      "\u001b[32m[I 2023-05-03 12:06:58,877]\u001b[0m Trial 918 finished with values: [1.0, 0.0] and parameters: {'seed': 1984}. \u001b[0m\n",
      "\u001b[32m[I 2023-05-03 12:06:59,072]\u001b[0m Trial 920 finished with values: [0.6388888888888888, 0.0] and parameters: {'seed': 8680}. \u001b[0m\n",
      "\u001b[32m[I 2023-05-03 12:06:59,702]\u001b[0m Trial 923 finished with values: [0.5384615384615384, 0.0] and parameters: {'seed': 9077}. \u001b[0m\n",
      "\u001b[32m[I 2023-05-03 12:06:59,787]\u001b[0m Trial 925 finished with values: [0.846153846153846, 0.08498268574476242] and parameters: {'seed': 9098}. \u001b[0m\n",
      "\u001b[32m[I 2023-05-03 12:06:59,843]\u001b[0m Trial 922 finished with values: [0.8055555555555556, 0.0] and parameters: {'seed': 2266}. \u001b[0m\n",
      "\u001b[32m[I 2023-05-03 12:07:00,255]\u001b[0m Trial 924 finished with values: [0.8461538461538461, 0.0] and parameters: {'seed': 7920}. \u001b[0m\n",
      "\u001b[32m[I 2023-05-03 12:07:00,653]\u001b[0m Trial 927 finished with values: [0.8076923076923077, 0.0] and parameters: {'seed': 9072}. \u001b[0m\n",
      "\u001b[32m[I 2023-05-03 12:07:00,749]\u001b[0m Trial 930 finished with values: [0.7083333333333333, 0.0] and parameters: {'seed': 9035}. \u001b[0m\n",
      "\u001b[32m[I 2023-05-03 12:07:00,788]\u001b[0m Trial 931 finished with values: [0.9166666666666667, 0.0] and parameters: {'seed': 9141}. \u001b[0m\n",
      "\u001b[32m[I 2023-05-03 12:07:00,879]\u001b[0m Trial 928 finished with values: [0.7692307692307692, 0.09018059074878693] and parameters: {'seed': 9120}. \u001b[0m\n",
      "\u001b[32m[I 2023-05-03 12:07:00,907]\u001b[0m Trial 929 finished with values: [0.6666666666666666, 0.0] and parameters: {'seed': 7852}. \u001b[0m\n",
      "\u001b[32m[I 2023-05-03 12:07:01,127]\u001b[0m Trial 926 finished with values: [0.6923076923076923, 0.0] and parameters: {'seed': 7774}. \u001b[0m\n",
      "\u001b[32m[I 2023-05-03 12:07:01,303]\u001b[0m Trial 932 finished with values: [0.846153846153846, 0.09319532662630081] and parameters: {'seed': 7502}. \u001b[0m\n",
      "\u001b[32m[I 2023-05-03 12:07:01,412]\u001b[0m Trial 933 finished with values: [0.6944444444444444, 0.12093038111925125] and parameters: {'seed': 2307}. \u001b[0m\n",
      "\u001b[32m[I 2023-05-03 12:07:02,714]\u001b[0m Trial 934 finished with values: [0.5, 0.08472398668527603] and parameters: {'seed': 4500}. \u001b[0m\n",
      "\u001b[32m[I 2023-05-03 12:07:03,416]\u001b[0m Trial 936 finished with values: [0.2692307692307692, 0.0] and parameters: {'seed': 8669}. \u001b[0m\n",
      "\u001b[32m[I 2023-05-03 12:07:03,737]\u001b[0m Trial 937 finished with values: [0.9615384615384616, 0.0] and parameters: {'seed': 9371}. \u001b[0m\n",
      "\u001b[32m[I 2023-05-03 12:07:03,738]\u001b[0m Trial 935 finished with values: [0.6153846153846154, 0.0] and parameters: {'seed': 8638}. \u001b[0m\n",
      "\u001b[32m[I 2023-05-03 12:07:04,348]\u001b[0m Trial 939 finished with values: [0.8461538461538461, 0.023933108896017075] and parameters: {'seed': 8650}. \u001b[0m\n",
      "\u001b[32m[I 2023-05-03 12:07:04,349]\u001b[0m Trial 941 finished with values: [0.6538461538461539, 0.0] and parameters: {'seed': 3652}. \u001b[0m\n",
      "\u001b[32m[I 2023-05-03 12:07:04,349]\u001b[0m Trial 938 finished with values: [0.11538461538461536, 0.0] and parameters: {'seed': 1661}. \u001b[0m\n",
      "\u001b[32m[I 2023-05-03 12:07:04,456]\u001b[0m Trial 942 finished with values: [0.7222222222222221, 0.0] and parameters: {'seed': 8673}. \u001b[0m\n",
      "\u001b[32m[I 2023-05-03 12:07:04,569]\u001b[0m Trial 945 finished with values: [0.5384615384615384, 0.0] and parameters: {'seed': 8594}. \u001b[0m\n",
      "\u001b[32m[I 2023-05-03 12:07:04,570]\u001b[0m Trial 944 finished with values: [0.8055555555555556, 0.11452627927064896] and parameters: {'seed': 8665}. \u001b[0m\n",
      "\u001b[32m[I 2023-05-03 12:07:04,572]\u001b[0m Trial 940 finished with values: [0.9722222222222222, 0.0825735405087471] and parameters: {'seed': 9423}. \u001b[0m\n",
      "\u001b[32m[I 2023-05-03 12:07:04,896]\u001b[0m Trial 943 finished with values: [0.7884615384615384, 0.0] and parameters: {'seed': 2747}. \u001b[0m\n",
      "\u001b[32m[I 2023-05-03 12:07:05,101]\u001b[0m Trial 948 finished with values: [0.9230769230769231, 0.16797474026679993] and parameters: {'seed': 2724}. \u001b[0m\n",
      "\u001b[32m[I 2023-05-03 12:07:05,114]\u001b[0m Trial 946 finished with values: [0.9230769230769231, 0.2984904944896698] and parameters: {'seed': 1656}. \u001b[0m\n",
      "\u001b[32m[I 2023-05-03 12:07:05,221]\u001b[0m Trial 947 finished with values: [0.8076923076923077, 0.0] and parameters: {'seed': 2651}. \u001b[0m\n",
      "\u001b[32m[I 2023-05-03 12:07:05,357]\u001b[0m Trial 949 finished with values: [0.4722222222222222, 0.0] and parameters: {'seed': 2768}. \u001b[0m\n",
      "\u001b[32m[I 2023-05-03 12:07:07,699]\u001b[0m Trial 950 finished with values: [0.6388888888888888, 0.0] and parameters: {'seed': 8390}. \u001b[0m\n",
      "\u001b[32m[I 2023-05-03 12:07:08,136]\u001b[0m Trial 951 finished with values: [0.7692307692307692, 0.0] and parameters: {'seed': 9714}. \u001b[0m\n",
      "\u001b[32m[I 2023-05-03 12:07:08,438]\u001b[0m Trial 953 finished with values: [0.4230769230769231, 0.0] and parameters: {'seed': 4763}. \u001b[0m\n",
      "\u001b[32m[I 2023-05-03 12:07:08,439]\u001b[0m Trial 958 finished with values: [1.0, 0.10045281052589417] and parameters: {'seed': 4318}. \u001b[0m\n",
      "\u001b[32m[I 2023-05-03 12:07:08,439]\u001b[0m Trial 952 finished with values: [0.8846153846153846, 0.0] and parameters: {'seed': 9682}. \u001b[0m\n",
      "\u001b[32m[I 2023-05-03 12:07:08,440]\u001b[0m Trial 954 finished with values: [0.846153846153846, 0.0] and parameters: {'seed': 9705}. \u001b[0m\n",
      "\u001b[32m[I 2023-05-03 12:07:08,747]\u001b[0m Trial 960 finished with values: [0.7692307692307692, 0.0] and parameters: {'seed': 4614}. \u001b[0m\n",
      "\u001b[32m[I 2023-05-03 12:07:08,747]\u001b[0m Trial 959 finished with values: [0.8333333333333334, 0.06731276959180832] and parameters: {'seed': 9683}. \u001b[0m\n",
      "\u001b[32m[I 2023-05-03 12:07:08,748]\u001b[0m Trial 957 finished with values: [0.5555555555555556, 0.0] and parameters: {'seed': 9823}. \u001b[0m\n",
      "\u001b[32m[I 2023-05-03 12:07:08,814]\u001b[0m Trial 956 finished with values: [0.6666666666666667, 0.0] and parameters: {'seed': 4648}. \u001b[0m\n",
      "\u001b[32m[I 2023-05-03 12:07:08,815]\u001b[0m Trial 961 finished with values: [0.9615384615384616, 0.12335773557424545] and parameters: {'seed': 1128}. \u001b[0m\n",
      "\u001b[32m[I 2023-05-03 12:07:08,967]\u001b[0m Trial 955 finished with values: [0.7777777777777777, 0.06363561004400253] and parameters: {'seed': 5307}. \u001b[0m\n",
      "\u001b[32m[I 2023-05-03 12:07:09,099]\u001b[0m Trial 963 finished with values: [0.7692307692307692, 0.08702017366886139] and parameters: {'seed': 9769}. \u001b[0m\n",
      "\u001b[32m[I 2023-05-03 12:07:09,253]\u001b[0m Trial 962 finished with values: [0.9230769230769231, 0.0] and parameters: {'seed': 8040}. \u001b[0m\n",
      "\u001b[32m[I 2023-05-03 12:07:09,706]\u001b[0m Trial 965 finished with values: [0.8611111111111112, 0.0] and parameters: {'seed': 4638}. \u001b[0m\n",
      "\u001b[32m[I 2023-05-03 12:07:10,686]\u001b[0m Trial 964 finished with values: [0.9230769230769231, 0.0] and parameters: {'seed': 1123}. \u001b[0m\n",
      "\u001b[32m[I 2023-05-03 12:07:11,555]\u001b[0m Trial 970 finished with values: [0.75, 0.0] and parameters: {'seed': 7646}. \u001b[0m\n",
      "\u001b[32m[I 2023-05-03 12:07:11,618]\u001b[0m Trial 969 finished with values: [0.7222222222222222, 0.0] and parameters: {'seed': 792}. \u001b[0m\n",
      "\u001b[32m[I 2023-05-03 12:07:11,741]\u001b[0m Trial 971 finished with values: [0.7638888888888888, 0.0] and parameters: {'seed': 7689}. \u001b[0m\n",
      "\u001b[32m[I 2023-05-03 12:07:11,863]\u001b[0m Trial 966 finished with values: [0.75, 0.18236739933490753] and parameters: {'seed': 8952}. \u001b[0m\n",
      "\u001b[32m[I 2023-05-03 12:07:12,000]\u001b[0m Trial 967 finished with values: [0.3055555555555556, 0.0] and parameters: {'seed': 7552}. \u001b[0m\n",
      "\u001b[32m[I 2023-05-03 12:07:12,061]\u001b[0m Trial 968 finished with values: [0.6923076923076923, 0.0] and parameters: {'seed': 7714}. \u001b[0m\n",
      "\u001b[32m[I 2023-05-03 12:07:12,062]\u001b[0m Trial 973 finished with values: [0.6153846153846154, 0.0] and parameters: {'seed': 7415}. \u001b[0m\n",
      "\u001b[32m[I 2023-05-03 12:07:12,151]\u001b[0m Trial 974 finished with values: [0.5277777777777778, 0.246394082903862] and parameters: {'seed': 832}. \u001b[0m\n",
      "\u001b[32m[I 2023-05-03 12:07:12,768]\u001b[0m Trial 972 finished with values: [0.8611111111111112, 0.12964457273483276] and parameters: {'seed': 8381}. \u001b[0m\n",
      "\u001b[32m[I 2023-05-03 12:07:12,958]\u001b[0m Trial 975 finished with values: [0.888888888888889, 0.0799776092171669] and parameters: {'seed': 9343}. \u001b[0m\n",
      "\u001b[32m[I 2023-05-03 12:07:13,120]\u001b[0m Trial 976 finished with values: [0.6944444444444444, 0.03657247871160507] and parameters: {'seed': 9313}. \u001b[0m\n",
      "\u001b[32m[I 2023-05-03 12:07:13,314]\u001b[0m Trial 979 finished with values: [0.7222222222222222, 0.0] and parameters: {'seed': 793}. \u001b[0m\n",
      "\u001b[32m[I 2023-05-03 12:07:13,693]\u001b[0m Trial 977 finished with values: [0.8461538461538461, 0.0] and parameters: {'seed': 7398}. \u001b[0m\n",
      "\u001b[32m[I 2023-05-03 12:07:13,936]\u001b[0m Trial 978 finished with values: [0.7222222222222222, 0.0] and parameters: {'seed': 844}. \u001b[0m\n",
      "\u001b[32m[I 2023-05-03 12:07:14,276]\u001b[0m Trial 980 finished with values: [0.7692307692307692, 0.0] and parameters: {'seed': 8372}. \u001b[0m\n",
      "\u001b[32m[I 2023-05-03 12:07:14,714]\u001b[0m Trial 981 finished with values: [0.6388888888888888, 0.11764117330312729] and parameters: {'seed': 9255}. \u001b[0m\n",
      "\u001b[32m[I 2023-05-03 12:07:15,046]\u001b[0m Trial 983 finished with values: [0.8461538461538461, 0.0] and parameters: {'seed': 8038}. \u001b[0m\n",
      "\u001b[32m[I 2023-05-03 12:07:15,073]\u001b[0m Trial 988 finished with values: [1.0, 0.0] and parameters: {'seed': 3518}. \u001b[0m\n",
      "\u001b[32m[I 2023-05-03 12:07:15,110]\u001b[0m Trial 985 finished with values: [0.9230769230769231, 0.0] and parameters: {'seed': 3547}. \u001b[0m\n",
      "\u001b[32m[I 2023-05-03 12:07:15,361]\u001b[0m Trial 986 finished with values: [0.6666666666666666, 0.0] and parameters: {'seed': 8458}. \u001b[0m\n",
      "\u001b[32m[I 2023-05-03 12:07:15,443]\u001b[0m Trial 982 finished with values: [0.8611111111111112, 0.0] and parameters: {'seed': 8055}. \u001b[0m\n",
      "\u001b[32m[I 2023-05-03 12:07:15,774]\u001b[0m Trial 987 finished with values: [0.8076923076923077, 0.0] and parameters: {'seed': 8094}. \u001b[0m\n",
      "\u001b[32m[I 2023-05-03 12:07:15,827]\u001b[0m Trial 984 finished with values: [0.7777777777777779, 0.11741328239440918] and parameters: {'seed': 8059}. \u001b[0m\n",
      "\u001b[32m[I 2023-05-03 12:07:15,970]\u001b[0m Trial 989 finished with values: [0.6111111111111112, 0.0] and parameters: {'seed': 8164}. \u001b[0m\n",
      "\u001b[32m[I 2023-05-03 12:07:16,562]\u001b[0m Trial 992 finished with values: [0.7500000000000001, 0.0] and parameters: {'seed': 8966}. \u001b[0m\n",
      "\u001b[32m[I 2023-05-03 12:07:16,562]\u001b[0m Trial 991 finished with values: [0.6666666666666666, 0.0] and parameters: {'seed': 3040}. \u001b[0m\n",
      "\u001b[32m[I 2023-05-03 12:07:16,564]\u001b[0m Trial 993 finished with values: [0.423076923076923, 0.10793156176805496] and parameters: {'seed': 8167}. \u001b[0m\n",
      "\u001b[32m[I 2023-05-03 12:07:16,690]\u001b[0m Trial 990 finished with values: [0.9615384615384616, 0.0] and parameters: {'seed': 5853}. \u001b[0m\n",
      "\u001b[32m[I 2023-05-03 12:07:16,730]\u001b[0m Trial 995 finished with values: [0.7777777777777777, 0.0] and parameters: {'seed': 9001}. \u001b[0m\n",
      "\u001b[32m[I 2023-05-03 12:07:17,286]\u001b[0m Trial 997 finished with values: [0.9166666666666667, 0.035726409405469894] and parameters: {'seed': 9005}. \u001b[0m\n",
      "\u001b[32m[I 2023-05-03 12:07:17,318]\u001b[0m Trial 994 finished with values: [0.888888888888889, 0.0] and parameters: {'seed': 8893}. \u001b[0m\n",
      "\u001b[32m[I 2023-05-03 12:07:17,409]\u001b[0m Trial 999 finished with values: [0.8461538461538461, 0.0] and parameters: {'seed': 8919}. \u001b[0m\n",
      "\u001b[32m[I 2023-05-03 12:07:17,433]\u001b[0m Trial 996 finished with values: [0.9615384615384616, 0.0] and parameters: {'seed': 5846}. \u001b[0m\n",
      "\u001b[32m[I 2023-05-03 12:07:17,528]\u001b[0m Trial 998 finished with values: [0.8055555555555556, 0.0] and parameters: {'seed': 9047}. \u001b[0m\n"
     ]
    }
   ],
   "source": [
    "import optuna\n",
    "study_name: str = \"alejandro_6\"\n",
    "\n",
    "study = optuna.create_study(\n",
    "    study_name=study_name,\n",
    "    storage=\"sqlite:///homa_studies.db\",\n",
    "    directions=[\"maximize\", \"maximize\"],\n",
    "    sampler=optuna.samplers.TPESampler(), # NSGAIISampler(),\n",
    "    # sampler=optuna.samplers.NSGAIISampler(), # NSGAIISampler(),\n",
    "    load_if_exists=True,\n",
    ")\n",
    "\n",
    "study.optimize(objective, n_trials=1_000, n_jobs=-1)\n",
    "# Sampling may take a long time. Other samples are faster but tend to be hiperfixed and thus generate repeated results. \n"
   ]
  },
  {
   "cell_type": "code",
   "execution_count": 39,
   "metadata": {},
   "outputs": [
    {
     "data": {
      "application/vnd.plotly.v1+json": {
       "config": {
        "plotlyServerURL": "https://plot.ly"
       },
       "data": [
        {
         "marker": {
          "line": {
           "color": "black",
           "width": 1
          },
          "opacity": 0.5,
          "size": 8,
          "symbol": "circle"
         },
         "mode": "markers",
         "name": "Suboptimal",
         "type": "scatter",
         "x": [
          0.875,
          0.6153846153846154,
          0.6666666666666666,
          0.6666666666666666,
          0.8846153846153846,
          1,
          0.8846153846153846,
          0.6666666666666666,
          0.6923076923076923,
          1,
          0.5555555555555556,
          0.8611111111111112,
          0.6153846153846154,
          0.8076923076923077,
          0.9615384615384616,
          0.7777777777777779,
          0.6666666666666666,
          0.8846153846153846,
          0.9230769230769231,
          0.8055555555555555,
          1,
          0.8055555555555555,
          0.8076923076923077,
          0.3888888888888889,
          0.7222222222222222,
          0.75,
          0.6538461538461539,
          0.6923076923076923,
          0.5769230769230769,
          0.9615384615384616,
          0.638888888888889,
          0.6153846153846154,
          0.33333333333333337,
          0.9444444444444444,
          0.7307692307692307,
          1,
          0.9722222222222222,
          0.6111111111111112,
          0.6153846153846154,
          1,
          0.8333333333333334,
          0.9230769230769231,
          0.8461538461538461,
          0.9230769230769231,
          0.7638888888888888,
          0.5769230769230769,
          0.5,
          0.8611111111111112,
          0.846153846153846,
          0.8055555555555556,
          0.7222222222222222,
          0.7692307692307692,
          0.8846153846153846,
          0.9615384615384616,
          0.6923076923076923,
          0.7222222222222222,
          0.7692307692307692,
          0.9230769230769231,
          0.6538461538461539,
          0.9166666666666667,
          0.8611111111111112,
          1,
          0.888888888888889,
          0.46153846153846156,
          0.6538461538461539,
          0.6923076923076923,
          0.7222222222222223,
          0.6666666666666666,
          0.9444444444444445,
          0.7307692307692307,
          0.75,
          1,
          0.6923076923076923,
          0.8461538461538461,
          0.5576923076923077,
          0.6538461538461539,
          0.5,
          0.9166666666666667,
          1,
          0.611111111111111,
          0.3888888888888889,
          0.8076923076923077,
          0.8846153846153846,
          0.7307692307692307,
          0.3333333333333333,
          0.7777777777777778,
          0.7361111111111112,
          0.36111111111111116,
          0.9230769230769231,
          0.5555555555555556,
          1,
          0.6527777777777777,
          0.9230769230769231,
          0.6666666666666666,
          0.8055555555555556,
          1,
          0.9230769230769231,
          0.7499999999999999,
          0.8611111111111112,
          0.8055555555555556,
          0.625,
          0.6111111111111112,
          0.7307692307692308,
          0.9230769230769231,
          1,
          0.6923076923076923,
          0.3333333333333333,
          0.8846153846153846,
          0.8055555555555557,
          0.7777777777777778,
          0.7692307692307692,
          0.6538461538461539,
          0.6923076923076923,
          0.7692307692307692,
          0.46153846153846156,
          0.75,
          0.8461538461538461,
          0.9615384615384616,
          1,
          0.3846153846153846,
          0.5694444444444444,
          0.8333333333333333,
          0.7499999999999999,
          0.6538461538461539,
          0.7222222222222222,
          0.6153846153846154,
          1,
          0.9230769230769231,
          0.8055555555555555,
          0.7777777777777779,
          0.6666666666666666,
          0.5384615384615384,
          1,
          0.5,
          0.9615384615384616,
          0.6538461538461539,
          0.7307692307692308,
          0.8076923076923077,
          0.5384615384615384,
          0.7222222222222222,
          0.6923076923076923,
          0.9230769230769231,
          0.611111111111111,
          0.888888888888889,
          0.6538461538461539,
          0.8846153846153846,
          0.6923076923076923,
          0.7777777777777778,
          1,
          0.7692307692307692,
          0.9230769230769231,
          0.8461538461538461,
          0.5833333333333333,
          0.8076923076923077,
          0.4722222222222222,
          0.8055555555555555,
          0.5555555555555556,
          0.6923076923076923,
          0.8461538461538461,
          0.8333333333333334,
          0.7638888888888888,
          1,
          1,
          0.8055555555555556,
          0.7222222222222222,
          0.8461538461538461,
          0.7777777777777779,
          0.9722222222222222,
          0.8846153846153846,
          0.6923076923076923,
          0.9166666666666666,
          0.8333333333333334,
          0.5,
          0.9230769230769231,
          0.7916666666666667,
          1,
          0.8076923076923077,
          0.6666666666666666,
          0.7361111111111112,
          0.5277777777777778,
          0.7692307692307693,
          0.5384615384615384,
          0.6388888888888888,
          0.9444444444444445,
          0.6666666666666667,
          0.38888888888888884,
          0.8333333333333333,
          1,
          0.9230769230769231,
          0.8333333333333333,
          0.8461538461538461,
          0.6153846153846154,
          0.5384615384615384,
          0.7115384615384616,
          0.8461538461538461,
          0.7083333333333333,
          0.7692307692307692,
          0.7307692307692307,
          0.888888888888889,
          0.6388888888888888,
          0.6538461538461539,
          0.9615384615384616,
          0.7307692307692307,
          0.5833333333333333,
          0.8055555555555556,
          0.5555555555555556,
          1,
          0.7307692307692307,
          0.7307692307692307,
          0.4230769230769231,
          1,
          0.6538461538461539,
          0.9444444444444444,
          0.8888888888888888,
          0.8076923076923076,
          0.8611111111111112,
          1,
          0.7692307692307692,
          0.7777777777777778,
          0.8461538461538461,
          0.9722222222222222,
          0.8333333333333334,
          0.6666666666666667,
          0.7692307692307692,
          0.8461538461538461,
          0.9230769230769231,
          0.46153846153846156,
          0.7307692307692308,
          0.23076923076923073,
          0.8461538461538461,
          0.8055555555555556,
          0.9615384615384616,
          0.6666666666666666,
          0.7692307692307692,
          0.5416666666666667,
          0.6944444444444444,
          0.6923076923076923,
          1,
          0.6538461538461539,
          0.5,
          0.8055555555555555,
          0.5769230769230769,
          0.8333333333333333,
          0.888888888888889,
          0.3055555555555555,
          0.6153846153846154,
          0.6538461538461539,
          0.888888888888889,
          0.6666666666666667,
          0.8333333333333334,
          0.23076923076923078,
          0.6153846153846154,
          0.8194444444444444,
          0.9166666666666666,
          0.7692307692307692,
          0.923076923076923,
          0.8055555555555555,
          0.4230769230769231,
          0.6538461538461539,
          0.4423076923076923,
          0.6538461538461539,
          0.7777777777777778,
          0.6153846153846154,
          0.8846153846153846,
          0.7777777777777778,
          0.7307692307692307,
          0.7692307692307692,
          0.6153846153846154,
          0.6538461538461539,
          0.8846153846153847,
          0.6666666666666667,
          0.75,
          0.9166666666666666,
          0.8076923076923077,
          1,
          0.6923076923076923,
          0.7307692307692308,
          1,
          0.8076923076923077,
          0.8461538461538461,
          0.9230769230769231,
          0.9230769230769231,
          0.8076923076923077,
          0.75,
          0.6153846153846154,
          0.6666666666666666,
          0.8333333333333334,
          0.7692307692307693,
          0.46153846153846156,
          0.7777777777777778,
          0.8846153846153846,
          0.8055555555555556,
          0.9444444444444444,
          0.6527777777777777,
          0.846153846153846,
          0.75,
          0.5,
          1,
          0.9230769230769231,
          0.6944444444444445,
          0.7222222222222223,
          0.6923076923076923,
          0.8611111111111112,
          0.34615384615384615,
          1,
          0.75,
          0.6111111111111112,
          1,
          0.75,
          0.8888888888888888,
          0.46153846153846156,
          0.875,
          0.6923076923076923,
          0.8846153846153846,
          0.8333333333333333,
          0.6111111111111112,
          0.6944444444444444,
          0.6944444444444444,
          0.5,
          0.6805555555555556,
          0.8611111111111112,
          0.5555555555555556,
          0.6153846153846154,
          0.8846153846153846,
          0.75,
          0.8846153846153846,
          0.9230769230769231,
          1,
          0.6805555555555556,
          0.6923076923076923,
          1,
          0.8846153846153847,
          0.8611111111111112,
          0.4722222222222222,
          0.9166666666666666,
          0.8055555555555556,
          0.5416666666666666,
          0.8888888888888888,
          0.6388888888888888,
          0.8055555555555556,
          0.5555555555555556,
          0.8461538461538461,
          1,
          0.9615384615384616,
          0.7307692307692307,
          0.846153846153846,
          0.6388888888888888,
          0.8055555555555555,
          0.9615384615384616,
          0.8461538461538461,
          1,
          0.5833333333333333,
          0.7692307692307692,
          0.8461538461538461,
          0.625,
          0.6805555555555556,
          0.8461538461538461,
          0.8055555555555556,
          0.6388888888888888,
          0.8333333333333333,
          0.5384615384615384,
          0.5,
          0.7222222222222222,
          0.9444444444444444,
          0.8846153846153846,
          0.8846153846153846,
          0.7692307692307692,
          0.7307692307692308,
          0.6153846153846154,
          0.8055555555555556,
          0.6944444444444444,
          0.9166666666666666,
          0.9230769230769231,
          0.8461538461538461,
          0.8653846153846154,
          0.8461538461538461,
          0.6538461538461539,
          0.5769230769230769,
          0.6388888888888888,
          0.8076923076923077,
          0.7777777777777778,
          0.9615384615384616,
          0.8846153846153846,
          0.7222222222222222,
          0.6153846153846154,
          0.7777777777777779,
          0.6944444444444444,
          0.6805555555555556,
          0.861111111111111,
          0.7361111111111112,
          0.7692307692307693,
          0.5277777777777777,
          0.8076923076923077,
          0.4230769230769231,
          0.6944444444444444,
          0.7692307692307692,
          0.9166666666666667,
          0.6153846153846154,
          0.9230769230769231,
          0.5,
          0.6388888888888888,
          0.9615384615384616,
          0.5277777777777778,
          0.5972222222222222,
          0.6666666666666667,
          0.8611111111111112,
          0.5384615384615384,
          0.9230769230769231,
          0.6944444444444444,
          0.7692307692307692,
          0.7307692307692307,
          0.6944444444444444,
          0.7307692307692307,
          0.9230769230769231,
          0.34615384615384615,
          0.9166666666666667,
          0.7222222222222222,
          0.5833333333333334,
          1,
          0.4615384615384615,
          0.5769230769230769,
          0.75,
          0.7777777777777778,
          0.4615384615384615,
          0.75,
          0.5972222222222221,
          0.5833333333333333,
          0.7692307692307693,
          0.75,
          0.9230769230769231,
          0.9166666666666667,
          0.638888888888889,
          0.5555555555555556,
          0.4861111111111111,
          0.888888888888889,
          0.9166666666666666,
          0.5555555555555556,
          0.7692307692307693,
          0.7307692307692307,
          0.7638888888888888,
          0.6538461538461539,
          0.6153846153846154,
          0.861111111111111,
          0.6944444444444445,
          0.8846153846153846,
          0.8076923076923077,
          0.6923076923076923,
          0.4444444444444444,
          0.9230769230769231,
          0.8333333333333334,
          0.6111111111111112,
          0.4722222222222222,
          0.6153846153846154,
          0.8333333333333334,
          0.6111111111111112,
          0.6388888888888888,
          0.5192307692307692,
          0.7222222222222223,
          0.9166666666666667,
          0.7692307692307693,
          0.6388888888888888,
          0.888888888888889,
          0.6153846153846154,
          0.888888888888889,
          0.8846153846153846,
          0.5,
          1,
          0.5833333333333333,
          0.6538461538461539,
          0.46153846153846145,
          0.34615384615384615,
          0.9038461538461539,
          0.7777777777777778,
          0.7307692307692307,
          0.8076923076923077,
          0.5277777777777777,
          0.41666666666666663,
          0.5833333333333333,
          0.7307692307692307,
          0.8076923076923077,
          0.5,
          0.9166666666666666,
          0.6666666666666667,
          0.7777777777777778,
          0.9230769230769231,
          0.7777777777777778,
          0.888888888888889,
          0.8461538461538461,
          0.6666666666666666,
          0.8333333333333333,
          0.4722222222222222,
          0.8333333333333334,
          0.846153846153846,
          0.923076923076923,
          0.6923076923076923,
          0.8055555555555556,
          0.7499999999999999,
          0.7692307692307692,
          0.8611111111111112,
          0.46153846153846156,
          1,
          0.8461538461538461,
          0.7777777777777779,
          0.8055555555555556,
          0.6346153846153846,
          0.7307692307692307,
          0.75,
          0.6388888888888888,
          0.8846153846153846,
          0.6527777777777778,
          0.8461538461538461,
          0.7222222222222222,
          0.7222222222222222,
          0.6153846153846154,
          0.7222222222222222,
          0.7222222222222222,
          0.8076923076923076,
          0.9230769230769231,
          0.6538461538461539,
          0.9166666666666667,
          0.6923076923076923,
          0.5833333333333333,
          0.9615384615384616,
          0.7307692307692307,
          0.7692307692307693,
          0.8846153846153846,
          0.7638888888888888,
          0.9230769230769231,
          0.8846153846153846,
          0.8611111111111112,
          0.7307692307692308,
          0.2692307692307692,
          0.7777777777777777,
          0.9230769230769231,
          0.5277777777777778,
          0.5555555555555556,
          0.8076923076923077,
          0.6944444444444444,
          0.6923076923076923,
          0.75,
          0.6923076923076923,
          1,
          0.6730769230769231,
          0.7307692307692308,
          0.8846153846153846,
          0.6666666666666666,
          0.9615384615384616,
          0.6923076923076923,
          0.6538461538461539,
          0.8846153846153846,
          0.9722222222222222,
          0.5,
          0.7222222222222223,
          0.6944444444444444,
          0.8846153846153846,
          0.6153846153846154,
          0.9230769230769231,
          0.8846153846153846,
          0.38888888888888884,
          0.8055555555555556,
          0.5833333333333334,
          0.6538461538461539,
          0.923076923076923,
          0.6944444444444445,
          0.3611111111111111,
          0.6111111111111112,
          0.9230769230769231,
          0.7222222222222222,
          0.9230769230769231,
          0.1923076923076923,
          0.6153846153846154,
          0.5,
          0.8333333333333334,
          0.923076923076923,
          0.9166666666666667,
          0.8461538461538461,
          0.8333333333333333,
          0.6923076923076923,
          0.3888888888888889,
          0.9444444444444444,
          0.7692307692307692,
          0.8333333333333334,
          0.7499999999999999,
          0.75,
          0.8076923076923077,
          0.5769230769230769,
          0.8076923076923077,
          0.7692307692307693,
          0.9230769230769231,
          0.5,
          0.6923076923076923,
          0.6388888888888888,
          0.8461538461538461,
          0.6111111111111112,
          0.5384615384615384,
          0.5,
          0.6153846153846154,
          0.846153846153846,
          0.8611111111111112,
          0.7307692307692308,
          0.5384615384615384,
          0.6666666666666667,
          0.8611111111111112,
          0.8611111111111112,
          1,
          0.888888888888889,
          0.8846153846153846,
          0.6923076923076923,
          0.5384615384615384,
          0.6388888888888888,
          0.5769230769230769,
          0.8611111111111112,
          0.8846153846153846,
          0.6153846153846154,
          0.6153846153846154,
          0.625,
          0.7777777777777778,
          0.8333333333333334,
          0.4444444444444444,
          0.8076923076923077,
          0.7692307692307693,
          0.3846153846153846,
          0.8076923076923077,
          0.2692307692307692,
          1,
          0.9722222222222222,
          0.6111111111111112,
          0.8461538461538461,
          0.5277777777777777,
          0.6923076923076923,
          0.9615384615384616,
          0.8846153846153846,
          0.6153846153846154,
          0.9615384615384616,
          0.7777777777777778,
          0.7692307692307692,
          0.7692307692307693,
          0.6388888888888888,
          0.75,
          0.6153846153846154,
          0.6538461538461539,
          0.75,
          0.7222222222222222,
          0.5769230769230769,
          0.45833333333333337,
          0.75,
          0.8076923076923077,
          0.5192307692307692,
          0.888888888888889,
          0.8194444444444444,
          0.5555555555555556,
          0.5384615384615384,
          0.7222222222222222,
          0.6153846153846154,
          0.9230769230769231,
          0.5277777777777778,
          0.6923076923076923,
          0.75,
          0.5555555555555556,
          0.625,
          0.3846153846153846,
          0.8846153846153846,
          0.7115384615384616,
          0.6538461538461539,
          0.6923076923076923,
          0.7361111111111112,
          0.5833333333333334,
          0.846153846153846,
          0.875,
          0.9615384615384615,
          0.7638888888888888,
          0.6923076923076923,
          0.34615384615384615,
          0.611111111111111,
          0.6944444444444444,
          0.6538461538461539,
          0.8076923076923076,
          0.7307692307692308,
          0.8076923076923077,
          0.8846153846153846,
          0.8461538461538461,
          0.4305555555555556,
          0.8076923076923077,
          0.9166666666666666,
          0.7222222222222222,
          0.8333333333333334,
          0.5,
          0.9230769230769231,
          0.9615384615384615,
          0.7692307692307692,
          0.5138888888888888,
          0.9615384615384616,
          0.5138888888888888,
          0.5769230769230769,
          0.5,
          0.6944444444444444,
          0.7222222222222222,
          0.6666666666666666,
          0.38888888888888884,
          0.7222222222222222,
          0.8333333333333334,
          1,
          0.9444444444444444,
          0.7692307692307693,
          0.6538461538461539,
          0.9444444444444444,
          0.9444444444444444,
          0.5833333333333333,
          0.38461538461538464,
          0.75,
          0.7222222222222222,
          0.6388888888888888,
          0.888888888888889,
          0.8333333333333333,
          0.7222222222222222,
          0.3611111111111111,
          0.7307692307692307,
          0.8076923076923077,
          0.5769230769230769,
          0.5416666666666667,
          0.9615384615384616,
          0.3611111111111111,
          0.6923076923076923,
          0.3055555555555555,
          0.5,
          0.5769230769230769,
          0.6388888888888888,
          0.7692307692307693,
          0.8055555555555555,
          0.41666666666666663,
          0.8846153846153846,
          0.6538461538461539,
          0.6730769230769231,
          0.9615384615384616,
          0.5833333333333334,
          0.7692307692307693,
          0.6923076923076923,
          0.5138888888888888,
          0.9722222222222222,
          0.8055555555555556,
          0.4722222222222222,
          0.6111111111111112,
          0.8888888888888888,
          0.8333333333333333,
          0.8333333333333334,
          0.8461538461538461,
          0.8076923076923077,
          0.6923076923076923,
          0.7777777777777777,
          0.75,
          0.6923076923076923,
          0.8611111111111112,
          0.7307692307692308,
          0.8055555555555556,
          0.5769230769230769,
          0.8472222222222222,
          0.6923076923076923,
          0.6153846153846154,
          0.9615384615384616,
          0.75,
          0.5833333333333334,
          0.9230769230769231,
          0.8333333333333334,
          0.8611111111111112,
          0.8846153846153846,
          0.7692307692307692,
          0.861111111111111,
          0.9230769230769231,
          0.611111111111111,
          0.5384615384615384,
          0.7692307692307693,
          0.6666666666666666,
          0.8461538461538461,
          0.5384615384615384,
          0.7777777777777779,
          0.8333333333333333,
          0.6111111111111112,
          0.5138888888888888,
          0.7692307692307692,
          0.8333333333333334,
          0.8076923076923077,
          0.9615384615384616,
          0.8055555555555556,
          0.8611111111111112,
          0.7222222222222221,
          0.9166666666666667,
          0.5833333333333334,
          0.5555555555555555,
          0.6666666666666666,
          0.8333333333333334,
          0.75,
          1,
          0.9615384615384616,
          0.7692307692307692,
          0.75,
          0.5769230769230769,
          0.7777777777777779,
          0.9444444444444444,
          0.8333333333333333,
          0.5555555555555556,
          1,
          0.8055555555555555,
          0.8461538461538461,
          0.6923076923076923,
          0.8055555555555556,
          0.6388888888888888,
          0.75,
          0.4444444444444445,
          0.861111111111111,
          0.8055555555555555,
          0.7777777777777779,
          0.7307692307692308,
          0.7222222222222222,
          0.5277777777777777,
          0.3846153846153846,
          0.7692307692307693,
          0.8055555555555556,
          0.9444444444444444,
          0.8333333333333334,
          0.8888888888888888,
          0.5555555555555556,
          0.3888888888888889,
          0.7307692307692307,
          0.7222222222222222,
          0.5,
          0.846153846153846,
          1,
          0.5833333333333333,
          0.6153846153846154,
          0.846153846153846,
          0.9166666666666666,
          0.3846153846153846,
          0.8333333333333333,
          0.9615384615384616,
          0.9444444444444444,
          0.8888888888888888,
          0.5769230769230769,
          0.8461538461538461,
          0.8461538461538461,
          0.5555555555555555,
          0.4861111111111111,
          0.8461538461538461,
          0.9615384615384616,
          0.9166666666666666,
          0.7777777777777778,
          0.9230769230769231,
          0.5833333333333333,
          0.6346153846153846,
          0.7307692307692308,
          0.7777777777777778,
          0.9615384615384616,
          0.6538461538461539,
          0.6923076923076923,
          0.9230769230769231,
          0.5555555555555556,
          0.7222222222222222,
          0.8611111111111112,
          0.9166666666666666,
          0.611111111111111,
          0.9230769230769231,
          0.8055555555555556,
          0.4615384615384615,
          0.9230769230769231,
          0.8611111111111112,
          0.6111111111111112,
          0.5138888888888888,
          0.7307692307692307,
          0.6153846153846154,
          0.7692307692307692,
          0.8461538461538461,
          0.6923076923076923,
          0.6346153846153846,
          0.7777777777777777,
          0.6538461538461539,
          0.6944444444444444,
          0.888888888888889,
          0.6944444444444444,
          0.8055555555555555,
          0.9444444444444444,
          0.9722222222222222,
          0.7307692307692307,
          0.5,
          0.8055555555555556,
          0.8461538461538461,
          0.6538461538461539,
          0.6944444444444444,
          1,
          0.6923076923076923,
          0.5769230769230769,
          0.7692307692307692,
          0.38888888888888884,
          0.8076923076923077,
          0.6388888888888888,
          0.6805555555555555,
          1,
          0.6538461538461539,
          0.4444444444444444,
          0.7777777777777777,
          0.9230769230769231,
          0.30769230769230765,
          0.5769230769230769,
          0.5277777777777777,
          1,
          0.7307692307692308,
          0.7777777777777778,
          1,
          0.75,
          0.6666666666666667,
          0.7307692307692307,
          0.6923076923076923,
          0.6666666666666667,
          1,
          0.6666666666666666,
          0.6388888888888888,
          1,
          0.8055555555555556,
          0.5384615384615384,
          0.8461538461538461,
          0.846153846153846,
          0.6923076923076923,
          0.8076923076923077,
          0.7692307692307692,
          0.6666666666666666,
          0.7083333333333333,
          0.9166666666666667,
          0.846153846153846,
          0.6944444444444444,
          0.5,
          0.6153846153846154,
          0.2692307692307692,
          0.9615384615384616,
          0.11538461538461536,
          0.8461538461538461,
          0.9722222222222222,
          0.6538461538461539,
          0.7222222222222221,
          0.7884615384615384,
          0.8055555555555556,
          0.5384615384615384,
          0.9230769230769231,
          0.8076923076923077,
          0.9230769230769231,
          0.4722222222222222,
          0.6388888888888888,
          0.7692307692307692,
          0.8846153846153846,
          0.4230769230769231,
          0.846153846153846,
          0.7777777777777777,
          0.6666666666666667,
          0.5555555555555556,
          1,
          0.8333333333333334,
          0.7692307692307692,
          0.9615384615384616,
          0.9230769230769231,
          0.7692307692307692,
          0.9230769230769231,
          0.8611111111111112,
          0.75,
          0.3055555555555556,
          0.6923076923076923,
          0.7222222222222222,
          0.75,
          0.7638888888888888,
          0.8611111111111112,
          0.6153846153846154,
          0.5277777777777778,
          0.888888888888889,
          0.6944444444444444,
          0.8461538461538461,
          0.7222222222222222,
          0.7222222222222222,
          0.7692307692307692,
          0.6388888888888888,
          0.8611111111111112,
          0.8461538461538461,
          0.7777777777777779,
          0.9230769230769231,
          0.6666666666666666,
          0.8076923076923077,
          1,
          0.6111111111111112,
          0.9615384615384616,
          0.6666666666666666,
          0.7500000000000001,
          0.423076923076923,
          0.888888888888889,
          0.7777777777777777,
          0.9615384615384616,
          0.9166666666666667,
          0.8055555555555556,
          0.8461538461538461
         ],
         "y": [
          0.09411654621362686,
          0,
          0.07193134725093842,
          0.03147122263908386,
          0,
          0,
          0.11561426520347595,
          0,
          0,
          0,
          0,
          0,
          0,
          0,
          0.23130348324775696,
          0.037219565361738205,
          0,
          0,
          0,
          0,
          0.14888665080070496,
          0.0989348515868187,
          0,
          0.5312948822975159,
          0,
          0.08222087472677231,
          0,
          0,
          0.07402998954057693,
          0,
          0.4335141181945801,
          0.09948281943798065,
          0,
          0,
          0,
          0.06335218995809555,
          0,
          0,
          0.04387957975268364,
          0,
          0,
          0.23277316987514496,
          0,
          0,
          0,
          0,
          0,
          0.07263388484716415,
          0,
          0.13962604105472565,
          0,
          0.10126087069511414,
          0,
          0,
          0.08545444160699844,
          0.12550918757915497,
          0.04238264262676239,
          0,
          0.11787150800228119,
          0,
          0.12004730105400085,
          0,
          0.09897718578577042,
          0,
          0.02992820180952549,
          0,
          0,
          0,
          0.1644585281610489,
          0,
          0.25284674763679504,
          0,
          0,
          0,
          0,
          0,
          0,
          0.17966656386852264,
          0,
          0,
          0.05120783671736717,
          0.04372785612940788,
          0.10271520167589188,
          0,
          0.23075097799301147,
          0.047174613922834396,
          0,
          0,
          0,
          0.16552765667438507,
          0.16831347346305847,
          0.35339251160621643,
          0.02564261481165886,
          0,
          0,
          0,
          0,
          0.049271438270807266,
          0,
          0.07619120925664902,
          0,
          0,
          0,
          0,
          0,
          0.03785984218120575,
          0.04759606719017029,
          0,
          0.11332819610834122,
          0.12136906385421753,
          0.10242868214845657,
          0.3807412385940552,
          0,
          0,
          0.06028856337070465,
          0.10920548439025879,
          0,
          0,
          0,
          0.19721344113349915,
          0,
          0.173087015748024,
          0,
          0.03258848935365677,
          0,
          0,
          0,
          0,
          0,
          0.07392586022615433,
          0,
          0,
          0,
          0.045572277158498764,
          0,
          0,
          0,
          0,
          0,
          0.07035301625728607,
          0.07057183980941772,
          0.02798948995769024,
          0,
          0.08630544692277908,
          0,
          0,
          0,
          0,
          0.06313106417655945,
          0,
          0.1395425647497177,
          0.020222214981913567,
          0.1375890076160431,
          0,
          0,
          0.28994297981262207,
          0.13885991275310516,
          0.4925512373447418,
          0,
          0,
          0,
          0.16085363924503326,
          0.12827099859714508,
          0.22776377201080322,
          0.11097067594528198,
          0,
          0.037219565361738205,
          0,
          0.4293670654296875,
          0,
          0.1298547387123108,
          0,
          0,
          0,
          0,
          0,
          0,
          0,
          0,
          0.09958397597074509,
          0,
          0,
          0.0957682654261589,
          0,
          0,
          0,
          0,
          0,
          0,
          0,
          0.0640929564833641,
          0,
          0,
          0.11787150800228119,
          0.12680156528949738,
          0.050236403942108154,
          0,
          0.06170620024204254,
          0,
          0,
          0,
          0,
          0.28074049949645996,
          0,
          0,
          0,
          0,
          0,
          0,
          0,
          0,
          0.06515209376811981,
          0,
          0,
          0,
          0,
          0,
          0,
          0.24045753479003906,
          0,
          0,
          0,
          0,
          0.09191456437110901,
          0.16251051425933838,
          0,
          0.04852542281150818,
          0,
          0.027138113975524902,
          0,
          0,
          0,
          0,
          0,
          0,
          0,
          0,
          0,
          0,
          0.07387682795524597,
          0.12520422041416168,
          0.4464379549026489,
          0,
          0,
          0,
          0,
          0,
          0,
          0,
          0,
          0,
          0,
          0,
          0,
          0,
          0,
          0.07355497032403946,
          0.0693369209766388,
          0.027119824662804604,
          0,
          0,
          0.05609004199504852,
          0,
          0.4293670654296875,
          0.12155894190073013,
          0,
          0.09191456437110901,
          0,
          0.11787150800228119,
          0,
          0.0037549042608588934,
          0,
          0,
          0,
          0,
          0,
          0,
          0,
          0,
          0.06141094118356705,
          0,
          0,
          0.39802655577659607,
          0,
          0.06099406257271767,
          0.07455845177173615,
          0,
          0,
          0.061062127351760864,
          0,
          0.10914622992277145,
          0.2271338254213333,
          0,
          0,
          0,
          0.015911737456917763,
          0,
          0.1423315405845642,
          0,
          0,
          0,
          0,
          0,
          0,
          0.022571425884962082,
          0,
          0,
          0.022571425884962082,
          0,
          0,
          0.04852542281150818,
          0,
          0.0604931116104126,
          0.020300712436437607,
          0,
          0,
          0,
          0.04032867029309273,
          0,
          0.12704385817050934,
          0,
          0,
          0.2040276974439621,
          0,
          0,
          0,
          0,
          0,
          0,
          0,
          0,
          0,
          0.12663079798221588,
          0.09800771623849869,
          0,
          0,
          0.09678228944540024,
          0.16776205599308014,
          0,
          0,
          0,
          0.13058990240097046,
          0.08274675160646439,
          0.06110905483365059,
          0.47379589080810547,
          0,
          0,
          0.12520422041416168,
          0.10195407271385193,
          0,
          0,
          0,
          0.4351816475391388,
          0.01436762697994709,
          0,
          0,
          0,
          0,
          0,
          0,
          0.17748381197452545,
          0,
          0,
          0.0388348251581192,
          0.11561426520347595,
          0.05222897231578827,
          0.02046641707420349,
          0,
          0,
          0,
          0.18946532905101776,
          0,
          0,
          0.06308960914611816,
          0,
          0.052743151783943176,
          0,
          0,
          0.023631051182746887,
          0.05566522851586342,
          0.41848018765449524,
          0,
          0,
          0,
          0,
          0,
          0.03657247871160507,
          0.08541429787874222,
          0,
          0.17501820623874664,
          0,
          0,
          0,
          0,
          0.24046576023101807,
          0,
          0.08165209740400314,
          0,
          0,
          0,
          0,
          0.10461261868476868,
          0.0589241124689579,
          0,
          0,
          0,
          0.11787150800228119,
          0,
          0.04032867029309273,
          0,
          0,
          0.17781023681163788,
          0,
          0,
          0,
          0.15239615738391876,
          0,
          0.07866083830595016,
          0,
          0,
          0,
          0,
          0.13478179275989532,
          0,
          0.17242856323719025,
          0,
          0,
          0,
          0,
          0,
          0.12712517380714417,
          0,
          0.06402730941772461,
          0,
          0,
          0.12244419008493423,
          0,
          0,
          0.04356381297111511,
          0.09528887271881104,
          0,
          0,
          0,
          0,
          0,
          0,
          0,
          0,
          0,
          0,
          0.20348238945007324,
          0.07973458617925644,
          0,
          0,
          0.13121244311332703,
          0.11787150055170059,
          0,
          0,
          0,
          0,
          0.11787150055170059,
          0,
          0.2765052914619446,
          0,
          0,
          0.12491896748542786,
          0.08764495700597763,
          0,
          0.32448089122772217,
          0,
          0,
          0.2369413673877716,
          0,
          0.28074049949645996,
          0,
          0,
          0,
          0,
          0,
          0,
          0.013622701168060303,
          0,
          0,
          0.07235987484455109,
          0,
          0,
          0.15260013937950134,
          0.11787150800228119,
          0.06965240091085434,
          0.09273292869329453,
          0,
          0.11959166079759598,
          0,
          0.059406258165836334,
          0,
          0,
          0,
          0.17213517427444458,
          0,
          0,
          0,
          0,
          0,
          0.1083119735121727,
          0,
          0.28074049949645996,
          0.3302956819534302,
          0,
          0,
          0,
          0.10937099158763885,
          0,
          0.05941401422023773,
          0.2765052914619446,
          0,
          0.07804173231124878,
          0.05556393414735794,
          0.15911002457141876,
          0,
          0,
          0,
          0,
          0.1366722583770752,
          0,
          0,
          0,
          0,
          0.2326921969652176,
          0.12377714365720749,
          0,
          0,
          0,
          0,
          0.16502314805984497,
          0.1843896508216858,
          0,
          0,
          0,
          0.18031977117061615,
          0,
          0.11015937477350235,
          0,
          0,
          0,
          0,
          0,
          0,
          0.11787150800228119,
          0,
          0,
          0.11716236919164658,
          0,
          0.08448000997304916,
          0.26610350608825684,
          0.3797609508037567,
          0,
          0,
          0,
          0,
          0,
          0.14618541300296783,
          0.11055747419595718,
          0,
          0,
          0,
          0.238874152302742,
          0,
          0.1275799721479416,
          0.2326921969652176,
          0,
          0,
          0.12491896748542786,
          0,
          0,
          0,
          0.13180115818977356,
          0,
          0,
          0,
          0.05813536047935486,
          0,
          0.09783320873975754,
          0,
          0,
          0,
          0,
          0,
          0,
          0,
          0,
          0,
          0.03533366695046425,
          0,
          0,
          0,
          0.19718976318836212,
          0,
          0.04326735809445381,
          0,
          0.1336606740951538,
          0,
          0.06433109194040298,
          0.057510316371917725,
          0.057510316371917725,
          0,
          0.15260013937950134,
          0,
          0,
          0,
          0.06094381585717201,
          0,
          0.05107744410634041,
          0.17726653814315796,
          0,
          0,
          0.09528594464063644,
          0,
          0,
          0,
          0,
          0,
          0,
          0,
          0,
          0,
          0,
          0,
          0.10889208316802979,
          0,
          0.028247730806469917,
          0,
          0.10818247497081757,
          0,
          0,
          0,
          0,
          0,
          0,
          0,
          0,
          0.09269227087497711,
          0.1512508988380432,
          0,
          0,
          0,
          0.0576254166662693,
          0,
          0,
          0,
          0,
          0,
          0,
          0,
          0.055464599281549454,
          0,
          0,
          0.07318784296512604,
          0.0049202111549675465,
          0,
          0,
          0,
          0.06070457026362419,
          0.13199293613433838,
          0,
          0,
          0,
          0,
          0.1500694453716278,
          0.24052785336971283,
          0.0303263571113348,
          0.08107782900333405,
          0,
          0,
          0,
          0,
          0.02992820180952549,
          0,
          0,
          0.07461079955101013,
          0.07391877472400665,
          0,
          0.6936567425727844,
          0,
          0,
          0,
          0,
          0,
          0.06119471415877342,
          0,
          0.14887011051177979,
          0,
          0.22047948837280273,
          0,
          0,
          0,
          0.06814011186361313,
          0,
          0.04672633484005928,
          0,
          0,
          0.057612042874097824,
          0,
          0,
          0,
          0,
          0,
          0,
          0,
          0.06498464196920395,
          0.14154651761054993,
          0.3471705913543701,
          0,
          0.15260013937950134,
          0.13660822808742523,
          0.23513920605182648,
          0.07568924874067307,
          0,
          0,
          0,
          0,
          0.11643215268850327,
          0.07568924874067307,
          0.12944895029067993,
          0,
          0,
          0.27246010303497314,
          0,
          0,
          0,
          0.08024907857179642,
          0.115596704185009,
          0,
          0,
          0,
          0,
          0,
          0,
          0,
          0,
          0,
          0.5106325149536133,
          0,
          0.08944829553365707,
          0.14423149824142456,
          0,
          0,
          0,
          0,
          0.24062396585941315,
          0.05999646708369255,
          0.12215232849121094,
          0.3039713501930237,
          0,
          0,
          0,
          0,
          0,
          0,
          0,
          0,
          0,
          0,
          0,
          0.12004730105400085,
          0,
          0,
          0,
          0,
          0,
          0,
          0,
          0,
          0.09293638169765472,
          0,
          0,
          0.11787150055170059,
          0,
          0,
          0,
          0.11909254640340805,
          0,
          0,
          0.08173862099647522,
          0,
          0,
          0,
          0,
          0,
          0,
          0,
          0,
          0,
          0,
          0.01734800450503826,
          0,
          0,
          0,
          0.18946479260921478,
          0,
          0,
          0,
          0,
          0,
          0,
          0.240810826420784,
          0.10211760550737381,
          0.056652456521987915,
          0,
          0,
          0,
          0.06996526569128036,
          0,
          0,
          0.07280422002077103,
          0,
          0.0873468890786171,
          0,
          0,
          0.14047838747501373,
          0,
          0,
          0,
          0,
          0,
          0.0976727306842804,
          0,
          0,
          0.06422384828329086,
          0,
          0,
          0,
          0,
          0.0536939799785614,
          0,
          0,
          0.05400124192237854,
          0,
          0.16251051425933838,
          0.06041857227683067,
          0,
          0.061845388263463974,
          0.06692316383123398,
          0,
          0.3740358054637909,
          0.11493441462516785,
          0,
          0,
          0,
          0.10778934508562088,
          0.11493441462516785,
          0,
          0,
          0.14263620972633362,
          0.0732451006770134,
          0.2220790535211563,
          0.22345055639743805,
          0,
          0,
          0.16503910720348358,
          0.3194751739501953,
          0.08548427373170853,
          0.05040402710437775,
          0.0744248777627945,
          0.3039713501930237,
          0.07533526420593262,
          0,
          0,
          0,
          0,
          0.070646271109581,
          0.4572257697582245,
          0,
          0,
          0.11787150800228119,
          0.02276509441435337,
          0,
          0,
          0,
          0,
          0,
          0,
          0,
          0,
          0.05996748059988022,
          0.11787150800228119,
          0,
          0,
          0.08201934397220612,
          0.04985107108950615,
          0,
          0,
          0,
          0,
          0.18435083329677582,
          0.17926083505153656,
          0,
          0,
          0.0555034764111042,
          0,
          0.13737060129642487,
          0,
          0.46049484610557556,
          0.15779289603233337,
          0.10160347819328308,
          0,
          0,
          0,
          0.07576077431440353,
          0,
          0,
          0.18186211585998535,
          0,
          0,
          0,
          0,
          0,
          0,
          0,
          0.08498268574476242,
          0,
          0,
          0.09018059074878693,
          0,
          0,
          0,
          0.09319532662630081,
          0.12093038111925125,
          0.08472398668527603,
          0,
          0,
          0,
          0,
          0.023933108896017075,
          0.0825735405087471,
          0,
          0,
          0,
          0.11452627927064896,
          0,
          0.2984904944896698,
          0,
          0.16797474026679993,
          0,
          0,
          0,
          0,
          0,
          0,
          0.06363561004400253,
          0,
          0,
          0.10045281052589417,
          0.06731276959180832,
          0,
          0.12335773557424545,
          0,
          0.08702017366886139,
          0,
          0,
          0.18236739933490753,
          0,
          0,
          0,
          0,
          0,
          0.12964457273483276,
          0,
          0.246394082903862,
          0.0799776092171669,
          0.03657247871160507,
          0,
          0,
          0,
          0,
          0.11764117330312729,
          0,
          0,
          0.11741328239440918,
          0,
          0,
          0,
          0,
          0,
          0,
          0,
          0,
          0.10793156176805496,
          0,
          0,
          0,
          0.035726409405469894,
          0,
          0
         ]
        },
        {
         "marker": {
          "line": {
           "color": "black",
           "width": 1
          },
          "opacity": 0.5,
          "size": 8,
          "symbol": "square"
         },
         "mode": "markers",
         "name": "Pareto frontier",
         "type": "scatter",
         "x": [
          1,
          1,
          0.9615384615384616,
          0.7692307692307693,
          0.7307692307692307,
          0.861111111111111,
          0.9230769230769231
         ],
         "y": [
          0.24859605729579926,
          0.24859605729579926,
          0.37896794080734253,
          0.7627907395362854,
          0.8382703065872192,
          0.46756628155708313,
          0.4521581530570984
         ]
        }
       ],
       "layout": {
        "font": {
         "size": 18
        },
        "height": 400,
        "legend": {
         "bgcolor": "rgba(255, 255, 255, 0)",
         "orientation": "h",
         "x": 0.3,
         "y": 1.1
        },
        "margin": {
         "b": 0,
         "l": 0,
         "r": 0,
         "t": 0
        },
        "shapes": [
         {
          "fillcolor": "darkgreen",
          "layer": "below",
          "line": {
           "width": 0
          },
          "opacity": 0.2,
          "type": "rect",
          "x0": 0.8,
          "x1": 1,
          "xref": "x",
          "y0": 0,
          "y1": 1,
          "yref": "paper"
         }
        ],
        "template": {
         "data": {
          "bar": [
           {
            "error_x": {
             "color": "#2a3f5f"
            },
            "error_y": {
             "color": "#2a3f5f"
            },
            "marker": {
             "line": {
              "color": "#E5ECF6",
              "width": 0.5
             },
             "pattern": {
              "fillmode": "overlay",
              "size": 10,
              "solidity": 0.2
             }
            },
            "type": "bar"
           }
          ],
          "barpolar": [
           {
            "marker": {
             "line": {
              "color": "#E5ECF6",
              "width": 0.5
             },
             "pattern": {
              "fillmode": "overlay",
              "size": 10,
              "solidity": 0.2
             }
            },
            "type": "barpolar"
           }
          ],
          "carpet": [
           {
            "aaxis": {
             "endlinecolor": "#2a3f5f",
             "gridcolor": "white",
             "linecolor": "white",
             "minorgridcolor": "white",
             "startlinecolor": "#2a3f5f"
            },
            "baxis": {
             "endlinecolor": "#2a3f5f",
             "gridcolor": "white",
             "linecolor": "white",
             "minorgridcolor": "white",
             "startlinecolor": "#2a3f5f"
            },
            "type": "carpet"
           }
          ],
          "choropleth": [
           {
            "colorbar": {
             "outlinewidth": 0,
             "ticks": ""
            },
            "type": "choropleth"
           }
          ],
          "contour": [
           {
            "colorbar": {
             "outlinewidth": 0,
             "ticks": ""
            },
            "colorscale": [
             [
              0,
              "#0d0887"
             ],
             [
              0.1111111111111111,
              "#46039f"
             ],
             [
              0.2222222222222222,
              "#7201a8"
             ],
             [
              0.3333333333333333,
              "#9c179e"
             ],
             [
              0.4444444444444444,
              "#bd3786"
             ],
             [
              0.5555555555555556,
              "#d8576b"
             ],
             [
              0.6666666666666666,
              "#ed7953"
             ],
             [
              0.7777777777777778,
              "#fb9f3a"
             ],
             [
              0.8888888888888888,
              "#fdca26"
             ],
             [
              1,
              "#f0f921"
             ]
            ],
            "type": "contour"
           }
          ],
          "contourcarpet": [
           {
            "colorbar": {
             "outlinewidth": 0,
             "ticks": ""
            },
            "type": "contourcarpet"
           }
          ],
          "heatmap": [
           {
            "colorbar": {
             "outlinewidth": 0,
             "ticks": ""
            },
            "colorscale": [
             [
              0,
              "#0d0887"
             ],
             [
              0.1111111111111111,
              "#46039f"
             ],
             [
              0.2222222222222222,
              "#7201a8"
             ],
             [
              0.3333333333333333,
              "#9c179e"
             ],
             [
              0.4444444444444444,
              "#bd3786"
             ],
             [
              0.5555555555555556,
              "#d8576b"
             ],
             [
              0.6666666666666666,
              "#ed7953"
             ],
             [
              0.7777777777777778,
              "#fb9f3a"
             ],
             [
              0.8888888888888888,
              "#fdca26"
             ],
             [
              1,
              "#f0f921"
             ]
            ],
            "type": "heatmap"
           }
          ],
          "heatmapgl": [
           {
            "colorbar": {
             "outlinewidth": 0,
             "ticks": ""
            },
            "colorscale": [
             [
              0,
              "#0d0887"
             ],
             [
              0.1111111111111111,
              "#46039f"
             ],
             [
              0.2222222222222222,
              "#7201a8"
             ],
             [
              0.3333333333333333,
              "#9c179e"
             ],
             [
              0.4444444444444444,
              "#bd3786"
             ],
             [
              0.5555555555555556,
              "#d8576b"
             ],
             [
              0.6666666666666666,
              "#ed7953"
             ],
             [
              0.7777777777777778,
              "#fb9f3a"
             ],
             [
              0.8888888888888888,
              "#fdca26"
             ],
             [
              1,
              "#f0f921"
             ]
            ],
            "type": "heatmapgl"
           }
          ],
          "histogram": [
           {
            "marker": {
             "pattern": {
              "fillmode": "overlay",
              "size": 10,
              "solidity": 0.2
             }
            },
            "type": "histogram"
           }
          ],
          "histogram2d": [
           {
            "colorbar": {
             "outlinewidth": 0,
             "ticks": ""
            },
            "colorscale": [
             [
              0,
              "#0d0887"
             ],
             [
              0.1111111111111111,
              "#46039f"
             ],
             [
              0.2222222222222222,
              "#7201a8"
             ],
             [
              0.3333333333333333,
              "#9c179e"
             ],
             [
              0.4444444444444444,
              "#bd3786"
             ],
             [
              0.5555555555555556,
              "#d8576b"
             ],
             [
              0.6666666666666666,
              "#ed7953"
             ],
             [
              0.7777777777777778,
              "#fb9f3a"
             ],
             [
              0.8888888888888888,
              "#fdca26"
             ],
             [
              1,
              "#f0f921"
             ]
            ],
            "type": "histogram2d"
           }
          ],
          "histogram2dcontour": [
           {
            "colorbar": {
             "outlinewidth": 0,
             "ticks": ""
            },
            "colorscale": [
             [
              0,
              "#0d0887"
             ],
             [
              0.1111111111111111,
              "#46039f"
             ],
             [
              0.2222222222222222,
              "#7201a8"
             ],
             [
              0.3333333333333333,
              "#9c179e"
             ],
             [
              0.4444444444444444,
              "#bd3786"
             ],
             [
              0.5555555555555556,
              "#d8576b"
             ],
             [
              0.6666666666666666,
              "#ed7953"
             ],
             [
              0.7777777777777778,
              "#fb9f3a"
             ],
             [
              0.8888888888888888,
              "#fdca26"
             ],
             [
              1,
              "#f0f921"
             ]
            ],
            "type": "histogram2dcontour"
           }
          ],
          "mesh3d": [
           {
            "colorbar": {
             "outlinewidth": 0,
             "ticks": ""
            },
            "type": "mesh3d"
           }
          ],
          "parcoords": [
           {
            "line": {
             "colorbar": {
              "outlinewidth": 0,
              "ticks": ""
             }
            },
            "type": "parcoords"
           }
          ],
          "pie": [
           {
            "automargin": true,
            "type": "pie"
           }
          ],
          "scatter": [
           {
            "fillpattern": {
             "fillmode": "overlay",
             "size": 10,
             "solidity": 0.2
            },
            "type": "scatter"
           }
          ],
          "scatter3d": [
           {
            "line": {
             "colorbar": {
              "outlinewidth": 0,
              "ticks": ""
             }
            },
            "marker": {
             "colorbar": {
              "outlinewidth": 0,
              "ticks": ""
             }
            },
            "type": "scatter3d"
           }
          ],
          "scattercarpet": [
           {
            "marker": {
             "colorbar": {
              "outlinewidth": 0,
              "ticks": ""
             }
            },
            "type": "scattercarpet"
           }
          ],
          "scattergeo": [
           {
            "marker": {
             "colorbar": {
              "outlinewidth": 0,
              "ticks": ""
             }
            },
            "type": "scattergeo"
           }
          ],
          "scattergl": [
           {
            "marker": {
             "colorbar": {
              "outlinewidth": 0,
              "ticks": ""
             }
            },
            "type": "scattergl"
           }
          ],
          "scattermapbox": [
           {
            "marker": {
             "colorbar": {
              "outlinewidth": 0,
              "ticks": ""
             }
            },
            "type": "scattermapbox"
           }
          ],
          "scatterpolar": [
           {
            "marker": {
             "colorbar": {
              "outlinewidth": 0,
              "ticks": ""
             }
            },
            "type": "scatterpolar"
           }
          ],
          "scatterpolargl": [
           {
            "marker": {
             "colorbar": {
              "outlinewidth": 0,
              "ticks": ""
             }
            },
            "type": "scatterpolargl"
           }
          ],
          "scatterternary": [
           {
            "marker": {
             "colorbar": {
              "outlinewidth": 0,
              "ticks": ""
             }
            },
            "type": "scatterternary"
           }
          ],
          "surface": [
           {
            "colorbar": {
             "outlinewidth": 0,
             "ticks": ""
            },
            "colorscale": [
             [
              0,
              "#0d0887"
             ],
             [
              0.1111111111111111,
              "#46039f"
             ],
             [
              0.2222222222222222,
              "#7201a8"
             ],
             [
              0.3333333333333333,
              "#9c179e"
             ],
             [
              0.4444444444444444,
              "#bd3786"
             ],
             [
              0.5555555555555556,
              "#d8576b"
             ],
             [
              0.6666666666666666,
              "#ed7953"
             ],
             [
              0.7777777777777778,
              "#fb9f3a"
             ],
             [
              0.8888888888888888,
              "#fdca26"
             ],
             [
              1,
              "#f0f921"
             ]
            ],
            "type": "surface"
           }
          ],
          "table": [
           {
            "cells": {
             "fill": {
              "color": "#EBF0F8"
             },
             "line": {
              "color": "white"
             }
            },
            "header": {
             "fill": {
              "color": "#C8D4E3"
             },
             "line": {
              "color": "white"
             }
            },
            "type": "table"
           }
          ]
         },
         "layout": {
          "annotationdefaults": {
           "arrowcolor": "#2a3f5f",
           "arrowhead": 0,
           "arrowwidth": 1
          },
          "autotypenumbers": "strict",
          "coloraxis": {
           "colorbar": {
            "outlinewidth": 0,
            "ticks": ""
           }
          },
          "colorscale": {
           "diverging": [
            [
             0,
             "#8e0152"
            ],
            [
             0.1,
             "#c51b7d"
            ],
            [
             0.2,
             "#de77ae"
            ],
            [
             0.3,
             "#f1b6da"
            ],
            [
             0.4,
             "#fde0ef"
            ],
            [
             0.5,
             "#f7f7f7"
            ],
            [
             0.6,
             "#e6f5d0"
            ],
            [
             0.7,
             "#b8e186"
            ],
            [
             0.8,
             "#7fbc41"
            ],
            [
             0.9,
             "#4d9221"
            ],
            [
             1,
             "#276419"
            ]
           ],
           "sequential": [
            [
             0,
             "#0d0887"
            ],
            [
             0.1111111111111111,
             "#46039f"
            ],
            [
             0.2222222222222222,
             "#7201a8"
            ],
            [
             0.3333333333333333,
             "#9c179e"
            ],
            [
             0.4444444444444444,
             "#bd3786"
            ],
            [
             0.5555555555555556,
             "#d8576b"
            ],
            [
             0.6666666666666666,
             "#ed7953"
            ],
            [
             0.7777777777777778,
             "#fb9f3a"
            ],
            [
             0.8888888888888888,
             "#fdca26"
            ],
            [
             1,
             "#f0f921"
            ]
           ],
           "sequentialminus": [
            [
             0,
             "#0d0887"
            ],
            [
             0.1111111111111111,
             "#46039f"
            ],
            [
             0.2222222222222222,
             "#7201a8"
            ],
            [
             0.3333333333333333,
             "#9c179e"
            ],
            [
             0.4444444444444444,
             "#bd3786"
            ],
            [
             0.5555555555555556,
             "#d8576b"
            ],
            [
             0.6666666666666666,
             "#ed7953"
            ],
            [
             0.7777777777777778,
             "#fb9f3a"
            ],
            [
             0.8888888888888888,
             "#fdca26"
            ],
            [
             1,
             "#f0f921"
            ]
           ]
          },
          "colorway": [
           "#636efa",
           "#EF553B",
           "#00cc96",
           "#ab63fa",
           "#FFA15A",
           "#19d3f3",
           "#FF6692",
           "#B6E880",
           "#FF97FF",
           "#FECB52"
          ],
          "font": {
           "color": "#2a3f5f"
          },
          "geo": {
           "bgcolor": "white",
           "lakecolor": "white",
           "landcolor": "#E5ECF6",
           "showlakes": true,
           "showland": true,
           "subunitcolor": "white"
          },
          "hoverlabel": {
           "align": "left"
          },
          "hovermode": "closest",
          "mapbox": {
           "style": "light"
          },
          "paper_bgcolor": "white",
          "plot_bgcolor": "#E5ECF6",
          "polar": {
           "angularaxis": {
            "gridcolor": "white",
            "linecolor": "white",
            "ticks": ""
           },
           "bgcolor": "#E5ECF6",
           "radialaxis": {
            "gridcolor": "white",
            "linecolor": "white",
            "ticks": ""
           }
          },
          "scene": {
           "xaxis": {
            "backgroundcolor": "#E5ECF6",
            "gridcolor": "white",
            "gridwidth": 2,
            "linecolor": "white",
            "showbackground": true,
            "ticks": "",
            "zerolinecolor": "white"
           },
           "yaxis": {
            "backgroundcolor": "#E5ECF6",
            "gridcolor": "white",
            "gridwidth": 2,
            "linecolor": "white",
            "showbackground": true,
            "ticks": "",
            "zerolinecolor": "white"
           },
           "zaxis": {
            "backgroundcolor": "#E5ECF6",
            "gridcolor": "white",
            "gridwidth": 2,
            "linecolor": "white",
            "showbackground": true,
            "ticks": "",
            "zerolinecolor": "white"
           }
          },
          "shapedefaults": {
           "line": {
            "color": "#2a3f5f"
           }
          },
          "ternary": {
           "aaxis": {
            "gridcolor": "white",
            "linecolor": "white",
            "ticks": ""
           },
           "baxis": {
            "gridcolor": "white",
            "linecolor": "white",
            "ticks": ""
           },
           "bgcolor": "#E5ECF6",
           "caxis": {
            "gridcolor": "white",
            "linecolor": "white",
            "ticks": ""
           }
          },
          "title": {
           "x": 0.05
          },
          "xaxis": {
           "automargin": true,
           "gridcolor": "white",
           "linecolor": "white",
           "ticks": "",
           "title": {
            "standoff": 15
           },
           "zerolinecolor": "white",
           "zerolinewidth": 2
          },
          "yaxis": {
           "automargin": true,
           "gridcolor": "white",
           "linecolor": "white",
           "ticks": "",
           "title": {
            "standoff": 15
           },
           "zerolinecolor": "white",
           "zerolinewidth": 2
          }
         }
        },
        "width": 900,
        "xaxis": {
         "range": [
          -0.05,
          1.05
         ],
         "title": {
          "font": {
           "size": 19
          },
          "text": "Model performance (AUC)"
         }
        },
        "yaxis": {
         "range": [
          -0.05,
          0.85
         ],
         "title": {
          "font": {
           "size": 19
          },
          "text": "Phe importance (Shapley value)"
         }
        }
       }
      }
     },
     "metadata": {},
     "output_type": "display_data"
    }
   ],
   "source": [
    "import pandas as pd\n",
    "from optuna.visualization._pareto_front import (\n",
    "    _get_pareto_front_info,\n",
    "    _make_scatter_object,\n",
    "    _make_marker,\n",
    "    _make_hovertext,\n",
    ")\n",
    "from typing import Sequence\n",
    "from optuna.trial import FrozenTrial\n",
    "from optuna.visualization._plotly_imports import go\n",
    "\n",
    "\n",
    "info = _get_pareto_front_info(study)\n",
    "\n",
    "n_targets: int = info.n_targets\n",
    "axis_order: Sequence[int] = info.axis_order\n",
    "include_dominated_trials: bool = True\n",
    "trials_with_values: Sequence[\n",
    "    tuple[FrozenTrial, Sequence[float]]\n",
    "] = info.non_best_trials_with_values\n",
    "hovertemplate: str = \"%{text}<extra>Trial</extra>\"\n",
    "infeasible: bool = False\n",
    "dominated_trials: bool = False\n",
    "\n",
    "\n",
    "def trials_df(trials_with_values, class_name):\n",
    "    x = [values[axis_order[0]] for _, values in trials_with_values]\n",
    "    y = [values[axis_order[1]] for _, values in trials_with_values]\n",
    "\n",
    "    df = pd.DataFrame({\"x\": x, \"y\": y})\n",
    "    df[\"class\"] = class_name\n",
    "    return df\n",
    "\n",
    "df_best    = trials_df(info.best_trials_with_values, \"best\")\n",
    "df_nonbest = trials_df(info.non_best_trials_with_values, \"nonbest\")\n",
    "# df         = pd.concat([df_best, df_nonbest])\n",
    "\n",
    "fig = go.Figure()\n",
    "\n",
    "fig.add_trace(\n",
    "    go.Scatter(\n",
    "        x=df_nonbest[\"x\"],\n",
    "        y=df_nonbest[\"y\"],\n",
    "        mode=\"markers\",\n",
    "        marker=dict(\n",
    "            size=8, opacity=0.5, symbol=\"circle\", line=dict(width=1, color=\"black\")\n",
    "        ),\n",
    "        name=\"Suboptimal\",\n",
    "    )\n",
    ")\n",
    "fig.add_trace(\n",
    "    go.Scatter(\n",
    "        x=df_best[\"x\"],\n",
    "        y=df_best[\"y\"],\n",
    "        mode=\"markers\",\n",
    "        marker=dict(\n",
    "            size=8, opacity=0.5, symbol=\"square\", line=dict(width=1, color=\"black\")\n",
    "        ),\n",
    "        name=\"Pareto frontier\",\n",
    "    )\n",
    ")\n",
    "# Define the width and height of the plot\n",
    "plot_width = 900\n",
    "plot_height = 400\n",
    "axis_label_font_size = 19\n",
    "\n",
    "# Customize the plot\n",
    "fig.update_layout(\n",
    "    xaxis=dict(\n",
    "        title=dict(text=\"Model performance (AUC)\", font=dict(size=axis_label_font_size)), \n",
    "        range=[-0.05, 1.05]\n",
    "    ),\n",
    "    yaxis=dict(\n",
    "        title=dict(text=\"Phe importance (Shapley value)\", font=dict(size=axis_label_font_size)), \n",
    "        range=[-0.05, 0.85]\n",
    "        )\n",
    "    ,\n",
    "    font=dict(size=18),\n",
    "    # plot_bgcolor='white',\n",
    "    legend=dict(x=0.3, y=1.1, bgcolor=\"rgba(255, 255, 255, 0)\", orientation=\"h\"),\n",
    "    width=plot_width,\n",
    "    height=plot_height,\n",
    "    margin=dict(l=0, r=0, t=0, b=0),\n",
    ")\n",
    "x_max = max(df_nonbest[\"x\"].max(), df_best[\"x\"].max())\n",
    "\n",
    "fig.update_layout(\n",
    "    # ... (previous settings)\n",
    "    shapes=[\n",
    "        dict(\n",
    "            type=\"rect\",\n",
    "            xref=\"x\",\n",
    "            yref=\"paper\",\n",
    "            x0=0.8,\n",
    "            x1=x_max,\n",
    "            y0=0.0,\n",
    "            y1=1,\n",
    "            fillcolor=\"darkgreen\",\n",
    "            opacity=0.20,\n",
    "            layer=\"below\",\n",
    "            line_width=0,\n",
    "        )\n",
    "    ],\n",
    "    # ... (previous settings)\n",
    ")\n",
    "\n",
    "\n",
    "import plotly.io as pio\n",
    "\n",
    "dpi = 300  # Set the desired resolution (dots per inch)\n",
    "output_filename = f\"pareto_{study_name}.png\"\n",
    "pio.write_image(fig, output_filename, format=\"png\", scale=dpi / 96)\n",
    "\n",
    "# Show the plot\n",
    "fig.show()"
   ]
  },
  {
   "cell_type": "code",
   "execution_count": 40,
   "metadata": {},
   "outputs": [],
   "source": [
    "# # Extract the best trials from the multi-objective study\n",
    "# best_trials = study.best_trials\n",
    "# \n",
    "# # Print information about the best trials\n",
    "# for i, trial in enumerate(best_trials):\n",
    "#     print(f\"Best trial {i+1} number: {trial.number}\")\n",
    "#     print(f\"Best trial {i+1} values: {trial.values}\")\n",
    "#     print(f\"Best trial {i+1} parameters: {trial.params}\")\n",
    "#     print()\n"
   ]
  },
  {
   "attachments": {},
   "cell_type": "markdown",
   "metadata": {},
   "source": [
    "# Ranking plots"
   ]
  },
  {
   "cell_type": "code",
   "execution_count": 41,
   "metadata": {},
   "outputs": [
    {
     "data": {
      "text/plain": [
       "[FrozenTrial(number=208, state=TrialState.COMPLETE, values=[1.0, 0.24859605729579926], datetime_start=datetime.datetime(2023, 5, 3, 12, 4, 29, 449710), datetime_complete=datetime.datetime(2023, 5, 3, 12, 4, 31, 347943), params={'seed': 3586}, user_attrs={}, system_attrs={}, intermediate_values={}, distributions={'seed': IntDistribution(high=10000, log=False, low=1, step=1)}, trial_id=70191, value=None),\n",
       " FrozenTrial(number=307, state=TrialState.COMPLETE, values=[1.0, 0.24859605729579926], datetime_start=datetime.datetime(2023, 5, 3, 12, 4, 45, 949088), datetime_complete=datetime.datetime(2023, 5, 3, 12, 4, 48, 118667), params={'seed': 3586}, user_attrs={}, system_attrs={}, intermediate_values={}, distributions={'seed': IntDistribution(high=10000, log=False, low=1, step=1)}, trial_id=70290, value=None),\n",
       " FrozenTrial(number=466, state=TrialState.COMPLETE, values=[0.9615384615384616, 0.37896794080734253], datetime_start=datetime.datetime(2023, 5, 3, 12, 5, 16, 135169), datetime_complete=datetime.datetime(2023, 5, 3, 12, 5, 19, 63475), params={'seed': 697}, user_attrs={}, system_attrs={}, intermediate_values={}, distributions={'seed': IntDistribution(high=10000, log=False, low=1, step=1)}, trial_id=70449, value=None),\n",
       " FrozenTrial(number=467, state=TrialState.COMPLETE, values=[0.7692307692307693, 0.7627907395362854], datetime_start=datetime.datetime(2023, 5, 3, 12, 5, 16, 135867), datetime_complete=datetime.datetime(2023, 5, 3, 12, 5, 18, 144529), params={'seed': 6730}, user_attrs={}, system_attrs={}, intermediate_values={}, distributions={'seed': IntDistribution(high=10000, log=False, low=1, step=1)}, trial_id=70450, value=None),\n",
       " FrozenTrial(number=707, state=TrialState.COMPLETE, values=[0.7307692307692307, 0.8382703065872192], datetime_start=datetime.datetime(2023, 5, 3, 12, 6, 6, 836019), datetime_complete=datetime.datetime(2023, 5, 3, 12, 6, 9, 425567), params={'seed': 8829}, user_attrs={}, system_attrs={}, intermediate_values={}, distributions={'seed': IntDistribution(high=10000, log=False, low=1, step=1)}, trial_id=70690, value=None),\n",
       " FrozenTrial(number=802, state=TrialState.COMPLETE, values=[0.861111111111111, 0.46756628155708313], datetime_start=datetime.datetime(2023, 5, 3, 12, 6, 27, 867930), datetime_complete=datetime.datetime(2023, 5, 3, 12, 6, 30, 443609), params={'seed': 7759}, user_attrs={}, system_attrs={}, intermediate_values={}, distributions={'seed': IntDistribution(high=10000, log=False, low=1, step=1)}, trial_id=70785, value=None),\n",
       " FrozenTrial(number=812, state=TrialState.COMPLETE, values=[0.9230769230769231, 0.4521581530570984], datetime_start=datetime.datetime(2023, 5, 3, 12, 6, 30, 898879), datetime_complete=datetime.datetime(2023, 5, 3, 12, 6, 34, 56664), params={'seed': 9685}, user_attrs={}, system_attrs={}, intermediate_values={}, distributions={'seed': IntDistribution(high=10000, log=False, low=1, step=1)}, trial_id=70795, value=None)]"
      ]
     },
     "execution_count": 41,
     "metadata": {},
     "output_type": "execute_result"
    }
   ],
   "source": [
    "study.best_trials"
   ]
  },
  {
   "cell_type": "code",
   "execution_count": 42,
   "metadata": {},
   "outputs": [
    {
     "name": "stdout",
     "output_type": "stream",
     "text": [
      "<class 'pandas.core.frame.DataFrame'>\n",
      "Int64Index: 25 entries, 14 to 946\n",
      "Data columns (total 9 columns):\n",
      " #   Column            Non-Null Count  Dtype  \n",
      "---  ------            --------------  -----  \n",
      " 0   alpha             25 non-null     float64\n",
      " 1   eta               25 non-null     float64\n",
      " 2   lambda            25 non-null     float64\n",
      " 3   max_depth         25 non-null     float64\n",
      " 4   scale_pos_weight  25 non-null     float64\n",
      " 5   seed              25 non-null     float64\n",
      " 6   subsample         25 non-null     float64\n",
      " 7   auc               25 non-null     float64\n",
      " 8   phe               25 non-null     float64\n",
      "dtypes: float64(9)\n",
      "memory usage: 2.0 KB\n"
     ]
    }
   ],
   "source": [
    "# Create a empty data frame for \n",
    "bs_trials = pd.DataFrame(columns=[\n",
    " 'alpha',\n",
    " 'eta',\n",
    " 'lambda',\n",
    " 'max_depth',\n",
    " 'scale_pos_weight',\n",
    " 'seed',\n",
    " 'subsample',\n",
    " 'auc', 'phe'\n",
    "])\n",
    "\n",
    "hardcoded_params = {\n",
    "            \"objective\": \"binary:logistic\",\n",
    "            \"eval_metric\":       \"logloss\",\n",
    "            \"max_depth\":                 5,\n",
    "            \"eta\":                0.226908,\n",
    "            \"subsample\":          0.749761,\n",
    "            \"lambda\":             0.418621,\n",
    "            \"alpha\":              0.466643,\n",
    "            \"scale_pos_weight\":   1.640296,\n",
    "    }\n",
    "\n",
    "CUTOFF_AUC = 0.80\n",
    "CUTOFF_PHE = 0.20\n",
    "\n",
    "for t in study.get_trials(): #[:499]:\n",
    "    if t.values[0] > CUTOFF_AUC and t.values[1] > CUTOFF_PHE:\n",
    "        #bs_trials.loc[t.number] = list(t.params.values()) + list(t.values)\n",
    "        bs_trials.loc[t.number] = [0.466643, 0.226908, 0.418621, 5, 1.640296] + list(t.params.values()) + [0.749761] + list(t.values)\n",
    "\n",
    "# for t in study.best_trials:\n",
    "# for t in better_trials:\n",
    "#     bs_trials.loc[t.number] = list(t.params.values()) + list(t.values)\n",
    "#     # and saves them to rows in a dataframe\n",
    "\n",
    "bs_trials.info()"
   ]
  },
  {
   "cell_type": "code",
   "execution_count": 43,
   "metadata": {},
   "outputs": [
    {
     "data": {
      "text/plain": [
       "alpha                  0.466643\n",
       "eta                    0.226908\n",
       "lambda                 0.418621\n",
       "max_depth              5.000000\n",
       "scale_pos_weight       1.640296\n",
       "seed                5268.000000\n",
       "subsample              0.749761\n",
       "auc                    0.903846\n",
       "phe                    0.289943\n",
       "Name: 50%, dtype: float64"
      ]
     },
     "execution_count": 43,
     "metadata": {},
     "output_type": "execute_result"
    }
   ],
   "source": [
    "bs_trials = bs_trials.drop_duplicates()\n",
    "bs_trials.describe().loc['50%']"
   ]
  },
  {
   "cell_type": "code",
   "execution_count": 44,
   "metadata": {},
   "outputs": [
    {
     "data": {
      "application/vnd.plotly.v1+json": {
       "config": {
        "plotlyServerURL": "https://plot.ly"
       },
       "data": [
        {
         "dimensions": [
          {
           "label": "seed",
           "values": [
            3406,
            2739,
            1230,
            4311,
            203,
            3586,
            2458,
            5187,
            697,
            6489,
            6926,
            7215,
            6582,
            7205,
            8858,
            7759,
            7983,
            9685,
            9040,
            5268,
            1656
           ]
          },
          {
           "label": "alpha",
           "values": [
            0.466643,
            0.466643,
            0.466643,
            0.466643,
            0.466643,
            0.466643,
            0.466643,
            0.466643,
            0.466643,
            0.466643,
            0.466643,
            0.466643,
            0.466643,
            0.466643,
            0.466643,
            0.466643,
            0.466643,
            0.466643,
            0.466643,
            0.466643,
            0.466643
           ]
          },
          {
           "label": "eta",
           "values": [
            0.226908,
            0.226908,
            0.226908,
            0.226908,
            0.226908,
            0.226908,
            0.226908,
            0.226908,
            0.226908,
            0.226908,
            0.226908,
            0.226908,
            0.226908,
            0.226908,
            0.226908,
            0.226908,
            0.226908,
            0.226908,
            0.226908,
            0.226908,
            0.226908
           ]
          },
          {
           "label": "lambda",
           "values": [
            0.418621,
            0.418621,
            0.418621,
            0.418621,
            0.418621,
            0.418621,
            0.418621,
            0.418621,
            0.418621,
            0.418621,
            0.418621,
            0.418621,
            0.418621,
            0.418621,
            0.418621,
            0.418621,
            0.418621,
            0.418621,
            0.418621,
            0.418621,
            0.418621
           ]
          },
          {
           "label": "max_depth",
           "values": [
            5,
            5,
            5,
            5,
            5,
            5,
            5,
            5,
            5,
            5,
            5,
            5,
            5,
            5,
            5,
            5,
            5,
            5,
            5,
            5,
            5
           ]
          },
          {
           "label": "scale_pos_weight",
           "values": [
            1.640296,
            1.640296,
            1.640296,
            1.640296,
            1.640296,
            1.640296,
            1.640296,
            1.640296,
            1.640296,
            1.640296,
            1.640296,
            1.640296,
            1.640296,
            1.640296,
            1.640296,
            1.640296,
            1.640296,
            1.640296,
            1.640296,
            1.640296,
            1.640296
           ]
          },
          {
           "label": "subsample",
           "values": [
            0.749761,
            0.749761,
            0.749761,
            0.749761,
            0.749761,
            0.749761,
            0.749761,
            0.749761,
            0.749761,
            0.749761,
            0.749761,
            0.749761,
            0.749761,
            0.749761,
            0.749761,
            0.749761,
            0.749761,
            0.749761,
            0.749761,
            0.749761,
            0.749761
           ]
          },
          {
           "label": "phe",
           "values": [
            0.23130348324775696,
            0.23277316987514496,
            0.28994297981262207,
            0.22776377201080322,
            0.4293670654296875,
            0.24859605729579926,
            0.39802655577659607,
            0.2271338254213333,
            0.37896794080734253,
            0.2369413673877716,
            0.2326921969652176,
            0.3797609508037567,
            0.24052785336971283,
            0.22047948837280273,
            0.3039713501930237,
            0.46756628155708313,
            0.240810826420784,
            0.4521581530570984,
            0.3740358054637909,
            0.3194751739501953,
            0.2984904944896698
           ]
          },
          {
           "label": "auc",
           "values": [
            0.9615384615384616,
            0.9230769230769231,
            0.8055555555555555,
            0.8055555555555556,
            0.8846153846153846,
            1,
            0.8076923076923077,
            0.8055555555555556,
            0.9615384615384616,
            0.9038461538461539,
            0.9230769230769231,
            0.8846153846153846,
            0.875,
            0.9615384615384616,
            0.8611111111111112,
            0.861111111111111,
            0.8055555555555556,
            0.9230769230769231,
            0.9166666666666666,
            0.9230769230769231,
            0.9230769230769231
           ]
          }
         ],
         "domain": {
          "x": [
           0,
           1
          ],
          "y": [
           0,
           1
          ]
         },
         "line": {
          "color": [
           0.9615384615384616,
           0.9230769230769231,
           0.8055555555555555,
           0.8055555555555556,
           0.8846153846153846,
           1,
           0.8076923076923077,
           0.8055555555555556,
           0.9615384615384616,
           0.9038461538461539,
           0.9230769230769231,
           0.8846153846153846,
           0.875,
           0.9615384615384616,
           0.8611111111111112,
           0.861111111111111,
           0.8055555555555556,
           0.9230769230769231,
           0.9166666666666666,
           0.9230769230769231,
           0.9230769230769231
          ],
          "coloraxis": "coloraxis"
         },
         "name": "",
         "type": "parcoords"
        }
       ],
       "layout": {
        "coloraxis": {
         "colorbar": {
          "title": {
           "text": "auc"
          }
         },
         "colorscale": [
          [
           0,
           "#0d0887"
          ],
          [
           0.1111111111111111,
           "#46039f"
          ],
          [
           0.2222222222222222,
           "#7201a8"
          ],
          [
           0.3333333333333333,
           "#9c179e"
          ],
          [
           0.4444444444444444,
           "#bd3786"
          ],
          [
           0.5555555555555556,
           "#d8576b"
          ],
          [
           0.6666666666666666,
           "#ed7953"
          ],
          [
           0.7777777777777778,
           "#fb9f3a"
          ],
          [
           0.8888888888888888,
           "#fdca26"
          ],
          [
           1,
           "#f0f921"
          ]
         ]
        },
        "legend": {
         "tracegroupgap": 0
        },
        "margin": {
         "t": 60
        },
        "template": {
         "data": {
          "bar": [
           {
            "error_x": {
             "color": "#2a3f5f"
            },
            "error_y": {
             "color": "#2a3f5f"
            },
            "marker": {
             "line": {
              "color": "#E5ECF6",
              "width": 0.5
             },
             "pattern": {
              "fillmode": "overlay",
              "size": 10,
              "solidity": 0.2
             }
            },
            "type": "bar"
           }
          ],
          "barpolar": [
           {
            "marker": {
             "line": {
              "color": "#E5ECF6",
              "width": 0.5
             },
             "pattern": {
              "fillmode": "overlay",
              "size": 10,
              "solidity": 0.2
             }
            },
            "type": "barpolar"
           }
          ],
          "carpet": [
           {
            "aaxis": {
             "endlinecolor": "#2a3f5f",
             "gridcolor": "white",
             "linecolor": "white",
             "minorgridcolor": "white",
             "startlinecolor": "#2a3f5f"
            },
            "baxis": {
             "endlinecolor": "#2a3f5f",
             "gridcolor": "white",
             "linecolor": "white",
             "minorgridcolor": "white",
             "startlinecolor": "#2a3f5f"
            },
            "type": "carpet"
           }
          ],
          "choropleth": [
           {
            "colorbar": {
             "outlinewidth": 0,
             "ticks": ""
            },
            "type": "choropleth"
           }
          ],
          "contour": [
           {
            "colorbar": {
             "outlinewidth": 0,
             "ticks": ""
            },
            "colorscale": [
             [
              0,
              "#0d0887"
             ],
             [
              0.1111111111111111,
              "#46039f"
             ],
             [
              0.2222222222222222,
              "#7201a8"
             ],
             [
              0.3333333333333333,
              "#9c179e"
             ],
             [
              0.4444444444444444,
              "#bd3786"
             ],
             [
              0.5555555555555556,
              "#d8576b"
             ],
             [
              0.6666666666666666,
              "#ed7953"
             ],
             [
              0.7777777777777778,
              "#fb9f3a"
             ],
             [
              0.8888888888888888,
              "#fdca26"
             ],
             [
              1,
              "#f0f921"
             ]
            ],
            "type": "contour"
           }
          ],
          "contourcarpet": [
           {
            "colorbar": {
             "outlinewidth": 0,
             "ticks": ""
            },
            "type": "contourcarpet"
           }
          ],
          "heatmap": [
           {
            "colorbar": {
             "outlinewidth": 0,
             "ticks": ""
            },
            "colorscale": [
             [
              0,
              "#0d0887"
             ],
             [
              0.1111111111111111,
              "#46039f"
             ],
             [
              0.2222222222222222,
              "#7201a8"
             ],
             [
              0.3333333333333333,
              "#9c179e"
             ],
             [
              0.4444444444444444,
              "#bd3786"
             ],
             [
              0.5555555555555556,
              "#d8576b"
             ],
             [
              0.6666666666666666,
              "#ed7953"
             ],
             [
              0.7777777777777778,
              "#fb9f3a"
             ],
             [
              0.8888888888888888,
              "#fdca26"
             ],
             [
              1,
              "#f0f921"
             ]
            ],
            "type": "heatmap"
           }
          ],
          "heatmapgl": [
           {
            "colorbar": {
             "outlinewidth": 0,
             "ticks": ""
            },
            "colorscale": [
             [
              0,
              "#0d0887"
             ],
             [
              0.1111111111111111,
              "#46039f"
             ],
             [
              0.2222222222222222,
              "#7201a8"
             ],
             [
              0.3333333333333333,
              "#9c179e"
             ],
             [
              0.4444444444444444,
              "#bd3786"
             ],
             [
              0.5555555555555556,
              "#d8576b"
             ],
             [
              0.6666666666666666,
              "#ed7953"
             ],
             [
              0.7777777777777778,
              "#fb9f3a"
             ],
             [
              0.8888888888888888,
              "#fdca26"
             ],
             [
              1,
              "#f0f921"
             ]
            ],
            "type": "heatmapgl"
           }
          ],
          "histogram": [
           {
            "marker": {
             "pattern": {
              "fillmode": "overlay",
              "size": 10,
              "solidity": 0.2
             }
            },
            "type": "histogram"
           }
          ],
          "histogram2d": [
           {
            "colorbar": {
             "outlinewidth": 0,
             "ticks": ""
            },
            "colorscale": [
             [
              0,
              "#0d0887"
             ],
             [
              0.1111111111111111,
              "#46039f"
             ],
             [
              0.2222222222222222,
              "#7201a8"
             ],
             [
              0.3333333333333333,
              "#9c179e"
             ],
             [
              0.4444444444444444,
              "#bd3786"
             ],
             [
              0.5555555555555556,
              "#d8576b"
             ],
             [
              0.6666666666666666,
              "#ed7953"
             ],
             [
              0.7777777777777778,
              "#fb9f3a"
             ],
             [
              0.8888888888888888,
              "#fdca26"
             ],
             [
              1,
              "#f0f921"
             ]
            ],
            "type": "histogram2d"
           }
          ],
          "histogram2dcontour": [
           {
            "colorbar": {
             "outlinewidth": 0,
             "ticks": ""
            },
            "colorscale": [
             [
              0,
              "#0d0887"
             ],
             [
              0.1111111111111111,
              "#46039f"
             ],
             [
              0.2222222222222222,
              "#7201a8"
             ],
             [
              0.3333333333333333,
              "#9c179e"
             ],
             [
              0.4444444444444444,
              "#bd3786"
             ],
             [
              0.5555555555555556,
              "#d8576b"
             ],
             [
              0.6666666666666666,
              "#ed7953"
             ],
             [
              0.7777777777777778,
              "#fb9f3a"
             ],
             [
              0.8888888888888888,
              "#fdca26"
             ],
             [
              1,
              "#f0f921"
             ]
            ],
            "type": "histogram2dcontour"
           }
          ],
          "mesh3d": [
           {
            "colorbar": {
             "outlinewidth": 0,
             "ticks": ""
            },
            "type": "mesh3d"
           }
          ],
          "parcoords": [
           {
            "line": {
             "colorbar": {
              "outlinewidth": 0,
              "ticks": ""
             }
            },
            "type": "parcoords"
           }
          ],
          "pie": [
           {
            "automargin": true,
            "type": "pie"
           }
          ],
          "scatter": [
           {
            "fillpattern": {
             "fillmode": "overlay",
             "size": 10,
             "solidity": 0.2
            },
            "type": "scatter"
           }
          ],
          "scatter3d": [
           {
            "line": {
             "colorbar": {
              "outlinewidth": 0,
              "ticks": ""
             }
            },
            "marker": {
             "colorbar": {
              "outlinewidth": 0,
              "ticks": ""
             }
            },
            "type": "scatter3d"
           }
          ],
          "scattercarpet": [
           {
            "marker": {
             "colorbar": {
              "outlinewidth": 0,
              "ticks": ""
             }
            },
            "type": "scattercarpet"
           }
          ],
          "scattergeo": [
           {
            "marker": {
             "colorbar": {
              "outlinewidth": 0,
              "ticks": ""
             }
            },
            "type": "scattergeo"
           }
          ],
          "scattergl": [
           {
            "marker": {
             "colorbar": {
              "outlinewidth": 0,
              "ticks": ""
             }
            },
            "type": "scattergl"
           }
          ],
          "scattermapbox": [
           {
            "marker": {
             "colorbar": {
              "outlinewidth": 0,
              "ticks": ""
             }
            },
            "type": "scattermapbox"
           }
          ],
          "scatterpolar": [
           {
            "marker": {
             "colorbar": {
              "outlinewidth": 0,
              "ticks": ""
             }
            },
            "type": "scatterpolar"
           }
          ],
          "scatterpolargl": [
           {
            "marker": {
             "colorbar": {
              "outlinewidth": 0,
              "ticks": ""
             }
            },
            "type": "scatterpolargl"
           }
          ],
          "scatterternary": [
           {
            "marker": {
             "colorbar": {
              "outlinewidth": 0,
              "ticks": ""
             }
            },
            "type": "scatterternary"
           }
          ],
          "surface": [
           {
            "colorbar": {
             "outlinewidth": 0,
             "ticks": ""
            },
            "colorscale": [
             [
              0,
              "#0d0887"
             ],
             [
              0.1111111111111111,
              "#46039f"
             ],
             [
              0.2222222222222222,
              "#7201a8"
             ],
             [
              0.3333333333333333,
              "#9c179e"
             ],
             [
              0.4444444444444444,
              "#bd3786"
             ],
             [
              0.5555555555555556,
              "#d8576b"
             ],
             [
              0.6666666666666666,
              "#ed7953"
             ],
             [
              0.7777777777777778,
              "#fb9f3a"
             ],
             [
              0.8888888888888888,
              "#fdca26"
             ],
             [
              1,
              "#f0f921"
             ]
            ],
            "type": "surface"
           }
          ],
          "table": [
           {
            "cells": {
             "fill": {
              "color": "#EBF0F8"
             },
             "line": {
              "color": "white"
             }
            },
            "header": {
             "fill": {
              "color": "#C8D4E3"
             },
             "line": {
              "color": "white"
             }
            },
            "type": "table"
           }
          ]
         },
         "layout": {
          "annotationdefaults": {
           "arrowcolor": "#2a3f5f",
           "arrowhead": 0,
           "arrowwidth": 1
          },
          "autotypenumbers": "strict",
          "coloraxis": {
           "colorbar": {
            "outlinewidth": 0,
            "ticks": ""
           }
          },
          "colorscale": {
           "diverging": [
            [
             0,
             "#8e0152"
            ],
            [
             0.1,
             "#c51b7d"
            ],
            [
             0.2,
             "#de77ae"
            ],
            [
             0.3,
             "#f1b6da"
            ],
            [
             0.4,
             "#fde0ef"
            ],
            [
             0.5,
             "#f7f7f7"
            ],
            [
             0.6,
             "#e6f5d0"
            ],
            [
             0.7,
             "#b8e186"
            ],
            [
             0.8,
             "#7fbc41"
            ],
            [
             0.9,
             "#4d9221"
            ],
            [
             1,
             "#276419"
            ]
           ],
           "sequential": [
            [
             0,
             "#0d0887"
            ],
            [
             0.1111111111111111,
             "#46039f"
            ],
            [
             0.2222222222222222,
             "#7201a8"
            ],
            [
             0.3333333333333333,
             "#9c179e"
            ],
            [
             0.4444444444444444,
             "#bd3786"
            ],
            [
             0.5555555555555556,
             "#d8576b"
            ],
            [
             0.6666666666666666,
             "#ed7953"
            ],
            [
             0.7777777777777778,
             "#fb9f3a"
            ],
            [
             0.8888888888888888,
             "#fdca26"
            ],
            [
             1,
             "#f0f921"
            ]
           ],
           "sequentialminus": [
            [
             0,
             "#0d0887"
            ],
            [
             0.1111111111111111,
             "#46039f"
            ],
            [
             0.2222222222222222,
             "#7201a8"
            ],
            [
             0.3333333333333333,
             "#9c179e"
            ],
            [
             0.4444444444444444,
             "#bd3786"
            ],
            [
             0.5555555555555556,
             "#d8576b"
            ],
            [
             0.6666666666666666,
             "#ed7953"
            ],
            [
             0.7777777777777778,
             "#fb9f3a"
            ],
            [
             0.8888888888888888,
             "#fdca26"
            ],
            [
             1,
             "#f0f921"
            ]
           ]
          },
          "colorway": [
           "#636efa",
           "#EF553B",
           "#00cc96",
           "#ab63fa",
           "#FFA15A",
           "#19d3f3",
           "#FF6692",
           "#B6E880",
           "#FF97FF",
           "#FECB52"
          ],
          "font": {
           "color": "#2a3f5f"
          },
          "geo": {
           "bgcolor": "white",
           "lakecolor": "white",
           "landcolor": "#E5ECF6",
           "showlakes": true,
           "showland": true,
           "subunitcolor": "white"
          },
          "hoverlabel": {
           "align": "left"
          },
          "hovermode": "closest",
          "mapbox": {
           "style": "light"
          },
          "paper_bgcolor": "white",
          "plot_bgcolor": "#E5ECF6",
          "polar": {
           "angularaxis": {
            "gridcolor": "white",
            "linecolor": "white",
            "ticks": ""
           },
           "bgcolor": "#E5ECF6",
           "radialaxis": {
            "gridcolor": "white",
            "linecolor": "white",
            "ticks": ""
           }
          },
          "scene": {
           "xaxis": {
            "backgroundcolor": "#E5ECF6",
            "gridcolor": "white",
            "gridwidth": 2,
            "linecolor": "white",
            "showbackground": true,
            "ticks": "",
            "zerolinecolor": "white"
           },
           "yaxis": {
            "backgroundcolor": "#E5ECF6",
            "gridcolor": "white",
            "gridwidth": 2,
            "linecolor": "white",
            "showbackground": true,
            "ticks": "",
            "zerolinecolor": "white"
           },
           "zaxis": {
            "backgroundcolor": "#E5ECF6",
            "gridcolor": "white",
            "gridwidth": 2,
            "linecolor": "white",
            "showbackground": true,
            "ticks": "",
            "zerolinecolor": "white"
           }
          },
          "shapedefaults": {
           "line": {
            "color": "#2a3f5f"
           }
          },
          "ternary": {
           "aaxis": {
            "gridcolor": "white",
            "linecolor": "white",
            "ticks": ""
           },
           "baxis": {
            "gridcolor": "white",
            "linecolor": "white",
            "ticks": ""
           },
           "bgcolor": "#E5ECF6",
           "caxis": {
            "gridcolor": "white",
            "linecolor": "white",
            "ticks": ""
           }
          },
          "title": {
           "x": 0.05
          },
          "xaxis": {
           "automargin": true,
           "gridcolor": "white",
           "linecolor": "white",
           "ticks": "",
           "title": {
            "standoff": 15
           },
           "zerolinecolor": "white",
           "zerolinewidth": 2
          },
          "yaxis": {
           "automargin": true,
           "gridcolor": "white",
           "linecolor": "white",
           "ticks": "",
           "title": {
            "standoff": 15
           },
           "zerolinecolor": "white",
           "zerolinewidth": 2
          }
         }
        }
       }
      }
     },
     "metadata": {},
     "output_type": "display_data"
    }
   ],
   "source": [
    "import plotly.express as px\n",
    "#fig = px.parallel_coordinates(bs_trials)\n",
    "\n",
    "fig = px.parallel_coordinates(\n",
    "      bs_trials, \n",
    "      color=\"auc\",\n",
    "      dimensions=[\n",
    "            'seed',\n",
    "            'alpha',\n",
    "            'eta',\n",
    "            'lambda',\n",
    "            'max_depth',\n",
    "            'scale_pos_weight',\n",
    "            'subsample',\n",
    "            \"phe\", \n",
    "            \"auc\"\n",
    "      ],)\n",
    "fig.show()"
   ]
  },
  {
   "cell_type": "code",
   "execution_count": 45,
   "metadata": {},
   "outputs": [
    {
     "data": {
      "application/vnd.plotly.v1+json": {
       "config": {
        "plotlyServerURL": "https://plot.ly"
       },
       "data": [
        {
         "alignmentgroup": "True",
         "boxpoints": "all",
         "hovertemplate": "variable=%{x}<br>value=%{y}<extra></extra>",
         "legendgroup": "",
         "marker": {
          "color": "#636efa"
         },
         "name": "",
         "notched": false,
         "offsetgroup": "",
         "orientation": "v",
         "showlegend": false,
         "type": "box",
         "x": [
          "alpha",
          "alpha",
          "alpha",
          "alpha",
          "alpha",
          "alpha",
          "alpha",
          "alpha",
          "alpha",
          "alpha",
          "alpha",
          "alpha",
          "alpha",
          "alpha",
          "alpha",
          "alpha",
          "alpha",
          "alpha",
          "alpha",
          "alpha",
          "alpha"
         ],
         "x0": " ",
         "xaxis": "x",
         "y": [
          0.466643,
          0.466643,
          0.466643,
          0.466643,
          0.466643,
          0.466643,
          0.466643,
          0.466643,
          0.466643,
          0.466643,
          0.466643,
          0.466643,
          0.466643,
          0.466643,
          0.466643,
          0.466643,
          0.466643,
          0.466643,
          0.466643,
          0.466643,
          0.466643
         ],
         "y0": " ",
         "yaxis": "y"
        },
        {
         "alignmentgroup": "True",
         "boxpoints": "all",
         "hovertemplate": "variable=%{x}<br>value=%{y}<extra></extra>",
         "legendgroup": "",
         "marker": {
          "color": "#636efa"
         },
         "name": "",
         "notched": false,
         "offsetgroup": "",
         "orientation": "v",
         "showlegend": false,
         "type": "box",
         "x": [
          "eta",
          "eta",
          "eta",
          "eta",
          "eta",
          "eta",
          "eta",
          "eta",
          "eta",
          "eta",
          "eta",
          "eta",
          "eta",
          "eta",
          "eta",
          "eta",
          "eta",
          "eta",
          "eta",
          "eta",
          "eta"
         ],
         "x0": " ",
         "xaxis": "x2",
         "y": [
          0.226908,
          0.226908,
          0.226908,
          0.226908,
          0.226908,
          0.226908,
          0.226908,
          0.226908,
          0.226908,
          0.226908,
          0.226908,
          0.226908,
          0.226908,
          0.226908,
          0.226908,
          0.226908,
          0.226908,
          0.226908,
          0.226908,
          0.226908,
          0.226908
         ],
         "y0": " ",
         "yaxis": "y2"
        },
        {
         "alignmentgroup": "True",
         "boxpoints": "all",
         "hovertemplate": "variable=%{x}<br>value=%{y}<extra></extra>",
         "legendgroup": "",
         "marker": {
          "color": "#636efa"
         },
         "name": "",
         "notched": false,
         "offsetgroup": "",
         "orientation": "v",
         "showlegend": false,
         "type": "box",
         "x": [
          "lambda",
          "lambda",
          "lambda",
          "lambda",
          "lambda",
          "lambda",
          "lambda",
          "lambda",
          "lambda",
          "lambda",
          "lambda",
          "lambda",
          "lambda",
          "lambda",
          "lambda",
          "lambda",
          "lambda",
          "lambda",
          "lambda",
          "lambda",
          "lambda"
         ],
         "x0": " ",
         "xaxis": "x3",
         "y": [
          0.418621,
          0.418621,
          0.418621,
          0.418621,
          0.418621,
          0.418621,
          0.418621,
          0.418621,
          0.418621,
          0.418621,
          0.418621,
          0.418621,
          0.418621,
          0.418621,
          0.418621,
          0.418621,
          0.418621,
          0.418621,
          0.418621,
          0.418621,
          0.418621
         ],
         "y0": " ",
         "yaxis": "y3"
        },
        {
         "alignmentgroup": "True",
         "boxpoints": "all",
         "hovertemplate": "variable=%{x}<br>value=%{y}<extra></extra>",
         "legendgroup": "",
         "marker": {
          "color": "#636efa"
         },
         "name": "",
         "notched": false,
         "offsetgroup": "",
         "orientation": "v",
         "showlegend": false,
         "type": "box",
         "x": [
          "max_depth",
          "max_depth",
          "max_depth",
          "max_depth",
          "max_depth",
          "max_depth",
          "max_depth",
          "max_depth",
          "max_depth",
          "max_depth",
          "max_depth",
          "max_depth",
          "max_depth",
          "max_depth",
          "max_depth",
          "max_depth",
          "max_depth",
          "max_depth",
          "max_depth",
          "max_depth",
          "max_depth"
         ],
         "x0": " ",
         "xaxis": "x4",
         "y": [
          5,
          5,
          5,
          5,
          5,
          5,
          5,
          5,
          5,
          5,
          5,
          5,
          5,
          5,
          5,
          5,
          5,
          5,
          5,
          5,
          5
         ],
         "y0": " ",
         "yaxis": "y4"
        },
        {
         "alignmentgroup": "True",
         "boxpoints": "all",
         "hovertemplate": "variable=%{x}<br>value=%{y}<extra></extra>",
         "legendgroup": "",
         "marker": {
          "color": "#636efa"
         },
         "name": "",
         "notched": false,
         "offsetgroup": "",
         "orientation": "v",
         "showlegend": false,
         "type": "box",
         "x": [
          "scale_pos_weight",
          "scale_pos_weight",
          "scale_pos_weight",
          "scale_pos_weight",
          "scale_pos_weight",
          "scale_pos_weight",
          "scale_pos_weight",
          "scale_pos_weight",
          "scale_pos_weight",
          "scale_pos_weight",
          "scale_pos_weight",
          "scale_pos_weight",
          "scale_pos_weight",
          "scale_pos_weight",
          "scale_pos_weight",
          "scale_pos_weight",
          "scale_pos_weight",
          "scale_pos_weight",
          "scale_pos_weight",
          "scale_pos_weight",
          "scale_pos_weight"
         ],
         "x0": " ",
         "xaxis": "x5",
         "y": [
          1.640296,
          1.640296,
          1.640296,
          1.640296,
          1.640296,
          1.640296,
          1.640296,
          1.640296,
          1.640296,
          1.640296,
          1.640296,
          1.640296,
          1.640296,
          1.640296,
          1.640296,
          1.640296,
          1.640296,
          1.640296,
          1.640296,
          1.640296,
          1.640296
         ],
         "y0": " ",
         "yaxis": "y5"
        },
        {
         "alignmentgroup": "True",
         "boxpoints": "all",
         "hovertemplate": "variable=%{x}<br>value=%{y}<extra></extra>",
         "legendgroup": "",
         "marker": {
          "color": "#636efa"
         },
         "name": "",
         "notched": false,
         "offsetgroup": "",
         "orientation": "v",
         "showlegend": false,
         "type": "box",
         "x": [
          "subsample",
          "subsample",
          "subsample",
          "subsample",
          "subsample",
          "subsample",
          "subsample",
          "subsample",
          "subsample",
          "subsample",
          "subsample",
          "subsample",
          "subsample",
          "subsample",
          "subsample",
          "subsample",
          "subsample",
          "subsample",
          "subsample",
          "subsample",
          "subsample"
         ],
         "x0": " ",
         "xaxis": "x6",
         "y": [
          0.749761,
          0.749761,
          0.749761,
          0.749761,
          0.749761,
          0.749761,
          0.749761,
          0.749761,
          0.749761,
          0.749761,
          0.749761,
          0.749761,
          0.749761,
          0.749761,
          0.749761,
          0.749761,
          0.749761,
          0.749761,
          0.749761,
          0.749761,
          0.749761
         ],
         "y0": " ",
         "yaxis": "y6"
        },
        {
         "alignmentgroup": "True",
         "boxpoints": "all",
         "hovertemplate": "variable=%{x}<br>value=%{y}<extra></extra>",
         "legendgroup": "",
         "marker": {
          "color": "#636efa"
         },
         "name": "",
         "notched": false,
         "offsetgroup": "",
         "orientation": "v",
         "showlegend": false,
         "type": "box",
         "x": [
          "auc",
          "auc",
          "auc",
          "auc",
          "auc",
          "auc",
          "auc",
          "auc",
          "auc",
          "auc",
          "auc",
          "auc",
          "auc",
          "auc",
          "auc",
          "auc",
          "auc",
          "auc",
          "auc",
          "auc",
          "auc"
         ],
         "x0": " ",
         "xaxis": "x7",
         "y": [
          0.9615384615384616,
          0.9230769230769231,
          0.8055555555555555,
          0.8055555555555556,
          0.8846153846153846,
          1,
          0.8076923076923077,
          0.8055555555555556,
          0.9615384615384616,
          0.9038461538461539,
          0.9230769230769231,
          0.8846153846153846,
          0.875,
          0.9615384615384616,
          0.8611111111111112,
          0.861111111111111,
          0.8055555555555556,
          0.9230769230769231,
          0.9166666666666666,
          0.9230769230769231,
          0.9230769230769231
         ],
         "y0": " ",
         "yaxis": "y7"
        },
        {
         "alignmentgroup": "True",
         "boxpoints": "all",
         "hovertemplate": "variable=%{x}<br>value=%{y}<extra></extra>",
         "legendgroup": "",
         "marker": {
          "color": "#636efa"
         },
         "name": "",
         "notched": false,
         "offsetgroup": "",
         "orientation": "v",
         "showlegend": false,
         "type": "box",
         "x": [
          "phe",
          "phe",
          "phe",
          "phe",
          "phe",
          "phe",
          "phe",
          "phe",
          "phe",
          "phe",
          "phe",
          "phe",
          "phe",
          "phe",
          "phe",
          "phe",
          "phe",
          "phe",
          "phe",
          "phe",
          "phe"
         ],
         "x0": " ",
         "xaxis": "x8",
         "y": [
          0.23130348324775696,
          0.23277316987514496,
          0.28994297981262207,
          0.22776377201080322,
          0.4293670654296875,
          0.24859605729579926,
          0.39802655577659607,
          0.2271338254213333,
          0.37896794080734253,
          0.2369413673877716,
          0.2326921969652176,
          0.3797609508037567,
          0.24052785336971283,
          0.22047948837280273,
          0.3039713501930237,
          0.46756628155708313,
          0.240810826420784,
          0.4521581530570984,
          0.3740358054637909,
          0.3194751739501953,
          0.2984904944896698
         ],
         "y0": " ",
         "yaxis": "y8"
        }
       ],
       "layout": {
        "annotations": [
         {
          "font": {},
          "showarrow": false,
          "text": "variable=alpha",
          "x": 0.05375,
          "xanchor": "center",
          "xref": "paper",
          "y": 1,
          "yanchor": "bottom",
          "yref": "paper"
         },
         {
          "font": {},
          "showarrow": false,
          "text": "variable=eta",
          "x": 0.18125,
          "xanchor": "center",
          "xref": "paper",
          "y": 1,
          "yanchor": "bottom",
          "yref": "paper"
         },
         {
          "font": {},
          "showarrow": false,
          "text": "variable=lambda",
          "x": 0.30874999999999997,
          "xanchor": "center",
          "xref": "paper",
          "y": 1,
          "yanchor": "bottom",
          "yref": "paper"
         },
         {
          "font": {},
          "showarrow": false,
          "text": "variable=max_depth",
          "x": 0.43625,
          "xanchor": "center",
          "xref": "paper",
          "y": 1,
          "yanchor": "bottom",
          "yref": "paper"
         },
         {
          "font": {},
          "showarrow": false,
          "text": "variable=scale_pos_weight",
          "x": 0.56375,
          "xanchor": "center",
          "xref": "paper",
          "y": 1,
          "yanchor": "bottom",
          "yref": "paper"
         },
         {
          "font": {},
          "showarrow": false,
          "text": "variable=subsample",
          "x": 0.6912499999999999,
          "xanchor": "center",
          "xref": "paper",
          "y": 1,
          "yanchor": "bottom",
          "yref": "paper"
         },
         {
          "font": {},
          "showarrow": false,
          "text": "variable=auc",
          "x": 0.8187500000000001,
          "xanchor": "center",
          "xref": "paper",
          "y": 1,
          "yanchor": "bottom",
          "yref": "paper"
         },
         {
          "font": {},
          "showarrow": false,
          "text": "variable=phe",
          "x": 0.94625,
          "xanchor": "center",
          "xref": "paper",
          "y": 1,
          "yanchor": "bottom",
          "yref": "paper"
         }
        ],
        "boxmode": "group",
        "legend": {
         "tracegroupgap": 0
        },
        "margin": {
         "t": 60
        },
        "template": {
         "data": {
          "bar": [
           {
            "error_x": {
             "color": "#2a3f5f"
            },
            "error_y": {
             "color": "#2a3f5f"
            },
            "marker": {
             "line": {
              "color": "#E5ECF6",
              "width": 0.5
             },
             "pattern": {
              "fillmode": "overlay",
              "size": 10,
              "solidity": 0.2
             }
            },
            "type": "bar"
           }
          ],
          "barpolar": [
           {
            "marker": {
             "line": {
              "color": "#E5ECF6",
              "width": 0.5
             },
             "pattern": {
              "fillmode": "overlay",
              "size": 10,
              "solidity": 0.2
             }
            },
            "type": "barpolar"
           }
          ],
          "carpet": [
           {
            "aaxis": {
             "endlinecolor": "#2a3f5f",
             "gridcolor": "white",
             "linecolor": "white",
             "minorgridcolor": "white",
             "startlinecolor": "#2a3f5f"
            },
            "baxis": {
             "endlinecolor": "#2a3f5f",
             "gridcolor": "white",
             "linecolor": "white",
             "minorgridcolor": "white",
             "startlinecolor": "#2a3f5f"
            },
            "type": "carpet"
           }
          ],
          "choropleth": [
           {
            "colorbar": {
             "outlinewidth": 0,
             "ticks": ""
            },
            "type": "choropleth"
           }
          ],
          "contour": [
           {
            "colorbar": {
             "outlinewidth": 0,
             "ticks": ""
            },
            "colorscale": [
             [
              0,
              "#0d0887"
             ],
             [
              0.1111111111111111,
              "#46039f"
             ],
             [
              0.2222222222222222,
              "#7201a8"
             ],
             [
              0.3333333333333333,
              "#9c179e"
             ],
             [
              0.4444444444444444,
              "#bd3786"
             ],
             [
              0.5555555555555556,
              "#d8576b"
             ],
             [
              0.6666666666666666,
              "#ed7953"
             ],
             [
              0.7777777777777778,
              "#fb9f3a"
             ],
             [
              0.8888888888888888,
              "#fdca26"
             ],
             [
              1,
              "#f0f921"
             ]
            ],
            "type": "contour"
           }
          ],
          "contourcarpet": [
           {
            "colorbar": {
             "outlinewidth": 0,
             "ticks": ""
            },
            "type": "contourcarpet"
           }
          ],
          "heatmap": [
           {
            "colorbar": {
             "outlinewidth": 0,
             "ticks": ""
            },
            "colorscale": [
             [
              0,
              "#0d0887"
             ],
             [
              0.1111111111111111,
              "#46039f"
             ],
             [
              0.2222222222222222,
              "#7201a8"
             ],
             [
              0.3333333333333333,
              "#9c179e"
             ],
             [
              0.4444444444444444,
              "#bd3786"
             ],
             [
              0.5555555555555556,
              "#d8576b"
             ],
             [
              0.6666666666666666,
              "#ed7953"
             ],
             [
              0.7777777777777778,
              "#fb9f3a"
             ],
             [
              0.8888888888888888,
              "#fdca26"
             ],
             [
              1,
              "#f0f921"
             ]
            ],
            "type": "heatmap"
           }
          ],
          "heatmapgl": [
           {
            "colorbar": {
             "outlinewidth": 0,
             "ticks": ""
            },
            "colorscale": [
             [
              0,
              "#0d0887"
             ],
             [
              0.1111111111111111,
              "#46039f"
             ],
             [
              0.2222222222222222,
              "#7201a8"
             ],
             [
              0.3333333333333333,
              "#9c179e"
             ],
             [
              0.4444444444444444,
              "#bd3786"
             ],
             [
              0.5555555555555556,
              "#d8576b"
             ],
             [
              0.6666666666666666,
              "#ed7953"
             ],
             [
              0.7777777777777778,
              "#fb9f3a"
             ],
             [
              0.8888888888888888,
              "#fdca26"
             ],
             [
              1,
              "#f0f921"
             ]
            ],
            "type": "heatmapgl"
           }
          ],
          "histogram": [
           {
            "marker": {
             "pattern": {
              "fillmode": "overlay",
              "size": 10,
              "solidity": 0.2
             }
            },
            "type": "histogram"
           }
          ],
          "histogram2d": [
           {
            "colorbar": {
             "outlinewidth": 0,
             "ticks": ""
            },
            "colorscale": [
             [
              0,
              "#0d0887"
             ],
             [
              0.1111111111111111,
              "#46039f"
             ],
             [
              0.2222222222222222,
              "#7201a8"
             ],
             [
              0.3333333333333333,
              "#9c179e"
             ],
             [
              0.4444444444444444,
              "#bd3786"
             ],
             [
              0.5555555555555556,
              "#d8576b"
             ],
             [
              0.6666666666666666,
              "#ed7953"
             ],
             [
              0.7777777777777778,
              "#fb9f3a"
             ],
             [
              0.8888888888888888,
              "#fdca26"
             ],
             [
              1,
              "#f0f921"
             ]
            ],
            "type": "histogram2d"
           }
          ],
          "histogram2dcontour": [
           {
            "colorbar": {
             "outlinewidth": 0,
             "ticks": ""
            },
            "colorscale": [
             [
              0,
              "#0d0887"
             ],
             [
              0.1111111111111111,
              "#46039f"
             ],
             [
              0.2222222222222222,
              "#7201a8"
             ],
             [
              0.3333333333333333,
              "#9c179e"
             ],
             [
              0.4444444444444444,
              "#bd3786"
             ],
             [
              0.5555555555555556,
              "#d8576b"
             ],
             [
              0.6666666666666666,
              "#ed7953"
             ],
             [
              0.7777777777777778,
              "#fb9f3a"
             ],
             [
              0.8888888888888888,
              "#fdca26"
             ],
             [
              1,
              "#f0f921"
             ]
            ],
            "type": "histogram2dcontour"
           }
          ],
          "mesh3d": [
           {
            "colorbar": {
             "outlinewidth": 0,
             "ticks": ""
            },
            "type": "mesh3d"
           }
          ],
          "parcoords": [
           {
            "line": {
             "colorbar": {
              "outlinewidth": 0,
              "ticks": ""
             }
            },
            "type": "parcoords"
           }
          ],
          "pie": [
           {
            "automargin": true,
            "type": "pie"
           }
          ],
          "scatter": [
           {
            "fillpattern": {
             "fillmode": "overlay",
             "size": 10,
             "solidity": 0.2
            },
            "type": "scatter"
           }
          ],
          "scatter3d": [
           {
            "line": {
             "colorbar": {
              "outlinewidth": 0,
              "ticks": ""
             }
            },
            "marker": {
             "colorbar": {
              "outlinewidth": 0,
              "ticks": ""
             }
            },
            "type": "scatter3d"
           }
          ],
          "scattercarpet": [
           {
            "marker": {
             "colorbar": {
              "outlinewidth": 0,
              "ticks": ""
             }
            },
            "type": "scattercarpet"
           }
          ],
          "scattergeo": [
           {
            "marker": {
             "colorbar": {
              "outlinewidth": 0,
              "ticks": ""
             }
            },
            "type": "scattergeo"
           }
          ],
          "scattergl": [
           {
            "marker": {
             "colorbar": {
              "outlinewidth": 0,
              "ticks": ""
             }
            },
            "type": "scattergl"
           }
          ],
          "scattermapbox": [
           {
            "marker": {
             "colorbar": {
              "outlinewidth": 0,
              "ticks": ""
             }
            },
            "type": "scattermapbox"
           }
          ],
          "scatterpolar": [
           {
            "marker": {
             "colorbar": {
              "outlinewidth": 0,
              "ticks": ""
             }
            },
            "type": "scatterpolar"
           }
          ],
          "scatterpolargl": [
           {
            "marker": {
             "colorbar": {
              "outlinewidth": 0,
              "ticks": ""
             }
            },
            "type": "scatterpolargl"
           }
          ],
          "scatterternary": [
           {
            "marker": {
             "colorbar": {
              "outlinewidth": 0,
              "ticks": ""
             }
            },
            "type": "scatterternary"
           }
          ],
          "surface": [
           {
            "colorbar": {
             "outlinewidth": 0,
             "ticks": ""
            },
            "colorscale": [
             [
              0,
              "#0d0887"
             ],
             [
              0.1111111111111111,
              "#46039f"
             ],
             [
              0.2222222222222222,
              "#7201a8"
             ],
             [
              0.3333333333333333,
              "#9c179e"
             ],
             [
              0.4444444444444444,
              "#bd3786"
             ],
             [
              0.5555555555555556,
              "#d8576b"
             ],
             [
              0.6666666666666666,
              "#ed7953"
             ],
             [
              0.7777777777777778,
              "#fb9f3a"
             ],
             [
              0.8888888888888888,
              "#fdca26"
             ],
             [
              1,
              "#f0f921"
             ]
            ],
            "type": "surface"
           }
          ],
          "table": [
           {
            "cells": {
             "fill": {
              "color": "#EBF0F8"
             },
             "line": {
              "color": "white"
             }
            },
            "header": {
             "fill": {
              "color": "#C8D4E3"
             },
             "line": {
              "color": "white"
             }
            },
            "type": "table"
           }
          ]
         },
         "layout": {
          "annotationdefaults": {
           "arrowcolor": "#2a3f5f",
           "arrowhead": 0,
           "arrowwidth": 1
          },
          "autotypenumbers": "strict",
          "coloraxis": {
           "colorbar": {
            "outlinewidth": 0,
            "ticks": ""
           }
          },
          "colorscale": {
           "diverging": [
            [
             0,
             "#8e0152"
            ],
            [
             0.1,
             "#c51b7d"
            ],
            [
             0.2,
             "#de77ae"
            ],
            [
             0.3,
             "#f1b6da"
            ],
            [
             0.4,
             "#fde0ef"
            ],
            [
             0.5,
             "#f7f7f7"
            ],
            [
             0.6,
             "#e6f5d0"
            ],
            [
             0.7,
             "#b8e186"
            ],
            [
             0.8,
             "#7fbc41"
            ],
            [
             0.9,
             "#4d9221"
            ],
            [
             1,
             "#276419"
            ]
           ],
           "sequential": [
            [
             0,
             "#0d0887"
            ],
            [
             0.1111111111111111,
             "#46039f"
            ],
            [
             0.2222222222222222,
             "#7201a8"
            ],
            [
             0.3333333333333333,
             "#9c179e"
            ],
            [
             0.4444444444444444,
             "#bd3786"
            ],
            [
             0.5555555555555556,
             "#d8576b"
            ],
            [
             0.6666666666666666,
             "#ed7953"
            ],
            [
             0.7777777777777778,
             "#fb9f3a"
            ],
            [
             0.8888888888888888,
             "#fdca26"
            ],
            [
             1,
             "#f0f921"
            ]
           ],
           "sequentialminus": [
            [
             0,
             "#0d0887"
            ],
            [
             0.1111111111111111,
             "#46039f"
            ],
            [
             0.2222222222222222,
             "#7201a8"
            ],
            [
             0.3333333333333333,
             "#9c179e"
            ],
            [
             0.4444444444444444,
             "#bd3786"
            ],
            [
             0.5555555555555556,
             "#d8576b"
            ],
            [
             0.6666666666666666,
             "#ed7953"
            ],
            [
             0.7777777777777778,
             "#fb9f3a"
            ],
            [
             0.8888888888888888,
             "#fdca26"
            ],
            [
             1,
             "#f0f921"
            ]
           ]
          },
          "colorway": [
           "#636efa",
           "#EF553B",
           "#00cc96",
           "#ab63fa",
           "#FFA15A",
           "#19d3f3",
           "#FF6692",
           "#B6E880",
           "#FF97FF",
           "#FECB52"
          ],
          "font": {
           "color": "#2a3f5f"
          },
          "geo": {
           "bgcolor": "white",
           "lakecolor": "white",
           "landcolor": "#E5ECF6",
           "showlakes": true,
           "showland": true,
           "subunitcolor": "white"
          },
          "hoverlabel": {
           "align": "left"
          },
          "hovermode": "closest",
          "mapbox": {
           "style": "light"
          },
          "paper_bgcolor": "white",
          "plot_bgcolor": "#E5ECF6",
          "polar": {
           "angularaxis": {
            "gridcolor": "white",
            "linecolor": "white",
            "ticks": ""
           },
           "bgcolor": "#E5ECF6",
           "radialaxis": {
            "gridcolor": "white",
            "linecolor": "white",
            "ticks": ""
           }
          },
          "scene": {
           "xaxis": {
            "backgroundcolor": "#E5ECF6",
            "gridcolor": "white",
            "gridwidth": 2,
            "linecolor": "white",
            "showbackground": true,
            "ticks": "",
            "zerolinecolor": "white"
           },
           "yaxis": {
            "backgroundcolor": "#E5ECF6",
            "gridcolor": "white",
            "gridwidth": 2,
            "linecolor": "white",
            "showbackground": true,
            "ticks": "",
            "zerolinecolor": "white"
           },
           "zaxis": {
            "backgroundcolor": "#E5ECF6",
            "gridcolor": "white",
            "gridwidth": 2,
            "linecolor": "white",
            "showbackground": true,
            "ticks": "",
            "zerolinecolor": "white"
           }
          },
          "shapedefaults": {
           "line": {
            "color": "#2a3f5f"
           }
          },
          "ternary": {
           "aaxis": {
            "gridcolor": "white",
            "linecolor": "white",
            "ticks": ""
           },
           "baxis": {
            "gridcolor": "white",
            "linecolor": "white",
            "ticks": ""
           },
           "bgcolor": "#E5ECF6",
           "caxis": {
            "gridcolor": "white",
            "linecolor": "white",
            "ticks": ""
           }
          },
          "title": {
           "x": 0.05
          },
          "xaxis": {
           "automargin": true,
           "gridcolor": "white",
           "linecolor": "white",
           "ticks": "",
           "title": {
            "standoff": 15
           },
           "zerolinecolor": "white",
           "zerolinewidth": 2
          },
          "yaxis": {
           "automargin": true,
           "gridcolor": "white",
           "linecolor": "white",
           "ticks": "",
           "title": {
            "standoff": 15
           },
           "zerolinecolor": "white",
           "zerolinewidth": 2
          }
         }
        },
        "xaxis": {
         "anchor": "y",
         "categoryarray": [
          "alpha",
          "eta",
          "lambda",
          "max_depth",
          "scale_pos_weight",
          "subsample",
          "auc",
          "phe"
         ],
         "categoryorder": "array",
         "domain": [
          0,
          0.1075
         ],
         "title": {
          "text": "variable"
         }
        },
        "xaxis2": {
         "anchor": "y2",
         "categoryarray": [
          "alpha",
          "eta",
          "lambda",
          "max_depth",
          "scale_pos_weight",
          "subsample",
          "auc",
          "phe"
         ],
         "categoryorder": "array",
         "domain": [
          0.1275,
          0.235
         ],
         "title": {
          "text": "variable"
         }
        },
        "xaxis3": {
         "anchor": "y3",
         "categoryarray": [
          "alpha",
          "eta",
          "lambda",
          "max_depth",
          "scale_pos_weight",
          "subsample",
          "auc",
          "phe"
         ],
         "categoryorder": "array",
         "domain": [
          0.255,
          0.3625
         ],
         "title": {
          "text": "variable"
         }
        },
        "xaxis4": {
         "anchor": "y4",
         "categoryarray": [
          "alpha",
          "eta",
          "lambda",
          "max_depth",
          "scale_pos_weight",
          "subsample",
          "auc",
          "phe"
         ],
         "categoryorder": "array",
         "domain": [
          0.3825,
          0.49
         ],
         "title": {
          "text": "variable"
         }
        },
        "xaxis5": {
         "anchor": "y5",
         "categoryarray": [
          "alpha",
          "eta",
          "lambda",
          "max_depth",
          "scale_pos_weight",
          "subsample",
          "auc",
          "phe"
         ],
         "categoryorder": "array",
         "domain": [
          0.51,
          0.6175
         ],
         "title": {
          "text": "variable"
         }
        },
        "xaxis6": {
         "anchor": "y6",
         "categoryarray": [
          "alpha",
          "eta",
          "lambda",
          "max_depth",
          "scale_pos_weight",
          "subsample",
          "auc",
          "phe"
         ],
         "categoryorder": "array",
         "domain": [
          0.6375,
          0.745
         ],
         "title": {
          "text": "variable"
         }
        },
        "xaxis7": {
         "anchor": "y7",
         "categoryarray": [
          "alpha",
          "eta",
          "lambda",
          "max_depth",
          "scale_pos_weight",
          "subsample",
          "auc",
          "phe"
         ],
         "categoryorder": "array",
         "domain": [
          0.765,
          0.8725
         ],
         "title": {
          "text": "variable"
         }
        },
        "xaxis8": {
         "anchor": "y8",
         "categoryarray": [
          "alpha",
          "eta",
          "lambda",
          "max_depth",
          "scale_pos_weight",
          "subsample",
          "auc",
          "phe"
         ],
         "categoryorder": "array",
         "domain": [
          0.8925000000000001,
          1
         ],
         "title": {
          "text": "variable"
         }
        },
        "yaxis": {
         "anchor": "x",
         "domain": [
          0,
          1
         ],
         "showticklabels": true,
         "title": {
          "text": "value"
         }
        },
        "yaxis2": {
         "anchor": "x2",
         "domain": [
          0,
          1
         ],
         "showticklabels": true
        },
        "yaxis3": {
         "anchor": "x3",
         "domain": [
          0,
          1
         ],
         "showticklabels": true
        },
        "yaxis4": {
         "anchor": "x4",
         "domain": [
          0,
          1
         ],
         "showticklabels": true
        },
        "yaxis5": {
         "anchor": "x5",
         "domain": [
          0,
          1
         ],
         "showticklabels": true
        },
        "yaxis6": {
         "anchor": "x6",
         "domain": [
          0,
          1
         ],
         "showticklabels": true
        },
        "yaxis7": {
         "anchor": "x7",
         "domain": [
          0,
          1
         ],
         "showticklabels": true
        },
        "yaxis8": {
         "anchor": "x8",
         "domain": [
          0,
          1
         ],
         "showticklabels": true
        }
       }
      }
     },
     "metadata": {},
     "output_type": "display_data"
    }
   ],
   "source": [
    "import plotly.express as px\n",
    "\n",
    "fig_boxplot = px.box(\n",
    "    bs_trials.drop(\"seed\", axis=\"columns\"), \n",
    "    points=\"all\", \n",
    "    facet_col=\"variable\", \n",
    ")\n",
    "\n",
    "fig_boxplot.update_xaxes(matches=None)\n",
    "fig_boxplot.update_yaxes(matches=None)\n",
    "fig_boxplot.for_each_yaxis(lambda yaxis: yaxis.update(showticklabels=True))\n",
    "fig_boxplot.show()"
   ]
  },
  {
   "cell_type": "code",
   "execution_count": 46,
   "metadata": {},
   "outputs": [
    {
     "data": {
      "text/html": [
       "<div>\n",
       "<style scoped>\n",
       "    .dataframe tbody tr th:only-of-type {\n",
       "        vertical-align: middle;\n",
       "    }\n",
       "\n",
       "    .dataframe tbody tr th {\n",
       "        vertical-align: top;\n",
       "    }\n",
       "\n",
       "    .dataframe thead th {\n",
       "        text-align: right;\n",
       "    }\n",
       "</style>\n",
       "<table border=\"1\" class=\"dataframe\">\n",
       "  <thead>\n",
       "    <tr style=\"text-align: right;\">\n",
       "      <th></th>\n",
       "      <th>alpha</th>\n",
       "      <th>eta</th>\n",
       "      <th>lambda</th>\n",
       "      <th>max_depth</th>\n",
       "      <th>scale_pos_weight</th>\n",
       "      <th>seed</th>\n",
       "      <th>subsample</th>\n",
       "      <th>auc</th>\n",
       "      <th>phe</th>\n",
       "    </tr>\n",
       "  </thead>\n",
       "  <tbody>\n",
       "    <tr>\n",
       "      <th>14</th>\n",
       "      <td>0.466643</td>\n",
       "      <td>0.226908</td>\n",
       "      <td>0.418621</td>\n",
       "      <td>5</td>\n",
       "      <td>1.640296</td>\n",
       "      <td>3406</td>\n",
       "      <td>0.749761</td>\n",
       "      <td>0.961538</td>\n",
       "      <td>0.231303</td>\n",
       "    </tr>\n",
       "    <tr>\n",
       "      <th>41</th>\n",
       "      <td>0.466643</td>\n",
       "      <td>0.226908</td>\n",
       "      <td>0.418621</td>\n",
       "      <td>5</td>\n",
       "      <td>1.640296</td>\n",
       "      <td>2739</td>\n",
       "      <td>0.749761</td>\n",
       "      <td>0.923077</td>\n",
       "      <td>0.232773</td>\n",
       "    </tr>\n",
       "    <tr>\n",
       "      <th>155</th>\n",
       "      <td>0.466643</td>\n",
       "      <td>0.226908</td>\n",
       "      <td>0.418621</td>\n",
       "      <td>5</td>\n",
       "      <td>1.640296</td>\n",
       "      <td>1230</td>\n",
       "      <td>0.749761</td>\n",
       "      <td>0.805556</td>\n",
       "      <td>0.289943</td>\n",
       "    </tr>\n",
       "    <tr>\n",
       "      <th>163</th>\n",
       "      <td>0.466643</td>\n",
       "      <td>0.226908</td>\n",
       "      <td>0.418621</td>\n",
       "      <td>5</td>\n",
       "      <td>1.640296</td>\n",
       "      <td>4311</td>\n",
       "      <td>0.749761</td>\n",
       "      <td>0.805556</td>\n",
       "      <td>0.227764</td>\n",
       "    </tr>\n",
       "    <tr>\n",
       "      <th>168</th>\n",
       "      <td>0.466643</td>\n",
       "      <td>0.226908</td>\n",
       "      <td>0.418621</td>\n",
       "      <td>5</td>\n",
       "      <td>1.640296</td>\n",
       "      <td>203</td>\n",
       "      <td>0.749761</td>\n",
       "      <td>0.884615</td>\n",
       "      <td>0.429367</td>\n",
       "    </tr>\n",
       "  </tbody>\n",
       "</table>\n",
       "</div>"
      ],
      "text/plain": [
       "        alpha       eta    lambda  max_depth  scale_pos_weight  seed  \\\n",
       "14   0.466643  0.226908  0.418621          5          1.640296  3406   \n",
       "41   0.466643  0.226908  0.418621          5          1.640296  2739   \n",
       "155  0.466643  0.226908  0.418621          5          1.640296  1230   \n",
       "163  0.466643  0.226908  0.418621          5          1.640296  4311   \n",
       "168  0.466643  0.226908  0.418621          5          1.640296   203   \n",
       "\n",
       "     subsample       auc       phe  \n",
       "14    0.749761  0.961538  0.231303  \n",
       "41    0.749761  0.923077  0.232773  \n",
       "155   0.749761  0.805556  0.289943  \n",
       "163   0.749761  0.805556  0.227764  \n",
       "168   0.749761  0.884615  0.429367  "
      ]
     },
     "execution_count": 46,
     "metadata": {},
     "output_type": "execute_result"
    }
   ],
   "source": [
    "bs_trials['seed'], bs_trials['max_depth'] = bs_trials['seed'].astype('int'), bs_trials['max_depth'].astype('int')\n",
    "bs_trials.head()\n"
   ]
  },
  {
   "cell_type": "code",
   "execution_count": 47,
   "metadata": {},
   "outputs": [
    {
     "data": {
      "text/plain": [
       "{'objective': 'binary:logistic',\n",
       " 'eval_metric': 'logloss',\n",
       " 'alpha': 0.466643,\n",
       " 'eta': 0.226908,\n",
       " 'lambda': 0.418621,\n",
       " 'max_depth': 5.0,\n",
       " 'scale_pos_weight': 1.640296,\n",
       " 'seed': 2739.0,\n",
       " 'subsample': 0.749761}"
      ]
     },
     "execution_count": 47,
     "metadata": {},
     "output_type": "execute_result"
    }
   ],
   "source": [
    "params ={\"objective\":   \"binary:logistic\",\n",
    "            \"eval_metric\": \"logloss\"}\n",
    "\n",
    "\n",
    "params.update(\n",
    "    bs_trials.drop([\"auc\",\"phe\"], axis=\"columns\").iloc[1].to_dict()\n",
    ")\n",
    "\n",
    "params"
   ]
  },
  {
   "cell_type": "code",
   "execution_count": 48,
   "metadata": {},
   "outputs": [
    {
     "data": {
      "text/html": [
       "<div>\n",
       "<style scoped>\n",
       "    .dataframe tbody tr th:only-of-type {\n",
       "        vertical-align: middle;\n",
       "    }\n",
       "\n",
       "    .dataframe tbody tr th {\n",
       "        vertical-align: top;\n",
       "    }\n",
       "\n",
       "    .dataframe thead th {\n",
       "        text-align: right;\n",
       "    }\n",
       "</style>\n",
       "<table border=\"1\" class=\"dataframe\">\n",
       "  <thead>\n",
       "    <tr style=\"text-align: right;\">\n",
       "      <th></th>\n",
       "      <th>alpha</th>\n",
       "      <th>eta</th>\n",
       "      <th>lambda</th>\n",
       "      <th>max_depth</th>\n",
       "      <th>scale_pos_weight</th>\n",
       "      <th>seed</th>\n",
       "      <th>subsample</th>\n",
       "      <th>auc</th>\n",
       "      <th>phe</th>\n",
       "    </tr>\n",
       "  </thead>\n",
       "  <tbody>\n",
       "    <tr>\n",
       "      <th>14</th>\n",
       "      <td>0.466643</td>\n",
       "      <td>0.226908</td>\n",
       "      <td>0.418621</td>\n",
       "      <td>5</td>\n",
       "      <td>1.640296</td>\n",
       "      <td>3406</td>\n",
       "      <td>0.749761</td>\n",
       "      <td>0.961538</td>\n",
       "      <td>0.231303</td>\n",
       "    </tr>\n",
       "    <tr>\n",
       "      <th>41</th>\n",
       "      <td>0.466643</td>\n",
       "      <td>0.226908</td>\n",
       "      <td>0.418621</td>\n",
       "      <td>5</td>\n",
       "      <td>1.640296</td>\n",
       "      <td>2739</td>\n",
       "      <td>0.749761</td>\n",
       "      <td>0.923077</td>\n",
       "      <td>0.232773</td>\n",
       "    </tr>\n",
       "    <tr>\n",
       "      <th>155</th>\n",
       "      <td>0.466643</td>\n",
       "      <td>0.226908</td>\n",
       "      <td>0.418621</td>\n",
       "      <td>5</td>\n",
       "      <td>1.640296</td>\n",
       "      <td>1230</td>\n",
       "      <td>0.749761</td>\n",
       "      <td>0.805556</td>\n",
       "      <td>0.289943</td>\n",
       "    </tr>\n",
       "    <tr>\n",
       "      <th>163</th>\n",
       "      <td>0.466643</td>\n",
       "      <td>0.226908</td>\n",
       "      <td>0.418621</td>\n",
       "      <td>5</td>\n",
       "      <td>1.640296</td>\n",
       "      <td>4311</td>\n",
       "      <td>0.749761</td>\n",
       "      <td>0.805556</td>\n",
       "      <td>0.227764</td>\n",
       "    </tr>\n",
       "    <tr>\n",
       "      <th>168</th>\n",
       "      <td>0.466643</td>\n",
       "      <td>0.226908</td>\n",
       "      <td>0.418621</td>\n",
       "      <td>5</td>\n",
       "      <td>1.640296</td>\n",
       "      <td>203</td>\n",
       "      <td>0.749761</td>\n",
       "      <td>0.884615</td>\n",
       "      <td>0.429367</td>\n",
       "    </tr>\n",
       "    <tr>\n",
       "      <th>208</th>\n",
       "      <td>0.466643</td>\n",
       "      <td>0.226908</td>\n",
       "      <td>0.418621</td>\n",
       "      <td>5</td>\n",
       "      <td>1.640296</td>\n",
       "      <td>3586</td>\n",
       "      <td>0.749761</td>\n",
       "      <td>1.000000</td>\n",
       "      <td>0.248596</td>\n",
       "    </tr>\n",
       "    <tr>\n",
       "      <th>283</th>\n",
       "      <td>0.466643</td>\n",
       "      <td>0.226908</td>\n",
       "      <td>0.418621</td>\n",
       "      <td>5</td>\n",
       "      <td>1.640296</td>\n",
       "      <td>2458</td>\n",
       "      <td>0.749761</td>\n",
       "      <td>0.807692</td>\n",
       "      <td>0.398027</td>\n",
       "    </tr>\n",
       "    <tr>\n",
       "      <th>292</th>\n",
       "      <td>0.466643</td>\n",
       "      <td>0.226908</td>\n",
       "      <td>0.418621</td>\n",
       "      <td>5</td>\n",
       "      <td>1.640296</td>\n",
       "      <td>5187</td>\n",
       "      <td>0.749761</td>\n",
       "      <td>0.805556</td>\n",
       "      <td>0.227134</td>\n",
       "    </tr>\n",
       "    <tr>\n",
       "      <th>466</th>\n",
       "      <td>0.466643</td>\n",
       "      <td>0.226908</td>\n",
       "      <td>0.418621</td>\n",
       "      <td>5</td>\n",
       "      <td>1.640296</td>\n",
       "      <td>697</td>\n",
       "      <td>0.749761</td>\n",
       "      <td>0.961538</td>\n",
       "      <td>0.378968</td>\n",
       "    </tr>\n",
       "    <tr>\n",
       "      <th>475</th>\n",
       "      <td>0.466643</td>\n",
       "      <td>0.226908</td>\n",
       "      <td>0.418621</td>\n",
       "      <td>5</td>\n",
       "      <td>1.640296</td>\n",
       "      <td>6489</td>\n",
       "      <td>0.749761</td>\n",
       "      <td>0.903846</td>\n",
       "      <td>0.236941</td>\n",
       "    </tr>\n",
       "    <tr>\n",
       "      <th>531</th>\n",
       "      <td>0.466643</td>\n",
       "      <td>0.226908</td>\n",
       "      <td>0.418621</td>\n",
       "      <td>5</td>\n",
       "      <td>1.640296</td>\n",
       "      <td>6926</td>\n",
       "      <td>0.749761</td>\n",
       "      <td>0.923077</td>\n",
       "      <td>0.232692</td>\n",
       "    </tr>\n",
       "    <tr>\n",
       "      <th>558</th>\n",
       "      <td>0.466643</td>\n",
       "      <td>0.226908</td>\n",
       "      <td>0.418621</td>\n",
       "      <td>5</td>\n",
       "      <td>1.640296</td>\n",
       "      <td>7215</td>\n",
       "      <td>0.749761</td>\n",
       "      <td>0.884615</td>\n",
       "      <td>0.379761</td>\n",
       "    </tr>\n",
       "    <tr>\n",
       "      <th>672</th>\n",
       "      <td>0.466643</td>\n",
       "      <td>0.226908</td>\n",
       "      <td>0.418621</td>\n",
       "      <td>5</td>\n",
       "      <td>1.640296</td>\n",
       "      <td>6582</td>\n",
       "      <td>0.749761</td>\n",
       "      <td>0.875000</td>\n",
       "      <td>0.240528</td>\n",
       "    </tr>\n",
       "    <tr>\n",
       "      <th>695</th>\n",
       "      <td>0.466643</td>\n",
       "      <td>0.226908</td>\n",
       "      <td>0.418621</td>\n",
       "      <td>5</td>\n",
       "      <td>1.640296</td>\n",
       "      <td>7205</td>\n",
       "      <td>0.749761</td>\n",
       "      <td>0.961538</td>\n",
       "      <td>0.220479</td>\n",
       "    </tr>\n",
       "    <tr>\n",
       "      <th>756</th>\n",
       "      <td>0.466643</td>\n",
       "      <td>0.226908</td>\n",
       "      <td>0.418621</td>\n",
       "      <td>5</td>\n",
       "      <td>1.640296</td>\n",
       "      <td>8858</td>\n",
       "      <td>0.749761</td>\n",
       "      <td>0.861111</td>\n",
       "      <td>0.303971</td>\n",
       "    </tr>\n",
       "    <tr>\n",
       "      <th>802</th>\n",
       "      <td>0.466643</td>\n",
       "      <td>0.226908</td>\n",
       "      <td>0.418621</td>\n",
       "      <td>5</td>\n",
       "      <td>1.640296</td>\n",
       "      <td>7759</td>\n",
       "      <td>0.749761</td>\n",
       "      <td>0.861111</td>\n",
       "      <td>0.467566</td>\n",
       "    </tr>\n",
       "    <tr>\n",
       "      <th>810</th>\n",
       "      <td>0.466643</td>\n",
       "      <td>0.226908</td>\n",
       "      <td>0.418621</td>\n",
       "      <td>5</td>\n",
       "      <td>1.640296</td>\n",
       "      <td>7983</td>\n",
       "      <td>0.749761</td>\n",
       "      <td>0.805556</td>\n",
       "      <td>0.240811</td>\n",
       "    </tr>\n",
       "    <tr>\n",
       "      <th>812</th>\n",
       "      <td>0.466643</td>\n",
       "      <td>0.226908</td>\n",
       "      <td>0.418621</td>\n",
       "      <td>5</td>\n",
       "      <td>1.640296</td>\n",
       "      <td>9685</td>\n",
       "      <td>0.749761</td>\n",
       "      <td>0.923077</td>\n",
       "      <td>0.452158</td>\n",
       "    </tr>\n",
       "    <tr>\n",
       "      <th>850</th>\n",
       "      <td>0.466643</td>\n",
       "      <td>0.226908</td>\n",
       "      <td>0.418621</td>\n",
       "      <td>5</td>\n",
       "      <td>1.640296</td>\n",
       "      <td>9040</td>\n",
       "      <td>0.749761</td>\n",
       "      <td>0.916667</td>\n",
       "      <td>0.374036</td>\n",
       "    </tr>\n",
       "    <tr>\n",
       "      <th>866</th>\n",
       "      <td>0.466643</td>\n",
       "      <td>0.226908</td>\n",
       "      <td>0.418621</td>\n",
       "      <td>5</td>\n",
       "      <td>1.640296</td>\n",
       "      <td>5268</td>\n",
       "      <td>0.749761</td>\n",
       "      <td>0.923077</td>\n",
       "      <td>0.319475</td>\n",
       "    </tr>\n",
       "    <tr>\n",
       "      <th>946</th>\n",
       "      <td>0.466643</td>\n",
       "      <td>0.226908</td>\n",
       "      <td>0.418621</td>\n",
       "      <td>5</td>\n",
       "      <td>1.640296</td>\n",
       "      <td>1656</td>\n",
       "      <td>0.749761</td>\n",
       "      <td>0.923077</td>\n",
       "      <td>0.298490</td>\n",
       "    </tr>\n",
       "  </tbody>\n",
       "</table>\n",
       "</div>"
      ],
      "text/plain": [
       "        alpha       eta    lambda  max_depth  scale_pos_weight  seed  \\\n",
       "14   0.466643  0.226908  0.418621          5          1.640296  3406   \n",
       "41   0.466643  0.226908  0.418621          5          1.640296  2739   \n",
       "155  0.466643  0.226908  0.418621          5          1.640296  1230   \n",
       "163  0.466643  0.226908  0.418621          5          1.640296  4311   \n",
       "168  0.466643  0.226908  0.418621          5          1.640296   203   \n",
       "208  0.466643  0.226908  0.418621          5          1.640296  3586   \n",
       "283  0.466643  0.226908  0.418621          5          1.640296  2458   \n",
       "292  0.466643  0.226908  0.418621          5          1.640296  5187   \n",
       "466  0.466643  0.226908  0.418621          5          1.640296   697   \n",
       "475  0.466643  0.226908  0.418621          5          1.640296  6489   \n",
       "531  0.466643  0.226908  0.418621          5          1.640296  6926   \n",
       "558  0.466643  0.226908  0.418621          5          1.640296  7215   \n",
       "672  0.466643  0.226908  0.418621          5          1.640296  6582   \n",
       "695  0.466643  0.226908  0.418621          5          1.640296  7205   \n",
       "756  0.466643  0.226908  0.418621          5          1.640296  8858   \n",
       "802  0.466643  0.226908  0.418621          5          1.640296  7759   \n",
       "810  0.466643  0.226908  0.418621          5          1.640296  7983   \n",
       "812  0.466643  0.226908  0.418621          5          1.640296  9685   \n",
       "850  0.466643  0.226908  0.418621          5          1.640296  9040   \n",
       "866  0.466643  0.226908  0.418621          5          1.640296  5268   \n",
       "946  0.466643  0.226908  0.418621          5          1.640296  1656   \n",
       "\n",
       "     subsample       auc       phe  \n",
       "14    0.749761  0.961538  0.231303  \n",
       "41    0.749761  0.923077  0.232773  \n",
       "155   0.749761  0.805556  0.289943  \n",
       "163   0.749761  0.805556  0.227764  \n",
       "168   0.749761  0.884615  0.429367  \n",
       "208   0.749761  1.000000  0.248596  \n",
       "283   0.749761  0.807692  0.398027  \n",
       "292   0.749761  0.805556  0.227134  \n",
       "466   0.749761  0.961538  0.378968  \n",
       "475   0.749761  0.903846  0.236941  \n",
       "531   0.749761  0.923077  0.232692  \n",
       "558   0.749761  0.884615  0.379761  \n",
       "672   0.749761  0.875000  0.240528  \n",
       "695   0.749761  0.961538  0.220479  \n",
       "756   0.749761  0.861111  0.303971  \n",
       "802   0.749761  0.861111  0.467566  \n",
       "810   0.749761  0.805556  0.240811  \n",
       "812   0.749761  0.923077  0.452158  \n",
       "850   0.749761  0.916667  0.374036  \n",
       "866   0.749761  0.923077  0.319475  \n",
       "946   0.749761  0.923077  0.298490  "
      ]
     },
     "execution_count": 48,
     "metadata": {},
     "output_type": "execute_result"
    }
   ],
   "source": [
    "bs_trials"
   ]
  },
  {
   "cell_type": "code",
   "execution_count": 49,
   "metadata": {},
   "outputs": [
    {
     "name": "stdout",
     "output_type": "stream",
     "text": [
      "{'max_depth': 5, 'eta': 0.226908, 'subsample': 0.749761, 'lambda': 0.418621, 'alpha': 0.466643, 'scale_pos_weight': 1.640296, 'objective': 'binary:logistic', 'eval_metric': 'logloss'}\n",
      "{'best_iteration': '30', 'best_ntree_limit': '31', 'best_score': '0.2693722030768792'}\n",
      "Phe_value :  0.23130348 \t Phe_ranking :  6.0\n",
      "\n",
      "\n",
      "{'max_depth': 5, 'eta': 0.226908, 'subsample': 0.749761, 'lambda': 0.418621, 'alpha': 0.466643, 'scale_pos_weight': 1.640296, 'objective': 'binary:logistic', 'eval_metric': 'logloss'}\n",
      "{'best_iteration': '32', 'best_ntree_limit': '33', 'best_score': '0.13716826805224022'}\n",
      "Phe_value :  0.23277317 \t Phe_ranking :  5.0\n",
      "\n",
      "\n",
      "{'max_depth': 5, 'eta': 0.226908, 'subsample': 0.749761, 'lambda': 0.418621, 'alpha': 0.466643, 'scale_pos_weight': 1.640296, 'objective': 'binary:logistic', 'eval_metric': 'logloss'}\n",
      "{'best_iteration': '12', 'best_ntree_limit': '13', 'best_score': '0.3688225994507472'}\n",
      "Phe_value :  0.28994298 \t Phe_ranking :  5.0\n",
      "\n",
      "\n",
      "{'max_depth': 5, 'eta': 0.226908, 'subsample': 0.749761, 'lambda': 0.418621, 'alpha': 0.466643, 'scale_pos_weight': 1.640296, 'objective': 'binary:logistic', 'eval_metric': 'logloss'}\n",
      "{'best_iteration': '27', 'best_ntree_limit': '28', 'best_score': '0.46028861838082474'}\n",
      "Phe_value :  0.22776377 \t Phe_ranking :  4.0\n",
      "\n",
      "\n",
      "{'max_depth': 5, 'eta': 0.226908, 'subsample': 0.749761, 'lambda': 0.418621, 'alpha': 0.466643, 'scale_pos_weight': 1.640296, 'objective': 'binary:logistic', 'eval_metric': 'logloss'}\n",
      "{'best_iteration': '24', 'best_ntree_limit': '25', 'best_score': '0.2424859143793583'}\n",
      "Phe_value :  0.42936707 \t Phe_ranking :  3.0\n",
      "\n",
      "\n",
      "{'max_depth': 5, 'eta': 0.226908, 'subsample': 0.749761, 'lambda': 0.418621, 'alpha': 0.466643, 'scale_pos_weight': 1.640296, 'objective': 'binary:logistic', 'eval_metric': 'logloss'}\n",
      "{'best_iteration': '72', 'best_ntree_limit': '73', 'best_score': '0.15685617768516144'}\n",
      "Phe_value :  0.24859606 \t Phe_ranking :  8.0\n",
      "\n",
      "\n",
      "{'max_depth': 5, 'eta': 0.226908, 'subsample': 0.749761, 'lambda': 0.418621, 'alpha': 0.466643, 'scale_pos_weight': 1.640296, 'objective': 'binary:logistic', 'eval_metric': 'logloss'}\n",
      "{'best_iteration': '28', 'best_ntree_limit': '29', 'best_score': '0.446731719498833'}\n",
      "Phe_value :  0.39802656 \t Phe_ranking :  3.0\n",
      "\n",
      "\n",
      "{'max_depth': 5, 'eta': 0.226908, 'subsample': 0.749761, 'lambda': 0.418621, 'alpha': 0.466643, 'scale_pos_weight': 1.640296, 'objective': 'binary:logistic', 'eval_metric': 'logloss'}\n",
      "{'best_iteration': '4', 'best_ntree_limit': '5', 'best_score': '0.5042370955149332'}\n",
      "Phe_value :  0.22713383 \t Phe_ranking :  3.0\n",
      "\n",
      "\n",
      "{'max_depth': 5, 'eta': 0.226908, 'subsample': 0.749761, 'lambda': 0.418621, 'alpha': 0.466643, 'scale_pos_weight': 1.640296, 'objective': 'binary:logistic', 'eval_metric': 'logloss'}\n",
      "{'best_iteration': '65', 'best_ntree_limit': '66', 'best_score': '0.12460353939483564'}\n",
      "Phe_value :  0.37896794 \t Phe_ranking :  3.0\n",
      "\n",
      "\n",
      "{'max_depth': 5, 'eta': 0.226908, 'subsample': 0.749761, 'lambda': 0.418621, 'alpha': 0.466643, 'scale_pos_weight': 1.640296, 'objective': 'binary:logistic', 'eval_metric': 'logloss'}\n",
      "{'best_iteration': '17', 'best_ntree_limit': '18', 'best_score': '0.48954368755221367'}\n",
      "Phe_value :  0.23694137 \t Phe_ranking :  8.0\n",
      "\n",
      "\n",
      "{'max_depth': 5, 'eta': 0.226908, 'subsample': 0.749761, 'lambda': 0.418621, 'alpha': 0.466643, 'scale_pos_weight': 1.640296, 'objective': 'binary:logistic', 'eval_metric': 'logloss'}\n",
      "{'best_iteration': '29', 'best_ntree_limit': '30', 'best_score': '0.2980827468757828'}\n",
      "Phe_value :  0.2326922 \t Phe_ranking :  8.0\n",
      "\n",
      "\n",
      "{'max_depth': 5, 'eta': 0.226908, 'subsample': 0.749761, 'lambda': 0.418621, 'alpha': 0.466643, 'scale_pos_weight': 1.640296, 'objective': 'binary:logistic', 'eval_metric': 'logloss'}\n",
      "{'best_iteration': '16', 'best_ntree_limit': '17', 'best_score': '0.2821343255539735'}\n",
      "Phe_value :  0.37976095 \t Phe_ranking :  4.0\n",
      "\n",
      "\n",
      "{'max_depth': 5, 'eta': 0.226908, 'subsample': 0.749761, 'lambda': 0.418621, 'alpha': 0.466643, 'scale_pos_weight': 1.640296, 'objective': 'binary:logistic', 'eval_metric': 'logloss'}\n",
      "{'best_iteration': '22', 'best_ntree_limit': '23', 'best_score': '0.09825093361238639'}\n",
      "Phe_value :  0.24052785 \t Phe_ranking :  2.0\n",
      "\n",
      "\n",
      "{'max_depth': 5, 'eta': 0.226908, 'subsample': 0.749761, 'lambda': 0.418621, 'alpha': 0.466643, 'scale_pos_weight': 1.640296, 'objective': 'binary:logistic', 'eval_metric': 'logloss'}\n",
      "{'best_iteration': '15', 'best_ntree_limit': '16', 'best_score': '0.3274586908519268'}\n",
      "Phe_value :  0.22047949 \t Phe_ranking :  6.0\n",
      "\n",
      "\n",
      "{'max_depth': 5, 'eta': 0.226908, 'subsample': 0.749761, 'lambda': 0.418621, 'alpha': 0.466643, 'scale_pos_weight': 1.640296, 'objective': 'binary:logistic', 'eval_metric': 'logloss'}\n",
      "{'best_iteration': '29', 'best_ntree_limit': '30', 'best_score': '0.1784958898400267'}\n",
      "Phe_value :  0.30397135 \t Phe_ranking :  6.0\n",
      "\n",
      "\n",
      "{'max_depth': 5, 'eta': 0.226908, 'subsample': 0.749761, 'lambda': 0.418621, 'alpha': 0.466643, 'scale_pos_weight': 1.640296, 'objective': 'binary:logistic', 'eval_metric': 'logloss'}\n",
      "{'best_iteration': '12', 'best_ntree_limit': '13', 'best_score': '0.44582628024121124'}\n",
      "Phe_value :  0.46756628 \t Phe_ranking :  2.0\n",
      "\n",
      "\n",
      "{'max_depth': 5, 'eta': 0.226908, 'subsample': 0.749761, 'lambda': 0.418621, 'alpha': 0.466643, 'scale_pos_weight': 1.640296, 'objective': 'binary:logistic', 'eval_metric': 'logloss'}\n",
      "{'best_iteration': '12', 'best_ntree_limit': '13', 'best_score': '0.44310125956932706'}\n",
      "Phe_value :  0.24081083 \t Phe_ranking :  2.0\n",
      "\n",
      "\n",
      "{'max_depth': 5, 'eta': 0.226908, 'subsample': 0.749761, 'lambda': 0.418621, 'alpha': 0.466643, 'scale_pos_weight': 1.640296, 'objective': 'binary:logistic', 'eval_metric': 'logloss'}\n",
      "{'best_iteration': '18', 'best_ntree_limit': '19', 'best_score': '0.21354221800963083'}\n",
      "Phe_value :  0.45215815 \t Phe_ranking :  4.0\n",
      "\n",
      "\n",
      "{'max_depth': 5, 'eta': 0.226908, 'subsample': 0.749761, 'lambda': 0.418621, 'alpha': 0.466643, 'scale_pos_weight': 1.640296, 'objective': 'binary:logistic', 'eval_metric': 'logloss'}\n",
      "{'best_iteration': '19', 'best_ntree_limit': '20', 'best_score': '0.27263843764861423'}\n",
      "Phe_value :  0.3740358 \t Phe_ranking :  3.0\n",
      "\n",
      "\n",
      "{'max_depth': 5, 'eta': 0.226908, 'subsample': 0.749761, 'lambda': 0.418621, 'alpha': 0.466643, 'scale_pos_weight': 1.640296, 'objective': 'binary:logistic', 'eval_metric': 'logloss'}\n",
      "{'best_iteration': '24', 'best_ntree_limit': '25', 'best_score': '0.25457724183797836'}\n",
      "Phe_value :  0.31947517 \t Phe_ranking :  5.0\n",
      "\n",
      "\n",
      "{'max_depth': 5, 'eta': 0.226908, 'subsample': 0.749761, 'lambda': 0.418621, 'alpha': 0.466643, 'scale_pos_weight': 1.640296, 'objective': 'binary:logistic', 'eval_metric': 'logloss'}\n",
      "{'best_iteration': '16', 'best_ntree_limit': '17', 'best_score': '0.21491258901854357'}\n",
      "Phe_value :  0.2984905 \t Phe_ranking :  4.0\n",
      "\n",
      "\n"
     ]
    }
   ],
   "source": [
    "\n",
    "paretos = {}\n",
    "\n",
    "df_ranks = pd.DataFrame()\n",
    "\n",
    "for number in bs_trials.index: \n",
    "\n",
    "\n",
    "    instance_params = bs_trials.loc[number][['max_depth','eta','subsample','lambda','alpha','scale_pos_weight']].to_dict()\n",
    "    instance_params['max_depth'] = int(instance_params['max_depth'])\n",
    "\n",
    "    instance_params['objective'] = 'binary:logistic'\n",
    "    instance_params['eval_metric'] = 'logloss'\n",
    "\n",
    "    print(instance_params)\n",
    "\n",
    "    model_instance = generate_model(\n",
    "        \"HOMA-IR alterado\", \"data.csv\", \n",
    "        removed_features = ext_params[\"feature_engineering\"][\"removed_features\"], \n",
    "        xg_params = instance_params,\n",
    "        kfold_splits = 5, \n",
    "        seed = int(bs_trials.loc[number]['seed'])\n",
    "    )   \n",
    "# \n",
    "    print(\n",
    "        model_instance.model.attributes()\n",
    "    )\n",
    "    \n",
    "    df_ranks[number] = model_instance.get_feature_metrics()[\"SHAP_abnormal\"]\n",
    "\n",
    "    print(\n",
    "        'Phe_value : ', model_instance.get_feature_metrics()[\"SHAP_abnormal\"][\"fenilalax\"], \"\\t\",\n",
    "        'Phe_ranking : ',model_instance.get_feature_metrics()[\"SHAP_abnormal\"].rank(ascending=False)[\"fenilalax\"]\n",
    "    )\n",
    "\n",
    "    print('\\n')\n",
    "\n",
    "\n",
    "\n"
   ]
  },
  {
   "cell_type": "code",
   "execution_count": 50,
   "metadata": {},
   "outputs": [],
   "source": [
    "# RELABELING\n",
    "labels_relabel = {\n",
    "    'Género': 'gender',\n",
    "    'aleator': 'random',\n",
    "    'Edad': 'Age',\n",
    "    'Peso': 'Weight',\n",
    "    'Estatura': 'Height',\n",
    "    'IMC': 'BMI',\n",
    "    'Circunferencia de cintura': 'Waist circumference',\n",
    "    'ATPII/AHA/IDF': 'ATPII/AHA/IDF',\n",
    "    'fenilalax': 'Phenylalax',\n",
    "    'glupromx': 'Glupromx',\n",
    "    'glummol': 'Glummol',\n",
    "    'insuprom': 'Insuprom',\n",
    "    'HOMA-IR alterado': 'HOMA-IR altered',\n",
    "    'HOMA2-IR': 'HOMA2-IR',\n",
    "    'HOMA2B(%)': 'HOMA2B(%)',\n",
    "    'HOMA2S%': 'HOMA2S%',\n",
    "    'quickix': 'Quickix',\n",
    "    'ohd3x': 'ohd3x',\n",
    "    'tirosinax': 'Tyrosinax',\n",
    "    'Alanina': 'Alanine',\n",
    "    'Aspartato': 'Aspartate',\n",
    "    'Glutamato': 'Glutamate',\n",
    "    'Leucina': 'Leucine',\n",
    "    'Ornitina': 'Ornithine',\n",
    "    'Prolina': 'Proline',\n",
    "    'Tirosina': 'Tyrosine',\n",
    "    'Carnitina libre': 'Free Carnitine',\n",
    "    'Propionilcarnitina': 'Propionylcarnitine',\n",
    "    'Isovalerilcarnitina': 'Isovalerylcarnitine',\n",
    "    'Tiglilcarnitina': 'Tiglilcarnitine',\n",
    "    'Me-Glutarilcarnitina': 'Me-Glutarylcarnitine',\n",
    "    'Decanoilcarnitina': 'Decanoylcarnitine',\n",
    "    'Tetradecanoilcarnitina': 'Tetradecanoylcarnitine',\n",
    "    '3-OH-Isovalerilcarnitina': '3-OH-Isovalerylcarnitine',\n",
    "    '3-OH-Palmitoilcarnitina': '3-OH-Palmitoylcarnitine',\n",
    "    'Linoleoilcarnitina': 'Linoleoilcarnitine',\n",
    "    'Arginina': 'Arginine',\n",
    "    'Citrulina': 'Citrulline',\n",
    "    'Glicina': 'Glycine',\n",
    "    'Metionina': 'Methionine',\n",
    "    'Fenilalanina': 'Phenylalanine',\n",
    "    'Succinilacetona': 'Succinylacetone',\n",
    "    'Valina': 'Valine',\n",
    "    'Acetilcarnitina': 'Acetylcarnitine',\n",
    "    'Butirilcarnitina': 'Butyrylcarnitine',\n",
    "    'Glutarilcarnitina': 'Glutarylcarnitine',\n",
    "    'Hexanoilcarnitina': 'Hexanoylcarnitine',\n",
    "    'Octanoilcarnitina': 'Octanoylcarnitine',\n",
    "    'Dodecanoilcarnitina': 'Dodecanoylcarnitine',\n",
    "    'Tetradecenoilcarnitina': 'Tetradecenoylcarnitine',\n",
    "    'Palmitoilcarnitina': 'Palmitoylcarnitine',\n",
    "    'Estearoilcarnitina': 'Stearoylcarnitine',\n",
    "    '3-OH-Linoleoilcarnitina': '3-OH-Linoleoylcarnitine',\n",
    "    'PROTEINAProm_(G)': 'Protein avg. (g)',\n",
    "    'Proteina_natural': 'Protein natural',\n",
    "    '%_proteina_natural': '% Natural Protein',\n",
    "    'Proteina_SP': 'SP Protein',\n",
    "    'SP_gr/kg': 'SP (gr/kg)',\n",
    "    '%_Proteina_SP': '% SP Protein',\n",
    "    'GRASAProm(G)': 'Fat avg. (g)',\n",
    "    'CARBOHIDRATOProm_(G)': 'CARBOHYDRATE avg. (g)',\n",
    "    'ENERGIAProm_(KCAL)': 'ENERGY avg. (KCAL)',\n",
    "    'COLESTEROLProm_(MG)': 'CHOLESTEROL avg. (mg)',\n",
    "    'FENILALANINAProm_(G)': 'PHENYLALANINE_avg (g)',\n",
    "    'TIROSINAProm_(G)': 'TYROSINE avg. (g)',\n",
    "    'VITAMINA_B12Prom_(MCG)': 'Vitamin B12 avg. (MCG)',\n",
    "    'FOLATOProm_(MCG)': 'Folate avg. (MCG)',\n",
    "    'CALCIOProm_(MG)': 'Calcium avg. (mg)',\n",
    "    'COBREProm_(MG)': 'Copper avg. (mg)',\n",
    "    'HIERROProm_(MG)': 'Iron avg. (mg)',\n",
    "    'ZINCProm_(MG)': 'Zinc avg. (mg)',\n",
    "    'VITAMINA_Dprom': 'Vitamin D avg.'\n",
    "}  "
   ]
  },
  {
   "cell_type": "code",
   "execution_count": 60,
   "metadata": {},
   "outputs": [
    {
     "data": {
      "application/vnd.plotly.v1+json": {
       "config": {
        "plotlyServerURL": "https://plot.ly"
       },
       "data": [
        {
         "alignmentgroup": "True",
         "hovertemplate": "variable=14<br>index=%{x}<br>value=%{y}<extra></extra>",
         "legendgroup": "14",
         "marker": {
          "color": "#F8766D",
          "pattern": {
           "shape": ""
          }
         },
         "name": "14",
         "offsetgroup": "14",
         "orientation": "v",
         "showlegend": true,
         "textposition": "auto",
         "type": "bar",
         "x": [
          "Género",
          "aleator",
          "IMC",
          "Circunferencia de cintura",
          "ATPII/AHA/IDF",
          "fenilalax",
          "ohd3x",
          "tirosinax",
          "Alanina",
          "Aspartato",
          "Glutamato",
          "Leucina",
          "Ornitina",
          "Prolina",
          "Tirosina",
          "Carnitina libre",
          "Propionilcarnitina",
          "Isovalerilcarnitina",
          "Tiglilcarnitina",
          "Me-Glutarilcarnitina",
          "Decanoilcarnitina",
          "Tetradecanoilcarnitina",
          "3-OH-Isovalerilcarnitina",
          "3-OH-Palmitoilcarnitina",
          "Linoleoilcarnitina",
          "Arginina",
          "Citrulina",
          "Glicina",
          "Metionina",
          "Fenilalanina",
          "Succinilacetona",
          "Valina",
          "Acetilcarnitina",
          "Butirilcarnitina",
          "Glutarilcarnitina",
          "Hexanoilcarnitina",
          "Octanoilcarnitina",
          "Dodecanoilcarnitina",
          "Tetradecenoilcarnitina",
          "Palmitoilcarnitina",
          "Estearoilcarnitina",
          "3-OH-Linoleoilcarnitina",
          "PROTEINAProm_(G)",
          "%_proteina_natural",
          "%_Proteina_SP"
         ],
         "xaxis": "x",
         "y": [
          0.11866538,
          0,
          1.350244,
          0.1054273,
          0,
          0.23130348,
          0,
          0,
          0,
          0,
          0.05364894,
          0,
          0.2762975,
          0.026262455,
          0.2694069,
          0.102366164,
          0.076515235,
          0.070655346,
          0.116384,
          0,
          0.13927221,
          0,
          0,
          0,
          0.027637003,
          0,
          0.058581006,
          0,
          0,
          0,
          0.02142667,
          0.080125615,
          0.26416615,
          0,
          0,
          0.04027587,
          0,
          0,
          0,
          0.12989971,
          0.3418144,
          0,
          0.059927285,
          0,
          0
         ],
         "yaxis": "y"
        },
        {
         "alignmentgroup": "True",
         "hovertemplate": "variable=41<br>index=%{x}<br>value=%{y}<extra></extra>",
         "legendgroup": "41",
         "marker": {
          "color": "#A3A500",
          "pattern": {
           "shape": ""
          }
         },
         "name": "41",
         "offsetgroup": "41",
         "orientation": "v",
         "showlegend": true,
         "textposition": "auto",
         "type": "bar",
         "x": [
          "Género",
          "aleator",
          "IMC",
          "Circunferencia de cintura",
          "ATPII/AHA/IDF",
          "fenilalax",
          "ohd3x",
          "tirosinax",
          "Alanina",
          "Aspartato",
          "Glutamato",
          "Leucina",
          "Ornitina",
          "Prolina",
          "Tirosina",
          "Carnitina libre",
          "Propionilcarnitina",
          "Isovalerilcarnitina",
          "Tiglilcarnitina",
          "Me-Glutarilcarnitina",
          "Decanoilcarnitina",
          "Tetradecanoilcarnitina",
          "3-OH-Isovalerilcarnitina",
          "3-OH-Palmitoilcarnitina",
          "Linoleoilcarnitina",
          "Arginina",
          "Citrulina",
          "Glicina",
          "Metionina",
          "Fenilalanina",
          "Succinilacetona",
          "Valina",
          "Acetilcarnitina",
          "Butirilcarnitina",
          "Glutarilcarnitina",
          "Hexanoilcarnitina",
          "Octanoilcarnitina",
          "Dodecanoilcarnitina",
          "Tetradecenoilcarnitina",
          "Palmitoilcarnitina",
          "Estearoilcarnitina",
          "3-OH-Linoleoilcarnitina",
          "PROTEINAProm_(G)",
          "%_proteina_natural",
          "%_Proteina_SP"
         ],
         "xaxis": "x",
         "y": [
          0.22273143,
          0,
          0.5541899,
          0.035570767,
          0,
          0.23277317,
          0,
          0.040826056,
          0.068242356,
          0,
          0.14138679,
          0,
          0.72491115,
          0,
          0,
          0.50383043,
          0,
          0.2013517,
          0,
          0,
          0,
          0,
          0,
          0.04259625,
          0.3005862,
          0,
          0.20903906,
          0.0045730947,
          0,
          0,
          0,
          0.16936974,
          0.055385705,
          0,
          0,
          0,
          0,
          0,
          0.0698259,
          0,
          0.20557192,
          0,
          0.23202825,
          0,
          0
         ],
         "yaxis": "y"
        },
        {
         "alignmentgroup": "True",
         "hovertemplate": "variable=155<br>index=%{x}<br>value=%{y}<extra></extra>",
         "legendgroup": "155",
         "marker": {
          "color": "#00BF7D",
          "pattern": {
           "shape": ""
          }
         },
         "name": "155",
         "offsetgroup": "155",
         "orientation": "v",
         "showlegend": true,
         "textposition": "auto",
         "type": "bar",
         "x": [
          "Género",
          "aleator",
          "IMC",
          "Circunferencia de cintura",
          "ATPII/AHA/IDF",
          "fenilalax",
          "ohd3x",
          "tirosinax",
          "Alanina",
          "Aspartato",
          "Glutamato",
          "Leucina",
          "Ornitina",
          "Prolina",
          "Tirosina",
          "Carnitina libre",
          "Propionilcarnitina",
          "Isovalerilcarnitina",
          "Tiglilcarnitina",
          "Me-Glutarilcarnitina",
          "Decanoilcarnitina",
          "Tetradecanoilcarnitina",
          "3-OH-Isovalerilcarnitina",
          "3-OH-Palmitoilcarnitina",
          "Linoleoilcarnitina",
          "Arginina",
          "Citrulina",
          "Glicina",
          "Metionina",
          "Fenilalanina",
          "Succinilacetona",
          "Valina",
          "Acetilcarnitina",
          "Butirilcarnitina",
          "Glutarilcarnitina",
          "Hexanoilcarnitina",
          "Octanoilcarnitina",
          "Dodecanoilcarnitina",
          "Tetradecenoilcarnitina",
          "Palmitoilcarnitina",
          "Estearoilcarnitina",
          "3-OH-Linoleoilcarnitina",
          "PROTEINAProm_(G)",
          "%_proteina_natural",
          "%_Proteina_SP"
         ],
         "xaxis": "x",
         "y": [
          0.11493534,
          0,
          0.2626021,
          0.16669588,
          0,
          0.28994298,
          0.19575155,
          0,
          0.028403824,
          0,
          0.20804282,
          0,
          0,
          0.13833408,
          0.2939833,
          0,
          0,
          0,
          0,
          0,
          0,
          0,
          0,
          0,
          0.41594616,
          0,
          0.07160894,
          0,
          0,
          0,
          0,
          0.3076972,
          0.22472386,
          0,
          0,
          0,
          0.05672724,
          0.08012988,
          0,
          0,
          0.33089286,
          0,
          0,
          0,
          0
         ],
         "yaxis": "y"
        },
        {
         "alignmentgroup": "True",
         "hovertemplate": "variable=163<br>index=%{x}<br>value=%{y}<extra></extra>",
         "legendgroup": "163",
         "marker": {
          "color": "#00B0F6",
          "pattern": {
           "shape": ""
          }
         },
         "name": "163",
         "offsetgroup": "163",
         "orientation": "v",
         "showlegend": true,
         "textposition": "auto",
         "type": "bar",
         "x": [
          "Género",
          "aleator",
          "IMC",
          "Circunferencia de cintura",
          "ATPII/AHA/IDF",
          "fenilalax",
          "ohd3x",
          "tirosinax",
          "Alanina",
          "Aspartato",
          "Glutamato",
          "Leucina",
          "Ornitina",
          "Prolina",
          "Tirosina",
          "Carnitina libre",
          "Propionilcarnitina",
          "Isovalerilcarnitina",
          "Tiglilcarnitina",
          "Me-Glutarilcarnitina",
          "Decanoilcarnitina",
          "Tetradecanoilcarnitina",
          "3-OH-Isovalerilcarnitina",
          "3-OH-Palmitoilcarnitina",
          "Linoleoilcarnitina",
          "Arginina",
          "Citrulina",
          "Glicina",
          "Metionina",
          "Fenilalanina",
          "Succinilacetona",
          "Valina",
          "Acetilcarnitina",
          "Butirilcarnitina",
          "Glutarilcarnitina",
          "Hexanoilcarnitina",
          "Octanoilcarnitina",
          "Dodecanoilcarnitina",
          "Tetradecenoilcarnitina",
          "Palmitoilcarnitina",
          "Estearoilcarnitina",
          "3-OH-Linoleoilcarnitina",
          "PROTEINAProm_(G)",
          "%_proteina_natural",
          "%_Proteina_SP"
         ],
         "xaxis": "x",
         "y": [
          0,
          0,
          0.5081429,
          0.04607782,
          0,
          0.22776377,
          0.06275263,
          0,
          0,
          0.10403385,
          0,
          0,
          0.052761767,
          0,
          0.03651234,
          0,
          0,
          0,
          0,
          0,
          0,
          0,
          0,
          0,
          0,
          0.04045692,
          0.43843403,
          0.12179089,
          0,
          0,
          0.08507925,
          0.18837948,
          0,
          0,
          0,
          0,
          0,
          0,
          0,
          0,
          0.45915315,
          0,
          0,
          0,
          0
         ],
         "yaxis": "y"
        },
        {
         "alignmentgroup": "True",
         "hovertemplate": "variable=168<br>index=%{x}<br>value=%{y}<extra></extra>",
         "legendgroup": "168",
         "marker": {
          "color": "#E76BF3",
          "pattern": {
           "shape": ""
          }
         },
         "name": "168",
         "offsetgroup": "168",
         "orientation": "v",
         "showlegend": true,
         "textposition": "auto",
         "type": "bar",
         "x": [
          "Género",
          "aleator",
          "IMC",
          "Circunferencia de cintura",
          "ATPII/AHA/IDF",
          "fenilalax",
          "ohd3x",
          "tirosinax",
          "Alanina",
          "Aspartato",
          "Glutamato",
          "Leucina",
          "Ornitina",
          "Prolina",
          "Tirosina",
          "Carnitina libre",
          "Propionilcarnitina",
          "Isovalerilcarnitina",
          "Tiglilcarnitina",
          "Me-Glutarilcarnitina",
          "Decanoilcarnitina",
          "Tetradecanoilcarnitina",
          "3-OH-Isovalerilcarnitina",
          "3-OH-Palmitoilcarnitina",
          "Linoleoilcarnitina",
          "Arginina",
          "Citrulina",
          "Glicina",
          "Metionina",
          "Fenilalanina",
          "Succinilacetona",
          "Valina",
          "Acetilcarnitina",
          "Butirilcarnitina",
          "Glutarilcarnitina",
          "Hexanoilcarnitina",
          "Octanoilcarnitina",
          "Dodecanoilcarnitina",
          "Tetradecenoilcarnitina",
          "Palmitoilcarnitina",
          "Estearoilcarnitina",
          "3-OH-Linoleoilcarnitina",
          "PROTEINAProm_(G)",
          "%_proteina_natural",
          "%_Proteina_SP"
         ],
         "xaxis": "x",
         "y": [
          0,
          0,
          0.23169357,
          0,
          0,
          0.42936707,
          0,
          0.05429146,
          0,
          0,
          0,
          0,
          0.15233286,
          0.10001616,
          0.49138093,
          0.21479797,
          0,
          0,
          0.044221718,
          0,
          0.06714971,
          0,
          0,
          0,
          0.018101266,
          0,
          0.14355391,
          0.106492534,
          0,
          0,
          0,
          0.10078358,
          0.36508557,
          0,
          0,
          0,
          0,
          0.49338108,
          0,
          0,
          0.36029357,
          0.12829854,
          0.070664436,
          0,
          0
         ],
         "yaxis": "y"
        },
        {
         "alignmentgroup": "True",
         "hovertemplate": "variable=208<br>index=%{x}<br>value=%{y}<extra></extra>",
         "legendgroup": "208",
         "marker": {
          "color": "#F8766D",
          "pattern": {
           "shape": ""
          }
         },
         "name": "208",
         "offsetgroup": "208",
         "orientation": "v",
         "showlegend": true,
         "textposition": "auto",
         "type": "bar",
         "x": [
          "Género",
          "aleator",
          "IMC",
          "Circunferencia de cintura",
          "ATPII/AHA/IDF",
          "fenilalax",
          "ohd3x",
          "tirosinax",
          "Alanina",
          "Aspartato",
          "Glutamato",
          "Leucina",
          "Ornitina",
          "Prolina",
          "Tirosina",
          "Carnitina libre",
          "Propionilcarnitina",
          "Isovalerilcarnitina",
          "Tiglilcarnitina",
          "Me-Glutarilcarnitina",
          "Decanoilcarnitina",
          "Tetradecanoilcarnitina",
          "3-OH-Isovalerilcarnitina",
          "3-OH-Palmitoilcarnitina",
          "Linoleoilcarnitina",
          "Arginina",
          "Citrulina",
          "Glicina",
          "Metionina",
          "Fenilalanina",
          "Succinilacetona",
          "Valina",
          "Acetilcarnitina",
          "Butirilcarnitina",
          "Glutarilcarnitina",
          "Hexanoilcarnitina",
          "Octanoilcarnitina",
          "Dodecanoilcarnitina",
          "Tetradecenoilcarnitina",
          "Palmitoilcarnitina",
          "Estearoilcarnitina",
          "3-OH-Linoleoilcarnitina",
          "PROTEINAProm_(G)",
          "%_proteina_natural",
          "%_Proteina_SP"
         ],
         "xaxis": "x",
         "y": [
          0.28639027,
          0,
          0.37380257,
          0.09087845,
          0,
          0.24859606,
          0.22058572,
          0,
          0,
          0,
          0.010900549,
          0,
          0.6500798,
          0,
          0.4050865,
          0.04316309,
          0.041707203,
          0,
          0,
          0,
          0,
          0,
          0.060090765,
          0,
          0.044930257,
          0,
          0.36545828,
          0,
          0.15531367,
          0,
          0,
          0.122017816,
          0.4598378,
          0.09324144,
          0,
          0,
          0,
          0.23387602,
          0.0352194,
          0,
          0.35129207,
          0,
          0.09248955,
          0,
          0
         ],
         "yaxis": "y"
        },
        {
         "alignmentgroup": "True",
         "hovertemplate": "variable=283<br>index=%{x}<br>value=%{y}<extra></extra>",
         "legendgroup": "283",
         "marker": {
          "color": "#A3A500",
          "pattern": {
           "shape": ""
          }
         },
         "name": "283",
         "offsetgroup": "283",
         "orientation": "v",
         "showlegend": true,
         "textposition": "auto",
         "type": "bar",
         "x": [
          "Género",
          "aleator",
          "IMC",
          "Circunferencia de cintura",
          "ATPII/AHA/IDF",
          "fenilalax",
          "ohd3x",
          "tirosinax",
          "Alanina",
          "Aspartato",
          "Glutamato",
          "Leucina",
          "Ornitina",
          "Prolina",
          "Tirosina",
          "Carnitina libre",
          "Propionilcarnitina",
          "Isovalerilcarnitina",
          "Tiglilcarnitina",
          "Me-Glutarilcarnitina",
          "Decanoilcarnitina",
          "Tetradecanoilcarnitina",
          "3-OH-Isovalerilcarnitina",
          "3-OH-Palmitoilcarnitina",
          "Linoleoilcarnitina",
          "Arginina",
          "Citrulina",
          "Glicina",
          "Metionina",
          "Fenilalanina",
          "Succinilacetona",
          "Valina",
          "Acetilcarnitina",
          "Butirilcarnitina",
          "Glutarilcarnitina",
          "Hexanoilcarnitina",
          "Octanoilcarnitina",
          "Dodecanoilcarnitina",
          "Tetradecenoilcarnitina",
          "Palmitoilcarnitina",
          "Estearoilcarnitina",
          "3-OH-Linoleoilcarnitina",
          "PROTEINAProm_(G)",
          "%_proteina_natural",
          "%_Proteina_SP"
         ],
         "xaxis": "x",
         "y": [
          0.0651876,
          0,
          0.14221352,
          0.19971843,
          0,
          0.39802656,
          0,
          0,
          0,
          0,
          0,
          0.026604634,
          0.09001233,
          0.03269811,
          0.64507127,
          0.28340584,
          0,
          0,
          0,
          0,
          0,
          0,
          0,
          0.04077629,
          0,
          0,
          0,
          0,
          0,
          0,
          0,
          0.04801867,
          0.90603185,
          0.058839235,
          0.08955788,
          0,
          0,
          0.17995837,
          0,
          0,
          0.19963744,
          0,
          0.22393778,
          0.075040124,
          0
         ],
         "yaxis": "y"
        },
        {
         "alignmentgroup": "True",
         "hovertemplate": "variable=292<br>index=%{x}<br>value=%{y}<extra></extra>",
         "legendgroup": "292",
         "marker": {
          "color": "#00BF7D",
          "pattern": {
           "shape": ""
          }
         },
         "name": "292",
         "offsetgroup": "292",
         "orientation": "v",
         "showlegend": true,
         "textposition": "auto",
         "type": "bar",
         "x": [
          "Género",
          "aleator",
          "IMC",
          "Circunferencia de cintura",
          "ATPII/AHA/IDF",
          "fenilalax",
          "ohd3x",
          "tirosinax",
          "Alanina",
          "Aspartato",
          "Glutamato",
          "Leucina",
          "Ornitina",
          "Prolina",
          "Tirosina",
          "Carnitina libre",
          "Propionilcarnitina",
          "Isovalerilcarnitina",
          "Tiglilcarnitina",
          "Me-Glutarilcarnitina",
          "Decanoilcarnitina",
          "Tetradecanoilcarnitina",
          "3-OH-Isovalerilcarnitina",
          "3-OH-Palmitoilcarnitina",
          "Linoleoilcarnitina",
          "Arginina",
          "Citrulina",
          "Glicina",
          "Metionina",
          "Fenilalanina",
          "Succinilacetona",
          "Valina",
          "Acetilcarnitina",
          "Butirilcarnitina",
          "Glutarilcarnitina",
          "Hexanoilcarnitina",
          "Octanoilcarnitina",
          "Dodecanoilcarnitina",
          "Tetradecenoilcarnitina",
          "Palmitoilcarnitina",
          "Estearoilcarnitina",
          "3-OH-Linoleoilcarnitina",
          "PROTEINAProm_(G)",
          "%_proteina_natural",
          "%_Proteina_SP"
         ],
         "xaxis": "x",
         "y": [
          0,
          0,
          0,
          0.22519755,
          0,
          0.22713383,
          0,
          0,
          0,
          0,
          0,
          0,
          0.20252967,
          0.117984354,
          0.072864234,
          0,
          0,
          0,
          0,
          0,
          0.06489144,
          0,
          0,
          0,
          0.03552002,
          0,
          0,
          0,
          0,
          0,
          0,
          0.66063577,
          0,
          0,
          0,
          0,
          0,
          0,
          0,
          0,
          0.8327263,
          0,
          0,
          0,
          0
         ],
         "yaxis": "y"
        },
        {
         "alignmentgroup": "True",
         "hovertemplate": "variable=466<br>index=%{x}<br>value=%{y}<extra></extra>",
         "legendgroup": "466",
         "marker": {
          "color": "#00B0F6",
          "pattern": {
           "shape": ""
          }
         },
         "name": "466",
         "offsetgroup": "466",
         "orientation": "v",
         "showlegend": true,
         "textposition": "auto",
         "type": "bar",
         "x": [
          "Género",
          "aleator",
          "IMC",
          "Circunferencia de cintura",
          "ATPII/AHA/IDF",
          "fenilalax",
          "ohd3x",
          "tirosinax",
          "Alanina",
          "Aspartato",
          "Glutamato",
          "Leucina",
          "Ornitina",
          "Prolina",
          "Tirosina",
          "Carnitina libre",
          "Propionilcarnitina",
          "Isovalerilcarnitina",
          "Tiglilcarnitina",
          "Me-Glutarilcarnitina",
          "Decanoilcarnitina",
          "Tetradecanoilcarnitina",
          "3-OH-Isovalerilcarnitina",
          "3-OH-Palmitoilcarnitina",
          "Linoleoilcarnitina",
          "Arginina",
          "Citrulina",
          "Glicina",
          "Metionina",
          "Fenilalanina",
          "Succinilacetona",
          "Valina",
          "Acetilcarnitina",
          "Butirilcarnitina",
          "Glutarilcarnitina",
          "Hexanoilcarnitina",
          "Octanoilcarnitina",
          "Dodecanoilcarnitina",
          "Tetradecenoilcarnitina",
          "Palmitoilcarnitina",
          "Estearoilcarnitina",
          "3-OH-Linoleoilcarnitina",
          "PROTEINAProm_(G)",
          "%_proteina_natural",
          "%_Proteina_SP"
         ],
         "xaxis": "x",
         "y": [
          0.06286608,
          0,
          0.9322901,
          0,
          0,
          0.37896794,
          0.20503756,
          0,
          0.03454766,
          0,
          0.025961135,
          0,
          0.06943929,
          0.107063815,
          0.079710975,
          0.30997467,
          0,
          0,
          0,
          0,
          0.47122636,
          0.06950712,
          0,
          0,
          0.11787151,
          0,
          0.06691375,
          0,
          0,
          0,
          0.1334977,
          0,
          0.36343485,
          0.041868836,
          0,
          0,
          0,
          0.10134686,
          0,
          0,
          0.16829185,
          0,
          0.1161755,
          0,
          0
         ],
         "yaxis": "y"
        },
        {
         "alignmentgroup": "True",
         "hovertemplate": "variable=475<br>index=%{x}<br>value=%{y}<extra></extra>",
         "legendgroup": "475",
         "marker": {
          "color": "#E76BF3",
          "pattern": {
           "shape": ""
          }
         },
         "name": "475",
         "offsetgroup": "475",
         "orientation": "v",
         "showlegend": true,
         "textposition": "auto",
         "type": "bar",
         "x": [
          "Género",
          "aleator",
          "IMC",
          "Circunferencia de cintura",
          "ATPII/AHA/IDF",
          "fenilalax",
          "ohd3x",
          "tirosinax",
          "Alanina",
          "Aspartato",
          "Glutamato",
          "Leucina",
          "Ornitina",
          "Prolina",
          "Tirosina",
          "Carnitina libre",
          "Propionilcarnitina",
          "Isovalerilcarnitina",
          "Tiglilcarnitina",
          "Me-Glutarilcarnitina",
          "Decanoilcarnitina",
          "Tetradecanoilcarnitina",
          "3-OH-Isovalerilcarnitina",
          "3-OH-Palmitoilcarnitina",
          "Linoleoilcarnitina",
          "Arginina",
          "Citrulina",
          "Glicina",
          "Metionina",
          "Fenilalanina",
          "Succinilacetona",
          "Valina",
          "Acetilcarnitina",
          "Butirilcarnitina",
          "Glutarilcarnitina",
          "Hexanoilcarnitina",
          "Octanoilcarnitina",
          "Dodecanoilcarnitina",
          "Tetradecenoilcarnitina",
          "Palmitoilcarnitina",
          "Estearoilcarnitina",
          "3-OH-Linoleoilcarnitina",
          "PROTEINAProm_(G)",
          "%_proteina_natural",
          "%_Proteina_SP"
         ],
         "xaxis": "x",
         "y": [
          0,
          0,
          0.87392575,
          0.25364536,
          0.12700096,
          0.23694137,
          0.37108675,
          0,
          0,
          0.068760514,
          0,
          0,
          0,
          0,
          0,
          0.1428054,
          0,
          0,
          0,
          0,
          0,
          0,
          0,
          0,
          0,
          0,
          0,
          0,
          0,
          0,
          0,
          0.43144587,
          0.3543796,
          0,
          0,
          0,
          0,
          0,
          0,
          0,
          0.2823866,
          0,
          0.31619757,
          0,
          0
         ],
         "yaxis": "y"
        },
        {
         "alignmentgroup": "True",
         "hovertemplate": "variable=531<br>index=%{x}<br>value=%{y}<extra></extra>",
         "legendgroup": "531",
         "marker": {
          "color": "#F8766D",
          "pattern": {
           "shape": ""
          }
         },
         "name": "531",
         "offsetgroup": "531",
         "orientation": "v",
         "showlegend": true,
         "textposition": "auto",
         "type": "bar",
         "x": [
          "Género",
          "aleator",
          "IMC",
          "Circunferencia de cintura",
          "ATPII/AHA/IDF",
          "fenilalax",
          "ohd3x",
          "tirosinax",
          "Alanina",
          "Aspartato",
          "Glutamato",
          "Leucina",
          "Ornitina",
          "Prolina",
          "Tirosina",
          "Carnitina libre",
          "Propionilcarnitina",
          "Isovalerilcarnitina",
          "Tiglilcarnitina",
          "Me-Glutarilcarnitina",
          "Decanoilcarnitina",
          "Tetradecanoilcarnitina",
          "3-OH-Isovalerilcarnitina",
          "3-OH-Palmitoilcarnitina",
          "Linoleoilcarnitina",
          "Arginina",
          "Citrulina",
          "Glicina",
          "Metionina",
          "Fenilalanina",
          "Succinilacetona",
          "Valina",
          "Acetilcarnitina",
          "Butirilcarnitina",
          "Glutarilcarnitina",
          "Hexanoilcarnitina",
          "Octanoilcarnitina",
          "Dodecanoilcarnitina",
          "Tetradecenoilcarnitina",
          "Palmitoilcarnitina",
          "Estearoilcarnitina",
          "3-OH-Linoleoilcarnitina",
          "PROTEINAProm_(G)",
          "%_proteina_natural",
          "%_Proteina_SP"
         ],
         "xaxis": "x",
         "y": [
          0.1536799,
          0,
          0.6742813,
          0,
          0,
          0.2326922,
          0.4811627,
          0.039747916,
          0.054799415,
          0,
          0,
          0,
          0,
          0,
          0.33710575,
          0.28458872,
          0,
          0.06045401,
          0,
          0,
          0.22655647,
          0,
          0,
          0,
          0,
          0,
          0,
          0,
          0,
          0,
          0,
          0.10663152,
          0.2827047,
          0,
          0,
          0,
          0,
          0,
          0,
          0,
          0.6854955,
          0,
          0.3810537,
          0,
          0
         ],
         "yaxis": "y"
        },
        {
         "alignmentgroup": "True",
         "hovertemplate": "variable=558<br>index=%{x}<br>value=%{y}<extra></extra>",
         "legendgroup": "558",
         "marker": {
          "color": "#A3A500",
          "pattern": {
           "shape": ""
          }
         },
         "name": "558",
         "offsetgroup": "558",
         "orientation": "v",
         "showlegend": true,
         "textposition": "auto",
         "type": "bar",
         "x": [
          "Género",
          "aleator",
          "IMC",
          "Circunferencia de cintura",
          "ATPII/AHA/IDF",
          "fenilalax",
          "ohd3x",
          "tirosinax",
          "Alanina",
          "Aspartato",
          "Glutamato",
          "Leucina",
          "Ornitina",
          "Prolina",
          "Tirosina",
          "Carnitina libre",
          "Propionilcarnitina",
          "Isovalerilcarnitina",
          "Tiglilcarnitina",
          "Me-Glutarilcarnitina",
          "Decanoilcarnitina",
          "Tetradecanoilcarnitina",
          "3-OH-Isovalerilcarnitina",
          "3-OH-Palmitoilcarnitina",
          "Linoleoilcarnitina",
          "Arginina",
          "Citrulina",
          "Glicina",
          "Metionina",
          "Fenilalanina",
          "Succinilacetona",
          "Valina",
          "Acetilcarnitina",
          "Butirilcarnitina",
          "Glutarilcarnitina",
          "Hexanoilcarnitina",
          "Octanoilcarnitina",
          "Dodecanoilcarnitina",
          "Tetradecenoilcarnitina",
          "Palmitoilcarnitina",
          "Estearoilcarnitina",
          "3-OH-Linoleoilcarnitina",
          "PROTEINAProm_(G)",
          "%_proteina_natural",
          "%_Proteina_SP"
         ],
         "xaxis": "x",
         "y": [
          0,
          0,
          0.6445942,
          0,
          0,
          0.37976095,
          0.06286569,
          0,
          0,
          0,
          0.1292972,
          0,
          0.33023024,
          0.11297923,
          0.19091609,
          0,
          0,
          0,
          0,
          0,
          0.057619352,
          0,
          0.04086481,
          0.08258739,
          0.39893782,
          0,
          0,
          0,
          0,
          0,
          0,
          0,
          0.07254014,
          0,
          0,
          0,
          0,
          0.180398,
          0,
          0,
          0.41050532,
          0.12996446,
          0.06139026,
          0,
          0
         ],
         "yaxis": "y"
        },
        {
         "alignmentgroup": "True",
         "hovertemplate": "variable=672<br>index=%{x}<br>value=%{y}<extra></extra>",
         "legendgroup": "672",
         "marker": {
          "color": "#00BF7D",
          "pattern": {
           "shape": ""
          }
         },
         "name": "672",
         "offsetgroup": "672",
         "orientation": "v",
         "showlegend": true,
         "textposition": "auto",
         "type": "bar",
         "x": [
          "Género",
          "aleator",
          "IMC",
          "Circunferencia de cintura",
          "ATPII/AHA/IDF",
          "fenilalax",
          "ohd3x",
          "tirosinax",
          "Alanina",
          "Aspartato",
          "Glutamato",
          "Leucina",
          "Ornitina",
          "Prolina",
          "Tirosina",
          "Carnitina libre",
          "Propionilcarnitina",
          "Isovalerilcarnitina",
          "Tiglilcarnitina",
          "Me-Glutarilcarnitina",
          "Decanoilcarnitina",
          "Tetradecanoilcarnitina",
          "3-OH-Isovalerilcarnitina",
          "3-OH-Palmitoilcarnitina",
          "Linoleoilcarnitina",
          "Arginina",
          "Citrulina",
          "Glicina",
          "Metionina",
          "Fenilalanina",
          "Succinilacetona",
          "Valina",
          "Acetilcarnitina",
          "Butirilcarnitina",
          "Glutarilcarnitina",
          "Hexanoilcarnitina",
          "Octanoilcarnitina",
          "Dodecanoilcarnitina",
          "Tetradecenoilcarnitina",
          "Palmitoilcarnitina",
          "Estearoilcarnitina",
          "3-OH-Linoleoilcarnitina",
          "PROTEINAProm_(G)",
          "%_proteina_natural",
          "%_Proteina_SP"
         ],
         "xaxis": "x",
         "y": [
          0,
          0,
          1.2462461,
          0.048484962,
          0,
          0.24052785,
          0.13284828,
          0,
          0,
          0.17304099,
          0,
          0,
          0,
          0,
          0,
          0,
          0,
          0,
          0,
          0,
          0.16319034,
          0,
          0,
          0,
          0,
          0.042018294,
          0,
          0,
          0,
          0,
          0,
          0,
          0,
          0,
          0,
          0,
          0,
          0.04801151,
          0,
          0,
          0.127522,
          0,
          0.109682046,
          0,
          0
         ],
         "yaxis": "y"
        },
        {
         "alignmentgroup": "True",
         "hovertemplate": "variable=695<br>index=%{x}<br>value=%{y}<extra></extra>",
         "legendgroup": "695",
         "marker": {
          "color": "#00B0F6",
          "pattern": {
           "shape": ""
          }
         },
         "name": "695",
         "offsetgroup": "695",
         "orientation": "v",
         "showlegend": true,
         "textposition": "auto",
         "type": "bar",
         "x": [
          "Género",
          "aleator",
          "IMC",
          "Circunferencia de cintura",
          "ATPII/AHA/IDF",
          "fenilalax",
          "ohd3x",
          "tirosinax",
          "Alanina",
          "Aspartato",
          "Glutamato",
          "Leucina",
          "Ornitina",
          "Prolina",
          "Tirosina",
          "Carnitina libre",
          "Propionilcarnitina",
          "Isovalerilcarnitina",
          "Tiglilcarnitina",
          "Me-Glutarilcarnitina",
          "Decanoilcarnitina",
          "Tetradecanoilcarnitina",
          "3-OH-Isovalerilcarnitina",
          "3-OH-Palmitoilcarnitina",
          "Linoleoilcarnitina",
          "Arginina",
          "Citrulina",
          "Glicina",
          "Metionina",
          "Fenilalanina",
          "Succinilacetona",
          "Valina",
          "Acetilcarnitina",
          "Butirilcarnitina",
          "Glutarilcarnitina",
          "Hexanoilcarnitina",
          "Octanoilcarnitina",
          "Dodecanoilcarnitina",
          "Tetradecenoilcarnitina",
          "Palmitoilcarnitina",
          "Estearoilcarnitina",
          "3-OH-Linoleoilcarnitina",
          "PROTEINAProm_(G)",
          "%_proteina_natural",
          "%_Proteina_SP"
         ],
         "xaxis": "x",
         "y": [
          0,
          0,
          1.1545646,
          0,
          0,
          0.22047949,
          0,
          0,
          0,
          0,
          0,
          0,
          0,
          0.10395552,
          0.29171002,
          0.112828255,
          0,
          0.28355902,
          0,
          0,
          0.34513047,
          0,
          0.061721623,
          0,
          0,
          0,
          0.13522822,
          0,
          0,
          0,
          0,
          0,
          0.13453935,
          0.12820286,
          0,
          0,
          0,
          0,
          0,
          0.02297309,
          0.3999618,
          0,
          0,
          0,
          0
         ],
         "yaxis": "y"
        },
        {
         "alignmentgroup": "True",
         "hovertemplate": "variable=756<br>index=%{x}<br>value=%{y}<extra></extra>",
         "legendgroup": "756",
         "marker": {
          "color": "#E76BF3",
          "pattern": {
           "shape": ""
          }
         },
         "name": "756",
         "offsetgroup": "756",
         "orientation": "v",
         "showlegend": true,
         "textposition": "auto",
         "type": "bar",
         "x": [
          "Género",
          "aleator",
          "IMC",
          "Circunferencia de cintura",
          "ATPII/AHA/IDF",
          "fenilalax",
          "ohd3x",
          "tirosinax",
          "Alanina",
          "Aspartato",
          "Glutamato",
          "Leucina",
          "Ornitina",
          "Prolina",
          "Tirosina",
          "Carnitina libre",
          "Propionilcarnitina",
          "Isovalerilcarnitina",
          "Tiglilcarnitina",
          "Me-Glutarilcarnitina",
          "Decanoilcarnitina",
          "Tetradecanoilcarnitina",
          "3-OH-Isovalerilcarnitina",
          "3-OH-Palmitoilcarnitina",
          "Linoleoilcarnitina",
          "Arginina",
          "Citrulina",
          "Glicina",
          "Metionina",
          "Fenilalanina",
          "Succinilacetona",
          "Valina",
          "Acetilcarnitina",
          "Butirilcarnitina",
          "Glutarilcarnitina",
          "Hexanoilcarnitina",
          "Octanoilcarnitina",
          "Dodecanoilcarnitina",
          "Tetradecenoilcarnitina",
          "Palmitoilcarnitina",
          "Estearoilcarnitina",
          "3-OH-Linoleoilcarnitina",
          "PROTEINAProm_(G)",
          "%_proteina_natural",
          "%_Proteina_SP"
         ],
         "xaxis": "x",
         "y": [
          0,
          0,
          0.4048548,
          0.36053172,
          0,
          0.30397135,
          0,
          0,
          0,
          0,
          0.062678464,
          0,
          0.465983,
          0,
          0,
          0.05903408,
          0,
          0,
          0,
          0,
          0.25112924,
          0,
          0,
          0,
          0,
          0,
          0.41021213,
          0,
          0.016216738,
          0,
          0,
          0,
          0,
          0.058784436,
          0,
          0,
          0,
          0,
          0,
          0.05172516,
          0.29525164,
          0,
          0.34278977,
          0,
          0
         ],
         "yaxis": "y"
        },
        {
         "alignmentgroup": "True",
         "hovertemplate": "variable=802<br>index=%{x}<br>value=%{y}<extra></extra>",
         "legendgroup": "802",
         "marker": {
          "color": "#F8766D",
          "pattern": {
           "shape": ""
          }
         },
         "name": "802",
         "offsetgroup": "802",
         "orientation": "v",
         "showlegend": true,
         "textposition": "auto",
         "type": "bar",
         "x": [
          "Género",
          "aleator",
          "IMC",
          "Circunferencia de cintura",
          "ATPII/AHA/IDF",
          "fenilalax",
          "ohd3x",
          "tirosinax",
          "Alanina",
          "Aspartato",
          "Glutamato",
          "Leucina",
          "Ornitina",
          "Prolina",
          "Tirosina",
          "Carnitina libre",
          "Propionilcarnitina",
          "Isovalerilcarnitina",
          "Tiglilcarnitina",
          "Me-Glutarilcarnitina",
          "Decanoilcarnitina",
          "Tetradecanoilcarnitina",
          "3-OH-Isovalerilcarnitina",
          "3-OH-Palmitoilcarnitina",
          "Linoleoilcarnitina",
          "Arginina",
          "Citrulina",
          "Glicina",
          "Metionina",
          "Fenilalanina",
          "Succinilacetona",
          "Valina",
          "Acetilcarnitina",
          "Butirilcarnitina",
          "Glutarilcarnitina",
          "Hexanoilcarnitina",
          "Octanoilcarnitina",
          "Dodecanoilcarnitina",
          "Tetradecenoilcarnitina",
          "Palmitoilcarnitina",
          "Estearoilcarnitina",
          "3-OH-Linoleoilcarnitina",
          "PROTEINAProm_(G)",
          "%_proteina_natural",
          "%_Proteina_SP"
         ],
         "xaxis": "x",
         "y": [
          0,
          0,
          1.298783,
          0,
          0,
          0.46756628,
          0,
          0,
          0,
          0.15012704,
          0,
          0,
          0,
          0,
          0,
          0.12856226,
          0,
          0,
          0,
          0,
          0.14500755,
          0,
          0.10844793,
          0,
          0,
          0,
          0,
          0,
          0,
          0,
          0,
          0,
          0,
          0,
          0,
          0,
          0,
          0,
          0,
          0,
          0.09809568,
          0,
          0.098460756,
          0,
          0
         ],
         "yaxis": "y"
        },
        {
         "alignmentgroup": "True",
         "hovertemplate": "variable=810<br>index=%{x}<br>value=%{y}<extra></extra>",
         "legendgroup": "810",
         "marker": {
          "color": "#A3A500",
          "pattern": {
           "shape": ""
          }
         },
         "name": "810",
         "offsetgroup": "810",
         "orientation": "v",
         "showlegend": true,
         "textposition": "auto",
         "type": "bar",
         "x": [
          "Género",
          "aleator",
          "IMC",
          "Circunferencia de cintura",
          "ATPII/AHA/IDF",
          "fenilalax",
          "ohd3x",
          "tirosinax",
          "Alanina",
          "Aspartato",
          "Glutamato",
          "Leucina",
          "Ornitina",
          "Prolina",
          "Tirosina",
          "Carnitina libre",
          "Propionilcarnitina",
          "Isovalerilcarnitina",
          "Tiglilcarnitina",
          "Me-Glutarilcarnitina",
          "Decanoilcarnitina",
          "Tetradecanoilcarnitina",
          "3-OH-Isovalerilcarnitina",
          "3-OH-Palmitoilcarnitina",
          "Linoleoilcarnitina",
          "Arginina",
          "Citrulina",
          "Glicina",
          "Metionina",
          "Fenilalanina",
          "Succinilacetona",
          "Valina",
          "Acetilcarnitina",
          "Butirilcarnitina",
          "Glutarilcarnitina",
          "Hexanoilcarnitina",
          "Octanoilcarnitina",
          "Dodecanoilcarnitina",
          "Tetradecenoilcarnitina",
          "Palmitoilcarnitina",
          "Estearoilcarnitina",
          "3-OH-Linoleoilcarnitina",
          "PROTEINAProm_(G)",
          "%_proteina_natural",
          "%_Proteina_SP"
         ],
         "xaxis": "x",
         "y": [
          0,
          0,
          0.21263999,
          0,
          0,
          0.24081083,
          0.19510233,
          0.059414655,
          0,
          0.081142455,
          0,
          0,
          0.40790012,
          0,
          0.11511853,
          0.12958063,
          0,
          0.06592748,
          0,
          0,
          0.10715731,
          0,
          0,
          0,
          0,
          0,
          0,
          0,
          0,
          0.05648629,
          0.064084165,
          0,
          0.112318486,
          0,
          0,
          0,
          0.08172696,
          0,
          0,
          0.16465038,
          0.10122224,
          0,
          0,
          0,
          0
         ],
         "yaxis": "y"
        },
        {
         "alignmentgroup": "True",
         "hovertemplate": "variable=812<br>index=%{x}<br>value=%{y}<extra></extra>",
         "legendgroup": "812",
         "marker": {
          "color": "#00BF7D",
          "pattern": {
           "shape": ""
          }
         },
         "name": "812",
         "offsetgroup": "812",
         "orientation": "v",
         "showlegend": true,
         "textposition": "auto",
         "type": "bar",
         "x": [
          "Género",
          "aleator",
          "IMC",
          "Circunferencia de cintura",
          "ATPII/AHA/IDF",
          "fenilalax",
          "ohd3x",
          "tirosinax",
          "Alanina",
          "Aspartato",
          "Glutamato",
          "Leucina",
          "Ornitina",
          "Prolina",
          "Tirosina",
          "Carnitina libre",
          "Propionilcarnitina",
          "Isovalerilcarnitina",
          "Tiglilcarnitina",
          "Me-Glutarilcarnitina",
          "Decanoilcarnitina",
          "Tetradecanoilcarnitina",
          "3-OH-Isovalerilcarnitina",
          "3-OH-Palmitoilcarnitina",
          "Linoleoilcarnitina",
          "Arginina",
          "Citrulina",
          "Glicina",
          "Metionina",
          "Fenilalanina",
          "Succinilacetona",
          "Valina",
          "Acetilcarnitina",
          "Butirilcarnitina",
          "Glutarilcarnitina",
          "Hexanoilcarnitina",
          "Octanoilcarnitina",
          "Dodecanoilcarnitina",
          "Tetradecenoilcarnitina",
          "Palmitoilcarnitina",
          "Estearoilcarnitina",
          "3-OH-Linoleoilcarnitina",
          "PROTEINAProm_(G)",
          "%_proteina_natural",
          "%_Proteina_SP"
         ],
         "xaxis": "x",
         "y": [
          0.062275827,
          0,
          0.55148053,
          0,
          0,
          0.45215815,
          0,
          0,
          0,
          0,
          0,
          0,
          0.61793697,
          0,
          0.33340272,
          0,
          0,
          0,
          0,
          0,
          0,
          0,
          0,
          0.0799524,
          0.064336434,
          0,
          0,
          0,
          0.054422047,
          0,
          0,
          0.22050591,
          0.5243721,
          0,
          0,
          0,
          0,
          0,
          0.09823422,
          0,
          0.39376476,
          0,
          0,
          0,
          0
         ],
         "yaxis": "y"
        },
        {
         "alignmentgroup": "True",
         "hovertemplate": "variable=850<br>index=%{x}<br>value=%{y}<extra></extra>",
         "legendgroup": "850",
         "marker": {
          "color": "#00B0F6",
          "pattern": {
           "shape": ""
          }
         },
         "name": "850",
         "offsetgroup": "850",
         "orientation": "v",
         "showlegend": true,
         "textposition": "auto",
         "type": "bar",
         "x": [
          "Género",
          "aleator",
          "IMC",
          "Circunferencia de cintura",
          "ATPII/AHA/IDF",
          "fenilalax",
          "ohd3x",
          "tirosinax",
          "Alanina",
          "Aspartato",
          "Glutamato",
          "Leucina",
          "Ornitina",
          "Prolina",
          "Tirosina",
          "Carnitina libre",
          "Propionilcarnitina",
          "Isovalerilcarnitina",
          "Tiglilcarnitina",
          "Me-Glutarilcarnitina",
          "Decanoilcarnitina",
          "Tetradecanoilcarnitina",
          "3-OH-Isovalerilcarnitina",
          "3-OH-Palmitoilcarnitina",
          "Linoleoilcarnitina",
          "Arginina",
          "Citrulina",
          "Glicina",
          "Metionina",
          "Fenilalanina",
          "Succinilacetona",
          "Valina",
          "Acetilcarnitina",
          "Butirilcarnitina",
          "Glutarilcarnitina",
          "Hexanoilcarnitina",
          "Octanoilcarnitina",
          "Dodecanoilcarnitina",
          "Tetradecenoilcarnitina",
          "Palmitoilcarnitina",
          "Estearoilcarnitina",
          "3-OH-Linoleoilcarnitina",
          "PROTEINAProm_(G)",
          "%_proteina_natural",
          "%_Proteina_SP"
         ],
         "xaxis": "x",
         "y": [
          0,
          0,
          0.16840465,
          0.09024897,
          0,
          0.3740358,
          0.21499161,
          0,
          0,
          0,
          0,
          0,
          0.46667513,
          0,
          0.104990244,
          0.11224216,
          0,
          0,
          0,
          0,
          0,
          0,
          0,
          0,
          0,
          0,
          0.08299318,
          0,
          0,
          0,
          0.109148055,
          0.06694918,
          0.42153597,
          0,
          0,
          0.20347585,
          0,
          0,
          0,
          0.16336106,
          0.23408484,
          0,
          0.081721544,
          0,
          0
         ],
         "yaxis": "y"
        },
        {
         "alignmentgroup": "True",
         "hovertemplate": "variable=866<br>index=%{x}<br>value=%{y}<extra></extra>",
         "legendgroup": "866",
         "marker": {
          "color": "#E76BF3",
          "pattern": {
           "shape": ""
          }
         },
         "name": "866",
         "offsetgroup": "866",
         "orientation": "v",
         "showlegend": true,
         "textposition": "auto",
         "type": "bar",
         "x": [
          "Género",
          "aleator",
          "IMC",
          "Circunferencia de cintura",
          "ATPII/AHA/IDF",
          "fenilalax",
          "ohd3x",
          "tirosinax",
          "Alanina",
          "Aspartato",
          "Glutamato",
          "Leucina",
          "Ornitina",
          "Prolina",
          "Tirosina",
          "Carnitina libre",
          "Propionilcarnitina",
          "Isovalerilcarnitina",
          "Tiglilcarnitina",
          "Me-Glutarilcarnitina",
          "Decanoilcarnitina",
          "Tetradecanoilcarnitina",
          "3-OH-Isovalerilcarnitina",
          "3-OH-Palmitoilcarnitina",
          "Linoleoilcarnitina",
          "Arginina",
          "Citrulina",
          "Glicina",
          "Metionina",
          "Fenilalanina",
          "Succinilacetona",
          "Valina",
          "Acetilcarnitina",
          "Butirilcarnitina",
          "Glutarilcarnitina",
          "Hexanoilcarnitina",
          "Octanoilcarnitina",
          "Dodecanoilcarnitina",
          "Tetradecenoilcarnitina",
          "Palmitoilcarnitina",
          "Estearoilcarnitina",
          "3-OH-Linoleoilcarnitina",
          "PROTEINAProm_(G)",
          "%_proteina_natural",
          "%_Proteina_SP"
         ],
         "xaxis": "x",
         "y": [
          0.6055292,
          0,
          0.51003075,
          0.06921839,
          0,
          0.31947517,
          0.062212765,
          0,
          0,
          0,
          0,
          0.045138568,
          0.3752487,
          0,
          0,
          0.77631044,
          0,
          0,
          0.030967895,
          0,
          0.05097516,
          0,
          0,
          0,
          0.2304593,
          0,
          0.08353,
          0.11139397,
          0.15489271,
          0,
          0,
          0.314131,
          0,
          0.04070948,
          0.05390024,
          0,
          0,
          0.1318171,
          0,
          0,
          0.15137881,
          0,
          0.020877412,
          0,
          0
         ],
         "yaxis": "y"
        },
        {
         "alignmentgroup": "True",
         "hovertemplate": "variable=946<br>index=%{x}<br>value=%{y}<extra></extra>",
         "legendgroup": "946",
         "marker": {
          "color": "#F8766D",
          "pattern": {
           "shape": ""
          }
         },
         "name": "946",
         "offsetgroup": "946",
         "orientation": "v",
         "showlegend": true,
         "textposition": "auto",
         "type": "bar",
         "x": [
          "Género",
          "aleator",
          "IMC",
          "Circunferencia de cintura",
          "ATPII/AHA/IDF",
          "fenilalax",
          "ohd3x",
          "tirosinax",
          "Alanina",
          "Aspartato",
          "Glutamato",
          "Leucina",
          "Ornitina",
          "Prolina",
          "Tirosina",
          "Carnitina libre",
          "Propionilcarnitina",
          "Isovalerilcarnitina",
          "Tiglilcarnitina",
          "Me-Glutarilcarnitina",
          "Decanoilcarnitina",
          "Tetradecanoilcarnitina",
          "3-OH-Isovalerilcarnitina",
          "3-OH-Palmitoilcarnitina",
          "Linoleoilcarnitina",
          "Arginina",
          "Citrulina",
          "Glicina",
          "Metionina",
          "Fenilalanina",
          "Succinilacetona",
          "Valina",
          "Acetilcarnitina",
          "Butirilcarnitina",
          "Glutarilcarnitina",
          "Hexanoilcarnitina",
          "Octanoilcarnitina",
          "Dodecanoilcarnitina",
          "Tetradecenoilcarnitina",
          "Palmitoilcarnitina",
          "Estearoilcarnitina",
          "3-OH-Linoleoilcarnitina",
          "PROTEINAProm_(G)",
          "%_proteina_natural",
          "%_Proteina_SP"
         ],
         "xaxis": "x",
         "y": [
          0,
          0,
          0.72942674,
          0.015507016,
          0,
          0.2984905,
          0,
          0,
          0,
          0,
          0,
          0.047218554,
          0.2616023,
          0.054696385,
          0.2721848,
          0.39844877,
          0.06396249,
          0,
          0.045921348,
          0,
          0.14183293,
          0,
          0,
          0,
          0.09679571,
          0.084051155,
          0.35792738,
          0,
          0,
          0,
          0,
          0.10959491,
          0.095101014,
          0,
          0,
          0,
          0,
          0.08809865,
          0,
          0.12279309,
          0.19597092,
          0,
          0,
          0,
          0
         ],
         "yaxis": "y"
        }
       ],
       "layout": {
        "barmode": "group",
        "legend": {
         "title": {
          "text": "Model"
         },
         "tracegroupgap": 0
        },
        "margin": {
         "t": 60
        },
        "template": {
         "data": {
          "bar": [
           {
            "error_x": {
             "color": "rgb(51,51,51)"
            },
            "error_y": {
             "color": "rgb(51,51,51)"
            },
            "marker": {
             "line": {
              "color": "rgb(237,237,237)",
              "width": 0.5
             },
             "pattern": {
              "fillmode": "overlay",
              "size": 10,
              "solidity": 0.2
             }
            },
            "type": "bar"
           }
          ],
          "barpolar": [
           {
            "marker": {
             "line": {
              "color": "rgb(237,237,237)",
              "width": 0.5
             },
             "pattern": {
              "fillmode": "overlay",
              "size": 10,
              "solidity": 0.2
             }
            },
            "type": "barpolar"
           }
          ],
          "carpet": [
           {
            "aaxis": {
             "endlinecolor": "rgb(51,51,51)",
             "gridcolor": "white",
             "linecolor": "white",
             "minorgridcolor": "white",
             "startlinecolor": "rgb(51,51,51)"
            },
            "baxis": {
             "endlinecolor": "rgb(51,51,51)",
             "gridcolor": "white",
             "linecolor": "white",
             "minorgridcolor": "white",
             "startlinecolor": "rgb(51,51,51)"
            },
            "type": "carpet"
           }
          ],
          "choropleth": [
           {
            "colorbar": {
             "outlinewidth": 0,
             "tickcolor": "rgb(237,237,237)",
             "ticklen": 6,
             "ticks": "inside"
            },
            "type": "choropleth"
           }
          ],
          "contour": [
           {
            "colorbar": {
             "outlinewidth": 0,
             "tickcolor": "rgb(237,237,237)",
             "ticklen": 6,
             "ticks": "inside"
            },
            "colorscale": [
             [
              0,
              "rgb(20,44,66)"
             ],
             [
              1,
              "rgb(90,179,244)"
             ]
            ],
            "type": "contour"
           }
          ],
          "contourcarpet": [
           {
            "colorbar": {
             "outlinewidth": 0,
             "tickcolor": "rgb(237,237,237)",
             "ticklen": 6,
             "ticks": "inside"
            },
            "type": "contourcarpet"
           }
          ],
          "heatmap": [
           {
            "colorbar": {
             "outlinewidth": 0,
             "tickcolor": "rgb(237,237,237)",
             "ticklen": 6,
             "ticks": "inside"
            },
            "colorscale": [
             [
              0,
              "rgb(20,44,66)"
             ],
             [
              1,
              "rgb(90,179,244)"
             ]
            ],
            "type": "heatmap"
           }
          ],
          "heatmapgl": [
           {
            "colorbar": {
             "outlinewidth": 0,
             "tickcolor": "rgb(237,237,237)",
             "ticklen": 6,
             "ticks": "inside"
            },
            "colorscale": [
             [
              0,
              "rgb(20,44,66)"
             ],
             [
              1,
              "rgb(90,179,244)"
             ]
            ],
            "type": "heatmapgl"
           }
          ],
          "histogram": [
           {
            "marker": {
             "pattern": {
              "fillmode": "overlay",
              "size": 10,
              "solidity": 0.2
             }
            },
            "type": "histogram"
           }
          ],
          "histogram2d": [
           {
            "colorbar": {
             "outlinewidth": 0,
             "tickcolor": "rgb(237,237,237)",
             "ticklen": 6,
             "ticks": "inside"
            },
            "colorscale": [
             [
              0,
              "rgb(20,44,66)"
             ],
             [
              1,
              "rgb(90,179,244)"
             ]
            ],
            "type": "histogram2d"
           }
          ],
          "histogram2dcontour": [
           {
            "colorbar": {
             "outlinewidth": 0,
             "tickcolor": "rgb(237,237,237)",
             "ticklen": 6,
             "ticks": "inside"
            },
            "colorscale": [
             [
              0,
              "rgb(20,44,66)"
             ],
             [
              1,
              "rgb(90,179,244)"
             ]
            ],
            "type": "histogram2dcontour"
           }
          ],
          "mesh3d": [
           {
            "colorbar": {
             "outlinewidth": 0,
             "tickcolor": "rgb(237,237,237)",
             "ticklen": 6,
             "ticks": "inside"
            },
            "type": "mesh3d"
           }
          ],
          "parcoords": [
           {
            "line": {
             "colorbar": {
              "outlinewidth": 0,
              "tickcolor": "rgb(237,237,237)",
              "ticklen": 6,
              "ticks": "inside"
             }
            },
            "type": "parcoords"
           }
          ],
          "pie": [
           {
            "automargin": true,
            "type": "pie"
           }
          ],
          "scatter": [
           {
            "fillpattern": {
             "fillmode": "overlay",
             "size": 10,
             "solidity": 0.2
            },
            "type": "scatter"
           }
          ],
          "scatter3d": [
           {
            "line": {
             "colorbar": {
              "outlinewidth": 0,
              "tickcolor": "rgb(237,237,237)",
              "ticklen": 6,
              "ticks": "inside"
             }
            },
            "marker": {
             "colorbar": {
              "outlinewidth": 0,
              "tickcolor": "rgb(237,237,237)",
              "ticklen": 6,
              "ticks": "inside"
             }
            },
            "type": "scatter3d"
           }
          ],
          "scattercarpet": [
           {
            "marker": {
             "colorbar": {
              "outlinewidth": 0,
              "tickcolor": "rgb(237,237,237)",
              "ticklen": 6,
              "ticks": "inside"
             }
            },
            "type": "scattercarpet"
           }
          ],
          "scattergeo": [
           {
            "marker": {
             "colorbar": {
              "outlinewidth": 0,
              "tickcolor": "rgb(237,237,237)",
              "ticklen": 6,
              "ticks": "inside"
             }
            },
            "type": "scattergeo"
           }
          ],
          "scattergl": [
           {
            "marker": {
             "colorbar": {
              "outlinewidth": 0,
              "tickcolor": "rgb(237,237,237)",
              "ticklen": 6,
              "ticks": "inside"
             }
            },
            "type": "scattergl"
           }
          ],
          "scattermapbox": [
           {
            "marker": {
             "colorbar": {
              "outlinewidth": 0,
              "tickcolor": "rgb(237,237,237)",
              "ticklen": 6,
              "ticks": "inside"
             }
            },
            "type": "scattermapbox"
           }
          ],
          "scatterpolar": [
           {
            "marker": {
             "colorbar": {
              "outlinewidth": 0,
              "tickcolor": "rgb(237,237,237)",
              "ticklen": 6,
              "ticks": "inside"
             }
            },
            "type": "scatterpolar"
           }
          ],
          "scatterpolargl": [
           {
            "marker": {
             "colorbar": {
              "outlinewidth": 0,
              "tickcolor": "rgb(237,237,237)",
              "ticklen": 6,
              "ticks": "inside"
             }
            },
            "type": "scatterpolargl"
           }
          ],
          "scatterternary": [
           {
            "marker": {
             "colorbar": {
              "outlinewidth": 0,
              "tickcolor": "rgb(237,237,237)",
              "ticklen": 6,
              "ticks": "inside"
             }
            },
            "type": "scatterternary"
           }
          ],
          "surface": [
           {
            "colorbar": {
             "outlinewidth": 0,
             "tickcolor": "rgb(237,237,237)",
             "ticklen": 6,
             "ticks": "inside"
            },
            "colorscale": [
             [
              0,
              "rgb(20,44,66)"
             ],
             [
              1,
              "rgb(90,179,244)"
             ]
            ],
            "type": "surface"
           }
          ],
          "table": [
           {
            "cells": {
             "fill": {
              "color": "rgb(237,237,237)"
             },
             "line": {
              "color": "white"
             }
            },
            "header": {
             "fill": {
              "color": "rgb(217,217,217)"
             },
             "line": {
              "color": "white"
             }
            },
            "type": "table"
           }
          ]
         },
         "layout": {
          "annotationdefaults": {
           "arrowhead": 0,
           "arrowwidth": 1
          },
          "autotypenumbers": "strict",
          "coloraxis": {
           "colorbar": {
            "outlinewidth": 0,
            "tickcolor": "rgb(237,237,237)",
            "ticklen": 6,
            "ticks": "inside"
           }
          },
          "colorscale": {
           "sequential": [
            [
             0,
             "rgb(20,44,66)"
            ],
            [
             1,
             "rgb(90,179,244)"
            ]
           ],
           "sequentialminus": [
            [
             0,
             "rgb(20,44,66)"
            ],
            [
             1,
             "rgb(90,179,244)"
            ]
           ]
          },
          "colorway": [
           "#F8766D",
           "#A3A500",
           "#00BF7D",
           "#00B0F6",
           "#E76BF3"
          ],
          "font": {
           "color": "rgb(51,51,51)"
          },
          "geo": {
           "bgcolor": "white",
           "lakecolor": "white",
           "landcolor": "rgb(237,237,237)",
           "showlakes": true,
           "showland": true,
           "subunitcolor": "white"
          },
          "hoverlabel": {
           "align": "left"
          },
          "hovermode": "closest",
          "paper_bgcolor": "white",
          "plot_bgcolor": "rgb(237,237,237)",
          "polar": {
           "angularaxis": {
            "gridcolor": "white",
            "linecolor": "white",
            "showgrid": true,
            "tickcolor": "rgb(51,51,51)",
            "ticks": "outside"
           },
           "bgcolor": "rgb(237,237,237)",
           "radialaxis": {
            "gridcolor": "white",
            "linecolor": "white",
            "showgrid": true,
            "tickcolor": "rgb(51,51,51)",
            "ticks": "outside"
           }
          },
          "scene": {
           "xaxis": {
            "backgroundcolor": "rgb(237,237,237)",
            "gridcolor": "white",
            "gridwidth": 2,
            "linecolor": "white",
            "showbackground": true,
            "showgrid": true,
            "tickcolor": "rgb(51,51,51)",
            "ticks": "outside",
            "zerolinecolor": "white"
           },
           "yaxis": {
            "backgroundcolor": "rgb(237,237,237)",
            "gridcolor": "white",
            "gridwidth": 2,
            "linecolor": "white",
            "showbackground": true,
            "showgrid": true,
            "tickcolor": "rgb(51,51,51)",
            "ticks": "outside",
            "zerolinecolor": "white"
           },
           "zaxis": {
            "backgroundcolor": "rgb(237,237,237)",
            "gridcolor": "white",
            "gridwidth": 2,
            "linecolor": "white",
            "showbackground": true,
            "showgrid": true,
            "tickcolor": "rgb(51,51,51)",
            "ticks": "outside",
            "zerolinecolor": "white"
           }
          },
          "shapedefaults": {
           "fillcolor": "black",
           "line": {
            "width": 0
           },
           "opacity": 0.3
          },
          "ternary": {
           "aaxis": {
            "gridcolor": "white",
            "linecolor": "white",
            "showgrid": true,
            "tickcolor": "rgb(51,51,51)",
            "ticks": "outside"
           },
           "baxis": {
            "gridcolor": "white",
            "linecolor": "white",
            "showgrid": true,
            "tickcolor": "rgb(51,51,51)",
            "ticks": "outside"
           },
           "bgcolor": "rgb(237,237,237)",
           "caxis": {
            "gridcolor": "white",
            "linecolor": "white",
            "showgrid": true,
            "tickcolor": "rgb(51,51,51)",
            "ticks": "outside"
           }
          },
          "xaxis": {
           "automargin": true,
           "gridcolor": "white",
           "linecolor": "white",
           "showgrid": true,
           "tickcolor": "rgb(51,51,51)",
           "ticks": "outside",
           "title": {
            "standoff": 15
           },
           "zerolinecolor": "white"
          },
          "yaxis": {
           "automargin": true,
           "gridcolor": "white",
           "linecolor": "white",
           "showgrid": true,
           "tickcolor": "rgb(51,51,51)",
           "ticks": "outside",
           "title": {
            "standoff": 15
           },
           "zerolinecolor": "white"
          }
         }
        },
        "title": {
         "text": "Shapley values for abnormal samples"
        },
        "xaxis": {
         "anchor": "y",
         "categoryarray": [
          "IMC",
          "fenilalax",
          "Estearoilcarnitina",
          "Ornitina",
          "Tirosina",
          "Acetilcarnitina",
          "Carnitina libre",
          "Valina",
          "PROTEINAProm_(G)",
          "ohd3x",
          "Circunferencia de cintura",
          "Decanoilcarnitina",
          "Citrulina",
          "Linoleoilcarnitina",
          "Género",
          "Dodecanoilcarnitina",
          "Prolina",
          "Glutamato",
          "Palmitoilcarnitina",
          "Butirilcarnitina",
          "Isovalerilcarnitina",
          "Leucina",
          "3-OH-Palmitoilcarnitina",
          "Alanina",
          "tirosinax",
          "Glicina",
          "Succinilacetona",
          "Tiglilcarnitina",
          "Propionilcarnitina",
          "Tetradecenoilcarnitina",
          "Octanoilcarnitina",
          "Hexanoilcarnitina",
          "Glutarilcarnitina",
          "3-OH-Linoleoilcarnitina",
          "3-OH-Isovalerilcarnitina",
          "Metionina",
          "Arginina",
          "%_proteina_natural",
          "Tetradecanoilcarnitina",
          "Aspartato",
          "Fenilalanina",
          "Me-Glutarilcarnitina",
          "ATPII/AHA/IDF",
          "aleator",
          "%_Proteina_SP"
         ],
         "categoryorder": "array",
         "domain": [
          0,
          1
         ],
         "labelalias": {
          "%_Proteina_SP": "% SP Protein",
          "%_proteina_natural": "% Natural Protein",
          "3-OH-Isovalerilcarnitina": "3-OH-Isovalerylcarnitine",
          "3-OH-Linoleoilcarnitina": "3-OH-Linoleoylcarnitine",
          "3-OH-Palmitoilcarnitina": "3-OH-Palmitoylcarnitine",
          "ATPII/AHA/IDF": "ATPII/AHA/IDF",
          "Acetilcarnitina": "Acetylcarnitine",
          "Alanina": "Alanine",
          "Arginina": "Arginine",
          "Aspartato": "Aspartate",
          "Butirilcarnitina": "Butyrylcarnitine",
          "CALCIOProm_(MG)": "Calcium avg. (mg)",
          "CARBOHIDRATOProm_(G)": "CARBOHYDRATE avg. (g)",
          "COBREProm_(MG)": "Copper avg. (mg)",
          "COLESTEROLProm_(MG)": "CHOLESTEROL avg. (mg)",
          "Carnitina libre": "Free Carnitine",
          "Circunferencia de cintura": "Waist circumference",
          "Citrulina": "Citrulline",
          "Decanoilcarnitina": "Decanoylcarnitine",
          "Dodecanoilcarnitina": "Dodecanoylcarnitine",
          "ENERGIAProm_(KCAL)": "ENERGY avg. (KCAL)",
          "Edad": "Age",
          "Estatura": "Height",
          "Estearoilcarnitina": "Stearoylcarnitine",
          "FENILALANINAProm_(G)": "PHENYLALANINE_avg (g)",
          "FOLATOProm_(MCG)": "Folate avg. (MCG)",
          "Fenilalanina": "Phenylalanine",
          "GRASAProm(G)": "Fat avg. (g)",
          "Glicina": "Glycine",
          "Glutamato": "Glutamate",
          "Glutarilcarnitina": "Glutarylcarnitine",
          "Género": "gender",
          "HIERROProm_(MG)": "Iron avg. (mg)",
          "HOMA-IR alterado": "HOMA-IR altered",
          "HOMA2-IR": "HOMA2-IR",
          "HOMA2B(%)": "HOMA2B(%)",
          "HOMA2S%": "HOMA2S%",
          "Hexanoilcarnitina": "Hexanoylcarnitine",
          "IMC": "BMI",
          "Isovalerilcarnitina": "Isovalerylcarnitine",
          "Leucina": "Leucine",
          "Linoleoilcarnitina": "Linoleoilcarnitine",
          "Me-Glutarilcarnitina": "Me-Glutarylcarnitine",
          "Metionina": "Methionine",
          "Octanoilcarnitina": "Octanoylcarnitine",
          "Ornitina": "Ornithine",
          "PROTEINAProm_(G)": "Protein avg. (g)",
          "Palmitoilcarnitina": "Palmitoylcarnitine",
          "Peso": "Weight",
          "Prolina": "Proline",
          "Propionilcarnitina": "Propionylcarnitine",
          "Proteina_SP": "SP Protein",
          "Proteina_natural": "Protein natural",
          "SP_gr/kg": "SP (gr/kg)",
          "Succinilacetona": "Succinylacetone",
          "TIROSINAProm_(G)": "TYROSINE avg. (g)",
          "Tetradecanoilcarnitina": "Tetradecanoylcarnitine",
          "Tetradecenoilcarnitina": "Tetradecenoylcarnitine",
          "Tiglilcarnitina": "Tiglilcarnitine",
          "Tirosina": "Tyrosine",
          "VITAMINA_B12Prom_(MCG)": "Vitamin B12 avg. (MCG)",
          "VITAMINA_Dprom": "Vitamin D avg.",
          "Valina": "Valine",
          "ZINCProm_(MG)": "Zinc avg. (mg)",
          "aleator": "random",
          "fenilalax": "Phenylalax",
          "glummol": "Glummol",
          "glupromx": "Glupromx",
          "insuprom": "Insuprom",
          "ohd3x": "ohd3x",
          "quickix": "Quickix",
          "tirosinax": "Tyrosinax"
         },
         "title": {
          "text": "Feature in the dataset"
         }
        },
        "yaxis": {
         "anchor": "x",
         "domain": [
          0,
          1
         ],
         "title": {
          "text": "Shapley Value importance"
         }
        }
       }
      }
     },
     "metadata": {},
     "output_type": "display_data"
    }
   ],
   "source": [
    "df_ranks_long = df_ranks.T\n",
    "order = df_ranks_long.rank(axis=\"columns\", ascending=False).median(axis=\"rows\").sort_values().index\n",
    "\n",
    "# Create a grouped barplot using Plotly\n",
    "fig_barplot = px.bar(df_ranks, barmode='group', template='ggplot2',)\n",
    "fig_barplot.update_xaxes(categoryorder='array', categoryarray=order, labelalias=labels_relabel)\n",
    "\n",
    "\n",
    "fig_barplot.update_layout(\n",
    "    xaxis_title=\"Feature in the dataset\",\n",
    "    yaxis_title=\"Shapley Value importance\",\n",
    "    title=\"Shapley values for abnormal samples\",\n",
    "    legend_title=\"Model\",\n",
    ")\n",
    "\n",
    "# Show the plot\n",
    "fig_barplot.show()\n",
    "\n",
    "# fig = px.bar(, x='variable', y='value')\n",
    "# fig.show()"
   ]
  },
  {
   "cell_type": "code",
   "execution_count": 63,
   "metadata": {},
   "outputs": [],
   "source": [
    "df_ranks_long['auc_score'] = bs_trials['auc']\n"
   ]
  },
  {
   "cell_type": "code",
   "execution_count": 65,
   "metadata": {},
   "outputs": [
    {
     "data": {
      "application/vnd.plotly.v1+json": {
       "config": {
        "plotlyServerURL": "https://plot.ly"
       },
       "data": [
        {
         "dimensions": [
          {
           "label": "BMI",
           "values": [
            1.350244,
            0.5541899,
            0.2626021,
            0.5081429,
            0.23169357,
            0.37380257,
            0.14221352,
            0,
            0.9322901,
            0.87392575,
            0.6742813,
            0.6445942,
            1.2462461,
            1.1545646,
            0.4048548,
            1.298783,
            0.21263999,
            0.55148053,
            0.16840465,
            0.51003075,
            0.72942674
           ]
          },
          {
           "label": "Phenylalax",
           "values": [
            0.23130348,
            0.23277317,
            0.28994298,
            0.22776377,
            0.42936707,
            0.24859606,
            0.39802656,
            0.22713383,
            0.37896794,
            0.23694137,
            0.2326922,
            0.37976095,
            0.24052785,
            0.22047949,
            0.30397135,
            0.46756628,
            0.24081083,
            0.45215815,
            0.3740358,
            0.31947517,
            0.2984905
           ]
          },
          {
           "label": "Stearoylcarnitine",
           "values": [
            0.3418144,
            0.20557192,
            0.33089286,
            0.45915315,
            0.36029357,
            0.35129207,
            0.19963744,
            0.8327263,
            0.16829185,
            0.2823866,
            0.6854955,
            0.41050532,
            0.127522,
            0.3999618,
            0.29525164,
            0.09809568,
            0.10122224,
            0.39376476,
            0.23408484,
            0.15137881,
            0.19597092
           ]
          },
          {
           "label": "Ornithine",
           "values": [
            0.2762975,
            0.72491115,
            0,
            0.052761767,
            0.15233286,
            0.6500798,
            0.09001233,
            0.20252967,
            0.06943929,
            0,
            0,
            0.33023024,
            0,
            0,
            0.465983,
            0,
            0.40790012,
            0.61793697,
            0.46667513,
            0.3752487,
            0.2616023
           ]
          },
          {
           "label": "Tyrosine",
           "values": [
            0.2694069,
            0,
            0.2939833,
            0.03651234,
            0.49138093,
            0.4050865,
            0.64507127,
            0.072864234,
            0.079710975,
            0,
            0.33710575,
            0.19091609,
            0,
            0.29171002,
            0,
            0,
            0.11511853,
            0.33340272,
            0.104990244,
            0,
            0.2721848
           ]
          },
          {
           "label": "Acetylcarnitine",
           "values": [
            0.26416615,
            0.055385705,
            0.22472386,
            0,
            0.36508557,
            0.4598378,
            0.90603185,
            0,
            0.36343485,
            0.3543796,
            0.2827047,
            0.07254014,
            0,
            0.13453935,
            0,
            0,
            0.112318486,
            0.5243721,
            0.42153597,
            0,
            0.095101014
           ]
          },
          {
           "label": "Free Carnitine",
           "values": [
            0.102366164,
            0.50383043,
            0,
            0,
            0.21479797,
            0.04316309,
            0.28340584,
            0,
            0.30997467,
            0.1428054,
            0.28458872,
            0,
            0,
            0.112828255,
            0.05903408,
            0.12856226,
            0.12958063,
            0,
            0.11224216,
            0.77631044,
            0.39844877
           ]
          },
          {
           "label": "Valine",
           "values": [
            0.080125615,
            0.16936974,
            0.3076972,
            0.18837948,
            0.10078358,
            0.122017816,
            0.04801867,
            0.66063577,
            0,
            0.43144587,
            0.10663152,
            0,
            0,
            0,
            0,
            0,
            0,
            0.22050591,
            0.06694918,
            0.314131,
            0.10959491
           ]
          },
          {
           "label": "Protein avg. (g)",
           "values": [
            0.059927285,
            0.23202825,
            0,
            0,
            0.070664436,
            0.09248955,
            0.22393778,
            0,
            0.1161755,
            0.31619757,
            0.3810537,
            0.06139026,
            0.109682046,
            0,
            0.34278977,
            0.098460756,
            0,
            0,
            0.081721544,
            0.020877412,
            0
           ]
          },
          {
           "label": "ohd3x",
           "values": [
            0,
            0,
            0.19575155,
            0.06275263,
            0,
            0.22058572,
            0,
            0,
            0.20503756,
            0.37108675,
            0.4811627,
            0.06286569,
            0.13284828,
            0,
            0,
            0,
            0.19510233,
            0,
            0.21499161,
            0.062212765,
            0
           ]
          },
          {
           "label": "auc_score",
           "values": [
            0.9615384615384616,
            0.9230769230769231,
            0.8055555555555555,
            0.8055555555555556,
            0.8846153846153846,
            1,
            0.8076923076923077,
            0.8055555555555556,
            0.9615384615384616,
            0.9038461538461539,
            0.9230769230769231,
            0.8846153846153846,
            0.875,
            0.9615384615384616,
            0.8611111111111112,
            0.861111111111111,
            0.8055555555555556,
            0.9230769230769231,
            0.9166666666666666,
            0.9230769230769231,
            0.9230769230769231
           ]
          }
         ],
         "domain": {
          "x": [
           0,
           1
          ],
          "y": [
           0,
           1
          ]
         },
         "line": {
          "color": [
           0.9615384615384616,
           0.9230769230769231,
           0.8055555555555555,
           0.8055555555555556,
           0.8846153846153846,
           1,
           0.8076923076923077,
           0.8055555555555556,
           0.9615384615384616,
           0.9038461538461539,
           0.9230769230769231,
           0.8846153846153846,
           0.875,
           0.9615384615384616,
           0.8611111111111112,
           0.861111111111111,
           0.8055555555555556,
           0.9230769230769231,
           0.9166666666666666,
           0.9230769230769231,
           0.9230769230769231
          ],
          "coloraxis": "coloraxis"
         },
         "name": "",
         "type": "parcoords"
        }
       ],
       "layout": {
        "coloraxis": {
         "colorbar": {
          "title": {
           "text": "auc_score"
          }
         },
         "colorscale": [
          [
           0,
           "#0d0887"
          ],
          [
           0.1111111111111111,
           "#46039f"
          ],
          [
           0.2222222222222222,
           "#7201a8"
          ],
          [
           0.3333333333333333,
           "#9c179e"
          ],
          [
           0.4444444444444444,
           "#bd3786"
          ],
          [
           0.5555555555555556,
           "#d8576b"
          ],
          [
           0.6666666666666666,
           "#ed7953"
          ],
          [
           0.7777777777777778,
           "#fb9f3a"
          ],
          [
           0.8888888888888888,
           "#fdca26"
          ],
          [
           1,
           "#f0f921"
          ]
         ],
         "showscale": false
        },
        "legend": {
         "tracegroupgap": 0
        },
        "template": {
         "data": {
          "bar": [
           {
            "error_x": {
             "color": "#2a3f5f"
            },
            "error_y": {
             "color": "#2a3f5f"
            },
            "marker": {
             "line": {
              "color": "#E5ECF6",
              "width": 0.5
             },
             "pattern": {
              "fillmode": "overlay",
              "size": 10,
              "solidity": 0.2
             }
            },
            "type": "bar"
           }
          ],
          "barpolar": [
           {
            "marker": {
             "line": {
              "color": "#E5ECF6",
              "width": 0.5
             },
             "pattern": {
              "fillmode": "overlay",
              "size": 10,
              "solidity": 0.2
             }
            },
            "type": "barpolar"
           }
          ],
          "carpet": [
           {
            "aaxis": {
             "endlinecolor": "#2a3f5f",
             "gridcolor": "white",
             "linecolor": "white",
             "minorgridcolor": "white",
             "startlinecolor": "#2a3f5f"
            },
            "baxis": {
             "endlinecolor": "#2a3f5f",
             "gridcolor": "white",
             "linecolor": "white",
             "minorgridcolor": "white",
             "startlinecolor": "#2a3f5f"
            },
            "type": "carpet"
           }
          ],
          "choropleth": [
           {
            "colorbar": {
             "outlinewidth": 0,
             "ticks": ""
            },
            "type": "choropleth"
           }
          ],
          "contour": [
           {
            "colorbar": {
             "outlinewidth": 0,
             "ticks": ""
            },
            "colorscale": [
             [
              0,
              "#0d0887"
             ],
             [
              0.1111111111111111,
              "#46039f"
             ],
             [
              0.2222222222222222,
              "#7201a8"
             ],
             [
              0.3333333333333333,
              "#9c179e"
             ],
             [
              0.4444444444444444,
              "#bd3786"
             ],
             [
              0.5555555555555556,
              "#d8576b"
             ],
             [
              0.6666666666666666,
              "#ed7953"
             ],
             [
              0.7777777777777778,
              "#fb9f3a"
             ],
             [
              0.8888888888888888,
              "#fdca26"
             ],
             [
              1,
              "#f0f921"
             ]
            ],
            "type": "contour"
           }
          ],
          "contourcarpet": [
           {
            "colorbar": {
             "outlinewidth": 0,
             "ticks": ""
            },
            "type": "contourcarpet"
           }
          ],
          "heatmap": [
           {
            "colorbar": {
             "outlinewidth": 0,
             "ticks": ""
            },
            "colorscale": [
             [
              0,
              "#0d0887"
             ],
             [
              0.1111111111111111,
              "#46039f"
             ],
             [
              0.2222222222222222,
              "#7201a8"
             ],
             [
              0.3333333333333333,
              "#9c179e"
             ],
             [
              0.4444444444444444,
              "#bd3786"
             ],
             [
              0.5555555555555556,
              "#d8576b"
             ],
             [
              0.6666666666666666,
              "#ed7953"
             ],
             [
              0.7777777777777778,
              "#fb9f3a"
             ],
             [
              0.8888888888888888,
              "#fdca26"
             ],
             [
              1,
              "#f0f921"
             ]
            ],
            "type": "heatmap"
           }
          ],
          "heatmapgl": [
           {
            "colorbar": {
             "outlinewidth": 0,
             "ticks": ""
            },
            "colorscale": [
             [
              0,
              "#0d0887"
             ],
             [
              0.1111111111111111,
              "#46039f"
             ],
             [
              0.2222222222222222,
              "#7201a8"
             ],
             [
              0.3333333333333333,
              "#9c179e"
             ],
             [
              0.4444444444444444,
              "#bd3786"
             ],
             [
              0.5555555555555556,
              "#d8576b"
             ],
             [
              0.6666666666666666,
              "#ed7953"
             ],
             [
              0.7777777777777778,
              "#fb9f3a"
             ],
             [
              0.8888888888888888,
              "#fdca26"
             ],
             [
              1,
              "#f0f921"
             ]
            ],
            "type": "heatmapgl"
           }
          ],
          "histogram": [
           {
            "marker": {
             "pattern": {
              "fillmode": "overlay",
              "size": 10,
              "solidity": 0.2
             }
            },
            "type": "histogram"
           }
          ],
          "histogram2d": [
           {
            "colorbar": {
             "outlinewidth": 0,
             "ticks": ""
            },
            "colorscale": [
             [
              0,
              "#0d0887"
             ],
             [
              0.1111111111111111,
              "#46039f"
             ],
             [
              0.2222222222222222,
              "#7201a8"
             ],
             [
              0.3333333333333333,
              "#9c179e"
             ],
             [
              0.4444444444444444,
              "#bd3786"
             ],
             [
              0.5555555555555556,
              "#d8576b"
             ],
             [
              0.6666666666666666,
              "#ed7953"
             ],
             [
              0.7777777777777778,
              "#fb9f3a"
             ],
             [
              0.8888888888888888,
              "#fdca26"
             ],
             [
              1,
              "#f0f921"
             ]
            ],
            "type": "histogram2d"
           }
          ],
          "histogram2dcontour": [
           {
            "colorbar": {
             "outlinewidth": 0,
             "ticks": ""
            },
            "colorscale": [
             [
              0,
              "#0d0887"
             ],
             [
              0.1111111111111111,
              "#46039f"
             ],
             [
              0.2222222222222222,
              "#7201a8"
             ],
             [
              0.3333333333333333,
              "#9c179e"
             ],
             [
              0.4444444444444444,
              "#bd3786"
             ],
             [
              0.5555555555555556,
              "#d8576b"
             ],
             [
              0.6666666666666666,
              "#ed7953"
             ],
             [
              0.7777777777777778,
              "#fb9f3a"
             ],
             [
              0.8888888888888888,
              "#fdca26"
             ],
             [
              1,
              "#f0f921"
             ]
            ],
            "type": "histogram2dcontour"
           }
          ],
          "mesh3d": [
           {
            "colorbar": {
             "outlinewidth": 0,
             "ticks": ""
            },
            "type": "mesh3d"
           }
          ],
          "parcoords": [
           {
            "line": {
             "colorbar": {
              "outlinewidth": 0,
              "ticks": ""
             }
            },
            "type": "parcoords"
           }
          ],
          "pie": [
           {
            "automargin": true,
            "type": "pie"
           }
          ],
          "scatter": [
           {
            "fillpattern": {
             "fillmode": "overlay",
             "size": 10,
             "solidity": 0.2
            },
            "type": "scatter"
           }
          ],
          "scatter3d": [
           {
            "line": {
             "colorbar": {
              "outlinewidth": 0,
              "ticks": ""
             }
            },
            "marker": {
             "colorbar": {
              "outlinewidth": 0,
              "ticks": ""
             }
            },
            "type": "scatter3d"
           }
          ],
          "scattercarpet": [
           {
            "marker": {
             "colorbar": {
              "outlinewidth": 0,
              "ticks": ""
             }
            },
            "type": "scattercarpet"
           }
          ],
          "scattergeo": [
           {
            "marker": {
             "colorbar": {
              "outlinewidth": 0,
              "ticks": ""
             }
            },
            "type": "scattergeo"
           }
          ],
          "scattergl": [
           {
            "marker": {
             "colorbar": {
              "outlinewidth": 0,
              "ticks": ""
             }
            },
            "type": "scattergl"
           }
          ],
          "scattermapbox": [
           {
            "marker": {
             "colorbar": {
              "outlinewidth": 0,
              "ticks": ""
             }
            },
            "type": "scattermapbox"
           }
          ],
          "scatterpolar": [
           {
            "marker": {
             "colorbar": {
              "outlinewidth": 0,
              "ticks": ""
             }
            },
            "type": "scatterpolar"
           }
          ],
          "scatterpolargl": [
           {
            "marker": {
             "colorbar": {
              "outlinewidth": 0,
              "ticks": ""
             }
            },
            "type": "scatterpolargl"
           }
          ],
          "scatterternary": [
           {
            "marker": {
             "colorbar": {
              "outlinewidth": 0,
              "ticks": ""
             }
            },
            "type": "scatterternary"
           }
          ],
          "surface": [
           {
            "colorbar": {
             "outlinewidth": 0,
             "ticks": ""
            },
            "colorscale": [
             [
              0,
              "#0d0887"
             ],
             [
              0.1111111111111111,
              "#46039f"
             ],
             [
              0.2222222222222222,
              "#7201a8"
             ],
             [
              0.3333333333333333,
              "#9c179e"
             ],
             [
              0.4444444444444444,
              "#bd3786"
             ],
             [
              0.5555555555555556,
              "#d8576b"
             ],
             [
              0.6666666666666666,
              "#ed7953"
             ],
             [
              0.7777777777777778,
              "#fb9f3a"
             ],
             [
              0.8888888888888888,
              "#fdca26"
             ],
             [
              1,
              "#f0f921"
             ]
            ],
            "type": "surface"
           }
          ],
          "table": [
           {
            "cells": {
             "fill": {
              "color": "#EBF0F8"
             },
             "line": {
              "color": "white"
             }
            },
            "header": {
             "fill": {
              "color": "#C8D4E3"
             },
             "line": {
              "color": "white"
             }
            },
            "type": "table"
           }
          ]
         },
         "layout": {
          "annotationdefaults": {
           "arrowcolor": "#2a3f5f",
           "arrowhead": 0,
           "arrowwidth": 1
          },
          "autotypenumbers": "strict",
          "coloraxis": {
           "colorbar": {
            "outlinewidth": 0,
            "ticks": ""
           }
          },
          "colorscale": {
           "diverging": [
            [
             0,
             "#8e0152"
            ],
            [
             0.1,
             "#c51b7d"
            ],
            [
             0.2,
             "#de77ae"
            ],
            [
             0.3,
             "#f1b6da"
            ],
            [
             0.4,
             "#fde0ef"
            ],
            [
             0.5,
             "#f7f7f7"
            ],
            [
             0.6,
             "#e6f5d0"
            ],
            [
             0.7,
             "#b8e186"
            ],
            [
             0.8,
             "#7fbc41"
            ],
            [
             0.9,
             "#4d9221"
            ],
            [
             1,
             "#276419"
            ]
           ],
           "sequential": [
            [
             0,
             "#0d0887"
            ],
            [
             0.1111111111111111,
             "#46039f"
            ],
            [
             0.2222222222222222,
             "#7201a8"
            ],
            [
             0.3333333333333333,
             "#9c179e"
            ],
            [
             0.4444444444444444,
             "#bd3786"
            ],
            [
             0.5555555555555556,
             "#d8576b"
            ],
            [
             0.6666666666666666,
             "#ed7953"
            ],
            [
             0.7777777777777778,
             "#fb9f3a"
            ],
            [
             0.8888888888888888,
             "#fdca26"
            ],
            [
             1,
             "#f0f921"
            ]
           ],
           "sequentialminus": [
            [
             0,
             "#0d0887"
            ],
            [
             0.1111111111111111,
             "#46039f"
            ],
            [
             0.2222222222222222,
             "#7201a8"
            ],
            [
             0.3333333333333333,
             "#9c179e"
            ],
            [
             0.4444444444444444,
             "#bd3786"
            ],
            [
             0.5555555555555556,
             "#d8576b"
            ],
            [
             0.6666666666666666,
             "#ed7953"
            ],
            [
             0.7777777777777778,
             "#fb9f3a"
            ],
            [
             0.8888888888888888,
             "#fdca26"
            ],
            [
             1,
             "#f0f921"
            ]
           ]
          },
          "colorway": [
           "#636efa",
           "#EF553B",
           "#00cc96",
           "#ab63fa",
           "#FFA15A",
           "#19d3f3",
           "#FF6692",
           "#B6E880",
           "#FF97FF",
           "#FECB52"
          ],
          "font": {
           "color": "#2a3f5f"
          },
          "geo": {
           "bgcolor": "white",
           "lakecolor": "white",
           "landcolor": "#E5ECF6",
           "showlakes": true,
           "showland": true,
           "subunitcolor": "white"
          },
          "hoverlabel": {
           "align": "left"
          },
          "hovermode": "closest",
          "mapbox": {
           "style": "light"
          },
          "paper_bgcolor": "white",
          "plot_bgcolor": "#E5ECF6",
          "polar": {
           "angularaxis": {
            "gridcolor": "white",
            "linecolor": "white",
            "ticks": ""
           },
           "bgcolor": "#E5ECF6",
           "radialaxis": {
            "gridcolor": "white",
            "linecolor": "white",
            "ticks": ""
           }
          },
          "scene": {
           "xaxis": {
            "backgroundcolor": "#E5ECF6",
            "gridcolor": "white",
            "gridwidth": 2,
            "linecolor": "white",
            "showbackground": true,
            "ticks": "",
            "zerolinecolor": "white"
           },
           "yaxis": {
            "backgroundcolor": "#E5ECF6",
            "gridcolor": "white",
            "gridwidth": 2,
            "linecolor": "white",
            "showbackground": true,
            "ticks": "",
            "zerolinecolor": "white"
           },
           "zaxis": {
            "backgroundcolor": "#E5ECF6",
            "gridcolor": "white",
            "gridwidth": 2,
            "linecolor": "white",
            "showbackground": true,
            "ticks": "",
            "zerolinecolor": "white"
           }
          },
          "shapedefaults": {
           "line": {
            "color": "#2a3f5f"
           }
          },
          "ternary": {
           "aaxis": {
            "gridcolor": "white",
            "linecolor": "white",
            "ticks": ""
           },
           "baxis": {
            "gridcolor": "white",
            "linecolor": "white",
            "ticks": ""
           },
           "bgcolor": "#E5ECF6",
           "caxis": {
            "gridcolor": "white",
            "linecolor": "white",
            "ticks": ""
           }
          },
          "title": {
           "x": 0.05
          },
          "xaxis": {
           "automargin": true,
           "gridcolor": "white",
           "linecolor": "white",
           "ticks": "",
           "title": {
            "standoff": 15
           },
           "zerolinecolor": "white",
           "zerolinewidth": 2
          },
          "yaxis": {
           "automargin": true,
           "gridcolor": "white",
           "linecolor": "white",
           "ticks": "",
           "title": {
            "standoff": 15
           },
           "zerolinecolor": "white",
           "zerolinewidth": 2
          }
         }
        },
        "title": {
         "text": "Shapley values for abnormal samples - ADASYNT"
        },
        "xaxis": {
         "title": {
          "text": "Feature in the dataset"
         }
        },
        "yaxis": {
         "title": {
          "text": "Shapley Value importance"
         }
        }
       }
      }
     },
     "metadata": {},
     "output_type": "display_data"
    }
   ],
   "source": [
    "fig = px.parallel_coordinates( \n",
    "    df_ranks_long, \n",
    "    #color='fenilalax',\n",
    "    color='auc_score',\n",
    "    dimensions=order.tolist()[:10] + [\"auc_score\"],\n",
    "    labels=labels_relabel,\n",
    "    title = \"Shapley values for abnormal samples - ADASYNT\",\n",
    ")\n",
    "\n",
    "fig.update_layout(\n",
    "    coloraxis_showscale=False,\n",
    "    #title=\"Feature importance\",\n",
    "    xaxis_title=\"Feature in the dataset\",\n",
    "    yaxis_title=\"Shapley Value importance\",\n",
    "    #legend_title=\"Shapley values for abnormal samples\",\n",
    ")\n",
    "\n",
    "fig.show()"
   ]
  },
  {
   "cell_type": "code",
   "execution_count": null,
   "metadata": {},
   "outputs": [],
   "source": []
  }
 ],
 "metadata": {
  "kernelspec": {
   "display_name": "playground",
   "language": "python",
   "name": "python3"
  },
  "language_info": {
   "codemirror_mode": {
    "name": "ipython",
    "version": 3
   },
   "file_extension": ".py",
   "mimetype": "text/x-python",
   "name": "python",
   "nbconvert_exporter": "python",
   "pygments_lexer": "ipython3",
   "version": "3.10.9"
  },
  "orig_nbformat": 4
 },
 "nbformat": 4,
 "nbformat_minor": 2
}
