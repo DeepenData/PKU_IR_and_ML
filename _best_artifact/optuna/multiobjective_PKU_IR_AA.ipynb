{
 "cells": [
  {
   "cell_type": "code",
   "execution_count": 1,
   "metadata": {},
   "outputs": [],
   "source": [
    "import numpy as np\n",
    "import pandas as pd\n",
    "import xgboost\n",
    "import yaml\n",
    "from sklearn.metrics import roc_auc_score\n",
    "from sklearn.model_selection import train_test_split\n",
    "import shap\n",
    "from sklearn.model_selection import StratifiedKFold\n",
    "\n",
    "\n",
    "class generate_model:\n",
    "    def __init__(\n",
    "        self,\n",
    "        predictor_col: str,\n",
    "        data_path: str,\n",
    "        xg_params: dict,\n",
    "        kfold_splits: int,\n",
    "        test_size=0.3,\n",
    "        removed_features: list[str] = None,\n",
    "        seed: float = None,\n",
    "    ) -> None:\n",
    "        if removed_features is None:\n",
    "            removed_features = []\n",
    "        dataset = pd.read_csv(data_path)\n",
    "\n",
    "        # Variable encoding\n",
    "        dataset[\"Género\"] = (\n",
    "            dataset[\"Género\"].replace({\"M\": 0, \"F\": 1}).astype(\"category\")\n",
    "        )\n",
    "        dataset[\"ATPII/AHA/IDF\"] = (\n",
    "            dataset[\"ATPII/AHA/IDF\"].replace({\"no\": 0, \"si\": 1}).astype(\"category\")\n",
    "        )\n",
    "        dataset[\"aleator\"] = (\n",
    "            dataset[\"aleator\"]\n",
    "            .replace({\"Control\": 0, \"PKU 1\": 1, \"PKU 2\": 2})\n",
    "            .astype(\"category\")\n",
    "        )\n",
    "\n",
    "        y_df = dataset[predictor_col].replace({\"No\": 0, \"Si\": 1}).astype(\"category\")\n",
    "        X_df = dataset.drop(predictor_col, axis=\"columns\")\n",
    "\n",
    "        X_df = X_df.drop(removed_features, axis=\"columns\")\n",
    "\n",
    "        self.X_train, self.X_test, self.y_train, self.y_test = train_test_split(\n",
    "            X_df, y_df, stratify=y_df, test_size=test_size, random_state=seed\n",
    "        )\n",
    "        # def xg_train(self, xg_params: dict, kfold_splits=5, seed=None):\n",
    "\n",
    "        cv = StratifiedKFold(n_splits=kfold_splits, shuffle=True, random_state=seed)\n",
    "        folds = list(cv.split(self.X_train, self.y_train))\n",
    "\n",
    "        for train_idx, val_idx in folds:\n",
    "            # Sub-empaquetado del train-set en formato de XGBoost\n",
    "            dtrain = xgboost.DMatrix(\n",
    "                self.X_train.iloc[train_idx, :],\n",
    "                label=self.y_train.iloc[train_idx],\n",
    "                enable_categorical=True,\n",
    "            )\n",
    "            dval = xgboost.DMatrix(\n",
    "                self.X_train.iloc[val_idx, :],\n",
    "                label=self.y_train.iloc[val_idx],\n",
    "                enable_categorical=True,\n",
    "            )\n",
    "\n",
    "            self.model = xgboost.train(\n",
    "                dtrain=dtrain,\n",
    "                params=xg_params,\n",
    "                evals=[(dtrain, \"train\"), (dval, \"val\")],\n",
    "                num_boost_round=1000,\n",
    "                verbose_eval=False,\n",
    "                early_stopping_rounds=10,\n",
    "            )\n",
    "\n",
    "    def get_AUC_on_test_data(self):\n",
    "        # def xg_test(model, X_test, y_test) -> float:\n",
    "        testset = xgboost.DMatrix(\n",
    "            self.X_test, label=self.y_test, enable_categorical=True\n",
    "        )\n",
    "        y_preds = self.model.predict(testset)\n",
    "\n",
    "        return roc_auc_score(testset.get_label(), y_preds)\n",
    "\n",
    "    def get_feature_metrics(self):\n",
    "        # internal_feature_metrics = pd.DataFrame(\n",
    "        #     {\n",
    "        #         \"Weight\": self.model.get_score(importance_type=\"weight\"),\n",
    "        #         \"Coverage\": self.model.get_score(importance_type=\"cover\"),\n",
    "        #         \"Gain\": self.model.get_score(importance_type=\"gain\"),\n",
    "        #     }\n",
    "        # ).sort_values(by=\"Gain\", ascending=False)\n",
    "\n",
    "        explainer = shap.TreeExplainer(self.model)\n",
    "\n",
    "        # Extrae la explicacion SHAP en un DF\n",
    "        EXPLAINATION = explainer(self.X_test).cohorts(\n",
    "            self.y_test.replace({0: \"Healty\", 1: \"Abnormal\"}).tolist()\n",
    "        )\n",
    "        cohort_exps = list(EXPLAINATION.cohorts.values())\n",
    "\n",
    "        exp_shap_abnormal = pd.DataFrame(\n",
    "            cohort_exps[0].values, columns=cohort_exps[0].feature_names\n",
    "        )  # .abs().mean()\n",
    "\n",
    "        exp_shap_healty = pd.DataFrame(\n",
    "            cohort_exps[1].values, columns=cohort_exps[1].feature_names\n",
    "        )  # .abs().mean()\n",
    "\n",
    "        feature_metrics = pd.concat(\n",
    "            {\n",
    "                \"SHAP_healty\": exp_shap_healty.abs().mean(),\n",
    "                \"SHAP_abnormal\": exp_shap_abnormal.abs().mean(),\n",
    "            },\n",
    "            axis=\"columns\",\n",
    "        )\n",
    "\n",
    "        # feature_metrics = (\n",
    "        #     feature_metrics.join(internal_feature_metrics)\n",
    "        #     .fillna(0)\n",
    "        #     .sort_values(by=\"Gain\", ascending=False)\n",
    "        # )\n",
    "\n",
    "        return feature_metrics\n",
    "\n",
    "\n",
    "with open(\"params.yml\", \"r\") as f:\n",
    "    ext_params = yaml.load(f, Loader=yaml.FullLoader)\n",
    "\n",
    "\n",
    "def objective(trial, finetunning: bool = False) -> float:\n",
    "    \"\"\"\n",
    "    The function that runs a single model and evaluates it.\n",
    "    \"\"\"\n",
    "\n",
    "#    seed = 42 #trial.suggest_int(\"seed\", 1, 10_000)\n",
    "\n",
    "    # params={\n",
    "    #         \"objective\":   \"binary:logistic\",\n",
    "    #         \"eval_metric\": \"logloss\",\n",
    "    #         'max_depth':   trial.suggest_int(\"max_depth\", 2, 6, ),\n",
    "    #         \"eta\":         trial.suggest_float(\"eta\", 0.01, 0.3),\n",
    "    #         \"subsample\":   trial.suggest_float(\"subsample\", 0.5, 0.9),\n",
    "    #         \"lambda\": trial.suggest_float(\"lambda\", 0, 1),\n",
    "    #         \"alpha\": trial.suggest_float(\"alpha\",0,1),\n",
    "    #         \"scale_pos_weight\": trial.suggest_float(\"scale_pos_weight\",0,2)\n",
    "    #     }\n",
    "\n",
    "\n",
    "    seed = trial.suggest_int(\"seed\", 1, 10_000)\n",
    "\n",
    "\n",
    "    params = {\n",
    "        \"objective\": \"binary:logistic\",\n",
    "        \"eval_metric\": \"logloss\",\n",
    "'max_depth' :          3,\n",
    "'eta' :                0.272876,\n",
    "'subsample':           0.694101,\n",
    "'lambda' :             0.169166,\n",
    "'alpha':               0.115721,\n",
    "'scale_pos_weight':    0.320643,\n",
    "\n",
    "    }\n",
    "\n",
    "    model_instance = generate_model(\n",
    "        \"HOMA-IR alterado\",\n",
    "        \"_best_artifact/optuna/resampled_data_BorderlineSMOTE.csv\",\n",
    "        removed_features=ext_params[\"feature_engineering\"][\"removed_features\"],\n",
    "        xg_params=params,\n",
    "        kfold_splits=5,\n",
    "        seed=seed,\n",
    "    )\n",
    "\n",
    "    return (\n",
    "        model_instance.get_AUC_on_test_data(),\n",
    "        model_instance.get_feature_metrics()[\"SHAP_abnormal\"][\"fenilalax\"],\n",
    "    )"
   ]
  },
  {
   "cell_type": "code",
   "execution_count": 40,
   "metadata": {},
   "outputs": [
    {
     "name": "stderr",
     "output_type": "stream",
     "text": [
      "\u001b[32m[I 2023-05-03 14:00:09,681]\u001b[0m A new study created in memory with name: no-name-1b25dcc6-a989-42d7-b41d-54271b006465\u001b[0m\n",
      "\u001b[32m[I 2023-05-03 14:00:11,828]\u001b[0m Trial 1 finished with values: [0.8333333333333334, 0.0] and parameters: {'seed': 5077}. \u001b[0m\n",
      "\u001b[32m[I 2023-05-03 14:00:11,895]\u001b[0m Trial 15 finished with values: [1.0, 0.06753042340278625] and parameters: {'seed': 6151}. \u001b[0m\n",
      "\u001b[32m[I 2023-05-03 14:00:11,905]\u001b[0m Trial 2 finished with values: [0.9166666666666666, 0.2080060839653015] and parameters: {'seed': 840}. \u001b[0m\n",
      "\u001b[32m[I 2023-05-03 14:00:11,907]\u001b[0m Trial 9 finished with values: [0.9722222222222223, 0.0] and parameters: {'seed': 6636}. \u001b[0m\n",
      "\u001b[32m[I 2023-05-03 14:00:11,958]\u001b[0m Trial 5 finished with values: [0.8854166666666667, 0.0] and parameters: {'seed': 4103}. \u001b[0m\n",
      "\u001b[32m[I 2023-05-03 14:00:11,958]\u001b[0m Trial 19 finished with values: [0.8298611111111112, 0.0] and parameters: {'seed': 9331}. \u001b[0m\n",
      "\u001b[32m[I 2023-05-03 14:00:12,015]\u001b[0m Trial 14 finished with values: [0.9583333333333333, 0.3336386978626251] and parameters: {'seed': 1692}. \u001b[0m\n",
      "\u001b[32m[I 2023-05-03 14:00:12,116]\u001b[0m Trial 18 finished with values: [0.9236111111111112, 0.0] and parameters: {'seed': 9420}. \u001b[0m\n",
      "\u001b[32m[I 2023-05-03 14:00:12,168]\u001b[0m Trial 17 finished with values: [0.9166666666666666, 0.13304419815540314] and parameters: {'seed': 9068}. \u001b[0m\n",
      "\u001b[32m[I 2023-05-03 14:00:12,191]\u001b[0m Trial 16 finished with values: [0.9097222222222222, 0.0] and parameters: {'seed': 7221}. \u001b[0m\n",
      "\u001b[32m[I 2023-05-03 14:00:12,270]\u001b[0m Trial 6 finished with values: [1.0, 0.0] and parameters: {'seed': 2046}. \u001b[0m\n",
      "\u001b[32m[I 2023-05-03 14:00:12,290]\u001b[0m Trial 13 finished with values: [0.9236111111111112, 0.0] and parameters: {'seed': 2320}. \u001b[0m\n",
      "\u001b[32m[I 2023-05-03 14:00:12,315]\u001b[0m Trial 0 finished with values: [0.9652777777777778, 0.0] and parameters: {'seed': 9391}. \u001b[0m\n",
      "\u001b[32m[I 2023-05-03 14:00:12,328]\u001b[0m Trial 3 finished with values: [0.9652777777777778, 0.0] and parameters: {'seed': 8070}. \u001b[0m\n",
      "\u001b[32m[I 2023-05-03 14:00:12,404]\u001b[0m Trial 4 finished with values: [0.8958333333333334, 0.0] and parameters: {'seed': 8639}. \u001b[0m\n",
      "\u001b[32m[I 2023-05-03 14:00:12,562]\u001b[0m Trial 11 finished with values: [0.9583333333333334, 0.0] and parameters: {'seed': 3168}. \u001b[0m\n",
      "\u001b[32m[I 2023-05-03 14:00:12,808]\u001b[0m Trial 12 finished with values: [0.9444444444444444, 0.0] and parameters: {'seed': 4457}. \u001b[0m\n",
      "\u001b[32m[I 2023-05-03 14:00:13,019]\u001b[0m Trial 7 finished with values: [1.0, 0.1336052268743515] and parameters: {'seed': 8964}. \u001b[0m\n",
      "\u001b[32m[I 2023-05-03 14:00:13,135]\u001b[0m Trial 8 finished with values: [0.9444444444444444, 0.0] and parameters: {'seed': 9832}. \u001b[0m\n",
      "\u001b[32m[I 2023-05-03 14:00:13,176]\u001b[0m Trial 10 finished with values: [0.9791666666666666, 0.2639109790325165] and parameters: {'seed': 5577}. \u001b[0m\n",
      "\u001b[32m[I 2023-05-03 14:00:13,853]\u001b[0m Trial 20 finished with values: [0.9375, 0.0] and parameters: {'seed': 5249}. \u001b[0m\n",
      "\u001b[32m[I 2023-05-03 14:00:13,992]\u001b[0m Trial 30 finished with values: [1.0, 0.0] and parameters: {'seed': 9815}. \u001b[0m\n",
      "\u001b[32m[I 2023-05-03 14:00:14,089]\u001b[0m Trial 27 finished with values: [0.9305555555555556, 0.042120497673749924] and parameters: {'seed': 7197}. \u001b[0m\n",
      "\u001b[32m[I 2023-05-03 14:00:14,110]\u001b[0m Trial 25 finished with values: [1.0, 0.0] and parameters: {'seed': 4156}. \u001b[0m\n",
      "\u001b[32m[I 2023-05-03 14:00:14,196]\u001b[0m Trial 21 finished with values: [0.9930555555555555, 0.0] and parameters: {'seed': 9698}. \u001b[0m\n",
      "\u001b[32m[I 2023-05-03 14:00:14,315]\u001b[0m Trial 22 finished with values: [0.9444444444444444, 0.0] and parameters: {'seed': 8579}. \u001b[0m\n",
      "\u001b[32m[I 2023-05-03 14:00:14,348]\u001b[0m Trial 24 finished with values: [0.6944444444444444, 0.08509377390146255] and parameters: {'seed': 8715}. \u001b[0m\n",
      "\u001b[32m[I 2023-05-03 14:00:14,415]\u001b[0m Trial 29 finished with values: [0.9930555555555555, 0.2746144235134125] and parameters: {'seed': 8097}. \u001b[0m\n",
      "\u001b[32m[I 2023-05-03 14:00:14,416]\u001b[0m Trial 32 finished with values: [0.875, 0.0] and parameters: {'seed': 1875}. \u001b[0m\n",
      "\u001b[32m[I 2023-05-03 14:00:14,544]\u001b[0m Trial 23 finished with values: [0.9305555555555556, 0.0] and parameters: {'seed': 6519}. \u001b[0m\n",
      "\u001b[32m[I 2023-05-03 14:00:14,691]\u001b[0m Trial 31 finished with values: [0.8749999999999999, 0.0] and parameters: {'seed': 1778}. \u001b[0m\n",
      "\u001b[32m[I 2023-05-03 14:00:14,783]\u001b[0m Trial 35 finished with values: [0.9062500000000001, 0.0] and parameters: {'seed': 1772}. \u001b[0m\n",
      "\u001b[32m[I 2023-05-03 14:00:14,880]\u001b[0m Trial 37 finished with values: [0.9270833333333334, 0.0] and parameters: {'seed': 7459}. \u001b[0m\n",
      "\u001b[32m[I 2023-05-03 14:00:14,941]\u001b[0m Trial 26 finished with values: [0.9652777777777778, 0.0] and parameters: {'seed': 2996}. \u001b[0m\n",
      "\u001b[32m[I 2023-05-03 14:00:15,101]\u001b[0m Trial 36 finished with values: [0.9444444444444444, 0.0] and parameters: {'seed': 7641}. \u001b[0m\n",
      "\u001b[32m[I 2023-05-03 14:00:15,164]\u001b[0m Trial 33 finished with values: [1.0, 0.0] and parameters: {'seed': 9902}. \u001b[0m\n",
      "\u001b[32m[I 2023-05-03 14:00:15,267]\u001b[0m Trial 34 finished with values: [0.9375000000000001, 0.0] and parameters: {'seed': 3324}. \u001b[0m\n",
      "\u001b[32m[I 2023-05-03 14:00:15,541]\u001b[0m Trial 39 finished with values: [0.9305555555555556, 0.0] and parameters: {'seed': 1067}. \u001b[0m\n",
      "\u001b[32m[I 2023-05-03 14:00:15,750]\u001b[0m Trial 28 finished with values: [0.9513888888888888, 0.20103846490383148] and parameters: {'seed': 3378}. \u001b[0m\n",
      "\u001b[32m[I 2023-05-03 14:00:15,872]\u001b[0m Trial 38 finished with values: [0.9375, 0.08379312604665756] and parameters: {'seed': 527}. \u001b[0m\n",
      "\u001b[32m[I 2023-05-03 14:00:15,983]\u001b[0m Trial 43 finished with values: [0.9027777777777778, 0.6335051655769348] and parameters: {'seed': 8998}. \u001b[0m\n",
      "\u001b[32m[I 2023-05-03 14:00:16,161]\u001b[0m Trial 41 finished with values: [0.9583333333333333, 0.08551391959190369] and parameters: {'seed': 8464}. \u001b[0m\n",
      "\u001b[32m[I 2023-05-03 14:00:16,246]\u001b[0m Trial 44 finished with values: [0.9652777777777778, 0.0] and parameters: {'seed': 7905}. \u001b[0m\n",
      "\u001b[32m[I 2023-05-03 14:00:16,341]\u001b[0m Trial 40 finished with values: [0.9791666666666667, 0.0] and parameters: {'seed': 5816}. \u001b[0m\n",
      "\u001b[32m[I 2023-05-03 14:00:16,369]\u001b[0m Trial 48 finished with values: [0.8819444444444444, 0.1981034278869629] and parameters: {'seed': 3910}. \u001b[0m\n",
      "\u001b[32m[I 2023-05-03 14:00:16,382]\u001b[0m Trial 42 finished with values: [0.9583333333333333, 0.15377871692180634] and parameters: {'seed': 5999}. \u001b[0m\n",
      "\u001b[32m[I 2023-05-03 14:00:16,849]\u001b[0m Trial 47 finished with values: [1.0, 0.0] and parameters: {'seed': 2037}. \u001b[0m\n",
      "\u001b[32m[I 2023-05-03 14:00:16,884]\u001b[0m Trial 45 finished with values: [0.9652777777777778, 0.0] and parameters: {'seed': 7311}. \u001b[0m\n",
      "\u001b[32m[I 2023-05-03 14:00:17,032]\u001b[0m Trial 52 finished with values: [0.986111111111111, 0.0] and parameters: {'seed': 1989}. \u001b[0m\n",
      "\u001b[32m[I 2023-05-03 14:00:17,239]\u001b[0m Trial 50 finished with values: [0.9861111111111112, 0.22479946911334991] and parameters: {'seed': 1852}. \u001b[0m\n",
      "\u001b[32m[I 2023-05-03 14:00:17,262]\u001b[0m Trial 51 finished with values: [1.0, 0.0] and parameters: {'seed': 2468}. \u001b[0m\n",
      "\u001b[32m[I 2023-05-03 14:00:17,316]\u001b[0m Trial 49 finished with values: [0.9791666666666666, 0.39277052879333496] and parameters: {'seed': 3469}. \u001b[0m\n",
      "\u001b[32m[I 2023-05-03 14:00:17,409]\u001b[0m Trial 55 finished with values: [0.9791666666666666, 0.0] and parameters: {'seed': 4516}. \u001b[0m\n",
      "\u001b[32m[I 2023-05-03 14:00:17,586]\u001b[0m Trial 53 finished with values: [0.8611111111111112, 0.0] and parameters: {'seed': 4707}. \u001b[0m\n",
      "\u001b[32m[I 2023-05-03 14:00:17,611]\u001b[0m Trial 56 finished with values: [1.0, 0.0] and parameters: {'seed': 8673}. \u001b[0m\n",
      "\u001b[32m[I 2023-05-03 14:00:17,686]\u001b[0m Trial 57 finished with values: [0.9791666666666666, 0.0] and parameters: {'seed': 1171}. \u001b[0m\n",
      "\u001b[32m[I 2023-05-03 14:00:17,823]\u001b[0m Trial 46 finished with values: [0.9722222222222222, 0.0] and parameters: {'seed': 3874}. \u001b[0m\n",
      "\u001b[32m[I 2023-05-03 14:00:17,927]\u001b[0m Trial 59 finished with values: [0.9583333333333333, 0.0] and parameters: {'seed': 9441}. \u001b[0m\n",
      "\u001b[32m[I 2023-05-03 14:00:18,249]\u001b[0m Trial 58 finished with values: [0.923611111111111, 0.0] and parameters: {'seed': 1882}. \u001b[0m\n",
      "\u001b[32m[I 2023-05-03 14:00:18,313]\u001b[0m Trial 54 finished with values: [0.8958333333333333, 0.12231943011283875] and parameters: {'seed': 8412}. \u001b[0m\n",
      "\u001b[32m[I 2023-05-03 14:00:18,385]\u001b[0m Trial 61 finished with values: [0.9305555555555556, 0.1854029893875122] and parameters: {'seed': 7736}. \u001b[0m\n",
      "\u001b[32m[I 2023-05-03 14:00:18,401]\u001b[0m Trial 65 finished with values: [0.8333333333333334, 0.0] and parameters: {'seed': 6363}. \u001b[0m\n",
      "\u001b[32m[I 2023-05-03 14:00:18,477]\u001b[0m Trial 63 finished with values: [0.9930555555555555, 0.0] and parameters: {'seed': 4928}. \u001b[0m\n",
      "\u001b[32m[I 2023-05-03 14:00:18,715]\u001b[0m Trial 62 finished with values: [1.0, 0.0] and parameters: {'seed': 4196}. \u001b[0m\n",
      "\u001b[32m[I 2023-05-03 14:00:18,891]\u001b[0m Trial 60 finished with values: [0.9548611111111112, 0.10454817861318588] and parameters: {'seed': 6547}. \u001b[0m\n",
      "\u001b[32m[I 2023-05-03 14:00:19,023]\u001b[0m Trial 67 finished with values: [1.0, 0.0] and parameters: {'seed': 8322}. \u001b[0m\n",
      "\u001b[32m[I 2023-05-03 14:00:19,378]\u001b[0m Trial 66 finished with values: [0.9375, 0.0] and parameters: {'seed': 8977}. \u001b[0m\n",
      "\u001b[32m[I 2023-05-03 14:00:19,414]\u001b[0m Trial 64 finished with values: [1.0, 0.0] and parameters: {'seed': 3607}. \u001b[0m\n",
      "\u001b[32m[I 2023-05-03 14:00:19,477]\u001b[0m Trial 74 finished with values: [1.0, 0.0] and parameters: {'seed': 8837}. \u001b[0m\n",
      "\u001b[32m[I 2023-05-03 14:00:19,512]\u001b[0m Trial 69 finished with values: [0.8055555555555555, 0.0] and parameters: {'seed': 5422}. \u001b[0m\n",
      "\u001b[32m[I 2023-05-03 14:00:19,575]\u001b[0m Trial 70 finished with values: [0.9027777777777778, 0.0] and parameters: {'seed': 1476}. \u001b[0m\n",
      "\u001b[32m[I 2023-05-03 14:00:19,619]\u001b[0m Trial 72 finished with values: [0.9652777777777778, 0.0] and parameters: {'seed': 6341}. \u001b[0m\n",
      "\u001b[32m[I 2023-05-03 14:00:19,731]\u001b[0m Trial 75 finished with values: [1.0, 0.0] and parameters: {'seed': 6820}. \u001b[0m\n",
      "\u001b[32m[I 2023-05-03 14:00:19,834]\u001b[0m Trial 73 finished with values: [0.9722222222222222, 0.0] and parameters: {'seed': 6814}. \u001b[0m\n",
      "\u001b[32m[I 2023-05-03 14:00:19,977]\u001b[0m Trial 71 finished with values: [0.9722222222222222, 0.20050017535686493] and parameters: {'seed': 5391}. \u001b[0m\n",
      "\u001b[32m[I 2023-05-03 14:00:20,108]\u001b[0m Trial 68 finished with values: [1.0, 0.0] and parameters: {'seed': 2354}. \u001b[0m\n",
      "\u001b[32m[I 2023-05-03 14:00:20,289]\u001b[0m Trial 76 finished with values: [0.951388888888889, 0.0] and parameters: {'seed': 7034}. \u001b[0m\n",
      "\u001b[32m[I 2023-05-03 14:00:20,311]\u001b[0m Trial 78 finished with values: [1.0, 0.0] and parameters: {'seed': 6468}. \u001b[0m\n",
      "\u001b[32m[I 2023-05-03 14:00:20,648]\u001b[0m Trial 77 finished with values: [0.9583333333333334, 0.1597982496023178] and parameters: {'seed': 7177}. \u001b[0m\n",
      "\u001b[32m[I 2023-05-03 14:00:20,707]\u001b[0m Trial 79 finished with values: [1.0, 0.0] and parameters: {'seed': 8593}. \u001b[0m\n",
      "\u001b[32m[I 2023-05-03 14:00:20,749]\u001b[0m Trial 81 finished with values: [0.9722222222222223, 0.14193831384181976] and parameters: {'seed': 487}. \u001b[0m\n",
      "\u001b[32m[I 2023-05-03 14:00:20,901]\u001b[0m Trial 80 finished with values: [0.9305555555555556, 0.5093654990196228] and parameters: {'seed': 8970}. \u001b[0m\n",
      "\u001b[32m[I 2023-05-03 14:00:20,914]\u001b[0m Trial 83 finished with values: [0.9131944444444445, 0.21866489946842194] and parameters: {'seed': 7630}. \u001b[0m\n",
      "\u001b[32m[I 2023-05-03 14:00:21,211]\u001b[0m Trial 82 finished with values: [0.9652777777777778, 0.16218432784080505] and parameters: {'seed': 8236}. \u001b[0m\n",
      "\u001b[32m[I 2023-05-03 14:00:21,393]\u001b[0m Trial 85 finished with values: [0.8958333333333334, 0.37060341238975525] and parameters: {'seed': 2201}. \u001b[0m\n",
      "\u001b[32m[I 2023-05-03 14:00:21,406]\u001b[0m Trial 84 finished with values: [0.9652777777777778, 0.0] and parameters: {'seed': 728}. \u001b[0m\n",
      "\u001b[32m[I 2023-05-03 14:00:21,505]\u001b[0m Trial 88 finished with values: [0.986111111111111, 0.0] and parameters: {'seed': 8921}. \u001b[0m\n",
      "\u001b[32m[I 2023-05-03 14:00:21,638]\u001b[0m Trial 87 finished with values: [0.9652777777777778, 0.4404652416706085] and parameters: {'seed': 7732}. \u001b[0m\n",
      "\u001b[32m[I 2023-05-03 14:00:21,802]\u001b[0m Trial 86 finished with values: [0.9722222222222222, 0.0] and parameters: {'seed': 6092}. \u001b[0m\n",
      "\u001b[32m[I 2023-05-03 14:00:21,835]\u001b[0m Trial 91 finished with values: [0.7708333333333333, 0.18870671093463898] and parameters: {'seed': 1168}. \u001b[0m\n",
      "\u001b[32m[I 2023-05-03 14:00:21,977]\u001b[0m Trial 89 finished with values: [0.9305555555555556, 0.0] and parameters: {'seed': 6054}. \u001b[0m\n",
      "\u001b[32m[I 2023-05-03 14:00:22,004]\u001b[0m Trial 93 finished with values: [0.9375, 0.0] and parameters: {'seed': 2194}. \u001b[0m\n",
      "\u001b[32m[I 2023-05-03 14:00:22,138]\u001b[0m Trial 90 finished with values: [0.9201388888888888, 0.0] and parameters: {'seed': 9831}. \u001b[0m\n",
      "\u001b[32m[I 2023-05-03 14:00:22,195]\u001b[0m Trial 92 finished with values: [1.0, 0.0] and parameters: {'seed': 6313}. \u001b[0m\n",
      "\u001b[32m[I 2023-05-03 14:00:22,292]\u001b[0m Trial 97 finished with values: [0.986111111111111, 0.0] and parameters: {'seed': 7628}. \u001b[0m\n",
      "\u001b[32m[I 2023-05-03 14:00:22,378]\u001b[0m Trial 94 finished with values: [0.8888888888888888, 0.0] and parameters: {'seed': 8256}. \u001b[0m\n",
      "\u001b[32m[I 2023-05-03 14:00:22,490]\u001b[0m Trial 96 finished with values: [0.9027777777777778, 0.13398098945617676] and parameters: {'seed': 3312}. \u001b[0m\n",
      "\u001b[32m[I 2023-05-03 14:00:22,770]\u001b[0m Trial 95 finished with values: [0.9027777777777778, 0.0] and parameters: {'seed': 5792}. \u001b[0m\n",
      "\u001b[32m[I 2023-05-03 14:00:22,901]\u001b[0m Trial 100 finished with values: [0.857638888888889, 0.0] and parameters: {'seed': 8566}. \u001b[0m\n",
      "\u001b[32m[I 2023-05-03 14:00:23,009]\u001b[0m Trial 98 finished with values: [0.9375, 0.0] and parameters: {'seed': 9452}. \u001b[0m\n",
      "\u001b[32m[I 2023-05-03 14:00:23,056]\u001b[0m Trial 102 finished with values: [0.9374999999999999, 0.0] and parameters: {'seed': 9470}. \u001b[0m\n",
      "\u001b[32m[I 2023-05-03 14:00:23,331]\u001b[0m Trial 99 finished with values: [0.9097222222222223, 0.06404728442430496] and parameters: {'seed': 2491}. \u001b[0m\n",
      "\u001b[32m[I 2023-05-03 14:00:23,355]\u001b[0m Trial 101 finished with values: [0.9097222222222222, 0.0] and parameters: {'seed': 5337}. \u001b[0m\n",
      "\u001b[32m[I 2023-05-03 14:00:23,437]\u001b[0m Trial 104 finished with values: [0.9027777777777779, 0.0] and parameters: {'seed': 1429}. \u001b[0m\n",
      "\u001b[32m[I 2023-05-03 14:00:23,633]\u001b[0m Trial 103 finished with values: [0.9583333333333334, 0.0] and parameters: {'seed': 9862}. \u001b[0m\n",
      "\u001b[32m[I 2023-05-03 14:00:23,965]\u001b[0m Trial 107 finished with values: [0.986111111111111, 0.0] and parameters: {'seed': 2682}. \u001b[0m\n",
      "\u001b[32m[I 2023-05-03 14:00:23,975]\u001b[0m Trial 106 finished with values: [0.9722222222222223, 0.0] and parameters: {'seed': 3283}. \u001b[0m\n",
      "\u001b[32m[I 2023-05-03 14:00:24,142]\u001b[0m Trial 113 finished with values: [0.923611111111111, 0.0] and parameters: {'seed': 2144}. \u001b[0m\n",
      "\u001b[32m[I 2023-05-03 14:00:24,185]\u001b[0m Trial 109 finished with values: [0.9930555555555555, 0.0] and parameters: {'seed': 5133}. \u001b[0m\n",
      "\u001b[32m[I 2023-05-03 14:00:24,198]\u001b[0m Trial 105 finished with values: [1.0, 0.13930703699588776] and parameters: {'seed': 1463}. \u001b[0m\n",
      "\u001b[32m[I 2023-05-03 14:00:24,209]\u001b[0m Trial 111 finished with values: [1.0, 0.0] and parameters: {'seed': 7799}. \u001b[0m\n",
      "\u001b[32m[I 2023-05-03 14:00:24,305]\u001b[0m Trial 115 finished with values: [0.8680555555555556, 0.0] and parameters: {'seed': 1711}. \u001b[0m\n",
      "\u001b[32m[I 2023-05-03 14:00:24,370]\u001b[0m Trial 108 finished with values: [0.9375, 0.08379312604665756] and parameters: {'seed': 527}. \u001b[0m\n",
      "\u001b[32m[I 2023-05-03 14:00:24,564]\u001b[0m Trial 112 finished with values: [0.8055555555555556, 0.0] and parameters: {'seed': 3766}. \u001b[0m\n",
      "\u001b[32m[I 2023-05-03 14:00:24,681]\u001b[0m Trial 110 finished with values: [0.8819444444444444, 0.0] and parameters: {'seed': 4549}. \u001b[0m\n",
      "\u001b[32m[I 2023-05-03 14:00:24,905]\u001b[0m Trial 120 finished with values: [1.0, 0.0] and parameters: {'seed': 9815}. \u001b[0m\n",
      "\u001b[32m[I 2023-05-03 14:00:24,964]\u001b[0m Trial 114 finished with values: [0.9305555555555556, 0.0] and parameters: {'seed': 2363}. \u001b[0m\n",
      "\u001b[32m[I 2023-05-03 14:00:24,993]\u001b[0m Trial 119 finished with values: [0.8819444444444445, 0.12674356997013092] and parameters: {'seed': 1023}. \u001b[0m\n",
      "\u001b[32m[I 2023-05-03 14:00:25,086]\u001b[0m Trial 117 finished with values: [0.9375, 0.19112956523895264] and parameters: {'seed': 9495}. \u001b[0m\n",
      "\u001b[32m[I 2023-05-03 14:00:25,256]\u001b[0m Trial 118 finished with values: [1.0, 0.0] and parameters: {'seed': 2775}. \u001b[0m\n",
      "\u001b[32m[I 2023-05-03 14:00:25,331]\u001b[0m Trial 116 finished with values: [1.0, 0.18127889931201935] and parameters: {'seed': 3179}. \u001b[0m\n",
      "\u001b[32m[I 2023-05-03 14:00:25,505]\u001b[0m Trial 122 finished with values: [0.8680555555555556, 0.0] and parameters: {'seed': 2001}. \u001b[0m\n",
      "\u001b[32m[I 2023-05-03 14:00:26,028]\u001b[0m Trial 124 finished with values: [0.9444444444444444, 0.2330443412065506] and parameters: {'seed': 8990}. \u001b[0m\n",
      "\u001b[32m[I 2023-05-03 14:00:26,142]\u001b[0m Trial 121 finished with values: [1.0, 0.0] and parameters: {'seed': 4690}. \u001b[0m\n",
      "\u001b[32m[I 2023-05-03 14:00:26,300]\u001b[0m Trial 125 finished with values: [0.9097222222222222, 0.0] and parameters: {'seed': 6324}. \u001b[0m\n",
      "\u001b[32m[I 2023-05-03 14:00:26,310]\u001b[0m Trial 129 finished with values: [0.9305555555555555, 0.0] and parameters: {'seed': 1878}. \u001b[0m\n",
      "\u001b[32m[I 2023-05-03 14:00:26,335]\u001b[0m Trial 123 finished with values: [0.8402777777777777, 0.0] and parameters: {'seed': 2353}. \u001b[0m\n",
      "\u001b[32m[I 2023-05-03 14:00:26,340]\u001b[0m Trial 126 finished with values: [0.8541666666666667, 0.0] and parameters: {'seed': 9325}. \u001b[0m\n",
      "\u001b[32m[I 2023-05-03 14:00:26,482]\u001b[0m Trial 127 finished with values: [1.0, 0.0] and parameters: {'seed': 2714}. \u001b[0m\n",
      "\u001b[32m[I 2023-05-03 14:00:26,602]\u001b[0m Trial 131 finished with values: [0.9722222222222223, 0.0] and parameters: {'seed': 9694}. \u001b[0m\n",
      "\u001b[32m[I 2023-05-03 14:00:26,656]\u001b[0m Trial 128 finished with values: [0.8472222222222221, 0.0] and parameters: {'seed': 8763}. \u001b[0m\n",
      "\u001b[32m[I 2023-05-03 14:00:26,661]\u001b[0m Trial 130 finished with values: [0.8750000000000001, 0.0] and parameters: {'seed': 4170}. \u001b[0m\n",
      "\u001b[32m[I 2023-05-03 14:00:27,049]\u001b[0m Trial 133 finished with values: [0.9791666666666666, 0.3723483383655548] and parameters: {'seed': 4130}. \u001b[0m\n",
      "\u001b[32m[I 2023-05-03 14:00:27,156]\u001b[0m Trial 135 finished with values: [0.9097222222222222, 0.0] and parameters: {'seed': 6095}. \u001b[0m\n",
      "\u001b[32m[I 2023-05-03 14:00:27,273]\u001b[0m Trial 138 finished with values: [1.0, 0.0] and parameters: {'seed': 8449}. \u001b[0m\n",
      "\u001b[32m[I 2023-05-03 14:00:27,358]\u001b[0m Trial 134 finished with values: [0.9305555555555555, 0.0] and parameters: {'seed': 9120}. \u001b[0m\n",
      "\u001b[32m[I 2023-05-03 14:00:27,730]\u001b[0m Trial 139 finished with values: [1.0, 0.0] and parameters: {'seed': 6831}. \u001b[0m\n",
      "\u001b[32m[I 2023-05-03 14:00:27,816]\u001b[0m Trial 137 finished with values: [1.0, 0.0] and parameters: {'seed': 9732}. \u001b[0m\n",
      "\u001b[32m[I 2023-05-03 14:00:27,819]\u001b[0m Trial 140 finished with values: [0.9791666666666666, 0.0] and parameters: {'seed': 1110}. \u001b[0m\n",
      "\u001b[32m[I 2023-05-03 14:00:28,086]\u001b[0m Trial 132 finished with values: [0.9513888888888888, 0.32594409584999084] and parameters: {'seed': 9659}. \u001b[0m\n",
      "\u001b[32m[I 2023-05-03 14:00:28,159]\u001b[0m Trial 141 finished with values: [0.875, 0.0] and parameters: {'seed': 5986}. \u001b[0m\n",
      "\u001b[32m[I 2023-05-03 14:00:28,376]\u001b[0m Trial 142 finished with values: [0.9583333333333334, 0.22484199702739716] and parameters: {'seed': 852}. \u001b[0m\n",
      "\u001b[32m[I 2023-05-03 14:00:28,410]\u001b[0m Trial 136 finished with values: [0.986111111111111, 0.13561804592609406] and parameters: {'seed': 845}. \u001b[0m\n",
      "\u001b[32m[I 2023-05-03 14:00:28,521]\u001b[0m Trial 143 finished with values: [0.9583333333333333, 0.0] and parameters: {'seed': 2500}. \u001b[0m\n",
      "\u001b[32m[I 2023-05-03 14:00:28,695]\u001b[0m Trial 145 finished with values: [0.8958333333333334, 0.0] and parameters: {'seed': 3822}. \u001b[0m\n",
      "\u001b[32m[I 2023-05-03 14:00:28,807]\u001b[0m Trial 144 finished with values: [0.9652777777777777, 0.2273516207933426] and parameters: {'seed': 7044}. \u001b[0m\n",
      "\u001b[32m[I 2023-05-03 14:00:29,050]\u001b[0m Trial 146 finished with values: [0.9722222222222222, 0.13408054411411285] and parameters: {'seed': 8138}. \u001b[0m\n",
      "\u001b[32m[I 2023-05-03 14:00:29,146]\u001b[0m Trial 147 finished with values: [0.9583333333333333, 0.15377871692180634] and parameters: {'seed': 5999}. \u001b[0m\n",
      "\u001b[32m[I 2023-05-03 14:00:29,147]\u001b[0m Trial 150 finished with values: [0.9166666666666667, 0.0] and parameters: {'seed': 5582}. \u001b[0m\n",
      "\u001b[32m[I 2023-05-03 14:00:29,218]\u001b[0m Trial 149 finished with values: [0.9166666666666666, 0.0] and parameters: {'seed': 6965}. \u001b[0m\n",
      "\u001b[32m[I 2023-05-03 14:00:29,404]\u001b[0m Trial 152 finished with values: [0.8194444444444445, 0.0] and parameters: {'seed': 2057}. \u001b[0m\n",
      "\u001b[32m[I 2023-05-03 14:00:29,437]\u001b[0m Trial 148 finished with values: [0.9722222222222222, 0.0] and parameters: {'seed': 5168}. \u001b[0m\n",
      "\u001b[32m[I 2023-05-03 14:00:29,511]\u001b[0m Trial 151 finished with values: [0.9166666666666666, 0.209176704287529] and parameters: {'seed': 7359}. \u001b[0m\n",
      "\u001b[32m[I 2023-05-03 14:00:29,617]\u001b[0m Trial 153 finished with values: [0.9513888888888888, 0.16873504221439362] and parameters: {'seed': 5609}. \u001b[0m\n",
      "\u001b[32m[I 2023-05-03 14:00:29,811]\u001b[0m Trial 155 finished with values: [0.9444444444444444, 0.0] and parameters: {'seed': 7121}. \u001b[0m\n",
      "\u001b[32m[I 2023-05-03 14:00:29,928]\u001b[0m Trial 157 finished with values: [0.9444444444444444, 0.0] and parameters: {'seed': 9446}. \u001b[0m\n",
      "\u001b[32m[I 2023-05-03 14:00:29,938]\u001b[0m Trial 158 finished with values: [0.9375, 0.29096660017967224] and parameters: {'seed': 505}. \u001b[0m\n",
      "\u001b[32m[I 2023-05-03 14:00:30,014]\u001b[0m Trial 156 finished with values: [0.9930555555555555, 0.32338547706604004] and parameters: {'seed': 6705}. \u001b[0m\n",
      "\u001b[32m[I 2023-05-03 14:00:30,330]\u001b[0m Trial 154 finished with values: [0.9513888888888888, 0.1935928910970688] and parameters: {'seed': 5020}. \u001b[0m\n",
      "\u001b[32m[I 2023-05-03 14:00:30,446]\u001b[0m Trial 160 finished with values: [0.9027777777777778, 0.0] and parameters: {'seed': 2807}. \u001b[0m\n",
      "\u001b[32m[I 2023-05-03 14:00:30,959]\u001b[0m Trial 163 finished with values: [0.9583333333333333, 0.0] and parameters: {'seed': 3496}. \u001b[0m\n",
      "\u001b[32m[I 2023-05-03 14:00:30,967]\u001b[0m Trial 159 finished with values: [1.0, 0.0] and parameters: {'seed': 9203}. \u001b[0m\n",
      "\u001b[32m[I 2023-05-03 14:00:30,994]\u001b[0m Trial 165 finished with values: [0.9166666666666667, 0.30544620752334595] and parameters: {'seed': 7803}. \u001b[0m\n",
      "\u001b[32m[I 2023-05-03 14:00:31,371]\u001b[0m Trial 170 finished with values: [1.0, 0.0] and parameters: {'seed': 9917}. \u001b[0m\n",
      "\u001b[32m[I 2023-05-03 14:00:31,392]\u001b[0m Trial 161 finished with values: [1.0, 0.0] and parameters: {'seed': 2538}. \u001b[0m\n",
      "\u001b[32m[I 2023-05-03 14:00:31,404]\u001b[0m Trial 166 finished with values: [0.9652777777777778, 0.2786393165588379] and parameters: {'seed': 9271}. \u001b[0m\n",
      "\u001b[32m[I 2023-05-03 14:00:31,448]\u001b[0m Trial 169 finished with values: [0.9583333333333333, 0.0] and parameters: {'seed': 1238}. \u001b[0m\n",
      "\u001b[32m[I 2023-05-03 14:00:31,572]\u001b[0m Trial 164 finished with values: [1.0, 0.0] and parameters: {'seed': 9319}. \u001b[0m\n",
      "\u001b[32m[I 2023-05-03 14:00:31,627]\u001b[0m Trial 168 finished with values: [0.8888888888888888, 0.1447216421365738] and parameters: {'seed': 8120}. \u001b[0m\n",
      "\u001b[32m[I 2023-05-03 14:00:31,754]\u001b[0m Trial 173 finished with values: [0.875, 0.29627910256385803] and parameters: {'seed': 9368}. \u001b[0m\n",
      "\u001b[32m[I 2023-05-03 14:00:31,781]\u001b[0m Trial 172 finished with values: [0.8958333333333334, 0.0] and parameters: {'seed': 1721}. \u001b[0m\n",
      "\u001b[32m[I 2023-05-03 14:00:31,875]\u001b[0m Trial 167 finished with values: [0.986111111111111, 0.0] and parameters: {'seed': 8415}. \u001b[0m\n",
      "\u001b[32m[I 2023-05-03 14:00:31,963]\u001b[0m Trial 174 finished with values: [0.8854166666666667, 0.0] and parameters: {'seed': 1178}. \u001b[0m\n",
      "\u001b[32m[I 2023-05-03 14:00:32,030]\u001b[0m Trial 162 finished with values: [1.0, 0.0] and parameters: {'seed': 8559}. \u001b[0m\n",
      "\u001b[32m[I 2023-05-03 14:00:32,040]\u001b[0m Trial 175 finished with values: [0.9722222222222223, 0.0] and parameters: {'seed': 9694}. \u001b[0m\n",
      "\u001b[32m[I 2023-05-03 14:00:32,277]\u001b[0m Trial 176 finished with values: [0.8784722222222222, 0.0] and parameters: {'seed': 5988}. \u001b[0m\n",
      "\u001b[32m[I 2023-05-03 14:00:32,480]\u001b[0m Trial 178 finished with values: [0.888888888888889, 0.0] and parameters: {'seed': 5779}. \u001b[0m\n",
      "\u001b[32m[I 2023-05-03 14:00:32,500]\u001b[0m Trial 179 finished with values: [0.9652777777777778, 0.0] and parameters: {'seed': 8026}. \u001b[0m\n",
      "\u001b[32m[I 2023-05-03 14:00:32,532]\u001b[0m Trial 177 finished with values: [0.9861111111111112, 0.0] and parameters: {'seed': 3011}. \u001b[0m\n",
      "\u001b[32m[I 2023-05-03 14:00:32,908]\u001b[0m Trial 182 finished with values: [0.9027777777777778, 0.18719543516635895] and parameters: {'seed': 418}. \u001b[0m\n",
      "\u001b[32m[I 2023-05-03 14:00:32,933]\u001b[0m Trial 171 finished with values: [1.0, 0.0] and parameters: {'seed': 9429}. \u001b[0m\n",
      "\u001b[32m[I 2023-05-03 14:00:33,065]\u001b[0m Trial 181 finished with values: [0.9027777777777778, 0.38013073801994324] and parameters: {'seed': 8252}. \u001b[0m\n",
      "\u001b[32m[I 2023-05-03 14:00:33,250]\u001b[0m Trial 180 finished with values: [0.8958333333333333, 0.0] and parameters: {'seed': 7488}. \u001b[0m\n",
      "\u001b[32m[I 2023-05-03 14:00:33,391]\u001b[0m Trial 184 finished with values: [0.9027777777777778, 0.4757250249385834] and parameters: {'seed': 188}. \u001b[0m\n",
      "\u001b[32m[I 2023-05-03 14:00:33,406]\u001b[0m Trial 185 finished with values: [0.8125, 0.0] and parameters: {'seed': 2946}. \u001b[0m\n",
      "\u001b[32m[I 2023-05-03 14:00:33,630]\u001b[0m Trial 183 finished with values: [0.9930555555555555, 0.151817187666893] and parameters: {'seed': 56}. \u001b[0m\n",
      "\u001b[32m[I 2023-05-03 14:00:33,634]\u001b[0m Trial 186 finished with values: [0.986111111111111, 0.0] and parameters: {'seed': 4278}. \u001b[0m\n",
      "\u001b[32m[I 2023-05-03 14:00:33,978]\u001b[0m Trial 190 finished with values: [0.9930555555555555, 0.0] and parameters: {'seed': 4764}. \u001b[0m\n",
      "\u001b[32m[I 2023-05-03 14:00:34,111]\u001b[0m Trial 188 finished with values: [0.9583333333333334, 0.0] and parameters: {'seed': 8644}. \u001b[0m\n",
      "\u001b[32m[I 2023-05-03 14:00:34,203]\u001b[0m Trial 195 finished with values: [0.923611111111111, 0.0] and parameters: {'seed': 4339}. \u001b[0m\n",
      "\u001b[32m[I 2023-05-03 14:00:34,254]\u001b[0m Trial 187 finished with values: [0.9791666666666666, 0.39277052879333496] and parameters: {'seed': 3469}. \u001b[0m\n",
      "\u001b[32m[I 2023-05-03 14:00:34,503]\u001b[0m Trial 197 finished with values: [1.0, 0.0] and parameters: {'seed': 4718}. \u001b[0m\n",
      "\u001b[32m[I 2023-05-03 14:00:34,547]\u001b[0m Trial 193 finished with values: [0.8958333333333333, 0.0] and parameters: {'seed': 8873}. \u001b[0m\n",
      "\u001b[32m[I 2023-05-03 14:00:34,599]\u001b[0m Trial 194 finished with values: [0.9513888888888888, 0.0] and parameters: {'seed': 6284}. \u001b[0m\n",
      "\u001b[32m[I 2023-05-03 14:00:34,717]\u001b[0m Trial 189 finished with values: [0.9930555555555555, 0.0] and parameters: {'seed': 5944}. \u001b[0m\n",
      "\u001b[32m[I 2023-05-03 14:00:34,736]\u001b[0m Trial 196 finished with values: [0.9131944444444444, 0.13951875269412994] and parameters: {'seed': 6165}. \u001b[0m\n",
      "\u001b[32m[I 2023-05-03 14:00:34,907]\u001b[0m Trial 192 finished with values: [0.986111111111111, 0.0] and parameters: {'seed': 4512}. \u001b[0m\n",
      "\u001b[32m[I 2023-05-03 14:00:35,128]\u001b[0m Trial 200 finished with values: [0.9861111111111112, 0.0] and parameters: {'seed': 1126}. \u001b[0m\n",
      "\u001b[32m[I 2023-05-03 14:00:35,156]\u001b[0m Trial 201 finished with values: [1.0, 0.1155092641711235] and parameters: {'seed': 3098}. \u001b[0m\n",
      "\u001b[32m[I 2023-05-03 14:00:35,396]\u001b[0m Trial 198 finished with values: [1.0, 0.0] and parameters: {'seed': 463}. \u001b[0m\n",
      "\u001b[32m[I 2023-05-03 14:00:35,509]\u001b[0m Trial 191 finished with values: [0.9513888888888888, 0.0] and parameters: {'seed': 5028}. \u001b[0m\n",
      "\u001b[32m[I 2023-05-03 14:00:35,645]\u001b[0m Trial 199 finished with values: [0.9375, 0.0] and parameters: {'seed': 3931}. \u001b[0m\n",
      "\u001b[32m[I 2023-05-03 14:00:35,758]\u001b[0m Trial 202 finished with values: [0.9027777777777778, 0.0] and parameters: {'seed': 1476}. \u001b[0m\n",
      "\u001b[32m[I 2023-05-03 14:00:36,027]\u001b[0m Trial 204 finished with values: [0.9652777777777778, 0.1455385535955429] and parameters: {'seed': 8260}. \u001b[0m\n",
      "\u001b[32m[I 2023-05-03 14:00:36,088]\u001b[0m Trial 203 finished with values: [1.0, 0.0] and parameters: {'seed': 2928}. \u001b[0m\n",
      "\u001b[32m[I 2023-05-03 14:00:36,159]\u001b[0m Trial 205 finished with values: [0.9375, 0.0] and parameters: {'seed': 6769}. \u001b[0m\n",
      "\u001b[32m[I 2023-05-03 14:00:36,599]\u001b[0m Trial 206 finished with values: [1.0, 0.17562127113342285] and parameters: {'seed': 1727}. \u001b[0m\n",
      "\u001b[32m[I 2023-05-03 14:00:36,624]\u001b[0m Trial 208 finished with values: [1.0, 0.0] and parameters: {'seed': 1011}. \u001b[0m\n",
      "\u001b[32m[I 2023-05-03 14:00:36,717]\u001b[0m Trial 209 finished with values: [0.9513888888888888, 0.0] and parameters: {'seed': 4134}. \u001b[0m\n",
      "\u001b[32m[I 2023-05-03 14:00:36,722]\u001b[0m Trial 207 finished with values: [0.9166666666666666, 0.0] and parameters: {'seed': 6965}. \u001b[0m\n",
      "\u001b[32m[I 2023-05-03 14:00:36,833]\u001b[0m Trial 213 finished with values: [0.9166666666666666, 0.0] and parameters: {'seed': 31}. \u001b[0m\n",
      "\u001b[32m[I 2023-05-03 14:00:36,958]\u001b[0m Trial 216 finished with values: [0.9236111111111112, 0.1514693945646286] and parameters: {'seed': 4053}. \u001b[0m\n",
      "\u001b[32m[I 2023-05-03 14:00:37,022]\u001b[0m Trial 210 finished with values: [0.9652777777777778, 0.08005525916814804] and parameters: {'seed': 6464}. \u001b[0m\n",
      "\u001b[32m[I 2023-05-03 14:00:37,032]\u001b[0m Trial 211 finished with values: [0.9236111111111112, 0.0] and parameters: {'seed': 111}. \u001b[0m\n",
      "\u001b[32m[I 2023-05-03 14:00:37,128]\u001b[0m Trial 212 finished with values: [0.9722222222222222, 0.20050017535686493] and parameters: {'seed': 5391}. \u001b[0m\n",
      "\u001b[32m[I 2023-05-03 14:00:37,193]\u001b[0m Trial 214 finished with values: [0.951388888888889, 0.24610447883605957] and parameters: {'seed': 2961}. \u001b[0m\n",
      "\u001b[32m[I 2023-05-03 14:00:37,541]\u001b[0m Trial 215 finished with values: [0.986111111111111, 0.0] and parameters: {'seed': 3641}. \u001b[0m\n",
      "\u001b[32m[I 2023-05-03 14:00:37,554]\u001b[0m Trial 218 finished with values: [0.9444444444444444, 0.0] and parameters: {'seed': 860}. \u001b[0m\n",
      "\u001b[32m[I 2023-05-03 14:00:37,606]\u001b[0m Trial 217 finished with values: [0.9652777777777778, 0.0] and parameters: {'seed': 9941}. \u001b[0m\n",
      "\u001b[32m[I 2023-05-03 14:00:37,747]\u001b[0m Trial 221 finished with values: [1.0, 0.1120426133275032] and parameters: {'seed': 1306}. \u001b[0m\n",
      "\u001b[32m[I 2023-05-03 14:00:38,105]\u001b[0m Trial 222 finished with values: [0.9583333333333334, 0.0] and parameters: {'seed': 6654}. \u001b[0m\n",
      "\u001b[32m[I 2023-05-03 14:00:38,233]\u001b[0m Trial 220 finished with values: [0.9097222222222221, 0.13592363893985748] and parameters: {'seed': 9711}. \u001b[0m\n",
      "\u001b[32m[I 2023-05-03 14:00:38,448]\u001b[0m Trial 223 finished with values: [1.0, 0.21316523849964142] and parameters: {'seed': 2004}. \u001b[0m\n",
      "\u001b[32m[I 2023-05-03 14:00:38,458]\u001b[0m Trial 219 finished with values: [1.0, 0.16897612810134888] and parameters: {'seed': 6692}. \u001b[0m\n",
      "\u001b[32m[I 2023-05-03 14:00:38,528]\u001b[0m Trial 225 finished with values: [0.9479166666666667, 0.0] and parameters: {'seed': 5850}. \u001b[0m\n",
      "\u001b[32m[I 2023-05-03 14:00:38,648]\u001b[0m Trial 224 finished with values: [0.9305555555555556, 0.2918635904788971] and parameters: {'seed': 2467}. \u001b[0m\n",
      "\u001b[32m[I 2023-05-03 14:00:38,796]\u001b[0m Trial 227 finished with values: [1.0, 0.2428995966911316] and parameters: {'seed': 2988}. \u001b[0m\n",
      "\u001b[32m[I 2023-05-03 14:00:39,030]\u001b[0m Trial 229 finished with values: [0.9722222222222222, 0.23395897448062897] and parameters: {'seed': 8521}. \u001b[0m\n",
      "\u001b[32m[I 2023-05-03 14:00:39,083]\u001b[0m Trial 226 finished with values: [0.9097222222222223, 0.0] and parameters: {'seed': 2397}. \u001b[0m\n",
      "\u001b[32m[I 2023-05-03 14:00:39,209]\u001b[0m Trial 230 finished with values: [0.8680555555555555, 0.0] and parameters: {'seed': 9347}. \u001b[0m\n",
      "\u001b[32m[I 2023-05-03 14:00:39,276]\u001b[0m Trial 233 finished with values: [1.0, 0.2395925670862198] and parameters: {'seed': 7449}. \u001b[0m\n",
      "\u001b[32m[I 2023-05-03 14:00:39,329]\u001b[0m Trial 232 finished with values: [0.986111111111111, 0.0] and parameters: {'seed': 4060}. \u001b[0m\n",
      "\u001b[32m[I 2023-05-03 14:00:39,499]\u001b[0m Trial 236 finished with values: [0.9166666666666666, 0.0] and parameters: {'seed': 2124}. \u001b[0m\n",
      "\u001b[32m[I 2023-05-03 14:00:39,537]\u001b[0m Trial 239 finished with values: [0.8819444444444444, 0.47169551253318787] and parameters: {'seed': 7371}. \u001b[0m\n",
      "\u001b[32m[I 2023-05-03 14:00:39,585]\u001b[0m Trial 228 finished with values: [1.0, 0.0] and parameters: {'seed': 3165}. \u001b[0m\n",
      "\u001b[32m[I 2023-05-03 14:00:39,725]\u001b[0m Trial 235 finished with values: [0.9583333333333334, 0.09943124651908875] and parameters: {'seed': 5560}. \u001b[0m\n",
      "\u001b[32m[I 2023-05-03 14:00:39,845]\u001b[0m Trial 231 finished with values: [1.0, 0.0] and parameters: {'seed': 4724}. \u001b[0m\n",
      "\u001b[32m[I 2023-05-03 14:00:39,889]\u001b[0m Trial 238 finished with values: [1.0, 0.0] and parameters: {'seed': 2878}. \u001b[0m\n",
      "\u001b[32m[I 2023-05-03 14:00:39,931]\u001b[0m Trial 234 finished with values: [0.8472222222222223, 0.0] and parameters: {'seed': 2457}. \u001b[0m\n",
      "\u001b[32m[I 2023-05-03 14:00:39,997]\u001b[0m Trial 240 finished with values: [0.9166666666666666, 0.0] and parameters: {'seed': 8094}. \u001b[0m\n",
      "\u001b[32m[I 2023-05-03 14:00:40,038]\u001b[0m Trial 237 finished with values: [0.9583333333333334, 0.0] and parameters: {'seed': 9278}. \u001b[0m\n",
      "\u001b[32m[I 2023-05-03 14:00:40,482]\u001b[0m Trial 241 finished with values: [0.9236111111111109, 0.0] and parameters: {'seed': 6524}. \u001b[0m\n",
      "\u001b[32m[I 2023-05-03 14:00:40,696]\u001b[0m Trial 243 finished with values: [0.9791666666666666, 0.0] and parameters: {'seed': 7948}. \u001b[0m\n",
      "\u001b[32m[I 2023-05-03 14:00:40,696]\u001b[0m Trial 242 finished with values: [0.9444444444444444, 0.0] and parameters: {'seed': 7641}. \u001b[0m\n",
      "\u001b[32m[I 2023-05-03 14:00:40,782]\u001b[0m Trial 245 finished with values: [0.9305555555555555, 0.16897571086883545] and parameters: {'seed': 4685}. \u001b[0m\n",
      "\u001b[32m[I 2023-05-03 14:00:40,801]\u001b[0m Trial 246 finished with values: [0.9583333333333333, 0.0] and parameters: {'seed': 3942}. \u001b[0m\n",
      "\u001b[32m[I 2023-05-03 14:00:40,859]\u001b[0m Trial 244 finished with values: [0.9583333333333333, 0.12299173325300217] and parameters: {'seed': 9142}. \u001b[0m\n",
      "\u001b[32m[I 2023-05-03 14:00:41,359]\u001b[0m Trial 249 finished with values: [0.8680555555555556, 0.0] and parameters: {'seed': 2409}. \u001b[0m\n",
      "\u001b[32m[I 2023-05-03 14:00:41,429]\u001b[0m Trial 248 finished with values: [0.9444444444444444, 0.050577953457832336] and parameters: {'seed': 9342}. \u001b[0m\n",
      "\u001b[32m[I 2023-05-03 14:00:41,537]\u001b[0m Trial 254 finished with values: [0.9236111111111112, 0.0] and parameters: {'seed': 3217}. \u001b[0m\n",
      "\u001b[32m[I 2023-05-03 14:00:41,838]\u001b[0m Trial 253 finished with values: [0.9722222222222223, 0.0] and parameters: {'seed': 9433}. \u001b[0m\n",
      "\u001b[32m[I 2023-05-03 14:00:41,937]\u001b[0m Trial 255 finished with values: [0.8333333333333334, 0.0] and parameters: {'seed': 6504}. \u001b[0m\n",
      "\u001b[32m[I 2023-05-03 14:00:41,966]\u001b[0m Trial 251 finished with values: [0.9513888888888888, 0.0] and parameters: {'seed': 5971}. \u001b[0m\n",
      "\u001b[32m[I 2023-05-03 14:00:42,004]\u001b[0m Trial 247 finished with values: [0.78125, 0.37391170859336853] and parameters: {'seed': 4415}. \u001b[0m\n",
      "\u001b[32m[I 2023-05-03 14:00:42,054]\u001b[0m Trial 250 finished with values: [0.986111111111111, 0.0] and parameters: {'seed': 4600}. \u001b[0m\n",
      "\u001b[32m[I 2023-05-03 14:00:42,116]\u001b[0m Trial 252 finished with values: [0.9236111111111112, 0.10653006285429001] and parameters: {'seed': 540}. \u001b[0m\n",
      "\u001b[32m[I 2023-05-03 14:00:42,235]\u001b[0m Trial 260 finished with values: [0.9305555555555555, 0.276770681142807] and parameters: {'seed': 2115}. \u001b[0m\n",
      "\u001b[32m[I 2023-05-03 14:00:42,293]\u001b[0m Trial 256 finished with values: [0.9861111111111112, 0.0] and parameters: {'seed': 8266}. \u001b[0m\n",
      "\u001b[32m[I 2023-05-03 14:00:42,344]\u001b[0m Trial 259 finished with values: [0.9513888888888888, 0.2555586099624634] and parameters: {'seed': 3963}. \u001b[0m\n",
      "\u001b[32m[I 2023-05-03 14:00:42,423]\u001b[0m Trial 261 finished with values: [0.8819444444444445, 0.0] and parameters: {'seed': 4238}. \u001b[0m\n",
      "\u001b[32m[I 2023-05-03 14:00:42,704]\u001b[0m Trial 258 finished with values: [0.8541666666666667, 0.4060990810394287] and parameters: {'seed': 315}. \u001b[0m\n",
      "\u001b[32m[I 2023-05-03 14:00:42,765]\u001b[0m Trial 257 finished with values: [0.9097222222222222, 0.0] and parameters: {'seed': 3062}. \u001b[0m\n",
      "\u001b[32m[I 2023-05-03 14:00:42,808]\u001b[0m Trial 264 finished with values: [1.0, 0.0] and parameters: {'seed': 6437}. \u001b[0m\n",
      "\u001b[32m[I 2023-05-03 14:00:43,109]\u001b[0m Trial 262 finished with values: [0.9513888888888888, 0.15060196816921234] and parameters: {'seed': 7114}. \u001b[0m\n",
      "\u001b[32m[I 2023-05-03 14:00:43,203]\u001b[0m Trial 265 finished with values: [1.0, 0.0] and parameters: {'seed': 2248}. \u001b[0m\n",
      "\u001b[32m[I 2023-05-03 14:00:43,287]\u001b[0m Trial 266 finished with values: [0.9652777777777778, 0.0] and parameters: {'seed': 1993}. \u001b[0m\n",
      "\u001b[32m[I 2023-05-03 14:00:43,383]\u001b[0m Trial 263 finished with values: [0.9791666666666666, 0.0] and parameters: {'seed': 7048}. \u001b[0m\n",
      "\u001b[32m[I 2023-05-03 14:00:43,639]\u001b[0m Trial 267 finished with values: [0.9305555555555555, 0.0] and parameters: {'seed': 846}. \u001b[0m\n",
      "\u001b[32m[I 2023-05-03 14:00:43,682]\u001b[0m Trial 268 finished with values: [0.9652777777777779, 0.0] and parameters: {'seed': 1475}. \u001b[0m\n",
      "\u001b[32m[I 2023-05-03 14:00:43,993]\u001b[0m Trial 274 finished with values: [0.9583333333333333, 0.24368293583393097] and parameters: {'seed': 7286}. \u001b[0m\n",
      "\u001b[32m[I 2023-05-03 14:00:44,040]\u001b[0m Trial 269 finished with values: [0.9861111111111112, 0.0] and parameters: {'seed': 9769}. \u001b[0m\n",
      "\u001b[32m[I 2023-05-03 14:00:44,175]\u001b[0m Trial 270 finished with values: [0.8402777777777778, 0.0] and parameters: {'seed': 5718}. \u001b[0m\n",
      "\u001b[32m[I 2023-05-03 14:00:44,228]\u001b[0m Trial 275 finished with values: [0.9652777777777778, 0.0] and parameters: {'seed': 112}. \u001b[0m\n",
      "\u001b[32m[I 2023-05-03 14:00:44,560]\u001b[0m Trial 276 finished with values: [0.9930555555555555, 0.13812944293022156] and parameters: {'seed': 4580}. \u001b[0m\n",
      "\u001b[32m[I 2023-05-03 14:00:44,615]\u001b[0m Trial 272 finished with values: [0.9513888888888888, 0.21276609599590302] and parameters: {'seed': 40}. \u001b[0m\n",
      "\u001b[32m[I 2023-05-03 14:00:44,626]\u001b[0m Trial 271 finished with values: [1.0, 0.216074600815773] and parameters: {'seed': 8027}. \u001b[0m\n",
      "\u001b[32m[I 2023-05-03 14:00:44,710]\u001b[0m Trial 279 finished with values: [0.9166666666666666, 0.28709307312965393] and parameters: {'seed': 9703}. \u001b[0m\n",
      "\u001b[32m[I 2023-05-03 14:00:44,784]\u001b[0m Trial 273 finished with values: [1.0, 0.0] and parameters: {'seed': 8593}. \u001b[0m\n",
      "\u001b[32m[I 2023-05-03 14:00:44,958]\u001b[0m Trial 277 finished with values: [0.9930555555555555, 0.0] and parameters: {'seed': 3798}. \u001b[0m\n",
      "\u001b[32m[I 2023-05-03 14:00:44,980]\u001b[0m Trial 281 finished with values: [0.6736111111111112, 0.0] and parameters: {'seed': 4169}. \u001b[0m\n",
      "\u001b[32m[I 2023-05-03 14:00:45,051]\u001b[0m Trial 282 finished with values: [0.798611111111111, 0.3152066767215729] and parameters: {'seed': 7296}. \u001b[0m\n",
      "\u001b[32m[I 2023-05-03 14:00:45,272]\u001b[0m Trial 278 finished with values: [0.9930555555555555, 0.0] and parameters: {'seed': 7113}. \u001b[0m\n",
      "\u001b[32m[I 2023-05-03 14:00:45,495]\u001b[0m Trial 280 finished with values: [0.8298611111111112, 0.0] and parameters: {'seed': 3279}. \u001b[0m\n",
      "\u001b[32m[I 2023-05-03 14:00:45,495]\u001b[0m Trial 285 finished with values: [0.9375, 0.11807148903608322] and parameters: {'seed': 3306}. \u001b[0m\n",
      "\u001b[32m[I 2023-05-03 14:00:45,682]\u001b[0m Trial 283 finished with values: [0.9930555555555555, 0.09034871309995651] and parameters: {'seed': 956}. \u001b[0m\n",
      "\u001b[32m[I 2023-05-03 14:00:45,782]\u001b[0m Trial 284 finished with values: [1.0, 0.0] and parameters: {'seed': 2869}. \u001b[0m\n",
      "\u001b[32m[I 2023-05-03 14:00:45,901]\u001b[0m Trial 287 finished with values: [0.951388888888889, 0.0] and parameters: {'seed': 4148}. \u001b[0m\n",
      "\u001b[32m[I 2023-05-03 14:00:46,032]\u001b[0m Trial 286 finished with values: [0.84375, 0.0] and parameters: {'seed': 4543}. \u001b[0m\n",
      "\u001b[32m[I 2023-05-03 14:00:46,448]\u001b[0m Trial 291 finished with values: [0.9444444444444444, 0.301744282245636] and parameters: {'seed': 4660}. \u001b[0m\n",
      "\u001b[32m[I 2023-05-03 14:00:46,554]\u001b[0m Trial 289 finished with values: [1.0, 0.0] and parameters: {'seed': 2188}. \u001b[0m\n",
      "\u001b[32m[I 2023-05-03 14:00:46,671]\u001b[0m Trial 295 finished with values: [0.986111111111111, 0.0] and parameters: {'seed': 2239}. \u001b[0m\n",
      "\u001b[32m[I 2023-05-03 14:00:46,746]\u001b[0m Trial 288 finished with values: [1.0, 0.0] and parameters: {'seed': 1065}. \u001b[0m\n",
      "\u001b[32m[I 2023-05-03 14:00:46,842]\u001b[0m Trial 290 finished with values: [0.9930555555555555, 0.0] and parameters: {'seed': 4171}. \u001b[0m\n",
      "\u001b[32m[I 2023-05-03 14:00:46,842]\u001b[0m Trial 292 finished with values: [0.9930555555555555, 0.20363561809062958] and parameters: {'seed': 7696}. \u001b[0m\n",
      "\u001b[32m[I 2023-05-03 14:00:47,022]\u001b[0m Trial 293 finished with values: [0.875, 0.0] and parameters: {'seed': 6474}. \u001b[0m\n",
      "\u001b[32m[I 2023-05-03 14:00:47,166]\u001b[0m Trial 298 finished with values: [0.9791666666666666, 0.1922922283411026] and parameters: {'seed': 9712}. \u001b[0m\n",
      "\u001b[32m[I 2023-05-03 14:00:47,278]\u001b[0m Trial 296 finished with values: [0.9513888888888888, 0.2555586099624634] and parameters: {'seed': 3963}. \u001b[0m\n",
      "\u001b[32m[I 2023-05-03 14:00:47,446]\u001b[0m Trial 297 finished with values: [0.9652777777777778, 0.0] and parameters: {'seed': 3587}. \u001b[0m\n",
      "\u001b[32m[I 2023-05-03 14:00:47,534]\u001b[0m Trial 300 finished with values: [0.9513888888888888, 0.299593061208725] and parameters: {'seed': 4589}. \u001b[0m\n",
      "\u001b[32m[I 2023-05-03 14:00:47,633]\u001b[0m Trial 299 finished with values: [0.9166666666666666, 0.153418630361557] and parameters: {'seed': 5402}. \u001b[0m\n",
      "\u001b[32m[I 2023-05-03 14:00:47,726]\u001b[0m Trial 294 finished with values: [0.8402777777777778, 0.0] and parameters: {'seed': 7047}. \u001b[0m\n",
      "\u001b[32m[I 2023-05-03 14:00:47,807]\u001b[0m Trial 301 finished with values: [0.9722222222222223, 0.16099025309085846] and parameters: {'seed': 7707}. \u001b[0m\n",
      "\u001b[32m[I 2023-05-03 14:00:47,994]\u001b[0m Trial 304 finished with values: [0.8333333333333333, 0.3263442814350128] and parameters: {'seed': 1720}. \u001b[0m\n",
      "\u001b[32m[I 2023-05-03 14:00:48,061]\u001b[0m Trial 305 finished with values: [0.9444444444444444, 0.15860892832279205] and parameters: {'seed': 9175}. \u001b[0m\n",
      "\u001b[32m[I 2023-05-03 14:00:48,063]\u001b[0m Trial 302 finished with values: [0.9097222222222223, 0.0] and parameters: {'seed': 417}. \u001b[0m\n",
      "\u001b[32m[I 2023-05-03 14:00:48,434]\u001b[0m Trial 309 finished with values: [0.8194444444444444, 0.0] and parameters: {'seed': 9050}. \u001b[0m\n",
      "\u001b[32m[I 2023-05-03 14:00:48,499]\u001b[0m Trial 303 finished with values: [0.9791666666666666, 0.0] and parameters: {'seed': 4782}. \u001b[0m\n",
      "\u001b[32m[I 2023-05-03 14:00:48,569]\u001b[0m Trial 306 finished with values: [0.9791666666666667, 0.0] and parameters: {'seed': 5793}. \u001b[0m\n",
      "\u001b[32m[I 2023-05-03 14:00:48,711]\u001b[0m Trial 308 finished with values: [0.9305555555555556, 0.45916488766670227] and parameters: {'seed': 9547}. \u001b[0m\n",
      "\u001b[32m[I 2023-05-03 14:00:49,174]\u001b[0m Trial 315 finished with values: [1.0, 0.0] and parameters: {'seed': 5081}. \u001b[0m\n",
      "\u001b[32m[I 2023-05-03 14:00:49,211]\u001b[0m Trial 312 finished with values: [0.9895833333333334, 0.0] and parameters: {'seed': 3337}. \u001b[0m\n",
      "\u001b[32m[I 2023-05-03 14:00:49,230]\u001b[0m Trial 310 finished with values: [0.9791666666666667, 0.21945281326770782] and parameters: {'seed': 3625}. \u001b[0m\n",
      "\u001b[32m[I 2023-05-03 14:00:49,297]\u001b[0m Trial 307 finished with values: [0.9513888888888888, 0.3233151435852051] and parameters: {'seed': 5316}. \u001b[0m\n",
      "\u001b[32m[I 2023-05-03 14:00:49,318]\u001b[0m Trial 313 finished with values: [0.9270833333333334, 0.0] and parameters: {'seed': 9261}. \u001b[0m\n",
      "\u001b[32m[I 2023-05-03 14:00:49,329]\u001b[0m Trial 311 finished with values: [0.826388888888889, 0.0] and parameters: {'seed': 4006}. \u001b[0m\n",
      "\u001b[32m[I 2023-05-03 14:00:49,500]\u001b[0m Trial 314 finished with values: [0.951388888888889, 0.1688404232263565] and parameters: {'seed': 4141}. \u001b[0m\n",
      "\u001b[32m[I 2023-05-03 14:00:49,745]\u001b[0m Trial 318 finished with values: [0.9930555555555555, 0.0] and parameters: {'seed': 6561}. \u001b[0m\n",
      "\u001b[32m[I 2023-05-03 14:00:49,777]\u001b[0m Trial 317 finished with values: [1.0, 0.06038588285446167] and parameters: {'seed': 37}. \u001b[0m\n",
      "\u001b[32m[I 2023-05-03 14:00:50,067]\u001b[0m Trial 316 finished with values: [0.923611111111111, 0.0] and parameters: {'seed': 6506}. \u001b[0m\n",
      "\u001b[32m[I 2023-05-03 14:00:50,084]\u001b[0m Trial 319 finished with values: [0.9722222222222222, 0.0] and parameters: {'seed': 6092}. \u001b[0m\n",
      "\u001b[32m[I 2023-05-03 14:00:50,371]\u001b[0m Trial 324 finished with values: [0.9652777777777779, 0.0] and parameters: {'seed': 5530}. \u001b[0m\n",
      "\u001b[32m[I 2023-05-03 14:00:50,374]\u001b[0m Trial 322 finished with values: [0.9722222222222222, 0.2883479595184326] and parameters: {'seed': 1021}. \u001b[0m\n",
      "\u001b[32m[I 2023-05-03 14:00:50,434]\u001b[0m Trial 320 finished with values: [0.9722222222222222, 0.0] and parameters: {'seed': 8656}. \u001b[0m\n",
      "\u001b[32m[I 2023-05-03 14:00:50,494]\u001b[0m Trial 321 finished with values: [0.9236111111111112, 0.0] and parameters: {'seed': 937}. \u001b[0m\n",
      "\u001b[32m[I 2023-05-03 14:00:50,555]\u001b[0m Trial 326 finished with values: [1.0, 0.0] and parameters: {'seed': 7003}. \u001b[0m\n",
      "\u001b[32m[I 2023-05-03 14:00:50,669]\u001b[0m Trial 323 finished with values: [0.9305555555555556, 0.0] and parameters: {'seed': 903}. \u001b[0m\n",
      "\u001b[32m[I 2023-05-03 14:00:50,802]\u001b[0m Trial 325 finished with values: [0.8645833333333334, 0.0] and parameters: {'seed': 3085}. \u001b[0m\n",
      "\u001b[32m[I 2023-05-03 14:00:50,839]\u001b[0m Trial 328 finished with values: [1.0, 0.0] and parameters: {'seed': 220}. \u001b[0m\n",
      "\u001b[32m[I 2023-05-03 14:00:51,056]\u001b[0m Trial 327 finished with values: [0.9930555555555555, 0.0] and parameters: {'seed': 720}. \u001b[0m\n",
      "\u001b[32m[I 2023-05-03 14:00:51,404]\u001b[0m Trial 330 finished with values: [0.9444444444444444, 0.0] and parameters: {'seed': 9285}. \u001b[0m\n",
      "\u001b[32m[I 2023-05-03 14:00:51,489]\u001b[0m Trial 334 finished with values: [0.951388888888889, 0.0] and parameters: {'seed': 2586}. \u001b[0m\n",
      "\u001b[32m[I 2023-05-03 14:00:51,576]\u001b[0m Trial 329 finished with values: [0.986111111111111, 0.0] and parameters: {'seed': 6378}. \u001b[0m\n",
      "\u001b[32m[I 2023-05-03 14:00:51,755]\u001b[0m Trial 335 finished with values: [0.9583333333333333, 0.1480538696050644] and parameters: {'seed': 8592}. \u001b[0m\n",
      "\u001b[32m[I 2023-05-03 14:00:51,790]\u001b[0m Trial 333 finished with values: [0.8958333333333334, 0.0] and parameters: {'seed': 9878}. \u001b[0m\n",
      "\u001b[32m[I 2023-05-03 14:00:51,854]\u001b[0m Trial 331 finished with values: [0.9027777777777778, 0.2585955262184143] and parameters: {'seed': 3116}. \u001b[0m\n",
      "\u001b[32m[I 2023-05-03 14:00:51,863]\u001b[0m Trial 332 finished with values: [0.9444444444444444, 0.0] and parameters: {'seed': 1138}. \u001b[0m\n",
      "\u001b[32m[I 2023-05-03 14:00:52,324]\u001b[0m Trial 337 finished with values: [0.9444444444444445, 0.0] and parameters: {'seed': 8104}. \u001b[0m\n",
      "\u001b[32m[I 2023-05-03 14:00:52,594]\u001b[0m Trial 340 finished with values: [0.9930555555555555, 0.0] and parameters: {'seed': 9500}. \u001b[0m\n",
      "\u001b[32m[I 2023-05-03 14:00:52,637]\u001b[0m Trial 339 finished with values: [0.9652777777777778, 0.13995464146137238] and parameters: {'seed': 6766}. \u001b[0m\n",
      "\u001b[32m[I 2023-05-03 14:00:52,649]\u001b[0m Trial 341 finished with values: [0.9027777777777778, 0.0] and parameters: {'seed': 3516}. \u001b[0m\n",
      "\u001b[32m[I 2023-05-03 14:00:52,920]\u001b[0m Trial 338 finished with values: [0.9652777777777778, 0.0] and parameters: {'seed': 9400}. \u001b[0m\n",
      "\u001b[32m[I 2023-05-03 14:00:53,052]\u001b[0m Trial 345 finished with values: [0.9791666666666666, 0.0] and parameters: {'seed': 9957}. \u001b[0m\n",
      "\u001b[32m[I 2023-05-03 14:00:53,217]\u001b[0m Trial 342 finished with values: [0.8958333333333335, 0.18350553512573242] and parameters: {'seed': 2100}. \u001b[0m\n",
      "\u001b[32m[I 2023-05-03 14:00:53,278]\u001b[0m Trial 336 finished with values: [1.0, 0.0] and parameters: {'seed': 7613}. \u001b[0m\n",
      "\u001b[32m[I 2023-05-03 14:00:53,501]\u001b[0m Trial 348 finished with values: [0.9583333333333334, 0.0] and parameters: {'seed': 1510}. \u001b[0m\n",
      "\u001b[32m[I 2023-05-03 14:00:53,585]\u001b[0m Trial 344 finished with values: [0.9375, 0.0] and parameters: {'seed': 2643}. \u001b[0m\n",
      "\u001b[32m[I 2023-05-03 14:00:53,686]\u001b[0m Trial 343 finished with values: [0.9097222222222223, 0.0] and parameters: {'seed': 4781}. \u001b[0m\n",
      "\u001b[32m[I 2023-05-03 14:00:53,774]\u001b[0m Trial 347 finished with values: [1.0, 0.0] and parameters: {'seed': 9748}. \u001b[0m\n",
      "\u001b[32m[I 2023-05-03 14:00:53,853]\u001b[0m Trial 349 finished with values: [1.0, 0.0] and parameters: {'seed': 4018}. \u001b[0m\n",
      "\u001b[32m[I 2023-05-03 14:00:54,214]\u001b[0m Trial 351 finished with values: [0.9375, 0.0] and parameters: {'seed': 9689}. \u001b[0m\n",
      "\u001b[32m[I 2023-05-03 14:00:54,219]\u001b[0m Trial 352 finished with values: [0.875, 0.2915862500667572] and parameters: {'seed': 3775}. \u001b[0m\n",
      "\u001b[32m[I 2023-05-03 14:00:54,257]\u001b[0m Trial 350 finished with values: [1.0, 0.0] and parameters: {'seed': 9054}. \u001b[0m\n",
      "\u001b[32m[I 2023-05-03 14:00:54,271]\u001b[0m Trial 355 finished with values: [0.9930555555555555, 0.0] and parameters: {'seed': 4598}. \u001b[0m\n",
      "\u001b[32m[I 2023-05-03 14:00:54,284]\u001b[0m Trial 354 finished with values: [0.9097222222222223, 0.502849280834198] and parameters: {'seed': 6152}. \u001b[0m\n",
      "\u001b[32m[I 2023-05-03 14:00:54,303]\u001b[0m Trial 346 finished with values: [0.9791666666666666, 0.0] and parameters: {'seed': 4031}. \u001b[0m\n",
      "\u001b[32m[I 2023-05-03 14:00:54,751]\u001b[0m Trial 353 finished with values: [0.9722222222222222, 0.0] and parameters: {'seed': 4055}. \u001b[0m\n",
      "\u001b[32m[I 2023-05-03 14:00:55,017]\u001b[0m Trial 356 finished with values: [0.9722222222222223, 0.0] and parameters: {'seed': 5054}. \u001b[0m\n",
      "\u001b[32m[I 2023-05-03 14:00:55,233]\u001b[0m Trial 359 finished with values: [0.9375, 0.14852385222911835] and parameters: {'seed': 5010}. \u001b[0m\n",
      "\u001b[32m[I 2023-05-03 14:00:55,325]\u001b[0m Trial 357 finished with values: [0.9097222222222223, 0.0] and parameters: {'seed': 417}. \u001b[0m\n",
      "\u001b[32m[I 2023-05-03 14:00:55,371]\u001b[0m Trial 362 finished with values: [0.8472222222222222, 0.08736617118120193] and parameters: {'seed': 4310}. \u001b[0m\n",
      "\u001b[32m[I 2023-05-03 14:00:55,390]\u001b[0m Trial 363 finished with values: [1.0, 0.0] and parameters: {'seed': 4133}. \u001b[0m\n",
      "\u001b[32m[I 2023-05-03 14:00:55,688]\u001b[0m Trial 358 finished with values: [1.0, 0.08734463900327682] and parameters: {'seed': 4335}. \u001b[0m\n",
      "\u001b[32m[I 2023-05-03 14:00:55,782]\u001b[0m Trial 360 finished with values: [0.9583333333333334, 0.19537179172039032] and parameters: {'seed': 833}. \u001b[0m\n",
      "\u001b[32m[I 2023-05-03 14:00:55,908]\u001b[0m Trial 361 finished with values: [0.9166666666666666, 0.0] and parameters: {'seed': 9651}. \u001b[0m\n",
      "\u001b[32m[I 2023-05-03 14:00:55,952]\u001b[0m Trial 366 finished with values: [0.9652777777777779, 0.0] and parameters: {'seed': 1475}. \u001b[0m\n",
      "\u001b[32m[I 2023-05-03 14:00:56,002]\u001b[0m Trial 365 finished with values: [0.9513888888888888, 0.12977029383182526] and parameters: {'seed': 1035}. \u001b[0m\n",
      "\u001b[32m[I 2023-05-03 14:00:56,195]\u001b[0m Trial 364 finished with values: [0.9652777777777778, 0.1989613175392151] and parameters: {'seed': 6220}. \u001b[0m\n",
      "\u001b[32m[I 2023-05-03 14:00:56,329]\u001b[0m Trial 367 finished with values: [0.8958333333333335, 0.0] and parameters: {'seed': 9539}. \u001b[0m\n",
      "\u001b[32m[I 2023-05-03 14:00:56,403]\u001b[0m Trial 370 finished with values: [0.986111111111111, 0.5854418873786926] and parameters: {'seed': 316}. \u001b[0m\n",
      "\u001b[32m[I 2023-05-03 14:00:56,427]\u001b[0m Trial 369 finished with values: [0.9444444444444445, 0.0] and parameters: {'seed': 2911}. \u001b[0m\n",
      "\u001b[32m[I 2023-05-03 14:00:56,472]\u001b[0m Trial 374 finished with values: [1.0, 0.0] and parameters: {'seed': 8045}. \u001b[0m\n",
      "\u001b[32m[I 2023-05-03 14:00:56,480]\u001b[0m Trial 368 finished with values: [0.9652777777777777, 0.0798206552863121] and parameters: {'seed': 8452}. \u001b[0m\n",
      "\u001b[32m[I 2023-05-03 14:00:56,789]\u001b[0m Trial 372 finished with values: [0.7465277777777778, 0.0] and parameters: {'seed': 6748}. \u001b[0m\n",
      "\u001b[32m[I 2023-05-03 14:00:56,814]\u001b[0m Trial 373 finished with values: [0.9722222222222223, 0.0] and parameters: {'seed': 871}. \u001b[0m\n",
      "\u001b[32m[I 2023-05-03 14:00:57,310]\u001b[0m Trial 378 finished with values: [0.9930555555555555, 0.0] and parameters: {'seed': 9100}. \u001b[0m\n",
      "\u001b[32m[I 2023-05-03 14:00:57,361]\u001b[0m Trial 375 finished with values: [0.9305555555555555, 0.0] and parameters: {'seed': 75}. \u001b[0m\n",
      "\u001b[32m[I 2023-05-03 14:00:57,480]\u001b[0m Trial 371 finished with values: [0.8958333333333333, 0.12231943011283875] and parameters: {'seed': 8412}. \u001b[0m\n",
      "\u001b[32m[I 2023-05-03 14:00:57,619]\u001b[0m Trial 377 finished with values: [1.0, 0.0] and parameters: {'seed': 7867}. \u001b[0m\n",
      "\u001b[32m[I 2023-05-03 14:00:57,786]\u001b[0m Trial 379 finished with values: [0.9722222222222223, 0.0] and parameters: {'seed': 7394}. \u001b[0m\n",
      "\u001b[32m[I 2023-05-03 14:00:58,004]\u001b[0m Trial 383 finished with values: [1.0, 0.0] and parameters: {'seed': 1490}. \u001b[0m\n",
      "\u001b[32m[I 2023-05-03 14:00:58,147]\u001b[0m Trial 376 finished with values: [0.8888888888888888, 0.0] and parameters: {'seed': 5720}. \u001b[0m\n",
      "\u001b[32m[I 2023-05-03 14:00:58,189]\u001b[0m Trial 380 finished with values: [0.9930555555555555, 0.0] and parameters: {'seed': 7109}. \u001b[0m\n",
      "\u001b[32m[I 2023-05-03 14:00:58,322]\u001b[0m Trial 385 finished with values: [0.9791666666666666, 0.11067215353250504] and parameters: {'seed': 6621}. \u001b[0m\n",
      "\u001b[32m[I 2023-05-03 14:00:58,496]\u001b[0m Trial 384 finished with values: [0.8472222222222222, 0.0] and parameters: {'seed': 4704}. \u001b[0m\n",
      "\u001b[32m[I 2023-05-03 14:00:58,541]\u001b[0m Trial 389 finished with values: [0.9722222222222223, 0.0] and parameters: {'seed': 3277}. \u001b[0m\n",
      "\u001b[32m[I 2023-05-03 14:00:58,589]\u001b[0m Trial 381 finished with values: [0.9583333333333333, 0.11087602376937866] and parameters: {'seed': 1326}. \u001b[0m\n",
      "\u001b[32m[I 2023-05-03 14:00:58,679]\u001b[0m Trial 382 finished with values: [1.0, 0.0] and parameters: {'seed': 87}. \u001b[0m\n",
      "\u001b[32m[I 2023-05-03 14:00:58,690]\u001b[0m Trial 388 finished with values: [0.9166666666666666, 0.06273142993450165] and parameters: {'seed': 4791}. \u001b[0m\n",
      "\u001b[32m[I 2023-05-03 14:00:58,820]\u001b[0m Trial 391 finished with values: [1.0, 0.0] and parameters: {'seed': 774}. \u001b[0m\n",
      "\u001b[32m[I 2023-05-03 14:00:59,048]\u001b[0m Trial 387 finished with values: [0.9861111111111112, 0.0637345239520073] and parameters: {'seed': 4957}. \u001b[0m\n",
      "\u001b[32m[I 2023-05-03 14:00:59,080]\u001b[0m Trial 386 finished with values: [1.0, 0.0] and parameters: {'seed': 3607}. \u001b[0m\n",
      "\u001b[32m[I 2023-05-03 14:00:59,086]\u001b[0m Trial 393 finished with values: [0.9305555555555556, 0.0] and parameters: {'seed': 6553}. \u001b[0m\n",
      "\u001b[32m[I 2023-05-03 14:00:59,402]\u001b[0m Trial 390 finished with values: [1.0, 0.0] and parameters: {'seed': 2532}. \u001b[0m\n",
      "\u001b[32m[I 2023-05-03 14:00:59,422]\u001b[0m Trial 392 finished with values: [1.0, 0.0] and parameters: {'seed': 975}. \u001b[0m\n",
      "\u001b[32m[I 2023-05-03 14:00:59,442]\u001b[0m Trial 394 finished with values: [0.9444444444444445, 0.0] and parameters: {'seed': 6491}. \u001b[0m\n",
      "\u001b[32m[I 2023-05-03 14:00:59,648]\u001b[0m Trial 395 finished with values: [1.0, 0.0] and parameters: {'seed': 4492}. \u001b[0m\n",
      "\u001b[32m[I 2023-05-03 14:00:59,792]\u001b[0m Trial 396 finished with values: [1.0, 0.27984821796417236] and parameters: {'seed': 165}. \u001b[0m\n",
      "\u001b[32m[I 2023-05-03 14:01:00,155]\u001b[0m Trial 398 finished with values: [1.0, 0.0] and parameters: {'seed': 34}. \u001b[0m\n",
      "\u001b[32m[I 2023-05-03 14:01:00,210]\u001b[0m Trial 397 finished with values: [0.9930555555555555, 0.0] and parameters: {'seed': 5222}. \u001b[0m\n",
      "\u001b[32m[I 2023-05-03 14:01:00,279]\u001b[0m Trial 400 finished with values: [0.9305555555555555, 0.0] and parameters: {'seed': 5327}. \u001b[0m\n",
      "\u001b[32m[I 2023-05-03 14:01:00,323]\u001b[0m Trial 401 finished with values: [0.9166666666666666, 0.0] and parameters: {'seed': 8094}. \u001b[0m\n",
      "\u001b[32m[I 2023-05-03 14:01:00,655]\u001b[0m Trial 399 finished with values: [0.9166666666666667, 0.0] and parameters: {'seed': 1120}. \u001b[0m\n",
      "\u001b[32m[I 2023-05-03 14:01:00,936]\u001b[0m Trial 407 finished with values: [0.888888888888889, 0.09423454850912094] and parameters: {'seed': 7065}. \u001b[0m\n",
      "\u001b[32m[I 2023-05-03 14:01:00,965]\u001b[0m Trial 403 finished with values: [0.9097222222222223, 0.0] and parameters: {'seed': 769}. \u001b[0m\n",
      "\u001b[32m[I 2023-05-03 14:01:00,998]\u001b[0m Trial 406 finished with values: [0.9027777777777778, 0.0] and parameters: {'seed': 7000}. \u001b[0m\n",
      "\u001b[32m[I 2023-05-03 14:01:01,127]\u001b[0m Trial 408 finished with values: [1.0, 0.0] and parameters: {'seed': 9458}. \u001b[0m\n",
      "\u001b[32m[I 2023-05-03 14:01:01,165]\u001b[0m Trial 404 finished with values: [0.9409722222222222, 0.0] and parameters: {'seed': 3671}. \u001b[0m\n",
      "\u001b[32m[I 2023-05-03 14:01:01,244]\u001b[0m Trial 410 finished with values: [0.9652777777777778, 0.4737052619457245] and parameters: {'seed': 6455}. \u001b[0m\n",
      "\u001b[32m[I 2023-05-03 14:01:01,332]\u001b[0m Trial 411 finished with values: [0.888888888888889, 0.25821682810783386] and parameters: {'seed': 8225}. \u001b[0m\n",
      "\u001b[32m[I 2023-05-03 14:01:01,574]\u001b[0m Trial 402 finished with values: [0.9930555555555555, 0.16690365970134735] and parameters: {'seed': 2739}. \u001b[0m\n",
      "\u001b[32m[I 2023-05-03 14:01:01,828]\u001b[0m Trial 414 finished with values: [0.9652777777777778, 0.0] and parameters: {'seed': 7905}. \u001b[0m\n",
      "\u001b[32m[I 2023-05-03 14:01:01,948]\u001b[0m Trial 412 finished with values: [0.9513888888888888, 0.22528934478759766] and parameters: {'seed': 689}. \u001b[0m\n",
      "\u001b[32m[I 2023-05-03 14:01:01,948]\u001b[0m Trial 409 finished with values: [0.9722222222222223, 0.0] and parameters: {'seed': 9216}. \u001b[0m\n",
      "\u001b[32m[I 2023-05-03 14:01:02,107]\u001b[0m Trial 413 finished with values: [0.9166666666666667, 0.14084939658641815] and parameters: {'seed': 2605}. \u001b[0m\n",
      "\u001b[32m[I 2023-05-03 14:01:02,195]\u001b[0m Trial 405 finished with values: [0.9791666666666666, 0.30475544929504395] and parameters: {'seed': 9426}. \u001b[0m\n",
      "\u001b[32m[I 2023-05-03 14:01:02,249]\u001b[0m Trial 415 finished with values: [0.9097222222222223, 0.0] and parameters: {'seed': 8062}. \u001b[0m\n",
      "\u001b[32m[I 2023-05-03 14:01:02,575]\u001b[0m Trial 416 finished with values: [0.9374999999999999, 0.0] and parameters: {'seed': 8068}. \u001b[0m\n",
      "\u001b[32m[I 2023-05-03 14:01:02,659]\u001b[0m Trial 417 finished with values: [0.923611111111111, 0.0] and parameters: {'seed': 4582}. \u001b[0m\n",
      "\u001b[32m[I 2023-05-03 14:01:02,746]\u001b[0m Trial 418 finished with values: [0.9722222222222223, 0.0] and parameters: {'seed': 9020}. \u001b[0m\n",
      "\u001b[32m[I 2023-05-03 14:01:03,167]\u001b[0m Trial 419 finished with values: [0.9097222222222223, 0.0] and parameters: {'seed': 7412}. \u001b[0m\n",
      "\u001b[32m[I 2023-05-03 14:01:03,212]\u001b[0m Trial 426 finished with values: [0.9375, 0.0] and parameters: {'seed': 2444}. \u001b[0m\n",
      "\u001b[32m[I 2023-05-03 14:01:03,314]\u001b[0m Trial 422 finished with values: [0.9305555555555556, 0.0] and parameters: {'seed': 7814}. \u001b[0m\n",
      "\u001b[32m[I 2023-05-03 14:01:03,387]\u001b[0m Trial 421 finished with values: [0.9791666666666666, 0.0] and parameters: {'seed': 2968}. \u001b[0m\n",
      "\u001b[32m[I 2023-05-03 14:01:03,575]\u001b[0m Trial 424 finished with values: [0.9930555555555555, 0.0] and parameters: {'seed': 2746}. \u001b[0m\n",
      "\u001b[32m[I 2023-05-03 14:01:03,643]\u001b[0m Trial 423 finished with values: [0.9444444444444444, 0.12231554836034775] and parameters: {'seed': 6336}. \u001b[0m\n",
      "\u001b[32m[I 2023-05-03 14:01:03,733]\u001b[0m Trial 428 finished with values: [0.8611111111111112, 0.1416483074426651] and parameters: {'seed': 4663}. \u001b[0m\n",
      "\u001b[32m[I 2023-05-03 14:01:03,998]\u001b[0m Trial 420 finished with values: [1.0, 0.0] and parameters: {'seed': 5418}. \u001b[0m\n",
      "\u001b[32m[I 2023-05-03 14:01:04,083]\u001b[0m Trial 427 finished with values: [0.9652777777777779, 0.0] and parameters: {'seed': 8130}. \u001b[0m\n",
      "\u001b[32m[I 2023-05-03 14:01:04,107]\u001b[0m Trial 430 finished with values: [0.9166666666666667, 0.0] and parameters: {'seed': 7996}. \u001b[0m\n",
      "\u001b[32m[I 2023-05-03 14:01:04,265]\u001b[0m Trial 434 finished with values: [0.9930555555555555, 0.0] and parameters: {'seed': 4433}. \u001b[0m\n",
      "\u001b[32m[I 2023-05-03 14:01:04,413]\u001b[0m Trial 433 finished with values: [1.0, 0.0] and parameters: {'seed': 597}. \u001b[0m\n",
      "\u001b[32m[I 2023-05-03 14:01:04,441]\u001b[0m Trial 432 finished with values: [1.0, 0.0] and parameters: {'seed': 5675}. \u001b[0m\n",
      "\u001b[32m[I 2023-05-03 14:01:04,543]\u001b[0m Trial 436 finished with values: [1.0, 0.09400855749845505] and parameters: {'seed': 8856}. \u001b[0m\n",
      "\u001b[32m[I 2023-05-03 14:01:04,618]\u001b[0m Trial 431 finished with values: [1.0, 0.465649276971817] and parameters: {'seed': 5045}. \u001b[0m\n",
      "\u001b[32m[I 2023-05-03 14:01:04,647]\u001b[0m Trial 429 finished with values: [0.9930555555555555, 0.0] and parameters: {'seed': 1136}. \u001b[0m\n",
      "\u001b[32m[I 2023-05-03 14:01:04,678]\u001b[0m Trial 435 finished with values: [0.9791666666666666, 0.6262168288230896] and parameters: {'seed': 5870}. \u001b[0m\n",
      "\u001b[32m[I 2023-05-03 14:01:04,743]\u001b[0m Trial 425 finished with values: [0.9722222222222223, 0.0] and parameters: {'seed': 4794}. \u001b[0m\n",
      "\u001b[32m[I 2023-05-03 14:01:04,974]\u001b[0m Trial 437 finished with values: [0.9652777777777778, 0.0] and parameters: {'seed': 5390}. \u001b[0m\n",
      "\u001b[32m[I 2023-05-03 14:01:05,150]\u001b[0m Trial 438 finished with values: [0.9583333333333334, 0.07809596508741379] and parameters: {'seed': 1911}. \u001b[0m\n",
      "\u001b[32m[I 2023-05-03 14:01:05,431]\u001b[0m Trial 442 finished with values: [0.9583333333333333, 0.0] and parameters: {'seed': 6283}. \u001b[0m\n",
      "\u001b[32m[I 2023-05-03 14:01:05,500]\u001b[0m Trial 441 finished with values: [0.8263888888888888, 0.0] and parameters: {'seed': 6660}. \u001b[0m\n",
      "\u001b[32m[I 2023-05-03 14:01:05,550]\u001b[0m Trial 440 finished with values: [1.0, 0.0] and parameters: {'seed': 352}. \u001b[0m\n",
      "\u001b[32m[I 2023-05-03 14:01:05,724]\u001b[0m Trial 444 finished with values: [0.986111111111111, 0.46959367394447327] and parameters: {'seed': 5661}. \u001b[0m\n",
      "\u001b[32m[I 2023-05-03 14:01:05,842]\u001b[0m Trial 439 finished with values: [0.857638888888889, 0.3581268787384033] and parameters: {'seed': 4953}. \u001b[0m\n",
      "\u001b[32m[I 2023-05-03 14:01:05,872]\u001b[0m Trial 445 finished with values: [1.0, 0.0] and parameters: {'seed': 4118}. \u001b[0m\n",
      "\u001b[32m[I 2023-05-03 14:01:05,972]\u001b[0m Trial 443 finished with values: [0.8819444444444444, 0.3388737440109253] and parameters: {'seed': 8787}. \u001b[0m\n",
      "\u001b[32m[I 2023-05-03 14:01:06,143]\u001b[0m Trial 446 finished with values: [0.9861111111111112, 0.11384844779968262] and parameters: {'seed': 3615}. \u001b[0m\n",
      "\u001b[32m[I 2023-05-03 14:01:06,166]\u001b[0m Trial 450 finished with values: [0.923611111111111, 0.0] and parameters: {'seed': 9079}. \u001b[0m\n",
      "\u001b[32m[I 2023-05-03 14:01:06,367]\u001b[0m Trial 453 finished with values: [0.9722222222222222, 0.0] and parameters: {'seed': 382}. \u001b[0m\n",
      "\u001b[32m[I 2023-05-03 14:01:06,420]\u001b[0m Trial 447 finished with values: [0.9444444444444445, 0.0] and parameters: {'seed': 2566}. \u001b[0m\n",
      "\u001b[32m[I 2023-05-03 14:01:06,457]\u001b[0m Trial 449 finished with values: [0.9583333333333333, 0.0] and parameters: {'seed': 7631}. \u001b[0m\n",
      "\u001b[32m[I 2023-05-03 14:01:06,532]\u001b[0m Trial 448 finished with values: [1.0, 0.15521912276744843] and parameters: {'seed': 8117}. \u001b[0m\n",
      "\u001b[32m[I 2023-05-03 14:01:06,756]\u001b[0m Trial 451 finished with values: [1.0, 0.0] and parameters: {'seed': 7240}. \u001b[0m\n",
      "\u001b[32m[I 2023-05-03 14:01:06,862]\u001b[0m Trial 455 finished with values: [0.875, 0.0] and parameters: {'seed': 6457}. \u001b[0m\n",
      "\u001b[32m[I 2023-05-03 14:01:07,179]\u001b[0m Trial 452 finished with values: [0.9722222222222222, 0.0] and parameters: {'seed': 1848}. \u001b[0m\n",
      "\u001b[32m[I 2023-05-03 14:01:07,268]\u001b[0m Trial 458 finished with values: [0.9722222222222222, 0.0] and parameters: {'seed': 4318}. \u001b[0m\n",
      "\u001b[32m[I 2023-05-03 14:01:07,279]\u001b[0m Trial 454 finished with values: [0.9930555555555555, 0.0] and parameters: {'seed': 8472}. \u001b[0m\n",
      "\u001b[32m[I 2023-05-03 14:01:07,293]\u001b[0m Trial 456 finished with values: [0.9375, 0.09678399562835693] and parameters: {'seed': 4687}. \u001b[0m\n",
      "\u001b[32m[I 2023-05-03 14:01:07,367]\u001b[0m Trial 457 finished with values: [1.0, 0.0] and parameters: {'seed': 705}. \u001b[0m\n",
      "\u001b[32m[I 2023-05-03 14:01:07,714]\u001b[0m Trial 460 finished with values: [0.8958333333333334, 0.0] and parameters: {'seed': 7894}. \u001b[0m\n",
      "\u001b[32m[I 2023-05-03 14:01:07,792]\u001b[0m Trial 464 finished with values: [0.9097222222222222, 0.0] and parameters: {'seed': 8500}. \u001b[0m\n",
      "\u001b[32m[I 2023-05-03 14:01:07,819]\u001b[0m Trial 461 finished with values: [0.8819444444444444, 0.0] and parameters: {'seed': 2053}. \u001b[0m\n",
      "\u001b[32m[I 2023-05-03 14:01:07,850]\u001b[0m Trial 459 finished with values: [0.9166666666666667, 0.0] and parameters: {'seed': 5724}. \u001b[0m\n",
      "\u001b[32m[I 2023-05-03 14:01:08,044]\u001b[0m Trial 466 finished with values: [0.8819444444444444, 0.0] and parameters: {'seed': 783}. \u001b[0m\n",
      "\u001b[32m[I 2023-05-03 14:01:08,227]\u001b[0m Trial 467 finished with values: [0.9444444444444444, 0.052293602377176285] and parameters: {'seed': 4192}. \u001b[0m\n",
      "\u001b[32m[I 2023-05-03 14:01:08,414]\u001b[0m Trial 470 finished with values: [0.8229166666666667, 0.4612003564834595] and parameters: {'seed': 3531}. \u001b[0m\n",
      "\u001b[32m[I 2023-05-03 14:01:08,453]\u001b[0m Trial 465 finished with values: [0.986111111111111, 0.0] and parameters: {'seed': 9642}. \u001b[0m\n",
      "\u001b[32m[I 2023-05-03 14:01:08,655]\u001b[0m Trial 462 finished with values: [1.0, 0.0] and parameters: {'seed': 9275}. \u001b[0m\n",
      "\u001b[32m[I 2023-05-03 14:01:08,665]\u001b[0m Trial 468 finished with values: [0.9791666666666667, 0.0] and parameters: {'seed': 2880}. \u001b[0m\n",
      "\u001b[32m[I 2023-05-03 14:01:08,861]\u001b[0m Trial 473 finished with values: [0.9444444444444444, 0.25852498412132263] and parameters: {'seed': 690}. \u001b[0m\n",
      "\u001b[32m[I 2023-05-03 14:01:08,924]\u001b[0m Trial 472 finished with values: [0.9166666666666666, 0.1984582096338272] and parameters: {'seed': 618}. \u001b[0m\n",
      "\u001b[32m[I 2023-05-03 14:01:09,066]\u001b[0m Trial 469 finished with values: [1.0, 0.0] and parameters: {'seed': 7923}. \u001b[0m\n",
      "\u001b[32m[I 2023-05-03 14:01:09,090]\u001b[0m Trial 471 finished with values: [1.0, 0.0] and parameters: {'seed': 4651}. \u001b[0m\n",
      "\u001b[32m[I 2023-05-03 14:01:09,381]\u001b[0m Trial 463 finished with values: [0.9444444444444445, 0.0] and parameters: {'seed': 9286}. \u001b[0m\n",
      "\u001b[32m[I 2023-05-03 14:01:09,582]\u001b[0m Trial 474 finished with values: [0.9791666666666666, 0.15554609894752502] and parameters: {'seed': 3020}. \u001b[0m\n",
      "\u001b[32m[I 2023-05-03 14:01:09,847]\u001b[0m Trial 478 finished with values: [0.8125, 0.0] and parameters: {'seed': 1841}. \u001b[0m\n",
      "\u001b[32m[I 2023-05-03 14:01:09,960]\u001b[0m Trial 476 finished with values: [0.986111111111111, 0.0] and parameters: {'seed': 3053}. \u001b[0m\n",
      "\u001b[32m[I 2023-05-03 14:01:10,033]\u001b[0m Trial 475 finished with values: [0.8819444444444444, 0.0] and parameters: {'seed': 1967}. \u001b[0m\n",
      "\u001b[32m[I 2023-05-03 14:01:10,092]\u001b[0m Trial 479 finished with values: [0.9444444444444444, 0.0] and parameters: {'seed': 6905}. \u001b[0m\n",
      "\u001b[32m[I 2023-05-03 14:01:10,261]\u001b[0m Trial 480 finished with values: [1.0, 0.0] and parameters: {'seed': 3924}. \u001b[0m\n",
      "\u001b[32m[I 2023-05-03 14:01:10,375]\u001b[0m Trial 477 finished with values: [0.8958333333333333, 0.0] and parameters: {'seed': 1231}. \u001b[0m\n",
      "\u001b[32m[I 2023-05-03 14:01:10,428]\u001b[0m Trial 482 finished with values: [0.9791666666666666, 0.0] and parameters: {'seed': 6536}. \u001b[0m\n",
      "\u001b[32m[I 2023-05-03 14:01:10,540]\u001b[0m Trial 481 finished with values: [0.9375, 0.05242340266704559] and parameters: {'seed': 1887}. \u001b[0m\n",
      "\u001b[32m[I 2023-05-03 14:01:10,784]\u001b[0m Trial 484 finished with values: [0.7569444444444444, 0.09242526441812515] and parameters: {'seed': 6001}. \u001b[0m\n",
      "\u001b[32m[I 2023-05-03 14:01:10,813]\u001b[0m Trial 486 finished with values: [0.9097222222222222, 0.0] and parameters: {'seed': 9998}. \u001b[0m\n",
      "\u001b[32m[I 2023-05-03 14:01:10,955]\u001b[0m Trial 483 finished with values: [0.9305555555555556, 0.0] and parameters: {'seed': 8849}. \u001b[0m\n",
      "\u001b[32m[I 2023-05-03 14:01:10,975]\u001b[0m Trial 485 finished with values: [1.0, 0.0] and parameters: {'seed': 9236}. \u001b[0m\n",
      "\u001b[32m[I 2023-05-03 14:01:11,016]\u001b[0m Trial 490 finished with values: [0.9027777777777778, 0.0] and parameters: {'seed': 4070}. \u001b[0m\n",
      "\u001b[32m[I 2023-05-03 14:01:11,178]\u001b[0m Trial 489 finished with values: [0.9861111111111112, 0.0] and parameters: {'seed': 4984}. \u001b[0m\n",
      "\u001b[32m[I 2023-05-03 14:01:11,308]\u001b[0m Trial 493 finished with values: [0.9652777777777778, 0.0] and parameters: {'seed': 909}. \u001b[0m\n",
      "\u001b[32m[I 2023-05-03 14:01:11,473]\u001b[0m Trial 488 finished with values: [0.9791666666666666, 0.0] and parameters: {'seed': 6918}. \u001b[0m\n",
      "\u001b[32m[I 2023-05-03 14:01:11,576]\u001b[0m Trial 491 finished with values: [0.90625, 0.0] and parameters: {'seed': 200}. \u001b[0m\n",
      "\u001b[32m[I 2023-05-03 14:01:11,641]\u001b[0m Trial 487 finished with values: [0.9513888888888888, 0.20670254528522491] and parameters: {'seed': 7822}. \u001b[0m\n",
      "\u001b[32m[I 2023-05-03 14:01:11,823]\u001b[0m Trial 492 finished with values: [0.9375, 0.23338407278060913] and parameters: {'seed': 9860}. \u001b[0m\n",
      "\u001b[32m[I 2023-05-03 14:01:12,199]\u001b[0m Trial 496 finished with values: [0.9722222222222222, 0.0] and parameters: {'seed': 2683}. \u001b[0m\n",
      "\u001b[32m[I 2023-05-03 14:01:12,532]\u001b[0m Trial 500 finished with values: [1.0, 0.0] and parameters: {'seed': 7761}. \u001b[0m\n",
      "\u001b[32m[I 2023-05-03 14:01:12,568]\u001b[0m Trial 497 finished with values: [0.90625, 0.0] and parameters: {'seed': 8890}. \u001b[0m\n",
      "\u001b[32m[I 2023-05-03 14:01:12,781]\u001b[0m Trial 495 finished with values: [0.9236111111111112, 0.4023260176181793] and parameters: {'seed': 1556}. \u001b[0m\n",
      "\u001b[32m[I 2023-05-03 14:01:12,790]\u001b[0m Trial 498 finished with values: [0.9305555555555556, 0.0] and parameters: {'seed': 3397}. \u001b[0m\n",
      "\u001b[32m[I 2023-05-03 14:01:12,803]\u001b[0m Trial 499 finished with values: [0.9027777777777778, 0.2077627032995224] and parameters: {'seed': 2497}. \u001b[0m\n",
      "\u001b[32m[I 2023-05-03 14:01:12,826]\u001b[0m Trial 502 finished with values: [0.9791666666666667, 0.21945281326770782] and parameters: {'seed': 3625}. \u001b[0m\n",
      "\u001b[32m[I 2023-05-03 14:01:12,830]\u001b[0m Trial 507 finished with values: [0.986111111111111, 0.0] and parameters: {'seed': 5017}. \u001b[0m\n",
      "\u001b[32m[I 2023-05-03 14:01:12,899]\u001b[0m Trial 501 finished with values: [0.9513888888888888, 0.0] and parameters: {'seed': 6726}. \u001b[0m\n",
      "\u001b[32m[I 2023-05-03 14:01:13,017]\u001b[0m Trial 506 finished with values: [0.9652777777777778, 0.0] and parameters: {'seed': 4225}. \u001b[0m\n",
      "\u001b[32m[I 2023-05-03 14:01:13,077]\u001b[0m Trial 503 finished with values: [0.9791666666666667, 0.0] and parameters: {'seed': 1434}. \u001b[0m\n",
      "\u001b[32m[I 2023-05-03 14:01:13,171]\u001b[0m Trial 494 finished with values: [0.9722222222222222, 0.0] and parameters: {'seed': 3874}. \u001b[0m\n",
      "\u001b[32m[I 2023-05-03 14:01:13,330]\u001b[0m Trial 505 finished with values: [0.9444444444444444, 0.0] and parameters: {'seed': 4226}. \u001b[0m\n",
      "\u001b[32m[I 2023-05-03 14:01:13,414]\u001b[0m Trial 511 finished with values: [0.9131944444444444, 0.0] and parameters: {'seed': 6097}. \u001b[0m\n",
      "\u001b[32m[I 2023-05-03 14:01:13,734]\u001b[0m Trial 508 finished with values: [0.8819444444444444, 0.0] and parameters: {'seed': 231}. \u001b[0m\n",
      "\u001b[32m[I 2023-05-03 14:01:13,770]\u001b[0m Trial 504 finished with values: [1.0, 0.0] and parameters: {'seed': 4827}. \u001b[0m\n",
      "\u001b[32m[I 2023-05-03 14:01:14,003]\u001b[0m Trial 512 finished with values: [0.9375, 0.0] and parameters: {'seed': 8977}. \u001b[0m\n",
      "\u001b[32m[I 2023-05-03 14:01:14,220]\u001b[0m Trial 509 finished with values: [1.0, 0.20743004977703094] and parameters: {'seed': 836}. \u001b[0m\n",
      "\u001b[32m[I 2023-05-03 14:01:14,466]\u001b[0m Trial 514 finished with values: [0.888888888888889, 0.0] and parameters: {'seed': 9665}. \u001b[0m\n",
      "\u001b[32m[I 2023-05-03 14:01:14,474]\u001b[0m Trial 510 finished with values: [0.9583333333333334, 0.25977206230163574] and parameters: {'seed': 7859}. \u001b[0m\n",
      "\u001b[32m[I 2023-05-03 14:01:14,523]\u001b[0m Trial 516 finished with values: [0.7569444444444444, 0.0] and parameters: {'seed': 1512}. \u001b[0m\n",
      "\u001b[32m[I 2023-05-03 14:01:14,642]\u001b[0m Trial 518 finished with values: [1.0, 0.0] and parameters: {'seed': 4133}. \u001b[0m\n",
      "\u001b[32m[I 2023-05-03 14:01:14,763]\u001b[0m Trial 517 finished with values: [0.8402777777777777, 0.0] and parameters: {'seed': 4793}. \u001b[0m\n",
      "\u001b[32m[I 2023-05-03 14:01:14,901]\u001b[0m Trial 513 finished with values: [1.0, 0.0] and parameters: {'seed': 2973}. \u001b[0m\n",
      "\u001b[32m[I 2023-05-03 14:01:14,967]\u001b[0m Trial 519 finished with values: [0.9652777777777778, 0.0] and parameters: {'seed': 4330}. \u001b[0m\n",
      "\u001b[32m[I 2023-05-03 14:01:15,021]\u001b[0m Trial 520 finished with values: [0.951388888888889, 0.0] and parameters: {'seed': 5843}. \u001b[0m\n",
      "\u001b[32m[I 2023-05-03 14:01:15,036]\u001b[0m Trial 523 finished with values: [0.9722222222222223, 0.0] and parameters: {'seed': 104}. \u001b[0m\n",
      "\u001b[32m[I 2023-05-03 14:01:15,089]\u001b[0m Trial 526 finished with values: [0.9930555555555555, 0.0] and parameters: {'seed': 587}. \u001b[0m\n",
      "\u001b[32m[I 2023-05-03 14:01:15,281]\u001b[0m Trial 522 finished with values: [0.9583333333333333, 0.0] and parameters: {'seed': 4463}. \u001b[0m\n",
      "\u001b[32m[I 2023-05-03 14:01:15,290]\u001b[0m Trial 515 finished with values: [1.0, 0.0] and parameters: {'seed': 1955}. \u001b[0m\n",
      "\u001b[32m[I 2023-05-03 14:01:15,354]\u001b[0m Trial 524 finished with values: [1.0, 0.0] and parameters: {'seed': 7601}. \u001b[0m\n",
      "\u001b[32m[I 2023-05-03 14:01:15,590]\u001b[0m Trial 527 finished with values: [0.826388888888889, 0.0] and parameters: {'seed': 7930}. \u001b[0m\n",
      "\u001b[32m[I 2023-05-03 14:01:15,928]\u001b[0m Trial 525 finished with values: [0.9583333333333333, 0.1480538696050644] and parameters: {'seed': 8592}. \u001b[0m\n",
      "\u001b[32m[I 2023-05-03 14:01:15,959]\u001b[0m Trial 521 finished with values: [1.0, 0.0] and parameters: {'seed': 6926}. \u001b[0m\n",
      "\u001b[32m[I 2023-05-03 14:01:16,170]\u001b[0m Trial 530 finished with values: [0.9652777777777778, 0.0] and parameters: {'seed': 6583}. \u001b[0m\n",
      "\u001b[32m[I 2023-05-03 14:01:16,320]\u001b[0m Trial 531 finished with values: [0.9166666666666666, 0.0] and parameters: {'seed': 2124}. \u001b[0m\n",
      "\u001b[32m[I 2023-05-03 14:01:16,474]\u001b[0m Trial 528 finished with values: [0.875, 0.15579694509506226] and parameters: {'seed': 2503}. \u001b[0m\n",
      "\u001b[32m[I 2023-05-03 14:01:16,475]\u001b[0m Trial 534 finished with values: [0.9097222222222222, 0.0] and parameters: {'seed': 4155}. \u001b[0m\n",
      "\u001b[32m[I 2023-05-03 14:01:16,753]\u001b[0m Trial 533 finished with values: [1.0, 0.0] and parameters: {'seed': 6016}. \u001b[0m\n",
      "\u001b[32m[I 2023-05-03 14:01:16,814]\u001b[0m Trial 537 finished with values: [0.9930555555555555, 0.0] and parameters: {'seed': 8334}. \u001b[0m\n",
      "\u001b[32m[I 2023-05-03 14:01:16,995]\u001b[0m Trial 529 finished with values: [0.9375, 0.13459084928035736] and parameters: {'seed': 4711}. \u001b[0m\n",
      "\u001b[32m[I 2023-05-03 14:01:17,139]\u001b[0m Trial 536 finished with values: [1.0, 0.0] and parameters: {'seed': 8122}. \u001b[0m\n",
      "\u001b[32m[I 2023-05-03 14:01:17,142]\u001b[0m Trial 539 finished with values: [1.0, 0.0] and parameters: {'seed': 1240}. \u001b[0m\n",
      "\u001b[32m[I 2023-05-03 14:01:17,253]\u001b[0m Trial 535 finished with values: [0.9027777777777778, 0.0] and parameters: {'seed': 500}. \u001b[0m\n",
      "\u001b[32m[I 2023-05-03 14:01:17,255]\u001b[0m Trial 532 finished with values: [0.9791666666666666, 0.0] and parameters: {'seed': 5016}. \u001b[0m\n",
      "\u001b[32m[I 2023-05-03 14:01:17,351]\u001b[0m Trial 541 finished with values: [0.9375, 0.19288097321987152] and parameters: {'seed': 2326}. \u001b[0m\n",
      "\u001b[32m[I 2023-05-03 14:01:17,834]\u001b[0m Trial 538 finished with values: [0.9027777777777778, 0.0] and parameters: {'seed': 3617}. \u001b[0m\n",
      "\u001b[32m[I 2023-05-03 14:01:18,055]\u001b[0m Trial 545 finished with values: [0.9097222222222221, 0.3540074825286865] and parameters: {'seed': 1894}. \u001b[0m\n",
      "\u001b[32m[I 2023-05-03 14:01:18,107]\u001b[0m Trial 544 finished with values: [0.8958333333333335, 0.0] and parameters: {'seed': 5515}. \u001b[0m\n",
      "\u001b[32m[I 2023-05-03 14:01:18,176]\u001b[0m Trial 540 finished with values: [1.0, 0.0] and parameters: {'seed': 2008}. \u001b[0m\n",
      "\u001b[32m[I 2023-05-03 14:01:18,238]\u001b[0m Trial 542 finished with values: [0.9097222222222222, 0.0] and parameters: {'seed': 2950}. \u001b[0m\n",
      "\u001b[32m[I 2023-05-03 14:01:18,252]\u001b[0m Trial 543 finished with values: [0.9236111111111112, 0.38512465357780457] and parameters: {'seed': 3465}. \u001b[0m\n",
      "\u001b[32m[I 2023-05-03 14:01:18,562]\u001b[0m Trial 546 finished with values: [0.888888888888889, 0.0] and parameters: {'seed': 3700}. \u001b[0m\n",
      "\u001b[32m[I 2023-05-03 14:01:18,621]\u001b[0m Trial 548 finished with values: [0.9652777777777777, 0.0] and parameters: {'seed': 1763}. \u001b[0m\n",
      "\u001b[32m[I 2023-05-03 14:01:19,197]\u001b[0m Trial 552 finished with values: [0.732638888888889, 0.0] and parameters: {'seed': 8210}. \u001b[0m\n",
      "\u001b[32m[I 2023-05-03 14:01:19,224]\u001b[0m Trial 549 finished with values: [0.9722222222222222, 0.0] and parameters: {'seed': 4055}. \u001b[0m\n",
      "\u001b[32m[I 2023-05-03 14:01:19,250]\u001b[0m Trial 550 finished with values: [0.9027777777777778, 0.0] and parameters: {'seed': 5792}. \u001b[0m\n",
      "\u001b[32m[I 2023-05-03 14:01:19,272]\u001b[0m Trial 554 finished with values: [0.9722222222222222, 0.0] and parameters: {'seed': 1218}. \u001b[0m\n",
      "\u001b[32m[I 2023-05-03 14:01:19,603]\u001b[0m Trial 547 finished with values: [0.8958333333333333, 0.4019499719142914] and parameters: {'seed': 95}. \u001b[0m\n",
      "\u001b[32m[I 2023-05-03 14:01:19,784]\u001b[0m Trial 557 finished with values: [0.9791666666666667, 0.0] and parameters: {'seed': 9122}. \u001b[0m\n",
      "\u001b[32m[I 2023-05-03 14:01:19,936]\u001b[0m Trial 551 finished with values: [0.923611111111111, 0.0] and parameters: {'seed': 92}. \u001b[0m\n",
      "\u001b[32m[I 2023-05-03 14:01:19,978]\u001b[0m Trial 559 finished with values: [1.0, 0.0] and parameters: {'seed': 5236}. \u001b[0m\n",
      "\u001b[32m[I 2023-05-03 14:01:19,999]\u001b[0m Trial 555 finished with values: [0.9166666666666667, 0.0] and parameters: {'seed': 4510}. \u001b[0m\n",
      "\u001b[32m[I 2023-05-03 14:01:20,109]\u001b[0m Trial 558 finished with values: [0.9652777777777778, 0.0959540605545044] and parameters: {'seed': 3725}. \u001b[0m\n",
      "\u001b[32m[I 2023-05-03 14:01:20,208]\u001b[0m Trial 553 finished with values: [0.9166666666666667, 0.3513300120830536] and parameters: {'seed': 5467}. \u001b[0m\n",
      "\u001b[32m[I 2023-05-03 14:01:20,266]\u001b[0m Trial 556 finished with values: [0.8611111111111112, 0.0] and parameters: {'seed': 9114}. \u001b[0m\n",
      "\u001b[32m[I 2023-05-03 14:01:20,592]\u001b[0m Trial 561 finished with values: [0.9583333333333333, 0.0] and parameters: {'seed': 2119}. \u001b[0m\n",
      "\u001b[32m[I 2023-05-03 14:01:20,769]\u001b[0m Trial 563 finished with values: [0.9861111111111112, 0.0] and parameters: {'seed': 7556}. \u001b[0m\n",
      "\u001b[32m[I 2023-05-03 14:01:20,800]\u001b[0m Trial 565 finished with values: [1.0, 0.0] and parameters: {'seed': 4138}. \u001b[0m\n",
      "\u001b[32m[I 2023-05-03 14:01:20,899]\u001b[0m Trial 567 finished with values: [0.9375, 0.0] and parameters: {'seed': 3651}. \u001b[0m\n",
      "\u001b[32m[I 2023-05-03 14:01:20,964]\u001b[0m Trial 560 finished with values: [0.9722222222222223, 0.0] and parameters: {'seed': 588}. \u001b[0m\n",
      "\u001b[32m[I 2023-05-03 14:01:21,237]\u001b[0m Trial 564 finished with values: [0.986111111111111, 0.0882701501250267] and parameters: {'seed': 7664}. \u001b[0m\n",
      "\u001b[32m[I 2023-05-03 14:01:21,256]\u001b[0m Trial 562 finished with values: [0.8958333333333333, 0.4019499719142914] and parameters: {'seed': 95}. \u001b[0m\n",
      "\u001b[32m[I 2023-05-03 14:01:21,688]\u001b[0m Trial 569 finished with values: [0.9652777777777778, 0.0] and parameters: {'seed': 9990}. \u001b[0m\n",
      "\u001b[32m[I 2023-05-03 14:01:21,766]\u001b[0m Trial 566 finished with values: [1.0, 0.0] and parameters: {'seed': 8984}. \u001b[0m\n",
      "\u001b[32m[I 2023-05-03 14:01:21,799]\u001b[0m Trial 570 finished with values: [1.0, 0.1768866777420044] and parameters: {'seed': 4253}. \u001b[0m\n",
      "\u001b[32m[I 2023-05-03 14:01:21,823]\u001b[0m Trial 573 finished with values: [0.9027777777777778, 0.0] and parameters: {'seed': 1224}. \u001b[0m\n",
      "\u001b[32m[I 2023-05-03 14:01:22,084]\u001b[0m Trial 572 finished with values: [0.9375000000000001, 0.0] and parameters: {'seed': 126}. \u001b[0m\n",
      "\u001b[32m[I 2023-05-03 14:01:22,220]\u001b[0m Trial 579 finished with values: [0.9861111111111112, 0.0] and parameters: {'seed': 4984}. \u001b[0m\n",
      "\u001b[32m[I 2023-05-03 14:01:22,225]\u001b[0m Trial 568 finished with values: [0.9722222222222223, 0.0] and parameters: {'seed': 3904}. \u001b[0m\n",
      "\u001b[32m[I 2023-05-03 14:01:22,321]\u001b[0m Trial 575 finished with values: [0.951388888888889, 0.210086390376091] and parameters: {'seed': 5245}. \u001b[0m\n",
      "\u001b[32m[I 2023-05-03 14:01:22,406]\u001b[0m Trial 571 finished with values: [1.0, 0.0] and parameters: {'seed': 3755}. \u001b[0m\n",
      "\u001b[32m[I 2023-05-03 14:01:22,629]\u001b[0m Trial 577 finished with values: [0.951388888888889, 0.1364762932062149] and parameters: {'seed': 3503}. \u001b[0m\n",
      "\u001b[32m[I 2023-05-03 14:01:22,702]\u001b[0m Trial 574 finished with values: [1.0, 0.0] and parameters: {'seed': 9481}. \u001b[0m\n",
      "\u001b[32m[I 2023-05-03 14:01:22,750]\u001b[0m Trial 576 finished with values: [0.986111111111111, 0.0] and parameters: {'seed': 3296}. \u001b[0m\n",
      "\u001b[32m[I 2023-05-03 14:01:22,997]\u001b[0m Trial 580 finished with values: [0.9930555555555555, 0.0] and parameters: {'seed': 3114}. \u001b[0m\n",
      "\u001b[32m[I 2023-05-03 14:01:23,101]\u001b[0m Trial 578 finished with values: [0.9131944444444444, 0.0] and parameters: {'seed': 488}. \u001b[0m\n",
      "\u001b[32m[I 2023-05-03 14:01:23,173]\u001b[0m Trial 581 finished with values: [0.9305555555555556, 0.0] and parameters: {'seed': 4402}. \u001b[0m\n",
      "\u001b[32m[I 2023-05-03 14:01:23,209]\u001b[0m Trial 584 finished with values: [0.875, 0.4845445156097412] and parameters: {'seed': 8775}. \u001b[0m\n",
      "\u001b[32m[I 2023-05-03 14:01:23,252]\u001b[0m Trial 583 finished with values: [0.9131944444444444, 0.1470198780298233] and parameters: {'seed': 7852}. \u001b[0m\n",
      "\u001b[32m[I 2023-05-03 14:01:23,550]\u001b[0m Trial 586 finished with values: [0.9444444444444444, 0.0] and parameters: {'seed': 3029}. \u001b[0m\n",
      "\u001b[32m[I 2023-05-03 14:01:23,601]\u001b[0m Trial 582 finished with values: [0.923611111111111, 0.2290831357240677] and parameters: {'seed': 8166}. \u001b[0m\n",
      "\u001b[32m[I 2023-05-03 14:01:23,784]\u001b[0m Trial 588 finished with values: [0.9930555555555555, 0.0] and parameters: {'seed': 1584}. \u001b[0m\n",
      "\u001b[32m[I 2023-05-03 14:01:24,126]\u001b[0m Trial 589 finished with values: [0.9236111111111112, 0.0] and parameters: {'seed': 9841}. \u001b[0m\n",
      "\u001b[32m[I 2023-05-03 14:01:24,139]\u001b[0m Trial 590 finished with values: [0.9791666666666666, 0.1631443351507187] and parameters: {'seed': 1503}. \u001b[0m\n",
      "\u001b[32m[I 2023-05-03 14:01:24,162]\u001b[0m Trial 587 finished with values: [0.9444444444444444, 0.0] and parameters: {'seed': 8579}. \u001b[0m\n",
      "\u001b[32m[I 2023-05-03 14:01:24,243]\u001b[0m Trial 585 finished with values: [0.9722222222222222, 0.2130107432603836] and parameters: {'seed': 5294}. \u001b[0m\n",
      "\u001b[32m[I 2023-05-03 14:01:24,356]\u001b[0m Trial 595 finished with values: [0.9444444444444444, 0.0] and parameters: {'seed': 7679}. \u001b[0m\n",
      "\u001b[32m[I 2023-05-03 14:01:24,692]\u001b[0m Trial 593 finished with values: [0.9479166666666666, 0.0] and parameters: {'seed': 7708}. \u001b[0m\n",
      "\u001b[32m[I 2023-05-03 14:01:24,700]\u001b[0m Trial 591 finished with values: [0.951388888888889, 0.0] and parameters: {'seed': 656}. \u001b[0m\n",
      "\u001b[32m[I 2023-05-03 14:01:24,736]\u001b[0m Trial 592 finished with values: [0.9930555555555555, 0.0] and parameters: {'seed': 341}. \u001b[0m\n",
      "\u001b[32m[I 2023-05-03 14:01:24,759]\u001b[0m Trial 594 finished with values: [0.9930555555555555, 0.20363561809062958] and parameters: {'seed': 7696}. \u001b[0m\n",
      "\u001b[32m[I 2023-05-03 14:01:25,070]\u001b[0m Trial 600 finished with values: [0.9027777777777779, 0.0] and parameters: {'seed': 9724}. \u001b[0m\n",
      "\u001b[32m[I 2023-05-03 14:01:25,215]\u001b[0m Trial 598 finished with values: [0.8819444444444445, 0.20482641458511353] and parameters: {'seed': 6467}. \u001b[0m\n",
      "\u001b[32m[I 2023-05-03 14:01:25,310]\u001b[0m Trial 596 finished with values: [0.9652777777777778, 0.0] and parameters: {'seed': 1277}. \u001b[0m\n",
      "\u001b[32m[I 2023-05-03 14:01:25,327]\u001b[0m Trial 597 finished with values: [1.0, 0.21682162582874298] and parameters: {'seed': 8878}. \u001b[0m\n",
      "\u001b[32m[I 2023-05-03 14:01:25,556]\u001b[0m Trial 603 finished with values: [0.8611111111111112, 0.08143331855535507] and parameters: {'seed': 1108}. \u001b[0m\n",
      "\u001b[32m[I 2023-05-03 14:01:25,779]\u001b[0m Trial 605 finished with values: [0.986111111111111, 0.11422000080347061] and parameters: {'seed': 7194}. \u001b[0m\n",
      "\u001b[32m[I 2023-05-03 14:01:26,256]\u001b[0m Trial 606 finished with values: [0.8541666666666666, 0.0] and parameters: {'seed': 2709}. \u001b[0m\n",
      "\u001b[32m[I 2023-05-03 14:01:26,297]\u001b[0m Trial 602 finished with values: [0.9861111111111112, 0.0] and parameters: {'seed': 7662}. \u001b[0m\n",
      "\u001b[32m[I 2023-05-03 14:01:26,403]\u001b[0m Trial 599 finished with values: [0.9791666666666666, 0.2639109790325165] and parameters: {'seed': 5577}. \u001b[0m\n",
      "\u001b[32m[I 2023-05-03 14:01:26,444]\u001b[0m Trial 607 finished with values: [0.9305555555555556, 0.3044005036354065] and parameters: {'seed': 8663}. \u001b[0m\n",
      "\u001b[32m[I 2023-05-03 14:01:26,477]\u001b[0m Trial 610 finished with values: [1.0, 0.0] and parameters: {'seed': 7107}. \u001b[0m\n",
      "\u001b[32m[I 2023-05-03 14:01:26,657]\u001b[0m Trial 604 finished with values: [0.9930555555555555, 0.0] and parameters: {'seed': 5349}. \u001b[0m\n",
      "\u001b[32m[I 2023-05-03 14:01:26,767]\u001b[0m Trial 601 finished with values: [0.9375, 0.0] and parameters: {'seed': 9627}. \u001b[0m\n",
      "\u001b[32m[I 2023-05-03 14:01:26,942]\u001b[0m Trial 609 finished with values: [0.9097222222222222, 0.4862182140350342] and parameters: {'seed': 6338}. \u001b[0m\n",
      "\u001b[32m[I 2023-05-03 14:01:27,078]\u001b[0m Trial 611 finished with values: [0.9166666666666666, 0.19331590831279755] and parameters: {'seed': 6689}. \u001b[0m\n",
      "\u001b[32m[I 2023-05-03 14:01:27,083]\u001b[0m Trial 608 finished with values: [0.9930555555555555, 0.0] and parameters: {'seed': 3210}. \u001b[0m\n",
      "\u001b[32m[I 2023-05-03 14:01:27,115]\u001b[0m Trial 615 finished with values: [0.9722222222222222, 0.0] and parameters: {'seed': 4362}. \u001b[0m\n",
      "\u001b[32m[I 2023-05-03 14:01:27,371]\u001b[0m Trial 614 finished with values: [1.0, 0.0] and parameters: {'seed': 3558}. \u001b[0m\n",
      "\u001b[32m[I 2023-05-03 14:01:27,385]\u001b[0m Trial 613 finished with values: [0.9722222222222222, 0.0] and parameters: {'seed': 3994}. \u001b[0m\n",
      "\u001b[32m[I 2023-05-03 14:01:27,428]\u001b[0m Trial 612 finished with values: [1.0, 0.1297808736562729] and parameters: {'seed': 5677}. \u001b[0m\n",
      "\u001b[32m[I 2023-05-03 14:01:27,823]\u001b[0m Trial 618 finished with values: [0.9791666666666666, 0.39499202370643616] and parameters: {'seed': 7840}. \u001b[0m\n",
      "\u001b[32m[I 2023-05-03 14:01:28,012]\u001b[0m Trial 617 finished with values: [0.8194444444444444, 0.0] and parameters: {'seed': 6584}. \u001b[0m\n",
      "\u001b[32m[I 2023-05-03 14:01:28,403]\u001b[0m Trial 619 finished with values: [0.9861111111111112, 0.0] and parameters: {'seed': 2941}. \u001b[0m\n",
      "\u001b[32m[I 2023-05-03 14:01:28,409]\u001b[0m Trial 616 finished with values: [0.9513888888888888, 0.07566823810338974] and parameters: {'seed': 4743}. \u001b[0m\n",
      "\u001b[32m[I 2023-05-03 14:01:28,490]\u001b[0m Trial 620 finished with values: [0.8888888888888888, 0.0] and parameters: {'seed': 723}. \u001b[0m\n",
      "\u001b[32m[I 2023-05-03 14:01:28,779]\u001b[0m Trial 621 finished with values: [0.9583333333333334, 0.0] and parameters: {'seed': 9652}. \u001b[0m\n",
      "\u001b[32m[I 2023-05-03 14:01:28,874]\u001b[0m Trial 622 finished with values: [0.9375, 0.0] and parameters: {'seed': 8402}. \u001b[0m\n",
      "\u001b[32m[I 2023-05-03 14:01:29,012]\u001b[0m Trial 628 finished with values: [0.9375, 0.0] and parameters: {'seed': 7224}. \u001b[0m\n",
      "\u001b[32m[I 2023-05-03 14:01:29,112]\u001b[0m Trial 627 finished with values: [0.9583333333333334, 0.0] and parameters: {'seed': 6654}. \u001b[0m\n",
      "\u001b[32m[I 2023-05-03 14:01:29,151]\u001b[0m Trial 624 finished with values: [0.951388888888889, 0.0] and parameters: {'seed': 6858}. \u001b[0m\n",
      "\u001b[32m[I 2023-05-03 14:01:29,158]\u001b[0m Trial 630 finished with values: [0.9305555555555556, 0.12991447746753693] and parameters: {'seed': 5853}. \u001b[0m\n",
      "\u001b[32m[I 2023-05-03 14:01:29,219]\u001b[0m Trial 632 finished with values: [0.9513888888888888, 0.0] and parameters: {'seed': 5828}. \u001b[0m\n",
      "\u001b[32m[I 2023-05-03 14:01:29,298]\u001b[0m Trial 626 finished with values: [0.8645833333333334, 0.07471245527267456] and parameters: {'seed': 7408}. \u001b[0m\n",
      "\u001b[32m[I 2023-05-03 14:01:29,501]\u001b[0m Trial 631 finished with values: [0.8055555555555556, 0.07127875834703445] and parameters: {'seed': 7735}. \u001b[0m\n",
      "\u001b[32m[I 2023-05-03 14:01:29,548]\u001b[0m Trial 623 finished with values: [0.9097222222222222, 0.07387989014387131] and parameters: {'seed': 8272}. \u001b[0m\n",
      "\u001b[32m[I 2023-05-03 14:01:29,612]\u001b[0m Trial 633 finished with values: [0.78125, 0.0] and parameters: {'seed': 7487}. \u001b[0m\n",
      "\u001b[32m[I 2023-05-03 14:01:29,744]\u001b[0m Trial 634 finished with values: [0.923611111111111, 0.0] and parameters: {'seed': 3509}. \u001b[0m\n",
      "\u001b[32m[I 2023-05-03 14:01:29,841]\u001b[0m Trial 636 finished with values: [0.9305555555555555, 0.0] and parameters: {'seed': 6407}. \u001b[0m\n",
      "\u001b[32m[I 2023-05-03 14:01:29,910]\u001b[0m Trial 625 finished with values: [1.0, 0.04141240939497948] and parameters: {'seed': 2182}. \u001b[0m\n",
      "\u001b[32m[I 2023-05-03 14:01:30,219]\u001b[0m Trial 629 finished with values: [0.9861111111111112, 0.0] and parameters: {'seed': 4181}. \u001b[0m\n",
      "\u001b[32m[I 2023-05-03 14:01:30,383]\u001b[0m Trial 639 finished with values: [0.986111111111111, 0.0] and parameters: {'seed': 6981}. \u001b[0m\n",
      "\u001b[32m[I 2023-05-03 14:01:30,583]\u001b[0m Trial 638 finished with values: [0.7569444444444444, 0.09242526441812515] and parameters: {'seed': 6001}. \u001b[0m\n",
      "\u001b[32m[I 2023-05-03 14:01:30,769]\u001b[0m Trial 635 finished with values: [0.8680555555555556, 0.0] and parameters: {'seed': 8073}. \u001b[0m\n",
      "\u001b[32m[I 2023-05-03 14:01:30,808]\u001b[0m Trial 641 finished with values: [0.9791666666666667, 0.0] and parameters: {'seed': 480}. \u001b[0m\n",
      "\u001b[32m[I 2023-05-03 14:01:30,809]\u001b[0m Trial 640 finished with values: [0.8055555555555556, 0.10501524060964584] and parameters: {'seed': 8132}. \u001b[0m\n",
      "\u001b[32m[I 2023-05-03 14:01:30,897]\u001b[0m Trial 637 finished with values: [1.0, 0.0] and parameters: {'seed': 70}. \u001b[0m\n",
      "\u001b[32m[I 2023-05-03 14:01:30,903]\u001b[0m Trial 642 finished with values: [0.8472222222222223, 0.0] and parameters: {'seed': 9159}. \u001b[0m\n",
      "\u001b[32m[I 2023-05-03 14:01:31,386]\u001b[0m Trial 647 finished with values: [0.9791666666666667, 0.0] and parameters: {'seed': 6716}. \u001b[0m\n",
      "\u001b[32m[I 2023-05-03 14:01:31,426]\u001b[0m Trial 645 finished with values: [0.9444444444444444, 0.0] and parameters: {'seed': 6465}. \u001b[0m\n",
      "\u001b[32m[I 2023-05-03 14:01:31,481]\u001b[0m Trial 649 finished with values: [1.0, 0.21529315412044525] and parameters: {'seed': 5001}. \u001b[0m\n",
      "\u001b[32m[I 2023-05-03 14:01:31,490]\u001b[0m Trial 643 finished with values: [0.9930555555555555, 0.0] and parameters: {'seed': 7786}. \u001b[0m\n",
      "\u001b[32m[I 2023-05-03 14:01:31,505]\u001b[0m Trial 644 finished with values: [0.9930555555555555, 0.0] and parameters: {'seed': 9766}. \u001b[0m\n",
      "\u001b[32m[I 2023-05-03 14:01:31,548]\u001b[0m Trial 650 finished with values: [0.9930555555555555, 0.18084071576595306] and parameters: {'seed': 233}. \u001b[0m\n",
      "\u001b[32m[I 2023-05-03 14:01:31,631]\u001b[0m Trial 648 finished with values: [0.9375, 0.1652219146490097] and parameters: {'seed': 7399}. \u001b[0m\n",
      "\u001b[32m[I 2023-05-03 14:01:31,796]\u001b[0m Trial 654 finished with values: [0.9791666666666666, 0.0] and parameters: {'seed': 6372}. \u001b[0m\n",
      "\u001b[32m[I 2023-05-03 14:01:31,876]\u001b[0m Trial 646 finished with values: [1.0, 0.0] and parameters: {'seed': 2912}. \u001b[0m\n",
      "\u001b[32m[I 2023-05-03 14:01:32,089]\u001b[0m Trial 651 finished with values: [0.9722222222222223, 0.0] and parameters: {'seed': 588}. \u001b[0m\n",
      "\u001b[32m[I 2023-05-03 14:01:32,105]\u001b[0m Trial 652 finished with values: [0.8472222222222221, 0.0] and parameters: {'seed': 1881}. \u001b[0m\n",
      "\u001b[32m[I 2023-05-03 14:01:32,631]\u001b[0m Trial 655 finished with values: [0.986111111111111, 0.0] and parameters: {'seed': 3296}. \u001b[0m\n",
      "\u001b[32m[I 2023-05-03 14:01:32,715]\u001b[0m Trial 653 finished with values: [0.9375, 0.0] and parameters: {'seed': 3985}. \u001b[0m\n",
      "\u001b[32m[I 2023-05-03 14:01:32,806]\u001b[0m Trial 656 finished with values: [0.9375, 0.0] and parameters: {'seed': 6759}. \u001b[0m\n",
      "\u001b[32m[I 2023-05-03 14:01:32,892]\u001b[0m Trial 659 finished with values: [0.8298611111111112, 0.0] and parameters: {'seed': 7192}. \u001b[0m\n",
      "\u001b[32m[I 2023-05-03 14:01:33,098]\u001b[0m Trial 668 finished with values: [1.0, 0.0] and parameters: {'seed': 8322}. \u001b[0m\n",
      "\u001b[32m[I 2023-05-03 14:01:33,141]\u001b[0m Trial 661 finished with values: [0.8993055555555556, 0.0] and parameters: {'seed': 5271}. \u001b[0m\n",
      "\u001b[32m[I 2023-05-03 14:01:33,319]\u001b[0m Trial 657 finished with values: [1.0, 0.0] and parameters: {'seed': 4426}. \u001b[0m\n",
      "\u001b[32m[I 2023-05-03 14:01:33,360]\u001b[0m Trial 663 finished with values: [0.9479166666666666, 0.0] and parameters: {'seed': 6612}. \u001b[0m\n",
      "\u001b[32m[I 2023-05-03 14:01:33,377]\u001b[0m Trial 660 finished with values: [0.9583333333333334, 0.19117821753025055] and parameters: {'seed': 9899}. \u001b[0m\n",
      "\u001b[32m[I 2023-05-03 14:01:33,454]\u001b[0m Trial 666 finished with values: [0.9513888888888888, 0.0] and parameters: {'seed': 260}. \u001b[0m\n",
      "\u001b[32m[I 2023-05-03 14:01:33,532]\u001b[0m Trial 658 finished with values: [1.0, 0.1974998116493225] and parameters: {'seed': 4431}. \u001b[0m\n",
      "\u001b[32m[I 2023-05-03 14:01:33,621]\u001b[0m Trial 664 finished with values: [0.9375, 0.0] and parameters: {'seed': 2026}. \u001b[0m\n",
      "\u001b[32m[I 2023-05-03 14:01:33,674]\u001b[0m Trial 667 finished with values: [1.0, 0.0] and parameters: {'seed': 5357}. \u001b[0m\n",
      "\u001b[32m[I 2023-05-03 14:01:33,753]\u001b[0m Trial 665 finished with values: [0.9027777777777779, 0.1603034883737564] and parameters: {'seed': 5965}. \u001b[0m\n",
      "\u001b[32m[I 2023-05-03 14:01:33,927]\u001b[0m Trial 662 finished with values: [0.9930555555555555, 0.0] and parameters: {'seed': 4243}. \u001b[0m\n",
      "\u001b[32m[I 2023-05-03 14:01:34,069]\u001b[0m Trial 671 finished with values: [0.9027777777777778, 0.14393053948879242] and parameters: {'seed': 8730}. \u001b[0m\n",
      "\u001b[32m[I 2023-05-03 14:01:34,151]\u001b[0m Trial 669 finished with values: [0.8958333333333333, 0.18974119424819946] and parameters: {'seed': 7908}. \u001b[0m\n",
      "\u001b[32m[I 2023-05-03 14:01:34,397]\u001b[0m Trial 673 finished with values: [0.8611111111111112, 0.1416483074426651] and parameters: {'seed': 4663}. \u001b[0m\n",
      "\u001b[32m[I 2023-05-03 14:01:34,473]\u001b[0m Trial 670 finished with values: [0.9583333333333334, 0.0] and parameters: {'seed': 8917}. \u001b[0m\n",
      "\u001b[32m[I 2023-05-03 14:01:34,748]\u001b[0m Trial 672 finished with values: [1.0, 0.0] and parameters: {'seed': 1406}. \u001b[0m\n",
      "\u001b[32m[I 2023-05-03 14:01:35,101]\u001b[0m Trial 675 finished with values: [0.875, 0.0] and parameters: {'seed': 9387}. \u001b[0m\n",
      "\u001b[32m[I 2023-05-03 14:01:35,214]\u001b[0m Trial 676 finished with values: [1.0, 0.15742160379886627] and parameters: {'seed': 7218}. \u001b[0m\n",
      "\u001b[32m[I 2023-05-03 14:01:35,277]\u001b[0m Trial 677 finished with values: [0.9930555555555555, 0.0] and parameters: {'seed': 1697}. \u001b[0m\n",
      "\u001b[32m[I 2023-05-03 14:01:35,485]\u001b[0m Trial 678 finished with values: [0.8958333333333334, 0.0744592621922493] and parameters: {'seed': 7901}. \u001b[0m\n",
      "\u001b[32m[I 2023-05-03 14:01:35,517]\u001b[0m Trial 680 finished with values: [0.9236111111111112, 0.0] and parameters: {'seed': 1260}. \u001b[0m\n",
      "\u001b[32m[I 2023-05-03 14:01:35,721]\u001b[0m Trial 682 finished with values: [0.9652777777777778, 0.0] and parameters: {'seed': 1493}. \u001b[0m\n",
      "\u001b[32m[I 2023-05-03 14:01:35,730]\u001b[0m Trial 674 finished with values: [1.0, 0.0] and parameters: {'seed': 2930}. \u001b[0m\n",
      "\u001b[32m[I 2023-05-03 14:01:35,913]\u001b[0m Trial 679 finished with values: [0.9305555555555556, 0.0] and parameters: {'seed': 325}. \u001b[0m\n",
      "\u001b[32m[I 2023-05-03 14:01:36,044]\u001b[0m Trial 687 finished with values: [1.0, 0.2440272569656372] and parameters: {'seed': 3209}. \u001b[0m\n",
      "\u001b[32m[I 2023-05-03 14:01:36,055]\u001b[0m Trial 686 finished with values: [1.0, 0.0] and parameters: {'seed': 714}. \u001b[0m\n",
      "\u001b[32m[I 2023-05-03 14:01:36,097]\u001b[0m Trial 683 finished with values: [0.9375, 0.11440816521644592] and parameters: {'seed': 8898}. \u001b[0m\n",
      "\u001b[32m[I 2023-05-03 14:01:36,171]\u001b[0m Trial 684 finished with values: [0.8055555555555556, 0.0] and parameters: {'seed': 3766}. \u001b[0m\n",
      "\u001b[32m[I 2023-05-03 14:01:36,488]\u001b[0m Trial 688 finished with values: [0.9722222222222222, 0.1741027981042862] and parameters: {'seed': 2829}. \u001b[0m\n",
      "\u001b[32m[I 2023-05-03 14:01:36,589]\u001b[0m Trial 681 finished with values: [0.9861111111111112, 0.18387718498706818] and parameters: {'seed': 9923}. \u001b[0m\n",
      "\u001b[32m[I 2023-05-03 14:01:36,778]\u001b[0m Trial 690 finished with values: [1.0, 0.0] and parameters: {'seed': 5264}. \u001b[0m\n",
      "\u001b[32m[I 2023-05-03 14:01:36,789]\u001b[0m Trial 685 finished with values: [1.0, 0.0] and parameters: {'seed': 2741}. \u001b[0m\n",
      "\u001b[32m[I 2023-05-03 14:01:36,904]\u001b[0m Trial 691 finished with values: [0.986111111111111, 0.0] and parameters: {'seed': 708}. \u001b[0m\n",
      "\u001b[32m[I 2023-05-03 14:01:36,959]\u001b[0m Trial 693 finished with values: [0.9236111111111112, 0.0] and parameters: {'seed': 6703}. \u001b[0m\n",
      "\u001b[32m[I 2023-05-03 14:01:37,020]\u001b[0m Trial 689 finished with values: [0.9722222222222223, 0.0] and parameters: {'seed': 5054}. \u001b[0m\n",
      "\u001b[32m[I 2023-05-03 14:01:37,106]\u001b[0m Trial 692 finished with values: [0.8611111111111112, 0.0] and parameters: {'seed': 3066}. \u001b[0m\n",
      "\u001b[32m[I 2023-05-03 14:01:37,603]\u001b[0m Trial 697 finished with values: [0.9583333333333333, 0.0] and parameters: {'seed': 5400}. \u001b[0m\n",
      "\u001b[32m[I 2023-05-03 14:01:37,633]\u001b[0m Trial 695 finished with values: [0.9791666666666667, 0.16434578597545624] and parameters: {'seed': 2995}. \u001b[0m\n",
      "\u001b[32m[I 2023-05-03 14:01:37,647]\u001b[0m Trial 694 finished with values: [0.9444444444444444, 0.0] and parameters: {'seed': 4926}. \u001b[0m\n",
      "\u001b[32m[I 2023-05-03 14:01:37,652]\u001b[0m Trial 696 finished with values: [0.9722222222222222, 0.0] and parameters: {'seed': 3472}. \u001b[0m\n",
      "\u001b[32m[I 2023-05-03 14:01:37,809]\u001b[0m Trial 698 finished with values: [0.9027777777777778, 0.0] and parameters: {'seed': 6222}. \u001b[0m\n",
      "\u001b[32m[I 2023-05-03 14:01:37,847]\u001b[0m Trial 700 finished with values: [0.9861111111111112, 0.0] and parameters: {'seed': 2393}. \u001b[0m\n",
      "\u001b[32m[I 2023-05-03 14:01:38,137]\u001b[0m Trial 703 finished with values: [0.875, 0.0] and parameters: {'seed': 8958}. \u001b[0m\n",
      "\u001b[32m[I 2023-05-03 14:01:38,273]\u001b[0m Trial 705 finished with values: [0.9722222222222222, 0.0] and parameters: {'seed': 8908}. \u001b[0m\n",
      "\u001b[32m[I 2023-05-03 14:01:38,539]\u001b[0m Trial 704 finished with values: [1.0, 0.1564340591430664] and parameters: {'seed': 3436}. \u001b[0m\n",
      "\u001b[32m[I 2023-05-03 14:01:38,592]\u001b[0m Trial 706 finished with values: [0.9722222222222222, 0.0] and parameters: {'seed': 8652}. \u001b[0m\n",
      "\u001b[32m[I 2023-05-03 14:01:38,594]\u001b[0m Trial 699 finished with values: [0.8819444444444444, 0.0] and parameters: {'seed': 9764}. \u001b[0m\n",
      "\u001b[32m[I 2023-05-03 14:01:38,939]\u001b[0m Trial 702 finished with values: [0.9375, 0.2511381208896637] and parameters: {'seed': 6817}. \u001b[0m\n",
      "\u001b[32m[I 2023-05-03 14:01:38,966]\u001b[0m Trial 709 finished with values: [0.9583333333333334, 0.0] and parameters: {'seed': 3238}. \u001b[0m\n",
      "\u001b[32m[I 2023-05-03 14:01:39,062]\u001b[0m Trial 708 finished with values: [0.9201388888888888, 0.0] and parameters: {'seed': 3407}. \u001b[0m\n",
      "\u001b[32m[I 2023-05-03 14:01:39,346]\u001b[0m Trial 712 finished with values: [0.9930555555555555, 0.0] and parameters: {'seed': 8946}. \u001b[0m\n",
      "\u001b[32m[I 2023-05-03 14:01:39,356]\u001b[0m Trial 707 finished with values: [1.0, 0.37693771719932556] and parameters: {'seed': 7042}. \u001b[0m\n",
      "\u001b[32m[I 2023-05-03 14:01:39,375]\u001b[0m Trial 713 finished with values: [0.923611111111111, 0.0] and parameters: {'seed': 5021}. \u001b[0m\n",
      "\u001b[32m[I 2023-05-03 14:01:39,411]\u001b[0m Trial 711 finished with values: [0.9375, 0.0] and parameters: {'seed': 256}. \u001b[0m\n",
      "\u001b[32m[I 2023-05-03 14:01:39,436]\u001b[0m Trial 710 finished with values: [1.0, 0.0] and parameters: {'seed': 3243}. \u001b[0m\n",
      "\u001b[32m[I 2023-05-03 14:01:39,899]\u001b[0m Trial 718 finished with values: [0.9166666666666667, 0.0] and parameters: {'seed': 8567}. \u001b[0m\n",
      "\u001b[32m[I 2023-05-03 14:01:39,925]\u001b[0m Trial 701 finished with values: [0.9513888888888888, 0.14495909214019775] and parameters: {'seed': 2537}. \u001b[0m\n",
      "\u001b[32m[I 2023-05-03 14:01:40,230]\u001b[0m Trial 716 finished with values: [0.9583333333333333, 0.0] and parameters: {'seed': 3447}. \u001b[0m\n",
      "\u001b[32m[I 2023-05-03 14:01:40,277]\u001b[0m Trial 714 finished with values: [0.9652777777777777, 0.0] and parameters: {'seed': 25}. \u001b[0m\n",
      "\u001b[32m[I 2023-05-03 14:01:40,340]\u001b[0m Trial 715 finished with values: [0.9791666666666667, 0.0] and parameters: {'seed': 5793}. \u001b[0m\n",
      "\u001b[32m[I 2023-05-03 14:01:40,526]\u001b[0m Trial 719 finished with values: [0.9652777777777777, 0.20012660324573517] and parameters: {'seed': 9021}. \u001b[0m\n",
      "\u001b[32m[I 2023-05-03 14:01:40,629]\u001b[0m Trial 720 finished with values: [0.8888888888888888, 0.0] and parameters: {'seed': 723}. \u001b[0m\n",
      "\u001b[32m[I 2023-05-03 14:01:40,728]\u001b[0m Trial 717 finished with values: [0.9791666666666666, 0.0] and parameters: {'seed': 8844}. \u001b[0m\n",
      "\u001b[32m[I 2023-05-03 14:01:40,833]\u001b[0m Trial 725 finished with values: [0.9791666666666667, 0.0] and parameters: {'seed': 6377}. \u001b[0m\n",
      "\u001b[32m[I 2023-05-03 14:01:41,121]\u001b[0m Trial 721 finished with values: [0.9722222222222222, 0.0] and parameters: {'seed': 9153}. \u001b[0m\n",
      "\u001b[32m[I 2023-05-03 14:01:41,179]\u001b[0m Trial 724 finished with values: [0.8888888888888888, 0.0] and parameters: {'seed': 2421}. \u001b[0m\n",
      "\u001b[32m[I 2023-05-03 14:01:41,205]\u001b[0m Trial 731 finished with values: [0.9444444444444444, 0.0] and parameters: {'seed': 8164}. \u001b[0m\n",
      "\u001b[32m[I 2023-05-03 14:01:41,307]\u001b[0m Trial 730 finished with values: [0.9513888888888888, 0.0] and parameters: {'seed': 7855}. \u001b[0m\n",
      "\u001b[32m[I 2023-05-03 14:01:41,518]\u001b[0m Trial 722 finished with values: [0.9166666666666667, 0.3206937611103058] and parameters: {'seed': 5681}. \u001b[0m\n",
      "\u001b[32m[I 2023-05-03 14:01:41,550]\u001b[0m Trial 726 finished with values: [0.8125, 0.29837092757225037] and parameters: {'seed': 3191}. \u001b[0m\n",
      "\u001b[32m[I 2023-05-03 14:01:41,613]\u001b[0m Trial 733 finished with values: [0.9861111111111112, 0.0] and parameters: {'seed': 7836}. \u001b[0m\n",
      "\u001b[32m[I 2023-05-03 14:01:41,620]\u001b[0m Trial 723 finished with values: [0.9652777777777778, 0.0] and parameters: {'seed': 2482}. \u001b[0m\n",
      "\u001b[32m[I 2023-05-03 14:01:41,657]\u001b[0m Trial 732 finished with values: [0.9305555555555555, 0.19592899084091187] and parameters: {'seed': 6573}. \u001b[0m\n",
      "\u001b[32m[I 2023-05-03 14:01:41,772]\u001b[0m Trial 727 finished with values: [1.0, 0.0] and parameters: {'seed': 2688}. \u001b[0m\n",
      "\u001b[32m[I 2023-05-03 14:01:41,834]\u001b[0m Trial 728 finished with values: [0.8958333333333334, 0.0] and parameters: {'seed': 1180}. \u001b[0m\n",
      "\u001b[32m[I 2023-05-03 14:01:41,845]\u001b[0m Trial 729 finished with values: [0.9722222222222223, 0.0] and parameters: {'seed': 731}. \u001b[0m\n",
      "\u001b[32m[I 2023-05-03 14:01:42,076]\u001b[0m Trial 734 finished with values: [0.9097222222222223, 0.0] and parameters: {'seed': 8062}. \u001b[0m\n",
      "\u001b[32m[I 2023-05-03 14:01:42,768]\u001b[0m Trial 736 finished with values: [0.9513888888888888, 0.0] and parameters: {'seed': 5899}. \u001b[0m\n",
      "\u001b[32m[I 2023-05-03 14:01:42,790]\u001b[0m Trial 735 finished with values: [0.9583333333333334, 0.0828845277428627] and parameters: {'seed': 5580}. \u001b[0m\n",
      "\u001b[32m[I 2023-05-03 14:01:42,915]\u001b[0m Trial 737 finished with values: [0.9583333333333334, 0.16534458100795746] and parameters: {'seed': 7813}. \u001b[0m\n",
      "\u001b[32m[I 2023-05-03 14:01:43,138]\u001b[0m Trial 741 finished with values: [1.0, 0.2428995966911316] and parameters: {'seed': 2988}. \u001b[0m\n",
      "\u001b[32m[I 2023-05-03 14:01:43,141]\u001b[0m Trial 739 finished with values: [0.9861111111111112, 0.0] and parameters: {'seed': 5406}. \u001b[0m\n",
      "\u001b[32m[I 2023-05-03 14:01:43,201]\u001b[0m Trial 742 finished with values: [0.9444444444444445, 0.0] and parameters: {'seed': 204}. \u001b[0m\n",
      "\u001b[32m[I 2023-05-03 14:01:43,206]\u001b[0m Trial 738 finished with values: [0.986111111111111, 0.0] and parameters: {'seed': 2940}. \u001b[0m\n",
      "\u001b[32m[I 2023-05-03 14:01:43,363]\u001b[0m Trial 744 finished with values: [0.9305555555555556, 0.0] and parameters: {'seed': 9501}. \u001b[0m\n",
      "\u001b[32m[I 2023-05-03 14:01:43,426]\u001b[0m Trial 740 finished with values: [0.9583333333333334, 0.0] and parameters: {'seed': 9116}. \u001b[0m\n",
      "\u001b[32m[I 2023-05-03 14:01:43,686]\u001b[0m Trial 750 finished with values: [0.9097222222222222, 0.18101215362548828] and parameters: {'seed': 6130}. \u001b[0m\n",
      "\u001b[32m[I 2023-05-03 14:01:43,790]\u001b[0m Trial 745 finished with values: [0.9305555555555555, 0.0] and parameters: {'seed': 8330}. \u001b[0m\n",
      "\u001b[32m[I 2023-05-03 14:01:43,829]\u001b[0m Trial 749 finished with values: [1.0, 0.0728706568479538] and parameters: {'seed': 7384}. \u001b[0m\n",
      "\u001b[32m[I 2023-05-03 14:01:43,885]\u001b[0m Trial 747 finished with values: [0.8958333333333334, 0.0] and parameters: {'seed': 7999}. \u001b[0m\n",
      "\u001b[32m[I 2023-05-03 14:01:43,967]\u001b[0m Trial 746 finished with values: [0.9270833333333334, 0.0] and parameters: {'seed': 4254}. \u001b[0m\n",
      "\u001b[32m[I 2023-05-03 14:01:43,973]\u001b[0m Trial 743 finished with values: [0.9027777777777778, 0.0] and parameters: {'seed': 6490}. \u001b[0m\n",
      "\u001b[32m[I 2023-05-03 14:01:44,431]\u001b[0m Trial 752 finished with values: [0.923611111111111, 0.1514866054058075] and parameters: {'seed': 6594}. \u001b[0m\n",
      "\u001b[32m[I 2023-05-03 14:01:44,478]\u001b[0m Trial 748 finished with values: [0.7847222222222222, 0.3836144208908081] and parameters: {'seed': 5369}. \u001b[0m\n",
      "\u001b[32m[I 2023-05-03 14:01:44,485]\u001b[0m Trial 751 finished with values: [0.9791666666666667, 0.4538709819316864] and parameters: {'seed': 9928}. \u001b[0m\n",
      "\u001b[32m[I 2023-05-03 14:01:44,992]\u001b[0m Trial 755 finished with values: [0.875, 0.1790648102760315] and parameters: {'seed': 3920}. \u001b[0m\n",
      "\u001b[32m[I 2023-05-03 14:01:45,043]\u001b[0m Trial 753 finished with values: [0.9791666666666666, 0.0] and parameters: {'seed': 6543}. \u001b[0m\n",
      "\u001b[32m[I 2023-05-03 14:01:45,104]\u001b[0m Trial 754 finished with values: [0.9236111111111112, 0.0] and parameters: {'seed': 6188}. \u001b[0m\n",
      "\u001b[32m[I 2023-05-03 14:01:45,123]\u001b[0m Trial 756 finished with values: [1.0, 0.0] and parameters: {'seed': 4224}. \u001b[0m\n",
      "\u001b[32m[I 2023-05-03 14:01:45,371]\u001b[0m Trial 757 finished with values: [0.8472222222222222, 0.08736617118120193] and parameters: {'seed': 4310}. \u001b[0m\n",
      "\u001b[32m[I 2023-05-03 14:01:45,687]\u001b[0m Trial 758 finished with values: [1.0, 0.37844762206077576] and parameters: {'seed': 178}. \u001b[0m\n",
      "\u001b[32m[I 2023-05-03 14:01:46,012]\u001b[0m Trial 763 finished with values: [0.8229166666666666, 0.29216262698173523] and parameters: {'seed': 664}. \u001b[0m\n",
      "\u001b[32m[I 2023-05-03 14:01:46,048]\u001b[0m Trial 766 finished with values: [0.9236111111111112, 0.0] and parameters: {'seed': 3217}. \u001b[0m\n",
      "\u001b[32m[I 2023-05-03 14:01:46,058]\u001b[0m Trial 761 finished with values: [0.9791666666666666, 0.0] and parameters: {'seed': 6918}. \u001b[0m\n",
      "\u001b[32m[I 2023-05-03 14:01:46,105]\u001b[0m Trial 759 finished with values: [0.9375, 0.0] and parameters: {'seed': 5387}. \u001b[0m\n",
      "\u001b[32m[I 2023-05-03 14:01:46,208]\u001b[0m Trial 760 finished with values: [1.0, 0.1495528221130371] and parameters: {'seed': 1963}. \u001b[0m\n",
      "\u001b[32m[I 2023-05-03 14:01:46,296]\u001b[0m Trial 762 finished with values: [0.9305555555555556, 0.5493842959403992] and parameters: {'seed': 4823}. \u001b[0m\n",
      "\u001b[32m[I 2023-05-03 14:01:46,329]\u001b[0m Trial 765 finished with values: [0.90625, 0.0814916118979454] and parameters: {'seed': 4542}. \u001b[0m\n",
      "\u001b[32m[I 2023-05-03 14:01:46,700]\u001b[0m Trial 764 finished with values: [0.9340277777777779, 0.23662321269512177] and parameters: {'seed': 6576}. \u001b[0m\n",
      "\u001b[32m[I 2023-05-03 14:01:46,730]\u001b[0m Trial 769 finished with values: [1.0, 0.0] and parameters: {'seed': 7718}. \u001b[0m\n",
      "\u001b[32m[I 2023-05-03 14:01:46,765]\u001b[0m Trial 771 finished with values: [0.9305555555555556, 0.0] and parameters: {'seed': 9913}. \u001b[0m\n",
      "\u001b[32m[I 2023-05-03 14:01:46,773]\u001b[0m Trial 768 finished with values: [0.9583333333333333, 0.12299173325300217] and parameters: {'seed': 9142}. \u001b[0m\n",
      "\u001b[32m[I 2023-05-03 14:01:46,870]\u001b[0m Trial 770 finished with values: [0.875, 0.0] and parameters: {'seed': 5616}. \u001b[0m\n",
      "\u001b[32m[I 2023-05-03 14:01:47,019]\u001b[0m Trial 767 finished with values: [1.0, 0.0] and parameters: {'seed': 2024}. \u001b[0m\n",
      "\u001b[32m[I 2023-05-03 14:01:47,499]\u001b[0m Trial 775 finished with values: [1.0, 0.0] and parameters: {'seed': 2660}. \u001b[0m\n",
      "\u001b[32m[I 2023-05-03 14:01:47,539]\u001b[0m Trial 773 finished with values: [0.951388888888889, 0.0] and parameters: {'seed': 8934}. \u001b[0m\n",
      "\u001b[32m[I 2023-05-03 14:01:47,591]\u001b[0m Trial 772 finished with values: [0.875, 0.0] and parameters: {'seed': 4227}. \u001b[0m\n",
      "\u001b[32m[I 2023-05-03 14:01:47,696]\u001b[0m Trial 776 finished with values: [0.9722222222222223, 0.0] and parameters: {'seed': 5696}. \u001b[0m\n",
      "\u001b[32m[I 2023-05-03 14:01:47,934]\u001b[0m Trial 774 finished with values: [0.920138888888889, 0.0] and parameters: {'seed': 2929}. \u001b[0m\n",
      "\u001b[32m[I 2023-05-03 14:01:48,021]\u001b[0m Trial 777 finished with values: [0.9027777777777778, 0.2959579527378082] and parameters: {'seed': 3916}. \u001b[0m\n",
      "\u001b[32m[I 2023-05-03 14:01:48,227]\u001b[0m Trial 785 finished with values: [0.986111111111111, 0.370015949010849] and parameters: {'seed': 1228}. \u001b[0m\n",
      "\u001b[32m[I 2023-05-03 14:01:48,284]\u001b[0m Trial 778 finished with values: [0.9375, 0.09678399562835693] and parameters: {'seed': 4687}. \u001b[0m\n",
      "\u001b[32m[I 2023-05-03 14:01:48,298]\u001b[0m Trial 780 finished with values: [0.9305555555555556, 0.0] and parameters: {'seed': 3339}. \u001b[0m\n",
      "\u001b[32m[I 2023-05-03 14:01:48,365]\u001b[0m Trial 781 finished with values: [0.9444444444444444, 0.0] and parameters: {'seed': 1474}. \u001b[0m\n",
      "\u001b[32m[I 2023-05-03 14:01:48,401]\u001b[0m Trial 782 finished with values: [0.8749999999999999, 0.2665850818157196] and parameters: {'seed': 2180}. \u001b[0m\n",
      "\u001b[32m[I 2023-05-03 14:01:48,452]\u001b[0m Trial 779 finished with values: [1.0, 0.0] and parameters: {'seed': 8556}. \u001b[0m\n",
      "\u001b[32m[I 2023-05-03 14:01:48,852]\u001b[0m Trial 787 finished with values: [1.0, 0.20017538964748383] and parameters: {'seed': 4773}. \u001b[0m\n",
      "\u001b[32m[I 2023-05-03 14:01:48,922]\u001b[0m Trial 788 finished with values: [0.9826388888888888, 0.06638485193252563] and parameters: {'seed': 7277}. \u001b[0m\n",
      "\u001b[32m[I 2023-05-03 14:01:49,281]\u001b[0m Trial 789 finished with values: [1.0, 0.0] and parameters: {'seed': 3646}. \u001b[0m\n",
      "\u001b[32m[I 2023-05-03 14:01:49,365]\u001b[0m Trial 791 finished with values: [0.9583333333333334, 0.0] and parameters: {'seed': 1964}. \u001b[0m\n",
      "\u001b[32m[I 2023-05-03 14:01:49,412]\u001b[0m Trial 784 finished with values: [1.0, 0.0] and parameters: {'seed': 7338}. \u001b[0m\n",
      "\u001b[32m[I 2023-05-03 14:01:49,587]\u001b[0m Trial 786 finished with values: [0.9652777777777778, 0.0] and parameters: {'seed': 1072}. \u001b[0m\n",
      "\u001b[32m[I 2023-05-03 14:01:49,614]\u001b[0m Trial 783 finished with values: [0.9652777777777778, 0.46459975838661194] and parameters: {'seed': 9164}. \u001b[0m\n",
      "\u001b[32m[I 2023-05-03 14:01:49,668]\u001b[0m Trial 790 finished with values: [1.0, 0.0] and parameters: {'seed': 5142}. \u001b[0m\n",
      "\u001b[32m[I 2023-05-03 14:01:49,738]\u001b[0m Trial 792 finished with values: [0.951388888888889, 0.0] and parameters: {'seed': 4336}. \u001b[0m\n",
      "\u001b[32m[I 2023-05-03 14:01:49,881]\u001b[0m Trial 796 finished with values: [0.9097222222222222, 0.0] and parameters: {'seed': 4694}. \u001b[0m\n",
      "\u001b[32m[I 2023-05-03 14:01:49,976]\u001b[0m Trial 794 finished with values: [0.9722222222222222, 0.0] and parameters: {'seed': 1831}. \u001b[0m\n",
      "\u001b[32m[I 2023-05-03 14:01:50,123]\u001b[0m Trial 793 finished with values: [1.0, 0.0] and parameters: {'seed': 9756}. \u001b[0m\n",
      "\u001b[32m[I 2023-05-03 14:01:50,198]\u001b[0m Trial 795 finished with values: [0.9375, 0.0] and parameters: {'seed': 9935}. \u001b[0m\n",
      "\u001b[32m[I 2023-05-03 14:01:50,423]\u001b[0m Trial 799 finished with values: [0.986111111111111, 0.0] and parameters: {'seed': 3049}. \u001b[0m\n",
      "\u001b[32m[I 2023-05-03 14:01:50,496]\u001b[0m Trial 800 finished with values: [0.951388888888889, 0.19075065851211548] and parameters: {'seed': 1292}. \u001b[0m\n",
      "\u001b[32m[I 2023-05-03 14:01:50,687]\u001b[0m Trial 803 finished with values: [1.0, 0.11652607470750809] and parameters: {'seed': 4390}. \u001b[0m\n",
      "\u001b[32m[I 2023-05-03 14:01:50,797]\u001b[0m Trial 801 finished with values: [0.732638888888889, 0.0] and parameters: {'seed': 8210}. \u001b[0m\n",
      "\u001b[32m[I 2023-05-03 14:01:50,855]\u001b[0m Trial 797 finished with values: [0.9583333333333334, 0.0] and parameters: {'seed': 1682}. \u001b[0m\n",
      "\u001b[32m[I 2023-05-03 14:01:50,869]\u001b[0m Trial 804 finished with values: [1.0, 0.06753042340278625] and parameters: {'seed': 6151}. \u001b[0m\n",
      "\u001b[32m[I 2023-05-03 14:01:50,890]\u001b[0m Trial 798 finished with values: [0.96875, 0.13009482622146606] and parameters: {'seed': 7558}. \u001b[0m\n",
      "\u001b[32m[I 2023-05-03 14:01:50,928]\u001b[0m Trial 802 finished with values: [0.9652777777777778, 0.0] and parameters: {'seed': 4082}. \u001b[0m\n",
      "\u001b[32m[I 2023-05-03 14:01:51,579]\u001b[0m Trial 805 finished with values: [0.9930555555555555, 0.0] and parameters: {'seed': 513}. \u001b[0m\n",
      "\u001b[32m[I 2023-05-03 14:01:51,649]\u001b[0m Trial 806 finished with values: [0.9444444444444444, 0.0] and parameters: {'seed': 2439}. \u001b[0m\n",
      "\u001b[32m[I 2023-05-03 14:01:51,725]\u001b[0m Trial 807 finished with values: [1.0, 0.0] and parameters: {'seed': 9826}. \u001b[0m\n",
      "\u001b[32m[I 2023-05-03 14:01:51,959]\u001b[0m Trial 811 finished with values: [0.9305555555555556, 0.0] and parameters: {'seed': 5196}. \u001b[0m\n",
      "\u001b[32m[I 2023-05-03 14:01:51,970]\u001b[0m Trial 813 finished with values: [0.9722222222222223, 0.0] and parameters: {'seed': 9329}. \u001b[0m\n",
      "\u001b[32m[I 2023-05-03 14:01:52,183]\u001b[0m Trial 808 finished with values: [0.9166666666666666, 0.0] and parameters: {'seed': 8110}. \u001b[0m\n",
      "\u001b[32m[I 2023-05-03 14:01:52,196]\u001b[0m Trial 810 finished with values: [0.9444444444444444, 0.0] and parameters: {'seed': 4926}. \u001b[0m\n",
      "\u001b[32m[I 2023-05-03 14:01:52,241]\u001b[0m Trial 812 finished with values: [0.9583333333333333, 0.12483856827020645] and parameters: {'seed': 2103}. \u001b[0m\n",
      "\u001b[32m[I 2023-05-03 14:01:52,261]\u001b[0m Trial 814 finished with values: [0.9722222222222223, 0.0] and parameters: {'seed': 9329}. \u001b[0m\n",
      "\u001b[32m[I 2023-05-03 14:01:52,631]\u001b[0m Trial 817 finished with values: [1.0, 0.0] and parameters: {'seed': 9012}. \u001b[0m\n",
      "\u001b[32m[I 2023-05-03 14:01:52,665]\u001b[0m Trial 809 finished with values: [0.9583333333333334, 0.0] and parameters: {'seed': 4914}. \u001b[0m\n",
      "\u001b[32m[I 2023-05-03 14:01:52,792]\u001b[0m Trial 816 finished with values: [0.9861111111111112, 0.0] and parameters: {'seed': 3749}. \u001b[0m\n",
      "\u001b[32m[I 2023-05-03 14:01:52,879]\u001b[0m Trial 818 finished with values: [0.8888888888888888, 0.0] and parameters: {'seed': 7378}. \u001b[0m\n",
      "\u001b[32m[I 2023-05-03 14:01:53,094]\u001b[0m Trial 815 finished with values: [0.9791666666666666, 0.0] and parameters: {'seed': 8069}. \u001b[0m\n",
      "\u001b[32m[I 2023-05-03 14:01:53,186]\u001b[0m Trial 822 finished with values: [0.9513888888888888, 0.21068812906742096] and parameters: {'seed': 7540}. \u001b[0m\n",
      "\u001b[32m[I 2023-05-03 14:01:53,395]\u001b[0m Trial 819 finished with values: [0.9513888888888888, 0.0] and parameters: {'seed': 4472}. \u001b[0m\n",
      "\u001b[32m[I 2023-05-03 14:01:53,443]\u001b[0m Trial 821 finished with values: [0.826388888888889, 0.2500345706939697] and parameters: {'seed': 4936}. \u001b[0m\n",
      "\u001b[32m[I 2023-05-03 14:01:53,829]\u001b[0m Trial 824 finished with values: [0.9583333333333333, 0.0] and parameters: {'seed': 3665}. \u001b[0m\n",
      "\u001b[32m[I 2023-05-03 14:01:54,056]\u001b[0m Trial 820 finished with values: [0.986111111111111, 0.0] and parameters: {'seed': 5413}. \u001b[0m\n",
      "\u001b[32m[I 2023-05-03 14:01:54,062]\u001b[0m Trial 823 finished with values: [0.9097222222222222, 0.0] and parameters: {'seed': 2728}. \u001b[0m\n",
      "\u001b[32m[I 2023-05-03 14:01:54,242]\u001b[0m Trial 825 finished with values: [0.8611111111111112, 0.0] and parameters: {'seed': 4800}. \u001b[0m\n",
      "\u001b[32m[I 2023-05-03 14:01:54,294]\u001b[0m Trial 827 finished with values: [0.9652777777777778, 0.0] and parameters: {'seed': 8604}. \u001b[0m\n",
      "\u001b[32m[I 2023-05-03 14:01:54,606]\u001b[0m Trial 829 finished with values: [1.0, 0.0] and parameters: {'seed': 4443}. \u001b[0m\n",
      "\u001b[32m[I 2023-05-03 14:01:54,911]\u001b[0m Trial 830 finished with values: [0.986111111111111, 0.0] and parameters: {'seed': 2460}. \u001b[0m\n",
      "\u001b[32m[I 2023-05-03 14:01:54,930]\u001b[0m Trial 833 finished with values: [0.7916666666666667, 0.0] and parameters: {'seed': 2356}. \u001b[0m\n",
      "\u001b[32m[I 2023-05-03 14:01:55,020]\u001b[0m Trial 826 finished with values: [0.9027777777777778, 0.14949889481067657] and parameters: {'seed': 336}. \u001b[0m\n",
      "\u001b[32m[I 2023-05-03 14:01:55,296]\u001b[0m Trial 828 finished with values: [0.9652777777777778, 0.12433109432458878] and parameters: {'seed': 1042}. \u001b[0m\n",
      "\u001b[32m[I 2023-05-03 14:01:55,316]\u001b[0m Trial 831 finished with values: [1.0, 0.0] and parameters: {'seed': 1743}. \u001b[0m\n",
      "\u001b[32m[I 2023-05-03 14:01:55,402]\u001b[0m Trial 834 finished with values: [1.0, 0.0] and parameters: {'seed': 2445}. \u001b[0m\n",
      "\u001b[32m[I 2023-05-03 14:01:55,536]\u001b[0m Trial 839 finished with values: [0.8090277777777778, 0.44277819991111755] and parameters: {'seed': 7972}. \u001b[0m\n",
      "\u001b[32m[I 2023-05-03 14:01:55,594]\u001b[0m Trial 836 finished with values: [0.9930555555555555, 0.0] and parameters: {'seed': 4655}. \u001b[0m\n",
      "\u001b[32m[I 2023-05-03 14:01:55,599]\u001b[0m Trial 838 finished with values: [0.9513888888888888, 0.08270206302404404] and parameters: {'seed': 1687}. \u001b[0m\n",
      "\u001b[32m[I 2023-05-03 14:01:55,643]\u001b[0m Trial 837 finished with values: [1.0, 0.2952651083469391] and parameters: {'seed': 4948}. \u001b[0m\n",
      "\u001b[32m[I 2023-05-03 14:01:55,720]\u001b[0m Trial 832 finished with values: [0.9027777777777778, 0.0] and parameters: {'seed': 6122}. \u001b[0m\n",
      "\u001b[32m[I 2023-05-03 14:01:55,991]\u001b[0m Trial 842 finished with values: [0.9722222222222223, 0.18942993879318237] and parameters: {'seed': 8667}. \u001b[0m\n",
      "\u001b[32m[I 2023-05-03 14:01:56,124]\u001b[0m Trial 835 finished with values: [0.9305555555555556, 0.0] and parameters: {'seed': 1984}. \u001b[0m\n",
      "\u001b[32m[I 2023-05-03 14:01:56,250]\u001b[0m Trial 841 finished with values: [0.9375, 0.0] and parameters: {'seed': 3427}. \u001b[0m\n",
      "\u001b[32m[I 2023-05-03 14:01:56,267]\u001b[0m Trial 840 finished with values: [0.9722222222222223, 0.0] and parameters: {'seed': 9317}. \u001b[0m\n",
      "\u001b[32m[I 2023-05-03 14:01:56,601]\u001b[0m Trial 844 finished with values: [0.923611111111111, 0.3247511684894562] and parameters: {'seed': 7237}. \u001b[0m\n",
      "\u001b[32m[I 2023-05-03 14:01:56,613]\u001b[0m Trial 845 finished with values: [0.9444444444444445, 0.0] and parameters: {'seed': 8029}. \u001b[0m\n",
      "\u001b[32m[I 2023-05-03 14:01:57,016]\u001b[0m Trial 846 finished with values: [1.0, 0.0] and parameters: {'seed': 7073}. \u001b[0m\n",
      "\u001b[32m[I 2023-05-03 14:01:57,048]\u001b[0m Trial 848 finished with values: [0.9722222222222222, 0.0] and parameters: {'seed': 3740}. \u001b[0m\n",
      "\u001b[32m[I 2023-05-03 14:01:57,267]\u001b[0m Trial 843 finished with values: [0.9791666666666666, 0.0] and parameters: {'seed': 4751}. \u001b[0m\n",
      "\u001b[32m[I 2023-05-03 14:01:57,411]\u001b[0m Trial 849 finished with values: [0.8472222222222222, 0.22301526367664337] and parameters: {'seed': 14}. \u001b[0m\n",
      "\u001b[32m[I 2023-05-03 14:01:57,483]\u001b[0m Trial 851 finished with values: [0.9375, 0.14743097126483917] and parameters: {'seed': 627}. \u001b[0m\n",
      "\u001b[32m[I 2023-05-03 14:01:57,665]\u001b[0m Trial 855 finished with values: [0.7986111111111112, 0.0] and parameters: {'seed': 8212}. \u001b[0m\n",
      "\u001b[32m[I 2023-05-03 14:01:57,731]\u001b[0m Trial 852 finished with values: [0.9722222222222222, 0.0] and parameters: {'seed': 6334}. \u001b[0m\n",
      "\u001b[32m[I 2023-05-03 14:01:57,767]\u001b[0m Trial 850 finished with values: [0.9513888888888888, 0.0] and parameters: {'seed': 5617}. \u001b[0m\n",
      "\u001b[32m[I 2023-05-03 14:01:57,818]\u001b[0m Trial 847 finished with values: [0.9444444444444444, 0.1257706731557846] and parameters: {'seed': 7606}. \u001b[0m\n",
      "\u001b[32m[I 2023-05-03 14:01:58,069]\u001b[0m Trial 857 finished with values: [0.9513888888888888, 0.0] and parameters: {'seed': 7510}. \u001b[0m\n",
      "\u001b[32m[I 2023-05-03 14:01:58,179]\u001b[0m Trial 858 finished with values: [1.0, 0.0] and parameters: {'seed': 2052}. \u001b[0m\n",
      "\u001b[32m[I 2023-05-03 14:01:58,218]\u001b[0m Trial 854 finished with values: [0.9791666666666666, 0.0] and parameters: {'seed': 7948}. \u001b[0m\n",
      "\u001b[32m[I 2023-05-03 14:01:58,265]\u001b[0m Trial 862 finished with values: [0.8541666666666666, 0.0] and parameters: {'seed': 6408}. \u001b[0m\n",
      "\u001b[32m[I 2023-05-03 14:01:58,650]\u001b[0m Trial 853 finished with values: [1.0, 0.0] and parameters: {'seed': 3468}. \u001b[0m\n",
      "\u001b[32m[I 2023-05-03 14:01:58,724]\u001b[0m Trial 861 finished with values: [1.0, 0.0] and parameters: {'seed': 4998}. \u001b[0m\n",
      "\u001b[32m[I 2023-05-03 14:01:58,728]\u001b[0m Trial 856 finished with values: [0.9791666666666666, 0.16270236670970917] and parameters: {'seed': 3230}. \u001b[0m\n",
      "\u001b[32m[I 2023-05-03 14:01:58,934]\u001b[0m Trial 859 finished with values: [0.9583333333333334, 0.0] and parameters: {'seed': 9813}. \u001b[0m\n",
      "\u001b[32m[I 2023-05-03 14:01:58,955]\u001b[0m Trial 864 finished with values: [0.9791666666666666, 0.1599607765674591] and parameters: {'seed': 5008}. \u001b[0m\n",
      "\u001b[32m[I 2023-05-03 14:01:59,041]\u001b[0m Trial 866 finished with values: [0.8958333333333333, 0.0] and parameters: {'seed': 4075}. \u001b[0m\n",
      "\u001b[32m[I 2023-05-03 14:01:59,159]\u001b[0m Trial 863 finished with values: [0.888888888888889, 0.0] and parameters: {'seed': 8048}. \u001b[0m\n",
      "\u001b[32m[I 2023-05-03 14:01:59,253]\u001b[0m Trial 860 finished with values: [1.0, 0.0] and parameters: {'seed': 9062}. \u001b[0m\n",
      "\u001b[32m[I 2023-05-03 14:01:59,469]\u001b[0m Trial 865 finished with values: [0.9652777777777778, 0.0] and parameters: {'seed': 2166}. \u001b[0m\n",
      "\u001b[32m[I 2023-05-03 14:01:59,822]\u001b[0m Trial 867 finished with values: [1.0, 0.0] and parameters: {'seed': 736}. \u001b[0m\n",
      "\u001b[32m[I 2023-05-03 14:01:59,910]\u001b[0m Trial 872 finished with values: [0.9444444444444444, 0.09654015302658081] and parameters: {'seed': 494}. \u001b[0m\n",
      "\u001b[32m[I 2023-05-03 14:01:59,946]\u001b[0m Trial 869 finished with values: [0.923611111111111, 0.1944214105606079] and parameters: {'seed': 1980}. \u001b[0m\n",
      "\u001b[32m[I 2023-05-03 14:02:00,179]\u001b[0m Trial 868 finished with values: [0.9375, 0.0] and parameters: {'seed': 306}. \u001b[0m\n",
      "\u001b[32m[I 2023-05-03 14:02:00,220]\u001b[0m Trial 871 finished with values: [0.9097222222222223, 0.0] and parameters: {'seed': 5470}. \u001b[0m\n",
      "\u001b[32m[I 2023-05-03 14:02:00,231]\u001b[0m Trial 870 finished with values: [0.9930555555555555, 0.0] and parameters: {'seed': 7956}. \u001b[0m\n",
      "\u001b[32m[I 2023-05-03 14:02:00,394]\u001b[0m Trial 873 finished with values: [0.986111111111111, 0.0] and parameters: {'seed': 7921}. \u001b[0m\n",
      "\u001b[32m[I 2023-05-03 14:02:00,439]\u001b[0m Trial 876 finished with values: [1.0, 0.0] and parameters: {'seed': 1548}. \u001b[0m\n",
      "\u001b[32m[I 2023-05-03 14:02:00,519]\u001b[0m Trial 874 finished with values: [0.9861111111111112, 0.0] and parameters: {'seed': 3292}. \u001b[0m\n",
      "\u001b[32m[I 2023-05-03 14:02:00,735]\u001b[0m Trial 880 finished with values: [0.9166666666666666, 0.0] and parameters: {'seed': 2020}. \u001b[0m\n",
      "\u001b[32m[I 2023-05-03 14:02:00,798]\u001b[0m Trial 877 finished with values: [0.9930555555555555, 0.1977064162492752] and parameters: {'seed': 3149}. \u001b[0m\n",
      "\u001b[32m[I 2023-05-03 14:02:00,843]\u001b[0m Trial 875 finished with values: [0.9305555555555556, 0.0] and parameters: {'seed': 4153}. \u001b[0m\n",
      "\u001b[32m[I 2023-05-03 14:02:01,139]\u001b[0m Trial 878 finished with values: [0.9652777777777778, 0.15405058860778809] and parameters: {'seed': 2797}. \u001b[0m\n",
      "\u001b[32m[I 2023-05-03 14:02:01,216]\u001b[0m Trial 879 finished with values: [1.0, 0.0] and parameters: {'seed': 7760}. \u001b[0m\n",
      "\u001b[32m[I 2023-05-03 14:02:01,416]\u001b[0m Trial 885 finished with values: [0.9583333333333334, 0.0] and parameters: {'seed': 7816}. \u001b[0m\n",
      "\u001b[32m[I 2023-05-03 14:02:01,564]\u001b[0m Trial 882 finished with values: [0.9375, 0.12271218746900558] and parameters: {'seed': 8510}. \u001b[0m\n",
      "\u001b[32m[I 2023-05-03 14:02:01,686]\u001b[0m Trial 886 finished with values: [0.9375, 0.15274818241596222] and parameters: {'seed': 3010}. \u001b[0m\n",
      "\u001b[32m[I 2023-05-03 14:02:01,701]\u001b[0m Trial 883 finished with values: [0.9652777777777778, 0.17372502386569977] and parameters: {'seed': 6030}. \u001b[0m\n",
      "\u001b[32m[I 2023-05-03 14:02:02,315]\u001b[0m Trial 890 finished with values: [0.986111111111111, 0.0] and parameters: {'seed': 5890}. \u001b[0m\n",
      "\u001b[32m[I 2023-05-03 14:02:02,376]\u001b[0m Trial 881 finished with values: [1.0, 0.0] and parameters: {'seed': 2132}. \u001b[0m\n",
      "\u001b[32m[I 2023-05-03 14:02:02,429]\u001b[0m Trial 888 finished with values: [0.9444444444444444, 0.0] and parameters: {'seed': 2706}. \u001b[0m\n",
      "\u001b[32m[I 2023-05-03 14:02:02,631]\u001b[0m Trial 887 finished with values: [1.0, 0.3164883553981781] and parameters: {'seed': 2012}. \u001b[0m\n",
      "\u001b[32m[I 2023-05-03 14:02:02,778]\u001b[0m Trial 884 finished with values: [0.9097222222222222, 0.3909592926502228] and parameters: {'seed': 5748}. \u001b[0m\n",
      "\u001b[32m[I 2023-05-03 14:02:02,835]\u001b[0m Trial 891 finished with values: [1.0, 0.4219263792037964] and parameters: {'seed': 3911}. \u001b[0m\n",
      "\u001b[32m[I 2023-05-03 14:02:02,879]\u001b[0m Trial 894 finished with values: [0.9340277777777778, 0.0] and parameters: {'seed': 1637}. \u001b[0m\n",
      "\u001b[32m[I 2023-05-03 14:02:03,150]\u001b[0m Trial 897 finished with values: [0.9444444444444444, 0.0] and parameters: {'seed': 5663}. \u001b[0m\n",
      "\u001b[32m[I 2023-05-03 14:02:03,247]\u001b[0m Trial 895 finished with values: [0.9583333333333334, 0.0] and parameters: {'seed': 8520}. \u001b[0m\n",
      "\u001b[32m[I 2023-05-03 14:02:03,386]\u001b[0m Trial 892 finished with values: [0.9444444444444444, 0.143312469124794] and parameters: {'seed': 682}. \u001b[0m\n",
      "\u001b[32m[I 2023-05-03 14:02:03,489]\u001b[0m Trial 898 finished with values: [1.0, 0.0] and parameters: {'seed': 6595}. \u001b[0m\n",
      "\u001b[32m[I 2023-05-03 14:02:03,493]\u001b[0m Trial 893 finished with values: [0.9444444444444444, 0.0] and parameters: {'seed': 7871}. \u001b[0m\n",
      "\u001b[32m[I 2023-05-03 14:02:03,567]\u001b[0m Trial 900 finished with values: [0.8020833333333334, 0.10998054593801498] and parameters: {'seed': 1895}. \u001b[0m\n",
      "\u001b[32m[I 2023-05-03 14:02:03,753]\u001b[0m Trial 889 finished with values: [0.9652777777777778, 0.12267201393842697] and parameters: {'seed': 7539}. \u001b[0m\n",
      "\u001b[32m[I 2023-05-03 14:02:03,802]\u001b[0m Trial 896 finished with values: [0.986111111111111, 0.0] and parameters: {'seed': 7450}. \u001b[0m\n",
      "\u001b[32m[I 2023-05-03 14:02:03,822]\u001b[0m Trial 904 finished with values: [1.0, 0.0] and parameters: {'seed': 3470}. \u001b[0m\n",
      "\u001b[32m[I 2023-05-03 14:02:04,169]\u001b[0m Trial 901 finished with values: [1.0, 0.3164883553981781] and parameters: {'seed': 2012}. \u001b[0m\n",
      "\u001b[32m[I 2023-05-03 14:02:04,188]\u001b[0m Trial 899 finished with values: [0.9583333333333334, 0.0] and parameters: {'seed': 6687}. \u001b[0m\n",
      "\u001b[32m[I 2023-05-03 14:02:04,225]\u001b[0m Trial 902 finished with values: [0.9166666666666667, 0.0] and parameters: {'seed': 8539}. \u001b[0m\n",
      "\u001b[32m[I 2023-05-03 14:02:04,613]\u001b[0m Trial 903 finished with values: [0.9722222222222223, 0.0] and parameters: {'seed': 3586}. \u001b[0m\n",
      "\u001b[32m[I 2023-05-03 14:02:05,110]\u001b[0m Trial 906 finished with values: [1.0, 0.0] and parameters: {'seed': 408}. \u001b[0m\n",
      "\u001b[32m[I 2023-05-03 14:02:05,139]\u001b[0m Trial 908 finished with values: [0.9652777777777778, 0.13885150849819183] and parameters: {'seed': 4158}. \u001b[0m\n",
      "\u001b[32m[I 2023-05-03 14:02:05,174]\u001b[0m Trial 905 finished with values: [0.9652777777777778, 0.0] and parameters: {'seed': 5921}. \u001b[0m\n",
      "\u001b[32m[I 2023-05-03 14:02:05,337]\u001b[0m Trial 907 finished with values: [1.0, 0.0] and parameters: {'seed': 6602}. \u001b[0m\n",
      "\u001b[32m[I 2023-05-03 14:02:05,357]\u001b[0m Trial 912 finished with values: [0.9166666666666667, 0.0] and parameters: {'seed': 4525}. \u001b[0m\n",
      "\u001b[32m[I 2023-05-03 14:02:05,565]\u001b[0m Trial 915 finished with values: [0.9097222222222222, 0.0] and parameters: {'seed': 4155}. \u001b[0m\n",
      "\u001b[32m[I 2023-05-03 14:02:05,596]\u001b[0m Trial 914 finished with values: [0.9583333333333334, 0.0] and parameters: {'seed': 9432}. \u001b[0m\n",
      "\u001b[32m[I 2023-05-03 14:02:05,703]\u001b[0m Trial 910 finished with values: [0.9722222222222223, 0.0] and parameters: {'seed': 9668}. \u001b[0m\n",
      "\u001b[32m[I 2023-05-03 14:02:05,748]\u001b[0m Trial 919 finished with values: [0.9652777777777778, 0.0] and parameters: {'seed': 2972}. \u001b[0m\n",
      "\u001b[32m[I 2023-05-03 14:02:05,931]\u001b[0m Trial 911 finished with values: [0.9305555555555555, 0.0] and parameters: {'seed': 3289}. \u001b[0m\n",
      "\u001b[32m[I 2023-05-03 14:02:05,975]\u001b[0m Trial 909 finished with values: [0.9513888888888888, 0.18263894319534302] and parameters: {'seed': 9616}. \u001b[0m\n",
      "\u001b[32m[I 2023-05-03 14:02:05,987]\u001b[0m Trial 913 finished with values: [0.9722222222222222, 0.2760717272758484] and parameters: {'seed': 4085}. \u001b[0m\n",
      "\u001b[32m[I 2023-05-03 14:02:05,997]\u001b[0m Trial 916 finished with values: [0.9513888888888888, 0.0] and parameters: {'seed': 3002}. \u001b[0m\n",
      "\u001b[32m[I 2023-05-03 14:02:06,029]\u001b[0m Trial 918 finished with values: [0.9513888888888888, 0.16939622163772583] and parameters: {'seed': 8757}. \u001b[0m\n",
      "\u001b[32m[I 2023-05-03 14:02:06,037]\u001b[0m Trial 923 finished with values: [1.0, 0.0] and parameters: {'seed': 6138}. \u001b[0m\n",
      "\u001b[32m[I 2023-05-03 14:02:06,146]\u001b[0m Trial 920 finished with values: [0.8750000000000001, 0.3036423623561859] and parameters: {'seed': 7046}. \u001b[0m\n",
      "\u001b[32m[I 2023-05-03 14:02:06,208]\u001b[0m Trial 917 finished with values: [0.986111111111111, 0.0] and parameters: {'seed': 8007}. \u001b[0m\n",
      "\u001b[32m[I 2023-05-03 14:02:06,366]\u001b[0m Trial 922 finished with values: [0.9513888888888888, 0.18429802358150482] and parameters: {'seed': 1923}. \u001b[0m\n",
      "\u001b[32m[I 2023-05-03 14:02:06,378]\u001b[0m Trial 921 finished with values: [0.6770833333333333, 0.0] and parameters: {'seed': 7269}. \u001b[0m\n",
      "\u001b[32m[I 2023-05-03 14:02:06,686]\u001b[0m Trial 924 finished with values: [1.0, 0.0] and parameters: {'seed': 5746}. \u001b[0m\n",
      "\u001b[32m[I 2023-05-03 14:02:07,479]\u001b[0m Trial 926 finished with values: [1.0, 0.16255705058574677] and parameters: {'seed': 1751}. \u001b[0m\n",
      "\u001b[32m[I 2023-05-03 14:02:07,507]\u001b[0m Trial 925 finished with values: [0.9375, 0.0] and parameters: {'seed': 253}. \u001b[0m\n",
      "\u001b[32m[I 2023-05-03 14:02:07,519]\u001b[0m Trial 929 finished with values: [0.861111111111111, 0.0] and parameters: {'seed': 6239}. \u001b[0m\n",
      "\u001b[32m[I 2023-05-03 14:02:07,569]\u001b[0m Trial 927 finished with values: [1.0, 0.0] and parameters: {'seed': 29}. \u001b[0m\n",
      "\u001b[32m[I 2023-05-03 14:02:07,612]\u001b[0m Trial 932 finished with values: [0.9444444444444444, 0.1714773029088974] and parameters: {'seed': 8426}. \u001b[0m\n",
      "\u001b[32m[I 2023-05-03 14:02:07,769]\u001b[0m Trial 937 finished with values: [0.9166666666666666, 0.0] and parameters: {'seed': 2107}. \u001b[0m\n",
      "\u001b[32m[I 2023-05-03 14:02:07,948]\u001b[0m Trial 934 finished with values: [0.8680555555555556, 0.0] and parameters: {'seed': 971}. \u001b[0m\n",
      "\u001b[32m[I 2023-05-03 14:02:07,968]\u001b[0m Trial 931 finished with values: [0.9791666666666666, 0.0] and parameters: {'seed': 7165}. \u001b[0m\n",
      "\u001b[32m[I 2023-05-03 14:02:08,171]\u001b[0m Trial 928 finished with values: [0.9097222222222222, 0.0] and parameters: {'seed': 9178}. \u001b[0m\n",
      "\u001b[32m[I 2023-05-03 14:02:08,241]\u001b[0m Trial 930 finished with values: [0.8819444444444445, 0.05519728735089302] and parameters: {'seed': 5553}. \u001b[0m\n",
      "\u001b[32m[I 2023-05-03 14:02:08,371]\u001b[0m Trial 939 finished with values: [0.9513888888888888, 0.0] and parameters: {'seed': 8380}. \u001b[0m\n",
      "\u001b[32m[I 2023-05-03 14:02:08,403]\u001b[0m Trial 935 finished with values: [0.888888888888889, 0.0] and parameters: {'seed': 1538}. \u001b[0m\n",
      "\u001b[32m[I 2023-05-03 14:02:08,589]\u001b[0m Trial 933 finished with values: [0.9236111111111112, 0.0] and parameters: {'seed': 142}. \u001b[0m\n",
      "\u001b[32m[I 2023-05-03 14:02:08,623]\u001b[0m Trial 938 finished with values: [0.888888888888889, 0.0] and parameters: {'seed': 3106}. \u001b[0m\n",
      "\u001b[32m[I 2023-05-03 14:02:08,738]\u001b[0m Trial 942 finished with values: [0.861111111111111, 0.0] and parameters: {'seed': 127}. \u001b[0m\n",
      "\u001b[32m[I 2023-05-03 14:02:08,812]\u001b[0m Trial 940 finished with values: [0.9444444444444444, 0.0] and parameters: {'seed': 1973}. \u001b[0m\n",
      "\u001b[32m[I 2023-05-03 14:02:08,938]\u001b[0m Trial 936 finished with values: [0.9861111111111112, 0.0] and parameters: {'seed': 1418}. \u001b[0m\n",
      "\u001b[32m[I 2023-05-03 14:02:09,221]\u001b[0m Trial 941 finished with values: [0.9583333333333333, 0.0] and parameters: {'seed': 7477}. \u001b[0m\n",
      "\u001b[32m[I 2023-05-03 14:02:09,342]\u001b[0m Trial 945 finished with values: [0.9166666666666666, 0.0] and parameters: {'seed': 2107}. \u001b[0m\n",
      "\u001b[32m[I 2023-05-03 14:02:09,462]\u001b[0m Trial 943 finished with values: [1.0, 0.0] and parameters: {'seed': 7050}. \u001b[0m\n",
      "\u001b[32m[I 2023-05-03 14:02:09,577]\u001b[0m Trial 950 finished with values: [0.9722222222222222, 0.0] and parameters: {'seed': 4546}. \u001b[0m\n",
      "\u001b[32m[I 2023-05-03 14:02:09,606]\u001b[0m Trial 946 finished with values: [0.875, 0.0] and parameters: {'seed': 8748}. \u001b[0m\n",
      "\u001b[32m[I 2023-05-03 14:02:09,777]\u001b[0m Trial 944 finished with values: [0.986111111111111, 0.0] and parameters: {'seed': 2229}. \u001b[0m\n",
      "\u001b[32m[I 2023-05-03 14:02:09,944]\u001b[0m Trial 947 finished with values: [0.9722222222222222, 0.3153866231441498] and parameters: {'seed': 6470}. \u001b[0m\n",
      "\u001b[32m[I 2023-05-03 14:02:10,013]\u001b[0m Trial 949 finished with values: [0.9236111111111112, 0.2421775460243225] and parameters: {'seed': 2631}. \u001b[0m\n",
      "\u001b[32m[I 2023-05-03 14:02:10,065]\u001b[0m Trial 948 finished with values: [0.9583333333333334, 0.0] and parameters: {'seed': 1386}. \u001b[0m\n",
      "\u001b[32m[I 2023-05-03 14:02:10,367]\u001b[0m Trial 952 finished with values: [1.0, 0.0] and parameters: {'seed': 7947}. \u001b[0m\n",
      "\u001b[32m[I 2023-05-03 14:02:10,503]\u001b[0m Trial 951 finished with values: [0.9166666666666667, 0.0] and parameters: {'seed': 2481}. \u001b[0m\n",
      "\u001b[32m[I 2023-05-03 14:02:10,787]\u001b[0m Trial 953 finished with values: [0.9583333333333334, 0.0] and parameters: {'seed': 1438}. \u001b[0m\n",
      "\u001b[32m[I 2023-05-03 14:02:10,808]\u001b[0m Trial 956 finished with values: [0.8819444444444444, 0.0] and parameters: {'seed': 5513}. \u001b[0m\n",
      "\u001b[32m[I 2023-05-03 14:02:11,059]\u001b[0m Trial 957 finished with values: [0.9652777777777778, 0.14088594913482666] and parameters: {'seed': 7188}. \u001b[0m\n",
      "\u001b[32m[I 2023-05-03 14:02:11,071]\u001b[0m Trial 960 finished with values: [0.9375, 0.0] and parameters: {'seed': 9165}. \u001b[0m\n",
      "\u001b[32m[I 2023-05-03 14:02:11,250]\u001b[0m Trial 958 finished with values: [0.9444444444444444, 0.0] and parameters: {'seed': 8076}. \u001b[0m\n",
      "\u001b[32m[I 2023-05-03 14:02:11,396]\u001b[0m Trial 955 finished with values: [0.986111111111111, 0.349238783121109] and parameters: {'seed': 5207}. \u001b[0m\n",
      "\u001b[32m[I 2023-05-03 14:02:11,487]\u001b[0m Trial 959 finished with values: [1.0, 0.0] and parameters: {'seed': 2749}. \u001b[0m\n",
      "\u001b[32m[I 2023-05-03 14:02:11,497]\u001b[0m Trial 954 finished with values: [0.923611111111111, 0.0] and parameters: {'seed': 13}. \u001b[0m\n",
      "\u001b[32m[I 2023-05-03 14:02:11,559]\u001b[0m Trial 961 finished with values: [0.9375, 0.0] and parameters: {'seed': 9935}. \u001b[0m\n",
      "\u001b[32m[I 2023-05-03 14:02:11,810]\u001b[0m Trial 965 finished with values: [0.9652777777777779, 0.11258890479803085] and parameters: {'seed': 9590}. \u001b[0m\n",
      "\u001b[32m[I 2023-05-03 14:02:12,011]\u001b[0m Trial 967 finished with values: [0.7638888888888888, 0.0] and parameters: {'seed': 8956}. \u001b[0m\n",
      "\u001b[32m[I 2023-05-03 14:02:12,054]\u001b[0m Trial 962 finished with values: [0.9305555555555556, 0.0] and parameters: {'seed': 4635}. \u001b[0m\n",
      "\u001b[32m[I 2023-05-03 14:02:12,361]\u001b[0m Trial 966 finished with values: [0.6111111111111112, 0.0] and parameters: {'seed': 2230}. \u001b[0m\n",
      "\u001b[32m[I 2023-05-03 14:02:12,476]\u001b[0m Trial 964 finished with values: [1.0, 0.2952651083469391] and parameters: {'seed': 4948}. \u001b[0m\n",
      "\u001b[32m[I 2023-05-03 14:02:12,570]\u001b[0m Trial 963 finished with values: [0.9722222222222223, 0.0] and parameters: {'seed': 9714}. \u001b[0m\n",
      "\u001b[32m[I 2023-05-03 14:02:12,599]\u001b[0m Trial 969 finished with values: [0.9652777777777778, 0.0] and parameters: {'seed': 9598}. \u001b[0m\n",
      "\u001b[32m[I 2023-05-03 14:02:12,612]\u001b[0m Trial 971 finished with values: [0.9375, 0.0] and parameters: {'seed': 6339}. \u001b[0m\n",
      "\u001b[32m[I 2023-05-03 14:02:12,801]\u001b[0m Trial 968 finished with values: [0.9652777777777779, 0.32101747393608093] and parameters: {'seed': 559}. \u001b[0m\n",
      "\u001b[32m[I 2023-05-03 14:02:12,952]\u001b[0m Trial 970 finished with values: [0.9722222222222223, 0.0] and parameters: {'seed': 2785}. \u001b[0m\n",
      "\u001b[32m[I 2023-05-03 14:02:12,979]\u001b[0m Trial 973 finished with values: [0.9930555555555555, 0.14969369769096375] and parameters: {'seed': 2965}. \u001b[0m\n",
      "\u001b[32m[I 2023-05-03 14:02:13,533]\u001b[0m Trial 972 finished with values: [0.9722222222222222, 0.17237728834152222] and parameters: {'seed': 7245}. \u001b[0m\n",
      "\u001b[32m[I 2023-05-03 14:02:13,544]\u001b[0m Trial 977 finished with values: [0.9722222222222223, 0.0] and parameters: {'seed': 7138}. \u001b[0m\n",
      "\u001b[32m[I 2023-05-03 14:02:13,681]\u001b[0m Trial 979 finished with values: [0.923611111111111, 0.16994844377040863] and parameters: {'seed': 4890}. \u001b[0m\n",
      "\u001b[32m[I 2023-05-03 14:02:13,739]\u001b[0m Trial 975 finished with values: [0.9513888888888888, 0.0] and parameters: {'seed': 9803}. \u001b[0m\n",
      "\u001b[32m[I 2023-05-03 14:02:13,772]\u001b[0m Trial 974 finished with values: [1.0, 0.18127889931201935] and parameters: {'seed': 3179}. \u001b[0m\n",
      "\u001b[32m[I 2023-05-03 14:02:13,982]\u001b[0m Trial 976 finished with values: [1.0, 0.21118170022964478] and parameters: {'seed': 9804}. \u001b[0m\n",
      "\u001b[32m[I 2023-05-03 14:02:14,027]\u001b[0m Trial 981 finished with values: [0.986111111111111, 0.0] and parameters: {'seed': 5123}. \u001b[0m\n",
      "\u001b[32m[I 2023-05-03 14:02:14,034]\u001b[0m Trial 978 finished with values: [0.8958333333333334, 0.0] and parameters: {'seed': 8919}. \u001b[0m\n",
      "\u001b[32m[I 2023-05-03 14:02:14,194]\u001b[0m Trial 980 finished with values: [0.9444444444444444, 0.1576511114835739] and parameters: {'seed': 894}. \u001b[0m\n",
      "\u001b[32m[I 2023-05-03 14:02:14,262]\u001b[0m Trial 983 finished with values: [0.8958333333333334, 0.10060340166091919] and parameters: {'seed': 4602}. \u001b[0m\n",
      "\u001b[32m[I 2023-05-03 14:02:14,505]\u001b[0m Trial 984 finished with values: [0.9652777777777778, 0.40826573967933655] and parameters: {'seed': 2022}. \u001b[0m\n",
      "\u001b[32m[I 2023-05-03 14:02:14,630]\u001b[0m Trial 988 finished with values: [0.7916666666666667, 0.0] and parameters: {'seed': 1478}. \u001b[0m\n",
      "\u001b[32m[I 2023-05-03 14:02:14,632]\u001b[0m Trial 986 finished with values: [0.8194444444444444, 0.0] and parameters: {'seed': 7865}. \u001b[0m\n",
      "\u001b[32m[I 2023-05-03 14:02:14,640]\u001b[0m Trial 990 finished with values: [0.9583333333333334, 0.0] and parameters: {'seed': 8095}. \u001b[0m\n",
      "\u001b[32m[I 2023-05-03 14:02:14,775]\u001b[0m Trial 992 finished with values: [0.9930555555555555, 0.0] and parameters: {'seed': 7639}. \u001b[0m\n",
      "\u001b[32m[I 2023-05-03 14:02:14,787]\u001b[0m Trial 982 finished with values: [0.9652777777777778, 0.46459975838661194] and parameters: {'seed': 9164}. \u001b[0m\n",
      "\u001b[32m[I 2023-05-03 14:02:14,818]\u001b[0m Trial 989 finished with values: [0.9027777777777779, 0.22000570595264435] and parameters: {'seed': 6575}. \u001b[0m\n",
      "\u001b[32m[I 2023-05-03 14:02:14,843]\u001b[0m Trial 985 finished with values: [0.9791666666666666, 0.0] and parameters: {'seed': 1524}. \u001b[0m\n",
      "\u001b[32m[I 2023-05-03 14:02:14,935]\u001b[0m Trial 987 finished with values: [0.9131944444444445, 0.13276107609272003] and parameters: {'seed': 8693}. \u001b[0m\n",
      "\u001b[32m[I 2023-05-03 14:02:14,993]\u001b[0m Trial 991 finished with values: [0.9930555555555555, 0.1816415786743164] and parameters: {'seed': 4279}. \u001b[0m\n",
      "\u001b[32m[I 2023-05-03 14:02:15,178]\u001b[0m Trial 993 finished with values: [1.0, 0.0] and parameters: {'seed': 8122}. \u001b[0m\n",
      "\u001b[32m[I 2023-05-03 14:02:15,233]\u001b[0m Trial 998 finished with values: [0.8958333333333334, 0.0] and parameters: {'seed': 4127}. \u001b[0m\n",
      "\u001b[32m[I 2023-05-03 14:02:15,307]\u001b[0m Trial 994 finished with values: [0.9722222222222222, 0.0] and parameters: {'seed': 9153}. \u001b[0m\n",
      "\u001b[32m[I 2023-05-03 14:02:15,307]\u001b[0m Trial 997 finished with values: [0.9930555555555555, 0.0] and parameters: {'seed': 2465}. \u001b[0m\n",
      "\u001b[32m[I 2023-05-03 14:02:15,319]\u001b[0m Trial 996 finished with values: [0.9513888888888888, 0.0] and parameters: {'seed': 6458}. \u001b[0m\n",
      "\u001b[32m[I 2023-05-03 14:02:15,324]\u001b[0m Trial 995 finished with values: [0.923611111111111, 0.23810236155986786] and parameters: {'seed': 1105}. \u001b[0m\n",
      "\u001b[32m[I 2023-05-03 14:02:15,348]\u001b[0m Trial 999 finished with values: [1.0, 0.0] and parameters: {'seed': 4872}. \u001b[0m\n"
     ]
    }
   ],
   "source": [
    "import optuna\n",
    "\n",
    "study_name: str = \"alejandro_resampled_data_BorderlineSMOTE\"\n",
    "\n",
    "study = optuna.create_study(\n",
    "    #study_name=study_name,\n",
    "    #storage=\"sqlite:///alejandro.db\",\n",
    "    directions=[\"maximize\", \"maximize\"],\n",
    "    # sampler=optuna.samplers.TPESampler(),  # NSGAIISampler(),\n",
    "    sampler=optuna.samplers.NSGAIISampler(), # NSGAIISampler(),\n",
    "    load_if_exists=True,\n",
    ")\n",
    "\n",
    "study.optimize(objective, n_trials=1_000, n_jobs=-1)\n",
    "# Sampling may take a long time. Other samples are faster but tend to be hiperfixed and thus generate repeated results."
   ]
  },
  {
   "cell_type": "code",
   "execution_count": 41,
   "metadata": {},
   "outputs": [
    {
     "data": {
      "application/vnd.plotly.v1+json": {
       "config": {
        "plotlyServerURL": "https://plot.ly"
       },
       "data": [
        {
         "marker": {
          "line": {
           "color": "black",
           "width": 1
          },
          "opacity": 0.5,
          "size": 8,
          "symbol": "circle"
         },
         "mode": "markers",
         "name": "Suboptimal",
         "type": "scatter",
         "x": [
          0.9652777777777778,
          0.8333333333333334,
          0.9166666666666666,
          0.9652777777777778,
          0.8958333333333334,
          0.8854166666666667,
          1,
          1,
          0.9444444444444444,
          0.9722222222222223,
          0.9791666666666666,
          0.9583333333333334,
          0.9444444444444444,
          0.9236111111111112,
          0.9583333333333333,
          1,
          0.9097222222222222,
          0.9166666666666666,
          0.9236111111111112,
          0.8298611111111112,
          0.9375,
          0.9930555555555555,
          0.9444444444444444,
          0.9305555555555556,
          0.6944444444444444,
          1,
          0.9652777777777778,
          0.9305555555555556,
          0.9513888888888888,
          0.9930555555555555,
          1,
          0.8749999999999999,
          0.875,
          1,
          0.9375000000000001,
          0.9062500000000001,
          0.9444444444444444,
          0.9270833333333334,
          0.9375,
          0.9305555555555556,
          0.9791666666666667,
          0.9583333333333333,
          0.9583333333333333,
          0.9652777777777778,
          0.9652777777777778,
          0.9722222222222222,
          1,
          0.8819444444444444,
          0.9791666666666666,
          0.9861111111111112,
          1,
          0.986111111111111,
          0.8611111111111112,
          0.8958333333333333,
          0.9791666666666666,
          1,
          0.9791666666666666,
          0.923611111111111,
          0.9583333333333333,
          0.9548611111111112,
          0.9305555555555556,
          1,
          0.9930555555555555,
          1,
          0.8333333333333334,
          0.9375,
          1,
          1,
          0.8055555555555555,
          0.9027777777777778,
          0.9722222222222222,
          0.9652777777777778,
          0.9722222222222222,
          1,
          1,
          0.951388888888889,
          0.9583333333333334,
          1,
          1,
          0.9305555555555556,
          0.9722222222222223,
          0.9652777777777778,
          0.9131944444444445,
          0.9652777777777778,
          0.8958333333333334,
          0.9722222222222222,
          0.9652777777777778,
          0.986111111111111,
          0.9305555555555556,
          0.9201388888888888,
          0.7708333333333333,
          1,
          0.9375,
          0.8888888888888888,
          0.9027777777777778,
          0.9027777777777778,
          0.986111111111111,
          0.9375,
          0.9097222222222223,
          0.857638888888889,
          0.9097222222222222,
          0.9374999999999999,
          0.9583333333333334,
          0.9027777777777779,
          1,
          0.9722222222222223,
          0.986111111111111,
          0.9375,
          0.9930555555555555,
          0.8819444444444444,
          1,
          0.8055555555555556,
          0.923611111111111,
          0.9305555555555556,
          0.8680555555555556,
          1,
          0.9375,
          1,
          0.8819444444444445,
          1,
          1,
          0.8680555555555556,
          0.8402777777777777,
          0.9444444444444444,
          0.9097222222222222,
          0.8541666666666667,
          1,
          0.8472222222222221,
          0.9305555555555555,
          0.8750000000000001,
          0.9722222222222223,
          0.9513888888888888,
          0.9791666666666666,
          0.9305555555555555,
          0.9097222222222222,
          0.986111111111111,
          1,
          1,
          1,
          0.9791666666666666,
          0.875,
          0.9583333333333334,
          0.9583333333333333,
          0.9652777777777777,
          0.8958333333333334,
          0.9722222222222222,
          0.9583333333333333,
          0.9722222222222222,
          0.9166666666666666,
          0.9166666666666667,
          0.9166666666666666,
          0.8194444444444445,
          0.9513888888888888,
          0.9513888888888888,
          0.9444444444444444,
          0.9930555555555555,
          0.9444444444444444,
          0.9375,
          1,
          0.9027777777777778,
          1,
          1,
          0.9583333333333333,
          1,
          0.9166666666666667,
          0.9652777777777778,
          0.986111111111111,
          0.8888888888888888,
          0.9583333333333333,
          1,
          1,
          0.8958333333333334,
          0.875,
          0.8854166666666667,
          0.9722222222222223,
          0.8784722222222222,
          0.9861111111111112,
          0.888888888888889,
          0.9652777777777778,
          0.8958333333333333,
          0.9027777777777778,
          0.9027777777777778,
          0.9930555555555555,
          0.9027777777777778,
          0.8125,
          0.986111111111111,
          0.9791666666666666,
          0.9583333333333334,
          0.9930555555555555,
          0.9930555555555555,
          0.9513888888888888,
          0.986111111111111,
          0.8958333333333333,
          0.9513888888888888,
          0.923611111111111,
          0.9131944444444444,
          1,
          1,
          0.9375,
          0.9861111111111112,
          1,
          0.9027777777777778,
          1,
          0.9652777777777778,
          0.9375,
          1,
          0.9166666666666666,
          1,
          0.9513888888888888,
          0.9652777777777778,
          0.9236111111111112,
          0.9722222222222222,
          0.9166666666666666,
          0.951388888888889,
          0.986111111111111,
          0.9236111111111112,
          0.9652777777777778,
          0.9444444444444444,
          1,
          0.9097222222222221,
          1,
          0.9583333333333334,
          1,
          0.9305555555555556,
          0.9479166666666667,
          0.9097222222222223,
          1,
          1,
          0.9722222222222222,
          0.8680555555555555,
          1,
          0.986111111111111,
          1,
          0.8472222222222223,
          0.9583333333333334,
          0.9166666666666666,
          0.9583333333333334,
          1,
          0.8819444444444444,
          0.9166666666666666,
          0.9236111111111109,
          0.9444444444444444,
          0.9791666666666666,
          0.9583333333333333,
          0.9305555555555555,
          0.9583333333333333,
          0.78125,
          0.9444444444444444,
          0.8680555555555556,
          0.986111111111111,
          0.9513888888888888,
          0.9236111111111112,
          0.9722222222222223,
          0.9236111111111112,
          0.8333333333333334,
          0.9861111111111112,
          0.9097222222222222,
          0.8541666666666667,
          0.9513888888888888,
          0.9305555555555555,
          0.8819444444444445,
          0.9513888888888888,
          0.9791666666666666,
          1,
          1,
          0.9652777777777778,
          0.9305555555555555,
          0.9652777777777779,
          0.9861111111111112,
          0.8402777777777778,
          1,
          0.9513888888888888,
          1,
          0.9583333333333333,
          0.9652777777777778,
          0.9930555555555555,
          0.9930555555555555,
          0.9930555555555555,
          0.9166666666666666,
          0.8298611111111112,
          0.6736111111111112,
          0.798611111111111,
          0.9930555555555555,
          1,
          0.9375,
          0.84375,
          0.951388888888889,
          1,
          1,
          0.9930555555555555,
          0.9444444444444444,
          0.9930555555555555,
          0.875,
          0.8402777777777778,
          0.986111111111111,
          0.9513888888888888,
          0.9652777777777778,
          0.9791666666666666,
          0.9166666666666666,
          0.9513888888888888,
          0.9722222222222223,
          0.9097222222222223,
          0.9791666666666666,
          0.8333333333333333,
          0.9444444444444444,
          0.9791666666666667,
          0.9513888888888888,
          0.9305555555555556,
          0.8194444444444444,
          0.9791666666666667,
          0.826388888888889,
          0.9895833333333334,
          0.9270833333333334,
          0.951388888888889,
          1,
          0.923611111111111,
          1,
          0.9930555555555555,
          0.9722222222222222,
          0.9722222222222222,
          0.9236111111111112,
          0.9722222222222222,
          0.9305555555555556,
          0.9652777777777779,
          0.8645833333333334,
          1,
          0.9930555555555555,
          1,
          0.986111111111111,
          0.9444444444444444,
          0.9027777777777778,
          0.9444444444444444,
          0.8958333333333334,
          0.951388888888889,
          0.9583333333333333,
          1,
          0.9444444444444445,
          0.9652777777777778,
          0.9652777777777778,
          0.9930555555555555,
          0.9027777777777778,
          0.8958333333333335,
          0.9097222222222223,
          0.9375,
          0.9791666666666666,
          0.9791666666666666,
          1,
          0.9583333333333334,
          1,
          1,
          0.9375,
          0.875,
          0.9722222222222222,
          0.9097222222222223,
          0.9930555555555555,
          0.9722222222222223,
          0.9097222222222223,
          1,
          0.9375,
          0.9583333333333334,
          0.9166666666666666,
          0.8472222222222222,
          1,
          0.9652777777777778,
          0.9513888888888888,
          0.9652777777777779,
          0.8958333333333335,
          0.9652777777777777,
          0.9444444444444445,
          0.8958333333333333,
          0.7465277777777778,
          0.9722222222222223,
          1,
          0.9305555555555555,
          0.8888888888888888,
          1,
          0.9930555555555555,
          0.9722222222222223,
          0.9930555555555555,
          0.9583333333333333,
          1,
          1,
          0.8472222222222222,
          0.9791666666666666,
          1,
          0.9861111111111112,
          0.9166666666666666,
          0.9722222222222223,
          1,
          1,
          1,
          0.9305555555555556,
          0.9444444444444445,
          1,
          1,
          0.9930555555555555,
          1,
          0.9166666666666667,
          0.9305555555555555,
          0.9166666666666666,
          0.9930555555555555,
          0.9097222222222223,
          0.9409722222222222,
          0.9791666666666666,
          0.9027777777777778,
          0.888888888888889,
          1,
          0.9722222222222223,
          0.9652777777777778,
          0.888888888888889,
          0.9513888888888888,
          0.9166666666666667,
          0.9652777777777778,
          0.9097222222222223,
          0.9374999999999999,
          0.923611111111111,
          0.9722222222222223,
          0.9097222222222223,
          1,
          0.9791666666666666,
          0.9305555555555556,
          0.9444444444444444,
          0.9930555555555555,
          0.9722222222222223,
          0.9375,
          0.9652777777777779,
          0.8611111111111112,
          0.9930555555555555,
          0.9166666666666667,
          1,
          1,
          0.9930555555555555,
          1,
          0.9652777777777778,
          0.9583333333333334,
          0.857638888888889,
          1,
          0.8263888888888888,
          0.9583333333333333,
          0.8819444444444444,
          0.986111111111111,
          1,
          0.9861111111111112,
          0.9444444444444445,
          1,
          0.9583333333333333,
          0.923611111111111,
          1,
          0.9722222222222222,
          0.9722222222222222,
          0.9930555555555555,
          0.875,
          0.9375,
          1,
          0.9722222222222222,
          0.9166666666666667,
          0.8958333333333334,
          0.8819444444444444,
          1,
          0.9444444444444445,
          0.9097222222222222,
          0.986111111111111,
          0.8819444444444444,
          0.9444444444444444,
          0.9791666666666667,
          1,
          0.8229166666666667,
          1,
          0.9166666666666666,
          0.9444444444444444,
          0.9791666666666666,
          0.8819444444444444,
          0.986111111111111,
          0.8958333333333333,
          0.8125,
          0.9444444444444444,
          1,
          0.9375,
          0.9791666666666666,
          0.9305555555555556,
          0.7569444444444444,
          1,
          0.9097222222222222,
          0.9513888888888888,
          0.9791666666666666,
          0.9861111111111112,
          0.9027777777777778,
          0.90625,
          0.9375,
          0.9652777777777778,
          0.9722222222222222,
          0.9236111111111112,
          0.9722222222222222,
          0.90625,
          0.9305555555555556,
          0.9027777777777778,
          1,
          0.9513888888888888,
          0.9791666666666667,
          0.9791666666666667,
          1,
          0.9444444444444444,
          0.9652777777777778,
          0.986111111111111,
          0.8819444444444444,
          1,
          0.9583333333333334,
          0.9131944444444444,
          0.9375,
          1,
          0.888888888888889,
          1,
          0.7569444444444444,
          0.8402777777777777,
          1,
          0.9652777777777778,
          0.951388888888889,
          1,
          0.9583333333333333,
          0.9722222222222223,
          1,
          0.9583333333333333,
          0.9930555555555555,
          0.826388888888889,
          0.875,
          0.9375,
          0.9652777777777778,
          0.9166666666666666,
          0.9791666666666666,
          1,
          0.9097222222222222,
          0.9027777777777778,
          1,
          0.9930555555555555,
          0.9027777777777778,
          1,
          1,
          0.9375,
          0.9097222222222222,
          0.9236111111111112,
          0.8958333333333335,
          0.9097222222222221,
          0.888888888888889,
          0.8958333333333333,
          0.9652777777777777,
          0.9722222222222222,
          0.9027777777777778,
          0.923611111111111,
          0.732638888888889,
          0.9166666666666667,
          0.9722222222222222,
          0.9166666666666667,
          0.8611111111111112,
          0.9791666666666667,
          0.9652777777777778,
          1,
          0.9722222222222223,
          0.9583333333333333,
          0.8958333333333333,
          0.9861111111111112,
          0.986111111111111,
          1,
          1,
          0.9375,
          0.9722222222222223,
          0.9652777777777778,
          1,
          1,
          0.9375000000000001,
          0.9027777777777778,
          1,
          0.951388888888889,
          0.986111111111111,
          0.951388888888889,
          0.9131944444444444,
          0.9861111111111112,
          0.9930555555555555,
          0.9305555555555556,
          0.923611111111111,
          0.9131944444444444,
          0.875,
          0.9722222222222222,
          0.9444444444444444,
          0.9444444444444444,
          0.9930555555555555,
          0.9236111111111112,
          0.9791666666666666,
          0.951388888888889,
          0.9930555555555555,
          0.9479166666666666,
          0.9930555555555555,
          0.9444444444444444,
          0.9652777777777778,
          1,
          0.8819444444444445,
          0.9791666666666666,
          0.9027777777777779,
          0.9375,
          0.9861111111111112,
          0.8611111111111112,
          0.9930555555555555,
          0.986111111111111,
          0.8541666666666666,
          0.9305555555555556,
          0.9930555555555555,
          0.9097222222222222,
          1,
          0.9166666666666666,
          1,
          0.9722222222222222,
          1,
          0.9722222222222222,
          0.9513888888888888,
          0.8194444444444444,
          0.9791666666666666,
          0.9861111111111112,
          0.8888888888888888,
          0.9583333333333334,
          0.9375,
          0.9097222222222222,
          0.951388888888889,
          1,
          0.8645833333333334,
          0.9583333333333334,
          0.9375,
          0.9861111111111112,
          0.9305555555555556,
          0.8055555555555556,
          0.9513888888888888,
          0.78125,
          0.923611111111111,
          0.8680555555555556,
          0.9305555555555555,
          1,
          0.7569444444444444,
          0.986111111111111,
          0.8055555555555556,
          0.9791666666666667,
          0.8472222222222223,
          0.9930555555555555,
          0.9930555555555555,
          0.9444444444444444,
          1,
          0.9791666666666667,
          0.9375,
          1,
          0.9930555555555555,
          0.9722222222222223,
          0.8472222222222221,
          0.9375,
          0.9791666666666666,
          0.986111111111111,
          0.9375,
          1,
          1,
          0.8298611111111112,
          0.9583333333333334,
          0.8993055555555556,
          0.9930555555555555,
          0.9479166666666666,
          0.9375,
          0.9027777777777779,
          0.9513888888888888,
          1,
          1,
          0.8958333333333333,
          0.9583333333333334,
          0.9027777777777778,
          1,
          0.8611111111111112,
          1,
          0.875,
          1,
          0.9930555555555555,
          0.8958333333333334,
          0.9305555555555556,
          0.9236111111111112,
          0.9861111111111112,
          0.9652777777777778,
          0.9375,
          0.8055555555555556,
          1,
          1,
          1,
          0.9722222222222222,
          0.9722222222222223,
          1,
          0.986111111111111,
          0.8611111111111112,
          0.9236111111111112,
          0.9444444444444444,
          0.9791666666666667,
          0.9722222222222222,
          0.9583333333333333,
          0.9027777777777778,
          0.8819444444444444,
          0.9861111111111112,
          0.9513888888888888,
          0.9375,
          0.875,
          1,
          0.9722222222222222,
          0.9722222222222222,
          1,
          0.9201388888888888,
          0.9583333333333334,
          1,
          0.9375,
          0.9930555555555555,
          0.923611111111111,
          0.9652777777777777,
          0.9791666666666667,
          0.9583333333333333,
          0.9791666666666666,
          0.9166666666666667,
          0.9652777777777777,
          0.8888888888888888,
          0.9722222222222222,
          0.9166666666666667,
          0.9652777777777778,
          0.8888888888888888,
          0.9791666666666667,
          0.8125,
          1,
          0.8958333333333334,
          0.9722222222222223,
          0.9513888888888888,
          0.9444444444444444,
          0.9305555555555555,
          0.9861111111111112,
          0.9097222222222223,
          0.9583333333333334,
          0.9513888888888888,
          0.9583333333333334,
          0.986111111111111,
          0.9861111111111112,
          0.9583333333333334,
          1,
          0.9444444444444445,
          0.9027777777777778,
          0.9305555555555556,
          0.9305555555555555,
          0.9270833333333334,
          0.8958333333333334,
          0.7847222222222222,
          1,
          0.9097222222222222,
          0.9791666666666667,
          0.923611111111111,
          0.9791666666666666,
          0.9236111111111112,
          0.875,
          1,
          0.8472222222222222,
          1,
          0.9375,
          1,
          0.9791666666666666,
          0.9305555555555556,
          0.8229166666666666,
          0.9340277777777779,
          0.90625,
          0.9236111111111112,
          1,
          0.9583333333333333,
          1,
          0.875,
          0.9305555555555556,
          0.875,
          0.951388888888889,
          0.920138888888889,
          1,
          0.9722222222222223,
          0.9027777777777778,
          0.9375,
          1,
          0.9305555555555556,
          0.9444444444444444,
          0.8749999999999999,
          0.9652777777777778,
          1,
          0.986111111111111,
          0.9652777777777778,
          1,
          0.9826388888888888,
          1,
          1,
          0.9583333333333334,
          0.951388888888889,
          1,
          0.9722222222222222,
          0.9375,
          0.9097222222222222,
          0.9583333333333334,
          0.96875,
          0.986111111111111,
          0.951388888888889,
          0.732638888888889,
          0.9652777777777778,
          1,
          1,
          0.9930555555555555,
          0.9444444444444444,
          1,
          0.9166666666666666,
          0.9583333333333334,
          0.9444444444444444,
          0.9305555555555556,
          0.9583333333333333,
          0.9722222222222223,
          0.9722222222222223,
          0.9791666666666666,
          0.9861111111111112,
          1,
          0.8888888888888888,
          0.9513888888888888,
          0.986111111111111,
          0.826388888888889,
          0.9513888888888888,
          0.9097222222222222,
          0.9583333333333333,
          0.8611111111111112,
          0.9027777777777778,
          0.9652777777777778,
          0.9652777777777778,
          1,
          0.986111111111111,
          1,
          0.9027777777777778,
          0.7916666666666667,
          1,
          0.9305555555555556,
          0.9930555555555555,
          1,
          0.9513888888888888,
          0.8090277777777778,
          0.9722222222222223,
          0.9375,
          0.9722222222222223,
          0.9791666666666666,
          0.923611111111111,
          0.9444444444444445,
          1,
          0.9444444444444444,
          0.9722222222222222,
          0.8472222222222222,
          0.9513888888888888,
          0.9375,
          0.9722222222222222,
          1,
          0.9791666666666666,
          0.7986111111111112,
          0.9791666666666666,
          0.9513888888888888,
          1,
          0.9583333333333334,
          1,
          1,
          0.8541666666666666,
          0.888888888888889,
          0.9791666666666666,
          0.9652777777777778,
          0.8958333333333333,
          1,
          0.9375,
          0.923611111111111,
          0.9930555555555555,
          0.9097222222222223,
          0.9444444444444444,
          0.986111111111111,
          0.9861111111111112,
          0.9305555555555556,
          1,
          0.9930555555555555,
          0.9652777777777778,
          1,
          0.9166666666666666,
          1,
          0.9375,
          0.9652777777777778,
          0.9097222222222222,
          0.9583333333333334,
          0.9375,
          1,
          0.9444444444444444,
          0.9652777777777778,
          0.986111111111111,
          1,
          0.9444444444444444,
          0.9444444444444444,
          0.9340277777777778,
          0.9583333333333334,
          0.986111111111111,
          0.9444444444444444,
          1,
          0.9583333333333334,
          0.8020833333333334,
          1,
          0.9166666666666667,
          0.9722222222222223,
          1,
          0.9652777777777778,
          1,
          1,
          0.9652777777777778,
          0.9513888888888888,
          0.9722222222222223,
          0.9305555555555555,
          0.9166666666666667,
          0.9722222222222222,
          0.9583333333333334,
          0.9097222222222222,
          0.9513888888888888,
          0.986111111111111,
          0.9513888888888888,
          0.9652777777777778,
          0.8750000000000001,
          0.6770833333333333,
          0.9513888888888888,
          1,
          1,
          0.9375,
          1,
          1,
          0.9097222222222222,
          0.861111111111111,
          0.8819444444444445,
          0.9791666666666666,
          0.9444444444444444,
          0.9236111111111112,
          0.8680555555555556,
          0.888888888888889,
          0.9861111111111112,
          0.9166666666666666,
          0.888888888888889,
          0.9513888888888888,
          0.9444444444444444,
          0.9583333333333333,
          0.861111111111111,
          1,
          0.986111111111111,
          0.9166666666666666,
          0.875,
          0.9722222222222222,
          0.9583333333333334,
          0.9236111111111112,
          0.9722222222222222,
          0.9166666666666667,
          1,
          0.9583333333333334,
          0.923611111111111,
          0.986111111111111,
          0.8819444444444444,
          0.9652777777777778,
          0.9444444444444444,
          1,
          0.9375,
          0.9375,
          0.9305555555555556,
          0.9722222222222223,
          1,
          0.9652777777777779,
          0.6111111111111112,
          0.7638888888888888,
          0.9652777777777779,
          0.9652777777777778,
          0.9722222222222223,
          0.9375,
          0.9722222222222222,
          0.9930555555555555,
          1,
          0.9513888888888888,
          1,
          0.9722222222222223,
          0.8958333333333334,
          0.923611111111111,
          0.9444444444444444,
          0.986111111111111,
          0.9652777777777778,
          0.8958333333333334,
          0.9652777777777778,
          0.9791666666666666,
          0.8194444444444444,
          0.9131944444444445,
          0.7916666666666667,
          0.9027777777777779,
          0.9583333333333334,
          0.9930555555555555,
          0.9930555555555555,
          1,
          0.9722222222222222,
          0.923611111111111,
          0.9513888888888888,
          0.9930555555555555,
          0.8958333333333334,
          1
         ],
         "y": [
          0,
          0,
          0.2080060839653015,
          0,
          0,
          0,
          0,
          0.1336052268743515,
          0,
          0,
          0.2639109790325165,
          0,
          0,
          0,
          0.3336386978626251,
          0.06753042340278625,
          0,
          0.13304419815540314,
          0,
          0,
          0,
          0,
          0,
          0,
          0.08509377390146255,
          0,
          0,
          0.042120497673749924,
          0.20103846490383148,
          0.2746144235134125,
          0,
          0,
          0,
          0,
          0,
          0,
          0,
          0,
          0.08379312604665756,
          0,
          0,
          0.08551391959190369,
          0.15377871692180634,
          0,
          0,
          0,
          0,
          0.1981034278869629,
          0.39277052879333496,
          0.22479946911334991,
          0,
          0,
          0,
          0.12231943011283875,
          0,
          0,
          0,
          0,
          0,
          0.10454817861318588,
          0.1854029893875122,
          0,
          0,
          0,
          0,
          0,
          0,
          0,
          0,
          0,
          0.20050017535686493,
          0,
          0,
          0,
          0,
          0,
          0.1597982496023178,
          0,
          0,
          0.5093654990196228,
          0.14193831384181976,
          0.16218432784080505,
          0.21866489946842194,
          0,
          0.37060341238975525,
          0,
          0.4404652416706085,
          0,
          0,
          0,
          0.18870671093463898,
          0,
          0,
          0,
          0,
          0.13398098945617676,
          0,
          0,
          0.06404728442430496,
          0,
          0,
          0,
          0,
          0,
          0.13930703699588776,
          0,
          0,
          0.08379312604665756,
          0,
          0,
          0,
          0,
          0,
          0,
          0,
          0.18127889931201935,
          0.19112956523895264,
          0,
          0.12674356997013092,
          0,
          0,
          0,
          0,
          0.2330443412065506,
          0,
          0,
          0,
          0,
          0,
          0,
          0,
          0.32594409584999084,
          0.3723483383655548,
          0,
          0,
          0.13561804592609406,
          0,
          0,
          0,
          0,
          0,
          0.22484199702739716,
          0,
          0.2273516207933426,
          0,
          0.13408054411411285,
          0.15377871692180634,
          0,
          0,
          0,
          0.209176704287529,
          0,
          0.16873504221439362,
          0.1935928910970688,
          0,
          0.32338547706604004,
          0,
          0.29096660017967224,
          0,
          0,
          0,
          0,
          0,
          0,
          0.30544620752334595,
          0.2786393165588379,
          0,
          0.1447216421365738,
          0,
          0,
          0,
          0,
          0.29627910256385803,
          0,
          0,
          0,
          0,
          0,
          0,
          0,
          0.38013073801994324,
          0.18719543516635895,
          0.151817187666893,
          0.4757250249385834,
          0,
          0,
          0.39277052879333496,
          0,
          0,
          0,
          0,
          0,
          0,
          0,
          0,
          0.13951875269412994,
          0,
          0,
          0,
          0,
          0.1155092641711235,
          0,
          0,
          0.1455385535955429,
          0,
          0.17562127113342285,
          0,
          0,
          0,
          0.08005525916814804,
          0,
          0.20050017535686493,
          0,
          0.24610447883605957,
          0,
          0.1514693945646286,
          0,
          0,
          0.16897612810134888,
          0.13592363893985748,
          0.1120426133275032,
          0,
          0.21316523849964142,
          0.2918635904788971,
          0,
          0,
          0.2428995966911316,
          0,
          0.23395897448062897,
          0,
          0,
          0,
          0.2395925670862198,
          0,
          0.09943124651908875,
          0,
          0,
          0,
          0.47169551253318787,
          0,
          0,
          0,
          0,
          0.12299173325300217,
          0.16897571086883545,
          0,
          0.37391170859336853,
          0.050577953457832336,
          0,
          0,
          0,
          0.10653006285429001,
          0,
          0,
          0,
          0,
          0,
          0.4060990810394287,
          0.2555586099624634,
          0.276770681142807,
          0,
          0.15060196816921234,
          0,
          0,
          0,
          0,
          0,
          0,
          0,
          0,
          0.216074600815773,
          0.21276609599590302,
          0,
          0.24368293583393097,
          0,
          0.13812944293022156,
          0,
          0,
          0.28709307312965393,
          0,
          0,
          0.3152066767215729,
          0.09034871309995651,
          0,
          0.11807148903608322,
          0,
          0,
          0,
          0,
          0,
          0.301744282245636,
          0.20363561809062958,
          0,
          0,
          0,
          0.2555586099624634,
          0,
          0.1922922283411026,
          0.153418630361557,
          0.299593061208725,
          0.16099025309085846,
          0,
          0,
          0.3263442814350128,
          0.15860892832279205,
          0,
          0.3233151435852051,
          0.45916488766670227,
          0,
          0.21945281326770782,
          0,
          0,
          0,
          0.1688404232263565,
          0,
          0,
          0.06038588285446167,
          0,
          0,
          0,
          0,
          0.2883479595184326,
          0,
          0,
          0,
          0,
          0,
          0,
          0,
          0,
          0.2585955262184143,
          0,
          0,
          0,
          0.1480538696050644,
          0,
          0,
          0,
          0.13995464146137238,
          0,
          0,
          0.18350553512573242,
          0,
          0,
          0,
          0,
          0,
          0,
          0,
          0,
          0,
          0.2915862500667572,
          0,
          0.502849280834198,
          0,
          0,
          0,
          0.08734463900327682,
          0.14852385222911835,
          0.19537179172039032,
          0,
          0.08736617118120193,
          0,
          0.1989613175392151,
          0.12977029383182526,
          0,
          0,
          0.0798206552863121,
          0,
          0.12231943011283875,
          0,
          0,
          0,
          0,
          0,
          0,
          0,
          0,
          0,
          0.11087602376937866,
          0,
          0,
          0,
          0.11067215353250504,
          0,
          0.0637345239520073,
          0.06273142993450165,
          0,
          0,
          0,
          0,
          0,
          0,
          0,
          0.27984821796417236,
          0,
          0,
          0,
          0,
          0,
          0.16690365970134735,
          0,
          0,
          0.30475544929504395,
          0,
          0.09423454850912094,
          0,
          0,
          0.4737052619457245,
          0.25821682810783386,
          0.22528934478759766,
          0.14084939658641815,
          0,
          0,
          0,
          0,
          0,
          0,
          0,
          0,
          0,
          0.12231554836034775,
          0,
          0,
          0,
          0,
          0.1416483074426651,
          0,
          0,
          0,
          0,
          0,
          0.09400855749845505,
          0,
          0.07809596508741379,
          0.3581268787384033,
          0,
          0,
          0,
          0.3388737440109253,
          0.46959367394447327,
          0,
          0.11384844779968262,
          0,
          0.15521912276744843,
          0,
          0,
          0,
          0,
          0,
          0,
          0,
          0.09678399562835693,
          0,
          0,
          0,
          0,
          0,
          0,
          0,
          0,
          0,
          0,
          0.052293602377176285,
          0,
          0,
          0.4612003564834595,
          0,
          0.1984582096338272,
          0.25852498412132263,
          0.15554609894752502,
          0,
          0,
          0,
          0,
          0,
          0,
          0.05242340266704559,
          0,
          0,
          0.09242526441812515,
          0,
          0,
          0.20670254528522491,
          0,
          0,
          0,
          0,
          0.23338407278060913,
          0,
          0,
          0.4023260176181793,
          0,
          0,
          0,
          0.2077627032995224,
          0,
          0,
          0.21945281326770782,
          0,
          0,
          0,
          0,
          0,
          0,
          0.20743004977703094,
          0.25977206230163574,
          0,
          0,
          0,
          0,
          0,
          0,
          0,
          0,
          0,
          0,
          0,
          0,
          0,
          0,
          0.1480538696050644,
          0,
          0,
          0.15579694509506226,
          0.13459084928035736,
          0,
          0,
          0,
          0,
          0,
          0,
          0,
          0,
          0,
          0,
          0,
          0.19288097321987152,
          0,
          0.38512465357780457,
          0,
          0.3540074825286865,
          0,
          0.4019499719142914,
          0,
          0,
          0,
          0,
          0,
          0.3513300120830536,
          0,
          0,
          0,
          0,
          0.0959540605545044,
          0,
          0,
          0,
          0.4019499719142914,
          0,
          0.0882701501250267,
          0,
          0,
          0,
          0,
          0,
          0.1768866777420044,
          0,
          0,
          0,
          0,
          0.210086390376091,
          0,
          0.1364762932062149,
          0,
          0,
          0,
          0,
          0.2290831357240677,
          0.1470198780298233,
          0.4845445156097412,
          0.2130107432603836,
          0,
          0,
          0,
          0,
          0.1631443351507187,
          0,
          0,
          0,
          0.20363561809062958,
          0,
          0,
          0.21682162582874298,
          0.20482641458511353,
          0.2639109790325165,
          0,
          0,
          0,
          0.08143331855535507,
          0,
          0.11422000080347061,
          0,
          0.3044005036354065,
          0,
          0.4862182140350342,
          0,
          0.19331590831279755,
          0.1297808736562729,
          0,
          0,
          0,
          0.07566823810338974,
          0,
          0.39499202370643616,
          0,
          0,
          0,
          0,
          0.07387989014387131,
          0,
          0.04141240939497948,
          0.07471245527267456,
          0,
          0,
          0,
          0.12991447746753693,
          0.07127875834703445,
          0,
          0,
          0,
          0,
          0,
          0,
          0.09242526441812515,
          0,
          0.10501524060964584,
          0,
          0,
          0,
          0,
          0,
          0,
          0,
          0.1652219146490097,
          0.21529315412044525,
          0.18084071576595306,
          0,
          0,
          0,
          0,
          0,
          0,
          0,
          0.1974998116493225,
          0,
          0.19117821753025055,
          0,
          0,
          0,
          0,
          0.1603034883737564,
          0,
          0,
          0,
          0.18974119424819946,
          0,
          0.14393053948879242,
          0,
          0.1416483074426651,
          0,
          0,
          0.15742160379886627,
          0,
          0.0744592621922493,
          0,
          0,
          0.18387718498706818,
          0,
          0.11440816521644592,
          0,
          0,
          0,
          0.2440272569656372,
          0.1741027981042862,
          0,
          0,
          0,
          0,
          0,
          0,
          0.16434578597545624,
          0,
          0,
          0,
          0,
          0,
          0.14495909214019775,
          0.2511381208896637,
          0,
          0.1564340591430664,
          0,
          0,
          0.37693771719932556,
          0,
          0,
          0,
          0,
          0,
          0,
          0,
          0,
          0,
          0,
          0,
          0.20012660324573517,
          0,
          0,
          0.3206937611103058,
          0,
          0,
          0,
          0.29837092757225037,
          0,
          0,
          0,
          0,
          0,
          0.19592899084091187,
          0,
          0,
          0.0828845277428627,
          0,
          0.16534458100795746,
          0,
          0,
          0,
          0.2428995966911316,
          0,
          0,
          0,
          0,
          0,
          0,
          0.3836144208908081,
          0.0728706568479538,
          0.18101215362548828,
          0.4538709819316864,
          0.1514866054058075,
          0,
          0,
          0.1790648102760315,
          0,
          0.08736617118120193,
          0.37844762206077576,
          0,
          0.1495528221130371,
          0,
          0.5493842959403992,
          0.29216262698173523,
          0.23662321269512177,
          0.0814916118979454,
          0,
          0,
          0.12299173325300217,
          0,
          0,
          0,
          0,
          0,
          0,
          0,
          0,
          0.2959579527378082,
          0.09678399562835693,
          0,
          0,
          0,
          0.2665850818157196,
          0.46459975838661194,
          0,
          0.370015949010849,
          0,
          0.20017538964748383,
          0.06638485193252563,
          0,
          0,
          0,
          0,
          0,
          0,
          0,
          0,
          0,
          0.13009482622146606,
          0,
          0.19075065851211548,
          0,
          0,
          0.11652607470750809,
          0.06753042340278625,
          0,
          0,
          0,
          0,
          0,
          0,
          0,
          0.12483856827020645,
          0,
          0,
          0,
          0,
          0,
          0,
          0,
          0,
          0.2500345706939697,
          0.21068812906742096,
          0,
          0,
          0,
          0.14949889481067657,
          0,
          0.12433109432458878,
          0,
          0,
          0,
          0,
          0,
          0,
          0,
          0,
          0.2952651083469391,
          0.08270206302404404,
          0.44277819991111755,
          0,
          0,
          0.18942993879318237,
          0,
          0.3247511684894562,
          0,
          0,
          0.1257706731557846,
          0,
          0.22301526367664337,
          0,
          0.14743097126483917,
          0,
          0,
          0,
          0,
          0.16270236670970917,
          0,
          0,
          0,
          0,
          0,
          0,
          0,
          0.1599607765674591,
          0,
          0,
          0,
          0,
          0.1944214105606079,
          0,
          0,
          0.09654015302658081,
          0,
          0,
          0,
          0,
          0.1977064162492752,
          0.15405058860778809,
          0,
          0,
          0,
          0.12271218746900558,
          0.17372502386569977,
          0.3909592926502228,
          0,
          0.15274818241596222,
          0.3164883553981781,
          0,
          0.12267201393842697,
          0,
          0.4219263792037964,
          0.143312469124794,
          0,
          0,
          0,
          0,
          0,
          0,
          0,
          0.10998054593801498,
          0.3164883553981781,
          0,
          0,
          0,
          0,
          0,
          0,
          0.13885150849819183,
          0.18263894319534302,
          0,
          0,
          0,
          0.2760717272758484,
          0,
          0,
          0,
          0,
          0.16939622163772583,
          0,
          0.3036423623561859,
          0,
          0.18429802358150482,
          0,
          0,
          0,
          0.16255705058574677,
          0,
          0,
          0,
          0.05519728735089302,
          0,
          0.1714773029088974,
          0,
          0,
          0,
          0,
          0,
          0,
          0,
          0,
          0,
          0,
          0,
          0,
          0,
          0,
          0.3153866231441498,
          0,
          0.2421775460243225,
          0,
          0,
          0,
          0,
          0,
          0.349238783121109,
          0,
          0.14088594913482666,
          0,
          0,
          0,
          0,
          0,
          0,
          0.2952651083469391,
          0.11258890479803085,
          0,
          0,
          0.32101747393608093,
          0,
          0,
          0,
          0.17237728834152222,
          0.14969369769096375,
          0.18127889931201935,
          0,
          0.21118170022964478,
          0,
          0,
          0.16994844377040863,
          0.1576511114835739,
          0,
          0.46459975838661194,
          0.10060340166091919,
          0.40826573967933655,
          0,
          0,
          0.13276107609272003,
          0,
          0.22000570595264435,
          0,
          0.1816415786743164,
          0,
          0,
          0,
          0.23810236155986786,
          0,
          0,
          0,
          0
         ]
        },
        {
         "marker": {
          "line": {
           "color": "black",
           "width": 1
          },
          "opacity": 0.5,
          "size": 8,
          "symbol": "square"
         },
         "mode": "markers",
         "name": "Pareto frontier",
         "type": "scatter",
         "x": [
          0.9027777777777778,
          0.986111111111111,
          1,
          0.9791666666666666
         ],
         "y": [
          0.6335051655769348,
          0.5854418873786926,
          0.465649276971817,
          0.6262168288230896
         ]
        }
       ],
       "layout": {
        "font": {
         "size": 18
        },
        "height": 400,
        "legend": {
         "bgcolor": "rgba(255, 255, 255, 0)",
         "orientation": "h",
         "x": 0.3,
         "y": 1.1
        },
        "margin": {
         "b": 0,
         "l": 0,
         "r": 0,
         "t": 0
        },
        "shapes": [
         {
          "fillcolor": "darkgreen",
          "layer": "below",
          "line": {
           "width": 0
          },
          "opacity": 0.2,
          "type": "rect",
          "x0": 0.8,
          "x1": 1,
          "xref": "x",
          "y0": 0,
          "y1": 1,
          "yref": "paper"
         }
        ],
        "template": {
         "data": {
          "bar": [
           {
            "error_x": {
             "color": "#2a3f5f"
            },
            "error_y": {
             "color": "#2a3f5f"
            },
            "marker": {
             "line": {
              "color": "#E5ECF6",
              "width": 0.5
             },
             "pattern": {
              "fillmode": "overlay",
              "size": 10,
              "solidity": 0.2
             }
            },
            "type": "bar"
           }
          ],
          "barpolar": [
           {
            "marker": {
             "line": {
              "color": "#E5ECF6",
              "width": 0.5
             },
             "pattern": {
              "fillmode": "overlay",
              "size": 10,
              "solidity": 0.2
             }
            },
            "type": "barpolar"
           }
          ],
          "carpet": [
           {
            "aaxis": {
             "endlinecolor": "#2a3f5f",
             "gridcolor": "white",
             "linecolor": "white",
             "minorgridcolor": "white",
             "startlinecolor": "#2a3f5f"
            },
            "baxis": {
             "endlinecolor": "#2a3f5f",
             "gridcolor": "white",
             "linecolor": "white",
             "minorgridcolor": "white",
             "startlinecolor": "#2a3f5f"
            },
            "type": "carpet"
           }
          ],
          "choropleth": [
           {
            "colorbar": {
             "outlinewidth": 0,
             "ticks": ""
            },
            "type": "choropleth"
           }
          ],
          "contour": [
           {
            "colorbar": {
             "outlinewidth": 0,
             "ticks": ""
            },
            "colorscale": [
             [
              0,
              "#0d0887"
             ],
             [
              0.1111111111111111,
              "#46039f"
             ],
             [
              0.2222222222222222,
              "#7201a8"
             ],
             [
              0.3333333333333333,
              "#9c179e"
             ],
             [
              0.4444444444444444,
              "#bd3786"
             ],
             [
              0.5555555555555556,
              "#d8576b"
             ],
             [
              0.6666666666666666,
              "#ed7953"
             ],
             [
              0.7777777777777778,
              "#fb9f3a"
             ],
             [
              0.8888888888888888,
              "#fdca26"
             ],
             [
              1,
              "#f0f921"
             ]
            ],
            "type": "contour"
           }
          ],
          "contourcarpet": [
           {
            "colorbar": {
             "outlinewidth": 0,
             "ticks": ""
            },
            "type": "contourcarpet"
           }
          ],
          "heatmap": [
           {
            "colorbar": {
             "outlinewidth": 0,
             "ticks": ""
            },
            "colorscale": [
             [
              0,
              "#0d0887"
             ],
             [
              0.1111111111111111,
              "#46039f"
             ],
             [
              0.2222222222222222,
              "#7201a8"
             ],
             [
              0.3333333333333333,
              "#9c179e"
             ],
             [
              0.4444444444444444,
              "#bd3786"
             ],
             [
              0.5555555555555556,
              "#d8576b"
             ],
             [
              0.6666666666666666,
              "#ed7953"
             ],
             [
              0.7777777777777778,
              "#fb9f3a"
             ],
             [
              0.8888888888888888,
              "#fdca26"
             ],
             [
              1,
              "#f0f921"
             ]
            ],
            "type": "heatmap"
           }
          ],
          "heatmapgl": [
           {
            "colorbar": {
             "outlinewidth": 0,
             "ticks": ""
            },
            "colorscale": [
             [
              0,
              "#0d0887"
             ],
             [
              0.1111111111111111,
              "#46039f"
             ],
             [
              0.2222222222222222,
              "#7201a8"
             ],
             [
              0.3333333333333333,
              "#9c179e"
             ],
             [
              0.4444444444444444,
              "#bd3786"
             ],
             [
              0.5555555555555556,
              "#d8576b"
             ],
             [
              0.6666666666666666,
              "#ed7953"
             ],
             [
              0.7777777777777778,
              "#fb9f3a"
             ],
             [
              0.8888888888888888,
              "#fdca26"
             ],
             [
              1,
              "#f0f921"
             ]
            ],
            "type": "heatmapgl"
           }
          ],
          "histogram": [
           {
            "marker": {
             "pattern": {
              "fillmode": "overlay",
              "size": 10,
              "solidity": 0.2
             }
            },
            "type": "histogram"
           }
          ],
          "histogram2d": [
           {
            "colorbar": {
             "outlinewidth": 0,
             "ticks": ""
            },
            "colorscale": [
             [
              0,
              "#0d0887"
             ],
             [
              0.1111111111111111,
              "#46039f"
             ],
             [
              0.2222222222222222,
              "#7201a8"
             ],
             [
              0.3333333333333333,
              "#9c179e"
             ],
             [
              0.4444444444444444,
              "#bd3786"
             ],
             [
              0.5555555555555556,
              "#d8576b"
             ],
             [
              0.6666666666666666,
              "#ed7953"
             ],
             [
              0.7777777777777778,
              "#fb9f3a"
             ],
             [
              0.8888888888888888,
              "#fdca26"
             ],
             [
              1,
              "#f0f921"
             ]
            ],
            "type": "histogram2d"
           }
          ],
          "histogram2dcontour": [
           {
            "colorbar": {
             "outlinewidth": 0,
             "ticks": ""
            },
            "colorscale": [
             [
              0,
              "#0d0887"
             ],
             [
              0.1111111111111111,
              "#46039f"
             ],
             [
              0.2222222222222222,
              "#7201a8"
             ],
             [
              0.3333333333333333,
              "#9c179e"
             ],
             [
              0.4444444444444444,
              "#bd3786"
             ],
             [
              0.5555555555555556,
              "#d8576b"
             ],
             [
              0.6666666666666666,
              "#ed7953"
             ],
             [
              0.7777777777777778,
              "#fb9f3a"
             ],
             [
              0.8888888888888888,
              "#fdca26"
             ],
             [
              1,
              "#f0f921"
             ]
            ],
            "type": "histogram2dcontour"
           }
          ],
          "mesh3d": [
           {
            "colorbar": {
             "outlinewidth": 0,
             "ticks": ""
            },
            "type": "mesh3d"
           }
          ],
          "parcoords": [
           {
            "line": {
             "colorbar": {
              "outlinewidth": 0,
              "ticks": ""
             }
            },
            "type": "parcoords"
           }
          ],
          "pie": [
           {
            "automargin": true,
            "type": "pie"
           }
          ],
          "scatter": [
           {
            "fillpattern": {
             "fillmode": "overlay",
             "size": 10,
             "solidity": 0.2
            },
            "type": "scatter"
           }
          ],
          "scatter3d": [
           {
            "line": {
             "colorbar": {
              "outlinewidth": 0,
              "ticks": ""
             }
            },
            "marker": {
             "colorbar": {
              "outlinewidth": 0,
              "ticks": ""
             }
            },
            "type": "scatter3d"
           }
          ],
          "scattercarpet": [
           {
            "marker": {
             "colorbar": {
              "outlinewidth": 0,
              "ticks": ""
             }
            },
            "type": "scattercarpet"
           }
          ],
          "scattergeo": [
           {
            "marker": {
             "colorbar": {
              "outlinewidth": 0,
              "ticks": ""
             }
            },
            "type": "scattergeo"
           }
          ],
          "scattergl": [
           {
            "marker": {
             "colorbar": {
              "outlinewidth": 0,
              "ticks": ""
             }
            },
            "type": "scattergl"
           }
          ],
          "scattermapbox": [
           {
            "marker": {
             "colorbar": {
              "outlinewidth": 0,
              "ticks": ""
             }
            },
            "type": "scattermapbox"
           }
          ],
          "scatterpolar": [
           {
            "marker": {
             "colorbar": {
              "outlinewidth": 0,
              "ticks": ""
             }
            },
            "type": "scatterpolar"
           }
          ],
          "scatterpolargl": [
           {
            "marker": {
             "colorbar": {
              "outlinewidth": 0,
              "ticks": ""
             }
            },
            "type": "scatterpolargl"
           }
          ],
          "scatterternary": [
           {
            "marker": {
             "colorbar": {
              "outlinewidth": 0,
              "ticks": ""
             }
            },
            "type": "scatterternary"
           }
          ],
          "surface": [
           {
            "colorbar": {
             "outlinewidth": 0,
             "ticks": ""
            },
            "colorscale": [
             [
              0,
              "#0d0887"
             ],
             [
              0.1111111111111111,
              "#46039f"
             ],
             [
              0.2222222222222222,
              "#7201a8"
             ],
             [
              0.3333333333333333,
              "#9c179e"
             ],
             [
              0.4444444444444444,
              "#bd3786"
             ],
             [
              0.5555555555555556,
              "#d8576b"
             ],
             [
              0.6666666666666666,
              "#ed7953"
             ],
             [
              0.7777777777777778,
              "#fb9f3a"
             ],
             [
              0.8888888888888888,
              "#fdca26"
             ],
             [
              1,
              "#f0f921"
             ]
            ],
            "type": "surface"
           }
          ],
          "table": [
           {
            "cells": {
             "fill": {
              "color": "#EBF0F8"
             },
             "line": {
              "color": "white"
             }
            },
            "header": {
             "fill": {
              "color": "#C8D4E3"
             },
             "line": {
              "color": "white"
             }
            },
            "type": "table"
           }
          ]
         },
         "layout": {
          "annotationdefaults": {
           "arrowcolor": "#2a3f5f",
           "arrowhead": 0,
           "arrowwidth": 1
          },
          "autotypenumbers": "strict",
          "coloraxis": {
           "colorbar": {
            "outlinewidth": 0,
            "ticks": ""
           }
          },
          "colorscale": {
           "diverging": [
            [
             0,
             "#8e0152"
            ],
            [
             0.1,
             "#c51b7d"
            ],
            [
             0.2,
             "#de77ae"
            ],
            [
             0.3,
             "#f1b6da"
            ],
            [
             0.4,
             "#fde0ef"
            ],
            [
             0.5,
             "#f7f7f7"
            ],
            [
             0.6,
             "#e6f5d0"
            ],
            [
             0.7,
             "#b8e186"
            ],
            [
             0.8,
             "#7fbc41"
            ],
            [
             0.9,
             "#4d9221"
            ],
            [
             1,
             "#276419"
            ]
           ],
           "sequential": [
            [
             0,
             "#0d0887"
            ],
            [
             0.1111111111111111,
             "#46039f"
            ],
            [
             0.2222222222222222,
             "#7201a8"
            ],
            [
             0.3333333333333333,
             "#9c179e"
            ],
            [
             0.4444444444444444,
             "#bd3786"
            ],
            [
             0.5555555555555556,
             "#d8576b"
            ],
            [
             0.6666666666666666,
             "#ed7953"
            ],
            [
             0.7777777777777778,
             "#fb9f3a"
            ],
            [
             0.8888888888888888,
             "#fdca26"
            ],
            [
             1,
             "#f0f921"
            ]
           ],
           "sequentialminus": [
            [
             0,
             "#0d0887"
            ],
            [
             0.1111111111111111,
             "#46039f"
            ],
            [
             0.2222222222222222,
             "#7201a8"
            ],
            [
             0.3333333333333333,
             "#9c179e"
            ],
            [
             0.4444444444444444,
             "#bd3786"
            ],
            [
             0.5555555555555556,
             "#d8576b"
            ],
            [
             0.6666666666666666,
             "#ed7953"
            ],
            [
             0.7777777777777778,
             "#fb9f3a"
            ],
            [
             0.8888888888888888,
             "#fdca26"
            ],
            [
             1,
             "#f0f921"
            ]
           ]
          },
          "colorway": [
           "#636efa",
           "#EF553B",
           "#00cc96",
           "#ab63fa",
           "#FFA15A",
           "#19d3f3",
           "#FF6692",
           "#B6E880",
           "#FF97FF",
           "#FECB52"
          ],
          "font": {
           "color": "#2a3f5f"
          },
          "geo": {
           "bgcolor": "white",
           "lakecolor": "white",
           "landcolor": "#E5ECF6",
           "showlakes": true,
           "showland": true,
           "subunitcolor": "white"
          },
          "hoverlabel": {
           "align": "left"
          },
          "hovermode": "closest",
          "mapbox": {
           "style": "light"
          },
          "paper_bgcolor": "white",
          "plot_bgcolor": "#E5ECF6",
          "polar": {
           "angularaxis": {
            "gridcolor": "white",
            "linecolor": "white",
            "ticks": ""
           },
           "bgcolor": "#E5ECF6",
           "radialaxis": {
            "gridcolor": "white",
            "linecolor": "white",
            "ticks": ""
           }
          },
          "scene": {
           "xaxis": {
            "backgroundcolor": "#E5ECF6",
            "gridcolor": "white",
            "gridwidth": 2,
            "linecolor": "white",
            "showbackground": true,
            "ticks": "",
            "zerolinecolor": "white"
           },
           "yaxis": {
            "backgroundcolor": "#E5ECF6",
            "gridcolor": "white",
            "gridwidth": 2,
            "linecolor": "white",
            "showbackground": true,
            "ticks": "",
            "zerolinecolor": "white"
           },
           "zaxis": {
            "backgroundcolor": "#E5ECF6",
            "gridcolor": "white",
            "gridwidth": 2,
            "linecolor": "white",
            "showbackground": true,
            "ticks": "",
            "zerolinecolor": "white"
           }
          },
          "shapedefaults": {
           "line": {
            "color": "#2a3f5f"
           }
          },
          "ternary": {
           "aaxis": {
            "gridcolor": "white",
            "linecolor": "white",
            "ticks": ""
           },
           "baxis": {
            "gridcolor": "white",
            "linecolor": "white",
            "ticks": ""
           },
           "bgcolor": "#E5ECF6",
           "caxis": {
            "gridcolor": "white",
            "linecolor": "white",
            "ticks": ""
           }
          },
          "title": {
           "x": 0.05
          },
          "xaxis": {
           "automargin": true,
           "gridcolor": "white",
           "linecolor": "white",
           "ticks": "",
           "title": {
            "standoff": 15
           },
           "zerolinecolor": "white",
           "zerolinewidth": 2
          },
          "yaxis": {
           "automargin": true,
           "gridcolor": "white",
           "linecolor": "white",
           "ticks": "",
           "title": {
            "standoff": 15
           },
           "zerolinecolor": "white",
           "zerolinewidth": 2
          }
         }
        },
        "width": 900,
        "xaxis": {
         "range": [
          -0.05,
          1.05
         ],
         "title": {
          "font": {
           "size": 19
          },
          "text": "Model performance (AUC)"
         }
        },
        "yaxis": {
         "range": [
          -0.05,
          0.85
         ],
         "title": {
          "font": {
           "size": 19
          },
          "text": "Phe importance (Shapley value)"
         }
        }
       }
      }
     },
     "metadata": {},
     "output_type": "display_data"
    }
   ],
   "source": [
    "import pandas as pd\n",
    "from optuna.visualization._pareto_front import (\n",
    "    _get_pareto_front_info,\n",
    "    _make_scatter_object,\n",
    "    _make_marker,\n",
    "    _make_hovertext,\n",
    ")\n",
    "from typing import Sequence\n",
    "from optuna.trial import FrozenTrial\n",
    "from optuna.visualization._plotly_imports import go\n",
    "\n",
    "\n",
    "info = _get_pareto_front_info(study)\n",
    "\n",
    "n_targets: int = info.n_targets\n",
    "axis_order: Sequence[int] = info.axis_order\n",
    "include_dominated_trials: bool = True\n",
    "trials_with_values: Sequence[\n",
    "    tuple[FrozenTrial, Sequence[float]]\n",
    "] = info.non_best_trials_with_values\n",
    "hovertemplate: str = \"%{text}<extra>Trial</extra>\"\n",
    "infeasible: bool = False\n",
    "dominated_trials: bool = False\n",
    "\n",
    "\n",
    "def trials_df(trials_with_values, class_name):\n",
    "    x = [values[axis_order[0]] for _, values in trials_with_values]\n",
    "    y = [values[axis_order[1]] for _, values in trials_with_values]\n",
    "\n",
    "    df = pd.DataFrame({\"x\": x, \"y\": y})\n",
    "    df[\"class\"] = class_name\n",
    "    return df\n",
    "\n",
    "\n",
    "df_best = trials_df(info.best_trials_with_values, \"best\")\n",
    "df_nonbest = trials_df(info.non_best_trials_with_values, \"nonbest\")\n",
    "# df         = pd.concat([df_best, df_nonbest])\n",
    "\n",
    "fig = go.Figure()\n",
    "\n",
    "fig.add_trace(\n",
    "    go.Scatter(\n",
    "        x=df_nonbest[\"x\"],\n",
    "        y=df_nonbest[\"y\"],\n",
    "        mode=\"markers\",\n",
    "        marker=dict(\n",
    "            size=8, opacity=0.5, symbol=\"circle\", line=dict(width=1, color=\"black\")\n",
    "        ),\n",
    "        name=\"Suboptimal\",\n",
    "    )\n",
    ")\n",
    "fig.add_trace(\n",
    "    go.Scatter(\n",
    "        x=df_best[\"x\"],\n",
    "        y=df_best[\"y\"],\n",
    "        mode=\"markers\",\n",
    "        marker=dict(\n",
    "            size=8, opacity=0.5, symbol=\"square\", line=dict(width=1, color=\"black\")\n",
    "        ),\n",
    "        name=\"Pareto frontier\",\n",
    "    )\n",
    ")\n",
    "# Define the width and height of the plot\n",
    "plot_width = 900\n",
    "plot_height = 400\n",
    "axis_label_font_size = 19\n",
    "\n",
    "# Customize the plot\n",
    "fig.update_layout(\n",
    "    xaxis=dict(\n",
    "        title=dict(\n",
    "            text=\"Model performance (AUC)\", font=dict(size=axis_label_font_size)\n",
    "        ),\n",
    "        range=[-0.05, 1.05],\n",
    "    ),\n",
    "    yaxis=dict(\n",
    "        title=dict(\n",
    "            text=\"Phe importance (Shapley value)\", font=dict(size=axis_label_font_size)\n",
    "        ),\n",
    "        range=[-0.05, 0.85],\n",
    "    ),\n",
    "    font=dict(size=18),\n",
    "    # plot_bgcolor='white',\n",
    "    legend=dict(x=0.3, y=1.1, bgcolor=\"rgba(255, 255, 255, 0)\", orientation=\"h\"),\n",
    "    width=plot_width,\n",
    "    height=plot_height,\n",
    "    margin=dict(l=0, r=0, t=0, b=0),\n",
    ")\n",
    "x_max = max(df_nonbest[\"x\"].max(), df_best[\"x\"].max())\n",
    "\n",
    "fig.update_layout(\n",
    "    # ... (previous settings)\n",
    "    shapes=[\n",
    "        dict(\n",
    "            type=\"rect\",\n",
    "            xref=\"x\",\n",
    "            yref=\"paper\",\n",
    "            x0=0.8,\n",
    "            x1=x_max,\n",
    "            y0=0.0,\n",
    "            y1=1,\n",
    "            fillcolor=\"darkgreen\",\n",
    "            opacity=0.20,\n",
    "            layer=\"below\",\n",
    "            line_width=0,\n",
    "        )\n",
    "    ],\n",
    "    # ... (previous settings)\n",
    ")\n",
    "\n",
    "\n",
    "import plotly.io as pio\n",
    "\n",
    "dpi = 300  # Set the desired resolution (dots per inch)\n",
    "output_filename = f\"pareto_{study_name}.png\"\n",
    "pio.write_image(fig, output_filename, format=\"png\", scale=dpi / 96)\n",
    "\n",
    "# Show the plot\n",
    "fig.show()"
   ]
  },
  {
   "cell_type": "code",
   "execution_count": 42,
   "metadata": {},
   "outputs": [
    {
     "name": "stdout",
     "output_type": "stream",
     "text": [
      "Best trial 1 number: 43\n",
      "Best trial 1 values: [0.9027777777777778, 0.6335051655769348]\n",
      "Best trial 1 parameters: {'seed': 8998}\n",
      "\n",
      "Best trial 2 number: 370\n",
      "Best trial 2 values: [0.986111111111111, 0.5854418873786926]\n",
      "Best trial 2 parameters: {'seed': 316}\n",
      "\n",
      "Best trial 3 number: 431\n",
      "Best trial 3 values: [1.0, 0.465649276971817]\n",
      "Best trial 3 parameters: {'seed': 5045}\n",
      "\n",
      "Best trial 4 number: 435\n",
      "Best trial 4 values: [0.9791666666666666, 0.6262168288230896]\n",
      "Best trial 4 parameters: {'seed': 5870}\n",
      "\n"
     ]
    }
   ],
   "source": [
    "# Extract the best trials from the multi-objective study\n",
    "best_trials = study.best_trials\n",
    "\n",
    "# Print information about the best trials\n",
    "for i, trial in enumerate(best_trials):\n",
    "    print(f\"Best trial {i+1} number: {trial.number}\")\n",
    "    print(f\"Best trial {i+1} values: {trial.values}\")\n",
    "    print(f\"Best trial {i+1} parameters: {trial.params}\")\n",
    "    print()"
   ]
  },
  {
   "attachments": {},
   "cell_type": "markdown",
   "metadata": {},
   "source": [
    "# Ranking plots"
   ]
  },
  {
   "cell_type": "code",
   "execution_count": 55,
   "metadata": {},
   "outputs": [
    {
     "ename": "ValueError",
     "evalue": "cannot set a row with mismatched columns",
     "output_type": "error",
     "traceback": [
      "\u001b[0;31m---------------------------------------------------------------------------\u001b[0m",
      "\u001b[0;31mValueError\u001b[0m                                Traceback (most recent call last)",
      "Cell \u001b[0;32mIn[55], line 24\u001b[0m\n\u001b[1;32m     21\u001b[0m \u001b[39mfor\u001b[39;00m t \u001b[39min\u001b[39;00m study\u001b[39m.\u001b[39mget_trials():\u001b[39m#[:99]:  # [:499]:\u001b[39;00m\n\u001b[1;32m     22\u001b[0m     \u001b[39mif\u001b[39;00m t\u001b[39m.\u001b[39mvalues[\u001b[39m0\u001b[39m] \u001b[39m>\u001b[39m CUTOFF_AUC \u001b[39mand\u001b[39;00m t\u001b[39m.\u001b[39mvalues[\u001b[39m1\u001b[39m] \u001b[39m>\u001b[39m CUTOFF_PHE:\n\u001b[1;32m     23\u001b[0m         \u001b[39m#bs_trials.loc[t.number] = list(t.params.values()) + list(t.values)\u001b[39;00m\n\u001b[0;32m---> 24\u001b[0m         bs_trials\u001b[39m.\u001b[39mloc[t\u001b[39m.\u001b[39mnumber] \u001b[39m=\u001b[39m (\n\u001b[1;32m     25\u001b[0m             [\u001b[39m0.466643\u001b[39m, \u001b[39m0.226908\u001b[39m, \u001b[39m0.418621\u001b[39m, \u001b[39m5\u001b[39m, \u001b[39m1.640296\u001b[39m]\n\u001b[1;32m     26\u001b[0m             \u001b[39m+\u001b[39m \u001b[39mlist\u001b[39m(t\u001b[39m.\u001b[39mparams\u001b[39m.\u001b[39mvalues())\n\u001b[1;32m     27\u001b[0m             \u001b[39m+\u001b[39m [\u001b[39m0.749761\u001b[39m]\n\u001b[1;32m     28\u001b[0m             \u001b[39m+\u001b[39m \u001b[39mlist\u001b[39m(t\u001b[39m.\u001b[39mvalues)\n\u001b[1;32m     29\u001b[0m         )\n\u001b[1;32m     31\u001b[0m \u001b[39m# for t in study.best_trials:\u001b[39;00m\n\u001b[1;32m     32\u001b[0m \u001b[39m#     bs_trials.loc[t.number] = list(t.params.values()) + list(t.values)\u001b[39;00m\n\u001b[1;32m     33\u001b[0m     \u001b[39m# and saves them to rows in a dataframe\u001b[39;00m\n\u001b[1;32m     35\u001b[0m bs_trials\u001b[39m.\u001b[39minfo()\n",
      "File \u001b[0;32m/DeepenData/.miniconda/envs/playground/lib/python3.10/site-packages/pandas/core/indexing.py:818\u001b[0m, in \u001b[0;36m_LocationIndexer.__setitem__\u001b[0;34m(self, key, value)\u001b[0m\n\u001b[1;32m    815\u001b[0m \u001b[39mself\u001b[39m\u001b[39m.\u001b[39m_has_valid_setitem_indexer(key)\n\u001b[1;32m    817\u001b[0m iloc \u001b[39m=\u001b[39m \u001b[39mself\u001b[39m \u001b[39mif\u001b[39;00m \u001b[39mself\u001b[39m\u001b[39m.\u001b[39mname \u001b[39m==\u001b[39m \u001b[39m\"\u001b[39m\u001b[39miloc\u001b[39m\u001b[39m\"\u001b[39m \u001b[39melse\u001b[39;00m \u001b[39mself\u001b[39m\u001b[39m.\u001b[39mobj\u001b[39m.\u001b[39miloc\n\u001b[0;32m--> 818\u001b[0m iloc\u001b[39m.\u001b[39;49m_setitem_with_indexer(indexer, value, \u001b[39mself\u001b[39;49m\u001b[39m.\u001b[39;49mname)\n",
      "File \u001b[0;32m/DeepenData/.miniconda/envs/playground/lib/python3.10/site-packages/pandas/core/indexing.py:1785\u001b[0m, in \u001b[0;36m_iLocIndexer._setitem_with_indexer\u001b[0;34m(self, indexer, value, name)\u001b[0m\n\u001b[1;32m   1782\u001b[0m     indexer, missing \u001b[39m=\u001b[39m convert_missing_indexer(indexer)\n\u001b[1;32m   1784\u001b[0m     \u001b[39mif\u001b[39;00m missing:\n\u001b[0;32m-> 1785\u001b[0m         \u001b[39mself\u001b[39;49m\u001b[39m.\u001b[39;49m_setitem_with_indexer_missing(indexer, value)\n\u001b[1;32m   1786\u001b[0m         \u001b[39mreturn\u001b[39;00m\n\u001b[1;32m   1788\u001b[0m \u001b[39mif\u001b[39;00m name \u001b[39m==\u001b[39m \u001b[39m\"\u001b[39m\u001b[39mloc\u001b[39m\u001b[39m\"\u001b[39m:\n\u001b[1;32m   1789\u001b[0m     \u001b[39m# must come after setting of missing\u001b[39;00m\n",
      "File \u001b[0;32m/DeepenData/.miniconda/envs/playground/lib/python3.10/site-packages/pandas/core/indexing.py:2160\u001b[0m, in \u001b[0;36m_iLocIndexer._setitem_with_indexer_missing\u001b[0;34m(self, indexer, value)\u001b[0m\n\u001b[1;32m   2157\u001b[0m     \u001b[39mif\u001b[39;00m is_list_like_indexer(value):\n\u001b[1;32m   2158\u001b[0m         \u001b[39m# must have conforming columns\u001b[39;00m\n\u001b[1;32m   2159\u001b[0m         \u001b[39mif\u001b[39;00m \u001b[39mlen\u001b[39m(value) \u001b[39m!=\u001b[39m \u001b[39mlen\u001b[39m(\u001b[39mself\u001b[39m\u001b[39m.\u001b[39mobj\u001b[39m.\u001b[39mcolumns):\n\u001b[0;32m-> 2160\u001b[0m             \u001b[39mraise\u001b[39;00m \u001b[39mValueError\u001b[39;00m(\u001b[39m\"\u001b[39m\u001b[39mcannot set a row with mismatched columns\u001b[39m\u001b[39m\"\u001b[39m)\n\u001b[1;32m   2162\u001b[0m     value \u001b[39m=\u001b[39m Series(value, index\u001b[39m=\u001b[39m\u001b[39mself\u001b[39m\u001b[39m.\u001b[39mobj\u001b[39m.\u001b[39mcolumns, name\u001b[39m=\u001b[39mindexer)\n\u001b[1;32m   2164\u001b[0m \u001b[39mif\u001b[39;00m \u001b[39mnot\u001b[39;00m \u001b[39mlen\u001b[39m(\u001b[39mself\u001b[39m\u001b[39m.\u001b[39mobj):\n\u001b[1;32m   2165\u001b[0m     \u001b[39m# We will ignore the existing dtypes instead of using\u001b[39;00m\n\u001b[1;32m   2166\u001b[0m     \u001b[39m#  internals.concat logic\u001b[39;00m\n",
      "\u001b[0;31mValueError\u001b[0m: cannot set a row with mismatched columns"
     ]
    }
   ],
   "source": [
    "# Create a empty data frame for\n",
    "\n",
    "\n",
    "bs_trials = pd.DataFrame(\n",
    "    columns=list(study.best_trials[0].params.keys())+['auc', 'phe'])\n",
    "\n",
    "# hardcoded_params = {\n",
    "hardcoded_params = {\n",
    "        \"objective\": \"binary:logistic\",\n",
    "        \"eval_metric\": \"logloss\",\n",
    "'max_depth' :          3,\n",
    "'eta' :                0.272876,\n",
    "'subsample':           0.694101,\n",
    "'lambda' :             0.169166,\n",
    "'alpha':               0.115721,\n",
    "'scale_pos_weight':    0.320643,\n",
    "\n",
    "    }\n",
    "\n",
    "CUTOFF_AUC = 0.80\n",
    "CUTOFF_PHE = 0.20\n",
    "\n",
    "for t in study.get_trials():#[:99]:  # [:499]:\n",
    "    if t.values[0] > CUTOFF_AUC and t.values[1] > CUTOFF_PHE:\n",
    "        #bs_trials.loc[t.number] = list(t.params.values()) + list(t.values)\n",
    "        bs_trials.loc[t.number] = (\n",
    "            [3, 0.272876, 0.694101, 0.169166, 0.169166,0.115721, 0.320643]\n",
    "            + list(t.params.values())\n",
    "            + [0.749761]\n",
    "            + list(t.values)\n",
    "        )\n",
    "\n",
    "# for t in study.best_trials:\n",
    "#     bs_trials.loc[t.number] = list(t.params.values()) + list(t.values)\n",
    "    # and saves them to rows in a dataframe\n",
    "\n",
    "bs_trials.info()"
   ]
  },
  {
   "cell_type": "code",
   "execution_count": 44,
   "metadata": {},
   "outputs": [
    {
     "data": {
      "text/plain": [
       "seed    5457.500000\n",
       "auc        0.982639\n",
       "phe        0.605829\n",
       "Name: 50%, dtype: float64"
      ]
     },
     "execution_count": 44,
     "metadata": {},
     "output_type": "execute_result"
    }
   ],
   "source": [
    "bs_trials = bs_trials.drop_duplicates()\n",
    "bs_trials.describe().loc[\"50%\"]"
   ]
  },
  {
   "cell_type": "code",
   "execution_count": 46,
   "metadata": {},
   "outputs": [
    {
     "data": {
      "application/vnd.plotly.v1+json": {
       "config": {
        "plotlyServerURL": "https://plot.ly"
       },
       "data": [
        {
         "dimensions": [
          {
           "label": "seed",
           "values": [
            8998,
            316,
            5045,
            5870
           ]
          },
          {
           "label": "auc",
           "values": [
            null,
            null,
            null,
            null
           ]
          },
          {
           "label": "phe",
           "values": [
            0.6335051655769348,
            0.5854418873786926,
            0.465649276971817,
            0.6262168288230896
           ]
          }
         ],
         "domain": {
          "x": [
           0,
           1
          ],
          "y": [
           0,
           1
          ]
         },
         "line": {
          "color": [
           null,
           null,
           null,
           null
          ],
          "coloraxis": "coloraxis"
         },
         "name": "",
         "type": "parcoords"
        }
       ],
       "layout": {
        "coloraxis": {
         "colorbar": {
          "title": {
           "text": "auc"
          }
         },
         "colorscale": [
          [
           0,
           "#0d0887"
          ],
          [
           0.1111111111111111,
           "#46039f"
          ],
          [
           0.2222222222222222,
           "#7201a8"
          ],
          [
           0.3333333333333333,
           "#9c179e"
          ],
          [
           0.4444444444444444,
           "#bd3786"
          ],
          [
           0.5555555555555556,
           "#d8576b"
          ],
          [
           0.6666666666666666,
           "#ed7953"
          ],
          [
           0.7777777777777778,
           "#fb9f3a"
          ],
          [
           0.8888888888888888,
           "#fdca26"
          ],
          [
           1,
           "#f0f921"
          ]
         ]
        },
        "legend": {
         "tracegroupgap": 0
        },
        "margin": {
         "t": 60
        },
        "template": {
         "data": {
          "bar": [
           {
            "error_x": {
             "color": "#2a3f5f"
            },
            "error_y": {
             "color": "#2a3f5f"
            },
            "marker": {
             "line": {
              "color": "#E5ECF6",
              "width": 0.5
             },
             "pattern": {
              "fillmode": "overlay",
              "size": 10,
              "solidity": 0.2
             }
            },
            "type": "bar"
           }
          ],
          "barpolar": [
           {
            "marker": {
             "line": {
              "color": "#E5ECF6",
              "width": 0.5
             },
             "pattern": {
              "fillmode": "overlay",
              "size": 10,
              "solidity": 0.2
             }
            },
            "type": "barpolar"
           }
          ],
          "carpet": [
           {
            "aaxis": {
             "endlinecolor": "#2a3f5f",
             "gridcolor": "white",
             "linecolor": "white",
             "minorgridcolor": "white",
             "startlinecolor": "#2a3f5f"
            },
            "baxis": {
             "endlinecolor": "#2a3f5f",
             "gridcolor": "white",
             "linecolor": "white",
             "minorgridcolor": "white",
             "startlinecolor": "#2a3f5f"
            },
            "type": "carpet"
           }
          ],
          "choropleth": [
           {
            "colorbar": {
             "outlinewidth": 0,
             "ticks": ""
            },
            "type": "choropleth"
           }
          ],
          "contour": [
           {
            "colorbar": {
             "outlinewidth": 0,
             "ticks": ""
            },
            "colorscale": [
             [
              0,
              "#0d0887"
             ],
             [
              0.1111111111111111,
              "#46039f"
             ],
             [
              0.2222222222222222,
              "#7201a8"
             ],
             [
              0.3333333333333333,
              "#9c179e"
             ],
             [
              0.4444444444444444,
              "#bd3786"
             ],
             [
              0.5555555555555556,
              "#d8576b"
             ],
             [
              0.6666666666666666,
              "#ed7953"
             ],
             [
              0.7777777777777778,
              "#fb9f3a"
             ],
             [
              0.8888888888888888,
              "#fdca26"
             ],
             [
              1,
              "#f0f921"
             ]
            ],
            "type": "contour"
           }
          ],
          "contourcarpet": [
           {
            "colorbar": {
             "outlinewidth": 0,
             "ticks": ""
            },
            "type": "contourcarpet"
           }
          ],
          "heatmap": [
           {
            "colorbar": {
             "outlinewidth": 0,
             "ticks": ""
            },
            "colorscale": [
             [
              0,
              "#0d0887"
             ],
             [
              0.1111111111111111,
              "#46039f"
             ],
             [
              0.2222222222222222,
              "#7201a8"
             ],
             [
              0.3333333333333333,
              "#9c179e"
             ],
             [
              0.4444444444444444,
              "#bd3786"
             ],
             [
              0.5555555555555556,
              "#d8576b"
             ],
             [
              0.6666666666666666,
              "#ed7953"
             ],
             [
              0.7777777777777778,
              "#fb9f3a"
             ],
             [
              0.8888888888888888,
              "#fdca26"
             ],
             [
              1,
              "#f0f921"
             ]
            ],
            "type": "heatmap"
           }
          ],
          "heatmapgl": [
           {
            "colorbar": {
             "outlinewidth": 0,
             "ticks": ""
            },
            "colorscale": [
             [
              0,
              "#0d0887"
             ],
             [
              0.1111111111111111,
              "#46039f"
             ],
             [
              0.2222222222222222,
              "#7201a8"
             ],
             [
              0.3333333333333333,
              "#9c179e"
             ],
             [
              0.4444444444444444,
              "#bd3786"
             ],
             [
              0.5555555555555556,
              "#d8576b"
             ],
             [
              0.6666666666666666,
              "#ed7953"
             ],
             [
              0.7777777777777778,
              "#fb9f3a"
             ],
             [
              0.8888888888888888,
              "#fdca26"
             ],
             [
              1,
              "#f0f921"
             ]
            ],
            "type": "heatmapgl"
           }
          ],
          "histogram": [
           {
            "marker": {
             "pattern": {
              "fillmode": "overlay",
              "size": 10,
              "solidity": 0.2
             }
            },
            "type": "histogram"
           }
          ],
          "histogram2d": [
           {
            "colorbar": {
             "outlinewidth": 0,
             "ticks": ""
            },
            "colorscale": [
             [
              0,
              "#0d0887"
             ],
             [
              0.1111111111111111,
              "#46039f"
             ],
             [
              0.2222222222222222,
              "#7201a8"
             ],
             [
              0.3333333333333333,
              "#9c179e"
             ],
             [
              0.4444444444444444,
              "#bd3786"
             ],
             [
              0.5555555555555556,
              "#d8576b"
             ],
             [
              0.6666666666666666,
              "#ed7953"
             ],
             [
              0.7777777777777778,
              "#fb9f3a"
             ],
             [
              0.8888888888888888,
              "#fdca26"
             ],
             [
              1,
              "#f0f921"
             ]
            ],
            "type": "histogram2d"
           }
          ],
          "histogram2dcontour": [
           {
            "colorbar": {
             "outlinewidth": 0,
             "ticks": ""
            },
            "colorscale": [
             [
              0,
              "#0d0887"
             ],
             [
              0.1111111111111111,
              "#46039f"
             ],
             [
              0.2222222222222222,
              "#7201a8"
             ],
             [
              0.3333333333333333,
              "#9c179e"
             ],
             [
              0.4444444444444444,
              "#bd3786"
             ],
             [
              0.5555555555555556,
              "#d8576b"
             ],
             [
              0.6666666666666666,
              "#ed7953"
             ],
             [
              0.7777777777777778,
              "#fb9f3a"
             ],
             [
              0.8888888888888888,
              "#fdca26"
             ],
             [
              1,
              "#f0f921"
             ]
            ],
            "type": "histogram2dcontour"
           }
          ],
          "mesh3d": [
           {
            "colorbar": {
             "outlinewidth": 0,
             "ticks": ""
            },
            "type": "mesh3d"
           }
          ],
          "parcoords": [
           {
            "line": {
             "colorbar": {
              "outlinewidth": 0,
              "ticks": ""
             }
            },
            "type": "parcoords"
           }
          ],
          "pie": [
           {
            "automargin": true,
            "type": "pie"
           }
          ],
          "scatter": [
           {
            "fillpattern": {
             "fillmode": "overlay",
             "size": 10,
             "solidity": 0.2
            },
            "type": "scatter"
           }
          ],
          "scatter3d": [
           {
            "line": {
             "colorbar": {
              "outlinewidth": 0,
              "ticks": ""
             }
            },
            "marker": {
             "colorbar": {
              "outlinewidth": 0,
              "ticks": ""
             }
            },
            "type": "scatter3d"
           }
          ],
          "scattercarpet": [
           {
            "marker": {
             "colorbar": {
              "outlinewidth": 0,
              "ticks": ""
             }
            },
            "type": "scattercarpet"
           }
          ],
          "scattergeo": [
           {
            "marker": {
             "colorbar": {
              "outlinewidth": 0,
              "ticks": ""
             }
            },
            "type": "scattergeo"
           }
          ],
          "scattergl": [
           {
            "marker": {
             "colorbar": {
              "outlinewidth": 0,
              "ticks": ""
             }
            },
            "type": "scattergl"
           }
          ],
          "scattermapbox": [
           {
            "marker": {
             "colorbar": {
              "outlinewidth": 0,
              "ticks": ""
             }
            },
            "type": "scattermapbox"
           }
          ],
          "scatterpolar": [
           {
            "marker": {
             "colorbar": {
              "outlinewidth": 0,
              "ticks": ""
             }
            },
            "type": "scatterpolar"
           }
          ],
          "scatterpolargl": [
           {
            "marker": {
             "colorbar": {
              "outlinewidth": 0,
              "ticks": ""
             }
            },
            "type": "scatterpolargl"
           }
          ],
          "scatterternary": [
           {
            "marker": {
             "colorbar": {
              "outlinewidth": 0,
              "ticks": ""
             }
            },
            "type": "scatterternary"
           }
          ],
          "surface": [
           {
            "colorbar": {
             "outlinewidth": 0,
             "ticks": ""
            },
            "colorscale": [
             [
              0,
              "#0d0887"
             ],
             [
              0.1111111111111111,
              "#46039f"
             ],
             [
              0.2222222222222222,
              "#7201a8"
             ],
             [
              0.3333333333333333,
              "#9c179e"
             ],
             [
              0.4444444444444444,
              "#bd3786"
             ],
             [
              0.5555555555555556,
              "#d8576b"
             ],
             [
              0.6666666666666666,
              "#ed7953"
             ],
             [
              0.7777777777777778,
              "#fb9f3a"
             ],
             [
              0.8888888888888888,
              "#fdca26"
             ],
             [
              1,
              "#f0f921"
             ]
            ],
            "type": "surface"
           }
          ],
          "table": [
           {
            "cells": {
             "fill": {
              "color": "#EBF0F8"
             },
             "line": {
              "color": "white"
             }
            },
            "header": {
             "fill": {
              "color": "#C8D4E3"
             },
             "line": {
              "color": "white"
             }
            },
            "type": "table"
           }
          ]
         },
         "layout": {
          "annotationdefaults": {
           "arrowcolor": "#2a3f5f",
           "arrowhead": 0,
           "arrowwidth": 1
          },
          "autotypenumbers": "strict",
          "coloraxis": {
           "colorbar": {
            "outlinewidth": 0,
            "ticks": ""
           }
          },
          "colorscale": {
           "diverging": [
            [
             0,
             "#8e0152"
            ],
            [
             0.1,
             "#c51b7d"
            ],
            [
             0.2,
             "#de77ae"
            ],
            [
             0.3,
             "#f1b6da"
            ],
            [
             0.4,
             "#fde0ef"
            ],
            [
             0.5,
             "#f7f7f7"
            ],
            [
             0.6,
             "#e6f5d0"
            ],
            [
             0.7,
             "#b8e186"
            ],
            [
             0.8,
             "#7fbc41"
            ],
            [
             0.9,
             "#4d9221"
            ],
            [
             1,
             "#276419"
            ]
           ],
           "sequential": [
            [
             0,
             "#0d0887"
            ],
            [
             0.1111111111111111,
             "#46039f"
            ],
            [
             0.2222222222222222,
             "#7201a8"
            ],
            [
             0.3333333333333333,
             "#9c179e"
            ],
            [
             0.4444444444444444,
             "#bd3786"
            ],
            [
             0.5555555555555556,
             "#d8576b"
            ],
            [
             0.6666666666666666,
             "#ed7953"
            ],
            [
             0.7777777777777778,
             "#fb9f3a"
            ],
            [
             0.8888888888888888,
             "#fdca26"
            ],
            [
             1,
             "#f0f921"
            ]
           ],
           "sequentialminus": [
            [
             0,
             "#0d0887"
            ],
            [
             0.1111111111111111,
             "#46039f"
            ],
            [
             0.2222222222222222,
             "#7201a8"
            ],
            [
             0.3333333333333333,
             "#9c179e"
            ],
            [
             0.4444444444444444,
             "#bd3786"
            ],
            [
             0.5555555555555556,
             "#d8576b"
            ],
            [
             0.6666666666666666,
             "#ed7953"
            ],
            [
             0.7777777777777778,
             "#fb9f3a"
            ],
            [
             0.8888888888888888,
             "#fdca26"
            ],
            [
             1,
             "#f0f921"
            ]
           ]
          },
          "colorway": [
           "#636efa",
           "#EF553B",
           "#00cc96",
           "#ab63fa",
           "#FFA15A",
           "#19d3f3",
           "#FF6692",
           "#B6E880",
           "#FF97FF",
           "#FECB52"
          ],
          "font": {
           "color": "#2a3f5f"
          },
          "geo": {
           "bgcolor": "white",
           "lakecolor": "white",
           "landcolor": "#E5ECF6",
           "showlakes": true,
           "showland": true,
           "subunitcolor": "white"
          },
          "hoverlabel": {
           "align": "left"
          },
          "hovermode": "closest",
          "mapbox": {
           "style": "light"
          },
          "paper_bgcolor": "white",
          "plot_bgcolor": "#E5ECF6",
          "polar": {
           "angularaxis": {
            "gridcolor": "white",
            "linecolor": "white",
            "ticks": ""
           },
           "bgcolor": "#E5ECF6",
           "radialaxis": {
            "gridcolor": "white",
            "linecolor": "white",
            "ticks": ""
           }
          },
          "scene": {
           "xaxis": {
            "backgroundcolor": "#E5ECF6",
            "gridcolor": "white",
            "gridwidth": 2,
            "linecolor": "white",
            "showbackground": true,
            "ticks": "",
            "zerolinecolor": "white"
           },
           "yaxis": {
            "backgroundcolor": "#E5ECF6",
            "gridcolor": "white",
            "gridwidth": 2,
            "linecolor": "white",
            "showbackground": true,
            "ticks": "",
            "zerolinecolor": "white"
           },
           "zaxis": {
            "backgroundcolor": "#E5ECF6",
            "gridcolor": "white",
            "gridwidth": 2,
            "linecolor": "white",
            "showbackground": true,
            "ticks": "",
            "zerolinecolor": "white"
           }
          },
          "shapedefaults": {
           "line": {
            "color": "#2a3f5f"
           }
          },
          "ternary": {
           "aaxis": {
            "gridcolor": "white",
            "linecolor": "white",
            "ticks": ""
           },
           "baxis": {
            "gridcolor": "white",
            "linecolor": "white",
            "ticks": ""
           },
           "bgcolor": "#E5ECF6",
           "caxis": {
            "gridcolor": "white",
            "linecolor": "white",
            "ticks": ""
           }
          },
          "title": {
           "x": 0.05
          },
          "xaxis": {
           "automargin": true,
           "gridcolor": "white",
           "linecolor": "white",
           "ticks": "",
           "title": {
            "standoff": 15
           },
           "zerolinecolor": "white",
           "zerolinewidth": 2
          },
          "yaxis": {
           "automargin": true,
           "gridcolor": "white",
           "linecolor": "white",
           "ticks": "",
           "title": {
            "standoff": 15
           },
           "zerolinecolor": "white",
           "zerolinewidth": 2
          }
         }
        }
       }
      }
     },
     "metadata": {},
     "output_type": "display_data"
    }
   ],
   "source": [
    "import plotly.express as px\n",
    "\n",
    "# fig = px.parallel_coordinates(bs_trials)\n",
    "\n",
    "fig = px.parallel_coordinates(\n",
    "    bs_trials,\n",
    "    color=\"auc\",\n",
    "    # dimensions=[\n",
    "    #     \"seed\",\n",
    "    #     \"alpha\",\n",
    "    #     \"eta\",\n",
    "    #     \"lambda\",\n",
    "    #     \"max_depth\",\n",
    "    #     \"scale_pos_weight\",\n",
    "    #     \"subsample\",\n",
    "    #     \"phe\",\n",
    "    #     \"auc\",\n",
    "    # ],\n",
    ")\n",
    "fig.show()"
   ]
  },
  {
   "cell_type": "code",
   "execution_count": 47,
   "metadata": {},
   "outputs": [
    {
     "data": {
      "application/vnd.plotly.v1+json": {
       "config": {
        "plotlyServerURL": "https://plot.ly"
       },
       "data": [
        {
         "alignmentgroup": "True",
         "boxpoints": "all",
         "hovertemplate": "variable=%{x}<br>value=%{y}<extra></extra>",
         "legendgroup": "",
         "marker": {
          "color": "#636efa"
         },
         "name": "",
         "notched": false,
         "offsetgroup": "",
         "orientation": "v",
         "showlegend": false,
         "type": "box",
         "x": [
          "seed",
          "seed",
          "seed",
          "seed"
         ],
         "x0": " ",
         "xaxis": "x",
         "y": [
          8998,
          316,
          5045,
          5870
         ],
         "y0": " ",
         "yaxis": "y"
        },
        {
         "alignmentgroup": "True",
         "boxpoints": "all",
         "hovertemplate": "variable=%{x}<br>value=%{y}<extra></extra>",
         "legendgroup": "",
         "marker": {
          "color": "#636efa"
         },
         "name": "",
         "notched": false,
         "offsetgroup": "",
         "orientation": "v",
         "showlegend": false,
         "type": "box",
         "x": [
          "auc",
          "auc",
          "auc",
          "auc"
         ],
         "x0": " ",
         "xaxis": "x2",
         "y": [
          0.9027777777777778,
          0.986111111111111,
          1,
          0.9791666666666666
         ],
         "y0": " ",
         "yaxis": "y2"
        },
        {
         "alignmentgroup": "True",
         "boxpoints": "all",
         "hovertemplate": "variable=%{x}<br>value=%{y}<extra></extra>",
         "legendgroup": "",
         "marker": {
          "color": "#636efa"
         },
         "name": "",
         "notched": false,
         "offsetgroup": "",
         "orientation": "v",
         "showlegend": false,
         "type": "box",
         "x": [
          "phe",
          "phe",
          "phe",
          "phe"
         ],
         "x0": " ",
         "xaxis": "x3",
         "y": [
          0.6335051655769348,
          0.5854418873786926,
          0.465649276971817,
          0.6262168288230896
         ],
         "y0": " ",
         "yaxis": "y3"
        }
       ],
       "layout": {
        "annotations": [
         {
          "font": {},
          "showarrow": false,
          "text": "variable=seed",
          "x": 0.15999999999999998,
          "xanchor": "center",
          "xref": "paper",
          "y": 1,
          "yanchor": "bottom",
          "yref": "paper"
         },
         {
          "font": {},
          "showarrow": false,
          "text": "variable=auc",
          "x": 0.49999999999999994,
          "xanchor": "center",
          "xref": "paper",
          "y": 1,
          "yanchor": "bottom",
          "yref": "paper"
         },
         {
          "font": {},
          "showarrow": false,
          "text": "variable=phe",
          "x": 0.8399999999999999,
          "xanchor": "center",
          "xref": "paper",
          "y": 1,
          "yanchor": "bottom",
          "yref": "paper"
         }
        ],
        "boxmode": "group",
        "legend": {
         "tracegroupgap": 0
        },
        "margin": {
         "t": 60
        },
        "template": {
         "data": {
          "bar": [
           {
            "error_x": {
             "color": "#2a3f5f"
            },
            "error_y": {
             "color": "#2a3f5f"
            },
            "marker": {
             "line": {
              "color": "#E5ECF6",
              "width": 0.5
             },
             "pattern": {
              "fillmode": "overlay",
              "size": 10,
              "solidity": 0.2
             }
            },
            "type": "bar"
           }
          ],
          "barpolar": [
           {
            "marker": {
             "line": {
              "color": "#E5ECF6",
              "width": 0.5
             },
             "pattern": {
              "fillmode": "overlay",
              "size": 10,
              "solidity": 0.2
             }
            },
            "type": "barpolar"
           }
          ],
          "carpet": [
           {
            "aaxis": {
             "endlinecolor": "#2a3f5f",
             "gridcolor": "white",
             "linecolor": "white",
             "minorgridcolor": "white",
             "startlinecolor": "#2a3f5f"
            },
            "baxis": {
             "endlinecolor": "#2a3f5f",
             "gridcolor": "white",
             "linecolor": "white",
             "minorgridcolor": "white",
             "startlinecolor": "#2a3f5f"
            },
            "type": "carpet"
           }
          ],
          "choropleth": [
           {
            "colorbar": {
             "outlinewidth": 0,
             "ticks": ""
            },
            "type": "choropleth"
           }
          ],
          "contour": [
           {
            "colorbar": {
             "outlinewidth": 0,
             "ticks": ""
            },
            "colorscale": [
             [
              0,
              "#0d0887"
             ],
             [
              0.1111111111111111,
              "#46039f"
             ],
             [
              0.2222222222222222,
              "#7201a8"
             ],
             [
              0.3333333333333333,
              "#9c179e"
             ],
             [
              0.4444444444444444,
              "#bd3786"
             ],
             [
              0.5555555555555556,
              "#d8576b"
             ],
             [
              0.6666666666666666,
              "#ed7953"
             ],
             [
              0.7777777777777778,
              "#fb9f3a"
             ],
             [
              0.8888888888888888,
              "#fdca26"
             ],
             [
              1,
              "#f0f921"
             ]
            ],
            "type": "contour"
           }
          ],
          "contourcarpet": [
           {
            "colorbar": {
             "outlinewidth": 0,
             "ticks": ""
            },
            "type": "contourcarpet"
           }
          ],
          "heatmap": [
           {
            "colorbar": {
             "outlinewidth": 0,
             "ticks": ""
            },
            "colorscale": [
             [
              0,
              "#0d0887"
             ],
             [
              0.1111111111111111,
              "#46039f"
             ],
             [
              0.2222222222222222,
              "#7201a8"
             ],
             [
              0.3333333333333333,
              "#9c179e"
             ],
             [
              0.4444444444444444,
              "#bd3786"
             ],
             [
              0.5555555555555556,
              "#d8576b"
             ],
             [
              0.6666666666666666,
              "#ed7953"
             ],
             [
              0.7777777777777778,
              "#fb9f3a"
             ],
             [
              0.8888888888888888,
              "#fdca26"
             ],
             [
              1,
              "#f0f921"
             ]
            ],
            "type": "heatmap"
           }
          ],
          "heatmapgl": [
           {
            "colorbar": {
             "outlinewidth": 0,
             "ticks": ""
            },
            "colorscale": [
             [
              0,
              "#0d0887"
             ],
             [
              0.1111111111111111,
              "#46039f"
             ],
             [
              0.2222222222222222,
              "#7201a8"
             ],
             [
              0.3333333333333333,
              "#9c179e"
             ],
             [
              0.4444444444444444,
              "#bd3786"
             ],
             [
              0.5555555555555556,
              "#d8576b"
             ],
             [
              0.6666666666666666,
              "#ed7953"
             ],
             [
              0.7777777777777778,
              "#fb9f3a"
             ],
             [
              0.8888888888888888,
              "#fdca26"
             ],
             [
              1,
              "#f0f921"
             ]
            ],
            "type": "heatmapgl"
           }
          ],
          "histogram": [
           {
            "marker": {
             "pattern": {
              "fillmode": "overlay",
              "size": 10,
              "solidity": 0.2
             }
            },
            "type": "histogram"
           }
          ],
          "histogram2d": [
           {
            "colorbar": {
             "outlinewidth": 0,
             "ticks": ""
            },
            "colorscale": [
             [
              0,
              "#0d0887"
             ],
             [
              0.1111111111111111,
              "#46039f"
             ],
             [
              0.2222222222222222,
              "#7201a8"
             ],
             [
              0.3333333333333333,
              "#9c179e"
             ],
             [
              0.4444444444444444,
              "#bd3786"
             ],
             [
              0.5555555555555556,
              "#d8576b"
             ],
             [
              0.6666666666666666,
              "#ed7953"
             ],
             [
              0.7777777777777778,
              "#fb9f3a"
             ],
             [
              0.8888888888888888,
              "#fdca26"
             ],
             [
              1,
              "#f0f921"
             ]
            ],
            "type": "histogram2d"
           }
          ],
          "histogram2dcontour": [
           {
            "colorbar": {
             "outlinewidth": 0,
             "ticks": ""
            },
            "colorscale": [
             [
              0,
              "#0d0887"
             ],
             [
              0.1111111111111111,
              "#46039f"
             ],
             [
              0.2222222222222222,
              "#7201a8"
             ],
             [
              0.3333333333333333,
              "#9c179e"
             ],
             [
              0.4444444444444444,
              "#bd3786"
             ],
             [
              0.5555555555555556,
              "#d8576b"
             ],
             [
              0.6666666666666666,
              "#ed7953"
             ],
             [
              0.7777777777777778,
              "#fb9f3a"
             ],
             [
              0.8888888888888888,
              "#fdca26"
             ],
             [
              1,
              "#f0f921"
             ]
            ],
            "type": "histogram2dcontour"
           }
          ],
          "mesh3d": [
           {
            "colorbar": {
             "outlinewidth": 0,
             "ticks": ""
            },
            "type": "mesh3d"
           }
          ],
          "parcoords": [
           {
            "line": {
             "colorbar": {
              "outlinewidth": 0,
              "ticks": ""
             }
            },
            "type": "parcoords"
           }
          ],
          "pie": [
           {
            "automargin": true,
            "type": "pie"
           }
          ],
          "scatter": [
           {
            "fillpattern": {
             "fillmode": "overlay",
             "size": 10,
             "solidity": 0.2
            },
            "type": "scatter"
           }
          ],
          "scatter3d": [
           {
            "line": {
             "colorbar": {
              "outlinewidth": 0,
              "ticks": ""
             }
            },
            "marker": {
             "colorbar": {
              "outlinewidth": 0,
              "ticks": ""
             }
            },
            "type": "scatter3d"
           }
          ],
          "scattercarpet": [
           {
            "marker": {
             "colorbar": {
              "outlinewidth": 0,
              "ticks": ""
             }
            },
            "type": "scattercarpet"
           }
          ],
          "scattergeo": [
           {
            "marker": {
             "colorbar": {
              "outlinewidth": 0,
              "ticks": ""
             }
            },
            "type": "scattergeo"
           }
          ],
          "scattergl": [
           {
            "marker": {
             "colorbar": {
              "outlinewidth": 0,
              "ticks": ""
             }
            },
            "type": "scattergl"
           }
          ],
          "scattermapbox": [
           {
            "marker": {
             "colorbar": {
              "outlinewidth": 0,
              "ticks": ""
             }
            },
            "type": "scattermapbox"
           }
          ],
          "scatterpolar": [
           {
            "marker": {
             "colorbar": {
              "outlinewidth": 0,
              "ticks": ""
             }
            },
            "type": "scatterpolar"
           }
          ],
          "scatterpolargl": [
           {
            "marker": {
             "colorbar": {
              "outlinewidth": 0,
              "ticks": ""
             }
            },
            "type": "scatterpolargl"
           }
          ],
          "scatterternary": [
           {
            "marker": {
             "colorbar": {
              "outlinewidth": 0,
              "ticks": ""
             }
            },
            "type": "scatterternary"
           }
          ],
          "surface": [
           {
            "colorbar": {
             "outlinewidth": 0,
             "ticks": ""
            },
            "colorscale": [
             [
              0,
              "#0d0887"
             ],
             [
              0.1111111111111111,
              "#46039f"
             ],
             [
              0.2222222222222222,
              "#7201a8"
             ],
             [
              0.3333333333333333,
              "#9c179e"
             ],
             [
              0.4444444444444444,
              "#bd3786"
             ],
             [
              0.5555555555555556,
              "#d8576b"
             ],
             [
              0.6666666666666666,
              "#ed7953"
             ],
             [
              0.7777777777777778,
              "#fb9f3a"
             ],
             [
              0.8888888888888888,
              "#fdca26"
             ],
             [
              1,
              "#f0f921"
             ]
            ],
            "type": "surface"
           }
          ],
          "table": [
           {
            "cells": {
             "fill": {
              "color": "#EBF0F8"
             },
             "line": {
              "color": "white"
             }
            },
            "header": {
             "fill": {
              "color": "#C8D4E3"
             },
             "line": {
              "color": "white"
             }
            },
            "type": "table"
           }
          ]
         },
         "layout": {
          "annotationdefaults": {
           "arrowcolor": "#2a3f5f",
           "arrowhead": 0,
           "arrowwidth": 1
          },
          "autotypenumbers": "strict",
          "coloraxis": {
           "colorbar": {
            "outlinewidth": 0,
            "ticks": ""
           }
          },
          "colorscale": {
           "diverging": [
            [
             0,
             "#8e0152"
            ],
            [
             0.1,
             "#c51b7d"
            ],
            [
             0.2,
             "#de77ae"
            ],
            [
             0.3,
             "#f1b6da"
            ],
            [
             0.4,
             "#fde0ef"
            ],
            [
             0.5,
             "#f7f7f7"
            ],
            [
             0.6,
             "#e6f5d0"
            ],
            [
             0.7,
             "#b8e186"
            ],
            [
             0.8,
             "#7fbc41"
            ],
            [
             0.9,
             "#4d9221"
            ],
            [
             1,
             "#276419"
            ]
           ],
           "sequential": [
            [
             0,
             "#0d0887"
            ],
            [
             0.1111111111111111,
             "#46039f"
            ],
            [
             0.2222222222222222,
             "#7201a8"
            ],
            [
             0.3333333333333333,
             "#9c179e"
            ],
            [
             0.4444444444444444,
             "#bd3786"
            ],
            [
             0.5555555555555556,
             "#d8576b"
            ],
            [
             0.6666666666666666,
             "#ed7953"
            ],
            [
             0.7777777777777778,
             "#fb9f3a"
            ],
            [
             0.8888888888888888,
             "#fdca26"
            ],
            [
             1,
             "#f0f921"
            ]
           ],
           "sequentialminus": [
            [
             0,
             "#0d0887"
            ],
            [
             0.1111111111111111,
             "#46039f"
            ],
            [
             0.2222222222222222,
             "#7201a8"
            ],
            [
             0.3333333333333333,
             "#9c179e"
            ],
            [
             0.4444444444444444,
             "#bd3786"
            ],
            [
             0.5555555555555556,
             "#d8576b"
            ],
            [
             0.6666666666666666,
             "#ed7953"
            ],
            [
             0.7777777777777778,
             "#fb9f3a"
            ],
            [
             0.8888888888888888,
             "#fdca26"
            ],
            [
             1,
             "#f0f921"
            ]
           ]
          },
          "colorway": [
           "#636efa",
           "#EF553B",
           "#00cc96",
           "#ab63fa",
           "#FFA15A",
           "#19d3f3",
           "#FF6692",
           "#B6E880",
           "#FF97FF",
           "#FECB52"
          ],
          "font": {
           "color": "#2a3f5f"
          },
          "geo": {
           "bgcolor": "white",
           "lakecolor": "white",
           "landcolor": "#E5ECF6",
           "showlakes": true,
           "showland": true,
           "subunitcolor": "white"
          },
          "hoverlabel": {
           "align": "left"
          },
          "hovermode": "closest",
          "mapbox": {
           "style": "light"
          },
          "paper_bgcolor": "white",
          "plot_bgcolor": "#E5ECF6",
          "polar": {
           "angularaxis": {
            "gridcolor": "white",
            "linecolor": "white",
            "ticks": ""
           },
           "bgcolor": "#E5ECF6",
           "radialaxis": {
            "gridcolor": "white",
            "linecolor": "white",
            "ticks": ""
           }
          },
          "scene": {
           "xaxis": {
            "backgroundcolor": "#E5ECF6",
            "gridcolor": "white",
            "gridwidth": 2,
            "linecolor": "white",
            "showbackground": true,
            "ticks": "",
            "zerolinecolor": "white"
           },
           "yaxis": {
            "backgroundcolor": "#E5ECF6",
            "gridcolor": "white",
            "gridwidth": 2,
            "linecolor": "white",
            "showbackground": true,
            "ticks": "",
            "zerolinecolor": "white"
           },
           "zaxis": {
            "backgroundcolor": "#E5ECF6",
            "gridcolor": "white",
            "gridwidth": 2,
            "linecolor": "white",
            "showbackground": true,
            "ticks": "",
            "zerolinecolor": "white"
           }
          },
          "shapedefaults": {
           "line": {
            "color": "#2a3f5f"
           }
          },
          "ternary": {
           "aaxis": {
            "gridcolor": "white",
            "linecolor": "white",
            "ticks": ""
           },
           "baxis": {
            "gridcolor": "white",
            "linecolor": "white",
            "ticks": ""
           },
           "bgcolor": "#E5ECF6",
           "caxis": {
            "gridcolor": "white",
            "linecolor": "white",
            "ticks": ""
           }
          },
          "title": {
           "x": 0.05
          },
          "xaxis": {
           "automargin": true,
           "gridcolor": "white",
           "linecolor": "white",
           "ticks": "",
           "title": {
            "standoff": 15
           },
           "zerolinecolor": "white",
           "zerolinewidth": 2
          },
          "yaxis": {
           "automargin": true,
           "gridcolor": "white",
           "linecolor": "white",
           "ticks": "",
           "title": {
            "standoff": 15
           },
           "zerolinecolor": "white",
           "zerolinewidth": 2
          }
         }
        },
        "xaxis": {
         "anchor": "y",
         "categoryarray": [
          "seed",
          "auc",
          "phe"
         ],
         "categoryorder": "array",
         "domain": [
          0,
          0.31999999999999995
         ],
         "title": {
          "text": "variable"
         }
        },
        "xaxis2": {
         "anchor": "y2",
         "categoryarray": [
          "seed",
          "auc",
          "phe"
         ],
         "categoryorder": "array",
         "domain": [
          0.33999999999999997,
          0.6599999999999999
         ],
         "title": {
          "text": "variable"
         }
        },
        "xaxis3": {
         "anchor": "y3",
         "categoryarray": [
          "seed",
          "auc",
          "phe"
         ],
         "categoryorder": "array",
         "domain": [
          0.6799999999999999,
          0.9999999999999999
         ],
         "title": {
          "text": "variable"
         }
        },
        "yaxis": {
         "anchor": "x",
         "domain": [
          0,
          1
         ],
         "showticklabels": true,
         "title": {
          "text": "value"
         }
        },
        "yaxis2": {
         "anchor": "x2",
         "domain": [
          0,
          1
         ],
         "showticklabels": true
        },
        "yaxis3": {
         "anchor": "x3",
         "domain": [
          0,
          1
         ],
         "showticklabels": true
        }
       }
      }
     },
     "metadata": {},
     "output_type": "display_data"
    }
   ],
   "source": [
    "import plotly.express as px\n",
    "\n",
    "fig_boxplot = px.box(\n",
    "    bs_trials,#.drop(\"seed\", axis=\"columns\"),\n",
    "    points=\"all\",\n",
    "    facet_col=\"variable\",\n",
    ")\n",
    "\n",
    "fig_boxplot.update_xaxes(matches=None)\n",
    "fig_boxplot.update_yaxes(matches=None)\n",
    "fig_boxplot.for_each_yaxis(lambda yaxis: yaxis.update(showticklabels=True))\n",
    "fig_boxplot.show()"
   ]
  },
  {
   "cell_type": "code",
   "execution_count": 48,
   "metadata": {},
   "outputs": [
    {
     "ename": "KeyError",
     "evalue": "'max_depth'",
     "output_type": "error",
     "traceback": [
      "\u001b[0;31m---------------------------------------------------------------------------\u001b[0m",
      "\u001b[0;31mKeyError\u001b[0m                                  Traceback (most recent call last)",
      "File \u001b[0;32m/DeepenData/.miniconda/envs/playground/lib/python3.10/site-packages/pandas/core/indexes/base.py:3803\u001b[0m, in \u001b[0;36mIndex.get_loc\u001b[0;34m(self, key, method, tolerance)\u001b[0m\n\u001b[1;32m   3802\u001b[0m \u001b[39mtry\u001b[39;00m:\n\u001b[0;32m-> 3803\u001b[0m     \u001b[39mreturn\u001b[39;00m \u001b[39mself\u001b[39;49m\u001b[39m.\u001b[39;49m_engine\u001b[39m.\u001b[39;49mget_loc(casted_key)\n\u001b[1;32m   3804\u001b[0m \u001b[39mexcept\u001b[39;00m \u001b[39mKeyError\u001b[39;00m \u001b[39mas\u001b[39;00m err:\n",
      "File \u001b[0;32m/DeepenData/.miniconda/envs/playground/lib/python3.10/site-packages/pandas/_libs/index.pyx:138\u001b[0m, in \u001b[0;36mpandas._libs.index.IndexEngine.get_loc\u001b[0;34m()\u001b[0m\n",
      "File \u001b[0;32m/DeepenData/.miniconda/envs/playground/lib/python3.10/site-packages/pandas/_libs/index.pyx:165\u001b[0m, in \u001b[0;36mpandas._libs.index.IndexEngine.get_loc\u001b[0;34m()\u001b[0m\n",
      "File \u001b[0;32mpandas/_libs/hashtable_class_helper.pxi:5745\u001b[0m, in \u001b[0;36mpandas._libs.hashtable.PyObjectHashTable.get_item\u001b[0;34m()\u001b[0m\n",
      "File \u001b[0;32mpandas/_libs/hashtable_class_helper.pxi:5753\u001b[0m, in \u001b[0;36mpandas._libs.hashtable.PyObjectHashTable.get_item\u001b[0;34m()\u001b[0m\n",
      "\u001b[0;31mKeyError\u001b[0m: 'max_depth'",
      "\nThe above exception was the direct cause of the following exception:\n",
      "\u001b[0;31mKeyError\u001b[0m                                  Traceback (most recent call last)",
      "Cell \u001b[0;32mIn[48], line 1\u001b[0m\n\u001b[0;32m----> 1\u001b[0m bs_trials[\u001b[39m\"\u001b[39m\u001b[39mseed\u001b[39m\u001b[39m\"\u001b[39m], bs_trials[\u001b[39m\"\u001b[39m\u001b[39mmax_depth\u001b[39m\u001b[39m\"\u001b[39m] \u001b[39m=\u001b[39m bs_trials[\u001b[39m\"\u001b[39m\u001b[39mseed\u001b[39m\u001b[39m\"\u001b[39m]\u001b[39m.\u001b[39mastype(\u001b[39m\"\u001b[39m\u001b[39mint\u001b[39m\u001b[39m\"\u001b[39m), bs_trials[\n\u001b[1;32m      2\u001b[0m     \u001b[39m\"\u001b[39;49m\u001b[39mmax_depth\u001b[39;49m\u001b[39m\"\u001b[39;49m\n\u001b[1;32m      3\u001b[0m ]\u001b[39m.\u001b[39mastype(\u001b[39m\"\u001b[39m\u001b[39mint\u001b[39m\u001b[39m\"\u001b[39m)\n\u001b[1;32m      4\u001b[0m bs_trials\u001b[39m.\u001b[39mhead()\n",
      "File \u001b[0;32m/DeepenData/.miniconda/envs/playground/lib/python3.10/site-packages/pandas/core/frame.py:3805\u001b[0m, in \u001b[0;36mDataFrame.__getitem__\u001b[0;34m(self, key)\u001b[0m\n\u001b[1;32m   3803\u001b[0m \u001b[39mif\u001b[39;00m \u001b[39mself\u001b[39m\u001b[39m.\u001b[39mcolumns\u001b[39m.\u001b[39mnlevels \u001b[39m>\u001b[39m \u001b[39m1\u001b[39m:\n\u001b[1;32m   3804\u001b[0m     \u001b[39mreturn\u001b[39;00m \u001b[39mself\u001b[39m\u001b[39m.\u001b[39m_getitem_multilevel(key)\n\u001b[0;32m-> 3805\u001b[0m indexer \u001b[39m=\u001b[39m \u001b[39mself\u001b[39;49m\u001b[39m.\u001b[39;49mcolumns\u001b[39m.\u001b[39;49mget_loc(key)\n\u001b[1;32m   3806\u001b[0m \u001b[39mif\u001b[39;00m is_integer(indexer):\n\u001b[1;32m   3807\u001b[0m     indexer \u001b[39m=\u001b[39m [indexer]\n",
      "File \u001b[0;32m/DeepenData/.miniconda/envs/playground/lib/python3.10/site-packages/pandas/core/indexes/base.py:3805\u001b[0m, in \u001b[0;36mIndex.get_loc\u001b[0;34m(self, key, method, tolerance)\u001b[0m\n\u001b[1;32m   3803\u001b[0m     \u001b[39mreturn\u001b[39;00m \u001b[39mself\u001b[39m\u001b[39m.\u001b[39m_engine\u001b[39m.\u001b[39mget_loc(casted_key)\n\u001b[1;32m   3804\u001b[0m \u001b[39mexcept\u001b[39;00m \u001b[39mKeyError\u001b[39;00m \u001b[39mas\u001b[39;00m err:\n\u001b[0;32m-> 3805\u001b[0m     \u001b[39mraise\u001b[39;00m \u001b[39mKeyError\u001b[39;00m(key) \u001b[39mfrom\u001b[39;00m \u001b[39merr\u001b[39;00m\n\u001b[1;32m   3806\u001b[0m \u001b[39mexcept\u001b[39;00m \u001b[39mTypeError\u001b[39;00m:\n\u001b[1;32m   3807\u001b[0m     \u001b[39m# If we have a listlike key, _check_indexing_error will raise\u001b[39;00m\n\u001b[1;32m   3808\u001b[0m     \u001b[39m#  InvalidIndexError. Otherwise we fall through and re-raise\u001b[39;00m\n\u001b[1;32m   3809\u001b[0m     \u001b[39m#  the TypeError.\u001b[39;00m\n\u001b[1;32m   3810\u001b[0m     \u001b[39mself\u001b[39m\u001b[39m.\u001b[39m_check_indexing_error(key)\n",
      "\u001b[0;31mKeyError\u001b[0m: 'max_depth'"
     ]
    }
   ],
   "source": [
    "bs_trials[\"seed\"], bs_trials[\"max_depth\"] = bs_trials[\"seed\"].astype(\"int\"), bs_trials[\n",
    "    \"max_depth\"\n",
    "].astype(\"int\")\n",
    "bs_trials.head()"
   ]
  },
  {
   "cell_type": "code",
   "execution_count": 49,
   "metadata": {},
   "outputs": [
    {
     "data": {
      "text/plain": [
       "{'objective': 'binary:logistic', 'eval_metric': 'logloss', 'seed': 316.0}"
      ]
     },
     "execution_count": 49,
     "metadata": {},
     "output_type": "execute_result"
    }
   ],
   "source": [
    "params = {\"objective\": \"binary:logistic\", \"eval_metric\": \"logloss\"}\n",
    "\n",
    "\n",
    "params.update(bs_trials.drop([\"auc\", \"phe\"], axis=\"columns\").iloc[1].to_dict())\n",
    "\n",
    "params"
   ]
  },
  {
   "cell_type": "code",
   "execution_count": 50,
   "metadata": {},
   "outputs": [
    {
     "data": {
      "text/html": [
       "<div>\n",
       "<style scoped>\n",
       "    .dataframe tbody tr th:only-of-type {\n",
       "        vertical-align: middle;\n",
       "    }\n",
       "\n",
       "    .dataframe tbody tr th {\n",
       "        vertical-align: top;\n",
       "    }\n",
       "\n",
       "    .dataframe thead th {\n",
       "        text-align: right;\n",
       "    }\n",
       "</style>\n",
       "<table border=\"1\" class=\"dataframe\">\n",
       "  <thead>\n",
       "    <tr style=\"text-align: right;\">\n",
       "      <th></th>\n",
       "      <th>seed</th>\n",
       "      <th>auc</th>\n",
       "      <th>phe</th>\n",
       "    </tr>\n",
       "  </thead>\n",
       "  <tbody>\n",
       "    <tr>\n",
       "      <th>43</th>\n",
       "      <td>8998.0</td>\n",
       "      <td>0.902778</td>\n",
       "      <td>0.633505</td>\n",
       "    </tr>\n",
       "    <tr>\n",
       "      <th>370</th>\n",
       "      <td>316.0</td>\n",
       "      <td>0.986111</td>\n",
       "      <td>0.585442</td>\n",
       "    </tr>\n",
       "    <tr>\n",
       "      <th>431</th>\n",
       "      <td>5045.0</td>\n",
       "      <td>1.000000</td>\n",
       "      <td>0.465649</td>\n",
       "    </tr>\n",
       "    <tr>\n",
       "      <th>435</th>\n",
       "      <td>5870.0</td>\n",
       "      <td>0.979167</td>\n",
       "      <td>0.626217</td>\n",
       "    </tr>\n",
       "  </tbody>\n",
       "</table>\n",
       "</div>"
      ],
      "text/plain": [
       "       seed       auc       phe\n",
       "43   8998.0  0.902778  0.633505\n",
       "370   316.0  0.986111  0.585442\n",
       "431  5045.0  1.000000  0.465649\n",
       "435  5870.0  0.979167  0.626217"
      ]
     },
     "execution_count": 50,
     "metadata": {},
     "output_type": "execute_result"
    }
   ],
   "source": [
    "bs_trials"
   ]
  },
  {
   "cell_type": "code",
   "execution_count": 51,
   "metadata": {},
   "outputs": [
    {
     "ename": "KeyError",
     "evalue": "\"None of [Index(['max_depth', 'eta', 'subsample', 'lambda', 'alpha', 'scale_pos_weight'], dtype='object')] are in the [index]\"",
     "output_type": "error",
     "traceback": [
      "\u001b[0;31m---------------------------------------------------------------------------\u001b[0m",
      "\u001b[0;31mKeyError\u001b[0m                                  Traceback (most recent call last)",
      "Cell \u001b[0;32mIn[51], line 6\u001b[0m\n\u001b[1;32m      3\u001b[0m df_ranks \u001b[39m=\u001b[39m pd\u001b[39m.\u001b[39mDataFrame()\n\u001b[1;32m      5\u001b[0m \u001b[39mfor\u001b[39;00m number \u001b[39min\u001b[39;00m bs_trials\u001b[39m.\u001b[39mindex:\n\u001b[0;32m----> 6\u001b[0m     instance_params \u001b[39m=\u001b[39m bs_trials\u001b[39m.\u001b[39;49mloc[number][\n\u001b[1;32m      7\u001b[0m         [\u001b[39m\"\u001b[39;49m\u001b[39mmax_depth\u001b[39;49m\u001b[39m\"\u001b[39;49m, \u001b[39m\"\u001b[39;49m\u001b[39meta\u001b[39;49m\u001b[39m\"\u001b[39;49m, \u001b[39m\"\u001b[39;49m\u001b[39msubsample\u001b[39;49m\u001b[39m\"\u001b[39;49m, \u001b[39m\"\u001b[39;49m\u001b[39mlambda\u001b[39;49m\u001b[39m\"\u001b[39;49m, \u001b[39m\"\u001b[39;49m\u001b[39malpha\u001b[39;49m\u001b[39m\"\u001b[39;49m, \u001b[39m\"\u001b[39;49m\u001b[39mscale_pos_weight\u001b[39;49m\u001b[39m\"\u001b[39;49m]\n\u001b[1;32m      8\u001b[0m     ]\u001b[39m.\u001b[39mto_dict()\n\u001b[1;32m      9\u001b[0m     instance_params[\u001b[39m\"\u001b[39m\u001b[39mmax_depth\u001b[39m\u001b[39m\"\u001b[39m] \u001b[39m=\u001b[39m \u001b[39mint\u001b[39m(instance_params[\u001b[39m\"\u001b[39m\u001b[39mmax_depth\u001b[39m\u001b[39m\"\u001b[39m])\n\u001b[1;32m     11\u001b[0m     instance_params[\u001b[39m\"\u001b[39m\u001b[39mobjective\u001b[39m\u001b[39m\"\u001b[39m] \u001b[39m=\u001b[39m \u001b[39m\"\u001b[39m\u001b[39mbinary:logistic\u001b[39m\u001b[39m\"\u001b[39m\n",
      "File \u001b[0;32m/DeepenData/.miniconda/envs/playground/lib/python3.10/site-packages/pandas/core/series.py:1007\u001b[0m, in \u001b[0;36mSeries.__getitem__\u001b[0;34m(self, key)\u001b[0m\n\u001b[1;32m   1004\u001b[0m     key \u001b[39m=\u001b[39m np\u001b[39m.\u001b[39masarray(key, dtype\u001b[39m=\u001b[39m\u001b[39mbool\u001b[39m)\n\u001b[1;32m   1005\u001b[0m     \u001b[39mreturn\u001b[39;00m \u001b[39mself\u001b[39m\u001b[39m.\u001b[39m_get_values(key)\n\u001b[0;32m-> 1007\u001b[0m \u001b[39mreturn\u001b[39;00m \u001b[39mself\u001b[39;49m\u001b[39m.\u001b[39;49m_get_with(key)\n",
      "File \u001b[0;32m/DeepenData/.miniconda/envs/playground/lib/python3.10/site-packages/pandas/core/series.py:1047\u001b[0m, in \u001b[0;36mSeries._get_with\u001b[0;34m(self, key)\u001b[0m\n\u001b[1;32m   1044\u001b[0m         \u001b[39mreturn\u001b[39;00m \u001b[39mself\u001b[39m\u001b[39m.\u001b[39miloc[key]\n\u001b[1;32m   1046\u001b[0m \u001b[39m# handle the dup indexing case GH#4246\u001b[39;00m\n\u001b[0;32m-> 1047\u001b[0m \u001b[39mreturn\u001b[39;00m \u001b[39mself\u001b[39;49m\u001b[39m.\u001b[39;49mloc[key]\n",
      "File \u001b[0;32m/DeepenData/.miniconda/envs/playground/lib/python3.10/site-packages/pandas/core/indexing.py:1073\u001b[0m, in \u001b[0;36m_LocationIndexer.__getitem__\u001b[0;34m(self, key)\u001b[0m\n\u001b[1;32m   1070\u001b[0m axis \u001b[39m=\u001b[39m \u001b[39mself\u001b[39m\u001b[39m.\u001b[39maxis \u001b[39mor\u001b[39;00m \u001b[39m0\u001b[39m\n\u001b[1;32m   1072\u001b[0m maybe_callable \u001b[39m=\u001b[39m com\u001b[39m.\u001b[39mapply_if_callable(key, \u001b[39mself\u001b[39m\u001b[39m.\u001b[39mobj)\n\u001b[0;32m-> 1073\u001b[0m \u001b[39mreturn\u001b[39;00m \u001b[39mself\u001b[39;49m\u001b[39m.\u001b[39;49m_getitem_axis(maybe_callable, axis\u001b[39m=\u001b[39;49maxis)\n",
      "File \u001b[0;32m/DeepenData/.miniconda/envs/playground/lib/python3.10/site-packages/pandas/core/indexing.py:1301\u001b[0m, in \u001b[0;36m_LocIndexer._getitem_axis\u001b[0;34m(self, key, axis)\u001b[0m\n\u001b[1;32m   1298\u001b[0m     \u001b[39mif\u001b[39;00m \u001b[39mhasattr\u001b[39m(key, \u001b[39m\"\u001b[39m\u001b[39mndim\u001b[39m\u001b[39m\"\u001b[39m) \u001b[39mand\u001b[39;00m key\u001b[39m.\u001b[39mndim \u001b[39m>\u001b[39m \u001b[39m1\u001b[39m:\n\u001b[1;32m   1299\u001b[0m         \u001b[39mraise\u001b[39;00m \u001b[39mValueError\u001b[39;00m(\u001b[39m\"\u001b[39m\u001b[39mCannot index with multidimensional key\u001b[39m\u001b[39m\"\u001b[39m)\n\u001b[0;32m-> 1301\u001b[0m     \u001b[39mreturn\u001b[39;00m \u001b[39mself\u001b[39;49m\u001b[39m.\u001b[39;49m_getitem_iterable(key, axis\u001b[39m=\u001b[39;49maxis)\n\u001b[1;32m   1303\u001b[0m \u001b[39m# nested tuple slicing\u001b[39;00m\n\u001b[1;32m   1304\u001b[0m \u001b[39mif\u001b[39;00m is_nested_tuple(key, labels):\n",
      "File \u001b[0;32m/DeepenData/.miniconda/envs/playground/lib/python3.10/site-packages/pandas/core/indexing.py:1239\u001b[0m, in \u001b[0;36m_LocIndexer._getitem_iterable\u001b[0;34m(self, key, axis)\u001b[0m\n\u001b[1;32m   1236\u001b[0m \u001b[39mself\u001b[39m\u001b[39m.\u001b[39m_validate_key(key, axis)\n\u001b[1;32m   1238\u001b[0m \u001b[39m# A collection of keys\u001b[39;00m\n\u001b[0;32m-> 1239\u001b[0m keyarr, indexer \u001b[39m=\u001b[39m \u001b[39mself\u001b[39;49m\u001b[39m.\u001b[39;49m_get_listlike_indexer(key, axis)\n\u001b[1;32m   1240\u001b[0m \u001b[39mreturn\u001b[39;00m \u001b[39mself\u001b[39m\u001b[39m.\u001b[39mobj\u001b[39m.\u001b[39m_reindex_with_indexers(\n\u001b[1;32m   1241\u001b[0m     {axis: [keyarr, indexer]}, copy\u001b[39m=\u001b[39m\u001b[39mTrue\u001b[39;00m, allow_dups\u001b[39m=\u001b[39m\u001b[39mTrue\u001b[39;00m\n\u001b[1;32m   1242\u001b[0m )\n",
      "File \u001b[0;32m/DeepenData/.miniconda/envs/playground/lib/python3.10/site-packages/pandas/core/indexing.py:1432\u001b[0m, in \u001b[0;36m_LocIndexer._get_listlike_indexer\u001b[0;34m(self, key, axis)\u001b[0m\n\u001b[1;32m   1429\u001b[0m ax \u001b[39m=\u001b[39m \u001b[39mself\u001b[39m\u001b[39m.\u001b[39mobj\u001b[39m.\u001b[39m_get_axis(axis)\n\u001b[1;32m   1430\u001b[0m axis_name \u001b[39m=\u001b[39m \u001b[39mself\u001b[39m\u001b[39m.\u001b[39mobj\u001b[39m.\u001b[39m_get_axis_name(axis)\n\u001b[0;32m-> 1432\u001b[0m keyarr, indexer \u001b[39m=\u001b[39m ax\u001b[39m.\u001b[39;49m_get_indexer_strict(key, axis_name)\n\u001b[1;32m   1434\u001b[0m \u001b[39mreturn\u001b[39;00m keyarr, indexer\n",
      "File \u001b[0;32m/DeepenData/.miniconda/envs/playground/lib/python3.10/site-packages/pandas/core/indexes/base.py:6113\u001b[0m, in \u001b[0;36mIndex._get_indexer_strict\u001b[0;34m(self, key, axis_name)\u001b[0m\n\u001b[1;32m   6110\u001b[0m \u001b[39melse\u001b[39;00m:\n\u001b[1;32m   6111\u001b[0m     keyarr, indexer, new_indexer \u001b[39m=\u001b[39m \u001b[39mself\u001b[39m\u001b[39m.\u001b[39m_reindex_non_unique(keyarr)\n\u001b[0;32m-> 6113\u001b[0m \u001b[39mself\u001b[39;49m\u001b[39m.\u001b[39;49m_raise_if_missing(keyarr, indexer, axis_name)\n\u001b[1;32m   6115\u001b[0m keyarr \u001b[39m=\u001b[39m \u001b[39mself\u001b[39m\u001b[39m.\u001b[39mtake(indexer)\n\u001b[1;32m   6116\u001b[0m \u001b[39mif\u001b[39;00m \u001b[39misinstance\u001b[39m(key, Index):\n\u001b[1;32m   6117\u001b[0m     \u001b[39m# GH 42790 - Preserve name from an Index\u001b[39;00m\n",
      "File \u001b[0;32m/DeepenData/.miniconda/envs/playground/lib/python3.10/site-packages/pandas/core/indexes/base.py:6173\u001b[0m, in \u001b[0;36mIndex._raise_if_missing\u001b[0;34m(self, key, indexer, axis_name)\u001b[0m\n\u001b[1;32m   6171\u001b[0m     \u001b[39mif\u001b[39;00m use_interval_msg:\n\u001b[1;32m   6172\u001b[0m         key \u001b[39m=\u001b[39m \u001b[39mlist\u001b[39m(key)\n\u001b[0;32m-> 6173\u001b[0m     \u001b[39mraise\u001b[39;00m \u001b[39mKeyError\u001b[39;00m(\u001b[39mf\u001b[39m\u001b[39m\"\u001b[39m\u001b[39mNone of [\u001b[39m\u001b[39m{\u001b[39;00mkey\u001b[39m}\u001b[39;00m\u001b[39m] are in the [\u001b[39m\u001b[39m{\u001b[39;00maxis_name\u001b[39m}\u001b[39;00m\u001b[39m]\u001b[39m\u001b[39m\"\u001b[39m)\n\u001b[1;32m   6175\u001b[0m not_found \u001b[39m=\u001b[39m \u001b[39mlist\u001b[39m(ensure_index(key)[missing_mask\u001b[39m.\u001b[39mnonzero()[\u001b[39m0\u001b[39m]]\u001b[39m.\u001b[39munique())\n\u001b[1;32m   6176\u001b[0m \u001b[39mraise\u001b[39;00m \u001b[39mKeyError\u001b[39;00m(\u001b[39mf\u001b[39m\u001b[39m\"\u001b[39m\u001b[39m{\u001b[39;00mnot_found\u001b[39m}\u001b[39;00m\u001b[39m not in index\u001b[39m\u001b[39m\"\u001b[39m)\n",
      "\u001b[0;31mKeyError\u001b[0m: \"None of [Index(['max_depth', 'eta', 'subsample', 'lambda', 'alpha', 'scale_pos_weight'], dtype='object')] are in the [index]\""
     ]
    }
   ],
   "source": [
    "paretos = {}\n",
    "\n",
    "df_ranks = pd.DataFrame()\n",
    "\n",
    "for number in bs_trials.index:\n",
    "    instance_params = bs_trials.loc[number][\n",
    "        [\"max_depth\", \"eta\", \"subsample\", \"lambda\", \"alpha\", \"scale_pos_weight\"]\n",
    "    ].to_dict()\n",
    "    instance_params[\"max_depth\"] = int(instance_params[\"max_depth\"])\n",
    "\n",
    "    instance_params[\"objective\"] = \"binary:logistic\"\n",
    "    instance_params[\"eval_metric\"] = \"logloss\"\n",
    "\n",
    "    print(instance_params)\n",
    "\n",
    "    model_instance = generate_model(\n",
    "        \"HOMA-IR alterado\",\n",
    "        \"data.csv\",\n",
    "        removed_features=ext_params[\"feature_engineering\"][\"removed_features\"],\n",
    "        xg_params=instance_params,\n",
    "        kfold_splits=5,\n",
    "        seed=int(bs_trials.loc[number][\"seed\"]),\n",
    "    )\n",
    "    #\n",
    "    print(model_instance.model.attributes())\n",
    "\n",
    "    df_ranks[number] = model_instance.get_feature_metrics()[\"SHAP_abnormal\"]\n",
    "\n",
    "    print(\n",
    "        \"Phe_value : \",\n",
    "        model_instance.get_feature_metrics()[\"SHAP_abnormal\"][\"fenilalax\"],\n",
    "        \"\\t\",\n",
    "        \"Phe_ranking : \",\n",
    "        model_instance.get_feature_metrics()[\"SHAP_abnormal\"].rank(ascending=False)[\n",
    "            \"fenilalax\"\n",
    "        ],\n",
    "    )\n",
    "\n",
    "    print(\"\\n\")"
   ]
  },
  {
   "cell_type": "code",
   "execution_count": 79,
   "metadata": {},
   "outputs": [],
   "source": [
    "# RELABELING\n",
    "labels_relabel = {\n",
    "    \"Género\": \"gender\",\n",
    "    \"aleator\": \"random\",\n",
    "    \"Edad\": \"Age\",\n",
    "    \"Peso\": \"Weight\",\n",
    "    \"Estatura\": \"Height\",\n",
    "    \"IMC\": \"BMI\",\n",
    "    \"Circunferencia de cintura\": \"Waist circumference\",\n",
    "    \"ATPII/AHA/IDF\": \"ATPII/AHA/IDF\",\n",
    "    \"fenilalax\": \"Phenylalax\",\n",
    "    \"glupromx\": \"Glupromx\",\n",
    "    \"glummol\": \"Glummol\",\n",
    "    \"insuprom\": \"Insuprom\",\n",
    "    \"HOMA-IR alterado\": \"HOMA-IR altered\",\n",
    "    \"HOMA2-IR\": \"HOMA2-IR\",\n",
    "    \"HOMA2B(%)\": \"HOMA2B(%)\",\n",
    "    \"HOMA2S%\": \"HOMA2S%\",\n",
    "    \"quickix\": \"Quickix\",\n",
    "    \"ohd3x\": \"ohd3x\",\n",
    "    \"tirosinax\": \"Tyrosinax\",\n",
    "    \"Alanina\": \"Alanine\",\n",
    "    \"Aspartato\": \"Aspartate\",\n",
    "    \"Glutamato\": \"Glutamate\",\n",
    "    \"Leucina\": \"Leucine\",\n",
    "    \"Ornitina\": \"Ornithine\",\n",
    "    \"Prolina\": \"Proline\",\n",
    "    \"Tirosina\": \"Tyrosine\",\n",
    "    \"Carnitina libre\": \"Free Carnitine\",\n",
    "    \"Propionilcarnitina\": \"Propionylcarnitine\",\n",
    "    \"Isovalerilcarnitina\": \"Isovalerylcarnitine\",\n",
    "    \"Tiglilcarnitina\": \"Tiglilcarnitine\",\n",
    "    \"Me-Glutarilcarnitina\": \"Me-Glutarylcarnitine\",\n",
    "    \"Decanoilcarnitina\": \"Decanoylcarnitine\",\n",
    "    \"Tetradecanoilcarnitina\": \"Tetradecanoylcarnitine\",\n",
    "    \"3-OH-Isovalerilcarnitina\": \"3-OH-Isovalerylcarnitine\",\n",
    "    \"3-OH-Palmitoilcarnitina\": \"3-OH-Palmitoylcarnitine\",\n",
    "    \"Linoleoilcarnitina\": \"Linoleoilcarnitine\",\n",
    "    \"Arginina\": \"Arginine\",\n",
    "    \"Citrulina\": \"Citrulline\",\n",
    "    \"Glicina\": \"Glycine\",\n",
    "    \"Metionina\": \"Methionine\",\n",
    "    \"Fenilalanina\": \"Phenylalanine\",\n",
    "    \"Succinilacetona\": \"Succinylacetone\",\n",
    "    \"Valina\": \"Valine\",\n",
    "    \"Acetilcarnitina\": \"Acetylcarnitine\",\n",
    "    \"Butirilcarnitina\": \"Butyrylcarnitine\",\n",
    "    \"Glutarilcarnitina\": \"Glutarylcarnitine\",\n",
    "    \"Hexanoilcarnitina\": \"Hexanoylcarnitine\",\n",
    "    \"Octanoilcarnitina\": \"Octanoylcarnitine\",\n",
    "    \"Dodecanoilcarnitina\": \"Dodecanoylcarnitine\",\n",
    "    \"Tetradecenoilcarnitina\": \"Tetradecenoylcarnitine\",\n",
    "    \"Palmitoilcarnitina\": \"Palmitoylcarnitine\",\n",
    "    \"Estearoilcarnitina\": \"Stearoylcarnitine\",\n",
    "    \"3-OH-Linoleoilcarnitina\": \"3-OH-Linoleoylcarnitine\",\n",
    "    \"PROTEINAProm_(G)\": \"Protein avg. (g)\",\n",
    "    \"Proteina_natural\": \"Protein natural\",\n",
    "    \"%_proteina_natural\": \"% Natural Protein\",\n",
    "    \"Proteina_SP\": \"SP Protein\",\n",
    "    \"SP_gr/kg\": \"SP (gr/kg)\",\n",
    "    \"%_Proteina_SP\": \"% SP Protein\",\n",
    "    \"GRASAProm(G)\": \"Fat avg. (g)\",\n",
    "    \"CARBOHIDRATOProm_(G)\": \"CARBOHYDRATE avg. (g)\",\n",
    "    \"ENERGIAProm_(KCAL)\": \"ENERGY avg. (KCAL)\",\n",
    "    \"COLESTEROLProm_(MG)\": \"CHOLESTEROL avg. (mg)\",\n",
    "    \"FENILALANINAProm_(G)\": \"PHENYLALANINE_avg (g)\",\n",
    "    \"TIROSINAProm_(G)\": \"TYROSINE avg. (g)\",\n",
    "    \"VITAMINA_B12Prom_(MCG)\": \"Vitamin B12 avg. (MCG)\",\n",
    "    \"FOLATOProm_(MCG)\": \"Folate avg. (MCG)\",\n",
    "    \"CALCIOProm_(MG)\": \"Calcium avg. (mg)\",\n",
    "    \"COBREProm_(MG)\": \"Copper avg. (mg)\",\n",
    "    \"HIERROProm_(MG)\": \"Iron avg. (mg)\",\n",
    "    \"ZINCProm_(MG)\": \"Zinc avg. (mg)\",\n",
    "    \"VITAMINA_Dprom\": \"Vitamin D avg.\",\n",
    "}"
   ]
  },
  {
   "cell_type": "code",
   "execution_count": 80,
   "metadata": {},
   "outputs": [
    {
     "data": {
      "application/vnd.plotly.v1+json": {
       "config": {
        "plotlyServerURL": "https://plot.ly"
       },
       "data": [
        {
         "alignmentgroup": "True",
         "hovertemplate": "variable=14<br>index=%{x}<br>value=%{y}<extra></extra>",
         "legendgroup": "14",
         "marker": {
          "color": "#F8766D",
          "pattern": {
           "shape": ""
          }
         },
         "name": "14",
         "offsetgroup": "14",
         "orientation": "v",
         "showlegend": true,
         "textposition": "auto",
         "type": "bar",
         "x": [
          "Género",
          "aleator",
          "IMC",
          "Circunferencia de cintura",
          "ATPII/AHA/IDF",
          "fenilalax",
          "ohd3x",
          "tirosinax",
          "Alanina",
          "Aspartato",
          "Glutamato",
          "Leucina",
          "Ornitina",
          "Prolina",
          "Tirosina",
          "Carnitina libre",
          "Propionilcarnitina",
          "Isovalerilcarnitina",
          "Tiglilcarnitina",
          "Me-Glutarilcarnitina",
          "Decanoilcarnitina",
          "Tetradecanoilcarnitina",
          "3-OH-Isovalerilcarnitina",
          "3-OH-Palmitoilcarnitina",
          "Linoleoilcarnitina",
          "Arginina",
          "Citrulina",
          "Glicina",
          "Metionina",
          "Fenilalanina",
          "Succinilacetona",
          "Valina",
          "Acetilcarnitina",
          "Butirilcarnitina",
          "Glutarilcarnitina",
          "Hexanoilcarnitina",
          "Octanoilcarnitina",
          "Dodecanoilcarnitina",
          "Tetradecenoilcarnitina",
          "Palmitoilcarnitina",
          "Estearoilcarnitina",
          "3-OH-Linoleoilcarnitina",
          "PROTEINAProm_(G)",
          "%_proteina_natural",
          "%_Proteina_SP"
         ],
         "xaxis": "x",
         "y": [
          0.11866538,
          0,
          1.350244,
          0.1054273,
          0,
          0.23130348,
          0,
          0,
          0,
          0,
          0.05364894,
          0,
          0.2762975,
          0.026262455,
          0.2694069,
          0.102366164,
          0.076515235,
          0.070655346,
          0.116384,
          0,
          0.13927221,
          0,
          0,
          0,
          0.027637003,
          0,
          0.058581006,
          0,
          0,
          0,
          0.02142667,
          0.080125615,
          0.26416615,
          0,
          0,
          0.04027587,
          0,
          0,
          0,
          0.12989971,
          0.3418144,
          0,
          0.059927285,
          0,
          0
         ],
         "yaxis": "y"
        },
        {
         "alignmentgroup": "True",
         "hovertemplate": "variable=41<br>index=%{x}<br>value=%{y}<extra></extra>",
         "legendgroup": "41",
         "marker": {
          "color": "#A3A500",
          "pattern": {
           "shape": ""
          }
         },
         "name": "41",
         "offsetgroup": "41",
         "orientation": "v",
         "showlegend": true,
         "textposition": "auto",
         "type": "bar",
         "x": [
          "Género",
          "aleator",
          "IMC",
          "Circunferencia de cintura",
          "ATPII/AHA/IDF",
          "fenilalax",
          "ohd3x",
          "tirosinax",
          "Alanina",
          "Aspartato",
          "Glutamato",
          "Leucina",
          "Ornitina",
          "Prolina",
          "Tirosina",
          "Carnitina libre",
          "Propionilcarnitina",
          "Isovalerilcarnitina",
          "Tiglilcarnitina",
          "Me-Glutarilcarnitina",
          "Decanoilcarnitina",
          "Tetradecanoilcarnitina",
          "3-OH-Isovalerilcarnitina",
          "3-OH-Palmitoilcarnitina",
          "Linoleoilcarnitina",
          "Arginina",
          "Citrulina",
          "Glicina",
          "Metionina",
          "Fenilalanina",
          "Succinilacetona",
          "Valina",
          "Acetilcarnitina",
          "Butirilcarnitina",
          "Glutarilcarnitina",
          "Hexanoilcarnitina",
          "Octanoilcarnitina",
          "Dodecanoilcarnitina",
          "Tetradecenoilcarnitina",
          "Palmitoilcarnitina",
          "Estearoilcarnitina",
          "3-OH-Linoleoilcarnitina",
          "PROTEINAProm_(G)",
          "%_proteina_natural",
          "%_Proteina_SP"
         ],
         "xaxis": "x",
         "y": [
          0.22273143,
          0,
          0.5541899,
          0.035570767,
          0,
          0.23277317,
          0,
          0.040826056,
          0.068242356,
          0,
          0.14138679,
          0,
          0.72491115,
          0,
          0,
          0.50383043,
          0,
          0.2013517,
          0,
          0,
          0,
          0,
          0,
          0.04259625,
          0.3005862,
          0,
          0.20903906,
          0.0045730947,
          0,
          0,
          0,
          0.16936974,
          0.055385705,
          0,
          0,
          0,
          0,
          0,
          0.0698259,
          0,
          0.20557192,
          0,
          0.23202825,
          0,
          0
         ],
         "yaxis": "y"
        },
        {
         "alignmentgroup": "True",
         "hovertemplate": "variable=155<br>index=%{x}<br>value=%{y}<extra></extra>",
         "legendgroup": "155",
         "marker": {
          "color": "#00BF7D",
          "pattern": {
           "shape": ""
          }
         },
         "name": "155",
         "offsetgroup": "155",
         "orientation": "v",
         "showlegend": true,
         "textposition": "auto",
         "type": "bar",
         "x": [
          "Género",
          "aleator",
          "IMC",
          "Circunferencia de cintura",
          "ATPII/AHA/IDF",
          "fenilalax",
          "ohd3x",
          "tirosinax",
          "Alanina",
          "Aspartato",
          "Glutamato",
          "Leucina",
          "Ornitina",
          "Prolina",
          "Tirosina",
          "Carnitina libre",
          "Propionilcarnitina",
          "Isovalerilcarnitina",
          "Tiglilcarnitina",
          "Me-Glutarilcarnitina",
          "Decanoilcarnitina",
          "Tetradecanoilcarnitina",
          "3-OH-Isovalerilcarnitina",
          "3-OH-Palmitoilcarnitina",
          "Linoleoilcarnitina",
          "Arginina",
          "Citrulina",
          "Glicina",
          "Metionina",
          "Fenilalanina",
          "Succinilacetona",
          "Valina",
          "Acetilcarnitina",
          "Butirilcarnitina",
          "Glutarilcarnitina",
          "Hexanoilcarnitina",
          "Octanoilcarnitina",
          "Dodecanoilcarnitina",
          "Tetradecenoilcarnitina",
          "Palmitoilcarnitina",
          "Estearoilcarnitina",
          "3-OH-Linoleoilcarnitina",
          "PROTEINAProm_(G)",
          "%_proteina_natural",
          "%_Proteina_SP"
         ],
         "xaxis": "x",
         "y": [
          0.11493534,
          0,
          0.2626021,
          0.16669588,
          0,
          0.28994298,
          0.19575155,
          0,
          0.028403824,
          0,
          0.20804282,
          0,
          0,
          0.13833408,
          0.2939833,
          0,
          0,
          0,
          0,
          0,
          0,
          0,
          0,
          0,
          0.41594616,
          0,
          0.07160894,
          0,
          0,
          0,
          0,
          0.3076972,
          0.22472386,
          0,
          0,
          0,
          0.05672724,
          0.08012988,
          0,
          0,
          0.33089286,
          0,
          0,
          0,
          0
         ],
         "yaxis": "y"
        },
        {
         "alignmentgroup": "True",
         "hovertemplate": "variable=163<br>index=%{x}<br>value=%{y}<extra></extra>",
         "legendgroup": "163",
         "marker": {
          "color": "#00B0F6",
          "pattern": {
           "shape": ""
          }
         },
         "name": "163",
         "offsetgroup": "163",
         "orientation": "v",
         "showlegend": true,
         "textposition": "auto",
         "type": "bar",
         "x": [
          "Género",
          "aleator",
          "IMC",
          "Circunferencia de cintura",
          "ATPII/AHA/IDF",
          "fenilalax",
          "ohd3x",
          "tirosinax",
          "Alanina",
          "Aspartato",
          "Glutamato",
          "Leucina",
          "Ornitina",
          "Prolina",
          "Tirosina",
          "Carnitina libre",
          "Propionilcarnitina",
          "Isovalerilcarnitina",
          "Tiglilcarnitina",
          "Me-Glutarilcarnitina",
          "Decanoilcarnitina",
          "Tetradecanoilcarnitina",
          "3-OH-Isovalerilcarnitina",
          "3-OH-Palmitoilcarnitina",
          "Linoleoilcarnitina",
          "Arginina",
          "Citrulina",
          "Glicina",
          "Metionina",
          "Fenilalanina",
          "Succinilacetona",
          "Valina",
          "Acetilcarnitina",
          "Butirilcarnitina",
          "Glutarilcarnitina",
          "Hexanoilcarnitina",
          "Octanoilcarnitina",
          "Dodecanoilcarnitina",
          "Tetradecenoilcarnitina",
          "Palmitoilcarnitina",
          "Estearoilcarnitina",
          "3-OH-Linoleoilcarnitina",
          "PROTEINAProm_(G)",
          "%_proteina_natural",
          "%_Proteina_SP"
         ],
         "xaxis": "x",
         "y": [
          0,
          0,
          0.5081429,
          0.04607782,
          0,
          0.22776377,
          0.06275263,
          0,
          0,
          0.10403385,
          0,
          0,
          0.052761767,
          0,
          0.03651234,
          0,
          0,
          0,
          0,
          0,
          0,
          0,
          0,
          0,
          0,
          0.04045692,
          0.43843403,
          0.12179089,
          0,
          0,
          0.08507925,
          0.18837948,
          0,
          0,
          0,
          0,
          0,
          0,
          0,
          0,
          0.45915315,
          0,
          0,
          0,
          0
         ],
         "yaxis": "y"
        },
        {
         "alignmentgroup": "True",
         "hovertemplate": "variable=168<br>index=%{x}<br>value=%{y}<extra></extra>",
         "legendgroup": "168",
         "marker": {
          "color": "#E76BF3",
          "pattern": {
           "shape": ""
          }
         },
         "name": "168",
         "offsetgroup": "168",
         "orientation": "v",
         "showlegend": true,
         "textposition": "auto",
         "type": "bar",
         "x": [
          "Género",
          "aleator",
          "IMC",
          "Circunferencia de cintura",
          "ATPII/AHA/IDF",
          "fenilalax",
          "ohd3x",
          "tirosinax",
          "Alanina",
          "Aspartato",
          "Glutamato",
          "Leucina",
          "Ornitina",
          "Prolina",
          "Tirosina",
          "Carnitina libre",
          "Propionilcarnitina",
          "Isovalerilcarnitina",
          "Tiglilcarnitina",
          "Me-Glutarilcarnitina",
          "Decanoilcarnitina",
          "Tetradecanoilcarnitina",
          "3-OH-Isovalerilcarnitina",
          "3-OH-Palmitoilcarnitina",
          "Linoleoilcarnitina",
          "Arginina",
          "Citrulina",
          "Glicina",
          "Metionina",
          "Fenilalanina",
          "Succinilacetona",
          "Valina",
          "Acetilcarnitina",
          "Butirilcarnitina",
          "Glutarilcarnitina",
          "Hexanoilcarnitina",
          "Octanoilcarnitina",
          "Dodecanoilcarnitina",
          "Tetradecenoilcarnitina",
          "Palmitoilcarnitina",
          "Estearoilcarnitina",
          "3-OH-Linoleoilcarnitina",
          "PROTEINAProm_(G)",
          "%_proteina_natural",
          "%_Proteina_SP"
         ],
         "xaxis": "x",
         "y": [
          0,
          0,
          0.23169357,
          0,
          0,
          0.42936707,
          0,
          0.05429146,
          0,
          0,
          0,
          0,
          0.15233286,
          0.10001616,
          0.49138093,
          0.21479797,
          0,
          0,
          0.044221718,
          0,
          0.06714971,
          0,
          0,
          0,
          0.018101266,
          0,
          0.14355391,
          0.106492534,
          0,
          0,
          0,
          0.10078358,
          0.36508557,
          0,
          0,
          0,
          0,
          0.49338108,
          0,
          0,
          0.36029357,
          0.12829854,
          0.070664436,
          0,
          0
         ],
         "yaxis": "y"
        },
        {
         "alignmentgroup": "True",
         "hovertemplate": "variable=208<br>index=%{x}<br>value=%{y}<extra></extra>",
         "legendgroup": "208",
         "marker": {
          "color": "#F8766D",
          "pattern": {
           "shape": ""
          }
         },
         "name": "208",
         "offsetgroup": "208",
         "orientation": "v",
         "showlegend": true,
         "textposition": "auto",
         "type": "bar",
         "x": [
          "Género",
          "aleator",
          "IMC",
          "Circunferencia de cintura",
          "ATPII/AHA/IDF",
          "fenilalax",
          "ohd3x",
          "tirosinax",
          "Alanina",
          "Aspartato",
          "Glutamato",
          "Leucina",
          "Ornitina",
          "Prolina",
          "Tirosina",
          "Carnitina libre",
          "Propionilcarnitina",
          "Isovalerilcarnitina",
          "Tiglilcarnitina",
          "Me-Glutarilcarnitina",
          "Decanoilcarnitina",
          "Tetradecanoilcarnitina",
          "3-OH-Isovalerilcarnitina",
          "3-OH-Palmitoilcarnitina",
          "Linoleoilcarnitina",
          "Arginina",
          "Citrulina",
          "Glicina",
          "Metionina",
          "Fenilalanina",
          "Succinilacetona",
          "Valina",
          "Acetilcarnitina",
          "Butirilcarnitina",
          "Glutarilcarnitina",
          "Hexanoilcarnitina",
          "Octanoilcarnitina",
          "Dodecanoilcarnitina",
          "Tetradecenoilcarnitina",
          "Palmitoilcarnitina",
          "Estearoilcarnitina",
          "3-OH-Linoleoilcarnitina",
          "PROTEINAProm_(G)",
          "%_proteina_natural",
          "%_Proteina_SP"
         ],
         "xaxis": "x",
         "y": [
          0.28639027,
          0,
          0.37380257,
          0.09087845,
          0,
          0.24859606,
          0.22058572,
          0,
          0,
          0,
          0.010900549,
          0,
          0.6500798,
          0,
          0.4050865,
          0.04316309,
          0.041707203,
          0,
          0,
          0,
          0,
          0,
          0.060090765,
          0,
          0.044930257,
          0,
          0.36545828,
          0,
          0.15531367,
          0,
          0,
          0.122017816,
          0.4598378,
          0.09324144,
          0,
          0,
          0,
          0.23387602,
          0.0352194,
          0,
          0.35129207,
          0,
          0.09248955,
          0,
          0
         ],
         "yaxis": "y"
        },
        {
         "alignmentgroup": "True",
         "hovertemplate": "variable=283<br>index=%{x}<br>value=%{y}<extra></extra>",
         "legendgroup": "283",
         "marker": {
          "color": "#A3A500",
          "pattern": {
           "shape": ""
          }
         },
         "name": "283",
         "offsetgroup": "283",
         "orientation": "v",
         "showlegend": true,
         "textposition": "auto",
         "type": "bar",
         "x": [
          "Género",
          "aleator",
          "IMC",
          "Circunferencia de cintura",
          "ATPII/AHA/IDF",
          "fenilalax",
          "ohd3x",
          "tirosinax",
          "Alanina",
          "Aspartato",
          "Glutamato",
          "Leucina",
          "Ornitina",
          "Prolina",
          "Tirosina",
          "Carnitina libre",
          "Propionilcarnitina",
          "Isovalerilcarnitina",
          "Tiglilcarnitina",
          "Me-Glutarilcarnitina",
          "Decanoilcarnitina",
          "Tetradecanoilcarnitina",
          "3-OH-Isovalerilcarnitina",
          "3-OH-Palmitoilcarnitina",
          "Linoleoilcarnitina",
          "Arginina",
          "Citrulina",
          "Glicina",
          "Metionina",
          "Fenilalanina",
          "Succinilacetona",
          "Valina",
          "Acetilcarnitina",
          "Butirilcarnitina",
          "Glutarilcarnitina",
          "Hexanoilcarnitina",
          "Octanoilcarnitina",
          "Dodecanoilcarnitina",
          "Tetradecenoilcarnitina",
          "Palmitoilcarnitina",
          "Estearoilcarnitina",
          "3-OH-Linoleoilcarnitina",
          "PROTEINAProm_(G)",
          "%_proteina_natural",
          "%_Proteina_SP"
         ],
         "xaxis": "x",
         "y": [
          0.0651876,
          0,
          0.14221352,
          0.19971843,
          0,
          0.39802656,
          0,
          0,
          0,
          0,
          0,
          0.026604634,
          0.09001233,
          0.03269811,
          0.64507127,
          0.28340584,
          0,
          0,
          0,
          0,
          0,
          0,
          0,
          0.04077629,
          0,
          0,
          0,
          0,
          0,
          0,
          0,
          0.04801867,
          0.90603185,
          0.058839235,
          0.08955788,
          0,
          0,
          0.17995837,
          0,
          0,
          0.19963744,
          0,
          0.22393778,
          0.075040124,
          0
         ],
         "yaxis": "y"
        },
        {
         "alignmentgroup": "True",
         "hovertemplate": "variable=292<br>index=%{x}<br>value=%{y}<extra></extra>",
         "legendgroup": "292",
         "marker": {
          "color": "#00BF7D",
          "pattern": {
           "shape": ""
          }
         },
         "name": "292",
         "offsetgroup": "292",
         "orientation": "v",
         "showlegend": true,
         "textposition": "auto",
         "type": "bar",
         "x": [
          "Género",
          "aleator",
          "IMC",
          "Circunferencia de cintura",
          "ATPII/AHA/IDF",
          "fenilalax",
          "ohd3x",
          "tirosinax",
          "Alanina",
          "Aspartato",
          "Glutamato",
          "Leucina",
          "Ornitina",
          "Prolina",
          "Tirosina",
          "Carnitina libre",
          "Propionilcarnitina",
          "Isovalerilcarnitina",
          "Tiglilcarnitina",
          "Me-Glutarilcarnitina",
          "Decanoilcarnitina",
          "Tetradecanoilcarnitina",
          "3-OH-Isovalerilcarnitina",
          "3-OH-Palmitoilcarnitina",
          "Linoleoilcarnitina",
          "Arginina",
          "Citrulina",
          "Glicina",
          "Metionina",
          "Fenilalanina",
          "Succinilacetona",
          "Valina",
          "Acetilcarnitina",
          "Butirilcarnitina",
          "Glutarilcarnitina",
          "Hexanoilcarnitina",
          "Octanoilcarnitina",
          "Dodecanoilcarnitina",
          "Tetradecenoilcarnitina",
          "Palmitoilcarnitina",
          "Estearoilcarnitina",
          "3-OH-Linoleoilcarnitina",
          "PROTEINAProm_(G)",
          "%_proteina_natural",
          "%_Proteina_SP"
         ],
         "xaxis": "x",
         "y": [
          0,
          0,
          0,
          0.22519755,
          0,
          0.22713383,
          0,
          0,
          0,
          0,
          0,
          0,
          0.20252967,
          0.117984354,
          0.072864234,
          0,
          0,
          0,
          0,
          0,
          0.06489144,
          0,
          0,
          0,
          0.03552002,
          0,
          0,
          0,
          0,
          0,
          0,
          0.66063577,
          0,
          0,
          0,
          0,
          0,
          0,
          0,
          0,
          0.8327263,
          0,
          0,
          0,
          0
         ],
         "yaxis": "y"
        },
        {
         "alignmentgroup": "True",
         "hovertemplate": "variable=466<br>index=%{x}<br>value=%{y}<extra></extra>",
         "legendgroup": "466",
         "marker": {
          "color": "#00B0F6",
          "pattern": {
           "shape": ""
          }
         },
         "name": "466",
         "offsetgroup": "466",
         "orientation": "v",
         "showlegend": true,
         "textposition": "auto",
         "type": "bar",
         "x": [
          "Género",
          "aleator",
          "IMC",
          "Circunferencia de cintura",
          "ATPII/AHA/IDF",
          "fenilalax",
          "ohd3x",
          "tirosinax",
          "Alanina",
          "Aspartato",
          "Glutamato",
          "Leucina",
          "Ornitina",
          "Prolina",
          "Tirosina",
          "Carnitina libre",
          "Propionilcarnitina",
          "Isovalerilcarnitina",
          "Tiglilcarnitina",
          "Me-Glutarilcarnitina",
          "Decanoilcarnitina",
          "Tetradecanoilcarnitina",
          "3-OH-Isovalerilcarnitina",
          "3-OH-Palmitoilcarnitina",
          "Linoleoilcarnitina",
          "Arginina",
          "Citrulina",
          "Glicina",
          "Metionina",
          "Fenilalanina",
          "Succinilacetona",
          "Valina",
          "Acetilcarnitina",
          "Butirilcarnitina",
          "Glutarilcarnitina",
          "Hexanoilcarnitina",
          "Octanoilcarnitina",
          "Dodecanoilcarnitina",
          "Tetradecenoilcarnitina",
          "Palmitoilcarnitina",
          "Estearoilcarnitina",
          "3-OH-Linoleoilcarnitina",
          "PROTEINAProm_(G)",
          "%_proteina_natural",
          "%_Proteina_SP"
         ],
         "xaxis": "x",
         "y": [
          0.06286608,
          0,
          0.9322901,
          0,
          0,
          0.37896794,
          0.20503756,
          0,
          0.03454766,
          0,
          0.025961135,
          0,
          0.06943929,
          0.107063815,
          0.079710975,
          0.30997467,
          0,
          0,
          0,
          0,
          0.47122636,
          0.06950712,
          0,
          0,
          0.11787151,
          0,
          0.06691375,
          0,
          0,
          0,
          0.1334977,
          0,
          0.36343485,
          0.041868836,
          0,
          0,
          0,
          0.10134686,
          0,
          0,
          0.16829185,
          0,
          0.1161755,
          0,
          0
         ],
         "yaxis": "y"
        },
        {
         "alignmentgroup": "True",
         "hovertemplate": "variable=475<br>index=%{x}<br>value=%{y}<extra></extra>",
         "legendgroup": "475",
         "marker": {
          "color": "#E76BF3",
          "pattern": {
           "shape": ""
          }
         },
         "name": "475",
         "offsetgroup": "475",
         "orientation": "v",
         "showlegend": true,
         "textposition": "auto",
         "type": "bar",
         "x": [
          "Género",
          "aleator",
          "IMC",
          "Circunferencia de cintura",
          "ATPII/AHA/IDF",
          "fenilalax",
          "ohd3x",
          "tirosinax",
          "Alanina",
          "Aspartato",
          "Glutamato",
          "Leucina",
          "Ornitina",
          "Prolina",
          "Tirosina",
          "Carnitina libre",
          "Propionilcarnitina",
          "Isovalerilcarnitina",
          "Tiglilcarnitina",
          "Me-Glutarilcarnitina",
          "Decanoilcarnitina",
          "Tetradecanoilcarnitina",
          "3-OH-Isovalerilcarnitina",
          "3-OH-Palmitoilcarnitina",
          "Linoleoilcarnitina",
          "Arginina",
          "Citrulina",
          "Glicina",
          "Metionina",
          "Fenilalanina",
          "Succinilacetona",
          "Valina",
          "Acetilcarnitina",
          "Butirilcarnitina",
          "Glutarilcarnitina",
          "Hexanoilcarnitina",
          "Octanoilcarnitina",
          "Dodecanoilcarnitina",
          "Tetradecenoilcarnitina",
          "Palmitoilcarnitina",
          "Estearoilcarnitina",
          "3-OH-Linoleoilcarnitina",
          "PROTEINAProm_(G)",
          "%_proteina_natural",
          "%_Proteina_SP"
         ],
         "xaxis": "x",
         "y": [
          0,
          0,
          0.87392575,
          0.25364536,
          0.12700096,
          0.23694137,
          0.37108675,
          0,
          0,
          0.068760514,
          0,
          0,
          0,
          0,
          0,
          0.1428054,
          0,
          0,
          0,
          0,
          0,
          0,
          0,
          0,
          0,
          0,
          0,
          0,
          0,
          0,
          0,
          0.43144587,
          0.3543796,
          0,
          0,
          0,
          0,
          0,
          0,
          0,
          0.2823866,
          0,
          0.31619757,
          0,
          0
         ],
         "yaxis": "y"
        },
        {
         "alignmentgroup": "True",
         "hovertemplate": "variable=531<br>index=%{x}<br>value=%{y}<extra></extra>",
         "legendgroup": "531",
         "marker": {
          "color": "#F8766D",
          "pattern": {
           "shape": ""
          }
         },
         "name": "531",
         "offsetgroup": "531",
         "orientation": "v",
         "showlegend": true,
         "textposition": "auto",
         "type": "bar",
         "x": [
          "Género",
          "aleator",
          "IMC",
          "Circunferencia de cintura",
          "ATPII/AHA/IDF",
          "fenilalax",
          "ohd3x",
          "tirosinax",
          "Alanina",
          "Aspartato",
          "Glutamato",
          "Leucina",
          "Ornitina",
          "Prolina",
          "Tirosina",
          "Carnitina libre",
          "Propionilcarnitina",
          "Isovalerilcarnitina",
          "Tiglilcarnitina",
          "Me-Glutarilcarnitina",
          "Decanoilcarnitina",
          "Tetradecanoilcarnitina",
          "3-OH-Isovalerilcarnitina",
          "3-OH-Palmitoilcarnitina",
          "Linoleoilcarnitina",
          "Arginina",
          "Citrulina",
          "Glicina",
          "Metionina",
          "Fenilalanina",
          "Succinilacetona",
          "Valina",
          "Acetilcarnitina",
          "Butirilcarnitina",
          "Glutarilcarnitina",
          "Hexanoilcarnitina",
          "Octanoilcarnitina",
          "Dodecanoilcarnitina",
          "Tetradecenoilcarnitina",
          "Palmitoilcarnitina",
          "Estearoilcarnitina",
          "3-OH-Linoleoilcarnitina",
          "PROTEINAProm_(G)",
          "%_proteina_natural",
          "%_Proteina_SP"
         ],
         "xaxis": "x",
         "y": [
          0.1536799,
          0,
          0.6742813,
          0,
          0,
          0.2326922,
          0.4811627,
          0.039747916,
          0.054799415,
          0,
          0,
          0,
          0,
          0,
          0.33710575,
          0.28458872,
          0,
          0.06045401,
          0,
          0,
          0.22655647,
          0,
          0,
          0,
          0,
          0,
          0,
          0,
          0,
          0,
          0,
          0.10663152,
          0.2827047,
          0,
          0,
          0,
          0,
          0,
          0,
          0,
          0.6854955,
          0,
          0.3810537,
          0,
          0
         ],
         "yaxis": "y"
        },
        {
         "alignmentgroup": "True",
         "hovertemplate": "variable=558<br>index=%{x}<br>value=%{y}<extra></extra>",
         "legendgroup": "558",
         "marker": {
          "color": "#A3A500",
          "pattern": {
           "shape": ""
          }
         },
         "name": "558",
         "offsetgroup": "558",
         "orientation": "v",
         "showlegend": true,
         "textposition": "auto",
         "type": "bar",
         "x": [
          "Género",
          "aleator",
          "IMC",
          "Circunferencia de cintura",
          "ATPII/AHA/IDF",
          "fenilalax",
          "ohd3x",
          "tirosinax",
          "Alanina",
          "Aspartato",
          "Glutamato",
          "Leucina",
          "Ornitina",
          "Prolina",
          "Tirosina",
          "Carnitina libre",
          "Propionilcarnitina",
          "Isovalerilcarnitina",
          "Tiglilcarnitina",
          "Me-Glutarilcarnitina",
          "Decanoilcarnitina",
          "Tetradecanoilcarnitina",
          "3-OH-Isovalerilcarnitina",
          "3-OH-Palmitoilcarnitina",
          "Linoleoilcarnitina",
          "Arginina",
          "Citrulina",
          "Glicina",
          "Metionina",
          "Fenilalanina",
          "Succinilacetona",
          "Valina",
          "Acetilcarnitina",
          "Butirilcarnitina",
          "Glutarilcarnitina",
          "Hexanoilcarnitina",
          "Octanoilcarnitina",
          "Dodecanoilcarnitina",
          "Tetradecenoilcarnitina",
          "Palmitoilcarnitina",
          "Estearoilcarnitina",
          "3-OH-Linoleoilcarnitina",
          "PROTEINAProm_(G)",
          "%_proteina_natural",
          "%_Proteina_SP"
         ],
         "xaxis": "x",
         "y": [
          0,
          0,
          0.6445942,
          0,
          0,
          0.37976095,
          0.06286569,
          0,
          0,
          0,
          0.1292972,
          0,
          0.33023024,
          0.11297923,
          0.19091609,
          0,
          0,
          0,
          0,
          0,
          0.057619352,
          0,
          0.04086481,
          0.08258739,
          0.39893782,
          0,
          0,
          0,
          0,
          0,
          0,
          0,
          0.07254014,
          0,
          0,
          0,
          0,
          0.180398,
          0,
          0,
          0.41050532,
          0.12996446,
          0.06139026,
          0,
          0
         ],
         "yaxis": "y"
        },
        {
         "alignmentgroup": "True",
         "hovertemplate": "variable=672<br>index=%{x}<br>value=%{y}<extra></extra>",
         "legendgroup": "672",
         "marker": {
          "color": "#00BF7D",
          "pattern": {
           "shape": ""
          }
         },
         "name": "672",
         "offsetgroup": "672",
         "orientation": "v",
         "showlegend": true,
         "textposition": "auto",
         "type": "bar",
         "x": [
          "Género",
          "aleator",
          "IMC",
          "Circunferencia de cintura",
          "ATPII/AHA/IDF",
          "fenilalax",
          "ohd3x",
          "tirosinax",
          "Alanina",
          "Aspartato",
          "Glutamato",
          "Leucina",
          "Ornitina",
          "Prolina",
          "Tirosina",
          "Carnitina libre",
          "Propionilcarnitina",
          "Isovalerilcarnitina",
          "Tiglilcarnitina",
          "Me-Glutarilcarnitina",
          "Decanoilcarnitina",
          "Tetradecanoilcarnitina",
          "3-OH-Isovalerilcarnitina",
          "3-OH-Palmitoilcarnitina",
          "Linoleoilcarnitina",
          "Arginina",
          "Citrulina",
          "Glicina",
          "Metionina",
          "Fenilalanina",
          "Succinilacetona",
          "Valina",
          "Acetilcarnitina",
          "Butirilcarnitina",
          "Glutarilcarnitina",
          "Hexanoilcarnitina",
          "Octanoilcarnitina",
          "Dodecanoilcarnitina",
          "Tetradecenoilcarnitina",
          "Palmitoilcarnitina",
          "Estearoilcarnitina",
          "3-OH-Linoleoilcarnitina",
          "PROTEINAProm_(G)",
          "%_proteina_natural",
          "%_Proteina_SP"
         ],
         "xaxis": "x",
         "y": [
          0,
          0,
          1.2462461,
          0.048484962,
          0,
          0.24052785,
          0.13284828,
          0,
          0,
          0.17304099,
          0,
          0,
          0,
          0,
          0,
          0,
          0,
          0,
          0,
          0,
          0.16319034,
          0,
          0,
          0,
          0,
          0.042018294,
          0,
          0,
          0,
          0,
          0,
          0,
          0,
          0,
          0,
          0,
          0,
          0.04801151,
          0,
          0,
          0.127522,
          0,
          0.109682046,
          0,
          0
         ],
         "yaxis": "y"
        },
        {
         "alignmentgroup": "True",
         "hovertemplate": "variable=695<br>index=%{x}<br>value=%{y}<extra></extra>",
         "legendgroup": "695",
         "marker": {
          "color": "#00B0F6",
          "pattern": {
           "shape": ""
          }
         },
         "name": "695",
         "offsetgroup": "695",
         "orientation": "v",
         "showlegend": true,
         "textposition": "auto",
         "type": "bar",
         "x": [
          "Género",
          "aleator",
          "IMC",
          "Circunferencia de cintura",
          "ATPII/AHA/IDF",
          "fenilalax",
          "ohd3x",
          "tirosinax",
          "Alanina",
          "Aspartato",
          "Glutamato",
          "Leucina",
          "Ornitina",
          "Prolina",
          "Tirosina",
          "Carnitina libre",
          "Propionilcarnitina",
          "Isovalerilcarnitina",
          "Tiglilcarnitina",
          "Me-Glutarilcarnitina",
          "Decanoilcarnitina",
          "Tetradecanoilcarnitina",
          "3-OH-Isovalerilcarnitina",
          "3-OH-Palmitoilcarnitina",
          "Linoleoilcarnitina",
          "Arginina",
          "Citrulina",
          "Glicina",
          "Metionina",
          "Fenilalanina",
          "Succinilacetona",
          "Valina",
          "Acetilcarnitina",
          "Butirilcarnitina",
          "Glutarilcarnitina",
          "Hexanoilcarnitina",
          "Octanoilcarnitina",
          "Dodecanoilcarnitina",
          "Tetradecenoilcarnitina",
          "Palmitoilcarnitina",
          "Estearoilcarnitina",
          "3-OH-Linoleoilcarnitina",
          "PROTEINAProm_(G)",
          "%_proteina_natural",
          "%_Proteina_SP"
         ],
         "xaxis": "x",
         "y": [
          0,
          0,
          1.1545646,
          0,
          0,
          0.22047949,
          0,
          0,
          0,
          0,
          0,
          0,
          0,
          0.10395552,
          0.29171002,
          0.112828255,
          0,
          0.28355902,
          0,
          0,
          0.34513047,
          0,
          0.061721623,
          0,
          0,
          0,
          0.13522822,
          0,
          0,
          0,
          0,
          0,
          0.13453935,
          0.12820286,
          0,
          0,
          0,
          0,
          0,
          0.02297309,
          0.3999618,
          0,
          0,
          0,
          0
         ],
         "yaxis": "y"
        },
        {
         "alignmentgroup": "True",
         "hovertemplate": "variable=756<br>index=%{x}<br>value=%{y}<extra></extra>",
         "legendgroup": "756",
         "marker": {
          "color": "#E76BF3",
          "pattern": {
           "shape": ""
          }
         },
         "name": "756",
         "offsetgroup": "756",
         "orientation": "v",
         "showlegend": true,
         "textposition": "auto",
         "type": "bar",
         "x": [
          "Género",
          "aleator",
          "IMC",
          "Circunferencia de cintura",
          "ATPII/AHA/IDF",
          "fenilalax",
          "ohd3x",
          "tirosinax",
          "Alanina",
          "Aspartato",
          "Glutamato",
          "Leucina",
          "Ornitina",
          "Prolina",
          "Tirosina",
          "Carnitina libre",
          "Propionilcarnitina",
          "Isovalerilcarnitina",
          "Tiglilcarnitina",
          "Me-Glutarilcarnitina",
          "Decanoilcarnitina",
          "Tetradecanoilcarnitina",
          "3-OH-Isovalerilcarnitina",
          "3-OH-Palmitoilcarnitina",
          "Linoleoilcarnitina",
          "Arginina",
          "Citrulina",
          "Glicina",
          "Metionina",
          "Fenilalanina",
          "Succinilacetona",
          "Valina",
          "Acetilcarnitina",
          "Butirilcarnitina",
          "Glutarilcarnitina",
          "Hexanoilcarnitina",
          "Octanoilcarnitina",
          "Dodecanoilcarnitina",
          "Tetradecenoilcarnitina",
          "Palmitoilcarnitina",
          "Estearoilcarnitina",
          "3-OH-Linoleoilcarnitina",
          "PROTEINAProm_(G)",
          "%_proteina_natural",
          "%_Proteina_SP"
         ],
         "xaxis": "x",
         "y": [
          0,
          0,
          0.4048548,
          0.36053172,
          0,
          0.30397135,
          0,
          0,
          0,
          0,
          0.062678464,
          0,
          0.465983,
          0,
          0,
          0.05903408,
          0,
          0,
          0,
          0,
          0.25112924,
          0,
          0,
          0,
          0,
          0,
          0.41021213,
          0,
          0.016216738,
          0,
          0,
          0,
          0,
          0.058784436,
          0,
          0,
          0,
          0,
          0,
          0.05172516,
          0.29525164,
          0,
          0.34278977,
          0,
          0
         ],
         "yaxis": "y"
        },
        {
         "alignmentgroup": "True",
         "hovertemplate": "variable=802<br>index=%{x}<br>value=%{y}<extra></extra>",
         "legendgroup": "802",
         "marker": {
          "color": "#F8766D",
          "pattern": {
           "shape": ""
          }
         },
         "name": "802",
         "offsetgroup": "802",
         "orientation": "v",
         "showlegend": true,
         "textposition": "auto",
         "type": "bar",
         "x": [
          "Género",
          "aleator",
          "IMC",
          "Circunferencia de cintura",
          "ATPII/AHA/IDF",
          "fenilalax",
          "ohd3x",
          "tirosinax",
          "Alanina",
          "Aspartato",
          "Glutamato",
          "Leucina",
          "Ornitina",
          "Prolina",
          "Tirosina",
          "Carnitina libre",
          "Propionilcarnitina",
          "Isovalerilcarnitina",
          "Tiglilcarnitina",
          "Me-Glutarilcarnitina",
          "Decanoilcarnitina",
          "Tetradecanoilcarnitina",
          "3-OH-Isovalerilcarnitina",
          "3-OH-Palmitoilcarnitina",
          "Linoleoilcarnitina",
          "Arginina",
          "Citrulina",
          "Glicina",
          "Metionina",
          "Fenilalanina",
          "Succinilacetona",
          "Valina",
          "Acetilcarnitina",
          "Butirilcarnitina",
          "Glutarilcarnitina",
          "Hexanoilcarnitina",
          "Octanoilcarnitina",
          "Dodecanoilcarnitina",
          "Tetradecenoilcarnitina",
          "Palmitoilcarnitina",
          "Estearoilcarnitina",
          "3-OH-Linoleoilcarnitina",
          "PROTEINAProm_(G)",
          "%_proteina_natural",
          "%_Proteina_SP"
         ],
         "xaxis": "x",
         "y": [
          0,
          0,
          1.298783,
          0,
          0,
          0.46756628,
          0,
          0,
          0,
          0.15012704,
          0,
          0,
          0,
          0,
          0,
          0.12856226,
          0,
          0,
          0,
          0,
          0.14500755,
          0,
          0.10844793,
          0,
          0,
          0,
          0,
          0,
          0,
          0,
          0,
          0,
          0,
          0,
          0,
          0,
          0,
          0,
          0,
          0,
          0.09809568,
          0,
          0.098460756,
          0,
          0
         ],
         "yaxis": "y"
        },
        {
         "alignmentgroup": "True",
         "hovertemplate": "variable=810<br>index=%{x}<br>value=%{y}<extra></extra>",
         "legendgroup": "810",
         "marker": {
          "color": "#A3A500",
          "pattern": {
           "shape": ""
          }
         },
         "name": "810",
         "offsetgroup": "810",
         "orientation": "v",
         "showlegend": true,
         "textposition": "auto",
         "type": "bar",
         "x": [
          "Género",
          "aleator",
          "IMC",
          "Circunferencia de cintura",
          "ATPII/AHA/IDF",
          "fenilalax",
          "ohd3x",
          "tirosinax",
          "Alanina",
          "Aspartato",
          "Glutamato",
          "Leucina",
          "Ornitina",
          "Prolina",
          "Tirosina",
          "Carnitina libre",
          "Propionilcarnitina",
          "Isovalerilcarnitina",
          "Tiglilcarnitina",
          "Me-Glutarilcarnitina",
          "Decanoilcarnitina",
          "Tetradecanoilcarnitina",
          "3-OH-Isovalerilcarnitina",
          "3-OH-Palmitoilcarnitina",
          "Linoleoilcarnitina",
          "Arginina",
          "Citrulina",
          "Glicina",
          "Metionina",
          "Fenilalanina",
          "Succinilacetona",
          "Valina",
          "Acetilcarnitina",
          "Butirilcarnitina",
          "Glutarilcarnitina",
          "Hexanoilcarnitina",
          "Octanoilcarnitina",
          "Dodecanoilcarnitina",
          "Tetradecenoilcarnitina",
          "Palmitoilcarnitina",
          "Estearoilcarnitina",
          "3-OH-Linoleoilcarnitina",
          "PROTEINAProm_(G)",
          "%_proteina_natural",
          "%_Proteina_SP"
         ],
         "xaxis": "x",
         "y": [
          0,
          0,
          0.21263999,
          0,
          0,
          0.24081083,
          0.19510233,
          0.059414655,
          0,
          0.081142455,
          0,
          0,
          0.40790012,
          0,
          0.11511853,
          0.12958063,
          0,
          0.06592748,
          0,
          0,
          0.10715731,
          0,
          0,
          0,
          0,
          0,
          0,
          0,
          0,
          0.05648629,
          0.064084165,
          0,
          0.112318486,
          0,
          0,
          0,
          0.08172696,
          0,
          0,
          0.16465038,
          0.10122224,
          0,
          0,
          0,
          0
         ],
         "yaxis": "y"
        },
        {
         "alignmentgroup": "True",
         "hovertemplate": "variable=812<br>index=%{x}<br>value=%{y}<extra></extra>",
         "legendgroup": "812",
         "marker": {
          "color": "#00BF7D",
          "pattern": {
           "shape": ""
          }
         },
         "name": "812",
         "offsetgroup": "812",
         "orientation": "v",
         "showlegend": true,
         "textposition": "auto",
         "type": "bar",
         "x": [
          "Género",
          "aleator",
          "IMC",
          "Circunferencia de cintura",
          "ATPII/AHA/IDF",
          "fenilalax",
          "ohd3x",
          "tirosinax",
          "Alanina",
          "Aspartato",
          "Glutamato",
          "Leucina",
          "Ornitina",
          "Prolina",
          "Tirosina",
          "Carnitina libre",
          "Propionilcarnitina",
          "Isovalerilcarnitina",
          "Tiglilcarnitina",
          "Me-Glutarilcarnitina",
          "Decanoilcarnitina",
          "Tetradecanoilcarnitina",
          "3-OH-Isovalerilcarnitina",
          "3-OH-Palmitoilcarnitina",
          "Linoleoilcarnitina",
          "Arginina",
          "Citrulina",
          "Glicina",
          "Metionina",
          "Fenilalanina",
          "Succinilacetona",
          "Valina",
          "Acetilcarnitina",
          "Butirilcarnitina",
          "Glutarilcarnitina",
          "Hexanoilcarnitina",
          "Octanoilcarnitina",
          "Dodecanoilcarnitina",
          "Tetradecenoilcarnitina",
          "Palmitoilcarnitina",
          "Estearoilcarnitina",
          "3-OH-Linoleoilcarnitina",
          "PROTEINAProm_(G)",
          "%_proteina_natural",
          "%_Proteina_SP"
         ],
         "xaxis": "x",
         "y": [
          0.062275827,
          0,
          0.55148053,
          0,
          0,
          0.45215815,
          0,
          0,
          0,
          0,
          0,
          0,
          0.61793697,
          0,
          0.33340272,
          0,
          0,
          0,
          0,
          0,
          0,
          0,
          0,
          0.0799524,
          0.064336434,
          0,
          0,
          0,
          0.054422047,
          0,
          0,
          0.22050591,
          0.5243721,
          0,
          0,
          0,
          0,
          0,
          0.09823422,
          0,
          0.39376476,
          0,
          0,
          0,
          0
         ],
         "yaxis": "y"
        },
        {
         "alignmentgroup": "True",
         "hovertemplate": "variable=850<br>index=%{x}<br>value=%{y}<extra></extra>",
         "legendgroup": "850",
         "marker": {
          "color": "#00B0F6",
          "pattern": {
           "shape": ""
          }
         },
         "name": "850",
         "offsetgroup": "850",
         "orientation": "v",
         "showlegend": true,
         "textposition": "auto",
         "type": "bar",
         "x": [
          "Género",
          "aleator",
          "IMC",
          "Circunferencia de cintura",
          "ATPII/AHA/IDF",
          "fenilalax",
          "ohd3x",
          "tirosinax",
          "Alanina",
          "Aspartato",
          "Glutamato",
          "Leucina",
          "Ornitina",
          "Prolina",
          "Tirosina",
          "Carnitina libre",
          "Propionilcarnitina",
          "Isovalerilcarnitina",
          "Tiglilcarnitina",
          "Me-Glutarilcarnitina",
          "Decanoilcarnitina",
          "Tetradecanoilcarnitina",
          "3-OH-Isovalerilcarnitina",
          "3-OH-Palmitoilcarnitina",
          "Linoleoilcarnitina",
          "Arginina",
          "Citrulina",
          "Glicina",
          "Metionina",
          "Fenilalanina",
          "Succinilacetona",
          "Valina",
          "Acetilcarnitina",
          "Butirilcarnitina",
          "Glutarilcarnitina",
          "Hexanoilcarnitina",
          "Octanoilcarnitina",
          "Dodecanoilcarnitina",
          "Tetradecenoilcarnitina",
          "Palmitoilcarnitina",
          "Estearoilcarnitina",
          "3-OH-Linoleoilcarnitina",
          "PROTEINAProm_(G)",
          "%_proteina_natural",
          "%_Proteina_SP"
         ],
         "xaxis": "x",
         "y": [
          0,
          0,
          0.16840465,
          0.09024897,
          0,
          0.3740358,
          0.21499161,
          0,
          0,
          0,
          0,
          0,
          0.46667513,
          0,
          0.104990244,
          0.11224216,
          0,
          0,
          0,
          0,
          0,
          0,
          0,
          0,
          0,
          0,
          0.08299318,
          0,
          0,
          0,
          0.109148055,
          0.06694918,
          0.42153597,
          0,
          0,
          0.20347585,
          0,
          0,
          0,
          0.16336106,
          0.23408484,
          0,
          0.081721544,
          0,
          0
         ],
         "yaxis": "y"
        },
        {
         "alignmentgroup": "True",
         "hovertemplate": "variable=866<br>index=%{x}<br>value=%{y}<extra></extra>",
         "legendgroup": "866",
         "marker": {
          "color": "#E76BF3",
          "pattern": {
           "shape": ""
          }
         },
         "name": "866",
         "offsetgroup": "866",
         "orientation": "v",
         "showlegend": true,
         "textposition": "auto",
         "type": "bar",
         "x": [
          "Género",
          "aleator",
          "IMC",
          "Circunferencia de cintura",
          "ATPII/AHA/IDF",
          "fenilalax",
          "ohd3x",
          "tirosinax",
          "Alanina",
          "Aspartato",
          "Glutamato",
          "Leucina",
          "Ornitina",
          "Prolina",
          "Tirosina",
          "Carnitina libre",
          "Propionilcarnitina",
          "Isovalerilcarnitina",
          "Tiglilcarnitina",
          "Me-Glutarilcarnitina",
          "Decanoilcarnitina",
          "Tetradecanoilcarnitina",
          "3-OH-Isovalerilcarnitina",
          "3-OH-Palmitoilcarnitina",
          "Linoleoilcarnitina",
          "Arginina",
          "Citrulina",
          "Glicina",
          "Metionina",
          "Fenilalanina",
          "Succinilacetona",
          "Valina",
          "Acetilcarnitina",
          "Butirilcarnitina",
          "Glutarilcarnitina",
          "Hexanoilcarnitina",
          "Octanoilcarnitina",
          "Dodecanoilcarnitina",
          "Tetradecenoilcarnitina",
          "Palmitoilcarnitina",
          "Estearoilcarnitina",
          "3-OH-Linoleoilcarnitina",
          "PROTEINAProm_(G)",
          "%_proteina_natural",
          "%_Proteina_SP"
         ],
         "xaxis": "x",
         "y": [
          0.6055292,
          0,
          0.51003075,
          0.06921839,
          0,
          0.31947517,
          0.062212765,
          0,
          0,
          0,
          0,
          0.045138568,
          0.3752487,
          0,
          0,
          0.77631044,
          0,
          0,
          0.030967895,
          0,
          0.05097516,
          0,
          0,
          0,
          0.2304593,
          0,
          0.08353,
          0.11139397,
          0.15489271,
          0,
          0,
          0.314131,
          0,
          0.04070948,
          0.05390024,
          0,
          0,
          0.1318171,
          0,
          0,
          0.15137881,
          0,
          0.020877412,
          0,
          0
         ],
         "yaxis": "y"
        },
        {
         "alignmentgroup": "True",
         "hovertemplate": "variable=946<br>index=%{x}<br>value=%{y}<extra></extra>",
         "legendgroup": "946",
         "marker": {
          "color": "#F8766D",
          "pattern": {
           "shape": ""
          }
         },
         "name": "946",
         "offsetgroup": "946",
         "orientation": "v",
         "showlegend": true,
         "textposition": "auto",
         "type": "bar",
         "x": [
          "Género",
          "aleator",
          "IMC",
          "Circunferencia de cintura",
          "ATPII/AHA/IDF",
          "fenilalax",
          "ohd3x",
          "tirosinax",
          "Alanina",
          "Aspartato",
          "Glutamato",
          "Leucina",
          "Ornitina",
          "Prolina",
          "Tirosina",
          "Carnitina libre",
          "Propionilcarnitina",
          "Isovalerilcarnitina",
          "Tiglilcarnitina",
          "Me-Glutarilcarnitina",
          "Decanoilcarnitina",
          "Tetradecanoilcarnitina",
          "3-OH-Isovalerilcarnitina",
          "3-OH-Palmitoilcarnitina",
          "Linoleoilcarnitina",
          "Arginina",
          "Citrulina",
          "Glicina",
          "Metionina",
          "Fenilalanina",
          "Succinilacetona",
          "Valina",
          "Acetilcarnitina",
          "Butirilcarnitina",
          "Glutarilcarnitina",
          "Hexanoilcarnitina",
          "Octanoilcarnitina",
          "Dodecanoilcarnitina",
          "Tetradecenoilcarnitina",
          "Palmitoilcarnitina",
          "Estearoilcarnitina",
          "3-OH-Linoleoilcarnitina",
          "PROTEINAProm_(G)",
          "%_proteina_natural",
          "%_Proteina_SP"
         ],
         "xaxis": "x",
         "y": [
          0,
          0,
          0.72942674,
          0.015507016,
          0,
          0.2984905,
          0,
          0,
          0,
          0,
          0,
          0.047218554,
          0.2616023,
          0.054696385,
          0.2721848,
          0.39844877,
          0.06396249,
          0,
          0.045921348,
          0,
          0.14183293,
          0,
          0,
          0,
          0.09679571,
          0.084051155,
          0.35792738,
          0,
          0,
          0,
          0,
          0.10959491,
          0.095101014,
          0,
          0,
          0,
          0,
          0.08809865,
          0,
          0.12279309,
          0.19597092,
          0,
          0,
          0,
          0
         ],
         "yaxis": "y"
        },
        {
         "alignmentgroup": "True",
         "hovertemplate": "variable=1012<br>index=%{x}<br>value=%{y}<extra></extra>",
         "legendgroup": "1012",
         "marker": {
          "color": "#A3A500",
          "pattern": {
           "shape": ""
          }
         },
         "name": "1012",
         "offsetgroup": "1012",
         "orientation": "v",
         "showlegend": true,
         "textposition": "auto",
         "type": "bar",
         "x": [
          "Género",
          "aleator",
          "IMC",
          "Circunferencia de cintura",
          "ATPII/AHA/IDF",
          "fenilalax",
          "ohd3x",
          "tirosinax",
          "Alanina",
          "Aspartato",
          "Glutamato",
          "Leucina",
          "Ornitina",
          "Prolina",
          "Tirosina",
          "Carnitina libre",
          "Propionilcarnitina",
          "Isovalerilcarnitina",
          "Tiglilcarnitina",
          "Me-Glutarilcarnitina",
          "Decanoilcarnitina",
          "Tetradecanoilcarnitina",
          "3-OH-Isovalerilcarnitina",
          "3-OH-Palmitoilcarnitina",
          "Linoleoilcarnitina",
          "Arginina",
          "Citrulina",
          "Glicina",
          "Metionina",
          "Fenilalanina",
          "Succinilacetona",
          "Valina",
          "Acetilcarnitina",
          "Butirilcarnitina",
          "Glutarilcarnitina",
          "Hexanoilcarnitina",
          "Octanoilcarnitina",
          "Dodecanoilcarnitina",
          "Tetradecenoilcarnitina",
          "Palmitoilcarnitina",
          "Estearoilcarnitina",
          "3-OH-Linoleoilcarnitina",
          "PROTEINAProm_(G)",
          "%_proteina_natural",
          "%_Proteina_SP"
         ],
         "xaxis": "x",
         "y": [
          0,
          0,
          0.14131702,
          0.22992063,
          0.1178715,
          0.20995076,
          0,
          0,
          0,
          0,
          0,
          0,
          1.2070631,
          0,
          0,
          0,
          0,
          0,
          0.09813466,
          0,
          0.115564086,
          0,
          0,
          0,
          0,
          0,
          0.14754307,
          0,
          0,
          0,
          0,
          0,
          0,
          0,
          0,
          0,
          0,
          0,
          0,
          0,
          0,
          0,
          0,
          0,
          0
         ],
         "yaxis": "y"
        },
        {
         "alignmentgroup": "True",
         "hovertemplate": "variable=1067<br>index=%{x}<br>value=%{y}<extra></extra>",
         "legendgroup": "1067",
         "marker": {
          "color": "#00BF7D",
          "pattern": {
           "shape": ""
          }
         },
         "name": "1067",
         "offsetgroup": "1067",
         "orientation": "v",
         "showlegend": true,
         "textposition": "auto",
         "type": "bar",
         "x": [
          "Género",
          "aleator",
          "IMC",
          "Circunferencia de cintura",
          "ATPII/AHA/IDF",
          "fenilalax",
          "ohd3x",
          "tirosinax",
          "Alanina",
          "Aspartato",
          "Glutamato",
          "Leucina",
          "Ornitina",
          "Prolina",
          "Tirosina",
          "Carnitina libre",
          "Propionilcarnitina",
          "Isovalerilcarnitina",
          "Tiglilcarnitina",
          "Me-Glutarilcarnitina",
          "Decanoilcarnitina",
          "Tetradecanoilcarnitina",
          "3-OH-Isovalerilcarnitina",
          "3-OH-Palmitoilcarnitina",
          "Linoleoilcarnitina",
          "Arginina",
          "Citrulina",
          "Glicina",
          "Metionina",
          "Fenilalanina",
          "Succinilacetona",
          "Valina",
          "Acetilcarnitina",
          "Butirilcarnitina",
          "Glutarilcarnitina",
          "Hexanoilcarnitina",
          "Octanoilcarnitina",
          "Dodecanoilcarnitina",
          "Tetradecenoilcarnitina",
          "Palmitoilcarnitina",
          "Estearoilcarnitina",
          "3-OH-Linoleoilcarnitina",
          "PROTEINAProm_(G)",
          "%_proteina_natural",
          "%_Proteina_SP"
         ],
         "xaxis": "x",
         "y": [
          0,
          0,
          0.79889816,
          0.12671623,
          0,
          0.4972087,
          0,
          0,
          0,
          0.10995124,
          0,
          0,
          0,
          0,
          0,
          0.08569762,
          0,
          0,
          0,
          0,
          0.23932445,
          0,
          0,
          0,
          0,
          0,
          0,
          0,
          0.039191935,
          0,
          0,
          0.13183185,
          0.10869091,
          0,
          0,
          0,
          0,
          0,
          0,
          0,
          0.13379765,
          0,
          0.057405066,
          0,
          0
         ],
         "yaxis": "y"
        },
        {
         "alignmentgroup": "True",
         "hovertemplate": "variable=1116<br>index=%{x}<br>value=%{y}<extra></extra>",
         "legendgroup": "1116",
         "marker": {
          "color": "#00B0F6",
          "pattern": {
           "shape": ""
          }
         },
         "name": "1116",
         "offsetgroup": "1116",
         "orientation": "v",
         "showlegend": true,
         "textposition": "auto",
         "type": "bar",
         "x": [
          "Género",
          "aleator",
          "IMC",
          "Circunferencia de cintura",
          "ATPII/AHA/IDF",
          "fenilalax",
          "ohd3x",
          "tirosinax",
          "Alanina",
          "Aspartato",
          "Glutamato",
          "Leucina",
          "Ornitina",
          "Prolina",
          "Tirosina",
          "Carnitina libre",
          "Propionilcarnitina",
          "Isovalerilcarnitina",
          "Tiglilcarnitina",
          "Me-Glutarilcarnitina",
          "Decanoilcarnitina",
          "Tetradecanoilcarnitina",
          "3-OH-Isovalerilcarnitina",
          "3-OH-Palmitoilcarnitina",
          "Linoleoilcarnitina",
          "Arginina",
          "Citrulina",
          "Glicina",
          "Metionina",
          "Fenilalanina",
          "Succinilacetona",
          "Valina",
          "Acetilcarnitina",
          "Butirilcarnitina",
          "Glutarilcarnitina",
          "Hexanoilcarnitina",
          "Octanoilcarnitina",
          "Dodecanoilcarnitina",
          "Tetradecenoilcarnitina",
          "Palmitoilcarnitina",
          "Estearoilcarnitina",
          "3-OH-Linoleoilcarnitina",
          "PROTEINAProm_(G)",
          "%_proteina_natural",
          "%_Proteina_SP"
         ],
         "xaxis": "x",
         "y": [
          0,
          0,
          0.79525226,
          0.10536611,
          0,
          0.22163045,
          0,
          0.08911164,
          0.08780299,
          0,
          0,
          0,
          0.091031484,
          0.11343847,
          0.22627553,
          0.6510781,
          0,
          0.24903272,
          0,
          0,
          0.10541347,
          0,
          0,
          0,
          0,
          0,
          0,
          0,
          0,
          0,
          0,
          0.06244519,
          0.14317693,
          0,
          0,
          0,
          0,
          0,
          0,
          0,
          0.29159454,
          0,
          0,
          0,
          0
         ],
         "yaxis": "y"
        },
        {
         "alignmentgroup": "True",
         "hovertemplate": "variable=1158<br>index=%{x}<br>value=%{y}<extra></extra>",
         "legendgroup": "1158",
         "marker": {
          "color": "#E76BF3",
          "pattern": {
           "shape": ""
          }
         },
         "name": "1158",
         "offsetgroup": "1158",
         "orientation": "v",
         "showlegend": true,
         "textposition": "auto",
         "type": "bar",
         "x": [
          "Género",
          "aleator",
          "IMC",
          "Circunferencia de cintura",
          "ATPII/AHA/IDF",
          "fenilalax",
          "ohd3x",
          "tirosinax",
          "Alanina",
          "Aspartato",
          "Glutamato",
          "Leucina",
          "Ornitina",
          "Prolina",
          "Tirosina",
          "Carnitina libre",
          "Propionilcarnitina",
          "Isovalerilcarnitina",
          "Tiglilcarnitina",
          "Me-Glutarilcarnitina",
          "Decanoilcarnitina",
          "Tetradecanoilcarnitina",
          "3-OH-Isovalerilcarnitina",
          "3-OH-Palmitoilcarnitina",
          "Linoleoilcarnitina",
          "Arginina",
          "Citrulina",
          "Glicina",
          "Metionina",
          "Fenilalanina",
          "Succinilacetona",
          "Valina",
          "Acetilcarnitina",
          "Butirilcarnitina",
          "Glutarilcarnitina",
          "Hexanoilcarnitina",
          "Octanoilcarnitina",
          "Dodecanoilcarnitina",
          "Tetradecenoilcarnitina",
          "Palmitoilcarnitina",
          "Estearoilcarnitina",
          "3-OH-Linoleoilcarnitina",
          "PROTEINAProm_(G)",
          "%_proteina_natural",
          "%_Proteina_SP"
         ],
         "xaxis": "x",
         "y": [
          0.08739632,
          0,
          0.81865436,
          0.39973915,
          0,
          0.31270537,
          0,
          0,
          0,
          0,
          0,
          0,
          0.14650303,
          0,
          0.046090826,
          0.21788543,
          0.06882185,
          0.07023775,
          0,
          0,
          0.40603784,
          0,
          0,
          0,
          0,
          0,
          0.21483852,
          0,
          0,
          0,
          0,
          0.15536824,
          0.45466578,
          0,
          0,
          0,
          0.062284097,
          0.07632005,
          0,
          0,
          0,
          0,
          0.094157875,
          0,
          0
         ],
         "yaxis": "y"
        },
        {
         "alignmentgroup": "True",
         "hovertemplate": "variable=1161<br>index=%{x}<br>value=%{y}<extra></extra>",
         "legendgroup": "1161",
         "marker": {
          "color": "#F8766D",
          "pattern": {
           "shape": ""
          }
         },
         "name": "1161",
         "offsetgroup": "1161",
         "orientation": "v",
         "showlegend": true,
         "textposition": "auto",
         "type": "bar",
         "x": [
          "Género",
          "aleator",
          "IMC",
          "Circunferencia de cintura",
          "ATPII/AHA/IDF",
          "fenilalax",
          "ohd3x",
          "tirosinax",
          "Alanina",
          "Aspartato",
          "Glutamato",
          "Leucina",
          "Ornitina",
          "Prolina",
          "Tirosina",
          "Carnitina libre",
          "Propionilcarnitina",
          "Isovalerilcarnitina",
          "Tiglilcarnitina",
          "Me-Glutarilcarnitina",
          "Decanoilcarnitina",
          "Tetradecanoilcarnitina",
          "3-OH-Isovalerilcarnitina",
          "3-OH-Palmitoilcarnitina",
          "Linoleoilcarnitina",
          "Arginina",
          "Citrulina",
          "Glicina",
          "Metionina",
          "Fenilalanina",
          "Succinilacetona",
          "Valina",
          "Acetilcarnitina",
          "Butirilcarnitina",
          "Glutarilcarnitina",
          "Hexanoilcarnitina",
          "Octanoilcarnitina",
          "Dodecanoilcarnitina",
          "Tetradecenoilcarnitina",
          "Palmitoilcarnitina",
          "Estearoilcarnitina",
          "3-OH-Linoleoilcarnitina",
          "PROTEINAProm_(G)",
          "%_proteina_natural",
          "%_Proteina_SP"
         ],
         "xaxis": "x",
         "y": [
          0.20837471,
          0,
          0.2911549,
          0.27288902,
          0,
          0.40228453,
          0.10662497,
          0,
          0.059643224,
          0,
          0,
          0,
          0.222285,
          0,
          0.12481109,
          0.16841888,
          0.055507723,
          0.060163245,
          0,
          0,
          0.16571808,
          0,
          0,
          0,
          0,
          0,
          0.1980678,
          0,
          0,
          0,
          0,
          0,
          0.06527356,
          0,
          0,
          0.17969665,
          0,
          0.20651646,
          0,
          0,
          0.5584904,
          0,
          0,
          0,
          0
         ],
         "yaxis": "y"
        },
        {
         "alignmentgroup": "True",
         "hovertemplate": "variable=1211<br>index=%{x}<br>value=%{y}<extra></extra>",
         "legendgroup": "1211",
         "marker": {
          "color": "#A3A500",
          "pattern": {
           "shape": ""
          }
         },
         "name": "1211",
         "offsetgroup": "1211",
         "orientation": "v",
         "showlegend": true,
         "textposition": "auto",
         "type": "bar",
         "x": [
          "Género",
          "aleator",
          "IMC",
          "Circunferencia de cintura",
          "ATPII/AHA/IDF",
          "fenilalax",
          "ohd3x",
          "tirosinax",
          "Alanina",
          "Aspartato",
          "Glutamato",
          "Leucina",
          "Ornitina",
          "Prolina",
          "Tirosina",
          "Carnitina libre",
          "Propionilcarnitina",
          "Isovalerilcarnitina",
          "Tiglilcarnitina",
          "Me-Glutarilcarnitina",
          "Decanoilcarnitina",
          "Tetradecanoilcarnitina",
          "3-OH-Isovalerilcarnitina",
          "3-OH-Palmitoilcarnitina",
          "Linoleoilcarnitina",
          "Arginina",
          "Citrulina",
          "Glicina",
          "Metionina",
          "Fenilalanina",
          "Succinilacetona",
          "Valina",
          "Acetilcarnitina",
          "Butirilcarnitina",
          "Glutarilcarnitina",
          "Hexanoilcarnitina",
          "Octanoilcarnitina",
          "Dodecanoilcarnitina",
          "Tetradecenoilcarnitina",
          "Palmitoilcarnitina",
          "Estearoilcarnitina",
          "3-OH-Linoleoilcarnitina",
          "PROTEINAProm_(G)",
          "%_proteina_natural",
          "%_Proteina_SP"
         ],
         "xaxis": "x",
         "y": [
          0,
          0,
          0.65486586,
          0.06647323,
          0,
          0.3268589,
          0.029025415,
          0,
          0,
          0,
          0,
          0,
          0.27769735,
          0.024384525,
          0.20427063,
          0.3332726,
          0,
          0.4333077,
          0,
          0,
          0.1863594,
          0,
          0,
          0,
          0,
          0,
          0,
          0,
          0,
          0,
          0,
          0.22629632,
          0,
          0,
          0,
          0,
          0.090340644,
          0,
          0,
          0,
          0.34817272,
          0,
          0.060264368,
          0,
          0
         ],
         "yaxis": "y"
        },
        {
         "alignmentgroup": "True",
         "hovertemplate": "variable=1355<br>index=%{x}<br>value=%{y}<extra></extra>",
         "legendgroup": "1355",
         "marker": {
          "color": "#00BF7D",
          "pattern": {
           "shape": ""
          }
         },
         "name": "1355",
         "offsetgroup": "1355",
         "orientation": "v",
         "showlegend": true,
         "textposition": "auto",
         "type": "bar",
         "x": [
          "Género",
          "aleator",
          "IMC",
          "Circunferencia de cintura",
          "ATPII/AHA/IDF",
          "fenilalax",
          "ohd3x",
          "tirosinax",
          "Alanina",
          "Aspartato",
          "Glutamato",
          "Leucina",
          "Ornitina",
          "Prolina",
          "Tirosina",
          "Carnitina libre",
          "Propionilcarnitina",
          "Isovalerilcarnitina",
          "Tiglilcarnitina",
          "Me-Glutarilcarnitina",
          "Decanoilcarnitina",
          "Tetradecanoilcarnitina",
          "3-OH-Isovalerilcarnitina",
          "3-OH-Palmitoilcarnitina",
          "Linoleoilcarnitina",
          "Arginina",
          "Citrulina",
          "Glicina",
          "Metionina",
          "Fenilalanina",
          "Succinilacetona",
          "Valina",
          "Acetilcarnitina",
          "Butirilcarnitina",
          "Glutarilcarnitina",
          "Hexanoilcarnitina",
          "Octanoilcarnitina",
          "Dodecanoilcarnitina",
          "Tetradecenoilcarnitina",
          "Palmitoilcarnitina",
          "Estearoilcarnitina",
          "3-OH-Linoleoilcarnitina",
          "PROTEINAProm_(G)",
          "%_proteina_natural",
          "%_Proteina_SP"
         ],
         "xaxis": "x",
         "y": [
          0,
          0,
          1.5436233,
          0.07620104,
          0,
          0.23223919,
          0.054232772,
          0,
          0,
          0,
          0,
          0,
          0,
          0,
          0,
          0.40385824,
          0,
          0.07589008,
          0,
          0,
          0.40453997,
          0,
          0,
          0,
          0.076199554,
          0,
          0.096164435,
          0,
          0,
          0,
          0,
          0.11956839,
          0.21302345,
          0.10635165,
          0,
          0,
          0,
          0,
          0,
          0,
          0,
          0,
          0.09668985,
          0,
          0
         ],
         "yaxis": "y"
        },
        {
         "alignmentgroup": "True",
         "hovertemplate": "variable=1379<br>index=%{x}<br>value=%{y}<extra></extra>",
         "legendgroup": "1379",
         "marker": {
          "color": "#00B0F6",
          "pattern": {
           "shape": ""
          }
         },
         "name": "1379",
         "offsetgroup": "1379",
         "orientation": "v",
         "showlegend": true,
         "textposition": "auto",
         "type": "bar",
         "x": [
          "Género",
          "aleator",
          "IMC",
          "Circunferencia de cintura",
          "ATPII/AHA/IDF",
          "fenilalax",
          "ohd3x",
          "tirosinax",
          "Alanina",
          "Aspartato",
          "Glutamato",
          "Leucina",
          "Ornitina",
          "Prolina",
          "Tirosina",
          "Carnitina libre",
          "Propionilcarnitina",
          "Isovalerilcarnitina",
          "Tiglilcarnitina",
          "Me-Glutarilcarnitina",
          "Decanoilcarnitina",
          "Tetradecanoilcarnitina",
          "3-OH-Isovalerilcarnitina",
          "3-OH-Palmitoilcarnitina",
          "Linoleoilcarnitina",
          "Arginina",
          "Citrulina",
          "Glicina",
          "Metionina",
          "Fenilalanina",
          "Succinilacetona",
          "Valina",
          "Acetilcarnitina",
          "Butirilcarnitina",
          "Glutarilcarnitina",
          "Hexanoilcarnitina",
          "Octanoilcarnitina",
          "Dodecanoilcarnitina",
          "Tetradecenoilcarnitina",
          "Palmitoilcarnitina",
          "Estearoilcarnitina",
          "3-OH-Linoleoilcarnitina",
          "PROTEINAProm_(G)",
          "%_proteina_natural",
          "%_Proteina_SP"
         ],
         "xaxis": "x",
         "y": [
          0.6370362,
          0,
          0.56468755,
          0,
          0,
          0.2605692,
          0,
          0,
          0,
          0,
          0,
          0,
          0.24105556,
          0,
          0.022523372,
          0,
          0,
          0,
          0,
          0,
          0.048427485,
          0,
          0,
          0,
          0.053295385,
          0,
          0,
          0,
          0,
          0,
          0,
          0.06157172,
          0.4301057,
          0.21004197,
          0,
          0,
          0,
          0,
          0,
          0,
          0.3272389,
          0,
          0.16815114,
          0,
          0
         ],
         "yaxis": "y"
        },
        {
         "alignmentgroup": "True",
         "hovertemplate": "variable=1401<br>index=%{x}<br>value=%{y}<extra></extra>",
         "legendgroup": "1401",
         "marker": {
          "color": "#E76BF3",
          "pattern": {
           "shape": ""
          }
         },
         "name": "1401",
         "offsetgroup": "1401",
         "orientation": "v",
         "showlegend": true,
         "textposition": "auto",
         "type": "bar",
         "x": [
          "Género",
          "aleator",
          "IMC",
          "Circunferencia de cintura",
          "ATPII/AHA/IDF",
          "fenilalax",
          "ohd3x",
          "tirosinax",
          "Alanina",
          "Aspartato",
          "Glutamato",
          "Leucina",
          "Ornitina",
          "Prolina",
          "Tirosina",
          "Carnitina libre",
          "Propionilcarnitina",
          "Isovalerilcarnitina",
          "Tiglilcarnitina",
          "Me-Glutarilcarnitina",
          "Decanoilcarnitina",
          "Tetradecanoilcarnitina",
          "3-OH-Isovalerilcarnitina",
          "3-OH-Palmitoilcarnitina",
          "Linoleoilcarnitina",
          "Arginina",
          "Citrulina",
          "Glicina",
          "Metionina",
          "Fenilalanina",
          "Succinilacetona",
          "Valina",
          "Acetilcarnitina",
          "Butirilcarnitina",
          "Glutarilcarnitina",
          "Hexanoilcarnitina",
          "Octanoilcarnitina",
          "Dodecanoilcarnitina",
          "Tetradecenoilcarnitina",
          "Palmitoilcarnitina",
          "Estearoilcarnitina",
          "3-OH-Linoleoilcarnitina",
          "PROTEINAProm_(G)",
          "%_proteina_natural",
          "%_Proteina_SP"
         ],
         "xaxis": "x",
         "y": [
          0,
          0,
          0.4655935,
          0.013223176,
          0,
          0.30263144,
          0.8001404,
          0,
          0,
          0,
          0,
          0,
          0.14779419,
          0,
          0,
          0.60155207,
          0,
          0,
          0.06906245,
          0,
          0.106538974,
          0,
          0.047041655,
          0,
          0,
          0,
          0,
          0,
          0,
          0,
          0,
          0,
          0,
          0,
          0,
          0,
          0,
          0,
          0,
          0,
          0.09977206,
          0,
          0,
          0,
          0
         ],
         "yaxis": "y"
        },
        {
         "alignmentgroup": "True",
         "hovertemplate": "variable=1425<br>index=%{x}<br>value=%{y}<extra></extra>",
         "legendgroup": "1425",
         "marker": {
          "color": "#F8766D",
          "pattern": {
           "shape": ""
          }
         },
         "name": "1425",
         "offsetgroup": "1425",
         "orientation": "v",
         "showlegend": true,
         "textposition": "auto",
         "type": "bar",
         "x": [
          "Género",
          "aleator",
          "IMC",
          "Circunferencia de cintura",
          "ATPII/AHA/IDF",
          "fenilalax",
          "ohd3x",
          "tirosinax",
          "Alanina",
          "Aspartato",
          "Glutamato",
          "Leucina",
          "Ornitina",
          "Prolina",
          "Tirosina",
          "Carnitina libre",
          "Propionilcarnitina",
          "Isovalerilcarnitina",
          "Tiglilcarnitina",
          "Me-Glutarilcarnitina",
          "Decanoilcarnitina",
          "Tetradecanoilcarnitina",
          "3-OH-Isovalerilcarnitina",
          "3-OH-Palmitoilcarnitina",
          "Linoleoilcarnitina",
          "Arginina",
          "Citrulina",
          "Glicina",
          "Metionina",
          "Fenilalanina",
          "Succinilacetona",
          "Valina",
          "Acetilcarnitina",
          "Butirilcarnitina",
          "Glutarilcarnitina",
          "Hexanoilcarnitina",
          "Octanoilcarnitina",
          "Dodecanoilcarnitina",
          "Tetradecenoilcarnitina",
          "Palmitoilcarnitina",
          "Estearoilcarnitina",
          "3-OH-Linoleoilcarnitina",
          "PROTEINAProm_(G)",
          "%_proteina_natural",
          "%_Proteina_SP"
         ],
         "xaxis": "x",
         "y": [
          0,
          0,
          0.44644618,
          0,
          0,
          0.32073033,
          0,
          0,
          0,
          0,
          0,
          0.07282335,
          0,
          0,
          0.26091135,
          0.0823463,
          0,
          0.03888851,
          0,
          0,
          0.27793816,
          0,
          0.03889735,
          0,
          0,
          0,
          0,
          0,
          0.092268795,
          0,
          0.080942266,
          0.087245464,
          0.67137384,
          0,
          0.0904009,
          0,
          0.09919078,
          0,
          0,
          0.1387393,
          0.3016572,
          0,
          0.1851918,
          0,
          0
         ],
         "yaxis": "y"
        },
        {
         "alignmentgroup": "True",
         "hovertemplate": "variable=1508<br>index=%{x}<br>value=%{y}<extra></extra>",
         "legendgroup": "1508",
         "marker": {
          "color": "#A3A500",
          "pattern": {
           "shape": ""
          }
         },
         "name": "1508",
         "offsetgroup": "1508",
         "orientation": "v",
         "showlegend": true,
         "textposition": "auto",
         "type": "bar",
         "x": [
          "Género",
          "aleator",
          "IMC",
          "Circunferencia de cintura",
          "ATPII/AHA/IDF",
          "fenilalax",
          "ohd3x",
          "tirosinax",
          "Alanina",
          "Aspartato",
          "Glutamato",
          "Leucina",
          "Ornitina",
          "Prolina",
          "Tirosina",
          "Carnitina libre",
          "Propionilcarnitina",
          "Isovalerilcarnitina",
          "Tiglilcarnitina",
          "Me-Glutarilcarnitina",
          "Decanoilcarnitina",
          "Tetradecanoilcarnitina",
          "3-OH-Isovalerilcarnitina",
          "3-OH-Palmitoilcarnitina",
          "Linoleoilcarnitina",
          "Arginina",
          "Citrulina",
          "Glicina",
          "Metionina",
          "Fenilalanina",
          "Succinilacetona",
          "Valina",
          "Acetilcarnitina",
          "Butirilcarnitina",
          "Glutarilcarnitina",
          "Hexanoilcarnitina",
          "Octanoilcarnitina",
          "Dodecanoilcarnitina",
          "Tetradecenoilcarnitina",
          "Palmitoilcarnitina",
          "Estearoilcarnitina",
          "3-OH-Linoleoilcarnitina",
          "PROTEINAProm_(G)",
          "%_proteina_natural",
          "%_Proteina_SP"
         ],
         "xaxis": "x",
         "y": [
          0.22797823,
          0,
          0.5800817,
          0,
          0,
          0.37749687,
          0,
          0,
          0,
          0,
          0,
          0,
          0.88291234,
          0,
          0,
          0,
          0,
          0,
          0,
          0,
          0.15757865,
          0,
          0,
          0.02094996,
          0.017408283,
          0,
          0.45853803,
          0,
          0,
          0,
          0,
          0,
          0.05328336,
          0,
          0,
          0,
          0,
          0,
          0,
          0,
          0.1311154,
          0,
          0.5492348,
          0,
          0
         ],
         "yaxis": "y"
        },
        {
         "alignmentgroup": "True",
         "hovertemplate": "variable=1523<br>index=%{x}<br>value=%{y}<extra></extra>",
         "legendgroup": "1523",
         "marker": {
          "color": "#00BF7D",
          "pattern": {
           "shape": ""
          }
         },
         "name": "1523",
         "offsetgroup": "1523",
         "orientation": "v",
         "showlegend": true,
         "textposition": "auto",
         "type": "bar",
         "x": [
          "Género",
          "aleator",
          "IMC",
          "Circunferencia de cintura",
          "ATPII/AHA/IDF",
          "fenilalax",
          "ohd3x",
          "tirosinax",
          "Alanina",
          "Aspartato",
          "Glutamato",
          "Leucina",
          "Ornitina",
          "Prolina",
          "Tirosina",
          "Carnitina libre",
          "Propionilcarnitina",
          "Isovalerilcarnitina",
          "Tiglilcarnitina",
          "Me-Glutarilcarnitina",
          "Decanoilcarnitina",
          "Tetradecanoilcarnitina",
          "3-OH-Isovalerilcarnitina",
          "3-OH-Palmitoilcarnitina",
          "Linoleoilcarnitina",
          "Arginina",
          "Citrulina",
          "Glicina",
          "Metionina",
          "Fenilalanina",
          "Succinilacetona",
          "Valina",
          "Acetilcarnitina",
          "Butirilcarnitina",
          "Glutarilcarnitina",
          "Hexanoilcarnitina",
          "Octanoilcarnitina",
          "Dodecanoilcarnitina",
          "Tetradecenoilcarnitina",
          "Palmitoilcarnitina",
          "Estearoilcarnitina",
          "3-OH-Linoleoilcarnitina",
          "PROTEINAProm_(G)",
          "%_proteina_natural",
          "%_Proteina_SP"
         ],
         "xaxis": "x",
         "y": [
          0,
          0,
          0.64031124,
          0.066993535,
          0,
          0.63081074,
          0.102341525,
          0,
          0,
          0,
          0,
          0,
          0.39774248,
          0.088655815,
          0.045029897,
          0,
          0,
          0,
          0,
          0,
          0,
          0,
          0.09888452,
          0,
          0.5330293,
          0,
          0,
          0,
          0,
          0,
          0,
          0.30627322,
          0,
          0,
          0,
          0,
          0,
          0,
          0,
          0,
          0,
          0,
          0,
          0,
          0
         ],
         "yaxis": "y"
        },
        {
         "alignmentgroup": "True",
         "hovertemplate": "variable=1582<br>index=%{x}<br>value=%{y}<extra></extra>",
         "legendgroup": "1582",
         "marker": {
          "color": "#00B0F6",
          "pattern": {
           "shape": ""
          }
         },
         "name": "1582",
         "offsetgroup": "1582",
         "orientation": "v",
         "showlegend": true,
         "textposition": "auto",
         "type": "bar",
         "x": [
          "Género",
          "aleator",
          "IMC",
          "Circunferencia de cintura",
          "ATPII/AHA/IDF",
          "fenilalax",
          "ohd3x",
          "tirosinax",
          "Alanina",
          "Aspartato",
          "Glutamato",
          "Leucina",
          "Ornitina",
          "Prolina",
          "Tirosina",
          "Carnitina libre",
          "Propionilcarnitina",
          "Isovalerilcarnitina",
          "Tiglilcarnitina",
          "Me-Glutarilcarnitina",
          "Decanoilcarnitina",
          "Tetradecanoilcarnitina",
          "3-OH-Isovalerilcarnitina",
          "3-OH-Palmitoilcarnitina",
          "Linoleoilcarnitina",
          "Arginina",
          "Citrulina",
          "Glicina",
          "Metionina",
          "Fenilalanina",
          "Succinilacetona",
          "Valina",
          "Acetilcarnitina",
          "Butirilcarnitina",
          "Glutarilcarnitina",
          "Hexanoilcarnitina",
          "Octanoilcarnitina",
          "Dodecanoilcarnitina",
          "Tetradecenoilcarnitina",
          "Palmitoilcarnitina",
          "Estearoilcarnitina",
          "3-OH-Linoleoilcarnitina",
          "PROTEINAProm_(G)",
          "%_proteina_natural",
          "%_Proteina_SP"
         ],
         "xaxis": "x",
         "y": [
          0,
          0,
          0.44703114,
          0.4225522,
          0,
          0.22570473,
          0.24315518,
          0,
          0.09687297,
          0.16088444,
          0,
          0.038878262,
          0.2520599,
          0.08176647,
          0,
          0.41482702,
          0,
          0,
          0,
          0,
          0,
          0,
          0,
          0,
          0.21874276,
          0,
          0.40616792,
          0,
          0,
          0,
          0,
          0.051261686,
          0,
          0,
          0,
          0,
          0,
          0.054197762,
          0,
          0,
          0.276542,
          0.10044369,
          0,
          0.046199106,
          0
         ],
         "yaxis": "y"
        },
        {
         "alignmentgroup": "True",
         "hovertemplate": "variable=1773<br>index=%{x}<br>value=%{y}<extra></extra>",
         "legendgroup": "1773",
         "marker": {
          "color": "#E76BF3",
          "pattern": {
           "shape": ""
          }
         },
         "name": "1773",
         "offsetgroup": "1773",
         "orientation": "v",
         "showlegend": true,
         "textposition": "auto",
         "type": "bar",
         "x": [
          "Género",
          "aleator",
          "IMC",
          "Circunferencia de cintura",
          "ATPII/AHA/IDF",
          "fenilalax",
          "ohd3x",
          "tirosinax",
          "Alanina",
          "Aspartato",
          "Glutamato",
          "Leucina",
          "Ornitina",
          "Prolina",
          "Tirosina",
          "Carnitina libre",
          "Propionilcarnitina",
          "Isovalerilcarnitina",
          "Tiglilcarnitina",
          "Me-Glutarilcarnitina",
          "Decanoilcarnitina",
          "Tetradecanoilcarnitina",
          "3-OH-Isovalerilcarnitina",
          "3-OH-Palmitoilcarnitina",
          "Linoleoilcarnitina",
          "Arginina",
          "Citrulina",
          "Glicina",
          "Metionina",
          "Fenilalanina",
          "Succinilacetona",
          "Valina",
          "Acetilcarnitina",
          "Butirilcarnitina",
          "Glutarilcarnitina",
          "Hexanoilcarnitina",
          "Octanoilcarnitina",
          "Dodecanoilcarnitina",
          "Tetradecenoilcarnitina",
          "Palmitoilcarnitina",
          "Estearoilcarnitina",
          "3-OH-Linoleoilcarnitina",
          "PROTEINAProm_(G)",
          "%_proteina_natural",
          "%_Proteina_SP"
         ],
         "xaxis": "x",
         "y": [
          0.04971321,
          0,
          0.48824754,
          0.3370803,
          0,
          0.21873438,
          0,
          0,
          0.117201895,
          0.0853589,
          0,
          0.16141126,
          0.109843425,
          0,
          0.07954051,
          0.19200936,
          0,
          0.06935988,
          0,
          0,
          0.29420897,
          0.09302965,
          0,
          0,
          0,
          0,
          0,
          0,
          0,
          0,
          0.09869326,
          0,
          0.18050686,
          0,
          0,
          0.16287833,
          0,
          0.24675693,
          0,
          0,
          0.52378494,
          0,
          0.23437452,
          0,
          0
         ],
         "yaxis": "y"
        },
        {
         "alignmentgroup": "True",
         "hovertemplate": "variable=1793<br>index=%{x}<br>value=%{y}<extra></extra>",
         "legendgroup": "1793",
         "marker": {
          "color": "#F8766D",
          "pattern": {
           "shape": ""
          }
         },
         "name": "1793",
         "offsetgroup": "1793",
         "orientation": "v",
         "showlegend": true,
         "textposition": "auto",
         "type": "bar",
         "x": [
          "Género",
          "aleator",
          "IMC",
          "Circunferencia de cintura",
          "ATPII/AHA/IDF",
          "fenilalax",
          "ohd3x",
          "tirosinax",
          "Alanina",
          "Aspartato",
          "Glutamato",
          "Leucina",
          "Ornitina",
          "Prolina",
          "Tirosina",
          "Carnitina libre",
          "Propionilcarnitina",
          "Isovalerilcarnitina",
          "Tiglilcarnitina",
          "Me-Glutarilcarnitina",
          "Decanoilcarnitina",
          "Tetradecanoilcarnitina",
          "3-OH-Isovalerilcarnitina",
          "3-OH-Palmitoilcarnitina",
          "Linoleoilcarnitina",
          "Arginina",
          "Citrulina",
          "Glicina",
          "Metionina",
          "Fenilalanina",
          "Succinilacetona",
          "Valina",
          "Acetilcarnitina",
          "Butirilcarnitina",
          "Glutarilcarnitina",
          "Hexanoilcarnitina",
          "Octanoilcarnitina",
          "Dodecanoilcarnitina",
          "Tetradecenoilcarnitina",
          "Palmitoilcarnitina",
          "Estearoilcarnitina",
          "3-OH-Linoleoilcarnitina",
          "PROTEINAProm_(G)",
          "%_proteina_natural",
          "%_Proteina_SP"
         ],
         "xaxis": "x",
         "y": [
          0,
          0.09387147,
          0.99875104,
          0,
          0,
          0.22549546,
          0,
          0,
          0,
          0,
          0,
          0,
          0.10317853,
          0,
          0.19324386,
          0.20669971,
          0,
          0.049568616,
          0,
          0,
          0.27664757,
          0,
          0,
          0,
          0,
          0,
          0,
          0.12222437,
          0,
          0,
          0.11621369,
          0,
          0.044496708,
          0,
          0,
          0,
          0,
          0.18365829,
          0.07982637,
          0.1258361,
          0.64023936,
          0,
          0.166254,
          0,
          0
         ],
         "yaxis": "y"
        },
        {
         "alignmentgroup": "True",
         "hovertemplate": "variable=1838<br>index=%{x}<br>value=%{y}<extra></extra>",
         "legendgroup": "1838",
         "marker": {
          "color": "#A3A500",
          "pattern": {
           "shape": ""
          }
         },
         "name": "1838",
         "offsetgroup": "1838",
         "orientation": "v",
         "showlegend": true,
         "textposition": "auto",
         "type": "bar",
         "x": [
          "Género",
          "aleator",
          "IMC",
          "Circunferencia de cintura",
          "ATPII/AHA/IDF",
          "fenilalax",
          "ohd3x",
          "tirosinax",
          "Alanina",
          "Aspartato",
          "Glutamato",
          "Leucina",
          "Ornitina",
          "Prolina",
          "Tirosina",
          "Carnitina libre",
          "Propionilcarnitina",
          "Isovalerilcarnitina",
          "Tiglilcarnitina",
          "Me-Glutarilcarnitina",
          "Decanoilcarnitina",
          "Tetradecanoilcarnitina",
          "3-OH-Isovalerilcarnitina",
          "3-OH-Palmitoilcarnitina",
          "Linoleoilcarnitina",
          "Arginina",
          "Citrulina",
          "Glicina",
          "Metionina",
          "Fenilalanina",
          "Succinilacetona",
          "Valina",
          "Acetilcarnitina",
          "Butirilcarnitina",
          "Glutarilcarnitina",
          "Hexanoilcarnitina",
          "Octanoilcarnitina",
          "Dodecanoilcarnitina",
          "Tetradecenoilcarnitina",
          "Palmitoilcarnitina",
          "Estearoilcarnitina",
          "3-OH-Linoleoilcarnitina",
          "PROTEINAProm_(G)",
          "%_proteina_natural",
          "%_Proteina_SP"
         ],
         "xaxis": "x",
         "y": [
          0,
          0,
          0.7314227,
          0,
          0,
          0.32036674,
          0.12018126,
          0,
          0.15321389,
          0.42478228,
          0.09626132,
          0,
          0,
          0,
          0.35509038,
          0.4294943,
          0,
          0,
          0,
          0,
          0.042181842,
          0,
          0,
          0,
          0.3159181,
          0.04168142,
          0.19008113,
          0,
          0,
          0,
          0.07936318,
          0.33972818,
          0.09666068,
          0,
          0,
          0,
          0,
          0.32754552,
          0,
          0.10248232,
          0,
          0,
          0.20347774,
          0,
          0
         ],
         "yaxis": "y"
        },
        {
         "alignmentgroup": "True",
         "hovertemplate": "variable=1870<br>index=%{x}<br>value=%{y}<extra></extra>",
         "legendgroup": "1870",
         "marker": {
          "color": "#00BF7D",
          "pattern": {
           "shape": ""
          }
         },
         "name": "1870",
         "offsetgroup": "1870",
         "orientation": "v",
         "showlegend": true,
         "textposition": "auto",
         "type": "bar",
         "x": [
          "Género",
          "aleator",
          "IMC",
          "Circunferencia de cintura",
          "ATPII/AHA/IDF",
          "fenilalax",
          "ohd3x",
          "tirosinax",
          "Alanina",
          "Aspartato",
          "Glutamato",
          "Leucina",
          "Ornitina",
          "Prolina",
          "Tirosina",
          "Carnitina libre",
          "Propionilcarnitina",
          "Isovalerilcarnitina",
          "Tiglilcarnitina",
          "Me-Glutarilcarnitina",
          "Decanoilcarnitina",
          "Tetradecanoilcarnitina",
          "3-OH-Isovalerilcarnitina",
          "3-OH-Palmitoilcarnitina",
          "Linoleoilcarnitina",
          "Arginina",
          "Citrulina",
          "Glicina",
          "Metionina",
          "Fenilalanina",
          "Succinilacetona",
          "Valina",
          "Acetilcarnitina",
          "Butirilcarnitina",
          "Glutarilcarnitina",
          "Hexanoilcarnitina",
          "Octanoilcarnitina",
          "Dodecanoilcarnitina",
          "Tetradecenoilcarnitina",
          "Palmitoilcarnitina",
          "Estearoilcarnitina",
          "3-OH-Linoleoilcarnitina",
          "PROTEINAProm_(G)",
          "%_proteina_natural",
          "%_Proteina_SP"
         ],
         "xaxis": "x",
         "y": [
          0.17314959,
          0,
          0,
          0,
          0,
          0.21923432,
          0.20757021,
          0,
          0,
          0.12429952,
          0,
          0,
          0.6336909,
          0,
          0.18772104,
          0.7773732,
          0,
          0,
          0,
          0,
          0,
          0,
          0,
          0,
          0,
          0,
          0,
          0,
          0.08991672,
          0,
          0,
          0,
          0,
          0,
          0,
          0,
          0,
          0,
          0,
          0.12859274,
          0.32134122,
          0,
          0,
          0,
          0
         ],
         "yaxis": "y"
        },
        {
         "alignmentgroup": "True",
         "hovertemplate": "variable=1928<br>index=%{x}<br>value=%{y}<extra></extra>",
         "legendgroup": "1928",
         "marker": {
          "color": "#00B0F6",
          "pattern": {
           "shape": ""
          }
         },
         "name": "1928",
         "offsetgroup": "1928",
         "orientation": "v",
         "showlegend": true,
         "textposition": "auto",
         "type": "bar",
         "x": [
          "Género",
          "aleator",
          "IMC",
          "Circunferencia de cintura",
          "ATPII/AHA/IDF",
          "fenilalax",
          "ohd3x",
          "tirosinax",
          "Alanina",
          "Aspartato",
          "Glutamato",
          "Leucina",
          "Ornitina",
          "Prolina",
          "Tirosina",
          "Carnitina libre",
          "Propionilcarnitina",
          "Isovalerilcarnitina",
          "Tiglilcarnitina",
          "Me-Glutarilcarnitina",
          "Decanoilcarnitina",
          "Tetradecanoilcarnitina",
          "3-OH-Isovalerilcarnitina",
          "3-OH-Palmitoilcarnitina",
          "Linoleoilcarnitina",
          "Arginina",
          "Citrulina",
          "Glicina",
          "Metionina",
          "Fenilalanina",
          "Succinilacetona",
          "Valina",
          "Acetilcarnitina",
          "Butirilcarnitina",
          "Glutarilcarnitina",
          "Hexanoilcarnitina",
          "Octanoilcarnitina",
          "Dodecanoilcarnitina",
          "Tetradecenoilcarnitina",
          "Palmitoilcarnitina",
          "Estearoilcarnitina",
          "3-OH-Linoleoilcarnitina",
          "PROTEINAProm_(G)",
          "%_proteina_natural",
          "%_Proteina_SP"
         ],
         "xaxis": "x",
         "y": [
          0,
          0,
          0.21776445,
          0.40204993,
          0,
          0.274932,
          0,
          0,
          0,
          0,
          0,
          0,
          0.7818288,
          0.08558655,
          0.058683153,
          0,
          0,
          0,
          0.0698689,
          0,
          0.23528373,
          0,
          0,
          0,
          0,
          0.037044883,
          0.34518227,
          0,
          0,
          0,
          0,
          0,
          0,
          0,
          0,
          0,
          0,
          0,
          0,
          0,
          0.25799212,
          0.11976793,
          0,
          0,
          0
         ],
         "yaxis": "y"
        }
       ],
       "layout": {
        "barmode": "group",
        "legend": {
         "title": {
          "text": "Model"
         },
         "tracegroupgap": 0
        },
        "margin": {
         "t": 60
        },
        "template": {
         "data": {
          "bar": [
           {
            "error_x": {
             "color": "rgb(51,51,51)"
            },
            "error_y": {
             "color": "rgb(51,51,51)"
            },
            "marker": {
             "line": {
              "color": "rgb(237,237,237)",
              "width": 0.5
             },
             "pattern": {
              "fillmode": "overlay",
              "size": 10,
              "solidity": 0.2
             }
            },
            "type": "bar"
           }
          ],
          "barpolar": [
           {
            "marker": {
             "line": {
              "color": "rgb(237,237,237)",
              "width": 0.5
             },
             "pattern": {
              "fillmode": "overlay",
              "size": 10,
              "solidity": 0.2
             }
            },
            "type": "barpolar"
           }
          ],
          "carpet": [
           {
            "aaxis": {
             "endlinecolor": "rgb(51,51,51)",
             "gridcolor": "white",
             "linecolor": "white",
             "minorgridcolor": "white",
             "startlinecolor": "rgb(51,51,51)"
            },
            "baxis": {
             "endlinecolor": "rgb(51,51,51)",
             "gridcolor": "white",
             "linecolor": "white",
             "minorgridcolor": "white",
             "startlinecolor": "rgb(51,51,51)"
            },
            "type": "carpet"
           }
          ],
          "choropleth": [
           {
            "colorbar": {
             "outlinewidth": 0,
             "tickcolor": "rgb(237,237,237)",
             "ticklen": 6,
             "ticks": "inside"
            },
            "type": "choropleth"
           }
          ],
          "contour": [
           {
            "colorbar": {
             "outlinewidth": 0,
             "tickcolor": "rgb(237,237,237)",
             "ticklen": 6,
             "ticks": "inside"
            },
            "colorscale": [
             [
              0,
              "rgb(20,44,66)"
             ],
             [
              1,
              "rgb(90,179,244)"
             ]
            ],
            "type": "contour"
           }
          ],
          "contourcarpet": [
           {
            "colorbar": {
             "outlinewidth": 0,
             "tickcolor": "rgb(237,237,237)",
             "ticklen": 6,
             "ticks": "inside"
            },
            "type": "contourcarpet"
           }
          ],
          "heatmap": [
           {
            "colorbar": {
             "outlinewidth": 0,
             "tickcolor": "rgb(237,237,237)",
             "ticklen": 6,
             "ticks": "inside"
            },
            "colorscale": [
             [
              0,
              "rgb(20,44,66)"
             ],
             [
              1,
              "rgb(90,179,244)"
             ]
            ],
            "type": "heatmap"
           }
          ],
          "heatmapgl": [
           {
            "colorbar": {
             "outlinewidth": 0,
             "tickcolor": "rgb(237,237,237)",
             "ticklen": 6,
             "ticks": "inside"
            },
            "colorscale": [
             [
              0,
              "rgb(20,44,66)"
             ],
             [
              1,
              "rgb(90,179,244)"
             ]
            ],
            "type": "heatmapgl"
           }
          ],
          "histogram": [
           {
            "marker": {
             "pattern": {
              "fillmode": "overlay",
              "size": 10,
              "solidity": 0.2
             }
            },
            "type": "histogram"
           }
          ],
          "histogram2d": [
           {
            "colorbar": {
             "outlinewidth": 0,
             "tickcolor": "rgb(237,237,237)",
             "ticklen": 6,
             "ticks": "inside"
            },
            "colorscale": [
             [
              0,
              "rgb(20,44,66)"
             ],
             [
              1,
              "rgb(90,179,244)"
             ]
            ],
            "type": "histogram2d"
           }
          ],
          "histogram2dcontour": [
           {
            "colorbar": {
             "outlinewidth": 0,
             "tickcolor": "rgb(237,237,237)",
             "ticklen": 6,
             "ticks": "inside"
            },
            "colorscale": [
             [
              0,
              "rgb(20,44,66)"
             ],
             [
              1,
              "rgb(90,179,244)"
             ]
            ],
            "type": "histogram2dcontour"
           }
          ],
          "mesh3d": [
           {
            "colorbar": {
             "outlinewidth": 0,
             "tickcolor": "rgb(237,237,237)",
             "ticklen": 6,
             "ticks": "inside"
            },
            "type": "mesh3d"
           }
          ],
          "parcoords": [
           {
            "line": {
             "colorbar": {
              "outlinewidth": 0,
              "tickcolor": "rgb(237,237,237)",
              "ticklen": 6,
              "ticks": "inside"
             }
            },
            "type": "parcoords"
           }
          ],
          "pie": [
           {
            "automargin": true,
            "type": "pie"
           }
          ],
          "scatter": [
           {
            "fillpattern": {
             "fillmode": "overlay",
             "size": 10,
             "solidity": 0.2
            },
            "type": "scatter"
           }
          ],
          "scatter3d": [
           {
            "line": {
             "colorbar": {
              "outlinewidth": 0,
              "tickcolor": "rgb(237,237,237)",
              "ticklen": 6,
              "ticks": "inside"
             }
            },
            "marker": {
             "colorbar": {
              "outlinewidth": 0,
              "tickcolor": "rgb(237,237,237)",
              "ticklen": 6,
              "ticks": "inside"
             }
            },
            "type": "scatter3d"
           }
          ],
          "scattercarpet": [
           {
            "marker": {
             "colorbar": {
              "outlinewidth": 0,
              "tickcolor": "rgb(237,237,237)",
              "ticklen": 6,
              "ticks": "inside"
             }
            },
            "type": "scattercarpet"
           }
          ],
          "scattergeo": [
           {
            "marker": {
             "colorbar": {
              "outlinewidth": 0,
              "tickcolor": "rgb(237,237,237)",
              "ticklen": 6,
              "ticks": "inside"
             }
            },
            "type": "scattergeo"
           }
          ],
          "scattergl": [
           {
            "marker": {
             "colorbar": {
              "outlinewidth": 0,
              "tickcolor": "rgb(237,237,237)",
              "ticklen": 6,
              "ticks": "inside"
             }
            },
            "type": "scattergl"
           }
          ],
          "scattermapbox": [
           {
            "marker": {
             "colorbar": {
              "outlinewidth": 0,
              "tickcolor": "rgb(237,237,237)",
              "ticklen": 6,
              "ticks": "inside"
             }
            },
            "type": "scattermapbox"
           }
          ],
          "scatterpolar": [
           {
            "marker": {
             "colorbar": {
              "outlinewidth": 0,
              "tickcolor": "rgb(237,237,237)",
              "ticklen": 6,
              "ticks": "inside"
             }
            },
            "type": "scatterpolar"
           }
          ],
          "scatterpolargl": [
           {
            "marker": {
             "colorbar": {
              "outlinewidth": 0,
              "tickcolor": "rgb(237,237,237)",
              "ticklen": 6,
              "ticks": "inside"
             }
            },
            "type": "scatterpolargl"
           }
          ],
          "scatterternary": [
           {
            "marker": {
             "colorbar": {
              "outlinewidth": 0,
              "tickcolor": "rgb(237,237,237)",
              "ticklen": 6,
              "ticks": "inside"
             }
            },
            "type": "scatterternary"
           }
          ],
          "surface": [
           {
            "colorbar": {
             "outlinewidth": 0,
             "tickcolor": "rgb(237,237,237)",
             "ticklen": 6,
             "ticks": "inside"
            },
            "colorscale": [
             [
              0,
              "rgb(20,44,66)"
             ],
             [
              1,
              "rgb(90,179,244)"
             ]
            ],
            "type": "surface"
           }
          ],
          "table": [
           {
            "cells": {
             "fill": {
              "color": "rgb(237,237,237)"
             },
             "line": {
              "color": "white"
             }
            },
            "header": {
             "fill": {
              "color": "rgb(217,217,217)"
             },
             "line": {
              "color": "white"
             }
            },
            "type": "table"
           }
          ]
         },
         "layout": {
          "annotationdefaults": {
           "arrowhead": 0,
           "arrowwidth": 1
          },
          "autotypenumbers": "strict",
          "coloraxis": {
           "colorbar": {
            "outlinewidth": 0,
            "tickcolor": "rgb(237,237,237)",
            "ticklen": 6,
            "ticks": "inside"
           }
          },
          "colorscale": {
           "sequential": [
            [
             0,
             "rgb(20,44,66)"
            ],
            [
             1,
             "rgb(90,179,244)"
            ]
           ],
           "sequentialminus": [
            [
             0,
             "rgb(20,44,66)"
            ],
            [
             1,
             "rgb(90,179,244)"
            ]
           ]
          },
          "colorway": [
           "#F8766D",
           "#A3A500",
           "#00BF7D",
           "#00B0F6",
           "#E76BF3"
          ],
          "font": {
           "color": "rgb(51,51,51)"
          },
          "geo": {
           "bgcolor": "white",
           "lakecolor": "white",
           "landcolor": "rgb(237,237,237)",
           "showlakes": true,
           "showland": true,
           "subunitcolor": "white"
          },
          "hoverlabel": {
           "align": "left"
          },
          "hovermode": "closest",
          "paper_bgcolor": "white",
          "plot_bgcolor": "rgb(237,237,237)",
          "polar": {
           "angularaxis": {
            "gridcolor": "white",
            "linecolor": "white",
            "showgrid": true,
            "tickcolor": "rgb(51,51,51)",
            "ticks": "outside"
           },
           "bgcolor": "rgb(237,237,237)",
           "radialaxis": {
            "gridcolor": "white",
            "linecolor": "white",
            "showgrid": true,
            "tickcolor": "rgb(51,51,51)",
            "ticks": "outside"
           }
          },
          "scene": {
           "xaxis": {
            "backgroundcolor": "rgb(237,237,237)",
            "gridcolor": "white",
            "gridwidth": 2,
            "linecolor": "white",
            "showbackground": true,
            "showgrid": true,
            "tickcolor": "rgb(51,51,51)",
            "ticks": "outside",
            "zerolinecolor": "white"
           },
           "yaxis": {
            "backgroundcolor": "rgb(237,237,237)",
            "gridcolor": "white",
            "gridwidth": 2,
            "linecolor": "white",
            "showbackground": true,
            "showgrid": true,
            "tickcolor": "rgb(51,51,51)",
            "ticks": "outside",
            "zerolinecolor": "white"
           },
           "zaxis": {
            "backgroundcolor": "rgb(237,237,237)",
            "gridcolor": "white",
            "gridwidth": 2,
            "linecolor": "white",
            "showbackground": true,
            "showgrid": true,
            "tickcolor": "rgb(51,51,51)",
            "ticks": "outside",
            "zerolinecolor": "white"
           }
          },
          "shapedefaults": {
           "fillcolor": "black",
           "line": {
            "width": 0
           },
           "opacity": 0.3
          },
          "ternary": {
           "aaxis": {
            "gridcolor": "white",
            "linecolor": "white",
            "showgrid": true,
            "tickcolor": "rgb(51,51,51)",
            "ticks": "outside"
           },
           "baxis": {
            "gridcolor": "white",
            "linecolor": "white",
            "showgrid": true,
            "tickcolor": "rgb(51,51,51)",
            "ticks": "outside"
           },
           "bgcolor": "rgb(237,237,237)",
           "caxis": {
            "gridcolor": "white",
            "linecolor": "white",
            "showgrid": true,
            "tickcolor": "rgb(51,51,51)",
            "ticks": "outside"
           }
          },
          "xaxis": {
           "automargin": true,
           "gridcolor": "white",
           "linecolor": "white",
           "showgrid": true,
           "tickcolor": "rgb(51,51,51)",
           "ticks": "outside",
           "title": {
            "standoff": 15
           },
           "zerolinecolor": "white"
          },
          "yaxis": {
           "automargin": true,
           "gridcolor": "white",
           "linecolor": "white",
           "showgrid": true,
           "tickcolor": "rgb(51,51,51)",
           "ticks": "outside",
           "title": {
            "standoff": 15
           },
           "zerolinecolor": "white"
          }
         }
        },
        "title": {
         "text": "Shapley values for abnormal samples"
        },
        "xaxis": {
         "anchor": "y",
         "categoryarray": [
          "IMC",
          "fenilalax",
          "Estearoilcarnitina",
          "Ornitina",
          "Carnitina libre",
          "Acetilcarnitina",
          "Decanoilcarnitina",
          "Circunferencia de cintura",
          "Tirosina",
          "Valina",
          "PROTEINAProm_(G)",
          "Citrulina",
          "ohd3x",
          "Género",
          "Linoleoilcarnitina",
          "Isovalerilcarnitina",
          "Dodecanoilcarnitina",
          "Prolina",
          "Glutamato",
          "Butirilcarnitina",
          "Palmitoilcarnitina",
          "Alanina",
          "Succinilacetona",
          "Octanoilcarnitina",
          "Hexanoilcarnitina",
          "Glutarilcarnitina",
          "3-OH-Linoleoilcarnitina",
          "Tetradecenoilcarnitina",
          "3-OH-Isovalerilcarnitina",
          "Glicina",
          "3-OH-Palmitoilcarnitina",
          "Tiglilcarnitina",
          "Propionilcarnitina",
          "Leucina",
          "Aspartato",
          "tirosinax",
          "Metionina",
          "Fenilalanina",
          "Arginina",
          "%_proteina_natural",
          "Tetradecanoilcarnitina",
          "Me-Glutarilcarnitina",
          "ATPII/AHA/IDF",
          "aleator",
          "%_Proteina_SP"
         ],
         "categoryorder": "array",
         "domain": [
          0,
          1
         ],
         "labelalias": {
          "%_Proteina_SP": "% SP Protein",
          "%_proteina_natural": "% Natural Protein",
          "3-OH-Isovalerilcarnitina": "3-OH-Isovalerylcarnitine",
          "3-OH-Linoleoilcarnitina": "3-OH-Linoleoylcarnitine",
          "3-OH-Palmitoilcarnitina": "3-OH-Palmitoylcarnitine",
          "ATPII/AHA/IDF": "ATPII/AHA/IDF",
          "Acetilcarnitina": "Acetylcarnitine",
          "Alanina": "Alanine",
          "Arginina": "Arginine",
          "Aspartato": "Aspartate",
          "Butirilcarnitina": "Butyrylcarnitine",
          "CALCIOProm_(MG)": "Calcium avg. (mg)",
          "CARBOHIDRATOProm_(G)": "CARBOHYDRATE avg. (g)",
          "COBREProm_(MG)": "Copper avg. (mg)",
          "COLESTEROLProm_(MG)": "CHOLESTEROL avg. (mg)",
          "Carnitina libre": "Free Carnitine",
          "Circunferencia de cintura": "Waist circumference",
          "Citrulina": "Citrulline",
          "Decanoilcarnitina": "Decanoylcarnitine",
          "Dodecanoilcarnitina": "Dodecanoylcarnitine",
          "ENERGIAProm_(KCAL)": "ENERGY avg. (KCAL)",
          "Edad": "Age",
          "Estatura": "Height",
          "Estearoilcarnitina": "Stearoylcarnitine",
          "FENILALANINAProm_(G)": "PHENYLALANINE_avg (g)",
          "FOLATOProm_(MCG)": "Folate avg. (MCG)",
          "Fenilalanina": "Phenylalanine",
          "GRASAProm(G)": "Fat avg. (g)",
          "Glicina": "Glycine",
          "Glutamato": "Glutamate",
          "Glutarilcarnitina": "Glutarylcarnitine",
          "Género": "gender",
          "HIERROProm_(MG)": "Iron avg. (mg)",
          "HOMA-IR alterado": "HOMA-IR altered",
          "HOMA2-IR": "HOMA2-IR",
          "HOMA2B(%)": "HOMA2B(%)",
          "HOMA2S%": "HOMA2S%",
          "Hexanoilcarnitina": "Hexanoylcarnitine",
          "IMC": "BMI",
          "Isovalerilcarnitina": "Isovalerylcarnitine",
          "Leucina": "Leucine",
          "Linoleoilcarnitina": "Linoleoilcarnitine",
          "Me-Glutarilcarnitina": "Me-Glutarylcarnitine",
          "Metionina": "Methionine",
          "Octanoilcarnitina": "Octanoylcarnitine",
          "Ornitina": "Ornithine",
          "PROTEINAProm_(G)": "Protein avg. (g)",
          "Palmitoilcarnitina": "Palmitoylcarnitine",
          "Peso": "Weight",
          "Prolina": "Proline",
          "Propionilcarnitina": "Propionylcarnitine",
          "Proteina_SP": "SP Protein",
          "Proteina_natural": "Protein natural",
          "SP_gr/kg": "SP (gr/kg)",
          "Succinilacetona": "Succinylacetone",
          "TIROSINAProm_(G)": "TYROSINE avg. (g)",
          "Tetradecanoilcarnitina": "Tetradecanoylcarnitine",
          "Tetradecenoilcarnitina": "Tetradecenoylcarnitine",
          "Tiglilcarnitina": "Tiglilcarnitine",
          "Tirosina": "Tyrosine",
          "VITAMINA_B12Prom_(MCG)": "Vitamin B12 avg. (MCG)",
          "VITAMINA_Dprom": "Vitamin D avg.",
          "Valina": "Valine",
          "ZINCProm_(MG)": "Zinc avg. (mg)",
          "aleator": "random",
          "fenilalax": "Phenylalax",
          "glummol": "Glummol",
          "glupromx": "Glupromx",
          "insuprom": "Insuprom",
          "ohd3x": "ohd3x",
          "quickix": "Quickix",
          "tirosinax": "Tyrosinax"
         },
         "title": {
          "text": "Feature in the dataset"
         }
        },
        "yaxis": {
         "anchor": "x",
         "domain": [
          0,
          1
         ],
         "title": {
          "text": "Shapley Value importance"
         }
        }
       }
      }
     },
     "metadata": {},
     "output_type": "display_data"
    }
   ],
   "source": [
    "df_ranks_long = df_ranks.T\n",
    "order = (\n",
    "    df_ranks_long.rank(axis=\"columns\", ascending=False)\n",
    "    .median(axis=\"rows\")\n",
    "    .sort_values()\n",
    "    .index\n",
    ")\n",
    "\n",
    "# Create a grouped barplot using Plotly\n",
    "fig_barplot = px.bar(\n",
    "    df_ranks,\n",
    "    barmode=\"group\",\n",
    "    template=\"ggplot2\",\n",
    ")\n",
    "fig_barplot.update_xaxes(\n",
    "    categoryorder=\"array\", categoryarray=order, labelalias=labels_relabel\n",
    ")\n",
    "\n",
    "\n",
    "fig_barplot.update_layout(\n",
    "    xaxis_title=\"Feature in the dataset\",\n",
    "    yaxis_title=\"Shapley Value importance\",\n",
    "    title=\"Shapley values for abnormal samples\",\n",
    "    legend_title=\"Model\",\n",
    ")\n",
    "\n",
    "# Show the plot\n",
    "fig_barplot.show()\n",
    "\n",
    "# fig = px.bar(, x='variable', y='value')\n",
    "# fig.show()"
   ]
  },
  {
   "cell_type": "code",
   "execution_count": 81,
   "metadata": {},
   "outputs": [],
   "source": [
    "df_ranks_long[\"auc_score\"] = bs_trials[\"auc\"]"
   ]
  },
  {
   "cell_type": "code",
   "execution_count": 82,
   "metadata": {},
   "outputs": [
    {
     "data": {
      "application/vnd.plotly.v1+json": {
       "config": {
        "plotlyServerURL": "https://plot.ly"
       },
       "data": [
        {
         "dimensions": [
          {
           "label": "BMI",
           "values": [
            1.350244,
            0.5541899,
            0.2626021,
            0.5081429,
            0.23169357,
            0.37380257,
            0.14221352,
            0,
            0.9322901,
            0.87392575,
            0.6742813,
            0.6445942,
            1.2462461,
            1.1545646,
            0.4048548,
            1.298783,
            0.21263999,
            0.55148053,
            0.16840465,
            0.51003075,
            0.72942674,
            0.14131702,
            0.79889816,
            0.79525226,
            0.81865436,
            0.2911549,
            0.65486586,
            1.5436233,
            0.56468755,
            0.4655935,
            0.44644618,
            0.5800817,
            0.64031124,
            0.44703114,
            0.48824754,
            0.99875104,
            0.7314227,
            0,
            0.21776445
           ]
          },
          {
           "label": "Phenylalax",
           "values": [
            0.23130348,
            0.23277317,
            0.28994298,
            0.22776377,
            0.42936707,
            0.24859606,
            0.39802656,
            0.22713383,
            0.37896794,
            0.23694137,
            0.2326922,
            0.37976095,
            0.24052785,
            0.22047949,
            0.30397135,
            0.46756628,
            0.24081083,
            0.45215815,
            0.3740358,
            0.31947517,
            0.2984905,
            0.20995076,
            0.4972087,
            0.22163045,
            0.31270537,
            0.40228453,
            0.3268589,
            0.23223919,
            0.2605692,
            0.30263144,
            0.32073033,
            0.37749687,
            0.63081074,
            0.22570473,
            0.21873438,
            0.22549546,
            0.32036674,
            0.21923432,
            0.274932
           ]
          },
          {
           "label": "Stearoylcarnitine",
           "values": [
            0.3418144,
            0.20557192,
            0.33089286,
            0.45915315,
            0.36029357,
            0.35129207,
            0.19963744,
            0.8327263,
            0.16829185,
            0.2823866,
            0.6854955,
            0.41050532,
            0.127522,
            0.3999618,
            0.29525164,
            0.09809568,
            0.10122224,
            0.39376476,
            0.23408484,
            0.15137881,
            0.19597092,
            0,
            0.13379765,
            0.29159454,
            0,
            0.5584904,
            0.34817272,
            0,
            0.3272389,
            0.09977206,
            0.3016572,
            0.1311154,
            0,
            0.276542,
            0.52378494,
            0.64023936,
            0,
            0.32134122,
            0.25799212
           ]
          },
          {
           "label": "Ornithine",
           "values": [
            0.2762975,
            0.72491115,
            0,
            0.052761767,
            0.15233286,
            0.6500798,
            0.09001233,
            0.20252967,
            0.06943929,
            0,
            0,
            0.33023024,
            0,
            0,
            0.465983,
            0,
            0.40790012,
            0.61793697,
            0.46667513,
            0.3752487,
            0.2616023,
            1.2070631,
            0,
            0.091031484,
            0.14650303,
            0.222285,
            0.27769735,
            0,
            0.24105556,
            0.14779419,
            0,
            0.88291234,
            0.39774248,
            0.2520599,
            0.109843425,
            0.10317853,
            0,
            0.6336909,
            0.7818288
           ]
          },
          {
           "label": "Free Carnitine",
           "values": [
            0.102366164,
            0.50383043,
            0,
            0,
            0.21479797,
            0.04316309,
            0.28340584,
            0,
            0.30997467,
            0.1428054,
            0.28458872,
            0,
            0,
            0.112828255,
            0.05903408,
            0.12856226,
            0.12958063,
            0,
            0.11224216,
            0.77631044,
            0.39844877,
            0,
            0.08569762,
            0.6510781,
            0.21788543,
            0.16841888,
            0.3332726,
            0.40385824,
            0,
            0.60155207,
            0.0823463,
            0,
            0,
            0.41482702,
            0.19200936,
            0.20669971,
            0.4294943,
            0.7773732,
            0
           ]
          },
          {
           "label": "Acetylcarnitine",
           "values": [
            0.26416615,
            0.055385705,
            0.22472386,
            0,
            0.36508557,
            0.4598378,
            0.90603185,
            0,
            0.36343485,
            0.3543796,
            0.2827047,
            0.07254014,
            0,
            0.13453935,
            0,
            0,
            0.112318486,
            0.5243721,
            0.42153597,
            0,
            0.095101014,
            0,
            0.10869091,
            0.14317693,
            0.45466578,
            0.06527356,
            0,
            0.21302345,
            0.4301057,
            0,
            0.67137384,
            0.05328336,
            0,
            0,
            0.18050686,
            0.044496708,
            0.09666068,
            0,
            0
           ]
          },
          {
           "label": "Decanoylcarnitine",
           "values": [
            0.13927221,
            0,
            0,
            0,
            0.06714971,
            0,
            0,
            0.06489144,
            0.47122636,
            0,
            0.22655647,
            0.057619352,
            0.16319034,
            0.34513047,
            0.25112924,
            0.14500755,
            0.10715731,
            0,
            0,
            0.05097516,
            0.14183293,
            0.115564086,
            0.23932445,
            0.10541347,
            0.40603784,
            0.16571808,
            0.1863594,
            0.40453997,
            0.048427485,
            0.106538974,
            0.27793816,
            0.15757865,
            0,
            0,
            0.29420897,
            0.27664757,
            0.042181842,
            0,
            0.23528373
           ]
          },
          {
           "label": "Waist circumference",
           "values": [
            0.1054273,
            0.035570767,
            0.16669588,
            0.04607782,
            0,
            0.09087845,
            0.19971843,
            0.22519755,
            0,
            0.25364536,
            0,
            0,
            0.048484962,
            0,
            0.36053172,
            0,
            0,
            0,
            0.09024897,
            0.06921839,
            0.015507016,
            0.22992063,
            0.12671623,
            0.10536611,
            0.39973915,
            0.27288902,
            0.06647323,
            0.07620104,
            0,
            0.013223176,
            0,
            0,
            0.066993535,
            0.4225522,
            0.3370803,
            0,
            0,
            0,
            0.40204993
           ]
          },
          {
           "label": "Tyrosine",
           "values": [
            0.2694069,
            0,
            0.2939833,
            0.03651234,
            0.49138093,
            0.4050865,
            0.64507127,
            0.072864234,
            0.079710975,
            0,
            0.33710575,
            0.19091609,
            0,
            0.29171002,
            0,
            0,
            0.11511853,
            0.33340272,
            0.104990244,
            0,
            0.2721848,
            0,
            0,
            0.22627553,
            0.046090826,
            0.12481109,
            0.20427063,
            0,
            0.022523372,
            0,
            0.26091135,
            0,
            0.045029897,
            0,
            0.07954051,
            0.19324386,
            0.35509038,
            0.18772104,
            0.058683153
           ]
          },
          {
           "label": "Valine",
           "values": [
            0.080125615,
            0.16936974,
            0.3076972,
            0.18837948,
            0.10078358,
            0.122017816,
            0.04801867,
            0.66063577,
            0,
            0.43144587,
            0.10663152,
            0,
            0,
            0,
            0,
            0,
            0,
            0.22050591,
            0.06694918,
            0.314131,
            0.10959491,
            0,
            0.13183185,
            0.06244519,
            0.15536824,
            0,
            0.22629632,
            0.11956839,
            0.06157172,
            0,
            0.087245464,
            0,
            0.30627322,
            0.051261686,
            0,
            0,
            0.33972818,
            0,
            0
           ]
          },
          {
           "label": "auc_score",
           "values": [
            0.9615384615384616,
            0.9230769230769231,
            0.8055555555555555,
            0.8055555555555556,
            0.8846153846153846,
            1,
            0.8076923076923077,
            0.8055555555555556,
            0.9615384615384616,
            0.9038461538461539,
            0.9230769230769231,
            0.8846153846153846,
            0.875,
            0.9615384615384616,
            0.8611111111111112,
            0.861111111111111,
            0.8055555555555556,
            0.9230769230769231,
            0.9166666666666666,
            0.9230769230769231,
            0.9230769230769231,
            0.861111111111111,
            0.8846153846153847,
            0.8076923076923076,
            0.923076923076923,
            0.8461538461538461,
            0.8846153846153846,
            0.9230769230769231,
            0.8076923076923077,
            0.888888888888889,
            0.9166666666666667,
            0.8076923076923076,
            0.8461538461538461,
            0.9230769230769231,
            0.8076923076923077,
            0.9615384615384616,
            0.9230769230769231,
            0.8076923076923076,
            0.8055555555555555
           ]
          }
         ],
         "domain": {
          "x": [
           0,
           1
          ],
          "y": [
           0,
           1
          ]
         },
         "line": {
          "color": [
           0.9615384615384616,
           0.9230769230769231,
           0.8055555555555555,
           0.8055555555555556,
           0.8846153846153846,
           1,
           0.8076923076923077,
           0.8055555555555556,
           0.9615384615384616,
           0.9038461538461539,
           0.9230769230769231,
           0.8846153846153846,
           0.875,
           0.9615384615384616,
           0.8611111111111112,
           0.861111111111111,
           0.8055555555555556,
           0.9230769230769231,
           0.9166666666666666,
           0.9230769230769231,
           0.9230769230769231,
           0.861111111111111,
           0.8846153846153847,
           0.8076923076923076,
           0.923076923076923,
           0.8461538461538461,
           0.8846153846153846,
           0.9230769230769231,
           0.8076923076923077,
           0.888888888888889,
           0.9166666666666667,
           0.8076923076923076,
           0.8461538461538461,
           0.9230769230769231,
           0.8076923076923077,
           0.9615384615384616,
           0.9230769230769231,
           0.8076923076923076,
           0.8055555555555555
          ],
          "coloraxis": "coloraxis"
         },
         "name": "",
         "type": "parcoords"
        }
       ],
       "layout": {
        "coloraxis": {
         "colorbar": {
          "title": {
           "text": "auc_score"
          }
         },
         "colorscale": [
          [
           0,
           "#0d0887"
          ],
          [
           0.1111111111111111,
           "#46039f"
          ],
          [
           0.2222222222222222,
           "#7201a8"
          ],
          [
           0.3333333333333333,
           "#9c179e"
          ],
          [
           0.4444444444444444,
           "#bd3786"
          ],
          [
           0.5555555555555556,
           "#d8576b"
          ],
          [
           0.6666666666666666,
           "#ed7953"
          ],
          [
           0.7777777777777778,
           "#fb9f3a"
          ],
          [
           0.8888888888888888,
           "#fdca26"
          ],
          [
           1,
           "#f0f921"
          ]
         ],
         "showscale": false
        },
        "legend": {
         "tracegroupgap": 0
        },
        "template": {
         "data": {
          "bar": [
           {
            "error_x": {
             "color": "#2a3f5f"
            },
            "error_y": {
             "color": "#2a3f5f"
            },
            "marker": {
             "line": {
              "color": "#E5ECF6",
              "width": 0.5
             },
             "pattern": {
              "fillmode": "overlay",
              "size": 10,
              "solidity": 0.2
             }
            },
            "type": "bar"
           }
          ],
          "barpolar": [
           {
            "marker": {
             "line": {
              "color": "#E5ECF6",
              "width": 0.5
             },
             "pattern": {
              "fillmode": "overlay",
              "size": 10,
              "solidity": 0.2
             }
            },
            "type": "barpolar"
           }
          ],
          "carpet": [
           {
            "aaxis": {
             "endlinecolor": "#2a3f5f",
             "gridcolor": "white",
             "linecolor": "white",
             "minorgridcolor": "white",
             "startlinecolor": "#2a3f5f"
            },
            "baxis": {
             "endlinecolor": "#2a3f5f",
             "gridcolor": "white",
             "linecolor": "white",
             "minorgridcolor": "white",
             "startlinecolor": "#2a3f5f"
            },
            "type": "carpet"
           }
          ],
          "choropleth": [
           {
            "colorbar": {
             "outlinewidth": 0,
             "ticks": ""
            },
            "type": "choropleth"
           }
          ],
          "contour": [
           {
            "colorbar": {
             "outlinewidth": 0,
             "ticks": ""
            },
            "colorscale": [
             [
              0,
              "#0d0887"
             ],
             [
              0.1111111111111111,
              "#46039f"
             ],
             [
              0.2222222222222222,
              "#7201a8"
             ],
             [
              0.3333333333333333,
              "#9c179e"
             ],
             [
              0.4444444444444444,
              "#bd3786"
             ],
             [
              0.5555555555555556,
              "#d8576b"
             ],
             [
              0.6666666666666666,
              "#ed7953"
             ],
             [
              0.7777777777777778,
              "#fb9f3a"
             ],
             [
              0.8888888888888888,
              "#fdca26"
             ],
             [
              1,
              "#f0f921"
             ]
            ],
            "type": "contour"
           }
          ],
          "contourcarpet": [
           {
            "colorbar": {
             "outlinewidth": 0,
             "ticks": ""
            },
            "type": "contourcarpet"
           }
          ],
          "heatmap": [
           {
            "colorbar": {
             "outlinewidth": 0,
             "ticks": ""
            },
            "colorscale": [
             [
              0,
              "#0d0887"
             ],
             [
              0.1111111111111111,
              "#46039f"
             ],
             [
              0.2222222222222222,
              "#7201a8"
             ],
             [
              0.3333333333333333,
              "#9c179e"
             ],
             [
              0.4444444444444444,
              "#bd3786"
             ],
             [
              0.5555555555555556,
              "#d8576b"
             ],
             [
              0.6666666666666666,
              "#ed7953"
             ],
             [
              0.7777777777777778,
              "#fb9f3a"
             ],
             [
              0.8888888888888888,
              "#fdca26"
             ],
             [
              1,
              "#f0f921"
             ]
            ],
            "type": "heatmap"
           }
          ],
          "heatmapgl": [
           {
            "colorbar": {
             "outlinewidth": 0,
             "ticks": ""
            },
            "colorscale": [
             [
              0,
              "#0d0887"
             ],
             [
              0.1111111111111111,
              "#46039f"
             ],
             [
              0.2222222222222222,
              "#7201a8"
             ],
             [
              0.3333333333333333,
              "#9c179e"
             ],
             [
              0.4444444444444444,
              "#bd3786"
             ],
             [
              0.5555555555555556,
              "#d8576b"
             ],
             [
              0.6666666666666666,
              "#ed7953"
             ],
             [
              0.7777777777777778,
              "#fb9f3a"
             ],
             [
              0.8888888888888888,
              "#fdca26"
             ],
             [
              1,
              "#f0f921"
             ]
            ],
            "type": "heatmapgl"
           }
          ],
          "histogram": [
           {
            "marker": {
             "pattern": {
              "fillmode": "overlay",
              "size": 10,
              "solidity": 0.2
             }
            },
            "type": "histogram"
           }
          ],
          "histogram2d": [
           {
            "colorbar": {
             "outlinewidth": 0,
             "ticks": ""
            },
            "colorscale": [
             [
              0,
              "#0d0887"
             ],
             [
              0.1111111111111111,
              "#46039f"
             ],
             [
              0.2222222222222222,
              "#7201a8"
             ],
             [
              0.3333333333333333,
              "#9c179e"
             ],
             [
              0.4444444444444444,
              "#bd3786"
             ],
             [
              0.5555555555555556,
              "#d8576b"
             ],
             [
              0.6666666666666666,
              "#ed7953"
             ],
             [
              0.7777777777777778,
              "#fb9f3a"
             ],
             [
              0.8888888888888888,
              "#fdca26"
             ],
             [
              1,
              "#f0f921"
             ]
            ],
            "type": "histogram2d"
           }
          ],
          "histogram2dcontour": [
           {
            "colorbar": {
             "outlinewidth": 0,
             "ticks": ""
            },
            "colorscale": [
             [
              0,
              "#0d0887"
             ],
             [
              0.1111111111111111,
              "#46039f"
             ],
             [
              0.2222222222222222,
              "#7201a8"
             ],
             [
              0.3333333333333333,
              "#9c179e"
             ],
             [
              0.4444444444444444,
              "#bd3786"
             ],
             [
              0.5555555555555556,
              "#d8576b"
             ],
             [
              0.6666666666666666,
              "#ed7953"
             ],
             [
              0.7777777777777778,
              "#fb9f3a"
             ],
             [
              0.8888888888888888,
              "#fdca26"
             ],
             [
              1,
              "#f0f921"
             ]
            ],
            "type": "histogram2dcontour"
           }
          ],
          "mesh3d": [
           {
            "colorbar": {
             "outlinewidth": 0,
             "ticks": ""
            },
            "type": "mesh3d"
           }
          ],
          "parcoords": [
           {
            "line": {
             "colorbar": {
              "outlinewidth": 0,
              "ticks": ""
             }
            },
            "type": "parcoords"
           }
          ],
          "pie": [
           {
            "automargin": true,
            "type": "pie"
           }
          ],
          "scatter": [
           {
            "fillpattern": {
             "fillmode": "overlay",
             "size": 10,
             "solidity": 0.2
            },
            "type": "scatter"
           }
          ],
          "scatter3d": [
           {
            "line": {
             "colorbar": {
              "outlinewidth": 0,
              "ticks": ""
             }
            },
            "marker": {
             "colorbar": {
              "outlinewidth": 0,
              "ticks": ""
             }
            },
            "type": "scatter3d"
           }
          ],
          "scattercarpet": [
           {
            "marker": {
             "colorbar": {
              "outlinewidth": 0,
              "ticks": ""
             }
            },
            "type": "scattercarpet"
           }
          ],
          "scattergeo": [
           {
            "marker": {
             "colorbar": {
              "outlinewidth": 0,
              "ticks": ""
             }
            },
            "type": "scattergeo"
           }
          ],
          "scattergl": [
           {
            "marker": {
             "colorbar": {
              "outlinewidth": 0,
              "ticks": ""
             }
            },
            "type": "scattergl"
           }
          ],
          "scattermapbox": [
           {
            "marker": {
             "colorbar": {
              "outlinewidth": 0,
              "ticks": ""
             }
            },
            "type": "scattermapbox"
           }
          ],
          "scatterpolar": [
           {
            "marker": {
             "colorbar": {
              "outlinewidth": 0,
              "ticks": ""
             }
            },
            "type": "scatterpolar"
           }
          ],
          "scatterpolargl": [
           {
            "marker": {
             "colorbar": {
              "outlinewidth": 0,
              "ticks": ""
             }
            },
            "type": "scatterpolargl"
           }
          ],
          "scatterternary": [
           {
            "marker": {
             "colorbar": {
              "outlinewidth": 0,
              "ticks": ""
             }
            },
            "type": "scatterternary"
           }
          ],
          "surface": [
           {
            "colorbar": {
             "outlinewidth": 0,
             "ticks": ""
            },
            "colorscale": [
             [
              0,
              "#0d0887"
             ],
             [
              0.1111111111111111,
              "#46039f"
             ],
             [
              0.2222222222222222,
              "#7201a8"
             ],
             [
              0.3333333333333333,
              "#9c179e"
             ],
             [
              0.4444444444444444,
              "#bd3786"
             ],
             [
              0.5555555555555556,
              "#d8576b"
             ],
             [
              0.6666666666666666,
              "#ed7953"
             ],
             [
              0.7777777777777778,
              "#fb9f3a"
             ],
             [
              0.8888888888888888,
              "#fdca26"
             ],
             [
              1,
              "#f0f921"
             ]
            ],
            "type": "surface"
           }
          ],
          "table": [
           {
            "cells": {
             "fill": {
              "color": "#EBF0F8"
             },
             "line": {
              "color": "white"
             }
            },
            "header": {
             "fill": {
              "color": "#C8D4E3"
             },
             "line": {
              "color": "white"
             }
            },
            "type": "table"
           }
          ]
         },
         "layout": {
          "annotationdefaults": {
           "arrowcolor": "#2a3f5f",
           "arrowhead": 0,
           "arrowwidth": 1
          },
          "autotypenumbers": "strict",
          "coloraxis": {
           "colorbar": {
            "outlinewidth": 0,
            "ticks": ""
           }
          },
          "colorscale": {
           "diverging": [
            [
             0,
             "#8e0152"
            ],
            [
             0.1,
             "#c51b7d"
            ],
            [
             0.2,
             "#de77ae"
            ],
            [
             0.3,
             "#f1b6da"
            ],
            [
             0.4,
             "#fde0ef"
            ],
            [
             0.5,
             "#f7f7f7"
            ],
            [
             0.6,
             "#e6f5d0"
            ],
            [
             0.7,
             "#b8e186"
            ],
            [
             0.8,
             "#7fbc41"
            ],
            [
             0.9,
             "#4d9221"
            ],
            [
             1,
             "#276419"
            ]
           ],
           "sequential": [
            [
             0,
             "#0d0887"
            ],
            [
             0.1111111111111111,
             "#46039f"
            ],
            [
             0.2222222222222222,
             "#7201a8"
            ],
            [
             0.3333333333333333,
             "#9c179e"
            ],
            [
             0.4444444444444444,
             "#bd3786"
            ],
            [
             0.5555555555555556,
             "#d8576b"
            ],
            [
             0.6666666666666666,
             "#ed7953"
            ],
            [
             0.7777777777777778,
             "#fb9f3a"
            ],
            [
             0.8888888888888888,
             "#fdca26"
            ],
            [
             1,
             "#f0f921"
            ]
           ],
           "sequentialminus": [
            [
             0,
             "#0d0887"
            ],
            [
             0.1111111111111111,
             "#46039f"
            ],
            [
             0.2222222222222222,
             "#7201a8"
            ],
            [
             0.3333333333333333,
             "#9c179e"
            ],
            [
             0.4444444444444444,
             "#bd3786"
            ],
            [
             0.5555555555555556,
             "#d8576b"
            ],
            [
             0.6666666666666666,
             "#ed7953"
            ],
            [
             0.7777777777777778,
             "#fb9f3a"
            ],
            [
             0.8888888888888888,
             "#fdca26"
            ],
            [
             1,
             "#f0f921"
            ]
           ]
          },
          "colorway": [
           "#636efa",
           "#EF553B",
           "#00cc96",
           "#ab63fa",
           "#FFA15A",
           "#19d3f3",
           "#FF6692",
           "#B6E880",
           "#FF97FF",
           "#FECB52"
          ],
          "font": {
           "color": "#2a3f5f"
          },
          "geo": {
           "bgcolor": "white",
           "lakecolor": "white",
           "landcolor": "#E5ECF6",
           "showlakes": true,
           "showland": true,
           "subunitcolor": "white"
          },
          "hoverlabel": {
           "align": "left"
          },
          "hovermode": "closest",
          "mapbox": {
           "style": "light"
          },
          "paper_bgcolor": "white",
          "plot_bgcolor": "#E5ECF6",
          "polar": {
           "angularaxis": {
            "gridcolor": "white",
            "linecolor": "white",
            "ticks": ""
           },
           "bgcolor": "#E5ECF6",
           "radialaxis": {
            "gridcolor": "white",
            "linecolor": "white",
            "ticks": ""
           }
          },
          "scene": {
           "xaxis": {
            "backgroundcolor": "#E5ECF6",
            "gridcolor": "white",
            "gridwidth": 2,
            "linecolor": "white",
            "showbackground": true,
            "ticks": "",
            "zerolinecolor": "white"
           },
           "yaxis": {
            "backgroundcolor": "#E5ECF6",
            "gridcolor": "white",
            "gridwidth": 2,
            "linecolor": "white",
            "showbackground": true,
            "ticks": "",
            "zerolinecolor": "white"
           },
           "zaxis": {
            "backgroundcolor": "#E5ECF6",
            "gridcolor": "white",
            "gridwidth": 2,
            "linecolor": "white",
            "showbackground": true,
            "ticks": "",
            "zerolinecolor": "white"
           }
          },
          "shapedefaults": {
           "line": {
            "color": "#2a3f5f"
           }
          },
          "ternary": {
           "aaxis": {
            "gridcolor": "white",
            "linecolor": "white",
            "ticks": ""
           },
           "baxis": {
            "gridcolor": "white",
            "linecolor": "white",
            "ticks": ""
           },
           "bgcolor": "#E5ECF6",
           "caxis": {
            "gridcolor": "white",
            "linecolor": "white",
            "ticks": ""
           }
          },
          "title": {
           "x": 0.05
          },
          "xaxis": {
           "automargin": true,
           "gridcolor": "white",
           "linecolor": "white",
           "ticks": "",
           "title": {
            "standoff": 15
           },
           "zerolinecolor": "white",
           "zerolinewidth": 2
          },
          "yaxis": {
           "automargin": true,
           "gridcolor": "white",
           "linecolor": "white",
           "ticks": "",
           "title": {
            "standoff": 15
           },
           "zerolinecolor": "white",
           "zerolinewidth": 2
          }
         }
        },
        "title": {
         "text": "Shapley values for abnormal samples - ADASYNT"
        },
        "xaxis": {
         "title": {
          "text": "Feature in the dataset"
         }
        },
        "yaxis": {
         "title": {
          "text": "Shapley Value importance"
         }
        }
       }
      }
     },
     "metadata": {},
     "output_type": "display_data"
    }
   ],
   "source": [
    "fig = px.parallel_coordinates(\n",
    "    df_ranks_long,\n",
    "    # color='fenilalax',\n",
    "    color=\"auc_score\",\n",
    "    dimensions=order.tolist()[:10] + [\"auc_score\"],\n",
    "    labels=labels_relabel,\n",
    "    title=\"Shapley values for abnormal samples - ADASYNT\",\n",
    ")\n",
    "\n",
    "fig.update_layout(\n",
    "    coloraxis_showscale=False,\n",
    "    # title=\"Feature importance\",\n",
    "    xaxis_title=\"Feature in the dataset\",\n",
    "    yaxis_title=\"Shapley Value importance\",\n",
    "    # legend_title=\"Shapley values for abnormal samples\",\n",
    ")\n",
    "\n",
    "fig.show()"
   ]
  },
  {
   "cell_type": "code",
   "execution_count": null,
   "metadata": {},
   "outputs": [],
   "source": []
  }
 ],
 "metadata": {
  "kernelspec": {
   "display_name": "playground",
   "language": "python",
   "name": "python3"
  },
  "language_info": {
   "codemirror_mode": {
    "name": "ipython",
    "version": 3
   },
   "file_extension": ".py",
   "mimetype": "text/x-python",
   "name": "python",
   "nbconvert_exporter": "python",
   "pygments_lexer": "ipython3",
   "version": "3.10.10"
  },
  "orig_nbformat": 4
 },
 "nbformat": 4,
 "nbformat_minor": 2
}
