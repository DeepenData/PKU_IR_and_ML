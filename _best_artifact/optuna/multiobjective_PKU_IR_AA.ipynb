{
 "cells": [
  {
   "cell_type": "code",
   "execution_count": 12,
   "metadata": {},
   "outputs": [
    {
     "name": "stderr",
     "output_type": "stream",
     "text": [
      "\u001b[32m[I 2023-05-03 16:15:36,356]\u001b[0m A new study created in memory with name: no-name-6b751a5c-4054-4e29-88eb-8550f4cfe775\u001b[0m\n",
      "\u001b[32m[I 2023-05-03 16:15:36,357]\u001b[0m A new study created in memory with name: no-name-eb405dbf-956f-40a2-89db-76b04728d75b\u001b[0m\n",
      "\u001b[32m[I 2023-05-03 16:15:36,358]\u001b[0m A new study created in memory with name: no-name-15264797-0783-44e9-a402-cc951bd28f17\u001b[0m\n",
      "\u001b[32m[I 2023-05-03 16:15:38,015]\u001b[0m Trial 1 finished with values: [0.5, 0.0] and parameters: {'max_depth': 6, 'eta': 0.17989588371271303, 'subsample': 0.5662969726100475, 'lambda': 0.9912548011975166, 'alpha': 0.7291531470965662, 'scale_pos_weight': 0.0009285320083103343}. \u001b[0m\n",
      "\u001b[32m[I 2023-05-03 16:15:38,053]\u001b[0m Trial 14 finished with values: [0.7222222222222222, 0.0] and parameters: {'max_depth': 3, 'eta': 0.07466429865360837, 'subsample': 0.5904079002304438, 'lambda': 0.08132119393446124, 'alpha': 0.4536870796467901, 'scale_pos_weight': 0.07938850519322571}. \u001b[0m\n",
      "\u001b[32m[I 2023-05-03 16:15:38,151]\u001b[0m Trial 16 finished with values: [0.5, 0.0] and parameters: {'max_depth': 4, 'eta': 0.01992488302230175, 'subsample': 0.7787263194255363, 'lambda': 0.7518214682108266, 'alpha': 0.8430657050622272, 'scale_pos_weight': 0.02025083201825706}. \u001b[0m\n",
      "\u001b[32m[I 2023-05-03 16:15:39,327]\u001b[0m Trial 12 finished with values: [0.923611111111111, 0.14889293909072876] and parameters: {'max_depth': 2, 'eta': 0.21147580824205917, 'subsample': 0.7611820811227876, 'lambda': 0.2810643681805496, 'alpha': 0.09205722170175912, 'scale_pos_weight': 1.6204815942500839}. \u001b[0m\n",
      "\u001b[32m[I 2023-05-03 16:15:39,468]\u001b[0m Trial 6 finished with values: [0.923611111111111, 0.19430680572986603] and parameters: {'max_depth': 4, 'eta': 0.2964040304065471, 'subsample': 0.8026643512574693, 'lambda': 0.5162831751613396, 'alpha': 0.2865591721670149, 'scale_pos_weight': 0.9032883306424864}. \u001b[0m\n",
      "\u001b[32m[I 2023-05-03 16:15:39,592]\u001b[0m Trial 9 finished with values: [0.923611111111111, 0.051252830773591995] and parameters: {'max_depth': 2, 'eta': 0.25297306463739283, 'subsample': 0.7961035246683328, 'lambda': 0.07153312709205928, 'alpha': 0.4779527669358625, 'scale_pos_weight': 1.890166662041464}. \u001b[0m\n",
      "\u001b[32m[I 2023-05-03 16:15:39,608]\u001b[0m Trial 3 finished with values: [0.9375, 0.0] and parameters: {'max_depth': 2, 'eta': 0.27258869504462824, 'subsample': 0.6843249662038237, 'lambda': 0.16530981872332207, 'alpha': 0.4640256707248348, 'scale_pos_weight': 0.5525063116201496}. \u001b[0m\n",
      "\u001b[32m[I 2023-05-03 16:15:39,676]\u001b[0m Trial 13 finished with values: [0.923611111111111, 0.12774686515331268] and parameters: {'max_depth': 4, 'eta': 0.16937918112785177, 'subsample': 0.8155747819750778, 'lambda': 0.258591526403552, 'alpha': 0.2753635079138682, 'scale_pos_weight': 1.2982791105480949}. \u001b[0m\n",
      "\u001b[32m[I 2023-05-03 16:15:40,141]\u001b[0m Trial 19 finished with values: [0.9444444444444444, 0.018930532038211823] and parameters: {'max_depth': 6, 'eta': 0.14507639265885888, 'subsample': 0.8784709119935552, 'lambda': 0.3878327934124719, 'alpha': 0.7367948328989711, 'scale_pos_weight': 1.972604513615689}. \u001b[0m\n",
      "\u001b[32m[I 2023-05-03 16:15:40,547]\u001b[0m Trial 17 finished with values: [0.9444444444444444, 0.14236705005168915] and parameters: {'max_depth': 3, 'eta': 0.22300353437315032, 'subsample': 0.7590560430125737, 'lambda': 0.08928095608604569, 'alpha': 0.8532951592982014, 'scale_pos_weight': 1.0095603890722635}. \u001b[0m\n",
      "\u001b[32m[I 2023-05-03 16:15:40,554]\u001b[0m Trial 20 finished with values: [0.9166666666666666, 0.06476172059774399] and parameters: {'max_depth': 5, 'eta': 0.2585861316290341, 'subsample': 0.6692061998294252, 'lambda': 0.44825266024754296, 'alpha': 0.3046026428740679, 'scale_pos_weight': 1.2572287413717025}. \u001b[0m\n",
      "\u001b[32m[I 2023-05-03 16:15:40,590]\u001b[0m Trial 4 finished with values: [0.923611111111111, 0.09475869685411453] and parameters: {'max_depth': 6, 'eta': 0.2450254754917604, 'subsample': 0.5893428534474503, 'lambda': 0.573959351802288, 'alpha': 0.9011432345469655, 'scale_pos_weight': 1.3254713786054495}. \u001b[0m\n",
      "\u001b[32m[I 2023-05-03 16:15:41,071]\u001b[0m Trial 8 finished with values: [0.9375, 0.08559662848711014] and parameters: {'max_depth': 3, 'eta': 0.18717017834195293, 'subsample': 0.6894600958871172, 'lambda': 0.873220556841572, 'alpha': 0.6031552253118619, 'scale_pos_weight': 0.6400836212619434}. \u001b[0m\n",
      "\u001b[32m[I 2023-05-03 16:15:41,185]\u001b[0m Trial 0 finished with values: [0.9305555555555555, 0.06658514589071274] and parameters: {'max_depth': 2, 'eta': 0.07600827187515546, 'subsample': 0.77598570895526, 'lambda': 0.056808779292825906, 'alpha': 0.4697919229094306, 'scale_pos_weight': 0.6894098106232838}. \u001b[0m\n",
      "\u001b[32m[I 2023-05-03 16:15:41,309]\u001b[0m Trial 5 finished with values: [0.9444444444444444, 0.09221655130386353] and parameters: {'max_depth': 5, 'eta': 0.10293225072321605, 'subsample': 0.6501038933973269, 'lambda': 0.2185081967333673, 'alpha': 0.46831616414702704, 'scale_pos_weight': 1.2322769462998897}. \u001b[0m\n",
      "\u001b[32m[I 2023-05-03 16:15:41,320]\u001b[0m Trial 22 finished with values: [0.9444444444444444, 0.0] and parameters: {'max_depth': 4, 'eta': 0.15710498915240007, 'subsample': 0.8605671419677465, 'lambda': 0.2964922079925493, 'alpha': 0.2454062009476099, 'scale_pos_weight': 1.2422695507168806}. \u001b[0m\n",
      "\u001b[32m[I 2023-05-03 16:15:41,808]\u001b[0m Trial 11 finished with values: [0.9444444444444444, 0.09773555397987366] and parameters: {'max_depth': 2, 'eta': 0.15825964403772122, 'subsample': 0.6622065829192456, 'lambda': 0.920160712617842, 'alpha': 0.8011636182755397, 'scale_pos_weight': 1.6961445595746152}. \u001b[0m\n",
      "\u001b[32m[I 2023-05-03 16:15:41,963]\u001b[0m Trial 15 finished with values: [0.9305555555555555, 0.012345503084361553] and parameters: {'max_depth': 3, 'eta': 0.20798751651266123, 'subsample': 0.8520451051430475, 'lambda': 0.8228522874396182, 'alpha': 0.8253484656361872, 'scale_pos_weight': 1.4573597324377174}. \u001b[0m\n",
      "\u001b[32m[I 2023-05-03 16:15:42,185]\u001b[0m Trial 21 finished with values: [0.9375, 0.13514481484889984] and parameters: {'max_depth': 6, 'eta': 0.10493445613189606, 'subsample': 0.5495265428366863, 'lambda': 0.4035014012311874, 'alpha': 0.491920977953596, 'scale_pos_weight': 0.49017717083699397}. \u001b[0m\n",
      "\u001b[32m[I 2023-05-03 16:15:42,752]\u001b[0m Trial 26 finished with values: [0.923611111111111, 0.19332154095172882] and parameters: {'max_depth': 4, 'eta': 0.29255596146479484, 'subsample': 0.6207444488187881, 'lambda': 0.007823291634886043, 'alpha': 0.9304725211001127, 'scale_pos_weight': 1.7072038524285222}. \u001b[0m\n",
      "\u001b[32m[I 2023-05-03 16:15:43,407]\u001b[0m Trial 31 finished with values: [0.923611111111111, 0.17848004400730133] and parameters: {'max_depth': 6, 'eta': 0.19444030423204953, 'subsample': 0.8782339256277316, 'lambda': 0.4827666257716603, 'alpha': 0.09015221830954157, 'scale_pos_weight': 0.9144438019005221}. \u001b[0m\n",
      "\u001b[32m[I 2023-05-03 16:15:43,960]\u001b[0m Trial 23 finished with values: [0.9305555555555555, 0.13359785079956055] and parameters: {'max_depth': 5, 'eta': 0.0850661258835804, 'subsample': 0.6331589263880211, 'lambda': 0.3497552569513497, 'alpha': 0.19172648244377677, 'scale_pos_weight': 0.9834531431024627}. \u001b[0m\n",
      "\u001b[32m[I 2023-05-03 16:15:43,974]\u001b[0m Trial 33 finished with values: [0.9375, 0.03332296386361122] and parameters: {'max_depth': 5, 'eta': 0.2931086741482212, 'subsample': 0.6905729637937312, 'lambda': 0.8052397120238391, 'alpha': 0.7904190017543354, 'scale_pos_weight': 0.9623120483099123}. \u001b[0m\n",
      "\u001b[32m[I 2023-05-03 16:15:44,630]\u001b[0m Trial 27 finished with values: [0.9444444444444444, 0.10527349263429642] and parameters: {'max_depth': 5, 'eta': 0.218623069208059, 'subsample': 0.7837975503349521, 'lambda': 0.9554759851211901, 'alpha': 0.7395868433249118, 'scale_pos_weight': 0.47400854970426054}. \u001b[0m\n",
      "\u001b[32m[I 2023-05-03 16:15:44,741]\u001b[0m Trial 32 finished with values: [0.9375, 0.10233066231012344] and parameters: {'max_depth': 5, 'eta': 0.1325016344006417, 'subsample': 0.6427955239539077, 'lambda': 0.8582271191255865, 'alpha': 0.0916859336939565, 'scale_pos_weight': 1.9288170519063834}. \u001b[0m\n",
      "\u001b[32m[I 2023-05-03 16:15:45,016]\u001b[0m Trial 28 finished with values: [0.9166666666666666, 0.1505797654390335] and parameters: {'max_depth': 6, 'eta': 0.06977822107793949, 'subsample': 0.5861186150729414, 'lambda': 0.4725603508623053, 'alpha': 0.10531953958016449, 'scale_pos_weight': 0.8038910193006368}. \u001b[0m\n",
      "\u001b[32m[I 2023-05-03 16:15:45,122]\u001b[0m Trial 37 finished with values: [0.9305555555555555, 0.09114500135183334] and parameters: {'max_depth': 3, 'eta': 0.1664973153629054, 'subsample': 0.6679676934917448, 'lambda': 0.3784012198914042, 'alpha': 0.679166416077915, 'scale_pos_weight': 0.9374651537723979}. \u001b[0m\n",
      "\u001b[32m[I 2023-05-03 16:15:45,242]\u001b[0m Trial 10 finished with values: [0.9375, 0.09972482174634933] and parameters: {'max_depth': 2, 'eta': 0.02734146249623297, 'subsample': 0.8797797100236087, 'lambda': 0.0567529580698789, 'alpha': 0.05347402354802533, 'scale_pos_weight': 1.0833697757717278}. \u001b[0m\n",
      "\u001b[32m[I 2023-05-03 16:15:45,540]\u001b[0m Trial 2 finished with values: [0.9513888888888888, 0.02319459058344364] and parameters: {'max_depth': 2, 'eta': 0.07414537926486149, 'subsample': 0.861502242236152, 'lambda': 0.6810154486816702, 'alpha': 0.910004387442997, 'scale_pos_weight': 1.2146723803595088}. \u001b[0m\n"
     ]
    }
   ],
   "source": [
    "from utils_aa import * \n",
    "\n",
    "\n",
    "#study_name: str = \"alejandro_resampled_data_BorderlineSMOTE\"\n",
    "\n",
    "study_BorderlineSMOTE = optuna.create_study(\n",
    "    #study_name=study_name,\n",
    "    #storage=\"sqlite:///alejandro.db\",\n",
    "    directions=[\"maximize\", \"maximize\"],\n",
    "    # sampler=optuna.samplers.TPESampler(),  # NSGAIISampler(),\n",
    "    sampler=optuna.samplers.NSGAIISampler(), # NSGAIISampler(),\n",
    "    load_if_exists=True,\n",
    ")\n",
    "\n",
    "study_SVMSMOTE = optuna.create_study(\n",
    "    #study_name=study_name,\n",
    "    #storage=\"sqlite:///alejandro.db\",\n",
    "    directions=[\"maximize\", \"maximize\"],\n",
    "    # sampler=optuna.samplers.TPESampler(),  # NSGAIISampler(),\n",
    "    sampler=optuna.samplers.NSGAIISampler(), # NSGAIISampler(),\n",
    "    load_if_exists=True,\n",
    ")\n",
    "\n",
    "\n",
    "study_ADASYN = optuna.create_study(\n",
    "    #study_name=study_name,\n",
    "    #storage=\"sqlite:///alejandro.db\",\n",
    "    directions=[\"maximize\", \"maximize\"],\n",
    "    # sampler=optuna.samplers.TPESampler(),  # NSGAIISampler(),\n",
    "    sampler=optuna.samplers.NSGAIISampler(), # NSGAIISampler(),\n",
    "    load_if_exists=True,\n",
    ")\n",
    "\n",
    "\n",
    "\n",
    "########################\n",
    "study_BorderlineSMOTE.optimize(lambda trial: objective(trial, \"_best_artifact/optuna/resampled_data_BorderlineSMOTE.csv\",                   finetunning = True), n_trials=500, n_jobs=-1)\n",
    "study_SVMSMOTE.optimize(lambda trial: objective(trial, \"_best_artifact/optuna/resampled_data_SVMSMOTE.csv\",                   finetunning = True), n_trials=500, n_jobs=-1)\n",
    "study_ADASYN.optimize(lambda trial: objective(trial, \"_best_artifact/optuna/resampled_data_ADASYN.csv\",                   finetunning = True), n_trials=500, n_jobs=-1)\n",
    "###################\n",
    "\n",
    "study_BorderlineSMOTE_sampling = optuna.create_study(\n",
    "    #study_name=study_name,\n",
    "    #storage=\"sqlite:///alejandro.db\",\n",
    "    directions=[\"maximize\", \"maximize\"],\n",
    "    # sampler=optuna.samplers.TPESampler(),  # NSGAIISampler(),\n",
    "    sampler=optuna.samplers.NSGAIISampler(), # NSGAIISampler(),\n",
    "    load_if_exists=True,\n",
    ")\n",
    "\n",
    "study_SVMSMOTE_sampling = optuna.create_study(\n",
    "    #study_name=study_name,\n",
    "    #storage=\"sqlite:///alejandro.db\",\n",
    "    directions=[\"maximize\", \"maximize\"],\n",
    "    # sampler=optuna.samplers.TPESampler(),  # NSGAIISampler(),\n",
    "    sampler=optuna.samplers.NSGAIISampler(), # NSGAIISampler(),\n",
    "    load_if_exists=True,\n",
    ")\n",
    "\n",
    "\n",
    "\n",
    "study_ADASYN_sampling = optuna.create_study(\n",
    "    #study_name=study_name,\n",
    "    #storage=\"sqlite:///alejandro.db\",\n",
    "    directions=[\"maximize\", \"maximize\"],\n",
    "    # sampler=optuna.samplers.TPESampler(),  # NSGAIISampler(),\n",
    "    sampler=optuna.samplers.NSGAIISampler(), # NSGAIISampler(),\n",
    "    load_if_exists=True,\n",
    ")\n",
    "\n",
    "\n",
    "study_ADASYN_sampling.optimize(lambda trial: objective(trial, \"_best_artifact/optuna/data.csv\",  tuned_params = get_median_dict(study_ADASYN),                    finetunning = False), n_trials=500, n_jobs=-1)\n",
    "study_BorderlineSMOTE_sampling.optimize(lambda trial: objective(trial, \"_best_artifact/optuna/data.csv\",  tuned_params = get_median_dict(study_BorderlineSMOTE),  finetunning = False), n_trials=500, n_jobs=-1)\n",
    "study_SVMSMOTE_sampling.optimize(lambda trial: objective(trial, \"_best_artifact/optuna/data.csv\",  tuned_params = get_median_dict(study_SVMSMOTE),                finetunning = False), n_trials=500, n_jobs=-1)\n",
    "\n",
    "\n"
   ]
  },
  {
   "cell_type": "code",
   "execution_count": 9,
   "metadata": {},
   "outputs": [
    {
     "data": {
      "application/vnd.plotly.v1+json": {
       "config": {
        "plotlyServerURL": "https://plot.ly"
       },
       "data": [
        {
         "marker": {
          "line": {
           "color": "black",
           "width": 1
          },
          "opacity": 0.5,
          "size": 8,
          "symbol": "circle"
         },
         "mode": "markers",
         "name": "Suboptimal",
         "type": "scatter",
         "x": [
          0.8461538461538461,
          0.8653846153846154,
          0.3076923076923077,
          0.6944444444444444,
          0.861111111111111,
          0.6944444444444444,
          0.888888888888889,
          0.7777777777777778,
          0.6944444444444445,
          0.9230769230769231,
          0.6153846153846154,
          0.888888888888889,
          0.7307692307692307,
          0.75,
          0.8055555555555555,
          0.9444444444444444,
          0.30769230769230765,
          0.8611111111111112,
          0.6923076923076923,
          0.6388888888888888,
          0.7307692307692307,
          0.9615384615384616,
          0.75,
          0.9230769230769231,
          0.5416666666666666,
          0.8055555555555555,
          0.8076923076923076,
          0.8472222222222222,
          0.5555555555555556,
          0.8076923076923077,
          0.8333333333333334,
          0.6923076923076923,
          0.8846153846153846,
          0.7307692307692307,
          0.6923076923076923,
          0.611111111111111,
          0.5769230769230769,
          0.8611111111111112,
          0.7500000000000001,
          0.8076923076923077,
          0.6944444444444444,
          0.888888888888889,
          0.6923076923076923,
          0.75,
          0.7692307692307692,
          0.9444444444444444,
          0.8333333333333333
         ],
         "y": [
          0,
          0,
          0,
          0,
          0,
          0,
          0,
          0.04867061600089073,
          0,
          0,
          0.16655302047729492,
          0,
          0,
          0.08633168786764145,
          0,
          0,
          0,
          0,
          0,
          0,
          0,
          0,
          0,
          0,
          0,
          0.06148909032344818,
          0.03371504694223404,
          0,
          0,
          0,
          0,
          0,
          0.05467167869210243,
          0.15530332922935486,
          0,
          0,
          0.06428918987512589,
          0,
          0,
          0,
          0.05197129771113396,
          0.02554040215909481,
          0,
          0,
          0,
          0,
          0
         ]
        },
        {
         "marker": {
          "line": {
           "color": "black",
           "width": 1
          },
          "opacity": 0.5,
          "size": 8,
          "symbol": "square"
         },
         "mode": "markers",
         "name": "Pareto frontier",
         "type": "scatter",
         "x": [
          0.9166666666666667,
          0.8846153846153847,
          0.9722222222222222
         ],
         "y": [
          0.07668089866638184,
          0.1826063096523285,
          0
         ]
        }
       ],
       "layout": {
        "font": {
         "size": 18
        },
        "height": 400,
        "legend": {
         "bgcolor": "rgba(255, 255, 255, 0)",
         "orientation": "h",
         "x": 0.3,
         "y": 1.1
        },
        "margin": {
         "b": 0,
         "l": 0,
         "r": 0,
         "t": 0
        },
        "shapes": [
         {
          "fillcolor": "darkgreen",
          "layer": "below",
          "line": {
           "width": 0
          },
          "opacity": 0.2,
          "type": "rect",
          "x0": 0.8,
          "x1": 0.9722222222222222,
          "xref": "x",
          "y0": 0,
          "y1": 1,
          "yref": "paper"
         }
        ],
        "template": {
         "data": {
          "bar": [
           {
            "error_x": {
             "color": "#2a3f5f"
            },
            "error_y": {
             "color": "#2a3f5f"
            },
            "marker": {
             "line": {
              "color": "#E5ECF6",
              "width": 0.5
             },
             "pattern": {
              "fillmode": "overlay",
              "size": 10,
              "solidity": 0.2
             }
            },
            "type": "bar"
           }
          ],
          "barpolar": [
           {
            "marker": {
             "line": {
              "color": "#E5ECF6",
              "width": 0.5
             },
             "pattern": {
              "fillmode": "overlay",
              "size": 10,
              "solidity": 0.2
             }
            },
            "type": "barpolar"
           }
          ],
          "carpet": [
           {
            "aaxis": {
             "endlinecolor": "#2a3f5f",
             "gridcolor": "white",
             "linecolor": "white",
             "minorgridcolor": "white",
             "startlinecolor": "#2a3f5f"
            },
            "baxis": {
             "endlinecolor": "#2a3f5f",
             "gridcolor": "white",
             "linecolor": "white",
             "minorgridcolor": "white",
             "startlinecolor": "#2a3f5f"
            },
            "type": "carpet"
           }
          ],
          "choropleth": [
           {
            "colorbar": {
             "outlinewidth": 0,
             "ticks": ""
            },
            "type": "choropleth"
           }
          ],
          "contour": [
           {
            "colorbar": {
             "outlinewidth": 0,
             "ticks": ""
            },
            "colorscale": [
             [
              0,
              "#0d0887"
             ],
             [
              0.1111111111111111,
              "#46039f"
             ],
             [
              0.2222222222222222,
              "#7201a8"
             ],
             [
              0.3333333333333333,
              "#9c179e"
             ],
             [
              0.4444444444444444,
              "#bd3786"
             ],
             [
              0.5555555555555556,
              "#d8576b"
             ],
             [
              0.6666666666666666,
              "#ed7953"
             ],
             [
              0.7777777777777778,
              "#fb9f3a"
             ],
             [
              0.8888888888888888,
              "#fdca26"
             ],
             [
              1,
              "#f0f921"
             ]
            ],
            "type": "contour"
           }
          ],
          "contourcarpet": [
           {
            "colorbar": {
             "outlinewidth": 0,
             "ticks": ""
            },
            "type": "contourcarpet"
           }
          ],
          "heatmap": [
           {
            "colorbar": {
             "outlinewidth": 0,
             "ticks": ""
            },
            "colorscale": [
             [
              0,
              "#0d0887"
             ],
             [
              0.1111111111111111,
              "#46039f"
             ],
             [
              0.2222222222222222,
              "#7201a8"
             ],
             [
              0.3333333333333333,
              "#9c179e"
             ],
             [
              0.4444444444444444,
              "#bd3786"
             ],
             [
              0.5555555555555556,
              "#d8576b"
             ],
             [
              0.6666666666666666,
              "#ed7953"
             ],
             [
              0.7777777777777778,
              "#fb9f3a"
             ],
             [
              0.8888888888888888,
              "#fdca26"
             ],
             [
              1,
              "#f0f921"
             ]
            ],
            "type": "heatmap"
           }
          ],
          "heatmapgl": [
           {
            "colorbar": {
             "outlinewidth": 0,
             "ticks": ""
            },
            "colorscale": [
             [
              0,
              "#0d0887"
             ],
             [
              0.1111111111111111,
              "#46039f"
             ],
             [
              0.2222222222222222,
              "#7201a8"
             ],
             [
              0.3333333333333333,
              "#9c179e"
             ],
             [
              0.4444444444444444,
              "#bd3786"
             ],
             [
              0.5555555555555556,
              "#d8576b"
             ],
             [
              0.6666666666666666,
              "#ed7953"
             ],
             [
              0.7777777777777778,
              "#fb9f3a"
             ],
             [
              0.8888888888888888,
              "#fdca26"
             ],
             [
              1,
              "#f0f921"
             ]
            ],
            "type": "heatmapgl"
           }
          ],
          "histogram": [
           {
            "marker": {
             "pattern": {
              "fillmode": "overlay",
              "size": 10,
              "solidity": 0.2
             }
            },
            "type": "histogram"
           }
          ],
          "histogram2d": [
           {
            "colorbar": {
             "outlinewidth": 0,
             "ticks": ""
            },
            "colorscale": [
             [
              0,
              "#0d0887"
             ],
             [
              0.1111111111111111,
              "#46039f"
             ],
             [
              0.2222222222222222,
              "#7201a8"
             ],
             [
              0.3333333333333333,
              "#9c179e"
             ],
             [
              0.4444444444444444,
              "#bd3786"
             ],
             [
              0.5555555555555556,
              "#d8576b"
             ],
             [
              0.6666666666666666,
              "#ed7953"
             ],
             [
              0.7777777777777778,
              "#fb9f3a"
             ],
             [
              0.8888888888888888,
              "#fdca26"
             ],
             [
              1,
              "#f0f921"
             ]
            ],
            "type": "histogram2d"
           }
          ],
          "histogram2dcontour": [
           {
            "colorbar": {
             "outlinewidth": 0,
             "ticks": ""
            },
            "colorscale": [
             [
              0,
              "#0d0887"
             ],
             [
              0.1111111111111111,
              "#46039f"
             ],
             [
              0.2222222222222222,
              "#7201a8"
             ],
             [
              0.3333333333333333,
              "#9c179e"
             ],
             [
              0.4444444444444444,
              "#bd3786"
             ],
             [
              0.5555555555555556,
              "#d8576b"
             ],
             [
              0.6666666666666666,
              "#ed7953"
             ],
             [
              0.7777777777777778,
              "#fb9f3a"
             ],
             [
              0.8888888888888888,
              "#fdca26"
             ],
             [
              1,
              "#f0f921"
             ]
            ],
            "type": "histogram2dcontour"
           }
          ],
          "mesh3d": [
           {
            "colorbar": {
             "outlinewidth": 0,
             "ticks": ""
            },
            "type": "mesh3d"
           }
          ],
          "parcoords": [
           {
            "line": {
             "colorbar": {
              "outlinewidth": 0,
              "ticks": ""
             }
            },
            "type": "parcoords"
           }
          ],
          "pie": [
           {
            "automargin": true,
            "type": "pie"
           }
          ],
          "scatter": [
           {
            "fillpattern": {
             "fillmode": "overlay",
             "size": 10,
             "solidity": 0.2
            },
            "type": "scatter"
           }
          ],
          "scatter3d": [
           {
            "line": {
             "colorbar": {
              "outlinewidth": 0,
              "ticks": ""
             }
            },
            "marker": {
             "colorbar": {
              "outlinewidth": 0,
              "ticks": ""
             }
            },
            "type": "scatter3d"
           }
          ],
          "scattercarpet": [
           {
            "marker": {
             "colorbar": {
              "outlinewidth": 0,
              "ticks": ""
             }
            },
            "type": "scattercarpet"
           }
          ],
          "scattergeo": [
           {
            "marker": {
             "colorbar": {
              "outlinewidth": 0,
              "ticks": ""
             }
            },
            "type": "scattergeo"
           }
          ],
          "scattergl": [
           {
            "marker": {
             "colorbar": {
              "outlinewidth": 0,
              "ticks": ""
             }
            },
            "type": "scattergl"
           }
          ],
          "scattermapbox": [
           {
            "marker": {
             "colorbar": {
              "outlinewidth": 0,
              "ticks": ""
             }
            },
            "type": "scattermapbox"
           }
          ],
          "scatterpolar": [
           {
            "marker": {
             "colorbar": {
              "outlinewidth": 0,
              "ticks": ""
             }
            },
            "type": "scatterpolar"
           }
          ],
          "scatterpolargl": [
           {
            "marker": {
             "colorbar": {
              "outlinewidth": 0,
              "ticks": ""
             }
            },
            "type": "scatterpolargl"
           }
          ],
          "scatterternary": [
           {
            "marker": {
             "colorbar": {
              "outlinewidth": 0,
              "ticks": ""
             }
            },
            "type": "scatterternary"
           }
          ],
          "surface": [
           {
            "colorbar": {
             "outlinewidth": 0,
             "ticks": ""
            },
            "colorscale": [
             [
              0,
              "#0d0887"
             ],
             [
              0.1111111111111111,
              "#46039f"
             ],
             [
              0.2222222222222222,
              "#7201a8"
             ],
             [
              0.3333333333333333,
              "#9c179e"
             ],
             [
              0.4444444444444444,
              "#bd3786"
             ],
             [
              0.5555555555555556,
              "#d8576b"
             ],
             [
              0.6666666666666666,
              "#ed7953"
             ],
             [
              0.7777777777777778,
              "#fb9f3a"
             ],
             [
              0.8888888888888888,
              "#fdca26"
             ],
             [
              1,
              "#f0f921"
             ]
            ],
            "type": "surface"
           }
          ],
          "table": [
           {
            "cells": {
             "fill": {
              "color": "#EBF0F8"
             },
             "line": {
              "color": "white"
             }
            },
            "header": {
             "fill": {
              "color": "#C8D4E3"
             },
             "line": {
              "color": "white"
             }
            },
            "type": "table"
           }
          ]
         },
         "layout": {
          "annotationdefaults": {
           "arrowcolor": "#2a3f5f",
           "arrowhead": 0,
           "arrowwidth": 1
          },
          "autotypenumbers": "strict",
          "coloraxis": {
           "colorbar": {
            "outlinewidth": 0,
            "ticks": ""
           }
          },
          "colorscale": {
           "diverging": [
            [
             0,
             "#8e0152"
            ],
            [
             0.1,
             "#c51b7d"
            ],
            [
             0.2,
             "#de77ae"
            ],
            [
             0.3,
             "#f1b6da"
            ],
            [
             0.4,
             "#fde0ef"
            ],
            [
             0.5,
             "#f7f7f7"
            ],
            [
             0.6,
             "#e6f5d0"
            ],
            [
             0.7,
             "#b8e186"
            ],
            [
             0.8,
             "#7fbc41"
            ],
            [
             0.9,
             "#4d9221"
            ],
            [
             1,
             "#276419"
            ]
           ],
           "sequential": [
            [
             0,
             "#0d0887"
            ],
            [
             0.1111111111111111,
             "#46039f"
            ],
            [
             0.2222222222222222,
             "#7201a8"
            ],
            [
             0.3333333333333333,
             "#9c179e"
            ],
            [
             0.4444444444444444,
             "#bd3786"
            ],
            [
             0.5555555555555556,
             "#d8576b"
            ],
            [
             0.6666666666666666,
             "#ed7953"
            ],
            [
             0.7777777777777778,
             "#fb9f3a"
            ],
            [
             0.8888888888888888,
             "#fdca26"
            ],
            [
             1,
             "#f0f921"
            ]
           ],
           "sequentialminus": [
            [
             0,
             "#0d0887"
            ],
            [
             0.1111111111111111,
             "#46039f"
            ],
            [
             0.2222222222222222,
             "#7201a8"
            ],
            [
             0.3333333333333333,
             "#9c179e"
            ],
            [
             0.4444444444444444,
             "#bd3786"
            ],
            [
             0.5555555555555556,
             "#d8576b"
            ],
            [
             0.6666666666666666,
             "#ed7953"
            ],
            [
             0.7777777777777778,
             "#fb9f3a"
            ],
            [
             0.8888888888888888,
             "#fdca26"
            ],
            [
             1,
             "#f0f921"
            ]
           ]
          },
          "colorway": [
           "#636efa",
           "#EF553B",
           "#00cc96",
           "#ab63fa",
           "#FFA15A",
           "#19d3f3",
           "#FF6692",
           "#B6E880",
           "#FF97FF",
           "#FECB52"
          ],
          "font": {
           "color": "#2a3f5f"
          },
          "geo": {
           "bgcolor": "white",
           "lakecolor": "white",
           "landcolor": "#E5ECF6",
           "showlakes": true,
           "showland": true,
           "subunitcolor": "white"
          },
          "hoverlabel": {
           "align": "left"
          },
          "hovermode": "closest",
          "mapbox": {
           "style": "light"
          },
          "paper_bgcolor": "white",
          "plot_bgcolor": "#E5ECF6",
          "polar": {
           "angularaxis": {
            "gridcolor": "white",
            "linecolor": "white",
            "ticks": ""
           },
           "bgcolor": "#E5ECF6",
           "radialaxis": {
            "gridcolor": "white",
            "linecolor": "white",
            "ticks": ""
           }
          },
          "scene": {
           "xaxis": {
            "backgroundcolor": "#E5ECF6",
            "gridcolor": "white",
            "gridwidth": 2,
            "linecolor": "white",
            "showbackground": true,
            "ticks": "",
            "zerolinecolor": "white"
           },
           "yaxis": {
            "backgroundcolor": "#E5ECF6",
            "gridcolor": "white",
            "gridwidth": 2,
            "linecolor": "white",
            "showbackground": true,
            "ticks": "",
            "zerolinecolor": "white"
           },
           "zaxis": {
            "backgroundcolor": "#E5ECF6",
            "gridcolor": "white",
            "gridwidth": 2,
            "linecolor": "white",
            "showbackground": true,
            "ticks": "",
            "zerolinecolor": "white"
           }
          },
          "shapedefaults": {
           "line": {
            "color": "#2a3f5f"
           }
          },
          "ternary": {
           "aaxis": {
            "gridcolor": "white",
            "linecolor": "white",
            "ticks": ""
           },
           "baxis": {
            "gridcolor": "white",
            "linecolor": "white",
            "ticks": ""
           },
           "bgcolor": "#E5ECF6",
           "caxis": {
            "gridcolor": "white",
            "linecolor": "white",
            "ticks": ""
           }
          },
          "title": {
           "x": 0.05
          },
          "xaxis": {
           "automargin": true,
           "gridcolor": "white",
           "linecolor": "white",
           "ticks": "",
           "title": {
            "standoff": 15
           },
           "zerolinecolor": "white",
           "zerolinewidth": 2
          },
          "yaxis": {
           "automargin": true,
           "gridcolor": "white",
           "linecolor": "white",
           "ticks": "",
           "title": {
            "standoff": 15
           },
           "zerolinecolor": "white",
           "zerolinewidth": 2
          }
         }
        },
        "width": 900,
        "xaxis": {
         "range": [
          -0.05,
          1.05
         ],
         "title": {
          "font": {
           "size": 19
          },
          "text": "Model performance (AUC)"
         }
        },
        "yaxis": {
         "range": [
          -0.05,
          0.85
         ],
         "title": {
          "font": {
           "size": 19
          },
          "text": "Phe importance (Shapley value)"
         }
        }
       }
      }
     },
     "metadata": {},
     "output_type": "display_data"
    },
    {
     "name": "stdout",
     "output_type": "stream",
     "text": [
      "{'best_iteration': '34', 'best_ntree_limit': '35', 'best_score': '0.1833859035745263'}\n",
      "Phe_value :  0.0 \t Phe_ranking :  33.0\n",
      "\n",
      "\n",
      "{'best_iteration': '63', 'best_ntree_limit': '64', 'best_score': '0.2038990984670818'}\n",
      "Phe_value :  0.076884404 \t Phe_ranking :  13.0\n",
      "\n",
      "\n",
      "{'best_iteration': '15', 'best_ntree_limit': '16', 'best_score': '0.3753696259111166'}\n",
      "Phe_value :  0.12487934 \t Phe_ranking :  9.0\n",
      "\n",
      "\n"
     ]
    },
    {
     "data": {
      "application/vnd.plotly.v1+json": {
       "config": {
        "plotlyServerURL": "https://plot.ly"
       },
       "data": [
        {
         "alignmentgroup": "True",
         "hovertemplate": "variable=6277.0<br>index=%{x}<br>value=%{y}<extra></extra>",
         "legendgroup": "6277.0",
         "marker": {
          "color": "#F8766D",
          "pattern": {
           "shape": ""
          }
         },
         "name": "6277.0",
         "offsetgroup": "6277.0",
         "orientation": "v",
         "showlegend": true,
         "textposition": "auto",
         "type": "bar",
         "x": [
          "Género",
          "aleator",
          "IMC",
          "Circunferencia de cintura",
          "ATPII/AHA/IDF",
          "fenilalax",
          "ohd3x",
          "tirosinax",
          "Alanina",
          "Aspartato",
          "Glutamato",
          "Leucina",
          "Ornitina",
          "Prolina",
          "Tirosina",
          "Carnitina libre",
          "Propionilcarnitina",
          "Isovalerilcarnitina",
          "Tiglilcarnitina",
          "Me-Glutarilcarnitina",
          "Decanoilcarnitina",
          "Tetradecanoilcarnitina",
          "3-OH-Isovalerilcarnitina",
          "3-OH-Palmitoilcarnitina",
          "Linoleoilcarnitina",
          "Arginina",
          "Citrulina",
          "Glicina",
          "Metionina",
          "Fenilalanina",
          "Succinilacetona",
          "Valina",
          "Acetilcarnitina",
          "Butirilcarnitina",
          "Glutarilcarnitina",
          "Hexanoilcarnitina",
          "Octanoilcarnitina",
          "Dodecanoilcarnitina",
          "Tetradecenoilcarnitina",
          "Palmitoilcarnitina",
          "Estearoilcarnitina",
          "3-OH-Linoleoilcarnitina",
          "PROTEINAProm_(G)",
          "%_proteina_natural",
          "%_Proteina_SP"
         ],
         "xaxis": "x",
         "y": [
          0.033102959394454956,
          0,
          0.4678809642791748,
          0.1722439080476761,
          0,
          0,
          0,
          0,
          0,
          0.16232745349407196,
          0.04585018381476402,
          0,
          0.5708500742912292,
          0,
          0.06477799266576767,
          0.41936194896698,
          0,
          0.5660232901573181,
          0,
          0.03674275055527687,
          0.030679404735565186,
          0,
          0.1408400535583496,
          0,
          0,
          0,
          0,
          0,
          0.05326922610402107,
          0,
          0,
          0.36294612288475037,
          0.14669734239578247,
          0,
          0,
          0.5347325205802917,
          0,
          0.18079830706119537,
          0.060547370463609695,
          0,
          0.7963630557060242,
          0,
          0.03784937039017677,
          0,
          0
         ],
         "yaxis": "y"
        },
        {
         "alignmentgroup": "True",
         "hovertemplate": "variable=604.0<br>index=%{x}<br>value=%{y}<extra></extra>",
         "legendgroup": "604.0",
         "marker": {
          "color": "#A3A500",
          "pattern": {
           "shape": ""
          }
         },
         "name": "604.0",
         "offsetgroup": "604.0",
         "orientation": "v",
         "showlegend": true,
         "textposition": "auto",
         "type": "bar",
         "x": [
          "Género",
          "aleator",
          "IMC",
          "Circunferencia de cintura",
          "ATPII/AHA/IDF",
          "fenilalax",
          "ohd3x",
          "tirosinax",
          "Alanina",
          "Aspartato",
          "Glutamato",
          "Leucina",
          "Ornitina",
          "Prolina",
          "Tirosina",
          "Carnitina libre",
          "Propionilcarnitina",
          "Isovalerilcarnitina",
          "Tiglilcarnitina",
          "Me-Glutarilcarnitina",
          "Decanoilcarnitina",
          "Tetradecanoilcarnitina",
          "3-OH-Isovalerilcarnitina",
          "3-OH-Palmitoilcarnitina",
          "Linoleoilcarnitina",
          "Arginina",
          "Citrulina",
          "Glicina",
          "Metionina",
          "Fenilalanina",
          "Succinilacetona",
          "Valina",
          "Acetilcarnitina",
          "Butirilcarnitina",
          "Glutarilcarnitina",
          "Hexanoilcarnitina",
          "Octanoilcarnitina",
          "Dodecanoilcarnitina",
          "Tetradecenoilcarnitina",
          "Palmitoilcarnitina",
          "Estearoilcarnitina",
          "3-OH-Linoleoilcarnitina",
          "PROTEINAProm_(G)",
          "%_proteina_natural",
          "%_Proteina_SP"
         ],
         "xaxis": "x",
         "y": [
          0.13431251049041748,
          0.03293081000447273,
          1.0652310848236084,
          0,
          0,
          0.07688440382480621,
          0.2904530465602875,
          0,
          0.22487248480319977,
          0,
          0,
          0,
          0.4971597194671631,
          0.06130209565162659,
          0.040887098759412766,
          0.11284876614809036,
          0,
          0,
          0,
          0,
          0.07579266279935837,
          0,
          0,
          0.10155659914016724,
          0,
          0,
          0.5452309250831604,
          0,
          0,
          0,
          0,
          0,
          0.47672513127326965,
          0.05721546709537506,
          0,
          0,
          0,
          0.09450479596853256,
          0.1495467573404312,
          0,
          0.6777322888374329,
          0,
          0.05354258045554161,
          0,
          0
         ],
         "yaxis": "y"
        },
        {
         "alignmentgroup": "True",
         "hovertemplate": "variable=4994.0<br>index=%{x}<br>value=%{y}<extra></extra>",
         "legendgroup": "4994.0",
         "marker": {
          "color": "#00BF7D",
          "pattern": {
           "shape": ""
          }
         },
         "name": "4994.0",
         "offsetgroup": "4994.0",
         "orientation": "v",
         "showlegend": true,
         "textposition": "auto",
         "type": "bar",
         "x": [
          "Género",
          "aleator",
          "IMC",
          "Circunferencia de cintura",
          "ATPII/AHA/IDF",
          "fenilalax",
          "ohd3x",
          "tirosinax",
          "Alanina",
          "Aspartato",
          "Glutamato",
          "Leucina",
          "Ornitina",
          "Prolina",
          "Tirosina",
          "Carnitina libre",
          "Propionilcarnitina",
          "Isovalerilcarnitina",
          "Tiglilcarnitina",
          "Me-Glutarilcarnitina",
          "Decanoilcarnitina",
          "Tetradecanoilcarnitina",
          "3-OH-Isovalerilcarnitina",
          "3-OH-Palmitoilcarnitina",
          "Linoleoilcarnitina",
          "Arginina",
          "Citrulina",
          "Glicina",
          "Metionina",
          "Fenilalanina",
          "Succinilacetona",
          "Valina",
          "Acetilcarnitina",
          "Butirilcarnitina",
          "Glutarilcarnitina",
          "Hexanoilcarnitina",
          "Octanoilcarnitina",
          "Dodecanoilcarnitina",
          "Tetradecenoilcarnitina",
          "Palmitoilcarnitina",
          "Estearoilcarnitina",
          "3-OH-Linoleoilcarnitina",
          "PROTEINAProm_(G)",
          "%_proteina_natural",
          "%_Proteina_SP"
         ],
         "xaxis": "x",
         "y": [
          0,
          0,
          0.4947476089000702,
          0.04959549009799957,
          0,
          0.12487933784723282,
          0.5047516226768494,
          0,
          0,
          0.10686894506216049,
          0.4019280672073364,
          0.03839988633990288,
          0.1660323441028595,
          0.07489737123250961,
          0,
          0.021208636462688446,
          0,
          0,
          0.046706464141607285,
          0,
          0.052126336842775345,
          0,
          0,
          0.36412206292152405,
          0,
          0,
          0.1220223680138588,
          0,
          0,
          0,
          0.0598822645843029,
          0.24698813259601593,
          0.04799199104309082,
          0.027536729350686073,
          0,
          0.3273448050022125,
          0,
          0,
          0,
          0.07311801612377167,
          0.7411038279533386,
          0,
          0.05271724984049797,
          0,
          0
         ],
         "yaxis": "y"
        }
       ],
       "layout": {
        "barmode": "group",
        "legend": {
         "title": {
          "text": "Model"
         },
         "tracegroupgap": 0
        },
        "margin": {
         "t": 60
        },
        "template": {
         "data": {
          "bar": [
           {
            "error_x": {
             "color": "rgb(51,51,51)"
            },
            "error_y": {
             "color": "rgb(51,51,51)"
            },
            "marker": {
             "line": {
              "color": "rgb(237,237,237)",
              "width": 0.5
             },
             "pattern": {
              "fillmode": "overlay",
              "size": 10,
              "solidity": 0.2
             }
            },
            "type": "bar"
           }
          ],
          "barpolar": [
           {
            "marker": {
             "line": {
              "color": "rgb(237,237,237)",
              "width": 0.5
             },
             "pattern": {
              "fillmode": "overlay",
              "size": 10,
              "solidity": 0.2
             }
            },
            "type": "barpolar"
           }
          ],
          "carpet": [
           {
            "aaxis": {
             "endlinecolor": "rgb(51,51,51)",
             "gridcolor": "white",
             "linecolor": "white",
             "minorgridcolor": "white",
             "startlinecolor": "rgb(51,51,51)"
            },
            "baxis": {
             "endlinecolor": "rgb(51,51,51)",
             "gridcolor": "white",
             "linecolor": "white",
             "minorgridcolor": "white",
             "startlinecolor": "rgb(51,51,51)"
            },
            "type": "carpet"
           }
          ],
          "choropleth": [
           {
            "colorbar": {
             "outlinewidth": 0,
             "tickcolor": "rgb(237,237,237)",
             "ticklen": 6,
             "ticks": "inside"
            },
            "type": "choropleth"
           }
          ],
          "contour": [
           {
            "colorbar": {
             "outlinewidth": 0,
             "tickcolor": "rgb(237,237,237)",
             "ticklen": 6,
             "ticks": "inside"
            },
            "colorscale": [
             [
              0,
              "rgb(20,44,66)"
             ],
             [
              1,
              "rgb(90,179,244)"
             ]
            ],
            "type": "contour"
           }
          ],
          "contourcarpet": [
           {
            "colorbar": {
             "outlinewidth": 0,
             "tickcolor": "rgb(237,237,237)",
             "ticklen": 6,
             "ticks": "inside"
            },
            "type": "contourcarpet"
           }
          ],
          "heatmap": [
           {
            "colorbar": {
             "outlinewidth": 0,
             "tickcolor": "rgb(237,237,237)",
             "ticklen": 6,
             "ticks": "inside"
            },
            "colorscale": [
             [
              0,
              "rgb(20,44,66)"
             ],
             [
              1,
              "rgb(90,179,244)"
             ]
            ],
            "type": "heatmap"
           }
          ],
          "heatmapgl": [
           {
            "colorbar": {
             "outlinewidth": 0,
             "tickcolor": "rgb(237,237,237)",
             "ticklen": 6,
             "ticks": "inside"
            },
            "colorscale": [
             [
              0,
              "rgb(20,44,66)"
             ],
             [
              1,
              "rgb(90,179,244)"
             ]
            ],
            "type": "heatmapgl"
           }
          ],
          "histogram": [
           {
            "marker": {
             "pattern": {
              "fillmode": "overlay",
              "size": 10,
              "solidity": 0.2
             }
            },
            "type": "histogram"
           }
          ],
          "histogram2d": [
           {
            "colorbar": {
             "outlinewidth": 0,
             "tickcolor": "rgb(237,237,237)",
             "ticklen": 6,
             "ticks": "inside"
            },
            "colorscale": [
             [
              0,
              "rgb(20,44,66)"
             ],
             [
              1,
              "rgb(90,179,244)"
             ]
            ],
            "type": "histogram2d"
           }
          ],
          "histogram2dcontour": [
           {
            "colorbar": {
             "outlinewidth": 0,
             "tickcolor": "rgb(237,237,237)",
             "ticklen": 6,
             "ticks": "inside"
            },
            "colorscale": [
             [
              0,
              "rgb(20,44,66)"
             ],
             [
              1,
              "rgb(90,179,244)"
             ]
            ],
            "type": "histogram2dcontour"
           }
          ],
          "mesh3d": [
           {
            "colorbar": {
             "outlinewidth": 0,
             "tickcolor": "rgb(237,237,237)",
             "ticklen": 6,
             "ticks": "inside"
            },
            "type": "mesh3d"
           }
          ],
          "parcoords": [
           {
            "line": {
             "colorbar": {
              "outlinewidth": 0,
              "tickcolor": "rgb(237,237,237)",
              "ticklen": 6,
              "ticks": "inside"
             }
            },
            "type": "parcoords"
           }
          ],
          "pie": [
           {
            "automargin": true,
            "type": "pie"
           }
          ],
          "scatter": [
           {
            "fillpattern": {
             "fillmode": "overlay",
             "size": 10,
             "solidity": 0.2
            },
            "type": "scatter"
           }
          ],
          "scatter3d": [
           {
            "line": {
             "colorbar": {
              "outlinewidth": 0,
              "tickcolor": "rgb(237,237,237)",
              "ticklen": 6,
              "ticks": "inside"
             }
            },
            "marker": {
             "colorbar": {
              "outlinewidth": 0,
              "tickcolor": "rgb(237,237,237)",
              "ticklen": 6,
              "ticks": "inside"
             }
            },
            "type": "scatter3d"
           }
          ],
          "scattercarpet": [
           {
            "marker": {
             "colorbar": {
              "outlinewidth": 0,
              "tickcolor": "rgb(237,237,237)",
              "ticklen": 6,
              "ticks": "inside"
             }
            },
            "type": "scattercarpet"
           }
          ],
          "scattergeo": [
           {
            "marker": {
             "colorbar": {
              "outlinewidth": 0,
              "tickcolor": "rgb(237,237,237)",
              "ticklen": 6,
              "ticks": "inside"
             }
            },
            "type": "scattergeo"
           }
          ],
          "scattergl": [
           {
            "marker": {
             "colorbar": {
              "outlinewidth": 0,
              "tickcolor": "rgb(237,237,237)",
              "ticklen": 6,
              "ticks": "inside"
             }
            },
            "type": "scattergl"
           }
          ],
          "scattermapbox": [
           {
            "marker": {
             "colorbar": {
              "outlinewidth": 0,
              "tickcolor": "rgb(237,237,237)",
              "ticklen": 6,
              "ticks": "inside"
             }
            },
            "type": "scattermapbox"
           }
          ],
          "scatterpolar": [
           {
            "marker": {
             "colorbar": {
              "outlinewidth": 0,
              "tickcolor": "rgb(237,237,237)",
              "ticklen": 6,
              "ticks": "inside"
             }
            },
            "type": "scatterpolar"
           }
          ],
          "scatterpolargl": [
           {
            "marker": {
             "colorbar": {
              "outlinewidth": 0,
              "tickcolor": "rgb(237,237,237)",
              "ticklen": 6,
              "ticks": "inside"
             }
            },
            "type": "scatterpolargl"
           }
          ],
          "scatterternary": [
           {
            "marker": {
             "colorbar": {
              "outlinewidth": 0,
              "tickcolor": "rgb(237,237,237)",
              "ticklen": 6,
              "ticks": "inside"
             }
            },
            "type": "scatterternary"
           }
          ],
          "surface": [
           {
            "colorbar": {
             "outlinewidth": 0,
             "tickcolor": "rgb(237,237,237)",
             "ticklen": 6,
             "ticks": "inside"
            },
            "colorscale": [
             [
              0,
              "rgb(20,44,66)"
             ],
             [
              1,
              "rgb(90,179,244)"
             ]
            ],
            "type": "surface"
           }
          ],
          "table": [
           {
            "cells": {
             "fill": {
              "color": "rgb(237,237,237)"
             },
             "line": {
              "color": "white"
             }
            },
            "header": {
             "fill": {
              "color": "rgb(217,217,217)"
             },
             "line": {
              "color": "white"
             }
            },
            "type": "table"
           }
          ]
         },
         "layout": {
          "annotationdefaults": {
           "arrowhead": 0,
           "arrowwidth": 1
          },
          "autotypenumbers": "strict",
          "coloraxis": {
           "colorbar": {
            "outlinewidth": 0,
            "tickcolor": "rgb(237,237,237)",
            "ticklen": 6,
            "ticks": "inside"
           }
          },
          "colorscale": {
           "sequential": [
            [
             0,
             "rgb(20,44,66)"
            ],
            [
             1,
             "rgb(90,179,244)"
            ]
           ],
           "sequentialminus": [
            [
             0,
             "rgb(20,44,66)"
            ],
            [
             1,
             "rgb(90,179,244)"
            ]
           ]
          },
          "colorway": [
           "#F8766D",
           "#A3A500",
           "#00BF7D",
           "#00B0F6",
           "#E76BF3"
          ],
          "font": {
           "color": "rgb(51,51,51)"
          },
          "geo": {
           "bgcolor": "white",
           "lakecolor": "white",
           "landcolor": "rgb(237,237,237)",
           "showlakes": true,
           "showland": true,
           "subunitcolor": "white"
          },
          "hoverlabel": {
           "align": "left"
          },
          "hovermode": "closest",
          "paper_bgcolor": "white",
          "plot_bgcolor": "rgb(237,237,237)",
          "polar": {
           "angularaxis": {
            "gridcolor": "white",
            "linecolor": "white",
            "showgrid": true,
            "tickcolor": "rgb(51,51,51)",
            "ticks": "outside"
           },
           "bgcolor": "rgb(237,237,237)",
           "radialaxis": {
            "gridcolor": "white",
            "linecolor": "white",
            "showgrid": true,
            "tickcolor": "rgb(51,51,51)",
            "ticks": "outside"
           }
          },
          "scene": {
           "xaxis": {
            "backgroundcolor": "rgb(237,237,237)",
            "gridcolor": "white",
            "gridwidth": 2,
            "linecolor": "white",
            "showbackground": true,
            "showgrid": true,
            "tickcolor": "rgb(51,51,51)",
            "ticks": "outside",
            "zerolinecolor": "white"
           },
           "yaxis": {
            "backgroundcolor": "rgb(237,237,237)",
            "gridcolor": "white",
            "gridwidth": 2,
            "linecolor": "white",
            "showbackground": true,
            "showgrid": true,
            "tickcolor": "rgb(51,51,51)",
            "ticks": "outside",
            "zerolinecolor": "white"
           },
           "zaxis": {
            "backgroundcolor": "rgb(237,237,237)",
            "gridcolor": "white",
            "gridwidth": 2,
            "linecolor": "white",
            "showbackground": true,
            "showgrid": true,
            "tickcolor": "rgb(51,51,51)",
            "ticks": "outside",
            "zerolinecolor": "white"
           }
          },
          "shapedefaults": {
           "fillcolor": "black",
           "line": {
            "width": 0
           },
           "opacity": 0.3
          },
          "ternary": {
           "aaxis": {
            "gridcolor": "white",
            "linecolor": "white",
            "showgrid": true,
            "tickcolor": "rgb(51,51,51)",
            "ticks": "outside"
           },
           "baxis": {
            "gridcolor": "white",
            "linecolor": "white",
            "showgrid": true,
            "tickcolor": "rgb(51,51,51)",
            "ticks": "outside"
           },
           "bgcolor": "rgb(237,237,237)",
           "caxis": {
            "gridcolor": "white",
            "linecolor": "white",
            "showgrid": true,
            "tickcolor": "rgb(51,51,51)",
            "ticks": "outside"
           }
          },
          "xaxis": {
           "automargin": true,
           "gridcolor": "white",
           "linecolor": "white",
           "showgrid": true,
           "tickcolor": "rgb(51,51,51)",
           "ticks": "outside",
           "title": {
            "standoff": 15
           },
           "zerolinecolor": "white"
          },
          "yaxis": {
           "automargin": true,
           "gridcolor": "white",
           "linecolor": "white",
           "showgrid": true,
           "tickcolor": "rgb(51,51,51)",
           "ticks": "outside",
           "title": {
            "standoff": 15
           },
           "zerolinecolor": "white"
          }
         }
        },
        "title": {
         "text": "Shapley values for abnormal samples"
        },
        "xaxis": {
         "anchor": "y",
         "categoryarray": [
          "Estearoilcarnitina",
          "IMC",
          "Ornitina",
          "Hexanoilcarnitina",
          "ohd3x",
          "Valina",
          "Carnitina libre",
          "Citrulina",
          "Aspartato",
          "3-OH-Palmitoilcarnitina",
          "Acetilcarnitina",
          "Dodecanoilcarnitina",
          "fenilalax",
          "Tetradecenoilcarnitina",
          "Prolina",
          "Glutamato",
          "Decanoilcarnitina",
          "PROTEINAProm_(G)",
          "Circunferencia de cintura",
          "Tirosina",
          "Género",
          "Butirilcarnitina",
          "Palmitoilcarnitina",
          "Succinilacetona",
          "Metionina",
          "3-OH-Isovalerilcarnitina",
          "Me-Glutarilcarnitina",
          "Tiglilcarnitina",
          "Isovalerilcarnitina",
          "Leucina",
          "Linoleoilcarnitina",
          "aleator",
          "3-OH-Linoleoilcarnitina",
          "ATPII/AHA/IDF",
          "tirosinax",
          "Alanina",
          "Propionilcarnitina",
          "Arginina",
          "Glutarilcarnitina",
          "Tetradecanoilcarnitina",
          "Fenilalanina",
          "%_proteina_natural",
          "Glicina",
          "Octanoilcarnitina",
          "%_Proteina_SP"
         ],
         "categoryorder": "array",
         "domain": [
          0,
          1
         ],
         "labelalias": {
          "%_Proteina_SP": "% SP Protein",
          "%_proteina_natural": "% Natural Protein",
          "3-OH-Isovalerilcarnitina": "3-OH-Isovalerylcarnitine",
          "3-OH-Linoleoilcarnitina": "3-OH-Linoleoylcarnitine",
          "3-OH-Palmitoilcarnitina": "3-OH-Palmitoylcarnitine",
          "ATPII/AHA/IDF": "ATPII/AHA/IDF",
          "Acetilcarnitina": "Acetylcarnitine",
          "Alanina": "Alanine",
          "Arginina": "Arginine",
          "Aspartato": "Aspartate",
          "Butirilcarnitina": "Butyrylcarnitine",
          "CALCIOProm_(MG)": "Calcium avg. (mg)",
          "CARBOHIDRATOProm_(G)": "CARBOHYDRATE avg. (g)",
          "COBREProm_(MG)": "Copper avg. (mg)",
          "COLESTEROLProm_(MG)": "CHOLESTEROL avg. (mg)",
          "Carnitina libre": "Free Carnitine",
          "Circunferencia de cintura": "Waist circumference",
          "Citrulina": "Citrulline",
          "Decanoilcarnitina": "Decanoylcarnitine",
          "Dodecanoilcarnitina": "Dodecanoylcarnitine",
          "ENERGIAProm_(KCAL)": "ENERGY avg. (KCAL)",
          "Edad": "Age",
          "Estatura": "Height",
          "Estearoilcarnitina": "Stearoylcarnitine",
          "FENILALANINAProm_(G)": "PHENYLALANINE_avg (g)",
          "FOLATOProm_(MCG)": "Folate avg. (MCG)",
          "Fenilalanina": "Phenylalanine",
          "GRASAProm(G)": "Fat avg. (g)",
          "Glicina": "Glycine",
          "Glutamato": "Glutamate",
          "Glutarilcarnitina": "Glutarylcarnitine",
          "Género": "gender",
          "HIERROProm_(MG)": "Iron avg. (mg)",
          "HOMA-IR alterado": "HOMA-IR altered",
          "HOMA2-IR": "HOMA2-IR",
          "HOMA2B(%)": "HOMA2B(%)",
          "HOMA2S%": "HOMA2S%",
          "Hexanoilcarnitina": "Hexanoylcarnitine",
          "IMC": "BMI",
          "Isovalerilcarnitina": "Isovalerylcarnitine",
          "Leucina": "Leucine",
          "Linoleoilcarnitina": "Linoleoilcarnitine",
          "Me-Glutarilcarnitina": "Me-Glutarylcarnitine",
          "Metionina": "Methionine",
          "Octanoilcarnitina": "Octanoylcarnitine",
          "Ornitina": "Ornithine",
          "PROTEINAProm_(G)": "Protein avg. (g)",
          "Palmitoilcarnitina": "Palmitoylcarnitine",
          "Peso": "Weight",
          "Prolina": "Proline",
          "Propionilcarnitina": "Propionylcarnitine",
          "Proteina_SP": "SP Protein",
          "Proteina_natural": "Protein natural",
          "SP_gr/kg": "SP (gr/kg)",
          "Succinilacetona": "Succinylacetone",
          "TIROSINAProm_(G)": "TYROSINE avg. (g)",
          "Tetradecanoilcarnitina": "Tetradecanoylcarnitine",
          "Tetradecenoilcarnitina": "Tetradecenoylcarnitine",
          "Tiglilcarnitina": "Tiglilcarnitine",
          "Tirosina": "Tyrosine",
          "VITAMINA_B12Prom_(MCG)": "Vitamin B12 avg. (MCG)",
          "VITAMINA_Dprom": "Vitamin D avg.",
          "Valina": "Valine",
          "ZINCProm_(MG)": "Zinc avg. (mg)",
          "aleator": "random",
          "fenilalax": "Phenylalax",
          "glummol": "Glummol",
          "glupromx": "Glupromx",
          "insuprom": "Insuprom",
          "ohd3x": "ohd3x",
          "quickix": "Quickix",
          "tirosinax": "Tyrosinax"
         },
         "title": {
          "text": "Feature in the dataset"
         }
        },
        "yaxis": {
         "anchor": "x",
         "domain": [
          0,
          1
         ],
         "title": {
          "text": "Shapley Value importance"
         }
        }
       }
      }
     },
     "metadata": {},
     "output_type": "display_data"
    },
    {
     "data": {
      "application/vnd.plotly.v1+json": {
       "config": {
        "plotlyServerURL": "https://plot.ly"
       },
       "data": [
        {
         "dimensions": [
          {
           "label": "Stearoylcarnitine",
           "values": [
            0.7963630557060242,
            0.6777322888374329,
            0.7411038279533386
           ]
          },
          {
           "label": "BMI",
           "values": [
            0.4678809642791748,
            1.0652310848236084,
            0.4947476089000702
           ]
          },
          {
           "label": "Ornithine",
           "values": [
            0.5708500742912292,
            0.4971597194671631,
            0.1660323441028595
           ]
          },
          {
           "label": "Hexanoylcarnitine",
           "values": [
            0.5347325205802917,
            0,
            0.3273448050022125
           ]
          },
          {
           "label": "ohd3x",
           "values": [
            0,
            0.2904530465602875,
            0.5047516226768494
           ]
          },
          {
           "label": "Valine",
           "values": [
            0.36294612288475037,
            0,
            0.24698813259601593
           ]
          },
          {
           "label": "Free Carnitine",
           "values": [
            0.41936194896698,
            0.11284876614809036,
            0.021208636462688446
           ]
          },
          {
           "label": "Citrulline",
           "values": [
            0,
            0.5452309250831604,
            0.1220223680138588
           ]
          },
          {
           "label": "Aspartate",
           "values": [
            0.16232745349407196,
            0,
            0.10686894506216049
           ]
          },
          {
           "label": "3-OH-Palmitoylcarnitine",
           "values": [
            0,
            0.10155659914016724,
            0.36412206292152405
           ]
          },
          {
           "label": "auc_score",
           "values": [
            null,
            null,
            null
           ]
          }
         ],
         "domain": {
          "x": [
           0,
           1
          ],
          "y": [
           0,
           1
          ]
         },
         "line": {
          "color": [
           null,
           null,
           null
          ],
          "coloraxis": "coloraxis"
         },
         "name": "",
         "type": "parcoords"
        }
       ],
       "layout": {
        "coloraxis": {
         "colorbar": {
          "title": {
           "text": "auc_score"
          }
         },
         "colorscale": [
          [
           0,
           "#0d0887"
          ],
          [
           0.1111111111111111,
           "#46039f"
          ],
          [
           0.2222222222222222,
           "#7201a8"
          ],
          [
           0.3333333333333333,
           "#9c179e"
          ],
          [
           0.4444444444444444,
           "#bd3786"
          ],
          [
           0.5555555555555556,
           "#d8576b"
          ],
          [
           0.6666666666666666,
           "#ed7953"
          ],
          [
           0.7777777777777778,
           "#fb9f3a"
          ],
          [
           0.8888888888888888,
           "#fdca26"
          ],
          [
           1,
           "#f0f921"
          ]
         ],
         "showscale": false
        },
        "legend": {
         "tracegroupgap": 0
        },
        "template": {
         "data": {
          "bar": [
           {
            "error_x": {
             "color": "#2a3f5f"
            },
            "error_y": {
             "color": "#2a3f5f"
            },
            "marker": {
             "line": {
              "color": "#E5ECF6",
              "width": 0.5
             },
             "pattern": {
              "fillmode": "overlay",
              "size": 10,
              "solidity": 0.2
             }
            },
            "type": "bar"
           }
          ],
          "barpolar": [
           {
            "marker": {
             "line": {
              "color": "#E5ECF6",
              "width": 0.5
             },
             "pattern": {
              "fillmode": "overlay",
              "size": 10,
              "solidity": 0.2
             }
            },
            "type": "barpolar"
           }
          ],
          "carpet": [
           {
            "aaxis": {
             "endlinecolor": "#2a3f5f",
             "gridcolor": "white",
             "linecolor": "white",
             "minorgridcolor": "white",
             "startlinecolor": "#2a3f5f"
            },
            "baxis": {
             "endlinecolor": "#2a3f5f",
             "gridcolor": "white",
             "linecolor": "white",
             "minorgridcolor": "white",
             "startlinecolor": "#2a3f5f"
            },
            "type": "carpet"
           }
          ],
          "choropleth": [
           {
            "colorbar": {
             "outlinewidth": 0,
             "ticks": ""
            },
            "type": "choropleth"
           }
          ],
          "contour": [
           {
            "colorbar": {
             "outlinewidth": 0,
             "ticks": ""
            },
            "colorscale": [
             [
              0,
              "#0d0887"
             ],
             [
              0.1111111111111111,
              "#46039f"
             ],
             [
              0.2222222222222222,
              "#7201a8"
             ],
             [
              0.3333333333333333,
              "#9c179e"
             ],
             [
              0.4444444444444444,
              "#bd3786"
             ],
             [
              0.5555555555555556,
              "#d8576b"
             ],
             [
              0.6666666666666666,
              "#ed7953"
             ],
             [
              0.7777777777777778,
              "#fb9f3a"
             ],
             [
              0.8888888888888888,
              "#fdca26"
             ],
             [
              1,
              "#f0f921"
             ]
            ],
            "type": "contour"
           }
          ],
          "contourcarpet": [
           {
            "colorbar": {
             "outlinewidth": 0,
             "ticks": ""
            },
            "type": "contourcarpet"
           }
          ],
          "heatmap": [
           {
            "colorbar": {
             "outlinewidth": 0,
             "ticks": ""
            },
            "colorscale": [
             [
              0,
              "#0d0887"
             ],
             [
              0.1111111111111111,
              "#46039f"
             ],
             [
              0.2222222222222222,
              "#7201a8"
             ],
             [
              0.3333333333333333,
              "#9c179e"
             ],
             [
              0.4444444444444444,
              "#bd3786"
             ],
             [
              0.5555555555555556,
              "#d8576b"
             ],
             [
              0.6666666666666666,
              "#ed7953"
             ],
             [
              0.7777777777777778,
              "#fb9f3a"
             ],
             [
              0.8888888888888888,
              "#fdca26"
             ],
             [
              1,
              "#f0f921"
             ]
            ],
            "type": "heatmap"
           }
          ],
          "heatmapgl": [
           {
            "colorbar": {
             "outlinewidth": 0,
             "ticks": ""
            },
            "colorscale": [
             [
              0,
              "#0d0887"
             ],
             [
              0.1111111111111111,
              "#46039f"
             ],
             [
              0.2222222222222222,
              "#7201a8"
             ],
             [
              0.3333333333333333,
              "#9c179e"
             ],
             [
              0.4444444444444444,
              "#bd3786"
             ],
             [
              0.5555555555555556,
              "#d8576b"
             ],
             [
              0.6666666666666666,
              "#ed7953"
             ],
             [
              0.7777777777777778,
              "#fb9f3a"
             ],
             [
              0.8888888888888888,
              "#fdca26"
             ],
             [
              1,
              "#f0f921"
             ]
            ],
            "type": "heatmapgl"
           }
          ],
          "histogram": [
           {
            "marker": {
             "pattern": {
              "fillmode": "overlay",
              "size": 10,
              "solidity": 0.2
             }
            },
            "type": "histogram"
           }
          ],
          "histogram2d": [
           {
            "colorbar": {
             "outlinewidth": 0,
             "ticks": ""
            },
            "colorscale": [
             [
              0,
              "#0d0887"
             ],
             [
              0.1111111111111111,
              "#46039f"
             ],
             [
              0.2222222222222222,
              "#7201a8"
             ],
             [
              0.3333333333333333,
              "#9c179e"
             ],
             [
              0.4444444444444444,
              "#bd3786"
             ],
             [
              0.5555555555555556,
              "#d8576b"
             ],
             [
              0.6666666666666666,
              "#ed7953"
             ],
             [
              0.7777777777777778,
              "#fb9f3a"
             ],
             [
              0.8888888888888888,
              "#fdca26"
             ],
             [
              1,
              "#f0f921"
             ]
            ],
            "type": "histogram2d"
           }
          ],
          "histogram2dcontour": [
           {
            "colorbar": {
             "outlinewidth": 0,
             "ticks": ""
            },
            "colorscale": [
             [
              0,
              "#0d0887"
             ],
             [
              0.1111111111111111,
              "#46039f"
             ],
             [
              0.2222222222222222,
              "#7201a8"
             ],
             [
              0.3333333333333333,
              "#9c179e"
             ],
             [
              0.4444444444444444,
              "#bd3786"
             ],
             [
              0.5555555555555556,
              "#d8576b"
             ],
             [
              0.6666666666666666,
              "#ed7953"
             ],
             [
              0.7777777777777778,
              "#fb9f3a"
             ],
             [
              0.8888888888888888,
              "#fdca26"
             ],
             [
              1,
              "#f0f921"
             ]
            ],
            "type": "histogram2dcontour"
           }
          ],
          "mesh3d": [
           {
            "colorbar": {
             "outlinewidth": 0,
             "ticks": ""
            },
            "type": "mesh3d"
           }
          ],
          "parcoords": [
           {
            "line": {
             "colorbar": {
              "outlinewidth": 0,
              "ticks": ""
             }
            },
            "type": "parcoords"
           }
          ],
          "pie": [
           {
            "automargin": true,
            "type": "pie"
           }
          ],
          "scatter": [
           {
            "fillpattern": {
             "fillmode": "overlay",
             "size": 10,
             "solidity": 0.2
            },
            "type": "scatter"
           }
          ],
          "scatter3d": [
           {
            "line": {
             "colorbar": {
              "outlinewidth": 0,
              "ticks": ""
             }
            },
            "marker": {
             "colorbar": {
              "outlinewidth": 0,
              "ticks": ""
             }
            },
            "type": "scatter3d"
           }
          ],
          "scattercarpet": [
           {
            "marker": {
             "colorbar": {
              "outlinewidth": 0,
              "ticks": ""
             }
            },
            "type": "scattercarpet"
           }
          ],
          "scattergeo": [
           {
            "marker": {
             "colorbar": {
              "outlinewidth": 0,
              "ticks": ""
             }
            },
            "type": "scattergeo"
           }
          ],
          "scattergl": [
           {
            "marker": {
             "colorbar": {
              "outlinewidth": 0,
              "ticks": ""
             }
            },
            "type": "scattergl"
           }
          ],
          "scattermapbox": [
           {
            "marker": {
             "colorbar": {
              "outlinewidth": 0,
              "ticks": ""
             }
            },
            "type": "scattermapbox"
           }
          ],
          "scatterpolar": [
           {
            "marker": {
             "colorbar": {
              "outlinewidth": 0,
              "ticks": ""
             }
            },
            "type": "scatterpolar"
           }
          ],
          "scatterpolargl": [
           {
            "marker": {
             "colorbar": {
              "outlinewidth": 0,
              "ticks": ""
             }
            },
            "type": "scatterpolargl"
           }
          ],
          "scatterternary": [
           {
            "marker": {
             "colorbar": {
              "outlinewidth": 0,
              "ticks": ""
             }
            },
            "type": "scatterternary"
           }
          ],
          "surface": [
           {
            "colorbar": {
             "outlinewidth": 0,
             "ticks": ""
            },
            "colorscale": [
             [
              0,
              "#0d0887"
             ],
             [
              0.1111111111111111,
              "#46039f"
             ],
             [
              0.2222222222222222,
              "#7201a8"
             ],
             [
              0.3333333333333333,
              "#9c179e"
             ],
             [
              0.4444444444444444,
              "#bd3786"
             ],
             [
              0.5555555555555556,
              "#d8576b"
             ],
             [
              0.6666666666666666,
              "#ed7953"
             ],
             [
              0.7777777777777778,
              "#fb9f3a"
             ],
             [
              0.8888888888888888,
              "#fdca26"
             ],
             [
              1,
              "#f0f921"
             ]
            ],
            "type": "surface"
           }
          ],
          "table": [
           {
            "cells": {
             "fill": {
              "color": "#EBF0F8"
             },
             "line": {
              "color": "white"
             }
            },
            "header": {
             "fill": {
              "color": "#C8D4E3"
             },
             "line": {
              "color": "white"
             }
            },
            "type": "table"
           }
          ]
         },
         "layout": {
          "annotationdefaults": {
           "arrowcolor": "#2a3f5f",
           "arrowhead": 0,
           "arrowwidth": 1
          },
          "autotypenumbers": "strict",
          "coloraxis": {
           "colorbar": {
            "outlinewidth": 0,
            "ticks": ""
           }
          },
          "colorscale": {
           "diverging": [
            [
             0,
             "#8e0152"
            ],
            [
             0.1,
             "#c51b7d"
            ],
            [
             0.2,
             "#de77ae"
            ],
            [
             0.3,
             "#f1b6da"
            ],
            [
             0.4,
             "#fde0ef"
            ],
            [
             0.5,
             "#f7f7f7"
            ],
            [
             0.6,
             "#e6f5d0"
            ],
            [
             0.7,
             "#b8e186"
            ],
            [
             0.8,
             "#7fbc41"
            ],
            [
             0.9,
             "#4d9221"
            ],
            [
             1,
             "#276419"
            ]
           ],
           "sequential": [
            [
             0,
             "#0d0887"
            ],
            [
             0.1111111111111111,
             "#46039f"
            ],
            [
             0.2222222222222222,
             "#7201a8"
            ],
            [
             0.3333333333333333,
             "#9c179e"
            ],
            [
             0.4444444444444444,
             "#bd3786"
            ],
            [
             0.5555555555555556,
             "#d8576b"
            ],
            [
             0.6666666666666666,
             "#ed7953"
            ],
            [
             0.7777777777777778,
             "#fb9f3a"
            ],
            [
             0.8888888888888888,
             "#fdca26"
            ],
            [
             1,
             "#f0f921"
            ]
           ],
           "sequentialminus": [
            [
             0,
             "#0d0887"
            ],
            [
             0.1111111111111111,
             "#46039f"
            ],
            [
             0.2222222222222222,
             "#7201a8"
            ],
            [
             0.3333333333333333,
             "#9c179e"
            ],
            [
             0.4444444444444444,
             "#bd3786"
            ],
            [
             0.5555555555555556,
             "#d8576b"
            ],
            [
             0.6666666666666666,
             "#ed7953"
            ],
            [
             0.7777777777777778,
             "#fb9f3a"
            ],
            [
             0.8888888888888888,
             "#fdca26"
            ],
            [
             1,
             "#f0f921"
            ]
           ]
          },
          "colorway": [
           "#636efa",
           "#EF553B",
           "#00cc96",
           "#ab63fa",
           "#FFA15A",
           "#19d3f3",
           "#FF6692",
           "#B6E880",
           "#FF97FF",
           "#FECB52"
          ],
          "font": {
           "color": "#2a3f5f"
          },
          "geo": {
           "bgcolor": "white",
           "lakecolor": "white",
           "landcolor": "#E5ECF6",
           "showlakes": true,
           "showland": true,
           "subunitcolor": "white"
          },
          "hoverlabel": {
           "align": "left"
          },
          "hovermode": "closest",
          "mapbox": {
           "style": "light"
          },
          "paper_bgcolor": "white",
          "plot_bgcolor": "#E5ECF6",
          "polar": {
           "angularaxis": {
            "gridcolor": "white",
            "linecolor": "white",
            "ticks": ""
           },
           "bgcolor": "#E5ECF6",
           "radialaxis": {
            "gridcolor": "white",
            "linecolor": "white",
            "ticks": ""
           }
          },
          "scene": {
           "xaxis": {
            "backgroundcolor": "#E5ECF6",
            "gridcolor": "white",
            "gridwidth": 2,
            "linecolor": "white",
            "showbackground": true,
            "ticks": "",
            "zerolinecolor": "white"
           },
           "yaxis": {
            "backgroundcolor": "#E5ECF6",
            "gridcolor": "white",
            "gridwidth": 2,
            "linecolor": "white",
            "showbackground": true,
            "ticks": "",
            "zerolinecolor": "white"
           },
           "zaxis": {
            "backgroundcolor": "#E5ECF6",
            "gridcolor": "white",
            "gridwidth": 2,
            "linecolor": "white",
            "showbackground": true,
            "ticks": "",
            "zerolinecolor": "white"
           }
          },
          "shapedefaults": {
           "line": {
            "color": "#2a3f5f"
           }
          },
          "ternary": {
           "aaxis": {
            "gridcolor": "white",
            "linecolor": "white",
            "ticks": ""
           },
           "baxis": {
            "gridcolor": "white",
            "linecolor": "white",
            "ticks": ""
           },
           "bgcolor": "#E5ECF6",
           "caxis": {
            "gridcolor": "white",
            "linecolor": "white",
            "ticks": ""
           }
          },
          "title": {
           "x": 0.05
          },
          "xaxis": {
           "automargin": true,
           "gridcolor": "white",
           "linecolor": "white",
           "ticks": "",
           "title": {
            "standoff": 15
           },
           "zerolinecolor": "white",
           "zerolinewidth": 2
          },
          "yaxis": {
           "automargin": true,
           "gridcolor": "white",
           "linecolor": "white",
           "ticks": "",
           "title": {
            "standoff": 15
           },
           "zerolinecolor": "white",
           "zerolinewidth": 2
          }
         }
        },
        "title": {
         "text": "Shapley values for abnormal samples - ADASYNT"
        },
        "xaxis": {
         "title": {
          "text": "Feature in the dataset"
         }
        },
        "yaxis": {
         "title": {
          "text": "Shapley Value importance"
         }
        }
       }
      }
     },
     "metadata": {},
     "output_type": "display_data"
    }
   ],
   "source": [
    "from utils_aa import *\n",
    "\n",
    "\n",
    "\n",
    "\n",
    "make_pareto_plot(study_ADASYN_sampling)\n",
    "make_ranking_plots(study_ADASYN_sampling, study_ADASYN)"
   ]
  },
  {
   "cell_type": "code",
   "execution_count": 10,
   "metadata": {},
   "outputs": [
    {
     "data": {
      "application/vnd.plotly.v1+json": {
       "config": {
        "plotlyServerURL": "https://plot.ly"
       },
       "data": [
        {
         "marker": {
          "line": {
           "color": "black",
           "width": 1
          },
          "opacity": 0.5,
          "size": 8,
          "symbol": "circle"
         },
         "mode": "markers",
         "name": "Suboptimal",
         "type": "scatter",
         "x": [
          0.6153846153846154,
          0.6111111111111112,
          0.8461538461538461,
          0.75,
          0.6111111111111112,
          0.8461538461538461,
          0.7692307692307693,
          0.8846153846153846,
          0.5769230769230769,
          0.9444444444444444,
          0.8846153846153846,
          0.638888888888889,
          0.5384615384615384,
          0.8333333333333333,
          0.8333333333333333,
          0.6666666666666666,
          0.7777777777777777,
          0.75,
          0.41666666666666663,
          0.8055555555555556,
          0.8333333333333333,
          0.5,
          0.8333333333333334,
          0.7307692307692308,
          0.49999999999999994,
          0.9230769230769231,
          0.5555555555555556,
          0.846153846153846,
          0.6666666666666666,
          0.9166666666666667,
          0.611111111111111,
          0.7307692307692307,
          0.5555555555555556,
          0.7692307692307693,
          0.9230769230769231,
          0.6944444444444444,
          0.8055555555555556,
          0.9444444444444444,
          0.6666666666666666,
          0.5833333333333333,
          0.75,
          0.8076923076923077,
          0.9166666666666667,
          0.6944444444444444
         ],
         "y": [
          0,
          0,
          0,
          0,
          0,
          0,
          0,
          0,
          0,
          0,
          0,
          0.052850931882858276,
          0,
          0,
          0,
          0,
          0,
          0,
          0,
          0,
          0,
          0,
          0,
          0,
          0,
          0,
          0,
          0,
          0,
          0,
          0,
          0.08252358436584473,
          0.09397032111883163,
          0.12077232450246811,
          0,
          0,
          0,
          0,
          0,
          0,
          0,
          0,
          0,
          0
         ]
        },
        {
         "marker": {
          "line": {
           "color": "black",
           "width": 1
          },
          "opacity": 0.5,
          "size": 8,
          "symbol": "square"
         },
         "mode": "markers",
         "name": "Pareto frontier",
         "type": "scatter",
         "x": [
          0.6923076923076923,
          0.8846153846153846,
          0.9722222222222222,
          0.9722222222222222,
          0.8333333333333333,
          0.8055555555555556
         ],
         "y": [
          0.14232300221920013,
          0.0642365962266922,
          0,
          0,
          0.12364188581705093,
          0.12509214878082275
         ]
        }
       ],
       "layout": {
        "font": {
         "size": 18
        },
        "height": 400,
        "legend": {
         "bgcolor": "rgba(255, 255, 255, 0)",
         "orientation": "h",
         "x": 0.3,
         "y": 1.1
        },
        "margin": {
         "b": 0,
         "l": 0,
         "r": 0,
         "t": 0
        },
        "shapes": [
         {
          "fillcolor": "darkgreen",
          "layer": "below",
          "line": {
           "width": 0
          },
          "opacity": 0.2,
          "type": "rect",
          "x0": 0.8,
          "x1": 0.9722222222222222,
          "xref": "x",
          "y0": 0,
          "y1": 1,
          "yref": "paper"
         }
        ],
        "template": {
         "data": {
          "bar": [
           {
            "error_x": {
             "color": "#2a3f5f"
            },
            "error_y": {
             "color": "#2a3f5f"
            },
            "marker": {
             "line": {
              "color": "#E5ECF6",
              "width": 0.5
             },
             "pattern": {
              "fillmode": "overlay",
              "size": 10,
              "solidity": 0.2
             }
            },
            "type": "bar"
           }
          ],
          "barpolar": [
           {
            "marker": {
             "line": {
              "color": "#E5ECF6",
              "width": 0.5
             },
             "pattern": {
              "fillmode": "overlay",
              "size": 10,
              "solidity": 0.2
             }
            },
            "type": "barpolar"
           }
          ],
          "carpet": [
           {
            "aaxis": {
             "endlinecolor": "#2a3f5f",
             "gridcolor": "white",
             "linecolor": "white",
             "minorgridcolor": "white",
             "startlinecolor": "#2a3f5f"
            },
            "baxis": {
             "endlinecolor": "#2a3f5f",
             "gridcolor": "white",
             "linecolor": "white",
             "minorgridcolor": "white",
             "startlinecolor": "#2a3f5f"
            },
            "type": "carpet"
           }
          ],
          "choropleth": [
           {
            "colorbar": {
             "outlinewidth": 0,
             "ticks": ""
            },
            "type": "choropleth"
           }
          ],
          "contour": [
           {
            "colorbar": {
             "outlinewidth": 0,
             "ticks": ""
            },
            "colorscale": [
             [
              0,
              "#0d0887"
             ],
             [
              0.1111111111111111,
              "#46039f"
             ],
             [
              0.2222222222222222,
              "#7201a8"
             ],
             [
              0.3333333333333333,
              "#9c179e"
             ],
             [
              0.4444444444444444,
              "#bd3786"
             ],
             [
              0.5555555555555556,
              "#d8576b"
             ],
             [
              0.6666666666666666,
              "#ed7953"
             ],
             [
              0.7777777777777778,
              "#fb9f3a"
             ],
             [
              0.8888888888888888,
              "#fdca26"
             ],
             [
              1,
              "#f0f921"
             ]
            ],
            "type": "contour"
           }
          ],
          "contourcarpet": [
           {
            "colorbar": {
             "outlinewidth": 0,
             "ticks": ""
            },
            "type": "contourcarpet"
           }
          ],
          "heatmap": [
           {
            "colorbar": {
             "outlinewidth": 0,
             "ticks": ""
            },
            "colorscale": [
             [
              0,
              "#0d0887"
             ],
             [
              0.1111111111111111,
              "#46039f"
             ],
             [
              0.2222222222222222,
              "#7201a8"
             ],
             [
              0.3333333333333333,
              "#9c179e"
             ],
             [
              0.4444444444444444,
              "#bd3786"
             ],
             [
              0.5555555555555556,
              "#d8576b"
             ],
             [
              0.6666666666666666,
              "#ed7953"
             ],
             [
              0.7777777777777778,
              "#fb9f3a"
             ],
             [
              0.8888888888888888,
              "#fdca26"
             ],
             [
              1,
              "#f0f921"
             ]
            ],
            "type": "heatmap"
           }
          ],
          "heatmapgl": [
           {
            "colorbar": {
             "outlinewidth": 0,
             "ticks": ""
            },
            "colorscale": [
             [
              0,
              "#0d0887"
             ],
             [
              0.1111111111111111,
              "#46039f"
             ],
             [
              0.2222222222222222,
              "#7201a8"
             ],
             [
              0.3333333333333333,
              "#9c179e"
             ],
             [
              0.4444444444444444,
              "#bd3786"
             ],
             [
              0.5555555555555556,
              "#d8576b"
             ],
             [
              0.6666666666666666,
              "#ed7953"
             ],
             [
              0.7777777777777778,
              "#fb9f3a"
             ],
             [
              0.8888888888888888,
              "#fdca26"
             ],
             [
              1,
              "#f0f921"
             ]
            ],
            "type": "heatmapgl"
           }
          ],
          "histogram": [
           {
            "marker": {
             "pattern": {
              "fillmode": "overlay",
              "size": 10,
              "solidity": 0.2
             }
            },
            "type": "histogram"
           }
          ],
          "histogram2d": [
           {
            "colorbar": {
             "outlinewidth": 0,
             "ticks": ""
            },
            "colorscale": [
             [
              0,
              "#0d0887"
             ],
             [
              0.1111111111111111,
              "#46039f"
             ],
             [
              0.2222222222222222,
              "#7201a8"
             ],
             [
              0.3333333333333333,
              "#9c179e"
             ],
             [
              0.4444444444444444,
              "#bd3786"
             ],
             [
              0.5555555555555556,
              "#d8576b"
             ],
             [
              0.6666666666666666,
              "#ed7953"
             ],
             [
              0.7777777777777778,
              "#fb9f3a"
             ],
             [
              0.8888888888888888,
              "#fdca26"
             ],
             [
              1,
              "#f0f921"
             ]
            ],
            "type": "histogram2d"
           }
          ],
          "histogram2dcontour": [
           {
            "colorbar": {
             "outlinewidth": 0,
             "ticks": ""
            },
            "colorscale": [
             [
              0,
              "#0d0887"
             ],
             [
              0.1111111111111111,
              "#46039f"
             ],
             [
              0.2222222222222222,
              "#7201a8"
             ],
             [
              0.3333333333333333,
              "#9c179e"
             ],
             [
              0.4444444444444444,
              "#bd3786"
             ],
             [
              0.5555555555555556,
              "#d8576b"
             ],
             [
              0.6666666666666666,
              "#ed7953"
             ],
             [
              0.7777777777777778,
              "#fb9f3a"
             ],
             [
              0.8888888888888888,
              "#fdca26"
             ],
             [
              1,
              "#f0f921"
             ]
            ],
            "type": "histogram2dcontour"
           }
          ],
          "mesh3d": [
           {
            "colorbar": {
             "outlinewidth": 0,
             "ticks": ""
            },
            "type": "mesh3d"
           }
          ],
          "parcoords": [
           {
            "line": {
             "colorbar": {
              "outlinewidth": 0,
              "ticks": ""
             }
            },
            "type": "parcoords"
           }
          ],
          "pie": [
           {
            "automargin": true,
            "type": "pie"
           }
          ],
          "scatter": [
           {
            "fillpattern": {
             "fillmode": "overlay",
             "size": 10,
             "solidity": 0.2
            },
            "type": "scatter"
           }
          ],
          "scatter3d": [
           {
            "line": {
             "colorbar": {
              "outlinewidth": 0,
              "ticks": ""
             }
            },
            "marker": {
             "colorbar": {
              "outlinewidth": 0,
              "ticks": ""
             }
            },
            "type": "scatter3d"
           }
          ],
          "scattercarpet": [
           {
            "marker": {
             "colorbar": {
              "outlinewidth": 0,
              "ticks": ""
             }
            },
            "type": "scattercarpet"
           }
          ],
          "scattergeo": [
           {
            "marker": {
             "colorbar": {
              "outlinewidth": 0,
              "ticks": ""
             }
            },
            "type": "scattergeo"
           }
          ],
          "scattergl": [
           {
            "marker": {
             "colorbar": {
              "outlinewidth": 0,
              "ticks": ""
             }
            },
            "type": "scattergl"
           }
          ],
          "scattermapbox": [
           {
            "marker": {
             "colorbar": {
              "outlinewidth": 0,
              "ticks": ""
             }
            },
            "type": "scattermapbox"
           }
          ],
          "scatterpolar": [
           {
            "marker": {
             "colorbar": {
              "outlinewidth": 0,
              "ticks": ""
             }
            },
            "type": "scatterpolar"
           }
          ],
          "scatterpolargl": [
           {
            "marker": {
             "colorbar": {
              "outlinewidth": 0,
              "ticks": ""
             }
            },
            "type": "scatterpolargl"
           }
          ],
          "scatterternary": [
           {
            "marker": {
             "colorbar": {
              "outlinewidth": 0,
              "ticks": ""
             }
            },
            "type": "scatterternary"
           }
          ],
          "surface": [
           {
            "colorbar": {
             "outlinewidth": 0,
             "ticks": ""
            },
            "colorscale": [
             [
              0,
              "#0d0887"
             ],
             [
              0.1111111111111111,
              "#46039f"
             ],
             [
              0.2222222222222222,
              "#7201a8"
             ],
             [
              0.3333333333333333,
              "#9c179e"
             ],
             [
              0.4444444444444444,
              "#bd3786"
             ],
             [
              0.5555555555555556,
              "#d8576b"
             ],
             [
              0.6666666666666666,
              "#ed7953"
             ],
             [
              0.7777777777777778,
              "#fb9f3a"
             ],
             [
              0.8888888888888888,
              "#fdca26"
             ],
             [
              1,
              "#f0f921"
             ]
            ],
            "type": "surface"
           }
          ],
          "table": [
           {
            "cells": {
             "fill": {
              "color": "#EBF0F8"
             },
             "line": {
              "color": "white"
             }
            },
            "header": {
             "fill": {
              "color": "#C8D4E3"
             },
             "line": {
              "color": "white"
             }
            },
            "type": "table"
           }
          ]
         },
         "layout": {
          "annotationdefaults": {
           "arrowcolor": "#2a3f5f",
           "arrowhead": 0,
           "arrowwidth": 1
          },
          "autotypenumbers": "strict",
          "coloraxis": {
           "colorbar": {
            "outlinewidth": 0,
            "ticks": ""
           }
          },
          "colorscale": {
           "diverging": [
            [
             0,
             "#8e0152"
            ],
            [
             0.1,
             "#c51b7d"
            ],
            [
             0.2,
             "#de77ae"
            ],
            [
             0.3,
             "#f1b6da"
            ],
            [
             0.4,
             "#fde0ef"
            ],
            [
             0.5,
             "#f7f7f7"
            ],
            [
             0.6,
             "#e6f5d0"
            ],
            [
             0.7,
             "#b8e186"
            ],
            [
             0.8,
             "#7fbc41"
            ],
            [
             0.9,
             "#4d9221"
            ],
            [
             1,
             "#276419"
            ]
           ],
           "sequential": [
            [
             0,
             "#0d0887"
            ],
            [
             0.1111111111111111,
             "#46039f"
            ],
            [
             0.2222222222222222,
             "#7201a8"
            ],
            [
             0.3333333333333333,
             "#9c179e"
            ],
            [
             0.4444444444444444,
             "#bd3786"
            ],
            [
             0.5555555555555556,
             "#d8576b"
            ],
            [
             0.6666666666666666,
             "#ed7953"
            ],
            [
             0.7777777777777778,
             "#fb9f3a"
            ],
            [
             0.8888888888888888,
             "#fdca26"
            ],
            [
             1,
             "#f0f921"
            ]
           ],
           "sequentialminus": [
            [
             0,
             "#0d0887"
            ],
            [
             0.1111111111111111,
             "#46039f"
            ],
            [
             0.2222222222222222,
             "#7201a8"
            ],
            [
             0.3333333333333333,
             "#9c179e"
            ],
            [
             0.4444444444444444,
             "#bd3786"
            ],
            [
             0.5555555555555556,
             "#d8576b"
            ],
            [
             0.6666666666666666,
             "#ed7953"
            ],
            [
             0.7777777777777778,
             "#fb9f3a"
            ],
            [
             0.8888888888888888,
             "#fdca26"
            ],
            [
             1,
             "#f0f921"
            ]
           ]
          },
          "colorway": [
           "#636efa",
           "#EF553B",
           "#00cc96",
           "#ab63fa",
           "#FFA15A",
           "#19d3f3",
           "#FF6692",
           "#B6E880",
           "#FF97FF",
           "#FECB52"
          ],
          "font": {
           "color": "#2a3f5f"
          },
          "geo": {
           "bgcolor": "white",
           "lakecolor": "white",
           "landcolor": "#E5ECF6",
           "showlakes": true,
           "showland": true,
           "subunitcolor": "white"
          },
          "hoverlabel": {
           "align": "left"
          },
          "hovermode": "closest",
          "mapbox": {
           "style": "light"
          },
          "paper_bgcolor": "white",
          "plot_bgcolor": "#E5ECF6",
          "polar": {
           "angularaxis": {
            "gridcolor": "white",
            "linecolor": "white",
            "ticks": ""
           },
           "bgcolor": "#E5ECF6",
           "radialaxis": {
            "gridcolor": "white",
            "linecolor": "white",
            "ticks": ""
           }
          },
          "scene": {
           "xaxis": {
            "backgroundcolor": "#E5ECF6",
            "gridcolor": "white",
            "gridwidth": 2,
            "linecolor": "white",
            "showbackground": true,
            "ticks": "",
            "zerolinecolor": "white"
           },
           "yaxis": {
            "backgroundcolor": "#E5ECF6",
            "gridcolor": "white",
            "gridwidth": 2,
            "linecolor": "white",
            "showbackground": true,
            "ticks": "",
            "zerolinecolor": "white"
           },
           "zaxis": {
            "backgroundcolor": "#E5ECF6",
            "gridcolor": "white",
            "gridwidth": 2,
            "linecolor": "white",
            "showbackground": true,
            "ticks": "",
            "zerolinecolor": "white"
           }
          },
          "shapedefaults": {
           "line": {
            "color": "#2a3f5f"
           }
          },
          "ternary": {
           "aaxis": {
            "gridcolor": "white",
            "linecolor": "white",
            "ticks": ""
           },
           "baxis": {
            "gridcolor": "white",
            "linecolor": "white",
            "ticks": ""
           },
           "bgcolor": "#E5ECF6",
           "caxis": {
            "gridcolor": "white",
            "linecolor": "white",
            "ticks": ""
           }
          },
          "title": {
           "x": 0.05
          },
          "xaxis": {
           "automargin": true,
           "gridcolor": "white",
           "linecolor": "white",
           "ticks": "",
           "title": {
            "standoff": 15
           },
           "zerolinecolor": "white",
           "zerolinewidth": 2
          },
          "yaxis": {
           "automargin": true,
           "gridcolor": "white",
           "linecolor": "white",
           "ticks": "",
           "title": {
            "standoff": 15
           },
           "zerolinecolor": "white",
           "zerolinewidth": 2
          }
         }
        },
        "width": 900,
        "xaxis": {
         "range": [
          -0.05,
          1.05
         ],
         "title": {
          "font": {
           "size": 19
          },
          "text": "Model performance (AUC)"
         }
        },
        "yaxis": {
         "range": [
          -0.05,
          0.85
         ],
         "title": {
          "font": {
           "size": 19
          },
          "text": "Phe importance (Shapley value)"
         }
        }
       }
      }
     },
     "metadata": {},
     "output_type": "display_data"
    },
    {
     "name": "stdout",
     "output_type": "stream",
     "text": [
      "{'best_iteration': '38', 'best_ntree_limit': '39', 'best_score': '0.39072164967656137'}\n",
      "Phe_value :  0.0 \t Phe_ranking :  31.0\n",
      "\n",
      "\n",
      "{'best_iteration': '71', 'best_ntree_limit': '72', 'best_score': '0.1292418133467436'}\n",
      "Phe_value :  0.14660926 \t Phe_ranking :  11.0\n",
      "\n",
      "\n",
      "{'best_iteration': '47', 'best_ntree_limit': '48', 'best_score': '0.10632116086781025'}\n",
      "Phe_value :  0.0 \t Phe_ranking :  37.0\n",
      "\n",
      "\n",
      "{'best_iteration': '25', 'best_ntree_limit': '26', 'best_score': '0.43426919132471087'}\n",
      "Phe_value :  0.0 \t Phe_ranking :  33.0\n",
      "\n",
      "\n",
      "{'best_iteration': '38', 'best_ntree_limit': '39', 'best_score': '0.414511413872242'}\n",
      "Phe_value :  0.067496754 \t Phe_ranking :  16.0\n",
      "\n",
      "\n",
      "{'best_iteration': '62', 'best_ntree_limit': '63', 'best_score': '0.16158684603869916'}\n",
      "Phe_value :  0.0 \t Phe_ranking :  33.0\n",
      "\n",
      "\n"
     ]
    },
    {
     "data": {
      "application/vnd.plotly.v1+json": {
       "config": {
        "plotlyServerURL": "https://plot.ly"
       },
       "data": [
        {
         "alignmentgroup": "True",
         "hovertemplate": "variable=3189.0<br>index=%{x}<br>value=%{y}<extra></extra>",
         "legendgroup": "3189.0",
         "marker": {
          "color": "#F8766D",
          "pattern": {
           "shape": ""
          }
         },
         "name": "3189.0",
         "offsetgroup": "3189.0",
         "orientation": "v",
         "showlegend": true,
         "textposition": "auto",
         "type": "bar",
         "x": [
          "Género",
          "aleator",
          "IMC",
          "Circunferencia de cintura",
          "ATPII/AHA/IDF",
          "fenilalax",
          "ohd3x",
          "tirosinax",
          "Alanina",
          "Aspartato",
          "Glutamato",
          "Leucina",
          "Ornitina",
          "Prolina",
          "Tirosina",
          "Carnitina libre",
          "Propionilcarnitina",
          "Isovalerilcarnitina",
          "Tiglilcarnitina",
          "Me-Glutarilcarnitina",
          "Decanoilcarnitina",
          "Tetradecanoilcarnitina",
          "3-OH-Isovalerilcarnitina",
          "3-OH-Palmitoilcarnitina",
          "Linoleoilcarnitina",
          "Arginina",
          "Citrulina",
          "Glicina",
          "Metionina",
          "Fenilalanina",
          "Succinilacetona",
          "Valina",
          "Acetilcarnitina",
          "Butirilcarnitina",
          "Glutarilcarnitina",
          "Hexanoilcarnitina",
          "Octanoilcarnitina",
          "Dodecanoilcarnitina",
          "Tetradecenoilcarnitina",
          "Palmitoilcarnitina",
          "Estearoilcarnitina",
          "3-OH-Linoleoilcarnitina",
          "PROTEINAProm_(G)",
          "%_proteina_natural",
          "%_Proteina_SP"
         ],
         "xaxis": "x",
         "y": [
          0.19648760557174683,
          0,
          0.25472983717918396,
          0,
          0,
          0,
          0,
          0,
          0,
          0,
          0.0772571787238121,
          0,
          0.41190865635871887,
          0,
          0.07084452360868454,
          0.22749771177768707,
          0,
          0.11432286351919174,
          0,
          0,
          0.09624596685171127,
          0,
          0,
          0,
          0.048033207654953,
          0,
          0.277005136013031,
          0,
          0,
          0,
          0,
          0,
          0.0966268852353096,
          0,
          0,
          0,
          0.38766834139823914,
          0.8402379155158997,
          0.05376068130135536,
          0.17815671861171722,
          0.8637084364891052,
          0,
          0,
          0,
          0
         ],
         "yaxis": "y"
        },
        {
         "alignmentgroup": "True",
         "hovertemplate": "variable=62.0<br>index=%{x}<br>value=%{y}<extra></extra>",
         "legendgroup": "62.0",
         "marker": {
          "color": "#A3A500",
          "pattern": {
           "shape": ""
          }
         },
         "name": "62.0",
         "offsetgroup": "62.0",
         "orientation": "v",
         "showlegend": true,
         "textposition": "auto",
         "type": "bar",
         "x": [
          "Género",
          "aleator",
          "IMC",
          "Circunferencia de cintura",
          "ATPII/AHA/IDF",
          "fenilalax",
          "ohd3x",
          "tirosinax",
          "Alanina",
          "Aspartato",
          "Glutamato",
          "Leucina",
          "Ornitina",
          "Prolina",
          "Tirosina",
          "Carnitina libre",
          "Propionilcarnitina",
          "Isovalerilcarnitina",
          "Tiglilcarnitina",
          "Me-Glutarilcarnitina",
          "Decanoilcarnitina",
          "Tetradecanoilcarnitina",
          "3-OH-Isovalerilcarnitina",
          "3-OH-Palmitoilcarnitina",
          "Linoleoilcarnitina",
          "Arginina",
          "Citrulina",
          "Glicina",
          "Metionina",
          "Fenilalanina",
          "Succinilacetona",
          "Valina",
          "Acetilcarnitina",
          "Butirilcarnitina",
          "Glutarilcarnitina",
          "Hexanoilcarnitina",
          "Octanoilcarnitina",
          "Dodecanoilcarnitina",
          "Tetradecenoilcarnitina",
          "Palmitoilcarnitina",
          "Estearoilcarnitina",
          "3-OH-Linoleoilcarnitina",
          "PROTEINAProm_(G)",
          "%_proteina_natural",
          "%_Proteina_SP"
         ],
         "xaxis": "x",
         "y": [
          0.09043031930923462,
          0,
          0.6055824160575867,
          0.40391990542411804,
          0,
          0.14660926163196564,
          0,
          0,
          0,
          0,
          0.13653962314128876,
          0,
          0.7259533405303955,
          0,
          0.13122715055942535,
          0.19215033948421478,
          0,
          0.14786933362483978,
          0,
          0,
          0,
          0.025832174345850945,
          0,
          0.5077992081642151,
          0,
          0.07115864753723145,
          0,
          0.07056114822626114,
          0.09292589873075485,
          0,
          0,
          0.2576020061969757,
          0.14970068633556366,
          0.04794512316584587,
          0,
          0.49382483959198,
          0.05834474787116051,
          0,
          0,
          0.1379537135362625,
          0.5343356728553772,
          0,
          0,
          0,
          0
         ],
         "yaxis": "y"
        },
        {
         "alignmentgroup": "True",
         "hovertemplate": "variable=7546.0<br>index=%{x}<br>value=%{y}<extra></extra>",
         "legendgroup": "7546.0",
         "marker": {
          "color": "#00BF7D",
          "pattern": {
           "shape": ""
          }
         },
         "name": "7546.0",
         "offsetgroup": "7546.0",
         "orientation": "v",
         "showlegend": true,
         "textposition": "auto",
         "type": "bar",
         "x": [
          "Género",
          "aleator",
          "IMC",
          "Circunferencia de cintura",
          "ATPII/AHA/IDF",
          "fenilalax",
          "ohd3x",
          "tirosinax",
          "Alanina",
          "Aspartato",
          "Glutamato",
          "Leucina",
          "Ornitina",
          "Prolina",
          "Tirosina",
          "Carnitina libre",
          "Propionilcarnitina",
          "Isovalerilcarnitina",
          "Tiglilcarnitina",
          "Me-Glutarilcarnitina",
          "Decanoilcarnitina",
          "Tetradecanoilcarnitina",
          "3-OH-Isovalerilcarnitina",
          "3-OH-Palmitoilcarnitina",
          "Linoleoilcarnitina",
          "Arginina",
          "Citrulina",
          "Glicina",
          "Metionina",
          "Fenilalanina",
          "Succinilacetona",
          "Valina",
          "Acetilcarnitina",
          "Butirilcarnitina",
          "Glutarilcarnitina",
          "Hexanoilcarnitina",
          "Octanoilcarnitina",
          "Dodecanoilcarnitina",
          "Tetradecenoilcarnitina",
          "Palmitoilcarnitina",
          "Estearoilcarnitina",
          "3-OH-Linoleoilcarnitina",
          "PROTEINAProm_(G)",
          "%_proteina_natural",
          "%_Proteina_SP"
         ],
         "xaxis": "x",
         "y": [
          0.06693369150161743,
          0,
          0.38873717188835144,
          0.1730378121137619,
          0,
          0,
          0,
          0.185463547706604,
          0,
          0,
          0.030710579827427864,
          0,
          1.0350075960159302,
          0.07279031723737717,
          0.14831599593162537,
          0,
          0,
          0.062295328825712204,
          0,
          0.04314405843615532,
          0.029469287022948265,
          0,
          0.05662865564227104,
          0.06604159623384476,
          0.05689983069896698,
          0.04983939602971077,
          0.2442048043012619,
          0.10941962152719498,
          0.03217470645904541,
          0,
          0.1288207322359085,
          0.18161790072917938,
          0.06798168271780014,
          0,
          0.05433961749076843,
          0.12221041321754456,
          0,
          0.23905205726623535,
          0.18385206162929535,
          0,
          0.6626813411712646,
          0.06571242958307266,
          0.272041380405426,
          0,
          0
         ],
         "yaxis": "y"
        },
        {
         "alignmentgroup": "True",
         "hovertemplate": "variable=2196.0<br>index=%{x}<br>value=%{y}<extra></extra>",
         "legendgroup": "2196.0",
         "marker": {
          "color": "#00B0F6",
          "pattern": {
           "shape": ""
          }
         },
         "name": "2196.0",
         "offsetgroup": "2196.0",
         "orientation": "v",
         "showlegend": true,
         "textposition": "auto",
         "type": "bar",
         "x": [
          "Género",
          "aleator",
          "IMC",
          "Circunferencia de cintura",
          "ATPII/AHA/IDF",
          "fenilalax",
          "ohd3x",
          "tirosinax",
          "Alanina",
          "Aspartato",
          "Glutamato",
          "Leucina",
          "Ornitina",
          "Prolina",
          "Tirosina",
          "Carnitina libre",
          "Propionilcarnitina",
          "Isovalerilcarnitina",
          "Tiglilcarnitina",
          "Me-Glutarilcarnitina",
          "Decanoilcarnitina",
          "Tetradecanoilcarnitina",
          "3-OH-Isovalerilcarnitina",
          "3-OH-Palmitoilcarnitina",
          "Linoleoilcarnitina",
          "Arginina",
          "Citrulina",
          "Glicina",
          "Metionina",
          "Fenilalanina",
          "Succinilacetona",
          "Valina",
          "Acetilcarnitina",
          "Butirilcarnitina",
          "Glutarilcarnitina",
          "Hexanoilcarnitina",
          "Octanoilcarnitina",
          "Dodecanoilcarnitina",
          "Tetradecenoilcarnitina",
          "Palmitoilcarnitina",
          "Estearoilcarnitina",
          "3-OH-Linoleoilcarnitina",
          "PROTEINAProm_(G)",
          "%_proteina_natural",
          "%_Proteina_SP"
         ],
         "xaxis": "x",
         "y": [
          0,
          0,
          0.5633875131607056,
          0.18331141769886017,
          0,
          0,
          0,
          0.08746302127838135,
          0.06929675489664078,
          0.03235793113708496,
          0.06916704773902893,
          0,
          1.108931064605713,
          0.15494829416275024,
          0.02637220360338688,
          0.038756344467401505,
          0,
          0.06292776763439178,
          0,
          0.07717762887477875,
          0,
          0,
          0,
          0,
          0,
          0,
          0.1346818059682846,
          0,
          0,
          0,
          0.04490244388580322,
          0.3748081624507904,
          0.20199765264987946,
          0,
          0,
          0.42761480808258057,
          0,
          0.06194530799984932,
          0,
          0,
          0.44431397318840027,
          0,
          0.1263735592365265,
          0,
          0
         ],
         "yaxis": "y"
        },
        {
         "alignmentgroup": "True",
         "hovertemplate": "variable=4761.0<br>index=%{x}<br>value=%{y}<extra></extra>",
         "legendgroup": "4761.0",
         "marker": {
          "color": "#E76BF3",
          "pattern": {
           "shape": ""
          }
         },
         "name": "4761.0",
         "offsetgroup": "4761.0",
         "orientation": "v",
         "showlegend": true,
         "textposition": "auto",
         "type": "bar",
         "x": [
          "Género",
          "aleator",
          "IMC",
          "Circunferencia de cintura",
          "ATPII/AHA/IDF",
          "fenilalax",
          "ohd3x",
          "tirosinax",
          "Alanina",
          "Aspartato",
          "Glutamato",
          "Leucina",
          "Ornitina",
          "Prolina",
          "Tirosina",
          "Carnitina libre",
          "Propionilcarnitina",
          "Isovalerilcarnitina",
          "Tiglilcarnitina",
          "Me-Glutarilcarnitina",
          "Decanoilcarnitina",
          "Tetradecanoilcarnitina",
          "3-OH-Isovalerilcarnitina",
          "3-OH-Palmitoilcarnitina",
          "Linoleoilcarnitina",
          "Arginina",
          "Citrulina",
          "Glicina",
          "Metionina",
          "Fenilalanina",
          "Succinilacetona",
          "Valina",
          "Acetilcarnitina",
          "Butirilcarnitina",
          "Glutarilcarnitina",
          "Hexanoilcarnitina",
          "Octanoilcarnitina",
          "Dodecanoilcarnitina",
          "Tetradecenoilcarnitina",
          "Palmitoilcarnitina",
          "Estearoilcarnitina",
          "3-OH-Linoleoilcarnitina",
          "PROTEINAProm_(G)",
          "%_proteina_natural",
          "%_Proteina_SP"
         ],
         "xaxis": "x",
         "y": [
          0.07327783852815628,
          0,
          0.8806160092353821,
          0.170737624168396,
          0,
          0.06749675422906876,
          0,
          0.05868140235543251,
          0,
          0.10480736941099167,
          0.2162407487630844,
          0,
          0.27830541133880615,
          0.19785372912883759,
          0.2201741486787796,
          0.3397948741912842,
          0,
          0.40070104598999023,
          0,
          0,
          0.04331813380122185,
          0,
          0,
          0,
          0,
          0,
          0.360075443983078,
          0,
          0,
          0,
          0.058748509734869,
          0.2333536148071289,
          0.0493796169757843,
          0,
          0,
          0,
          0.10817646235227585,
          0,
          0,
          0,
          0.711174726486206,
          0,
          0.06938993185758591,
          0,
          0
         ],
         "yaxis": "y"
        },
        {
         "alignmentgroup": "True",
         "hovertemplate": "variable=7748.0<br>index=%{x}<br>value=%{y}<extra></extra>",
         "legendgroup": "7748.0",
         "marker": {
          "color": "#F8766D",
          "pattern": {
           "shape": ""
          }
         },
         "name": "7748.0",
         "offsetgroup": "7748.0",
         "orientation": "v",
         "showlegend": true,
         "textposition": "auto",
         "type": "bar",
         "x": [
          "Género",
          "aleator",
          "IMC",
          "Circunferencia de cintura",
          "ATPII/AHA/IDF",
          "fenilalax",
          "ohd3x",
          "tirosinax",
          "Alanina",
          "Aspartato",
          "Glutamato",
          "Leucina",
          "Ornitina",
          "Prolina",
          "Tirosina",
          "Carnitina libre",
          "Propionilcarnitina",
          "Isovalerilcarnitina",
          "Tiglilcarnitina",
          "Me-Glutarilcarnitina",
          "Decanoilcarnitina",
          "Tetradecanoilcarnitina",
          "3-OH-Isovalerilcarnitina",
          "3-OH-Palmitoilcarnitina",
          "Linoleoilcarnitina",
          "Arginina",
          "Citrulina",
          "Glicina",
          "Metionina",
          "Fenilalanina",
          "Succinilacetona",
          "Valina",
          "Acetilcarnitina",
          "Butirilcarnitina",
          "Glutarilcarnitina",
          "Hexanoilcarnitina",
          "Octanoilcarnitina",
          "Dodecanoilcarnitina",
          "Tetradecenoilcarnitina",
          "Palmitoilcarnitina",
          "Estearoilcarnitina",
          "3-OH-Linoleoilcarnitina",
          "PROTEINAProm_(G)",
          "%_proteina_natural",
          "%_Proteina_SP"
         ],
         "xaxis": "x",
         "y": [
          0,
          0.054189831018447876,
          0.8921957612037659,
          0,
          0,
          0,
          0,
          0,
          0.15553559362888336,
          0.2802446484565735,
          0.1346198469400406,
          0,
          0.480813592672348,
          0.0584738552570343,
          0.11429610103368759,
          0,
          0,
          0.1401117444038391,
          0,
          0,
          0,
          0.10743267089128494,
          0,
          0.323048859834671,
          0,
          0,
          0.11840596050024033,
          0,
          0,
          0,
          0.07262533158063889,
          0.1052960529923439,
          0.11389897018671036,
          0,
          0,
          0.33075928688049316,
          0,
          0.22501201927661896,
          0.05262293294072151,
          0.15521568059921265,
          1.0828181505203247,
          0,
          0,
          0,
          0
         ],
         "yaxis": "y"
        }
       ],
       "layout": {
        "barmode": "group",
        "legend": {
         "title": {
          "text": "Model"
         },
         "tracegroupgap": 0
        },
        "margin": {
         "t": 60
        },
        "template": {
         "data": {
          "bar": [
           {
            "error_x": {
             "color": "rgb(51,51,51)"
            },
            "error_y": {
             "color": "rgb(51,51,51)"
            },
            "marker": {
             "line": {
              "color": "rgb(237,237,237)",
              "width": 0.5
             },
             "pattern": {
              "fillmode": "overlay",
              "size": 10,
              "solidity": 0.2
             }
            },
            "type": "bar"
           }
          ],
          "barpolar": [
           {
            "marker": {
             "line": {
              "color": "rgb(237,237,237)",
              "width": 0.5
             },
             "pattern": {
              "fillmode": "overlay",
              "size": 10,
              "solidity": 0.2
             }
            },
            "type": "barpolar"
           }
          ],
          "carpet": [
           {
            "aaxis": {
             "endlinecolor": "rgb(51,51,51)",
             "gridcolor": "white",
             "linecolor": "white",
             "minorgridcolor": "white",
             "startlinecolor": "rgb(51,51,51)"
            },
            "baxis": {
             "endlinecolor": "rgb(51,51,51)",
             "gridcolor": "white",
             "linecolor": "white",
             "minorgridcolor": "white",
             "startlinecolor": "rgb(51,51,51)"
            },
            "type": "carpet"
           }
          ],
          "choropleth": [
           {
            "colorbar": {
             "outlinewidth": 0,
             "tickcolor": "rgb(237,237,237)",
             "ticklen": 6,
             "ticks": "inside"
            },
            "type": "choropleth"
           }
          ],
          "contour": [
           {
            "colorbar": {
             "outlinewidth": 0,
             "tickcolor": "rgb(237,237,237)",
             "ticklen": 6,
             "ticks": "inside"
            },
            "colorscale": [
             [
              0,
              "rgb(20,44,66)"
             ],
             [
              1,
              "rgb(90,179,244)"
             ]
            ],
            "type": "contour"
           }
          ],
          "contourcarpet": [
           {
            "colorbar": {
             "outlinewidth": 0,
             "tickcolor": "rgb(237,237,237)",
             "ticklen": 6,
             "ticks": "inside"
            },
            "type": "contourcarpet"
           }
          ],
          "heatmap": [
           {
            "colorbar": {
             "outlinewidth": 0,
             "tickcolor": "rgb(237,237,237)",
             "ticklen": 6,
             "ticks": "inside"
            },
            "colorscale": [
             [
              0,
              "rgb(20,44,66)"
             ],
             [
              1,
              "rgb(90,179,244)"
             ]
            ],
            "type": "heatmap"
           }
          ],
          "heatmapgl": [
           {
            "colorbar": {
             "outlinewidth": 0,
             "tickcolor": "rgb(237,237,237)",
             "ticklen": 6,
             "ticks": "inside"
            },
            "colorscale": [
             [
              0,
              "rgb(20,44,66)"
             ],
             [
              1,
              "rgb(90,179,244)"
             ]
            ],
            "type": "heatmapgl"
           }
          ],
          "histogram": [
           {
            "marker": {
             "pattern": {
              "fillmode": "overlay",
              "size": 10,
              "solidity": 0.2
             }
            },
            "type": "histogram"
           }
          ],
          "histogram2d": [
           {
            "colorbar": {
             "outlinewidth": 0,
             "tickcolor": "rgb(237,237,237)",
             "ticklen": 6,
             "ticks": "inside"
            },
            "colorscale": [
             [
              0,
              "rgb(20,44,66)"
             ],
             [
              1,
              "rgb(90,179,244)"
             ]
            ],
            "type": "histogram2d"
           }
          ],
          "histogram2dcontour": [
           {
            "colorbar": {
             "outlinewidth": 0,
             "tickcolor": "rgb(237,237,237)",
             "ticklen": 6,
             "ticks": "inside"
            },
            "colorscale": [
             [
              0,
              "rgb(20,44,66)"
             ],
             [
              1,
              "rgb(90,179,244)"
             ]
            ],
            "type": "histogram2dcontour"
           }
          ],
          "mesh3d": [
           {
            "colorbar": {
             "outlinewidth": 0,
             "tickcolor": "rgb(237,237,237)",
             "ticklen": 6,
             "ticks": "inside"
            },
            "type": "mesh3d"
           }
          ],
          "parcoords": [
           {
            "line": {
             "colorbar": {
              "outlinewidth": 0,
              "tickcolor": "rgb(237,237,237)",
              "ticklen": 6,
              "ticks": "inside"
             }
            },
            "type": "parcoords"
           }
          ],
          "pie": [
           {
            "automargin": true,
            "type": "pie"
           }
          ],
          "scatter": [
           {
            "fillpattern": {
             "fillmode": "overlay",
             "size": 10,
             "solidity": 0.2
            },
            "type": "scatter"
           }
          ],
          "scatter3d": [
           {
            "line": {
             "colorbar": {
              "outlinewidth": 0,
              "tickcolor": "rgb(237,237,237)",
              "ticklen": 6,
              "ticks": "inside"
             }
            },
            "marker": {
             "colorbar": {
              "outlinewidth": 0,
              "tickcolor": "rgb(237,237,237)",
              "ticklen": 6,
              "ticks": "inside"
             }
            },
            "type": "scatter3d"
           }
          ],
          "scattercarpet": [
           {
            "marker": {
             "colorbar": {
              "outlinewidth": 0,
              "tickcolor": "rgb(237,237,237)",
              "ticklen": 6,
              "ticks": "inside"
             }
            },
            "type": "scattercarpet"
           }
          ],
          "scattergeo": [
           {
            "marker": {
             "colorbar": {
              "outlinewidth": 0,
              "tickcolor": "rgb(237,237,237)",
              "ticklen": 6,
              "ticks": "inside"
             }
            },
            "type": "scattergeo"
           }
          ],
          "scattergl": [
           {
            "marker": {
             "colorbar": {
              "outlinewidth": 0,
              "tickcolor": "rgb(237,237,237)",
              "ticklen": 6,
              "ticks": "inside"
             }
            },
            "type": "scattergl"
           }
          ],
          "scattermapbox": [
           {
            "marker": {
             "colorbar": {
              "outlinewidth": 0,
              "tickcolor": "rgb(237,237,237)",
              "ticklen": 6,
              "ticks": "inside"
             }
            },
            "type": "scattermapbox"
           }
          ],
          "scatterpolar": [
           {
            "marker": {
             "colorbar": {
              "outlinewidth": 0,
              "tickcolor": "rgb(237,237,237)",
              "ticklen": 6,
              "ticks": "inside"
             }
            },
            "type": "scatterpolar"
           }
          ],
          "scatterpolargl": [
           {
            "marker": {
             "colorbar": {
              "outlinewidth": 0,
              "tickcolor": "rgb(237,237,237)",
              "ticklen": 6,
              "ticks": "inside"
             }
            },
            "type": "scatterpolargl"
           }
          ],
          "scatterternary": [
           {
            "marker": {
             "colorbar": {
              "outlinewidth": 0,
              "tickcolor": "rgb(237,237,237)",
              "ticklen": 6,
              "ticks": "inside"
             }
            },
            "type": "scatterternary"
           }
          ],
          "surface": [
           {
            "colorbar": {
             "outlinewidth": 0,
             "tickcolor": "rgb(237,237,237)",
             "ticklen": 6,
             "ticks": "inside"
            },
            "colorscale": [
             [
              0,
              "rgb(20,44,66)"
             ],
             [
              1,
              "rgb(90,179,244)"
             ]
            ],
            "type": "surface"
           }
          ],
          "table": [
           {
            "cells": {
             "fill": {
              "color": "rgb(237,237,237)"
             },
             "line": {
              "color": "white"
             }
            },
            "header": {
             "fill": {
              "color": "rgb(217,217,217)"
             },
             "line": {
              "color": "white"
             }
            },
            "type": "table"
           }
          ]
         },
         "layout": {
          "annotationdefaults": {
           "arrowhead": 0,
           "arrowwidth": 1
          },
          "autotypenumbers": "strict",
          "coloraxis": {
           "colorbar": {
            "outlinewidth": 0,
            "tickcolor": "rgb(237,237,237)",
            "ticklen": 6,
            "ticks": "inside"
           }
          },
          "colorscale": {
           "sequential": [
            [
             0,
             "rgb(20,44,66)"
            ],
            [
             1,
             "rgb(90,179,244)"
            ]
           ],
           "sequentialminus": [
            [
             0,
             "rgb(20,44,66)"
            ],
            [
             1,
             "rgb(90,179,244)"
            ]
           ]
          },
          "colorway": [
           "#F8766D",
           "#A3A500",
           "#00BF7D",
           "#00B0F6",
           "#E76BF3"
          ],
          "font": {
           "color": "rgb(51,51,51)"
          },
          "geo": {
           "bgcolor": "white",
           "lakecolor": "white",
           "landcolor": "rgb(237,237,237)",
           "showlakes": true,
           "showland": true,
           "subunitcolor": "white"
          },
          "hoverlabel": {
           "align": "left"
          },
          "hovermode": "closest",
          "paper_bgcolor": "white",
          "plot_bgcolor": "rgb(237,237,237)",
          "polar": {
           "angularaxis": {
            "gridcolor": "white",
            "linecolor": "white",
            "showgrid": true,
            "tickcolor": "rgb(51,51,51)",
            "ticks": "outside"
           },
           "bgcolor": "rgb(237,237,237)",
           "radialaxis": {
            "gridcolor": "white",
            "linecolor": "white",
            "showgrid": true,
            "tickcolor": "rgb(51,51,51)",
            "ticks": "outside"
           }
          },
          "scene": {
           "xaxis": {
            "backgroundcolor": "rgb(237,237,237)",
            "gridcolor": "white",
            "gridwidth": 2,
            "linecolor": "white",
            "showbackground": true,
            "showgrid": true,
            "tickcolor": "rgb(51,51,51)",
            "ticks": "outside",
            "zerolinecolor": "white"
           },
           "yaxis": {
            "backgroundcolor": "rgb(237,237,237)",
            "gridcolor": "white",
            "gridwidth": 2,
            "linecolor": "white",
            "showbackground": true,
            "showgrid": true,
            "tickcolor": "rgb(51,51,51)",
            "ticks": "outside",
            "zerolinecolor": "white"
           },
           "zaxis": {
            "backgroundcolor": "rgb(237,237,237)",
            "gridcolor": "white",
            "gridwidth": 2,
            "linecolor": "white",
            "showbackground": true,
            "showgrid": true,
            "tickcolor": "rgb(51,51,51)",
            "ticks": "outside",
            "zerolinecolor": "white"
           }
          },
          "shapedefaults": {
           "fillcolor": "black",
           "line": {
            "width": 0
           },
           "opacity": 0.3
          },
          "ternary": {
           "aaxis": {
            "gridcolor": "white",
            "linecolor": "white",
            "showgrid": true,
            "tickcolor": "rgb(51,51,51)",
            "ticks": "outside"
           },
           "baxis": {
            "gridcolor": "white",
            "linecolor": "white",
            "showgrid": true,
            "tickcolor": "rgb(51,51,51)",
            "ticks": "outside"
           },
           "bgcolor": "rgb(237,237,237)",
           "caxis": {
            "gridcolor": "white",
            "linecolor": "white",
            "showgrid": true,
            "tickcolor": "rgb(51,51,51)",
            "ticks": "outside"
           }
          },
          "xaxis": {
           "automargin": true,
           "gridcolor": "white",
           "linecolor": "white",
           "showgrid": true,
           "tickcolor": "rgb(51,51,51)",
           "ticks": "outside",
           "title": {
            "standoff": 15
           },
           "zerolinecolor": "white"
          },
          "yaxis": {
           "automargin": true,
           "gridcolor": "white",
           "linecolor": "white",
           "showgrid": true,
           "tickcolor": "rgb(51,51,51)",
           "ticks": "outside",
           "title": {
            "standoff": 15
           },
           "zerolinecolor": "white"
          }
         }
        },
        "title": {
         "text": "Shapley values for abnormal samples"
        },
        "xaxis": {
         "anchor": "y",
         "categoryarray": [
          "IMC",
          "Estearoilcarnitina",
          "Ornitina",
          "Citrulina",
          "Valina",
          "Hexanoilcarnitina",
          "Isovalerilcarnitina",
          "Circunferencia de cintura",
          "Dodecanoilcarnitina",
          "Acetilcarnitina",
          "Carnitina libre",
          "Glutamato",
          "Tirosina",
          "Género",
          "Prolina",
          "Succinilacetona",
          "Palmitoilcarnitina",
          "PROTEINAProm_(G)",
          "3-OH-Palmitoilcarnitina",
          "tirosinax",
          "Aspartato",
          "Octanoilcarnitina",
          "Tetradecenoilcarnitina",
          "Decanoilcarnitina",
          "Me-Glutarilcarnitina",
          "Tetradecanoilcarnitina",
          "Arginina",
          "Alanina",
          "Glicina",
          "Metionina",
          "fenilalax",
          "3-OH-Linoleoilcarnitina",
          "Glutarilcarnitina",
          "3-OH-Isovalerilcarnitina",
          "Fenilalanina",
          "Linoleoilcarnitina",
          "%_proteina_natural",
          "Tiglilcarnitina",
          "Propionilcarnitina",
          "Leucina",
          "ohd3x",
          "ATPII/AHA/IDF",
          "aleator",
          "Butirilcarnitina",
          "%_Proteina_SP"
         ],
         "categoryorder": "array",
         "domain": [
          0,
          1
         ],
         "labelalias": {
          "%_Proteina_SP": "% SP Protein",
          "%_proteina_natural": "% Natural Protein",
          "3-OH-Isovalerilcarnitina": "3-OH-Isovalerylcarnitine",
          "3-OH-Linoleoilcarnitina": "3-OH-Linoleoylcarnitine",
          "3-OH-Palmitoilcarnitina": "3-OH-Palmitoylcarnitine",
          "ATPII/AHA/IDF": "ATPII/AHA/IDF",
          "Acetilcarnitina": "Acetylcarnitine",
          "Alanina": "Alanine",
          "Arginina": "Arginine",
          "Aspartato": "Aspartate",
          "Butirilcarnitina": "Butyrylcarnitine",
          "CALCIOProm_(MG)": "Calcium avg. (mg)",
          "CARBOHIDRATOProm_(G)": "CARBOHYDRATE avg. (g)",
          "COBREProm_(MG)": "Copper avg. (mg)",
          "COLESTEROLProm_(MG)": "CHOLESTEROL avg. (mg)",
          "Carnitina libre": "Free Carnitine",
          "Circunferencia de cintura": "Waist circumference",
          "Citrulina": "Citrulline",
          "Decanoilcarnitina": "Decanoylcarnitine",
          "Dodecanoilcarnitina": "Dodecanoylcarnitine",
          "ENERGIAProm_(KCAL)": "ENERGY avg. (KCAL)",
          "Edad": "Age",
          "Estatura": "Height",
          "Estearoilcarnitina": "Stearoylcarnitine",
          "FENILALANINAProm_(G)": "PHENYLALANINE_avg (g)",
          "FOLATOProm_(MCG)": "Folate avg. (MCG)",
          "Fenilalanina": "Phenylalanine",
          "GRASAProm(G)": "Fat avg. (g)",
          "Glicina": "Glycine",
          "Glutamato": "Glutamate",
          "Glutarilcarnitina": "Glutarylcarnitine",
          "Género": "gender",
          "HIERROProm_(MG)": "Iron avg. (mg)",
          "HOMA-IR alterado": "HOMA-IR altered",
          "HOMA2-IR": "HOMA2-IR",
          "HOMA2B(%)": "HOMA2B(%)",
          "HOMA2S%": "HOMA2S%",
          "Hexanoilcarnitina": "Hexanoylcarnitine",
          "IMC": "BMI",
          "Isovalerilcarnitina": "Isovalerylcarnitine",
          "Leucina": "Leucine",
          "Linoleoilcarnitina": "Linoleoilcarnitine",
          "Me-Glutarilcarnitina": "Me-Glutarylcarnitine",
          "Metionina": "Methionine",
          "Octanoilcarnitina": "Octanoylcarnitine",
          "Ornitina": "Ornithine",
          "PROTEINAProm_(G)": "Protein avg. (g)",
          "Palmitoilcarnitina": "Palmitoylcarnitine",
          "Peso": "Weight",
          "Prolina": "Proline",
          "Propionilcarnitina": "Propionylcarnitine",
          "Proteina_SP": "SP Protein",
          "Proteina_natural": "Protein natural",
          "SP_gr/kg": "SP (gr/kg)",
          "Succinilacetona": "Succinylacetone",
          "TIROSINAProm_(G)": "TYROSINE avg. (g)",
          "Tetradecanoilcarnitina": "Tetradecanoylcarnitine",
          "Tetradecenoilcarnitina": "Tetradecenoylcarnitine",
          "Tiglilcarnitina": "Tiglilcarnitine",
          "Tirosina": "Tyrosine",
          "VITAMINA_B12Prom_(MCG)": "Vitamin B12 avg. (MCG)",
          "VITAMINA_Dprom": "Vitamin D avg.",
          "Valina": "Valine",
          "ZINCProm_(MG)": "Zinc avg. (mg)",
          "aleator": "random",
          "fenilalax": "Phenylalax",
          "glummol": "Glummol",
          "glupromx": "Glupromx",
          "insuprom": "Insuprom",
          "ohd3x": "ohd3x",
          "quickix": "Quickix",
          "tirosinax": "Tyrosinax"
         },
         "title": {
          "text": "Feature in the dataset"
         }
        },
        "yaxis": {
         "anchor": "x",
         "domain": [
          0,
          1
         ],
         "title": {
          "text": "Shapley Value importance"
         }
        }
       }
      }
     },
     "metadata": {},
     "output_type": "display_data"
    },
    {
     "data": {
      "application/vnd.plotly.v1+json": {
       "config": {
        "plotlyServerURL": "https://plot.ly"
       },
       "data": [
        {
         "dimensions": [
          {
           "label": "BMI",
           "values": [
            0.25472983717918396,
            0.6055824160575867,
            0.38873717188835144,
            0.5633875131607056,
            0.8806160092353821,
            0.8921957612037659
           ]
          },
          {
           "label": "Stearoylcarnitine",
           "values": [
            0.8637084364891052,
            0.5343356728553772,
            0.6626813411712646,
            0.44431397318840027,
            0.711174726486206,
            1.0828181505203247
           ]
          },
          {
           "label": "Ornithine",
           "values": [
            0.41190865635871887,
            0.7259533405303955,
            1.0350075960159302,
            1.108931064605713,
            0.27830541133880615,
            0.480813592672348
           ]
          },
          {
           "label": "Citrulline",
           "values": [
            0.277005136013031,
            0,
            0.2442048043012619,
            0.1346818059682846,
            0.360075443983078,
            0.11840596050024033
           ]
          },
          {
           "label": "Valine",
           "values": [
            0,
            0.2576020061969757,
            0.18161790072917938,
            0.3748081624507904,
            0.2333536148071289,
            0.1052960529923439
           ]
          },
          {
           "label": "Hexanoylcarnitine",
           "values": [
            0,
            0.49382483959198,
            0.12221041321754456,
            0.42761480808258057,
            0,
            0.33075928688049316
           ]
          },
          {
           "label": "Isovalerylcarnitine",
           "values": [
            0.11432286351919174,
            0.14786933362483978,
            0.062295328825712204,
            0.06292776763439178,
            0.40070104598999023,
            0.1401117444038391
           ]
          },
          {
           "label": "Waist circumference",
           "values": [
            0,
            0.40391990542411804,
            0.1730378121137619,
            0.18331141769886017,
            0.170737624168396,
            0
           ]
          },
          {
           "label": "Dodecanoylcarnitine",
           "values": [
            0.8402379155158997,
            0,
            0.23905205726623535,
            0.06194530799984932,
            0,
            0.22501201927661896
           ]
          },
          {
           "label": "Acetylcarnitine",
           "values": [
            0.0966268852353096,
            0.14970068633556366,
            0.06798168271780014,
            0.20199765264987946,
            0.0493796169757843,
            0.11389897018671036
           ]
          },
          {
           "label": "auc_score",
           "values": [
            null,
            null,
            null,
            null,
            null,
            null
           ]
          }
         ],
         "domain": {
          "x": [
           0,
           1
          ],
          "y": [
           0,
           1
          ]
         },
         "line": {
          "color": [
           null,
           null,
           null,
           null,
           null,
           null
          ],
          "coloraxis": "coloraxis"
         },
         "name": "",
         "type": "parcoords"
        }
       ],
       "layout": {
        "coloraxis": {
         "colorbar": {
          "title": {
           "text": "auc_score"
          }
         },
         "colorscale": [
          [
           0,
           "#0d0887"
          ],
          [
           0.1111111111111111,
           "#46039f"
          ],
          [
           0.2222222222222222,
           "#7201a8"
          ],
          [
           0.3333333333333333,
           "#9c179e"
          ],
          [
           0.4444444444444444,
           "#bd3786"
          ],
          [
           0.5555555555555556,
           "#d8576b"
          ],
          [
           0.6666666666666666,
           "#ed7953"
          ],
          [
           0.7777777777777778,
           "#fb9f3a"
          ],
          [
           0.8888888888888888,
           "#fdca26"
          ],
          [
           1,
           "#f0f921"
          ]
         ],
         "showscale": false
        },
        "legend": {
         "tracegroupgap": 0
        },
        "template": {
         "data": {
          "bar": [
           {
            "error_x": {
             "color": "#2a3f5f"
            },
            "error_y": {
             "color": "#2a3f5f"
            },
            "marker": {
             "line": {
              "color": "#E5ECF6",
              "width": 0.5
             },
             "pattern": {
              "fillmode": "overlay",
              "size": 10,
              "solidity": 0.2
             }
            },
            "type": "bar"
           }
          ],
          "barpolar": [
           {
            "marker": {
             "line": {
              "color": "#E5ECF6",
              "width": 0.5
             },
             "pattern": {
              "fillmode": "overlay",
              "size": 10,
              "solidity": 0.2
             }
            },
            "type": "barpolar"
           }
          ],
          "carpet": [
           {
            "aaxis": {
             "endlinecolor": "#2a3f5f",
             "gridcolor": "white",
             "linecolor": "white",
             "minorgridcolor": "white",
             "startlinecolor": "#2a3f5f"
            },
            "baxis": {
             "endlinecolor": "#2a3f5f",
             "gridcolor": "white",
             "linecolor": "white",
             "minorgridcolor": "white",
             "startlinecolor": "#2a3f5f"
            },
            "type": "carpet"
           }
          ],
          "choropleth": [
           {
            "colorbar": {
             "outlinewidth": 0,
             "ticks": ""
            },
            "type": "choropleth"
           }
          ],
          "contour": [
           {
            "colorbar": {
             "outlinewidth": 0,
             "ticks": ""
            },
            "colorscale": [
             [
              0,
              "#0d0887"
             ],
             [
              0.1111111111111111,
              "#46039f"
             ],
             [
              0.2222222222222222,
              "#7201a8"
             ],
             [
              0.3333333333333333,
              "#9c179e"
             ],
             [
              0.4444444444444444,
              "#bd3786"
             ],
             [
              0.5555555555555556,
              "#d8576b"
             ],
             [
              0.6666666666666666,
              "#ed7953"
             ],
             [
              0.7777777777777778,
              "#fb9f3a"
             ],
             [
              0.8888888888888888,
              "#fdca26"
             ],
             [
              1,
              "#f0f921"
             ]
            ],
            "type": "contour"
           }
          ],
          "contourcarpet": [
           {
            "colorbar": {
             "outlinewidth": 0,
             "ticks": ""
            },
            "type": "contourcarpet"
           }
          ],
          "heatmap": [
           {
            "colorbar": {
             "outlinewidth": 0,
             "ticks": ""
            },
            "colorscale": [
             [
              0,
              "#0d0887"
             ],
             [
              0.1111111111111111,
              "#46039f"
             ],
             [
              0.2222222222222222,
              "#7201a8"
             ],
             [
              0.3333333333333333,
              "#9c179e"
             ],
             [
              0.4444444444444444,
              "#bd3786"
             ],
             [
              0.5555555555555556,
              "#d8576b"
             ],
             [
              0.6666666666666666,
              "#ed7953"
             ],
             [
              0.7777777777777778,
              "#fb9f3a"
             ],
             [
              0.8888888888888888,
              "#fdca26"
             ],
             [
              1,
              "#f0f921"
             ]
            ],
            "type": "heatmap"
           }
          ],
          "heatmapgl": [
           {
            "colorbar": {
             "outlinewidth": 0,
             "ticks": ""
            },
            "colorscale": [
             [
              0,
              "#0d0887"
             ],
             [
              0.1111111111111111,
              "#46039f"
             ],
             [
              0.2222222222222222,
              "#7201a8"
             ],
             [
              0.3333333333333333,
              "#9c179e"
             ],
             [
              0.4444444444444444,
              "#bd3786"
             ],
             [
              0.5555555555555556,
              "#d8576b"
             ],
             [
              0.6666666666666666,
              "#ed7953"
             ],
             [
              0.7777777777777778,
              "#fb9f3a"
             ],
             [
              0.8888888888888888,
              "#fdca26"
             ],
             [
              1,
              "#f0f921"
             ]
            ],
            "type": "heatmapgl"
           }
          ],
          "histogram": [
           {
            "marker": {
             "pattern": {
              "fillmode": "overlay",
              "size": 10,
              "solidity": 0.2
             }
            },
            "type": "histogram"
           }
          ],
          "histogram2d": [
           {
            "colorbar": {
             "outlinewidth": 0,
             "ticks": ""
            },
            "colorscale": [
             [
              0,
              "#0d0887"
             ],
             [
              0.1111111111111111,
              "#46039f"
             ],
             [
              0.2222222222222222,
              "#7201a8"
             ],
             [
              0.3333333333333333,
              "#9c179e"
             ],
             [
              0.4444444444444444,
              "#bd3786"
             ],
             [
              0.5555555555555556,
              "#d8576b"
             ],
             [
              0.6666666666666666,
              "#ed7953"
             ],
             [
              0.7777777777777778,
              "#fb9f3a"
             ],
             [
              0.8888888888888888,
              "#fdca26"
             ],
             [
              1,
              "#f0f921"
             ]
            ],
            "type": "histogram2d"
           }
          ],
          "histogram2dcontour": [
           {
            "colorbar": {
             "outlinewidth": 0,
             "ticks": ""
            },
            "colorscale": [
             [
              0,
              "#0d0887"
             ],
             [
              0.1111111111111111,
              "#46039f"
             ],
             [
              0.2222222222222222,
              "#7201a8"
             ],
             [
              0.3333333333333333,
              "#9c179e"
             ],
             [
              0.4444444444444444,
              "#bd3786"
             ],
             [
              0.5555555555555556,
              "#d8576b"
             ],
             [
              0.6666666666666666,
              "#ed7953"
             ],
             [
              0.7777777777777778,
              "#fb9f3a"
             ],
             [
              0.8888888888888888,
              "#fdca26"
             ],
             [
              1,
              "#f0f921"
             ]
            ],
            "type": "histogram2dcontour"
           }
          ],
          "mesh3d": [
           {
            "colorbar": {
             "outlinewidth": 0,
             "ticks": ""
            },
            "type": "mesh3d"
           }
          ],
          "parcoords": [
           {
            "line": {
             "colorbar": {
              "outlinewidth": 0,
              "ticks": ""
             }
            },
            "type": "parcoords"
           }
          ],
          "pie": [
           {
            "automargin": true,
            "type": "pie"
           }
          ],
          "scatter": [
           {
            "fillpattern": {
             "fillmode": "overlay",
             "size": 10,
             "solidity": 0.2
            },
            "type": "scatter"
           }
          ],
          "scatter3d": [
           {
            "line": {
             "colorbar": {
              "outlinewidth": 0,
              "ticks": ""
             }
            },
            "marker": {
             "colorbar": {
              "outlinewidth": 0,
              "ticks": ""
             }
            },
            "type": "scatter3d"
           }
          ],
          "scattercarpet": [
           {
            "marker": {
             "colorbar": {
              "outlinewidth": 0,
              "ticks": ""
             }
            },
            "type": "scattercarpet"
           }
          ],
          "scattergeo": [
           {
            "marker": {
             "colorbar": {
              "outlinewidth": 0,
              "ticks": ""
             }
            },
            "type": "scattergeo"
           }
          ],
          "scattergl": [
           {
            "marker": {
             "colorbar": {
              "outlinewidth": 0,
              "ticks": ""
             }
            },
            "type": "scattergl"
           }
          ],
          "scattermapbox": [
           {
            "marker": {
             "colorbar": {
              "outlinewidth": 0,
              "ticks": ""
             }
            },
            "type": "scattermapbox"
           }
          ],
          "scatterpolar": [
           {
            "marker": {
             "colorbar": {
              "outlinewidth": 0,
              "ticks": ""
             }
            },
            "type": "scatterpolar"
           }
          ],
          "scatterpolargl": [
           {
            "marker": {
             "colorbar": {
              "outlinewidth": 0,
              "ticks": ""
             }
            },
            "type": "scatterpolargl"
           }
          ],
          "scatterternary": [
           {
            "marker": {
             "colorbar": {
              "outlinewidth": 0,
              "ticks": ""
             }
            },
            "type": "scatterternary"
           }
          ],
          "surface": [
           {
            "colorbar": {
             "outlinewidth": 0,
             "ticks": ""
            },
            "colorscale": [
             [
              0,
              "#0d0887"
             ],
             [
              0.1111111111111111,
              "#46039f"
             ],
             [
              0.2222222222222222,
              "#7201a8"
             ],
             [
              0.3333333333333333,
              "#9c179e"
             ],
             [
              0.4444444444444444,
              "#bd3786"
             ],
             [
              0.5555555555555556,
              "#d8576b"
             ],
             [
              0.6666666666666666,
              "#ed7953"
             ],
             [
              0.7777777777777778,
              "#fb9f3a"
             ],
             [
              0.8888888888888888,
              "#fdca26"
             ],
             [
              1,
              "#f0f921"
             ]
            ],
            "type": "surface"
           }
          ],
          "table": [
           {
            "cells": {
             "fill": {
              "color": "#EBF0F8"
             },
             "line": {
              "color": "white"
             }
            },
            "header": {
             "fill": {
              "color": "#C8D4E3"
             },
             "line": {
              "color": "white"
             }
            },
            "type": "table"
           }
          ]
         },
         "layout": {
          "annotationdefaults": {
           "arrowcolor": "#2a3f5f",
           "arrowhead": 0,
           "arrowwidth": 1
          },
          "autotypenumbers": "strict",
          "coloraxis": {
           "colorbar": {
            "outlinewidth": 0,
            "ticks": ""
           }
          },
          "colorscale": {
           "diverging": [
            [
             0,
             "#8e0152"
            ],
            [
             0.1,
             "#c51b7d"
            ],
            [
             0.2,
             "#de77ae"
            ],
            [
             0.3,
             "#f1b6da"
            ],
            [
             0.4,
             "#fde0ef"
            ],
            [
             0.5,
             "#f7f7f7"
            ],
            [
             0.6,
             "#e6f5d0"
            ],
            [
             0.7,
             "#b8e186"
            ],
            [
             0.8,
             "#7fbc41"
            ],
            [
             0.9,
             "#4d9221"
            ],
            [
             1,
             "#276419"
            ]
           ],
           "sequential": [
            [
             0,
             "#0d0887"
            ],
            [
             0.1111111111111111,
             "#46039f"
            ],
            [
             0.2222222222222222,
             "#7201a8"
            ],
            [
             0.3333333333333333,
             "#9c179e"
            ],
            [
             0.4444444444444444,
             "#bd3786"
            ],
            [
             0.5555555555555556,
             "#d8576b"
            ],
            [
             0.6666666666666666,
             "#ed7953"
            ],
            [
             0.7777777777777778,
             "#fb9f3a"
            ],
            [
             0.8888888888888888,
             "#fdca26"
            ],
            [
             1,
             "#f0f921"
            ]
           ],
           "sequentialminus": [
            [
             0,
             "#0d0887"
            ],
            [
             0.1111111111111111,
             "#46039f"
            ],
            [
             0.2222222222222222,
             "#7201a8"
            ],
            [
             0.3333333333333333,
             "#9c179e"
            ],
            [
             0.4444444444444444,
             "#bd3786"
            ],
            [
             0.5555555555555556,
             "#d8576b"
            ],
            [
             0.6666666666666666,
             "#ed7953"
            ],
            [
             0.7777777777777778,
             "#fb9f3a"
            ],
            [
             0.8888888888888888,
             "#fdca26"
            ],
            [
             1,
             "#f0f921"
            ]
           ]
          },
          "colorway": [
           "#636efa",
           "#EF553B",
           "#00cc96",
           "#ab63fa",
           "#FFA15A",
           "#19d3f3",
           "#FF6692",
           "#B6E880",
           "#FF97FF",
           "#FECB52"
          ],
          "font": {
           "color": "#2a3f5f"
          },
          "geo": {
           "bgcolor": "white",
           "lakecolor": "white",
           "landcolor": "#E5ECF6",
           "showlakes": true,
           "showland": true,
           "subunitcolor": "white"
          },
          "hoverlabel": {
           "align": "left"
          },
          "hovermode": "closest",
          "mapbox": {
           "style": "light"
          },
          "paper_bgcolor": "white",
          "plot_bgcolor": "#E5ECF6",
          "polar": {
           "angularaxis": {
            "gridcolor": "white",
            "linecolor": "white",
            "ticks": ""
           },
           "bgcolor": "#E5ECF6",
           "radialaxis": {
            "gridcolor": "white",
            "linecolor": "white",
            "ticks": ""
           }
          },
          "scene": {
           "xaxis": {
            "backgroundcolor": "#E5ECF6",
            "gridcolor": "white",
            "gridwidth": 2,
            "linecolor": "white",
            "showbackground": true,
            "ticks": "",
            "zerolinecolor": "white"
           },
           "yaxis": {
            "backgroundcolor": "#E5ECF6",
            "gridcolor": "white",
            "gridwidth": 2,
            "linecolor": "white",
            "showbackground": true,
            "ticks": "",
            "zerolinecolor": "white"
           },
           "zaxis": {
            "backgroundcolor": "#E5ECF6",
            "gridcolor": "white",
            "gridwidth": 2,
            "linecolor": "white",
            "showbackground": true,
            "ticks": "",
            "zerolinecolor": "white"
           }
          },
          "shapedefaults": {
           "line": {
            "color": "#2a3f5f"
           }
          },
          "ternary": {
           "aaxis": {
            "gridcolor": "white",
            "linecolor": "white",
            "ticks": ""
           },
           "baxis": {
            "gridcolor": "white",
            "linecolor": "white",
            "ticks": ""
           },
           "bgcolor": "#E5ECF6",
           "caxis": {
            "gridcolor": "white",
            "linecolor": "white",
            "ticks": ""
           }
          },
          "title": {
           "x": 0.05
          },
          "xaxis": {
           "automargin": true,
           "gridcolor": "white",
           "linecolor": "white",
           "ticks": "",
           "title": {
            "standoff": 15
           },
           "zerolinecolor": "white",
           "zerolinewidth": 2
          },
          "yaxis": {
           "automargin": true,
           "gridcolor": "white",
           "linecolor": "white",
           "ticks": "",
           "title": {
            "standoff": 15
           },
           "zerolinecolor": "white",
           "zerolinewidth": 2
          }
         }
        },
        "title": {
         "text": "Shapley values for abnormal samples - ADASYNT"
        },
        "xaxis": {
         "title": {
          "text": "Feature in the dataset"
         }
        },
        "yaxis": {
         "title": {
          "text": "Shapley Value importance"
         }
        }
       }
      }
     },
     "metadata": {},
     "output_type": "display_data"
    }
   ],
   "source": [
    "make_pareto_plot(study_BorderlineSMOTE_sampling)\n",
    "make_ranking_plots(study_BorderlineSMOTE_sampling, study_BorderlineSMOTE)\n",
    "\n"
   ]
  },
  {
   "cell_type": "code",
   "execution_count": 11,
   "metadata": {},
   "outputs": [
    {
     "data": {
      "application/vnd.plotly.v1+json": {
       "config": {
        "plotlyServerURL": "https://plot.ly"
       },
       "data": [
        {
         "marker": {
          "line": {
           "color": "black",
           "width": 1
          },
          "opacity": 0.5,
          "size": 8,
          "symbol": "circle"
         },
         "mode": "markers",
         "name": "Suboptimal",
         "type": "scatter",
         "x": [
          0.7777777777777779,
          0.6944444444444444,
          0.8333333333333334,
          0.6944444444444444,
          0.3611111111111111,
          0.5384615384615384,
          0.7692307692307692,
          0.7307692307692308,
          0.9230769230769231,
          0.6346153846153846,
          0.888888888888889,
          0.5,
          0.6944444444444444,
          0.5769230769230769,
          0.6944444444444444,
          0.7222222222222221,
          0.34615384615384615,
          0.8055555555555556,
          0.6153846153846154,
          0.7692307692307693,
          0.7222222222222222,
          0.7307692307692308,
          0.7777777777777777,
          0.7222222222222221,
          0.42307692307692313,
          0.6944444444444444,
          0.38888888888888884,
          0.6388888888888888,
          0.6923076923076923,
          0.8611111111111112,
          0.6944444444444444,
          0.7692307692307693,
          0.8076923076923076,
          0.8461538461538461,
          0.7307692307692308,
          0.7777777777777779,
          0.846153846153846,
          0.6538461538461539,
          0.6388888888888888,
          0.6153846153846154,
          0.6666666666666666,
          0.75,
          0.25,
          0.8055555555555555,
          0.75,
          0.888888888888889
         ],
         "y": [
          0,
          0.07634490728378296,
          0,
          0,
          0,
          0.07793014496564865,
          0,
          0,
          0,
          0,
          0,
          0,
          0,
          0.08212698251008987,
          0,
          0,
          0,
          0,
          0,
          0.05122285336256027,
          0.043024782091379166,
          0,
          0,
          0,
          0.06764037907123566,
          0.06648396700620651,
          0,
          0,
          0.058298543095588684,
          0,
          0,
          0,
          0,
          0,
          0,
          0.07591857761144638,
          0,
          0,
          0.06129869818687439,
          0,
          0.06300873309373856,
          0,
          0,
          0,
          0,
          0
         ]
        },
        {
         "marker": {
          "line": {
           "color": "black",
           "width": 1
          },
          "opacity": 0.5,
          "size": 8,
          "symbol": "square"
         },
         "mode": "markers",
         "name": "Pareto frontier",
         "type": "scatter",
         "x": [
          0.8846153846153846,
          0.7692307692307693,
          0.9615384615384616,
          0.9615384615384616
         ],
         "y": [
          0.11632892489433289,
          0.22372330725193024,
          0,
          0
         ]
        }
       ],
       "layout": {
        "font": {
         "size": 18
        },
        "height": 400,
        "legend": {
         "bgcolor": "rgba(255, 255, 255, 0)",
         "orientation": "h",
         "x": 0.3,
         "y": 1.1
        },
        "margin": {
         "b": 0,
         "l": 0,
         "r": 0,
         "t": 0
        },
        "shapes": [
         {
          "fillcolor": "darkgreen",
          "layer": "below",
          "line": {
           "width": 0
          },
          "opacity": 0.2,
          "type": "rect",
          "x0": 0.8,
          "x1": 0.9615384615384616,
          "xref": "x",
          "y0": 0,
          "y1": 1,
          "yref": "paper"
         }
        ],
        "template": {
         "data": {
          "bar": [
           {
            "error_x": {
             "color": "#2a3f5f"
            },
            "error_y": {
             "color": "#2a3f5f"
            },
            "marker": {
             "line": {
              "color": "#E5ECF6",
              "width": 0.5
             },
             "pattern": {
              "fillmode": "overlay",
              "size": 10,
              "solidity": 0.2
             }
            },
            "type": "bar"
           }
          ],
          "barpolar": [
           {
            "marker": {
             "line": {
              "color": "#E5ECF6",
              "width": 0.5
             },
             "pattern": {
              "fillmode": "overlay",
              "size": 10,
              "solidity": 0.2
             }
            },
            "type": "barpolar"
           }
          ],
          "carpet": [
           {
            "aaxis": {
             "endlinecolor": "#2a3f5f",
             "gridcolor": "white",
             "linecolor": "white",
             "minorgridcolor": "white",
             "startlinecolor": "#2a3f5f"
            },
            "baxis": {
             "endlinecolor": "#2a3f5f",
             "gridcolor": "white",
             "linecolor": "white",
             "minorgridcolor": "white",
             "startlinecolor": "#2a3f5f"
            },
            "type": "carpet"
           }
          ],
          "choropleth": [
           {
            "colorbar": {
             "outlinewidth": 0,
             "ticks": ""
            },
            "type": "choropleth"
           }
          ],
          "contour": [
           {
            "colorbar": {
             "outlinewidth": 0,
             "ticks": ""
            },
            "colorscale": [
             [
              0,
              "#0d0887"
             ],
             [
              0.1111111111111111,
              "#46039f"
             ],
             [
              0.2222222222222222,
              "#7201a8"
             ],
             [
              0.3333333333333333,
              "#9c179e"
             ],
             [
              0.4444444444444444,
              "#bd3786"
             ],
             [
              0.5555555555555556,
              "#d8576b"
             ],
             [
              0.6666666666666666,
              "#ed7953"
             ],
             [
              0.7777777777777778,
              "#fb9f3a"
             ],
             [
              0.8888888888888888,
              "#fdca26"
             ],
             [
              1,
              "#f0f921"
             ]
            ],
            "type": "contour"
           }
          ],
          "contourcarpet": [
           {
            "colorbar": {
             "outlinewidth": 0,
             "ticks": ""
            },
            "type": "contourcarpet"
           }
          ],
          "heatmap": [
           {
            "colorbar": {
             "outlinewidth": 0,
             "ticks": ""
            },
            "colorscale": [
             [
              0,
              "#0d0887"
             ],
             [
              0.1111111111111111,
              "#46039f"
             ],
             [
              0.2222222222222222,
              "#7201a8"
             ],
             [
              0.3333333333333333,
              "#9c179e"
             ],
             [
              0.4444444444444444,
              "#bd3786"
             ],
             [
              0.5555555555555556,
              "#d8576b"
             ],
             [
              0.6666666666666666,
              "#ed7953"
             ],
             [
              0.7777777777777778,
              "#fb9f3a"
             ],
             [
              0.8888888888888888,
              "#fdca26"
             ],
             [
              1,
              "#f0f921"
             ]
            ],
            "type": "heatmap"
           }
          ],
          "heatmapgl": [
           {
            "colorbar": {
             "outlinewidth": 0,
             "ticks": ""
            },
            "colorscale": [
             [
              0,
              "#0d0887"
             ],
             [
              0.1111111111111111,
              "#46039f"
             ],
             [
              0.2222222222222222,
              "#7201a8"
             ],
             [
              0.3333333333333333,
              "#9c179e"
             ],
             [
              0.4444444444444444,
              "#bd3786"
             ],
             [
              0.5555555555555556,
              "#d8576b"
             ],
             [
              0.6666666666666666,
              "#ed7953"
             ],
             [
              0.7777777777777778,
              "#fb9f3a"
             ],
             [
              0.8888888888888888,
              "#fdca26"
             ],
             [
              1,
              "#f0f921"
             ]
            ],
            "type": "heatmapgl"
           }
          ],
          "histogram": [
           {
            "marker": {
             "pattern": {
              "fillmode": "overlay",
              "size": 10,
              "solidity": 0.2
             }
            },
            "type": "histogram"
           }
          ],
          "histogram2d": [
           {
            "colorbar": {
             "outlinewidth": 0,
             "ticks": ""
            },
            "colorscale": [
             [
              0,
              "#0d0887"
             ],
             [
              0.1111111111111111,
              "#46039f"
             ],
             [
              0.2222222222222222,
              "#7201a8"
             ],
             [
              0.3333333333333333,
              "#9c179e"
             ],
             [
              0.4444444444444444,
              "#bd3786"
             ],
             [
              0.5555555555555556,
              "#d8576b"
             ],
             [
              0.6666666666666666,
              "#ed7953"
             ],
             [
              0.7777777777777778,
              "#fb9f3a"
             ],
             [
              0.8888888888888888,
              "#fdca26"
             ],
             [
              1,
              "#f0f921"
             ]
            ],
            "type": "histogram2d"
           }
          ],
          "histogram2dcontour": [
           {
            "colorbar": {
             "outlinewidth": 0,
             "ticks": ""
            },
            "colorscale": [
             [
              0,
              "#0d0887"
             ],
             [
              0.1111111111111111,
              "#46039f"
             ],
             [
              0.2222222222222222,
              "#7201a8"
             ],
             [
              0.3333333333333333,
              "#9c179e"
             ],
             [
              0.4444444444444444,
              "#bd3786"
             ],
             [
              0.5555555555555556,
              "#d8576b"
             ],
             [
              0.6666666666666666,
              "#ed7953"
             ],
             [
              0.7777777777777778,
              "#fb9f3a"
             ],
             [
              0.8888888888888888,
              "#fdca26"
             ],
             [
              1,
              "#f0f921"
             ]
            ],
            "type": "histogram2dcontour"
           }
          ],
          "mesh3d": [
           {
            "colorbar": {
             "outlinewidth": 0,
             "ticks": ""
            },
            "type": "mesh3d"
           }
          ],
          "parcoords": [
           {
            "line": {
             "colorbar": {
              "outlinewidth": 0,
              "ticks": ""
             }
            },
            "type": "parcoords"
           }
          ],
          "pie": [
           {
            "automargin": true,
            "type": "pie"
           }
          ],
          "scatter": [
           {
            "fillpattern": {
             "fillmode": "overlay",
             "size": 10,
             "solidity": 0.2
            },
            "type": "scatter"
           }
          ],
          "scatter3d": [
           {
            "line": {
             "colorbar": {
              "outlinewidth": 0,
              "ticks": ""
             }
            },
            "marker": {
             "colorbar": {
              "outlinewidth": 0,
              "ticks": ""
             }
            },
            "type": "scatter3d"
           }
          ],
          "scattercarpet": [
           {
            "marker": {
             "colorbar": {
              "outlinewidth": 0,
              "ticks": ""
             }
            },
            "type": "scattercarpet"
           }
          ],
          "scattergeo": [
           {
            "marker": {
             "colorbar": {
              "outlinewidth": 0,
              "ticks": ""
             }
            },
            "type": "scattergeo"
           }
          ],
          "scattergl": [
           {
            "marker": {
             "colorbar": {
              "outlinewidth": 0,
              "ticks": ""
             }
            },
            "type": "scattergl"
           }
          ],
          "scattermapbox": [
           {
            "marker": {
             "colorbar": {
              "outlinewidth": 0,
              "ticks": ""
             }
            },
            "type": "scattermapbox"
           }
          ],
          "scatterpolar": [
           {
            "marker": {
             "colorbar": {
              "outlinewidth": 0,
              "ticks": ""
             }
            },
            "type": "scatterpolar"
           }
          ],
          "scatterpolargl": [
           {
            "marker": {
             "colorbar": {
              "outlinewidth": 0,
              "ticks": ""
             }
            },
            "type": "scatterpolargl"
           }
          ],
          "scatterternary": [
           {
            "marker": {
             "colorbar": {
              "outlinewidth": 0,
              "ticks": ""
             }
            },
            "type": "scatterternary"
           }
          ],
          "surface": [
           {
            "colorbar": {
             "outlinewidth": 0,
             "ticks": ""
            },
            "colorscale": [
             [
              0,
              "#0d0887"
             ],
             [
              0.1111111111111111,
              "#46039f"
             ],
             [
              0.2222222222222222,
              "#7201a8"
             ],
             [
              0.3333333333333333,
              "#9c179e"
             ],
             [
              0.4444444444444444,
              "#bd3786"
             ],
             [
              0.5555555555555556,
              "#d8576b"
             ],
             [
              0.6666666666666666,
              "#ed7953"
             ],
             [
              0.7777777777777778,
              "#fb9f3a"
             ],
             [
              0.8888888888888888,
              "#fdca26"
             ],
             [
              1,
              "#f0f921"
             ]
            ],
            "type": "surface"
           }
          ],
          "table": [
           {
            "cells": {
             "fill": {
              "color": "#EBF0F8"
             },
             "line": {
              "color": "white"
             }
            },
            "header": {
             "fill": {
              "color": "#C8D4E3"
             },
             "line": {
              "color": "white"
             }
            },
            "type": "table"
           }
          ]
         },
         "layout": {
          "annotationdefaults": {
           "arrowcolor": "#2a3f5f",
           "arrowhead": 0,
           "arrowwidth": 1
          },
          "autotypenumbers": "strict",
          "coloraxis": {
           "colorbar": {
            "outlinewidth": 0,
            "ticks": ""
           }
          },
          "colorscale": {
           "diverging": [
            [
             0,
             "#8e0152"
            ],
            [
             0.1,
             "#c51b7d"
            ],
            [
             0.2,
             "#de77ae"
            ],
            [
             0.3,
             "#f1b6da"
            ],
            [
             0.4,
             "#fde0ef"
            ],
            [
             0.5,
             "#f7f7f7"
            ],
            [
             0.6,
             "#e6f5d0"
            ],
            [
             0.7,
             "#b8e186"
            ],
            [
             0.8,
             "#7fbc41"
            ],
            [
             0.9,
             "#4d9221"
            ],
            [
             1,
             "#276419"
            ]
           ],
           "sequential": [
            [
             0,
             "#0d0887"
            ],
            [
             0.1111111111111111,
             "#46039f"
            ],
            [
             0.2222222222222222,
             "#7201a8"
            ],
            [
             0.3333333333333333,
             "#9c179e"
            ],
            [
             0.4444444444444444,
             "#bd3786"
            ],
            [
             0.5555555555555556,
             "#d8576b"
            ],
            [
             0.6666666666666666,
             "#ed7953"
            ],
            [
             0.7777777777777778,
             "#fb9f3a"
            ],
            [
             0.8888888888888888,
             "#fdca26"
            ],
            [
             1,
             "#f0f921"
            ]
           ],
           "sequentialminus": [
            [
             0,
             "#0d0887"
            ],
            [
             0.1111111111111111,
             "#46039f"
            ],
            [
             0.2222222222222222,
             "#7201a8"
            ],
            [
             0.3333333333333333,
             "#9c179e"
            ],
            [
             0.4444444444444444,
             "#bd3786"
            ],
            [
             0.5555555555555556,
             "#d8576b"
            ],
            [
             0.6666666666666666,
             "#ed7953"
            ],
            [
             0.7777777777777778,
             "#fb9f3a"
            ],
            [
             0.8888888888888888,
             "#fdca26"
            ],
            [
             1,
             "#f0f921"
            ]
           ]
          },
          "colorway": [
           "#636efa",
           "#EF553B",
           "#00cc96",
           "#ab63fa",
           "#FFA15A",
           "#19d3f3",
           "#FF6692",
           "#B6E880",
           "#FF97FF",
           "#FECB52"
          ],
          "font": {
           "color": "#2a3f5f"
          },
          "geo": {
           "bgcolor": "white",
           "lakecolor": "white",
           "landcolor": "#E5ECF6",
           "showlakes": true,
           "showland": true,
           "subunitcolor": "white"
          },
          "hoverlabel": {
           "align": "left"
          },
          "hovermode": "closest",
          "mapbox": {
           "style": "light"
          },
          "paper_bgcolor": "white",
          "plot_bgcolor": "#E5ECF6",
          "polar": {
           "angularaxis": {
            "gridcolor": "white",
            "linecolor": "white",
            "ticks": ""
           },
           "bgcolor": "#E5ECF6",
           "radialaxis": {
            "gridcolor": "white",
            "linecolor": "white",
            "ticks": ""
           }
          },
          "scene": {
           "xaxis": {
            "backgroundcolor": "#E5ECF6",
            "gridcolor": "white",
            "gridwidth": 2,
            "linecolor": "white",
            "showbackground": true,
            "ticks": "",
            "zerolinecolor": "white"
           },
           "yaxis": {
            "backgroundcolor": "#E5ECF6",
            "gridcolor": "white",
            "gridwidth": 2,
            "linecolor": "white",
            "showbackground": true,
            "ticks": "",
            "zerolinecolor": "white"
           },
           "zaxis": {
            "backgroundcolor": "#E5ECF6",
            "gridcolor": "white",
            "gridwidth": 2,
            "linecolor": "white",
            "showbackground": true,
            "ticks": "",
            "zerolinecolor": "white"
           }
          },
          "shapedefaults": {
           "line": {
            "color": "#2a3f5f"
           }
          },
          "ternary": {
           "aaxis": {
            "gridcolor": "white",
            "linecolor": "white",
            "ticks": ""
           },
           "baxis": {
            "gridcolor": "white",
            "linecolor": "white",
            "ticks": ""
           },
           "bgcolor": "#E5ECF6",
           "caxis": {
            "gridcolor": "white",
            "linecolor": "white",
            "ticks": ""
           }
          },
          "title": {
           "x": 0.05
          },
          "xaxis": {
           "automargin": true,
           "gridcolor": "white",
           "linecolor": "white",
           "ticks": "",
           "title": {
            "standoff": 15
           },
           "zerolinecolor": "white",
           "zerolinewidth": 2
          },
          "yaxis": {
           "automargin": true,
           "gridcolor": "white",
           "linecolor": "white",
           "ticks": "",
           "title": {
            "standoff": 15
           },
           "zerolinecolor": "white",
           "zerolinewidth": 2
          }
         }
        },
        "width": 900,
        "xaxis": {
         "range": [
          -0.05,
          1.05
         ],
         "title": {
          "font": {
           "size": 19
          },
          "text": "Model performance (AUC)"
         }
        },
        "yaxis": {
         "range": [
          -0.05,
          0.85
         ],
         "title": {
          "font": {
           "size": 19
          },
          "text": "Phe importance (Shapley value)"
         }
        }
       }
      }
     },
     "metadata": {},
     "output_type": "display_data"
    },
    {
     "name": "stdout",
     "output_type": "stream",
     "text": [
      "{'best_iteration': '17', 'best_ntree_limit': '18', 'best_score': '0.36452599316835405'}\n",
      "Phe_value :  0.063839234 \t Phe_ranking :  17.0\n",
      "\n",
      "\n",
      "{'best_iteration': '35', 'best_ntree_limit': '36', 'best_score': '0.40823632553219796'}\n",
      "Phe_value :  0.02258902 \t Phe_ranking :  21.0\n",
      "\n",
      "\n",
      "{'best_iteration': '68', 'best_ntree_limit': '69', 'best_score': '0.10720739029347896'}\n",
      "Phe_value :  0.0 \t Phe_ranking :  35.0\n",
      "\n",
      "\n",
      "{'best_iteration': '35', 'best_ntree_limit': '36', 'best_score': '0.17442217450588943'}\n",
      "Phe_value :  0.0 \t Phe_ranking :  35.0\n",
      "\n",
      "\n"
     ]
    },
    {
     "data": {
      "application/vnd.plotly.v1+json": {
       "config": {
        "plotlyServerURL": "https://plot.ly"
       },
       "data": [
        {
         "alignmentgroup": "True",
         "hovertemplate": "variable=9637.0<br>index=%{x}<br>value=%{y}<extra></extra>",
         "legendgroup": "9637.0",
         "marker": {
          "color": "#F8766D",
          "pattern": {
           "shape": ""
          }
         },
         "name": "9637.0",
         "offsetgroup": "9637.0",
         "orientation": "v",
         "showlegend": true,
         "textposition": "auto",
         "type": "bar",
         "x": [
          "Género",
          "aleator",
          "IMC",
          "Circunferencia de cintura",
          "ATPII/AHA/IDF",
          "fenilalax",
          "ohd3x",
          "tirosinax",
          "Alanina",
          "Aspartato",
          "Glutamato",
          "Leucina",
          "Ornitina",
          "Prolina",
          "Tirosina",
          "Carnitina libre",
          "Propionilcarnitina",
          "Isovalerilcarnitina",
          "Tiglilcarnitina",
          "Me-Glutarilcarnitina",
          "Decanoilcarnitina",
          "Tetradecanoilcarnitina",
          "3-OH-Isovalerilcarnitina",
          "3-OH-Palmitoilcarnitina",
          "Linoleoilcarnitina",
          "Arginina",
          "Citrulina",
          "Glicina",
          "Metionina",
          "Fenilalanina",
          "Succinilacetona",
          "Valina",
          "Acetilcarnitina",
          "Butirilcarnitina",
          "Glutarilcarnitina",
          "Hexanoilcarnitina",
          "Octanoilcarnitina",
          "Dodecanoilcarnitina",
          "Tetradecenoilcarnitina",
          "Palmitoilcarnitina",
          "Estearoilcarnitina",
          "3-OH-Linoleoilcarnitina",
          "PROTEINAProm_(G)",
          "%_proteina_natural",
          "%_Proteina_SP"
         ],
         "xaxis": "x",
         "y": [
          0,
          0,
          0.4141348600387573,
          0.2662385404109955,
          0,
          0.06383923441171646,
          0.08502516150474548,
          0,
          0.10702434182167053,
          0,
          0,
          0,
          0.3227229416370392,
          0.013733361847698689,
          0,
          0.1105702817440033,
          0,
          0.08224157243967056,
          0,
          0,
          0,
          0,
          0.061480361968278885,
          0,
          0,
          0,
          0.20828019082546234,
          0,
          0,
          0,
          0,
          0.10029030591249466,
          0.15077118575572968,
          0.18008290231227875,
          0,
          0.4220006763935089,
          0.137173131108284,
          0.6964494585990906,
          0,
          0.0765184834599495,
          0.28778305649757385,
          0,
          0.06375734508037567,
          0,
          0
         ],
         "yaxis": "y"
        },
        {
         "alignmentgroup": "True",
         "hovertemplate": "variable=3901.0<br>index=%{x}<br>value=%{y}<extra></extra>",
         "legendgroup": "3901.0",
         "marker": {
          "color": "#A3A500",
          "pattern": {
           "shape": ""
          }
         },
         "name": "3901.0",
         "offsetgroup": "3901.0",
         "orientation": "v",
         "showlegend": true,
         "textposition": "auto",
         "type": "bar",
         "x": [
          "Género",
          "aleator",
          "IMC",
          "Circunferencia de cintura",
          "ATPII/AHA/IDF",
          "fenilalax",
          "ohd3x",
          "tirosinax",
          "Alanina",
          "Aspartato",
          "Glutamato",
          "Leucina",
          "Ornitina",
          "Prolina",
          "Tirosina",
          "Carnitina libre",
          "Propionilcarnitina",
          "Isovalerilcarnitina",
          "Tiglilcarnitina",
          "Me-Glutarilcarnitina",
          "Decanoilcarnitina",
          "Tetradecanoilcarnitina",
          "3-OH-Isovalerilcarnitina",
          "3-OH-Palmitoilcarnitina",
          "Linoleoilcarnitina",
          "Arginina",
          "Citrulina",
          "Glicina",
          "Metionina",
          "Fenilalanina",
          "Succinilacetona",
          "Valina",
          "Acetilcarnitina",
          "Butirilcarnitina",
          "Glutarilcarnitina",
          "Hexanoilcarnitina",
          "Octanoilcarnitina",
          "Dodecanoilcarnitina",
          "Tetradecenoilcarnitina",
          "Palmitoilcarnitina",
          "Estearoilcarnitina",
          "3-OH-Linoleoilcarnitina",
          "PROTEINAProm_(G)",
          "%_proteina_natural",
          "%_Proteina_SP"
         ],
         "xaxis": "x",
         "y": [
          0,
          0,
          0.5890426635742188,
          0.18598783016204834,
          0,
          0.022589020431041718,
          0.18521928787231445,
          0,
          0.21794772148132324,
          0,
          0,
          0.05053429678082466,
          1.5650787353515625,
          0.040560077875852585,
          0.21061648428440094,
          0.2051684707403183,
          0.028449365869164467,
          0.036832258105278015,
          0.17445974051952362,
          0,
          0.03803355246782303,
          0,
          0,
          0,
          0,
          0.047824304550886154,
          0,
          0,
          0,
          0,
          0.05903760716319084,
          0.06762552261352539,
          0,
          0.028184371069073677,
          0,
          0,
          0,
          0.5540648698806763,
          0,
          0.03367093577980995,
          0.13069824874401093,
          0,
          0,
          0,
          0
         ],
         "yaxis": "y"
        },
        {
         "alignmentgroup": "True",
         "hovertemplate": "variable=3176.0<br>index=%{x}<br>value=%{y}<extra></extra>",
         "legendgroup": "3176.0",
         "marker": {
          "color": "#00BF7D",
          "pattern": {
           "shape": ""
          }
         },
         "name": "3176.0",
         "offsetgroup": "3176.0",
         "orientation": "v",
         "showlegend": true,
         "textposition": "auto",
         "type": "bar",
         "x": [
          "Género",
          "aleator",
          "IMC",
          "Circunferencia de cintura",
          "ATPII/AHA/IDF",
          "fenilalax",
          "ohd3x",
          "tirosinax",
          "Alanina",
          "Aspartato",
          "Glutamato",
          "Leucina",
          "Ornitina",
          "Prolina",
          "Tirosina",
          "Carnitina libre",
          "Propionilcarnitina",
          "Isovalerilcarnitina",
          "Tiglilcarnitina",
          "Me-Glutarilcarnitina",
          "Decanoilcarnitina",
          "Tetradecanoilcarnitina",
          "3-OH-Isovalerilcarnitina",
          "3-OH-Palmitoilcarnitina",
          "Linoleoilcarnitina",
          "Arginina",
          "Citrulina",
          "Glicina",
          "Metionina",
          "Fenilalanina",
          "Succinilacetona",
          "Valina",
          "Acetilcarnitina",
          "Butirilcarnitina",
          "Glutarilcarnitina",
          "Hexanoilcarnitina",
          "Octanoilcarnitina",
          "Dodecanoilcarnitina",
          "Tetradecenoilcarnitina",
          "Palmitoilcarnitina",
          "Estearoilcarnitina",
          "3-OH-Linoleoilcarnitina",
          "PROTEINAProm_(G)",
          "%_proteina_natural",
          "%_Proteina_SP"
         ],
         "xaxis": "x",
         "y": [
          0,
          0,
          1.1205780506134033,
          0.1262558102607727,
          0,
          0,
          0.15611772239208221,
          0.038433026522397995,
          0.0619613416492939,
          0.026082666590809822,
          0,
          0,
          0.7491745352745056,
          0.2688145637512207,
          0,
          0.05263140797615051,
          0,
          0.23499375581741333,
          0,
          0,
          0.13082288205623627,
          0,
          0,
          0.4017418324947357,
          0.06917684525251389,
          0,
          0.2239389270544052,
          0.07016877084970474,
          0,
          0,
          0,
          0.037836525589227676,
          0.1444994956254959,
          0.07394640892744064,
          0,
          0.5384454131126404,
          0,
          0.07786445319652557,
          0.05412862077355385,
          0.011732948012650013,
          0.4496161937713623,
          0,
          0.09025689959526062,
          0,
          0
         ],
         "yaxis": "y"
        },
        {
         "alignmentgroup": "True",
         "hovertemplate": "variable=5704.0<br>index=%{x}<br>value=%{y}<extra></extra>",
         "legendgroup": "5704.0",
         "marker": {
          "color": "#00B0F6",
          "pattern": {
           "shape": ""
          }
         },
         "name": "5704.0",
         "offsetgroup": "5704.0",
         "orientation": "v",
         "showlegend": true,
         "textposition": "auto",
         "type": "bar",
         "x": [
          "Género",
          "aleator",
          "IMC",
          "Circunferencia de cintura",
          "ATPII/AHA/IDF",
          "fenilalax",
          "ohd3x",
          "tirosinax",
          "Alanina",
          "Aspartato",
          "Glutamato",
          "Leucina",
          "Ornitina",
          "Prolina",
          "Tirosina",
          "Carnitina libre",
          "Propionilcarnitina",
          "Isovalerilcarnitina",
          "Tiglilcarnitina",
          "Me-Glutarilcarnitina",
          "Decanoilcarnitina",
          "Tetradecanoilcarnitina",
          "3-OH-Isovalerilcarnitina",
          "3-OH-Palmitoilcarnitina",
          "Linoleoilcarnitina",
          "Arginina",
          "Citrulina",
          "Glicina",
          "Metionina",
          "Fenilalanina",
          "Succinilacetona",
          "Valina",
          "Acetilcarnitina",
          "Butirilcarnitina",
          "Glutarilcarnitina",
          "Hexanoilcarnitina",
          "Octanoilcarnitina",
          "Dodecanoilcarnitina",
          "Tetradecenoilcarnitina",
          "Palmitoilcarnitina",
          "Estearoilcarnitina",
          "3-OH-Linoleoilcarnitina",
          "PROTEINAProm_(G)",
          "%_proteina_natural",
          "%_Proteina_SP"
         ],
         "xaxis": "x",
         "y": [
          0,
          0,
          0.44589343667030334,
          0,
          0,
          0,
          0.1405882090330124,
          0,
          0.07622034847736359,
          0.1613929122686386,
          0.05701799318194389,
          0,
          0.7025596499443054,
          0.13654322922229767,
          0.048092544078826904,
          0.13600562512874603,
          0,
          0.1619342714548111,
          0.05200278386473656,
          0,
          0.0523725263774395,
          0,
          0.05589709058403969,
          0.24665595591068268,
          0,
          0.10014042258262634,
          0.05078967288136482,
          0,
          0,
          0,
          0,
          0.21735365688800812,
          0.07117662578821182,
          0,
          0,
          0.26893699169158936,
          0,
          0.4306732416152954,
          0,
          0,
          0.8498618006706238,
          0.10610290616750717,
          0,
          0.07978592067956924,
          0.1794576495885849
         ],
         "yaxis": "y"
        }
       ],
       "layout": {
        "barmode": "group",
        "legend": {
         "title": {
          "text": "Model"
         },
         "tracegroupgap": 0
        },
        "margin": {
         "t": 60
        },
        "template": {
         "data": {
          "bar": [
           {
            "error_x": {
             "color": "rgb(51,51,51)"
            },
            "error_y": {
             "color": "rgb(51,51,51)"
            },
            "marker": {
             "line": {
              "color": "rgb(237,237,237)",
              "width": 0.5
             },
             "pattern": {
              "fillmode": "overlay",
              "size": 10,
              "solidity": 0.2
             }
            },
            "type": "bar"
           }
          ],
          "barpolar": [
           {
            "marker": {
             "line": {
              "color": "rgb(237,237,237)",
              "width": 0.5
             },
             "pattern": {
              "fillmode": "overlay",
              "size": 10,
              "solidity": 0.2
             }
            },
            "type": "barpolar"
           }
          ],
          "carpet": [
           {
            "aaxis": {
             "endlinecolor": "rgb(51,51,51)",
             "gridcolor": "white",
             "linecolor": "white",
             "minorgridcolor": "white",
             "startlinecolor": "rgb(51,51,51)"
            },
            "baxis": {
             "endlinecolor": "rgb(51,51,51)",
             "gridcolor": "white",
             "linecolor": "white",
             "minorgridcolor": "white",
             "startlinecolor": "rgb(51,51,51)"
            },
            "type": "carpet"
           }
          ],
          "choropleth": [
           {
            "colorbar": {
             "outlinewidth": 0,
             "tickcolor": "rgb(237,237,237)",
             "ticklen": 6,
             "ticks": "inside"
            },
            "type": "choropleth"
           }
          ],
          "contour": [
           {
            "colorbar": {
             "outlinewidth": 0,
             "tickcolor": "rgb(237,237,237)",
             "ticklen": 6,
             "ticks": "inside"
            },
            "colorscale": [
             [
              0,
              "rgb(20,44,66)"
             ],
             [
              1,
              "rgb(90,179,244)"
             ]
            ],
            "type": "contour"
           }
          ],
          "contourcarpet": [
           {
            "colorbar": {
             "outlinewidth": 0,
             "tickcolor": "rgb(237,237,237)",
             "ticklen": 6,
             "ticks": "inside"
            },
            "type": "contourcarpet"
           }
          ],
          "heatmap": [
           {
            "colorbar": {
             "outlinewidth": 0,
             "tickcolor": "rgb(237,237,237)",
             "ticklen": 6,
             "ticks": "inside"
            },
            "colorscale": [
             [
              0,
              "rgb(20,44,66)"
             ],
             [
              1,
              "rgb(90,179,244)"
             ]
            ],
            "type": "heatmap"
           }
          ],
          "heatmapgl": [
           {
            "colorbar": {
             "outlinewidth": 0,
             "tickcolor": "rgb(237,237,237)",
             "ticklen": 6,
             "ticks": "inside"
            },
            "colorscale": [
             [
              0,
              "rgb(20,44,66)"
             ],
             [
              1,
              "rgb(90,179,244)"
             ]
            ],
            "type": "heatmapgl"
           }
          ],
          "histogram": [
           {
            "marker": {
             "pattern": {
              "fillmode": "overlay",
              "size": 10,
              "solidity": 0.2
             }
            },
            "type": "histogram"
           }
          ],
          "histogram2d": [
           {
            "colorbar": {
             "outlinewidth": 0,
             "tickcolor": "rgb(237,237,237)",
             "ticklen": 6,
             "ticks": "inside"
            },
            "colorscale": [
             [
              0,
              "rgb(20,44,66)"
             ],
             [
              1,
              "rgb(90,179,244)"
             ]
            ],
            "type": "histogram2d"
           }
          ],
          "histogram2dcontour": [
           {
            "colorbar": {
             "outlinewidth": 0,
             "tickcolor": "rgb(237,237,237)",
             "ticklen": 6,
             "ticks": "inside"
            },
            "colorscale": [
             [
              0,
              "rgb(20,44,66)"
             ],
             [
              1,
              "rgb(90,179,244)"
             ]
            ],
            "type": "histogram2dcontour"
           }
          ],
          "mesh3d": [
           {
            "colorbar": {
             "outlinewidth": 0,
             "tickcolor": "rgb(237,237,237)",
             "ticklen": 6,
             "ticks": "inside"
            },
            "type": "mesh3d"
           }
          ],
          "parcoords": [
           {
            "line": {
             "colorbar": {
              "outlinewidth": 0,
              "tickcolor": "rgb(237,237,237)",
              "ticklen": 6,
              "ticks": "inside"
             }
            },
            "type": "parcoords"
           }
          ],
          "pie": [
           {
            "automargin": true,
            "type": "pie"
           }
          ],
          "scatter": [
           {
            "fillpattern": {
             "fillmode": "overlay",
             "size": 10,
             "solidity": 0.2
            },
            "type": "scatter"
           }
          ],
          "scatter3d": [
           {
            "line": {
             "colorbar": {
              "outlinewidth": 0,
              "tickcolor": "rgb(237,237,237)",
              "ticklen": 6,
              "ticks": "inside"
             }
            },
            "marker": {
             "colorbar": {
              "outlinewidth": 0,
              "tickcolor": "rgb(237,237,237)",
              "ticklen": 6,
              "ticks": "inside"
             }
            },
            "type": "scatter3d"
           }
          ],
          "scattercarpet": [
           {
            "marker": {
             "colorbar": {
              "outlinewidth": 0,
              "tickcolor": "rgb(237,237,237)",
              "ticklen": 6,
              "ticks": "inside"
             }
            },
            "type": "scattercarpet"
           }
          ],
          "scattergeo": [
           {
            "marker": {
             "colorbar": {
              "outlinewidth": 0,
              "tickcolor": "rgb(237,237,237)",
              "ticklen": 6,
              "ticks": "inside"
             }
            },
            "type": "scattergeo"
           }
          ],
          "scattergl": [
           {
            "marker": {
             "colorbar": {
              "outlinewidth": 0,
              "tickcolor": "rgb(237,237,237)",
              "ticklen": 6,
              "ticks": "inside"
             }
            },
            "type": "scattergl"
           }
          ],
          "scattermapbox": [
           {
            "marker": {
             "colorbar": {
              "outlinewidth": 0,
              "tickcolor": "rgb(237,237,237)",
              "ticklen": 6,
              "ticks": "inside"
             }
            },
            "type": "scattermapbox"
           }
          ],
          "scatterpolar": [
           {
            "marker": {
             "colorbar": {
              "outlinewidth": 0,
              "tickcolor": "rgb(237,237,237)",
              "ticklen": 6,
              "ticks": "inside"
             }
            },
            "type": "scatterpolar"
           }
          ],
          "scatterpolargl": [
           {
            "marker": {
             "colorbar": {
              "outlinewidth": 0,
              "tickcolor": "rgb(237,237,237)",
              "ticklen": 6,
              "ticks": "inside"
             }
            },
            "type": "scatterpolargl"
           }
          ],
          "scatterternary": [
           {
            "marker": {
             "colorbar": {
              "outlinewidth": 0,
              "tickcolor": "rgb(237,237,237)",
              "ticklen": 6,
              "ticks": "inside"
             }
            },
            "type": "scatterternary"
           }
          ],
          "surface": [
           {
            "colorbar": {
             "outlinewidth": 0,
             "tickcolor": "rgb(237,237,237)",
             "ticklen": 6,
             "ticks": "inside"
            },
            "colorscale": [
             [
              0,
              "rgb(20,44,66)"
             ],
             [
              1,
              "rgb(90,179,244)"
             ]
            ],
            "type": "surface"
           }
          ],
          "table": [
           {
            "cells": {
             "fill": {
              "color": "rgb(237,237,237)"
             },
             "line": {
              "color": "white"
             }
            },
            "header": {
             "fill": {
              "color": "rgb(217,217,217)"
             },
             "line": {
              "color": "white"
             }
            },
            "type": "table"
           }
          ]
         },
         "layout": {
          "annotationdefaults": {
           "arrowhead": 0,
           "arrowwidth": 1
          },
          "autotypenumbers": "strict",
          "coloraxis": {
           "colorbar": {
            "outlinewidth": 0,
            "tickcolor": "rgb(237,237,237)",
            "ticklen": 6,
            "ticks": "inside"
           }
          },
          "colorscale": {
           "sequential": [
            [
             0,
             "rgb(20,44,66)"
            ],
            [
             1,
             "rgb(90,179,244)"
            ]
           ],
           "sequentialminus": [
            [
             0,
             "rgb(20,44,66)"
            ],
            [
             1,
             "rgb(90,179,244)"
            ]
           ]
          },
          "colorway": [
           "#F8766D",
           "#A3A500",
           "#00BF7D",
           "#00B0F6",
           "#E76BF3"
          ],
          "font": {
           "color": "rgb(51,51,51)"
          },
          "geo": {
           "bgcolor": "white",
           "lakecolor": "white",
           "landcolor": "rgb(237,237,237)",
           "showlakes": true,
           "showland": true,
           "subunitcolor": "white"
          },
          "hoverlabel": {
           "align": "left"
          },
          "hovermode": "closest",
          "paper_bgcolor": "white",
          "plot_bgcolor": "rgb(237,237,237)",
          "polar": {
           "angularaxis": {
            "gridcolor": "white",
            "linecolor": "white",
            "showgrid": true,
            "tickcolor": "rgb(51,51,51)",
            "ticks": "outside"
           },
           "bgcolor": "rgb(237,237,237)",
           "radialaxis": {
            "gridcolor": "white",
            "linecolor": "white",
            "showgrid": true,
            "tickcolor": "rgb(51,51,51)",
            "ticks": "outside"
           }
          },
          "scene": {
           "xaxis": {
            "backgroundcolor": "rgb(237,237,237)",
            "gridcolor": "white",
            "gridwidth": 2,
            "linecolor": "white",
            "showbackground": true,
            "showgrid": true,
            "tickcolor": "rgb(51,51,51)",
            "ticks": "outside",
            "zerolinecolor": "white"
           },
           "yaxis": {
            "backgroundcolor": "rgb(237,237,237)",
            "gridcolor": "white",
            "gridwidth": 2,
            "linecolor": "white",
            "showbackground": true,
            "showgrid": true,
            "tickcolor": "rgb(51,51,51)",
            "ticks": "outside",
            "zerolinecolor": "white"
           },
           "zaxis": {
            "backgroundcolor": "rgb(237,237,237)",
            "gridcolor": "white",
            "gridwidth": 2,
            "linecolor": "white",
            "showbackground": true,
            "showgrid": true,
            "tickcolor": "rgb(51,51,51)",
            "ticks": "outside",
            "zerolinecolor": "white"
           }
          },
          "shapedefaults": {
           "fillcolor": "black",
           "line": {
            "width": 0
           },
           "opacity": 0.3
          },
          "ternary": {
           "aaxis": {
            "gridcolor": "white",
            "linecolor": "white",
            "showgrid": true,
            "tickcolor": "rgb(51,51,51)",
            "ticks": "outside"
           },
           "baxis": {
            "gridcolor": "white",
            "linecolor": "white",
            "showgrid": true,
            "tickcolor": "rgb(51,51,51)",
            "ticks": "outside"
           },
           "bgcolor": "rgb(237,237,237)",
           "caxis": {
            "gridcolor": "white",
            "linecolor": "white",
            "showgrid": true,
            "tickcolor": "rgb(51,51,51)",
            "ticks": "outside"
           }
          },
          "xaxis": {
           "automargin": true,
           "gridcolor": "white",
           "linecolor": "white",
           "showgrid": true,
           "tickcolor": "rgb(51,51,51)",
           "ticks": "outside",
           "title": {
            "standoff": 15
           },
           "zerolinecolor": "white"
          },
          "yaxis": {
           "automargin": true,
           "gridcolor": "white",
           "linecolor": "white",
           "showgrid": true,
           "tickcolor": "rgb(51,51,51)",
           "ticks": "outside",
           "title": {
            "standoff": 15
           },
           "zerolinecolor": "white"
          }
         }
        },
        "title": {
         "text": "Shapley values for abnormal samples"
        },
        "xaxis": {
         "anchor": "y",
         "categoryarray": [
          "Ornitina",
          "IMC",
          "Dodecanoilcarnitina",
          "Hexanoilcarnitina",
          "Estearoilcarnitina",
          "Circunferencia de cintura",
          "ohd3x",
          "Valina",
          "Isovalerilcarnitina",
          "Carnitina libre",
          "Prolina",
          "Acetilcarnitina",
          "Alanina",
          "Citrulina",
          "Butirilcarnitina",
          "Decanoilcarnitina",
          "3-OH-Palmitoilcarnitina",
          "Palmitoilcarnitina",
          "Arginina",
          "PROTEINAProm_(G)",
          "3-OH-Isovalerilcarnitina",
          "Tiglilcarnitina",
          "Aspartato",
          "fenilalax",
          "Tirosina",
          "Tetradecenoilcarnitina",
          "3-OH-Linoleoilcarnitina",
          "%_Proteina_SP",
          "Linoleoilcarnitina",
          "%_proteina_natural",
          "tirosinax",
          "Glutamato",
          "Glicina",
          "Succinilacetona",
          "Propionilcarnitina",
          "Leucina",
          "Metionina",
          "aleator",
          "ATPII/AHA/IDF",
          "Octanoilcarnitina",
          "Glutarilcarnitina",
          "Tetradecanoilcarnitina",
          "Fenilalanina",
          "Me-Glutarilcarnitina",
          "Género"
         ],
         "categoryorder": "array",
         "domain": [
          0,
          1
         ],
         "labelalias": {
          "%_Proteina_SP": "% SP Protein",
          "%_proteina_natural": "% Natural Protein",
          "3-OH-Isovalerilcarnitina": "3-OH-Isovalerylcarnitine",
          "3-OH-Linoleoilcarnitina": "3-OH-Linoleoylcarnitine",
          "3-OH-Palmitoilcarnitina": "3-OH-Palmitoylcarnitine",
          "ATPII/AHA/IDF": "ATPII/AHA/IDF",
          "Acetilcarnitina": "Acetylcarnitine",
          "Alanina": "Alanine",
          "Arginina": "Arginine",
          "Aspartato": "Aspartate",
          "Butirilcarnitina": "Butyrylcarnitine",
          "CALCIOProm_(MG)": "Calcium avg. (mg)",
          "CARBOHIDRATOProm_(G)": "CARBOHYDRATE avg. (g)",
          "COBREProm_(MG)": "Copper avg. (mg)",
          "COLESTEROLProm_(MG)": "CHOLESTEROL avg. (mg)",
          "Carnitina libre": "Free Carnitine",
          "Circunferencia de cintura": "Waist circumference",
          "Citrulina": "Citrulline",
          "Decanoilcarnitina": "Decanoylcarnitine",
          "Dodecanoilcarnitina": "Dodecanoylcarnitine",
          "ENERGIAProm_(KCAL)": "ENERGY avg. (KCAL)",
          "Edad": "Age",
          "Estatura": "Height",
          "Estearoilcarnitina": "Stearoylcarnitine",
          "FENILALANINAProm_(G)": "PHENYLALANINE_avg (g)",
          "FOLATOProm_(MCG)": "Folate avg. (MCG)",
          "Fenilalanina": "Phenylalanine",
          "GRASAProm(G)": "Fat avg. (g)",
          "Glicina": "Glycine",
          "Glutamato": "Glutamate",
          "Glutarilcarnitina": "Glutarylcarnitine",
          "Género": "gender",
          "HIERROProm_(MG)": "Iron avg. (mg)",
          "HOMA-IR alterado": "HOMA-IR altered",
          "HOMA2-IR": "HOMA2-IR",
          "HOMA2B(%)": "HOMA2B(%)",
          "HOMA2S%": "HOMA2S%",
          "Hexanoilcarnitina": "Hexanoylcarnitine",
          "IMC": "BMI",
          "Isovalerilcarnitina": "Isovalerylcarnitine",
          "Leucina": "Leucine",
          "Linoleoilcarnitina": "Linoleoilcarnitine",
          "Me-Glutarilcarnitina": "Me-Glutarylcarnitine",
          "Metionina": "Methionine",
          "Octanoilcarnitina": "Octanoylcarnitine",
          "Ornitina": "Ornithine",
          "PROTEINAProm_(G)": "Protein avg. (g)",
          "Palmitoilcarnitina": "Palmitoylcarnitine",
          "Peso": "Weight",
          "Prolina": "Proline",
          "Propionilcarnitina": "Propionylcarnitine",
          "Proteina_SP": "SP Protein",
          "Proteina_natural": "Protein natural",
          "SP_gr/kg": "SP (gr/kg)",
          "Succinilacetona": "Succinylacetone",
          "TIROSINAProm_(G)": "TYROSINE avg. (g)",
          "Tetradecanoilcarnitina": "Tetradecanoylcarnitine",
          "Tetradecenoilcarnitina": "Tetradecenoylcarnitine",
          "Tiglilcarnitina": "Tiglilcarnitine",
          "Tirosina": "Tyrosine",
          "VITAMINA_B12Prom_(MCG)": "Vitamin B12 avg. (MCG)",
          "VITAMINA_Dprom": "Vitamin D avg.",
          "Valina": "Valine",
          "ZINCProm_(MG)": "Zinc avg. (mg)",
          "aleator": "random",
          "fenilalax": "Phenylalax",
          "glummol": "Glummol",
          "glupromx": "Glupromx",
          "insuprom": "Insuprom",
          "ohd3x": "ohd3x",
          "quickix": "Quickix",
          "tirosinax": "Tyrosinax"
         },
         "title": {
          "text": "Feature in the dataset"
         }
        },
        "yaxis": {
         "anchor": "x",
         "domain": [
          0,
          1
         ],
         "title": {
          "text": "Shapley Value importance"
         }
        }
       }
      }
     },
     "metadata": {},
     "output_type": "display_data"
    },
    {
     "data": {
      "application/vnd.plotly.v1+json": {
       "config": {
        "plotlyServerURL": "https://plot.ly"
       },
       "data": [
        {
         "dimensions": [
          {
           "label": "Ornithine",
           "values": [
            0.3227229416370392,
            1.5650787353515625,
            0.7491745352745056,
            0.7025596499443054
           ]
          },
          {
           "label": "BMI",
           "values": [
            0.4141348600387573,
            0.5890426635742188,
            1.1205780506134033,
            0.44589343667030334
           ]
          },
          {
           "label": "Dodecanoylcarnitine",
           "values": [
            0.6964494585990906,
            0.5540648698806763,
            0.07786445319652557,
            0.4306732416152954
           ]
          },
          {
           "label": "Hexanoylcarnitine",
           "values": [
            0.4220006763935089,
            0,
            0.5384454131126404,
            0.26893699169158936
           ]
          },
          {
           "label": "Stearoylcarnitine",
           "values": [
            0.28778305649757385,
            0.13069824874401093,
            0.4496161937713623,
            0.8498618006706238
           ]
          },
          {
           "label": "Waist circumference",
           "values": [
            0.2662385404109955,
            0.18598783016204834,
            0.1262558102607727,
            0
           ]
          },
          {
           "label": "ohd3x",
           "values": [
            0.08502516150474548,
            0.18521928787231445,
            0.15611772239208221,
            0.1405882090330124
           ]
          },
          {
           "label": "Valine",
           "values": [
            0.10029030591249466,
            0.06762552261352539,
            0.037836525589227676,
            0.21735365688800812
           ]
          },
          {
           "label": "Isovalerylcarnitine",
           "values": [
            0.08224157243967056,
            0.036832258105278015,
            0.23499375581741333,
            0.1619342714548111
           ]
          },
          {
           "label": "Free Carnitine",
           "values": [
            0.1105702817440033,
            0.2051684707403183,
            0.05263140797615051,
            0.13600562512874603
           ]
          },
          {
           "label": "auc_score",
           "values": [
            null,
            null,
            null,
            null
           ]
          }
         ],
         "domain": {
          "x": [
           0,
           1
          ],
          "y": [
           0,
           1
          ]
         },
         "line": {
          "color": [
           null,
           null,
           null,
           null
          ],
          "coloraxis": "coloraxis"
         },
         "name": "",
         "type": "parcoords"
        }
       ],
       "layout": {
        "coloraxis": {
         "colorbar": {
          "title": {
           "text": "auc_score"
          }
         },
         "colorscale": [
          [
           0,
           "#0d0887"
          ],
          [
           0.1111111111111111,
           "#46039f"
          ],
          [
           0.2222222222222222,
           "#7201a8"
          ],
          [
           0.3333333333333333,
           "#9c179e"
          ],
          [
           0.4444444444444444,
           "#bd3786"
          ],
          [
           0.5555555555555556,
           "#d8576b"
          ],
          [
           0.6666666666666666,
           "#ed7953"
          ],
          [
           0.7777777777777778,
           "#fb9f3a"
          ],
          [
           0.8888888888888888,
           "#fdca26"
          ],
          [
           1,
           "#f0f921"
          ]
         ],
         "showscale": false
        },
        "legend": {
         "tracegroupgap": 0
        },
        "template": {
         "data": {
          "bar": [
           {
            "error_x": {
             "color": "#2a3f5f"
            },
            "error_y": {
             "color": "#2a3f5f"
            },
            "marker": {
             "line": {
              "color": "#E5ECF6",
              "width": 0.5
             },
             "pattern": {
              "fillmode": "overlay",
              "size": 10,
              "solidity": 0.2
             }
            },
            "type": "bar"
           }
          ],
          "barpolar": [
           {
            "marker": {
             "line": {
              "color": "#E5ECF6",
              "width": 0.5
             },
             "pattern": {
              "fillmode": "overlay",
              "size": 10,
              "solidity": 0.2
             }
            },
            "type": "barpolar"
           }
          ],
          "carpet": [
           {
            "aaxis": {
             "endlinecolor": "#2a3f5f",
             "gridcolor": "white",
             "linecolor": "white",
             "minorgridcolor": "white",
             "startlinecolor": "#2a3f5f"
            },
            "baxis": {
             "endlinecolor": "#2a3f5f",
             "gridcolor": "white",
             "linecolor": "white",
             "minorgridcolor": "white",
             "startlinecolor": "#2a3f5f"
            },
            "type": "carpet"
           }
          ],
          "choropleth": [
           {
            "colorbar": {
             "outlinewidth": 0,
             "ticks": ""
            },
            "type": "choropleth"
           }
          ],
          "contour": [
           {
            "colorbar": {
             "outlinewidth": 0,
             "ticks": ""
            },
            "colorscale": [
             [
              0,
              "#0d0887"
             ],
             [
              0.1111111111111111,
              "#46039f"
             ],
             [
              0.2222222222222222,
              "#7201a8"
             ],
             [
              0.3333333333333333,
              "#9c179e"
             ],
             [
              0.4444444444444444,
              "#bd3786"
             ],
             [
              0.5555555555555556,
              "#d8576b"
             ],
             [
              0.6666666666666666,
              "#ed7953"
             ],
             [
              0.7777777777777778,
              "#fb9f3a"
             ],
             [
              0.8888888888888888,
              "#fdca26"
             ],
             [
              1,
              "#f0f921"
             ]
            ],
            "type": "contour"
           }
          ],
          "contourcarpet": [
           {
            "colorbar": {
             "outlinewidth": 0,
             "ticks": ""
            },
            "type": "contourcarpet"
           }
          ],
          "heatmap": [
           {
            "colorbar": {
             "outlinewidth": 0,
             "ticks": ""
            },
            "colorscale": [
             [
              0,
              "#0d0887"
             ],
             [
              0.1111111111111111,
              "#46039f"
             ],
             [
              0.2222222222222222,
              "#7201a8"
             ],
             [
              0.3333333333333333,
              "#9c179e"
             ],
             [
              0.4444444444444444,
              "#bd3786"
             ],
             [
              0.5555555555555556,
              "#d8576b"
             ],
             [
              0.6666666666666666,
              "#ed7953"
             ],
             [
              0.7777777777777778,
              "#fb9f3a"
             ],
             [
              0.8888888888888888,
              "#fdca26"
             ],
             [
              1,
              "#f0f921"
             ]
            ],
            "type": "heatmap"
           }
          ],
          "heatmapgl": [
           {
            "colorbar": {
             "outlinewidth": 0,
             "ticks": ""
            },
            "colorscale": [
             [
              0,
              "#0d0887"
             ],
             [
              0.1111111111111111,
              "#46039f"
             ],
             [
              0.2222222222222222,
              "#7201a8"
             ],
             [
              0.3333333333333333,
              "#9c179e"
             ],
             [
              0.4444444444444444,
              "#bd3786"
             ],
             [
              0.5555555555555556,
              "#d8576b"
             ],
             [
              0.6666666666666666,
              "#ed7953"
             ],
             [
              0.7777777777777778,
              "#fb9f3a"
             ],
             [
              0.8888888888888888,
              "#fdca26"
             ],
             [
              1,
              "#f0f921"
             ]
            ],
            "type": "heatmapgl"
           }
          ],
          "histogram": [
           {
            "marker": {
             "pattern": {
              "fillmode": "overlay",
              "size": 10,
              "solidity": 0.2
             }
            },
            "type": "histogram"
           }
          ],
          "histogram2d": [
           {
            "colorbar": {
             "outlinewidth": 0,
             "ticks": ""
            },
            "colorscale": [
             [
              0,
              "#0d0887"
             ],
             [
              0.1111111111111111,
              "#46039f"
             ],
             [
              0.2222222222222222,
              "#7201a8"
             ],
             [
              0.3333333333333333,
              "#9c179e"
             ],
             [
              0.4444444444444444,
              "#bd3786"
             ],
             [
              0.5555555555555556,
              "#d8576b"
             ],
             [
              0.6666666666666666,
              "#ed7953"
             ],
             [
              0.7777777777777778,
              "#fb9f3a"
             ],
             [
              0.8888888888888888,
              "#fdca26"
             ],
             [
              1,
              "#f0f921"
             ]
            ],
            "type": "histogram2d"
           }
          ],
          "histogram2dcontour": [
           {
            "colorbar": {
             "outlinewidth": 0,
             "ticks": ""
            },
            "colorscale": [
             [
              0,
              "#0d0887"
             ],
             [
              0.1111111111111111,
              "#46039f"
             ],
             [
              0.2222222222222222,
              "#7201a8"
             ],
             [
              0.3333333333333333,
              "#9c179e"
             ],
             [
              0.4444444444444444,
              "#bd3786"
             ],
             [
              0.5555555555555556,
              "#d8576b"
             ],
             [
              0.6666666666666666,
              "#ed7953"
             ],
             [
              0.7777777777777778,
              "#fb9f3a"
             ],
             [
              0.8888888888888888,
              "#fdca26"
             ],
             [
              1,
              "#f0f921"
             ]
            ],
            "type": "histogram2dcontour"
           }
          ],
          "mesh3d": [
           {
            "colorbar": {
             "outlinewidth": 0,
             "ticks": ""
            },
            "type": "mesh3d"
           }
          ],
          "parcoords": [
           {
            "line": {
             "colorbar": {
              "outlinewidth": 0,
              "ticks": ""
             }
            },
            "type": "parcoords"
           }
          ],
          "pie": [
           {
            "automargin": true,
            "type": "pie"
           }
          ],
          "scatter": [
           {
            "fillpattern": {
             "fillmode": "overlay",
             "size": 10,
             "solidity": 0.2
            },
            "type": "scatter"
           }
          ],
          "scatter3d": [
           {
            "line": {
             "colorbar": {
              "outlinewidth": 0,
              "ticks": ""
             }
            },
            "marker": {
             "colorbar": {
              "outlinewidth": 0,
              "ticks": ""
             }
            },
            "type": "scatter3d"
           }
          ],
          "scattercarpet": [
           {
            "marker": {
             "colorbar": {
              "outlinewidth": 0,
              "ticks": ""
             }
            },
            "type": "scattercarpet"
           }
          ],
          "scattergeo": [
           {
            "marker": {
             "colorbar": {
              "outlinewidth": 0,
              "ticks": ""
             }
            },
            "type": "scattergeo"
           }
          ],
          "scattergl": [
           {
            "marker": {
             "colorbar": {
              "outlinewidth": 0,
              "ticks": ""
             }
            },
            "type": "scattergl"
           }
          ],
          "scattermapbox": [
           {
            "marker": {
             "colorbar": {
              "outlinewidth": 0,
              "ticks": ""
             }
            },
            "type": "scattermapbox"
           }
          ],
          "scatterpolar": [
           {
            "marker": {
             "colorbar": {
              "outlinewidth": 0,
              "ticks": ""
             }
            },
            "type": "scatterpolar"
           }
          ],
          "scatterpolargl": [
           {
            "marker": {
             "colorbar": {
              "outlinewidth": 0,
              "ticks": ""
             }
            },
            "type": "scatterpolargl"
           }
          ],
          "scatterternary": [
           {
            "marker": {
             "colorbar": {
              "outlinewidth": 0,
              "ticks": ""
             }
            },
            "type": "scatterternary"
           }
          ],
          "surface": [
           {
            "colorbar": {
             "outlinewidth": 0,
             "ticks": ""
            },
            "colorscale": [
             [
              0,
              "#0d0887"
             ],
             [
              0.1111111111111111,
              "#46039f"
             ],
             [
              0.2222222222222222,
              "#7201a8"
             ],
             [
              0.3333333333333333,
              "#9c179e"
             ],
             [
              0.4444444444444444,
              "#bd3786"
             ],
             [
              0.5555555555555556,
              "#d8576b"
             ],
             [
              0.6666666666666666,
              "#ed7953"
             ],
             [
              0.7777777777777778,
              "#fb9f3a"
             ],
             [
              0.8888888888888888,
              "#fdca26"
             ],
             [
              1,
              "#f0f921"
             ]
            ],
            "type": "surface"
           }
          ],
          "table": [
           {
            "cells": {
             "fill": {
              "color": "#EBF0F8"
             },
             "line": {
              "color": "white"
             }
            },
            "header": {
             "fill": {
              "color": "#C8D4E3"
             },
             "line": {
              "color": "white"
             }
            },
            "type": "table"
           }
          ]
         },
         "layout": {
          "annotationdefaults": {
           "arrowcolor": "#2a3f5f",
           "arrowhead": 0,
           "arrowwidth": 1
          },
          "autotypenumbers": "strict",
          "coloraxis": {
           "colorbar": {
            "outlinewidth": 0,
            "ticks": ""
           }
          },
          "colorscale": {
           "diverging": [
            [
             0,
             "#8e0152"
            ],
            [
             0.1,
             "#c51b7d"
            ],
            [
             0.2,
             "#de77ae"
            ],
            [
             0.3,
             "#f1b6da"
            ],
            [
             0.4,
             "#fde0ef"
            ],
            [
             0.5,
             "#f7f7f7"
            ],
            [
             0.6,
             "#e6f5d0"
            ],
            [
             0.7,
             "#b8e186"
            ],
            [
             0.8,
             "#7fbc41"
            ],
            [
             0.9,
             "#4d9221"
            ],
            [
             1,
             "#276419"
            ]
           ],
           "sequential": [
            [
             0,
             "#0d0887"
            ],
            [
             0.1111111111111111,
             "#46039f"
            ],
            [
             0.2222222222222222,
             "#7201a8"
            ],
            [
             0.3333333333333333,
             "#9c179e"
            ],
            [
             0.4444444444444444,
             "#bd3786"
            ],
            [
             0.5555555555555556,
             "#d8576b"
            ],
            [
             0.6666666666666666,
             "#ed7953"
            ],
            [
             0.7777777777777778,
             "#fb9f3a"
            ],
            [
             0.8888888888888888,
             "#fdca26"
            ],
            [
             1,
             "#f0f921"
            ]
           ],
           "sequentialminus": [
            [
             0,
             "#0d0887"
            ],
            [
             0.1111111111111111,
             "#46039f"
            ],
            [
             0.2222222222222222,
             "#7201a8"
            ],
            [
             0.3333333333333333,
             "#9c179e"
            ],
            [
             0.4444444444444444,
             "#bd3786"
            ],
            [
             0.5555555555555556,
             "#d8576b"
            ],
            [
             0.6666666666666666,
             "#ed7953"
            ],
            [
             0.7777777777777778,
             "#fb9f3a"
            ],
            [
             0.8888888888888888,
             "#fdca26"
            ],
            [
             1,
             "#f0f921"
            ]
           ]
          },
          "colorway": [
           "#636efa",
           "#EF553B",
           "#00cc96",
           "#ab63fa",
           "#FFA15A",
           "#19d3f3",
           "#FF6692",
           "#B6E880",
           "#FF97FF",
           "#FECB52"
          ],
          "font": {
           "color": "#2a3f5f"
          },
          "geo": {
           "bgcolor": "white",
           "lakecolor": "white",
           "landcolor": "#E5ECF6",
           "showlakes": true,
           "showland": true,
           "subunitcolor": "white"
          },
          "hoverlabel": {
           "align": "left"
          },
          "hovermode": "closest",
          "mapbox": {
           "style": "light"
          },
          "paper_bgcolor": "white",
          "plot_bgcolor": "#E5ECF6",
          "polar": {
           "angularaxis": {
            "gridcolor": "white",
            "linecolor": "white",
            "ticks": ""
           },
           "bgcolor": "#E5ECF6",
           "radialaxis": {
            "gridcolor": "white",
            "linecolor": "white",
            "ticks": ""
           }
          },
          "scene": {
           "xaxis": {
            "backgroundcolor": "#E5ECF6",
            "gridcolor": "white",
            "gridwidth": 2,
            "linecolor": "white",
            "showbackground": true,
            "ticks": "",
            "zerolinecolor": "white"
           },
           "yaxis": {
            "backgroundcolor": "#E5ECF6",
            "gridcolor": "white",
            "gridwidth": 2,
            "linecolor": "white",
            "showbackground": true,
            "ticks": "",
            "zerolinecolor": "white"
           },
           "zaxis": {
            "backgroundcolor": "#E5ECF6",
            "gridcolor": "white",
            "gridwidth": 2,
            "linecolor": "white",
            "showbackground": true,
            "ticks": "",
            "zerolinecolor": "white"
           }
          },
          "shapedefaults": {
           "line": {
            "color": "#2a3f5f"
           }
          },
          "ternary": {
           "aaxis": {
            "gridcolor": "white",
            "linecolor": "white",
            "ticks": ""
           },
           "baxis": {
            "gridcolor": "white",
            "linecolor": "white",
            "ticks": ""
           },
           "bgcolor": "#E5ECF6",
           "caxis": {
            "gridcolor": "white",
            "linecolor": "white",
            "ticks": ""
           }
          },
          "title": {
           "x": 0.05
          },
          "xaxis": {
           "automargin": true,
           "gridcolor": "white",
           "linecolor": "white",
           "ticks": "",
           "title": {
            "standoff": 15
           },
           "zerolinecolor": "white",
           "zerolinewidth": 2
          },
          "yaxis": {
           "automargin": true,
           "gridcolor": "white",
           "linecolor": "white",
           "ticks": "",
           "title": {
            "standoff": 15
           },
           "zerolinecolor": "white",
           "zerolinewidth": 2
          }
         }
        },
        "title": {
         "text": "Shapley values for abnormal samples - ADASYNT"
        },
        "xaxis": {
         "title": {
          "text": "Feature in the dataset"
         }
        },
        "yaxis": {
         "title": {
          "text": "Shapley Value importance"
         }
        }
       }
      }
     },
     "metadata": {},
     "output_type": "display_data"
    }
   ],
   "source": [
    "\n",
    "make_pareto_plot(study_SVMSMOTE_sampling)\n",
    "make_ranking_plots(study_SVMSMOTE_sampling, study_SVMSMOTE)"
   ]
  }
 ],
 "metadata": {
  "kernelspec": {
   "display_name": "playground",
   "language": "python",
   "name": "python3"
  },
  "language_info": {
   "codemirror_mode": {
    "name": "ipython",
    "version": 3
   },
   "file_extension": ".py",
   "mimetype": "text/x-python",
   "name": "python",
   "nbconvert_exporter": "python",
   "pygments_lexer": "ipython3",
   "version": "3.10.10"
  },
  "orig_nbformat": 4
 },
 "nbformat": 4,
 "nbformat_minor": 2
}
