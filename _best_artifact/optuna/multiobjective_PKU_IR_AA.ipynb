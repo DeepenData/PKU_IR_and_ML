{
 "cells": [
  {
   "cell_type": "code",
   "execution_count": 101,
   "metadata": {},
   "outputs": [],
   "source": [
    "import numpy as np\n",
    "import pandas as pd\n",
    "import xgboost\n",
    "import yaml\n",
    "from sklearn.metrics import roc_auc_score\n",
    "from sklearn.model_selection import train_test_split\n",
    "import shap\n",
    "from sklearn.model_selection import StratifiedKFold\n",
    "\n",
    "class generate_model():\n",
    "    \n",
    "    def __init__(self, predictor_col: str, data_path: str,xg_params: dict, kfold_splits : int , test_size=0.3, removed_features: list[str] = None, seed: float = None) -> None:\n",
    "        if removed_features is None:\n",
    "            removed_features = []\n",
    "        dataset = pd.read_csv(data_path)\n",
    "\n",
    "        # Variable encoding\n",
    "        dataset[\"Género\"] = dataset[\"Género\"].replace({\"M\": 0, \"F\": 1}).astype(\"category\")\n",
    "        dataset[\"ATPII/AHA/IDF\"] = (\n",
    "            dataset[\"ATPII/AHA/IDF\"].replace({\"no\": 0, \"si\": 1}).astype(\"category\")\n",
    "        )\n",
    "        dataset[\"aleator\"] = (\n",
    "            dataset[\"aleator\"]\n",
    "            .replace({\"Control\": 0, \"PKU 1\": 1, \"PKU 2\": 2})\n",
    "            .astype(\"category\")\n",
    "        )\n",
    "\n",
    "        y_df = dataset[predictor_col].replace({\"No\": 0, \"Si\": 1}).astype(\"category\")\n",
    "        X_df = dataset.drop(predictor_col, axis=\"columns\")\n",
    "\n",
    "        X_df = X_df.drop(removed_features, axis=\"columns\")\n",
    "\n",
    "        self.X_train, self.X_test, self.y_train, self.y_test = train_test_split(\n",
    "                                                                X_df, y_df, stratify=y_df, test_size=test_size, random_state=seed\n",
    "                                                            )\n",
    "    #def xg_train(self, xg_params: dict, kfold_splits=5, seed=None):\n",
    "\n",
    "        cv = StratifiedKFold(n_splits=kfold_splits, shuffle=True, random_state=seed)\n",
    "        folds = list(cv.split(self.X_train, self.y_train))\n",
    "\n",
    "        for train_idx, val_idx in folds:\n",
    "            # Sub-empaquetado del train-set en formato de XGBoost\n",
    "            dtrain = xgboost.DMatrix(\n",
    "                self.X_train.iloc[train_idx, :],\n",
    "                label=self.y_train.iloc[train_idx],\n",
    "                enable_categorical=True,\n",
    "            )\n",
    "            dval = xgboost.DMatrix(\n",
    "                self.X_train.iloc[val_idx, :],\n",
    "                label=self.y_train.iloc[val_idx],\n",
    "                enable_categorical=True,\n",
    "            )\n",
    "\n",
    "            self.model = xgboost.train(\n",
    "                dtrain=dtrain,\n",
    "                params=xg_params,\n",
    "                evals=[(dtrain, \"train\"), (dval, \"val\")],\n",
    "                num_boost_round=1000,\n",
    "                verbose_eval=False,\n",
    "                early_stopping_rounds=10,\n",
    "            )\n",
    "    def get_AUC_on_test_data(self):\n",
    "        #def xg_test(model, X_test, y_test) -> float:\n",
    "        testset = xgboost.DMatrix(self.X_test, label=self.y_test, enable_categorical=True)\n",
    "        y_preds = self.model.predict(testset)\n",
    "\n",
    "        return roc_auc_score(testset.get_label(), y_preds)\n",
    "    \n",
    "    \n",
    "    def get_feature_metrics(self):\n",
    "        # internal_feature_metrics = pd.DataFrame(\n",
    "        #     {\n",
    "        #         \"Weight\": self.model.get_score(importance_type=\"weight\"),\n",
    "        #         \"Coverage\": self.model.get_score(importance_type=\"cover\"),\n",
    "        #         \"Gain\": self.model.get_score(importance_type=\"gain\"),\n",
    "        #     }\n",
    "        # ).sort_values(by=\"Gain\", ascending=False)\n",
    "\n",
    "        explainer = shap.TreeExplainer(self.model)\n",
    "\n",
    "        # Extrae la explicacion SHAP en un DF\n",
    "        EXPLAINATION = explainer(self.X_test).cohorts(\n",
    "            self.y_test.replace({0: \"Healty\", 1: \"Abnormal\"}).tolist()\n",
    "        )\n",
    "        cohort_exps = list(EXPLAINATION.cohorts.values())\n",
    "\n",
    "        exp_shap_abnormal = pd.DataFrame(\n",
    "            cohort_exps[0].values, columns=cohort_exps[0].feature_names\n",
    "        )  # .abs().mean()\n",
    "\n",
    "        exp_shap_healty = pd.DataFrame(\n",
    "            cohort_exps[1].values, columns=cohort_exps[1].feature_names\n",
    "        )  # .abs().mean()\n",
    "\n",
    "\n",
    "        feature_metrics = pd.concat(\n",
    "            {\n",
    "                \"SHAP_healty\": exp_shap_healty.abs().mean(),\n",
    "                \"SHAP_abnormal\": exp_shap_abnormal.abs().mean(),\n",
    "            },\n",
    "            axis=\"columns\",\n",
    "        )\n",
    "\n",
    "        # feature_metrics = (\n",
    "        #     feature_metrics.join(internal_feature_metrics)\n",
    "        #     .fillna(0)\n",
    "        #     .sort_values(by=\"Gain\", ascending=False)\n",
    "        # )\n",
    "\n",
    "        return feature_metrics\n",
    "    \n",
    "      \n",
    "    \n",
    "with open(\"params.yml\", \"r\") as f:\n",
    "        ext_params = yaml.load(f, Loader=yaml.FullLoader)\n",
    "   \n",
    "   \n",
    "def objective(trial) -> float:\n",
    "    \"\"\"\n",
    "    The function that runs a single model and evaluates it.\n",
    "    \"\"\"\n",
    "\n",
    "    seed = trial.suggest_int(\"seed\", 1, 10_000)\n",
    "\n",
    "    # params={\"objective\":   \"binary:logistic\",\n",
    "    #         \"eval_metric\": \"logloss\",\n",
    "    #         'max_depth':   trial.suggest_int(\"max_depth\", 2, 6, ),\n",
    "    #         \"eta\":         trial.suggest_float(\"eta\", 0.01, 0.3),\n",
    "    #         \"subsample\":   trial.suggest_float(\"subsample\", 0.5, 0.9),\n",
    "    #         \"lambda\": trial.suggest_float(\"lambda\", 0, 1),\n",
    "    #         \"alpha\": trial.suggest_float(\"alpha\",0,1),\n",
    "    #         \"scale_pos_weight\": trial.suggest_float(\"scale_pos_weight\",0,2)\n",
    "    #     }\n",
    "    \n",
    "    params = {\n",
    "            \"objective\": \"binary:logistic\",\n",
    "            \"eval_metric\":       \"logloss\",\n",
    "            \"max_depth\":                 5,\n",
    "            \"eta\":                0.226908,\n",
    "            \"subsample\":          0.749761,\n",
    "            \"lambda\":             0.418621,\n",
    "            \"alpha\":              0.466643,\n",
    "            \"scale_pos_weight\":   1.640296,\n",
    "    }\n",
    "                \n",
    "    model_instance = generate_model(\"HOMA-IR alterado\", \"data.csv\", removed_features = ext_params[\"feature_engineering\"][\"removed_features\"], xg_params = params, kfold_splits = 5, seed=seed)   \n",
    "    \n",
    "    return model_instance.get_AUC_on_test_data(), model_instance.get_feature_metrics()[\"SHAP_abnormal\"][\"fenilalax\"]\n",
    "\n"
   ]
  },
  {
   "cell_type": "code",
   "execution_count": 102,
   "metadata": {},
   "outputs": [
    {
     "name": "stderr",
     "output_type": "stream",
     "text": [
      "\u001b[32m[I 2023-05-03 09:08:08,410]\u001b[0m A new study created in RDB with name: alejandro_4\u001b[0m\n",
      "\u001b[32m[I 2023-05-03 09:08:09,791]\u001b[0m Trial 4 finished with values: [0.6388888888888888, 0.18887652456760406] and parameters: {'seed': 9958}. \u001b[0m\n",
      "\u001b[32m[I 2023-05-03 09:08:09,923]\u001b[0m Trial 5 finished with values: [0.8055555555555556, 0.0] and parameters: {'seed': 518}. \u001b[0m\n",
      "\u001b[32m[I 2023-05-03 09:08:10,308]\u001b[0m Trial 0 finished with values: [0.7307692307692307, 0.0] and parameters: {'seed': 4405}. \u001b[0m\n",
      "\u001b[32m[I 2023-05-03 09:08:10,308]\u001b[0m Trial 3 finished with values: [1.0, 0.0] and parameters: {'seed': 2242}. \u001b[0m\n",
      "\u001b[32m[I 2023-05-03 09:08:10,625]\u001b[0m Trial 2 finished with values: [0.9615384615384616, 0.0] and parameters: {'seed': 2014}. \u001b[0m\n",
      "\u001b[32m[I 2023-05-03 09:08:10,626]\u001b[0m Trial 7 finished with values: [0.38888888888888884, 0.0] and parameters: {'seed': 5688}. \u001b[0m\n",
      "\u001b[32m[I 2023-05-03 09:08:10,954]\u001b[0m Trial 6 finished with values: [0.5384615384615384, 0.0] and parameters: {'seed': 1188}. \u001b[0m\n",
      "\u001b[32m[I 2023-05-03 09:08:10,954]\u001b[0m Trial 1 finished with values: [0.5, 0.0] and parameters: {'seed': 7193}. \u001b[0m\n",
      "\u001b[32m[I 2023-05-03 09:08:10,957]\u001b[0m Trial 11 finished with values: [0.7361111111111112, 0.0] and parameters: {'seed': 7002}. \u001b[0m\n",
      "\u001b[32m[I 2023-05-03 09:08:11,005]\u001b[0m Trial 8 finished with values: [0.6538461538461539, 0.04758383333683014] and parameters: {'seed': 5500}. \u001b[0m\n",
      "\u001b[32m[I 2023-05-03 09:08:11,005]\u001b[0m Trial 10 finished with values: [0.611111111111111, 0.2921534776687622] and parameters: {'seed': 8246}. \u001b[0m\n",
      "\u001b[32m[I 2023-05-03 09:08:11,129]\u001b[0m Trial 14 finished with values: [0.6346153846153846, 0.0] and parameters: {'seed': 3211}. \u001b[0m\n",
      "\u001b[32m[I 2023-05-03 09:08:11,375]\u001b[0m Trial 9 finished with values: [0.5384615384615384, 0.0] and parameters: {'seed': 2589}. \u001b[0m\n",
      "\u001b[32m[I 2023-05-03 09:08:11,445]\u001b[0m Trial 15 finished with values: [0.7884615384615384, 0.0] and parameters: {'seed': 4728}. \u001b[0m\n",
      "\u001b[32m[I 2023-05-03 09:08:11,497]\u001b[0m Trial 13 finished with values: [0.5972222222222222, 0.0] and parameters: {'seed': 2169}. \u001b[0m\n",
      "\u001b[32m[I 2023-05-03 09:08:11,701]\u001b[0m Trial 12 finished with values: [0.3846153846153846, 0.0] and parameters: {'seed': 9061}. \u001b[0m\n",
      "\u001b[32m[I 2023-05-03 09:08:11,808]\u001b[0m Trial 16 finished with values: [0.9166666666666666, 0.12244419008493423] and parameters: {'seed': 9834}. \u001b[0m\n",
      "\u001b[32m[I 2023-05-03 09:08:12,287]\u001b[0m Trial 17 finished with values: [0.8333333333333334, 0.23181068897247314] and parameters: {'seed': 9413}. \u001b[0m\n",
      "\u001b[32m[I 2023-05-03 09:08:12,322]\u001b[0m Trial 18 finished with values: [0.6944444444444444, 0.0] and parameters: {'seed': 9931}. \u001b[0m\n",
      "\u001b[32m[I 2023-05-03 09:08:12,496]\u001b[0m Trial 19 finished with values: [0.4230769230769231, 0.0] and parameters: {'seed': 9557}. \u001b[0m\n",
      "\u001b[32m[I 2023-05-03 09:08:12,497]\u001b[0m Trial 20 finished with values: [1.0, 0.0] and parameters: {'seed': 9838}. \u001b[0m\n",
      "\u001b[32m[I 2023-05-03 09:08:12,577]\u001b[0m Trial 21 finished with values: [0.9230769230769231, 0.0] and parameters: {'seed': 9865}. \u001b[0m\n",
      "\u001b[32m[I 2023-05-03 09:08:12,833]\u001b[0m Trial 22 finished with values: [0.9166666666666666, 0.10281599313020706] and parameters: {'seed': 8376}. \u001b[0m\n",
      "\u001b[32m[I 2023-05-03 09:08:12,833]\u001b[0m Trial 24 finished with values: [0.9230769230769231, 0.33849599957466125] and parameters: {'seed': 7826}. \u001b[0m\n",
      "\u001b[32m[I 2023-05-03 09:08:13,254]\u001b[0m Trial 23 finished with values: [0.6666666666666666, 0.0] and parameters: {'seed': 8247}. \u001b[0m\n",
      "\u001b[32m[I 2023-05-03 09:08:13,349]\u001b[0m Trial 25 finished with values: [0.6666666666666666, 0.08233229070901871] and parameters: {'seed': 7026}. \u001b[0m\n",
      "\u001b[32m[I 2023-05-03 09:08:13,467]\u001b[0m Trial 26 finished with values: [0.6153846153846154, 0.0] and parameters: {'seed': 8391}. \u001b[0m\n",
      "\u001b[32m[I 2023-05-03 09:08:13,602]\u001b[0m Trial 30 finished with values: [0.75, 0.11787150055170059] and parameters: {'seed': 6982}. \u001b[0m\n",
      "\u001b[32m[I 2023-05-03 09:08:13,740]\u001b[0m Trial 29 finished with values: [0.7777777777777778, 0.0] and parameters: {'seed': 8133}. \u001b[0m\n",
      "\u001b[32m[I 2023-05-03 09:08:13,916]\u001b[0m Trial 28 finished with values: [0.9230769230769231, 0.0] and parameters: {'seed': 6861}. \u001b[0m\n",
      "\u001b[32m[I 2023-05-03 09:08:13,918]\u001b[0m Trial 27 finished with values: [0.6153846153846154, 0.0] and parameters: {'seed': 7116}. \u001b[0m\n",
      "\u001b[32m[I 2023-05-03 09:08:14,294]\u001b[0m Trial 32 finished with values: [0.8055555555555556, 0.0] and parameters: {'seed': 6028}. \u001b[0m\n",
      "\u001b[32m[I 2023-05-03 09:08:14,320]\u001b[0m Trial 34 finished with values: [0.8055555555555556, 0.0] and parameters: {'seed': 6363}. \u001b[0m\n",
      "\u001b[32m[I 2023-05-03 09:08:14,695]\u001b[0m Trial 37 finished with values: [0.75, 0.0] and parameters: {'seed': 3427}. \u001b[0m\n",
      "\u001b[32m[I 2023-05-03 09:08:14,695]\u001b[0m Trial 31 finished with values: [0.8461538461538461, 0.06351809203624725] and parameters: {'seed': 6293}. \u001b[0m\n",
      "\u001b[32m[I 2023-05-03 09:08:14,729]\u001b[0m Trial 33 finished with values: [0.4615384615384615, 0.0] and parameters: {'seed': 6203}. \u001b[0m\n",
      "\u001b[32m[I 2023-05-03 09:08:15,062]\u001b[0m Trial 36 finished with values: [0.6153846153846154, 0.05031568557024002] and parameters: {'seed': 5977}. \u001b[0m\n",
      "\u001b[32m[I 2023-05-03 09:08:15,325]\u001b[0m Trial 35 finished with values: [0.4444444444444444, 0.06529822945594788] and parameters: {'seed': 3898}. \u001b[0m\n",
      "\u001b[32m[I 2023-05-03 09:08:15,327]\u001b[0m Trial 39 finished with values: [0.3076923076923077, 0.20039799809455872] and parameters: {'seed': 3886}. \u001b[0m\n",
      "\u001b[32m[I 2023-05-03 09:08:15,370]\u001b[0m Trial 38 finished with values: [0.8055555555555556, 0.0] and parameters: {'seed': 3995}. \u001b[0m\n",
      "\u001b[32m[I 2023-05-03 09:08:15,653]\u001b[0m Trial 40 finished with values: [0.6666666666666666, 0.0] and parameters: {'seed': 3836}. \u001b[0m\n",
      "\u001b[32m[I 2023-05-03 09:08:15,658]\u001b[0m Trial 41 finished with values: [0.611111111111111, 0.0] and parameters: {'seed': 4193}. \u001b[0m\n",
      "\u001b[32m[I 2023-05-03 09:08:15,958]\u001b[0m Trial 43 finished with values: [0.7777777777777779, 0.0] and parameters: {'seed': 4068}. \u001b[0m\n",
      "\u001b[32m[I 2023-05-03 09:08:15,959]\u001b[0m Trial 44 finished with values: [0.5384615384615384, 0.0] and parameters: {'seed': 3815}. \u001b[0m\n",
      "\u001b[32m[I 2023-05-03 09:08:16,021]\u001b[0m Trial 42 finished with values: [0.8846153846153846, 0.0] and parameters: {'seed': 4364}. \u001b[0m\n",
      "\u001b[32m[I 2023-05-03 09:08:16,287]\u001b[0m Trial 45 finished with values: [1.0, 0.02444821037352085] and parameters: {'seed': 5180}. \u001b[0m\n",
      "\u001b[32m[I 2023-05-03 09:08:16,364]\u001b[0m Trial 48 finished with values: [0.9230769230769231, 0.0] and parameters: {'seed': 5114}. \u001b[0m\n",
      "\u001b[32m[I 2023-05-03 09:08:16,682]\u001b[0m Trial 46 finished with values: [0.6944444444444444, 0.06871375441551208] and parameters: {'seed': 7752}. \u001b[0m\n",
      "\u001b[32m[I 2023-05-03 09:08:16,757]\u001b[0m Trial 47 finished with values: [0.5, 0.0] and parameters: {'seed': 35}. \u001b[0m\n",
      "\u001b[32m[I 2023-05-03 09:08:16,986]\u001b[0m Trial 50 finished with values: [0.36111111111111105, 0.0] and parameters: {'seed': 5130}. \u001b[0m\n",
      "\u001b[32m[I 2023-05-03 09:08:16,987]\u001b[0m Trial 49 finished with values: [0.8461538461538461, 0.0] and parameters: {'seed': 410}. \u001b[0m\n",
      "\u001b[32m[I 2023-05-03 09:08:17,004]\u001b[0m Trial 51 finished with values: [0.8611111111111112, 0.0] and parameters: {'seed': 682}. \u001b[0m\n",
      "\u001b[32m[I 2023-05-03 09:08:17,347]\u001b[0m Trial 54 finished with values: [0.9615384615384616, 0.0] and parameters: {'seed': 676}. \u001b[0m\n",
      "\u001b[32m[I 2023-05-03 09:08:17,593]\u001b[0m Trial 52 finished with values: [0.8333333333333334, 0.0] and parameters: {'seed': 1350}. \u001b[0m\n",
      "\u001b[32m[I 2023-05-03 09:08:17,656]\u001b[0m Trial 55 finished with values: [0.7777777777777778, 0.0] and parameters: {'seed': 828}. \u001b[0m\n",
      "\u001b[32m[I 2023-05-03 09:08:17,836]\u001b[0m Trial 53 finished with values: [0.7692307692307693, 0.039280861616134644] and parameters: {'seed': 9251}. \u001b[0m\n",
      "\u001b[32m[I 2023-05-03 09:08:17,982]\u001b[0m Trial 56 finished with values: [1.0, 0.10192029178142548] and parameters: {'seed': 8914}. \u001b[0m\n",
      "\u001b[32m[I 2023-05-03 09:08:18,259]\u001b[0m Trial 59 finished with values: [0.8461538461538461, 0.0] and parameters: {'seed': 8945}. \u001b[0m\n",
      "\u001b[32m[I 2023-05-03 09:08:18,413]\u001b[0m Trial 57 finished with values: [0.8055555555555555, 0.0] and parameters: {'seed': 8939}. \u001b[0m\n",
      "\u001b[32m[I 2023-05-03 09:08:18,534]\u001b[0m Trial 60 finished with values: [0.8611111111111112, 0.14297494292259216] and parameters: {'seed': 8775}. \u001b[0m\n",
      "\u001b[32m[I 2023-05-03 09:08:18,534]\u001b[0m Trial 58 finished with values: [0.9444444444444444, 0.0] and parameters: {'seed': 9023}. \u001b[0m\n",
      "\u001b[32m[I 2023-05-03 09:08:18,792]\u001b[0m Trial 62 finished with values: [0.7222222222222222, 0.0] and parameters: {'seed': 8809}. \u001b[0m\n",
      "\u001b[32m[I 2023-05-03 09:08:18,862]\u001b[0m Trial 61 finished with values: [0.9230769230769231, 0.0] and parameters: {'seed': 8795}. \u001b[0m\n",
      "\u001b[32m[I 2023-05-03 09:08:19,110]\u001b[0m Trial 64 finished with values: [0.6666666666666666, 0.0] and parameters: {'seed': 7551}. \u001b[0m\n",
      "\u001b[32m[I 2023-05-03 09:08:19,113]\u001b[0m Trial 63 finished with values: [0.9230769230769231, 0.0] and parameters: {'seed': 8932}. \u001b[0m\n",
      "\u001b[32m[I 2023-05-03 09:08:19,114]\u001b[0m Trial 65 finished with values: [0.8333333333333333, 0.0] and parameters: {'seed': 2803}. \u001b[0m\n",
      "\u001b[32m[I 2023-05-03 09:08:19,412]\u001b[0m Trial 67 finished with values: [0.3055555555555556, 0.0] and parameters: {'seed': 7552}. \u001b[0m\n",
      "\u001b[32m[I 2023-05-03 09:08:19,412]\u001b[0m Trial 66 finished with values: [0.5, 0.0] and parameters: {'seed': 7723}. \u001b[0m\n",
      "\u001b[32m[I 2023-05-03 09:08:19,633]\u001b[0m Trial 68 finished with values: [0.9230769230769231, 0.0] and parameters: {'seed': 2582}. \u001b[0m\n",
      "\u001b[32m[I 2023-05-03 09:08:19,881]\u001b[0m Trial 69 finished with values: [0.5384615384615384, 0.0] and parameters: {'seed': 2628}. \u001b[0m\n",
      "\u001b[32m[I 2023-05-03 09:08:20,446]\u001b[0m Trial 71 finished with values: [0.8461538461538461, 0.27288901805877686] and parameters: {'seed': 7500}. \u001b[0m\n",
      "\u001b[32m[I 2023-05-03 09:08:20,447]\u001b[0m Trial 70 finished with values: [0.9230769230769231, 0.3589838147163391] and parameters: {'seed': 1778}. \u001b[0m\n",
      "\u001b[32m[I 2023-05-03 09:08:20,566]\u001b[0m Trial 72 finished with values: [0.48611111111111105, 0.0] and parameters: {'seed': 6704}. \u001b[0m\n",
      "\u001b[32m[I 2023-05-03 09:08:20,789]\u001b[0m Trial 73 finished with values: [0.5384615384615384, 0.0] and parameters: {'seed': 6634}. \u001b[0m\n",
      "\u001b[32m[I 2023-05-03 09:08:20,848]\u001b[0m Trial 75 finished with values: [0.7692307692307692, 0.0] and parameters: {'seed': 1640}. \u001b[0m\n",
      "\u001b[32m[I 2023-05-03 09:08:20,849]\u001b[0m Trial 74 finished with values: [0.8055555555555556, 0.0] and parameters: {'seed': 5578}. \u001b[0m\n",
      "\u001b[32m[I 2023-05-03 09:08:21,197]\u001b[0m Trial 76 finished with values: [0.9166666666666666, 0.0] and parameters: {'seed': 1439}. \u001b[0m\n",
      "\u001b[32m[I 2023-05-03 09:08:21,198]\u001b[0m Trial 78 finished with values: [0.5, 0.06458429992198944] and parameters: {'seed': 6600}. \u001b[0m\n",
      "\u001b[32m[I 2023-05-03 09:08:21,198]\u001b[0m Trial 79 finished with values: [0.888888888888889, 0.0] and parameters: {'seed': 9560}. \u001b[0m\n",
      "\u001b[32m[I 2023-05-03 09:08:21,325]\u001b[0m Trial 77 finished with values: [0.7222222222222222, 0.05941401422023773] and parameters: {'seed': 6619}. \u001b[0m\n",
      "\u001b[32m[I 2023-05-03 09:08:21,458]\u001b[0m Trial 81 finished with values: [0.7222222222222222, 0.0] and parameters: {'seed': 1525}. \u001b[0m\n",
      "\u001b[32m[I 2023-05-03 09:08:21,473]\u001b[0m Trial 80 finished with values: [0.6923076923076923, 0.33837130665779114] and parameters: {'seed': 1566}. \u001b[0m\n",
      "\u001b[32m[I 2023-05-03 09:08:21,600]\u001b[0m Trial 82 finished with values: [1.0, 0.13150107860565186] and parameters: {'seed': 1993}. \u001b[0m\n",
      "\u001b[32m[I 2023-05-03 09:08:22,152]\u001b[0m Trial 83 finished with values: [0.9230769230769231, 0.0] and parameters: {'seed': 1875}. \u001b[0m\n",
      "\u001b[32m[I 2023-05-03 09:08:22,153]\u001b[0m Trial 84 finished with values: [0.7777777777777777, 0.09341301769018173] and parameters: {'seed': 1977}. \u001b[0m\n",
      "\u001b[32m[I 2023-05-03 09:08:22,397]\u001b[0m Trial 85 finished with values: [0.8846153846153846, 0.0] and parameters: {'seed': 1945}. \u001b[0m\n",
      "\u001b[32m[I 2023-05-03 09:08:22,563]\u001b[0m Trial 86 finished with values: [0.7307692307692308, 0.0] and parameters: {'seed': 2162}. \u001b[0m\n",
      "\u001b[32m[I 2023-05-03 09:08:22,895]\u001b[0m Trial 88 finished with values: [0.6666666666666666, 0.10642785578966141] and parameters: {'seed': 1890}. \u001b[0m\n",
      "\u001b[32m[I 2023-05-03 09:08:23,231]\u001b[0m Trial 89 finished with values: [0.75, 0.05737106502056122] and parameters: {'seed': 1803}. \u001b[0m\n",
      "\u001b[32m[I 2023-05-03 09:08:23,365]\u001b[0m Trial 87 finished with values: [0.3846153846153846, 0.0] and parameters: {'seed': 1094}. \u001b[0m\n",
      "\u001b[32m[I 2023-05-03 09:08:23,366]\u001b[0m Trial 91 finished with values: [0.9166666666666666, 0.12281396239995956] and parameters: {'seed': 1143}. \u001b[0m\n",
      "\u001b[32m[I 2023-05-03 09:08:23,367]\u001b[0m Trial 90 finished with values: [0.9615384615384616, 0.0] and parameters: {'seed': 2052}. \u001b[0m\n",
      "\u001b[32m[I 2023-05-03 09:08:23,695]\u001b[0m Trial 92 finished with values: [0.75, 0.0] and parameters: {'seed': 3351}. \u001b[0m\n",
      "\u001b[32m[I 2023-05-03 09:08:23,696]\u001b[0m Trial 95 finished with values: [0.8461538461538461, 0.0] and parameters: {'seed': 3150}. \u001b[0m\n",
      "\u001b[32m[I 2023-05-03 09:08:23,858]\u001b[0m Trial 97 finished with values: [0.5555555555555556, 0.0] and parameters: {'seed': 2974}. \u001b[0m\n",
      "\u001b[32m[I 2023-05-03 09:08:24,163]\u001b[0m Trial 93 finished with values: [0.9230769230769231, 0.0] and parameters: {'seed': 1046}. \u001b[0m\n",
      "\u001b[32m[I 2023-05-03 09:08:24,239]\u001b[0m Trial 96 finished with values: [0.6944444444444444, 0.6909835934638977] and parameters: {'seed': 1201}. \u001b[0m\n",
      "\u001b[32m[I 2023-05-03 09:08:24,270]\u001b[0m Trial 98 finished with values: [0.6666666666666666, 0.0] and parameters: {'seed': 1026}. \u001b[0m\n",
      "\u001b[32m[I 2023-05-03 09:08:24,271]\u001b[0m Trial 94 finished with values: [0.75, 0.0] and parameters: {'seed': 1089}. \u001b[0m\n",
      "\u001b[32m[I 2023-05-03 09:08:24,940]\u001b[0m Trial 99 finished with values: [0.6944444444444444, 0.0] and parameters: {'seed': 1045}. \u001b[0m\n",
      "\u001b[32m[I 2023-05-03 09:08:25,101]\u001b[0m Trial 100 finished with values: [0.8333333333333333, 0.0] and parameters: {'seed': 1003}. \u001b[0m\n",
      "\u001b[32m[I 2023-05-03 09:08:25,214]\u001b[0m Trial 101 finished with values: [0.7307692307692307, 0.0] and parameters: {'seed': 1206}. \u001b[0m\n",
      "\u001b[32m[I 2023-05-03 09:08:25,267]\u001b[0m Trial 102 finished with values: [0.5769230769230769, 0.0] and parameters: {'seed': 1151}. \u001b[0m\n",
      "\u001b[32m[I 2023-05-03 09:08:25,472]\u001b[0m Trial 105 finished with values: [0.5416666666666667, 0.0] and parameters: {'seed': 307}. \u001b[0m\n",
      "\u001b[32m[I 2023-05-03 09:08:25,604]\u001b[0m Trial 104 finished with values: [0.8846153846153847, 0.0] and parameters: {'seed': 331}. \u001b[0m\n",
      "\u001b[32m[I 2023-05-03 09:08:25,834]\u001b[0m Trial 103 finished with values: [0.673076923076923, 0.11787150800228119] and parameters: {'seed': 321}. \u001b[0m\n",
      "\u001b[32m[I 2023-05-03 09:08:25,925]\u001b[0m Trial 107 finished with values: [0.6666666666666666, 0.08918682485818863] and parameters: {'seed': 316}. \u001b[0m\n",
      "\u001b[32m[I 2023-05-03 09:08:25,926]\u001b[0m Trial 109 finished with values: [0.46153846153846156, 0.0] and parameters: {'seed': 278}. \u001b[0m\n",
      "\u001b[32m[I 2023-05-03 09:08:25,953]\u001b[0m Trial 106 finished with values: [0.9230769230769231, 0.0] and parameters: {'seed': 64}. \u001b[0m\n",
      "\u001b[32m[I 2023-05-03 09:08:25,967]\u001b[0m Trial 108 finished with values: [0.9615384615384616, 0.06110905483365059] and parameters: {'seed': 385}. \u001b[0m\n",
      "\u001b[32m[I 2023-05-03 09:08:26,274]\u001b[0m Trial 110 finished with values: [0.8076923076923077, 0.06000195071101189] and parameters: {'seed': 190}. \u001b[0m\n",
      "\u001b[32m[I 2023-05-03 09:08:26,275]\u001b[0m Trial 112 finished with values: [0.7361111111111112, 0.0] and parameters: {'seed': 413}. \u001b[0m\n",
      "\u001b[32m[I 2023-05-03 09:08:26,684]\u001b[0m Trial 113 finished with values: [0.7884615384615384, 0.0] and parameters: {'seed': 2345}. \u001b[0m\n",
      "\u001b[32m[I 2023-05-03 09:08:26,685]\u001b[0m Trial 111 finished with values: [0.5769230769230769, 0.0] and parameters: {'seed': 718}. \u001b[0m\n",
      "\u001b[32m[I 2023-05-03 09:08:27,053]\u001b[0m Trial 115 finished with values: [0.5555555555555556, 0.1645095944404602] and parameters: {'seed': 2364}. \u001b[0m\n",
      "\u001b[32m[I 2023-05-03 09:08:27,286]\u001b[0m Trial 114 finished with values: [0.8461538461538461, 0.09599851071834564] and parameters: {'seed': 2343}. \u001b[0m\n",
      "\u001b[32m[I 2023-05-03 09:08:27,364]\u001b[0m Trial 116 finished with values: [0.8888888888888888, 0.0] and parameters: {'seed': 2431}. \u001b[0m\n",
      "\u001b[32m[I 2023-05-03 09:08:27,810]\u001b[0m Trial 118 finished with values: [0.7777777777777778, 0.0] and parameters: {'seed': 599}. \u001b[0m\n",
      "\u001b[32m[I 2023-05-03 09:08:27,902]\u001b[0m Trial 120 finished with values: [0.4444444444444444, 0.06703901290893555] and parameters: {'seed': 1629}. \u001b[0m\n",
      "\u001b[32m[I 2023-05-03 09:08:28,078]\u001b[0m Trial 117 finished with values: [0.576923076923077, 0.0] and parameters: {'seed': 4791}. \u001b[0m\n",
      "\u001b[32m[I 2023-05-03 09:08:28,183]\u001b[0m Trial 119 finished with values: [0.5769230769230769, 0.0] and parameters: {'seed': 4713}. \u001b[0m\n",
      "\u001b[32m[I 2023-05-03 09:08:28,358]\u001b[0m Trial 122 finished with values: [0.11538461538461536, 0.0] and parameters: {'seed': 1661}. \u001b[0m\n",
      "\u001b[32m[I 2023-05-03 09:08:28,359]\u001b[0m Trial 121 finished with values: [0.9615384615384616, 0.0] and parameters: {'seed': 4750}. \u001b[0m\n",
      "\u001b[32m[I 2023-05-03 09:08:28,399]\u001b[0m Trial 125 finished with values: [0.888888888888889, 0.0] and parameters: {'seed': 4894}. \u001b[0m\n",
      "\u001b[32m[I 2023-05-03 09:08:28,478]\u001b[0m Trial 123 finished with values: [0.7638888888888888, 0.1280006766319275] and parameters: {'seed': 4647}. \u001b[0m\n",
      "\u001b[32m[I 2023-05-03 09:08:28,546]\u001b[0m Trial 127 finished with values: [0.75, 0.2078661322593689] and parameters: {'seed': 1591}. \u001b[0m\n",
      "\u001b[32m[I 2023-05-03 09:08:28,607]\u001b[0m Trial 124 finished with values: [0.7307692307692307, 0.0] and parameters: {'seed': 4695}. \u001b[0m\n",
      "\u001b[32m[I 2023-05-03 09:08:29,000]\u001b[0m Trial 128 finished with values: [0.7307692307692307, 0.0] and parameters: {'seed': 1349}. \u001b[0m\n",
      "\u001b[32m[I 2023-05-03 09:08:29,002]\u001b[0m Trial 126 finished with values: [0.5, 0.030470645055174828] and parameters: {'seed': 4799}. \u001b[0m\n",
      "\u001b[32m[I 2023-05-03 09:08:29,240]\u001b[0m Trial 129 finished with values: [0.6944444444444444, 0.28617241978645325] and parameters: {'seed': 1340}. \u001b[0m\n",
      "\u001b[32m[I 2023-05-03 09:08:29,455]\u001b[0m Trial 130 finished with values: [0.5, 0.19718976318836212] and parameters: {'seed': 1344}. \u001b[0m\n",
      "\u001b[32m[I 2023-05-03 09:08:29,961]\u001b[0m Trial 132 finished with values: [0.6923076923076923, 0.0] and parameters: {'seed': 1347}. \u001b[0m\n",
      "\u001b[32m[I 2023-05-03 09:08:30,318]\u001b[0m Trial 131 finished with values: [0.5576923076923077, 0.0] and parameters: {'seed': 5286}. \u001b[0m\n",
      "\u001b[32m[I 2023-05-03 09:08:30,359]\u001b[0m Trial 133 finished with values: [0.8194444444444444, 0.0] and parameters: {'seed': 860}. \u001b[0m\n",
      "\u001b[32m[I 2023-05-03 09:08:30,394]\u001b[0m Trial 135 finished with values: [0.8846153846153846, 0.12235139310359955] and parameters: {'seed': 848}. \u001b[0m\n",
      "\u001b[32m[I 2023-05-03 09:08:30,566]\u001b[0m Trial 136 finished with values: [0.888888888888889, 0.0] and parameters: {'seed': 778}. \u001b[0m\n",
      "\u001b[32m[I 2023-05-03 09:08:30,759]\u001b[0m Trial 134 finished with values: [0.8846153846153846, 0.0] and parameters: {'seed': 1381}. \u001b[0m\n",
      "\u001b[32m[I 2023-05-03 09:08:31,029]\u001b[0m Trial 139 finished with values: [0.6923076923076923, 0.0] and parameters: {'seed': 3572}. \u001b[0m\n",
      "\u001b[32m[I 2023-05-03 09:08:31,030]\u001b[0m Trial 138 finished with values: [0.7692307692307692, 0.0] and parameters: {'seed': 5327}. \u001b[0m\n",
      "\u001b[32m[I 2023-05-03 09:08:31,033]\u001b[0m Trial 137 finished with values: [0.5833333333333334, 0.0] and parameters: {'seed': 855}. \u001b[0m\n",
      "\u001b[32m[I 2023-05-03 09:08:31,033]\u001b[0m Trial 140 finished with values: [0.6666666666666666, 0.0] and parameters: {'seed': 5335}. \u001b[0m\n",
      "\u001b[32m[I 2023-05-03 09:08:31,179]\u001b[0m Trial 143 finished with values: [0.8611111111111112, 0.0] and parameters: {'seed': 8045}. \u001b[0m\n",
      "\u001b[32m[I 2023-05-03 09:08:31,216]\u001b[0m Trial 141 finished with values: [0.9230769230769231, 0.056579314172267914] and parameters: {'seed': 900}. \u001b[0m\n",
      "\u001b[32m[I 2023-05-03 09:08:31,473]\u001b[0m Trial 142 finished with values: [0.42307692307692313, 0.0] and parameters: {'seed': 1715}. \u001b[0m\n",
      "\u001b[32m[I 2023-05-03 09:08:31,640]\u001b[0m Trial 144 finished with values: [0.986111111111111, 0.0] and parameters: {'seed': 3564}. \u001b[0m\n",
      "\u001b[32m[I 2023-05-03 09:08:32,005]\u001b[0m Trial 145 finished with values: [0.8055555555555555, 0.0989348515868187] and parameters: {'seed': 5935}. \u001b[0m\n",
      "\u001b[32m[I 2023-05-03 09:08:32,294]\u001b[0m Trial 146 finished with values: [0.9615384615384616, 0.08974280953407288] and parameters: {'seed': 8536}. \u001b[0m\n",
      "\u001b[32m[I 2023-05-03 09:08:32,613]\u001b[0m Trial 147 finished with values: [0.75, 0.12326803803443909] and parameters: {'seed': 5946}. \u001b[0m\n",
      "\u001b[32m[I 2023-05-03 09:08:32,765]\u001b[0m Trial 151 finished with values: [0.8461538461538461, 0.09203451871871948] and parameters: {'seed': 5819}. \u001b[0m\n",
      "\u001b[32m[I 2023-05-03 09:08:32,868]\u001b[0m Trial 152 finished with values: [0.611111111111111, 0.11416824907064438] and parameters: {'seed': 4278}. \u001b[0m\n",
      "\u001b[32m[I 2023-05-03 09:08:32,920]\u001b[0m Trial 149 finished with values: [0.5277777777777778, 0.0] and parameters: {'seed': 5999}. \u001b[0m\n",
      "\u001b[32m[I 2023-05-03 09:08:33,078]\u001b[0m Trial 150 finished with values: [0.8846153846153847, 0.0] and parameters: {'seed': 5773}. \u001b[0m\n",
      "\u001b[32m[I 2023-05-03 09:08:33,201]\u001b[0m Trial 148 finished with values: [0.9444444444444444, 0.0] and parameters: {'seed': 8574}. \u001b[0m\n",
      "\u001b[32m[I 2023-05-03 09:08:33,361]\u001b[0m Trial 154 finished with values: [0.75, 0.0] and parameters: {'seed': 9607}. \u001b[0m\n",
      "\u001b[32m[I 2023-05-03 09:08:33,417]\u001b[0m Trial 153 finished with values: [0.9230769230769231, 0.12891556322574615] and parameters: {'seed': 9383}. \u001b[0m\n",
      "\u001b[32m[I 2023-05-03 09:08:33,637]\u001b[0m Trial 155 finished with values: [0.7777777777777779, 0.10494353622198105] and parameters: {'seed': 8455}. \u001b[0m\n",
      "\u001b[32m[I 2023-05-03 09:08:33,713]\u001b[0m Trial 156 finished with values: [0.8461538461538461, 0.0] and parameters: {'seed': 1252}. \u001b[0m\n",
      "\u001b[32m[I 2023-05-03 09:08:33,828]\u001b[0m Trial 157 finished with values: [0.5277777777777778, 0.10393653064966202] and parameters: {'seed': 7341}. \u001b[0m\n",
      "\u001b[32m[I 2023-05-03 09:08:34,028]\u001b[0m Trial 159 finished with values: [0.8846153846153846, 0.0] and parameters: {'seed': 7337}. \u001b[0m\n",
      "\u001b[32m[I 2023-05-03 09:08:34,029]\u001b[0m Trial 158 finished with values: [0.75, 0.0] and parameters: {'seed': 1256}. \u001b[0m\n",
      "\u001b[32m[I 2023-05-03 09:08:34,371]\u001b[0m Trial 160 finished with values: [1.0, 0.0] and parameters: {'seed': 537}. \u001b[0m\n",
      "\u001b[32m[I 2023-05-03 09:08:34,716]\u001b[0m Trial 163 finished with values: [0.6153846153846154, 0.0] and parameters: {'seed': 1835}. \u001b[0m\n",
      "\u001b[32m[I 2023-05-03 09:08:34,783]\u001b[0m Trial 161 finished with values: [0.8611111111111112, 0.0] and parameters: {'seed': 2133}. \u001b[0m\n",
      "\u001b[32m[I 2023-05-03 09:08:35,311]\u001b[0m Trial 165 finished with values: [0.5384615384615384, 0.0] and parameters: {'seed': 546}. \u001b[0m\n",
      "\u001b[32m[I 2023-05-03 09:08:35,314]\u001b[0m Trial 162 finished with values: [0.4230769230769231, 0.0] and parameters: {'seed': 1521}. \u001b[0m\n",
      "\u001b[32m[I 2023-05-03 09:08:35,408]\u001b[0m Trial 164 finished with values: [0.6249999999999999, 0.08679226040840149] and parameters: {'seed': 1572}. \u001b[0m\n",
      "\u001b[32m[I 2023-05-03 09:08:35,522]\u001b[0m Trial 170 finished with values: [0.9166666666666666, 0.0] and parameters: {'seed': 1494}. \u001b[0m\n",
      "\u001b[32m[I 2023-05-03 09:08:35,769]\u001b[0m Trial 167 finished with values: [0.8076923076923077, 0.0] and parameters: {'seed': 1388}. \u001b[0m\n",
      "\u001b[32m[I 2023-05-03 09:08:35,941]\u001b[0m Trial 169 finished with values: [0.8611111111111112, 0.0] and parameters: {'seed': 1511}. \u001b[0m\n",
      "\u001b[32m[I 2023-05-03 09:08:35,969]\u001b[0m Trial 168 finished with values: [0.8076923076923077, 0.13044047355651855] and parameters: {'seed': 1524}. \u001b[0m\n",
      "\u001b[32m[I 2023-05-03 09:08:35,969]\u001b[0m Trial 166 finished with values: [0.4444444444444444, 0.25497788190841675] and parameters: {'seed': 1765}. \u001b[0m\n",
      "\u001b[32m[I 2023-05-03 09:08:36,264]\u001b[0m Trial 174 finished with values: [0.5769230769230769, 0.05613289773464203] and parameters: {'seed': 1124}. \u001b[0m\n",
      "\u001b[32m[I 2023-05-03 09:08:36,268]\u001b[0m Trial 171 finished with values: [0.7692307692307693, 0.0] and parameters: {'seed': 1520}. \u001b[0m\n",
      "\u001b[32m[I 2023-05-03 09:08:36,512]\u001b[0m Trial 172 finished with values: [0.8333333333333333, 0.0] and parameters: {'seed': 9254}. \u001b[0m\n",
      "\u001b[32m[I 2023-05-03 09:08:36,703]\u001b[0m Trial 173 finished with values: [0.5555555555555556, 0.0] and parameters: {'seed': 1132}. \u001b[0m\n",
      "\u001b[32m[I 2023-05-03 09:08:36,825]\u001b[0m Trial 175 finished with values: [0.75, 0.0] and parameters: {'seed': 9289}. \u001b[0m\n",
      "\u001b[32m[I 2023-05-03 09:08:36,825]\u001b[0m Trial 176 finished with values: [0.9722222222222222, 0.0] and parameters: {'seed': 9369}. \u001b[0m\n",
      "\u001b[32m[I 2023-05-03 09:08:37,165]\u001b[0m Trial 177 finished with values: [0.7222222222222222, 0.05601240321993828] and parameters: {'seed': 1056}. \u001b[0m\n",
      "\u001b[32m[I 2023-05-03 09:08:37,490]\u001b[0m Trial 178 finished with values: [0.9230769230769231, 0.21118196845054626] and parameters: {'seed': 1138}. \u001b[0m\n",
      "\u001b[32m[I 2023-05-03 09:08:37,518]\u001b[0m Trial 180 finished with values: [0.9615384615384616, 0.27958470582962036] and parameters: {'seed': 8002}. \u001b[0m\n",
      "\u001b[32m[I 2023-05-03 09:08:37,569]\u001b[0m Trial 182 finished with values: [0.8055555555555556, 0.040526535362005234] and parameters: {'seed': 8054}. \u001b[0m\n",
      "\u001b[32m[I 2023-05-03 09:08:37,963]\u001b[0m Trial 179 finished with values: [0.5384615384615384, 0.10889077186584473] and parameters: {'seed': 971}. \u001b[0m\n",
      "\u001b[32m[I 2023-05-03 09:08:38,127]\u001b[0m Trial 181 finished with values: [0.9230769230769231, 0.08213284611701965] and parameters: {'seed': 1010}. \u001b[0m\n",
      "\u001b[32m[I 2023-05-03 09:08:38,348]\u001b[0m Trial 185 finished with values: [0.888888888888889, 0.0] and parameters: {'seed': 8056}. \u001b[0m\n",
      "\u001b[32m[I 2023-05-03 09:08:38,606]\u001b[0m Trial 187 finished with values: [0.625, 0.22409957647323608] and parameters: {'seed': 8062}. \u001b[0m\n",
      "\u001b[32m[I 2023-05-03 09:08:38,650]\u001b[0m Trial 184 finished with values: [0.7115384615384616, 0.0618065670132637] and parameters: {'seed': 8033}. \u001b[0m\n",
      "\u001b[32m[I 2023-05-03 09:08:38,650]\u001b[0m Trial 183 finished with values: [0.8846153846153846, 0.0] and parameters: {'seed': 735}. \u001b[0m\n",
      "\u001b[32m[I 2023-05-03 09:08:38,810]\u001b[0m Trial 186 finished with values: [0.923076923076923, 0.0] and parameters: {'seed': 7746}. \u001b[0m\n",
      "\u001b[32m[I 2023-05-03 09:08:38,968]\u001b[0m Trial 189 finished with values: [0.5833333333333334, 0.0] and parameters: {'seed': 7629}. \u001b[0m\n",
      "\u001b[32m[I 2023-05-03 09:08:39,054]\u001b[0m Trial 188 finished with values: [0.7777777777777779, 0.0] and parameters: {'seed': 7847}. \u001b[0m\n",
      "\u001b[32m[I 2023-05-03 09:08:39,355]\u001b[0m Trial 190 finished with values: [0.923076923076923, 0.0] and parameters: {'seed': 6429}. \u001b[0m\n",
      "\u001b[32m[I 2023-05-03 09:08:39,520]\u001b[0m Trial 192 finished with values: [0.6538461538461539, 0.0] and parameters: {'seed': 6399}. \u001b[0m\n",
      "\u001b[32m[I 2023-05-03 09:08:39,553]\u001b[0m Trial 191 finished with values: [0.75, 0.0873221680521965] and parameters: {'seed': 7667}. \u001b[0m\n",
      "\u001b[32m[I 2023-05-03 09:08:39,618]\u001b[0m Trial 193 finished with values: [0.7638888888888888, 0.09322477132081985] and parameters: {'seed': 2899}. \u001b[0m\n",
      "\u001b[32m[I 2023-05-03 09:08:40,108]\u001b[0m Trial 195 finished with values: [0.6944444444444444, 0.03970055282115936] and parameters: {'seed': 8631}. \u001b[0m\n",
      "\u001b[32m[I 2023-05-03 09:08:40,214]\u001b[0m Trial 194 finished with values: [0.7638888888888888, 0.0] and parameters: {'seed': 8615}. \u001b[0m\n",
      "\u001b[32m[I 2023-05-03 09:08:40,469]\u001b[0m Trial 197 finished with values: [0.7307692307692307, 0.0550592839717865] and parameters: {'seed': 2920}. \u001b[0m\n",
      "\u001b[32m[I 2023-05-03 09:08:40,470]\u001b[0m Trial 199 finished with values: [0.9230769230769231, 0.02825872413814068] and parameters: {'seed': 633}. \u001b[0m\n",
      "\u001b[32m[I 2023-05-03 09:08:40,471]\u001b[0m Trial 198 finished with values: [0.5138888888888888, 0.0] and parameters: {'seed': 576}. \u001b[0m\n",
      "\u001b[32m[I 2023-05-03 09:08:40,883]\u001b[0m Trial 202 finished with values: [0.8055555555555556, 0.0] and parameters: {'seed': 601}. \u001b[0m\n",
      "\u001b[32m[I 2023-05-03 09:08:40,883]\u001b[0m Trial 201 finished with values: [0.6538461538461539, 0.0] and parameters: {'seed': 573}. \u001b[0m\n",
      "\u001b[32m[I 2023-05-03 09:08:40,914]\u001b[0m Trial 196 finished with values: [0.75, 0.0] and parameters: {'seed': 1273}. \u001b[0m\n",
      "\u001b[32m[I 2023-05-03 09:08:41,400]\u001b[0m Trial 203 finished with values: [0.7777777777777778, 0.0] and parameters: {'seed': 621}. \u001b[0m\n",
      "\u001b[32m[I 2023-05-03 09:08:41,416]\u001b[0m Trial 200 finished with values: [0.7222222222222222, 0.0] and parameters: {'seed': 1221}. \u001b[0m\n",
      "\u001b[32m[I 2023-05-03 09:08:41,593]\u001b[0m Trial 204 finished with values: [0.6944444444444444, 0.0] and parameters: {'seed': 583}. \u001b[0m\n",
      "\u001b[32m[I 2023-05-03 09:08:41,679]\u001b[0m Trial 209 finished with values: [0.46153846153846156, 0.0] and parameters: {'seed': 6898}. \u001b[0m\n",
      "\u001b[32m[I 2023-05-03 09:08:41,681]\u001b[0m Trial 205 finished with values: [0.5, 0.0] and parameters: {'seed': 7019}. \u001b[0m\n",
      "\u001b[32m[I 2023-05-03 09:08:42,144]\u001b[0m Trial 207 finished with values: [0.7222222222222221, 0.0] and parameters: {'seed': 9843}. \u001b[0m\n",
      "\u001b[32m[I 2023-05-03 09:08:42,374]\u001b[0m Trial 208 finished with values: [0.9615384615384616, 0.0] and parameters: {'seed': 6912}. \u001b[0m\n",
      "\u001b[32m[I 2023-05-03 09:08:42,748]\u001b[0m Trial 210 finished with values: [0.8846153846153846, 0.05562335252761841] and parameters: {'seed': 1810}. \u001b[0m\n",
      "\u001b[32m[I 2023-05-03 09:08:42,801]\u001b[0m Trial 211 finished with values: [0.7307692307692307, 0.0] and parameters: {'seed': 1994}. \u001b[0m\n",
      "\u001b[32m[I 2023-05-03 09:08:42,929]\u001b[0m Trial 206 finished with values: [0.7638888888888888, 0.05253705382347107] and parameters: {'seed': 7036}. \u001b[0m\n",
      "\u001b[32m[I 2023-05-03 09:08:43,002]\u001b[0m Trial 212 finished with values: [0.9722222222222222, 0.0] and parameters: {'seed': 8315}. \u001b[0m\n",
      "\u001b[32m[I 2023-05-03 09:08:43,053]\u001b[0m Trial 214 finished with values: [0.5833333333333334, 0.0] and parameters: {'seed': 1272}. \u001b[0m\n",
      "\u001b[32m[I 2023-05-03 09:08:43,484]\u001b[0m Trial 217 finished with values: [0.5277777777777778, 0.0] and parameters: {'seed': 1957}. \u001b[0m\n",
      "\u001b[32m[I 2023-05-03 09:08:43,626]\u001b[0m Trial 215 finished with values: [0.7307692307692307, 0.0] and parameters: {'seed': 1994}. \u001b[0m\n",
      "\u001b[32m[I 2023-05-03 09:08:43,626]\u001b[0m Trial 213 finished with values: [0.7692307692307692, 0.041744478046894073] and parameters: {'seed': 2032}. \u001b[0m\n",
      "\u001b[32m[I 2023-05-03 09:08:43,732]\u001b[0m Trial 216 finished with values: [0.846153846153846, 0.0] and parameters: {'seed': 1737}. \u001b[0m\n",
      "\u001b[32m[I 2023-05-03 09:08:44,045]\u001b[0m Trial 218 finished with values: [0.888888888888889, 0.18809466063976288] and parameters: {'seed': 1306}. \u001b[0m\n",
      "\u001b[32m[I 2023-05-03 09:08:44,100]\u001b[0m Trial 219 finished with values: [0.5555555555555556, 0.0] and parameters: {'seed': 1294}. \u001b[0m\n",
      "\u001b[32m[I 2023-05-03 09:08:44,200]\u001b[0m Trial 220 finished with values: [0.5555555555555556, 0.13885991275310516] and parameters: {'seed': 1298}. \u001b[0m\n",
      "\u001b[32m[I 2023-05-03 09:08:44,200]\u001b[0m Trial 222 finished with values: [0.5555555555555556, 0.0] and parameters: {'seed': 1294}. \u001b[0m\n",
      "\u001b[32m[I 2023-05-03 09:08:44,280]\u001b[0m Trial 221 finished with values: [1.0, 0.3688807189464569] and parameters: {'seed': 4528}. \u001b[0m\n",
      "\u001b[32m[I 2023-05-03 09:08:44,378]\u001b[0m Trial 223 finished with values: [0.8076923076923077, 0.0] and parameters: {'seed': 1034}. \u001b[0m\n",
      "\u001b[32m[I 2023-05-03 09:08:44,976]\u001b[0m Trial 224 finished with values: [0.611111111111111, 0.06436103582382202] and parameters: {'seed': 4070}. \u001b[0m\n",
      "\u001b[32m[I 2023-05-03 09:08:45,355]\u001b[0m Trial 228 finished with values: [0.5138888888888888, 0.1434994786977768] and parameters: {'seed': 3826}. \u001b[0m\n",
      "\u001b[32m[I 2023-05-03 09:08:45,433]\u001b[0m Trial 226 finished with values: [0.888888888888889, 0.0] and parameters: {'seed': 898}. \u001b[0m\n",
      "\u001b[32m[I 2023-05-03 09:08:45,492]\u001b[0m Trial 225 finished with values: [0.8055555555555557, 0.0] and parameters: {'seed': 4525}. \u001b[0m\n",
      "\u001b[32m[I 2023-05-03 09:08:45,751]\u001b[0m Trial 230 finished with values: [0.46153846153846156, 0.0] and parameters: {'seed': 4127}. \u001b[0m\n",
      "\u001b[32m[I 2023-05-03 09:08:45,802]\u001b[0m Trial 227 finished with values: [0.6923076923076923, 0.0] and parameters: {'seed': 4470}. \u001b[0m\n",
      "\u001b[32m[I 2023-05-03 09:08:46,145]\u001b[0m Trial 232 finished with values: [0.4722222222222222, 0.0] and parameters: {'seed': 4420}. \u001b[0m\n",
      "\u001b[32m[I 2023-05-03 09:08:46,176]\u001b[0m Trial 231 finished with values: [0.5833333333333333, 0.0] and parameters: {'seed': 2584}. \u001b[0m\n",
      "\u001b[32m[I 2023-05-03 09:08:46,429]\u001b[0m Trial 233 finished with values: [0.8846153846153846, 0.0] and parameters: {'seed': 3519}. \u001b[0m\n",
      "\u001b[32m[I 2023-05-03 09:08:46,498]\u001b[0m Trial 229 finished with values: [0.8611111111111112, 0.0] and parameters: {'seed': 4521}. \u001b[0m\n",
      "\u001b[32m[I 2023-05-03 09:08:46,500]\u001b[0m Trial 236 finished with values: [0.8333333333333334, 0.0] and parameters: {'seed': 6224}. \u001b[0m\n",
      "\u001b[32m[I 2023-05-03 09:08:46,586]\u001b[0m Trial 234 finished with values: [0.9615384615384616, 0.1468386948108673] and parameters: {'seed': 4456}. \u001b[0m\n",
      "\u001b[32m[I 2023-05-03 09:08:46,990]\u001b[0m Trial 238 finished with values: [0.4444444444444444, 0.0] and parameters: {'seed': 5592}. \u001b[0m\n",
      "\u001b[32m[I 2023-05-03 09:08:47,134]\u001b[0m Trial 237 finished with values: [0.8846153846153846, 0.0] and parameters: {'seed': 3674}. \u001b[0m\n",
      "\u001b[32m[I 2023-05-03 09:08:47,291]\u001b[0m Trial 239 finished with values: [0.6805555555555556, 0.0] and parameters: {'seed': 3190}. \u001b[0m\n",
      "\u001b[32m[I 2023-05-03 09:08:47,338]\u001b[0m Trial 235 finished with values: [0.6111111111111112, 0.0] and parameters: {'seed': 3170}. \u001b[0m\n",
      "\u001b[32m[I 2023-05-03 09:08:47,639]\u001b[0m Trial 240 finished with values: [0.5555555555555556, 0.0] and parameters: {'seed': 878}. \u001b[0m\n",
      "\u001b[32m[I 2023-05-03 09:08:47,730]\u001b[0m Trial 242 finished with values: [0.6527777777777777, 0.0] and parameters: {'seed': 4151}. \u001b[0m\n",
      "\u001b[32m[I 2023-05-03 09:08:47,732]\u001b[0m Trial 241 finished with values: [0.8076923076923077, 0.08393745869398117] and parameters: {'seed': 5028}. \u001b[0m\n",
      "\u001b[32m[I 2023-05-03 09:08:47,990]\u001b[0m Trial 244 finished with values: [0.6153846153846154, 0.0] and parameters: {'seed': 5115}. \u001b[0m\n",
      "\u001b[32m[I 2023-05-03 09:08:48,107]\u001b[0m Trial 243 finished with values: [0.5384615384615384, 0.0] and parameters: {'seed': 4322}. \u001b[0m\n",
      "\u001b[32m[I 2023-05-03 09:08:48,497]\u001b[0m Trial 245 finished with values: [0.5384615384615384, 0.0] and parameters: {'seed': 1090}. \u001b[0m\n",
      "\u001b[32m[I 2023-05-03 09:08:48,849]\u001b[0m Trial 246 finished with values: [0.5277777777777778, 0.12375543266534805] and parameters: {'seed': 1160}. \u001b[0m\n",
      "\u001b[32m[I 2023-05-03 09:08:49,098]\u001b[0m Trial 248 finished with values: [0.6538461538461539, 0.0] and parameters: {'seed': 4933}. \u001b[0m\n",
      "\u001b[32m[I 2023-05-03 09:08:49,102]\u001b[0m Trial 250 finished with values: [0.7222222222222222, 0.0] and parameters: {'seed': 5067}. \u001b[0m\n",
      "\u001b[32m[I 2023-05-03 09:08:49,103]\u001b[0m Trial 249 finished with values: [0.6944444444444444, 0.0] and parameters: {'seed': 1109}. \u001b[0m\n",
      "\u001b[32m[I 2023-05-03 09:08:49,104]\u001b[0m Trial 247 finished with values: [0.7307692307692307, 0.049959734082221985] and parameters: {'seed': 1044}. \u001b[0m\n",
      "\u001b[32m[I 2023-05-03 09:08:49,480]\u001b[0m Trial 251 finished with values: [0.9230769230769231, 0.0] and parameters: {'seed': 1430}. \u001b[0m\n",
      "\u001b[32m[I 2023-05-03 09:08:49,481]\u001b[0m Trial 252 finished with values: [0.5, 0.0] and parameters: {'seed': 1119}. \u001b[0m\n",
      "\u001b[32m[I 2023-05-03 09:08:49,931]\u001b[0m Trial 253 finished with values: [0.6153846153846154, 0.0] and parameters: {'seed': 1498}. \u001b[0m\n",
      "\u001b[32m[I 2023-05-03 09:08:49,989]\u001b[0m Trial 254 finished with values: [0.6944444444444444, 0.12234974652528763] and parameters: {'seed': 1504}. \u001b[0m\n",
      "\u001b[32m[I 2023-05-03 09:08:50,513]\u001b[0m Trial 257 finished with values: [0.8846153846153846, 0.0] and parameters: {'seed': 1480}. \u001b[0m\n",
      "\u001b[32m[I 2023-05-03 09:08:50,514]\u001b[0m Trial 255 finished with values: [0.5576923076923077, 0.0] and parameters: {'seed': 1459}. \u001b[0m\n",
      "\u001b[32m[I 2023-05-03 09:08:50,670]\u001b[0m Trial 256 finished with values: [0.75, 0.3297715187072754] and parameters: {'seed': 1458}. \u001b[0m\n",
      "\u001b[32m[I 2023-05-03 09:08:50,671]\u001b[0m Trial 260 finished with values: [0.9444444444444444, 0.08832386881113052] and parameters: {'seed': 1592}. \u001b[0m\n",
      "\u001b[32m[I 2023-05-03 09:08:51,065]\u001b[0m Trial 259 finished with values: [0.6923076923076923, 0.33837130665779114] and parameters: {'seed': 1566}. \u001b[0m\n",
      "\u001b[32m[I 2023-05-03 09:08:51,165]\u001b[0m Trial 258 finished with values: [0.861111111111111, 0.1979048252105713] and parameters: {'seed': 3934}. \u001b[0m\n",
      "\u001b[32m[I 2023-05-03 09:08:51,367]\u001b[0m Trial 261 finished with values: [0.6666666666666667, 0.0] and parameters: {'seed': 4648}. \u001b[0m\n",
      "\u001b[32m[I 2023-05-03 09:08:51,399]\u001b[0m Trial 263 finished with values: [0.8055555555555556, 0.0] and parameters: {'seed': 3956}. \u001b[0m\n",
      "\u001b[32m[I 2023-05-03 09:08:51,476]\u001b[0m Trial 262 finished with values: [0.7222222222222222, 0.0] and parameters: {'seed': 792}. \u001b[0m\n",
      "\u001b[32m[I 2023-05-03 09:08:51,498]\u001b[0m Trial 264 finished with values: [0.7777777777777778, 0.0] and parameters: {'seed': 4265}. \u001b[0m\n",
      "\u001b[32m[I 2023-05-03 09:08:52,004]\u001b[0m Trial 266 finished with values: [0.7307692307692307, 0.07491960376501083] and parameters: {'seed': 3910}. \u001b[0m\n",
      "\u001b[32m[I 2023-05-03 09:08:52,010]\u001b[0m Trial 265 finished with values: [0.46153846153846156, 0.0] and parameters: {'seed': 4669}. \u001b[0m\n",
      "\u001b[32m[I 2023-05-03 09:08:52,306]\u001b[0m Trial 269 finished with values: [0.7307692307692308, 0.0] and parameters: {'seed': 5303}. \u001b[0m\n",
      "\u001b[32m[I 2023-05-03 09:08:52,386]\u001b[0m Trial 268 finished with values: [0.846153846153846, 0.0] and parameters: {'seed': 4689}. \u001b[0m\n",
      "\u001b[32m[I 2023-05-03 09:08:52,629]\u001b[0m Trial 272 finished with values: [0.6538461538461539, 0.0] and parameters: {'seed': 931}. \u001b[0m\n",
      "\u001b[32m[I 2023-05-03 09:08:52,871]\u001b[0m Trial 267 finished with values: [0.861111111111111, 0.0] and parameters: {'seed': 846}. \u001b[0m\n",
      "\u001b[32m[I 2023-05-03 09:08:53,510]\u001b[0m Trial 270 finished with values: [0.46153846153846156, 0.17115101218223572] and parameters: {'seed': 9981}. \u001b[0m\n",
      "\u001b[32m[I 2023-05-03 09:08:53,586]\u001b[0m Trial 273 finished with values: [0.8888888888888888, 0.21032612025737762] and parameters: {'seed': 5408}. \u001b[0m\n",
      "\u001b[32m[I 2023-05-03 09:08:53,626]\u001b[0m Trial 276 finished with values: [0.4230769230769231, 0.0] and parameters: {'seed': 9975}. \u001b[0m\n",
      "\u001b[32m[I 2023-05-03 09:08:53,828]\u001b[0m Trial 275 finished with values: [0.8888888888888888, 0.0] and parameters: {'seed': 7329}. \u001b[0m\n",
      "\u001b[32m[I 2023-05-03 09:08:53,829]\u001b[0m Trial 271 finished with values: [1.0, 0.06335218995809555] and parameters: {'seed': 1275}. \u001b[0m\n",
      "\u001b[32m[I 2023-05-03 09:08:53,866]\u001b[0m Trial 278 finished with values: [0.6944444444444445, 0.0] and parameters: {'seed': 1229}. \u001b[0m\n",
      "\u001b[32m[I 2023-05-03 09:08:53,896]\u001b[0m Trial 279 finished with values: [0.8611111111111112, 0.0] and parameters: {'seed': 7248}. \u001b[0m\n",
      "\u001b[32m[I 2023-05-03 09:08:53,921]\u001b[0m Trial 280 finished with values: [0.8055555555555556, 0.0] and parameters: {'seed': 9066}. \u001b[0m\n",
      "\u001b[32m[I 2023-05-03 09:08:53,922]\u001b[0m Trial 274 finished with values: [0.9615384615384616, 0.0] and parameters: {'seed': 936}. \u001b[0m\n",
      "\u001b[32m[I 2023-05-03 09:08:54,242]\u001b[0m Trial 277 finished with values: [0.5277777777777778, 0.0] and parameters: {'seed': 1249}. \u001b[0m\n",
      "\u001b[32m[I 2023-05-03 09:08:54,691]\u001b[0m Trial 281 finished with values: [0.6666666666666666, 0.19111959636211395] and parameters: {'seed': 1241}. \u001b[0m\n",
      "\u001b[32m[I 2023-05-03 09:08:54,897]\u001b[0m Trial 284 finished with values: [0.6666666666666666, 0.0] and parameters: {'seed': 23}. \u001b[0m\n",
      "\u001b[32m[I 2023-05-03 09:08:55,191]\u001b[0m Trial 283 finished with values: [0.7692307692307692, 0.0] and parameters: {'seed': 48}. \u001b[0m\n",
      "\u001b[32m[I 2023-05-03 09:08:55,718]\u001b[0m Trial 282 finished with values: [0.9444444444444445, 0.0] and parameters: {'seed': 1721}. \u001b[0m\n",
      "\u001b[32m[I 2023-05-03 09:08:55,844]\u001b[0m Trial 288 finished with values: [0.9615384615384616, 0.0] and parameters: {'seed': 1658}. \u001b[0m\n",
      "\u001b[32m[I 2023-05-03 09:08:55,966]\u001b[0m Trial 285 finished with values: [0.7307692307692307, 0.026417400687932968] and parameters: {'seed': 1647}. \u001b[0m\n",
      "\u001b[32m[I 2023-05-03 09:08:55,967]\u001b[0m Trial 286 finished with values: [0.9230769230769231, 0.004973609931766987] and parameters: {'seed': 1724}. \u001b[0m\n",
      "\u001b[32m[I 2023-05-03 09:08:56,256]\u001b[0m Trial 287 finished with values: [0.846153846153846, 0.0] and parameters: {'seed': 1681}. \u001b[0m\n",
      "\u001b[32m[I 2023-05-03 09:08:56,525]\u001b[0m Trial 292 finished with values: [0.6666666666666667, 0.0] and parameters: {'seed': 1671}. \u001b[0m\n",
      "\u001b[32m[I 2023-05-03 09:08:56,553]\u001b[0m Trial 294 finished with values: [0.8076923076923076, 0.22163045406341553] and parameters: {'seed': 5485}. \u001b[0m\n",
      "\u001b[32m[I 2023-05-03 09:08:56,601]\u001b[0m Trial 290 finished with values: [1.0, 0.0] and parameters: {'seed': 5404}. \u001b[0m\n",
      "\u001b[32m[I 2023-05-03 09:08:56,635]\u001b[0m Trial 289 finished with values: [0.875, 0.0] and parameters: {'seed': 1689}. \u001b[0m\n",
      "\u001b[32m[I 2023-05-03 09:08:56,654]\u001b[0m Trial 295 finished with values: [0.7500000000000001, 0.0] and parameters: {'seed': 9657}. \u001b[0m\n",
      "\u001b[32m[I 2023-05-03 09:08:57,066]\u001b[0m Trial 291 finished with values: [0.4861111111111111, 0.0] and parameters: {'seed': 4832}. \u001b[0m\n",
      "\u001b[32m[I 2023-05-03 09:08:57,119]\u001b[0m Trial 293 finished with values: [0.5769230769230769, 0.0] and parameters: {'seed': 1348}. \u001b[0m\n",
      "\u001b[32m[I 2023-05-03 09:08:57,292]\u001b[0m Trial 296 finished with values: [0.8333333333333334, 0.0] and parameters: {'seed': 4865}. \u001b[0m\n",
      "\u001b[32m[I 2023-05-03 09:08:57,427]\u001b[0m Trial 297 finished with values: [0.8076923076923077, 0.04372270032763481] and parameters: {'seed': 1317}. \u001b[0m\n",
      "\u001b[32m[I 2023-05-03 09:08:57,659]\u001b[0m Trial 298 finished with values: [0.9722222222222223, 0.0] and parameters: {'seed': 4937}. \u001b[0m\n",
      "\u001b[32m[I 2023-05-03 09:08:58,149]\u001b[0m Trial 301 finished with values: [1.0, 0.0] and parameters: {'seed': 1015}. \u001b[0m\n",
      "\u001b[32m[I 2023-05-03 09:08:58,163]\u001b[0m Trial 300 finished with values: [0.7222222222222222, 0.13502967357635498] and parameters: {'seed': 4391}. \u001b[0m\n",
      "\u001b[32m[I 2023-05-03 09:08:58,596]\u001b[0m Trial 303 finished with values: [0.9230769230769231, 0.0] and parameters: {'seed': 1027}. \u001b[0m\n",
      "\u001b[32m[I 2023-05-03 09:08:58,633]\u001b[0m Trial 299 finished with values: [0.5555555555555556, 0.0] and parameters: {'seed': 4480}. \u001b[0m\n",
      "\u001b[32m[I 2023-05-03 09:08:58,633]\u001b[0m Trial 302 finished with values: [0.6538461538461539, 0.059391722083091736] and parameters: {'seed': 4448}. \u001b[0m\n",
      "\u001b[32m[I 2023-05-03 09:08:58,694]\u001b[0m Trial 304 finished with values: [0.07692307692307687, 0.1728159487247467] and parameters: {'seed': 3377}. \u001b[0m\n",
      "\u001b[32m[I 2023-05-03 09:08:58,994]\u001b[0m Trial 309 finished with values: [0.8461538461538461, 0.0] and parameters: {'seed': 2746}. \u001b[0m\n",
      "\u001b[32m[I 2023-05-03 09:08:59,087]\u001b[0m Trial 307 finished with values: [0.5555555555555556, 0.33123522996902466] and parameters: {'seed': 4414}. \u001b[0m\n",
      "\u001b[32m[I 2023-05-03 09:08:59,087]\u001b[0m Trial 306 finished with values: [0.6923076923076923, 0.0] and parameters: {'seed': 2703}. \u001b[0m\n",
      "\u001b[32m[I 2023-05-03 09:08:59,589]\u001b[0m Trial 305 finished with values: [0.6944444444444444, 0.0] and parameters: {'seed': 1109}. \u001b[0m\n",
      "\u001b[32m[I 2023-05-03 09:08:59,675]\u001b[0m Trial 310 finished with values: [0.3055555555555555, 0.010103809647262096] and parameters: {'seed': 2771}. \u001b[0m\n",
      "\u001b[32m[I 2023-05-03 09:09:00,143]\u001b[0m Trial 308 finished with values: [0.6666666666666667, 0.0] and parameters: {'seed': 6703}. \u001b[0m\n",
      "\u001b[32m[I 2023-05-03 09:09:00,304]\u001b[0m Trial 311 finished with values: [0.9444444444444444, 0.0] and parameters: {'seed': 756}. \u001b[0m\n",
      "\u001b[32m[I 2023-05-03 09:09:00,313]\u001b[0m Trial 314 finished with values: [0.5384615384615384, 0.06309245526790619] and parameters: {'seed': 859}. \u001b[0m\n",
      "\u001b[32m[I 2023-05-03 09:09:00,720]\u001b[0m Trial 315 finished with values: [0.6923076923076923, 0.07973084598779678] and parameters: {'seed': 6667}. \u001b[0m\n",
      "\u001b[32m[I 2023-05-03 09:09:00,965]\u001b[0m Trial 312 finished with values: [0.9166666666666666, 0.061792243272066116] and parameters: {'seed': 809}. \u001b[0m\n",
      "\u001b[32m[I 2023-05-03 09:09:00,980]\u001b[0m Trial 316 finished with values: [0.5833333333333334, 0.07417172193527222] and parameters: {'seed': 1236}. \u001b[0m\n",
      "\u001b[32m[I 2023-05-03 09:09:01,046]\u001b[0m Trial 313 finished with values: [0.7500000000000001, 0.06797131896018982] and parameters: {'seed': 1378}. \u001b[0m\n",
      "\u001b[32m[I 2023-05-03 09:09:01,447]\u001b[0m Trial 317 finished with values: [0.888888888888889, 0.0] and parameters: {'seed': 862}. \u001b[0m\n",
      "\u001b[32m[I 2023-05-03 09:09:01,499]\u001b[0m Trial 318 finished with values: [0.8333333333333334, 0.0] and parameters: {'seed': 820}. \u001b[0m\n",
      "\u001b[32m[I 2023-05-03 09:09:01,605]\u001b[0m Trial 319 finished with values: [0.7307692307692308, 0.05145077779889107] and parameters: {'seed': 786}. \u001b[0m\n",
      "\u001b[32m[I 2023-05-03 09:09:01,948]\u001b[0m Trial 322 finished with values: [0.7500000000000001, 0.06797131896018982] and parameters: {'seed': 1378}. \u001b[0m\n",
      "\u001b[32m[I 2023-05-03 09:09:01,949]\u001b[0m Trial 320 finished with values: [0.888888888888889, 0.15003877878189087] and parameters: {'seed': 749}. \u001b[0m\n",
      "\u001b[32m[I 2023-05-03 09:09:01,972]\u001b[0m Trial 321 finished with values: [1.0, 0.0] and parameters: {'seed': 1359}. \u001b[0m\n",
      "\u001b[32m[I 2023-05-03 09:09:02,229]\u001b[0m Trial 323 finished with values: [0.5384615384615384, 0.0] and parameters: {'seed': 1135}. \u001b[0m\n",
      "\u001b[32m[I 2023-05-03 09:09:02,502]\u001b[0m Trial 326 finished with values: [0.8611111111111112, 0.0] and parameters: {'seed': 3689}. \u001b[0m\n",
      "\u001b[32m[I 2023-05-03 09:09:02,537]\u001b[0m Trial 324 finished with values: [1.0, 0.17926083505153656] and parameters: {'seed': 1386}. \u001b[0m\n",
      "\u001b[32m[I 2023-05-03 09:09:02,539]\u001b[0m Trial 325 finished with values: [0.9230769230769231, 0.0] and parameters: {'seed': 1326}. \u001b[0m\n",
      "\u001b[32m[I 2023-05-03 09:09:02,802]\u001b[0m Trial 327 finished with values: [0.8333333333333333, 0.0] and parameters: {'seed': 1387}. \u001b[0m\n",
      "\u001b[32m[I 2023-05-03 09:09:02,808]\u001b[0m Trial 329 finished with values: [0.6388888888888888, 0.0] and parameters: {'seed': 5769}. \u001b[0m\n",
      "\u001b[32m[I 2023-05-03 09:09:03,278]\u001b[0m Trial 328 finished with values: [0.75, 0.0] and parameters: {'seed': 1089}. \u001b[0m\n",
      "\u001b[32m[I 2023-05-03 09:09:03,645]\u001b[0m Trial 331 finished with values: [0.5192307692307692, 0.06160122528672218] and parameters: {'seed': 6188}. \u001b[0m\n",
      "\u001b[32m[I 2023-05-03 09:09:03,794]\u001b[0m Trial 336 finished with values: [0.6923076923076923, 0.0] and parameters: {'seed': 9058}. \u001b[0m\n",
      "\u001b[32m[I 2023-05-03 09:09:03,868]\u001b[0m Trial 332 finished with values: [0.923076923076923, 0.0] and parameters: {'seed': 2282}. \u001b[0m\n",
      "\u001b[32m[I 2023-05-03 09:09:03,889]\u001b[0m Trial 330 finished with values: [0.7777777777777779, 0.0] and parameters: {'seed': 1127}. \u001b[0m\n",
      "\u001b[32m[I 2023-05-03 09:09:04,382]\u001b[0m Trial 335 finished with values: [0.4444444444444444, 0.024817293509840965] and parameters: {'seed': 1136}. \u001b[0m\n",
      "\u001b[32m[I 2023-05-03 09:09:04,762]\u001b[0m Trial 334 finished with values: [0.6944444444444444, 0.0] and parameters: {'seed': 9471}. \u001b[0m\n",
      "\u001b[32m[I 2023-05-03 09:09:04,762]\u001b[0m Trial 333 finished with values: [0.6944444444444444, 0.0] and parameters: {'seed': 9471}. \u001b[0m\n",
      "\u001b[32m[I 2023-05-03 09:09:04,877]\u001b[0m Trial 338 finished with values: [0.7499999999999999, 0.0] and parameters: {'seed': 2372}. \u001b[0m\n",
      "\u001b[32m[I 2023-05-03 09:09:04,921]\u001b[0m Trial 340 finished with values: [0.5384615384615384, 0.0] and parameters: {'seed': 2318}. \u001b[0m\n",
      "\u001b[32m[I 2023-05-03 09:09:05,215]\u001b[0m Trial 337 finished with values: [0.5769230769230769, 0.05613289773464203] and parameters: {'seed': 1124}. \u001b[0m\n",
      "\u001b[32m[I 2023-05-03 09:09:05,249]\u001b[0m Trial 339 finished with values: [0.5555555555555556, 0.0] and parameters: {'seed': 1132}. \u001b[0m\n",
      "\u001b[32m[I 2023-05-03 09:09:05,683]\u001b[0m Trial 342 finished with values: [0.7692307692307692, 0.08504051715135574] and parameters: {'seed': 7518}. \u001b[0m\n",
      "\u001b[32m[I 2023-05-03 09:09:05,684]\u001b[0m Trial 343 finished with values: [0.6666666666666666, 0.0] and parameters: {'seed': 7547}. \u001b[0m\n",
      "\u001b[32m[I 2023-05-03 09:09:05,685]\u001b[0m Trial 341 finished with values: [0.6153846153846154, 0.0] and parameters: {'seed': 8391}. \u001b[0m\n",
      "\u001b[32m[I 2023-05-03 09:09:05,852]\u001b[0m Trial 344 finished with values: [0.3846153846153846, 0.0] and parameters: {'seed': 5478}. \u001b[0m\n",
      "\u001b[32m[I 2023-05-03 09:09:05,901]\u001b[0m Trial 346 finished with values: [0.8055555555555556, 0.0] and parameters: {'seed': 4184}. \u001b[0m\n",
      "\u001b[32m[I 2023-05-03 09:09:06,527]\u001b[0m Trial 345 finished with values: [0.41666666666666663, 0.062065619975328445] and parameters: {'seed': 8409}. \u001b[0m\n",
      "\u001b[32m[I 2023-05-03 09:09:06,804]\u001b[0m Trial 347 finished with values: [0.7083333333333333, 0.08400636911392212] and parameters: {'seed': 4124}. \u001b[0m\n",
      "\u001b[32m[I 2023-05-03 09:09:07,328]\u001b[0m Trial 351 finished with values: [0.6153846153846154, 0.0] and parameters: {'seed': 3050}. \u001b[0m\n",
      "\u001b[32m[I 2023-05-03 09:09:07,329]\u001b[0m Trial 353 finished with values: [0.7692307692307692, 0.1366860568523407] and parameters: {'seed': 1514}. \u001b[0m\n",
      "\u001b[32m[I 2023-05-03 09:09:07,330]\u001b[0m Trial 348 finished with values: [0.8611111111111112, 0.0] and parameters: {'seed': 1511}. \u001b[0m\n",
      "\u001b[32m[I 2023-05-03 09:09:07,360]\u001b[0m Trial 349 finished with values: [0.7222222222222222, 0.0] and parameters: {'seed': 1508}. \u001b[0m\n",
      "\u001b[32m[I 2023-05-03 09:09:07,452]\u001b[0m Trial 350 finished with values: [0.6730769230769231, 0.18031977117061615] and parameters: {'seed': 3094}. \u001b[0m\n",
      "\u001b[32m[I 2023-05-03 09:09:07,494]\u001b[0m Trial 352 finished with values: [0.7692307692307692, 0.0] and parameters: {'seed': 1407}. \u001b[0m\n",
      "\u001b[32m[I 2023-05-03 09:09:07,583]\u001b[0m Trial 354 finished with values: [0.5384615384615384, 0.0] and parameters: {'seed': 1497}. \u001b[0m\n",
      "\u001b[32m[I 2023-05-03 09:09:07,584]\u001b[0m Trial 355 finished with values: [0.5972222222222223, 0.0] and parameters: {'seed': 1468}. \u001b[0m\n",
      "\u001b[32m[I 2023-05-03 09:09:08,123]\u001b[0m Trial 357 finished with values: [0.5384615384615384, 0.0] and parameters: {'seed': 1497}. \u001b[0m\n",
      "\u001b[32m[I 2023-05-03 09:09:08,434]\u001b[0m Trial 356 finished with values: [0.8333333333333333, 0.0] and parameters: {'seed': 1537}. \u001b[0m\n",
      "\u001b[32m[I 2023-05-03 09:09:08,472]\u001b[0m Trial 358 finished with values: [0.7307692307692307, 0.19181251525878906] and parameters: {'seed': 6425}. \u001b[0m\n",
      "\u001b[32m[I 2023-05-03 09:09:08,705]\u001b[0m Trial 361 finished with values: [0.4444444444444444, 0.0] and parameters: {'seed': 1014}. \u001b[0m\n",
      "\u001b[32m[I 2023-05-03 09:09:08,848]\u001b[0m Trial 359 finished with values: [0.8333333333333333, 0.0] and parameters: {'seed': 970}. \u001b[0m\n",
      "\u001b[32m[I 2023-05-03 09:09:08,848]\u001b[0m Trial 362 finished with values: [0.6666666666666666, 0.0] and parameters: {'seed': 393}. \u001b[0m\n",
      "\u001b[32m[I 2023-05-03 09:09:09,354]\u001b[0m Trial 360 finished with values: [1.0, 0.0] and parameters: {'seed': 988}. \u001b[0m\n",
      "\u001b[32m[I 2023-05-03 09:09:09,493]\u001b[0m Trial 363 finished with values: [0.7692307692307693, 0.0] and parameters: {'seed': 915}. \u001b[0m\n",
      "\u001b[32m[I 2023-05-03 09:09:09,889]\u001b[0m Trial 364 finished with values: [0.875, 0.0] and parameters: {'seed': 455}. \u001b[0m\n",
      "\u001b[32m[I 2023-05-03 09:09:09,890]\u001b[0m Trial 365 finished with values: [0.6923076923076923, 0.0] and parameters: {'seed': 8764}. \u001b[0m\n",
      "\u001b[32m[I 2023-05-03 09:09:09,984]\u001b[0m Trial 366 finished with values: [0.6805555555555556, 0.0] and parameters: {'seed': 977}. \u001b[0m\n",
      "\u001b[32m[I 2023-05-03 09:09:10,161]\u001b[0m Trial 368 finished with values: [0.75, 0.06190742179751396] and parameters: {'seed': 9716}. \u001b[0m\n",
      "\u001b[32m[I 2023-05-03 09:09:10,476]\u001b[0m Trial 367 finished with values: [0.8076923076923077, 0.2122226059436798] and parameters: {'seed': 9674}. \u001b[0m\n",
      "\u001b[32m[I 2023-05-03 09:09:10,489]\u001b[0m Trial 369 finished with values: [0.8611111111111112, 0.0] and parameters: {'seed': 8903}. \u001b[0m\n",
      "\u001b[32m[I 2023-05-03 09:09:10,689]\u001b[0m Trial 370 finished with values: [0.8333333333333334, 0.0] and parameters: {'seed': 1879}. \u001b[0m\n",
      "\u001b[32m[I 2023-05-03 09:09:10,803]\u001b[0m Trial 372 finished with values: [0.8846153846153846, 0.0] and parameters: {'seed': 5599}. \u001b[0m\n",
      "\u001b[32m[I 2023-05-03 09:09:10,862]\u001b[0m Trial 371 finished with values: [0.3269230769230769, 0.09855150431394577] and parameters: {'seed': 1227}. \u001b[0m\n",
      "\u001b[32m[I 2023-05-03 09:09:11,237]\u001b[0m Trial 374 finished with values: [0.9615384615384616, 0.0] and parameters: {'seed': 7891}. \u001b[0m\n",
      "\u001b[32m[I 2023-05-03 09:09:11,387]\u001b[0m Trial 373 finished with values: [0.6388888888888888, 0.0] and parameters: {'seed': 1186}. \u001b[0m\n",
      "\u001b[32m[I 2023-05-03 09:09:11,733]\u001b[0m Trial 375 finished with values: [0.5555555555555556, 0.0] and parameters: {'seed': 1294}. \u001b[0m\n",
      "\u001b[32m[I 2023-05-03 09:09:12,023]\u001b[0m Trial 378 finished with values: [0.9444444444444444, 0.0] and parameters: {'seed': 1870}. \u001b[0m\n",
      "\u001b[32m[I 2023-05-03 09:09:12,133]\u001b[0m Trial 376 finished with values: [0.5, 0.0] and parameters: {'seed': 5174}. \u001b[0m\n",
      "\u001b[32m[I 2023-05-03 09:09:12,134]\u001b[0m Trial 377 finished with values: [0.7777777777777778, 0.0] and parameters: {'seed': 1263}. \u001b[0m\n",
      "\u001b[32m[I 2023-05-03 09:09:12,247]\u001b[0m Trial 380 finished with values: [0.75, 0.0] and parameters: {'seed': 1225}. \u001b[0m\n",
      "\u001b[32m[I 2023-05-03 09:09:12,693]\u001b[0m Trial 382 finished with values: [0.7692307692307693, 0.0] and parameters: {'seed': 1260}. \u001b[0m\n",
      "\u001b[32m[I 2023-05-03 09:09:12,840]\u001b[0m Trial 379 finished with values: [0.9230769230769231, 0.0] and parameters: {'seed': 3410}. \u001b[0m\n",
      "\u001b[32m[I 2023-05-03 09:09:12,842]\u001b[0m Trial 383 finished with values: [0.9615384615384616, 0.22203786671161652] and parameters: {'seed': 3401}. \u001b[0m\n",
      "\u001b[32m[I 2023-05-03 09:09:12,998]\u001b[0m Trial 384 finished with values: [0.7692307692307693, 0.0] and parameters: {'seed': 3730}. \u001b[0m\n",
      "\u001b[32m[I 2023-05-03 09:09:13,043]\u001b[0m Trial 381 finished with values: [0.75, 0.0] and parameters: {'seed': 684}. \u001b[0m\n",
      "\u001b[32m[I 2023-05-03 09:09:13,316]\u001b[0m Trial 385 finished with values: [0.9615384615384616, 0.052621029317379] and parameters: {'seed': 686}. \u001b[0m\n",
      "\u001b[32m[I 2023-05-03 09:09:13,441]\u001b[0m Trial 386 finished with values: [0.6388888888888888, 0.0] and parameters: {'seed': 4590}. \u001b[0m\n",
      "\u001b[32m[I 2023-05-03 09:09:13,479]\u001b[0m Trial 387 finished with values: [0.75, 0.0] and parameters: {'seed': 6098}. \u001b[0m\n",
      "\u001b[32m[I 2023-05-03 09:09:13,872]\u001b[0m Trial 388 finished with values: [0.6388888888888888, 0.0] and parameters: {'seed': 4605}. \u001b[0m\n",
      "\u001b[32m[I 2023-05-03 09:09:14,392]\u001b[0m Trial 390 finished with values: [0.6666666666666666, 0.0] and parameters: {'seed': 6163}. \u001b[0m\n",
      "\u001b[32m[I 2023-05-03 09:09:14,676]\u001b[0m Trial 389 finished with values: [0.8055555555555555, 0.0] and parameters: {'seed': 4359}. \u001b[0m\n",
      "\u001b[32m[I 2023-05-03 09:09:14,793]\u001b[0m Trial 391 finished with values: [0.8076923076923077, 0.0] and parameters: {'seed': 8228}. \u001b[0m\n",
      "\u001b[32m[I 2023-05-03 09:09:14,857]\u001b[0m Trial 392 finished with values: [0.8611111111111112, 0.0] and parameters: {'seed': 2133}. \u001b[0m\n",
      "\u001b[32m[I 2023-05-03 09:09:14,921]\u001b[0m Trial 395 finished with values: [0.5138888888888888, 0.0] and parameters: {'seed': 8241}. \u001b[0m\n",
      "\u001b[32m[I 2023-05-03 09:09:15,092]\u001b[0m Trial 393 finished with values: [0.888888888888889, 0.0] and parameters: {'seed': 917}. \u001b[0m\n",
      "\u001b[32m[I 2023-05-03 09:09:15,266]\u001b[0m Trial 394 finished with values: [0.41666666666666663, 0.0] and parameters: {'seed': 4349}. \u001b[0m\n",
      "\u001b[32m[I 2023-05-03 09:09:15,552]\u001b[0m Trial 396 finished with values: [0.6666666666666666, 0.08478313684463501] and parameters: {'seed': 7184}. \u001b[0m\n",
      "\u001b[32m[I 2023-05-03 09:09:15,842]\u001b[0m Trial 397 finished with values: [0.5, 0.18031977117061615] and parameters: {'seed': 4255}. \u001b[0m\n",
      "\u001b[32m[I 2023-05-03 09:09:15,843]\u001b[0m Trial 398 finished with values: [0.7777777777777779, 0.0] and parameters: {'seed': 967}. \u001b[0m\n",
      "\u001b[32m[I 2023-05-03 09:09:15,900]\u001b[0m Trial 401 finished with values: [0.6666666666666667, 0.06923464685678482] and parameters: {'seed': 4919}. \u001b[0m\n",
      "\u001b[32m[I 2023-05-03 09:09:15,916]\u001b[0m Trial 400 finished with values: [0.846153846153846, 0.0] and parameters: {'seed': 7086}. \u001b[0m\n",
      "\u001b[32m[I 2023-05-03 09:09:16,257]\u001b[0m Trial 399 finished with values: [0.4615384615384615, 0.11787150800228119] and parameters: {'seed': 1035}. \u001b[0m\n",
      "\u001b[32m[I 2023-05-03 09:09:16,434]\u001b[0m Trial 403 finished with values: [0.6388888888888888, 0.0] and parameters: {'seed': 9137}. \u001b[0m\n",
      "\u001b[32m[I 2023-05-03 09:09:16,465]\u001b[0m Trial 402 finished with values: [0.6538461538461539, 0.06515209376811981] and parameters: {'seed': 221}. \u001b[0m\n",
      "\u001b[32m[I 2023-05-03 09:09:16,924]\u001b[0m Trial 404 finished with values: [0.9230769230769231, 0.0] and parameters: {'seed': 4985}. \u001b[0m\n",
      "\u001b[32m[I 2023-05-03 09:09:17,386]\u001b[0m Trial 405 finished with values: [0.6666666666666666, 0.0] and parameters: {'seed': 9231}. \u001b[0m\n",
      "\u001b[32m[I 2023-05-03 09:09:17,397]\u001b[0m Trial 408 finished with values: [0.6666666666666666, 0.09411969035863876] and parameters: {'seed': 1314}. \u001b[0m\n",
      "\u001b[32m[I 2023-05-03 09:09:17,430]\u001b[0m Trial 410 finished with values: [0.8611111111111112, 0.0] and parameters: {'seed': 9130}. \u001b[0m\n",
      "\u001b[32m[I 2023-05-03 09:09:17,430]\u001b[0m Trial 407 finished with values: [0.9615384615384616, 0.0] and parameters: {'seed': 3935}. \u001b[0m\n",
      "\u001b[32m[I 2023-05-03 09:09:17,523]\u001b[0m Trial 409 finished with values: [0.9230769230769231, 0.07226822525262833] and parameters: {'seed': 1328}. \u001b[0m\n",
      "\u001b[32m[I 2023-05-03 09:09:17,640]\u001b[0m Trial 406 finished with values: [0.5769230769230769, 0.0] and parameters: {'seed': 1292}. \u001b[0m\n",
      "\u001b[32m[I 2023-05-03 09:09:18,053]\u001b[0m Trial 411 finished with values: [0.8333333333333334, 0.08139873296022415] and parameters: {'seed': 5886}. \u001b[0m\n",
      "\u001b[32m[I 2023-05-03 09:09:18,499]\u001b[0m Trial 412 finished with values: [0.6944444444444444, 0.0] and parameters: {'seed': 2558}. \u001b[0m\n",
      "\u001b[32m[I 2023-05-03 09:09:18,676]\u001b[0m Trial 413 finished with values: [0.7638888888888888, 0.0] and parameters: {'seed': 6479}. \u001b[0m\n",
      "\u001b[32m[I 2023-05-03 09:09:18,710]\u001b[0m Trial 414 finished with values: [0.8653846153846154, 0.0] and parameters: {'seed': 1693}. \u001b[0m\n",
      "\u001b[32m[I 2023-05-03 09:09:18,711]\u001b[0m Trial 418 finished with values: [0.5555555555555556, 0.0] and parameters: {'seed': 1688}. \u001b[0m\n",
      "\u001b[32m[I 2023-05-03 09:09:18,900]\u001b[0m Trial 415 finished with values: [0.9166666666666666, 0.09268591552972794] and parameters: {'seed': 1091}. \u001b[0m\n",
      "\u001b[32m[I 2023-05-03 09:09:18,971]\u001b[0m Trial 419 finished with values: [0.8055555555555555, 0.06661469489336014] and parameters: {'seed': 1699}. \u001b[0m\n",
      "\u001b[32m[I 2023-05-03 09:09:19,059]\u001b[0m Trial 416 finished with values: [0.8461538461538461, 0.11564876139163971] and parameters: {'seed': 1748}. \u001b[0m\n",
      "\u001b[32m[I 2023-05-03 09:09:19,688]\u001b[0m Trial 417 finished with values: [0.5555555555555556, 0.35147514939308167] and parameters: {'seed': 579}. \u001b[0m\n",
      "\u001b[32m[I 2023-05-03 09:09:19,853]\u001b[0m Trial 420 finished with values: [0.9444444444444445, 0.11787150055170059] and parameters: {'seed': 728}. \u001b[0m\n",
      "\u001b[32m[I 2023-05-03 09:09:19,893]\u001b[0m Trial 421 finished with values: [0.6666666666666667, 0.0] and parameters: {'seed': 836}. \u001b[0m\n",
      "\u001b[32m[I 2023-05-03 09:09:20,079]\u001b[0m Trial 424 finished with values: [0.846153846153846, 0.08464497327804565] and parameters: {'seed': 6831}. \u001b[0m\n",
      "\u001b[32m[I 2023-05-03 09:09:20,121]\u001b[0m Trial 422 finished with values: [0.9166666666666666, 0.0] and parameters: {'seed': 5260}. \u001b[0m\n",
      "\u001b[32m[I 2023-05-03 09:09:20,316]\u001b[0m Trial 423 finished with values: [0.8333333333333334, 0.0] and parameters: {'seed': 618}. \u001b[0m\n",
      "\u001b[32m[I 2023-05-03 09:09:20,395]\u001b[0m Trial 426 finished with values: [0.861111111111111, 0.05934980511665344] and parameters: {'seed': 651}. \u001b[0m\n",
      "\u001b[32m[I 2023-05-03 09:09:21,039]\u001b[0m Trial 425 finished with values: [0.8846153846153846, 0.15241003036499023] and parameters: {'seed': 711}. \u001b[0m\n",
      "\u001b[32m[I 2023-05-03 09:09:21,304]\u001b[0m Trial 427 finished with values: [0.8846153846153846, 0.23012477159500122] and parameters: {'seed': 742}. \u001b[0m\n",
      "\u001b[32m[I 2023-05-03 09:09:21,475]\u001b[0m Trial 428 finished with values: [0.9444444444444445, 0.11787150055170059] and parameters: {'seed': 728}. \u001b[0m\n",
      "\u001b[32m[I 2023-05-03 09:09:21,510]\u001b[0m Trial 434 finished with values: [0.9722222222222222, 0.0] and parameters: {'seed': 8580}. \u001b[0m\n",
      "\u001b[32m[I 2023-05-03 09:09:21,510]\u001b[0m Trial 430 finished with values: [0.9230769230769231, 0.0] and parameters: {'seed': 1004}. \u001b[0m\n",
      "\u001b[32m[I 2023-05-03 09:09:21,533]\u001b[0m Trial 431 finished with values: [0.611111111111111, 0.07352522760629654] and parameters: {'seed': 1104}. \u001b[0m\n",
      "\u001b[32m[I 2023-05-03 09:09:21,805]\u001b[0m Trial 429 finished with values: [0.9722222222222222, 0.0] and parameters: {'seed': 4792}. \u001b[0m\n",
      "\u001b[32m[I 2023-05-03 09:09:22,266]\u001b[0m Trial 432 finished with values: [0.8846153846153846, 0.10764657706022263] and parameters: {'seed': 4758}. \u001b[0m\n",
      "\u001b[32m[I 2023-05-03 09:09:22,494]\u001b[0m Trial 433 finished with values: [0.6538461538461539, 0.05664948374032974] and parameters: {'seed': 1125}. \u001b[0m\n",
      "\u001b[32m[I 2023-05-03 09:09:22,853]\u001b[0m Trial 435 finished with values: [0.6805555555555556, 0.0] and parameters: {'seed': 977}. \u001b[0m\n",
      "\u001b[32m[I 2023-05-03 09:09:22,854]\u001b[0m Trial 440 finished with values: [0.7777777777777777, 0.0] and parameters: {'seed': 4804}. \u001b[0m\n",
      "\u001b[32m[I 2023-05-03 09:09:23,255]\u001b[0m Trial 438 finished with values: [0.5555555555555556, 0.0] and parameters: {'seed': 4108}. \u001b[0m\n",
      "\u001b[32m[I 2023-05-03 09:09:23,256]\u001b[0m Trial 441 finished with values: [0.5972222222222223, 0.0] and parameters: {'seed': 1468}. \u001b[0m\n",
      "\u001b[32m[I 2023-05-03 09:09:23,592]\u001b[0m Trial 439 finished with values: [0.8076923076923077, 0.0] and parameters: {'seed': 1388}. \u001b[0m\n",
      "\u001b[32m[I 2023-05-03 09:09:23,802]\u001b[0m Trial 437 finished with values: [0.6153846153846154, 0.11549975723028183] and parameters: {'seed': 3337}. \u001b[0m\n",
      "\u001b[32m[I 2023-05-03 09:09:23,879]\u001b[0m Trial 436 finished with values: [0.9230769230769231, 0.14974799752235413] and parameters: {'seed': 1548}. \u001b[0m\n",
      "\u001b[32m[I 2023-05-03 09:09:23,934]\u001b[0m Trial 443 finished with values: [0.75, 0.1593589335680008] and parameters: {'seed': 3569}. \u001b[0m\n",
      "\u001b[32m[I 2023-05-03 09:09:24,080]\u001b[0m Trial 442 finished with values: [0.9615384615384616, 0.0] and parameters: {'seed': 1479}. \u001b[0m\n",
      "\u001b[32m[I 2023-05-03 09:09:24,501]\u001b[0m Trial 447 finished with values: [0.6666666666666666, 0.0] and parameters: {'seed': 1393}. \u001b[0m\n",
      "\u001b[32m[I 2023-05-03 09:09:24,569]\u001b[0m Trial 444 finished with values: [0.9230769230769231, 0.17748209834098816] and parameters: {'seed': 1401}. \u001b[0m\n",
      "\u001b[32m[I 2023-05-03 09:09:24,614]\u001b[0m Trial 445 finished with values: [0.6666666666666666, 0.19173328578472137] and parameters: {'seed': 451}. \u001b[0m\n",
      "\u001b[32m[I 2023-05-03 09:09:24,746]\u001b[0m Trial 446 finished with values: [0.8461538461538461, 0.0] and parameters: {'seed': 7902}. \u001b[0m\n",
      "\u001b[32m[I 2023-05-03 09:09:24,747]\u001b[0m Trial 449 finished with values: [0.7777777777777778, 0.6426613926887512] and parameters: {'seed': 5708}. \u001b[0m\n",
      "\u001b[32m[I 2023-05-03 09:09:24,762]\u001b[0m Trial 448 finished with values: [0.9166666666666666, 0.0] and parameters: {'seed': 7787}. \u001b[0m\n",
      "\u001b[32m[I 2023-05-03 09:09:25,257]\u001b[0m Trial 452 finished with values: [0.9444444444444444, 0.0] and parameters: {'seed': 7432}. \u001b[0m\n",
      "\u001b[32m[I 2023-05-03 09:09:25,571]\u001b[0m Trial 450 finished with values: [0.8846153846153846, 0.030077125877141953] and parameters: {'seed': 7850}. \u001b[0m\n",
      "\u001b[32m[I 2023-05-03 09:09:25,625]\u001b[0m Trial 451 finished with values: [0.423076923076923, 0.0] and parameters: {'seed': 5668}. \u001b[0m\n",
      "\u001b[32m[I 2023-05-03 09:09:26,449]\u001b[0m Trial 455 finished with values: [0.8461538461538461, 0.0] and parameters: {'seed': 5676}. \u001b[0m\n",
      "\u001b[32m[I 2023-05-03 09:09:26,643]\u001b[0m Trial 453 finished with values: [0.7777777777777778, 0.3181094527244568] and parameters: {'seed': 5796}. \u001b[0m\n",
      "\u001b[32m[I 2023-05-03 09:09:26,935]\u001b[0m Trial 454 finished with values: [0.6111111111111112, 0.0] and parameters: {'seed': 5619}. \u001b[0m\n",
      "\u001b[32m[I 2023-05-03 09:09:27,064]\u001b[0m Trial 456 finished with values: [0.6538461538461539, 0.06406419724225998] and parameters: {'seed': 5127}. \u001b[0m\n",
      "\u001b[32m[I 2023-05-03 09:09:27,170]\u001b[0m Trial 457 finished with values: [0.9444444444444444, 0.5069220662117004] and parameters: {'seed': 5182}. \u001b[0m\n",
      "\u001b[32m[I 2023-05-03 09:09:27,378]\u001b[0m Trial 458 finished with values: [1.0, 0.0] and parameters: {'seed': 5154}. \u001b[0m\n",
      "\u001b[32m[I 2023-05-03 09:09:27,499]\u001b[0m Trial 459 finished with values: [0.6527777777777778, 0.0] and parameters: {'seed': 5979}. \u001b[0m\n",
      "\u001b[32m[I 2023-05-03 09:09:27,500]\u001b[0m Trial 460 finished with values: [0.6538461538461539, 0.025700869038701057] and parameters: {'seed': 5194}. \u001b[0m\n",
      "\u001b[32m[I 2023-05-03 09:09:27,561]\u001b[0m Trial 461 finished with values: [0.6388888888888888, 0.0] and parameters: {'seed': 5026}. \u001b[0m\n",
      "\u001b[32m[I 2023-05-03 09:09:27,621]\u001b[0m Trial 462 finished with values: [0.8076923076923077, 0.07461079955101013] and parameters: {'seed': 4487}. \u001b[0m\n",
      "\u001b[32m[I 2023-05-03 09:09:27,633]\u001b[0m Trial 463 finished with values: [0.6923076923076923, 0.0] and parameters: {'seed': 6346}. \u001b[0m\n",
      "\u001b[32m[I 2023-05-03 09:09:27,922]\u001b[0m Trial 464 finished with values: [0.625, 0.0] and parameters: {'seed': 4542}. \u001b[0m\n",
      "\u001b[32m[I 2023-05-03 09:09:28,016]\u001b[0m Trial 465 finished with values: [0.4722222222222222, 0.0] and parameters: {'seed': 5848}. \u001b[0m\n",
      "\u001b[32m[I 2023-05-03 09:09:28,211]\u001b[0m Trial 466 finished with values: [1.0, 0.0] and parameters: {'seed': 5362}. \u001b[0m\n",
      "\u001b[32m[I 2023-05-03 09:09:28,688]\u001b[0m Trial 467 finished with values: [0.7692307692307693, 0.0] and parameters: {'seed': 5406}. \u001b[0m\n",
      "\u001b[32m[I 2023-05-03 09:09:29,296]\u001b[0m Trial 468 finished with values: [0.5833333333333334, 0.34526506066322327] and parameters: {'seed': 5283}. \u001b[0m\n",
      "\u001b[32m[I 2023-05-03 09:09:29,502]\u001b[0m Trial 470 finished with values: [0.7222222222222222, 0.0] and parameters: {'seed': 5353}. \u001b[0m\n",
      "\u001b[32m[I 2023-05-03 09:09:29,927]\u001b[0m Trial 471 finished with values: [0.8846153846153846, 0.0] and parameters: {'seed': 5438}. \u001b[0m\n",
      "\u001b[32m[I 2023-05-03 09:09:29,980]\u001b[0m Trial 469 finished with values: [0.888888888888889, 0.07678103446960449] and parameters: {'seed': 5414}. \u001b[0m\n",
      "\u001b[32m[I 2023-05-03 09:09:30,288]\u001b[0m Trial 472 finished with values: [0.8461538461538461, 0.050367314368486404] and parameters: {'seed': 5463}. \u001b[0m\n",
      "\u001b[32m[I 2023-05-03 09:09:30,288]\u001b[0m Trial 473 finished with values: [0.7222222222222222, 0.0] and parameters: {'seed': 5430}. \u001b[0m\n",
      "\u001b[32m[I 2023-05-03 09:09:30,344]\u001b[0m Trial 476 finished with values: [0.8461538461538461, 0.0] and parameters: {'seed': 5491}. \u001b[0m\n",
      "\u001b[32m[I 2023-05-03 09:09:30,525]\u001b[0m Trial 475 finished with values: [0.5, 0.0] and parameters: {'seed': 5264}. \u001b[0m\n",
      "\u001b[32m[I 2023-05-03 09:09:30,526]\u001b[0m Trial 474 finished with values: [0.6944444444444444, 0.0] and parameters: {'seed': 5367}. \u001b[0m\n",
      "\u001b[32m[I 2023-05-03 09:09:30,612]\u001b[0m Trial 477 finished with values: [0.9615384615384616, 0.0] and parameters: {'seed': 5505}. \u001b[0m\n",
      "\u001b[32m[I 2023-05-03 09:09:30,636]\u001b[0m Trial 478 finished with values: [0.8461538461538461, 0.0] and parameters: {'seed': 5287}. \u001b[0m\n",
      "\u001b[32m[I 2023-05-03 09:09:30,914]\u001b[0m Trial 479 finished with values: [0.8461538461538461, 0.0] and parameters: {'seed': 5491}. \u001b[0m\n",
      "\u001b[32m[I 2023-05-03 09:09:30,915]\u001b[0m Trial 480 finished with values: [0.6153846153846154, 0.048441238701343536] and parameters: {'seed': 5519}. \u001b[0m\n",
      "\u001b[32m[I 2023-05-03 09:09:31,159]\u001b[0m Trial 481 finished with values: [0.6538461538461539, 0.025700869038701057] and parameters: {'seed': 5194}. \u001b[0m\n",
      "\u001b[32m[I 2023-05-03 09:09:31,324]\u001b[0m Trial 482 finished with values: [0.9444444444444444, 0.0] and parameters: {'seed': 5744}. \u001b[0m\n",
      "\u001b[32m[I 2023-05-03 09:09:32,096]\u001b[0m Trial 483 finished with values: [0.7222222222222221, 0.0] and parameters: {'seed': 5761}. \u001b[0m\n",
      "\u001b[32m[I 2023-05-03 09:09:32,591]\u001b[0m Trial 485 finished with values: [0.6153846153846154, 0.0] and parameters: {'seed': 5048}. \u001b[0m\n",
      "\u001b[32m[I 2023-05-03 09:09:32,776]\u001b[0m Trial 488 finished with values: [0.7692307692307693, 0.0] and parameters: {'seed': 5064}. \u001b[0m\n",
      "\u001b[32m[I 2023-05-03 09:09:32,776]\u001b[0m Trial 484 finished with values: [0.5833333333333333, 0.0] and parameters: {'seed': 5736}. \u001b[0m\n",
      "\u001b[32m[I 2023-05-03 09:09:32,948]\u001b[0m Trial 486 finished with values: [0.9230769230769231, 0.0] and parameters: {'seed': 5865}. \u001b[0m\n",
      "\u001b[32m[I 2023-05-03 09:09:33,013]\u001b[0m Trial 490 finished with values: [0.9166666666666666, 0.0] and parameters: {'seed': 4934}. \u001b[0m\n",
      "\u001b[32m[I 2023-05-03 09:09:33,016]\u001b[0m Trial 487 finished with values: [0.75, 0.0] and parameters: {'seed': 5030}. \u001b[0m\n",
      "\u001b[32m[I 2023-05-03 09:09:33,321]\u001b[0m Trial 494 finished with values: [0.9444444444444444, 0.0] and parameters: {'seed': 4966}. \u001b[0m\n",
      "\u001b[32m[I 2023-05-03 09:09:33,326]\u001b[0m Trial 489 finished with values: [0.6923076923076923, 0.028247730806469917] and parameters: {'seed': 4981}. \u001b[0m\n",
      "\u001b[32m[I 2023-05-03 09:09:33,467]\u001b[0m Trial 493 finished with values: [0.7222222222222222, 0.0] and parameters: {'seed': 5014}. \u001b[0m\n",
      "\u001b[32m[I 2023-05-03 09:09:33,582]\u001b[0m Trial 492 finished with values: [0.8846153846153847, 0.0] and parameters: {'seed': 5177}. \u001b[0m\n",
      "\u001b[32m[I 2023-05-03 09:09:33,634]\u001b[0m Trial 495 finished with values: [0.9166666666666667, 0.0] and parameters: {'seed': 5002}. \u001b[0m\n",
      "\u001b[32m[I 2023-05-03 09:09:33,783]\u001b[0m Trial 496 finished with values: [0.5, 0.0] and parameters: {'seed': 5046}. \u001b[0m\n",
      "\u001b[32m[I 2023-05-03 09:09:33,784]\u001b[0m Trial 491 finished with values: [0.846153846153846, 0.0] and parameters: {'seed': 4949}. \u001b[0m\n",
      "\u001b[32m[I 2023-05-03 09:09:33,892]\u001b[0m Trial 497 finished with values: [0.7777777777777778, 0.0] and parameters: {'seed': 6012}. \u001b[0m\n",
      "\u001b[32m[I 2023-05-03 09:09:33,943]\u001b[0m Trial 498 finished with values: [0.9615384615384616, 0.0] and parameters: {'seed': 4753}. \u001b[0m\n",
      "\u001b[32m[I 2023-05-03 09:09:34,010]\u001b[0m Trial 499 finished with values: [0.6527777777777778, 0.0] and parameters: {'seed': 5152}. \u001b[0m\n"
     ]
    }
   ],
   "source": [
    "import optuna\n",
    "study_name: str = \"alejandro_4\"\n",
    "\n",
    "study = optuna.create_study(\n",
    "    study_name=study_name,\n",
    "    storage=\"sqlite:///homa_studies.db\",\n",
    "    directions=[\"maximize\", \"maximize\"],\n",
    "    sampler=optuna.samplers.TPESampler(), # NSGAIISampler(),\n",
    "    load_if_exists=True,\n",
    ")\n",
    "\n",
    "study.optimize(objective, n_trials=500, n_jobs=-1)\n",
    "# Sampling may take a long time. Other samples are faster but tend to be hiperfixed and thus generate repeated results. \n"
   ]
  },
  {
   "cell_type": "code",
   "execution_count": 103,
   "metadata": {},
   "outputs": [
    {
     "data": {
      "application/vnd.plotly.v1+json": {
       "config": {
        "plotlyServerURL": "https://plot.ly"
       },
       "data": [
        {
         "marker": {
          "line": {
           "color": "black",
           "width": 1
          },
          "opacity": 0.5,
          "size": 8,
          "symbol": "circle"
         },
         "mode": "markers",
         "name": "Suboptimal",
         "type": "scatter",
         "x": [
          0.7307692307692307,
          0.5,
          0.9615384615384616,
          1,
          0.6388888888888888,
          0.8055555555555556,
          0.5384615384615384,
          0.38888888888888884,
          0.6538461538461539,
          0.5384615384615384,
          0.611111111111111,
          0.7361111111111112,
          0.3846153846153846,
          0.5972222222222222,
          0.6346153846153846,
          0.7884615384615384,
          0.9166666666666666,
          0.8333333333333334,
          0.6944444444444444,
          0.4230769230769231,
          1,
          0.9230769230769231,
          0.9166666666666666,
          0.6666666666666666,
          0.9230769230769231,
          0.6666666666666666,
          0.6153846153846154,
          0.6153846153846154,
          0.9230769230769231,
          0.7777777777777778,
          0.75,
          0.8461538461538461,
          0.8055555555555556,
          0.4615384615384615,
          0.8055555555555556,
          0.4444444444444444,
          0.6153846153846154,
          0.75,
          0.8055555555555556,
          0.3076923076923077,
          0.6666666666666666,
          0.611111111111111,
          0.8846153846153846,
          0.7777777777777779,
          0.5384615384615384,
          1,
          0.6944444444444444,
          0.5,
          0.9230769230769231,
          0.8461538461538461,
          0.36111111111111105,
          0.8611111111111112,
          0.8333333333333334,
          0.7692307692307693,
          0.9615384615384616,
          0.7777777777777778,
          1,
          0.8055555555555555,
          0.9444444444444444,
          0.8461538461538461,
          0.8611111111111112,
          0.9230769230769231,
          0.7222222222222222,
          0.9230769230769231,
          0.6666666666666666,
          0.8333333333333333,
          0.5,
          0.3055555555555556,
          0.9230769230769231,
          0.5384615384615384,
          0.9230769230769231,
          0.8461538461538461,
          0.48611111111111105,
          0.5384615384615384,
          0.8055555555555556,
          0.7692307692307692,
          0.9166666666666666,
          0.7222222222222222,
          0.5,
          0.888888888888889,
          0.6923076923076923,
          0.7222222222222222,
          1,
          0.9230769230769231,
          0.7777777777777777,
          0.8846153846153846,
          0.7307692307692308,
          0.3846153846153846,
          0.6666666666666666,
          0.75,
          0.9615384615384616,
          0.9166666666666666,
          0.75,
          0.9230769230769231,
          0.75,
          0.8461538461538461,
          0.5555555555555556,
          0.6666666666666666,
          0.6944444444444444,
          0.8333333333333333,
          0.7307692307692307,
          0.5769230769230769,
          0.673076923076923,
          0.8846153846153847,
          0.5416666666666667,
          0.9230769230769231,
          0.6666666666666666,
          0.9615384615384616,
          0.46153846153846156,
          0.8076923076923077,
          0.5769230769230769,
          0.7361111111111112,
          0.7884615384615384,
          0.8461538461538461,
          0.5555555555555556,
          0.8888888888888888,
          0.576923076923077,
          0.7777777777777778,
          0.5769230769230769,
          0.4444444444444444,
          0.9615384615384616,
          0.11538461538461536,
          0.7638888888888888,
          0.7307692307692307,
          0.888888888888889,
          0.5,
          0.75,
          0.7307692307692307,
          0.6944444444444444,
          0.5,
          0.5576923076923077,
          0.6923076923076923,
          0.8194444444444444,
          0.8846153846153846,
          0.8846153846153846,
          0.888888888888889,
          0.5833333333333334,
          0.7692307692307692,
          0.6923076923076923,
          0.6666666666666666,
          0.9230769230769231,
          0.42307692307692313,
          0.8611111111111112,
          0.986111111111111,
          0.8055555555555555,
          0.9615384615384616,
          0.75,
          0.9444444444444444,
          0.5277777777777778,
          0.8846153846153847,
          0.8461538461538461,
          0.611111111111111,
          0.9230769230769231,
          0.75,
          0.7777777777777779,
          0.8461538461538461,
          0.5277777777777778,
          0.75,
          0.8846153846153846,
          1,
          0.8611111111111112,
          0.4230769230769231,
          0.6153846153846154,
          0.6249999999999999,
          0.5384615384615384,
          0.4444444444444444,
          0.8076923076923077,
          0.8076923076923077,
          0.8611111111111112,
          0.9166666666666666,
          0.7692307692307693,
          0.8333333333333333,
          0.5555555555555556,
          0.5769230769230769,
          0.75,
          0.9722222222222222,
          0.7222222222222222,
          0.9230769230769231,
          0.5384615384615384,
          0.9615384615384616,
          0.9230769230769231,
          0.8055555555555556,
          0.8846153846153846,
          0.7115384615384616,
          0.888888888888889,
          0.923076923076923,
          0.625,
          0.7777777777777779,
          0.5833333333333334,
          0.923076923076923,
          0.75,
          0.6538461538461539,
          0.7638888888888888,
          0.7638888888888888,
          0.6944444444444444,
          0.75,
          0.7307692307692307,
          0.5138888888888888,
          0.9230769230769231,
          0.7222222222222222,
          0.6538461538461539,
          0.8055555555555556,
          0.7777777777777778,
          0.6944444444444444,
          0.5,
          0.7638888888888888,
          0.7222222222222221,
          0.9615384615384616,
          0.46153846153846156,
          0.8846153846153846,
          0.7307692307692307,
          0.9722222222222222,
          0.7692307692307692,
          0.5833333333333334,
          0.7307692307692307,
          0.846153846153846,
          0.5277777777777778,
          0.888888888888889,
          0.5555555555555556,
          0.5555555555555556,
          0.5555555555555556,
          0.8076923076923077,
          0.611111111111111,
          0.8055555555555557,
          0.888888888888889,
          0.6923076923076923,
          0.5138888888888888,
          0.8611111111111112,
          0.46153846153846156,
          0.5833333333333333,
          0.4722222222222222,
          0.8846153846153846,
          0.9615384615384616,
          0.6111111111111112,
          0.8333333333333334,
          0.8846153846153846,
          0.4444444444444444,
          0.6805555555555556,
          0.5555555555555556,
          0.8076923076923077,
          0.6527777777777777,
          0.5384615384615384,
          0.6153846153846154,
          0.5384615384615384,
          0.5277777777777778,
          0.7307692307692307,
          0.6538461538461539,
          0.6944444444444444,
          0.7222222222222222,
          0.9230769230769231,
          0.5,
          0.6153846153846154,
          0.6944444444444444,
          0.5576923076923077,
          0.75,
          0.8846153846153846,
          0.861111111111111,
          0.6923076923076923,
          0.9444444444444444,
          0.6666666666666667,
          0.7222222222222222,
          0.8055555555555556,
          0.7777777777777778,
          0.46153846153846156,
          0.7307692307692307,
          0.861111111111111,
          0.846153846153846,
          0.7307692307692308,
          0.46153846153846156,
          1,
          0.6538461538461539,
          0.8888888888888888,
          0.9615384615384616,
          0.8888888888888888,
          0.4230769230769231,
          0.5277777777777778,
          0.6944444444444445,
          0.8611111111111112,
          0.8055555555555556,
          0.6666666666666666,
          0.9444444444444445,
          0.7692307692307692,
          0.6666666666666666,
          0.7307692307692307,
          0.9230769230769231,
          0.846153846153846,
          0.9615384615384616,
          0.875,
          1,
          0.4861111111111111,
          0.6666666666666667,
          0.5769230769230769,
          0.8076923076923076,
          0.7500000000000001,
          0.8333333333333334,
          0.8076923076923077,
          0.9722222222222223,
          0.5555555555555556,
          0.7222222222222222,
          1,
          0.6538461538461539,
          0.9230769230769231,
          0.07692307692307687,
          0.6944444444444444,
          0.6923076923076923,
          0.5555555555555556,
          0.6666666666666667,
          0.8461538461538461,
          0.3055555555555555,
          0.9444444444444444,
          0.9166666666666666,
          0.7500000000000001,
          0.5384615384615384,
          0.6923076923076923,
          0.5833333333333334,
          0.888888888888889,
          0.8333333333333334,
          0.7307692307692308,
          0.888888888888889,
          1,
          0.7500000000000001,
          0.5384615384615384,
          1,
          0.9230769230769231,
          0.8611111111111112,
          0.8333333333333333,
          0.75,
          0.6388888888888888,
          0.7777777777777779,
          0.5192307692307692,
          0.923076923076923,
          0.6944444444444444,
          0.6944444444444444,
          0.4444444444444444,
          0.6923076923076923,
          0.5769230769230769,
          0.7499999999999999,
          0.5555555555555556,
          0.5384615384615384,
          0.6153846153846154,
          0.7692307692307692,
          0.6666666666666666,
          0.3846153846153846,
          0.41666666666666663,
          0.8055555555555556,
          0.7083333333333333,
          0.8611111111111112,
          0.7222222222222222,
          0.6730769230769231,
          0.6153846153846154,
          0.7692307692307692,
          0.7692307692307692,
          0.5384615384615384,
          0.5972222222222223,
          0.8333333333333333,
          0.5384615384615384,
          0.7307692307692307,
          0.8333333333333333,
          1,
          0.4444444444444444,
          0.6666666666666666,
          0.7692307692307693,
          0.875,
          0.6923076923076923,
          0.6805555555555556,
          0.8076923076923077,
          0.75,
          0.8611111111111112,
          0.8333333333333334,
          0.3269230769230769,
          0.8846153846153846,
          0.6388888888888888,
          0.9615384615384616,
          0.5555555555555556,
          0.5,
          0.7777777777777778,
          0.9444444444444444,
          0.9230769230769231,
          0.75,
          0.75,
          0.7692307692307693,
          0.9615384615384616,
          0.7692307692307693,
          0.9615384615384616,
          0.6388888888888888,
          0.75,
          0.6388888888888888,
          0.8055555555555555,
          0.6666666666666666,
          0.8076923076923077,
          0.8611111111111112,
          0.888888888888889,
          0.41666666666666663,
          0.5138888888888888,
          0.6666666666666666,
          0.5,
          0.7777777777777779,
          0.4615384615384615,
          0.846153846153846,
          0.6666666666666667,
          0.6538461538461539,
          0.6388888888888888,
          0.9230769230769231,
          0.6666666666666666,
          0.5769230769230769,
          0.9615384615384616,
          0.6666666666666666,
          0.9230769230769231,
          0.8611111111111112,
          0.8333333333333334,
          0.6944444444444444,
          0.7638888888888888,
          0.8653846153846154,
          0.9166666666666666,
          0.8461538461538461,
          0.5555555555555556,
          0.5555555555555556,
          0.8055555555555555,
          0.9444444444444445,
          0.6666666666666667,
          0.9166666666666666,
          0.8333333333333334,
          0.846153846153846,
          0.8846153846153846,
          0.861111111111111,
          0.8846153846153846,
          0.9444444444444445,
          0.9722222222222222,
          0.9230769230769231,
          0.611111111111111,
          0.8846153846153846,
          0.6538461538461539,
          0.9722222222222222,
          0.6805555555555556,
          0.9230769230769231,
          0.6153846153846154,
          0.5555555555555556,
          0.8076923076923077,
          0.7777777777777777,
          0.5972222222222223,
          0.9615384615384616,
          0.75,
          0.9230769230769231,
          0.6666666666666666,
          0.8461538461538461,
          0.6666666666666666,
          0.9166666666666666,
          0.8846153846153846,
          0.423076923076923,
          0.9444444444444444,
          0.7777777777777778,
          0.6111111111111112,
          0.8461538461538461,
          0.6538461538461539,
          1,
          0.6527777777777778,
          0.6538461538461539,
          0.6388888888888888,
          0.8076923076923077,
          0.6923076923076923,
          0.625,
          0.4722222222222222,
          1,
          0.7692307692307693,
          0.5833333333333334,
          0.888888888888889,
          0.7222222222222222,
          0.8846153846153846,
          0.8461538461538461,
          0.7222222222222222,
          0.6944444444444444,
          0.5,
          0.8461538461538461,
          0.9615384615384616,
          0.8461538461538461,
          0.8461538461538461,
          0.6153846153846154,
          0.6538461538461539,
          0.9444444444444444,
          0.7222222222222221,
          0.5833333333333333,
          0.6153846153846154,
          0.9230769230769231,
          0.75,
          0.7692307692307693,
          0.6923076923076923,
          0.9166666666666666,
          0.846153846153846,
          0.8846153846153847,
          0.7222222222222222,
          0.9444444444444444,
          0.9166666666666667,
          0.5,
          0.7777777777777778,
          0.9615384615384616,
          0.6527777777777778
         ],
         "y": [
          0,
          0,
          0,
          0,
          0.18887652456760406,
          0,
          0,
          0,
          0.04758383333683014,
          0,
          0.2921534776687622,
          0,
          0,
          0,
          0,
          0,
          0.12244419008493423,
          0.23181068897247314,
          0,
          0,
          0,
          0,
          0.10281599313020706,
          0,
          0.33849599957466125,
          0.08233229070901871,
          0,
          0,
          0,
          0,
          0.11787150055170059,
          0.06351809203624725,
          0,
          0,
          0,
          0.06529822945594788,
          0.05031568557024002,
          0,
          0,
          0.20039799809455872,
          0,
          0,
          0,
          0,
          0,
          0.02444821037352085,
          0.06871375441551208,
          0,
          0,
          0,
          0,
          0,
          0,
          0.039280861616134644,
          0,
          0,
          0.10192029178142548,
          0,
          0,
          0,
          0.14297494292259216,
          0,
          0,
          0,
          0,
          0,
          0,
          0,
          0,
          0,
          0.3589838147163391,
          0.27288901805877686,
          0,
          0,
          0,
          0,
          0,
          0.05941401422023773,
          0.06458429992198944,
          0,
          0.33837130665779114,
          0,
          0.13150107860565186,
          0,
          0.09341301769018173,
          0,
          0,
          0,
          0.10642785578966141,
          0.05737106502056122,
          0,
          0.12281396239995956,
          0,
          0,
          0,
          0,
          0,
          0,
          0,
          0,
          0,
          0,
          0.11787150800228119,
          0,
          0,
          0,
          0.08918682485818863,
          0.06110905483365059,
          0,
          0.06000195071101189,
          0,
          0,
          0,
          0.09599851071834564,
          0.1645095944404602,
          0,
          0,
          0,
          0,
          0.06703901290893555,
          0,
          0,
          0.1280006766319275,
          0,
          0,
          0.030470645055174828,
          0.2078661322593689,
          0,
          0.28617241978645325,
          0.19718976318836212,
          0,
          0,
          0,
          0,
          0.12235139310359955,
          0,
          0,
          0,
          0,
          0,
          0.056579314172267914,
          0,
          0,
          0,
          0.0989348515868187,
          0.08974280953407288,
          0.12326803803443909,
          0,
          0,
          0,
          0.09203451871871948,
          0.11416824907064438,
          0.12891556322574615,
          0,
          0.10494353622198105,
          0,
          0.10393653064966202,
          0,
          0,
          0,
          0,
          0,
          0,
          0.08679226040840149,
          0,
          0.25497788190841675,
          0,
          0.13044047355651855,
          0,
          0,
          0,
          0,
          0,
          0.05613289773464203,
          0,
          0,
          0.05601240321993828,
          0.21118196845054626,
          0.10889077186584473,
          0.27958470582962036,
          0.08213284611701965,
          0.040526535362005234,
          0,
          0.0618065670132637,
          0,
          0,
          0.22409957647323608,
          0,
          0,
          0,
          0.0873221680521965,
          0,
          0.09322477132081985,
          0,
          0.03970055282115936,
          0,
          0.0550592839717865,
          0,
          0.02825872413814068,
          0,
          0,
          0,
          0,
          0,
          0,
          0.05253705382347107,
          0,
          0,
          0,
          0.05562335252761841,
          0,
          0,
          0.041744478046894073,
          0,
          0,
          0,
          0,
          0.18809466063976288,
          0,
          0.13885991275310516,
          0,
          0,
          0.06436103582382202,
          0,
          0,
          0,
          0.1434994786977768,
          0,
          0,
          0,
          0,
          0,
          0.1468386948108673,
          0,
          0,
          0,
          0,
          0,
          0,
          0.08393745869398117,
          0,
          0,
          0,
          0,
          0.12375543266534805,
          0.049959734082221985,
          0,
          0,
          0,
          0,
          0,
          0,
          0.12234974652528763,
          0,
          0.3297715187072754,
          0,
          0.1979048252105713,
          0.33837130665779114,
          0.08832386881113052,
          0,
          0,
          0,
          0,
          0,
          0.07491960376501083,
          0,
          0,
          0,
          0.17115101218223572,
          0.06335218995809555,
          0,
          0.21032612025737762,
          0,
          0,
          0,
          0,
          0,
          0,
          0,
          0.19111959636211395,
          0,
          0,
          0,
          0.026417400687932968,
          0.004973609931766987,
          0,
          0,
          0,
          0,
          0,
          0,
          0,
          0.22163045406341553,
          0,
          0,
          0.04372270032763481,
          0,
          0,
          0.13502967357635498,
          0,
          0.059391722083091736,
          0,
          0.1728159487247467,
          0,
          0,
          0.33123522996902466,
          0,
          0,
          0.010103809647262096,
          0,
          0.061792243272066116,
          0.06797131896018982,
          0.06309245526790619,
          0.07973084598779678,
          0.07417172193527222,
          0,
          0,
          0.05145077779889107,
          0.15003877878189087,
          0,
          0.06797131896018982,
          0,
          0.17926083505153656,
          0,
          0,
          0,
          0,
          0,
          0,
          0.06160122528672218,
          0,
          0,
          0,
          0.024817293509840965,
          0,
          0.05613289773464203,
          0,
          0,
          0,
          0,
          0.08504051715135574,
          0,
          0,
          0.062065619975328445,
          0,
          0.08400636911392212,
          0,
          0,
          0.18031977117061615,
          0,
          0,
          0.1366860568523407,
          0,
          0,
          0,
          0,
          0.19181251525878906,
          0,
          0,
          0,
          0,
          0,
          0,
          0,
          0,
          0.2122226059436798,
          0.06190742179751396,
          0,
          0,
          0.09855150431394577,
          0,
          0,
          0,
          0,
          0,
          0,
          0,
          0,
          0,
          0,
          0,
          0.22203786671161652,
          0,
          0.052621029317379,
          0,
          0,
          0,
          0,
          0,
          0,
          0,
          0,
          0,
          0,
          0.08478313684463501,
          0.18031977117061615,
          0,
          0.11787150800228119,
          0,
          0.06923464685678482,
          0.06515209376811981,
          0,
          0,
          0,
          0,
          0,
          0.09411969035863876,
          0.07226822525262833,
          0,
          0.08139873296022415,
          0,
          0,
          0,
          0.09268591552972794,
          0.11564876139163971,
          0.35147514939308167,
          0,
          0.06661469489336014,
          0.11787150055170059,
          0,
          0,
          0,
          0.08464497327804565,
          0.15241003036499023,
          0.05934980511665344,
          0.23012477159500122,
          0.11787150055170059,
          0,
          0,
          0.07352522760629654,
          0.10764657706022263,
          0.05664948374032974,
          0,
          0,
          0.14974799752235413,
          0.11549975723028183,
          0,
          0,
          0,
          0,
          0,
          0.1593589335680008,
          0.17748209834098816,
          0.19173328578472137,
          0,
          0,
          0,
          0.030077125877141953,
          0,
          0,
          0.3181094527244568,
          0,
          0,
          0.06406419724225998,
          0,
          0,
          0.025700869038701057,
          0,
          0.07461079955101013,
          0,
          0,
          0,
          0,
          0,
          0.34526506066322327,
          0.07678103446960449,
          0,
          0,
          0.050367314368486404,
          0,
          0,
          0,
          0,
          0,
          0,
          0,
          0.048441238701343536,
          0.025700869038701057,
          0,
          0,
          0,
          0,
          0,
          0,
          0,
          0.028247730806469917,
          0,
          0,
          0,
          0,
          0,
          0,
          0,
          0,
          0,
          0
         ]
        },
        {
         "marker": {
          "line": {
           "color": "black",
           "width": 1
          },
          "opacity": 0.5,
          "size": 8,
          "symbol": "square"
         },
         "mode": "markers",
         "name": "Pareto frontier",
         "type": "scatter",
         "x": [
          0.6944444444444444,
          1,
          0.7777777777777778,
          0.9444444444444444
         ],
         "y": [
          0.6909835934638977,
          0.3688807189464569,
          0.6426613926887512,
          0.5069220662117004
         ]
        }
       ],
       "layout": {
        "font": {
         "size": 14
        },
        "height": 400,
        "legend": {
         "bgcolor": "rgba(255, 255, 255, 0)",
         "orientation": "h",
         "x": 0.3,
         "y": 1.1
        },
        "margin": {
         "b": 0,
         "l": 0,
         "r": 0,
         "t": 0
        },
        "template": {
         "data": {
          "bar": [
           {
            "error_x": {
             "color": "#2a3f5f"
            },
            "error_y": {
             "color": "#2a3f5f"
            },
            "marker": {
             "line": {
              "color": "#E5ECF6",
              "width": 0.5
             },
             "pattern": {
              "fillmode": "overlay",
              "size": 10,
              "solidity": 0.2
             }
            },
            "type": "bar"
           }
          ],
          "barpolar": [
           {
            "marker": {
             "line": {
              "color": "#E5ECF6",
              "width": 0.5
             },
             "pattern": {
              "fillmode": "overlay",
              "size": 10,
              "solidity": 0.2
             }
            },
            "type": "barpolar"
           }
          ],
          "carpet": [
           {
            "aaxis": {
             "endlinecolor": "#2a3f5f",
             "gridcolor": "white",
             "linecolor": "white",
             "minorgridcolor": "white",
             "startlinecolor": "#2a3f5f"
            },
            "baxis": {
             "endlinecolor": "#2a3f5f",
             "gridcolor": "white",
             "linecolor": "white",
             "minorgridcolor": "white",
             "startlinecolor": "#2a3f5f"
            },
            "type": "carpet"
           }
          ],
          "choropleth": [
           {
            "colorbar": {
             "outlinewidth": 0,
             "ticks": ""
            },
            "type": "choropleth"
           }
          ],
          "contour": [
           {
            "colorbar": {
             "outlinewidth": 0,
             "ticks": ""
            },
            "colorscale": [
             [
              0,
              "#0d0887"
             ],
             [
              0.1111111111111111,
              "#46039f"
             ],
             [
              0.2222222222222222,
              "#7201a8"
             ],
             [
              0.3333333333333333,
              "#9c179e"
             ],
             [
              0.4444444444444444,
              "#bd3786"
             ],
             [
              0.5555555555555556,
              "#d8576b"
             ],
             [
              0.6666666666666666,
              "#ed7953"
             ],
             [
              0.7777777777777778,
              "#fb9f3a"
             ],
             [
              0.8888888888888888,
              "#fdca26"
             ],
             [
              1,
              "#f0f921"
             ]
            ],
            "type": "contour"
           }
          ],
          "contourcarpet": [
           {
            "colorbar": {
             "outlinewidth": 0,
             "ticks": ""
            },
            "type": "contourcarpet"
           }
          ],
          "heatmap": [
           {
            "colorbar": {
             "outlinewidth": 0,
             "ticks": ""
            },
            "colorscale": [
             [
              0,
              "#0d0887"
             ],
             [
              0.1111111111111111,
              "#46039f"
             ],
             [
              0.2222222222222222,
              "#7201a8"
             ],
             [
              0.3333333333333333,
              "#9c179e"
             ],
             [
              0.4444444444444444,
              "#bd3786"
             ],
             [
              0.5555555555555556,
              "#d8576b"
             ],
             [
              0.6666666666666666,
              "#ed7953"
             ],
             [
              0.7777777777777778,
              "#fb9f3a"
             ],
             [
              0.8888888888888888,
              "#fdca26"
             ],
             [
              1,
              "#f0f921"
             ]
            ],
            "type": "heatmap"
           }
          ],
          "heatmapgl": [
           {
            "colorbar": {
             "outlinewidth": 0,
             "ticks": ""
            },
            "colorscale": [
             [
              0,
              "#0d0887"
             ],
             [
              0.1111111111111111,
              "#46039f"
             ],
             [
              0.2222222222222222,
              "#7201a8"
             ],
             [
              0.3333333333333333,
              "#9c179e"
             ],
             [
              0.4444444444444444,
              "#bd3786"
             ],
             [
              0.5555555555555556,
              "#d8576b"
             ],
             [
              0.6666666666666666,
              "#ed7953"
             ],
             [
              0.7777777777777778,
              "#fb9f3a"
             ],
             [
              0.8888888888888888,
              "#fdca26"
             ],
             [
              1,
              "#f0f921"
             ]
            ],
            "type": "heatmapgl"
           }
          ],
          "histogram": [
           {
            "marker": {
             "pattern": {
              "fillmode": "overlay",
              "size": 10,
              "solidity": 0.2
             }
            },
            "type": "histogram"
           }
          ],
          "histogram2d": [
           {
            "colorbar": {
             "outlinewidth": 0,
             "ticks": ""
            },
            "colorscale": [
             [
              0,
              "#0d0887"
             ],
             [
              0.1111111111111111,
              "#46039f"
             ],
             [
              0.2222222222222222,
              "#7201a8"
             ],
             [
              0.3333333333333333,
              "#9c179e"
             ],
             [
              0.4444444444444444,
              "#bd3786"
             ],
             [
              0.5555555555555556,
              "#d8576b"
             ],
             [
              0.6666666666666666,
              "#ed7953"
             ],
             [
              0.7777777777777778,
              "#fb9f3a"
             ],
             [
              0.8888888888888888,
              "#fdca26"
             ],
             [
              1,
              "#f0f921"
             ]
            ],
            "type": "histogram2d"
           }
          ],
          "histogram2dcontour": [
           {
            "colorbar": {
             "outlinewidth": 0,
             "ticks": ""
            },
            "colorscale": [
             [
              0,
              "#0d0887"
             ],
             [
              0.1111111111111111,
              "#46039f"
             ],
             [
              0.2222222222222222,
              "#7201a8"
             ],
             [
              0.3333333333333333,
              "#9c179e"
             ],
             [
              0.4444444444444444,
              "#bd3786"
             ],
             [
              0.5555555555555556,
              "#d8576b"
             ],
             [
              0.6666666666666666,
              "#ed7953"
             ],
             [
              0.7777777777777778,
              "#fb9f3a"
             ],
             [
              0.8888888888888888,
              "#fdca26"
             ],
             [
              1,
              "#f0f921"
             ]
            ],
            "type": "histogram2dcontour"
           }
          ],
          "mesh3d": [
           {
            "colorbar": {
             "outlinewidth": 0,
             "ticks": ""
            },
            "type": "mesh3d"
           }
          ],
          "parcoords": [
           {
            "line": {
             "colorbar": {
              "outlinewidth": 0,
              "ticks": ""
             }
            },
            "type": "parcoords"
           }
          ],
          "pie": [
           {
            "automargin": true,
            "type": "pie"
           }
          ],
          "scatter": [
           {
            "fillpattern": {
             "fillmode": "overlay",
             "size": 10,
             "solidity": 0.2
            },
            "type": "scatter"
           }
          ],
          "scatter3d": [
           {
            "line": {
             "colorbar": {
              "outlinewidth": 0,
              "ticks": ""
             }
            },
            "marker": {
             "colorbar": {
              "outlinewidth": 0,
              "ticks": ""
             }
            },
            "type": "scatter3d"
           }
          ],
          "scattercarpet": [
           {
            "marker": {
             "colorbar": {
              "outlinewidth": 0,
              "ticks": ""
             }
            },
            "type": "scattercarpet"
           }
          ],
          "scattergeo": [
           {
            "marker": {
             "colorbar": {
              "outlinewidth": 0,
              "ticks": ""
             }
            },
            "type": "scattergeo"
           }
          ],
          "scattergl": [
           {
            "marker": {
             "colorbar": {
              "outlinewidth": 0,
              "ticks": ""
             }
            },
            "type": "scattergl"
           }
          ],
          "scattermapbox": [
           {
            "marker": {
             "colorbar": {
              "outlinewidth": 0,
              "ticks": ""
             }
            },
            "type": "scattermapbox"
           }
          ],
          "scatterpolar": [
           {
            "marker": {
             "colorbar": {
              "outlinewidth": 0,
              "ticks": ""
             }
            },
            "type": "scatterpolar"
           }
          ],
          "scatterpolargl": [
           {
            "marker": {
             "colorbar": {
              "outlinewidth": 0,
              "ticks": ""
             }
            },
            "type": "scatterpolargl"
           }
          ],
          "scatterternary": [
           {
            "marker": {
             "colorbar": {
              "outlinewidth": 0,
              "ticks": ""
             }
            },
            "type": "scatterternary"
           }
          ],
          "surface": [
           {
            "colorbar": {
             "outlinewidth": 0,
             "ticks": ""
            },
            "colorscale": [
             [
              0,
              "#0d0887"
             ],
             [
              0.1111111111111111,
              "#46039f"
             ],
             [
              0.2222222222222222,
              "#7201a8"
             ],
             [
              0.3333333333333333,
              "#9c179e"
             ],
             [
              0.4444444444444444,
              "#bd3786"
             ],
             [
              0.5555555555555556,
              "#d8576b"
             ],
             [
              0.6666666666666666,
              "#ed7953"
             ],
             [
              0.7777777777777778,
              "#fb9f3a"
             ],
             [
              0.8888888888888888,
              "#fdca26"
             ],
             [
              1,
              "#f0f921"
             ]
            ],
            "type": "surface"
           }
          ],
          "table": [
           {
            "cells": {
             "fill": {
              "color": "#EBF0F8"
             },
             "line": {
              "color": "white"
             }
            },
            "header": {
             "fill": {
              "color": "#C8D4E3"
             },
             "line": {
              "color": "white"
             }
            },
            "type": "table"
           }
          ]
         },
         "layout": {
          "annotationdefaults": {
           "arrowcolor": "#2a3f5f",
           "arrowhead": 0,
           "arrowwidth": 1
          },
          "autotypenumbers": "strict",
          "coloraxis": {
           "colorbar": {
            "outlinewidth": 0,
            "ticks": ""
           }
          },
          "colorscale": {
           "diverging": [
            [
             0,
             "#8e0152"
            ],
            [
             0.1,
             "#c51b7d"
            ],
            [
             0.2,
             "#de77ae"
            ],
            [
             0.3,
             "#f1b6da"
            ],
            [
             0.4,
             "#fde0ef"
            ],
            [
             0.5,
             "#f7f7f7"
            ],
            [
             0.6,
             "#e6f5d0"
            ],
            [
             0.7,
             "#b8e186"
            ],
            [
             0.8,
             "#7fbc41"
            ],
            [
             0.9,
             "#4d9221"
            ],
            [
             1,
             "#276419"
            ]
           ],
           "sequential": [
            [
             0,
             "#0d0887"
            ],
            [
             0.1111111111111111,
             "#46039f"
            ],
            [
             0.2222222222222222,
             "#7201a8"
            ],
            [
             0.3333333333333333,
             "#9c179e"
            ],
            [
             0.4444444444444444,
             "#bd3786"
            ],
            [
             0.5555555555555556,
             "#d8576b"
            ],
            [
             0.6666666666666666,
             "#ed7953"
            ],
            [
             0.7777777777777778,
             "#fb9f3a"
            ],
            [
             0.8888888888888888,
             "#fdca26"
            ],
            [
             1,
             "#f0f921"
            ]
           ],
           "sequentialminus": [
            [
             0,
             "#0d0887"
            ],
            [
             0.1111111111111111,
             "#46039f"
            ],
            [
             0.2222222222222222,
             "#7201a8"
            ],
            [
             0.3333333333333333,
             "#9c179e"
            ],
            [
             0.4444444444444444,
             "#bd3786"
            ],
            [
             0.5555555555555556,
             "#d8576b"
            ],
            [
             0.6666666666666666,
             "#ed7953"
            ],
            [
             0.7777777777777778,
             "#fb9f3a"
            ],
            [
             0.8888888888888888,
             "#fdca26"
            ],
            [
             1,
             "#f0f921"
            ]
           ]
          },
          "colorway": [
           "#636efa",
           "#EF553B",
           "#00cc96",
           "#ab63fa",
           "#FFA15A",
           "#19d3f3",
           "#FF6692",
           "#B6E880",
           "#FF97FF",
           "#FECB52"
          ],
          "font": {
           "color": "#2a3f5f"
          },
          "geo": {
           "bgcolor": "white",
           "lakecolor": "white",
           "landcolor": "#E5ECF6",
           "showlakes": true,
           "showland": true,
           "subunitcolor": "white"
          },
          "hoverlabel": {
           "align": "left"
          },
          "hovermode": "closest",
          "mapbox": {
           "style": "light"
          },
          "paper_bgcolor": "white",
          "plot_bgcolor": "#E5ECF6",
          "polar": {
           "angularaxis": {
            "gridcolor": "white",
            "linecolor": "white",
            "ticks": ""
           },
           "bgcolor": "#E5ECF6",
           "radialaxis": {
            "gridcolor": "white",
            "linecolor": "white",
            "ticks": ""
           }
          },
          "scene": {
           "xaxis": {
            "backgroundcolor": "#E5ECF6",
            "gridcolor": "white",
            "gridwidth": 2,
            "linecolor": "white",
            "showbackground": true,
            "ticks": "",
            "zerolinecolor": "white"
           },
           "yaxis": {
            "backgroundcolor": "#E5ECF6",
            "gridcolor": "white",
            "gridwidth": 2,
            "linecolor": "white",
            "showbackground": true,
            "ticks": "",
            "zerolinecolor": "white"
           },
           "zaxis": {
            "backgroundcolor": "#E5ECF6",
            "gridcolor": "white",
            "gridwidth": 2,
            "linecolor": "white",
            "showbackground": true,
            "ticks": "",
            "zerolinecolor": "white"
           }
          },
          "shapedefaults": {
           "line": {
            "color": "#2a3f5f"
           }
          },
          "ternary": {
           "aaxis": {
            "gridcolor": "white",
            "linecolor": "white",
            "ticks": ""
           },
           "baxis": {
            "gridcolor": "white",
            "linecolor": "white",
            "ticks": ""
           },
           "bgcolor": "#E5ECF6",
           "caxis": {
            "gridcolor": "white",
            "linecolor": "white",
            "ticks": ""
           }
          },
          "title": {
           "x": 0.05
          },
          "xaxis": {
           "automargin": true,
           "gridcolor": "white",
           "linecolor": "white",
           "ticks": "",
           "title": {
            "standoff": 15
           },
           "zerolinecolor": "white",
           "zerolinewidth": 2
          },
          "yaxis": {
           "automargin": true,
           "gridcolor": "white",
           "linecolor": "white",
           "ticks": "",
           "title": {
            "standoff": 15
           },
           "zerolinecolor": "white",
           "zerolinewidth": 2
          }
         }
        },
        "width": 800,
        "xaxis": {
         "title": {
          "text": "AUC"
         }
        },
        "yaxis": {
         "title": {
          "text": "Phe importance"
         }
        }
       }
      }
     },
     "metadata": {},
     "output_type": "display_data"
    }
   ],
   "source": [
    "import pandas as pd\n",
    "from optuna.visualization._pareto_front import _get_pareto_front_info, _make_scatter_object, _make_marker, _make_hovertext\n",
    "from typing import Sequence\n",
    "from optuna.trial import FrozenTrial\n",
    "from optuna.visualization._plotly_imports import go\n",
    "\n",
    "\n",
    "info = _get_pareto_front_info(study)\n",
    "\n",
    "\n",
    "n_targets: int = info.n_targets  \n",
    "axis_order: Sequence[int]  = info.axis_order \n",
    "include_dominated_trials: bool = True\n",
    "trials_with_values: Sequence[tuple[FrozenTrial, Sequence[float]]] = info.non_best_trials_with_values\n",
    "hovertemplate: str = \"%{text}<extra>Trial</extra>\"\n",
    "infeasible: bool = False\n",
    "dominated_trials: bool = False\n",
    "\n",
    "def trials_df(trials_with_values, class_name):\n",
    "    x  =[values[axis_order[0]] for _, values in trials_with_values]\n",
    "    y  =[values[axis_order[1]] for _, values in trials_with_values]\n",
    "\n",
    "    df = pd.DataFrame({'x':x, 'y':y})\n",
    "    df['class'] = class_name\n",
    "    return df\n",
    "\n",
    "df_best    = trials_df(info.best_trials_with_values, 'best')\n",
    "df_nonbest = trials_df(info.non_best_trials_with_values, 'nonbest')\n",
    "#df         = pd.concat([df_best, df_nonbest])\n",
    "\n",
    "fig = go.Figure()\n",
    "\n",
    "fig.add_trace(go.Scatter(x=df_nonbest ['x'], y=df_nonbest['y'], mode='markers', marker=dict(size=8,opacity=0.5, symbol='circle', line=dict(width=1, color='black')), name='Suboptimal'))\n",
    "fig.add_trace(go.Scatter(x=df_best['x'], y=df_best['y'], mode='markers', marker=dict(size=8,opacity=0.5, symbol='square', line=dict(width=1, color='black')), name='Pareto frontier'))\n",
    "# Define the width and height of the plot\n",
    "plot_width = 800\n",
    "plot_height = 400\n",
    "\n",
    "# Customize the plot\n",
    "fig.update_layout(\n",
    "    #title='Two-objective optimization',\n",
    "    \n",
    "    xaxis_title='AUC',\n",
    "    yaxis_title='Phe importance',\n",
    "    font=dict(size=14),\n",
    "    #plot_bgcolor='white',\n",
    "    # xaxis=dict(range=[min(df['x']) - 1, max(df['x']) + 1]),\n",
    "    # yaxis=dict(range=[min(df['y']) - 1, max(df['y']) + 1]),\n",
    "    legend=dict(x=0.3, y=1.1, bgcolor='rgba(255, 255, 255, 0)', orientation='h'),\n",
    "    width=plot_width,\n",
    "    height=plot_height,\n",
    "    margin=dict(l=0, r=0, t=0, b=0)\n",
    ")\n",
    "\n",
    "# Show the plot\n",
    "fig.show()"
   ]
  },
  {
   "cell_type": "code",
   "execution_count": 104,
   "metadata": {},
   "outputs": [],
   "source": [
    "# # Extract the best trials from the multi-objective study\n",
    "# best_trials = study.best_trials\n",
    "# \n",
    "# # Print information about the best trials\n",
    "# for i, trial in enumerate(best_trials):\n",
    "#     print(f\"Best trial {i+1} number: {trial.number}\")\n",
    "#     print(f\"Best trial {i+1} values: {trial.values}\")\n",
    "#     print(f\"Best trial {i+1} parameters: {trial.params}\")\n",
    "#     print()\n"
   ]
  },
  {
   "attachments": {},
   "cell_type": "markdown",
   "metadata": {},
   "source": [
    "# Ranking plots"
   ]
  },
  {
   "cell_type": "code",
   "execution_count": 105,
   "metadata": {},
   "outputs": [
    {
     "data": {
      "text/plain": [
       "[FrozenTrial(number=96, state=TrialState.COMPLETE, values=[0.6944444444444444, 0.6909835934638977], datetime_start=datetime.datetime(2023, 5, 3, 9, 8, 21, 733904), datetime_complete=datetime.datetime(2023, 5, 3, 9, 8, 24, 139569), params={'seed': 1201}, user_attrs={}, system_attrs={}, intermediate_values={}, distributions={'seed': IntDistribution(high=10000, log=False, low=1, step=1)}, trial_id=64848, value=None),\n",
       " FrozenTrial(number=221, state=TrialState.COMPLETE, values=[1.0, 0.3688807189464569], datetime_start=datetime.datetime(2023, 5, 3, 9, 8, 42, 19550), datetime_complete=datetime.datetime(2023, 5, 3, 9, 8, 44, 204382), params={'seed': 4528}, user_attrs={}, system_attrs={}, intermediate_values={}, distributions={'seed': IntDistribution(high=10000, log=False, low=1, step=1)}, trial_id=64973, value=None),\n",
       " FrozenTrial(number=449, state=TrialState.COMPLETE, values=[0.7777777777777778, 0.6426613926887512], datetime_start=datetime.datetime(2023, 5, 3, 9, 9, 22, 854496), datetime_complete=datetime.datetime(2023, 5, 3, 9, 9, 24, 596514), params={'seed': 5708}, user_attrs={}, system_attrs={}, intermediate_values={}, distributions={'seed': IntDistribution(high=10000, log=False, low=1, step=1)}, trial_id=65201, value=None),\n",
       " FrozenTrial(number=457, state=TrialState.COMPLETE, values=[0.9444444444444444, 0.5069220662117004], datetime_start=datetime.datetime(2023, 5, 3, 9, 9, 24, 373960), datetime_complete=datetime.datetime(2023, 5, 3, 9, 9, 26, 945342), params={'seed': 5182}, user_attrs={}, system_attrs={}, intermediate_values={}, distributions={'seed': IntDistribution(high=10000, log=False, low=1, step=1)}, trial_id=65209, value=None)]"
      ]
     },
     "execution_count": 105,
     "metadata": {},
     "output_type": "execute_result"
    }
   ],
   "source": [
    "study.best_trials"
   ]
  },
  {
   "cell_type": "code",
   "execution_count": null,
   "metadata": {},
   "outputs": [],
   "source": []
  },
  {
   "cell_type": "code",
   "execution_count": 109,
   "metadata": {},
   "outputs": [
    {
     "data": {
      "text/plain": [
       "[FrozenTrial(number=0, state=TrialState.COMPLETE, values=[0.7307692307692307, 0.0], datetime_start=datetime.datetime(2023, 5, 3, 9, 8, 8, 423223), datetime_complete=datetime.datetime(2023, 5, 3, 9, 8, 10, 42598), params={'seed': 4405}, user_attrs={}, system_attrs={}, intermediate_values={}, distributions={'seed': IntDistribution(high=10000, log=False, low=1, step=1)}, trial_id=64752, value=None),\n",
       " FrozenTrial(number=1, state=TrialState.COMPLETE, values=[0.5, 0.0], datetime_start=datetime.datetime(2023, 5, 3, 9, 8, 8, 429027), datetime_complete=datetime.datetime(2023, 5, 3, 9, 8, 10, 778155), params={'seed': 7193}, user_attrs={}, system_attrs={}, intermediate_values={}, distributions={'seed': IntDistribution(high=10000, log=False, low=1, step=1)}, trial_id=64753, value=None),\n",
       " FrozenTrial(number=2, state=TrialState.COMPLETE, values=[0.9615384615384616, 0.0], datetime_start=datetime.datetime(2023, 5, 3, 9, 8, 8, 470747), datetime_complete=datetime.datetime(2023, 5, 3, 9, 8, 10, 411024), params={'seed': 2014}, user_attrs={}, system_attrs={}, intermediate_values={}, distributions={'seed': IntDistribution(high=10000, log=False, low=1, step=1)}, trial_id=64754, value=None),\n",
       " FrozenTrial(number=3, state=TrialState.COMPLETE, values=[1.0, 0.0], datetime_start=datetime.datetime(2023, 5, 3, 9, 8, 8, 503265), datetime_complete=datetime.datetime(2023, 5, 3, 9, 8, 10, 79507), params={'seed': 2242}, user_attrs={}, system_attrs={}, intermediate_values={}, distributions={'seed': IntDistribution(high=10000, log=False, low=1, step=1)}, trial_id=64755, value=None),\n",
       " FrozenTrial(number=4, state=TrialState.COMPLETE, values=[0.6388888888888888, 0.18887652456760406], datetime_start=datetime.datetime(2023, 5, 3, 9, 8, 8, 534747), datetime_complete=datetime.datetime(2023, 5, 3, 9, 8, 9, 674600), params={'seed': 9958}, user_attrs={}, system_attrs={}, intermediate_values={}, distributions={'seed': IntDistribution(high=10000, log=False, low=1, step=1)}, trial_id=64756, value=None),\n",
       " FrozenTrial(number=5, state=TrialState.COMPLETE, values=[0.8055555555555556, 0.0], datetime_start=datetime.datetime(2023, 5, 3, 9, 8, 8, 563050), datetime_complete=datetime.datetime(2023, 5, 3, 9, 8, 9, 760676), params={'seed': 518}, user_attrs={}, system_attrs={}, intermediate_values={}, distributions={'seed': IntDistribution(high=10000, log=False, low=1, step=1)}, trial_id=64757, value=None),\n",
       " FrozenTrial(number=6, state=TrialState.COMPLETE, values=[0.5384615384615384, 0.0], datetime_start=datetime.datetime(2023, 5, 3, 9, 8, 8, 590934), datetime_complete=datetime.datetime(2023, 5, 3, 9, 8, 10, 744068), params={'seed': 1188}, user_attrs={}, system_attrs={}, intermediate_values={}, distributions={'seed': IntDistribution(high=10000, log=False, low=1, step=1)}, trial_id=64758, value=None),\n",
       " FrozenTrial(number=7, state=TrialState.COMPLETE, values=[0.38888888888888884, 0.0], datetime_start=datetime.datetime(2023, 5, 3, 9, 8, 8, 634161), datetime_complete=datetime.datetime(2023, 5, 3, 9, 8, 10, 475000), params={'seed': 5688}, user_attrs={}, system_attrs={}, intermediate_values={}, distributions={'seed': IntDistribution(high=10000, log=False, low=1, step=1)}, trial_id=64759, value=None),\n",
       " FrozenTrial(number=8, state=TrialState.COMPLETE, values=[0.6538461538461539, 0.04758383333683014], datetime_start=datetime.datetime(2023, 5, 3, 9, 8, 8, 662192), datetime_complete=datetime.datetime(2023, 5, 3, 9, 8, 10, 712622), params={'seed': 5500}, user_attrs={}, system_attrs={}, intermediate_values={}, distributions={'seed': IntDistribution(high=10000, log=False, low=1, step=1)}, trial_id=64760, value=None),\n",
       " FrozenTrial(number=9, state=TrialState.COMPLETE, values=[0.5384615384615384, 0.0], datetime_start=datetime.datetime(2023, 5, 3, 9, 8, 8, 689959), datetime_complete=datetime.datetime(2023, 5, 3, 9, 8, 10, 990509), params={'seed': 2589}, user_attrs={}, system_attrs={}, intermediate_values={}, distributions={'seed': IntDistribution(high=10000, log=False, low=1, step=1)}, trial_id=64761, value=None),\n",
       " FrozenTrial(number=10, state=TrialState.COMPLETE, values=[0.611111111111111, 0.2921534776687622], datetime_start=datetime.datetime(2023, 5, 3, 9, 8, 8, 718905), datetime_complete=datetime.datetime(2023, 5, 3, 9, 8, 10, 936009), params={'seed': 8246}, user_attrs={}, system_attrs={}, intermediate_values={}, distributions={'seed': IntDistribution(high=10000, log=False, low=1, step=1)}, trial_id=64762, value=None),\n",
       " FrozenTrial(number=11, state=TrialState.COMPLETE, values=[0.7361111111111112, 0.0], datetime_start=datetime.datetime(2023, 5, 3, 9, 8, 8, 746692), datetime_complete=datetime.datetime(2023, 5, 3, 9, 8, 10, 894964), params={'seed': 7002}, user_attrs={}, system_attrs={}, intermediate_values={}, distributions={'seed': IntDistribution(high=10000, log=False, low=1, step=1)}, trial_id=64763, value=None),\n",
       " FrozenTrial(number=12, state=TrialState.COMPLETE, values=[0.3846153846153846, 0.0], datetime_start=datetime.datetime(2023, 5, 3, 9, 8, 8, 755468), datetime_complete=datetime.datetime(2023, 5, 3, 9, 8, 11, 219671), params={'seed': 9061}, user_attrs={}, system_attrs={}, intermediate_values={}, distributions={'seed': IntDistribution(high=10000, log=False, low=1, step=1)}, trial_id=64764, value=None),\n",
       " FrozenTrial(number=13, state=TrialState.COMPLETE, values=[0.5972222222222222, 0.0], datetime_start=datetime.datetime(2023, 5, 3, 9, 8, 8, 845031), datetime_complete=datetime.datetime(2023, 5, 3, 9, 8, 11, 240490), params={'seed': 2169}, user_attrs={}, system_attrs={}, intermediate_values={}, distributions={'seed': IntDistribution(high=10000, log=False, low=1, step=1)}, trial_id=64765, value=None),\n",
       " FrozenTrial(number=14, state=TrialState.COMPLETE, values=[0.6346153846153846, 0.0], datetime_start=datetime.datetime(2023, 5, 3, 9, 8, 8, 887254), datetime_complete=datetime.datetime(2023, 5, 3, 9, 8, 11, 115390), params={'seed': 3211}, user_attrs={}, system_attrs={}, intermediate_values={}, distributions={'seed': IntDistribution(high=10000, log=False, low=1, step=1)}, trial_id=64766, value=None),\n",
       " FrozenTrial(number=15, state=TrialState.COMPLETE, values=[0.7884615384615384, 0.0], datetime_start=datetime.datetime(2023, 5, 3, 9, 8, 9, 52254), datetime_complete=datetime.datetime(2023, 5, 3, 9, 8, 11, 360158), params={'seed': 4728}, user_attrs={}, system_attrs={}, intermediate_values={}, distributions={'seed': IntDistribution(high=10000, log=False, low=1, step=1)}, trial_id=64767, value=None),\n",
       " FrozenTrial(number=16, state=TrialState.COMPLETE, values=[0.9166666666666666, 0.12244419008493423], datetime_start=datetime.datetime(2023, 5, 3, 9, 8, 10, 140794), datetime_complete=datetime.datetime(2023, 5, 3, 9, 8, 11, 516088), params={'seed': 9834}, user_attrs={}, system_attrs={}, intermediate_values={}, distributions={'seed': IntDistribution(high=10000, log=False, low=1, step=1)}, trial_id=64768, value=None),\n",
       " FrozenTrial(number=17, state=TrialState.COMPLETE, values=[0.8333333333333334, 0.23181068897247314], datetime_start=datetime.datetime(2023, 5, 3, 9, 8, 10, 466916), datetime_complete=datetime.datetime(2023, 5, 3, 9, 8, 12, 125759), params={'seed': 9413}, user_attrs={}, system_attrs={}, intermediate_values={}, distributions={'seed': IntDistribution(high=10000, log=False, low=1, step=1)}, trial_id=64769, value=None),\n",
       " FrozenTrial(number=18, state=TrialState.COMPLETE, values=[0.6944444444444444, 0.0], datetime_start=datetime.datetime(2023, 5, 3, 9, 8, 10, 669797), datetime_complete=datetime.datetime(2023, 5, 3, 9, 8, 12, 211842), params={'seed': 9931}, user_attrs={}, system_attrs={}, intermediate_values={}, distributions={'seed': IntDistribution(high=10000, log=False, low=1, step=1)}, trial_id=64770, value=None),\n",
       " FrozenTrial(number=19, state=TrialState.COMPLETE, values=[0.4230769230769231, 0.0], datetime_start=datetime.datetime(2023, 5, 3, 9, 8, 10, 852415), datetime_complete=datetime.datetime(2023, 5, 3, 9, 8, 12, 351993), params={'seed': 9557}, user_attrs={}, system_attrs={}, intermediate_values={}, distributions={'seed': IntDistribution(high=10000, log=False, low=1, step=1)}, trial_id=64771, value=None),\n",
       " FrozenTrial(number=20, state=TrialState.COMPLETE, values=[1.0, 0.0], datetime_start=datetime.datetime(2023, 5, 3, 9, 8, 10, 957046), datetime_complete=datetime.datetime(2023, 5, 3, 9, 8, 12, 370135), params={'seed': 9838}, user_attrs={}, system_attrs={}, intermediate_values={}, distributions={'seed': IntDistribution(high=10000, log=False, low=1, step=1)}, trial_id=64772, value=None),\n",
       " FrozenTrial(number=21, state=TrialState.COMPLETE, values=[0.9230769230769231, 0.0], datetime_start=datetime.datetime(2023, 5, 3, 9, 8, 10, 957543), datetime_complete=datetime.datetime(2023, 5, 3, 9, 8, 12, 468452), params={'seed': 9865}, user_attrs={}, system_attrs={}, intermediate_values={}, distributions={'seed': IntDistribution(high=10000, log=False, low=1, step=1)}, trial_id=64773, value=None),\n",
       " FrozenTrial(number=22, state=TrialState.COMPLETE, values=[0.9166666666666666, 0.10281599313020706], datetime_start=datetime.datetime(2023, 5, 3, 9, 8, 11, 49740), datetime_complete=datetime.datetime(2023, 5, 3, 9, 8, 12, 642910), params={'seed': 8376}, user_attrs={}, system_attrs={}, intermediate_values={}, distributions={'seed': IntDistribution(high=10000, log=False, low=1, step=1)}, trial_id=64774, value=None),\n",
       " FrozenTrial(number=23, state=TrialState.COMPLETE, values=[0.6666666666666666, 0.0], datetime_start=datetime.datetime(2023, 5, 3, 9, 8, 11, 79857), datetime_complete=datetime.datetime(2023, 5, 3, 9, 8, 12, 944474), params={'seed': 8247}, user_attrs={}, system_attrs={}, intermediate_values={}, distributions={'seed': IntDistribution(high=10000, log=False, low=1, step=1)}, trial_id=64775, value=None),\n",
       " FrozenTrial(number=24, state=TrialState.COMPLETE, values=[0.9230769230769231, 0.33849599957466125], datetime_start=datetime.datetime(2023, 5, 3, 9, 8, 11, 196675), datetime_complete=datetime.datetime(2023, 5, 3, 9, 8, 12, 717506), params={'seed': 7826}, user_attrs={}, system_attrs={}, intermediate_values={}, distributions={'seed': IntDistribution(high=10000, log=False, low=1, step=1)}, trial_id=64776, value=None),\n",
       " FrozenTrial(number=25, state=TrialState.COMPLETE, values=[0.6666666666666666, 0.08233229070901871], datetime_start=datetime.datetime(2023, 5, 3, 9, 8, 11, 267014), datetime_complete=datetime.datetime(2023, 5, 3, 9, 8, 13, 230960), params={'seed': 7026}, user_attrs={}, system_attrs={}, intermediate_values={}, distributions={'seed': IntDistribution(high=10000, log=False, low=1, step=1)}, trial_id=64777, value=None),\n",
       " FrozenTrial(number=26, state=TrialState.COMPLETE, values=[0.6153846153846154, 0.0], datetime_start=datetime.datetime(2023, 5, 3, 9, 8, 11, 432830), datetime_complete=datetime.datetime(2023, 5, 3, 9, 8, 13, 330194), params={'seed': 8391}, user_attrs={}, system_attrs={}, intermediate_values={}, distributions={'seed': IntDistribution(high=10000, log=False, low=1, step=1)}, trial_id=64778, value=None),\n",
       " FrozenTrial(number=27, state=TrialState.COMPLETE, values=[0.6153846153846154, 0.0], datetime_start=datetime.datetime(2023, 5, 3, 9, 8, 11, 807510), datetime_complete=datetime.datetime(2023, 5, 3, 9, 8, 13, 780375), params={'seed': 7116}, user_attrs={}, system_attrs={}, intermediate_values={}, distributions={'seed': IntDistribution(high=10000, log=False, low=1, step=1)}, trial_id=64779, value=None),\n",
       " FrozenTrial(number=28, state=TrialState.COMPLETE, values=[0.9230769230769231, 0.0], datetime_start=datetime.datetime(2023, 5, 3, 9, 8, 11, 812242), datetime_complete=datetime.datetime(2023, 5, 3, 9, 8, 13, 747661), params={'seed': 6861}, user_attrs={}, system_attrs={}, intermediate_values={}, distributions={'seed': IntDistribution(high=10000, log=False, low=1, step=1)}, trial_id=64780, value=None),\n",
       " FrozenTrial(number=29, state=TrialState.COMPLETE, values=[0.7777777777777778, 0.0], datetime_start=datetime.datetime(2023, 5, 3, 9, 8, 11, 809534), datetime_complete=datetime.datetime(2023, 5, 3, 9, 8, 13, 476710), params={'seed': 8133}, user_attrs={}, system_attrs={}, intermediate_values={}, distributions={'seed': IntDistribution(high=10000, log=False, low=1, step=1)}, trial_id=64781, value=None),\n",
       " FrozenTrial(number=30, state=TrialState.COMPLETE, values=[0.75, 0.11787150055170059], datetime_start=datetime.datetime(2023, 5, 3, 9, 8, 12, 39052), datetime_complete=datetime.datetime(2023, 5, 3, 9, 8, 13, 452184), params={'seed': 6982}, user_attrs={}, system_attrs={}, intermediate_values={}, distributions={'seed': IntDistribution(high=10000, log=False, low=1, step=1)}, trial_id=64782, value=None),\n",
       " FrozenTrial(number=31, state=TrialState.COMPLETE, values=[0.8461538461538461, 0.06351809203624725], datetime_start=datetime.datetime(2023, 5, 3, 9, 8, 12, 175764), datetime_complete=datetime.datetime(2023, 5, 3, 9, 8, 14, 490307), params={'seed': 6293}, user_attrs={}, system_attrs={}, intermediate_values={}, distributions={'seed': IntDistribution(high=10000, log=False, low=1, step=1)}, trial_id=64783, value=None),\n",
       " FrozenTrial(number=32, state=TrialState.COMPLETE, values=[0.8055555555555556, 0.0], datetime_start=datetime.datetime(2023, 5, 3, 9, 8, 12, 321774), datetime_complete=datetime.datetime(2023, 5, 3, 9, 8, 13, 980010), params={'seed': 6028}, user_attrs={}, system_attrs={}, intermediate_values={}, distributions={'seed': IntDistribution(high=10000, log=False, low=1, step=1)}, trial_id=64784, value=None),\n",
       " FrozenTrial(number=33, state=TrialState.COMPLETE, values=[0.4615384615384615, 0.0], datetime_start=datetime.datetime(2023, 5, 3, 9, 8, 12, 499227), datetime_complete=datetime.datetime(2023, 5, 3, 9, 8, 14, 393499), params={'seed': 6203}, user_attrs={}, system_attrs={}, intermediate_values={}, distributions={'seed': IntDistribution(high=10000, log=False, low=1, step=1)}, trial_id=64785, value=None),\n",
       " FrozenTrial(number=34, state=TrialState.COMPLETE, values=[0.8055555555555556, 0.0], datetime_start=datetime.datetime(2023, 5, 3, 9, 8, 12, 691428), datetime_complete=datetime.datetime(2023, 5, 3, 9, 8, 14, 130031), params={'seed': 6363}, user_attrs={}, system_attrs={}, intermediate_values={}, distributions={'seed': IntDistribution(high=10000, log=False, low=1, step=1)}, trial_id=64786, value=None),\n",
       " FrozenTrial(number=35, state=TrialState.COMPLETE, values=[0.4444444444444444, 0.06529822945594788], datetime_start=datetime.datetime(2023, 5, 3, 9, 8, 12, 907565), datetime_complete=datetime.datetime(2023, 5, 3, 9, 8, 15, 130093), params={'seed': 3898}, user_attrs={}, system_attrs={}, intermediate_values={}, distributions={'seed': IntDistribution(high=10000, log=False, low=1, step=1)}, trial_id=64787, value=None),\n",
       " FrozenTrial(number=36, state=TrialState.COMPLETE, values=[0.6153846153846154, 0.05031568557024002], datetime_start=datetime.datetime(2023, 5, 3, 9, 8, 12, 968081), datetime_complete=datetime.datetime(2023, 5, 3, 9, 8, 14, 778052), params={'seed': 5977}, user_attrs={}, system_attrs={}, intermediate_values={}, distributions={'seed': IntDistribution(high=10000, log=False, low=1, step=1)}, trial_id=64788, value=None),\n",
       " FrozenTrial(number=37, state=TrialState.COMPLETE, values=[0.75, 0.0], datetime_start=datetime.datetime(2023, 5, 3, 9, 8, 13, 193442), datetime_complete=datetime.datetime(2023, 5, 3, 9, 8, 14, 466657), params={'seed': 3427}, user_attrs={}, system_attrs={}, intermediate_values={}, distributions={'seed': IntDistribution(high=10000, log=False, low=1, step=1)}, trial_id=64789, value=None),\n",
       " FrozenTrial(number=38, state=TrialState.COMPLETE, values=[0.8055555555555556, 0.0], datetime_start=datetime.datetime(2023, 5, 3, 9, 8, 13, 265412), datetime_complete=datetime.datetime(2023, 5, 3, 9, 8, 15, 280174), params={'seed': 3995}, user_attrs={}, system_attrs={}, intermediate_values={}, distributions={'seed': IntDistribution(high=10000, log=False, low=1, step=1)}, trial_id=64790, value=None),\n",
       " FrozenTrial(number=39, state=TrialState.COMPLETE, values=[0.3076923076923077, 0.20039799809455872], datetime_start=datetime.datetime(2023, 5, 3, 9, 8, 13, 264392), datetime_complete=datetime.datetime(2023, 5, 3, 9, 8, 15, 159315), params={'seed': 3886}, user_attrs={}, system_attrs={}, intermediate_values={}, distributions={'seed': IntDistribution(high=10000, log=False, low=1, step=1)}, trial_id=64791, value=None),\n",
       " FrozenTrial(number=40, state=TrialState.COMPLETE, values=[0.6666666666666666, 0.0], datetime_start=datetime.datetime(2023, 5, 3, 9, 8, 13, 382292), datetime_complete=datetime.datetime(2023, 5, 3, 9, 8, 15, 396150), params={'seed': 3836}, user_attrs={}, system_attrs={}, intermediate_values={}, distributions={'seed': IntDistribution(high=10000, log=False, low=1, step=1)}, trial_id=64792, value=None),\n",
       " FrozenTrial(number=41, state=TrialState.COMPLETE, values=[0.611111111111111, 0.0], datetime_start=datetime.datetime(2023, 5, 3, 9, 8, 13, 815674), datetime_complete=datetime.datetime(2023, 5, 3, 9, 8, 15, 416380), params={'seed': 4193}, user_attrs={}, system_attrs={}, intermediate_values={}, distributions={'seed': IntDistribution(high=10000, log=False, low=1, step=1)}, trial_id=64793, value=None),\n",
       " FrozenTrial(number=42, state=TrialState.COMPLETE, values=[0.8846153846153846, 0.0], datetime_start=datetime.datetime(2023, 5, 3, 9, 8, 13, 872109), datetime_complete=datetime.datetime(2023, 5, 3, 9, 8, 15, 925891), params={'seed': 4364}, user_attrs={}, system_attrs={}, intermediate_values={}, distributions={'seed': IntDistribution(high=10000, log=False, low=1, step=1)}, trial_id=64794, value=None),\n",
       " FrozenTrial(number=43, state=TrialState.COMPLETE, values=[0.7777777777777779, 0.0], datetime_start=datetime.datetime(2023, 5, 3, 9, 8, 13, 917636), datetime_complete=datetime.datetime(2023, 5, 3, 9, 8, 15, 837555), params={'seed': 4068}, user_attrs={}, system_attrs={}, intermediate_values={}, distributions={'seed': IntDistribution(high=10000, log=False, low=1, step=1)}, trial_id=64795, value=None),\n",
       " FrozenTrial(number=44, state=TrialState.COMPLETE, values=[0.5384615384615384, 0.0], datetime_start=datetime.datetime(2023, 5, 3, 9, 8, 13, 921624), datetime_complete=datetime.datetime(2023, 5, 3, 9, 8, 15, 869498), params={'seed': 3815}, user_attrs={}, system_attrs={}, intermediate_values={}, distributions={'seed': IntDistribution(high=10000, log=False, low=1, step=1)}, trial_id=64796, value=None),\n",
       " FrozenTrial(number=45, state=TrialState.COMPLETE, values=[1.0, 0.02444821037352085], datetime_start=datetime.datetime(2023, 5, 3, 9, 8, 14, 331137), datetime_complete=datetime.datetime(2023, 5, 3, 9, 8, 16, 61951), params={'seed': 5180}, user_attrs={}, system_attrs={}, intermediate_values={}, distributions={'seed': IntDistribution(high=10000, log=False, low=1, step=1)}, trial_id=64797, value=None),\n",
       " FrozenTrial(number=46, state=TrialState.COMPLETE, values=[0.6944444444444444, 0.06871375441551208], datetime_start=datetime.datetime(2023, 5, 3, 9, 8, 14, 333455), datetime_complete=datetime.datetime(2023, 5, 3, 9, 8, 16, 342873), params={'seed': 7752}, user_attrs={}, system_attrs={}, intermediate_values={}, distributions={'seed': IntDistribution(high=10000, log=False, low=1, step=1)}, trial_id=64798, value=None),\n",
       " FrozenTrial(number=47, state=TrialState.COMPLETE, values=[0.5, 0.0], datetime_start=datetime.datetime(2023, 5, 3, 9, 8, 14, 606291), datetime_complete=datetime.datetime(2023, 5, 3, 9, 8, 16, 567778), params={'seed': 35}, user_attrs={}, system_attrs={}, intermediate_values={}, distributions={'seed': IntDistribution(high=10000, log=False, low=1, step=1)}, trial_id=64799, value=None),\n",
       " FrozenTrial(number=48, state=TrialState.COMPLETE, values=[0.9230769230769231, 0.0], datetime_start=datetime.datetime(2023, 5, 3, 9, 8, 14, 731483), datetime_complete=datetime.datetime(2023, 5, 3, 9, 8, 16, 89058), params={'seed': 5114}, user_attrs={}, system_attrs={}, intermediate_values={}, distributions={'seed': IntDistribution(high=10000, log=False, low=1, step=1)}, trial_id=64800, value=None),\n",
       " FrozenTrial(number=49, state=TrialState.COMPLETE, values=[0.8461538461538461, 0.0], datetime_start=datetime.datetime(2023, 5, 3, 9, 8, 15, 65463), datetime_complete=datetime.datetime(2023, 5, 3, 9, 8, 16, 830487), params={'seed': 410}, user_attrs={}, system_attrs={}, intermediate_values={}, distributions={'seed': IntDistribution(high=10000, log=False, low=1, step=1)}, trial_id=64801, value=None),\n",
       " FrozenTrial(number=50, state=TrialState.COMPLETE, values=[0.36111111111111105, 0.0], datetime_start=datetime.datetime(2023, 5, 3, 9, 8, 15, 66744), datetime_complete=datetime.datetime(2023, 5, 3, 9, 8, 16, 802691), params={'seed': 5130}, user_attrs={}, system_attrs={}, intermediate_values={}, distributions={'seed': IntDistribution(high=10000, log=False, low=1, step=1)}, trial_id=64802, value=None),\n",
       " FrozenTrial(number=51, state=TrialState.COMPLETE, values=[0.8611111111111112, 0.0], datetime_start=datetime.datetime(2023, 5, 3, 9, 8, 15, 252196), datetime_complete=datetime.datetime(2023, 5, 3, 9, 8, 16, 873102), params={'seed': 682}, user_attrs={}, system_attrs={}, intermediate_values={}, distributions={'seed': IntDistribution(high=10000, log=False, low=1, step=1)}, trial_id=64803, value=None),\n",
       " FrozenTrial(number=52, state=TrialState.COMPLETE, values=[0.8333333333333334, 0.0], datetime_start=datetime.datetime(2023, 5, 3, 9, 8, 15, 372353), datetime_complete=datetime.datetime(2023, 5, 3, 9, 8, 17, 272705), params={'seed': 1350}, user_attrs={}, system_attrs={}, intermediate_values={}, distributions={'seed': IntDistribution(high=10000, log=False, low=1, step=1)}, trial_id=64804, value=None),\n",
       " FrozenTrial(number=53, state=TrialState.COMPLETE, values=[0.7692307692307693, 0.039280861616134644], datetime_start=datetime.datetime(2023, 5, 3, 9, 8, 15, 661387), datetime_complete=datetime.datetime(2023, 5, 3, 9, 8, 17, 723930), params={'seed': 9251}, user_attrs={}, system_attrs={}, intermediate_values={}, distributions={'seed': IntDistribution(high=10000, log=False, low=1, step=1)}, trial_id=64805, value=None),\n",
       " FrozenTrial(number=54, state=TrialState.COMPLETE, values=[0.9615384615384616, 0.0], datetime_start=datetime.datetime(2023, 5, 3, 9, 8, 15, 661934), datetime_complete=datetime.datetime(2023, 5, 3, 9, 8, 17, 141801), params={'seed': 676}, user_attrs={}, system_attrs={}, intermediate_values={}, distributions={'seed': IntDistribution(high=10000, log=False, low=1, step=1)}, trial_id=64806, value=None),\n",
       " FrozenTrial(number=55, state=TrialState.COMPLETE, values=[0.7777777777777778, 0.0], datetime_start=datetime.datetime(2023, 5, 3, 9, 8, 15, 812985), datetime_complete=datetime.datetime(2023, 5, 3, 9, 8, 17, 556864), params={'seed': 828}, user_attrs={}, system_attrs={}, intermediate_values={}, distributions={'seed': IntDistribution(high=10000, log=False, low=1, step=1)}, trial_id=64807, value=None),\n",
       " FrozenTrial(number=56, state=TrialState.COMPLETE, values=[1.0, 0.10192029178142548], datetime_start=datetime.datetime(2023, 5, 3, 9, 8, 16, 25855), datetime_complete=datetime.datetime(2023, 5, 3, 9, 8, 17, 789414), params={'seed': 8914}, user_attrs={}, system_attrs={}, intermediate_values={}, distributions={'seed': IntDistribution(high=10000, log=False, low=1, step=1)}, trial_id=64808, value=None),\n",
       " FrozenTrial(number=57, state=TrialState.COMPLETE, values=[0.8055555555555555, 0.0], datetime_start=datetime.datetime(2023, 5, 3, 9, 8, 16, 188932), datetime_complete=datetime.datetime(2023, 5, 3, 9, 8, 18, 230648), params={'seed': 8939}, user_attrs={}, system_attrs={}, intermediate_values={}, distributions={'seed': IntDistribution(high=10000, log=False, low=1, step=1)}, trial_id=64809, value=None),\n",
       " FrozenTrial(number=58, state=TrialState.COMPLETE, values=[0.9444444444444444, 0.0], datetime_start=datetime.datetime(2023, 5, 3, 9, 8, 16, 369383), datetime_complete=datetime.datetime(2023, 5, 3, 9, 8, 18, 324716), params={'seed': 9023}, user_attrs={}, system_attrs={}, intermediate_values={}, distributions={'seed': IntDistribution(high=10000, log=False, low=1, step=1)}, trial_id=64810, value=None),\n",
       " FrozenTrial(number=59, state=TrialState.COMPLETE, values=[0.8461538461538461, 0.0], datetime_start=datetime.datetime(2023, 5, 3, 9, 8, 16, 372018), datetime_complete=datetime.datetime(2023, 5, 3, 9, 8, 18, 108535), params={'seed': 8945}, user_attrs={}, system_attrs={}, intermediate_values={}, distributions={'seed': IntDistribution(high=10000, log=False, low=1, step=1)}, trial_id=64811, value=None),\n",
       " FrozenTrial(number=60, state=TrialState.COMPLETE, values=[0.8611111111111112, 0.14297494292259216], datetime_start=datetime.datetime(2023, 5, 3, 9, 8, 16, 378835), datetime_complete=datetime.datetime(2023, 5, 3, 9, 8, 18, 293096), params={'seed': 8775}, user_attrs={}, system_attrs={}, intermediate_values={}, distributions={'seed': IntDistribution(high=10000, log=False, low=1, step=1)}, trial_id=64812, value=None),\n",
       " FrozenTrial(number=61, state=TrialState.COMPLETE, values=[0.9230769230769231, 0.0], datetime_start=datetime.datetime(2023, 5, 3, 9, 8, 16, 594419), datetime_complete=datetime.datetime(2023, 5, 3, 9, 8, 18, 710532), params={'seed': 8795}, user_attrs={}, system_attrs={}, intermediate_values={}, distributions={'seed': IntDistribution(high=10000, log=False, low=1, step=1)}, trial_id=64813, value=None),\n",
       " FrozenTrial(number=62, state=TrialState.COMPLETE, values=[0.7222222222222222, 0.0], datetime_start=datetime.datetime(2023, 5, 3, 9, 8, 16, 596756), datetime_complete=datetime.datetime(2023, 5, 3, 9, 8, 18, 549656), params={'seed': 8809}, user_attrs={}, system_attrs={}, intermediate_values={}, distributions={'seed': IntDistribution(high=10000, log=False, low=1, step=1)}, trial_id=64814, value=None),\n",
       " FrozenTrial(number=63, state=TrialState.COMPLETE, values=[0.9230769230769231, 0.0], datetime_start=datetime.datetime(2023, 5, 3, 9, 8, 17, 9789), datetime_complete=datetime.datetime(2023, 5, 3, 9, 8, 18, 808072), params={'seed': 8932}, user_attrs={}, system_attrs={}, intermediate_values={}, distributions={'seed': IntDistribution(high=10000, log=False, low=1, step=1)}, trial_id=64815, value=None),\n",
       " FrozenTrial(number=64, state=TrialState.COMPLETE, values=[0.6666666666666666, 0.0], datetime_start=datetime.datetime(2023, 5, 3, 9, 8, 17, 10571), datetime_complete=datetime.datetime(2023, 5, 3, 9, 8, 18, 909591), params={'seed': 7551}, user_attrs={}, system_attrs={}, intermediate_values={}, distributions={'seed': IntDistribution(high=10000, log=False, low=1, step=1)}, trial_id=64816, value=None),\n",
       " FrozenTrial(number=65, state=TrialState.COMPLETE, values=[0.8333333333333333, 0.0], datetime_start=datetime.datetime(2023, 5, 3, 9, 8, 17, 349895), datetime_complete=datetime.datetime(2023, 5, 3, 9, 8, 19, 15646), params={'seed': 2803}, user_attrs={}, system_attrs={}, intermediate_values={}, distributions={'seed': IntDistribution(high=10000, log=False, low=1, step=1)}, trial_id=64817, value=None),\n",
       " FrozenTrial(number=66, state=TrialState.COMPLETE, values=[0.5, 0.0], datetime_start=datetime.datetime(2023, 5, 3, 9, 8, 17, 351133), datetime_complete=datetime.datetime(2023, 5, 3, 9, 8, 19, 266390), params={'seed': 7723}, user_attrs={}, system_attrs={}, intermediate_values={}, distributions={'seed': IntDistribution(high=10000, log=False, low=1, step=1)}, trial_id=64818, value=None),\n",
       " FrozenTrial(number=67, state=TrialState.COMPLETE, values=[0.3055555555555556, 0.0], datetime_start=datetime.datetime(2023, 5, 3, 9, 8, 17, 651994), datetime_complete=datetime.datetime(2023, 5, 3, 9, 8, 19, 244316), params={'seed': 7552}, user_attrs={}, system_attrs={}, intermediate_values={}, distributions={'seed': IntDistribution(high=10000, log=False, low=1, step=1)}, trial_id=64819, value=None),\n",
       " FrozenTrial(number=68, state=TrialState.COMPLETE, values=[0.9230769230769231, 0.0], datetime_start=datetime.datetime(2023, 5, 3, 9, 8, 17, 659777), datetime_complete=datetime.datetime(2023, 5, 3, 9, 8, 19, 459249), params={'seed': 2582}, user_attrs={}, system_attrs={}, intermediate_values={}, distributions={'seed': IntDistribution(high=10000, log=False, low=1, step=1)}, trial_id=64820, value=None),\n",
       " FrozenTrial(number=69, state=TrialState.COMPLETE, values=[0.5384615384615384, 0.0], datetime_start=datetime.datetime(2023, 5, 3, 9, 8, 17, 839407), datetime_complete=datetime.datetime(2023, 5, 3, 9, 8, 19, 737340), params={'seed': 2628}, user_attrs={}, system_attrs={}, intermediate_values={}, distributions={'seed': IntDistribution(high=10000, log=False, low=1, step=1)}, trial_id=64821, value=None),\n",
       " FrozenTrial(number=70, state=TrialState.COMPLETE, values=[0.9230769230769231, 0.3589838147163391], datetime_start=datetime.datetime(2023, 5, 3, 9, 8, 18, 70801), datetime_complete=datetime.datetime(2023, 5, 3, 9, 8, 20, 255383), params={'seed': 1778}, user_attrs={}, system_attrs={}, intermediate_values={}, distributions={'seed': IntDistribution(high=10000, log=False, low=1, step=1)}, trial_id=64822, value=None),\n",
       " FrozenTrial(number=71, state=TrialState.COMPLETE, values=[0.8461538461538461, 0.27288901805877686], datetime_start=datetime.datetime(2023, 5, 3, 9, 8, 18, 263416), datetime_complete=datetime.datetime(2023, 5, 3, 9, 8, 20, 144632), params={'seed': 7500}, user_attrs={}, system_attrs={}, intermediate_values={}, distributions={'seed': IntDistribution(high=10000, log=False, low=1, step=1)}, trial_id=64823, value=None),\n",
       " FrozenTrial(number=72, state=TrialState.COMPLETE, values=[0.48611111111111105, 0.0], datetime_start=datetime.datetime(2023, 5, 3, 9, 8, 18, 341562), datetime_complete=datetime.datetime(2023, 5, 3, 9, 8, 20, 367662), params={'seed': 6704}, user_attrs={}, system_attrs={}, intermediate_values={}, distributions={'seed': IntDistribution(high=10000, log=False, low=1, step=1)}, trial_id=64824, value=None),\n",
       " FrozenTrial(number=73, state=TrialState.COMPLETE, values=[0.5384615384615384, 0.0], datetime_start=datetime.datetime(2023, 5, 3, 9, 8, 18, 685005), datetime_complete=datetime.datetime(2023, 5, 3, 9, 8, 20, 467333), params={'seed': 6634}, user_attrs={}, system_attrs={}, intermediate_values={}, distributions={'seed': IntDistribution(high=10000, log=False, low=1, step=1)}, trial_id=64825, value=None),\n",
       " FrozenTrial(number=74, state=TrialState.COMPLETE, values=[0.8055555555555556, 0.0], datetime_start=datetime.datetime(2023, 5, 3, 9, 8, 18, 861658), datetime_complete=datetime.datetime(2023, 5, 3, 9, 8, 20, 629864), params={'seed': 5578}, user_attrs={}, system_attrs={}, intermediate_values={}, distributions={'seed': IntDistribution(high=10000, log=False, low=1, step=1)}, trial_id=64826, value=None),\n",
       " FrozenTrial(number=75, state=TrialState.COMPLETE, values=[0.7692307692307692, 0.0], datetime_start=datetime.datetime(2023, 5, 3, 9, 8, 18, 867965), datetime_complete=datetime.datetime(2023, 5, 3, 9, 8, 20, 584783), params={'seed': 1640}, user_attrs={}, system_attrs={}, intermediate_values={}, distributions={'seed': IntDistribution(high=10000, log=False, low=1, step=1)}, trial_id=64827, value=None),\n",
       " FrozenTrial(number=76, state=TrialState.COMPLETE, values=[0.9166666666666666, 0.0], datetime_start=datetime.datetime(2023, 5, 3, 9, 8, 18, 864160), datetime_complete=datetime.datetime(2023, 5, 3, 9, 8, 20, 960969), params={'seed': 1439}, user_attrs={}, system_attrs={}, intermediate_values={}, distributions={'seed': IntDistribution(high=10000, log=False, low=1, step=1)}, trial_id=64828, value=None),\n",
       " FrozenTrial(number=77, state=TrialState.COMPLETE, values=[0.7222222222222222, 0.05941401422023773], datetime_start=datetime.datetime(2023, 5, 3, 9, 8, 19, 111361), datetime_complete=datetime.datetime(2023, 5, 3, 9, 8, 21, 113255), params={'seed': 6619}, user_attrs={}, system_attrs={}, intermediate_values={}, distributions={'seed': IntDistribution(high=10000, log=False, low=1, step=1)}, trial_id=64829, value=None),\n",
       " FrozenTrial(number=78, state=TrialState.COMPLETE, values=[0.5, 0.06458429992198944], datetime_start=datetime.datetime(2023, 5, 3, 9, 8, 19, 217315), datetime_complete=datetime.datetime(2023, 5, 3, 9, 8, 20, 989257), params={'seed': 6600}, user_attrs={}, system_attrs={}, intermediate_values={}, distributions={'seed': IntDistribution(high=10000, log=False, low=1, step=1)}, trial_id=64830, value=None),\n",
       " FrozenTrial(number=79, state=TrialState.COMPLETE, values=[0.888888888888889, 0.0], datetime_start=datetime.datetime(2023, 5, 3, 9, 8, 19, 415807), datetime_complete=datetime.datetime(2023, 5, 3, 9, 8, 21, 6923), params={'seed': 9560}, user_attrs={}, system_attrs={}, intermediate_values={}, distributions={'seed': IntDistribution(high=10000, log=False, low=1, step=1)}, trial_id=64831, value=None),\n",
       " FrozenTrial(number=80, state=TrialState.COMPLETE, values=[0.6923076923076923, 0.33837130665779114], datetime_start=datetime.datetime(2023, 5, 3, 9, 8, 19, 416117), datetime_complete=datetime.datetime(2023, 5, 3, 9, 8, 21, 360104), params={'seed': 1566}, user_attrs={}, system_attrs={}, intermediate_values={}, distributions={'seed': IntDistribution(high=10000, log=False, low=1, step=1)}, trial_id=64832, value=None),\n",
       " FrozenTrial(number=81, state=TrialState.COMPLETE, values=[0.7222222222222222, 0.0], datetime_start=datetime.datetime(2023, 5, 3, 9, 8, 19, 415440), datetime_complete=datetime.datetime(2023, 5, 3, 9, 8, 21, 337357), params={'seed': 1525}, user_attrs={}, system_attrs={}, intermediate_values={}, distributions={'seed': IntDistribution(high=10000, log=False, low=1, step=1)}, trial_id=64833, value=None),\n",
       " FrozenTrial(number=82, state=TrialState.COMPLETE, values=[1.0, 0.13150107860565186], datetime_start=datetime.datetime(2023, 5, 3, 9, 8, 19, 837069), datetime_complete=datetime.datetime(2023, 5, 3, 9, 8, 21, 576146), params={'seed': 1993}, user_attrs={}, system_attrs={}, intermediate_values={}, distributions={'seed': IntDistribution(high=10000, log=False, low=1, step=1)}, trial_id=64834, value=None),\n",
       " FrozenTrial(number=83, state=TrialState.COMPLETE, values=[0.9230769230769231, 0.0], datetime_start=datetime.datetime(2023, 5, 3, 9, 8, 19, 837746), datetime_complete=datetime.datetime(2023, 5, 3, 9, 8, 21, 876226), params={'seed': 1875}, user_attrs={}, system_attrs={}, intermediate_values={}, distributions={'seed': IntDistribution(high=10000, log=False, low=1, step=1)}, trial_id=64835, value=None),\n",
       " FrozenTrial(number=84, state=TrialState.COMPLETE, values=[0.7777777777777777, 0.09341301769018173], datetime_start=datetime.datetime(2023, 5, 3, 9, 8, 20, 34502), datetime_complete=datetime.datetime(2023, 5, 3, 9, 8, 21, 895299), params={'seed': 1977}, user_attrs={}, system_attrs={}, intermediate_values={}, distributions={'seed': IntDistribution(high=10000, log=False, low=1, step=1)}, trial_id=64836, value=None),\n",
       " FrozenTrial(number=85, state=TrialState.COMPLETE, values=[0.8846153846153846, 0.0], datetime_start=datetime.datetime(2023, 5, 3, 9, 8, 20, 342167), datetime_complete=datetime.datetime(2023, 5, 3, 9, 8, 22, 227795), params={'seed': 1945}, user_attrs={}, system_attrs={}, intermediate_values={}, distributions={'seed': IntDistribution(high=10000, log=False, low=1, step=1)}, trial_id=64837, value=None),\n",
       " FrozenTrial(number=86, state=TrialState.COMPLETE, values=[0.7307692307692308, 0.0], datetime_start=datetime.datetime(2023, 5, 3, 9, 8, 20, 852393), datetime_complete=datetime.datetime(2023, 5, 3, 9, 8, 22, 408269), params={'seed': 2162}, user_attrs={}, system_attrs={}, intermediate_values={}, distributions={'seed': IntDistribution(high=10000, log=False, low=1, step=1)}, trial_id=64838, value=None),\n",
       " FrozenTrial(number=87, state=TrialState.COMPLETE, values=[0.3846153846153846, 0.0], datetime_start=datetime.datetime(2023, 5, 3, 9, 8, 20, 851884), datetime_complete=datetime.datetime(2023, 5, 3, 9, 8, 23, 135085), params={'seed': 1094}, user_attrs={}, system_attrs={}, intermediate_values={}, distributions={'seed': IntDistribution(high=10000, log=False, low=1, step=1)}, trial_id=64839, value=None),\n",
       " FrozenTrial(number=88, state=TrialState.COMPLETE, values=[0.6666666666666666, 0.10642785578966141], datetime_start=datetime.datetime(2023, 5, 3, 9, 8, 20, 929258), datetime_complete=datetime.datetime(2023, 5, 3, 9, 8, 22, 661879), params={'seed': 1890}, user_attrs={}, system_attrs={}, intermediate_values={}, distributions={'seed': IntDistribution(high=10000, log=False, low=1, step=1)}, trial_id=64840, value=None),\n",
       " FrozenTrial(number=89, state=TrialState.COMPLETE, values=[0.75, 0.05737106502056122], datetime_start=datetime.datetime(2023, 5, 3, 9, 8, 21, 39082), datetime_complete=datetime.datetime(2023, 5, 3, 9, 8, 22, 961085), params={'seed': 1803}, user_attrs={}, system_attrs={}, intermediate_values={}, distributions={'seed': IntDistribution(high=10000, log=False, low=1, step=1)}, trial_id=64841, value=None),\n",
       " FrozenTrial(number=90, state=TrialState.COMPLETE, values=[0.9615384615384616, 0.0], datetime_start=datetime.datetime(2023, 5, 3, 9, 8, 21, 200667), datetime_complete=datetime.datetime(2023, 5, 3, 9, 8, 23, 207890), params={'seed': 2052}, user_attrs={}, system_attrs={}, intermediate_values={}, distributions={'seed': IntDistribution(high=10000, log=False, low=1, step=1)}, trial_id=64842, value=None),\n",
       " FrozenTrial(number=91, state=TrialState.COMPLETE, values=[0.9166666666666666, 0.12281396239995956], datetime_start=datetime.datetime(2023, 5, 3, 9, 8, 21, 202485), datetime_complete=datetime.datetime(2023, 5, 3, 9, 8, 23, 163952), params={'seed': 1143}, user_attrs={}, system_attrs={}, intermediate_values={}, distributions={'seed': IntDistribution(high=10000, log=False, low=1, step=1)}, trial_id=64843, value=None),\n",
       " FrozenTrial(number=92, state=TrialState.COMPLETE, values=[0.75, 0.0], datetime_start=datetime.datetime(2023, 5, 3, 9, 8, 21, 476193), datetime_complete=datetime.datetime(2023, 5, 3, 9, 8, 23, 470179), params={'seed': 3351}, user_attrs={}, system_attrs={}, intermediate_values={}, distributions={'seed': IntDistribution(high=10000, log=False, low=1, step=1)}, trial_id=64844, value=None),\n",
       " FrozenTrial(number=93, state=TrialState.COMPLETE, values=[0.9230769230769231, 0.0], datetime_start=datetime.datetime(2023, 5, 3, 9, 8, 21, 480798), datetime_complete=datetime.datetime(2023, 5, 3, 9, 8, 23, 931138), params={'seed': 1046}, user_attrs={}, system_attrs={}, intermediate_values={}, distributions={'seed': IntDistribution(high=10000, log=False, low=1, step=1)}, trial_id=64845, value=None),\n",
       " FrozenTrial(number=94, state=TrialState.COMPLETE, values=[0.75, 0.0], datetime_start=datetime.datetime(2023, 5, 3, 9, 8, 21, 477797), datetime_complete=datetime.datetime(2023, 5, 3, 9, 8, 24, 197787), params={'seed': 1089}, user_attrs={}, system_attrs={}, intermediate_values={}, distributions={'seed': IntDistribution(high=10000, log=False, low=1, step=1)}, trial_id=64846, value=None),\n",
       " FrozenTrial(number=95, state=TrialState.COMPLETE, values=[0.8461538461538461, 0.0], datetime_start=datetime.datetime(2023, 5, 3, 9, 8, 21, 663335), datetime_complete=datetime.datetime(2023, 5, 3, 9, 8, 23, 497495), params={'seed': 3150}, user_attrs={}, system_attrs={}, intermediate_values={}, distributions={'seed': IntDistribution(high=10000, log=False, low=1, step=1)}, trial_id=64847, value=None),\n",
       " FrozenTrial(number=96, state=TrialState.COMPLETE, values=[0.6944444444444444, 0.6909835934638977], datetime_start=datetime.datetime(2023, 5, 3, 9, 8, 21, 733904), datetime_complete=datetime.datetime(2023, 5, 3, 9, 8, 24, 139569), params={'seed': 1201}, user_attrs={}, system_attrs={}, intermediate_values={}, distributions={'seed': IntDistribution(high=10000, log=False, low=1, step=1)}, trial_id=64848, value=None),\n",
       " FrozenTrial(number=97, state=TrialState.COMPLETE, values=[0.5555555555555556, 0.0], datetime_start=datetime.datetime(2023, 5, 3, 9, 8, 21, 668372), datetime_complete=datetime.datetime(2023, 5, 3, 9, 8, 23, 652580), params={'seed': 2974}, user_attrs={}, system_attrs={}, intermediate_values={}, distributions={'seed': IntDistribution(high=10000, log=False, low=1, step=1)}, trial_id=64849, value=None),\n",
       " FrozenTrial(number=98, state=TrialState.COMPLETE, values=[0.6666666666666666, 0.0], datetime_start=datetime.datetime(2023, 5, 3, 9, 8, 21, 920208), datetime_complete=datetime.datetime(2023, 5, 3, 9, 8, 24, 172589), params={'seed': 1026}, user_attrs={}, system_attrs={}, intermediate_values={}, distributions={'seed': IntDistribution(high=10000, log=False, low=1, step=1)}, trial_id=64850, value=None),\n",
       " FrozenTrial(number=99, state=TrialState.COMPLETE, values=[0.6944444444444444, 0.0], datetime_start=datetime.datetime(2023, 5, 3, 9, 8, 22, 479808), datetime_complete=datetime.datetime(2023, 5, 3, 9, 8, 24, 349064), params={'seed': 1045}, user_attrs={}, system_attrs={}, intermediate_values={}, distributions={'seed': IntDistribution(high=10000, log=False, low=1, step=1)}, trial_id=64851, value=None),\n",
       " FrozenTrial(number=100, state=TrialState.COMPLETE, values=[0.8333333333333333, 0.0], datetime_start=datetime.datetime(2023, 5, 3, 9, 8, 22, 478193), datetime_complete=datetime.datetime(2023, 5, 3, 9, 8, 24, 704345), params={'seed': 1003}, user_attrs={}, system_attrs={}, intermediate_values={}, distributions={'seed': IntDistribution(high=10000, log=False, low=1, step=1)}, trial_id=64852, value=None),\n",
       " FrozenTrial(number=101, state=TrialState.COMPLETE, values=[0.7307692307692307, 0.0], datetime_start=datetime.datetime(2023, 5, 3, 9, 8, 22, 784886), datetime_complete=datetime.datetime(2023, 5, 3, 9, 8, 25, 65577), params={'seed': 1206}, user_attrs={}, system_attrs={}, intermediate_values={}, distributions={'seed': IntDistribution(high=10000, log=False, low=1, step=1)}, trial_id=64853, value=None),\n",
       " FrozenTrial(number=102, state=TrialState.COMPLETE, values=[0.5769230769230769, 0.0], datetime_start=datetime.datetime(2023, 5, 3, 9, 8, 23, 61006), datetime_complete=datetime.datetime(2023, 5, 3, 9, 8, 25, 116820), params={'seed': 1151}, user_attrs={}, system_attrs={}, intermediate_values={}, distributions={'seed': IntDistribution(high=10000, log=False, low=1, step=1)}, trial_id=64854, value=None),\n",
       " FrozenTrial(number=103, state=TrialState.COMPLETE, values=[0.673076923076923, 0.11787150800228119], datetime_start=datetime.datetime(2023, 5, 3, 9, 8, 23, 446980), datetime_complete=datetime.datetime(2023, 5, 3, 9, 8, 25, 634052), params={'seed': 321}, user_attrs={}, system_attrs={}, intermediate_values={}, distributions={'seed': IntDistribution(high=10000, log=False, low=1, step=1)}, trial_id=64855, value=None),\n",
       " FrozenTrial(number=104, state=TrialState.COMPLETE, values=[0.8846153846153847, 0.0], datetime_start=datetime.datetime(2023, 5, 3, 9, 8, 23, 566176), datetime_complete=datetime.datetime(2023, 5, 3, 9, 8, 25, 482739), params={'seed': 331}, user_attrs={}, system_attrs={}, intermediate_values={}, distributions={'seed': IntDistribution(high=10000, log=False, low=1, step=1)}, trial_id=64856, value=None),\n",
       " FrozenTrial(number=105, state=TrialState.COMPLETE, values=[0.5416666666666667, 0.0], datetime_start=datetime.datetime(2023, 5, 3, 9, 8, 23, 568511), datetime_complete=datetime.datetime(2023, 5, 3, 9, 8, 25, 431668), params={'seed': 307}, user_attrs={}, system_attrs={}, intermediate_values={}, distributions={'seed': IntDistribution(high=10000, log=False, low=1, step=1)}, trial_id=64857, value=None),\n",
       " FrozenTrial(number=106, state=TrialState.COMPLETE, values=[0.9230769230769231, 0.0], datetime_start=datetime.datetime(2023, 5, 3, 9, 8, 23, 699526), datetime_complete=datetime.datetime(2023, 5, 3, 9, 8, 25, 725274), params={'seed': 64}, user_attrs={}, system_attrs={}, intermediate_values={}, distributions={'seed': IntDistribution(high=10000, log=False, low=1, step=1)}, trial_id=64858, value=None),\n",
       " FrozenTrial(number=107, state=TrialState.COMPLETE, values=[0.6666666666666666, 0.08918682485818863], datetime_start=datetime.datetime(2023, 5, 3, 9, 8, 23, 740649), datetime_complete=datetime.datetime(2023, 5, 3, 9, 8, 25, 683391), params={'seed': 316}, user_attrs={}, system_attrs={}, intermediate_values={}, distributions={'seed': IntDistribution(high=10000, log=False, low=1, step=1)}, trial_id=64859, value=None),\n",
       " FrozenTrial(number=108, state=TrialState.COMPLETE, values=[0.9615384615384616, 0.06110905483365059], datetime_start=datetime.datetime(2023, 5, 3, 9, 8, 24, 72826), datetime_complete=datetime.datetime(2023, 5, 3, 9, 8, 25, 861444), params={'seed': 385}, user_attrs={}, system_attrs={}, intermediate_values={}, distributions={'seed': IntDistribution(high=10000, log=False, low=1, step=1)}, trial_id=64860, value=None),\n",
       " FrozenTrial(number=109, state=TrialState.COMPLETE, values=[0.46153846153846156, 0.0], datetime_start=datetime.datetime(2023, 5, 3, 9, 8, 24, 75350), datetime_complete=datetime.datetime(2023, 5, 3, 9, 8, 25, 703052), params={'seed': 278}, user_attrs={}, system_attrs={}, intermediate_values={}, distributions={'seed': IntDistribution(high=10000, log=False, low=1, step=1)}, trial_id=64861, value=None),\n",
       " FrozenTrial(number=110, state=TrialState.COMPLETE, values=[0.8076923076923077, 0.06000195071101189], datetime_start=datetime.datetime(2023, 5, 3, 9, 8, 24, 238880), datetime_complete=datetime.datetime(2023, 5, 3, 9, 8, 26, 18634), params={'seed': 190}, user_attrs={}, system_attrs={}, intermediate_values={}, distributions={'seed': IntDistribution(high=10000, log=False, low=1, step=1)}, trial_id=64862, value=None),\n",
       " FrozenTrial(number=111, state=TrialState.COMPLETE, values=[0.5769230769230769, 0.0], datetime_start=datetime.datetime(2023, 5, 3, 9, 8, 24, 272054), datetime_complete=datetime.datetime(2023, 5, 3, 9, 8, 26, 567371), params={'seed': 718}, user_attrs={}, system_attrs={}, intermediate_values={}, distributions={'seed': IntDistribution(high=10000, log=False, low=1, step=1)}, trial_id=64863, value=None),\n",
       " FrozenTrial(number=112, state=TrialState.COMPLETE, values=[0.7361111111111112, 0.0], datetime_start=datetime.datetime(2023, 5, 3, 9, 8, 24, 390067), datetime_complete=datetime.datetime(2023, 5, 3, 9, 8, 26, 50726), params={'seed': 413}, user_attrs={}, system_attrs={}, intermediate_values={}, distributions={'seed': IntDistribution(high=10000, log=False, low=1, step=1)}, trial_id=64864, value=None),\n",
       " FrozenTrial(number=113, state=TrialState.COMPLETE, values=[0.7884615384615384, 0.0], datetime_start=datetime.datetime(2023, 5, 3, 9, 8, 24, 440924), datetime_complete=datetime.datetime(2023, 5, 3, 9, 8, 26, 499884), params={'seed': 2345}, user_attrs={}, system_attrs={}, intermediate_values={}, distributions={'seed': IntDistribution(high=10000, log=False, low=1, step=1)}, trial_id=64865, value=None),\n",
       " FrozenTrial(number=114, state=TrialState.COMPLETE, values=[0.8461538461538461, 0.09599851071834564], datetime_start=datetime.datetime(2023, 5, 3, 9, 8, 24, 939491), datetime_complete=datetime.datetime(2023, 5, 3, 9, 8, 27, 69740), params={'seed': 2343}, user_attrs={}, system_attrs={}, intermediate_values={}, distributions={'seed': IntDistribution(high=10000, log=False, low=1, step=1)}, trial_id=64866, value=None),\n",
       " FrozenTrial(number=115, state=TrialState.COMPLETE, values=[0.5555555555555556, 0.1645095944404602], datetime_start=datetime.datetime(2023, 5, 3, 9, 8, 25, 398323), datetime_complete=datetime.datetime(2023, 5, 3, 9, 8, 26, 774641), params={'seed': 2364}, user_attrs={}, system_attrs={}, intermediate_values={}, distributions={'seed': IntDistribution(high=10000, log=False, low=1, step=1)}, trial_id=64867, value=None),\n",
       " FrozenTrial(number=116, state=TrialState.COMPLETE, values=[0.8888888888888888, 0.0], datetime_start=datetime.datetime(2023, 5, 3, 9, 8, 25, 522784), datetime_complete=datetime.datetime(2023, 5, 3, 9, 8, 27, 152605), params={'seed': 2431}, user_attrs={}, system_attrs={}, intermediate_values={}, distributions={'seed': IntDistribution(high=10000, log=False, low=1, step=1)}, trial_id=64868, value=None),\n",
       " FrozenTrial(number=117, state=TrialState.COMPLETE, values=[0.576923076923077, 0.0], datetime_start=datetime.datetime(2023, 5, 3, 9, 8, 25, 607446), datetime_complete=datetime.datetime(2023, 5, 3, 9, 8, 27, 879442), params={'seed': 4791}, user_attrs={}, system_attrs={}, intermediate_values={}, distributions={'seed': IntDistribution(high=10000, log=False, low=1, step=1)}, trial_id=64869, value=None),\n",
       " FrozenTrial(number=118, state=TrialState.COMPLETE, values=[0.7777777777777778, 0.0], datetime_start=datetime.datetime(2023, 5, 3, 9, 8, 25, 656352), datetime_complete=datetime.datetime(2023, 5, 3, 9, 8, 27, 504071), params={'seed': 599}, user_attrs={}, system_attrs={}, intermediate_values={}, distributions={'seed': IntDistribution(high=10000, log=False, low=1, step=1)}, trial_id=64870, value=None),\n",
       " FrozenTrial(number=119, state=TrialState.COMPLETE, values=[0.5769230769230769, 0.0], datetime_start=datetime.datetime(2023, 5, 3, 9, 8, 25, 796715), datetime_complete=datetime.datetime(2023, 5, 3, 9, 8, 27, 985013), params={'seed': 4713}, user_attrs={}, system_attrs={}, intermediate_values={}, distributions={'seed': IntDistribution(high=10000, log=False, low=1, step=1)}, trial_id=64871, value=None),\n",
       " FrozenTrial(number=120, state=TrialState.COMPLETE, values=[0.4444444444444444, 0.06703901290893555], datetime_start=datetime.datetime(2023, 5, 3, 9, 8, 25, 834715), datetime_complete=datetime.datetime(2023, 5, 3, 9, 8, 27, 650140), params={'seed': 1629}, user_attrs={}, system_attrs={}, intermediate_values={}, distributions={'seed': IntDistribution(high=10000, log=False, low=1, step=1)}, trial_id=64872, value=None),\n",
       " FrozenTrial(number=121, state=TrialState.COMPLETE, values=[0.9615384615384616, 0.0], datetime_start=datetime.datetime(2023, 5, 3, 9, 8, 26, 77038), datetime_complete=datetime.datetime(2023, 5, 3, 9, 8, 28, 162245), params={'seed': 4750}, user_attrs={}, system_attrs={}, intermediate_values={}, distributions={'seed': IntDistribution(high=10000, log=False, low=1, step=1)}, trial_id=64873, value=None),\n",
       " FrozenTrial(number=122, state=TrialState.COMPLETE, values=[0.11538461538461536, 0.0], datetime_start=datetime.datetime(2023, 5, 3, 9, 8, 26, 143707), datetime_complete=datetime.datetime(2023, 5, 3, 9, 8, 28, 136114), params={'seed': 1661}, user_attrs={}, system_attrs={}, intermediate_values={}, distributions={'seed': IntDistribution(high=10000, log=False, low=1, step=1)}, trial_id=64874, value=None),\n",
       " FrozenTrial(number=123, state=TrialState.COMPLETE, values=[0.7638888888888888, 0.1280006766319275], datetime_start=datetime.datetime(2023, 5, 3, 9, 8, 26, 144293), datetime_complete=datetime.datetime(2023, 5, 3, 9, 8, 28, 220611), params={'seed': 4647}, user_attrs={}, system_attrs={}, intermediate_values={}, distributions={'seed': IntDistribution(high=10000, log=False, low=1, step=1)}, trial_id=64875, value=None),\n",
       " FrozenTrial(number=124, state=TrialState.COMPLETE, values=[0.7307692307692307, 0.0], datetime_start=datetime.datetime(2023, 5, 3, 9, 8, 26, 452727), datetime_complete=datetime.datetime(2023, 5, 3, 9, 8, 28, 431669), params={'seed': 4695}, user_attrs={}, system_attrs={}, intermediate_values={}, distributions={'seed': IntDistribution(high=10000, log=False, low=1, step=1)}, trial_id=64876, value=None),\n",
       " FrozenTrial(number=125, state=TrialState.COMPLETE, values=[0.888888888888889, 0.0], datetime_start=datetime.datetime(2023, 5, 3, 9, 8, 26, 544740), datetime_complete=datetime.datetime(2023, 5, 3, 9, 8, 28, 341056), params={'seed': 4894}, user_attrs={}, system_attrs={}, intermediate_values={}, distributions={'seed': IntDistribution(high=10000, log=False, low=1, step=1)}, trial_id=64877, value=None),\n",
       " FrozenTrial(number=126, state=TrialState.COMPLETE, values=[0.5, 0.030470645055174828], datetime_start=datetime.datetime(2023, 5, 3, 9, 8, 26, 590907), datetime_complete=datetime.datetime(2023, 5, 3, 9, 8, 28, 841361), params={'seed': 4799}, user_attrs={}, system_attrs={}, intermediate_values={}, distributions={'seed': IntDistribution(high=10000, log=False, low=1, step=1)}, trial_id=64878, value=None),\n",
       " FrozenTrial(number=127, state=TrialState.COMPLETE, values=[0.75, 0.2078661322593689], datetime_start=datetime.datetime(2023, 5, 3, 9, 8, 26, 591420), datetime_complete=datetime.datetime(2023, 5, 3, 9, 8, 28, 531726), params={'seed': 1591}, user_attrs={}, system_attrs={}, intermediate_values={}, distributions={'seed': IntDistribution(high=10000, log=False, low=1, step=1)}, trial_id=64879, value=None),\n",
       " FrozenTrial(number=128, state=TrialState.COMPLETE, values=[0.7307692307692307, 0.0], datetime_start=datetime.datetime(2023, 5, 3, 9, 8, 27, 92357), datetime_complete=datetime.datetime(2023, 5, 3, 9, 8, 28, 977671), params={'seed': 1349}, user_attrs={}, system_attrs={}, intermediate_values={}, distributions={'seed': IntDistribution(high=10000, log=False, low=1, step=1)}, trial_id=64880, value=None),\n",
       " FrozenTrial(number=129, state=TrialState.COMPLETE, values=[0.6944444444444444, 0.28617241978645325], datetime_start=datetime.datetime(2023, 5, 3, 9, 8, 27, 92926), datetime_complete=datetime.datetime(2023, 5, 3, 9, 8, 29, 33064), params={'seed': 1340}, user_attrs={}, system_attrs={}, intermediate_values={}, distributions={'seed': IntDistribution(high=10000, log=False, low=1, step=1)}, trial_id=64881, value=None),\n",
       " FrozenTrial(number=130, state=TrialState.COMPLETE, values=[0.5, 0.19718976318836212], datetime_start=datetime.datetime(2023, 5, 3, 9, 8, 27, 425915), datetime_complete=datetime.datetime(2023, 5, 3, 9, 8, 29, 174287), params={'seed': 1344}, user_attrs={}, system_attrs={}, intermediate_values={}, distributions={'seed': IntDistribution(high=10000, log=False, low=1, step=1)}, trial_id=64882, value=None),\n",
       " FrozenTrial(number=131, state=TrialState.COMPLETE, values=[0.5576923076923077, 0.0], datetime_start=datetime.datetime(2023, 5, 3, 9, 8, 27, 814644), datetime_complete=datetime.datetime(2023, 5, 3, 9, 8, 30, 79640), params={'seed': 5286}, user_attrs={}, system_attrs={}, intermediate_values={}, distributions={'seed': IntDistribution(high=10000, log=False, low=1, step=1)}, trial_id=64883, value=None),\n",
       " FrozenTrial(number=132, state=TrialState.COMPLETE, values=[0.6923076923076923, 0.0], datetime_start=datetime.datetime(2023, 5, 3, 9, 8, 27, 959263), datetime_complete=datetime.datetime(2023, 5, 3, 9, 8, 29, 799907), params={'seed': 1347}, user_attrs={}, system_attrs={}, intermediate_values={}, distributions={'seed': IntDistribution(high=10000, log=False, low=1, step=1)}, trial_id=64884, value=None),\n",
       " FrozenTrial(number=133, state=TrialState.COMPLETE, values=[0.8194444444444444, 0.0], datetime_start=datetime.datetime(2023, 5, 3, 9, 8, 28, 197369), datetime_complete=datetime.datetime(2023, 5, 3, 9, 8, 30, 118397), params={'seed': 860}, user_attrs={}, system_attrs={}, intermediate_values={}, distributions={'seed': IntDistribution(high=10000, log=False, low=1, step=1)}, trial_id=64885, value=None),\n",
       " FrozenTrial(number=134, state=TrialState.COMPLETE, values=[0.8846153846153846, 0.0], datetime_start=datetime.datetime(2023, 5, 3, 9, 8, 28, 310120), datetime_complete=datetime.datetime(2023, 5, 3, 9, 8, 30, 518583), params={'seed': 1381}, user_attrs={}, system_attrs={}, intermediate_values={}, distributions={'seed': IntDistribution(high=10000, log=False, low=1, step=1)}, trial_id=64886, value=None),\n",
       " FrozenTrial(number=135, state=TrialState.COMPLETE, values=[0.8846153846153846, 0.12235139310359955], datetime_start=datetime.datetime(2023, 5, 3, 9, 8, 28, 399045), datetime_complete=datetime.datetime(2023, 5, 3, 9, 8, 30, 154840), params={'seed': 848}, user_attrs={}, system_attrs={}, intermediate_values={}, distributions={'seed': IntDistribution(high=10000, log=False, low=1, step=1)}, trial_id=64887, value=None),\n",
       " FrozenTrial(number=136, state=TrialState.COMPLETE, values=[0.888888888888889, 0.0], datetime_start=datetime.datetime(2023, 5, 3, 9, 8, 28, 479661), datetime_complete=datetime.datetime(2023, 5, 3, 9, 8, 30, 439213), params={'seed': 778}, user_attrs={}, system_attrs={}, intermediate_values={}, distributions={'seed': IntDistribution(high=10000, log=False, low=1, step=1)}, trial_id=64888, value=None),\n",
       " FrozenTrial(number=137, state=TrialState.COMPLETE, values=[0.5833333333333334, 0.0], datetime_start=datetime.datetime(2023, 5, 3, 9, 8, 28, 629759), datetime_complete=datetime.datetime(2023, 5, 3, 9, 8, 30, 874145), params={'seed': 855}, user_attrs={}, system_attrs={}, intermediate_values={}, distributions={'seed': IntDistribution(high=10000, log=False, low=1, step=1)}, trial_id=64889, value=None),\n",
       " FrozenTrial(number=138, state=TrialState.COMPLETE, values=[0.7692307692307692, 0.0], datetime_start=datetime.datetime(2023, 5, 3, 9, 8, 28, 777131), datetime_complete=datetime.datetime(2023, 5, 3, 9, 8, 30, 823976), params={'seed': 5327}, user_attrs={}, system_attrs={}, intermediate_values={}, distributions={'seed': IntDistribution(high=10000, log=False, low=1, step=1)}, trial_id=64890, value=None),\n",
       " FrozenTrial(number=139, state=TrialState.COMPLETE, values=[0.6923076923076923, 0.0], datetime_start=datetime.datetime(2023, 5, 3, 9, 8, 28, 818737), datetime_complete=datetime.datetime(2023, 5, 3, 9, 8, 30, 767417), params={'seed': 3572}, user_attrs={}, system_attrs={}, intermediate_values={}, distributions={'seed': IntDistribution(high=10000, log=False, low=1, step=1)}, trial_id=64891, value=None),\n",
       " FrozenTrial(number=140, state=TrialState.COMPLETE, values=[0.6666666666666666, 0.0], datetime_start=datetime.datetime(2023, 5, 3, 9, 8, 28, 910445), datetime_complete=datetime.datetime(2023, 5, 3, 9, 8, 30, 920025), params={'seed': 5335}, user_attrs={}, system_attrs={}, intermediate_values={}, distributions={'seed': IntDistribution(high=10000, log=False, low=1, step=1)}, trial_id=64892, value=None),\n",
       " FrozenTrial(number=141, state=TrialState.COMPLETE, values=[0.9230769230769231, 0.056579314172267914], datetime_start=datetime.datetime(2023, 5, 3, 9, 8, 28, 954197), datetime_complete=datetime.datetime(2023, 5, 3, 9, 8, 31, 63906), params={'seed': 900}, user_attrs={}, system_attrs={}, intermediate_values={}, distributions={'seed': IntDistribution(high=10000, log=False, low=1, step=1)}, trial_id=64893, value=None),\n",
       " FrozenTrial(number=142, state=TrialState.COMPLETE, values=[0.42307692307692313, 0.0], datetime_start=datetime.datetime(2023, 5, 3, 9, 8, 29, 2404), datetime_complete=datetime.datetime(2023, 5, 3, 9, 8, 31, 235275), params={'seed': 1715}, user_attrs={}, system_attrs={}, intermediate_values={}, distributions={'seed': IntDistribution(high=10000, log=False, low=1, step=1)}, trial_id=64894, value=None),\n",
       " FrozenTrial(number=143, state=TrialState.COMPLETE, values=[0.8611111111111112, 0.0], datetime_start=datetime.datetime(2023, 5, 3, 9, 8, 29, 244362), datetime_complete=datetime.datetime(2023, 5, 3, 9, 8, 31, 162745), params={'seed': 8045}, user_attrs={}, system_attrs={}, intermediate_values={}, distributions={'seed': IntDistribution(high=10000, log=False, low=1, step=1)}, trial_id=64895, value=None),\n",
       " FrozenTrial(number=144, state=TrialState.COMPLETE, values=[0.986111111111111, 0.0], datetime_start=datetime.datetime(2023, 5, 3, 9, 8, 29, 407866), datetime_complete=datetime.datetime(2023, 5, 3, 9, 8, 31, 508262), params={'seed': 3564}, user_attrs={}, system_attrs={}, intermediate_values={}, distributions={'seed': IntDistribution(high=10000, log=False, low=1, step=1)}, trial_id=64896, value=None),\n",
       " FrozenTrial(number=145, state=TrialState.COMPLETE, values=[0.8055555555555555, 0.0989348515868187], datetime_start=datetime.datetime(2023, 5, 3, 9, 8, 29, 877609), datetime_complete=datetime.datetime(2023, 5, 3, 9, 8, 31, 762460), params={'seed': 5935}, user_attrs={}, system_attrs={}, intermediate_values={}, distributions={'seed': IntDistribution(high=10000, log=False, low=1, step=1)}, trial_id=64897, value=None),\n",
       " FrozenTrial(number=146, state=TrialState.COMPLETE, values=[0.9615384615384616, 0.08974280953407288], datetime_start=datetime.datetime(2023, 5, 3, 9, 8, 30, 38248), datetime_complete=datetime.datetime(2023, 5, 3, 9, 8, 31, 957140), params={'seed': 8536}, user_attrs={}, system_attrs={}, intermediate_values={}, distributions={'seed': IntDistribution(high=10000, log=False, low=1, step=1)}, trial_id=64898, value=None),\n",
       " FrozenTrial(number=147, state=TrialState.COMPLETE, values=[0.75, 0.12326803803443909], datetime_start=datetime.datetime(2023, 5, 3, 9, 8, 30, 397619), datetime_complete=datetime.datetime(2023, 5, 3, 9, 8, 32, 379737), params={'seed': 5946}, user_attrs={}, system_attrs={}, intermediate_values={}, distributions={'seed': IntDistribution(high=10000, log=False, low=1, step=1)}, trial_id=64899, value=None),\n",
       " FrozenTrial(number=148, state=TrialState.COMPLETE, values=[0.9444444444444444, 0.0], datetime_start=datetime.datetime(2023, 5, 3, 9, 8, 30, 470464), datetime_complete=datetime.datetime(2023, 5, 3, 9, 8, 32, 990281), params={'seed': 8574}, user_attrs={}, system_attrs={}, intermediate_values={}, distributions={'seed': IntDistribution(high=10000, log=False, low=1, step=1)}, trial_id=64900, value=None),\n",
       " FrozenTrial(number=149, state=TrialState.COMPLETE, values=[0.5277777777777778, 0.0], datetime_start=datetime.datetime(2023, 5, 3, 9, 8, 30, 634974), datetime_complete=datetime.datetime(2023, 5, 3, 9, 8, 32, 795078), params={'seed': 5999}, user_attrs={}, system_attrs={}, intermediate_values={}, distributions={'seed': IntDistribution(high=10000, log=False, low=1, step=1)}, trial_id=64901, value=None),\n",
       " FrozenTrial(number=150, state=TrialState.COMPLETE, values=[0.8846153846153847, 0.0], datetime_start=datetime.datetime(2023, 5, 3, 9, 8, 30, 795392), datetime_complete=datetime.datetime(2023, 5, 3, 9, 8, 32, 873842), params={'seed': 5773}, user_attrs={}, system_attrs={}, intermediate_values={}, distributions={'seed': IntDistribution(high=10000, log=False, low=1, step=1)}, trial_id=64902, value=None),\n",
       " FrozenTrial(number=151, state=TrialState.COMPLETE, values=[0.8461538461538461, 0.09203451871871948], datetime_start=datetime.datetime(2023, 5, 3, 9, 8, 31, 32332), datetime_complete=datetime.datetime(2023, 5, 3, 9, 8, 32, 484735), params={'seed': 5819}, user_attrs={}, system_attrs={}, intermediate_values={}, distributions={'seed': IntDistribution(high=10000, log=False, low=1, step=1)}, trial_id=64903, value=None),\n",
       " FrozenTrial(number=152, state=TrialState.COMPLETE, values=[0.611111111111111, 0.11416824907064438], datetime_start=datetime.datetime(2023, 5, 3, 9, 8, 31, 93868), datetime_complete=datetime.datetime(2023, 5, 3, 9, 8, 32, 732160), params={'seed': 4278}, user_attrs={}, system_attrs={}, intermediate_values={}, distributions={'seed': IntDistribution(high=10000, log=False, low=1, step=1)}, trial_id=64904, value=None),\n",
       " FrozenTrial(number=153, state=TrialState.COMPLETE, values=[0.9230769230769231, 0.12891556322574615], datetime_start=datetime.datetime(2023, 5, 3, 9, 8, 31, 257967), datetime_complete=datetime.datetime(2023, 5, 3, 9, 8, 33, 207340), params={'seed': 9383}, user_attrs={}, system_attrs={}, intermediate_values={}, distributions={'seed': IntDistribution(high=10000, log=False, low=1, step=1)}, trial_id=64905, value=None),\n",
       " FrozenTrial(number=154, state=TrialState.COMPLETE, values=[0.75, 0.0], datetime_start=datetime.datetime(2023, 5, 3, 9, 8, 31, 257354), datetime_complete=datetime.datetime(2023, 5, 3, 9, 8, 33, 169778), params={'seed': 9607}, user_attrs={}, system_attrs={}, intermediate_values={}, distributions={'seed': IntDistribution(high=10000, log=False, low=1, step=1)}, trial_id=64906, value=None),\n",
       " FrozenTrial(number=155, state=TrialState.COMPLETE, values=[0.7777777777777779, 0.10494353622198105], datetime_start=datetime.datetime(2023, 5, 3, 9, 8, 31, 381057), datetime_complete=datetime.datetime(2023, 5, 3, 9, 8, 33, 535813), params={'seed': 8455}, user_attrs={}, system_attrs={}, intermediate_values={}, distributions={'seed': IntDistribution(high=10000, log=False, low=1, step=1)}, trial_id=64907, value=None),\n",
       " FrozenTrial(number=156, state=TrialState.COMPLETE, values=[0.8461538461538461, 0.0], datetime_start=datetime.datetime(2023, 5, 3, 9, 8, 31, 257008), datetime_complete=datetime.datetime(2023, 5, 3, 9, 8, 33, 423440), params={'seed': 1252}, user_attrs={}, system_attrs={}, intermediate_values={}, distributions={'seed': IntDistribution(high=10000, log=False, low=1, step=1)}, trial_id=64908, value=None),\n",
       " FrozenTrial(number=157, state=TrialState.COMPLETE, values=[0.5277777777777778, 0.10393653064966202], datetime_start=datetime.datetime(2023, 5, 3, 9, 8, 31, 475099), datetime_complete=datetime.datetime(2023, 5, 3, 9, 8, 33, 698361), params={'seed': 7341}, user_attrs={}, system_attrs={}, intermediate_values={}, distributions={'seed': IntDistribution(high=10000, log=False, low=1, step=1)}, trial_id=64909, value=None),\n",
       " FrozenTrial(number=158, state=TrialState.COMPLETE, values=[0.75, 0.0], datetime_start=datetime.datetime(2023, 5, 3, 9, 8, 31, 608080), datetime_complete=datetime.datetime(2023, 5, 3, 9, 8, 33, 856655), params={'seed': 1256}, user_attrs={}, system_attrs={}, intermediate_values={}, distributions={'seed': IntDistribution(high=10000, log=False, low=1, step=1)}, trial_id=64910, value=None),\n",
       " FrozenTrial(number=159, state=TrialState.COMPLETE, values=[0.8846153846153846, 0.0], datetime_start=datetime.datetime(2023, 5, 3, 9, 8, 31, 258962), datetime_complete=datetime.datetime(2023, 5, 3, 9, 8, 33, 831532), params={'seed': 7337}, user_attrs={}, system_attrs={}, intermediate_values={}, distributions={'seed': IntDistribution(high=10000, log=False, low=1, step=1)}, trial_id=64911, value=None),\n",
       " FrozenTrial(number=160, state=TrialState.COMPLETE, values=[1.0, 0.0], datetime_start=datetime.datetime(2023, 5, 3, 9, 8, 32, 200194), datetime_complete=datetime.datetime(2023, 5, 3, 9, 8, 34, 74890), params={'seed': 537}, user_attrs={}, system_attrs={}, intermediate_values={}, distributions={'seed': IntDistribution(high=10000, log=False, low=1, step=1)}, trial_id=64912, value=None),\n",
       " FrozenTrial(number=161, state=TrialState.COMPLETE, values=[0.8611111111111112, 0.0], datetime_start=datetime.datetime(2023, 5, 3, 9, 8, 32, 542568), datetime_complete=datetime.datetime(2023, 5, 3, 9, 8, 34, 553273), params={'seed': 2133}, user_attrs={}, system_attrs={}, intermediate_values={}, distributions={'seed': IntDistribution(high=10000, log=False, low=1, step=1)}, trial_id=64913, value=None),\n",
       " FrozenTrial(number=162, state=TrialState.COMPLETE, values=[0.4230769230769231, 0.0], datetime_start=datetime.datetime(2023, 5, 3, 9, 8, 32, 769375), datetime_complete=datetime.datetime(2023, 5, 3, 9, 8, 35, 184859), params={'seed': 1521}, user_attrs={}, system_attrs={}, intermediate_values={}, distributions={'seed': IntDistribution(high=10000, log=False, low=1, step=1)}, trial_id=64914, value=None),\n",
       " FrozenTrial(number=163, state=TrialState.COMPLETE, values=[0.6153846153846154, 0.0], datetime_start=datetime.datetime(2023, 5, 3, 9, 8, 33, 22598), datetime_complete=datetime.datetime(2023, 5, 3, 9, 8, 34, 465448), params={'seed': 1835}, user_attrs={}, system_attrs={}, intermediate_values={}, distributions={'seed': IntDistribution(high=10000, log=False, low=1, step=1)}, trial_id=64915, value=None),\n",
       " FrozenTrial(number=164, state=TrialState.COMPLETE, values=[0.6249999999999999, 0.08679226040840149], datetime_start=datetime.datetime(2023, 5, 3, 9, 8, 33, 133807), datetime_complete=datetime.datetime(2023, 5, 3, 9, 8, 35, 286047), params={'seed': 1572}, user_attrs={}, system_attrs={}, intermediate_values={}, distributions={'seed': IntDistribution(high=10000, log=False, low=1, step=1)}, trial_id=64916, value=None),\n",
       " FrozenTrial(number=165, state=TrialState.COMPLETE, values=[0.5384615384615384, 0.0], datetime_start=datetime.datetime(2023, 5, 3, 9, 8, 33, 291103), datetime_complete=datetime.datetime(2023, 5, 3, 9, 8, 35, 121031), params={'seed': 546}, user_attrs={}, system_attrs={}, intermediate_values={}, distributions={'seed': IntDistribution(high=10000, log=False, low=1, step=1)}, trial_id=64917, value=None),\n",
       " FrozenTrial(number=166, state=TrialState.COMPLETE, values=[0.4444444444444444, 0.25497788190841675], datetime_start=datetime.datetime(2023, 5, 3, 9, 8, 33, 365696), datetime_complete=datetime.datetime(2023, 5, 3, 9, 8, 35, 737512), params={'seed': 1765}, user_attrs={}, system_attrs={}, intermediate_values={}, distributions={'seed': IntDistribution(high=10000, log=False, low=1, step=1)}, trial_id=64918, value=None),\n",
       " FrozenTrial(number=167, state=TrialState.COMPLETE, values=[0.8076923076923077, 0.0], datetime_start=datetime.datetime(2023, 5, 3, 9, 8, 33, 495357), datetime_complete=datetime.datetime(2023, 5, 3, 9, 8, 35, 494769), params={'seed': 1388}, user_attrs={}, system_attrs={}, intermediate_values={}, distributions={'seed': IntDistribution(high=10000, log=False, low=1, step=1)}, trial_id=64919, value=None),\n",
       " FrozenTrial(number=168, state=TrialState.COMPLETE, values=[0.8076923076923077, 0.13044047355651855], datetime_start=datetime.datetime(2023, 5, 3, 9, 8, 33, 584406), datetime_complete=datetime.datetime(2023, 5, 3, 9, 8, 35, 710940), params={'seed': 1524}, user_attrs={}, system_attrs={}, intermediate_values={}, distributions={'seed': IntDistribution(high=10000, log=False, low=1, step=1)}, trial_id=64920, value=None),\n",
       " FrozenTrial(number=169, state=TrialState.COMPLETE, values=[0.8611111111111112, 0.0], datetime_start=datetime.datetime(2023, 5, 3, 9, 8, 33, 587166), datetime_complete=datetime.datetime(2023, 5, 3, 9, 8, 35, 638075), params={'seed': 1511}, user_attrs={}, system_attrs={}, intermediate_values={}, distributions={'seed': IntDistribution(high=10000, log=False, low=1, step=1)}, trial_id=64921, value=None),\n",
       " FrozenTrial(number=170, state=TrialState.COMPLETE, values=[0.9166666666666666, 0.0], datetime_start=datetime.datetime(2023, 5, 3, 9, 8, 33, 637530), datetime_complete=datetime.datetime(2023, 5, 3, 9, 8, 35, 435631), params={'seed': 1494}, user_attrs={}, system_attrs={}, intermediate_values={}, distributions={'seed': IntDistribution(high=10000, log=False, low=1, step=1)}, trial_id=64922, value=None),\n",
       " FrozenTrial(number=171, state=TrialState.COMPLETE, values=[0.7692307692307693, 0.0], datetime_start=datetime.datetime(2023, 5, 3, 9, 8, 33, 925038), datetime_complete=datetime.datetime(2023, 5, 3, 9, 8, 36, 53561), params={'seed': 1520}, user_attrs={}, system_attrs={}, intermediate_values={}, distributions={'seed': IntDistribution(high=10000, log=False, low=1, step=1)}, trial_id=64923, value=None),\n",
       " FrozenTrial(number=172, state=TrialState.COMPLETE, values=[0.8333333333333333, 0.0], datetime_start=datetime.datetime(2023, 5, 3, 9, 8, 34, 33927), datetime_complete=datetime.datetime(2023, 5, 3, 9, 8, 36, 276180), params={'seed': 9254}, user_attrs={}, system_attrs={}, intermediate_values={}, distributions={'seed': IntDistribution(high=10000, log=False, low=1, step=1)}, trial_id=64924, value=None),\n",
       " FrozenTrial(number=173, state=TrialState.COMPLETE, values=[0.5555555555555556, 0.0], datetime_start=datetime.datetime(2023, 5, 3, 9, 8, 34, 260538), datetime_complete=datetime.datetime(2023, 5, 3, 9, 8, 36, 542538), params={'seed': 1132}, user_attrs={}, system_attrs={}, intermediate_values={}, distributions={'seed': IntDistribution(high=10000, log=False, low=1, step=1)}, trial_id=64925, value=None),\n",
       " FrozenTrial(number=174, state=TrialState.COMPLETE, values=[0.5769230769230769, 0.05613289773464203], datetime_start=datetime.datetime(2023, 5, 3, 9, 8, 34, 493984), datetime_complete=datetime.datetime(2023, 5, 3, 9, 8, 36, 242290), params={'seed': 1124}, user_attrs={}, system_attrs={}, intermediate_values={}, distributions={'seed': IntDistribution(high=10000, log=False, low=1, step=1)}, trial_id=64926, value=None),\n",
       " FrozenTrial(number=175, state=TrialState.COMPLETE, values=[0.75, 0.0], datetime_start=datetime.datetime(2023, 5, 3, 9, 8, 34, 493366), datetime_complete=datetime.datetime(2023, 5, 3, 9, 8, 36, 657340), params={'seed': 9289}, user_attrs={}, system_attrs={}, intermediate_values={}, distributions={'seed': IntDistribution(high=10000, log=False, low=1, step=1)}, trial_id=64927, value=None),\n",
       " FrozenTrial(number=176, state=TrialState.COMPLETE, values=[0.9722222222222222, 0.0], datetime_start=datetime.datetime(2023, 5, 3, 9, 8, 34, 576494), datetime_complete=datetime.datetime(2023, 5, 3, 9, 8, 36, 678427), params={'seed': 9369}, user_attrs={}, system_attrs={}, intermediate_values={}, distributions={'seed': IntDistribution(high=10000, log=False, low=1, step=1)}, trial_id=64928, value=None),\n",
       " FrozenTrial(number=177, state=TrialState.COMPLETE, values=[0.7222222222222222, 0.05601240321993828], datetime_start=datetime.datetime(2023, 5, 3, 9, 8, 35, 312095), datetime_complete=datetime.datetime(2023, 5, 3, 9, 8, 37, 34052), params={'seed': 1056}, user_attrs={}, system_attrs={}, intermediate_values={}, distributions={'seed': IntDistribution(high=10000, log=False, low=1, step=1)}, trial_id=64929, value=None),\n",
       " FrozenTrial(number=178, state=TrialState.COMPLETE, values=[0.9230769230769231, 0.21118196845054626], datetime_start=datetime.datetime(2023, 5, 3, 9, 8, 35, 319610), datetime_complete=datetime.datetime(2023, 5, 3, 9, 8, 37, 283599), params={'seed': 1138}, user_attrs={}, system_attrs={}, intermediate_values={}, distributions={'seed': IntDistribution(high=10000, log=False, low=1, step=1)}, trial_id=64930, value=None),\n",
       " FrozenTrial(number=179, state=TrialState.COMPLETE, values=[0.5384615384615384, 0.10889077186584473], datetime_start=datetime.datetime(2023, 5, 3, 9, 8, 35, 576482), datetime_complete=datetime.datetime(2023, 5, 3, 9, 8, 37, 744027), params={'seed': 971}, user_attrs={}, system_attrs={}, intermediate_values={}, distributions={'seed': IntDistribution(high=10000, log=False, low=1, step=1)}, trial_id=64931, value=None),\n",
       " FrozenTrial(number=180, state=TrialState.COMPLETE, values=[0.9615384615384616, 0.27958470582962036], datetime_start=datetime.datetime(2023, 5, 3, 9, 8, 35, 577158), datetime_complete=datetime.datetime(2023, 5, 3, 9, 8, 37, 335280), params={'seed': 8002}, user_attrs={}, system_attrs={}, intermediate_values={}, distributions={'seed': IntDistribution(high=10000, log=False, low=1, step=1)}, trial_id=64932, value=None),\n",
       " FrozenTrial(number=181, state=TrialState.COMPLETE, values=[0.9230769230769231, 0.08213284611701965], datetime_start=datetime.datetime(2023, 5, 3, 9, 8, 35, 771566), datetime_complete=datetime.datetime(2023, 5, 3, 9, 8, 37, 900835), params={'seed': 1010}, user_attrs={}, system_attrs={}, intermediate_values={}, distributions={'seed': IntDistribution(high=10000, log=False, low=1, step=1)}, trial_id=64933, value=None),\n",
       " FrozenTrial(number=182, state=TrialState.COMPLETE, values=[0.8055555555555556, 0.040526535362005234], datetime_start=datetime.datetime(2023, 5, 3, 9, 8, 36, 26502), datetime_complete=datetime.datetime(2023, 5, 3, 9, 8, 37, 359311), params={'seed': 8054}, user_attrs={}, system_attrs={}, intermediate_values={}, distributions={'seed': IntDistribution(high=10000, log=False, low=1, step=1)}, trial_id=64934, value=None),\n",
       " FrozenTrial(number=183, state=TrialState.COMPLETE, values=[0.8846153846153846, 0.0], datetime_start=datetime.datetime(2023, 5, 3, 9, 8, 36, 199322), datetime_complete=datetime.datetime(2023, 5, 3, 9, 8, 38, 256858), params={'seed': 735}, user_attrs={}, system_attrs={}, intermediate_values={}, distributions={'seed': IntDistribution(high=10000, log=False, low=1, step=1)}, trial_id=64935, value=None),\n",
       " FrozenTrial(number=184, state=TrialState.COMPLETE, values=[0.7115384615384616, 0.0618065670132637], datetime_start=datetime.datetime(2023, 5, 3, 9, 8, 36, 295026), datetime_complete=datetime.datetime(2023, 5, 3, 9, 8, 38, 488112), params={'seed': 8033}, user_attrs={}, system_attrs={}, intermediate_values={}, distributions={'seed': IntDistribution(high=10000, log=False, low=1, step=1)}, trial_id=64936, value=None),\n",
       " FrozenTrial(number=185, state=TrialState.COMPLETE, values=[0.888888888888889, 0.0], datetime_start=datetime.datetime(2023, 5, 3, 9, 8, 36, 365111), datetime_complete=datetime.datetime(2023, 5, 3, 9, 8, 38, 154293), params={'seed': 8056}, user_attrs={}, system_attrs={}, intermediate_values={}, distributions={'seed': IntDistribution(high=10000, log=False, low=1, step=1)}, trial_id=64937, value=None),\n",
       " FrozenTrial(number=186, state=TrialState.COMPLETE, values=[0.923076923076923, 0.0], datetime_start=datetime.datetime(2023, 5, 3, 9, 8, 36, 462674), datetime_complete=datetime.datetime(2023, 5, 3, 9, 8, 38, 633459), params={'seed': 7746}, user_attrs={}, system_attrs={}, intermediate_values={}, distributions={'seed': IntDistribution(high=10000, log=False, low=1, step=1)}, trial_id=64938, value=None),\n",
       " FrozenTrial(number=187, state=TrialState.COMPLETE, values=[0.625, 0.22409957647323608], datetime_start=datetime.datetime(2023, 5, 3, 9, 8, 36, 594820), datetime_complete=datetime.datetime(2023, 5, 3, 9, 8, 38, 465974), params={'seed': 8062}, user_attrs={}, system_attrs={}, intermediate_values={}, distributions={'seed': IntDistribution(high=10000, log=False, low=1, step=1)}, trial_id=64939, value=None),\n",
       " FrozenTrial(number=188, state=TrialState.COMPLETE, values=[0.7777777777777779, 0.0], datetime_start=datetime.datetime(2023, 5, 3, 9, 8, 36, 595453), datetime_complete=datetime.datetime(2023, 5, 3, 9, 8, 38, 912977), params={'seed': 7847}, user_attrs={}, system_attrs={}, intermediate_values={}, distributions={'seed': IntDistribution(high=10000, log=False, low=1, step=1)}, trial_id=64940, value=None),\n",
       " FrozenTrial(number=189, state=TrialState.COMPLETE, values=[0.5833333333333334, 0.0], datetime_start=datetime.datetime(2023, 5, 3, 9, 8, 36, 829271), datetime_complete=datetime.datetime(2023, 5, 3, 9, 8, 38, 875448), params={'seed': 7629}, user_attrs={}, system_attrs={}, intermediate_values={}, distributions={'seed': IntDistribution(high=10000, log=False, low=1, step=1)}, trial_id=64941, value=None),\n",
       " FrozenTrial(number=190, state=TrialState.COMPLETE, values=[0.923076923076923, 0.0], datetime_start=datetime.datetime(2023, 5, 3, 9, 8, 37, 165173), datetime_complete=datetime.datetime(2023, 5, 3, 9, 8, 39, 332308), params={'seed': 6429}, user_attrs={}, system_attrs={}, intermediate_values={}, distributions={'seed': IntDistribution(high=10000, log=False, low=1, step=1)}, trial_id=64942, value=None),\n",
       " FrozenTrial(number=191, state=TrialState.COMPLETE, values=[0.75, 0.0873221680521965], datetime_start=datetime.datetime(2023, 5, 3, 9, 8, 37, 172067), datetime_complete=datetime.datetime(2023, 5, 3, 9, 8, 39, 375726), params={'seed': 7667}, user_attrs={}, system_attrs={}, intermediate_values={}, distributions={'seed': IntDistribution(high=10000, log=False, low=1, step=1)}, trial_id=64943, value=None),\n",
       " FrozenTrial(number=192, state=TrialState.COMPLETE, values=[0.6538461538461539, 0.0], datetime_start=datetime.datetime(2023, 5, 3, 9, 8, 37, 174373), datetime_complete=datetime.datetime(2023, 5, 3, 9, 8, 39, 12248), params={'seed': 6399}, user_attrs={}, system_attrs={}, intermediate_values={}, distributions={'seed': IntDistribution(high=10000, log=False, low=1, step=1)}, trial_id=64944, value=None),\n",
       " FrozenTrial(number=193, state=TrialState.COMPLETE, values=[0.7638888888888888, 0.09322477132081985], datetime_start=datetime.datetime(2023, 5, 3, 9, 8, 37, 572308), datetime_complete=datetime.datetime(2023, 5, 3, 9, 8, 39, 487518), params={'seed': 2899}, user_attrs={}, system_attrs={}, intermediate_values={}, distributions={'seed': IntDistribution(high=10000, log=False, low=1, step=1)}, trial_id=64945, value=None),\n",
       " FrozenTrial(number=194, state=TrialState.COMPLETE, values=[0.7638888888888888, 0.0], datetime_start=datetime.datetime(2023, 5, 3, 9, 8, 37, 964632), datetime_complete=datetime.datetime(2023, 5, 3, 9, 8, 40, 183634), params={'seed': 8615}, user_attrs={}, system_attrs={}, intermediate_values={}, distributions={'seed': IntDistribution(high=10000, log=False, low=1, step=1)}, trial_id=64946, value=None),\n",
       " FrozenTrial(number=195, state=TrialState.COMPLETE, values=[0.6944444444444444, 0.03970055282115936], datetime_start=datetime.datetime(2023, 5, 3, 9, 8, 38, 62255), datetime_complete=datetime.datetime(2023, 5, 3, 9, 8, 39, 888411), params={'seed': 8631}, user_attrs={}, system_attrs={}, intermediate_values={}, distributions={'seed': IntDistribution(high=10000, log=False, low=1, step=1)}, trial_id=64947, value=None),\n",
       " FrozenTrial(number=196, state=TrialState.COMPLETE, values=[0.75, 0.0], datetime_start=datetime.datetime(2023, 5, 3, 9, 8, 38, 131144), datetime_complete=datetime.datetime(2023, 5, 3, 9, 8, 40, 685723), params={'seed': 1273}, user_attrs={}, system_attrs={}, intermediate_values={}, distributions={'seed': IntDistribution(high=10000, log=False, low=1, step=1)}, trial_id=64948, value=None),\n",
       " FrozenTrial(number=197, state=TrialState.COMPLETE, values=[0.7307692307692307, 0.0550592839717865], datetime_start=datetime.datetime(2023, 5, 3, 9, 8, 38, 343135), datetime_complete=datetime.datetime(2023, 5, 3, 9, 8, 40, 225162), params={'seed': 2920}, user_attrs={}, system_attrs={}, intermediate_values={}, distributions={'seed': IntDistribution(high=10000, log=False, low=1, step=1)}, trial_id=64949, value=None),\n",
       " FrozenTrial(number=198, state=TrialState.COMPLETE, values=[0.5138888888888888, 0.0], datetime_start=datetime.datetime(2023, 5, 3, 9, 8, 38, 440479), datetime_complete=datetime.datetime(2023, 5, 3, 9, 8, 40, 294782), params={'seed': 576}, user_attrs={}, system_attrs={}, intermediate_values={}, distributions={'seed': IntDistribution(high=10000, log=False, low=1, step=1)}, trial_id=64950, value=None),\n",
       " FrozenTrial(number=199, state=TrialState.COMPLETE, values=[0.9230769230769231, 0.02825872413814068], datetime_start=datetime.datetime(2023, 5, 3, 9, 8, 38, 606667), datetime_complete=datetime.datetime(2023, 5, 3, 9, 8, 40, 265845), params={'seed': 633}, user_attrs={}, system_attrs={}, intermediate_values={}, distributions={'seed': IntDistribution(high=10000, log=False, low=1, step=1)}, trial_id=64951, value=None),\n",
       " FrozenTrial(number=200, state=TrialState.COMPLETE, values=[0.7222222222222222, 0.0], datetime_start=datetime.datetime(2023, 5, 3, 9, 8, 38, 952162), datetime_complete=datetime.datetime(2023, 5, 3, 9, 8, 41, 327836), params={'seed': 1221}, user_attrs={}, system_attrs={}, intermediate_values={}, distributions={'seed': IntDistribution(high=10000, log=False, low=1, step=1)}, trial_id=64952, value=None),\n",
       " FrozenTrial(number=201, state=TrialState.COMPLETE, values=[0.6538461538461539, 0.0], datetime_start=datetime.datetime(2023, 5, 3, 9, 8, 38, 970617), datetime_complete=datetime.datetime(2023, 5, 3, 9, 8, 40, 651534), params={'seed': 573}, user_attrs={}, system_attrs={}, intermediate_values={}, distributions={'seed': IntDistribution(high=10000, log=False, low=1, step=1)}, trial_id=64953, value=None),\n",
       " FrozenTrial(number=202, state=TrialState.COMPLETE, values=[0.8055555555555556, 0.0], datetime_start=datetime.datetime(2023, 5, 3, 9, 8, 38, 969222), datetime_complete=datetime.datetime(2023, 5, 3, 9, 8, 40, 629827), params={'seed': 601}, user_attrs={}, system_attrs={}, intermediate_values={}, distributions={'seed': IntDistribution(high=10000, log=False, low=1, step=1)}, trial_id=64954, value=None),\n",
       " FrozenTrial(number=203, state=TrialState.COMPLETE, values=[0.7777777777777778, 0.0], datetime_start=datetime.datetime(2023, 5, 3, 9, 8, 39, 137381), datetime_complete=datetime.datetime(2023, 5, 3, 9, 8, 41, 233901), params={'seed': 621}, user_attrs={}, system_attrs={}, intermediate_values={}, distributions={'seed': IntDistribution(high=10000, log=False, low=1, step=1)}, trial_id=64955, value=None),\n",
       " FrozenTrial(number=204, state=TrialState.COMPLETE, values=[0.6944444444444444, 0.0], datetime_start=datetime.datetime(2023, 5, 3, 9, 8, 39, 174699), datetime_complete=datetime.datetime(2023, 5, 3, 9, 8, 41, 371239), params={'seed': 583}, user_attrs={}, system_attrs={}, intermediate_values={}, distributions={'seed': IntDistribution(high=10000, log=False, low=1, step=1)}, trial_id=64956, value=None),\n",
       " FrozenTrial(number=205, state=TrialState.COMPLETE, values=[0.5, 0.0], datetime_start=datetime.datetime(2023, 5, 3, 9, 8, 39, 412831), datetime_complete=datetime.datetime(2023, 5, 3, 9, 8, 41, 574460), params={'seed': 7019}, user_attrs={}, system_attrs={}, intermediate_values={}, distributions={'seed': IntDistribution(high=10000, log=False, low=1, step=1)}, trial_id=64957, value=None),\n",
       " FrozenTrial(number=206, state=TrialState.COMPLETE, values=[0.7638888888888888, 0.05253705382347107], datetime_start=datetime.datetime(2023, 5, 3, 9, 8, 39, 767507), datetime_complete=datetime.datetime(2023, 5, 3, 9, 8, 42, 604430), params={'seed': 7036}, user_attrs={}, system_attrs={}, intermediate_values={}, distributions={'seed': IntDistribution(high=10000, log=False, low=1, step=1)}, trial_id=64958, value=None),\n",
       " FrozenTrial(number=207, state=TrialState.COMPLETE, values=[0.7222222222222221, 0.0], datetime_start=datetime.datetime(2023, 5, 3, 9, 8, 40, 27653), datetime_complete=datetime.datetime(2023, 5, 3, 9, 8, 41, 845906), params={'seed': 9843}, user_attrs={}, system_attrs={}, intermediate_values={}, distributions={'seed': IntDistribution(high=10000, log=False, low=1, step=1)}, trial_id=64959, value=None),\n",
       " FrozenTrial(number=208, state=TrialState.COMPLETE, values=[0.9615384615384616, 0.0], datetime_start=datetime.datetime(2023, 5, 3, 9, 8, 40, 106317), datetime_complete=datetime.datetime(2023, 5, 3, 9, 8, 42, 42852), params={'seed': 6912}, user_attrs={}, system_attrs={}, intermediate_values={}, distributions={'seed': IntDistribution(high=10000, log=False, low=1, step=1)}, trial_id=64960, value=None),\n",
       " FrozenTrial(number=209, state=TrialState.COMPLETE, values=[0.46153846153846156, 0.0], datetime_start=datetime.datetime(2023, 5, 3, 9, 8, 40, 113650), datetime_complete=datetime.datetime(2023, 5, 3, 9, 8, 41, 548439), params={'seed': 6898}, user_attrs={}, system_attrs={}, intermediate_values={}, distributions={'seed': IntDistribution(high=10000, log=False, low=1, step=1)}, trial_id=64961, value=None),\n",
       " FrozenTrial(number=210, state=TrialState.COMPLETE, values=[0.8846153846153846, 0.05562335252761841], datetime_start=datetime.datetime(2023, 5, 3, 9, 8, 40, 472995), datetime_complete=datetime.datetime(2023, 5, 3, 9, 8, 42, 575263), params={'seed': 1810}, user_attrs={}, system_attrs={}, intermediate_values={}, distributions={'seed': IntDistribution(high=10000, log=False, low=1, step=1)}, trial_id=64962, value=None),\n",
       " FrozenTrial(number=211, state=TrialState.COMPLETE, values=[0.7307692307692307, 0.0], datetime_start=datetime.datetime(2023, 5, 3, 9, 8, 40, 605400), datetime_complete=datetime.datetime(2023, 5, 3, 9, 8, 42, 690439), params={'seed': 1994}, user_attrs={}, system_attrs={}, intermediate_values={}, distributions={'seed': IntDistribution(high=10000, log=False, low=1, step=1)}, trial_id=64963, value=None),\n",
       " FrozenTrial(number=212, state=TrialState.COMPLETE, values=[0.9722222222222222, 0.0], datetime_start=datetime.datetime(2023, 5, 3, 9, 8, 40, 770358), datetime_complete=datetime.datetime(2023, 5, 3, 9, 8, 42, 760106), params={'seed': 8315}, user_attrs={}, system_attrs={}, intermediate_values={}, distributions={'seed': IntDistribution(high=10000, log=False, low=1, step=1)}, trial_id=64964, value=None),\n",
       " FrozenTrial(number=213, state=TrialState.COMPLETE, values=[0.7692307692307692, 0.041744478046894073], datetime_start=datetime.datetime(2023, 5, 3, 9, 8, 40, 916671), datetime_complete=datetime.datetime(2023, 5, 3, 9, 8, 43, 465640), params={'seed': 2032}, user_attrs={}, system_attrs={}, intermediate_values={}, distributions={'seed': IntDistribution(high=10000, log=False, low=1, step=1)}, trial_id=64965, value=None),\n",
       " FrozenTrial(number=214, state=TrialState.COMPLETE, values=[0.5833333333333334, 0.0], datetime_start=datetime.datetime(2023, 5, 3, 9, 8, 41, 201643), datetime_complete=datetime.datetime(2023, 5, 3, 9, 8, 42, 940654), params={'seed': 1272}, user_attrs={}, system_attrs={}, intermediate_values={}, distributions={'seed': IntDistribution(high=10000, log=False, low=1, step=1)}, trial_id=64966, value=None),\n",
       " FrozenTrial(number=215, state=TrialState.COMPLETE, values=[0.7307692307692307, 0.0], datetime_start=datetime.datetime(2023, 5, 3, 9, 8, 41, 264926), datetime_complete=datetime.datetime(2023, 5, 3, 9, 8, 43, 444973), params={'seed': 1994}, user_attrs={}, system_attrs={}, intermediate_values={}, distributions={'seed': IntDistribution(high=10000, log=False, low=1, step=1)}, trial_id=64967, value=None),\n",
       " FrozenTrial(number=216, state=TrialState.COMPLETE, values=[0.846153846153846, 0.0], datetime_start=datetime.datetime(2023, 5, 3, 9, 8, 41, 263850), datetime_complete=datetime.datetime(2023, 5, 3, 9, 8, 43, 493743), params={'seed': 1737}, user_attrs={}, system_attrs={}, intermediate_values={}, distributions={'seed': IntDistribution(high=10000, log=False, low=1, step=1)}, trial_id=64968, value=None),\n",
       " FrozenTrial(number=217, state=TrialState.COMPLETE, values=[0.5277777777777778, 0.0], datetime_start=datetime.datetime(2023, 5, 3, 9, 8, 41, 348962), datetime_complete=datetime.datetime(2023, 5, 3, 9, 8, 43, 200791), params={'seed': 1957}, user_attrs={}, system_attrs={}, intermediate_values={}, distributions={'seed': IntDistribution(high=10000, log=False, low=1, step=1)}, trial_id=64969, value=None),\n",
       " FrozenTrial(number=218, state=TrialState.COMPLETE, values=[0.888888888888889, 0.18809466063976288], datetime_start=datetime.datetime(2023, 5, 3, 9, 8, 41, 679060), datetime_complete=datetime.datetime(2023, 5, 3, 9, 8, 43, 896076), params={'seed': 1306}, user_attrs={}, system_attrs={}, intermediate_values={}, distributions={'seed': IntDistribution(high=10000, log=False, low=1, step=1)}, trial_id=64970, value=None),\n",
       " FrozenTrial(number=219, state=TrialState.COMPLETE, values=[0.5555555555555556, 0.0], datetime_start=datetime.datetime(2023, 5, 3, 9, 8, 41, 775318), datetime_complete=datetime.datetime(2023, 5, 3, 9, 8, 43, 996930), params={'seed': 1294}, user_attrs={}, system_attrs={}, intermediate_values={}, distributions={'seed': IntDistribution(high=10000, log=False, low=1, step=1)}, trial_id=64971, value=None),\n",
       " FrozenTrial(number=220, state=TrialState.COMPLETE, values=[0.5555555555555556, 0.13885991275310516], datetime_start=datetime.datetime(2023, 5, 3, 9, 8, 41, 897940), datetime_complete=datetime.datetime(2023, 5, 3, 9, 8, 44, 185047), params={'seed': 1298}, user_attrs={}, system_attrs={}, intermediate_values={}, distributions={'seed': IntDistribution(high=10000, log=False, low=1, step=1)}, trial_id=64972, value=None),\n",
       " FrozenTrial(number=221, state=TrialState.COMPLETE, values=[1.0, 0.3688807189464569], datetime_start=datetime.datetime(2023, 5, 3, 9, 8, 42, 19550), datetime_complete=datetime.datetime(2023, 5, 3, 9, 8, 44, 204382), params={'seed': 4528}, user_attrs={}, system_attrs={}, intermediate_values={}, distributions={'seed': IntDistribution(high=10000, log=False, low=1, step=1)}, trial_id=64973, value=None),\n",
       " FrozenTrial(number=222, state=TrialState.COMPLETE, values=[0.5555555555555556, 0.0], datetime_start=datetime.datetime(2023, 5, 3, 9, 8, 42, 541868), datetime_complete=datetime.datetime(2023, 5, 3, 9, 8, 44, 24524), params={'seed': 1294}, user_attrs={}, system_attrs={}, intermediate_values={}, distributions={'seed': IntDistribution(high=10000, log=False, low=1, step=1)}, trial_id=64974, value=None),\n",
       " FrozenTrial(number=223, state=TrialState.COMPLETE, values=[0.8076923076923077, 0.0], datetime_start=datetime.datetime(2023, 5, 3, 9, 8, 42, 662637), datetime_complete=datetime.datetime(2023, 5, 3, 9, 8, 44, 359220), params={'seed': 1034}, user_attrs={}, system_attrs={}, intermediate_values={}, distributions={'seed': IntDistribution(high=10000, log=False, low=1, step=1)}, trial_id=64975, value=None),\n",
       " FrozenTrial(number=224, state=TrialState.COMPLETE, values=[0.611111111111111, 0.06436103582382202], datetime_start=datetime.datetime(2023, 5, 3, 9, 8, 42, 805200), datetime_complete=datetime.datetime(2023, 5, 3, 9, 8, 44, 759956), params={'seed': 4070}, user_attrs={}, system_attrs={}, intermediate_values={}, distributions={'seed': IntDistribution(high=10000, log=False, low=1, step=1)}, trial_id=64976, value=None),\n",
       " FrozenTrial(number=225, state=TrialState.COMPLETE, values=[0.8055555555555557, 0.0], datetime_start=datetime.datetime(2023, 5, 3, 9, 8, 42, 992257), datetime_complete=datetime.datetime(2023, 5, 3, 9, 8, 45, 214635), params={'seed': 4525}, user_attrs={}, system_attrs={}, intermediate_values={}, distributions={'seed': IntDistribution(high=10000, log=False, low=1, step=1)}, trial_id=64977, value=None),\n",
       " FrozenTrial(number=226, state=TrialState.COMPLETE, values=[0.888888888888889, 0.0], datetime_start=datetime.datetime(2023, 5, 3, 9, 8, 43, 2227), datetime_complete=datetime.datetime(2023, 5, 3, 9, 8, 45, 182832), params={'seed': 898}, user_attrs={}, system_attrs={}, intermediate_values={}, distributions={'seed': IntDistribution(high=10000, log=False, low=1, step=1)}, trial_id=64978, value=None),\n",
       " FrozenTrial(number=227, state=TrialState.COMPLETE, values=[0.6923076923076923, 0.0], datetime_start=datetime.datetime(2023, 5, 3, 9, 8, 43, 54223), datetime_complete=datetime.datetime(2023, 5, 3, 9, 8, 45, 583713), params={'seed': 4470}, user_attrs={}, system_attrs={}, intermediate_values={}, distributions={'seed': IntDistribution(high=10000, log=False, low=1, step=1)}, trial_id=64979, value=None),\n",
       " FrozenTrial(number=228, state=TrialState.COMPLETE, values=[0.5138888888888888, 0.1434994786977768], datetime_start=datetime.datetime(2023, 5, 3, 9, 8, 43, 522870), datetime_complete=datetime.datetime(2023, 5, 3, 9, 8, 45, 144283), params={'seed': 3826}, user_attrs={}, system_attrs={}, intermediate_values={}, distributions={'seed': IntDistribution(high=10000, log=False, low=1, step=1)}, trial_id=64980, value=None),\n",
       " FrozenTrial(number=229, state=TrialState.COMPLETE, values=[0.8611111111111112, 0.0], datetime_start=datetime.datetime(2023, 5, 3, 9, 8, 43, 625873), datetime_complete=datetime.datetime(2023, 5, 3, 9, 8, 46, 274493), params={'seed': 4521}, user_attrs={}, system_attrs={}, intermediate_values={}, distributions={'seed': IntDistribution(high=10000, log=False, low=1, step=1)}, trial_id=64981, value=None),\n",
       " FrozenTrial(number=230, state=TrialState.COMPLETE, values=[0.46153846153846156, 0.0], datetime_start=datetime.datetime(2023, 5, 3, 9, 8, 43, 953835), datetime_complete=datetime.datetime(2023, 5, 3, 9, 8, 45, 524118), params={'seed': 4127}, user_attrs={}, system_attrs={}, intermediate_values={}, distributions={'seed': IntDistribution(high=10000, log=False, low=1, step=1)}, trial_id=64982, value=None),\n",
       " FrozenTrial(number=231, state=TrialState.COMPLETE, values=[0.5833333333333333, 0.0], datetime_start=datetime.datetime(2023, 5, 3, 9, 8, 44, 98349), datetime_complete=datetime.datetime(2023, 5, 3, 9, 8, 46, 57580), params={'seed': 2584}, user_attrs={}, system_attrs={}, intermediate_values={}, distributions={'seed': IntDistribution(high=10000, log=False, low=1, step=1)}, trial_id=64983, value=None),\n",
       " FrozenTrial(number=232, state=TrialState.COMPLETE, values=[0.4722222222222222, 0.0], datetime_start=datetime.datetime(2023, 5, 3, 9, 8, 44, 98953), datetime_complete=datetime.datetime(2023, 5, 3, 9, 8, 45, 865266), params={'seed': 4420}, user_attrs={}, system_attrs={}, intermediate_values={}, distributions={'seed': IntDistribution(high=10000, log=False, low=1, step=1)}, trial_id=64984, value=None),\n",
       " FrozenTrial(number=233, state=TrialState.COMPLETE, values=[0.8846153846153846, 0.0], datetime_start=datetime.datetime(2023, 5, 3, 9, 8, 44, 100177), datetime_complete=datetime.datetime(2023, 5, 3, 9, 8, 46, 206500), params={'seed': 3519}, user_attrs={}, system_attrs={}, intermediate_values={}, distributions={'seed': IntDistribution(high=10000, log=False, low=1, step=1)}, trial_id=64985, value=None),\n",
       " FrozenTrial(number=234, state=TrialState.COMPLETE, values=[0.9615384615384616, 0.1468386948108673], datetime_start=datetime.datetime(2023, 5, 3, 9, 8, 44, 233507), datetime_complete=datetime.datetime(2023, 5, 3, 9, 8, 46, 353002), params={'seed': 4456}, user_attrs={}, system_attrs={}, intermediate_values={}, distributions={'seed': IntDistribution(high=10000, log=False, low=1, step=1)}, trial_id=64986, value=None),\n",
       " FrozenTrial(number=235, state=TrialState.COMPLETE, values=[0.6111111111111112, 0.0], datetime_start=datetime.datetime(2023, 5, 3, 9, 8, 44, 279633), datetime_complete=datetime.datetime(2023, 5, 3, 9, 8, 47, 138998), params={'seed': 3170}, user_attrs={}, system_attrs={}, intermediate_values={}, distributions={'seed': IntDistribution(high=10000, log=False, low=1, step=1)}, trial_id=64987, value=None),\n",
       " FrozenTrial(number=236, state=TrialState.COMPLETE, values=[0.8333333333333334, 0.0], datetime_start=datetime.datetime(2023, 5, 3, 9, 8, 44, 317514), datetime_complete=datetime.datetime(2023, 5, 3, 9, 8, 46, 299597), params={'seed': 6224}, user_attrs={}, system_attrs={}, intermediate_values={}, distributions={'seed': IntDistribution(high=10000, log=False, low=1, step=1)}, trial_id=64988, value=None),\n",
       " FrozenTrial(number=237, state=TrialState.COMPLETE, values=[0.8846153846153846, 0.0], datetime_start=datetime.datetime(2023, 5, 3, 9, 8, 44, 454672), datetime_complete=datetime.datetime(2023, 5, 3, 9, 8, 46, 965663), params={'seed': 3674}, user_attrs={}, system_attrs={}, intermediate_values={}, distributions={'seed': IntDistribution(high=10000, log=False, low=1, step=1)}, trial_id=64989, value=None),\n",
       " FrozenTrial(number=238, state=TrialState.COMPLETE, values=[0.4444444444444444, 0.0], datetime_start=datetime.datetime(2023, 5, 3, 9, 8, 44, 921802), datetime_complete=datetime.datetime(2023, 5, 3, 9, 8, 46, 850964), params={'seed': 5592}, user_attrs={}, system_attrs={}, intermediate_values={}, distributions={'seed': IntDistribution(high=10000, log=False, low=1, step=1)}, trial_id=64990, value=None),\n",
       " FrozenTrial(number=239, state=TrialState.COMPLETE, values=[0.6805555555555556, 0.0], datetime_start=datetime.datetime(2023, 5, 3, 9, 8, 45, 45398), datetime_complete=datetime.datetime(2023, 5, 3, 9, 8, 47, 119748), params={'seed': 3190}, user_attrs={}, system_attrs={}, intermediate_values={}, distributions={'seed': IntDistribution(high=10000, log=False, low=1, step=1)}, trial_id=64991, value=None),\n",
       " FrozenTrial(number=240, state=TrialState.COMPLETE, values=[0.5555555555555556, 0.0], datetime_start=datetime.datetime(2023, 5, 3, 9, 8, 45, 495347), datetime_complete=datetime.datetime(2023, 5, 3, 9, 8, 47, 353697), params={'seed': 878}, user_attrs={}, system_attrs={}, intermediate_values={}, distributions={'seed': IntDistribution(high=10000, log=False, low=1, step=1)}, trial_id=64992, value=None),\n",
       " FrozenTrial(number=241, state=TrialState.COMPLETE, values=[0.8076923076923077, 0.08393745869398117], datetime_start=datetime.datetime(2023, 5, 3, 9, 8, 45, 805393), datetime_complete=datetime.datetime(2023, 5, 3, 9, 8, 47, 602063), params={'seed': 5028}, user_attrs={}, system_attrs={}, intermediate_values={}, distributions={'seed': IntDistribution(high=10000, log=False, low=1, step=1)}, trial_id=64993, value=None),\n",
       " FrozenTrial(number=242, state=TrialState.COMPLETE, values=[0.6527777777777777, 0.0], datetime_start=datetime.datetime(2023, 5, 3, 9, 8, 45, 805005), datetime_complete=datetime.datetime(2023, 5, 3, 9, 8, 47, 406968), params={'seed': 4151}, user_attrs={}, system_attrs={}, intermediate_values={}, distributions={'seed': IntDistribution(high=10000, log=False, low=1, step=1)}, trial_id=64994, value=None),\n",
       " FrozenTrial(number=243, state=TrialState.COMPLETE, values=[0.5384615384615384, 0.0], datetime_start=datetime.datetime(2023, 5, 3, 9, 8, 45, 942421), datetime_complete=datetime.datetime(2023, 5, 3, 9, 8, 47, 846499), params={'seed': 4322}, user_attrs={}, system_attrs={}, intermediate_values={}, distributions={'seed': IntDistribution(high=10000, log=False, low=1, step=1)}, trial_id=64995, value=None),\n",
       " FrozenTrial(number=244, state=TrialState.COMPLETE, values=[0.6153846153846154, 0.0], datetime_start=datetime.datetime(2023, 5, 3, 9, 8, 45, 980582), datetime_complete=datetime.datetime(2023, 5, 3, 9, 8, 47, 795935), params={'seed': 5115}, user_attrs={}, system_attrs={}, intermediate_values={}, distributions={'seed': IntDistribution(high=10000, log=False, low=1, step=1)}, trial_id=64996, value=None),\n",
       " FrozenTrial(number=245, state=TrialState.COMPLETE, values=[0.5384615384615384, 0.0], datetime_start=datetime.datetime(2023, 5, 3, 9, 8, 46, 178230), datetime_complete=datetime.datetime(2023, 5, 3, 9, 8, 48, 125173), params={'seed': 1090}, user_attrs={}, system_attrs={}, intermediate_values={}, distributions={'seed': IntDistribution(high=10000, log=False, low=1, step=1)}, trial_id=64997, value=None),\n",
       " FrozenTrial(number=246, state=TrialState.COMPLETE, values=[0.5277777777777778, 0.12375543266534805], datetime_start=datetime.datetime(2023, 5, 3, 9, 8, 46, 431913), datetime_complete=datetime.datetime(2023, 5, 3, 9, 8, 48, 774742), params={'seed': 1160}, user_attrs={}, system_attrs={}, intermediate_values={}, distributions={'seed': IntDistribution(high=10000, log=False, low=1, step=1)}, trial_id=64998, value=None),\n",
       " FrozenTrial(number=247, state=TrialState.COMPLETE, values=[0.7307692307692307, 0.049959734082221985], datetime_start=datetime.datetime(2023, 5, 3, 9, 8, 46, 905302), datetime_complete=datetime.datetime(2023, 5, 3, 9, 8, 49, 62999), params={'seed': 1044}, user_attrs={}, system_attrs={}, intermediate_values={}, distributions={'seed': IntDistribution(high=10000, log=False, low=1, step=1)}, trial_id=64999, value=None),\n",
       " FrozenTrial(number=248, state=TrialState.COMPLETE, values=[0.6538461538461539, 0.0], datetime_start=datetime.datetime(2023, 5, 3, 9, 8, 46, 907706), datetime_complete=datetime.datetime(2023, 5, 3, 9, 8, 48, 881960), params={'seed': 4933}, user_attrs={}, system_attrs={}, intermediate_values={}, distributions={'seed': IntDistribution(high=10000, log=False, low=1, step=1)}, trial_id=65000, value=None),\n",
       " FrozenTrial(number=249, state=TrialState.COMPLETE, values=[0.6944444444444444, 0.0], datetime_start=datetime.datetime(2023, 5, 3, 9, 8, 46, 989155), datetime_complete=datetime.datetime(2023, 5, 3, 9, 8, 48, 984820), params={'seed': 1109}, user_attrs={}, system_attrs={}, intermediate_values={}, distributions={'seed': IntDistribution(high=10000, log=False, low=1, step=1)}, trial_id=65001, value=None),\n",
       " FrozenTrial(number=250, state=TrialState.COMPLETE, values=[0.7222222222222222, 0.0], datetime_start=datetime.datetime(2023, 5, 3, 9, 8, 47, 81824), datetime_complete=datetime.datetime(2023, 5, 3, 9, 8, 48, 952507), params={'seed': 5067}, user_attrs={}, system_attrs={}, intermediate_values={}, distributions={'seed': IntDistribution(high=10000, log=False, low=1, step=1)}, trial_id=65002, value=None),\n",
       " FrozenTrial(number=251, state=TrialState.COMPLETE, values=[0.9230769230769231, 0.0], datetime_start=datetime.datetime(2023, 5, 3, 9, 8, 46, 993047), datetime_complete=datetime.datetime(2023, 5, 3, 9, 8, 49, 266834), params={'seed': 1430}, user_attrs={}, system_attrs={}, intermediate_values={}, distributions={'seed': IntDistribution(high=10000, log=False, low=1, step=1)}, trial_id=65003, value=None),\n",
       " FrozenTrial(number=252, state=TrialState.COMPLETE, values=[0.5, 0.0], datetime_start=datetime.datetime(2023, 5, 3, 9, 8, 47, 341361), datetime_complete=datetime.datetime(2023, 5, 3, 9, 8, 49, 286817), params={'seed': 1119}, user_attrs={}, system_attrs={}, intermediate_values={}, distributions={'seed': IntDistribution(high=10000, log=False, low=1, step=1)}, trial_id=65004, value=None),\n",
       " FrozenTrial(number=253, state=TrialState.COMPLETE, values=[0.6153846153846154, 0.0], datetime_start=datetime.datetime(2023, 5, 3, 9, 8, 47, 448557), datetime_complete=datetime.datetime(2023, 5, 3, 9, 8, 49, 646099), params={'seed': 1498}, user_attrs={}, system_attrs={}, intermediate_values={}, distributions={'seed': IntDistribution(high=10000, log=False, low=1, step=1)}, trial_id=65005, value=None),\n",
       " FrozenTrial(number=254, state=TrialState.COMPLETE, values=[0.6944444444444444, 0.12234974652528763], datetime_start=datetime.datetime(2023, 5, 3, 9, 8, 47, 493737), datetime_complete=datetime.datetime(2023, 5, 3, 9, 8, 49, 767028), params={'seed': 1504}, user_attrs={}, system_attrs={}, intermediate_values={}, distributions={'seed': IntDistribution(high=10000, log=False, low=1, step=1)}, trial_id=65006, value=None),\n",
       " FrozenTrial(number=255, state=TrialState.COMPLETE, values=[0.5576923076923077, 0.0], datetime_start=datetime.datetime(2023, 5, 3, 9, 8, 47, 640174), datetime_complete=datetime.datetime(2023, 5, 3, 9, 8, 50, 253237), params={'seed': 1459}, user_attrs={}, system_attrs={}, intermediate_values={}, distributions={'seed': IntDistribution(high=10000, log=False, low=1, step=1)}, trial_id=65007, value=None),\n",
       " FrozenTrial(number=256, state=TrialState.COMPLETE, values=[0.75, 0.3297715187072754], datetime_start=datetime.datetime(2023, 5, 3, 9, 8, 47, 904172), datetime_complete=datetime.datetime(2023, 5, 3, 9, 8, 50, 466327), params={'seed': 1458}, user_attrs={}, system_attrs={}, intermediate_values={}, distributions={'seed': IntDistribution(high=10000, log=False, low=1, step=1)}, trial_id=65008, value=None),\n",
       " FrozenTrial(number=257, state=TrialState.COMPLETE, values=[0.8846153846153846, 0.0], datetime_start=datetime.datetime(2023, 5, 3, 9, 8, 48, 218683), datetime_complete=datetime.datetime(2023, 5, 3, 9, 8, 50, 228819), params={'seed': 1480}, user_attrs={}, system_attrs={}, intermediate_values={}, distributions={'seed': IntDistribution(high=10000, log=False, low=1, step=1)}, trial_id=65009, value=None),\n",
       " FrozenTrial(number=258, state=TrialState.COMPLETE, values=[0.861111111111111, 0.1979048252105713], datetime_start=datetime.datetime(2023, 5, 3, 9, 8, 48, 499846), datetime_complete=datetime.datetime(2023, 5, 3, 9, 8, 51, 144208), params={'seed': 3934}, user_attrs={}, system_attrs={}, intermediate_values={}, distributions={'seed': IntDistribution(high=10000, log=False, low=1, step=1)}, trial_id=65010, value=None),\n",
       " FrozenTrial(number=259, state=TrialState.COMPLETE, values=[0.6923076923076923, 0.33837130665779114], datetime_start=datetime.datetime(2023, 5, 3, 9, 8, 48, 714002), datetime_complete=datetime.datetime(2023, 5, 3, 9, 8, 50, 688255), params={'seed': 1566}, user_attrs={}, system_attrs={}, intermediate_values={}, distributions={'seed': IntDistribution(high=10000, log=False, low=1, step=1)}, trial_id=65011, value=None),\n",
       " FrozenTrial(number=260, state=TrialState.COMPLETE, values=[0.9444444444444444, 0.08832386881113052], datetime_start=datetime.datetime(2023, 5, 3, 9, 8, 48, 716243), datetime_complete=datetime.datetime(2023, 5, 3, 9, 8, 50, 491940), params={'seed': 1592}, user_attrs={}, system_attrs={}, intermediate_values={}, distributions={'seed': IntDistribution(high=10000, log=False, low=1, step=1)}, trial_id=65012, value=None),\n",
       " FrozenTrial(number=261, state=TrialState.COMPLETE, values=[0.6666666666666667, 0.0], datetime_start=datetime.datetime(2023, 5, 3, 9, 8, 48, 851464), datetime_complete=datetime.datetime(2023, 5, 3, 9, 8, 51, 240760), params={'seed': 4648}, user_attrs={}, system_attrs={}, intermediate_values={}, distributions={'seed': IntDistribution(high=10000, log=False, low=1, step=1)}, trial_id=65013, value=None),\n",
       " FrozenTrial(number=262, state=TrialState.COMPLETE, values=[0.7222222222222222, 0.0], datetime_start=datetime.datetime(2023, 5, 3, 9, 8, 49, 170444), datetime_complete=datetime.datetime(2023, 5, 3, 9, 8, 51, 307435), params={'seed': 792}, user_attrs={}, system_attrs={}, intermediate_values={}, distributions={'seed': IntDistribution(high=10000, log=False, low=1, step=1)}, trial_id=65014, value=None),\n",
       " FrozenTrial(number=263, state=TrialState.COMPLETE, values=[0.8055555555555556, 0.0], datetime_start=datetime.datetime(2023, 5, 3, 9, 8, 49, 323635), datetime_complete=datetime.datetime(2023, 5, 3, 9, 8, 51, 273316), params={'seed': 3956}, user_attrs={}, system_attrs={}, intermediate_values={}, distributions={'seed': IntDistribution(high=10000, log=False, low=1, step=1)}, trial_id=65015, value=None),\n",
       " FrozenTrial(number=264, state=TrialState.COMPLETE, values=[0.7777777777777778, 0.0], datetime_start=datetime.datetime(2023, 5, 3, 9, 8, 49, 360650), datetime_complete=datetime.datetime(2023, 5, 3, 9, 8, 51, 480850), params={'seed': 4265}, user_attrs={}, system_attrs={}, intermediate_values={}, distributions={'seed': IntDistribution(high=10000, log=False, low=1, step=1)}, trial_id=65016, value=None),\n",
       " FrozenTrial(number=265, state=TrialState.COMPLETE, values=[0.46153846153846156, 0.0], datetime_start=datetime.datetime(2023, 5, 3, 9, 8, 49, 481343), datetime_complete=datetime.datetime(2023, 5, 3, 9, 8, 51, 908970), params={'seed': 4669}, user_attrs={}, system_attrs={}, intermediate_values={}, distributions={'seed': IntDistribution(high=10000, log=False, low=1, step=1)}, trial_id=65017, value=None),\n",
       " FrozenTrial(number=266, state=TrialState.COMPLETE, values=[0.7307692307692307, 0.07491960376501083], datetime_start=datetime.datetime(2023, 5, 3, 9, 8, 49, 673537), datetime_complete=datetime.datetime(2023, 5, 3, 9, 8, 51, 633560), params={'seed': 3910}, user_attrs={}, system_attrs={}, intermediate_values={}, distributions={'seed': IntDistribution(high=10000, log=False, low=1, step=1)}, trial_id=65018, value=None),\n",
       " FrozenTrial(number=267, state=TrialState.COMPLETE, values=[0.861111111111111, 0.0], datetime_start=datetime.datetime(2023, 5, 3, 9, 8, 49, 991097), datetime_complete=datetime.datetime(2023, 5, 3, 9, 8, 52, 537373), params={'seed': 846}, user_attrs={}, system_attrs={}, intermediate_values={}, distributions={'seed': IntDistribution(high=10000, log=False, low=1, step=1)}, trial_id=65019, value=None),\n",
       " FrozenTrial(number=268, state=TrialState.COMPLETE, values=[0.846153846153846, 0.0], datetime_start=datetime.datetime(2023, 5, 3, 9, 8, 50, 109018), datetime_complete=datetime.datetime(2023, 5, 3, 9, 8, 52, 143133), params={'seed': 4689}, user_attrs={}, system_attrs={}, intermediate_values={}, distributions={'seed': IntDistribution(high=10000, log=False, low=1, step=1)}, trial_id=65020, value=None),\n",
       " FrozenTrial(number=269, state=TrialState.COMPLETE, values=[0.7307692307692308, 0.0], datetime_start=datetime.datetime(2023, 5, 3, 9, 8, 50, 280638), datetime_complete=datetime.datetime(2023, 5, 3, 9, 8, 52, 171948), params={'seed': 5303}, user_attrs={}, system_attrs={}, intermediate_values={}, distributions={'seed': IntDistribution(high=10000, log=False, low=1, step=1)}, trial_id=65021, value=None),\n",
       " FrozenTrial(number=270, state=TrialState.COMPLETE, values=[0.46153846153846156, 0.17115101218223572], datetime_start=datetime.datetime(2023, 5, 3, 9, 8, 50, 438539), datetime_complete=datetime.datetime(2023, 5, 3, 9, 8, 53, 116781), params={'seed': 9981}, user_attrs={}, system_attrs={}, intermediate_values={}, distributions={'seed': IntDistribution(high=10000, log=False, low=1, step=1)}, trial_id=65022, value=None),\n",
       " FrozenTrial(number=271, state=TrialState.COMPLETE, values=[1.0, 0.06335218995809555], datetime_start=datetime.datetime(2023, 5, 3, 9, 8, 51, 80950), datetime_complete=datetime.datetime(2023, 5, 3, 9, 8, 53, 720116), params={'seed': 1275}, user_attrs={}, system_attrs={}, intermediate_values={}, distributions={'seed': IntDistribution(high=10000, log=False, low=1, step=1)}, trial_id=65023, value=None),\n",
       " FrozenTrial(number=272, state=TrialState.COMPLETE, values=[0.6538461538461539, 0.0], datetime_start=datetime.datetime(2023, 5, 3, 9, 8, 51, 83484), datetime_complete=datetime.datetime(2023, 5, 3, 9, 8, 52, 359705), params={'seed': 931}, user_attrs={}, system_attrs={}, intermediate_values={}, distributions={'seed': IntDistribution(high=10000, log=False, low=1, step=1)}, trial_id=65024, value=None),\n",
       " FrozenTrial(number=273, state=TrialState.COMPLETE, values=[0.8888888888888888, 0.21032612025737762], datetime_start=datetime.datetime(2023, 5, 3, 9, 8, 51, 173965), datetime_complete=datetime.datetime(2023, 5, 3, 9, 8, 53, 370978), params={'seed': 5408}, user_attrs={}, system_attrs={}, intermediate_values={}, distributions={'seed': IntDistribution(high=10000, log=False, low=1, step=1)}, trial_id=65025, value=None),\n",
       " FrozenTrial(number=274, state=TrialState.COMPLETE, values=[0.9615384615384616, 0.0], datetime_start=datetime.datetime(2023, 5, 3, 9, 8, 51, 173530), datetime_complete=datetime.datetime(2023, 5, 3, 9, 8, 53, 635484), params={'seed': 936}, user_attrs={}, system_attrs={}, intermediate_values={}, distributions={'seed': IntDistribution(high=10000, log=False, low=1, step=1)}, trial_id=65026, value=None),\n",
       " FrozenTrial(number=275, state=TrialState.COMPLETE, values=[0.8888888888888888, 0.0], datetime_start=datetime.datetime(2023, 5, 3, 9, 8, 51, 356109), datetime_complete=datetime.datetime(2023, 5, 3, 9, 8, 53, 679007), params={'seed': 7329}, user_attrs={}, system_attrs={}, intermediate_values={}, distributions={'seed': IntDistribution(high=10000, log=False, low=1, step=1)}, trial_id=65027, value=None),\n",
       " FrozenTrial(number=276, state=TrialState.COMPLETE, values=[0.4230769230769231, 0.0], datetime_start=datetime.datetime(2023, 5, 3, 9, 8, 51, 368136), datetime_complete=datetime.datetime(2023, 5, 3, 9, 8, 53, 555799), params={'seed': 9975}, user_attrs={}, system_attrs={}, intermediate_values={}, distributions={'seed': IntDistribution(high=10000, log=False, low=1, step=1)}, trial_id=65028, value=None),\n",
       " FrozenTrial(number=277, state=TrialState.COMPLETE, values=[0.5277777777777778, 0.0], datetime_start=datetime.datetime(2023, 5, 3, 9, 8, 51, 777546), datetime_complete=datetime.datetime(2023, 5, 3, 9, 8, 53, 742126), params={'seed': 1249}, user_attrs={}, system_attrs={}, intermediate_values={}, distributions={'seed': IntDistribution(high=10000, log=False, low=1, step=1)}, trial_id=65029, value=None),\n",
       " FrozenTrial(number=278, state=TrialState.COMPLETE, values=[0.6944444444444445, 0.0], datetime_start=datetime.datetime(2023, 5, 3, 9, 8, 51, 934226), datetime_complete=datetime.datetime(2023, 5, 3, 9, 8, 53, 762621), params={'seed': 1229}, user_attrs={}, system_attrs={}, intermediate_values={}, distributions={'seed': IntDistribution(high=10000, log=False, low=1, step=1)}, trial_id=65030, value=None),\n",
       " FrozenTrial(number=279, state=TrialState.COMPLETE, values=[0.8611111111111112, 0.0], datetime_start=datetime.datetime(2023, 5, 3, 9, 8, 52, 9616), datetime_complete=datetime.datetime(2023, 5, 3, 9, 8, 53, 870625), params={'seed': 7248}, user_attrs={}, system_attrs={}, intermediate_values={}, distributions={'seed': IntDistribution(high=10000, log=False, low=1, step=1)}, trial_id=65031, value=None),\n",
       " FrozenTrial(number=280, state=TrialState.COMPLETE, values=[0.8055555555555556, 0.0], datetime_start=datetime.datetime(2023, 5, 3, 9, 8, 52, 13170), datetime_complete=datetime.datetime(2023, 5, 3, 9, 8, 53, 907838), params={'seed': 9066}, user_attrs={}, system_attrs={}, intermediate_values={}, distributions={'seed': IntDistribution(high=10000, log=False, low=1, step=1)}, trial_id=65032, value=None),\n",
       " FrozenTrial(number=281, state=TrialState.COMPLETE, values=[0.6666666666666666, 0.19111959636211395], datetime_start=datetime.datetime(2023, 5, 3, 9, 8, 52, 308709), datetime_complete=datetime.datetime(2023, 5, 3, 9, 8, 54, 557115), params={'seed': 1241}, user_attrs={}, system_attrs={}, intermediate_values={}, distributions={'seed': IntDistribution(high=10000, log=False, low=1, step=1)}, trial_id=65033, value=None),\n",
       " FrozenTrial(number=282, state=TrialState.COMPLETE, values=[0.9444444444444445, 0.0], datetime_start=datetime.datetime(2023, 5, 3, 9, 8, 52, 631783), datetime_complete=datetime.datetime(2023, 5, 3, 9, 8, 55, 309635), params={'seed': 1721}, user_attrs={}, system_attrs={}, intermediate_values={}, distributions={'seed': IntDistribution(high=10000, log=False, low=1, step=1)}, trial_id=65034, value=None),\n",
       " FrozenTrial(number=283, state=TrialState.COMPLETE, values=[0.7692307692307692, 0.0], datetime_start=datetime.datetime(2023, 5, 3, 9, 8, 53, 69723), datetime_complete=datetime.datetime(2023, 5, 3, 9, 8, 54, 947424), params={'seed': 48}, user_attrs={}, system_attrs={}, intermediate_values={}, distributions={'seed': IntDistribution(high=10000, log=False, low=1, step=1)}, trial_id=65035, value=None),\n",
       " FrozenTrial(number=284, state=TrialState.COMPLETE, values=[0.6666666666666666, 0.0], datetime_start=datetime.datetime(2023, 5, 3, 9, 8, 53, 276608), datetime_complete=datetime.datetime(2023, 5, 3, 9, 8, 54, 839313), params={'seed': 23}, user_attrs={}, system_attrs={}, intermediate_values={}, distributions={'seed': IntDistribution(high=10000, log=False, low=1, step=1)}, trial_id=65036, value=None),\n",
       " FrozenTrial(number=285, state=TrialState.COMPLETE, values=[0.7307692307692307, 0.026417400687932968], datetime_start=datetime.datetime(2023, 5, 3, 9, 8, 53, 514688), datetime_complete=datetime.datetime(2023, 5, 3, 9, 8, 55, 728579), params={'seed': 1647}, user_attrs={}, system_attrs={}, intermediate_values={}, distributions={'seed': IntDistribution(high=10000, log=False, low=1, step=1)}, trial_id=65037, value=None),\n",
       " FrozenTrial(number=286, state=TrialState.COMPLETE, values=[0.9230769230769231, 0.004973609931766987], datetime_start=datetime.datetime(2023, 5, 3, 9, 8, 53, 586180), datetime_complete=datetime.datetime(2023, 5, 3, 9, 8, 55, 772022), params={'seed': 1724}, user_attrs={}, system_attrs={}, intermediate_values={}, distributions={'seed': IntDistribution(high=10000, log=False, low=1, step=1)}, trial_id=65038, value=None),\n",
       " FrozenTrial(number=287, state=TrialState.COMPLETE, values=[0.846153846153846, 0.0], datetime_start=datetime.datetime(2023, 5, 3, 9, 8, 53, 790688), datetime_complete=datetime.datetime(2023, 5, 3, 9, 8, 56, 11155), params={'seed': 1681}, user_attrs={}, system_attrs={}, intermediate_values={}, distributions={'seed': IntDistribution(high=10000, log=False, low=1, step=1)}, trial_id=65039, value=None),\n",
       " FrozenTrial(number=288, state=TrialState.COMPLETE, values=[0.9615384615384616, 0.0], datetime_start=datetime.datetime(2023, 5, 3, 9, 8, 53, 818957), datetime_complete=datetime.datetime(2023, 5, 3, 9, 8, 55, 809884), params={'seed': 1658}, user_attrs={}, system_attrs={}, intermediate_values={}, distributions={'seed': IntDistribution(high=10000, log=False, low=1, step=1)}, trial_id=65040, value=None),\n",
       " FrozenTrial(number=289, state=TrialState.COMPLETE, values=[0.875, 0.0], datetime_start=datetime.datetime(2023, 5, 3, 9, 8, 53, 989346), datetime_complete=datetime.datetime(2023, 5, 3, 9, 8, 56, 531033), params={'seed': 1689}, user_attrs={}, system_attrs={}, intermediate_values={}, distributions={'seed': IntDistribution(high=10000, log=False, low=1, step=1)}, trial_id=65041, value=None),\n",
       " FrozenTrial(number=290, state=TrialState.COMPLETE, values=[1.0, 0.0], datetime_start=datetime.datetime(2023, 5, 3, 9, 8, 54, 292998), datetime_complete=datetime.datetime(2023, 5, 3, 9, 8, 56, 465807), params={'seed': 5404}, user_attrs={}, system_attrs={}, intermediate_values={}, distributions={'seed': IntDistribution(high=10000, log=False, low=1, step=1)}, trial_id=65042, value=None),\n",
       " FrozenTrial(number=291, state=TrialState.COMPLETE, values=[0.4861111111111111, 0.0], datetime_start=datetime.datetime(2023, 5, 3, 9, 8, 54, 295846), datetime_complete=datetime.datetime(2023, 5, 3, 9, 8, 56, 660327), params={'seed': 4832}, user_attrs={}, system_attrs={}, intermediate_values={}, distributions={'seed': IntDistribution(high=10000, log=False, low=1, step=1)}, trial_id=65043, value=None),\n",
       " FrozenTrial(number=292, state=TrialState.COMPLETE, values=[0.6666666666666667, 0.0], datetime_start=datetime.datetime(2023, 5, 3, 9, 8, 54, 300188), datetime_complete=datetime.datetime(2023, 5, 3, 9, 8, 56, 264226), params={'seed': 1671}, user_attrs={}, system_attrs={}, intermediate_values={}, distributions={'seed': IntDistribution(high=10000, log=False, low=1, step=1)}, trial_id=65044, value=None),\n",
       " FrozenTrial(number=293, state=TrialState.COMPLETE, values=[0.5769230769230769, 0.0], datetime_start=datetime.datetime(2023, 5, 3, 9, 8, 54, 298000), datetime_complete=datetime.datetime(2023, 5, 3, 9, 8, 56, 952125), params={'seed': 1348}, user_attrs={}, system_attrs={}, intermediate_values={}, distributions={'seed': IntDistribution(high=10000, log=False, low=1, step=1)}, trial_id=65045, value=None),\n",
       " FrozenTrial(number=294, state=TrialState.COMPLETE, values=[0.8076923076923076, 0.22163045406341553], datetime_start=datetime.datetime(2023, 5, 3, 9, 8, 54, 299490), datetime_complete=datetime.datetime(2023, 5, 3, 9, 8, 56, 321253), params={'seed': 5485}, user_attrs={}, system_attrs={}, intermediate_values={}, distributions={'seed': IntDistribution(high=10000, log=False, low=1, step=1)}, trial_id=65046, value=None),\n",
       " FrozenTrial(number=295, state=TrialState.COMPLETE, values=[0.7500000000000001, 0.0], datetime_start=datetime.datetime(2023, 5, 3, 9, 8, 54, 507475), datetime_complete=datetime.datetime(2023, 5, 3, 9, 8, 56, 563400), params={'seed': 9657}, user_attrs={}, system_attrs={}, intermediate_values={}, distributions={'seed': IntDistribution(high=10000, log=False, low=1, step=1)}, trial_id=65047, value=None),\n",
       " FrozenTrial(number=296, state=TrialState.COMPLETE, values=[0.8333333333333334, 0.0], datetime_start=datetime.datetime(2023, 5, 3, 9, 8, 54, 628914), datetime_complete=datetime.datetime(2023, 5, 3, 9, 8, 57, 94711), params={'seed': 4865}, user_attrs={}, system_attrs={}, intermediate_values={}, distributions={'seed': IntDistribution(high=10000, log=False, low=1, step=1)}, trial_id=65048, value=None),\n",
       " FrozenTrial(number=297, state=TrialState.COMPLETE, values=[0.8076923076923077, 0.04372270032763481], datetime_start=datetime.datetime(2023, 5, 3, 9, 8, 55, 21685), datetime_complete=datetime.datetime(2023, 5, 3, 9, 8, 57, 74479), params={'seed': 1317}, user_attrs={}, system_attrs={}, intermediate_values={}, distributions={'seed': IntDistribution(high=10000, log=False, low=1, step=1)}, trial_id=65049, value=None),\n",
       " FrozenTrial(number=298, state=TrialState.COMPLETE, values=[0.9722222222222223, 0.0], datetime_start=datetime.datetime(2023, 5, 3, 9, 8, 55, 849255), datetime_complete=datetime.datetime(2023, 5, 3, 9, 8, 57, 366041), params={'seed': 4937}, user_attrs={}, system_attrs={}, intermediate_values={}, distributions={'seed': IntDistribution(high=10000, log=False, low=1, step=1)}, trial_id=65050, value=None),\n",
       " FrozenTrial(number=299, state=TrialState.COMPLETE, values=[0.5555555555555556, 0.0], datetime_start=datetime.datetime(2023, 5, 3, 9, 8, 55, 980239), datetime_complete=datetime.datetime(2023, 5, 3, 9, 8, 58, 407953), params={'seed': 4480}, user_attrs={}, system_attrs={}, intermediate_values={}, distributions={'seed': IntDistribution(high=10000, log=False, low=1, step=1)}, trial_id=65051, value=None),\n",
       " FrozenTrial(number=300, state=TrialState.COMPLETE, values=[0.7222222222222222, 0.13502967357635498], datetime_start=datetime.datetime(2023, 5, 3, 9, 8, 56, 293019), datetime_complete=datetime.datetime(2023, 5, 3, 9, 8, 57, 908837), params={'seed': 4391}, user_attrs={}, system_attrs={}, intermediate_values={}, distributions={'seed': IntDistribution(high=10000, log=False, low=1, step=1)}, trial_id=65052, value=None),\n",
       " FrozenTrial(number=301, state=TrialState.COMPLETE, values=[1.0, 0.0], datetime_start=datetime.datetime(2023, 5, 3, 9, 8, 56, 341877), datetime_complete=datetime.datetime(2023, 5, 3, 9, 8, 58, 130691), params={'seed': 1015}, user_attrs={}, system_attrs={}, intermediate_values={}, distributions={'seed': IntDistribution(high=10000, log=False, low=1, step=1)}, trial_id=65053, value=None),\n",
       " FrozenTrial(number=302, state=TrialState.COMPLETE, values=[0.6538461538461539, 0.059391722083091736], datetime_start=datetime.datetime(2023, 5, 3, 9, 8, 56, 378281), datetime_complete=datetime.datetime(2023, 5, 3, 9, 8, 58, 442870), params={'seed': 4448}, user_attrs={}, system_attrs={}, intermediate_values={}, distributions={'seed': IntDistribution(high=10000, log=False, low=1, step=1)}, trial_id=65054, value=None),\n",
       " FrozenTrial(number=303, state=TrialState.COMPLETE, values=[0.9230769230769231, 0.0], datetime_start=datetime.datetime(2023, 5, 3, 9, 8, 56, 600829), datetime_complete=datetime.datetime(2023, 5, 3, 9, 8, 58, 254989), params={'seed': 1027}, user_attrs={}, system_attrs={}, intermediate_values={}, distributions={'seed': IntDistribution(high=10000, log=False, low=1, step=1)}, trial_id=65055, value=None),\n",
       " FrozenTrial(number=304, state=TrialState.COMPLETE, values=[0.07692307692307687, 0.1728159487247467], datetime_start=datetime.datetime(2023, 5, 3, 9, 8, 56, 604439), datetime_complete=datetime.datetime(2023, 5, 3, 9, 8, 58, 607984), params={'seed': 3377}, user_attrs={}, system_attrs={}, intermediate_values={}, distributions={'seed': IntDistribution(high=10000, log=False, low=1, step=1)}, trial_id=65056, value=None),\n",
       " FrozenTrial(number=305, state=TrialState.COMPLETE, values=[0.6944444444444444, 0.0], datetime_start=datetime.datetime(2023, 5, 3, 9, 8, 56, 712193), datetime_complete=datetime.datetime(2023, 5, 3, 9, 8, 59, 243564), params={'seed': 1109}, user_attrs={}, system_attrs={}, intermediate_values={}, distributions={'seed': IntDistribution(high=10000, log=False, low=1, step=1)}, trial_id=65057, value=None),\n",
       " FrozenTrial(number=306, state=TrialState.COMPLETE, values=[0.6923076923076923, 0.0], datetime_start=datetime.datetime(2023, 5, 3, 9, 8, 56, 712856), datetime_complete=datetime.datetime(2023, 5, 3, 9, 8, 58, 965213), params={'seed': 2703}, user_attrs={}, system_attrs={}, intermediate_values={}, distributions={'seed': IntDistribution(high=10000, log=False, low=1, step=1)}, trial_id=65058, value=None),\n",
       " FrozenTrial(number=307, state=TrialState.COMPLETE, values=[0.5555555555555556, 0.33123522996902466], datetime_start=datetime.datetime(2023, 5, 3, 9, 8, 56, 756732), datetime_complete=datetime.datetime(2023, 5, 3, 9, 8, 58, 797568), params={'seed': 4414}, user_attrs={}, system_attrs={}, intermediate_values={}, distributions={'seed': IntDistribution(high=10000, log=False, low=1, step=1)}, trial_id=65059, value=None),\n",
       " FrozenTrial(number=308, state=TrialState.COMPLETE, values=[0.6666666666666667, 0.0], datetime_start=datetime.datetime(2023, 5, 3, 9, 8, 56, 757945), datetime_complete=datetime.datetime(2023, 5, 3, 9, 8, 59, 907268), params={'seed': 6703}, user_attrs={}, system_attrs={}, intermediate_values={}, distributions={'seed': IntDistribution(high=10000, log=False, low=1, step=1)}, trial_id=65060, value=None),\n",
       " FrozenTrial(number=309, state=TrialState.COMPLETE, values=[0.8461538461538461, 0.0], datetime_start=datetime.datetime(2023, 5, 3, 9, 8, 56, 827988), datetime_complete=datetime.datetime(2023, 5, 3, 9, 8, 58, 822053), params={'seed': 2746}, user_attrs={}, system_attrs={}, intermediate_values={}, distributions={'seed': IntDistribution(high=10000, log=False, low=1, step=1)}, trial_id=65061, value=None),\n",
       " FrozenTrial(number=310, state=TrialState.COMPLETE, values=[0.3055555555555555, 0.010103809647262096], datetime_start=datetime.datetime(2023, 5, 3, 9, 8, 57, 293467), datetime_complete=datetime.datetime(2023, 5, 3, 9, 8, 59, 353703), params={'seed': 2771}, user_attrs={}, system_attrs={}, intermediate_values={}, distributions={'seed': IntDistribution(high=10000, log=False, low=1, step=1)}, trial_id=65062, value=None),\n",
       " FrozenTrial(number=311, state=TrialState.COMPLETE, values=[0.9444444444444444, 0.0], datetime_start=datetime.datetime(2023, 5, 3, 9, 8, 57, 568439), datetime_complete=datetime.datetime(2023, 5, 3, 9, 9, 0, 289641), params={'seed': 756}, user_attrs={}, system_attrs={}, intermediate_values={}, distributions={'seed': IntDistribution(high=10000, log=False, low=1, step=1)}, trial_id=65063, value=None),\n",
       " FrozenTrial(number=312, state=TrialState.COMPLETE, values=[0.9166666666666666, 0.061792243272066116], datetime_start=datetime.datetime(2023, 5, 3, 9, 8, 57, 871878), datetime_complete=datetime.datetime(2023, 5, 3, 9, 9, 0, 688770), params={'seed': 809}, user_attrs={}, system_attrs={}, intermediate_values={}, distributions={'seed': IntDistribution(high=10000, log=False, low=1, step=1)}, trial_id=65064, value=None),\n",
       " FrozenTrial(number=313, state=TrialState.COMPLETE, values=[0.7500000000000001, 0.06797131896018982], datetime_start=datetime.datetime(2023, 5, 3, 9, 8, 57, 974864), datetime_complete=datetime.datetime(2023, 5, 3, 9, 9, 0, 857440), params={'seed': 1378}, user_attrs={}, system_attrs={}, intermediate_values={}, distributions={'seed': IntDistribution(high=10000, log=False, low=1, step=1)}, trial_id=65065, value=None),\n",
       " FrozenTrial(number=314, state=TrialState.COMPLETE, values=[0.5384615384615384, 0.06309245526790619], datetime_start=datetime.datetime(2023, 5, 3, 9, 8, 58, 70881), datetime_complete=datetime.datetime(2023, 5, 3, 9, 9, 0, 151106), params={'seed': 859}, user_attrs={}, system_attrs={}, intermediate_values={}, distributions={'seed': IntDistribution(high=10000, log=False, low=1, step=1)}, trial_id=65066, value=None),\n",
       " FrozenTrial(number=315, state=TrialState.COMPLETE, values=[0.6923076923076923, 0.07973084598779678], datetime_start=datetime.datetime(2023, 5, 3, 9, 8, 58, 634499), datetime_complete=datetime.datetime(2023, 5, 3, 9, 9, 0, 425385), params={'seed': 6667}, user_attrs={}, system_attrs={}, intermediate_values={}, distributions={'seed': IntDistribution(high=10000, log=False, low=1, step=1)}, trial_id=65067, value=None),\n",
       " FrozenTrial(number=316, state=TrialState.COMPLETE, values=[0.5833333333333334, 0.07417172193527222], datetime_start=datetime.datetime(2023, 5, 3, 9, 8, 58, 640158), datetime_complete=datetime.datetime(2023, 5, 3, 9, 9, 0, 735588), params={'seed': 1236}, user_attrs={}, system_attrs={}, intermediate_values={}, distributions={'seed': IntDistribution(high=10000, log=False, low=1, step=1)}, trial_id=65068, value=None),\n",
       " FrozenTrial(number=317, state=TrialState.COMPLETE, values=[0.888888888888889, 0.0], datetime_start=datetime.datetime(2023, 5, 3, 9, 8, 58, 853903), datetime_complete=datetime.datetime(2023, 5, 3, 9, 9, 1, 261503), params={'seed': 862}, user_attrs={}, system_attrs={}, intermediate_values={}, distributions={'seed': IntDistribution(high=10000, log=False, low=1, step=1)}, trial_id=65069, value=None),\n",
       " FrozenTrial(number=318, state=TrialState.COMPLETE, values=[0.8333333333333334, 0.0], datetime_start=datetime.datetime(2023, 5, 3, 9, 8, 59, 5009), datetime_complete=datetime.datetime(2023, 5, 3, 9, 9, 1, 482533), params={'seed': 820}, user_attrs={}, system_attrs={}, intermediate_values={}, distributions={'seed': IntDistribution(high=10000, log=False, low=1, step=1)}, trial_id=65070, value=None),\n",
       " FrozenTrial(number=319, state=TrialState.COMPLETE, values=[0.7307692307692308, 0.05145077779889107], datetime_start=datetime.datetime(2023, 5, 3, 9, 8, 59, 51775), datetime_complete=datetime.datetime(2023, 5, 3, 9, 9, 1, 214618), params={'seed': 786}, user_attrs={}, system_attrs={}, intermediate_values={}, distributions={'seed': IntDistribution(high=10000, log=False, low=1, step=1)}, trial_id=65071, value=None),\n",
       " FrozenTrial(number=320, state=TrialState.COMPLETE, values=[0.888888888888889, 0.15003877878189087], datetime_start=datetime.datetime(2023, 5, 3, 9, 8, 59, 103030), datetime_complete=datetime.datetime(2023, 5, 3, 9, 9, 1, 717350), params={'seed': 749}, user_attrs={}, system_attrs={}, intermediate_values={}, distributions={'seed': IntDistribution(high=10000, log=False, low=1, step=1)}, trial_id=65072, value=None),\n",
       " FrozenTrial(number=321, state=TrialState.COMPLETE, values=[1.0, 0.0], datetime_start=datetime.datetime(2023, 5, 3, 9, 8, 59, 332391), datetime_complete=datetime.datetime(2023, 5, 3, 9, 9, 1, 826126), params={'seed': 1359}, user_attrs={}, system_attrs={}, intermediate_values={}, distributions={'seed': IntDistribution(high=10000, log=False, low=1, step=1)}, trial_id=65073, value=None),\n",
       " FrozenTrial(number=322, state=TrialState.COMPLETE, values=[0.7500000000000001, 0.06797131896018982], datetime_start=datetime.datetime(2023, 5, 3, 9, 8, 59, 595017), datetime_complete=datetime.datetime(2023, 5, 3, 9, 9, 1, 926960), params={'seed': 1378}, user_attrs={}, system_attrs={}, intermediate_values={}, distributions={'seed': IntDistribution(high=10000, log=False, low=1, step=1)}, trial_id=65074, value=None),\n",
       " FrozenTrial(number=323, state=TrialState.COMPLETE, values=[0.5384615384615384, 0.0], datetime_start=datetime.datetime(2023, 5, 3, 9, 8, 59, 676142), datetime_complete=datetime.datetime(2023, 5, 3, 9, 9, 2, 87124), params={'seed': 1135}, user_attrs={}, system_attrs={}, intermediate_values={}, distributions={'seed': IntDistribution(high=10000, log=False, low=1, step=1)}, trial_id=65075, value=None),\n",
       " FrozenTrial(number=324, state=TrialState.COMPLETE, values=[1.0, 0.17926083505153656], datetime_start=datetime.datetime(2023, 5, 3, 9, 9, 0, 215489), datetime_complete=datetime.datetime(2023, 5, 3, 9, 9, 2, 321347), params={'seed': 1386}, user_attrs={}, system_attrs={}, intermediate_values={}, distributions={'seed': IntDistribution(high=10000, log=False, low=1, step=1)}, trial_id=65076, value=None),\n",
       " FrozenTrial(number=325, state=TrialState.COMPLETE, values=[0.9230769230769231, 0.0], datetime_start=datetime.datetime(2023, 5, 3, 9, 9, 0, 240607), datetime_complete=datetime.datetime(2023, 5, 3, 9, 9, 2, 409473), params={'seed': 1326}, user_attrs={}, system_attrs={}, intermediate_values={}, distributions={'seed': IntDistribution(high=10000, log=False, low=1, step=1)}, trial_id=65077, value=None),\n",
       " FrozenTrial(number=326, state=TrialState.COMPLETE, values=[0.8611111111111112, 0.0], datetime_start=datetime.datetime(2023, 5, 3, 9, 9, 0, 314836), datetime_complete=datetime.datetime(2023, 5, 3, 9, 9, 2, 246098), params={'seed': 3689}, user_attrs={}, system_attrs={}, intermediate_values={}, distributions={'seed': IntDistribution(high=10000, log=False, low=1, step=1)}, trial_id=65078, value=None),\n",
       " FrozenTrial(number=327, state=TrialState.COMPLETE, values=[0.8333333333333333, 0.0], datetime_start=datetime.datetime(2023, 5, 3, 9, 9, 0, 884464), datetime_complete=datetime.datetime(2023, 5, 3, 9, 9, 2, 628397), params={'seed': 1387}, user_attrs={}, system_attrs={}, intermediate_values={}, distributions={'seed': IntDistribution(high=10000, log=False, low=1, step=1)}, trial_id=65079, value=None),\n",
       " FrozenTrial(number=328, state=TrialState.COMPLETE, values=[0.75, 0.0], datetime_start=datetime.datetime(2023, 5, 3, 9, 9, 1, 53610), datetime_complete=datetime.datetime(2023, 5, 3, 9, 9, 2, 991472), params={'seed': 1089}, user_attrs={}, system_attrs={}, intermediate_values={}, distributions={'seed': IntDistribution(high=10000, log=False, low=1, step=1)}, trial_id=65080, value=None),\n",
       " FrozenTrial(number=329, state=TrialState.COMPLETE, values=[0.6388888888888888, 0.0], datetime_start=datetime.datetime(2023, 5, 3, 9, 9, 1, 141828), datetime_complete=datetime.datetime(2023, 5, 3, 9, 9, 2, 676651), params={'seed': 5769}, user_attrs={}, system_attrs={}, intermediate_values={}, distributions={'seed': IntDistribution(high=10000, log=False, low=1, step=1)}, trial_id=65081, value=None),\n",
       " FrozenTrial(number=330, state=TrialState.COMPLETE, values=[0.7777777777777779, 0.0], datetime_start=datetime.datetime(2023, 5, 3, 9, 9, 1, 307906), datetime_complete=datetime.datetime(2023, 5, 3, 9, 9, 3, 702959), params={'seed': 1127}, user_attrs={}, system_attrs={}, intermediate_values={}, distributions={'seed': IntDistribution(high=10000, log=False, low=1, step=1)}, trial_id=65082, value=None),\n",
       " FrozenTrial(number=331, state=TrialState.COMPLETE, values=[0.5192307692307692, 0.06160122528672218], datetime_start=datetime.datetime(2023, 5, 3, 9, 9, 1, 309962), datetime_complete=datetime.datetime(2023, 5, 3, 9, 9, 3, 596378), params={'seed': 6188}, user_attrs={}, system_attrs={}, intermediate_values={}, distributions={'seed': IntDistribution(high=10000, log=False, low=1, step=1)}, trial_id=65083, value=None),\n",
       " FrozenTrial(number=332, state=TrialState.COMPLETE, values=[0.923076923076923, 0.0], datetime_start=datetime.datetime(2023, 5, 3, 9, 9, 1, 448677), datetime_complete=datetime.datetime(2023, 5, 3, 9, 9, 3, 655390), params={'seed': 2282}, user_attrs={}, system_attrs={}, intermediate_values={}, distributions={'seed': IntDistribution(high=10000, log=False, low=1, step=1)}, trial_id=65084, value=None),\n",
       " FrozenTrial(number=333, state=TrialState.COMPLETE, values=[0.6944444444444444, 0.0], datetime_start=datetime.datetime(2023, 5, 3, 9, 9, 1, 972853), datetime_complete=datetime.datetime(2023, 5, 3, 9, 9, 4, 617184), params={'seed': 9471}, user_attrs={}, system_attrs={}, intermediate_values={}, distributions={'seed': IntDistribution(high=10000, log=False, low=1, step=1)}, trial_id=65085, value=None),\n",
       " FrozenTrial(number=334, state=TrialState.COMPLETE, values=[0.6944444444444444, 0.0], datetime_start=datetime.datetime(2023, 5, 3, 9, 9, 2, 59607), datetime_complete=datetime.datetime(2023, 5, 3, 9, 9, 4, 598599), params={'seed': 9471}, user_attrs={}, system_attrs={}, intermediate_values={}, distributions={'seed': IntDistribution(high=10000, log=False, low=1, step=1)}, trial_id=65086, value=None),\n",
       " FrozenTrial(number=335, state=TrialState.COMPLETE, values=[0.4444444444444444, 0.024817293509840965], datetime_start=datetime.datetime(2023, 5, 3, 9, 9, 2, 108493), datetime_complete=datetime.datetime(2023, 5, 3, 9, 9, 3, 873219), params={'seed': 1136}, user_attrs={}, system_attrs={}, intermediate_values={}, distributions={'seed': IntDistribution(high=10000, log=False, low=1, step=1)}, trial_id=65087, value=None),\n",
       " FrozenTrial(number=336, state=TrialState.COMPLETE, values=[0.6923076923076923, 0.0], datetime_start=datetime.datetime(2023, 5, 3, 9, 9, 2, 281998), datetime_complete=datetime.datetime(2023, 5, 3, 9, 9, 3, 748561), params={'seed': 9058}, user_attrs={}, system_attrs={}, intermediate_values={}, distributions={'seed': IntDistribution(high=10000, log=False, low=1, step=1)}, trial_id=65088, value=None),\n",
       " FrozenTrial(number=337, state=TrialState.COMPLETE, values=[0.5769230769230769, 0.05613289773464203], datetime_start=datetime.datetime(2023, 5, 3, 9, 9, 2, 281135), datetime_complete=datetime.datetime(2023, 5, 3, 9, 9, 4, 897542), params={'seed': 1124}, user_attrs={}, system_attrs={}, intermediate_values={}, distributions={'seed': IntDistribution(high=10000, log=False, low=1, step=1)}, trial_id=65089, value=None),\n",
       " FrozenTrial(number=338, state=TrialState.COMPLETE, values=[0.7499999999999999, 0.0], datetime_start=datetime.datetime(2023, 5, 3, 9, 9, 2, 539445), datetime_complete=datetime.datetime(2023, 5, 3, 9, 9, 4, 723108), params={'seed': 2372}, user_attrs={}, system_attrs={}, intermediate_values={}, distributions={'seed': IntDistribution(high=10000, log=False, low=1, step=1)}, trial_id=65090, value=None),\n",
       " FrozenTrial(number=339, state=TrialState.COMPLETE, values=[0.5555555555555556, 0.0], datetime_start=datetime.datetime(2023, 5, 3, 9, 9, 2, 542993), datetime_complete=datetime.datetime(2023, 5, 3, 9, 9, 4, 973148), params={'seed': 1132}, user_attrs={}, system_attrs={}, intermediate_values={}, distributions={'seed': IntDistribution(high=10000, log=False, low=1, step=1)}, trial_id=65091, value=None),\n",
       " FrozenTrial(number=340, state=TrialState.COMPLETE, values=[0.5384615384615384, 0.0], datetime_start=datetime.datetime(2023, 5, 3, 9, 9, 2, 587585), datetime_complete=datetime.datetime(2023, 5, 3, 9, 9, 4, 743400), params={'seed': 2318}, user_attrs={}, system_attrs={}, intermediate_values={}, distributions={'seed': IntDistribution(high=10000, log=False, low=1, step=1)}, trial_id=65092, value=None),\n",
       " FrozenTrial(number=341, state=TrialState.COMPLETE, values=[0.6153846153846154, 0.0], datetime_start=datetime.datetime(2023, 5, 3, 9, 9, 2, 812801), datetime_complete=datetime.datetime(2023, 5, 3, 9, 9, 5, 422085), params={'seed': 8391}, user_attrs={}, system_attrs={}, intermediate_values={}, distributions={'seed': IntDistribution(high=10000, log=False, low=1, step=1)}, trial_id=65093, value=None),\n",
       " FrozenTrial(number=342, state=TrialState.COMPLETE, values=[0.7692307692307692, 0.08504051715135574], datetime_start=datetime.datetime(2023, 5, 3, 9, 9, 2, 814244), datetime_complete=datetime.datetime(2023, 5, 3, 9, 9, 5, 578579), params={'seed': 7518}, user_attrs={}, system_attrs={}, intermediate_values={}, distributions={'seed': IntDistribution(high=10000, log=False, low=1, step=1)}, trial_id=65094, value=None),\n",
       " FrozenTrial(number=343, state=TrialState.COMPLETE, values=[0.6666666666666666, 0.0], datetime_start=datetime.datetime(2023, 5, 3, 9, 9, 3, 285692), datetime_complete=datetime.datetime(2023, 5, 3, 9, 9, 5, 631754), params={'seed': 7547}, user_attrs={}, system_attrs={}, intermediate_values={}, distributions={'seed': IntDistribution(high=10000, log=False, low=1, step=1)}, trial_id=65095, value=None),\n",
       " FrozenTrial(number=344, state=TrialState.COMPLETE, values=[0.3846153846153846, 0.0], datetime_start=datetime.datetime(2023, 5, 3, 9, 9, 3, 285225), datetime_complete=datetime.datetime(2023, 5, 3, 9, 9, 5, 690943), params={'seed': 5478}, user_attrs={}, system_attrs={}, intermediate_values={}, distributions={'seed': IntDistribution(high=10000, log=False, low=1, step=1)}, trial_id=65096, value=None),\n",
       " FrozenTrial(number=345, state=TrialState.COMPLETE, values=[0.41666666666666663, 0.062065619975328445], datetime_start=datetime.datetime(2023, 5, 3, 9, 9, 3, 678040), datetime_complete=datetime.datetime(2023, 5, 3, 9, 9, 5, 772367), params={'seed': 8409}, user_attrs={}, system_attrs={}, intermediate_values={}, distributions={'seed': IntDistribution(high=10000, log=False, low=1, step=1)}, trial_id=65097, value=None),\n",
       " FrozenTrial(number=346, state=TrialState.COMPLETE, values=[0.8055555555555556, 0.0], datetime_start=datetime.datetime(2023, 5, 3, 9, 9, 4, 149116), datetime_complete=datetime.datetime(2023, 5, 3, 9, 9, 5, 790092), params={'seed': 4184}, user_attrs={}, system_attrs={}, intermediate_values={}, distributions={'seed': IntDistribution(high=10000, log=False, low=1, step=1)}, trial_id=65098, value=None),\n",
       " FrozenTrial(number=347, state=TrialState.COMPLETE, values=[0.7083333333333333, 0.08400636911392212], datetime_start=datetime.datetime(2023, 5, 3, 9, 9, 4, 267960), datetime_complete=datetime.datetime(2023, 5, 3, 9, 9, 6, 438336), params={'seed': 4124}, user_attrs={}, system_attrs={}, intermediate_values={}, distributions={'seed': IntDistribution(high=10000, log=False, low=1, step=1)}, trial_id=65099, value=None),\n",
       " FrozenTrial(number=348, state=TrialState.COMPLETE, values=[0.8611111111111112, 0.0], datetime_start=datetime.datetime(2023, 5, 3, 9, 9, 4, 381728), datetime_complete=datetime.datetime(2023, 5, 3, 9, 9, 7, 235979), params={'seed': 1511}, user_attrs={}, system_attrs={}, intermediate_values={}, distributions={'seed': IntDistribution(high=10000, log=False, low=1, step=1)}, trial_id=65100, value=None),\n",
       " FrozenTrial(number=349, state=TrialState.COMPLETE, values=[0.7222222222222222, 0.0], datetime_start=datetime.datetime(2023, 5, 3, 9, 9, 4, 570957), datetime_complete=datetime.datetime(2023, 5, 3, 9, 9, 7, 288075), params={'seed': 1508}, user_attrs={}, system_attrs={}, intermediate_values={}, distributions={'seed': IntDistribution(high=10000, log=False, low=1, step=1)}, trial_id=65101, value=None),\n",
       " FrozenTrial(number=350, state=TrialState.COMPLETE, values=[0.6730769230769231, 0.18031977117061615], datetime_start=datetime.datetime(2023, 5, 3, 9, 9, 4, 781997), datetime_complete=datetime.datetime(2023, 5, 3, 9, 9, 7, 53692), params={'seed': 3094}, user_attrs={}, system_attrs={}, intermediate_values={}, distributions={'seed': IntDistribution(high=10000, log=False, low=1, step=1)}, trial_id=65102, value=None),\n",
       " FrozenTrial(number=351, state=TrialState.COMPLETE, values=[0.6153846153846154, 0.0], datetime_start=datetime.datetime(2023, 5, 3, 9, 9, 5, 247001), datetime_complete=datetime.datetime(2023, 5, 3, 9, 9, 7, 311097), params={'seed': 3050}, user_attrs={}, system_attrs={}, intermediate_values={}, distributions={'seed': IntDistribution(high=10000, log=False, low=1, step=1)}, trial_id=65103, value=None),\n",
       " FrozenTrial(number=352, state=TrialState.COMPLETE, values=[0.7692307692307692, 0.0], datetime_start=datetime.datetime(2023, 5, 3, 9, 9, 5, 344433), datetime_complete=datetime.datetime(2023, 5, 3, 9, 9, 7, 343600), params={'seed': 1407}, user_attrs={}, system_attrs={}, intermediate_values={}, distributions={'seed': IntDistribution(high=10000, log=False, low=1, step=1)}, trial_id=65104, value=None),\n",
       " FrozenTrial(number=353, state=TrialState.COMPLETE, values=[0.7692307692307692, 0.1366860568523407], datetime_start=datetime.datetime(2023, 5, 3, 9, 9, 5, 344842), datetime_complete=datetime.datetime(2023, 5, 3, 9, 9, 7, 199949), params={'seed': 1514}, user_attrs={}, system_attrs={}, intermediate_values={}, distributions={'seed': IntDistribution(high=10000, log=False, low=1, step=1)}, trial_id=65105, value=None),\n",
       " FrozenTrial(number=354, state=TrialState.COMPLETE, values=[0.5384615384615384, 0.0], datetime_start=datetime.datetime(2023, 5, 3, 9, 9, 5, 345442), datetime_complete=datetime.datetime(2023, 5, 3, 9, 9, 7, 364496), params={'seed': 1497}, user_attrs={}, system_attrs={}, intermediate_values={}, distributions={'seed': IntDistribution(high=10000, log=False, low=1, step=1)}, trial_id=65106, value=None),\n",
       " FrozenTrial(number=355, state=TrialState.COMPLETE, values=[0.5972222222222223, 0.0], datetime_start=datetime.datetime(2023, 5, 3, 9, 9, 5, 607234), datetime_complete=datetime.datetime(2023, 5, 3, 9, 9, 7, 384891), params={'seed': 1468}, user_attrs={}, system_attrs={}, intermediate_values={}, distributions={'seed': IntDistribution(high=10000, log=False, low=1, step=1)}, trial_id=65107, value=None),\n",
       " FrozenTrial(number=356, state=TrialState.COMPLETE, values=[0.8333333333333333, 0.0], datetime_start=datetime.datetime(2023, 5, 3, 9, 9, 5, 707217), datetime_complete=datetime.datetime(2023, 5, 3, 9, 9, 8, 254386), params={'seed': 1537}, user_attrs={}, system_attrs={}, intermediate_values={}, distributions={'seed': IntDistribution(high=10000, log=False, low=1, step=1)}, trial_id=65108, value=None),\n",
       " FrozenTrial(number=357, state=TrialState.COMPLETE, values=[0.5384615384615384, 0.0], datetime_start=datetime.datetime(2023, 5, 3, 9, 9, 5, 839688), datetime_complete=datetime.datetime(2023, 5, 3, 9, 9, 7, 865614), params={'seed': 1497}, user_attrs={}, system_attrs={}, intermediate_values={}, distributions={'seed': IntDistribution(high=10000, log=False, low=1, step=1)}, trial_id=65109, value=None),\n",
       " FrozenTrial(number=358, state=TrialState.COMPLETE, values=[0.7307692307692307, 0.19181251525878906], datetime_start=datetime.datetime(2023, 5, 3, 9, 9, 5, 916577), datetime_complete=datetime.datetime(2023, 5, 3, 9, 9, 8, 412608), params={'seed': 6425}, user_attrs={}, system_attrs={}, intermediate_values={}, distributions={'seed': IntDistribution(high=10000, log=False, low=1, step=1)}, trial_id=65110, value=None),\n",
       " FrozenTrial(number=359, state=TrialState.COMPLETE, values=[0.8333333333333333, 0.0], datetime_start=datetime.datetime(2023, 5, 3, 9, 9, 6, 150449), datetime_complete=datetime.datetime(2023, 5, 3, 9, 9, 8, 595075), params={'seed': 970}, user_attrs={}, system_attrs={}, intermediate_values={}, distributions={'seed': IntDistribution(high=10000, log=False, low=1, step=1)}, trial_id=65111, value=None),\n",
       " FrozenTrial(number=360, state=TrialState.COMPLETE, values=[1.0, 0.0], datetime_start=datetime.datetime(2023, 5, 3, 9, 9, 6, 338410), datetime_complete=datetime.datetime(2023, 5, 3, 9, 9, 9, 30097), params={'seed': 988}, user_attrs={}, system_attrs={}, intermediate_values={}, distributions={'seed': IntDistribution(high=10000, log=False, low=1, step=1)}, trial_id=65112, value=None),\n",
       " FrozenTrial(number=361, state=TrialState.COMPLETE, values=[0.4444444444444444, 0.0], datetime_start=datetime.datetime(2023, 5, 3, 9, 9, 6, 658812), datetime_complete=datetime.datetime(2023, 5, 3, 9, 9, 8, 493606), params={'seed': 1014}, user_attrs={}, system_attrs={}, intermediate_values={}, distributions={'seed': IntDistribution(high=10000, log=False, low=1, step=1)}, trial_id=65113, value=None),\n",
       " FrozenTrial(number=362, state=TrialState.COMPLETE, values=[0.6666666666666666, 0.0], datetime_start=datetime.datetime(2023, 5, 3, 9, 9, 7, 155026), datetime_complete=datetime.datetime(2023, 5, 3, 9, 9, 8, 621707), params={'seed': 393}, user_attrs={}, system_attrs={}, intermediate_values={}, distributions={'seed': IntDistribution(high=10000, log=False, low=1, step=1)}, trial_id=65114, value=None),\n",
       " FrozenTrial(number=363, state=TrialState.COMPLETE, values=[0.7692307692307693, 0.0], datetime_start=datetime.datetime(2023, 5, 3, 9, 9, 7, 254230), datetime_complete=datetime.datetime(2023, 5, 3, 9, 9, 9, 326922), params={'seed': 915}, user_attrs={}, system_attrs={}, intermediate_values={}, distributions={'seed': IntDistribution(high=10000, log=False, low=1, step=1)}, trial_id=65115, value=None),\n",
       " FrozenTrial(number=364, state=TrialState.COMPLETE, values=[0.875, 0.0], datetime_start=datetime.datetime(2023, 5, 3, 9, 9, 7, 617167), datetime_complete=datetime.datetime(2023, 5, 3, 9, 9, 9, 710113), params={'seed': 455}, user_attrs={}, system_attrs={}, intermediate_values={}, distributions={'seed': IntDistribution(high=10000, log=False, low=1, step=1)}, trial_id=65116, value=None),\n",
       " FrozenTrial(number=365, state=TrialState.COMPLETE, values=[0.6923076923076923, 0.0], datetime_start=datetime.datetime(2023, 5, 3, 9, 9, 7, 615720), datetime_complete=datetime.datetime(2023, 5, 3, 9, 9, 9, 736874), params={'seed': 8764}, user_attrs={}, system_attrs={}, intermediate_values={}, distributions={'seed': IntDistribution(high=10000, log=False, low=1, step=1)}, trial_id=65117, value=None),\n",
       " FrozenTrial(number=366, state=TrialState.COMPLETE, values=[0.6805555555555556, 0.0], datetime_start=datetime.datetime(2023, 5, 3, 9, 9, 7, 617571), datetime_complete=datetime.datetime(2023, 5, 3, 9, 9, 9, 870018), params={'seed': 977}, user_attrs={}, system_attrs={}, intermediate_values={}, distributions={'seed': IntDistribution(high=10000, log=False, low=1, step=1)}, trial_id=65118, value=None),\n",
       " FrozenTrial(number=367, state=TrialState.COMPLETE, values=[0.8076923076923077, 0.2122226059436798], datetime_start=datetime.datetime(2023, 5, 3, 9, 9, 7, 807170), datetime_complete=datetime.datetime(2023, 5, 3, 9, 9, 10, 186079), params={'seed': 9674}, user_attrs={}, system_attrs={}, intermediate_values={}, distributions={'seed': IntDistribution(high=10000, log=False, low=1, step=1)}, trial_id=65119, value=None),\n",
       " FrozenTrial(number=368, state=TrialState.COMPLETE, values=[0.75, 0.06190742179751396], datetime_start=datetime.datetime(2023, 5, 3, 9, 9, 7, 917743), datetime_complete=datetime.datetime(2023, 5, 3, 9, 9, 9, 965752), params={'seed': 9716}, user_attrs={}, system_attrs={}, intermediate_values={}, distributions={'seed': IntDistribution(high=10000, log=False, low=1, step=1)}, trial_id=65120, value=None),\n",
       " FrozenTrial(number=369, state=TrialState.COMPLETE, values=[0.8611111111111112, 0.0], datetime_start=datetime.datetime(2023, 5, 3, 9, 9, 8, 130206), datetime_complete=datetime.datetime(2023, 5, 3, 9, 9, 9, 997320), params={'seed': 8903}, user_attrs={}, system_attrs={}, intermediate_values={}, distributions={'seed': IntDistribution(high=10000, log=False, low=1, step=1)}, trial_id=65121, value=None),\n",
       " FrozenTrial(number=370, state=TrialState.COMPLETE, values=[0.8333333333333334, 0.0], datetime_start=datetime.datetime(2023, 5, 3, 9, 9, 8, 129914), datetime_complete=datetime.datetime(2023, 5, 3, 9, 9, 10, 572726), params={'seed': 1879}, user_attrs={}, system_attrs={}, intermediate_values={}, distributions={'seed': IntDistribution(high=10000, log=False, low=1, step=1)}, trial_id=65122, value=None),\n",
       " FrozenTrial(number=371, state=TrialState.COMPLETE, values=[0.3269230769230769, 0.09855150431394577], datetime_start=datetime.datetime(2023, 5, 3, 9, 9, 8, 129384), datetime_complete=datetime.datetime(2023, 5, 3, 9, 9, 10, 495981), params={'seed': 1227}, user_attrs={}, system_attrs={}, intermediate_values={}, distributions={'seed': IntDistribution(high=10000, log=False, low=1, step=1)}, trial_id=65123, value=None),\n",
       " FrozenTrial(number=372, state=TrialState.COMPLETE, values=[0.8846153846153846, 0.0], datetime_start=datetime.datetime(2023, 5, 3, 9, 9, 8, 568267), datetime_complete=datetime.datetime(2023, 5, 3, 9, 9, 10, 639746), params={'seed': 5599}, user_attrs={}, system_attrs={}, intermediate_values={}, distributions={'seed': IntDistribution(high=10000, log=False, low=1, step=1)}, trial_id=65124, value=None),\n",
       " FrozenTrial(number=373, state=TrialState.COMPLETE, values=[0.6388888888888888, 0.0], datetime_start=datetime.datetime(2023, 5, 3, 9, 9, 8, 707343), datetime_complete=datetime.datetime(2023, 5, 3, 9, 9, 11, 337903), params={'seed': 1186}, user_attrs={}, system_attrs={}, intermediate_values={}, distributions={'seed': IntDistribution(high=10000, log=False, low=1, step=1)}, trial_id=65125, value=None),\n",
       " FrozenTrial(number=374, state=TrialState.COMPLETE, values=[0.9615384615384616, 0.0], datetime_start=datetime.datetime(2023, 5, 3, 9, 9, 8, 959369), datetime_complete=datetime.datetime(2023, 5, 3, 9, 9, 10, 917634), params={'seed': 7891}, user_attrs={}, system_attrs={}, intermediate_values={}, distributions={'seed': IntDistribution(high=10000, log=False, low=1, step=1)}, trial_id=65126, value=None),\n",
       " FrozenTrial(number=375, state=TrialState.COMPLETE, values=[0.5555555555555556, 0.0], datetime_start=datetime.datetime(2023, 5, 3, 9, 9, 9, 492345), datetime_complete=datetime.datetime(2023, 5, 3, 9, 9, 11, 475217), params={'seed': 1294}, user_attrs={}, system_attrs={}, intermediate_values={}, distributions={'seed': IntDistribution(high=10000, log=False, low=1, step=1)}, trial_id=65127, value=None),\n",
       " FrozenTrial(number=376, state=TrialState.COMPLETE, values=[0.5, 0.0], datetime_start=datetime.datetime(2023, 5, 3, 9, 9, 9, 496242), datetime_complete=datetime.datetime(2023, 5, 3, 9, 9, 11, 951261), params={'seed': 5174}, user_attrs={}, system_attrs={}, intermediate_values={}, distributions={'seed': IntDistribution(high=10000, log=False, low=1, step=1)}, trial_id=65128, value=None),\n",
       " FrozenTrial(number=377, state=TrialState.COMPLETE, values=[0.7777777777777778, 0.0], datetime_start=datetime.datetime(2023, 5, 3, 9, 9, 9, 497090), datetime_complete=datetime.datetime(2023, 5, 3, 9, 9, 11, 990625), params={'seed': 1263}, user_attrs={}, system_attrs={}, intermediate_values={}, distributions={'seed': IntDistribution(high=10000, log=False, low=1, step=1)}, trial_id=65129, value=None),\n",
       " FrozenTrial(number=378, state=TrialState.COMPLETE, values=[0.9444444444444444, 0.0], datetime_start=datetime.datetime(2023, 5, 3, 9, 9, 9, 839669), datetime_complete=datetime.datetime(2023, 5, 3, 9, 9, 11, 544497), params={'seed': 1870}, user_attrs={}, system_attrs={}, intermediate_values={}, distributions={'seed': IntDistribution(high=10000, log=False, low=1, step=1)}, trial_id=65130, value=None),\n",
       " FrozenTrial(number=379, state=TrialState.COMPLETE, values=[0.9230769230769231, 0.0], datetime_start=datetime.datetime(2023, 5, 3, 9, 9, 10, 160935), datetime_complete=datetime.datetime(2023, 5, 3, 9, 9, 12, 569495), params={'seed': 3410}, user_attrs={}, system_attrs={}, intermediate_values={}, distributions={'seed': IntDistribution(high=10000, log=False, low=1, step=1)}, trial_id=65131, value=None),\n",
       " FrozenTrial(number=380, state=TrialState.COMPLETE, values=[0.75, 0.0], datetime_start=datetime.datetime(2023, 5, 3, 9, 9, 10, 228254), datetime_complete=datetime.datetime(2023, 5, 3, 9, 9, 12, 106170), params={'seed': 1225}, user_attrs={}, system_attrs={}, intermediate_values={}, distributions={'seed': IntDistribution(high=10000, log=False, low=1, step=1)}, trial_id=65132, value=None),\n",
       " FrozenTrial(number=381, state=TrialState.COMPLETE, values=[0.75, 0.0], datetime_start=datetime.datetime(2023, 5, 3, 9, 9, 10, 318207), datetime_complete=datetime.datetime(2023, 5, 3, 9, 9, 12, 821594), params={'seed': 684}, user_attrs={}, system_attrs={}, intermediate_values={}, distributions={'seed': IntDistribution(high=10000, log=False, low=1, step=1)}, trial_id=65133, value=None),\n",
       " FrozenTrial(number=382, state=TrialState.COMPLETE, values=[0.7692307692307693, 0.0], datetime_start=datetime.datetime(2023, 5, 3, 9, 9, 10, 392165), datetime_complete=datetime.datetime(2023, 5, 3, 9, 9, 12, 431661), params={'seed': 1260}, user_attrs={}, system_attrs={}, intermediate_values={}, distributions={'seed': IntDistribution(high=10000, log=False, low=1, step=1)}, trial_id=65134, value=None),\n",
       " FrozenTrial(number=383, state=TrialState.COMPLETE, values=[0.9615384615384616, 0.22203786671161652], datetime_start=datetime.datetime(2023, 5, 3, 9, 9, 10, 546340), datetime_complete=datetime.datetime(2023, 5, 3, 9, 9, 12, 598501), params={'seed': 3401}, user_attrs={}, system_attrs={}, intermediate_values={}, distributions={'seed': IntDistribution(high=10000, log=False, low=1, step=1)}, trial_id=65135, value=None),\n",
       " FrozenTrial(number=384, state=TrialState.COMPLETE, values=[0.7692307692307693, 0.0], datetime_start=datetime.datetime(2023, 5, 3, 9, 9, 10, 687191), datetime_complete=datetime.datetime(2023, 5, 3, 9, 9, 12, 752116), params={'seed': 3730}, user_attrs={}, system_attrs={}, intermediate_values={}, distributions={'seed': IntDistribution(high=10000, log=False, low=1, step=1)}, trial_id=65136, value=None),\n",
       " FrozenTrial(number=385, state=TrialState.COMPLETE, values=[0.9615384615384616, 0.052621029317379], datetime_start=datetime.datetime(2023, 5, 3, 9, 9, 10, 890038), datetime_complete=datetime.datetime(2023, 5, 3, 9, 9, 13, 133091), params={'seed': 686}, user_attrs={}, system_attrs={}, intermediate_values={}, distributions={'seed': IntDistribution(high=10000, log=False, low=1, step=1)}, trial_id=65137, value=None),\n",
       " FrozenTrial(number=386, state=TrialState.COMPLETE, values=[0.6388888888888888, 0.0], datetime_start=datetime.datetime(2023, 5, 3, 9, 9, 11, 307555), datetime_complete=datetime.datetime(2023, 5, 3, 9, 9, 13, 301652), params={'seed': 4590}, user_attrs={}, system_attrs={}, intermediate_values={}, distributions={'seed': IntDistribution(high=10000, log=False, low=1, step=1)}, trial_id=65138, value=None),\n",
       " FrozenTrial(number=387, state=TrialState.COMPLETE, values=[0.75, 0.0], datetime_start=datetime.datetime(2023, 5, 3, 9, 9, 11, 394761), datetime_complete=datetime.datetime(2023, 5, 3, 9, 9, 13, 375265), params={'seed': 6098}, user_attrs={}, system_attrs={}, intermediate_values={}, distributions={'seed': IntDistribution(high=10000, log=False, low=1, step=1)}, trial_id=65139, value=None),\n",
       " FrozenTrial(number=388, state=TrialState.COMPLETE, values=[0.6388888888888888, 0.0], datetime_start=datetime.datetime(2023, 5, 3, 9, 9, 11, 501449), datetime_complete=datetime.datetime(2023, 5, 3, 9, 9, 13, 603307), params={'seed': 4605}, user_attrs={}, system_attrs={}, intermediate_values={}, distributions={'seed': IntDistribution(high=10000, log=False, low=1, step=1)}, trial_id=65140, value=None),\n",
       " FrozenTrial(number=389, state=TrialState.COMPLETE, values=[0.8055555555555555, 0.0], datetime_start=datetime.datetime(2023, 5, 3, 9, 9, 11, 889141), datetime_complete=datetime.datetime(2023, 5, 3, 9, 9, 14, 480634), params={'seed': 4359}, user_attrs={}, system_attrs={}, intermediate_values={}, distributions={'seed': IntDistribution(high=10000, log=False, low=1, step=1)}, trial_id=65141, value=None),\n",
       " FrozenTrial(number=390, state=TrialState.COMPLETE, values=[0.6666666666666666, 0.0], datetime_start=datetime.datetime(2023, 5, 3, 9, 9, 11, 891317), datetime_complete=datetime.datetime(2023, 5, 3, 9, 9, 14, 16800), params={'seed': 6163}, user_attrs={}, system_attrs={}, intermediate_values={}, distributions={'seed': IntDistribution(high=10000, log=False, low=1, step=1)}, trial_id=65142, value=None),\n",
       " FrozenTrial(number=391, state=TrialState.COMPLETE, values=[0.8076923076923077, 0.0], datetime_start=datetime.datetime(2023, 5, 3, 9, 9, 12, 247945), datetime_complete=datetime.datetime(2023, 5, 3, 9, 9, 14, 541853), params={'seed': 8228}, user_attrs={}, system_attrs={}, intermediate_values={}, distributions={'seed': IntDistribution(high=10000, log=False, low=1, step=1)}, trial_id=65143, value=None),\n",
       " FrozenTrial(number=392, state=TrialState.COMPLETE, values=[0.8611111111111112, 0.0], datetime_start=datetime.datetime(2023, 5, 3, 9, 9, 12, 358275), datetime_complete=datetime.datetime(2023, 5, 3, 9, 9, 14, 601769), params={'seed': 2133}, user_attrs={}, system_attrs={}, intermediate_values={}, distributions={'seed': IntDistribution(high=10000, log=False, low=1, step=1)}, trial_id=65144, value=None),\n",
       " FrozenTrial(number=393, state=TrialState.COMPLETE, values=[0.888888888888889, 0.0], datetime_start=datetime.datetime(2023, 5, 3, 9, 9, 12, 546935), datetime_complete=datetime.datetime(2023, 5, 3, 9, 9, 14, 839250), params={'seed': 917}, user_attrs={}, system_attrs={}, intermediate_values={}, distributions={'seed': IntDistribution(high=10000, log=False, low=1, step=1)}, trial_id=65145, value=None),\n",
       " FrozenTrial(number=394, state=TrialState.COMPLETE, values=[0.41666666666666663, 0.0], datetime_start=datetime.datetime(2023, 5, 3, 9, 9, 12, 699906), datetime_complete=datetime.datetime(2023, 5, 3, 9, 9, 15, 246764), params={'seed': 4349}, user_attrs={}, system_attrs={}, intermediate_values={}, distributions={'seed': IntDistribution(high=10000, log=False, low=1, step=1)}, trial_id=65146, value=None),\n",
       " FrozenTrial(number=395, state=TrialState.COMPLETE, values=[0.5138888888888888, 0.0], datetime_start=datetime.datetime(2023, 5, 3, 9, 9, 13, 46318), datetime_complete=datetime.datetime(2023, 5, 3, 9, 9, 14, 658958), params={'seed': 8241}, user_attrs={}, system_attrs={}, intermediate_values={}, distributions={'seed': IntDistribution(high=10000, log=False, low=1, step=1)}, trial_id=65147, value=None),\n",
       " FrozenTrial(number=396, state=TrialState.COMPLETE, values=[0.6666666666666666, 0.08478313684463501], datetime_start=datetime.datetime(2023, 5, 3, 9, 9, 13, 93798), datetime_complete=datetime.datetime(2023, 5, 3, 9, 9, 15, 275126), params={'seed': 7184}, user_attrs={}, system_attrs={}, intermediate_values={}, distributions={'seed': IntDistribution(high=10000, log=False, low=1, step=1)}, trial_id=65148, value=None),\n",
       " FrozenTrial(number=397, state=TrialState.COMPLETE, values=[0.5, 0.18031977117061615], datetime_start=datetime.datetime(2023, 5, 3, 9, 9, 13, 172964), datetime_complete=datetime.datetime(2023, 5, 3, 9, 9, 15, 591132), params={'seed': 4255}, user_attrs={}, system_attrs={}, intermediate_values={}, distributions={'seed': IntDistribution(high=10000, log=False, low=1, step=1)}, trial_id=65149, value=None),\n",
       " FrozenTrial(number=398, state=TrialState.COMPLETE, values=[0.7777777777777779, 0.0], datetime_start=datetime.datetime(2023, 5, 3, 9, 9, 13, 173361), datetime_complete=datetime.datetime(2023, 5, 3, 9, 9, 15, 673135), params={'seed': 967}, user_attrs={}, system_attrs={}, intermediate_values={}, distributions={'seed': IntDistribution(high=10000, log=False, low=1, step=1)}, trial_id=65150, value=None),\n",
       " FrozenTrial(number=399, state=TrialState.COMPLETE, values=[0.4615384615384615, 0.11787150800228119], datetime_start=datetime.datetime(2023, 5, 3, 9, 9, 13, 317633), datetime_complete=datetime.datetime(2023, 5, 3, 9, 9, 16, 22286), params={'seed': 1035}, user_attrs={}, system_attrs={}, intermediate_values={}, distributions={'seed': IntDistribution(high=10000, log=False, low=1, step=1)}, trial_id=65151, value=None),\n",
       " FrozenTrial(number=400, state=TrialState.COMPLETE, values=[0.846153846153846, 0.0], datetime_start=datetime.datetime(2023, 5, 3, 9, 9, 13, 353355), datetime_complete=datetime.datetime(2023, 5, 3, 9, 9, 15, 720202), params={'seed': 7086}, user_attrs={}, system_attrs={}, intermediate_values={}, distributions={'seed': IntDistribution(high=10000, log=False, low=1, step=1)}, trial_id=65152, value=None),\n",
       " FrozenTrial(number=401, state=TrialState.COMPLETE, values=[0.6666666666666667, 0.06923464685678482], datetime_start=datetime.datetime(2023, 5, 3, 9, 9, 13, 560866), datetime_complete=datetime.datetime(2023, 5, 3, 9, 9, 15, 875229), params={'seed': 4919}, user_attrs={}, system_attrs={}, intermediate_values={}, distributions={'seed': IntDistribution(high=10000, log=False, low=1, step=1)}, trial_id=65153, value=None),\n",
       " FrozenTrial(number=402, state=TrialState.COMPLETE, values=[0.6538461538461539, 0.06515209376811981], datetime_start=datetime.datetime(2023, 5, 3, 9, 9, 13, 683852), datetime_complete=datetime.datetime(2023, 5, 3, 9, 9, 16, 4082), params={'seed': 221}, user_attrs={}, system_attrs={}, intermediate_values={}, distributions={'seed': IntDistribution(high=10000, log=False, low=1, step=1)}, trial_id=65154, value=None),\n",
       " FrozenTrial(number=403, state=TrialState.COMPLETE, values=[0.6388888888888888, 0.0], datetime_start=datetime.datetime(2023, 5, 3, 9, 9, 13, 987975), datetime_complete=datetime.datetime(2023, 5, 3, 9, 9, 16, 416281), params={'seed': 9137}, user_attrs={}, system_attrs={}, intermediate_values={}, distributions={'seed': IntDistribution(high=10000, log=False, low=1, step=1)}, trial_id=65155, value=None),\n",
       " FrozenTrial(number=404, state=TrialState.COMPLETE, values=[0.9230769230769231, 0.0], datetime_start=datetime.datetime(2023, 5, 3, 9, 9, 14, 452569), datetime_complete=datetime.datetime(2023, 5, 3, 9, 9, 16, 443105), params={'seed': 4985}, user_attrs={}, system_attrs={}, intermediate_values={}, distributions={'seed': IntDistribution(high=10000, log=False, low=1, step=1)}, trial_id=65156, value=None),\n",
       " FrozenTrial(number=405, state=TrialState.COMPLETE, values=[0.6666666666666666, 0.0], datetime_start=datetime.datetime(2023, 5, 3, 9, 9, 14, 815087), datetime_complete=datetime.datetime(2023, 5, 3, 9, 9, 17, 222874), params={'seed': 9231}, user_attrs={}, system_attrs={}, intermediate_values={}, distributions={'seed': IntDistribution(high=10000, log=False, low=1, step=1)}, trial_id=65157, value=None),\n",
       " FrozenTrial(number=406, state=TrialState.COMPLETE, values=[0.5769230769230769, 0.0], datetime_start=datetime.datetime(2023, 5, 3, 9, 9, 15, 221406), datetime_complete=datetime.datetime(2023, 5, 3, 9, 9, 17, 505925), params={'seed': 1292}, user_attrs={}, system_attrs={}, intermediate_values={}, distributions={'seed': IntDistribution(high=10000, log=False, low=1, step=1)}, trial_id=65158, value=None),\n",
       " FrozenTrial(number=407, state=TrialState.COMPLETE, values=[0.9615384615384616, 0.0], datetime_start=datetime.datetime(2023, 5, 3, 9, 9, 15, 354306), datetime_complete=datetime.datetime(2023, 5, 3, 9, 9, 17, 371195), params={'seed': 3935}, user_attrs={}, system_attrs={}, intermediate_values={}, distributions={'seed': IntDistribution(high=10000, log=False, low=1, step=1)}, trial_id=65159, value=None),\n",
       " FrozenTrial(number=408, state=TrialState.COMPLETE, values=[0.6666666666666666, 0.09411969035863876], datetime_start=datetime.datetime(2023, 5, 3, 9, 9, 15, 402220), datetime_complete=datetime.datetime(2023, 5, 3, 9, 9, 17, 245055), params={'seed': 1314}, user_attrs={}, system_attrs={}, intermediate_values={}, distributions={'seed': IntDistribution(high=10000, log=False, low=1, step=1)}, trial_id=65160, value=None),\n",
       " FrozenTrial(number=409, state=TrialState.COMPLETE, values=[0.9230769230769231, 0.07226822525262833], datetime_start=datetime.datetime(2023, 5, 3, 9, 9, 15, 507022), datetime_complete=datetime.datetime(2023, 5, 3, 9, 9, 17, 413435), params={'seed': 1328}, user_attrs={}, system_attrs={}, intermediate_values={}, distributions={'seed': IntDistribution(high=10000, log=False, low=1, step=1)}, trial_id=65161, value=None),\n",
       " FrozenTrial(number=410, state=TrialState.COMPLETE, values=[0.8611111111111112, 0.0], datetime_start=datetime.datetime(2023, 5, 3, 9, 9, 15, 556456), datetime_complete=datetime.datetime(2023, 5, 3, 9, 9, 17, 328194), params={'seed': 9130}, user_attrs={}, system_attrs={}, intermediate_values={}, distributions={'seed': IntDistribution(high=10000, log=False, low=1, step=1)}, trial_id=65162, value=None),\n",
       " FrozenTrial(number=411, state=TrialState.COMPLETE, values=[0.8333333333333334, 0.08139873296022415], datetime_start=datetime.datetime(2023, 5, 3, 9, 9, 15, 697020), datetime_complete=datetime.datetime(2023, 5, 3, 9, 9, 17, 678166), params={'seed': 5886}, user_attrs={}, system_attrs={}, intermediate_values={}, distributions={'seed': IntDistribution(high=10000, log=False, low=1, step=1)}, trial_id=65163, value=None),\n",
       " FrozenTrial(number=412, state=TrialState.COMPLETE, values=[0.6944444444444444, 0.0], datetime_start=datetime.datetime(2023, 5, 3, 9, 9, 15, 851027), datetime_complete=datetime.datetime(2023, 5, 3, 9, 9, 18, 293572), params={'seed': 2558}, user_attrs={}, system_attrs={}, intermediate_values={}, distributions={'seed': IntDistribution(high=10000, log=False, low=1, step=1)}, trial_id=65164, value=None),\n",
       " FrozenTrial(number=413, state=TrialState.COMPLETE, values=[0.7638888888888888, 0.0], datetime_start=datetime.datetime(2023, 5, 3, 9, 9, 16, 141628), datetime_complete=datetime.datetime(2023, 5, 3, 9, 9, 18, 529127), params={'seed': 6479}, user_attrs={}, system_attrs={}, intermediate_values={}, distributions={'seed': IntDistribution(high=10000, log=False, low=1, step=1)}, trial_id=65165, value=None),\n",
       " FrozenTrial(number=414, state=TrialState.COMPLETE, values=[0.8653846153846154, 0.0], datetime_start=datetime.datetime(2023, 5, 3, 9, 9, 16, 263150), datetime_complete=datetime.datetime(2023, 5, 3, 9, 9, 18, 577565), params={'seed': 1693}, user_attrs={}, system_attrs={}, intermediate_values={}, distributions={'seed': IntDistribution(high=10000, log=False, low=1, step=1)}, trial_id=65166, value=None),\n",
       " FrozenTrial(number=415, state=TrialState.COMPLETE, values=[0.9166666666666666, 0.09268591552972794], datetime_start=datetime.datetime(2023, 5, 3, 9, 9, 16, 467826), datetime_complete=datetime.datetime(2023, 5, 3, 9, 9, 18, 687386), params={'seed': 1091}, user_attrs={}, system_attrs={}, intermediate_values={}, distributions={'seed': IntDistribution(high=10000, log=False, low=1, step=1)}, trial_id=65167, value=None),\n",
       " FrozenTrial(number=416, state=TrialState.COMPLETE, values=[0.8461538461538461, 0.11564876139163971], datetime_start=datetime.datetime(2023, 5, 3, 9, 9, 16, 652070), datetime_complete=datetime.datetime(2023, 5, 3, 9, 9, 18, 841142), params={'seed': 1748}, user_attrs={}, system_attrs={}, intermediate_values={}, distributions={'seed': IntDistribution(high=10000, log=False, low=1, step=1)}, trial_id=65168, value=None),\n",
       " FrozenTrial(number=417, state=TrialState.COMPLETE, values=[0.5555555555555556, 0.35147514939308167], datetime_start=datetime.datetime(2023, 5, 3, 9, 9, 17, 1238), datetime_complete=datetime.datetime(2023, 5, 3, 9, 9, 19, 457440), params={'seed': 579}, user_attrs={}, system_attrs={}, intermediate_values={}, distributions={'seed': IntDistribution(high=10000, log=False, low=1, step=1)}, trial_id=65169, value=None),\n",
       " FrozenTrial(number=418, state=TrialState.COMPLETE, values=[0.5555555555555556, 0.0], datetime_start=datetime.datetime(2023, 5, 3, 9, 9, 17, 108086), datetime_complete=datetime.datetime(2023, 5, 3, 9, 9, 18, 599543), params={'seed': 1688}, user_attrs={}, system_attrs={}, intermediate_values={}, distributions={'seed': IntDistribution(high=10000, log=False, low=1, step=1)}, trial_id=65170, value=None),\n",
       " FrozenTrial(number=419, state=TrialState.COMPLETE, values=[0.8055555555555555, 0.06661469489336014], datetime_start=datetime.datetime(2023, 5, 3, 9, 9, 17, 197179), datetime_complete=datetime.datetime(2023, 5, 3, 9, 9, 18, 942686), params={'seed': 1699}, user_attrs={}, system_attrs={}, intermediate_values={}, distributions={'seed': IntDistribution(high=10000, log=False, low=1, step=1)}, trial_id=65171, value=None),\n",
       " FrozenTrial(number=420, state=TrialState.COMPLETE, values=[0.9444444444444445, 0.11787150055170059], datetime_start=datetime.datetime(2023, 5, 3, 9, 9, 17, 346376), datetime_complete=datetime.datetime(2023, 5, 3, 9, 9, 19, 731345), params={'seed': 728}, user_attrs={}, system_attrs={}, intermediate_values={}, distributions={'seed': IntDistribution(high=10000, log=False, low=1, step=1)}, trial_id=65172, value=None),\n",
       " FrozenTrial(number=421, state=TrialState.COMPLETE, values=[0.6666666666666667, 0.0], datetime_start=datetime.datetime(2023, 5, 3, 9, 9, 17, 640594), datetime_complete=datetime.datetime(2023, 5, 3, 9, 9, 19, 760390), params={'seed': 836}, user_attrs={}, system_attrs={}, intermediate_values={}, distributions={'seed': IntDistribution(high=10000, log=False, low=1, step=1)}, trial_id=65173, value=None),\n",
       " FrozenTrial(number=422, state=TrialState.COMPLETE, values=[0.9166666666666666, 0.0], datetime_start=datetime.datetime(2023, 5, 3, 9, 9, 17, 802884), datetime_complete=datetime.datetime(2023, 5, 3, 9, 9, 19, 978316), params={'seed': 5260}, user_attrs={}, system_attrs={}, intermediate_values={}, distributions={'seed': IntDistribution(high=10000, log=False, low=1, step=1)}, trial_id=65174, value=None),\n",
       " FrozenTrial(number=423, state=TrialState.COMPLETE, values=[0.8333333333333334, 0.0], datetime_start=datetime.datetime(2023, 5, 3, 9, 9, 17, 803914), datetime_complete=datetime.datetime(2023, 5, 3, 9, 9, 20, 104663), params={'seed': 618}, user_attrs={}, system_attrs={}, intermediate_values={}, distributions={'seed': IntDistribution(high=10000, log=False, low=1, step=1)}, trial_id=65175, value=None),\n",
       " FrozenTrial(number=424, state=TrialState.COMPLETE, values=[0.846153846153846, 0.08464497327804565], datetime_start=datetime.datetime(2023, 5, 3, 9, 9, 18, 57808), datetime_complete=datetime.datetime(2023, 5, 3, 9, 9, 19, 860303), params={'seed': 6831}, user_attrs={}, system_attrs={}, intermediate_values={}, distributions={'seed': IntDistribution(high=10000, log=False, low=1, step=1)}, trial_id=65176, value=None),\n",
       " FrozenTrial(number=425, state=TrialState.COMPLETE, values=[0.8846153846153846, 0.15241003036499023], datetime_start=datetime.datetime(2023, 5, 3, 9, 9, 18, 154927), datetime_complete=datetime.datetime(2023, 5, 3, 9, 9, 20, 625539), params={'seed': 711}, user_attrs={}, system_attrs={}, intermediate_values={}, distributions={'seed': IntDistribution(high=10000, log=False, low=1, step=1)}, trial_id=65177, value=None),\n",
       " FrozenTrial(number=426, state=TrialState.COMPLETE, values=[0.861111111111111, 0.05934980511665344], datetime_start=datetime.datetime(2023, 5, 3, 9, 9, 18, 254439), datetime_complete=datetime.datetime(2023, 5, 3, 9, 9, 20, 381194), params={'seed': 651}, user_attrs={}, system_attrs={}, intermediate_values={}, distributions={'seed': IntDistribution(high=10000, log=False, low=1, step=1)}, trial_id=65178, value=None),\n",
       " FrozenTrial(number=427, state=TrialState.COMPLETE, values=[0.8846153846153846, 0.23012477159500122], datetime_start=datetime.datetime(2023, 5, 3, 9, 9, 18, 501366), datetime_complete=datetime.datetime(2023, 5, 3, 9, 9, 21, 144645), params={'seed': 742}, user_attrs={}, system_attrs={}, intermediate_values={}, distributions={'seed': IntDistribution(high=10000, log=False, low=1, step=1)}, trial_id=65179, value=None),\n",
       " FrozenTrial(number=428, state=TrialState.COMPLETE, values=[0.9444444444444445, 0.11787150055170059], datetime_start=datetime.datetime(2023, 5, 3, 9, 9, 18, 817571), datetime_complete=datetime.datetime(2023, 5, 3, 9, 9, 21, 316170), params={'seed': 728}, user_attrs={}, system_attrs={}, intermediate_values={}, distributions={'seed': IntDistribution(high=10000, log=False, low=1, step=1)}, trial_id=65180, value=None),\n",
       " FrozenTrial(number=429, state=TrialState.COMPLETE, values=[0.9722222222222222, 0.0], datetime_start=datetime.datetime(2023, 5, 3, 9, 9, 19, 122974), datetime_complete=datetime.datetime(2023, 5, 3, 9, 9, 21, 608736), params={'seed': 4792}, user_attrs={}, system_attrs={}, intermediate_values={}, distributions={'seed': IntDistribution(high=10000, log=False, low=1, step=1)}, trial_id=65181, value=None),\n",
       " FrozenTrial(number=430, state=TrialState.COMPLETE, values=[0.9230769230769231, 0.0], datetime_start=datetime.datetime(2023, 5, 3, 9, 9, 19, 193145), datetime_complete=datetime.datetime(2023, 5, 3, 9, 9, 21, 388789), params={'seed': 1004}, user_attrs={}, system_attrs={}, intermediate_values={}, distributions={'seed': IntDistribution(high=10000, log=False, low=1, step=1)}, trial_id=65182, value=None),\n",
       " FrozenTrial(number=431, state=TrialState.COMPLETE, values=[0.611111111111111, 0.07352522760629654], datetime_start=datetime.datetime(2023, 5, 3, 9, 9, 19, 192738), datetime_complete=datetime.datetime(2023, 5, 3, 9, 9, 21, 517327), params={'seed': 1104}, user_attrs={}, system_attrs={}, intermediate_values={}, distributions={'seed': IntDistribution(high=10000, log=False, low=1, step=1)}, trial_id=65183, value=None),\n",
       " FrozenTrial(number=432, state=TrialState.COMPLETE, values=[0.8846153846153846, 0.10764657706022263], datetime_start=datetime.datetime(2023, 5, 3, 9, 9, 19, 518634), datetime_complete=datetime.datetime(2023, 5, 3, 9, 9, 21, 934407), params={'seed': 4758}, user_attrs={}, system_attrs={}, intermediate_values={}, distributions={'seed': IntDistribution(high=10000, log=False, low=1, step=1)}, trial_id=65184, value=None),\n",
       " FrozenTrial(number=433, state=TrialState.COMPLETE, values=[0.6538461538461539, 0.05664948374032974], datetime_start=datetime.datetime(2023, 5, 3, 9, 9, 19, 520878), datetime_complete=datetime.datetime(2023, 5, 3, 9, 9, 21, 912558), params={'seed': 1125}, user_attrs={}, system_attrs={}, intermediate_values={}, distributions={'seed': IntDistribution(high=10000, log=False, low=1, step=1)}, trial_id=65185, value=None),\n",
       " FrozenTrial(number=434, state=TrialState.COMPLETE, values=[0.9722222222222222, 0.0], datetime_start=datetime.datetime(2023, 5, 3, 9, 9, 19, 692296), datetime_complete=datetime.datetime(2023, 5, 3, 9, 9, 21, 367032), params={'seed': 8580}, user_attrs={}, system_attrs={}, intermediate_values={}, distributions={'seed': IntDistribution(high=10000, log=False, low=1, step=1)}, trial_id=65186, value=None),\n",
       " FrozenTrial(number=435, state=TrialState.COMPLETE, values=[0.6805555555555556, 0.0], datetime_start=datetime.datetime(2023, 5, 3, 9, 9, 19, 950320), datetime_complete=datetime.datetime(2023, 5, 3, 9, 9, 22, 619236), params={'seed': 977}, user_attrs={}, system_attrs={}, intermediate_values={}, distributions={'seed': IntDistribution(high=10000, log=False, low=1, step=1)}, trial_id=65187, value=None),\n",
       " FrozenTrial(number=436, state=TrialState.COMPLETE, values=[0.9230769230769231, 0.14974799752235413], datetime_start=datetime.datetime(2023, 5, 3, 9, 9, 20, 174617), datetime_complete=datetime.datetime(2023, 5, 3, 9, 9, 23, 404250), params={'seed': 1548}, user_attrs={}, system_attrs={}, intermediate_values={}, distributions={'seed': IntDistribution(high=10000, log=False, low=1, step=1)}, trial_id=65188, value=None),\n",
       " FrozenTrial(number=437, state=TrialState.COMPLETE, values=[0.6153846153846154, 0.11549975723028183], datetime_start=datetime.datetime(2023, 5, 3, 9, 9, 20, 314743), datetime_complete=datetime.datetime(2023, 5, 3, 9, 9, 23, 340304), params={'seed': 3337}, user_attrs={}, system_attrs={}, intermediate_values={}, distributions={'seed': IntDistribution(high=10000, log=False, low=1, step=1)}, trial_id=65189, value=None),\n",
       " FrozenTrial(number=438, state=TrialState.COMPLETE, values=[0.5555555555555556, 0.0], datetime_start=datetime.datetime(2023, 5, 3, 9, 9, 20, 325191), datetime_complete=datetime.datetime(2023, 5, 3, 9, 9, 23, 75328), params={'seed': 4108}, user_attrs={}, system_attrs={}, intermediate_values={}, distributions={'seed': IntDistribution(high=10000, log=False, low=1, step=1)}, trial_id=65190, value=None),\n",
       " FrozenTrial(number=439, state=TrialState.COMPLETE, values=[0.8076923076923077, 0.0], datetime_start=datetime.datetime(2023, 5, 3, 9, 9, 20, 756259), datetime_complete=datetime.datetime(2023, 5, 3, 9, 9, 23, 452171), params={'seed': 1388}, user_attrs={}, system_attrs={}, intermediate_values={}, distributions={'seed': IntDistribution(high=10000, log=False, low=1, step=1)}, trial_id=65191, value=None),\n",
       " FrozenTrial(number=440, state=TrialState.COMPLETE, values=[0.7777777777777777, 0.0], datetime_start=datetime.datetime(2023, 5, 3, 9, 9, 21, 110029), datetime_complete=datetime.datetime(2023, 5, 3, 9, 9, 22, 647299), params={'seed': 4804}, user_attrs={}, system_attrs={}, intermediate_values={}, distributions={'seed': IntDistribution(high=10000, log=False, low=1, step=1)}, trial_id=65192, value=None),\n",
       " FrozenTrial(number=441, state=TrialState.COMPLETE, values=[0.5972222222222223, 0.0], datetime_start=datetime.datetime(2023, 5, 3, 9, 9, 21, 171156), datetime_complete=datetime.datetime(2023, 5, 3, 9, 9, 23, 125303), params={'seed': 1468}, user_attrs={}, system_attrs={}, intermediate_values={}, distributions={'seed': IntDistribution(high=10000, log=False, low=1, step=1)}, trial_id=65193, value=None),\n",
       " FrozenTrial(number=442, state=TrialState.COMPLETE, values=[0.9615384615384616, 0.0], datetime_start=datetime.datetime(2023, 5, 3, 9, 9, 21, 411775), datetime_complete=datetime.datetime(2023, 5, 3, 9, 9, 23, 779405), params={'seed': 1479}, user_attrs={}, system_attrs={}, intermediate_values={}, distributions={'seed': IntDistribution(high=10000, log=False, low=1, step=1)}, trial_id=65194, value=None),\n",
       " FrozenTrial(number=443, state=TrialState.COMPLETE, values=[0.75, 0.1593589335680008], datetime_start=datetime.datetime(2023, 5, 3, 9, 9, 21, 476043), datetime_complete=datetime.datetime(2023, 5, 3, 9, 9, 23, 573391), params={'seed': 3569}, user_attrs={}, system_attrs={}, intermediate_values={}, distributions={'seed': IntDistribution(high=10000, log=False, low=1, step=1)}, trial_id=65195, value=None),\n",
       " FrozenTrial(number=444, state=TrialState.COMPLETE, values=[0.9230769230769231, 0.17748209834098816], datetime_start=datetime.datetime(2023, 5, 3, 9, 9, 21, 825087), datetime_complete=datetime.datetime(2023, 5, 3, 9, 9, 24, 352320), params={'seed': 1401}, user_attrs={}, system_attrs={}, intermediate_values={}, distributions={'seed': IntDistribution(high=10000, log=False, low=1, step=1)}, trial_id=65196, value=None),\n",
       " FrozenTrial(number=445, state=TrialState.COMPLETE, values=[0.6666666666666666, 0.19173328578472137], datetime_start=datetime.datetime(2023, 5, 3, 9, 9, 21, 816836), datetime_complete=datetime.datetime(2023, 5, 3, 9, 9, 24, 234599), params={'seed': 451}, user_attrs={}, system_attrs={}, intermediate_values={}, distributions={'seed': IntDistribution(high=10000, log=False, low=1, step=1)}, trial_id=65197, value=None),\n",
       " FrozenTrial(number=446, state=TrialState.COMPLETE, values=[0.8461538461538461, 0.0], datetime_start=datetime.datetime(2023, 5, 3, 9, 9, 21, 826013), datetime_complete=datetime.datetime(2023, 5, 3, 9, 9, 24, 573967), params={'seed': 7902}, user_attrs={}, system_attrs={}, intermediate_values={}, distributions={'seed': IntDistribution(high=10000, log=False, low=1, step=1)}, trial_id=65198, value=None),\n",
       " FrozenTrial(number=447, state=TrialState.COMPLETE, values=[0.6666666666666666, 0.0], datetime_start=datetime.datetime(2023, 5, 3, 9, 9, 21, 963634), datetime_complete=datetime.datetime(2023, 5, 3, 9, 9, 24, 484613), params={'seed': 1393}, user_attrs={}, system_attrs={}, intermediate_values={}, distributions={'seed': IntDistribution(high=10000, log=False, low=1, step=1)}, trial_id=65199, value=None),\n",
       " FrozenTrial(number=448, state=TrialState.COMPLETE, values=[0.9166666666666666, 0.0], datetime_start=datetime.datetime(2023, 5, 3, 9, 9, 22, 494094), datetime_complete=datetime.datetime(2023, 5, 3, 9, 9, 24, 639694), params={'seed': 7787}, user_attrs={}, system_attrs={}, intermediate_values={}, distributions={'seed': IntDistribution(high=10000, log=False, low=1, step=1)}, trial_id=65200, value=None),\n",
       " FrozenTrial(number=449, state=TrialState.COMPLETE, values=[0.7777777777777778, 0.6426613926887512], datetime_start=datetime.datetime(2023, 5, 3, 9, 9, 22, 854496), datetime_complete=datetime.datetime(2023, 5, 3, 9, 9, 24, 596514), params={'seed': 5708}, user_attrs={}, system_attrs={}, intermediate_values={}, distributions={'seed': IntDistribution(high=10000, log=False, low=1, step=1)}, trial_id=65201, value=None),\n",
       " FrozenTrial(number=450, state=TrialState.COMPLETE, values=[0.8846153846153846, 0.030077125877141953], datetime_start=datetime.datetime(2023, 5, 3, 9, 9, 23, 37623), datetime_complete=datetime.datetime(2023, 5, 3, 9, 9, 25, 295401), params={'seed': 7850}, user_attrs={}, system_attrs={}, intermediate_values={}, distributions={'seed': IntDistribution(high=10000, log=False, low=1, step=1)}, trial_id=65202, value=None),\n",
       " FrozenTrial(number=451, state=TrialState.COMPLETE, values=[0.423076923076923, 0.0], datetime_start=datetime.datetime(2023, 5, 3, 9, 9, 23, 262006), datetime_complete=datetime.datetime(2023, 5, 3, 9, 9, 25, 340971), params={'seed': 5668}, user_attrs={}, system_attrs={}, intermediate_values={}, distributions={'seed': IntDistribution(high=10000, log=False, low=1, step=1)}, trial_id=65203, value=None),\n",
       " FrozenTrial(number=452, state=TrialState.COMPLETE, values=[0.9444444444444444, 0.0], datetime_start=datetime.datetime(2023, 5, 3, 9, 9, 23, 267403), datetime_complete=datetime.datetime(2023, 5, 3, 9, 9, 24, 980438), params={'seed': 7432}, user_attrs={}, system_attrs={}, intermediate_values={}, distributions={'seed': IntDistribution(high=10000, log=False, low=1, step=1)}, trial_id=65204, value=None),\n",
       " FrozenTrial(number=453, state=TrialState.COMPLETE, values=[0.7777777777777778, 0.3181094527244568], datetime_start=datetime.datetime(2023, 5, 3, 9, 9, 23, 651995), datetime_complete=datetime.datetime(2023, 5, 3, 9, 9, 26, 425431), params={'seed': 5796}, user_attrs={}, system_attrs={}, intermediate_values={}, distributions={'seed': IntDistribution(high=10000, log=False, low=1, step=1)}, trial_id=65205, value=None),\n",
       " FrozenTrial(number=454, state=TrialState.COMPLETE, values=[0.6111111111111112, 0.0], datetime_start=datetime.datetime(2023, 5, 3, 9, 9, 24, 6470), datetime_complete=datetime.datetime(2023, 5, 3, 9, 9, 26, 468340), params={'seed': 5619}, user_attrs={}, system_attrs={}, intermediate_values={}, distributions={'seed': IntDistribution(high=10000, log=False, low=1, step=1)}, trial_id=65206, value=None),\n",
       " FrozenTrial(number=455, state=TrialState.COMPLETE, values=[0.8461538461538461, 0.0], datetime_start=datetime.datetime(2023, 5, 3, 9, 9, 24, 210101), datetime_complete=datetime.datetime(2023, 5, 3, 9, 9, 26, 44959), params={'seed': 5676}, user_attrs={}, system_attrs={}, intermediate_values={}, distributions={'seed': IntDistribution(high=10000, log=False, low=1, step=1)}, trial_id=65207, value=None),\n",
       " FrozenTrial(number=456, state=TrialState.COMPLETE, values=[0.6538461538461539, 0.06406419724225998], datetime_start=datetime.datetime(2023, 5, 3, 9, 9, 24, 299013), datetime_complete=datetime.datetime(2023, 5, 3, 9, 9, 26, 651547), params={'seed': 5127}, user_attrs={}, system_attrs={}, intermediate_values={}, distributions={'seed': IntDistribution(high=10000, log=False, low=1, step=1)}, trial_id=65208, value=None),\n",
       " FrozenTrial(number=457, state=TrialState.COMPLETE, values=[0.9444444444444444, 0.5069220662117004], datetime_start=datetime.datetime(2023, 5, 3, 9, 9, 24, 373960), datetime_complete=datetime.datetime(2023, 5, 3, 9, 9, 26, 945342), params={'seed': 5182}, user_attrs={}, system_attrs={}, intermediate_values={}, distributions={'seed': IntDistribution(high=10000, log=False, low=1, step=1)}, trial_id=65209, value=None),\n",
       " FrozenTrial(number=458, state=TrialState.COMPLETE, values=[1.0, 0.0], datetime_start=datetime.datetime(2023, 5, 3, 9, 9, 24, 375629), datetime_complete=datetime.datetime(2023, 5, 3, 9, 9, 27, 177611), params={'seed': 5154}, user_attrs={}, system_attrs={}, intermediate_values={}, distributions={'seed': IntDistribution(high=10000, log=False, low=1, step=1)}, trial_id=65210, value=None),\n",
       " FrozenTrial(number=459, state=TrialState.COMPLETE, values=[0.6527777777777778, 0.0], datetime_start=datetime.datetime(2023, 5, 3, 9, 9, 24, 763271), datetime_complete=datetime.datetime(2023, 5, 3, 9, 9, 27, 271941), params={'seed': 5979}, user_attrs={}, system_attrs={}, intermediate_values={}, distributions={'seed': IntDistribution(high=10000, log=False, low=1, step=1)}, trial_id=65211, value=None),\n",
       " FrozenTrial(number=460, state=TrialState.COMPLETE, values=[0.6538461538461539, 0.025700869038701057], datetime_start=datetime.datetime(2023, 5, 3, 9, 9, 24, 777304), datetime_complete=datetime.datetime(2023, 5, 3, 9, 9, 27, 298681), params={'seed': 5194}, user_attrs={}, system_attrs={}, intermediate_values={}, distributions={'seed': IntDistribution(high=10000, log=False, low=1, step=1)}, trial_id=65212, value=None),\n",
       " FrozenTrial(number=461, state=TrialState.COMPLETE, values=[0.6388888888888888, 0.0], datetime_start=datetime.datetime(2023, 5, 3, 9, 9, 24, 768489), datetime_complete=datetime.datetime(2023, 5, 3, 9, 9, 27, 396211), params={'seed': 5026}, user_attrs={}, system_attrs={}, intermediate_values={}, distributions={'seed': IntDistribution(high=10000, log=False, low=1, step=1)}, trial_id=65213, value=None),\n",
       " FrozenTrial(number=462, state=TrialState.COMPLETE, values=[0.8076923076923077, 0.07461079955101013], datetime_start=datetime.datetime(2023, 5, 3, 9, 9, 25, 10114), datetime_complete=datetime.datetime(2023, 5, 3, 9, 9, 27, 508728), params={'seed': 4487}, user_attrs={}, system_attrs={}, intermediate_values={}, distributions={'seed': IntDistribution(high=10000, log=False, low=1, step=1)}, trial_id=65214, value=None),\n",
       " FrozenTrial(number=463, state=TrialState.COMPLETE, values=[0.6923076923076923, 0.0], datetime_start=datetime.datetime(2023, 5, 3, 9, 9, 25, 11961), datetime_complete=datetime.datetime(2023, 5, 3, 9, 9, 27, 437487), params={'seed': 6346}, user_attrs={}, system_attrs={}, intermediate_values={}, distributions={'seed': IntDistribution(high=10000, log=False, low=1, step=1)}, trial_id=65215, value=None),\n",
       " FrozenTrial(number=464, state=TrialState.COMPLETE, values=[0.625, 0.0], datetime_start=datetime.datetime(2023, 5, 3, 9, 9, 25, 190649), datetime_complete=datetime.datetime(2023, 5, 3, 9, 9, 27, 668789), params={'seed': 4542}, user_attrs={}, system_attrs={}, intermediate_values={}, distributions={'seed': IntDistribution(high=10000, log=False, low=1, step=1)}, trial_id=65216, value=None),\n",
       " FrozenTrial(number=465, state=TrialState.COMPLETE, values=[0.4722222222222222, 0.0], datetime_start=datetime.datetime(2023, 5, 3, 9, 9, 25, 258820), datetime_complete=datetime.datetime(2023, 5, 3, 9, 9, 27, 930452), params={'seed': 5848}, user_attrs={}, system_attrs={}, intermediate_values={}, distributions={'seed': IntDistribution(high=10000, log=False, low=1, step=1)}, trial_id=65217, value=None),\n",
       " FrozenTrial(number=466, state=TrialState.COMPLETE, values=[1.0, 0.0], datetime_start=datetime.datetime(2023, 5, 3, 9, 9, 25, 475551), datetime_complete=datetime.datetime(2023, 5, 3, 9, 9, 28, 23794), params={'seed': 5362}, user_attrs={}, system_attrs={}, intermediate_values={}, distributions={'seed': IntDistribution(high=10000, log=False, low=1, step=1)}, trial_id=65218, value=None),\n",
       " FrozenTrial(number=467, state=TrialState.COMPLETE, values=[0.7692307692307693, 0.0], datetime_start=datetime.datetime(2023, 5, 3, 9, 9, 26, 144362), datetime_complete=datetime.datetime(2023, 5, 3, 9, 9, 28, 366663), params={'seed': 5406}, user_attrs={}, system_attrs={}, intermediate_values={}, distributions={'seed': IntDistribution(high=10000, log=False, low=1, step=1)}, trial_id=65219, value=None),\n",
       " FrozenTrial(number=468, state=TrialState.COMPLETE, values=[0.5833333333333334, 0.34526506066322327], datetime_start=datetime.datetime(2023, 5, 3, 9, 9, 26, 390153), datetime_complete=datetime.datetime(2023, 5, 3, 9, 9, 29, 59340), params={'seed': 5283}, user_attrs={}, system_attrs={}, intermediate_values={}, distributions={'seed': IntDistribution(high=10000, log=False, low=1, step=1)}, trial_id=65220, value=None),\n",
       " FrozenTrial(number=469, state=TrialState.COMPLETE, values=[0.888888888888889, 0.07678103446960449], datetime_start=datetime.datetime(2023, 5, 3, 9, 9, 27, 134465), datetime_complete=datetime.datetime(2023, 5, 3, 9, 9, 29, 675135), params={'seed': 5414}, user_attrs={}, system_attrs={}, intermediate_values={}, distributions={'seed': IntDistribution(high=10000, log=False, low=1, step=1)}, trial_id=65221, value=None),\n",
       " FrozenTrial(number=470, state=TrialState.COMPLETE, values=[0.7222222222222222, 0.0], datetime_start=datetime.datetime(2023, 5, 3, 9, 9, 27, 201106), datetime_complete=datetime.datetime(2023, 5, 3, 9, 9, 29, 185333), params={'seed': 5353}, user_attrs={}, system_attrs={}, intermediate_values={}, distributions={'seed': IntDistribution(high=10000, log=False, low=1, step=1)}, trial_id=65222, value=None),\n",
       " FrozenTrial(number=471, state=TrialState.COMPLETE, values=[0.8846153846153846, 0.0], datetime_start=datetime.datetime(2023, 5, 3, 9, 9, 27, 337331), datetime_complete=datetime.datetime(2023, 5, 3, 9, 9, 29, 616530), params={'seed': 5438}, user_attrs={}, system_attrs={}, intermediate_values={}, distributions={'seed': IntDistribution(high=10000, log=False, low=1, step=1)}, trial_id=65223, value=None),\n",
       " FrozenTrial(number=472, state=TrialState.COMPLETE, values=[0.8461538461538461, 0.050367314368486404], datetime_start=datetime.datetime(2023, 5, 3, 9, 9, 27, 413720), datetime_complete=datetime.datetime(2023, 5, 3, 9, 9, 30, 13370), params={'seed': 5463}, user_attrs={}, system_attrs={}, intermediate_values={}, distributions={'seed': IntDistribution(high=10000, log=False, low=1, step=1)}, trial_id=65224, value=None),\n",
       " FrozenTrial(number=473, state=TrialState.COMPLETE, values=[0.7222222222222222, 0.0], datetime_start=datetime.datetime(2023, 5, 3, 9, 9, 27, 527584), datetime_complete=datetime.datetime(2023, 5, 3, 9, 9, 30, 39651), params={'seed': 5430}, user_attrs={}, system_attrs={}, intermediate_values={}, distributions={'seed': IntDistribution(high=10000, log=False, low=1, step=1)}, trial_id=65225, value=None),\n",
       " FrozenTrial(number=474, state=TrialState.COMPLETE, values=[0.6944444444444444, 0.0], datetime_start=datetime.datetime(2023, 5, 3, 9, 9, 27, 633963), datetime_complete=datetime.datetime(2023, 5, 3, 9, 9, 30, 326543), params={'seed': 5367}, user_attrs={}, system_attrs={}, intermediate_values={}, distributions={'seed': IntDistribution(high=10000, log=False, low=1, step=1)}, trial_id=65226, value=None),\n",
       " FrozenTrial(number=475, state=TrialState.COMPLETE, values=[0.5, 0.0], datetime_start=datetime.datetime(2023, 5, 3, 9, 9, 27, 706393), datetime_complete=datetime.datetime(2023, 5, 3, 9, 9, 30, 297756), params={'seed': 5264}, user_attrs={}, system_attrs={}, intermediate_values={}, distributions={'seed': IntDistribution(high=10000, log=False, low=1, step=1)}, trial_id=65227, value=None),\n",
       " FrozenTrial(number=476, state=TrialState.COMPLETE, values=[0.8461538461538461, 0.0], datetime_start=datetime.datetime(2023, 5, 3, 9, 9, 27, 775947), datetime_complete=datetime.datetime(2023, 5, 3, 9, 9, 30, 95693), params={'seed': 5491}, user_attrs={}, system_attrs={}, intermediate_values={}, distributions={'seed': IntDistribution(high=10000, log=False, low=1, step=1)}, trial_id=65228, value=None),\n",
       " FrozenTrial(number=477, state=TrialState.COMPLETE, values=[0.9615384615384616, 0.0], datetime_start=datetime.datetime(2023, 5, 3, 9, 9, 27, 777753), datetime_complete=datetime.datetime(2023, 5, 3, 9, 9, 30, 469818), params={'seed': 5505}, user_attrs={}, system_attrs={}, intermediate_values={}, distributions={'seed': IntDistribution(high=10000, log=False, low=1, step=1)}, trial_id=65229, value=None),\n",
       " FrozenTrial(number=478, state=TrialState.COMPLETE, values=[0.8461538461538461, 0.0], datetime_start=datetime.datetime(2023, 5, 3, 9, 9, 27, 973039), datetime_complete=datetime.datetime(2023, 5, 3, 9, 9, 30, 619492), params={'seed': 5287}, user_attrs={}, system_attrs={}, intermediate_values={}, distributions={'seed': IntDistribution(high=10000, log=False, low=1, step=1)}, trial_id=65230, value=None),\n",
       " FrozenTrial(number=479, state=TrialState.COMPLETE, values=[0.8461538461538461, 0.0], datetime_start=datetime.datetime(2023, 5, 3, 9, 9, 27, 971507), datetime_complete=datetime.datetime(2023, 5, 3, 9, 9, 30, 740689), params={'seed': 5491}, user_attrs={}, system_attrs={}, intermediate_values={}, distributions={'seed': IntDistribution(high=10000, log=False, low=1, step=1)}, trial_id=65231, value=None),\n",
       " FrozenTrial(number=480, state=TrialState.COMPLETE, values=[0.6153846153846154, 0.048441238701343536], datetime_start=datetime.datetime(2023, 5, 3, 9, 9, 28, 181522), datetime_complete=datetime.datetime(2023, 5, 3, 9, 9, 30, 768125), params={'seed': 5519}, user_attrs={}, system_attrs={}, intermediate_values={}, distributions={'seed': IntDistribution(high=10000, log=False, low=1, step=1)}, trial_id=65232, value=None),\n",
       " FrozenTrial(number=481, state=TrialState.COMPLETE, values=[0.6538461538461539, 0.025700869038701057], datetime_start=datetime.datetime(2023, 5, 3, 9, 9, 28, 393646), datetime_complete=datetime.datetime(2023, 5, 3, 9, 9, 30, 978137), params={'seed': 5194}, user_attrs={}, system_attrs={}, intermediate_values={}, distributions={'seed': IntDistribution(high=10000, log=False, low=1, step=1)}, trial_id=65233, value=None),\n",
       " FrozenTrial(number=482, state=TrialState.COMPLETE, values=[0.9444444444444444, 0.0], datetime_start=datetime.datetime(2023, 5, 3, 9, 9, 28, 911717), datetime_complete=datetime.datetime(2023, 5, 3, 9, 9, 31, 298754), params={'seed': 5744}, user_attrs={}, system_attrs={}, intermediate_values={}, distributions={'seed': IntDistribution(high=10000, log=False, low=1, step=1)}, trial_id=65234, value=None),\n",
       " FrozenTrial(number=483, state=TrialState.COMPLETE, values=[0.7222222222222221, 0.0], datetime_start=datetime.datetime(2023, 5, 3, 9, 9, 29, 720208), datetime_complete=datetime.datetime(2023, 5, 3, 9, 9, 31, 387748), params={'seed': 5761}, user_attrs={}, system_attrs={}, intermediate_values={}, distributions={'seed': IntDistribution(high=10000, log=False, low=1, step=1)}, trial_id=65235, value=None),\n",
       " FrozenTrial(number=484, state=TrialState.COMPLETE, values=[0.5833333333333333, 0.0], datetime_start=datetime.datetime(2023, 5, 3, 9, 9, 29, 983815), datetime_complete=datetime.datetime(2023, 5, 3, 9, 9, 32, 606460), params={'seed': 5736}, user_attrs={}, system_attrs={}, intermediate_values={}, distributions={'seed': IntDistribution(high=10000, log=False, low=1, step=1)}, trial_id=65236, value=None),\n",
       " FrozenTrial(number=485, state=TrialState.COMPLETE, values=[0.6153846153846154, 0.0], datetime_start=datetime.datetime(2023, 5, 3, 9, 9, 30, 68681), datetime_complete=datetime.datetime(2023, 5, 3, 9, 9, 32, 294798), params={'seed': 5048}, user_attrs={}, system_attrs={}, intermediate_values={}, distributions={'seed': IntDistribution(high=10000, log=False, low=1, step=1)}, trial_id=65237, value=None),\n",
       " FrozenTrial(number=486, state=TrialState.COMPLETE, values=[0.9230769230769231, 0.0], datetime_start=datetime.datetime(2023, 5, 3, 9, 9, 30, 411828), datetime_complete=datetime.datetime(2023, 5, 3, 9, 9, 32, 682051), params={'seed': 5865}, user_attrs={}, system_attrs={}, intermediate_values={}, distributions={'seed': IntDistribution(high=10000, log=False, low=1, step=1)}, trial_id=65238, value=None),\n",
       " FrozenTrial(number=487, state=TrialState.COMPLETE, values=[0.75, 0.0], datetime_start=datetime.datetime(2023, 5, 3, 9, 9, 30, 491330), datetime_complete=datetime.datetime(2023, 5, 3, 9, 9, 32, 822623), params={'seed': 5030}, user_attrs={}, system_attrs={}, intermediate_values={}, distributions={'seed': IntDistribution(high=10000, log=False, low=1, step=1)}, trial_id=65239, value=None),\n",
       " FrozenTrial(number=488, state=TrialState.COMPLETE, values=[0.7692307692307693, 0.0], datetime_start=datetime.datetime(2023, 5, 3, 9, 9, 30, 526254), datetime_complete=datetime.datetime(2023, 5, 3, 9, 9, 32, 562731), params={'seed': 5064}, user_attrs={}, system_attrs={}, intermediate_values={}, distributions={'seed': IntDistribution(high=10000, log=False, low=1, step=1)}, trial_id=65240, value=None),\n",
       " FrozenTrial(number=489, state=TrialState.COMPLETE, values=[0.6923076923076923, 0.028247730806469917], datetime_start=datetime.datetime(2023, 5, 3, 9, 9, 30, 708029), datetime_complete=datetime.datetime(2023, 5, 3, 9, 9, 33, 232854), params={'seed': 4981}, user_attrs={}, system_attrs={}, intermediate_values={}, distributions={'seed': IntDistribution(high=10000, log=False, low=1, step=1)}, trial_id=65241, value=None),\n",
       " FrozenTrial(number=490, state=TrialState.COMPLETE, values=[0.9166666666666666, 0.0], datetime_start=datetime.datetime(2023, 5, 3, 9, 9, 30, 807685), datetime_complete=datetime.datetime(2023, 5, 3, 9, 9, 32, 788223), params={'seed': 4934}, user_attrs={}, system_attrs={}, intermediate_values={}, distributions={'seed': IntDistribution(high=10000, log=False, low=1, step=1)}, trial_id=65242, value=None),\n",
       " FrozenTrial(number=491, state=TrialState.COMPLETE, values=[0.846153846153846, 0.0], datetime_start=datetime.datetime(2023, 5, 3, 9, 9, 30, 808785), datetime_complete=datetime.datetime(2023, 5, 3, 9, 9, 33, 747275), params={'seed': 4949}, user_attrs={}, system_attrs={}, intermediate_values={}, distributions={'seed': IntDistribution(high=10000, log=False, low=1, step=1)}, trial_id=65243, value=None),\n",
       " FrozenTrial(number=492, state=TrialState.COMPLETE, values=[0.8846153846153847, 0.0], datetime_start=datetime.datetime(2023, 5, 3, 9, 9, 30, 810547), datetime_complete=datetime.datetime(2023, 5, 3, 9, 9, 33, 504128), params={'seed': 5177}, user_attrs={}, system_attrs={}, intermediate_values={}, distributions={'seed': IntDistribution(high=10000, log=False, low=1, step=1)}, trial_id=65244, value=None),\n",
       " FrozenTrial(number=493, state=TrialState.COMPLETE, values=[0.7222222222222222, 0.0], datetime_start=datetime.datetime(2023, 5, 3, 9, 9, 30, 917571), datetime_complete=datetime.datetime(2023, 5, 3, 9, 9, 33, 85825), params={'seed': 5014}, user_attrs={}, system_attrs={}, intermediate_values={}, distributions={'seed': IntDistribution(high=10000, log=False, low=1, step=1)}, trial_id=65245, value=None),\n",
       " FrozenTrial(number=494, state=TrialState.COMPLETE, values=[0.9444444444444444, 0.0], datetime_start=datetime.datetime(2023, 5, 3, 9, 9, 30, 956853), datetime_complete=datetime.datetime(2023, 5, 3, 9, 9, 33, 297849), params={'seed': 4966}, user_attrs={}, system_attrs={}, intermediate_values={}, distributions={'seed': IntDistribution(high=10000, log=False, low=1, step=1)}, trial_id=65246, value=None),\n",
       " FrozenTrial(number=495, state=TrialState.COMPLETE, values=[0.9166666666666667, 0.0], datetime_start=datetime.datetime(2023, 5, 3, 9, 9, 31, 159614), datetime_complete=datetime.datetime(2023, 5, 3, 9, 9, 33, 601883), params={'seed': 5002}, user_attrs={}, system_attrs={}, intermediate_values={}, distributions={'seed': IntDistribution(high=10000, log=False, low=1, step=1)}, trial_id=65247, value=None),\n",
       " FrozenTrial(number=496, state=TrialState.COMPLETE, values=[0.5, 0.0], datetime_start=datetime.datetime(2023, 5, 3, 9, 9, 31, 160189), datetime_complete=datetime.datetime(2023, 5, 3, 9, 9, 33, 712623), params={'seed': 5046}, user_attrs={}, system_attrs={}, intermediate_values={}, distributions={'seed': IntDistribution(high=10000, log=False, low=1, step=1)}, trial_id=65248, value=None),\n",
       " FrozenTrial(number=497, state=TrialState.COMPLETE, values=[0.7777777777777778, 0.0], datetime_start=datetime.datetime(2023, 5, 3, 9, 9, 31, 675355), datetime_complete=datetime.datetime(2023, 5, 3, 9, 9, 33, 874658), params={'seed': 6012}, user_attrs={}, system_attrs={}, intermediate_values={}, distributions={'seed': IntDistribution(high=10000, log=False, low=1, step=1)}, trial_id=65249, value=None),\n",
       " FrozenTrial(number=498, state=TrialState.COMPLETE, values=[0.9615384615384616, 0.0], datetime_start=datetime.datetime(2023, 5, 3, 9, 9, 32, 372576), datetime_complete=datetime.datetime(2023, 5, 3, 9, 9, 33, 928377), params={'seed': 4753}, user_attrs={}, system_attrs={}, intermediate_values={}, distributions={'seed': IntDistribution(high=10000, log=False, low=1, step=1)}, trial_id=65250, value=None),\n",
       " FrozenTrial(number=499, state=TrialState.COMPLETE, values=[0.6527777777777778, 0.0], datetime_start=datetime.datetime(2023, 5, 3, 9, 9, 32, 638067), datetime_complete=datetime.datetime(2023, 5, 3, 9, 9, 33, 995789), params={'seed': 5152}, user_attrs={}, system_attrs={}, intermediate_values={}, distributions={'seed': IntDistribution(high=10000, log=False, low=1, step=1)}, trial_id=65251, value=None)]"
      ]
     },
     "execution_count": 109,
     "metadata": {},
     "output_type": "execute_result"
    }
   ],
   "source": [
    "study.get_trials()"
   ]
  },
  {
   "cell_type": "code",
   "execution_count": 122,
   "metadata": {},
   "outputs": [
    {
     "name": "stdout",
     "output_type": "stream",
     "text": [
      "<class 'pandas.core.frame.DataFrame'>\n",
      "Int64Index: 28 entries, 10 to 468\n",
      "Data columns (total 9 columns):\n",
      " #   Column            Non-Null Count  Dtype  \n",
      "---  ------            --------------  -----  \n",
      " 0   alpha             28 non-null     float64\n",
      " 1   eta               28 non-null     float64\n",
      " 2   lambda            28 non-null     float64\n",
      " 3   max_depth         28 non-null     float64\n",
      " 4   scale_pos_weight  28 non-null     float64\n",
      " 5   seed              28 non-null     float64\n",
      " 6   subsample         28 non-null     float64\n",
      " 7   auc               28 non-null     float64\n",
      " 8   phe               28 non-null     float64\n",
      "dtypes: float64(9)\n",
      "memory usage: 2.2 KB\n"
     ]
    }
   ],
   "source": [
    "# Create a empty data frame for \n",
    "bs_trials = pd.DataFrame(columns=[\n",
    " 'alpha',\n",
    " 'eta',\n",
    " 'lambda',\n",
    " 'max_depth',\n",
    " 'scale_pos_weight',\n",
    " 'seed',\n",
    " 'subsample',\n",
    " 'auc', 'phe'\n",
    "])\n",
    "\n",
    "hardcoded_params = {\n",
    "            \"objective\": \"binary:logistic\",\n",
    "            \"eval_metric\":       \"logloss\",\n",
    "            \"max_depth\":                 5,\n",
    "            \"eta\":                0.226908,\n",
    "            \"subsample\":          0.749761,\n",
    "            \"lambda\":             0.418621,\n",
    "            \"alpha\":              0.466643,\n",
    "            \"scale_pos_weight\":   1.640296,\n",
    "    }\n",
    "\n",
    "CUTOFF = 0.00\n",
    "CUTOFF_PHE = 0.20\n",
    "\n",
    "for t in study.get_trials(): #[:499]:\n",
    "    if t.values[0] > CUTOFF and t.values[1] > CUTOFF_PHE:\n",
    "        #bs_trials.loc[t.number] = list(t.params.values()) + list(t.values)\n",
    "        bs_trials.loc[t.number] = [0.466643, 0.226908, 0.418621, 5, 1.640296] + list(t.params.values()) + [0.749761] + list(t.values)\n",
    "\n",
    "# for t in study.best_trials:\n",
    "# for t in better_trials:\n",
    "#     bs_trials.loc[t.number] = list(t.params.values()) + list(t.values)\n",
    "#     # and saves them to rows in a dataframe\n",
    "\n",
    "bs_trials.info()"
   ]
  },
  {
   "cell_type": "code",
   "execution_count": 123,
   "metadata": {},
   "outputs": [
    {
     "data": {
      "text/plain": [
       "alpha                  0.466643\n",
       "eta                    0.226908\n",
       "lambda                 0.418621\n",
       "max_depth              5.000000\n",
       "scale_pos_weight       1.640296\n",
       "seed                4528.000000\n",
       "subsample              0.749761\n",
       "auc                    0.777778\n",
       "phe                    0.286172\n",
       "Name: 50%, dtype: float64"
      ]
     },
     "execution_count": 123,
     "metadata": {},
     "output_type": "execute_result"
    }
   ],
   "source": [
    "bs_trials = bs_trials.drop_duplicates()\n",
    "bs_trials.describe().loc['50%']"
   ]
  },
  {
   "cell_type": "code",
   "execution_count": 124,
   "metadata": {},
   "outputs": [
    {
     "data": {
      "application/vnd.plotly.v1+json": {
       "config": {
        "plotlyServerURL": "https://plot.ly"
       },
       "data": [
        {
         "dimensions": [
          {
           "label": "seed",
           "values": [
            8246,
            9413,
            7826,
            3886,
            1778,
            7500,
            1566,
            1201,
            1591,
            1340,
            1765,
            1138,
            8002,
            8062,
            4528,
            1458,
            5408,
            5485,
            4414,
            9674,
            3401,
            579,
            742,
            5708,
            5796,
            5182,
            5283
           ]
          },
          {
           "label": "alpha",
           "values": [
            0.466643,
            0.466643,
            0.466643,
            0.466643,
            0.466643,
            0.466643,
            0.466643,
            0.466643,
            0.466643,
            0.466643,
            0.466643,
            0.466643,
            0.466643,
            0.466643,
            0.466643,
            0.466643,
            0.466643,
            0.466643,
            0.466643,
            0.466643,
            0.466643,
            0.466643,
            0.466643,
            0.466643,
            0.466643,
            0.466643,
            0.466643
           ]
          },
          {
           "label": "eta",
           "values": [
            0.226908,
            0.226908,
            0.226908,
            0.226908,
            0.226908,
            0.226908,
            0.226908,
            0.226908,
            0.226908,
            0.226908,
            0.226908,
            0.226908,
            0.226908,
            0.226908,
            0.226908,
            0.226908,
            0.226908,
            0.226908,
            0.226908,
            0.226908,
            0.226908,
            0.226908,
            0.226908,
            0.226908,
            0.226908,
            0.226908,
            0.226908
           ]
          },
          {
           "label": "lambda",
           "values": [
            0.418621,
            0.418621,
            0.418621,
            0.418621,
            0.418621,
            0.418621,
            0.418621,
            0.418621,
            0.418621,
            0.418621,
            0.418621,
            0.418621,
            0.418621,
            0.418621,
            0.418621,
            0.418621,
            0.418621,
            0.418621,
            0.418621,
            0.418621,
            0.418621,
            0.418621,
            0.418621,
            0.418621,
            0.418621,
            0.418621,
            0.418621
           ]
          },
          {
           "label": "max_depth",
           "values": [
            5,
            5,
            5,
            5,
            5,
            5,
            5,
            5,
            5,
            5,
            5,
            5,
            5,
            5,
            5,
            5,
            5,
            5,
            5,
            5,
            5,
            5,
            5,
            5,
            5,
            5,
            5
           ]
          },
          {
           "label": "scale_pos_weight",
           "values": [
            1.640296,
            1.640296,
            1.640296,
            1.640296,
            1.640296,
            1.640296,
            1.640296,
            1.640296,
            1.640296,
            1.640296,
            1.640296,
            1.640296,
            1.640296,
            1.640296,
            1.640296,
            1.640296,
            1.640296,
            1.640296,
            1.640296,
            1.640296,
            1.640296,
            1.640296,
            1.640296,
            1.640296,
            1.640296,
            1.640296,
            1.640296
           ]
          },
          {
           "label": "subsample",
           "values": [
            0.749761,
            0.749761,
            0.749761,
            0.749761,
            0.749761,
            0.749761,
            0.749761,
            0.749761,
            0.749761,
            0.749761,
            0.749761,
            0.749761,
            0.749761,
            0.749761,
            0.749761,
            0.749761,
            0.749761,
            0.749761,
            0.749761,
            0.749761,
            0.749761,
            0.749761,
            0.749761,
            0.749761,
            0.749761,
            0.749761,
            0.749761
           ]
          },
          {
           "label": "phe",
           "values": [
            0.2921534776687622,
            0.23181068897247314,
            0.33849599957466125,
            0.20039799809455872,
            0.3589838147163391,
            0.27288901805877686,
            0.33837130665779114,
            0.6909835934638977,
            0.2078661322593689,
            0.28617241978645325,
            0.25497788190841675,
            0.21118196845054626,
            0.27958470582962036,
            0.22409957647323608,
            0.3688807189464569,
            0.3297715187072754,
            0.21032612025737762,
            0.22163045406341553,
            0.33123522996902466,
            0.2122226059436798,
            0.22203786671161652,
            0.35147514939308167,
            0.23012477159500122,
            0.6426613926887512,
            0.3181094527244568,
            0.5069220662117004,
            0.34526506066322327
           ]
          },
          {
           "label": "auc",
           "values": [
            0.611111111111111,
            0.8333333333333334,
            0.9230769230769231,
            0.3076923076923077,
            0.9230769230769231,
            0.8461538461538461,
            0.6923076923076923,
            0.6944444444444444,
            0.75,
            0.6944444444444444,
            0.4444444444444444,
            0.9230769230769231,
            0.9615384615384616,
            0.625,
            1,
            0.75,
            0.8888888888888888,
            0.8076923076923076,
            0.5555555555555556,
            0.8076923076923077,
            0.9615384615384616,
            0.5555555555555556,
            0.8846153846153846,
            0.7777777777777778,
            0.7777777777777778,
            0.9444444444444444,
            0.5833333333333334
           ]
          }
         ],
         "domain": {
          "x": [
           0,
           1
          ],
          "y": [
           0,
           1
          ]
         },
         "line": {
          "color": [
           0.611111111111111,
           0.8333333333333334,
           0.9230769230769231,
           0.3076923076923077,
           0.9230769230769231,
           0.8461538461538461,
           0.6923076923076923,
           0.6944444444444444,
           0.75,
           0.6944444444444444,
           0.4444444444444444,
           0.9230769230769231,
           0.9615384615384616,
           0.625,
           1,
           0.75,
           0.8888888888888888,
           0.8076923076923076,
           0.5555555555555556,
           0.8076923076923077,
           0.9615384615384616,
           0.5555555555555556,
           0.8846153846153846,
           0.7777777777777778,
           0.7777777777777778,
           0.9444444444444444,
           0.5833333333333334
          ],
          "coloraxis": "coloraxis"
         },
         "name": "",
         "type": "parcoords"
        }
       ],
       "layout": {
        "coloraxis": {
         "colorbar": {
          "title": {
           "text": "auc"
          }
         },
         "colorscale": [
          [
           0,
           "#0d0887"
          ],
          [
           0.1111111111111111,
           "#46039f"
          ],
          [
           0.2222222222222222,
           "#7201a8"
          ],
          [
           0.3333333333333333,
           "#9c179e"
          ],
          [
           0.4444444444444444,
           "#bd3786"
          ],
          [
           0.5555555555555556,
           "#d8576b"
          ],
          [
           0.6666666666666666,
           "#ed7953"
          ],
          [
           0.7777777777777778,
           "#fb9f3a"
          ],
          [
           0.8888888888888888,
           "#fdca26"
          ],
          [
           1,
           "#f0f921"
          ]
         ]
        },
        "legend": {
         "tracegroupgap": 0
        },
        "margin": {
         "t": 60
        },
        "template": {
         "data": {
          "bar": [
           {
            "error_x": {
             "color": "#2a3f5f"
            },
            "error_y": {
             "color": "#2a3f5f"
            },
            "marker": {
             "line": {
              "color": "#E5ECF6",
              "width": 0.5
             },
             "pattern": {
              "fillmode": "overlay",
              "size": 10,
              "solidity": 0.2
             }
            },
            "type": "bar"
           }
          ],
          "barpolar": [
           {
            "marker": {
             "line": {
              "color": "#E5ECF6",
              "width": 0.5
             },
             "pattern": {
              "fillmode": "overlay",
              "size": 10,
              "solidity": 0.2
             }
            },
            "type": "barpolar"
           }
          ],
          "carpet": [
           {
            "aaxis": {
             "endlinecolor": "#2a3f5f",
             "gridcolor": "white",
             "linecolor": "white",
             "minorgridcolor": "white",
             "startlinecolor": "#2a3f5f"
            },
            "baxis": {
             "endlinecolor": "#2a3f5f",
             "gridcolor": "white",
             "linecolor": "white",
             "minorgridcolor": "white",
             "startlinecolor": "#2a3f5f"
            },
            "type": "carpet"
           }
          ],
          "choropleth": [
           {
            "colorbar": {
             "outlinewidth": 0,
             "ticks": ""
            },
            "type": "choropleth"
           }
          ],
          "contour": [
           {
            "colorbar": {
             "outlinewidth": 0,
             "ticks": ""
            },
            "colorscale": [
             [
              0,
              "#0d0887"
             ],
             [
              0.1111111111111111,
              "#46039f"
             ],
             [
              0.2222222222222222,
              "#7201a8"
             ],
             [
              0.3333333333333333,
              "#9c179e"
             ],
             [
              0.4444444444444444,
              "#bd3786"
             ],
             [
              0.5555555555555556,
              "#d8576b"
             ],
             [
              0.6666666666666666,
              "#ed7953"
             ],
             [
              0.7777777777777778,
              "#fb9f3a"
             ],
             [
              0.8888888888888888,
              "#fdca26"
             ],
             [
              1,
              "#f0f921"
             ]
            ],
            "type": "contour"
           }
          ],
          "contourcarpet": [
           {
            "colorbar": {
             "outlinewidth": 0,
             "ticks": ""
            },
            "type": "contourcarpet"
           }
          ],
          "heatmap": [
           {
            "colorbar": {
             "outlinewidth": 0,
             "ticks": ""
            },
            "colorscale": [
             [
              0,
              "#0d0887"
             ],
             [
              0.1111111111111111,
              "#46039f"
             ],
             [
              0.2222222222222222,
              "#7201a8"
             ],
             [
              0.3333333333333333,
              "#9c179e"
             ],
             [
              0.4444444444444444,
              "#bd3786"
             ],
             [
              0.5555555555555556,
              "#d8576b"
             ],
             [
              0.6666666666666666,
              "#ed7953"
             ],
             [
              0.7777777777777778,
              "#fb9f3a"
             ],
             [
              0.8888888888888888,
              "#fdca26"
             ],
             [
              1,
              "#f0f921"
             ]
            ],
            "type": "heatmap"
           }
          ],
          "heatmapgl": [
           {
            "colorbar": {
             "outlinewidth": 0,
             "ticks": ""
            },
            "colorscale": [
             [
              0,
              "#0d0887"
             ],
             [
              0.1111111111111111,
              "#46039f"
             ],
             [
              0.2222222222222222,
              "#7201a8"
             ],
             [
              0.3333333333333333,
              "#9c179e"
             ],
             [
              0.4444444444444444,
              "#bd3786"
             ],
             [
              0.5555555555555556,
              "#d8576b"
             ],
             [
              0.6666666666666666,
              "#ed7953"
             ],
             [
              0.7777777777777778,
              "#fb9f3a"
             ],
             [
              0.8888888888888888,
              "#fdca26"
             ],
             [
              1,
              "#f0f921"
             ]
            ],
            "type": "heatmapgl"
           }
          ],
          "histogram": [
           {
            "marker": {
             "pattern": {
              "fillmode": "overlay",
              "size": 10,
              "solidity": 0.2
             }
            },
            "type": "histogram"
           }
          ],
          "histogram2d": [
           {
            "colorbar": {
             "outlinewidth": 0,
             "ticks": ""
            },
            "colorscale": [
             [
              0,
              "#0d0887"
             ],
             [
              0.1111111111111111,
              "#46039f"
             ],
             [
              0.2222222222222222,
              "#7201a8"
             ],
             [
              0.3333333333333333,
              "#9c179e"
             ],
             [
              0.4444444444444444,
              "#bd3786"
             ],
             [
              0.5555555555555556,
              "#d8576b"
             ],
             [
              0.6666666666666666,
              "#ed7953"
             ],
             [
              0.7777777777777778,
              "#fb9f3a"
             ],
             [
              0.8888888888888888,
              "#fdca26"
             ],
             [
              1,
              "#f0f921"
             ]
            ],
            "type": "histogram2d"
           }
          ],
          "histogram2dcontour": [
           {
            "colorbar": {
             "outlinewidth": 0,
             "ticks": ""
            },
            "colorscale": [
             [
              0,
              "#0d0887"
             ],
             [
              0.1111111111111111,
              "#46039f"
             ],
             [
              0.2222222222222222,
              "#7201a8"
             ],
             [
              0.3333333333333333,
              "#9c179e"
             ],
             [
              0.4444444444444444,
              "#bd3786"
             ],
             [
              0.5555555555555556,
              "#d8576b"
             ],
             [
              0.6666666666666666,
              "#ed7953"
             ],
             [
              0.7777777777777778,
              "#fb9f3a"
             ],
             [
              0.8888888888888888,
              "#fdca26"
             ],
             [
              1,
              "#f0f921"
             ]
            ],
            "type": "histogram2dcontour"
           }
          ],
          "mesh3d": [
           {
            "colorbar": {
             "outlinewidth": 0,
             "ticks": ""
            },
            "type": "mesh3d"
           }
          ],
          "parcoords": [
           {
            "line": {
             "colorbar": {
              "outlinewidth": 0,
              "ticks": ""
             }
            },
            "type": "parcoords"
           }
          ],
          "pie": [
           {
            "automargin": true,
            "type": "pie"
           }
          ],
          "scatter": [
           {
            "fillpattern": {
             "fillmode": "overlay",
             "size": 10,
             "solidity": 0.2
            },
            "type": "scatter"
           }
          ],
          "scatter3d": [
           {
            "line": {
             "colorbar": {
              "outlinewidth": 0,
              "ticks": ""
             }
            },
            "marker": {
             "colorbar": {
              "outlinewidth": 0,
              "ticks": ""
             }
            },
            "type": "scatter3d"
           }
          ],
          "scattercarpet": [
           {
            "marker": {
             "colorbar": {
              "outlinewidth": 0,
              "ticks": ""
             }
            },
            "type": "scattercarpet"
           }
          ],
          "scattergeo": [
           {
            "marker": {
             "colorbar": {
              "outlinewidth": 0,
              "ticks": ""
             }
            },
            "type": "scattergeo"
           }
          ],
          "scattergl": [
           {
            "marker": {
             "colorbar": {
              "outlinewidth": 0,
              "ticks": ""
             }
            },
            "type": "scattergl"
           }
          ],
          "scattermapbox": [
           {
            "marker": {
             "colorbar": {
              "outlinewidth": 0,
              "ticks": ""
             }
            },
            "type": "scattermapbox"
           }
          ],
          "scatterpolar": [
           {
            "marker": {
             "colorbar": {
              "outlinewidth": 0,
              "ticks": ""
             }
            },
            "type": "scatterpolar"
           }
          ],
          "scatterpolargl": [
           {
            "marker": {
             "colorbar": {
              "outlinewidth": 0,
              "ticks": ""
             }
            },
            "type": "scatterpolargl"
           }
          ],
          "scatterternary": [
           {
            "marker": {
             "colorbar": {
              "outlinewidth": 0,
              "ticks": ""
             }
            },
            "type": "scatterternary"
           }
          ],
          "surface": [
           {
            "colorbar": {
             "outlinewidth": 0,
             "ticks": ""
            },
            "colorscale": [
             [
              0,
              "#0d0887"
             ],
             [
              0.1111111111111111,
              "#46039f"
             ],
             [
              0.2222222222222222,
              "#7201a8"
             ],
             [
              0.3333333333333333,
              "#9c179e"
             ],
             [
              0.4444444444444444,
              "#bd3786"
             ],
             [
              0.5555555555555556,
              "#d8576b"
             ],
             [
              0.6666666666666666,
              "#ed7953"
             ],
             [
              0.7777777777777778,
              "#fb9f3a"
             ],
             [
              0.8888888888888888,
              "#fdca26"
             ],
             [
              1,
              "#f0f921"
             ]
            ],
            "type": "surface"
           }
          ],
          "table": [
           {
            "cells": {
             "fill": {
              "color": "#EBF0F8"
             },
             "line": {
              "color": "white"
             }
            },
            "header": {
             "fill": {
              "color": "#C8D4E3"
             },
             "line": {
              "color": "white"
             }
            },
            "type": "table"
           }
          ]
         },
         "layout": {
          "annotationdefaults": {
           "arrowcolor": "#2a3f5f",
           "arrowhead": 0,
           "arrowwidth": 1
          },
          "autotypenumbers": "strict",
          "coloraxis": {
           "colorbar": {
            "outlinewidth": 0,
            "ticks": ""
           }
          },
          "colorscale": {
           "diverging": [
            [
             0,
             "#8e0152"
            ],
            [
             0.1,
             "#c51b7d"
            ],
            [
             0.2,
             "#de77ae"
            ],
            [
             0.3,
             "#f1b6da"
            ],
            [
             0.4,
             "#fde0ef"
            ],
            [
             0.5,
             "#f7f7f7"
            ],
            [
             0.6,
             "#e6f5d0"
            ],
            [
             0.7,
             "#b8e186"
            ],
            [
             0.8,
             "#7fbc41"
            ],
            [
             0.9,
             "#4d9221"
            ],
            [
             1,
             "#276419"
            ]
           ],
           "sequential": [
            [
             0,
             "#0d0887"
            ],
            [
             0.1111111111111111,
             "#46039f"
            ],
            [
             0.2222222222222222,
             "#7201a8"
            ],
            [
             0.3333333333333333,
             "#9c179e"
            ],
            [
             0.4444444444444444,
             "#bd3786"
            ],
            [
             0.5555555555555556,
             "#d8576b"
            ],
            [
             0.6666666666666666,
             "#ed7953"
            ],
            [
             0.7777777777777778,
             "#fb9f3a"
            ],
            [
             0.8888888888888888,
             "#fdca26"
            ],
            [
             1,
             "#f0f921"
            ]
           ],
           "sequentialminus": [
            [
             0,
             "#0d0887"
            ],
            [
             0.1111111111111111,
             "#46039f"
            ],
            [
             0.2222222222222222,
             "#7201a8"
            ],
            [
             0.3333333333333333,
             "#9c179e"
            ],
            [
             0.4444444444444444,
             "#bd3786"
            ],
            [
             0.5555555555555556,
             "#d8576b"
            ],
            [
             0.6666666666666666,
             "#ed7953"
            ],
            [
             0.7777777777777778,
             "#fb9f3a"
            ],
            [
             0.8888888888888888,
             "#fdca26"
            ],
            [
             1,
             "#f0f921"
            ]
           ]
          },
          "colorway": [
           "#636efa",
           "#EF553B",
           "#00cc96",
           "#ab63fa",
           "#FFA15A",
           "#19d3f3",
           "#FF6692",
           "#B6E880",
           "#FF97FF",
           "#FECB52"
          ],
          "font": {
           "color": "#2a3f5f"
          },
          "geo": {
           "bgcolor": "white",
           "lakecolor": "white",
           "landcolor": "#E5ECF6",
           "showlakes": true,
           "showland": true,
           "subunitcolor": "white"
          },
          "hoverlabel": {
           "align": "left"
          },
          "hovermode": "closest",
          "mapbox": {
           "style": "light"
          },
          "paper_bgcolor": "white",
          "plot_bgcolor": "#E5ECF6",
          "polar": {
           "angularaxis": {
            "gridcolor": "white",
            "linecolor": "white",
            "ticks": ""
           },
           "bgcolor": "#E5ECF6",
           "radialaxis": {
            "gridcolor": "white",
            "linecolor": "white",
            "ticks": ""
           }
          },
          "scene": {
           "xaxis": {
            "backgroundcolor": "#E5ECF6",
            "gridcolor": "white",
            "gridwidth": 2,
            "linecolor": "white",
            "showbackground": true,
            "ticks": "",
            "zerolinecolor": "white"
           },
           "yaxis": {
            "backgroundcolor": "#E5ECF6",
            "gridcolor": "white",
            "gridwidth": 2,
            "linecolor": "white",
            "showbackground": true,
            "ticks": "",
            "zerolinecolor": "white"
           },
           "zaxis": {
            "backgroundcolor": "#E5ECF6",
            "gridcolor": "white",
            "gridwidth": 2,
            "linecolor": "white",
            "showbackground": true,
            "ticks": "",
            "zerolinecolor": "white"
           }
          },
          "shapedefaults": {
           "line": {
            "color": "#2a3f5f"
           }
          },
          "ternary": {
           "aaxis": {
            "gridcolor": "white",
            "linecolor": "white",
            "ticks": ""
           },
           "baxis": {
            "gridcolor": "white",
            "linecolor": "white",
            "ticks": ""
           },
           "bgcolor": "#E5ECF6",
           "caxis": {
            "gridcolor": "white",
            "linecolor": "white",
            "ticks": ""
           }
          },
          "title": {
           "x": 0.05
          },
          "xaxis": {
           "automargin": true,
           "gridcolor": "white",
           "linecolor": "white",
           "ticks": "",
           "title": {
            "standoff": 15
           },
           "zerolinecolor": "white",
           "zerolinewidth": 2
          },
          "yaxis": {
           "automargin": true,
           "gridcolor": "white",
           "linecolor": "white",
           "ticks": "",
           "title": {
            "standoff": 15
           },
           "zerolinecolor": "white",
           "zerolinewidth": 2
          }
         }
        }
       }
      }
     },
     "metadata": {},
     "output_type": "display_data"
    }
   ],
   "source": [
    "import plotly.express as px\n",
    "#fig = px.parallel_coordinates(bs_trials)\n",
    "\n",
    "fig = px.parallel_coordinates(\n",
    "      bs_trials, \n",
    "      color=\"auc\",\n",
    "      dimensions=[\n",
    "            'seed',\n",
    "            'alpha',\n",
    "            'eta',\n",
    "            'lambda',\n",
    "            'max_depth',\n",
    "            'scale_pos_weight',\n",
    "            'subsample',\n",
    "            \"phe\", \n",
    "            \"auc\"\n",
    "      ],)\n",
    "fig.show()"
   ]
  },
  {
   "cell_type": "code",
   "execution_count": 125,
   "metadata": {},
   "outputs": [
    {
     "data": {
      "application/vnd.plotly.v1+json": {
       "config": {
        "plotlyServerURL": "https://plot.ly"
       },
       "data": [
        {
         "alignmentgroup": "True",
         "boxpoints": "all",
         "hovertemplate": "variable=%{x}<br>value=%{y}<extra></extra>",
         "legendgroup": "",
         "marker": {
          "color": "#636efa"
         },
         "name": "",
         "notched": false,
         "offsetgroup": "",
         "orientation": "v",
         "showlegend": false,
         "type": "box",
         "x": [
          "alpha",
          "alpha",
          "alpha",
          "alpha",
          "alpha",
          "alpha",
          "alpha",
          "alpha",
          "alpha",
          "alpha",
          "alpha",
          "alpha",
          "alpha",
          "alpha",
          "alpha",
          "alpha",
          "alpha",
          "alpha",
          "alpha",
          "alpha",
          "alpha",
          "alpha",
          "alpha",
          "alpha",
          "alpha",
          "alpha",
          "alpha"
         ],
         "x0": " ",
         "xaxis": "x",
         "y": [
          0.466643,
          0.466643,
          0.466643,
          0.466643,
          0.466643,
          0.466643,
          0.466643,
          0.466643,
          0.466643,
          0.466643,
          0.466643,
          0.466643,
          0.466643,
          0.466643,
          0.466643,
          0.466643,
          0.466643,
          0.466643,
          0.466643,
          0.466643,
          0.466643,
          0.466643,
          0.466643,
          0.466643,
          0.466643,
          0.466643,
          0.466643
         ],
         "y0": " ",
         "yaxis": "y"
        },
        {
         "alignmentgroup": "True",
         "boxpoints": "all",
         "hovertemplate": "variable=%{x}<br>value=%{y}<extra></extra>",
         "legendgroup": "",
         "marker": {
          "color": "#636efa"
         },
         "name": "",
         "notched": false,
         "offsetgroup": "",
         "orientation": "v",
         "showlegend": false,
         "type": "box",
         "x": [
          "eta",
          "eta",
          "eta",
          "eta",
          "eta",
          "eta",
          "eta",
          "eta",
          "eta",
          "eta",
          "eta",
          "eta",
          "eta",
          "eta",
          "eta",
          "eta",
          "eta",
          "eta",
          "eta",
          "eta",
          "eta",
          "eta",
          "eta",
          "eta",
          "eta",
          "eta",
          "eta"
         ],
         "x0": " ",
         "xaxis": "x2",
         "y": [
          0.226908,
          0.226908,
          0.226908,
          0.226908,
          0.226908,
          0.226908,
          0.226908,
          0.226908,
          0.226908,
          0.226908,
          0.226908,
          0.226908,
          0.226908,
          0.226908,
          0.226908,
          0.226908,
          0.226908,
          0.226908,
          0.226908,
          0.226908,
          0.226908,
          0.226908,
          0.226908,
          0.226908,
          0.226908,
          0.226908,
          0.226908
         ],
         "y0": " ",
         "yaxis": "y2"
        },
        {
         "alignmentgroup": "True",
         "boxpoints": "all",
         "hovertemplate": "variable=%{x}<br>value=%{y}<extra></extra>",
         "legendgroup": "",
         "marker": {
          "color": "#636efa"
         },
         "name": "",
         "notched": false,
         "offsetgroup": "",
         "orientation": "v",
         "showlegend": false,
         "type": "box",
         "x": [
          "lambda",
          "lambda",
          "lambda",
          "lambda",
          "lambda",
          "lambda",
          "lambda",
          "lambda",
          "lambda",
          "lambda",
          "lambda",
          "lambda",
          "lambda",
          "lambda",
          "lambda",
          "lambda",
          "lambda",
          "lambda",
          "lambda",
          "lambda",
          "lambda",
          "lambda",
          "lambda",
          "lambda",
          "lambda",
          "lambda",
          "lambda"
         ],
         "x0": " ",
         "xaxis": "x3",
         "y": [
          0.418621,
          0.418621,
          0.418621,
          0.418621,
          0.418621,
          0.418621,
          0.418621,
          0.418621,
          0.418621,
          0.418621,
          0.418621,
          0.418621,
          0.418621,
          0.418621,
          0.418621,
          0.418621,
          0.418621,
          0.418621,
          0.418621,
          0.418621,
          0.418621,
          0.418621,
          0.418621,
          0.418621,
          0.418621,
          0.418621,
          0.418621
         ],
         "y0": " ",
         "yaxis": "y3"
        },
        {
         "alignmentgroup": "True",
         "boxpoints": "all",
         "hovertemplate": "variable=%{x}<br>value=%{y}<extra></extra>",
         "legendgroup": "",
         "marker": {
          "color": "#636efa"
         },
         "name": "",
         "notched": false,
         "offsetgroup": "",
         "orientation": "v",
         "showlegend": false,
         "type": "box",
         "x": [
          "max_depth",
          "max_depth",
          "max_depth",
          "max_depth",
          "max_depth",
          "max_depth",
          "max_depth",
          "max_depth",
          "max_depth",
          "max_depth",
          "max_depth",
          "max_depth",
          "max_depth",
          "max_depth",
          "max_depth",
          "max_depth",
          "max_depth",
          "max_depth",
          "max_depth",
          "max_depth",
          "max_depth",
          "max_depth",
          "max_depth",
          "max_depth",
          "max_depth",
          "max_depth",
          "max_depth"
         ],
         "x0": " ",
         "xaxis": "x4",
         "y": [
          5,
          5,
          5,
          5,
          5,
          5,
          5,
          5,
          5,
          5,
          5,
          5,
          5,
          5,
          5,
          5,
          5,
          5,
          5,
          5,
          5,
          5,
          5,
          5,
          5,
          5,
          5
         ],
         "y0": " ",
         "yaxis": "y4"
        },
        {
         "alignmentgroup": "True",
         "boxpoints": "all",
         "hovertemplate": "variable=%{x}<br>value=%{y}<extra></extra>",
         "legendgroup": "",
         "marker": {
          "color": "#636efa"
         },
         "name": "",
         "notched": false,
         "offsetgroup": "",
         "orientation": "v",
         "showlegend": false,
         "type": "box",
         "x": [
          "scale_pos_weight",
          "scale_pos_weight",
          "scale_pos_weight",
          "scale_pos_weight",
          "scale_pos_weight",
          "scale_pos_weight",
          "scale_pos_weight",
          "scale_pos_weight",
          "scale_pos_weight",
          "scale_pos_weight",
          "scale_pos_weight",
          "scale_pos_weight",
          "scale_pos_weight",
          "scale_pos_weight",
          "scale_pos_weight",
          "scale_pos_weight",
          "scale_pos_weight",
          "scale_pos_weight",
          "scale_pos_weight",
          "scale_pos_weight",
          "scale_pos_weight",
          "scale_pos_weight",
          "scale_pos_weight",
          "scale_pos_weight",
          "scale_pos_weight",
          "scale_pos_weight",
          "scale_pos_weight"
         ],
         "x0": " ",
         "xaxis": "x5",
         "y": [
          1.640296,
          1.640296,
          1.640296,
          1.640296,
          1.640296,
          1.640296,
          1.640296,
          1.640296,
          1.640296,
          1.640296,
          1.640296,
          1.640296,
          1.640296,
          1.640296,
          1.640296,
          1.640296,
          1.640296,
          1.640296,
          1.640296,
          1.640296,
          1.640296,
          1.640296,
          1.640296,
          1.640296,
          1.640296,
          1.640296,
          1.640296
         ],
         "y0": " ",
         "yaxis": "y5"
        },
        {
         "alignmentgroup": "True",
         "boxpoints": "all",
         "hovertemplate": "variable=%{x}<br>value=%{y}<extra></extra>",
         "legendgroup": "",
         "marker": {
          "color": "#636efa"
         },
         "name": "",
         "notched": false,
         "offsetgroup": "",
         "orientation": "v",
         "showlegend": false,
         "type": "box",
         "x": [
          "subsample",
          "subsample",
          "subsample",
          "subsample",
          "subsample",
          "subsample",
          "subsample",
          "subsample",
          "subsample",
          "subsample",
          "subsample",
          "subsample",
          "subsample",
          "subsample",
          "subsample",
          "subsample",
          "subsample",
          "subsample",
          "subsample",
          "subsample",
          "subsample",
          "subsample",
          "subsample",
          "subsample",
          "subsample",
          "subsample",
          "subsample"
         ],
         "x0": " ",
         "xaxis": "x6",
         "y": [
          0.749761,
          0.749761,
          0.749761,
          0.749761,
          0.749761,
          0.749761,
          0.749761,
          0.749761,
          0.749761,
          0.749761,
          0.749761,
          0.749761,
          0.749761,
          0.749761,
          0.749761,
          0.749761,
          0.749761,
          0.749761,
          0.749761,
          0.749761,
          0.749761,
          0.749761,
          0.749761,
          0.749761,
          0.749761,
          0.749761,
          0.749761
         ],
         "y0": " ",
         "yaxis": "y6"
        },
        {
         "alignmentgroup": "True",
         "boxpoints": "all",
         "hovertemplate": "variable=%{x}<br>value=%{y}<extra></extra>",
         "legendgroup": "",
         "marker": {
          "color": "#636efa"
         },
         "name": "",
         "notched": false,
         "offsetgroup": "",
         "orientation": "v",
         "showlegend": false,
         "type": "box",
         "x": [
          "auc",
          "auc",
          "auc",
          "auc",
          "auc",
          "auc",
          "auc",
          "auc",
          "auc",
          "auc",
          "auc",
          "auc",
          "auc",
          "auc",
          "auc",
          "auc",
          "auc",
          "auc",
          "auc",
          "auc",
          "auc",
          "auc",
          "auc",
          "auc",
          "auc",
          "auc",
          "auc"
         ],
         "x0": " ",
         "xaxis": "x7",
         "y": [
          0.611111111111111,
          0.8333333333333334,
          0.9230769230769231,
          0.3076923076923077,
          0.9230769230769231,
          0.8461538461538461,
          0.6923076923076923,
          0.6944444444444444,
          0.75,
          0.6944444444444444,
          0.4444444444444444,
          0.9230769230769231,
          0.9615384615384616,
          0.625,
          1,
          0.75,
          0.8888888888888888,
          0.8076923076923076,
          0.5555555555555556,
          0.8076923076923077,
          0.9615384615384616,
          0.5555555555555556,
          0.8846153846153846,
          0.7777777777777778,
          0.7777777777777778,
          0.9444444444444444,
          0.5833333333333334
         ],
         "y0": " ",
         "yaxis": "y7"
        },
        {
         "alignmentgroup": "True",
         "boxpoints": "all",
         "hovertemplate": "variable=%{x}<br>value=%{y}<extra></extra>",
         "legendgroup": "",
         "marker": {
          "color": "#636efa"
         },
         "name": "",
         "notched": false,
         "offsetgroup": "",
         "orientation": "v",
         "showlegend": false,
         "type": "box",
         "x": [
          "phe",
          "phe",
          "phe",
          "phe",
          "phe",
          "phe",
          "phe",
          "phe",
          "phe",
          "phe",
          "phe",
          "phe",
          "phe",
          "phe",
          "phe",
          "phe",
          "phe",
          "phe",
          "phe",
          "phe",
          "phe",
          "phe",
          "phe",
          "phe",
          "phe",
          "phe",
          "phe"
         ],
         "x0": " ",
         "xaxis": "x8",
         "y": [
          0.2921534776687622,
          0.23181068897247314,
          0.33849599957466125,
          0.20039799809455872,
          0.3589838147163391,
          0.27288901805877686,
          0.33837130665779114,
          0.6909835934638977,
          0.2078661322593689,
          0.28617241978645325,
          0.25497788190841675,
          0.21118196845054626,
          0.27958470582962036,
          0.22409957647323608,
          0.3688807189464569,
          0.3297715187072754,
          0.21032612025737762,
          0.22163045406341553,
          0.33123522996902466,
          0.2122226059436798,
          0.22203786671161652,
          0.35147514939308167,
          0.23012477159500122,
          0.6426613926887512,
          0.3181094527244568,
          0.5069220662117004,
          0.34526506066322327
         ],
         "y0": " ",
         "yaxis": "y8"
        }
       ],
       "layout": {
        "annotations": [
         {
          "font": {},
          "showarrow": false,
          "text": "variable=alpha",
          "x": 0.05375,
          "xanchor": "center",
          "xref": "paper",
          "y": 1,
          "yanchor": "bottom",
          "yref": "paper"
         },
         {
          "font": {},
          "showarrow": false,
          "text": "variable=eta",
          "x": 0.18125,
          "xanchor": "center",
          "xref": "paper",
          "y": 1,
          "yanchor": "bottom",
          "yref": "paper"
         },
         {
          "font": {},
          "showarrow": false,
          "text": "variable=lambda",
          "x": 0.30874999999999997,
          "xanchor": "center",
          "xref": "paper",
          "y": 1,
          "yanchor": "bottom",
          "yref": "paper"
         },
         {
          "font": {},
          "showarrow": false,
          "text": "variable=max_depth",
          "x": 0.43625,
          "xanchor": "center",
          "xref": "paper",
          "y": 1,
          "yanchor": "bottom",
          "yref": "paper"
         },
         {
          "font": {},
          "showarrow": false,
          "text": "variable=scale_pos_weight",
          "x": 0.56375,
          "xanchor": "center",
          "xref": "paper",
          "y": 1,
          "yanchor": "bottom",
          "yref": "paper"
         },
         {
          "font": {},
          "showarrow": false,
          "text": "variable=subsample",
          "x": 0.6912499999999999,
          "xanchor": "center",
          "xref": "paper",
          "y": 1,
          "yanchor": "bottom",
          "yref": "paper"
         },
         {
          "font": {},
          "showarrow": false,
          "text": "variable=auc",
          "x": 0.8187500000000001,
          "xanchor": "center",
          "xref": "paper",
          "y": 1,
          "yanchor": "bottom",
          "yref": "paper"
         },
         {
          "font": {},
          "showarrow": false,
          "text": "variable=phe",
          "x": 0.94625,
          "xanchor": "center",
          "xref": "paper",
          "y": 1,
          "yanchor": "bottom",
          "yref": "paper"
         }
        ],
        "boxmode": "group",
        "legend": {
         "tracegroupgap": 0
        },
        "margin": {
         "t": 60
        },
        "template": {
         "data": {
          "bar": [
           {
            "error_x": {
             "color": "#2a3f5f"
            },
            "error_y": {
             "color": "#2a3f5f"
            },
            "marker": {
             "line": {
              "color": "#E5ECF6",
              "width": 0.5
             },
             "pattern": {
              "fillmode": "overlay",
              "size": 10,
              "solidity": 0.2
             }
            },
            "type": "bar"
           }
          ],
          "barpolar": [
           {
            "marker": {
             "line": {
              "color": "#E5ECF6",
              "width": 0.5
             },
             "pattern": {
              "fillmode": "overlay",
              "size": 10,
              "solidity": 0.2
             }
            },
            "type": "barpolar"
           }
          ],
          "carpet": [
           {
            "aaxis": {
             "endlinecolor": "#2a3f5f",
             "gridcolor": "white",
             "linecolor": "white",
             "minorgridcolor": "white",
             "startlinecolor": "#2a3f5f"
            },
            "baxis": {
             "endlinecolor": "#2a3f5f",
             "gridcolor": "white",
             "linecolor": "white",
             "minorgridcolor": "white",
             "startlinecolor": "#2a3f5f"
            },
            "type": "carpet"
           }
          ],
          "choropleth": [
           {
            "colorbar": {
             "outlinewidth": 0,
             "ticks": ""
            },
            "type": "choropleth"
           }
          ],
          "contour": [
           {
            "colorbar": {
             "outlinewidth": 0,
             "ticks": ""
            },
            "colorscale": [
             [
              0,
              "#0d0887"
             ],
             [
              0.1111111111111111,
              "#46039f"
             ],
             [
              0.2222222222222222,
              "#7201a8"
             ],
             [
              0.3333333333333333,
              "#9c179e"
             ],
             [
              0.4444444444444444,
              "#bd3786"
             ],
             [
              0.5555555555555556,
              "#d8576b"
             ],
             [
              0.6666666666666666,
              "#ed7953"
             ],
             [
              0.7777777777777778,
              "#fb9f3a"
             ],
             [
              0.8888888888888888,
              "#fdca26"
             ],
             [
              1,
              "#f0f921"
             ]
            ],
            "type": "contour"
           }
          ],
          "contourcarpet": [
           {
            "colorbar": {
             "outlinewidth": 0,
             "ticks": ""
            },
            "type": "contourcarpet"
           }
          ],
          "heatmap": [
           {
            "colorbar": {
             "outlinewidth": 0,
             "ticks": ""
            },
            "colorscale": [
             [
              0,
              "#0d0887"
             ],
             [
              0.1111111111111111,
              "#46039f"
             ],
             [
              0.2222222222222222,
              "#7201a8"
             ],
             [
              0.3333333333333333,
              "#9c179e"
             ],
             [
              0.4444444444444444,
              "#bd3786"
             ],
             [
              0.5555555555555556,
              "#d8576b"
             ],
             [
              0.6666666666666666,
              "#ed7953"
             ],
             [
              0.7777777777777778,
              "#fb9f3a"
             ],
             [
              0.8888888888888888,
              "#fdca26"
             ],
             [
              1,
              "#f0f921"
             ]
            ],
            "type": "heatmap"
           }
          ],
          "heatmapgl": [
           {
            "colorbar": {
             "outlinewidth": 0,
             "ticks": ""
            },
            "colorscale": [
             [
              0,
              "#0d0887"
             ],
             [
              0.1111111111111111,
              "#46039f"
             ],
             [
              0.2222222222222222,
              "#7201a8"
             ],
             [
              0.3333333333333333,
              "#9c179e"
             ],
             [
              0.4444444444444444,
              "#bd3786"
             ],
             [
              0.5555555555555556,
              "#d8576b"
             ],
             [
              0.6666666666666666,
              "#ed7953"
             ],
             [
              0.7777777777777778,
              "#fb9f3a"
             ],
             [
              0.8888888888888888,
              "#fdca26"
             ],
             [
              1,
              "#f0f921"
             ]
            ],
            "type": "heatmapgl"
           }
          ],
          "histogram": [
           {
            "marker": {
             "pattern": {
              "fillmode": "overlay",
              "size": 10,
              "solidity": 0.2
             }
            },
            "type": "histogram"
           }
          ],
          "histogram2d": [
           {
            "colorbar": {
             "outlinewidth": 0,
             "ticks": ""
            },
            "colorscale": [
             [
              0,
              "#0d0887"
             ],
             [
              0.1111111111111111,
              "#46039f"
             ],
             [
              0.2222222222222222,
              "#7201a8"
             ],
             [
              0.3333333333333333,
              "#9c179e"
             ],
             [
              0.4444444444444444,
              "#bd3786"
             ],
             [
              0.5555555555555556,
              "#d8576b"
             ],
             [
              0.6666666666666666,
              "#ed7953"
             ],
             [
              0.7777777777777778,
              "#fb9f3a"
             ],
             [
              0.8888888888888888,
              "#fdca26"
             ],
             [
              1,
              "#f0f921"
             ]
            ],
            "type": "histogram2d"
           }
          ],
          "histogram2dcontour": [
           {
            "colorbar": {
             "outlinewidth": 0,
             "ticks": ""
            },
            "colorscale": [
             [
              0,
              "#0d0887"
             ],
             [
              0.1111111111111111,
              "#46039f"
             ],
             [
              0.2222222222222222,
              "#7201a8"
             ],
             [
              0.3333333333333333,
              "#9c179e"
             ],
             [
              0.4444444444444444,
              "#bd3786"
             ],
             [
              0.5555555555555556,
              "#d8576b"
             ],
             [
              0.6666666666666666,
              "#ed7953"
             ],
             [
              0.7777777777777778,
              "#fb9f3a"
             ],
             [
              0.8888888888888888,
              "#fdca26"
             ],
             [
              1,
              "#f0f921"
             ]
            ],
            "type": "histogram2dcontour"
           }
          ],
          "mesh3d": [
           {
            "colorbar": {
             "outlinewidth": 0,
             "ticks": ""
            },
            "type": "mesh3d"
           }
          ],
          "parcoords": [
           {
            "line": {
             "colorbar": {
              "outlinewidth": 0,
              "ticks": ""
             }
            },
            "type": "parcoords"
           }
          ],
          "pie": [
           {
            "automargin": true,
            "type": "pie"
           }
          ],
          "scatter": [
           {
            "fillpattern": {
             "fillmode": "overlay",
             "size": 10,
             "solidity": 0.2
            },
            "type": "scatter"
           }
          ],
          "scatter3d": [
           {
            "line": {
             "colorbar": {
              "outlinewidth": 0,
              "ticks": ""
             }
            },
            "marker": {
             "colorbar": {
              "outlinewidth": 0,
              "ticks": ""
             }
            },
            "type": "scatter3d"
           }
          ],
          "scattercarpet": [
           {
            "marker": {
             "colorbar": {
              "outlinewidth": 0,
              "ticks": ""
             }
            },
            "type": "scattercarpet"
           }
          ],
          "scattergeo": [
           {
            "marker": {
             "colorbar": {
              "outlinewidth": 0,
              "ticks": ""
             }
            },
            "type": "scattergeo"
           }
          ],
          "scattergl": [
           {
            "marker": {
             "colorbar": {
              "outlinewidth": 0,
              "ticks": ""
             }
            },
            "type": "scattergl"
           }
          ],
          "scattermapbox": [
           {
            "marker": {
             "colorbar": {
              "outlinewidth": 0,
              "ticks": ""
             }
            },
            "type": "scattermapbox"
           }
          ],
          "scatterpolar": [
           {
            "marker": {
             "colorbar": {
              "outlinewidth": 0,
              "ticks": ""
             }
            },
            "type": "scatterpolar"
           }
          ],
          "scatterpolargl": [
           {
            "marker": {
             "colorbar": {
              "outlinewidth": 0,
              "ticks": ""
             }
            },
            "type": "scatterpolargl"
           }
          ],
          "scatterternary": [
           {
            "marker": {
             "colorbar": {
              "outlinewidth": 0,
              "ticks": ""
             }
            },
            "type": "scatterternary"
           }
          ],
          "surface": [
           {
            "colorbar": {
             "outlinewidth": 0,
             "ticks": ""
            },
            "colorscale": [
             [
              0,
              "#0d0887"
             ],
             [
              0.1111111111111111,
              "#46039f"
             ],
             [
              0.2222222222222222,
              "#7201a8"
             ],
             [
              0.3333333333333333,
              "#9c179e"
             ],
             [
              0.4444444444444444,
              "#bd3786"
             ],
             [
              0.5555555555555556,
              "#d8576b"
             ],
             [
              0.6666666666666666,
              "#ed7953"
             ],
             [
              0.7777777777777778,
              "#fb9f3a"
             ],
             [
              0.8888888888888888,
              "#fdca26"
             ],
             [
              1,
              "#f0f921"
             ]
            ],
            "type": "surface"
           }
          ],
          "table": [
           {
            "cells": {
             "fill": {
              "color": "#EBF0F8"
             },
             "line": {
              "color": "white"
             }
            },
            "header": {
             "fill": {
              "color": "#C8D4E3"
             },
             "line": {
              "color": "white"
             }
            },
            "type": "table"
           }
          ]
         },
         "layout": {
          "annotationdefaults": {
           "arrowcolor": "#2a3f5f",
           "arrowhead": 0,
           "arrowwidth": 1
          },
          "autotypenumbers": "strict",
          "coloraxis": {
           "colorbar": {
            "outlinewidth": 0,
            "ticks": ""
           }
          },
          "colorscale": {
           "diverging": [
            [
             0,
             "#8e0152"
            ],
            [
             0.1,
             "#c51b7d"
            ],
            [
             0.2,
             "#de77ae"
            ],
            [
             0.3,
             "#f1b6da"
            ],
            [
             0.4,
             "#fde0ef"
            ],
            [
             0.5,
             "#f7f7f7"
            ],
            [
             0.6,
             "#e6f5d0"
            ],
            [
             0.7,
             "#b8e186"
            ],
            [
             0.8,
             "#7fbc41"
            ],
            [
             0.9,
             "#4d9221"
            ],
            [
             1,
             "#276419"
            ]
           ],
           "sequential": [
            [
             0,
             "#0d0887"
            ],
            [
             0.1111111111111111,
             "#46039f"
            ],
            [
             0.2222222222222222,
             "#7201a8"
            ],
            [
             0.3333333333333333,
             "#9c179e"
            ],
            [
             0.4444444444444444,
             "#bd3786"
            ],
            [
             0.5555555555555556,
             "#d8576b"
            ],
            [
             0.6666666666666666,
             "#ed7953"
            ],
            [
             0.7777777777777778,
             "#fb9f3a"
            ],
            [
             0.8888888888888888,
             "#fdca26"
            ],
            [
             1,
             "#f0f921"
            ]
           ],
           "sequentialminus": [
            [
             0,
             "#0d0887"
            ],
            [
             0.1111111111111111,
             "#46039f"
            ],
            [
             0.2222222222222222,
             "#7201a8"
            ],
            [
             0.3333333333333333,
             "#9c179e"
            ],
            [
             0.4444444444444444,
             "#bd3786"
            ],
            [
             0.5555555555555556,
             "#d8576b"
            ],
            [
             0.6666666666666666,
             "#ed7953"
            ],
            [
             0.7777777777777778,
             "#fb9f3a"
            ],
            [
             0.8888888888888888,
             "#fdca26"
            ],
            [
             1,
             "#f0f921"
            ]
           ]
          },
          "colorway": [
           "#636efa",
           "#EF553B",
           "#00cc96",
           "#ab63fa",
           "#FFA15A",
           "#19d3f3",
           "#FF6692",
           "#B6E880",
           "#FF97FF",
           "#FECB52"
          ],
          "font": {
           "color": "#2a3f5f"
          },
          "geo": {
           "bgcolor": "white",
           "lakecolor": "white",
           "landcolor": "#E5ECF6",
           "showlakes": true,
           "showland": true,
           "subunitcolor": "white"
          },
          "hoverlabel": {
           "align": "left"
          },
          "hovermode": "closest",
          "mapbox": {
           "style": "light"
          },
          "paper_bgcolor": "white",
          "plot_bgcolor": "#E5ECF6",
          "polar": {
           "angularaxis": {
            "gridcolor": "white",
            "linecolor": "white",
            "ticks": ""
           },
           "bgcolor": "#E5ECF6",
           "radialaxis": {
            "gridcolor": "white",
            "linecolor": "white",
            "ticks": ""
           }
          },
          "scene": {
           "xaxis": {
            "backgroundcolor": "#E5ECF6",
            "gridcolor": "white",
            "gridwidth": 2,
            "linecolor": "white",
            "showbackground": true,
            "ticks": "",
            "zerolinecolor": "white"
           },
           "yaxis": {
            "backgroundcolor": "#E5ECF6",
            "gridcolor": "white",
            "gridwidth": 2,
            "linecolor": "white",
            "showbackground": true,
            "ticks": "",
            "zerolinecolor": "white"
           },
           "zaxis": {
            "backgroundcolor": "#E5ECF6",
            "gridcolor": "white",
            "gridwidth": 2,
            "linecolor": "white",
            "showbackground": true,
            "ticks": "",
            "zerolinecolor": "white"
           }
          },
          "shapedefaults": {
           "line": {
            "color": "#2a3f5f"
           }
          },
          "ternary": {
           "aaxis": {
            "gridcolor": "white",
            "linecolor": "white",
            "ticks": ""
           },
           "baxis": {
            "gridcolor": "white",
            "linecolor": "white",
            "ticks": ""
           },
           "bgcolor": "#E5ECF6",
           "caxis": {
            "gridcolor": "white",
            "linecolor": "white",
            "ticks": ""
           }
          },
          "title": {
           "x": 0.05
          },
          "xaxis": {
           "automargin": true,
           "gridcolor": "white",
           "linecolor": "white",
           "ticks": "",
           "title": {
            "standoff": 15
           },
           "zerolinecolor": "white",
           "zerolinewidth": 2
          },
          "yaxis": {
           "automargin": true,
           "gridcolor": "white",
           "linecolor": "white",
           "ticks": "",
           "title": {
            "standoff": 15
           },
           "zerolinecolor": "white",
           "zerolinewidth": 2
          }
         }
        },
        "xaxis": {
         "anchor": "y",
         "categoryarray": [
          "alpha",
          "eta",
          "lambda",
          "max_depth",
          "scale_pos_weight",
          "subsample",
          "auc",
          "phe"
         ],
         "categoryorder": "array",
         "domain": [
          0,
          0.1075
         ],
         "title": {
          "text": "variable"
         }
        },
        "xaxis2": {
         "anchor": "y2",
         "categoryarray": [
          "alpha",
          "eta",
          "lambda",
          "max_depth",
          "scale_pos_weight",
          "subsample",
          "auc",
          "phe"
         ],
         "categoryorder": "array",
         "domain": [
          0.1275,
          0.235
         ],
         "title": {
          "text": "variable"
         }
        },
        "xaxis3": {
         "anchor": "y3",
         "categoryarray": [
          "alpha",
          "eta",
          "lambda",
          "max_depth",
          "scale_pos_weight",
          "subsample",
          "auc",
          "phe"
         ],
         "categoryorder": "array",
         "domain": [
          0.255,
          0.3625
         ],
         "title": {
          "text": "variable"
         }
        },
        "xaxis4": {
         "anchor": "y4",
         "categoryarray": [
          "alpha",
          "eta",
          "lambda",
          "max_depth",
          "scale_pos_weight",
          "subsample",
          "auc",
          "phe"
         ],
         "categoryorder": "array",
         "domain": [
          0.3825,
          0.49
         ],
         "title": {
          "text": "variable"
         }
        },
        "xaxis5": {
         "anchor": "y5",
         "categoryarray": [
          "alpha",
          "eta",
          "lambda",
          "max_depth",
          "scale_pos_weight",
          "subsample",
          "auc",
          "phe"
         ],
         "categoryorder": "array",
         "domain": [
          0.51,
          0.6175
         ],
         "title": {
          "text": "variable"
         }
        },
        "xaxis6": {
         "anchor": "y6",
         "categoryarray": [
          "alpha",
          "eta",
          "lambda",
          "max_depth",
          "scale_pos_weight",
          "subsample",
          "auc",
          "phe"
         ],
         "categoryorder": "array",
         "domain": [
          0.6375,
          0.745
         ],
         "title": {
          "text": "variable"
         }
        },
        "xaxis7": {
         "anchor": "y7",
         "categoryarray": [
          "alpha",
          "eta",
          "lambda",
          "max_depth",
          "scale_pos_weight",
          "subsample",
          "auc",
          "phe"
         ],
         "categoryorder": "array",
         "domain": [
          0.765,
          0.8725
         ],
         "title": {
          "text": "variable"
         }
        },
        "xaxis8": {
         "anchor": "y8",
         "categoryarray": [
          "alpha",
          "eta",
          "lambda",
          "max_depth",
          "scale_pos_weight",
          "subsample",
          "auc",
          "phe"
         ],
         "categoryorder": "array",
         "domain": [
          0.8925000000000001,
          1
         ],
         "title": {
          "text": "variable"
         }
        },
        "yaxis": {
         "anchor": "x",
         "domain": [
          0,
          1
         ],
         "showticklabels": true,
         "title": {
          "text": "value"
         }
        },
        "yaxis2": {
         "anchor": "x2",
         "domain": [
          0,
          1
         ],
         "showticklabels": true
        },
        "yaxis3": {
         "anchor": "x3",
         "domain": [
          0,
          1
         ],
         "showticklabels": true
        },
        "yaxis4": {
         "anchor": "x4",
         "domain": [
          0,
          1
         ],
         "showticklabels": true
        },
        "yaxis5": {
         "anchor": "x5",
         "domain": [
          0,
          1
         ],
         "showticklabels": true
        },
        "yaxis6": {
         "anchor": "x6",
         "domain": [
          0,
          1
         ],
         "showticklabels": true
        },
        "yaxis7": {
         "anchor": "x7",
         "domain": [
          0,
          1
         ],
         "showticklabels": true
        },
        "yaxis8": {
         "anchor": "x8",
         "domain": [
          0,
          1
         ],
         "showticklabels": true
        }
       }
      }
     },
     "metadata": {},
     "output_type": "display_data"
    }
   ],
   "source": [
    "import plotly.express as px\n",
    "\n",
    "fig_boxplot = px.box(\n",
    "    bs_trials.drop(\"seed\", axis=\"columns\"), \n",
    "    points=\"all\", \n",
    "    facet_col=\"variable\", \n",
    ")\n",
    "\n",
    "fig_boxplot.update_xaxes(matches=None)\n",
    "fig_boxplot.update_yaxes(matches=None)\n",
    "fig_boxplot.for_each_yaxis(lambda yaxis: yaxis.update(showticklabels=True))\n",
    "fig_boxplot.show()"
   ]
  },
  {
   "cell_type": "code",
   "execution_count": 126,
   "metadata": {},
   "outputs": [
    {
     "data": {
      "text/html": [
       "<div>\n",
       "<style scoped>\n",
       "    .dataframe tbody tr th:only-of-type {\n",
       "        vertical-align: middle;\n",
       "    }\n",
       "\n",
       "    .dataframe tbody tr th {\n",
       "        vertical-align: top;\n",
       "    }\n",
       "\n",
       "    .dataframe thead th {\n",
       "        text-align: right;\n",
       "    }\n",
       "</style>\n",
       "<table border=\"1\" class=\"dataframe\">\n",
       "  <thead>\n",
       "    <tr style=\"text-align: right;\">\n",
       "      <th></th>\n",
       "      <th>alpha</th>\n",
       "      <th>eta</th>\n",
       "      <th>lambda</th>\n",
       "      <th>max_depth</th>\n",
       "      <th>scale_pos_weight</th>\n",
       "      <th>seed</th>\n",
       "      <th>subsample</th>\n",
       "      <th>auc</th>\n",
       "      <th>phe</th>\n",
       "    </tr>\n",
       "  </thead>\n",
       "  <tbody>\n",
       "    <tr>\n",
       "      <th>10</th>\n",
       "      <td>0.466643</td>\n",
       "      <td>0.226908</td>\n",
       "      <td>0.418621</td>\n",
       "      <td>5</td>\n",
       "      <td>1.640296</td>\n",
       "      <td>8246</td>\n",
       "      <td>0.749761</td>\n",
       "      <td>0.611111</td>\n",
       "      <td>0.292153</td>\n",
       "    </tr>\n",
       "    <tr>\n",
       "      <th>17</th>\n",
       "      <td>0.466643</td>\n",
       "      <td>0.226908</td>\n",
       "      <td>0.418621</td>\n",
       "      <td>5</td>\n",
       "      <td>1.640296</td>\n",
       "      <td>9413</td>\n",
       "      <td>0.749761</td>\n",
       "      <td>0.833333</td>\n",
       "      <td>0.231811</td>\n",
       "    </tr>\n",
       "    <tr>\n",
       "      <th>24</th>\n",
       "      <td>0.466643</td>\n",
       "      <td>0.226908</td>\n",
       "      <td>0.418621</td>\n",
       "      <td>5</td>\n",
       "      <td>1.640296</td>\n",
       "      <td>7826</td>\n",
       "      <td>0.749761</td>\n",
       "      <td>0.923077</td>\n",
       "      <td>0.338496</td>\n",
       "    </tr>\n",
       "    <tr>\n",
       "      <th>39</th>\n",
       "      <td>0.466643</td>\n",
       "      <td>0.226908</td>\n",
       "      <td>0.418621</td>\n",
       "      <td>5</td>\n",
       "      <td>1.640296</td>\n",
       "      <td>3886</td>\n",
       "      <td>0.749761</td>\n",
       "      <td>0.307692</td>\n",
       "      <td>0.200398</td>\n",
       "    </tr>\n",
       "    <tr>\n",
       "      <th>70</th>\n",
       "      <td>0.466643</td>\n",
       "      <td>0.226908</td>\n",
       "      <td>0.418621</td>\n",
       "      <td>5</td>\n",
       "      <td>1.640296</td>\n",
       "      <td>1778</td>\n",
       "      <td>0.749761</td>\n",
       "      <td>0.923077</td>\n",
       "      <td>0.358984</td>\n",
       "    </tr>\n",
       "  </tbody>\n",
       "</table>\n",
       "</div>"
      ],
      "text/plain": [
       "       alpha       eta    lambda  max_depth  scale_pos_weight  seed  \\\n",
       "10  0.466643  0.226908  0.418621          5          1.640296  8246   \n",
       "17  0.466643  0.226908  0.418621          5          1.640296  9413   \n",
       "24  0.466643  0.226908  0.418621          5          1.640296  7826   \n",
       "39  0.466643  0.226908  0.418621          5          1.640296  3886   \n",
       "70  0.466643  0.226908  0.418621          5          1.640296  1778   \n",
       "\n",
       "    subsample       auc       phe  \n",
       "10   0.749761  0.611111  0.292153  \n",
       "17   0.749761  0.833333  0.231811  \n",
       "24   0.749761  0.923077  0.338496  \n",
       "39   0.749761  0.307692  0.200398  \n",
       "70   0.749761  0.923077  0.358984  "
      ]
     },
     "execution_count": 126,
     "metadata": {},
     "output_type": "execute_result"
    }
   ],
   "source": [
    "bs_trials['seed'], bs_trials['max_depth'] = bs_trials['seed'].astype('int'), bs_trials['max_depth'].astype('int')\n",
    "bs_trials.head()\n"
   ]
  },
  {
   "cell_type": "code",
   "execution_count": 127,
   "metadata": {},
   "outputs": [
    {
     "data": {
      "text/plain": [
       "{'objective': 'binary:logistic',\n",
       " 'eval_metric': 'logloss',\n",
       " 'alpha': 0.466643,\n",
       " 'eta': 0.226908,\n",
       " 'lambda': 0.418621,\n",
       " 'max_depth': 5.0,\n",
       " 'scale_pos_weight': 1.640296,\n",
       " 'seed': 9413.0,\n",
       " 'subsample': 0.749761}"
      ]
     },
     "execution_count": 127,
     "metadata": {},
     "output_type": "execute_result"
    }
   ],
   "source": [
    "params ={\"objective\":   \"binary:logistic\",\n",
    "            \"eval_metric\": \"logloss\"}\n",
    "\n",
    "\n",
    "params.update(\n",
    "    bs_trials.drop([\"auc\",\"phe\"], axis=\"columns\").iloc[1].to_dict()\n",
    ")\n",
    "\n",
    "params"
   ]
  },
  {
   "cell_type": "code",
   "execution_count": 128,
   "metadata": {},
   "outputs": [
    {
     "data": {
      "text/html": [
       "<div>\n",
       "<style scoped>\n",
       "    .dataframe tbody tr th:only-of-type {\n",
       "        vertical-align: middle;\n",
       "    }\n",
       "\n",
       "    .dataframe tbody tr th {\n",
       "        vertical-align: top;\n",
       "    }\n",
       "\n",
       "    .dataframe thead th {\n",
       "        text-align: right;\n",
       "    }\n",
       "</style>\n",
       "<table border=\"1\" class=\"dataframe\">\n",
       "  <thead>\n",
       "    <tr style=\"text-align: right;\">\n",
       "      <th></th>\n",
       "      <th>alpha</th>\n",
       "      <th>eta</th>\n",
       "      <th>lambda</th>\n",
       "      <th>max_depth</th>\n",
       "      <th>scale_pos_weight</th>\n",
       "      <th>seed</th>\n",
       "      <th>subsample</th>\n",
       "      <th>auc</th>\n",
       "      <th>phe</th>\n",
       "    </tr>\n",
       "  </thead>\n",
       "  <tbody>\n",
       "    <tr>\n",
       "      <th>10</th>\n",
       "      <td>0.466643</td>\n",
       "      <td>0.226908</td>\n",
       "      <td>0.418621</td>\n",
       "      <td>5</td>\n",
       "      <td>1.640296</td>\n",
       "      <td>8246</td>\n",
       "      <td>0.749761</td>\n",
       "      <td>0.611111</td>\n",
       "      <td>0.292153</td>\n",
       "    </tr>\n",
       "    <tr>\n",
       "      <th>17</th>\n",
       "      <td>0.466643</td>\n",
       "      <td>0.226908</td>\n",
       "      <td>0.418621</td>\n",
       "      <td>5</td>\n",
       "      <td>1.640296</td>\n",
       "      <td>9413</td>\n",
       "      <td>0.749761</td>\n",
       "      <td>0.833333</td>\n",
       "      <td>0.231811</td>\n",
       "    </tr>\n",
       "    <tr>\n",
       "      <th>24</th>\n",
       "      <td>0.466643</td>\n",
       "      <td>0.226908</td>\n",
       "      <td>0.418621</td>\n",
       "      <td>5</td>\n",
       "      <td>1.640296</td>\n",
       "      <td>7826</td>\n",
       "      <td>0.749761</td>\n",
       "      <td>0.923077</td>\n",
       "      <td>0.338496</td>\n",
       "    </tr>\n",
       "    <tr>\n",
       "      <th>39</th>\n",
       "      <td>0.466643</td>\n",
       "      <td>0.226908</td>\n",
       "      <td>0.418621</td>\n",
       "      <td>5</td>\n",
       "      <td>1.640296</td>\n",
       "      <td>3886</td>\n",
       "      <td>0.749761</td>\n",
       "      <td>0.307692</td>\n",
       "      <td>0.200398</td>\n",
       "    </tr>\n",
       "    <tr>\n",
       "      <th>70</th>\n",
       "      <td>0.466643</td>\n",
       "      <td>0.226908</td>\n",
       "      <td>0.418621</td>\n",
       "      <td>5</td>\n",
       "      <td>1.640296</td>\n",
       "      <td>1778</td>\n",
       "      <td>0.749761</td>\n",
       "      <td>0.923077</td>\n",
       "      <td>0.358984</td>\n",
       "    </tr>\n",
       "    <tr>\n",
       "      <th>71</th>\n",
       "      <td>0.466643</td>\n",
       "      <td>0.226908</td>\n",
       "      <td>0.418621</td>\n",
       "      <td>5</td>\n",
       "      <td>1.640296</td>\n",
       "      <td>7500</td>\n",
       "      <td>0.749761</td>\n",
       "      <td>0.846154</td>\n",
       "      <td>0.272889</td>\n",
       "    </tr>\n",
       "    <tr>\n",
       "      <th>80</th>\n",
       "      <td>0.466643</td>\n",
       "      <td>0.226908</td>\n",
       "      <td>0.418621</td>\n",
       "      <td>5</td>\n",
       "      <td>1.640296</td>\n",
       "      <td>1566</td>\n",
       "      <td>0.749761</td>\n",
       "      <td>0.692308</td>\n",
       "      <td>0.338371</td>\n",
       "    </tr>\n",
       "    <tr>\n",
       "      <th>96</th>\n",
       "      <td>0.466643</td>\n",
       "      <td>0.226908</td>\n",
       "      <td>0.418621</td>\n",
       "      <td>5</td>\n",
       "      <td>1.640296</td>\n",
       "      <td>1201</td>\n",
       "      <td>0.749761</td>\n",
       "      <td>0.694444</td>\n",
       "      <td>0.690984</td>\n",
       "    </tr>\n",
       "    <tr>\n",
       "      <th>127</th>\n",
       "      <td>0.466643</td>\n",
       "      <td>0.226908</td>\n",
       "      <td>0.418621</td>\n",
       "      <td>5</td>\n",
       "      <td>1.640296</td>\n",
       "      <td>1591</td>\n",
       "      <td>0.749761</td>\n",
       "      <td>0.750000</td>\n",
       "      <td>0.207866</td>\n",
       "    </tr>\n",
       "    <tr>\n",
       "      <th>129</th>\n",
       "      <td>0.466643</td>\n",
       "      <td>0.226908</td>\n",
       "      <td>0.418621</td>\n",
       "      <td>5</td>\n",
       "      <td>1.640296</td>\n",
       "      <td>1340</td>\n",
       "      <td>0.749761</td>\n",
       "      <td>0.694444</td>\n",
       "      <td>0.286172</td>\n",
       "    </tr>\n",
       "    <tr>\n",
       "      <th>166</th>\n",
       "      <td>0.466643</td>\n",
       "      <td>0.226908</td>\n",
       "      <td>0.418621</td>\n",
       "      <td>5</td>\n",
       "      <td>1.640296</td>\n",
       "      <td>1765</td>\n",
       "      <td>0.749761</td>\n",
       "      <td>0.444444</td>\n",
       "      <td>0.254978</td>\n",
       "    </tr>\n",
       "    <tr>\n",
       "      <th>178</th>\n",
       "      <td>0.466643</td>\n",
       "      <td>0.226908</td>\n",
       "      <td>0.418621</td>\n",
       "      <td>5</td>\n",
       "      <td>1.640296</td>\n",
       "      <td>1138</td>\n",
       "      <td>0.749761</td>\n",
       "      <td>0.923077</td>\n",
       "      <td>0.211182</td>\n",
       "    </tr>\n",
       "    <tr>\n",
       "      <th>180</th>\n",
       "      <td>0.466643</td>\n",
       "      <td>0.226908</td>\n",
       "      <td>0.418621</td>\n",
       "      <td>5</td>\n",
       "      <td>1.640296</td>\n",
       "      <td>8002</td>\n",
       "      <td>0.749761</td>\n",
       "      <td>0.961538</td>\n",
       "      <td>0.279585</td>\n",
       "    </tr>\n",
       "    <tr>\n",
       "      <th>187</th>\n",
       "      <td>0.466643</td>\n",
       "      <td>0.226908</td>\n",
       "      <td>0.418621</td>\n",
       "      <td>5</td>\n",
       "      <td>1.640296</td>\n",
       "      <td>8062</td>\n",
       "      <td>0.749761</td>\n",
       "      <td>0.625000</td>\n",
       "      <td>0.224100</td>\n",
       "    </tr>\n",
       "    <tr>\n",
       "      <th>221</th>\n",
       "      <td>0.466643</td>\n",
       "      <td>0.226908</td>\n",
       "      <td>0.418621</td>\n",
       "      <td>5</td>\n",
       "      <td>1.640296</td>\n",
       "      <td>4528</td>\n",
       "      <td>0.749761</td>\n",
       "      <td>1.000000</td>\n",
       "      <td>0.368881</td>\n",
       "    </tr>\n",
       "    <tr>\n",
       "      <th>256</th>\n",
       "      <td>0.466643</td>\n",
       "      <td>0.226908</td>\n",
       "      <td>0.418621</td>\n",
       "      <td>5</td>\n",
       "      <td>1.640296</td>\n",
       "      <td>1458</td>\n",
       "      <td>0.749761</td>\n",
       "      <td>0.750000</td>\n",
       "      <td>0.329772</td>\n",
       "    </tr>\n",
       "    <tr>\n",
       "      <th>273</th>\n",
       "      <td>0.466643</td>\n",
       "      <td>0.226908</td>\n",
       "      <td>0.418621</td>\n",
       "      <td>5</td>\n",
       "      <td>1.640296</td>\n",
       "      <td>5408</td>\n",
       "      <td>0.749761</td>\n",
       "      <td>0.888889</td>\n",
       "      <td>0.210326</td>\n",
       "    </tr>\n",
       "    <tr>\n",
       "      <th>294</th>\n",
       "      <td>0.466643</td>\n",
       "      <td>0.226908</td>\n",
       "      <td>0.418621</td>\n",
       "      <td>5</td>\n",
       "      <td>1.640296</td>\n",
       "      <td>5485</td>\n",
       "      <td>0.749761</td>\n",
       "      <td>0.807692</td>\n",
       "      <td>0.221630</td>\n",
       "    </tr>\n",
       "    <tr>\n",
       "      <th>307</th>\n",
       "      <td>0.466643</td>\n",
       "      <td>0.226908</td>\n",
       "      <td>0.418621</td>\n",
       "      <td>5</td>\n",
       "      <td>1.640296</td>\n",
       "      <td>4414</td>\n",
       "      <td>0.749761</td>\n",
       "      <td>0.555556</td>\n",
       "      <td>0.331235</td>\n",
       "    </tr>\n",
       "    <tr>\n",
       "      <th>367</th>\n",
       "      <td>0.466643</td>\n",
       "      <td>0.226908</td>\n",
       "      <td>0.418621</td>\n",
       "      <td>5</td>\n",
       "      <td>1.640296</td>\n",
       "      <td>9674</td>\n",
       "      <td>0.749761</td>\n",
       "      <td>0.807692</td>\n",
       "      <td>0.212223</td>\n",
       "    </tr>\n",
       "    <tr>\n",
       "      <th>383</th>\n",
       "      <td>0.466643</td>\n",
       "      <td>0.226908</td>\n",
       "      <td>0.418621</td>\n",
       "      <td>5</td>\n",
       "      <td>1.640296</td>\n",
       "      <td>3401</td>\n",
       "      <td>0.749761</td>\n",
       "      <td>0.961538</td>\n",
       "      <td>0.222038</td>\n",
       "    </tr>\n",
       "    <tr>\n",
       "      <th>417</th>\n",
       "      <td>0.466643</td>\n",
       "      <td>0.226908</td>\n",
       "      <td>0.418621</td>\n",
       "      <td>5</td>\n",
       "      <td>1.640296</td>\n",
       "      <td>579</td>\n",
       "      <td>0.749761</td>\n",
       "      <td>0.555556</td>\n",
       "      <td>0.351475</td>\n",
       "    </tr>\n",
       "    <tr>\n",
       "      <th>427</th>\n",
       "      <td>0.466643</td>\n",
       "      <td>0.226908</td>\n",
       "      <td>0.418621</td>\n",
       "      <td>5</td>\n",
       "      <td>1.640296</td>\n",
       "      <td>742</td>\n",
       "      <td>0.749761</td>\n",
       "      <td>0.884615</td>\n",
       "      <td>0.230125</td>\n",
       "    </tr>\n",
       "    <tr>\n",
       "      <th>449</th>\n",
       "      <td>0.466643</td>\n",
       "      <td>0.226908</td>\n",
       "      <td>0.418621</td>\n",
       "      <td>5</td>\n",
       "      <td>1.640296</td>\n",
       "      <td>5708</td>\n",
       "      <td>0.749761</td>\n",
       "      <td>0.777778</td>\n",
       "      <td>0.642661</td>\n",
       "    </tr>\n",
       "    <tr>\n",
       "      <th>453</th>\n",
       "      <td>0.466643</td>\n",
       "      <td>0.226908</td>\n",
       "      <td>0.418621</td>\n",
       "      <td>5</td>\n",
       "      <td>1.640296</td>\n",
       "      <td>5796</td>\n",
       "      <td>0.749761</td>\n",
       "      <td>0.777778</td>\n",
       "      <td>0.318109</td>\n",
       "    </tr>\n",
       "    <tr>\n",
       "      <th>457</th>\n",
       "      <td>0.466643</td>\n",
       "      <td>0.226908</td>\n",
       "      <td>0.418621</td>\n",
       "      <td>5</td>\n",
       "      <td>1.640296</td>\n",
       "      <td>5182</td>\n",
       "      <td>0.749761</td>\n",
       "      <td>0.944444</td>\n",
       "      <td>0.506922</td>\n",
       "    </tr>\n",
       "    <tr>\n",
       "      <th>468</th>\n",
       "      <td>0.466643</td>\n",
       "      <td>0.226908</td>\n",
       "      <td>0.418621</td>\n",
       "      <td>5</td>\n",
       "      <td>1.640296</td>\n",
       "      <td>5283</td>\n",
       "      <td>0.749761</td>\n",
       "      <td>0.583333</td>\n",
       "      <td>0.345265</td>\n",
       "    </tr>\n",
       "  </tbody>\n",
       "</table>\n",
       "</div>"
      ],
      "text/plain": [
       "        alpha       eta    lambda  max_depth  scale_pos_weight  seed  \\\n",
       "10   0.466643  0.226908  0.418621          5          1.640296  8246   \n",
       "17   0.466643  0.226908  0.418621          5          1.640296  9413   \n",
       "24   0.466643  0.226908  0.418621          5          1.640296  7826   \n",
       "39   0.466643  0.226908  0.418621          5          1.640296  3886   \n",
       "70   0.466643  0.226908  0.418621          5          1.640296  1778   \n",
       "71   0.466643  0.226908  0.418621          5          1.640296  7500   \n",
       "80   0.466643  0.226908  0.418621          5          1.640296  1566   \n",
       "96   0.466643  0.226908  0.418621          5          1.640296  1201   \n",
       "127  0.466643  0.226908  0.418621          5          1.640296  1591   \n",
       "129  0.466643  0.226908  0.418621          5          1.640296  1340   \n",
       "166  0.466643  0.226908  0.418621          5          1.640296  1765   \n",
       "178  0.466643  0.226908  0.418621          5          1.640296  1138   \n",
       "180  0.466643  0.226908  0.418621          5          1.640296  8002   \n",
       "187  0.466643  0.226908  0.418621          5          1.640296  8062   \n",
       "221  0.466643  0.226908  0.418621          5          1.640296  4528   \n",
       "256  0.466643  0.226908  0.418621          5          1.640296  1458   \n",
       "273  0.466643  0.226908  0.418621          5          1.640296  5408   \n",
       "294  0.466643  0.226908  0.418621          5          1.640296  5485   \n",
       "307  0.466643  0.226908  0.418621          5          1.640296  4414   \n",
       "367  0.466643  0.226908  0.418621          5          1.640296  9674   \n",
       "383  0.466643  0.226908  0.418621          5          1.640296  3401   \n",
       "417  0.466643  0.226908  0.418621          5          1.640296   579   \n",
       "427  0.466643  0.226908  0.418621          5          1.640296   742   \n",
       "449  0.466643  0.226908  0.418621          5          1.640296  5708   \n",
       "453  0.466643  0.226908  0.418621          5          1.640296  5796   \n",
       "457  0.466643  0.226908  0.418621          5          1.640296  5182   \n",
       "468  0.466643  0.226908  0.418621          5          1.640296  5283   \n",
       "\n",
       "     subsample       auc       phe  \n",
       "10    0.749761  0.611111  0.292153  \n",
       "17    0.749761  0.833333  0.231811  \n",
       "24    0.749761  0.923077  0.338496  \n",
       "39    0.749761  0.307692  0.200398  \n",
       "70    0.749761  0.923077  0.358984  \n",
       "71    0.749761  0.846154  0.272889  \n",
       "80    0.749761  0.692308  0.338371  \n",
       "96    0.749761  0.694444  0.690984  \n",
       "127   0.749761  0.750000  0.207866  \n",
       "129   0.749761  0.694444  0.286172  \n",
       "166   0.749761  0.444444  0.254978  \n",
       "178   0.749761  0.923077  0.211182  \n",
       "180   0.749761  0.961538  0.279585  \n",
       "187   0.749761  0.625000  0.224100  \n",
       "221   0.749761  1.000000  0.368881  \n",
       "256   0.749761  0.750000  0.329772  \n",
       "273   0.749761  0.888889  0.210326  \n",
       "294   0.749761  0.807692  0.221630  \n",
       "307   0.749761  0.555556  0.331235  \n",
       "367   0.749761  0.807692  0.212223  \n",
       "383   0.749761  0.961538  0.222038  \n",
       "417   0.749761  0.555556  0.351475  \n",
       "427   0.749761  0.884615  0.230125  \n",
       "449   0.749761  0.777778  0.642661  \n",
       "453   0.749761  0.777778  0.318109  \n",
       "457   0.749761  0.944444  0.506922  \n",
       "468   0.749761  0.583333  0.345265  "
      ]
     },
     "execution_count": 128,
     "metadata": {},
     "output_type": "execute_result"
    }
   ],
   "source": [
    "bs_trials"
   ]
  },
  {
   "cell_type": "code",
   "execution_count": 129,
   "metadata": {},
   "outputs": [
    {
     "name": "stdout",
     "output_type": "stream",
     "text": [
      "{'max_depth': 5, 'eta': 0.226908, 'subsample': 0.749761, 'lambda': 0.418621, 'alpha': 0.466643, 'scale_pos_weight': 1.640296, 'objective': 'binary:logistic', 'eval_metric': 'logloss'}\n",
      "{'best_iteration': '14', 'best_ntree_limit': '15', 'best_score': '0.27761588618159294'}\n",
      "Phe_value :  0.29215348 \t Phe_ranking :  3.0\n",
      "\n",
      "\n",
      "{'max_depth': 5, 'eta': 0.226908, 'subsample': 0.749761, 'lambda': 0.418621, 'alpha': 0.466643, 'scale_pos_weight': 1.640296, 'objective': 'binary:logistic', 'eval_metric': 'logloss'}\n",
      "{'best_iteration': '34', 'best_ntree_limit': '35', 'best_score': '0.27833866017560166'}\n",
      "Phe_value :  0.23181069 \t Phe_ranking :  9.0\n",
      "\n",
      "\n",
      "{'max_depth': 5, 'eta': 0.226908, 'subsample': 0.749761, 'lambda': 0.418621, 'alpha': 0.466643, 'scale_pos_weight': 1.640296, 'objective': 'binary:logistic', 'eval_metric': 'logloss'}\n",
      "{'best_iteration': '9', 'best_ntree_limit': '10', 'best_score': '0.3725244787832101'}\n",
      "Phe_value :  0.338496 \t Phe_ranking :  5.0\n",
      "\n",
      "\n",
      "{'max_depth': 5, 'eta': 0.226908, 'subsample': 0.749761, 'lambda': 0.418621, 'alpha': 0.466643, 'scale_pos_weight': 1.640296, 'objective': 'binary:logistic', 'eval_metric': 'logloss'}\n",
      "{'best_iteration': '49', 'best_ntree_limit': '50', 'best_score': '0.2687756409868598'}\n",
      "Phe_value :  0.200398 \t Phe_ranking :  6.0\n",
      "\n",
      "\n",
      "{'max_depth': 5, 'eta': 0.226908, 'subsample': 0.749761, 'lambda': 0.418621, 'alpha': 0.466643, 'scale_pos_weight': 1.640296, 'objective': 'binary:logistic', 'eval_metric': 'logloss'}\n",
      "{'best_iteration': '18', 'best_ntree_limit': '19', 'best_score': '0.268091485525171'}\n",
      "Phe_value :  0.3589838 \t Phe_ranking :  3.0\n",
      "\n",
      "\n",
      "{'max_depth': 5, 'eta': 0.226908, 'subsample': 0.749761, 'lambda': 0.418621, 'alpha': 0.466643, 'scale_pos_weight': 1.640296, 'objective': 'binary:logistic', 'eval_metric': 'logloss'}\n",
      "{'best_iteration': '43', 'best_ntree_limit': '44', 'best_score': '0.08142420339087646'}\n",
      "Phe_value :  0.27288902 \t Phe_ranking :  6.0\n",
      "\n",
      "\n",
      "{'max_depth': 5, 'eta': 0.226908, 'subsample': 0.749761, 'lambda': 0.418621, 'alpha': 0.466643, 'scale_pos_weight': 1.640296, 'objective': 'binary:logistic', 'eval_metric': 'logloss'}\n",
      "{'best_iteration': '18', 'best_ntree_limit': '19', 'best_score': '0.48364905764659244'}\n",
      "Phe_value :  0.3383713 \t Phe_ranking :  3.0\n",
      "\n",
      "\n",
      "{'max_depth': 5, 'eta': 0.226908, 'subsample': 0.749761, 'lambda': 0.418621, 'alpha': 0.466643, 'scale_pos_weight': 1.640296, 'objective': 'binary:logistic', 'eval_metric': 'logloss'}\n",
      "{'best_iteration': '56', 'best_ntree_limit': '57', 'best_score': '0.27515826870997745'}\n",
      "Phe_value :  0.6909836 \t Phe_ranking :  1.0\n",
      "\n",
      "\n",
      "{'max_depth': 5, 'eta': 0.226908, 'subsample': 0.749761, 'lambda': 0.418621, 'alpha': 0.466643, 'scale_pos_weight': 1.640296, 'objective': 'binary:logistic', 'eval_metric': 'logloss'}\n",
      "{'best_iteration': '14', 'best_ntree_limit': '15', 'best_score': '0.25805434212088585'}\n",
      "Phe_value :  0.20786613 \t Phe_ranking :  5.0\n",
      "\n",
      "\n",
      "{'max_depth': 5, 'eta': 0.226908, 'subsample': 0.749761, 'lambda': 0.418621, 'alpha': 0.466643, 'scale_pos_weight': 1.640296, 'objective': 'binary:logistic', 'eval_metric': 'logloss'}\n",
      "{'best_iteration': '13', 'best_ntree_limit': '14', 'best_score': '0.5202203070123991'}\n",
      "Phe_value :  0.28617242 \t Phe_ranking :  3.0\n",
      "\n",
      "\n",
      "{'max_depth': 5, 'eta': 0.226908, 'subsample': 0.749761, 'lambda': 0.418621, 'alpha': 0.466643, 'scale_pos_weight': 1.640296, 'objective': 'binary:logistic', 'eval_metric': 'logloss'}\n",
      "{'best_iteration': '100', 'best_ntree_limit': '101', 'best_score': '0.17038430211444697'}\n",
      "Phe_value :  0.25497788 \t Phe_ranking :  4.0\n",
      "\n",
      "\n",
      "{'max_depth': 5, 'eta': 0.226908, 'subsample': 0.749761, 'lambda': 0.418621, 'alpha': 0.466643, 'scale_pos_weight': 1.640296, 'objective': 'binary:logistic', 'eval_metric': 'logloss'}\n",
      "{'best_iteration': '34', 'best_ntree_limit': '35', 'best_score': '0.1058502144490679'}\n",
      "Phe_value :  0.21118197 \t Phe_ranking :  7.0\n",
      "\n",
      "\n",
      "{'max_depth': 5, 'eta': 0.226908, 'subsample': 0.749761, 'lambda': 0.418621, 'alpha': 0.466643, 'scale_pos_weight': 1.640296, 'objective': 'binary:logistic', 'eval_metric': 'logloss'}\n",
      "{'best_iteration': '46', 'best_ntree_limit': '47', 'best_score': '0.1516632322842876'}\n",
      "Phe_value :  0.2795847 \t Phe_ranking :  3.0\n",
      "\n",
      "\n",
      "{'max_depth': 5, 'eta': 0.226908, 'subsample': 0.749761, 'lambda': 0.418621, 'alpha': 0.466643, 'scale_pos_weight': 1.640296, 'objective': 'binary:logistic', 'eval_metric': 'logloss'}\n",
      "{'best_iteration': '6', 'best_ntree_limit': '7', 'best_score': '0.35928882161776227'}\n",
      "Phe_value :  0.22409958 \t Phe_ranking :  4.0\n",
      "\n",
      "\n",
      "{'max_depth': 5, 'eta': 0.226908, 'subsample': 0.749761, 'lambda': 0.418621, 'alpha': 0.466643, 'scale_pos_weight': 1.640296, 'objective': 'binary:logistic', 'eval_metric': 'logloss'}\n",
      "{'best_iteration': '39', 'best_ntree_limit': '40', 'best_score': '0.2603247712055842'}\n",
      "Phe_value :  0.36888072 \t Phe_ranking :  4.0\n",
      "\n",
      "\n",
      "{'max_depth': 5, 'eta': 0.226908, 'subsample': 0.749761, 'lambda': 0.418621, 'alpha': 0.466643, 'scale_pos_weight': 1.640296, 'objective': 'binary:logistic', 'eval_metric': 'logloss'}\n",
      "{'best_iteration': '3', 'best_ntree_limit': '4', 'best_score': '0.4663127735257149'}\n",
      "Phe_value :  0.32977152 \t Phe_ranking :  2.0\n",
      "\n",
      "\n",
      "{'max_depth': 5, 'eta': 0.226908, 'subsample': 0.749761, 'lambda': 0.418621, 'alpha': 0.466643, 'scale_pos_weight': 1.640296, 'objective': 'binary:logistic', 'eval_metric': 'logloss'}\n",
      "{'best_iteration': '23', 'best_ntree_limit': '24', 'best_score': '0.2010119128972292'}\n",
      "Phe_value :  0.21032612 \t Phe_ranking :  7.0\n",
      "\n",
      "\n",
      "{'max_depth': 5, 'eta': 0.226908, 'subsample': 0.749761, 'lambda': 0.418621, 'alpha': 0.466643, 'scale_pos_weight': 1.640296, 'objective': 'binary:logistic', 'eval_metric': 'logloss'}\n",
      "{'best_iteration': '22', 'best_ntree_limit': '23', 'best_score': '0.2787056788802147'}\n",
      "Phe_value :  0.22163045 \t Phe_ranking :  6.0\n",
      "\n",
      "\n",
      "{'max_depth': 5, 'eta': 0.226908, 'subsample': 0.749761, 'lambda': 0.418621, 'alpha': 0.466643, 'scale_pos_weight': 1.640296, 'objective': 'binary:logistic', 'eval_metric': 'logloss'}\n",
      "{'best_iteration': '9', 'best_ntree_limit': '10', 'best_score': '0.3259384222328663'}\n",
      "Phe_value :  0.33123523 \t Phe_ranking :  4.0\n",
      "\n",
      "\n",
      "{'max_depth': 5, 'eta': 0.226908, 'subsample': 0.749761, 'lambda': 0.418621, 'alpha': 0.466643, 'scale_pos_weight': 1.640296, 'objective': 'binary:logistic', 'eval_metric': 'logloss'}\n",
      "{'best_iteration': '17', 'best_ntree_limit': '18', 'best_score': '0.39549750710527104'}\n",
      "Phe_value :  0.2122226 \t Phe_ranking :  6.0\n",
      "\n",
      "\n",
      "{'max_depth': 5, 'eta': 0.226908, 'subsample': 0.749761, 'lambda': 0.418621, 'alpha': 0.466643, 'scale_pos_weight': 1.640296, 'objective': 'binary:logistic', 'eval_metric': 'logloss'}\n",
      "{'best_iteration': '23', 'best_ntree_limit': '24', 'best_score': '0.3284133660296599'}\n",
      "Phe_value :  0.22203787 \t Phe_ranking :  4.0\n",
      "\n",
      "\n",
      "{'max_depth': 5, 'eta': 0.226908, 'subsample': 0.749761, 'lambda': 0.418621, 'alpha': 0.466643, 'scale_pos_weight': 1.640296, 'objective': 'binary:logistic', 'eval_metric': 'logloss'}\n",
      "{'best_iteration': '42', 'best_ntree_limit': '43', 'best_score': '0.14933301166941723'}\n",
      "Phe_value :  0.35147515 \t Phe_ranking :  3.0\n",
      "\n",
      "\n",
      "{'max_depth': 5, 'eta': 0.226908, 'subsample': 0.749761, 'lambda': 0.418621, 'alpha': 0.466643, 'scale_pos_weight': 1.640296, 'objective': 'binary:logistic', 'eval_metric': 'logloss'}\n",
      "{'best_iteration': '36', 'best_ntree_limit': '37', 'best_score': '0.1448142621666193'}\n",
      "Phe_value :  0.23012477 \t Phe_ranking :  6.0\n",
      "\n",
      "\n",
      "{'max_depth': 5, 'eta': 0.226908, 'subsample': 0.749761, 'lambda': 0.418621, 'alpha': 0.466643, 'scale_pos_weight': 1.640296, 'objective': 'binary:logistic', 'eval_metric': 'logloss'}\n",
      "{'best_iteration': '8', 'best_ntree_limit': '9', 'best_score': '0.6412227724989256'}\n",
      "Phe_value :  0.6426614 \t Phe_ranking :  2.0\n",
      "\n",
      "\n",
      "{'max_depth': 5, 'eta': 0.226908, 'subsample': 0.749761, 'lambda': 0.418621, 'alpha': 0.466643, 'scale_pos_weight': 1.640296, 'objective': 'binary:logistic', 'eval_metric': 'logloss'}\n",
      "{'best_iteration': '36', 'best_ntree_limit': '37', 'best_score': '0.19131077950199446'}\n",
      "Phe_value :  0.31810945 \t Phe_ranking :  4.0\n",
      "\n",
      "\n",
      "{'max_depth': 5, 'eta': 0.226908, 'subsample': 0.749761, 'lambda': 0.418621, 'alpha': 0.466643, 'scale_pos_weight': 1.640296, 'objective': 'binary:logistic', 'eval_metric': 'logloss'}\n",
      "{'best_iteration': '29', 'best_ntree_limit': '30', 'best_score': '0.17806380055844784'}\n",
      "Phe_value :  0.50692207 \t Phe_ranking :  2.0\n",
      "\n",
      "\n",
      "{'max_depth': 5, 'eta': 0.226908, 'subsample': 0.749761, 'lambda': 0.418621, 'alpha': 0.466643, 'scale_pos_weight': 1.640296, 'objective': 'binary:logistic', 'eval_metric': 'logloss'}\n",
      "{'best_iteration': '21', 'best_ntree_limit': '22', 'best_score': '0.26415481852988404'}\n",
      "Phe_value :  0.34526506 \t Phe_ranking :  4.0\n",
      "\n",
      "\n"
     ]
    }
   ],
   "source": [
    "\n",
    "paretos = {}\n",
    "\n",
    "df_ranks = pd.DataFrame()\n",
    "\n",
    "for number in bs_trials.index: \n",
    "\n",
    "\n",
    "    instance_params = bs_trials.loc[number][['max_depth','eta','subsample','lambda','alpha','scale_pos_weight']].to_dict()\n",
    "    instance_params['max_depth'] = int(instance_params['max_depth'])\n",
    "\n",
    "    instance_params['objective'] = 'binary:logistic'\n",
    "    instance_params['eval_metric'] = 'logloss'\n",
    "\n",
    "    print(instance_params)\n",
    "\n",
    "    model_instance = generate_model(\n",
    "        \"HOMA-IR alterado\", \"data.csv\", \n",
    "        removed_features = ext_params[\"feature_engineering\"][\"removed_features\"], \n",
    "        xg_params = instance_params,\n",
    "        kfold_splits = 5, \n",
    "        seed = int(bs_trials.loc[number]['seed'])\n",
    "    )   \n",
    "# \n",
    "    print(\n",
    "        model_instance.model.attributes()\n",
    "    )\n",
    "    \n",
    "    df_ranks[number] = model_instance.get_feature_metrics()[\"SHAP_abnormal\"]\n",
    "\n",
    "    print(\n",
    "        'Phe_value : ', model_instance.get_feature_metrics()[\"SHAP_abnormal\"][\"fenilalax\"], \"\\t\",\n",
    "        'Phe_ranking : ',model_instance.get_feature_metrics()[\"SHAP_abnormal\"].rank(ascending=False)[\"fenilalax\"]\n",
    "    )\n",
    "\n",
    "    print('\\n')\n",
    "\n",
    "\n",
    "\n"
   ]
  },
  {
   "cell_type": "code",
   "execution_count": 131,
   "metadata": {},
   "outputs": [
    {
     "data": {
      "application/vnd.plotly.v1+json": {
       "config": {
        "plotlyServerURL": "https://plot.ly"
       },
       "data": [
        {
         "alignmentgroup": "True",
         "hovertemplate": "variable=10<br>index=%{x}<br>value=%{y}<extra></extra>",
         "legendgroup": "10",
         "marker": {
          "color": "#F8766D",
          "pattern": {
           "shape": ""
          }
         },
         "name": "10",
         "offsetgroup": "10",
         "orientation": "v",
         "showlegend": true,
         "textposition": "auto",
         "type": "bar",
         "x": [
          "Género",
          "aleator",
          "IMC",
          "Circunferencia de cintura",
          "ATPII/AHA/IDF",
          "fenilalax",
          "ohd3x",
          "tirosinax",
          "Alanina",
          "Aspartato",
          "Glutamato",
          "Leucina",
          "Ornitina",
          "Prolina",
          "Tirosina",
          "Carnitina libre",
          "Propionilcarnitina",
          "Isovalerilcarnitina",
          "Tiglilcarnitina",
          "Me-Glutarilcarnitina",
          "Decanoilcarnitina",
          "Tetradecanoilcarnitina",
          "3-OH-Isovalerilcarnitina",
          "3-OH-Palmitoilcarnitina",
          "Linoleoilcarnitina",
          "Arginina",
          "Citrulina",
          "Glicina",
          "Metionina",
          "Fenilalanina",
          "Succinilacetona",
          "Valina",
          "Acetilcarnitina",
          "Butirilcarnitina",
          "Glutarilcarnitina",
          "Hexanoilcarnitina",
          "Octanoilcarnitina",
          "Dodecanoilcarnitina",
          "Tetradecenoilcarnitina",
          "Palmitoilcarnitina",
          "Estearoilcarnitina",
          "3-OH-Linoleoilcarnitina",
          "PROTEINAProm_(G)",
          "%_proteina_natural",
          "%_Proteina_SP"
         ],
         "xaxis": "x",
         "y": [
          0,
          0,
          0.979961,
          0,
          0,
          0.29215348,
          0.7408779,
          0,
          0.040051524,
          0.1659748,
          0,
          0,
          0,
          0,
          0,
          0.06744044,
          0,
          0,
          0,
          0,
          0.1271297,
          0.1186044,
          0,
          0,
          0,
          0,
          0,
          0,
          0,
          0,
          0,
          0,
          0,
          0,
          0.06133521,
          0,
          0,
          0,
          0,
          0,
          0,
          0,
          0.04918309,
          0,
          0
         ],
         "yaxis": "y"
        },
        {
         "alignmentgroup": "True",
         "hovertemplate": "variable=17<br>index=%{x}<br>value=%{y}<extra></extra>",
         "legendgroup": "17",
         "marker": {
          "color": "#A3A500",
          "pattern": {
           "shape": ""
          }
         },
         "name": "17",
         "offsetgroup": "17",
         "orientation": "v",
         "showlegend": true,
         "textposition": "auto",
         "type": "bar",
         "x": [
          "Género",
          "aleator",
          "IMC",
          "Circunferencia de cintura",
          "ATPII/AHA/IDF",
          "fenilalax",
          "ohd3x",
          "tirosinax",
          "Alanina",
          "Aspartato",
          "Glutamato",
          "Leucina",
          "Ornitina",
          "Prolina",
          "Tirosina",
          "Carnitina libre",
          "Propionilcarnitina",
          "Isovalerilcarnitina",
          "Tiglilcarnitina",
          "Me-Glutarilcarnitina",
          "Decanoilcarnitina",
          "Tetradecanoilcarnitina",
          "3-OH-Isovalerilcarnitina",
          "3-OH-Palmitoilcarnitina",
          "Linoleoilcarnitina",
          "Arginina",
          "Citrulina",
          "Glicina",
          "Metionina",
          "Fenilalanina",
          "Succinilacetona",
          "Valina",
          "Acetilcarnitina",
          "Butirilcarnitina",
          "Glutarilcarnitina",
          "Hexanoilcarnitina",
          "Octanoilcarnitina",
          "Dodecanoilcarnitina",
          "Tetradecenoilcarnitina",
          "Palmitoilcarnitina",
          "Estearoilcarnitina",
          "3-OH-Linoleoilcarnitina",
          "PROTEINAProm_(G)",
          "%_proteina_natural",
          "%_Proteina_SP"
         ],
         "xaxis": "x",
         "y": [
          0,
          0,
          0.3014634,
          0.3080208,
          0,
          0.23181069,
          0,
          0.045944974,
          0,
          0,
          0.19312747,
          0,
          0.14684029,
          0,
          0.3337187,
          0.15932426,
          0,
          0,
          0,
          0,
          0.4461477,
          0,
          0.030183671,
          0,
          0.038048208,
          0.14469685,
          0,
          0,
          0.17953509,
          0,
          0,
          0.23331265,
          0.40825856,
          0,
          0,
          0,
          0,
          0.4265423,
          0,
          0.055523653,
          0,
          0,
          0.38404572,
          0,
          0
         ],
         "yaxis": "y"
        },
        {
         "alignmentgroup": "True",
         "hovertemplate": "variable=24<br>index=%{x}<br>value=%{y}<extra></extra>",
         "legendgroup": "24",
         "marker": {
          "color": "#00BF7D",
          "pattern": {
           "shape": ""
          }
         },
         "name": "24",
         "offsetgroup": "24",
         "orientation": "v",
         "showlegend": true,
         "textposition": "auto",
         "type": "bar",
         "x": [
          "Género",
          "aleator",
          "IMC",
          "Circunferencia de cintura",
          "ATPII/AHA/IDF",
          "fenilalax",
          "ohd3x",
          "tirosinax",
          "Alanina",
          "Aspartato",
          "Glutamato",
          "Leucina",
          "Ornitina",
          "Prolina",
          "Tirosina",
          "Carnitina libre",
          "Propionilcarnitina",
          "Isovalerilcarnitina",
          "Tiglilcarnitina",
          "Me-Glutarilcarnitina",
          "Decanoilcarnitina",
          "Tetradecanoilcarnitina",
          "3-OH-Isovalerilcarnitina",
          "3-OH-Palmitoilcarnitina",
          "Linoleoilcarnitina",
          "Arginina",
          "Citrulina",
          "Glicina",
          "Metionina",
          "Fenilalanina",
          "Succinilacetona",
          "Valina",
          "Acetilcarnitina",
          "Butirilcarnitina",
          "Glutarilcarnitina",
          "Hexanoilcarnitina",
          "Octanoilcarnitina",
          "Dodecanoilcarnitina",
          "Tetradecenoilcarnitina",
          "Palmitoilcarnitina",
          "Estearoilcarnitina",
          "3-OH-Linoleoilcarnitina",
          "PROTEINAProm_(G)",
          "%_proteina_natural",
          "%_Proteina_SP"
         ],
         "xaxis": "x",
         "y": [
          0,
          0,
          1.0700523,
          0,
          0,
          0.338496,
          0.372636,
          0,
          0.49433994,
          0,
          0,
          0,
          0,
          0.028580835,
          0,
          0.4021027,
          0.044201147,
          0,
          0,
          0,
          0,
          0,
          0,
          0,
          0,
          0,
          0.21476358,
          0,
          0,
          0,
          0,
          0,
          0,
          0,
          0,
          0,
          0,
          0,
          0,
          0,
          0.33647144,
          0,
          0,
          0,
          0
         ],
         "yaxis": "y"
        },
        {
         "alignmentgroup": "True",
         "hovertemplate": "variable=39<br>index=%{x}<br>value=%{y}<extra></extra>",
         "legendgroup": "39",
         "marker": {
          "color": "#00B0F6",
          "pattern": {
           "shape": ""
          }
         },
         "name": "39",
         "offsetgroup": "39",
         "orientation": "v",
         "showlegend": true,
         "textposition": "auto",
         "type": "bar",
         "x": [
          "Género",
          "aleator",
          "IMC",
          "Circunferencia de cintura",
          "ATPII/AHA/IDF",
          "fenilalax",
          "ohd3x",
          "tirosinax",
          "Alanina",
          "Aspartato",
          "Glutamato",
          "Leucina",
          "Ornitina",
          "Prolina",
          "Tirosina",
          "Carnitina libre",
          "Propionilcarnitina",
          "Isovalerilcarnitina",
          "Tiglilcarnitina",
          "Me-Glutarilcarnitina",
          "Decanoilcarnitina",
          "Tetradecanoilcarnitina",
          "3-OH-Isovalerilcarnitina",
          "3-OH-Palmitoilcarnitina",
          "Linoleoilcarnitina",
          "Arginina",
          "Citrulina",
          "Glicina",
          "Metionina",
          "Fenilalanina",
          "Succinilacetona",
          "Valina",
          "Acetilcarnitina",
          "Butirilcarnitina",
          "Glutarilcarnitina",
          "Hexanoilcarnitina",
          "Octanoilcarnitina",
          "Dodecanoilcarnitina",
          "Tetradecenoilcarnitina",
          "Palmitoilcarnitina",
          "Estearoilcarnitina",
          "3-OH-Linoleoilcarnitina",
          "PROTEINAProm_(G)",
          "%_proteina_natural",
          "%_Proteina_SP"
         ],
         "xaxis": "x",
         "y": [
          0,
          0,
          0.28326505,
          0.027511407,
          0,
          0.200398,
          0,
          0,
          0.1345631,
          0,
          0,
          0,
          0.5405923,
          0,
          0.035520244,
          0,
          0,
          0,
          0,
          0,
          0.21660227,
          0,
          0.04762042,
          0,
          0,
          0,
          0.24166039,
          0,
          0,
          0,
          0,
          0,
          0,
          0,
          0,
          0,
          0,
          0,
          0,
          0,
          0.6731887,
          0.05156216,
          0,
          0,
          0
         ],
         "yaxis": "y"
        },
        {
         "alignmentgroup": "True",
         "hovertemplate": "variable=70<br>index=%{x}<br>value=%{y}<extra></extra>",
         "legendgroup": "70",
         "marker": {
          "color": "#E76BF3",
          "pattern": {
           "shape": ""
          }
         },
         "name": "70",
         "offsetgroup": "70",
         "orientation": "v",
         "showlegend": true,
         "textposition": "auto",
         "type": "bar",
         "x": [
          "Género",
          "aleator",
          "IMC",
          "Circunferencia de cintura",
          "ATPII/AHA/IDF",
          "fenilalax",
          "ohd3x",
          "tirosinax",
          "Alanina",
          "Aspartato",
          "Glutamato",
          "Leucina",
          "Ornitina",
          "Prolina",
          "Tirosina",
          "Carnitina libre",
          "Propionilcarnitina",
          "Isovalerilcarnitina",
          "Tiglilcarnitina",
          "Me-Glutarilcarnitina",
          "Decanoilcarnitina",
          "Tetradecanoilcarnitina",
          "3-OH-Isovalerilcarnitina",
          "3-OH-Palmitoilcarnitina",
          "Linoleoilcarnitina",
          "Arginina",
          "Citrulina",
          "Glicina",
          "Metionina",
          "Fenilalanina",
          "Succinilacetona",
          "Valina",
          "Acetilcarnitina",
          "Butirilcarnitina",
          "Glutarilcarnitina",
          "Hexanoilcarnitina",
          "Octanoilcarnitina",
          "Dodecanoilcarnitina",
          "Tetradecenoilcarnitina",
          "Palmitoilcarnitina",
          "Estearoilcarnitina",
          "3-OH-Linoleoilcarnitina",
          "PROTEINAProm_(G)",
          "%_proteina_natural",
          "%_Proteina_SP"
         ],
         "xaxis": "x",
         "y": [
          0,
          0,
          1.4264108,
          0,
          0,
          0.3589838,
          0,
          0,
          0,
          0,
          0.07148989,
          0,
          0.2471037,
          0,
          0.28473482,
          0.11271301,
          0,
          0,
          0.0330657,
          0,
          0,
          0,
          0,
          0,
          0.45276588,
          0,
          0.06252417,
          0,
          0,
          0,
          0,
          0.08745204,
          0,
          0.06246902,
          0,
          0,
          0,
          0.07507275,
          0,
          0,
          0.28155953,
          0,
          0,
          0,
          0
         ],
         "yaxis": "y"
        },
        {
         "alignmentgroup": "True",
         "hovertemplate": "variable=71<br>index=%{x}<br>value=%{y}<extra></extra>",
         "legendgroup": "71",
         "marker": {
          "color": "#F8766D",
          "pattern": {
           "shape": ""
          }
         },
         "name": "71",
         "offsetgroup": "71",
         "orientation": "v",
         "showlegend": true,
         "textposition": "auto",
         "type": "bar",
         "x": [
          "Género",
          "aleator",
          "IMC",
          "Circunferencia de cintura",
          "ATPII/AHA/IDF",
          "fenilalax",
          "ohd3x",
          "tirosinax",
          "Alanina",
          "Aspartato",
          "Glutamato",
          "Leucina",
          "Ornitina",
          "Prolina",
          "Tirosina",
          "Carnitina libre",
          "Propionilcarnitina",
          "Isovalerilcarnitina",
          "Tiglilcarnitina",
          "Me-Glutarilcarnitina",
          "Decanoilcarnitina",
          "Tetradecanoilcarnitina",
          "3-OH-Isovalerilcarnitina",
          "3-OH-Palmitoilcarnitina",
          "Linoleoilcarnitina",
          "Arginina",
          "Citrulina",
          "Glicina",
          "Metionina",
          "Fenilalanina",
          "Succinilacetona",
          "Valina",
          "Acetilcarnitina",
          "Butirilcarnitina",
          "Glutarilcarnitina",
          "Hexanoilcarnitina",
          "Octanoilcarnitina",
          "Dodecanoilcarnitina",
          "Tetradecenoilcarnitina",
          "Palmitoilcarnitina",
          "Estearoilcarnitina",
          "3-OH-Linoleoilcarnitina",
          "PROTEINAProm_(G)",
          "%_proteina_natural",
          "%_Proteina_SP"
         ],
         "xaxis": "x",
         "y": [
          0,
          0,
          0.77269065,
          0.123734355,
          0,
          0.27288902,
          0.416004,
          0,
          0,
          0.4638005,
          0,
          0,
          0.9553958,
          0,
          0,
          0.06827223,
          0,
          0,
          0,
          0,
          0,
          0,
          0,
          0,
          0.36107856,
          0,
          0.09937073,
          0,
          0.043402962,
          0,
          0,
          0,
          0.25741747,
          0,
          0,
          0,
          0,
          0,
          0,
          0,
          0.05534924,
          0,
          0.11528345,
          0,
          0
         ],
         "yaxis": "y"
        },
        {
         "alignmentgroup": "True",
         "hovertemplate": "variable=80<br>index=%{x}<br>value=%{y}<extra></extra>",
         "legendgroup": "80",
         "marker": {
          "color": "#A3A500",
          "pattern": {
           "shape": ""
          }
         },
         "name": "80",
         "offsetgroup": "80",
         "orientation": "v",
         "showlegend": true,
         "textposition": "auto",
         "type": "bar",
         "x": [
          "Género",
          "aleator",
          "IMC",
          "Circunferencia de cintura",
          "ATPII/AHA/IDF",
          "fenilalax",
          "ohd3x",
          "tirosinax",
          "Alanina",
          "Aspartato",
          "Glutamato",
          "Leucina",
          "Ornitina",
          "Prolina",
          "Tirosina",
          "Carnitina libre",
          "Propionilcarnitina",
          "Isovalerilcarnitina",
          "Tiglilcarnitina",
          "Me-Glutarilcarnitina",
          "Decanoilcarnitina",
          "Tetradecanoilcarnitina",
          "3-OH-Isovalerilcarnitina",
          "3-OH-Palmitoilcarnitina",
          "Linoleoilcarnitina",
          "Arginina",
          "Citrulina",
          "Glicina",
          "Metionina",
          "Fenilalanina",
          "Succinilacetona",
          "Valina",
          "Acetilcarnitina",
          "Butirilcarnitina",
          "Glutarilcarnitina",
          "Hexanoilcarnitina",
          "Octanoilcarnitina",
          "Dodecanoilcarnitina",
          "Tetradecenoilcarnitina",
          "Palmitoilcarnitina",
          "Estearoilcarnitina",
          "3-OH-Linoleoilcarnitina",
          "PROTEINAProm_(G)",
          "%_proteina_natural",
          "%_Proteina_SP"
         ],
         "xaxis": "x",
         "y": [
          0,
          0,
          1.3303468,
          0,
          0.08757171,
          0.3383713,
          0.093259685,
          0,
          0.039105065,
          0.24765722,
          0,
          0.045743182,
          0.14338642,
          0,
          0,
          0.07635322,
          0,
          0,
          0,
          0,
          0.43817765,
          0,
          0.07721689,
          0,
          0,
          0,
          0.058920037,
          0,
          0,
          0,
          0,
          0,
          0,
          0,
          0,
          0,
          0,
          0,
          0,
          0,
          0.14131477,
          0,
          0.32222444,
          0,
          0
         ],
         "yaxis": "y"
        },
        {
         "alignmentgroup": "True",
         "hovertemplate": "variable=96<br>index=%{x}<br>value=%{y}<extra></extra>",
         "legendgroup": "96",
         "marker": {
          "color": "#00BF7D",
          "pattern": {
           "shape": ""
          }
         },
         "name": "96",
         "offsetgroup": "96",
         "orientation": "v",
         "showlegend": true,
         "textposition": "auto",
         "type": "bar",
         "x": [
          "Género",
          "aleator",
          "IMC",
          "Circunferencia de cintura",
          "ATPII/AHA/IDF",
          "fenilalax",
          "ohd3x",
          "tirosinax",
          "Alanina",
          "Aspartato",
          "Glutamato",
          "Leucina",
          "Ornitina",
          "Prolina",
          "Tirosina",
          "Carnitina libre",
          "Propionilcarnitina",
          "Isovalerilcarnitina",
          "Tiglilcarnitina",
          "Me-Glutarilcarnitina",
          "Decanoilcarnitina",
          "Tetradecanoilcarnitina",
          "3-OH-Isovalerilcarnitina",
          "3-OH-Palmitoilcarnitina",
          "Linoleoilcarnitina",
          "Arginina",
          "Citrulina",
          "Glicina",
          "Metionina",
          "Fenilalanina",
          "Succinilacetona",
          "Valina",
          "Acetilcarnitina",
          "Butirilcarnitina",
          "Glutarilcarnitina",
          "Hexanoilcarnitina",
          "Octanoilcarnitina",
          "Dodecanoilcarnitina",
          "Tetradecenoilcarnitina",
          "Palmitoilcarnitina",
          "Estearoilcarnitina",
          "3-OH-Linoleoilcarnitina",
          "PROTEINAProm_(G)",
          "%_proteina_natural",
          "%_Proteina_SP"
         ],
         "xaxis": "x",
         "y": [
          0.10966071,
          0,
          0.15422033,
          0,
          0,
          0.6909836,
          0.2420326,
          0,
          0,
          0,
          0,
          0,
          0.2007051,
          0,
          0.09971708,
          0.38722754,
          0,
          0,
          0,
          0,
          0,
          0,
          0,
          0,
          0.023438469,
          0.09693357,
          0.04810782,
          0,
          0,
          0,
          0,
          0.08860737,
          0.18872257,
          0,
          0,
          0,
          0.0679648,
          0.3843719,
          0,
          0,
          0.45761728,
          0.26004916,
          0,
          0,
          0
         ],
         "yaxis": "y"
        },
        {
         "alignmentgroup": "True",
         "hovertemplate": "variable=127<br>index=%{x}<br>value=%{y}<extra></extra>",
         "legendgroup": "127",
         "marker": {
          "color": "#00B0F6",
          "pattern": {
           "shape": ""
          }
         },
         "name": "127",
         "offsetgroup": "127",
         "orientation": "v",
         "showlegend": true,
         "textposition": "auto",
         "type": "bar",
         "x": [
          "Género",
          "aleator",
          "IMC",
          "Circunferencia de cintura",
          "ATPII/AHA/IDF",
          "fenilalax",
          "ohd3x",
          "tirosinax",
          "Alanina",
          "Aspartato",
          "Glutamato",
          "Leucina",
          "Ornitina",
          "Prolina",
          "Tirosina",
          "Carnitina libre",
          "Propionilcarnitina",
          "Isovalerilcarnitina",
          "Tiglilcarnitina",
          "Me-Glutarilcarnitina",
          "Decanoilcarnitina",
          "Tetradecanoilcarnitina",
          "3-OH-Isovalerilcarnitina",
          "3-OH-Palmitoilcarnitina",
          "Linoleoilcarnitina",
          "Arginina",
          "Citrulina",
          "Glicina",
          "Metionina",
          "Fenilalanina",
          "Succinilacetona",
          "Valina",
          "Acetilcarnitina",
          "Butirilcarnitina",
          "Glutarilcarnitina",
          "Hexanoilcarnitina",
          "Octanoilcarnitina",
          "Dodecanoilcarnitina",
          "Tetradecenoilcarnitina",
          "Palmitoilcarnitina",
          "Estearoilcarnitina",
          "3-OH-Linoleoilcarnitina",
          "PROTEINAProm_(G)",
          "%_proteina_natural",
          "%_Proteina_SP"
         ],
         "xaxis": "x",
         "y": [
          0,
          0,
          0.56849664,
          0.04928075,
          0,
          0.20786613,
          0.5077089,
          0,
          0,
          0.09525464,
          0,
          0,
          0.09648248,
          0.10486895,
          0,
          0.6327671,
          0,
          0,
          0,
          0,
          0.30374542,
          0,
          0,
          0,
          0,
          0,
          0,
          0,
          0,
          0,
          0,
          0,
          0,
          0,
          0,
          0,
          0,
          0,
          0,
          0,
          0,
          0,
          0,
          0,
          0
         ],
         "yaxis": "y"
        },
        {
         "alignmentgroup": "True",
         "hovertemplate": "variable=129<br>index=%{x}<br>value=%{y}<extra></extra>",
         "legendgroup": "129",
         "marker": {
          "color": "#E76BF3",
          "pattern": {
           "shape": ""
          }
         },
         "name": "129",
         "offsetgroup": "129",
         "orientation": "v",
         "showlegend": true,
         "textposition": "auto",
         "type": "bar",
         "x": [
          "Género",
          "aleator",
          "IMC",
          "Circunferencia de cintura",
          "ATPII/AHA/IDF",
          "fenilalax",
          "ohd3x",
          "tirosinax",
          "Alanina",
          "Aspartato",
          "Glutamato",
          "Leucina",
          "Ornitina",
          "Prolina",
          "Tirosina",
          "Carnitina libre",
          "Propionilcarnitina",
          "Isovalerilcarnitina",
          "Tiglilcarnitina",
          "Me-Glutarilcarnitina",
          "Decanoilcarnitina",
          "Tetradecanoilcarnitina",
          "3-OH-Isovalerilcarnitina",
          "3-OH-Palmitoilcarnitina",
          "Linoleoilcarnitina",
          "Arginina",
          "Citrulina",
          "Glicina",
          "Metionina",
          "Fenilalanina",
          "Succinilacetona",
          "Valina",
          "Acetilcarnitina",
          "Butirilcarnitina",
          "Glutarilcarnitina",
          "Hexanoilcarnitina",
          "Octanoilcarnitina",
          "Dodecanoilcarnitina",
          "Tetradecenoilcarnitina",
          "Palmitoilcarnitina",
          "Estearoilcarnitina",
          "3-OH-Linoleoilcarnitina",
          "PROTEINAProm_(G)",
          "%_proteina_natural",
          "%_Proteina_SP"
         ],
         "xaxis": "x",
         "y": [
          0,
          0,
          1.283882,
          0,
          0,
          0.28617242,
          0.5518699,
          0,
          0,
          0.033299264,
          0,
          0,
          0.10390369,
          0.063067414,
          0,
          0,
          0,
          0,
          0,
          0,
          0.1601771,
          0,
          0,
          0,
          0,
          0,
          0.07920146,
          0,
          0,
          0,
          0,
          0,
          0,
          0,
          0.18163554,
          0,
          0.11581255,
          0,
          0,
          0,
          0,
          0,
          0.16479246,
          0,
          0
         ],
         "yaxis": "y"
        },
        {
         "alignmentgroup": "True",
         "hovertemplate": "variable=166<br>index=%{x}<br>value=%{y}<extra></extra>",
         "legendgroup": "166",
         "marker": {
          "color": "#F8766D",
          "pattern": {
           "shape": ""
          }
         },
         "name": "166",
         "offsetgroup": "166",
         "orientation": "v",
         "showlegend": true,
         "textposition": "auto",
         "type": "bar",
         "x": [
          "Género",
          "aleator",
          "IMC",
          "Circunferencia de cintura",
          "ATPII/AHA/IDF",
          "fenilalax",
          "ohd3x",
          "tirosinax",
          "Alanina",
          "Aspartato",
          "Glutamato",
          "Leucina",
          "Ornitina",
          "Prolina",
          "Tirosina",
          "Carnitina libre",
          "Propionilcarnitina",
          "Isovalerilcarnitina",
          "Tiglilcarnitina",
          "Me-Glutarilcarnitina",
          "Decanoilcarnitina",
          "Tetradecanoilcarnitina",
          "3-OH-Isovalerilcarnitina",
          "3-OH-Palmitoilcarnitina",
          "Linoleoilcarnitina",
          "Arginina",
          "Citrulina",
          "Glicina",
          "Metionina",
          "Fenilalanina",
          "Succinilacetona",
          "Valina",
          "Acetilcarnitina",
          "Butirilcarnitina",
          "Glutarilcarnitina",
          "Hexanoilcarnitina",
          "Octanoilcarnitina",
          "Dodecanoilcarnitina",
          "Tetradecenoilcarnitina",
          "Palmitoilcarnitina",
          "Estearoilcarnitina",
          "3-OH-Linoleoilcarnitina",
          "PROTEINAProm_(G)",
          "%_proteina_natural",
          "%_Proteina_SP"
         ],
         "xaxis": "x",
         "y": [
          0,
          0,
          1.2993218,
          0.18087065,
          0,
          0.25497788,
          0.44215795,
          0,
          0,
          0.049645066,
          0,
          0,
          0,
          0,
          0,
          0,
          0,
          0,
          0,
          0,
          0,
          0,
          0,
          0,
          0,
          0,
          0,
          0.044312745,
          0.018813891,
          0,
          0,
          0.1555773,
          0.030407058,
          0,
          0,
          0,
          0,
          0.1973456,
          0,
          0.082301065,
          0,
          0,
          0.33465743,
          0,
          0
         ],
         "yaxis": "y"
        },
        {
         "alignmentgroup": "True",
         "hovertemplate": "variable=178<br>index=%{x}<br>value=%{y}<extra></extra>",
         "legendgroup": "178",
         "marker": {
          "color": "#A3A500",
          "pattern": {
           "shape": ""
          }
         },
         "name": "178",
         "offsetgroup": "178",
         "orientation": "v",
         "showlegend": true,
         "textposition": "auto",
         "type": "bar",
         "x": [
          "Género",
          "aleator",
          "IMC",
          "Circunferencia de cintura",
          "ATPII/AHA/IDF",
          "fenilalax",
          "ohd3x",
          "tirosinax",
          "Alanina",
          "Aspartato",
          "Glutamato",
          "Leucina",
          "Ornitina",
          "Prolina",
          "Tirosina",
          "Carnitina libre",
          "Propionilcarnitina",
          "Isovalerilcarnitina",
          "Tiglilcarnitina",
          "Me-Glutarilcarnitina",
          "Decanoilcarnitina",
          "Tetradecanoilcarnitina",
          "3-OH-Isovalerilcarnitina",
          "3-OH-Palmitoilcarnitina",
          "Linoleoilcarnitina",
          "Arginina",
          "Citrulina",
          "Glicina",
          "Metionina",
          "Fenilalanina",
          "Succinilacetona",
          "Valina",
          "Acetilcarnitina",
          "Butirilcarnitina",
          "Glutarilcarnitina",
          "Hexanoilcarnitina",
          "Octanoilcarnitina",
          "Dodecanoilcarnitina",
          "Tetradecenoilcarnitina",
          "Palmitoilcarnitina",
          "Estearoilcarnitina",
          "3-OH-Linoleoilcarnitina",
          "PROTEINAProm_(G)",
          "%_proteina_natural",
          "%_Proteina_SP"
         ],
         "xaxis": "x",
         "y": [
          0.16972315,
          0,
          0.77746665,
          0,
          0,
          0.21118197,
          0.042074345,
          0,
          0.15173122,
          0,
          0,
          0,
          0.40575272,
          0,
          0.34954497,
          0.47288543,
          0,
          0,
          0,
          0,
          0.10395217,
          0,
          0,
          0,
          0.063681036,
          0,
          0.016143192,
          0,
          0,
          0,
          0,
          0,
          0,
          0,
          0,
          0,
          0.09107972,
          0.44350487,
          0,
          0.032886446,
          0.40734637,
          0.12326954,
          0.047480986,
          0,
          0
         ],
         "yaxis": "y"
        },
        {
         "alignmentgroup": "True",
         "hovertemplate": "variable=180<br>index=%{x}<br>value=%{y}<extra></extra>",
         "legendgroup": "180",
         "marker": {
          "color": "#00BF7D",
          "pattern": {
           "shape": ""
          }
         },
         "name": "180",
         "offsetgroup": "180",
         "orientation": "v",
         "showlegend": true,
         "textposition": "auto",
         "type": "bar",
         "x": [
          "Género",
          "aleator",
          "IMC",
          "Circunferencia de cintura",
          "ATPII/AHA/IDF",
          "fenilalax",
          "ohd3x",
          "tirosinax",
          "Alanina",
          "Aspartato",
          "Glutamato",
          "Leucina",
          "Ornitina",
          "Prolina",
          "Tirosina",
          "Carnitina libre",
          "Propionilcarnitina",
          "Isovalerilcarnitina",
          "Tiglilcarnitina",
          "Me-Glutarilcarnitina",
          "Decanoilcarnitina",
          "Tetradecanoilcarnitina",
          "3-OH-Isovalerilcarnitina",
          "3-OH-Palmitoilcarnitina",
          "Linoleoilcarnitina",
          "Arginina",
          "Citrulina",
          "Glicina",
          "Metionina",
          "Fenilalanina",
          "Succinilacetona",
          "Valina",
          "Acetilcarnitina",
          "Butirilcarnitina",
          "Glutarilcarnitina",
          "Hexanoilcarnitina",
          "Octanoilcarnitina",
          "Dodecanoilcarnitina",
          "Tetradecenoilcarnitina",
          "Palmitoilcarnitina",
          "Estearoilcarnitina",
          "3-OH-Linoleoilcarnitina",
          "PROTEINAProm_(G)",
          "%_proteina_natural",
          "%_Proteina_SP"
         ],
         "xaxis": "x",
         "y": [
          0.40352356,
          0,
          0.5201353,
          0.19587776,
          0,
          0.2795847,
          0,
          0,
          0,
          0,
          0.17220798,
          0,
          0.23588821,
          0,
          0.08442661,
          0.23469481,
          0,
          0.13014498,
          0,
          0,
          0.14130574,
          0,
          0,
          0,
          0.06349816,
          0,
          0.15203077,
          0,
          0,
          0,
          0.13637577,
          0.18901968,
          0.17078434,
          0,
          0,
          0,
          0,
          0,
          0,
          0.1812307,
          0.1843858,
          0.026558502,
          0.089296736,
          0,
          0
         ],
         "yaxis": "y"
        },
        {
         "alignmentgroup": "True",
         "hovertemplate": "variable=187<br>index=%{x}<br>value=%{y}<extra></extra>",
         "legendgroup": "187",
         "marker": {
          "color": "#00B0F6",
          "pattern": {
           "shape": ""
          }
         },
         "name": "187",
         "offsetgroup": "187",
         "orientation": "v",
         "showlegend": true,
         "textposition": "auto",
         "type": "bar",
         "x": [
          "Género",
          "aleator",
          "IMC",
          "Circunferencia de cintura",
          "ATPII/AHA/IDF",
          "fenilalax",
          "ohd3x",
          "tirosinax",
          "Alanina",
          "Aspartato",
          "Glutamato",
          "Leucina",
          "Ornitina",
          "Prolina",
          "Tirosina",
          "Carnitina libre",
          "Propionilcarnitina",
          "Isovalerilcarnitina",
          "Tiglilcarnitina",
          "Me-Glutarilcarnitina",
          "Decanoilcarnitina",
          "Tetradecanoilcarnitina",
          "3-OH-Isovalerilcarnitina",
          "3-OH-Palmitoilcarnitina",
          "Linoleoilcarnitina",
          "Arginina",
          "Citrulina",
          "Glicina",
          "Metionina",
          "Fenilalanina",
          "Succinilacetona",
          "Valina",
          "Acetilcarnitina",
          "Butirilcarnitina",
          "Glutarilcarnitina",
          "Hexanoilcarnitina",
          "Octanoilcarnitina",
          "Dodecanoilcarnitina",
          "Tetradecenoilcarnitina",
          "Palmitoilcarnitina",
          "Estearoilcarnitina",
          "3-OH-Linoleoilcarnitina",
          "PROTEINAProm_(G)",
          "%_proteina_natural",
          "%_Proteina_SP"
         ],
         "xaxis": "x",
         "y": [
          0,
          0,
          1.1568015,
          0,
          0,
          0.22409958,
          0.06898365,
          0,
          0,
          0,
          0.09337261,
          0,
          0,
          0,
          0,
          0,
          0,
          0,
          0,
          0,
          0.30472443,
          0.14367947,
          0,
          0,
          0,
          0,
          0,
          0.027768394,
          0,
          0,
          0,
          0.2955125,
          0.10136589,
          0,
          0,
          0,
          0,
          0,
          0,
          0,
          0.13886888,
          0,
          0,
          0,
          0
         ],
         "yaxis": "y"
        },
        {
         "alignmentgroup": "True",
         "hovertemplate": "variable=221<br>index=%{x}<br>value=%{y}<extra></extra>",
         "legendgroup": "221",
         "marker": {
          "color": "#E76BF3",
          "pattern": {
           "shape": ""
          }
         },
         "name": "221",
         "offsetgroup": "221",
         "orientation": "v",
         "showlegend": true,
         "textposition": "auto",
         "type": "bar",
         "x": [
          "Género",
          "aleator",
          "IMC",
          "Circunferencia de cintura",
          "ATPII/AHA/IDF",
          "fenilalax",
          "ohd3x",
          "tirosinax",
          "Alanina",
          "Aspartato",
          "Glutamato",
          "Leucina",
          "Ornitina",
          "Prolina",
          "Tirosina",
          "Carnitina libre",
          "Propionilcarnitina",
          "Isovalerilcarnitina",
          "Tiglilcarnitina",
          "Me-Glutarilcarnitina",
          "Decanoilcarnitina",
          "Tetradecanoilcarnitina",
          "3-OH-Isovalerilcarnitina",
          "3-OH-Palmitoilcarnitina",
          "Linoleoilcarnitina",
          "Arginina",
          "Citrulina",
          "Glicina",
          "Metionina",
          "Fenilalanina",
          "Succinilacetona",
          "Valina",
          "Acetilcarnitina",
          "Butirilcarnitina",
          "Glutarilcarnitina",
          "Hexanoilcarnitina",
          "Octanoilcarnitina",
          "Dodecanoilcarnitina",
          "Tetradecenoilcarnitina",
          "Palmitoilcarnitina",
          "Estearoilcarnitina",
          "3-OH-Linoleoilcarnitina",
          "PROTEINAProm_(G)",
          "%_proteina_natural",
          "%_Proteina_SP"
         ],
         "xaxis": "x",
         "y": [
          0,
          0,
          0.69903684,
          0,
          0,
          0.36888072,
          0,
          0,
          0,
          0.21711148,
          0,
          0,
          0.7793784,
          0,
          0.25139505,
          0.04388202,
          0,
          0,
          0,
          0,
          0.034691975,
          0,
          0,
          0,
          0.4453174,
          0,
          0.0072593945,
          0,
          0,
          0,
          0,
          0.13466746,
          0.15973249,
          0,
          0.1361902,
          0,
          0,
          0.08497651,
          0,
          0,
          0.022653008,
          0.06029371,
          0.09752439,
          0.052845843,
          0
         ],
         "yaxis": "y"
        },
        {
         "alignmentgroup": "True",
         "hovertemplate": "variable=256<br>index=%{x}<br>value=%{y}<extra></extra>",
         "legendgroup": "256",
         "marker": {
          "color": "#F8766D",
          "pattern": {
           "shape": ""
          }
         },
         "name": "256",
         "offsetgroup": "256",
         "orientation": "v",
         "showlegend": true,
         "textposition": "auto",
         "type": "bar",
         "x": [
          "Género",
          "aleator",
          "IMC",
          "Circunferencia de cintura",
          "ATPII/AHA/IDF",
          "fenilalax",
          "ohd3x",
          "tirosinax",
          "Alanina",
          "Aspartato",
          "Glutamato",
          "Leucina",
          "Ornitina",
          "Prolina",
          "Tirosina",
          "Carnitina libre",
          "Propionilcarnitina",
          "Isovalerilcarnitina",
          "Tiglilcarnitina",
          "Me-Glutarilcarnitina",
          "Decanoilcarnitina",
          "Tetradecanoilcarnitina",
          "3-OH-Isovalerilcarnitina",
          "3-OH-Palmitoilcarnitina",
          "Linoleoilcarnitina",
          "Arginina",
          "Citrulina",
          "Glicina",
          "Metionina",
          "Fenilalanina",
          "Succinilacetona",
          "Valina",
          "Acetilcarnitina",
          "Butirilcarnitina",
          "Glutarilcarnitina",
          "Hexanoilcarnitina",
          "Octanoilcarnitina",
          "Dodecanoilcarnitina",
          "Tetradecenoilcarnitina",
          "Palmitoilcarnitina",
          "Estearoilcarnitina",
          "3-OH-Linoleoilcarnitina",
          "PROTEINAProm_(G)",
          "%_proteina_natural",
          "%_Proteina_SP"
         ],
         "xaxis": "x",
         "y": [
          0,
          0,
          1.3531977,
          0,
          0,
          0.32977152,
          0,
          0,
          0,
          0,
          0,
          0,
          0,
          0.094125725,
          0,
          0,
          0,
          0,
          0,
          0,
          0,
          0.096059225,
          0,
          0,
          0.113640286,
          0,
          0.17058319,
          0,
          0,
          0,
          0,
          0.10034356,
          0,
          0,
          0,
          0,
          0,
          0,
          0,
          0,
          0.15296388,
          0,
          0,
          0,
          0
         ],
         "yaxis": "y"
        },
        {
         "alignmentgroup": "True",
         "hovertemplate": "variable=273<br>index=%{x}<br>value=%{y}<extra></extra>",
         "legendgroup": "273",
         "marker": {
          "color": "#A3A500",
          "pattern": {
           "shape": ""
          }
         },
         "name": "273",
         "offsetgroup": "273",
         "orientation": "v",
         "showlegend": true,
         "textposition": "auto",
         "type": "bar",
         "x": [
          "Género",
          "aleator",
          "IMC",
          "Circunferencia de cintura",
          "ATPII/AHA/IDF",
          "fenilalax",
          "ohd3x",
          "tirosinax",
          "Alanina",
          "Aspartato",
          "Glutamato",
          "Leucina",
          "Ornitina",
          "Prolina",
          "Tirosina",
          "Carnitina libre",
          "Propionilcarnitina",
          "Isovalerilcarnitina",
          "Tiglilcarnitina",
          "Me-Glutarilcarnitina",
          "Decanoilcarnitina",
          "Tetradecanoilcarnitina",
          "3-OH-Isovalerilcarnitina",
          "3-OH-Palmitoilcarnitina",
          "Linoleoilcarnitina",
          "Arginina",
          "Citrulina",
          "Glicina",
          "Metionina",
          "Fenilalanina",
          "Succinilacetona",
          "Valina",
          "Acetilcarnitina",
          "Butirilcarnitina",
          "Glutarilcarnitina",
          "Hexanoilcarnitina",
          "Octanoilcarnitina",
          "Dodecanoilcarnitina",
          "Tetradecenoilcarnitina",
          "Palmitoilcarnitina",
          "Estearoilcarnitina",
          "3-OH-Linoleoilcarnitina",
          "PROTEINAProm_(G)",
          "%_proteina_natural",
          "%_Proteina_SP"
         ],
         "xaxis": "x",
         "y": [
          0.09449469,
          0,
          0.6583946,
          0,
          0,
          0.21032612,
          0.08453903,
          0,
          0,
          0,
          0.06418344,
          0,
          0,
          0.042574506,
          0.41182292,
          0.6290963,
          0,
          0.11560496,
          0,
          0,
          0.21170528,
          0,
          0,
          0,
          0,
          0,
          0,
          0,
          0.094658345,
          0,
          0.09496868,
          0,
          0.06592504,
          0,
          0,
          0,
          0,
          0.12130108,
          0,
          0,
          0.43929568,
          0.06994308,
          0.25428623,
          0,
          0
         ],
         "yaxis": "y"
        },
        {
         "alignmentgroup": "True",
         "hovertemplate": "variable=294<br>index=%{x}<br>value=%{y}<extra></extra>",
         "legendgroup": "294",
         "marker": {
          "color": "#00BF7D",
          "pattern": {
           "shape": ""
          }
         },
         "name": "294",
         "offsetgroup": "294",
         "orientation": "v",
         "showlegend": true,
         "textposition": "auto",
         "type": "bar",
         "x": [
          "Género",
          "aleator",
          "IMC",
          "Circunferencia de cintura",
          "ATPII/AHA/IDF",
          "fenilalax",
          "ohd3x",
          "tirosinax",
          "Alanina",
          "Aspartato",
          "Glutamato",
          "Leucina",
          "Ornitina",
          "Prolina",
          "Tirosina",
          "Carnitina libre",
          "Propionilcarnitina",
          "Isovalerilcarnitina",
          "Tiglilcarnitina",
          "Me-Glutarilcarnitina",
          "Decanoilcarnitina",
          "Tetradecanoilcarnitina",
          "3-OH-Isovalerilcarnitina",
          "3-OH-Palmitoilcarnitina",
          "Linoleoilcarnitina",
          "Arginina",
          "Citrulina",
          "Glicina",
          "Metionina",
          "Fenilalanina",
          "Succinilacetona",
          "Valina",
          "Acetilcarnitina",
          "Butirilcarnitina",
          "Glutarilcarnitina",
          "Hexanoilcarnitina",
          "Octanoilcarnitina",
          "Dodecanoilcarnitina",
          "Tetradecenoilcarnitina",
          "Palmitoilcarnitina",
          "Estearoilcarnitina",
          "3-OH-Linoleoilcarnitina",
          "PROTEINAProm_(G)",
          "%_proteina_natural",
          "%_Proteina_SP"
         ],
         "xaxis": "x",
         "y": [
          0,
          0,
          0.79525226,
          0.10536611,
          0,
          0.22163045,
          0,
          0.08911164,
          0.08780299,
          0,
          0,
          0,
          0.091031484,
          0.11343847,
          0.22627553,
          0.6510781,
          0,
          0.24903272,
          0,
          0,
          0.10541347,
          0,
          0,
          0,
          0,
          0,
          0,
          0,
          0,
          0,
          0,
          0.06244519,
          0.14317693,
          0,
          0,
          0,
          0,
          0,
          0,
          0,
          0.29159454,
          0,
          0,
          0,
          0
         ],
         "yaxis": "y"
        },
        {
         "alignmentgroup": "True",
         "hovertemplate": "variable=307<br>index=%{x}<br>value=%{y}<extra></extra>",
         "legendgroup": "307",
         "marker": {
          "color": "#00B0F6",
          "pattern": {
           "shape": ""
          }
         },
         "name": "307",
         "offsetgroup": "307",
         "orientation": "v",
         "showlegend": true,
         "textposition": "auto",
         "type": "bar",
         "x": [
          "Género",
          "aleator",
          "IMC",
          "Circunferencia de cintura",
          "ATPII/AHA/IDF",
          "fenilalax",
          "ohd3x",
          "tirosinax",
          "Alanina",
          "Aspartato",
          "Glutamato",
          "Leucina",
          "Ornitina",
          "Prolina",
          "Tirosina",
          "Carnitina libre",
          "Propionilcarnitina",
          "Isovalerilcarnitina",
          "Tiglilcarnitina",
          "Me-Glutarilcarnitina",
          "Decanoilcarnitina",
          "Tetradecanoilcarnitina",
          "3-OH-Isovalerilcarnitina",
          "3-OH-Palmitoilcarnitina",
          "Linoleoilcarnitina",
          "Arginina",
          "Citrulina",
          "Glicina",
          "Metionina",
          "Fenilalanina",
          "Succinilacetona",
          "Valina",
          "Acetilcarnitina",
          "Butirilcarnitina",
          "Glutarilcarnitina",
          "Hexanoilcarnitina",
          "Octanoilcarnitina",
          "Dodecanoilcarnitina",
          "Tetradecenoilcarnitina",
          "Palmitoilcarnitina",
          "Estearoilcarnitina",
          "3-OH-Linoleoilcarnitina",
          "PROTEINAProm_(G)",
          "%_proteina_natural",
          "%_Proteina_SP"
         ],
         "xaxis": "x",
         "y": [
          0,
          0,
          0.49653354,
          0.4276072,
          0,
          0.33123523,
          0,
          0,
          0.11015272,
          0,
          0,
          0,
          0,
          0,
          0,
          0.06097843,
          0,
          0,
          0,
          0,
          0.15904902,
          0.1070672,
          0,
          0,
          0.21320815,
          0,
          0,
          0,
          0,
          0,
          0,
          0.3842231,
          0,
          0,
          0,
          0,
          0,
          0,
          0,
          0,
          0.260049,
          0,
          0.08264248,
          0,
          0
         ],
         "yaxis": "y"
        },
        {
         "alignmentgroup": "True",
         "hovertemplate": "variable=367<br>index=%{x}<br>value=%{y}<extra></extra>",
         "legendgroup": "367",
         "marker": {
          "color": "#E76BF3",
          "pattern": {
           "shape": ""
          }
         },
         "name": "367",
         "offsetgroup": "367",
         "orientation": "v",
         "showlegend": true,
         "textposition": "auto",
         "type": "bar",
         "x": [
          "Género",
          "aleator",
          "IMC",
          "Circunferencia de cintura",
          "ATPII/AHA/IDF",
          "fenilalax",
          "ohd3x",
          "tirosinax",
          "Alanina",
          "Aspartato",
          "Glutamato",
          "Leucina",
          "Ornitina",
          "Prolina",
          "Tirosina",
          "Carnitina libre",
          "Propionilcarnitina",
          "Isovalerilcarnitina",
          "Tiglilcarnitina",
          "Me-Glutarilcarnitina",
          "Decanoilcarnitina",
          "Tetradecanoilcarnitina",
          "3-OH-Isovalerilcarnitina",
          "3-OH-Palmitoilcarnitina",
          "Linoleoilcarnitina",
          "Arginina",
          "Citrulina",
          "Glicina",
          "Metionina",
          "Fenilalanina",
          "Succinilacetona",
          "Valina",
          "Acetilcarnitina",
          "Butirilcarnitina",
          "Glutarilcarnitina",
          "Hexanoilcarnitina",
          "Octanoilcarnitina",
          "Dodecanoilcarnitina",
          "Tetradecenoilcarnitina",
          "Palmitoilcarnitina",
          "Estearoilcarnitina",
          "3-OH-Linoleoilcarnitina",
          "PROTEINAProm_(G)",
          "%_proteina_natural",
          "%_Proteina_SP"
         ],
         "xaxis": "x",
         "y": [
          0.069213435,
          0,
          1.1595751,
          0.49420196,
          0,
          0.2122226,
          0,
          0,
          0,
          0,
          0,
          0,
          0.23560157,
          0,
          0,
          0.4214238,
          0,
          0,
          0,
          0,
          0.2523014,
          0,
          0,
          0,
          0.17514074,
          0,
          0,
          0,
          0,
          0,
          0,
          0,
          0,
          0,
          0,
          0,
          0,
          0,
          0,
          0,
          0,
          0,
          0.049223118,
          0,
          0
         ],
         "yaxis": "y"
        },
        {
         "alignmentgroup": "True",
         "hovertemplate": "variable=383<br>index=%{x}<br>value=%{y}<extra></extra>",
         "legendgroup": "383",
         "marker": {
          "color": "#F8766D",
          "pattern": {
           "shape": ""
          }
         },
         "name": "383",
         "offsetgroup": "383",
         "orientation": "v",
         "showlegend": true,
         "textposition": "auto",
         "type": "bar",
         "x": [
          "Género",
          "aleator",
          "IMC",
          "Circunferencia de cintura",
          "ATPII/AHA/IDF",
          "fenilalax",
          "ohd3x",
          "tirosinax",
          "Alanina",
          "Aspartato",
          "Glutamato",
          "Leucina",
          "Ornitina",
          "Prolina",
          "Tirosina",
          "Carnitina libre",
          "Propionilcarnitina",
          "Isovalerilcarnitina",
          "Tiglilcarnitina",
          "Me-Glutarilcarnitina",
          "Decanoilcarnitina",
          "Tetradecanoilcarnitina",
          "3-OH-Isovalerilcarnitina",
          "3-OH-Palmitoilcarnitina",
          "Linoleoilcarnitina",
          "Arginina",
          "Citrulina",
          "Glicina",
          "Metionina",
          "Fenilalanina",
          "Succinilacetona",
          "Valina",
          "Acetilcarnitina",
          "Butirilcarnitina",
          "Glutarilcarnitina",
          "Hexanoilcarnitina",
          "Octanoilcarnitina",
          "Dodecanoilcarnitina",
          "Tetradecenoilcarnitina",
          "Palmitoilcarnitina",
          "Estearoilcarnitina",
          "3-OH-Linoleoilcarnitina",
          "PROTEINAProm_(G)",
          "%_proteina_natural",
          "%_Proteina_SP"
         ],
         "xaxis": "x",
         "y": [
          0.41645673,
          0,
          0.8819525,
          0,
          0,
          0.22203787,
          0,
          0,
          0.08618588,
          0.04442614,
          0,
          0,
          0.19442911,
          0.09279707,
          0.09522625,
          0.98813695,
          0,
          0,
          0,
          0,
          0,
          0,
          0,
          0,
          0.120825194,
          0.21789512,
          0.12783667,
          0,
          0,
          0,
          0,
          0,
          0.1690445,
          0.021644952,
          0,
          0,
          0,
          0,
          0.09225057,
          0,
          0.119109504,
          0,
          0,
          0,
          0
         ],
         "yaxis": "y"
        },
        {
         "alignmentgroup": "True",
         "hovertemplate": "variable=417<br>index=%{x}<br>value=%{y}<extra></extra>",
         "legendgroup": "417",
         "marker": {
          "color": "#A3A500",
          "pattern": {
           "shape": ""
          }
         },
         "name": "417",
         "offsetgroup": "417",
         "orientation": "v",
         "showlegend": true,
         "textposition": "auto",
         "type": "bar",
         "x": [
          "Género",
          "aleator",
          "IMC",
          "Circunferencia de cintura",
          "ATPII/AHA/IDF",
          "fenilalax",
          "ohd3x",
          "tirosinax",
          "Alanina",
          "Aspartato",
          "Glutamato",
          "Leucina",
          "Ornitina",
          "Prolina",
          "Tirosina",
          "Carnitina libre",
          "Propionilcarnitina",
          "Isovalerilcarnitina",
          "Tiglilcarnitina",
          "Me-Glutarilcarnitina",
          "Decanoilcarnitina",
          "Tetradecanoilcarnitina",
          "3-OH-Isovalerilcarnitina",
          "3-OH-Palmitoilcarnitina",
          "Linoleoilcarnitina",
          "Arginina",
          "Citrulina",
          "Glicina",
          "Metionina",
          "Fenilalanina",
          "Succinilacetona",
          "Valina",
          "Acetilcarnitina",
          "Butirilcarnitina",
          "Glutarilcarnitina",
          "Hexanoilcarnitina",
          "Octanoilcarnitina",
          "Dodecanoilcarnitina",
          "Tetradecenoilcarnitina",
          "Palmitoilcarnitina",
          "Estearoilcarnitina",
          "3-OH-Linoleoilcarnitina",
          "PROTEINAProm_(G)",
          "%_proteina_natural",
          "%_Proteina_SP"
         ],
         "xaxis": "x",
         "y": [
          0,
          0,
          0.684669,
          0.19912796,
          0,
          0.35147515,
          0,
          0,
          0,
          0,
          0.09914869,
          0,
          0,
          0,
          0,
          0,
          0,
          0.14572018,
          0.07465165,
          0,
          0,
          0,
          0.1943744,
          0,
          0.5490629,
          0,
          0,
          0.048161585,
          0,
          0,
          0,
          0.32067013,
          0,
          0.053411335,
          0,
          0,
          0,
          0,
          0,
          0,
          0.2151037,
          0,
          0.07262458,
          0,
          0
         ],
         "yaxis": "y"
        },
        {
         "alignmentgroup": "True",
         "hovertemplate": "variable=427<br>index=%{x}<br>value=%{y}<extra></extra>",
         "legendgroup": "427",
         "marker": {
          "color": "#00BF7D",
          "pattern": {
           "shape": ""
          }
         },
         "name": "427",
         "offsetgroup": "427",
         "orientation": "v",
         "showlegend": true,
         "textposition": "auto",
         "type": "bar",
         "x": [
          "Género",
          "aleator",
          "IMC",
          "Circunferencia de cintura",
          "ATPII/AHA/IDF",
          "fenilalax",
          "ohd3x",
          "tirosinax",
          "Alanina",
          "Aspartato",
          "Glutamato",
          "Leucina",
          "Ornitina",
          "Prolina",
          "Tirosina",
          "Carnitina libre",
          "Propionilcarnitina",
          "Isovalerilcarnitina",
          "Tiglilcarnitina",
          "Me-Glutarilcarnitina",
          "Decanoilcarnitina",
          "Tetradecanoilcarnitina",
          "3-OH-Isovalerilcarnitina",
          "3-OH-Palmitoilcarnitina",
          "Linoleoilcarnitina",
          "Arginina",
          "Citrulina",
          "Glicina",
          "Metionina",
          "Fenilalanina",
          "Succinilacetona",
          "Valina",
          "Acetilcarnitina",
          "Butirilcarnitina",
          "Glutarilcarnitina",
          "Hexanoilcarnitina",
          "Octanoilcarnitina",
          "Dodecanoilcarnitina",
          "Tetradecenoilcarnitina",
          "Palmitoilcarnitina",
          "Estearoilcarnitina",
          "3-OH-Linoleoilcarnitina",
          "PROTEINAProm_(G)",
          "%_proteina_natural",
          "%_Proteina_SP"
         ],
         "xaxis": "x",
         "y": [
          0,
          0,
          0.9253936,
          0,
          0,
          0.23012477,
          0.13112915,
          0,
          0,
          0,
          0,
          0,
          0.091934994,
          0,
          0.16355729,
          0.34584105,
          0,
          0.013189207,
          0,
          0,
          0.15076548,
          0,
          0,
          0,
          0.105266556,
          0,
          0,
          0,
          0,
          0,
          0,
          0.20339572,
          0.2630036,
          0.1700114,
          0,
          0,
          0,
          0,
          0,
          0,
          0.2939195,
          0.049791887,
          0.38791618,
          0,
          0
         ],
         "yaxis": "y"
        },
        {
         "alignmentgroup": "True",
         "hovertemplate": "variable=449<br>index=%{x}<br>value=%{y}<extra></extra>",
         "legendgroup": "449",
         "marker": {
          "color": "#00B0F6",
          "pattern": {
           "shape": ""
          }
         },
         "name": "449",
         "offsetgroup": "449",
         "orientation": "v",
         "showlegend": true,
         "textposition": "auto",
         "type": "bar",
         "x": [
          "Género",
          "aleator",
          "IMC",
          "Circunferencia de cintura",
          "ATPII/AHA/IDF",
          "fenilalax",
          "ohd3x",
          "tirosinax",
          "Alanina",
          "Aspartato",
          "Glutamato",
          "Leucina",
          "Ornitina",
          "Prolina",
          "Tirosina",
          "Carnitina libre",
          "Propionilcarnitina",
          "Isovalerilcarnitina",
          "Tiglilcarnitina",
          "Me-Glutarilcarnitina",
          "Decanoilcarnitina",
          "Tetradecanoilcarnitina",
          "3-OH-Isovalerilcarnitina",
          "3-OH-Palmitoilcarnitina",
          "Linoleoilcarnitina",
          "Arginina",
          "Citrulina",
          "Glicina",
          "Metionina",
          "Fenilalanina",
          "Succinilacetona",
          "Valina",
          "Acetilcarnitina",
          "Butirilcarnitina",
          "Glutarilcarnitina",
          "Hexanoilcarnitina",
          "Octanoilcarnitina",
          "Dodecanoilcarnitina",
          "Tetradecenoilcarnitina",
          "Palmitoilcarnitina",
          "Estearoilcarnitina",
          "3-OH-Linoleoilcarnitina",
          "PROTEINAProm_(G)",
          "%_proteina_natural",
          "%_Proteina_SP"
         ],
         "xaxis": "x",
         "y": [
          0,
          0,
          1.0695881,
          0,
          0,
          0.6426614,
          0.27434868,
          0,
          0,
          0,
          0,
          0,
          0,
          0,
          0,
          0,
          0,
          0,
          0,
          0,
          0,
          0,
          0,
          0,
          0.16129155,
          0,
          0,
          0.03486094,
          0,
          0,
          0,
          0.072652034,
          0,
          0,
          0.13251127,
          0,
          0,
          0,
          0,
          0,
          0.0976989,
          0,
          0.04008841,
          0.07134275,
          0
         ],
         "yaxis": "y"
        },
        {
         "alignmentgroup": "True",
         "hovertemplate": "variable=453<br>index=%{x}<br>value=%{y}<extra></extra>",
         "legendgroup": "453",
         "marker": {
          "color": "#E76BF3",
          "pattern": {
           "shape": ""
          }
         },
         "name": "453",
         "offsetgroup": "453",
         "orientation": "v",
         "showlegend": true,
         "textposition": "auto",
         "type": "bar",
         "x": [
          "Género",
          "aleator",
          "IMC",
          "Circunferencia de cintura",
          "ATPII/AHA/IDF",
          "fenilalax",
          "ohd3x",
          "tirosinax",
          "Alanina",
          "Aspartato",
          "Glutamato",
          "Leucina",
          "Ornitina",
          "Prolina",
          "Tirosina",
          "Carnitina libre",
          "Propionilcarnitina",
          "Isovalerilcarnitina",
          "Tiglilcarnitina",
          "Me-Glutarilcarnitina",
          "Decanoilcarnitina",
          "Tetradecanoilcarnitina",
          "3-OH-Isovalerilcarnitina",
          "3-OH-Palmitoilcarnitina",
          "Linoleoilcarnitina",
          "Arginina",
          "Citrulina",
          "Glicina",
          "Metionina",
          "Fenilalanina",
          "Succinilacetona",
          "Valina",
          "Acetilcarnitina",
          "Butirilcarnitina",
          "Glutarilcarnitina",
          "Hexanoilcarnitina",
          "Octanoilcarnitina",
          "Dodecanoilcarnitina",
          "Tetradecenoilcarnitina",
          "Palmitoilcarnitina",
          "Estearoilcarnitina",
          "3-OH-Linoleoilcarnitina",
          "PROTEINAProm_(G)",
          "%_proteina_natural",
          "%_Proteina_SP"
         ],
         "xaxis": "x",
         "y": [
          0.07446884,
          0,
          0.493979,
          0.63078123,
          0,
          0.31810945,
          0,
          0.063319854,
          0,
          0,
          0,
          0,
          0.25597402,
          0,
          0,
          0.10072597,
          0,
          0,
          0,
          0,
          0.614625,
          0,
          0,
          0,
          0.07823988,
          0,
          0,
          0,
          0,
          0,
          0,
          0.28393364,
          0.06348862,
          0,
          0,
          0,
          0,
          0.027050698,
          0,
          0,
          0,
          0,
          0.21670973,
          0,
          0
         ],
         "yaxis": "y"
        },
        {
         "alignmentgroup": "True",
         "hovertemplate": "variable=457<br>index=%{x}<br>value=%{y}<extra></extra>",
         "legendgroup": "457",
         "marker": {
          "color": "#F8766D",
          "pattern": {
           "shape": ""
          }
         },
         "name": "457",
         "offsetgroup": "457",
         "orientation": "v",
         "showlegend": true,
         "textposition": "auto",
         "type": "bar",
         "x": [
          "Género",
          "aleator",
          "IMC",
          "Circunferencia de cintura",
          "ATPII/AHA/IDF",
          "fenilalax",
          "ohd3x",
          "tirosinax",
          "Alanina",
          "Aspartato",
          "Glutamato",
          "Leucina",
          "Ornitina",
          "Prolina",
          "Tirosina",
          "Carnitina libre",
          "Propionilcarnitina",
          "Isovalerilcarnitina",
          "Tiglilcarnitina",
          "Me-Glutarilcarnitina",
          "Decanoilcarnitina",
          "Tetradecanoilcarnitina",
          "3-OH-Isovalerilcarnitina",
          "3-OH-Palmitoilcarnitina",
          "Linoleoilcarnitina",
          "Arginina",
          "Citrulina",
          "Glicina",
          "Metionina",
          "Fenilalanina",
          "Succinilacetona",
          "Valina",
          "Acetilcarnitina",
          "Butirilcarnitina",
          "Glutarilcarnitina",
          "Hexanoilcarnitina",
          "Octanoilcarnitina",
          "Dodecanoilcarnitina",
          "Tetradecenoilcarnitina",
          "Palmitoilcarnitina",
          "Estearoilcarnitina",
          "3-OH-Linoleoilcarnitina",
          "PROTEINAProm_(G)",
          "%_proteina_natural",
          "%_Proteina_SP"
         ],
         "xaxis": "x",
         "y": [
          0.08218723,
          0,
          0.7596738,
          0.2420326,
          0,
          0.50692207,
          0.36355928,
          0,
          0,
          0,
          0,
          0,
          0.18374497,
          0.09469948,
          0.11094407,
          0.35722044,
          0,
          0,
          0,
          0,
          0.13370936,
          0,
          0,
          0,
          0,
          0,
          0,
          0,
          0,
          0,
          0,
          0,
          0.219005,
          0,
          0,
          0,
          0,
          0,
          0,
          0,
          0.0846099,
          0,
          0.28167972,
          0,
          0
         ],
         "yaxis": "y"
        },
        {
         "alignmentgroup": "True",
         "hovertemplate": "variable=468<br>index=%{x}<br>value=%{y}<extra></extra>",
         "legendgroup": "468",
         "marker": {
          "color": "#A3A500",
          "pattern": {
           "shape": ""
          }
         },
         "name": "468",
         "offsetgroup": "468",
         "orientation": "v",
         "showlegend": true,
         "textposition": "auto",
         "type": "bar",
         "x": [
          "Género",
          "aleator",
          "IMC",
          "Circunferencia de cintura",
          "ATPII/AHA/IDF",
          "fenilalax",
          "ohd3x",
          "tirosinax",
          "Alanina",
          "Aspartato",
          "Glutamato",
          "Leucina",
          "Ornitina",
          "Prolina",
          "Tirosina",
          "Carnitina libre",
          "Propionilcarnitina",
          "Isovalerilcarnitina",
          "Tiglilcarnitina",
          "Me-Glutarilcarnitina",
          "Decanoilcarnitina",
          "Tetradecanoilcarnitina",
          "3-OH-Isovalerilcarnitina",
          "3-OH-Palmitoilcarnitina",
          "Linoleoilcarnitina",
          "Arginina",
          "Citrulina",
          "Glicina",
          "Metionina",
          "Fenilalanina",
          "Succinilacetona",
          "Valina",
          "Acetilcarnitina",
          "Butirilcarnitina",
          "Glutarilcarnitina",
          "Hexanoilcarnitina",
          "Octanoilcarnitina",
          "Dodecanoilcarnitina",
          "Tetradecenoilcarnitina",
          "Palmitoilcarnitina",
          "Estearoilcarnitina",
          "3-OH-Linoleoilcarnitina",
          "PROTEINAProm_(G)",
          "%_proteina_natural",
          "%_Proteina_SP"
         ],
         "xaxis": "x",
         "y": [
          0,
          0,
          0.35462907,
          0.11401535,
          0,
          0.34526506,
          0.2718855,
          0,
          0,
          0,
          0,
          0,
          0.4569054,
          0,
          0.10230171,
          0.31196418,
          0,
          0,
          0,
          0,
          0.065671176,
          0,
          0,
          0,
          0,
          0,
          0,
          0,
          0,
          0,
          0,
          0,
          0.3367544,
          0,
          0,
          0,
          0,
          0,
          0.116749875,
          0.54199713,
          0,
          0,
          0,
          0,
          0
         ],
         "yaxis": "y"
        }
       ],
       "layout": {
        "barmode": "group",
        "legend": {
         "title": {
          "text": "variable"
         },
         "tracegroupgap": 0
        },
        "margin": {
         "t": 60
        },
        "template": {
         "data": {
          "bar": [
           {
            "error_x": {
             "color": "rgb(51,51,51)"
            },
            "error_y": {
             "color": "rgb(51,51,51)"
            },
            "marker": {
             "line": {
              "color": "rgb(237,237,237)",
              "width": 0.5
             },
             "pattern": {
              "fillmode": "overlay",
              "size": 10,
              "solidity": 0.2
             }
            },
            "type": "bar"
           }
          ],
          "barpolar": [
           {
            "marker": {
             "line": {
              "color": "rgb(237,237,237)",
              "width": 0.5
             },
             "pattern": {
              "fillmode": "overlay",
              "size": 10,
              "solidity": 0.2
             }
            },
            "type": "barpolar"
           }
          ],
          "carpet": [
           {
            "aaxis": {
             "endlinecolor": "rgb(51,51,51)",
             "gridcolor": "white",
             "linecolor": "white",
             "minorgridcolor": "white",
             "startlinecolor": "rgb(51,51,51)"
            },
            "baxis": {
             "endlinecolor": "rgb(51,51,51)",
             "gridcolor": "white",
             "linecolor": "white",
             "minorgridcolor": "white",
             "startlinecolor": "rgb(51,51,51)"
            },
            "type": "carpet"
           }
          ],
          "choropleth": [
           {
            "colorbar": {
             "outlinewidth": 0,
             "tickcolor": "rgb(237,237,237)",
             "ticklen": 6,
             "ticks": "inside"
            },
            "type": "choropleth"
           }
          ],
          "contour": [
           {
            "colorbar": {
             "outlinewidth": 0,
             "tickcolor": "rgb(237,237,237)",
             "ticklen": 6,
             "ticks": "inside"
            },
            "colorscale": [
             [
              0,
              "rgb(20,44,66)"
             ],
             [
              1,
              "rgb(90,179,244)"
             ]
            ],
            "type": "contour"
           }
          ],
          "contourcarpet": [
           {
            "colorbar": {
             "outlinewidth": 0,
             "tickcolor": "rgb(237,237,237)",
             "ticklen": 6,
             "ticks": "inside"
            },
            "type": "contourcarpet"
           }
          ],
          "heatmap": [
           {
            "colorbar": {
             "outlinewidth": 0,
             "tickcolor": "rgb(237,237,237)",
             "ticklen": 6,
             "ticks": "inside"
            },
            "colorscale": [
             [
              0,
              "rgb(20,44,66)"
             ],
             [
              1,
              "rgb(90,179,244)"
             ]
            ],
            "type": "heatmap"
           }
          ],
          "heatmapgl": [
           {
            "colorbar": {
             "outlinewidth": 0,
             "tickcolor": "rgb(237,237,237)",
             "ticklen": 6,
             "ticks": "inside"
            },
            "colorscale": [
             [
              0,
              "rgb(20,44,66)"
             ],
             [
              1,
              "rgb(90,179,244)"
             ]
            ],
            "type": "heatmapgl"
           }
          ],
          "histogram": [
           {
            "marker": {
             "pattern": {
              "fillmode": "overlay",
              "size": 10,
              "solidity": 0.2
             }
            },
            "type": "histogram"
           }
          ],
          "histogram2d": [
           {
            "colorbar": {
             "outlinewidth": 0,
             "tickcolor": "rgb(237,237,237)",
             "ticklen": 6,
             "ticks": "inside"
            },
            "colorscale": [
             [
              0,
              "rgb(20,44,66)"
             ],
             [
              1,
              "rgb(90,179,244)"
             ]
            ],
            "type": "histogram2d"
           }
          ],
          "histogram2dcontour": [
           {
            "colorbar": {
             "outlinewidth": 0,
             "tickcolor": "rgb(237,237,237)",
             "ticklen": 6,
             "ticks": "inside"
            },
            "colorscale": [
             [
              0,
              "rgb(20,44,66)"
             ],
             [
              1,
              "rgb(90,179,244)"
             ]
            ],
            "type": "histogram2dcontour"
           }
          ],
          "mesh3d": [
           {
            "colorbar": {
             "outlinewidth": 0,
             "tickcolor": "rgb(237,237,237)",
             "ticklen": 6,
             "ticks": "inside"
            },
            "type": "mesh3d"
           }
          ],
          "parcoords": [
           {
            "line": {
             "colorbar": {
              "outlinewidth": 0,
              "tickcolor": "rgb(237,237,237)",
              "ticklen": 6,
              "ticks": "inside"
             }
            },
            "type": "parcoords"
           }
          ],
          "pie": [
           {
            "automargin": true,
            "type": "pie"
           }
          ],
          "scatter": [
           {
            "fillpattern": {
             "fillmode": "overlay",
             "size": 10,
             "solidity": 0.2
            },
            "type": "scatter"
           }
          ],
          "scatter3d": [
           {
            "line": {
             "colorbar": {
              "outlinewidth": 0,
              "tickcolor": "rgb(237,237,237)",
              "ticklen": 6,
              "ticks": "inside"
             }
            },
            "marker": {
             "colorbar": {
              "outlinewidth": 0,
              "tickcolor": "rgb(237,237,237)",
              "ticklen": 6,
              "ticks": "inside"
             }
            },
            "type": "scatter3d"
           }
          ],
          "scattercarpet": [
           {
            "marker": {
             "colorbar": {
              "outlinewidth": 0,
              "tickcolor": "rgb(237,237,237)",
              "ticklen": 6,
              "ticks": "inside"
             }
            },
            "type": "scattercarpet"
           }
          ],
          "scattergeo": [
           {
            "marker": {
             "colorbar": {
              "outlinewidth": 0,
              "tickcolor": "rgb(237,237,237)",
              "ticklen": 6,
              "ticks": "inside"
             }
            },
            "type": "scattergeo"
           }
          ],
          "scattergl": [
           {
            "marker": {
             "colorbar": {
              "outlinewidth": 0,
              "tickcolor": "rgb(237,237,237)",
              "ticklen": 6,
              "ticks": "inside"
             }
            },
            "type": "scattergl"
           }
          ],
          "scattermapbox": [
           {
            "marker": {
             "colorbar": {
              "outlinewidth": 0,
              "tickcolor": "rgb(237,237,237)",
              "ticklen": 6,
              "ticks": "inside"
             }
            },
            "type": "scattermapbox"
           }
          ],
          "scatterpolar": [
           {
            "marker": {
             "colorbar": {
              "outlinewidth": 0,
              "tickcolor": "rgb(237,237,237)",
              "ticklen": 6,
              "ticks": "inside"
             }
            },
            "type": "scatterpolar"
           }
          ],
          "scatterpolargl": [
           {
            "marker": {
             "colorbar": {
              "outlinewidth": 0,
              "tickcolor": "rgb(237,237,237)",
              "ticklen": 6,
              "ticks": "inside"
             }
            },
            "type": "scatterpolargl"
           }
          ],
          "scatterternary": [
           {
            "marker": {
             "colorbar": {
              "outlinewidth": 0,
              "tickcolor": "rgb(237,237,237)",
              "ticklen": 6,
              "ticks": "inside"
             }
            },
            "type": "scatterternary"
           }
          ],
          "surface": [
           {
            "colorbar": {
             "outlinewidth": 0,
             "tickcolor": "rgb(237,237,237)",
             "ticklen": 6,
             "ticks": "inside"
            },
            "colorscale": [
             [
              0,
              "rgb(20,44,66)"
             ],
             [
              1,
              "rgb(90,179,244)"
             ]
            ],
            "type": "surface"
           }
          ],
          "table": [
           {
            "cells": {
             "fill": {
              "color": "rgb(237,237,237)"
             },
             "line": {
              "color": "white"
             }
            },
            "header": {
             "fill": {
              "color": "rgb(217,217,217)"
             },
             "line": {
              "color": "white"
             }
            },
            "type": "table"
           }
          ]
         },
         "layout": {
          "annotationdefaults": {
           "arrowhead": 0,
           "arrowwidth": 1
          },
          "autotypenumbers": "strict",
          "coloraxis": {
           "colorbar": {
            "outlinewidth": 0,
            "tickcolor": "rgb(237,237,237)",
            "ticklen": 6,
            "ticks": "inside"
           }
          },
          "colorscale": {
           "sequential": [
            [
             0,
             "rgb(20,44,66)"
            ],
            [
             1,
             "rgb(90,179,244)"
            ]
           ],
           "sequentialminus": [
            [
             0,
             "rgb(20,44,66)"
            ],
            [
             1,
             "rgb(90,179,244)"
            ]
           ]
          },
          "colorway": [
           "#F8766D",
           "#A3A500",
           "#00BF7D",
           "#00B0F6",
           "#E76BF3"
          ],
          "font": {
           "color": "rgb(51,51,51)"
          },
          "geo": {
           "bgcolor": "white",
           "lakecolor": "white",
           "landcolor": "rgb(237,237,237)",
           "showlakes": true,
           "showland": true,
           "subunitcolor": "white"
          },
          "hoverlabel": {
           "align": "left"
          },
          "hovermode": "closest",
          "paper_bgcolor": "white",
          "plot_bgcolor": "rgb(237,237,237)",
          "polar": {
           "angularaxis": {
            "gridcolor": "white",
            "linecolor": "white",
            "showgrid": true,
            "tickcolor": "rgb(51,51,51)",
            "ticks": "outside"
           },
           "bgcolor": "rgb(237,237,237)",
           "radialaxis": {
            "gridcolor": "white",
            "linecolor": "white",
            "showgrid": true,
            "tickcolor": "rgb(51,51,51)",
            "ticks": "outside"
           }
          },
          "scene": {
           "xaxis": {
            "backgroundcolor": "rgb(237,237,237)",
            "gridcolor": "white",
            "gridwidth": 2,
            "linecolor": "white",
            "showbackground": true,
            "showgrid": true,
            "tickcolor": "rgb(51,51,51)",
            "ticks": "outside",
            "zerolinecolor": "white"
           },
           "yaxis": {
            "backgroundcolor": "rgb(237,237,237)",
            "gridcolor": "white",
            "gridwidth": 2,
            "linecolor": "white",
            "showbackground": true,
            "showgrid": true,
            "tickcolor": "rgb(51,51,51)",
            "ticks": "outside",
            "zerolinecolor": "white"
           },
           "zaxis": {
            "backgroundcolor": "rgb(237,237,237)",
            "gridcolor": "white",
            "gridwidth": 2,
            "linecolor": "white",
            "showbackground": true,
            "showgrid": true,
            "tickcolor": "rgb(51,51,51)",
            "ticks": "outside",
            "zerolinecolor": "white"
           }
          },
          "shapedefaults": {
           "fillcolor": "black",
           "line": {
            "width": 0
           },
           "opacity": 0.3
          },
          "ternary": {
           "aaxis": {
            "gridcolor": "white",
            "linecolor": "white",
            "showgrid": true,
            "tickcolor": "rgb(51,51,51)",
            "ticks": "outside"
           },
           "baxis": {
            "gridcolor": "white",
            "linecolor": "white",
            "showgrid": true,
            "tickcolor": "rgb(51,51,51)",
            "ticks": "outside"
           },
           "bgcolor": "rgb(237,237,237)",
           "caxis": {
            "gridcolor": "white",
            "linecolor": "white",
            "showgrid": true,
            "tickcolor": "rgb(51,51,51)",
            "ticks": "outside"
           }
          },
          "xaxis": {
           "automargin": true,
           "gridcolor": "white",
           "linecolor": "white",
           "showgrid": true,
           "tickcolor": "rgb(51,51,51)",
           "ticks": "outside",
           "title": {
            "standoff": 15
           },
           "zerolinecolor": "white"
          },
          "yaxis": {
           "automargin": true,
           "gridcolor": "white",
           "linecolor": "white",
           "showgrid": true,
           "tickcolor": "rgb(51,51,51)",
           "ticks": "outside",
           "title": {
            "standoff": 15
           },
           "zerolinecolor": "white"
          }
         }
        },
        "xaxis": {
         "anchor": "y",
         "categoryarray": [
          "IMC",
          "fenilalax",
          "Estearoilcarnitina",
          "Carnitina libre",
          "Ornitina",
          "Decanoilcarnitina",
          "PROTEINAProm_(G)",
          "ohd3x",
          "Valina",
          "Acetilcarnitina",
          "Linoleoilcarnitina",
          "Circunferencia de cintura",
          "Tirosina",
          "Citrulina",
          "Género",
          "3-OH-Linoleoilcarnitina",
          "Dodecanoilcarnitina",
          "Palmitoilcarnitina",
          "Metionina",
          "Arginina",
          "Butirilcarnitina",
          "3-OH-Isovalerilcarnitina",
          "Glutamato",
          "Isovalerilcarnitina",
          "tirosinax",
          "Alanina",
          "Prolina",
          "Aspartato",
          "Tiglilcarnitina",
          "Succinilacetona",
          "Octanoilcarnitina",
          "aleator",
          "ATPII/AHA/IDF",
          "Tetradecenoilcarnitina",
          "Hexanoilcarnitina",
          "%_proteina_natural",
          "Tetradecanoilcarnitina",
          "Leucina",
          "Fenilalanina",
          "Propionilcarnitina",
          "Glicina",
          "Me-Glutarilcarnitina",
          "3-OH-Palmitoilcarnitina",
          "Glutarilcarnitina",
          "%_Proteina_SP"
         ],
         "categoryorder": "array",
         "domain": [
          0,
          1
         ],
         "title": {
          "text": "index"
         }
        },
        "yaxis": {
         "anchor": "x",
         "domain": [
          0,
          1
         ],
         "title": {
          "text": "value"
         }
        }
       }
      }
     },
     "metadata": {},
     "output_type": "display_data"
    }
   ],
   "source": [
    "df_ranks_long = df_ranks.T\n",
    "order = df_ranks_long.rank(axis=\"columns\", ascending=False).median(axis=\"rows\").sort_values().index\n",
    "\n",
    "# Create a grouped barplot using Plotly\n",
    "fig = px.bar(df_ranks, barmode='group', template='ggplot2')\n",
    "fig.update_xaxes(categoryorder='array', categoryarray=order)\n",
    "\n",
    "# Show the plot\n",
    "fig.show()\n",
    "\n",
    "# fig = px.bar(, x='variable', y='value')\n",
    "# fig.show()"
   ]
  },
  {
   "cell_type": "code",
   "execution_count": null,
   "metadata": {},
   "outputs": [],
   "source": []
  }
 ],
 "metadata": {
  "kernelspec": {
   "display_name": "playground",
   "language": "python",
   "name": "python3"
  },
  "language_info": {
   "codemirror_mode": {
    "name": "ipython",
    "version": 3
   },
   "file_extension": ".py",
   "mimetype": "text/x-python",
   "name": "python",
   "nbconvert_exporter": "python",
   "pygments_lexer": "ipython3",
   "version": "3.10.9"
  },
  "orig_nbformat": 4
 },
 "nbformat": 4,
 "nbformat_minor": 2
}
